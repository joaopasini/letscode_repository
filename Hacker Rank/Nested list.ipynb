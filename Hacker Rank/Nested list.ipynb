{
 "cells": [
  {
   "cell_type": "markdown",
   "id": "b0e64b02",
   "metadata": {},
   "source": [
    "Given the names and grades for each student in a class of N students, store them in a nested list and print the name(s) of any student(s) having the second lowest grade.\n",
    "\n",
    "Note: If there are multiple students with the second lowest grade, order their names alphabetically and print each name on a new line.\n",
    "\n",
    "Example\n",
    "\n",
    "The ordered list of scores is , so the second lowest score is . There are two students with that score: . Ordered alphabetically, the names are printed as:\n",
    "\n",
    "alpha\n",
    "beta\n",
    "Input Format\n",
    "\n",
    "The first line contains an integer, , the number of students.\n",
    "The  subsequent lines describe each student over  lines.\n",
    "- The first line contains a student's name.\n",
    "- The second line contains their grade.\n",
    "\n",
    "Constraints\n",
    "\n",
    "There will always be one or more students having the second lowest grade.\n",
    "Output Format\n",
    "\n",
    "Print the name(s) of any student(s) having the second lowest grade in. If there are multiple students, order their names alphabetically and print each one on a new line.\n",
    "\n",
    "Sample Input 0\n",
    "\n",
    "5\n",
    "Harry\n",
    "37.21\n",
    "Berry\n",
    "37.21\n",
    "Tina\n",
    "37.2\n",
    "Akriti\n",
    "41\n",
    "Harsh\n",
    "39\n",
    "Sample Output 0\n",
    "\n",
    "Berry\n",
    "Harry\n",
    "Explanation 0\n",
    "\n",
    "There are  students in this class whose names and grades are assembled to build the following list:\n",
    "\n",
    "python students = [['Harry', 37.21], ['Berry', 37.21], ['Tina', 37.2], ['Akriti', 41], ['Harsh', 39]]\n",
    "\n",
    "The lowest grade of  belongs to Tina. The second lowest grade of  belongs to both Harry and Berry, so we order their names alphabetically and print each name on a new line."
   ]
  },
  {
   "cell_type": "code",
   "execution_count": 33,
   "id": "c12bcf55",
   "metadata": {},
   "outputs": [
    {
     "name": "stdout",
     "output_type": "stream",
     "text": [
      "Quantidade de alunos? 5\n",
      "Nome do aluno: alan\n",
      "Nota do aluno: 5.4\n",
      "Nome do aluno: bob\n",
      "Nota do aluno: 5.5\n",
      "Nome do aluno: mark\n",
      "Nota do aluno: 5.5\n",
      "Nome do aluno: kelly\n",
      "Nota do aluno: 6.1\n",
      "Nome do aluno: jonas\n",
      "Nota do aluno: 7.5\n",
      "bob\n",
      "mark\n"
     ]
    }
   ],
   "source": [
    "if __name__ == '__main__':\n",
    "    records = []\n",
    "    for i in range(int(input(\"Quantidade de alunos? \"))):\n",
    "        name = input(\"Nome do aluno: \")\n",
    "        score = float(input(\"Nota do aluno: \"))\n",
    "        records.append([name,score])\n",
    "scores = sorted(set(nota for nome, nota in records))\n",
    "\n",
    "print(*sorted(nome for nome, nota in records if nota == scores[1]), sep = '\\n')"
   ]
  },
  {
   "cell_type": "code",
   "execution_count": 4,
   "id": "75eff7b0",
   "metadata": {},
   "outputs": [
    {
     "data": {
      "text/plain": [
       "[['mateus', 37.21],\n",
       " ['filipe', 37.21],\n",
       " ['rebeca', 37.2],\n",
       " ['aurora', 41.0],\n",
       " ['pedro', 39.0]]"
      ]
     },
     "execution_count": 4,
     "metadata": {},
     "output_type": "execute_result"
    }
   ],
   "source": [
    "records"
   ]
  },
  {
   "cell_type": "code",
   "execution_count": 8,
   "id": "9af1f2b4",
   "metadata": {},
   "outputs": [
    {
     "data": {
      "text/plain": [
       "[[37.2, 'rebeca'],\n",
       " [37.21, 'filipe'],\n",
       " [37.21, 'mateus'],\n",
       " [39.0, 'pedro'],\n",
       " [41.0, 'aurora']]"
      ]
     },
     "execution_count": 8,
     "metadata": {},
     "output_type": "execute_result"
    }
   ],
   "source": [
    "sorted(list([score, name] for name, score in records))"
   ]
  },
  {
   "cell_type": "code",
   "execution_count": 9,
   "id": "def5069d",
   "metadata": {},
   "outputs": [],
   "source": [
    "listaTemp = records"
   ]
  },
  {
   "cell_type": "code",
   "execution_count": 10,
   "id": "6f82ce1d",
   "metadata": {},
   "outputs": [],
   "source": [
    "records[4] = [\"pedro\", 37.2]"
   ]
  },
  {
   "cell_type": "code",
   "execution_count": 18,
   "id": "02e03a95",
   "metadata": {},
   "outputs": [],
   "source": [
    "scores = sorted(set(score for name, score in records))"
   ]
  },
  {
   "cell_type": "code",
   "execution_count": 19,
   "id": "40cd5dcf",
   "metadata": {},
   "outputs": [
    {
     "data": {
      "text/plain": [
       "[37.2, 37.21, 41.0]"
      ]
     },
     "execution_count": 19,
     "metadata": {},
     "output_type": "execute_result"
    }
   ],
   "source": [
    "scores"
   ]
  },
  {
   "cell_type": "code",
   "execution_count": 26,
   "id": "0e955b9c",
   "metadata": {},
   "outputs": [
    {
     "name": "stdout",
     "output_type": "stream",
     "text": [
      "filipe\n",
      "mateus\n"
     ]
    }
   ],
   "source": [
    "print(*sorted(name for name, score in records if score == scores[1]), sep = \"\\n\")"
   ]
  },
  {
   "cell_type": "code",
   "execution_count": 30,
   "id": "a86c11a7",
   "metadata": {},
   "outputs": [
    {
     "name": "stdout",
     "output_type": "stream",
     "text": [
      "U\n",
      "m\n",
      "a\n",
      " \n",
      "c\n",
      "a\n",
      "d\n",
      "e\n",
      "i\n",
      "a\n",
      " \n",
      "d\n",
      "e\n",
      " \n",
      "c\n",
      "a\n",
      "r\n",
      "a\n",
      "c\n",
      "t\n",
      "e\n",
      "r\n",
      "e\n",
      "s\n"
     ]
    }
   ],
   "source": [
    "print(*'Uma cadeia de caracteres', sep = '\\n')"
   ]
  },
  {
   "cell_type": "code",
   "execution_count": null,
   "id": "ed887f1c",
   "metadata": {},
   "outputs": [],
   "source": []
  }
 ],
 "metadata": {
  "kernelspec": {
   "display_name": "Python 3",
   "language": "python",
   "name": "python3"
  },
  "language_info": {
   "codemirror_mode": {
    "name": "ipython",
    "version": 3
   },
   "file_extension": ".py",
   "mimetype": "text/x-python",
   "name": "python",
   "nbconvert_exporter": "python",
   "pygments_lexer": "ipython3",
   "version": "3.8.8"
  }
 },
 "nbformat": 4,
 "nbformat_minor": 5
}
