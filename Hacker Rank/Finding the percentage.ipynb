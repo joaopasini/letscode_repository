{
 "cells": [
  {
   "cell_type": "code",
   "execution_count": null,
   "id": "fef3a85b",
   "metadata": {},
   "outputs": [],
   "source": [
    "if __name__ == '__main__':\n",
    "    n = int(input())\n",
    "    \n",
    "    if n not in range(2,11):\n",
    "        print('n must be inclusively between 2 and 18')\n",
    "        exit()\n",
    "        \n",
    "    student_marks = {}\n",
    "    for _ in range(n):\n",
    "        name, *line = input().split()\n",
    "        scores = list(map(float, line))\n",
    "        \n",
    "        if len(scores) !=3:\n",
    "            print(\"Length of scores arrays must be equal to 3\")\n",
    "            exit()\n",
    "        \n",
    "        for score in scores:\n",
    "            if not score >=0 and not score <= 100:\n",
    "                print(\"scores must be inclusively betwwen 0 and 100\")\n",
    "                exit()\n",
    "                \n",
    "        student_marks[name] = scores\n",
    "        \n",
    "    query_name = input()\n",
    "    \n",
    "    avg = (student_marks[query_name][0] + student_marks[query_name][1] + student_marks[query_name][2]) / 3\n",
    "    print(\"%.2f\" % avg)"
   ]
  }
 ],
 "metadata": {
  "kernelspec": {
   "display_name": "Python 3",
   "language": "python",
   "name": "python3"
  },
  "language_info": {
   "codemirror_mode": {
    "name": "ipython",
    "version": 3
   },
   "file_extension": ".py",
   "mimetype": "text/x-python",
   "name": "python",
   "nbconvert_exporter": "python",
   "pygments_lexer": "ipython3",
   "version": "3.8.8"
  }
 },
 "nbformat": 4,
 "nbformat_minor": 5
}
