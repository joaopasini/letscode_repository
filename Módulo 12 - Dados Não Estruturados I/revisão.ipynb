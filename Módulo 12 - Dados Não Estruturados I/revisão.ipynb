{
 "cells": [
  {
   "cell_type": "code",
   "execution_count": 1,
   "metadata": {},
   "outputs": [],
   "source": [
    "%load_ext autoreload\n",
    "%autoreload 2\n",
    "%matplotlib inline"
   ]
  },
  {
   "cell_type": "markdown",
   "metadata": {},
   "source": [
    "# Revisão: Visão Computacional\n",
    "\n",
    "## Como um computador interpreta uma imagem RGB\n",
    "\n",
    "<img src=https://drek4537l1klr.cloudfront.net/elgendy/HighResolutionFigures/figure_1-17.png width=600>\n",
    "\n",
    "## Feature extraction\n",
    "\n",
    "A extração de features é um componente central do pipeline de visão computacional. Na verdade, todo o modelo de aprendizado profundo funciona em torno da ideia de extrair recursos úteis que definem claramente os objetos na imagem.\n",
    "\n",
    "## O que é uma feature em visão computacional?\n",
    "\n",
    "Na visão computacional, uma feature é um dado mensurável em sua imagem que é exclusivo para esse objeto específico. Pode ser uma cor distinta em uma imagem ou uma forma específica, como uma linha, borda ou um segmento de imagem. Uma boa feature é um elemento da imagem que pode ser usado para distinguir objetos uns dos outros. Por exemplo, se eu lhe der um recurso como uma roda e pedir para você adivinhar se o objeto é uma motocicleta ou um cachorro. Qual seria o seu palpite? Uma motocicleta. Neste caso, a roda é uma característica forte que distingue claramente entre motocicletas e cães. Se eu lhe der a mesma característica (uma roda) e pedir para você adivinhar se o objeto é uma bicicleta ou uma motocicleta. Nesse caso, essa feature não é forte o suficiente para distinguir entre os dois objetos. Então precisamos procurar mais features como um espelho, placa de automével, talvez um pedal que descreva coletivamente um objeto.\n",
    "\n",
    "<img src=https://freecontent.manning.com/wp-content/uploads/Elgendy_tCVPp4_01.png width=600 >"
   ]
  },
  {
   "cell_type": "markdown",
   "metadata": {},
   "source": [
    "## Porque usar as features?\n",
    "\n",
    "**A imagem de entrada tem muitas informações extras que não são necessárias para a classificação.** Portanto, o primeiro passo após o pré-processamento da imagem é simplificá-la extraindo as informações importantes e descartando as informações não essenciais. Ao extrair cores ou segmentos de imagem importantes, podemos transformar dados de imagem grandes e complexos em conjuntos menores de recursos. Isso torna a tarefa de classificar imagens com base em suas características mais simples e rápida.\n",
    "\n",
    "Considere o exemplo abaixo. Suponha que recebemos um conjunto de dados de 10.000 imagens de motocicletas, cada uma com 1.000 largura x 1.000 altura. Algumas imagens têm fundos sólidos e outras têm fundos cheios de dados desnecessários. Quando essas milhares de imagens são alimentadas aos algoritmos de extração de recursos, perdemos todos os dados desnecessários que não são importantes para identificar motocicletas e mantemos apenas uma lista consolidada de recursos úteis que podem ser alimentados diretamente no classificador. Esse processo é muito mais simples do que fazer o classificador examinar um conjunto de dados de 10.000 imagens para aprender as propriedades das motocicletas."
   ]
  },
  {
   "cell_type": "markdown",
   "metadata": {},
   "source": [
    "## Pipeline: dos dados ao modelo\n",
    "\n",
    "<img src= https://freecontent.manning.com/wp-content/uploads/Elgendy_tCVPp5_03.png width=600>\n",
    "\n",
    "<img src=https://freecontent.manning.com/wp-content/uploads/Elgendy_tCVPp1_03.png width=600 >\n",
    "\n",
    "\n",
    "### Técnicas de pré-processamento\n",
    "\n",
    "##### 1. RGB -> grayscale:\n",
    "\n",
    "Em certos problemas, você achará útil perder informações desnecessárias de suas imagens para reduzir o espaço ou a complexidade computacional. Isso ocorre porque em muitos objetos, a cor não é necessária para reconhecer e interpretar uma imagem. A escala de cinza pode ser boa o suficiente para reconhecer certos objetos.\n",
    "\n",
    "Há uma série de aplicações para as quais a cor é muito importante:\n",
    "- diagnóstico para identificar erupções cutâneas vermelhas em imagens médicas que depende muito da intensidade da cor vermelha na pele.\n",
    "- detecção de faixas em carros autônomos para identificar a diferença entre as faixas amarela e branca porque são tratadas de forma diferente.\n",
    "- detecção de doenças em plantas.\n",
    "\n",
    "##### 2. Redimensionar o tamanho das imagens: \n",
    "\n",
    "Uma restrição importante que existe em alguns algoritmos de aprendizado de máquina, como CNN, é a necessidade de redimensionar as imagens em seu conjunto de dados para uma dimensão unificada. Isso implica que nossas imagens devem ser pré-processadas e dimensionadas para ter larguras e alturas idênticas antes de alimentar o algoritmo de aprendizado.\n",
    "\n",
    "##### 3. Standardize os pixels das imagens: \n",
    "\n",
    "Sabemos que as imagens podem vir tanto com valores entre 0 e 1 quanto 0 e 255, mas precisamos garantir que todas elas tenham o mesmo range de valores para cada pixel.\n",
    "\n",
    "##### 4. Data augmentation:\n",
    "\n",
    "Data augmentation é a técnica de pré-processamento que envolve aumentar o conjunto de dados existente com versões perturbadas das imagens existentes. Variar as escalas, rotações e outras transformações afins são típicas. Isso é feito para ampliar seu conjunto de dados e expor a rede neural a uma ampla variedade de variações de suas imagens. Isso torna mais provável que seu modelo reconheça objetos quando eles aparecem em qualquer forma e formato. Aqui está um exemplo de aumento de imagem aplicado a uma imagem de borboleta:\n",
    "\n",
    "<img src=https://freecontent.manning.com/wp-content/uploads/Elgendy_tCVPp3_03.png width=600 >\n",
    "\n",
    "##### 5. Outras técnicas:\n",
    "\n",
    "Em alguns projetos, pode ser necessário remover a cor de fundo das imagens para reduzir o ruído. Outros podem exigir que você clareie ou escureça suas imagens. Em suma, quaisquer ajustes que você precise aplicar ao seu conjunto de dados são considerados uma espécie de pré-processamento. E você selecionará as técnicas de processamento apropriadas com base no conjunto de dados disponível e no problema que está resolvendo. Isso cria sua intuição de quais você precisa ao trabalhar em seus próprios projetos."
   ]
  },
  {
   "cell_type": "markdown",
   "metadata": {},
   "source": [
    "\n",
    "___"
   ]
  },
  {
   "cell_type": "code",
   "execution_count": 6,
   "metadata": {},
   "outputs": [],
   "source": [
    "# https://kapernikov.com/tutorial-image-classification-with-scikit-learn/\n",
    "import matplotlib.pyplot as plt\n",
    "import numpy as np\n",
    "import os\n",
    "import cv2\n",
    "import pprint\n",
    "pp = pprint.PrettyPrinter(indent=4)"
   ]
  },
  {
   "cell_type": "markdown",
   "metadata": {},
   "source": [
    "Importe a imagem 'ada.jpg' e print ela na tela"
   ]
  },
  {
   "cell_type": "code",
   "execution_count": 10,
   "metadata": {},
   "outputs": [
    {
     "data": {
      "image/png": "[encoded data removed]",
      "text/plain": [
       "<Figure size 432x288 with 1 Axes>"
      ]
     },
     "metadata": {
      "needs_background": "light"
     },
     "output_type": "display_data"
    }
   ],
   "source": [
    "original_bgr = cv2.imread('ada.jpg')\n",
    "plt.imshow(original_bgr);"
   ]
  },
  {
   "cell_type": "markdown",
   "metadata": {},
   "source": [
    "Crie um arquivo utils.py na mesma pasta em que encontra-se esse notebook e adicione a classe criada no desafio da Aula 1.\n",
    "Importe a classe nesse notebook."
   ]
  },
  {
   "cell_type": "code",
   "execution_count": 13,
   "metadata": {},
   "outputs": [],
   "source": [
    "from utils import ImageTransformer"
   ]
  },
  {
   "cell_type": "markdown",
   "metadata": {},
   "source": [
    "Vamos converter nossa imagem para RGB e visualizar"
   ]
  },
  {
   "cell_type": "code",
   "execution_count": null,
   "metadata": {},
   "outputs": [],
   "source": []
  },
  {
   "cell_type": "markdown",
   "metadata": {},
   "source": [
    "Rotacione a imagem em 90º com redução de escala em 80% e visualize o resultado:"
   ]
  },
  {
   "cell_type": "code",
   "execution_count": null,
   "metadata": {},
   "outputs": [],
   "source": []
  },
  {
   "cell_type": "markdown",
   "metadata": {},
   "source": [
    "Como podemos aplicar a rotação acima e converter a imagem para escala de cinza?"
   ]
  },
  {
   "cell_type": "code",
   "execution_count": null,
   "metadata": {},
   "outputs": [],
   "source": []
  },
  {
   "cell_type": "markdown",
   "metadata": {},
   "source": [
    "Rotacione a imagem original e equalize seu histograma:"
   ]
  },
  {
   "cell_type": "code",
   "execution_count": null,
   "metadata": {},
   "outputs": [],
   "source": []
  },
  {
   "cell_type": "markdown",
   "metadata": {},
   "source": [
    "Utilize o método `clahe` e altere os parâmetros `clip_limit` e `tile_size` para equalizar localmente a imagem:"
   ]
  },
  {
   "cell_type": "code",
   "execution_count": null,
   "metadata": {},
   "outputs": [],
   "source": []
  },
  {
   "cell_type": "markdown",
   "metadata": {},
   "source": [
    "Adicione uma função que converte os valores da imagem de 0 à 255 para 0 à 1.0  e a chame de scale."
   ]
  },
  {
   "cell_type": "code",
   "execution_count": null,
   "metadata": {},
   "outputs": [],
   "source": []
  },
  {
   "cell_type": "markdown",
   "metadata": {},
   "source": [
    "Adicione na nossa classe a função criada na aula 1 de mudança de brilho e contraste e teste para alguns valores:"
   ]
  },
  {
   "cell_type": "code",
   "execution_count": null,
   "metadata": {},
   "outputs": [],
   "source": []
  },
  {
   "cell_type": "markdown",
   "metadata": {},
   "source": [
    "Utilizando o `Pipeline` e o `FunctionTransformer` do sklearn crie um pipeline que rotacione a imagem em 90 graus e a converta para escala de cinza."
   ]
  },
  {
   "cell_type": "code",
   "execution_count": null,
   "metadata": {},
   "outputs": [],
   "source": []
  },
  {
   "cell_type": "code",
   "execution_count": null,
   "metadata": {},
   "outputs": [],
   "source": []
  },
  {
   "cell_type": "markdown",
   "metadata": {},
   "source": [
    "## Filtros\n",
    "\n",
    "- **Convolução:** Operação matemática entre duas matrizes que geralmente possuem tamanhos diferentes. \n",
    "- **Kernel:** Kernel de convolução é uma matriz 2D que é utilizada para a aplicação de filtros em imagens a fim de extrair features.\n",
    "- **Padding:** refere-se à quantidade de pixels adicionados às bordas de uma imagem após ser processada pelo kernel.\n",
    "\n",
    "![https://miro.medium.com/max/658/0*jLoqqFsO-52KHTn9.gif](https://miro.medium.com/max/658/0*jLoqqFsO-52KHTn9.gif)\n",
    "\n",
    "### Tipos de filtros\n",
    "- Blurring (desfoque): Torna a transição entre diferentes valores de pixel suave em vez de nítida (sharp). Com isso, reduz algum tipo de ruído na imagem. Por este motivo, também é conhecido como suavização (*smoothing*). \n",
    "- Sharpening (nitidez): Filtros para tornar as imagens mais nítidas acentuando as bordas. Eles essencialmente fazem o oposto do desfoque.\n",
    "- Detecção de bordas (edge detection): Detecção de gradientes de cor nas imagens. Filtros comuns: Sobel, Canny e Operador Laplaciano\n",
    "\n",
    "\n",
    "Aplicando convolução em 1 canal"
   ]
  },
  {
   "cell_type": "code",
   "execution_count": null,
   "metadata": {},
   "outputs": [],
   "source": [
    "kernel = np.asarray([\n",
    "    [0, 0, 0],\n",
    "    [0, 1, 0],\n",
    "    [0, 0, 0]\n",
    "])\n"
   ]
  },
  {
   "cell_type": "code",
   "execution_count": null,
   "metadata": {},
   "outputs": [],
   "source": [
    "# 3 canais na função principal\n"
   ]
  },
  {
   "cell_type": "markdown",
   "metadata": {},
   "source": [
    "Vamos utilizar o Sobel para detectar as bordas da nossa imagem:"
   ]
  },
  {
   "cell_type": "code",
   "execution_count": null,
   "metadata": {},
   "outputs": [],
   "source": []
  },
  {
   "cell_type": "markdown",
   "metadata": {},
   "source": [
    "___"
   ]
  },
  {
   "cell_type": "markdown",
   "metadata": {},
   "source": [
    "## Reconhecimento de Objeto\n",
    "\n",
    "<img src=https://www.researchgate.net/profile/Mathias-Rieder/publication/334363440/figure/fig1/AS:816456560308224@1571669821158/Comparison-of-semantic-segmentation-classification-and-localization-object-detection.ppm>\n",
    "\n",
    "Principais tarefas na Visão Computacional:\n",
    "\n",
    "- **Classificação de Imagens:** Prever o tipo ou classe de um objeto em uma imagem.\n",
    "\n",
    "    - Entrada: Uma imagem com um único objeto.\n",
    "    - Saída: Um rótulo de classe (por exemplo, um ou mais inteiros que são mapeados para rótulos de classe).\n",
    "\n",
    "<br>\n",
    "\n",
    "- **Localização de objetos:** Localizar a presença de objetos em uma imagem e indicar sua localização com uma caixa delimitadora.\n",
    "\n",
    "    - Entrada: Uma imagem com um ou mais objetos.\n",
    "    - Saída: Uma ou mais caixas delimitadoras (por exemplo, definidas por um ponto, largura e altura).\n",
    "\n",
    "\n",
    "<br>\n",
    "\n",
    "- **Detecção de Objetos:** Localize a presença de objetos com uma caixa delimitadora e tipos ou classes dos objetos localizados em uma imagem. A detecção de objetos combina essas duas tarefas e localiza e classifica um ou mais objetos em uma imagem.\n",
    "\n",
    "    - Entrada: Uma imagem com um ou mais objetos.\n",
    "    - Saída: Uma ou mais caixas delimitadoras (por exemplo, definidas por um ponto, largura e altura) e um rótulo de classe para cada caixa delimitadora.\n",
    "\n",
    "<br>\n",
    "\n",
    "- **Segmentação de Objetos:** processo de dividir uma imagem digital em múltiplas regiões ou objetos, com o objetivo de simplificar e/ou mudar a representação de uma imagem para facilitar a sua análise.\n",
    "\n",
    "    - Entrada: Uma imagem com um ou mais objetos (H x W x 3).\n",
    "    - Saída: Uma máscara com pixels variando de n-classes com shape (H x W x n-classes)\n"
   ]
  },
  {
   "cell_type": "markdown",
   "metadata": {},
   "source": [
    "___"
   ]
  },
  {
   "cell_type": "markdown",
   "metadata": {},
   "source": [
    "## Modelagem: Classificação de Imagens\n",
    "\n",
    "Vamos agora treinar um modelo clássico de Machine Learning em um dataset de imagens:"
   ]
  },
  {
   "cell_type": "code",
   "execution_count": null,
   "metadata": {},
   "outputs": [],
   "source": [
    "from sklearn.datasets import fetch_olivetti_faces\n",
    "dataset = fetch_olivetti_faces()"
   ]
  },
  {
   "cell_type": "code",
   "execution_count": null,
   "metadata": {},
   "outputs": [],
   "source": [
    "X = dataset.data\n",
    "y = dataset.target"
   ]
  },
  {
   "cell_type": "markdown",
   "metadata": {},
   "source": [
    "Essa versão disponibilizada pelo scikit-learn contém 400 imagens de 64 x 64 pixels. Podemos visualizar como é uma imagem do nosso dataset:"
   ]
  },
  {
   "cell_type": "code",
   "execution_count": null,
   "metadata": {},
   "outputs": [],
   "source": []
  },
  {
   "cell_type": "markdown",
   "metadata": {},
   "source": [
    "Vamos selecionar 8 imagens aleatoriamente para conhecermos melhor o dataset."
   ]
  },
  {
   "cell_type": "code",
   "execution_count": null,
   "metadata": {},
   "outputs": [],
   "source": [
    "np.random.seed(21)\n",
    "idx_rand = np.random.randint(len(X), size=8)"
   ]
  },
  {
   "cell_type": "code",
   "execution_count": null,
   "metadata": {},
   "outputs": [],
   "source": [
    "plt.figure(figsize=(14, 8))\n",
    "for p, i in enumerate(idx_rand):\n",
    "    plt.subplot(2, 4, p + 1)\n",
    "    plt.imshow(X[i, :].reshape((64, 64)), cmap='gray')\n",
    "    plt.axis('off')"
   ]
  },
  {
   "cell_type": "markdown",
   "metadata": {},
   "source": [
    "Vamos separar em treino e teste"
   ]
  },
  {
   "cell_type": "code",
   "execution_count": null,
   "metadata": {},
   "outputs": [],
   "source": []
  },
  {
   "cell_type": "markdown",
   "metadata": {},
   "source": [
    "Vamos agora implementar um modelo de classificação utilizando o Random Forest:"
   ]
  },
  {
   "cell_type": "code",
   "execution_count": null,
   "metadata": {},
   "outputs": [],
   "source": []
  },
  {
   "cell_type": "code",
   "execution_count": null,
   "metadata": {},
   "outputs": [],
   "source": []
  },
  {
   "cell_type": "markdown",
   "metadata": {},
   "source": [
    "Vamos agora aplicar algumas transformações nas nossas imagens como a equalização e o clahe além de um PCA para reduzir a dimensionalidade do nosso dataset.\n",
    "\n",
    "OBS: para a utilização dessas trasformações precisamos que nossos dados de entrada sejam inteiros indo de 0 à 255."
   ]
  },
  {
   "cell_type": "code",
   "execution_count": null,
   "metadata": {},
   "outputs": [],
   "source": [
    "# importa pipeline, FunctionTransformer e PCA\n",
    "\n",
    "# Cria função para converter a imagem de flat para 64x64\n",
    "\n",
    "# Equaliza o histograma com clahe\n",
    "\n",
    "# Converte a imagem para flat\n",
    "\n",
    "# Faz um scale para a imagem voltar a ter valores de 0 à 1\n",
    "\n",
    "# Instancia PCA com n_components=0.9\n",
    "\n",
    "# Cria Pipeline\n",
    "\n",
    "# Faz fit_transform no pipeline\n"
   ]
  },
  {
   "cell_type": "code",
   "execution_count": null,
   "metadata": {},
   "outputs": [],
   "source": [
    "print(\"Tamanho do dataset original: \", X_train.shape)\n",
    "print(\"Quantidade de linhas no novo dataset: \", len(data))\n",
    "print(\"Quantidade de colunas no novo dataset: \", data[0].shape)\n",
    "print(\"Tamanho do dataset novo: \", data.shape)"
   ]
  },
  {
   "cell_type": "markdown",
   "metadata": {},
   "source": [
    "Podemos verificar como estão as imagens após o pré-processamento:"
   ]
  },
  {
   "cell_type": "code",
   "execution_count": null,
   "metadata": {},
   "outputs": [],
   "source": []
  },
  {
   "cell_type": "markdown",
   "metadata": {},
   "source": [
    "Agora vamos adicionar o RandomForest no nosso pipe:"
   ]
  },
  {
   "cell_type": "code",
   "execution_count": null,
   "metadata": {},
   "outputs": [],
   "source": [
    "# Adiciona RF com max_depth=6\n",
    "\n",
    "# fit do pipe\n"
   ]
  },
  {
   "cell_type": "code",
   "execution_count": null,
   "metadata": {},
   "outputs": [],
   "source": []
  },
  {
   "cell_type": "code",
   "execution_count": null,
   "metadata": {},
   "outputs": [],
   "source": []
  },
  {
   "cell_type": "markdown",
   "metadata": {},
   "source": [
    "___\n",
    "___\n",
    "___"
   ]
  },
  {
   "cell_type": "markdown",
   "metadata": {},
   "source": [
    "## Bibliografia e Aprofundamento\n",
    "- https://livebook.manning.com/book/grokking-deep-learning-for-computer-vision/chapter-1/2\n",
    "- https://kapernikov.com/tutorial-image-classification-with-scikit-learn/\n",
    "- https://notebook.community/marcotcr/lime/doc/notebooks/Tutorial%20-%20Faces%20and%20GradBoost\n",
    "- https://freecontent.manning.com/the-computer-vision-pipeline-part-3-image-preprocessing/"
   ]
  },
  {
   "cell_type": "markdown",
   "metadata": {},
   "source": []
  }
 ],
 "metadata": {
  "kernelspec": {
   "display_name": "Python 3 (ipykernel)",
   "language": "python",
   "name": "python3"
  },
  "language_info": {
   "codemirror_mode": {
    "name": "ipython",
    "version": 3
   },
   "file_extension": ".py",
   "mimetype": "text/x-python",
   "name": "python",
   "nbconvert_exporter": "python",
   "pygments_lexer": "ipython3",
   "version": "3.9.7"
  },
  "vscode": {
   "interpreter": {
    "hash": "cb5f626699f206ef97176a4f092b8d9f6e52ae1f84b4bb3163daf9eb25ca3519"
   }
  }
 },
 "nbformat": 4,
 "nbformat_minor": 2
}
