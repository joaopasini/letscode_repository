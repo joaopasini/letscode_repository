{
 "cells": [
  {
   "cell_type": "code",
   "execution_count": 1,
   "id": "969e18f2-8528-4a67-9ffe-bb2c1361d0ab",
   "metadata": {},
   "outputs": [
    {
     "name": "stderr",
     "output_type": "stream",
     "text": [
      "'streamlit' nÆo ‚ reconhecido como um comando interno\n",
      "ou externo, um programa oper vel ou um arquivo em lotes.\n"
     ]
    }
   ],
   "source": [
    "!streamlit run streamlit_example.py"
   ]
  },
  {
   "cell_type": "code",
   "execution_count": 2,
   "id": "1d21aca2-6782-46d2-8b82-177aa7afd100",
   "metadata": {},
   "outputs": [
    {
     "name": "stderr",
     "output_type": "stream",
     "text": [
      "'streamlit' nÆo ‚ reconhecido como um comando interno\n",
      "ou externo, um programa oper vel ou um arquivo em lotes.\n"
     ]
    }
   ],
   "source": [
    "!streamlit run modify_image.py"
   ]
  },
  {
   "cell_type": "code",
   "execution_count": null,
   "id": "2537609d-d5c4-4dc8-836b-02612d27c4a5",
   "metadata": {},
   "outputs": [],
   "source": []
  }
 ],
 "metadata": {
  "kernelspec": {
   "display_name": "Python 3",
   "language": "python",
   "name": "python3"
  },
  "language_info": {
   "codemirror_mode": {
    "name": "ipython",
    "version": 3
   },
   "file_extension": ".py",
   "mimetype": "text/x-python",
   "name": "python",
   "nbconvert_exporter": "python",
   "pygments_lexer": "ipython3",
   "version": "3.8.8"
  }
 },
 "nbformat": 4,
 "nbformat_minor": 5
}
