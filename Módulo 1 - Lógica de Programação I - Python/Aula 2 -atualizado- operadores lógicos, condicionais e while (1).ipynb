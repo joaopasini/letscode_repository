{
 "cells": [
  {
   "cell_type": "markdown",
   "metadata": {},
   "source": [
    "# Aula 2 - operadores lógicos, estruturas condicionais e loop while\n",
    "\n",
    "Na aula de hoje, vamos explorar os seguintes tópicos em Python:\n",
    "\n",
    "- 1) Operadores lógicos;\n",
    "- 2) Estruturas condicionais;\n",
    "- 3) Laços de repetição (while).\n",
    "\n",
    "_______\n"
   ]
  },
  {
   "cell_type": "markdown",
   "metadata": {},
   "source": [
    "____\n",
    "____\n",
    "____"
   ]
  },
  {
   "cell_type": "markdown",
   "metadata": {},
   "source": [
    "## 1) Operadores lógicos\n",
    "\n",
    "Em muitos problemas de programação, há necessidade de se fazer **comparações** entre variáveis.\n",
    "\n",
    "Por exemplo:\n",
    "\n",
    "- checar se um número é maior que outro;\n",
    "- checar se uma variável é igual a outra;\n",
    "- checar se há números diferentes; etc.\n",
    "\n",
    "Para fazer essas comparações, utilizamos os **operadores lógicos de comparação**. Em Python, há 6 desses operadores:\n",
    "\n",
    "- Maior que: >\n",
    "- Maior ou igual: >=\n",
    "- Menor que: <\n",
    "- Menor ou igual: <=\n",
    "- Igual: ==\n",
    "- Diferente: !=\n",
    "\n",
    "O resultado de uma comparação sempre vai ser um booleano, isto é, **True** ou **False**!\n",
    "\n",
    "Dica: sempre leia as comparações como uma **pergunta**\n",
    "\n",
    "- Ex: \"numero < 100\", leia: \"o valor na variável numero é menor que 100?\"\n",
    "\n",
    "Os operadores de comparação são destacados em **roxo** no Jupyter"
   ]
  },
  {
   "cell_type": "code",
   "execution_count": null,
   "metadata": {},
   "outputs": [],
   "source": []
  },
  {
   "cell_type": "markdown",
   "metadata": {},
   "source": [
    "A comparação pode ser feita entre duas variáveis, também:"
   ]
  },
  {
   "cell_type": "code",
   "execution_count": null,
   "metadata": {},
   "outputs": [],
   "source": []
  },
  {
   "cell_type": "markdown",
   "metadata": {},
   "source": [
    "Podemos também comparar strings!"
   ]
  },
  {
   "cell_type": "code",
   "execution_count": null,
   "metadata": {},
   "outputs": [],
   "source": []
  },
  {
   "cell_type": "markdown",
   "metadata": {},
   "source": [
    "Os operadores >, >=, <, <= atuam comparando **ordem lexicográfica** quando aplicados a strings.\n",
    "\n",
    "A ordem lexicográfica é definida a partir da tabela ASCII:\n",
    "\n",
    "<img src=https://ti.kanenberg.com.br/wp-content/uploads/2019/02/1024px-ASCII-Table-wide.svg_.png width=500>"
   ]
  },
  {
   "cell_type": "markdown",
   "metadata": {},
   "source": [
    "Portanto, o python compara duas strings **caractere a caractere**, tomando a representação numérica de cada caractere para fazer a comparação.\n",
    "\n",
    "É possível recuperar esta representação numérica (decimal) com a função `ord()`:"
   ]
  },
  {
   "cell_type": "code",
   "execution_count": null,
   "metadata": {},
   "outputs": [],
   "source": []
  },
  {
   "cell_type": "markdown",
   "metadata": {},
   "source": [
    "Podemos fazer comparação entre **tipos numéricos** diferentes (int e float):"
   ]
  },
  {
   "cell_type": "code",
   "execution_count": null,
   "metadata": {},
   "outputs": [],
   "source": []
  },
  {
   "cell_type": "markdown",
   "metadata": {},
   "source": [
    "Mas comparações entre string e tipos numéricos são possíveis **apenas para == e !=**:\n"
   ]
  },
  {
   "cell_type": "code",
   "execution_count": null,
   "metadata": {},
   "outputs": [],
   "source": []
  },
  {
   "cell_type": "markdown",
   "metadata": {},
   "source": [
    "O erro acima aconteceu porque **não é possível comparar a orderm (usando >, >=, <, <=)** de variáveis numéricas e strings!"
   ]
  },
  {
   "cell_type": "markdown",
   "metadata": {},
   "source": [
    "___"
   ]
  },
  {
   "cell_type": "markdown",
   "metadata": {},
   "source": [
    "Além dos operadores lógicos de comparação, também temos os **operadores lógicos de conjunção**, que são utilizados pra fazer uma **combinação** entre comparações. \n",
    "\n",
    "Os operadores de conjunção são: **and** e **or**, e eles seguem a seguinte regra:\n",
    "\n",
    "- **and** só é True se **ambas** as comparações forem True:\n",
    "    - False and True resulta em \"False\"\n",
    "    - False and False resulta em \"False\"\n",
    "    - True and True resulta em \"True\"\n",
    "- **or** é True se **pelo menos uma** das comparações for True:\n",
    "    - False or True resulta em \"True\"\n",
    "    - True or True resulta em \"True\"\n",
    "    - False or False resulta em \"False\"\n",
    "\n",
    "Os operadores de conjunção são destacados em **verde escuro** no Jupyter"
   ]
  },
  {
   "cell_type": "code",
   "execution_count": null,
   "metadata": {},
   "outputs": [],
   "source": [
    "print(\"Operador and:\")\n",
    "print(True and False)\n",
    "print(False and False)\n",
    "print(True and True)"
   ]
  },
  {
   "cell_type": "code",
   "execution_count": null,
   "metadata": {},
   "outputs": [],
   "source": [
    "# conjunção entre duas expressões lógicas\n",
    "# True and False, resulta em False\n"
   ]
  },
  {
   "cell_type": "code",
   "execution_count": null,
   "metadata": {},
   "outputs": [],
   "source": [
    "# True and True, resulta em True\n"
   ]
  },
  {
   "cell_type": "code",
   "execution_count": null,
   "metadata": {},
   "outputs": [],
   "source": [
    "print(\"Operador or:\")\n",
    "print(False or True)\n",
    "print(True or True)\n",
    "print(False or False)"
   ]
  },
  {
   "cell_type": "code",
   "execution_count": null,
   "metadata": {},
   "outputs": [],
   "source": [
    "# True or False, resulta em True\n"
   ]
  },
  {
   "cell_type": "code",
   "execution_count": null,
   "metadata": {},
   "outputs": [],
   "source": [
    "# False or False, resulta em False\n"
   ]
  },
  {
   "cell_type": "markdown",
   "metadata": {},
   "source": [
    "Se tivermos mais de duas comparações pra fazer conjunção, é melhor usarmos parênteses.\n",
    "\n",
    "Primeiro a conjunção entre parênteses é feita, e depois o resultado é usado pra avaliar a conjunção total"
   ]
  },
  {
   "cell_type": "code",
   "execution_count": 4,
   "metadata": {},
   "outputs": [
    {
     "data": {
      "text/plain": [
       "True"
      ]
     },
     "execution_count": 4,
     "metadata": {},
     "output_type": "execute_result"
    }
   ],
   "source": [
    "# (True or False) and False\n",
    "# (True) and False \n",
    "# False\n",
    "\n",
    "(42 > 5) or ('42' == 42) and (1 > 5)"
   ]
  },
  {
   "cell_type": "code",
   "execution_count": null,
   "metadata": {},
   "outputs": [],
   "source": []
  },
  {
   "cell_type": "markdown",
   "metadata": {},
   "source": [
    "__________\n",
    "__________\n",
    "__________\n"
   ]
  },
  {
   "cell_type": "markdown",
   "metadata": {},
   "source": [
    "## 2) Estruturas condicionais\n",
    "\n",
    "O principal uso dos operadores lógicos é em **estruturas condicionais**\n",
    "\n",
    "Esse tipo de estrutura é utilizada para tratar casos diferentes dentro do código\n",
    "\n",
    "Os **operadores condicionais** são: **if**, **elif** e **else**\n",
    "\n",
    "- **if**: Se uma condição for verdadeira, faça determinada operação.\n",
    "- **elif**: Se a condição acima for falsa, avalie uma próxima condição, e se essa for verdadeira, faça outra operação\n",
    "- **else**: Se nenhuma das condições acima for verdadeira, faça outra coisa\n",
    "\n",
    "O uso de elif e else **não** é obrigatório! (Mas é muitas vezes conveniente!)\n",
    "\n",
    "As estruturas de repetição aparecem em **blocos identados (com \"tab\") após dois pontos**, na seguinte estrutura:\n",
    "\n",
    "```python\n",
    "if (condicao é True):\n",
    "    operacoes\n",
    "elif (condicao é True):\n",
    "    operacoes\n",
    "else:\n",
    "    operacoes\n",
    "```\n",
    "\n",
    "- Se alguma condição no if ou elif for verdadeira, todo o resto é ignorado!\n",
    "- Por isso, as condições no if e os diferentes elifs sempre são **excludentes**\n",
    "\n",
    "Os operadores condicionais são destacados em **verde escuro** no Jupyter\n"
   ]
  },
  {
   "cell_type": "markdown",
   "metadata": {},
   "source": [
    "**Exemplo**: imagine que uma escola tem o seguinte critério de avaliação baseado na média do aluno:\n",
    "\n",
    "- se a média for maior ou igual a 5, o aluno é aprovado;\n",
    "- caso contrário, o aluno é reprovado\n"
   ]
  },
  {
   "cell_type": "code",
   "execution_count": 6,
   "metadata": {},
   "outputs": [
    {
     "name": "stdout",
     "output_type": "stream",
     "text": [
      "Aprovado!\n"
     ]
    }
   ],
   "source": [
    "media = 5\n",
    "if media >= 5:\n",
    "    print(\"Aprovado!\")\n",
    "else:\n",
    "    print('Reprovado!')"
   ]
  },
  {
   "cell_type": "markdown",
   "metadata": {},
   "source": [
    "Também podemos usar o elif, embora não seja necessário, dado que a condição `media >= 5` é única"
   ]
  },
  {
   "cell_type": "code",
   "execution_count": 8,
   "metadata": {},
   "outputs": [],
   "source": [
    "def reprovado(media):\n",
    "    if media >= 5:\n",
    "        \n",
    "        print(\"Aprovado!\")\n",
    "    else:\n",
    "        \n",
    "        print('Reprovado!')"
   ]
  },
  {
   "cell_type": "code",
   "execution_count": 9,
   "metadata": {},
   "outputs": [
    {
     "name": "stdout",
     "output_type": "stream",
     "text": [
      "Reprovado!\n"
     ]
    }
   ],
   "source": [
    "reprovado(3)"
   ]
  },
  {
   "cell_type": "markdown",
   "metadata": {},
   "source": [
    "**Exemplo**: imagine que uma escola tem o seguinte critério de avaliação baseado na **media** do aluno e em sua **frequência**\n",
    "\n",
    "- regra 1: se a média for maior ou igal a 9, o aluno é aprovado, independente da frequencia;\n",
    "- regra 2: se a média estiver entre 6 e 9, o aluno só é aprovado se a frequencia for maior ou igual a 75%\n",
    "- regra 3: se a média estiver entre 6 e 9, mas a frequencia for menor que 75%, ele vai pra recuperação\n",
    "- regra 4: se a média for menor que 6 e a frequencia do aluno for maior ou igual a 75%, ele pode fazer recuperação\n",
    "- regra 5: se a média for menor que 6 e a frequência do aluno for menor que a 75%, ele é automaticamente reprovado\n",
    "\n",
    "Como implementamos este algoritmo?"
   ]
  },
  {
   "cell_type": "code",
   "execution_count": 10,
   "metadata": {},
   "outputs": [],
   "source": [
    "def calc_media(media, freq):\n",
    "    \n",
    "    if media >9:\n",
    "        \n",
    "        print('Aprovado!')\n",
    "        \n",
    "    elif (media >= 6) and (frequencia >= 0.75):\n",
    "        \n",
    "        print('Aprovado!')\n",
    "        \n",
    "    elif (media >= 6) and (frequencia < 0.75):\n",
    "        \n",
    "        print('Recuperação!')\n",
    "        \n",
    "    elif (media < 6) and (freq >= 0.75):\n",
    "        \n",
    "        print('Recuperação!')\n",
    "        \n",
    "    else: \n",
    "        \n",
    "        print('Reprovado!')"
   ]
  },
  {
   "cell_type": "markdown",
   "metadata": {},
   "source": [
    "__________\n",
    "__________\n",
    "__________"
   ]
  },
  {
   "cell_type": "markdown",
   "metadata": {},
   "source": [
    "## 3) Laços de repetição (while)\n",
    "\n",
    "Uma das utilidades de linguagens de programação é a de automatizar tarefas que são repetitivas.\n",
    "\n",
    "Mas, pra isso ser viável, seria bom se tivéssemos uma estrutura para **repetir comandos**, não é mesmo?\n",
    "\n",
    "Imagine que eu queira exibir na tela \"Olá, mundo!\" 5 vezes. Podemos fazer:"
   ]
  },
  {
   "cell_type": "code",
   "execution_count": null,
   "metadata": {},
   "outputs": [],
   "source": [
    "input()"
   ]
  },
  {
   "cell_type": "markdown",
   "metadata": {},
   "source": [
    "Mas, e se eu quiser exibir essa mensagem 1000 vezes? Ou 1 milhão de vezes? Não é ideal escrevermos o mesmo pedaço de código tantas vezes, né?\n",
    "\n",
    "Para isso, existem os **laços de repetição**, que permitem repetir pedaços de código quantas vezes desejarmos!\n",
    "\n",
    "O primeiro laço que vamos ver é o **while**. Este laço tem a seguinte estrutura:\n",
    "\n",
    "```python\n",
    "while (condicao é True):\n",
    "    operacao_repetida\n",
    "```\n",
    "\n",
    "Ou seja, o que tá no bloco do while é repetido **enquanto a condição for verdadeira**"
   ]
  },
  {
   "cell_type": "markdown",
   "metadata": {},
   "source": [
    "Isso pode levar a **loops infinitos**"
   ]
  },
  {
   "cell_type": "code",
   "execution_count": null,
   "metadata": {},
   "outputs": [],
   "source": []
  },
  {
   "cell_type": "markdown",
   "metadata": {},
   "source": [
    "Para que loops infinitos não aconteçam, temos que fazer uma **atualização da condição** a cada iteração do laço!\n",
    "\n",
    "Isso é, temos que **atualizar** a variavel que contabiliza as repetições no loop"
   ]
  },
  {
   "cell_type": "code",
   "execution_count": null,
   "metadata": {},
   "outputs": [],
   "source": []
  },
  {
   "cell_type": "markdown",
   "metadata": {},
   "source": [
    "Assim, o que fazemos é **definir a condição do while em termos de uma variável que tenha seu valor atualizado!**\n",
    "\n",
    "Para isso, é comum nos referirmos à variàvel da condição como **variável contadora**.\n",
    "\n",
    "Para atualizar a variável contadora dentro do while, em geral a atualizamos em +1"
   ]
  },
  {
   "cell_type": "code",
   "execution_count": null,
   "metadata": {},
   "outputs": [],
   "source": []
  },
  {
   "cell_type": "markdown",
   "metadata": {},
   "source": [
    "Vamos entender um pouco melhor como a variável contadora se comporta?\n",
    "\n",
    "Pra isso, basta exibi-la a cada iteração:"
   ]
  },
  {
   "cell_type": "code",
   "execution_count": 11,
   "metadata": {},
   "outputs": [
    {
     "name": "stdout",
     "output_type": "stream",
     "text": [
      "Olá mundo\n",
      "Olá mundo\n",
      "Olá mundo\n",
      "Olá mundo\n",
      "Olá mundo\n"
     ]
    }
   ],
   "source": [
    "cont = 0\n",
    "\n",
    "while cont < 5:\n",
    "    \n",
    "    print('Olá mundo')\n",
    "    \n",
    "    cont = cont + 1"
   ]
  },
  {
   "cell_type": "markdown",
   "metadata": {},
   "source": [
    "O código acima equivale a:"
   ]
  },
  {
   "cell_type": "code",
   "execution_count": null,
   "metadata": {},
   "outputs": [],
   "source": [
    "# inicialmente, a variavel cont vale 0\n",
    "cont = 0\n",
    "print(cont)\n",
    "\n",
    "# pegamos o valor anterior (0) e somamos 1, ficando 1\n",
    "cont = cont + 1\n",
    "print(cont)\n",
    "\n",
    "# pegamos o valor anterior (1) e somamos 1, ficando 2\n",
    "cont = cont + 1\n",
    "print(cont)\n",
    "\n",
    "# pegamos o valor anterior (2) e somamos 1, ficando 3\n",
    "cont = cont + 1\n",
    "print(cont)\n",
    "\n",
    "# pegamos o valor anterior (3) e somamos 1, ficando 4\n",
    "cont = cont + 1\n",
    "print(cont)"
   ]
  },
  {
   "cell_type": "markdown",
   "metadata": {},
   "source": [
    "Usar a condição com < ao invés de != em geral garante maior segurança ao seu algoritmo, pois evita imprevistos caso você receba números do usuário!"
   ]
  },
  {
   "cell_type": "markdown",
   "metadata": {},
   "source": [
    "Podemos também atualizar a condição de repetição segundo informado pelo usuário\n",
    "\n",
    "Esse uso é bem importante para **garantir que o usuário digitou corretamente o que foi solicitado**\n",
    "\n",
    "Por exemplo, vamos pedir pro usuário digitar um número maior que 10. **Enquanto ele não fizer o que queremos**, vamos continuar pedindo pra ele digitar um novo valor:"
   ]
  },
  {
   "cell_type": "code",
   "execution_count": null,
   "metadata": {},
   "outputs": [],
   "source": []
  },
  {
   "cell_type": "markdown",
   "metadata": {},
   "source": [
    "Outro exemplo, onde pedirmos pro usuário digitar sua nota (para ser um valor válido, tem que estar entre 0 e 10!)"
   ]
  },
  {
   "cell_type": "code",
   "execution_count": null,
   "metadata": {},
   "outputs": [],
   "source": []
  },
  {
   "cell_type": "markdown",
   "metadata": {},
   "source": [
    "Outro exemplo..."
   ]
  },
  {
   "cell_type": "code",
   "execution_count": 18,
   "metadata": {},
   "outputs": [
    {
     "name": "stdout",
     "output_type": "stream",
     "text": [
      "Digite sua escolaridade\n",
      "Opções possíveis: ['F', 'M', 'S']F\n"
     ]
    }
   ],
   "source": [
    "opcoes_possiveis = [\"F\",\"M\",\"S\"]\n",
    "\n",
    "escolaridade = input(f\"Digite sua escolaridade\\nOpções possíveis: {opcoes_possiveis}\").upper()\n",
    "\n",
    "while escolaridade not in opcoes_possiveis:\n",
    "    \n",
    "    escolaridade = input(f\"Opção inválida!\\n\\Opções possíveis: {opcoes_possiveis}\").upper()"
   ]
  },
  {
   "cell_type": "code",
   "execution_count": null,
   "metadata": {},
   "outputs": [],
   "source": []
  }
 ],
 "metadata": {
  "kernelspec": {
   "display_name": "Python 3",
   "language": "python",
   "name": "python3"
  },
  "language_info": {
   "codemirror_mode": {
    "name": "ipython",
    "version": 3
   },
   "file_extension": ".py",
   "mimetype": "text/x-python",
   "name": "python",
   "nbconvert_exporter": "python",
   "pygments_lexer": "ipython3",
   "version": "3.8.8"
  }
 },
 "nbformat": 4,
 "nbformat_minor": 4
}
