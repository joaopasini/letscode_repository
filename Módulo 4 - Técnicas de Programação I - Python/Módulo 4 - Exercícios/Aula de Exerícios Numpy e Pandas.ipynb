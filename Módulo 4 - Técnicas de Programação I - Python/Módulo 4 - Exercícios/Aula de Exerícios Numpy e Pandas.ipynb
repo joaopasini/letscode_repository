{
 "cells": [
  {
   "cell_type": "code",
   "execution_count": 1,
   "id": "c5f3db54",
   "metadata": {},
   "outputs": [],
   "source": [
    "import pandas as pd\n",
    "import numpy as np"
   ]
  },
  {
   "cell_type": "code",
   "execution_count": 2,
   "id": "4a36ef5c",
   "metadata": {},
   "outputs": [],
   "source": [
    "pd.options.display.float_format = '{:,.2f}'.format"
   ]
  },
  {
   "cell_type": "markdown",
   "id": "3a67cefc",
   "metadata": {},
   "source": [
    "### Problema 1\n",
    "Vamos praticar gerar matrizes e fazer operações com as linhas e colunas:\n",
    "\n",
    "(a) Crie uma matriz A com as dimensões (5, 4) e elementos aleatórios variando entre 0 e 50, com o 50 incluso;\n",
    "\n",
    "__Dica:__ Utilize as funções `np.random.randint` e `np.reshape`\n",
    "\n",
    "(b) Retorne a média do vetor\n",
    "\n",
    "(c) Retorne os menores valores de cada coluna;\n",
    "\n",
    "(d) Retorne os maiores valores de cada linha."
   ]
  },
  {
   "cell_type": "code",
   "execution_count": 3,
   "id": "c41394ee",
   "metadata": {},
   "outputs": [
    {
     "name": "stdout",
     "output_type": "stream",
     "text": [
      "[[42  4 26 47]\n",
      " [ 6 45 36  9]\n",
      " [37  3 42 30]\n",
      " [49 40 35 32]\n",
      " [ 0  5 50  6]]\n"
     ]
    }
   ],
   "source": [
    "a = np.random.randint(low=0, high=51, size=(5,4))\n",
    "print(a)"
   ]
  },
  {
   "cell_type": "code",
   "execution_count": 4,
   "id": "21a84c5a-3956-4efb-b75e-e47bf1337425",
   "metadata": {},
   "outputs": [
    {
     "data": {
      "text/plain": [
       "27.2"
      ]
     },
     "execution_count": 4,
     "metadata": {},
     "output_type": "execute_result"
    }
   ],
   "source": [
    "a.mean()"
   ]
  },
  {
   "cell_type": "code",
   "execution_count": 5,
   "id": "ed21cade-e5ef-439f-a2cc-bd70bb52bcff",
   "metadata": {},
   "outputs": [
    {
     "data": {
      "text/plain": [
       "array([ 0,  3, 26,  6])"
      ]
     },
     "execution_count": 5,
     "metadata": {},
     "output_type": "execute_result"
    }
   ],
   "source": [
    "np.min(a[:], axis=0)"
   ]
  },
  {
   "cell_type": "code",
   "execution_count": 6,
   "id": "afd74f44-fac7-40a3-8b65-122399d3e31c",
   "metadata": {},
   "outputs": [
    {
     "data": {
      "text/plain": [
       "array([47, 45, 42, 49, 50])"
      ]
     },
     "execution_count": 6,
     "metadata": {},
     "output_type": "execute_result"
    }
   ],
   "source": [
    "np.max(a[:], axis=1)"
   ]
  },
  {
   "cell_type": "markdown",
   "id": "a6911298",
   "metadata": {},
   "source": [
    "### Problema 2\n",
    "\n",
    "Crie um objeto DataFrame que contenha os dados da tabela abaixo, os quais se referem ao peso, altura e idade de cinco pessoas:\n",
    "\n",
    "\n",
    "| Peso (kg) | Altura (cm) | Idade (anos) |\n",
    "|-----------|-------------|--------------|\n",
    "|  47 | 161\t| 31 |\n",
    "|  80 | 170\t| 21 |\n",
    "|  60 | 175\t| 16 |\n",
    "|  90 | 162\t| 28 |\n",
    "| 100 | 185\t| 23 |\n",
    "| 147 | 189 | 32 |\n",
    "\n",
    "Com base no DataFrame criado, realize o que for pedido nos itens abaixo:\n",
    "\n",
    "(a) Visualize apenas os dados da coluna que contém a altura das pessoas;\n",
    "\n",
    "(b) Obtenha a idade média das pessoas;\n",
    "\n",
    "(c) Obtenha os dados das pessoas que estão abaixo da altura média;\n",
    "\n",
    "(d) Crie um nova coluna no DataFrame que contenha o IMC (Índice de Massa Corporal) de cada pessoa;\n",
    "\n",
    "__Obs.:__ A fórmula para o IMC é dada por IMC = Peso/(Altura)² com o peso em kg e a altura em metros.\n",
    "\n",
    "(e) Remova a coluna que contém a idade das pessoas;\n",
    "\n",
    "(f) Crie uma nova coluna chamada Classificação, que contenha a classificação de cada indivíduo, de acordo com o seu IMC. Para isso, consulte a tabela abaixo.\n",
    "\n",
    "| IMC             | Classificação |\n",
    "|-----------------|---------------|\n",
    "Menor que 18,5    | Subpeso |\n",
    "Entre 18,5 e 24,9 | Normal |\n",
    "Entre 25,0 e 29,9 | Sobrepeso |\n",
    "Entre 30,0 e 39,9 | Obesidade Grau I |\n",
    "Maior que 40,0    | Obesidade Grau II |\n",
    "\n",
    "(g) Salve esses dados do DataFrame em um arquivo csv."
   ]
  },
  {
   "cell_type": "code",
   "execution_count": 7,
   "id": "268ccbbe",
   "metadata": {},
   "outputs": [
    {
     "data": {
      "text/plain": [
       "{'Peso(kg)': [47, 80, 60, 90, 100, 147],\n",
       " 'Altura(cm)': [161, 170, 175, 162, 185, 189],\n",
       " 'Idade(anos)': [31, 21, 16, 28, 23, 32]}"
      ]
     },
     "execution_count": 7,
     "metadata": {},
     "output_type": "execute_result"
    }
   ],
   "source": [
    "pessoas = {\"Peso(kg)\":[47,80,60,90,100,147],\n",
    "          \"Altura(cm)\":[161,170,175,162,185,189],\n",
    "          \"Idade(anos)\":[31,21,16,28,23,32]} \n",
    "pessoas"
   ]
  },
  {
   "cell_type": "code",
   "execution_count": 8,
   "id": "19138b85-b38a-463b-9293-d1c1a82acd7c",
   "metadata": {},
   "outputs": [
    {
     "data": {
      "text/html": [
       "<div>\n",
       "<style scoped>\n",
       "    .dataframe tbody tr th:only-of-type {\n",
       "        vertical-align: middle;\n",
       "    }\n",
       "\n",
       "    .dataframe tbody tr th {\n",
       "        vertical-align: top;\n",
       "    }\n",
       "\n",
       "    .dataframe thead th {\n",
       "        text-align: right;\n",
       "    }\n",
       "</style>\n",
       "<table border=\"1\" class=\"dataframe\">\n",
       "  <thead>\n",
       "    <tr style=\"text-align: right;\">\n",
       "      <th></th>\n",
       "      <th>Peso(kg)</th>\n",
       "      <th>Altura(cm)</th>\n",
       "      <th>Idade(anos)</th>\n",
       "    </tr>\n",
       "  </thead>\n",
       "  <tbody>\n",
       "    <tr>\n",
       "      <th>0</th>\n",
       "      <td>47</td>\n",
       "      <td>161</td>\n",
       "      <td>31</td>\n",
       "    </tr>\n",
       "    <tr>\n",
       "      <th>1</th>\n",
       "      <td>80</td>\n",
       "      <td>170</td>\n",
       "      <td>21</td>\n",
       "    </tr>\n",
       "    <tr>\n",
       "      <th>2</th>\n",
       "      <td>60</td>\n",
       "      <td>175</td>\n",
       "      <td>16</td>\n",
       "    </tr>\n",
       "    <tr>\n",
       "      <th>3</th>\n",
       "      <td>90</td>\n",
       "      <td>162</td>\n",
       "      <td>28</td>\n",
       "    </tr>\n",
       "    <tr>\n",
       "      <th>4</th>\n",
       "      <td>100</td>\n",
       "      <td>185</td>\n",
       "      <td>23</td>\n",
       "    </tr>\n",
       "    <tr>\n",
       "      <th>5</th>\n",
       "      <td>147</td>\n",
       "      <td>189</td>\n",
       "      <td>32</td>\n",
       "    </tr>\n",
       "  </tbody>\n",
       "</table>\n",
       "</div>"
      ],
      "text/plain": [
       "   Peso(kg)  Altura(cm)  Idade(anos)\n",
       "0        47         161           31\n",
       "1        80         170           21\n",
       "2        60         175           16\n",
       "3        90         162           28\n",
       "4       100         185           23\n",
       "5       147         189           32"
      ]
     },
     "execution_count": 8,
     "metadata": {},
     "output_type": "execute_result"
    }
   ],
   "source": [
    "df = pd.DataFrame(pessoas)\n",
    "df"
   ]
  },
  {
   "cell_type": "code",
   "execution_count": 9,
   "id": "62b69b5e-c237-4447-b834-0a2e1e6ec2a3",
   "metadata": {},
   "outputs": [
    {
     "data": {
      "text/html": [
       "<div>\n",
       "<style scoped>\n",
       "    .dataframe tbody tr th:only-of-type {\n",
       "        vertical-align: middle;\n",
       "    }\n",
       "\n",
       "    .dataframe tbody tr th {\n",
       "        vertical-align: top;\n",
       "    }\n",
       "\n",
       "    .dataframe thead th {\n",
       "        text-align: right;\n",
       "    }\n",
       "</style>\n",
       "<table border=\"1\" class=\"dataframe\">\n",
       "  <thead>\n",
       "    <tr style=\"text-align: right;\">\n",
       "      <th></th>\n",
       "      <th>Altura(cm)</th>\n",
       "    </tr>\n",
       "  </thead>\n",
       "  <tbody>\n",
       "    <tr>\n",
       "      <th>0</th>\n",
       "      <td>161</td>\n",
       "    </tr>\n",
       "    <tr>\n",
       "      <th>1</th>\n",
       "      <td>170</td>\n",
       "    </tr>\n",
       "    <tr>\n",
       "      <th>2</th>\n",
       "      <td>175</td>\n",
       "    </tr>\n",
       "    <tr>\n",
       "      <th>3</th>\n",
       "      <td>162</td>\n",
       "    </tr>\n",
       "    <tr>\n",
       "      <th>4</th>\n",
       "      <td>185</td>\n",
       "    </tr>\n",
       "    <tr>\n",
       "      <th>5</th>\n",
       "      <td>189</td>\n",
       "    </tr>\n",
       "  </tbody>\n",
       "</table>\n",
       "</div>"
      ],
      "text/plain": [
       "   Altura(cm)\n",
       "0         161\n",
       "1         170\n",
       "2         175\n",
       "3         162\n",
       "4         185\n",
       "5         189"
      ]
     },
     "execution_count": 9,
     "metadata": {},
     "output_type": "execute_result"
    }
   ],
   "source": [
    "df[['Altura(cm)']]"
   ]
  },
  {
   "cell_type": "code",
   "execution_count": 10,
   "id": "a95119df-d302-4a75-885b-4e493d585ff5",
   "metadata": {},
   "outputs": [
    {
     "data": {
      "text/plain": [
       "25.166666666666668"
      ]
     },
     "execution_count": 10,
     "metadata": {},
     "output_type": "execute_result"
    }
   ],
   "source": [
    "df['Idade(anos)'].mean()"
   ]
  },
  {
   "cell_type": "code",
   "execution_count": 11,
   "id": "e0418e59-f30e-48f5-b264-876cf7bc4fb9",
   "metadata": {},
   "outputs": [
    {
     "data": {
      "text/html": [
       "<div>\n",
       "<style scoped>\n",
       "    .dataframe tbody tr th:only-of-type {\n",
       "        vertical-align: middle;\n",
       "    }\n",
       "\n",
       "    .dataframe tbody tr th {\n",
       "        vertical-align: top;\n",
       "    }\n",
       "\n",
       "    .dataframe thead th {\n",
       "        text-align: right;\n",
       "    }\n",
       "</style>\n",
       "<table border=\"1\" class=\"dataframe\">\n",
       "  <thead>\n",
       "    <tr style=\"text-align: right;\">\n",
       "      <th></th>\n",
       "      <th>Peso(kg)</th>\n",
       "      <th>Altura(cm)</th>\n",
       "      <th>Idade(anos)</th>\n",
       "    </tr>\n",
       "  </thead>\n",
       "  <tbody>\n",
       "    <tr>\n",
       "      <th>1</th>\n",
       "      <td>80</td>\n",
       "      <td>170</td>\n",
       "      <td>21</td>\n",
       "    </tr>\n",
       "    <tr>\n",
       "      <th>2</th>\n",
       "      <td>60</td>\n",
       "      <td>175</td>\n",
       "      <td>16</td>\n",
       "    </tr>\n",
       "    <tr>\n",
       "      <th>4</th>\n",
       "      <td>100</td>\n",
       "      <td>185</td>\n",
       "      <td>23</td>\n",
       "    </tr>\n",
       "  </tbody>\n",
       "</table>\n",
       "</div>"
      ],
      "text/plain": [
       "   Peso(kg)  Altura(cm)  Idade(anos)\n",
       "1        80         170           21\n",
       "2        60         175           16\n",
       "4       100         185           23"
      ]
     },
     "execution_count": 11,
     "metadata": {},
     "output_type": "execute_result"
    }
   ],
   "source": [
    "df[(df['Idade(anos)']<25.16)]"
   ]
  },
  {
   "cell_type": "code",
   "execution_count": 12,
   "id": "9e93cbbd-9281-4dfe-81d6-6441c94ce181",
   "metadata": {},
   "outputs": [
    {
     "data": {
      "text/html": [
       "<div>\n",
       "<style scoped>\n",
       "    .dataframe tbody tr th:only-of-type {\n",
       "        vertical-align: middle;\n",
       "    }\n",
       "\n",
       "    .dataframe tbody tr th {\n",
       "        vertical-align: top;\n",
       "    }\n",
       "\n",
       "    .dataframe thead th {\n",
       "        text-align: right;\n",
       "    }\n",
       "</style>\n",
       "<table border=\"1\" class=\"dataframe\">\n",
       "  <thead>\n",
       "    <tr style=\"text-align: right;\">\n",
       "      <th></th>\n",
       "      <th>Peso(kg)</th>\n",
       "      <th>Altura(m)</th>\n",
       "      <th>Idade(anos)</th>\n",
       "    </tr>\n",
       "  </thead>\n",
       "  <tbody>\n",
       "    <tr>\n",
       "      <th>0</th>\n",
       "      <td>47</td>\n",
       "      <td>161</td>\n",
       "      <td>31</td>\n",
       "    </tr>\n",
       "    <tr>\n",
       "      <th>1</th>\n",
       "      <td>80</td>\n",
       "      <td>170</td>\n",
       "      <td>21</td>\n",
       "    </tr>\n",
       "    <tr>\n",
       "      <th>2</th>\n",
       "      <td>60</td>\n",
       "      <td>175</td>\n",
       "      <td>16</td>\n",
       "    </tr>\n",
       "    <tr>\n",
       "      <th>3</th>\n",
       "      <td>90</td>\n",
       "      <td>162</td>\n",
       "      <td>28</td>\n",
       "    </tr>\n",
       "    <tr>\n",
       "      <th>4</th>\n",
       "      <td>100</td>\n",
       "      <td>185</td>\n",
       "      <td>23</td>\n",
       "    </tr>\n",
       "    <tr>\n",
       "      <th>5</th>\n",
       "      <td>147</td>\n",
       "      <td>189</td>\n",
       "      <td>32</td>\n",
       "    </tr>\n",
       "  </tbody>\n",
       "</table>\n",
       "</div>"
      ],
      "text/plain": [
       "   Peso(kg)  Altura(m)  Idade(anos)\n",
       "0        47        161           31\n",
       "1        80        170           21\n",
       "2        60        175           16\n",
       "3        90        162           28\n",
       "4       100        185           23\n",
       "5       147        189           32"
      ]
     },
     "execution_count": 12,
     "metadata": {},
     "output_type": "execute_result"
    }
   ],
   "source": [
    "df_new = df.rename(columns={'Altura(cm)':'Altura(m)'})\n",
    "df_new"
   ]
  },
  {
   "cell_type": "code",
   "execution_count": 14,
   "id": "0f6356d7-9978-4254-bfba-431942dfe7d0",
   "metadata": {},
   "outputs": [
    {
     "data": {
      "text/html": [
       "<div>\n",
       "<style scoped>\n",
       "    .dataframe tbody tr th:only-of-type {\n",
       "        vertical-align: middle;\n",
       "    }\n",
       "\n",
       "    .dataframe tbody tr th {\n",
       "        vertical-align: top;\n",
       "    }\n",
       "\n",
       "    .dataframe thead th {\n",
       "        text-align: right;\n",
       "    }\n",
       "</style>\n",
       "<table border=\"1\" class=\"dataframe\">\n",
       "  <thead>\n",
       "    <tr style=\"text-align: right;\">\n",
       "      <th></th>\n",
       "      <th>Peso(kg)</th>\n",
       "      <th>Altura(m)</th>\n",
       "      <th>Idade(anos)</th>\n",
       "      <th>IMC</th>\n",
       "    </tr>\n",
       "  </thead>\n",
       "  <tbody>\n",
       "    <tr>\n",
       "      <th>0</th>\n",
       "      <td>47</td>\n",
       "      <td>1.61</td>\n",
       "      <td>31</td>\n",
       "      <td>18.13</td>\n",
       "    </tr>\n",
       "    <tr>\n",
       "      <th>1</th>\n",
       "      <td>80</td>\n",
       "      <td>1.70</td>\n",
       "      <td>21</td>\n",
       "      <td>27.68</td>\n",
       "    </tr>\n",
       "    <tr>\n",
       "      <th>2</th>\n",
       "      <td>60</td>\n",
       "      <td>1.75</td>\n",
       "      <td>16</td>\n",
       "      <td>19.59</td>\n",
       "    </tr>\n",
       "    <tr>\n",
       "      <th>3</th>\n",
       "      <td>90</td>\n",
       "      <td>1.62</td>\n",
       "      <td>28</td>\n",
       "      <td>34.29</td>\n",
       "    </tr>\n",
       "    <tr>\n",
       "      <th>4</th>\n",
       "      <td>100</td>\n",
       "      <td>1.85</td>\n",
       "      <td>23</td>\n",
       "      <td>29.22</td>\n",
       "    </tr>\n",
       "  </tbody>\n",
       "</table>\n",
       "</div>"
      ],
      "text/plain": [
       "   Peso(kg)  Altura(m)  Idade(anos)   IMC\n",
       "0        47       1.61           31 18.13\n",
       "1        80       1.70           21 27.68\n",
       "2        60       1.75           16 19.59\n",
       "3        90       1.62           28 34.29\n",
       "4       100       1.85           23 29.22"
      ]
     },
     "execution_count": 14,
     "metadata": {},
     "output_type": "execute_result"
    }
   ],
   "source": [
    "df_new['Altura(m)'] = df_new['Altura(m)'].div(10).round(2)\n",
    "df_new['IMC'] = df_new['Peso(kg)'] / (df_new['Altura(m)']**2)\n",
    "df_new.head()"
   ]
  },
  {
   "cell_type": "code",
   "execution_count": 16,
   "id": "c2f0b688-3239-49af-b6e5-6d25f6d33c6e",
   "metadata": {},
   "outputs": [
    {
     "data": {
      "text/html": [
       "<div>\n",
       "<style scoped>\n",
       "    .dataframe tbody tr th:only-of-type {\n",
       "        vertical-align: middle;\n",
       "    }\n",
       "\n",
       "    .dataframe tbody tr th {\n",
       "        vertical-align: top;\n",
       "    }\n",
       "\n",
       "    .dataframe thead th {\n",
       "        text-align: right;\n",
       "    }\n",
       "</style>\n",
       "<table border=\"1\" class=\"dataframe\">\n",
       "  <thead>\n",
       "    <tr style=\"text-align: right;\">\n",
       "      <th></th>\n",
       "      <th>Peso(kg)</th>\n",
       "      <th>Altura(m)</th>\n",
       "      <th>IMC</th>\n",
       "    </tr>\n",
       "  </thead>\n",
       "  <tbody>\n",
       "    <tr>\n",
       "      <th>0</th>\n",
       "      <td>47</td>\n",
       "      <td>1.61</td>\n",
       "      <td>18.13</td>\n",
       "    </tr>\n",
       "    <tr>\n",
       "      <th>1</th>\n",
       "      <td>80</td>\n",
       "      <td>1.70</td>\n",
       "      <td>27.68</td>\n",
       "    </tr>\n",
       "    <tr>\n",
       "      <th>2</th>\n",
       "      <td>60</td>\n",
       "      <td>1.75</td>\n",
       "      <td>19.59</td>\n",
       "    </tr>\n",
       "    <tr>\n",
       "      <th>3</th>\n",
       "      <td>90</td>\n",
       "      <td>1.62</td>\n",
       "      <td>34.29</td>\n",
       "    </tr>\n",
       "    <tr>\n",
       "      <th>4</th>\n",
       "      <td>100</td>\n",
       "      <td>1.85</td>\n",
       "      <td>29.22</td>\n",
       "    </tr>\n",
       "  </tbody>\n",
       "</table>\n",
       "</div>"
      ],
      "text/plain": [
       "   Peso(kg)  Altura(m)   IMC\n",
       "0        47       1.61 18.13\n",
       "1        80       1.70 27.68\n",
       "2        60       1.75 19.59\n",
       "3        90       1.62 34.29\n",
       "4       100       1.85 29.22"
      ]
     },
     "execution_count": 16,
     "metadata": {},
     "output_type": "execute_result"
    }
   ],
   "source": [
    "df_new = df_new.drop(columns=['Idade(anos)'])\n",
    "df_new.head()"
   ]
  },
  {
   "cell_type": "code",
   "execution_count": 40,
   "id": "e06fb000-614c-4070-9bd9-d6f6caf7758e",
   "metadata": {},
   "outputs": [],
   "source": [
    "def imc_classificacao(valor):\n",
    "    if valor['IMC'] <18.5:\n",
    "        return 'Sobpeso'\n",
    "    if  (valor['IMC'] >= 18.5) & (valor['IMC'] <=24.9):\n",
    "        return 'Normal'\n",
    "    if  (valor['IMC'] >= 25) & (valor['IMC'] <=29.9):\n",
    "        return 'Sobrepeso'\n",
    "    if  (valor['IMC'] >= 30.0) & (valor['IMC'] <=39.9):\n",
    "        return 'Obesidade Grau I'\n",
    "    if valor['IMC'] >=40.0:\n",
    "        return 'Obesidade Grau II'"
   ]
  },
  {
   "cell_type": "code",
   "execution_count": 41,
   "id": "0cc40128-c0cb-4b33-9ced-9901659541a4",
   "metadata": {},
   "outputs": [
    {
     "data": {
      "text/html": [
       "<div>\n",
       "<style scoped>\n",
       "    .dataframe tbody tr th:only-of-type {\n",
       "        vertical-align: middle;\n",
       "    }\n",
       "\n",
       "    .dataframe tbody tr th {\n",
       "        vertical-align: top;\n",
       "    }\n",
       "\n",
       "    .dataframe thead th {\n",
       "        text-align: right;\n",
       "    }\n",
       "</style>\n",
       "<table border=\"1\" class=\"dataframe\">\n",
       "  <thead>\n",
       "    <tr style=\"text-align: right;\">\n",
       "      <th></th>\n",
       "      <th>Peso(kg)</th>\n",
       "      <th>Altura(m)</th>\n",
       "      <th>IMC</th>\n",
       "      <th>Classificação</th>\n",
       "    </tr>\n",
       "  </thead>\n",
       "  <tbody>\n",
       "    <tr>\n",
       "      <th>0</th>\n",
       "      <td>47</td>\n",
       "      <td>1.61</td>\n",
       "      <td>18.13</td>\n",
       "      <td>Sobpeso</td>\n",
       "    </tr>\n",
       "    <tr>\n",
       "      <th>1</th>\n",
       "      <td>80</td>\n",
       "      <td>1.70</td>\n",
       "      <td>27.68</td>\n",
       "      <td>Sobrepeso</td>\n",
       "    </tr>\n",
       "    <tr>\n",
       "      <th>2</th>\n",
       "      <td>60</td>\n",
       "      <td>1.75</td>\n",
       "      <td>19.59</td>\n",
       "      <td>Normal</td>\n",
       "    </tr>\n",
       "    <tr>\n",
       "      <th>3</th>\n",
       "      <td>90</td>\n",
       "      <td>1.62</td>\n",
       "      <td>34.29</td>\n",
       "      <td>Obesidade Grau I</td>\n",
       "    </tr>\n",
       "    <tr>\n",
       "      <th>4</th>\n",
       "      <td>100</td>\n",
       "      <td>1.85</td>\n",
       "      <td>29.22</td>\n",
       "      <td>Sobrepeso</td>\n",
       "    </tr>\n",
       "    <tr>\n",
       "      <th>5</th>\n",
       "      <td>147</td>\n",
       "      <td>1.89</td>\n",
       "      <td>41.15</td>\n",
       "      <td>Obesidade Grau II</td>\n",
       "    </tr>\n",
       "  </tbody>\n",
       "</table>\n",
       "</div>"
      ],
      "text/plain": [
       "   Peso(kg)  Altura(m)   IMC      Classificação\n",
       "0        47       1.61 18.13            Sobpeso\n",
       "1        80       1.70 27.68          Sobrepeso\n",
       "2        60       1.75 19.59             Normal\n",
       "3        90       1.62 34.29   Obesidade Grau I\n",
       "4       100       1.85 29.22          Sobrepeso\n",
       "5       147       1.89 41.15  Obesidade Grau II"
      ]
     },
     "execution_count": 41,
     "metadata": {},
     "output_type": "execute_result"
    }
   ],
   "source": [
    "df_new.apply(lambda valor: imc_classificacao(valor), axis=1)\n",
    "df_new['Classificação'] = df_new.apply(lambda valor: imc_classificacao(valor), axis=1)\n",
    "df_new"
   ]
  },
  {
   "cell_type": "code",
   "execution_count": 42,
   "id": "a4ef1fa3-f06a-45c5-904f-b9084e0fb24b",
   "metadata": {},
   "outputs": [],
   "source": [
    "df_new.to_csv('df_problema_2.csv')"
   ]
  },
  {
   "cell_type": "markdown",
   "id": "0e9041a8",
   "metadata": {},
   "source": [
    "### Problema 3\n",
    "\n",
    "O arquivo avocado.xlsx consiste em um dataset que contém dados sobre vendas de abacates  em diversas regiões dos Estados Unidos. Essa dataset contém as seguintes colunas:\n",
    "\n",
    "| Coluna | Descrição |\n",
    "|--------|-----------|\n",
    "| Date | data da observação |\n",
    "| AveragePrice | preço médio de um único abacate |\n",
    "| year | ano |\n",
    "| region | cidade ou região da observação |\n",
    "| Total Volume | volume total de abacates vendidos |\n",
    "\n",
    "Além das informações acima, contidas no arquivo avocado.xlsx, o tipo do abacate (convencional ou orgânico) também seria uma informação importante para a sua análise. Suponhamos que você conseguiu essas informações para cada uma das observações do arquivo avocado.csv, na mesma ordem, e salvou-as no arquivo avocado_type.xlsx. Portanto, tudo o que você precisa é juntar esses dois arquivos em um mesmo DataFrame.\n",
    "\n",
    "Com o DataFrame criado, obtenha o que é solicitado nos itens elencados abaixo:\n",
    "\n",
    "\n"
   ]
  },
  {
   "cell_type": "code",
   "execution_count": 18,
   "id": "d75d121e",
   "metadata": {},
   "outputs": [],
   "source": [
    "df1 = pd.read_csv('data/avocado.csv', sep=';')\n",
    "df2 = pd.read_excel('data/avocado_type.xlsx')"
   ]
  },
  {
   "cell_type": "code",
   "execution_count": 19,
   "id": "ebe83a1c-0065-415f-86c4-28a8a7774e86",
   "metadata": {},
   "outputs": [
    {
     "data": {
      "text/html": [
       "<div>\n",
       "<style scoped>\n",
       "    .dataframe tbody tr th:only-of-type {\n",
       "        vertical-align: middle;\n",
       "    }\n",
       "\n",
       "    .dataframe tbody tr th {\n",
       "        vertical-align: top;\n",
       "    }\n",
       "\n",
       "    .dataframe thead th {\n",
       "        text-align: right;\n",
       "    }\n",
       "</style>\n",
       "<table border=\"1\" class=\"dataframe\">\n",
       "  <thead>\n",
       "    <tr style=\"text-align: right;\">\n",
       "      <th></th>\n",
       "      <th>Date</th>\n",
       "      <th>AveragePrice</th>\n",
       "      <th>Total Volume</th>\n",
       "      <th>year</th>\n",
       "      <th>region</th>\n",
       "    </tr>\n",
       "  </thead>\n",
       "  <tbody>\n",
       "    <tr>\n",
       "      <th>0</th>\n",
       "      <td>2015-12-27</td>\n",
       "      <td>1.33</td>\n",
       "      <td>64,236.62</td>\n",
       "      <td>2015</td>\n",
       "      <td>Albany</td>\n",
       "    </tr>\n",
       "    <tr>\n",
       "      <th>1</th>\n",
       "      <td>2015-12-20</td>\n",
       "      <td>1.35</td>\n",
       "      <td>54,876.98</td>\n",
       "      <td>2015</td>\n",
       "      <td>Albany</td>\n",
       "    </tr>\n",
       "    <tr>\n",
       "      <th>2</th>\n",
       "      <td>2015-12-13</td>\n",
       "      <td>0.93</td>\n",
       "      <td>118,220.22</td>\n",
       "      <td>2015</td>\n",
       "      <td>Albany</td>\n",
       "    </tr>\n",
       "    <tr>\n",
       "      <th>3</th>\n",
       "      <td>2015-12-06</td>\n",
       "      <td>1.08</td>\n",
       "      <td>78,992.15</td>\n",
       "      <td>2015</td>\n",
       "      <td>Albany</td>\n",
       "    </tr>\n",
       "    <tr>\n",
       "      <th>4</th>\n",
       "      <td>2015-11-29</td>\n",
       "      <td>1.28</td>\n",
       "      <td>51,039.60</td>\n",
       "      <td>2015</td>\n",
       "      <td>Albany</td>\n",
       "    </tr>\n",
       "  </tbody>\n",
       "</table>\n",
       "</div>"
      ],
      "text/plain": [
       "         Date  AveragePrice  Total Volume  year  region\n",
       "0  2015-12-27          1.33     64,236.62  2015  Albany\n",
       "1  2015-12-20          1.35     54,876.98  2015  Albany\n",
       "2  2015-12-13          0.93    118,220.22  2015  Albany\n",
       "3  2015-12-06          1.08     78,992.15  2015  Albany\n",
       "4  2015-11-29          1.28     51,039.60  2015  Albany"
      ]
     },
     "execution_count": 19,
     "metadata": {},
     "output_type": "execute_result"
    }
   ],
   "source": [
    "df1.head()"
   ]
  },
  {
   "cell_type": "code",
   "execution_count": 14,
   "id": "fb265a14-dae2-451a-85a3-e31768f72747",
   "metadata": {},
   "outputs": [
    {
     "data": {
      "text/html": [
       "<div>\n",
       "<style scoped>\n",
       "    .dataframe tbody tr th:only-of-type {\n",
       "        vertical-align: middle;\n",
       "    }\n",
       "\n",
       "    .dataframe tbody tr th {\n",
       "        vertical-align: top;\n",
       "    }\n",
       "\n",
       "    .dataframe thead th {\n",
       "        text-align: right;\n",
       "    }\n",
       "</style>\n",
       "<table border=\"1\" class=\"dataframe\">\n",
       "  <thead>\n",
       "    <tr style=\"text-align: right;\">\n",
       "      <th></th>\n",
       "      <th>type</th>\n",
       "    </tr>\n",
       "  </thead>\n",
       "  <tbody>\n",
       "    <tr>\n",
       "      <th>0</th>\n",
       "      <td>orgânico</td>\n",
       "    </tr>\n",
       "    <tr>\n",
       "      <th>1</th>\n",
       "      <td>convencional</td>\n",
       "    </tr>\n",
       "    <tr>\n",
       "      <th>2</th>\n",
       "      <td>convencional</td>\n",
       "    </tr>\n",
       "    <tr>\n",
       "      <th>3</th>\n",
       "      <td>orgânico</td>\n",
       "    </tr>\n",
       "    <tr>\n",
       "      <th>4</th>\n",
       "      <td>orgânico</td>\n",
       "    </tr>\n",
       "  </tbody>\n",
       "</table>\n",
       "</div>"
      ],
      "text/plain": [
       "           type\n",
       "0      orgânico\n",
       "1  convencional\n",
       "2  convencional\n",
       "3      orgânico\n",
       "4      orgânico"
      ]
     },
     "execution_count": 14,
     "metadata": {},
     "output_type": "execute_result"
    }
   ],
   "source": [
    "df2.head()"
   ]
  },
  {
   "cell_type": "markdown",
   "id": "10d16294",
   "metadata": {},
   "source": [
    "(a) A quantidade de abacates do tipo convecional e do tipo orgânico."
   ]
  },
  {
   "cell_type": "code",
   "execution_count": null,
   "id": "14ca2feb",
   "metadata": {},
   "outputs": [],
   "source": [
    "df1.merge(df2[[, how=\"outer\", on=\""
   ]
  },
  {
   "cell_type": "markdown",
   "id": "58b8d5f2",
   "metadata": {},
   "source": [
    "\n",
    "(b) A quantidade de registros (linhas) de abacates vendidos para cada região ordenada da maior venda para a menor."
   ]
  },
  {
   "cell_type": "code",
   "execution_count": null,
   "id": "704b1308",
   "metadata": {},
   "outputs": [],
   "source": []
  },
  {
   "cell_type": "markdown",
   "id": "e676c9e4",
   "metadata": {},
   "source": [
    "(c) Para que todos os labels das colunas fiquem padronizados, renomeie aqueles que estão iniciando em letra minúscula para que iniciem em letra maiúscula, trocando espaço por _ e adicionando _ como separação de texto."
   ]
  },
  {
   "cell_type": "code",
   "execution_count": null,
   "id": "e6eb7fd4",
   "metadata": {},
   "outputs": [],
   "source": []
  },
  {
   "cell_type": "markdown",
   "id": "45fb0e66",
   "metadata": {},
   "source": [
    "(d) Essa dado possui duplicados? Se sim, remova-os do dataset."
   ]
  },
  {
   "cell_type": "code",
   "execution_count": null,
   "id": "f6ddc02a",
   "metadata": {},
   "outputs": [],
   "source": []
  },
  {
   "cell_type": "markdown",
   "id": "0f484a3c",
   "metadata": {},
   "source": [
    "(e) Retire dos dados a região 'TotalUS'"
   ]
  },
  {
   "cell_type": "code",
   "execution_count": null,
   "id": "9e35b8e4",
   "metadata": {},
   "outputs": [],
   "source": []
  },
  {
   "cell_type": "markdown",
   "id": "91367a13",
   "metadata": {},
   "source": [
    "(g) Apresente as regiões que mais venderam abacate em todo o período em ordem decrescente."
   ]
  },
  {
   "cell_type": "code",
   "execution_count": null,
   "id": "8b0d4fb7",
   "metadata": {},
   "outputs": [],
   "source": []
  },
  {
   "cell_type": "markdown",
   "id": "6cc5df35",
   "metadata": {},
   "source": [
    "(h) Calcule o volume total de abacates vendidos para cada tipo e ano."
   ]
  },
  {
   "cell_type": "code",
   "execution_count": null,
   "id": "bc3b2aa8",
   "metadata": {},
   "outputs": [],
   "source": []
  },
  {
   "cell_type": "markdown",
   "id": "7c3d71b9",
   "metadata": {},
   "source": [
    "(f) existe alguma região que foi a maior responsável pela queda na produção de 2018?"
   ]
  },
  {
   "cell_type": "code",
   "execution_count": null,
   "id": "49fdfb7d",
   "metadata": {},
   "outputs": [],
   "source": []
  },
  {
   "cell_type": "markdown",
   "id": "af47a0e8",
   "metadata": {},
   "source": [
    "(g) Qual cidade menos faturou com a venda de abacates?"
   ]
  },
  {
   "cell_type": "code",
   "execution_count": null,
   "id": "3761784a",
   "metadata": {},
   "outputs": [],
   "source": []
  },
  {
   "cell_type": "markdown",
   "id": "70de73df",
   "metadata": {},
   "source": [
    "### Problema 4\n",
    "\n",
    "Com base no dataset 'Video_Games_Sales.csv' responda:\n"
   ]
  },
  {
   "cell_type": "markdown",
   "id": "121c2716",
   "metadata": {},
   "source": [
    "\n",
    "(a) Quantos jogos existem em cada genero?\n"
   ]
  },
  {
   "cell_type": "code",
   "execution_count": null,
   "id": "403ee92a",
   "metadata": {},
   "outputs": [],
   "source": []
  },
  {
   "cell_type": "markdown",
   "id": "5f45c63c",
   "metadata": {},
   "source": [
    "(b) Temos duplicados nesses dados? E nulos?"
   ]
  },
  {
   "cell_type": "code",
   "execution_count": null,
   "id": "c19437c3",
   "metadata": {},
   "outputs": [],
   "source": []
  },
  {
   "cell_type": "markdown",
   "id": "d2be358c",
   "metadata": {},
   "source": [
    "(b) Quantos jogos de cada publisher receberam nota acima de 9 na avaliação dos usuarios?"
   ]
  },
  {
   "cell_type": "code",
   "execution_count": null,
   "id": "7df66316",
   "metadata": {},
   "outputs": [],
   "source": []
  },
  {
   "cell_type": "markdown",
   "id": "9da4e683",
   "metadata": {},
   "source": [
    "\n",
    "(c) Faça uma tabela que mostre o total vendido por ano por pais/globalmente de cada publisher? Você consegue observar algum padrão? Com se comportaram as vendas na América do Norte (NA) ao longo do tempo? O mesmo foi visto nos demais lugares? \n"
   ]
  },
  {
   "cell_type": "code",
   "execution_count": null,
   "id": "984598b0",
   "metadata": {},
   "outputs": [],
   "source": []
  },
  {
   "cell_type": "markdown",
   "id": "587015f7",
   "metadata": {},
   "source": [
    "\n",
    "(d) Qual foi jogo mais vendido na união européia? De que ano ele é e qual a editora?\n"
   ]
  },
  {
   "cell_type": "code",
   "execution_count": null,
   "id": "27d641fc",
   "metadata": {},
   "outputs": [],
   "source": []
  },
  {
   "cell_type": "markdown",
   "id": "215d1c33",
   "metadata": {},
   "source": [
    "\n",
    "(e) Quantos % os generos ['Racing', 'Sports', 'Shooter'] representam na base de dados? "
   ]
  },
  {
   "cell_type": "code",
   "execution_count": null,
   "id": "7156e461",
   "metadata": {},
   "outputs": [],
   "source": []
  },
  {
   "cell_type": "markdown",
   "id": "84126433",
   "metadata": {},
   "source": [
    "(f) Qual plataforma vendeu menos globalmente? obs: imprimir somente o nome"
   ]
  },
  {
   "cell_type": "code",
   "execution_count": null,
   "id": "3e1348d4",
   "metadata": {},
   "outputs": [],
   "source": []
  },
  {
   "cell_type": "markdown",
   "id": "6e8438cf",
   "metadata": {},
   "source": [
    "### Problema 5\n",
    "A pasta 'data/datasus' contém informações sobre casos de dengue e tabelas auxiliares. <br>\n",
    "\n",
    "| Tabela | Conteúdo |\n",
    "|--------|----------|\n",
    "| Dengue | Quantidade de casos por município |\n",
    "| Agua | Quantidade de residências em cada município por tipo o abastecimento de água |\n",
    "| InstalacoesSanitarias | Quantidade de residências em cada município por tipo de rede de esgoto |\n",
    "| Pib | PIB per capita de cada município |\n",
    "| Municipios | Relaciona o id_municipio com seu nome e estado |\n",
    "| Populacao | Quantidade de pessoas morando em áreas urbanas, rurais e população total por município |\n",
    "| Sexo | Quantidade de pessoas por sexo em cada município |\n",
    "\n",
    "(a) Calcular o número de casos de dengue por cada estado apresentando os dados em ordem decrescente.\n"
   ]
  },
  {
   "cell_type": "code",
   "execution_count": null,
   "id": "6731c8b8",
   "metadata": {},
   "outputs": [],
   "source": []
  },
  {
   "cell_type": "markdown",
   "id": "3c7cbb4e",
   "metadata": {},
   "source": [
    "(b) Utilizando o dataset InstalacoesSanitarias.csv, determine o número de pessoas que não possuem meio sanitário algum de descarte de dejetos por estado."
   ]
  },
  {
   "cell_type": "code",
   "execution_count": null,
   "id": "eca9c2cb",
   "metadata": {},
   "outputs": [],
   "source": []
  },
  {
   "cell_type": "markdown",
   "id": "be4886d4",
   "metadata": {},
   "source": [
    "(c) Crie uma coluna com a posição de ranking considerando o PIB. Os maiores PIB devem ter os menores valores de ranking."
   ]
  },
  {
   "cell_type": "code",
   "execution_count": null,
   "id": "16508a40",
   "metadata": {},
   "outputs": [],
   "source": []
  },
  {
   "cell_type": "markdown",
   "id": "9e1f355a",
   "metadata": {},
   "source": [
    "(d) Qual o PIB dos 5 municípios com mais casos de dengue e sua posição no ranking?"
   ]
  },
  {
   "cell_type": "code",
   "execution_count": null,
   "id": "61c84f99",
   "metadata": {},
   "outputs": [],
   "source": []
  }
 ],
 "metadata": {
  "kernelspec": {
   "display_name": "Python 3 (ipykernel)",
   "language": "python",
   "name": "python3"
  },
  "language_info": {
   "codemirror_mode": {
    "name": "ipython",
    "version": 3
   },
   "file_extension": ".py",
   "mimetype": "text/x-python",
   "name": "python",
   "nbconvert_exporter": "python",
   "pygments_lexer": "ipython3",
   "version": "3.8.12"
  }
 },
 "nbformat": 4,
 "nbformat_minor": 5
}
