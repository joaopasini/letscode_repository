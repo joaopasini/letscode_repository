{
 "cells": [
  {
   "cell_type": "code",
   "execution_count": 99,
   "id": "94bd53e7",
   "metadata": {},
   "outputs": [],
   "source": [
    "import numpy as np\n",
    "from numpy import pi"
   ]
  },
  {
   "cell_type": "markdown",
   "id": "78ceda5f",
   "metadata": {},
   "source": [
    "Questão #1\n",
    "\n",
    "Dado o array:\n",
    "\n",
    "arr = np.arange(50)\n",
    "\n",
    "Selecione a alternativa INCORRETA na utilização de filtros e máscaras neste Numpy array.\n",
    "\n",
    "Alternativas\n",
    "\n",
    "arr_atualizado = arr[arr % 2]\n",
    "\n",
    "print(arr_atualizado)\n",
    "\n",
    "arr_atualizado = arr[arr>5]\n",
    "\n",
    "print(arr_atualizado)\n",
    "\n",
    "arr_atualizado = arr[arr <= 10]\n",
    "\n",
    "print(arr_atualizado)\n",
    "\n",
    "arr_atualizado = arr[(arr != 1) | (arr != 3)]\n",
    "\n",
    "print(arr_atualizado)"
   ]
  },
  {
   "cell_type": "code",
   "execution_count": 4,
   "id": "94f002f6",
   "metadata": {},
   "outputs": [
    {
     "data": {
      "text/plain": [
       "array([ 0,  1,  2,  3,  4,  5,  6,  7,  8,  9, 10, 11, 12, 13, 14, 15, 16,\n",
       "       17, 18, 19, 20, 21, 22, 23, 24, 25, 26, 27, 28, 29, 30, 31, 32, 33,\n",
       "       34, 35, 36, 37, 38, 39, 40, 41, 42, 43, 44, 45, 46, 47, 48, 49])"
      ]
     },
     "execution_count": 4,
     "metadata": {},
     "output_type": "execute_result"
    }
   ],
   "source": [
    "arr = np.arange(50)\n",
    "arr"
   ]
  },
  {
   "cell_type": "code",
   "execution_count": 8,
   "id": "7b71b141",
   "metadata": {},
   "outputs": [
    {
     "name": "stdout",
     "output_type": "stream",
     "text": [
      "[ 0  1  2  3  4  5  6  7  8  9 10 11 12 13 14 15 16 17 18 19 20 21 22 23\n",
      " 24 25 26 27 28 29 30 31 32 33 34 35 36 37 38 39 40 41 42 43 44 45 46 47\n",
      " 48 49]\n"
     ]
    }
   ],
   "source": [
    "arr_atualizado = arr[(arr != 1) | (arr != 3)]\n",
    "\n",
    "print(arr_atualizado)"
   ]
  },
  {
   "cell_type": "markdown",
   "id": "2d141a26",
   "metadata": {},
   "source": [
    "Questão #2\n",
    "\n",
    "Agora, vamos explorar os arrays aleatórios e máscaras. Faça o que se pede:\n",
    "\n",
    "a) Crie um array aleatório de 15 itens entre 0 e 100;\n",
    "\n",
    "b) Qual o maior número do array?\n",
    "\n",
    "c) Qual a sua posição?\n",
    "\n",
    "d) Verifique quais números do array são maior que 10;\n",
    "\n",
    "e) Salve em uma nova lista apenas os itens entre 10 e 30."
   ]
  },
  {
   "cell_type": "code",
   "execution_count": 12,
   "id": "ecf4b85f",
   "metadata": {},
   "outputs": [
    {
     "data": {
      "text/plain": [
       "array([33, 58, 69, 34, 19, 33, 73, 85, 82, 64, 93, 15, 53, 53,  4])"
      ]
     },
     "execution_count": 12,
     "metadata": {},
     "output_type": "execute_result"
    }
   ],
   "source": [
    "arr1 = np.random.randint(101, size=15)\n",
    "arr1"
   ]
  },
  {
   "cell_type": "code",
   "execution_count": 18,
   "id": "11b4f28f",
   "metadata": {},
   "outputs": [
    {
     "data": {
      "text/plain": [
       "93"
      ]
     },
     "execution_count": 18,
     "metadata": {},
     "output_type": "execute_result"
    }
   ],
   "source": [
    "np.amax(arr1)"
   ]
  },
  {
   "cell_type": "code",
   "execution_count": 21,
   "id": "f7d72307",
   "metadata": {},
   "outputs": [
    {
     "data": {
      "text/plain": [
       "(array([10], dtype=int64),)"
      ]
     },
     "execution_count": 21,
     "metadata": {},
     "output_type": "execute_result"
    }
   ],
   "source": [
    "np.where(arr1==93)"
   ]
  },
  {
   "cell_type": "code",
   "execution_count": 22,
   "id": "71c0a985",
   "metadata": {},
   "outputs": [
    {
     "name": "stdout",
     "output_type": "stream",
     "text": [
      "[33 58 69 34 19 33 73 85 82 64 93 15 53 53]\n"
     ]
    }
   ],
   "source": [
    "print(arr1[arr1>10])"
   ]
  },
  {
   "cell_type": "code",
   "execution_count": 36,
   "id": "203ed2a4",
   "metadata": {},
   "outputs": [
    {
     "data": {
      "text/plain": [
       "(array([ 4, 11], dtype=int64),)"
      ]
     },
     "execution_count": 36,
     "metadata": {},
     "output_type": "execute_result"
    }
   ],
   "source": [
    "lista_10_30 = np.where(np.logical_and(arr1>= 10, arr1<= 30))\n",
    "lista_10_30"
   ]
  },
  {
   "cell_type": "markdown",
   "id": "65d233fd",
   "metadata": {},
   "source": [
    "Questão #3\n",
    "\n",
    "Nosso próximo foco serão as matrizes. Faça o que se pede:\n",
    "\n",
    "a) Gere uma matriz (3,2) com números linearmente espaçados entre 0 e 100 e intervalos de 20, usando o np.linspace();\n",
    "\n",
    "b) Gere uma matriz aleatória (5,2) com números entre 0 e 100;\n",
    "\n",
    "c) Crie um array com as dimensões apropriadas que, quando multiplicado pela matriz do item a), devolva essa mesma matriz. Use o método np.matmul()."
   ]
  },
  {
   "cell_type": "code",
   "execution_count": 118,
   "id": "0ada5161",
   "metadata": {},
   "outputs": [
    {
     "data": {
      "text/plain": [
       "array([[  0.,  20.],\n",
       "       [ 40.,  60.],\n",
       "       [ 80., 100.]])"
      ]
     },
     "execution_count": 118,
     "metadata": {},
     "output_type": "execute_result"
    }
   ],
   "source": [
    "rand_int = np.linspace(0,100,6).reshape(3,2)\n",
    "rand_int"
   ]
  },
  {
   "cell_type": "code",
   "execution_count": 108,
   "id": "0b4709a0",
   "metadata": {},
   "outputs": [
    {
     "data": {
      "text/plain": [
       "array([[68, 38],\n",
       "       [79, 80],\n",
       "       [34, 47],\n",
       "       [85, 71],\n",
       "       [48,  1]])"
      ]
     },
     "execution_count": 108,
     "metadata": {},
     "output_type": "execute_result"
    }
   ],
   "source": [
    "np.random.randint(101, size=(5,2))"
   ]
  },
  {
   "cell_type": "code",
   "execution_count": 120,
   "id": "1d66280d",
   "metadata": {},
   "outputs": [
    {
     "name": "stdout",
     "output_type": "stream",
     "text": [
      "[[1. 0.]\n",
      " [0. 1.]]\n",
      "[[  0.  20.]\n",
      " [ 40.  60.]\n",
      " [ 80. 100.]]\n"
     ]
    }
   ],
   "source": [
    "array = np.identity(2)\n",
    "print(array)\n",
    "print(np.matmul(rand_int, array))"
   ]
  },
  {
   "cell_type": "code",
   "execution_count": null,
   "id": "57aa3e1b",
   "metadata": {},
   "outputs": [],
   "source": []
  }
 ],
 "metadata": {
  "kernelspec": {
   "display_name": "Python 3",
   "language": "python",
   "name": "python3"
  },
  "language_info": {
   "codemirror_mode": {
    "name": "ipython",
    "version": 3
   },
   "file_extension": ".py",
   "mimetype": "text/x-python",
   "name": "python",
   "nbconvert_exporter": "python",
   "pygments_lexer": "ipython3",
   "version": "3.8.8"
  }
 },
 "nbformat": 4,
 "nbformat_minor": 5
}
