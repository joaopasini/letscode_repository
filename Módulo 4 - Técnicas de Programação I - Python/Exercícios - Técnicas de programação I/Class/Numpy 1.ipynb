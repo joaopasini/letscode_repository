{
 "cells": [
  {
   "cell_type": "markdown",
   "id": "78ceda5f",
   "metadata": {},
   "source": [
    "Questão #1\n",
    "\n",
    "Dado o array:\n",
    "\n",
    "arr = np.arange(50)\n",
    "\n",
    "Selecione a alternativa INCORRETA na utilização de filtros e máscaras neste Numpy array.\n",
    "\n",
    "Alternativas\n",
    "arr_atualizado = arr[arr % 2]\n",
    "print(arr_atualizado)\n",
    "\n",
    "arr_atualizado = arr[arr>5]\n",
    "print(arr_atualizado)\n",
    "\n",
    "arr_atualizado = arr[arr <= 10]\n",
    "print(arr_atualizado)\n",
    "\n",
    "arr_atualizado = arr[(arr != 1) | (arr != 3)]\n",
    "print(arr_atualizado)"
   ]
  },
  {
   "cell_type": "code",
   "execution_count": null,
   "id": "94f002f6",
   "metadata": {},
   "outputs": [],
   "source": []
  },
  {
   "cell_type": "markdown",
   "id": "2d141a26",
   "metadata": {},
   "source": [
    "Questão #2\n",
    "\n",
    "Agora, vamos explorar os arrays aleatórios e máscaras. Faça o que se pede:\n",
    "\n",
    "a) Crie um array aleatório de 15 itens entre 0 e 100;\n",
    "\n",
    "b) Qual o maior número do array?\n",
    "\n",
    "c) Qual a sua posição?\n",
    "\n",
    "d) Verifique quais números do array são maior que 10;\n",
    "\n",
    "e) Salve em uma nova lista apenas os itens entre 10 e 30."
   ]
  },
  {
   "cell_type": "code",
   "execution_count": null,
   "id": "ecf4b85f",
   "metadata": {},
   "outputs": [],
   "source": []
  },
  {
   "cell_type": "markdown",
   "id": "65d233fd",
   "metadata": {},
   "source": [
    "Questão #3\n",
    "\n",
    "Nosso próximo foco serão as matrizes. Faça o que se pede:\n",
    "\n",
    "a) Gere uma matriz (3,2) com números linearmente espaçados entre 0 e 100 e intervalos de 20, usando o np.linspace();\n",
    "\n",
    "b) Gere uma matriz aleatória (5,2) com números entre 0 e 100;\n",
    "\n",
    "c) Crie um array com as dimensões apropriadas que, quando multiplicado pela matriz do item a), devolva essa mesma matriz. Use o método np.matmul()."
   ]
  },
  {
   "cell_type": "code",
   "execution_count": null,
   "id": "0ada5161",
   "metadata": {},
   "outputs": [],
   "source": []
  }
 ],
 "metadata": {
  "kernelspec": {
   "display_name": "Python 3",
   "language": "python",
   "name": "python3"
  },
  "language_info": {
   "codemirror_mode": {
    "name": "ipython",
    "version": 3
   },
   "file_extension": ".py",
   "mimetype": "text/x-python",
   "name": "python",
   "nbconvert_exporter": "python",
   "pygments_lexer": "ipython3",
   "version": "3.8.8"
  }
 },
 "nbformat": 4,
 "nbformat_minor": 5
}
