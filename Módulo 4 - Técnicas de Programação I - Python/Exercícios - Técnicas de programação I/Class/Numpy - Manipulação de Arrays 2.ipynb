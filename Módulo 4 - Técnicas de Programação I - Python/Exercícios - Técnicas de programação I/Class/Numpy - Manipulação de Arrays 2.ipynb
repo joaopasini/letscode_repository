{
 "cells": [
  {
   "cell_type": "markdown",
   "id": "a19b77ae",
   "metadata": {},
   "source": [
    "Questão #1\n",
    "\n",
    "Printe os elementos dos seguintes dois vetores usando apenas um for:\n",
    "\n",
    "arr = np.array([[[1, 2, 3], [4, 5, 6]], [[7, 8, 9], [10, 11, 12]]])\n",
    "\n",
    "Depois, faça o mesmo usando numpy (usando a função nditer) e deixe um comentário sobre a diferença dos dois métodos.\n",
    "\n",
    "arr = np.array([[[1, 2, 3], [4, 5, 6]], [[7, 8, 9], [10, 11, 12]]])"
   ]
  },
  {
   "cell_type": "code",
   "execution_count": 2,
   "id": "e9036b5b",
   "metadata": {},
   "outputs": [],
   "source": [
    "import numpy as np"
   ]
  },
  {
   "cell_type": "code",
   "execution_count": 17,
   "id": "05e93f16",
   "metadata": {},
   "outputs": [
    {
     "name": "stdout",
     "output_type": "stream",
     "text": [
      "1\n",
      "2\n",
      "3\n",
      "4\n",
      "5\n",
      "6\n",
      "7\n",
      "8\n",
      "9\n",
      "10\n",
      "11\n",
      "12\n"
     ]
    }
   ],
   "source": [
    "arr = np.array([[[1, 2, 3], [4, 5, 6]], [[7, 8, 9], [10, 11, 12]]])\n",
    "for i in arr.flatten():\n",
    "    print(i)"
   ]
  },
  {
   "cell_type": "code",
   "execution_count": 19,
   "id": "6cfc45db",
   "metadata": {},
   "outputs": [
    {
     "name": "stdout",
     "output_type": "stream",
     "text": [
      "1\n",
      "2\n",
      "3\n",
      "4\n",
      "5\n",
      "6\n",
      "7\n",
      "8\n",
      "9\n",
      "10\n",
      "11\n",
      "12\n"
     ]
    }
   ],
   "source": [
    "arr = np.array([[[1, 2, 3], [4, 5, 6]], [[7, 8, 9], [10, 11, 12]]])\n",
    "for i in np.nditer(arr,order='c'):\n",
    "    print(i)"
   ]
  },
  {
   "cell_type": "markdown",
   "id": "81ad9e3c",
   "metadata": {},
   "source": [
    "Questão #2\n",
    "\n",
    "Peça para o usuário uma lista com as comidas favoritas dele, depois transforme isso em um objeto numpy. Agora transformado, elimine todas as comidas que começam com uma vogal. Mostre o resultado.\n",
    "\n",
    "Exemplo:\n",
    "\n",
    "Entrada: [maçã, uva, morango, melancia, acelga]\n",
    "\n",
    "Saída: [maçã, morango, melancia]"
   ]
  },
  {
   "cell_type": "code",
   "execution_count": 6,
   "id": "f9ab595e",
   "metadata": {},
   "outputs": [
    {
     "name": "stdout",
     "output_type": "stream",
     "text": [
      "Quais são suas comidas favoritas?\n"
     ]
    },
    {
     "name": "stdin",
     "output_type": "stream",
     "text": [
      "Digite suas comidas favoritas e 'fim' quando terminar. maca \n",
      "Digite suas comidas favoritas e 'fim' quando terminar. banana\n",
      "Digite suas comidas favoritas e 'fim' quando terminar. abacate\n",
      "Digite suas comidas favoritas e 'fim' quando terminar. mimosa\n",
      "Digite suas comidas favoritas e 'fim' quando terminar. uva\n",
      "Digite suas comidas favoritas e 'fim' quando terminar. abacate\n",
      "Digite suas comidas favoritas e 'fim' quando terminar. fim\n"
     ]
    },
    {
     "name": "stdout",
     "output_type": "stream",
     "text": [
      "['maca ' 'banana' 'mimosa']\n"
     ]
    }
   ],
   "source": [
    "print(\"Quais são suas comidas favoritas?\")\n",
    "comidas_favoritas = []\n",
    "\n",
    "resposta = input(\"Digite suas comidas favoritas e 'fim' quando terminar.\")\n",
    "while resposta != \"fim\":\n",
    "    comidas_favoritas.append(resposta)\n",
    "    resposta = input(\"Digite suas comidas favoritas e 'fim' quando terminar.\")\n",
    "    \n",
    "comidas_favoritas = np.array(comidas_favoritas)\n",
    "\n",
    "vogais = [\"a\", 'e','i','o','u']\n",
    "\n",
    "letras_iniciais = np.char.rjust(comidas_favoritas, 1)\n",
    "indices_para_excluir = np.where(np.in1d(letras_iniciais, vogais))\n",
    "comidas_favoritas = np.delete(comidas_favoritas, indices_para_excluir)\n",
    "\n",
    "print(comidas_favoritas)"
   ]
  },
  {
   "cell_type": "markdown",
   "id": "7c90cbcc",
   "metadata": {},
   "source": [
    "Questão #3\n",
    "\n",
    "Imprima a dimensão dos seguintes objetos numpy:\n",
    "\n",
    "a = np.array(2)\n",
    "\n",
    "b = np.array([1, 2, 3, 4, 5])\n",
    "\n",
    "c = np.array([[1, 2, 3], [4, 5, 6]])\n",
    "\n",
    "d = np.array([[[1, 2, 3], [4, 5, 6]], [[7, 8, 9], [10, 11, 12]]])"
   ]
  },
  {
   "cell_type": "code",
   "execution_count": 5,
   "id": "77b00e15",
   "metadata": {},
   "outputs": [
    {
     "data": {
      "text/plain": [
       "()"
      ]
     },
     "execution_count": 5,
     "metadata": {},
     "output_type": "execute_result"
    }
   ],
   "source": [
    "a = np.array(2)\n",
    "a.shape"
   ]
  },
  {
   "cell_type": "code",
   "execution_count": 6,
   "id": "c8a8b683",
   "metadata": {},
   "outputs": [
    {
     "data": {
      "text/plain": [
       "(5,)"
      ]
     },
     "execution_count": 6,
     "metadata": {},
     "output_type": "execute_result"
    }
   ],
   "source": [
    "b = np.array([1, 2, 3, 4, 5])\n",
    "b.shape"
   ]
  },
  {
   "cell_type": "code",
   "execution_count": 7,
   "id": "506e77c0",
   "metadata": {},
   "outputs": [
    {
     "data": {
      "text/plain": [
       "(2, 3)"
      ]
     },
     "execution_count": 7,
     "metadata": {},
     "output_type": "execute_result"
    }
   ],
   "source": [
    "c = np.array([[1, 2, 3], [4, 5, 6]])\n",
    "c.shape"
   ]
  },
  {
   "cell_type": "code",
   "execution_count": 10,
   "id": "8aabcd2c",
   "metadata": {},
   "outputs": [
    {
     "data": {
      "text/plain": [
       "(2, 2, 3)"
      ]
     },
     "execution_count": 10,
     "metadata": {},
     "output_type": "execute_result"
    }
   ],
   "source": [
    "d = np.array([[[1, 2, 3], [4, 5, 6]], [[7, 8, 9], [10, 11, 12]]])\n",
    "d.shape"
   ]
  },
  {
   "cell_type": "markdown",
   "id": "6a2ca4a0",
   "metadata": {},
   "source": [
    "Questão #4\n",
    "\n",
    "Transforme o array em uma matriz 4 por 3 utilizando numpy.\n",
    "\n",
    "arr = [1, 2, 3, 4, 'Amelia, 'Bruna, 'Carolina', 'Débora', True, False, False, True]\n",
    "\n",
    "Depois, faça o mesmo para uma matriz 3 por 4."
   ]
  },
  {
   "cell_type": "code",
   "execution_count": 8,
   "id": "006e88c3",
   "metadata": {},
   "outputs": [
    {
     "data": {
      "text/plain": [
       "array([['1', '2', '3'],\n",
       "       ['4', 'Amelia', 'Bruna'],\n",
       "       ['Carolina', 'Débora', 'True'],\n",
       "       ['False', 'False', 'True']], dtype='<U21')"
      ]
     },
     "execution_count": 8,
     "metadata": {},
     "output_type": "execute_result"
    }
   ],
   "source": [
    "arr = [1, 2, 3, 4, 'Amelia', 'Bruna', 'Carolina', 'Débora', True, False, False, True]\n",
    "np.resize(arr,(4,3))"
   ]
  },
  {
   "cell_type": "code",
   "execution_count": 9,
   "id": "b23639ee-7f81-4539-9601-235c9b575af3",
   "metadata": {},
   "outputs": [
    {
     "name": "stdout",
     "output_type": "stream",
     "text": [
      "[['1' '2' '3']\n",
      " ['4' 'Amelia' 'Bruna']\n",
      " ['Carolina' 'Débora' 'True']\n",
      " ['False' 'False' 'True']]\n"
     ]
    }
   ],
   "source": [
    "arr_4_por_3 = np.array(arr).reshape(4, 3)\n",
    "print(arr_4_por_3)"
   ]
  },
  {
   "cell_type": "code",
   "execution_count": 28,
   "id": "925a8ce8",
   "metadata": {},
   "outputs": [
    {
     "data": {
      "text/plain": [
       "array([['1', '2', '3', '4'],\n",
       "       ['Amelia', 'Bruna', 'Carolina', 'Débora'],\n",
       "       ['True', 'False', 'False', 'True']], dtype='<U11')"
      ]
     },
     "execution_count": 28,
     "metadata": {},
     "output_type": "execute_result"
    }
   ],
   "source": [
    "np.resize(arr,(3,4))"
   ]
  },
  {
   "cell_type": "code",
   "execution_count": null,
   "id": "fc4fbd77-ef9c-4b80-91cb-b3d0fa70d122",
   "metadata": {},
   "outputs": [],
   "source": [
    "arr_3_por_4 = np.array(arr).reshape(3, 4)\n",
    "print(arr_3_por_4)"
   ]
  },
  {
   "cell_type": "markdown",
   "id": "0a16a6ef",
   "metadata": {},
   "source": [
    "Questão #5\n",
    "\n",
    "Transforme o seguinte array em uma matriz 3D 3x3x3:\n",
    "\n",
    "arr = range(27)\n",
    "\n",
    "Deixe um comentário explicando o que significa uma matriz 3D."
   ]
  },
  {
   "cell_type": "code",
   "execution_count": 29,
   "id": "7d78ad55",
   "metadata": {},
   "outputs": [
    {
     "data": {
      "text/plain": [
       "array([[[ 0,  1,  2],\n",
       "        [ 3,  4,  5],\n",
       "        [ 6,  7,  8]],\n",
       "\n",
       "       [[ 9, 10, 11],\n",
       "        [12, 13, 14],\n",
       "        [15, 16, 17]],\n",
       "\n",
       "       [[18, 19, 20],\n",
       "        [21, 22, 23],\n",
       "        [24, 25, 26]]])"
      ]
     },
     "execution_count": 29,
     "metadata": {},
     "output_type": "execute_result"
    }
   ],
   "source": [
    "arr = range(27)\n",
    "np.resize(arr,(3,3,3))\n",
    "#Matriz 3d é uma coleção de matrizes 2d"
   ]
  },
  {
   "cell_type": "markdown",
   "id": "dc361881",
   "metadata": {},
   "source": [
    "Questão #6\n",
    "\n",
    "Tente transformar o seguinte array em uma matriz 3x3x3\n",
    "\n",
    "arr = [1, 2, 3, 4, 5, 6, 7, 8]\n",
    "\n",
    "Funciona? Se sim, explique o motivo. Se não, explique o erro."
   ]
  },
  {
   "cell_type": "code",
   "execution_count": 30,
   "id": "bb8f69e4",
   "metadata": {},
   "outputs": [
    {
     "ename": "SyntaxError",
     "evalue": "invalid syntax (<ipython-input-30-9776f8112f6f>, line 2)",
     "output_type": "error",
     "traceback": [
      "\u001b[1;36m  File \u001b[1;32m\"<ipython-input-30-9776f8112f6f>\"\u001b[1;36m, line \u001b[1;32m2\u001b[0m\n\u001b[1;33m    np.resize(arr,(3x3x3))\u001b[0m\n\u001b[1;37m                    ^\u001b[0m\n\u001b[1;31mSyntaxError\u001b[0m\u001b[1;31m:\u001b[0m invalid syntax\n"
     ]
    }
   ],
   "source": [
    "arr = [1, 2, 3, 4, 5, 6, 7, 8]\n",
    "np.resize(arr,(3x3x3))"
   ]
  },
  {
   "cell_type": "markdown",
   "id": "d8eeb431",
   "metadata": {},
   "source": [
    "Questão #7\n",
    "\n",
    "Percorra o seguinte array utilizando for encaixado:\n",
    "\n",
    "arr = [[[1, 2], [3, 4]], [[5, 6], [7, 8]]]\n",
    "\n",
    "Agora, percorra o mesmo array utilizando a função nditer de numpy."
   ]
  },
  {
   "cell_type": "code",
   "execution_count": 32,
   "id": "3bd1b1e2",
   "metadata": {},
   "outputs": [
    {
     "name": "stdout",
     "output_type": "stream",
     "text": [
      "[[1, 2], [3, 4]]\n",
      "[[5, 6], [7, 8]]\n"
     ]
    }
   ],
   "source": [
    "arr = [[[1, 2], [3, 4]], [[5, 6], [7, 8]]]\n",
    "for i in arr:\n",
    "    print(i)"
   ]
  },
  {
   "cell_type": "code",
   "execution_count": 38,
   "id": "f3b7a283",
   "metadata": {},
   "outputs": [
    {
     "name": "stdout",
     "output_type": "stream",
     "text": [
      "(array(1), array(5))\n",
      "(array(2), array(6))\n",
      "(array(3), array(7))\n",
      "(array(4), array(8))\n"
     ]
    }
   ],
   "source": [
    "arr = [[[1, 2], [3, 4]], [[5, 6], [7, 8]]]\n",
    "for i in np.nditer(arr):\n",
    "    print(i)"
   ]
  },
  {
   "cell_type": "markdown",
   "id": "6c1f7ccd",
   "metadata": {},
   "source": [
    "Questão #8\n",
    "\n",
    "Percorra os indexes do seguinte array utilizando for encaixado:\n",
    "\n",
    "arr = [[[1, 2], [3, 4]], [[5, 6], [7, 8]]]\n",
    "\n",
    "Agora faça o mesmo trabalho utilizando a função ndenumerate."
   ]
  },
  {
   "cell_type": "code",
   "execution_count": 42,
   "id": "abedaed0",
   "metadata": {},
   "outputs": [
    {
     "name": "stdout",
     "output_type": "stream",
     "text": [
      "0 [[1, 2], [3, 4]]\n",
      "1 [[5, 6], [7, 8]]\n"
     ]
    }
   ],
   "source": [
    "arr = [[[1, 2], [3, 4]], [[5, 6], [7, 8]]]\n",
    "for index in range(len(arr)):\n",
    "    print(index, arr[index])"
   ]
  },
  {
   "cell_type": "code",
   "execution_count": 43,
   "id": "b2bb4d24",
   "metadata": {},
   "outputs": [
    {
     "name": "stdout",
     "output_type": "stream",
     "text": [
      "0 [[1, 2], [3, 4]]\n",
      "1 [[5, 6], [7, 8]]\n"
     ]
    }
   ],
   "source": [
    "arr = [[[1, 2], [3, 4]], [[5, 6], [7, 8]]]\n",
    "for index, arr in enumerate(arr, start=0): \n",
    "    print(index,arr)"
   ]
  },
  {
   "cell_type": "markdown",
   "id": "1527ec9b",
   "metadata": {},
   "source": [
    "Questão #9\n",
    "\n",
    "Junte os dois seguintes arrays na horizontal:\n",
    "\n",
    "arr1 = [1, 2, 3]\n",
    "\n",
    "arr2 = [4, 5, 6]\n",
    "\n",
    "Depois, os junte verticalmente."
   ]
  },
  {
   "cell_type": "code",
   "execution_count": 46,
   "id": "e9af526e",
   "metadata": {},
   "outputs": [
    {
     "data": {
      "text/plain": [
       "[1, 2, 3, 4, 5, 6]"
      ]
     },
     "execution_count": 46,
     "metadata": {},
     "output_type": "execute_result"
    }
   ],
   "source": [
    "arr1 = [1, 2, 3]\n",
    "\n",
    "arr2 = [4, 5, 6]\n",
    "\n",
    "joinedlist = arr1+arr2\n",
    "joinedlist"
   ]
  },
  {
   "cell_type": "code",
   "execution_count": 48,
   "id": "32cb9a04",
   "metadata": {},
   "outputs": [
    {
     "data": {
      "text/plain": [
       "array([[1, 2, 3],\n",
       "       [4, 5, 6]])"
      ]
     },
     "execution_count": 48,
     "metadata": {},
     "output_type": "execute_result"
    }
   ],
   "source": [
    "stacked_array = np.vstack((arr1,arr2))\n",
    "stacked_array"
   ]
  },
  {
   "cell_type": "markdown",
   "id": "76ee54bf",
   "metadata": {},
   "source": [
    "Questão #10\n",
    "\n",
    "DESAFIO: Utilizando manipulação de arrays, ache os indexes do array cujo valor possua apenas 2 vogais no nome usando numpy.\n",
    "\n",
    "frutas = ['banana', 'morango, 'uva', 'pitaia', 'abacate', 'abacaxi', 'acerola', 'jenipapo', 'kiwi']"
   ]
  },
  {
   "cell_type": "code",
   "execution_count": 11,
   "id": "7950b010",
   "metadata": {},
   "outputs": [
    {
     "name": "stdout",
     "output_type": "stream",
     "text": [
      "[2 8]\n"
     ]
    }
   ],
   "source": [
    "frutas = np.array([\n",
    "    'banana',\n",
    "    'morango',\n",
    "    'uva',\n",
    "    'pitaia',\n",
    "    'abacate',\n",
    "    'abacaxi',\n",
    "    'acerola',\n",
    "    'jenipapo',\n",
    "    'kiwi'\n",
    "])\n",
    "\n",
    "vogais = ['a', 'e', 'i', 'o', 'u']\n",
    "\n",
    "contagens = sum([np.char.count(frutas, vogal) for vogal in vogais])\n",
    "indices = np.where(contagens == 2)[0]\n",
    "\n",
    "print(indices)"
   ]
  },
  {
   "cell_type": "markdown",
   "id": "b2c76f92",
   "metadata": {},
   "source": [
    "Questão #11\n",
    "\n",
    "a) Tranforme o seguinte array 2D em dois arrays 2D:\n",
    "\n",
    "arr = [[1, 2], [3, 4], [5, 6], [7, 8]]\n",
    "\n",
    "b) Transforme o seguinte array em três arrays com apenas uma coluna:\n",
    "\n",
    "arr = [[1, 2, 3], [4, 5, 6], [7, 8, 9]]"
   ]
  },
  {
   "cell_type": "code",
   "execution_count": 3,
   "id": "35405bbf",
   "metadata": {},
   "outputs": [
    {
     "data": {
      "text/plain": [
       "[array([[1, 2],\n",
       "        [3, 4]]),\n",
       " array([[5, 6],\n",
       "        [7, 8]])]"
      ]
     },
     "execution_count": 3,
     "metadata": {},
     "output_type": "execute_result"
    }
   ],
   "source": [
    "arr = [[1, 2], [3, 4], [5, 6], [7, 8]]\n",
    "newarr = np.array_split(arr,2)\n",
    "newarr"
   ]
  },
  {
   "cell_type": "code",
   "execution_count": 5,
   "id": "c1d1dc9a-5409-4462-8023-392c5a4a98a2",
   "metadata": {},
   "outputs": [
    {
     "data": {
      "text/plain": [
       "[array([[1, 2],\n",
       "        [3, 4]]),\n",
       " array([[5, 6]]),\n",
       " array([[7, 8]])]"
      ]
     },
     "execution_count": 5,
     "metadata": {},
     "output_type": "execute_result"
    }
   ],
   "source": [
    "arr = [[1, 2], [3, 4], [5, 6], [7, 8]]\n",
    "newarr2 = np.array_split(arr,3)\n",
    "newarr2"
   ]
  },
  {
   "cell_type": "markdown",
   "id": "99f9d45b",
   "metadata": {},
   "source": [
    "Questão #12\n",
    "\n",
    "DESAFIO: Utilizando manipulação de arrays, vamos seguir um conjunto de passos para organizar alguns dados. Teremos nesse seguinte array uma ordem que segue:\n",
    "\n",
    "[Nome do aluno, idade, 'gênero', signo, altura, nota do 1° semestre, nota do 2° bimestre, se está ou não inscrito no próximo ano da escola, nome do outro aluno, idade do outro aluno...]\n",
    "\n",
    "arr = ['Amélia', 13, 'F', 'peixes', 1.51, 9, 7, True, 'Bruno', 14, 'O', 'leão', 1.60, 4, 10, False, 'João', 14, 'M', 'escorpião', 1.58, 8, 9, True, 'Jordana', 13, 'F', 'escorpião', 1.72, 9, 9, False]\n",
    "\n",
    "a) Enumere os indexes de todas as informações que são do tipo string.\n",
    "\n",
    "b) Separe essas informações do objeto arr de forma que cada aluno tenha seu próprio array.\n",
    "\n",
    "c) Separe em duas colunas, a primeira com o nome, a idade, o gênero e o signo e a segunda com a altura, nota do primeiro bimestre, nota do segundo bimestre e se está ou não inscrito no próximo ano.\n",
    "\n",
    "d) Elimine o gênero de todos os arrays cujos alunos tem menos de 14 anos."
   ]
  },
  {
   "cell_type": "code",
   "execution_count": null,
   "id": "1c53942c",
   "metadata": {},
   "outputs": [],
   "source": []
  }
 ],
 "metadata": {
  "kernelspec": {
   "display_name": "Python 3 (ipykernel)",
   "language": "python",
   "name": "python3"
  },
  "language_info": {
   "codemirror_mode": {
    "name": "ipython",
    "version": 3
   },
   "file_extension": ".py",
   "mimetype": "text/x-python",
   "name": "python",
   "nbconvert_exporter": "python",
   "pygments_lexer": "ipython3",
   "version": "3.8.12"
  }
 },
 "nbformat": 4,
 "nbformat_minor": 5
}
