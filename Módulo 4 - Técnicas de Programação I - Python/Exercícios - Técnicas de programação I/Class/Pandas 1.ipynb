{
 "cells": [
  {
   "cell_type": "code",
   "execution_count": 1,
   "id": "4f003069",
   "metadata": {},
   "outputs": [],
   "source": [
    "import pandas as pd\n",
    "import numpy as np"
   ]
  },
  {
   "cell_type": "markdown",
   "id": "cdb38f8d",
   "metadata": {},
   "source": [
    "Questão #1\n",
    "\n",
    "\n",
    "Em um concurso público foram contabilizados os números de pessoas inscritas (até a data inicialmente estabelecida para a inscrição) segundo os níveis de escolaridade: fundamental completo, médio completo, superior completo e pós-graduação completa. Segue abaixo a tabela com os valores observados.\n",
    "\n",
    "    Nível de escolaridade\tInscritos\n",
    "\n",
    "    Fundamental completo\t451\n",
    "\n",
    "    Médio completo\t627\n",
    "\n",
    "    Superior completo\t292\n",
    "\n",
    "    Pós-graduação completa\t95\n",
    "\n",
    "Com base na tabela acima, crie uma Series com esses valores e calcule:\n",
    "\n",
    "(a) O número total de inscritos\n",
    "\n",
    "(b) Número inscritos que possuem, pelo menos, o superior completo.\n",
    "\n",
    "(c) Suponha que a inscrição foi prorrogada e, com isso, foi obtido um número adicional de inscrições: 68, 93, 22 e 0 inscritos a mais em cada uma das categorias de escolaridade apresentados na tabela acima (na mesma ordem). Assim, crie uma nova Series com esses valores.\n",
    "\n",
    "(d) Utilizando as duas Series que você tem, calcule o número total de inscritos após a prorrogação do período de inscrições."
   ]
  },
  {
   "cell_type": "code",
   "execution_count": 30,
   "id": "6ccc9c3c",
   "metadata": {},
   "outputs": [
    {
     "data": {
      "text/plain": [
       "1465"
      ]
     },
     "execution_count": 30,
     "metadata": {},
     "output_type": "execute_result"
    }
   ],
   "source": [
    "inscritos = pd.Series([451,627,292,95],\n",
    "                      index=['Fundamental completo', \"Médio completo \", \"Superior completo\", \"Pós-graduação completa\"])\n",
    "                      \n",
    "inscritos.sum()"
   ]
  },
  {
   "cell_type": "code",
   "execution_count": 34,
   "id": "60cb86b9",
   "metadata": {},
   "outputs": [
    {
     "name": "stdout",
     "output_type": "stream",
     "text": [
      "387\n"
     ]
    }
   ],
   "source": [
    "print(inscritos[\"Superior completo\":].sum())"
   ]
  },
  {
   "cell_type": "code",
   "execution_count": 35,
   "id": "b9e632f3",
   "metadata": {},
   "outputs": [
    {
     "name": "stdout",
     "output_type": "stream",
     "text": [
      "Fundamental completo      68\n",
      "Médio completo            93\n",
      "Superior completo         22\n",
      "Pós-graduação completa     0\n",
      "dtype: int64\n"
     ]
    }
   ],
   "source": [
    "add = pd.Series([68,93,22,0],\n",
    "                index = ['Fundamental completo', \"Médio completo \", \"Superior completo\", \"Pós-graduação completa\"])\n",
    "print(add)"
   ]
  },
  {
   "cell_type": "code",
   "execution_count": 40,
   "id": "d50a885f",
   "metadata": {},
   "outputs": [
    {
     "name": "stdout",
     "output_type": "stream",
     "text": [
      "1648\n"
     ]
    }
   ],
   "source": [
    "inscritos_total = inscritos + add\n",
    "print(inscritos_total.sum())"
   ]
  },
  {
   "cell_type": "markdown",
   "id": "e44026c9",
   "metadata": {},
   "source": [
    "Questão #2\n",
    "\n",
    "Uma turma de cinco alunos foi submetida a uma avaliação e a nota de cada um dos alunos é apresentada na tabela abaixo:\n",
    "\n",
    "    Nome do Aluno\tNota\n",
    "    Wilfred\t2\n",
    "    Abbie\t7\n",
    "    Harry\t5.5\n",
    "    Julia\t10\n",
    "    Carrie\t6.2\n",
    "    \n",
    "(a) Crie uma Series com os valores da tabela acima.\n",
    "\n",
    "(b) Retorne o número de alunos que foram aprovados (considerando que a nota mínima para a aprovação é 7).\n",
    "\n",
    "(c) Qual foi a nota média da turma.\n",
    "\n",
    "(d) Obtenha o nome dos alunos que tiraram notas acima da média da turma."
   ]
  },
  {
   "cell_type": "code",
   "execution_count": 42,
   "id": "9fcfc0e4",
   "metadata": {},
   "outputs": [
    {
     "data": {
      "text/plain": [
       "Wilfred     2.0\n",
       "Abbie       7.0\n",
       "Harry       5.5\n",
       "Julia      10.0\n",
       "Carrie      6.2\n",
       "dtype: float64"
      ]
     },
     "execution_count": 42,
     "metadata": {},
     "output_type": "execute_result"
    }
   ],
   "source": [
    "notas = pd.Series([2,7,5.5,10,6.2], \n",
    "                 index=[\"Wilfred\",\"Abbie\", \"Harry\", \"Julia\", \"Carrie\"])\n",
    "notas"
   ]
  },
  {
   "cell_type": "code",
   "execution_count": 43,
   "id": "824fa02b",
   "metadata": {},
   "outputs": [
    {
     "name": "stdout",
     "output_type": "stream",
     "text": [
      "1\n"
     ]
    }
   ],
   "source": [
    "print(notas[notas>7].count())"
   ]
  },
  {
   "cell_type": "code",
   "execution_count": 44,
   "id": "8ce86a5e",
   "metadata": {},
   "outputs": [
    {
     "name": "stdout",
     "output_type": "stream",
     "text": [
      "6.14\n"
     ]
    }
   ],
   "source": [
    "print(notas.mean())"
   ]
  },
  {
   "cell_type": "code",
   "execution_count": 53,
   "id": "97fae415",
   "metadata": {},
   "outputs": [
    {
     "name": "stdout",
     "output_type": "stream",
     "text": [
      "Index(['Abbie', 'Julia', 'Carrie'], dtype='object')\n",
      "Abbie,Julia,Carrie\n"
     ]
    }
   ],
   "source": [
    "print(notas[notas>notas.mean()].index) \n",
    "\n",
    "print(\",\".join(list(notas[notas>notas.mean()].index)))\n"
   ]
  },
  {
   "cell_type": "markdown",
   "id": "a7adb32d",
   "metadata": {},
   "source": [
    "Questão #3\n",
    "\n",
    "Crie um objeto DataFrame que contenha os dados da tabela abaixo, os quais se referem ao peso, altura e idade de cinco pessoas:\n",
    "\n",
    "    Peso (kg)\tAltura (cm)\tIdade\n",
    "    \n",
    "    72\t180\t31\n",
    "    \n",
    "    80\t170\t21\n",
    "    \n",
    "    60\t175\t16\n",
    "    \n",
    "    90\t174\t28\n",
    "    \n",
    "    100\t185\t23\n",
    "    \n",
    "Com base no DataFrame criado, realize o que pedido nos itens abaixo:\n",
    "\n",
    "(a) Visualize apenas os dados da coluna que contém a altura das pessoas.\n",
    "\n",
    "(b) Obtenha a idade média das pessoas.\n",
    "\n",
    "(c) Obtenha os dados das pessoas que estão abaixo da altura média.\n",
    "\n",
    "(d) Crie um nova coluna no DataFrame que contenha o IMC (Índice de Massa Corporal) de cada pessoa.\n",
    "\n",
    "(e) Remova a coluna que contém a idade das pessoas.\n",
    "\n",
    "(f) Salve esses dados do DataFrame em um arquivo csv."
   ]
  },
  {
   "cell_type": "code",
   "execution_count": 58,
   "id": "53e882a2",
   "metadata": {},
   "outputs": [
    {
     "data": {
      "text/html": [
       "<div>\n",
       "<style scoped>\n",
       "    .dataframe tbody tr th:only-of-type {\n",
       "        vertical-align: middle;\n",
       "    }\n",
       "\n",
       "    .dataframe tbody tr th {\n",
       "        vertical-align: top;\n",
       "    }\n",
       "\n",
       "    .dataframe thead th {\n",
       "        text-align: right;\n",
       "    }\n",
       "</style>\n",
       "<table border=\"1\" class=\"dataframe\">\n",
       "  <thead>\n",
       "    <tr style=\"text-align: right;\">\n",
       "      <th></th>\n",
       "      <th>Peso(kg)</th>\n",
       "      <th>Altura(cm)</th>\n",
       "      <th>Idade</th>\n",
       "    </tr>\n",
       "  </thead>\n",
       "  <tbody>\n",
       "    <tr>\n",
       "      <th>0</th>\n",
       "      <td>72</td>\n",
       "      <td>180</td>\n",
       "      <td>31</td>\n",
       "    </tr>\n",
       "    <tr>\n",
       "      <th>1</th>\n",
       "      <td>80</td>\n",
       "      <td>170</td>\n",
       "      <td>21</td>\n",
       "    </tr>\n",
       "    <tr>\n",
       "      <th>2</th>\n",
       "      <td>60</td>\n",
       "      <td>175</td>\n",
       "      <td>16</td>\n",
       "    </tr>\n",
       "    <tr>\n",
       "      <th>3</th>\n",
       "      <td>90</td>\n",
       "      <td>174</td>\n",
       "      <td>28</td>\n",
       "    </tr>\n",
       "    <tr>\n",
       "      <th>4</th>\n",
       "      <td>100</td>\n",
       "      <td>185</td>\n",
       "      <td>23</td>\n",
       "    </tr>\n",
       "  </tbody>\n",
       "</table>\n",
       "</div>"
      ],
      "text/plain": [
       "   Peso(kg)  Altura(cm)  Idade\n",
       "0        72         180     31\n",
       "1        80         170     21\n",
       "2        60         175     16\n",
       "3        90         174     28\n",
       "4       100         185     23"
      ]
     },
     "execution_count": 58,
     "metadata": {},
     "output_type": "execute_result"
    }
   ],
   "source": [
    "pessoas = {\"Peso(kg)\": [72,80,60,90,100],\n",
    "            \"Altura(cm)\": [180,170,175,174,185],\n",
    "             \"Idade\":[31,21,16,28,23]}\n",
    "df = pd.DataFrame(pessoas)\n",
    "df"
   ]
  },
  {
   "cell_type": "code",
   "execution_count": 60,
   "id": "401f92bb",
   "metadata": {},
   "outputs": [
    {
     "data": {
      "text/plain": [
       "0    180\n",
       "1    170\n",
       "2    175\n",
       "3    174\n",
       "4    185\n",
       "Name: Altura(cm), dtype: int64"
      ]
     },
     "execution_count": 60,
     "metadata": {},
     "output_type": "execute_result"
    }
   ],
   "source": [
    "df[\"Altura(cm)\"]"
   ]
  },
  {
   "cell_type": "code",
   "execution_count": null,
   "id": "9ecb9061",
   "metadata": {},
   "outputs": [],
   "source": [
    "df[]"
   ]
  },
  {
   "cell_type": "code",
   "execution_count": null,
   "id": "1b8f11be",
   "metadata": {},
   "outputs": [],
   "source": []
  },
  {
   "cell_type": "code",
   "execution_count": null,
   "id": "d1152d6e",
   "metadata": {},
   "outputs": [],
   "source": []
  },
  {
   "cell_type": "code",
   "execution_count": null,
   "id": "ec1079e7",
   "metadata": {},
   "outputs": [],
   "source": []
  },
  {
   "cell_type": "markdown",
   "id": "ce7c1e97",
   "metadata": {},
   "source": [
    "Questão #4\n",
    "\n",
    "Carregue, em um objeto DataFrame, o arquivo CSV que você salvou no item (f) da questão anterior. Em seguida,\n",
    "\n",
    "(a) Crie uma nova coluna que contenha o nome das pessoas (sinta-se à vontade para atribuir os nomes que preferir).\n",
    "\n",
    "(b) Defina a nova coluna criada (com os nomes) como o índice (index) do seu DataFrame.\n",
    "\n",
    "(c) Obtenha o nome das pessoas que são classificadas com Sobrepeso (IMC entre 25 e 29,9)."
   ]
  },
  {
   "cell_type": "code",
   "execution_count": null,
   "id": "f90eb3d1",
   "metadata": {},
   "outputs": [],
   "source": []
  },
  {
   "cell_type": "markdown",
   "id": "ed4edf39",
   "metadata": {},
   "source": [
    "Questão #5\n",
    "\n",
    "Carregue, em um objeto DataFrame, o mesmo dataset que você salvou na Questão 3. Em seguida,\n",
    "\n",
    "(a) Adicione uma nova coluna nesse DF chamada Classificação, que contenha a classificação de cada indivíduo, de acordo com o seu IMC. Para isso, consulte a tabela abaixo.\n",
    "\n",
    "    IMC\tClassificação\tObesidade (grau)\n",
    "    Menor que 18,5\tMagreza\t0\n",
    "    Entre 18,5 e 24,9\tNormal\t0\n",
    "    Entre 25,0 e 29,9\tSobrepeso\tI\n",
    "    Entre 30,0 e 39,9\tObesidade\tII\n",
    "    Maior que 40,0\tObesidade Grave\tIII\n",
    "    \n",
    "(b) Salve em DataFrame no formato xlsx."
   ]
  },
  {
   "cell_type": "code",
   "execution_count": null,
   "id": "64cbfc20",
   "metadata": {},
   "outputs": [],
   "source": []
  }
 ],
 "metadata": {
  "kernelspec": {
   "display_name": "Python 3",
   "language": "python",
   "name": "python3"
  },
  "language_info": {
   "codemirror_mode": {
    "name": "ipython",
    "version": 3
   },
   "file_extension": ".py",
   "mimetype": "text/x-python",
   "name": "python",
   "nbconvert_exporter": "python",
   "pygments_lexer": "ipython3",
   "version": "3.8.8"
  }
 },
 "nbformat": 4,
 "nbformat_minor": 5
}
