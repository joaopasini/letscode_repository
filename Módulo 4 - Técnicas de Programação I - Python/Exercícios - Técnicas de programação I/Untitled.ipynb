{
 "cells": [
  {
   "cell_type": "markdown",
   "id": "ef1f2981",
   "metadata": {},
   "source": [
    "## Exercícios"
   ]
  },
  {
   "cell_type": "code",
   "execution_count": 6,
   "id": "67ba25a7",
   "metadata": {},
   "outputs": [],
   "source": [
    "import numpy as np"
   ]
  },
  {
   "cell_type": "markdown",
   "id": "636a2644",
   "metadata": {},
   "source": [
    "1 - Selecione todos os valores ímpares do seguinte array:  <br>\n",
    "array = [1, 2, 3, 4, 5, 6, 7, 8, 9] <br>"
   ]
  },
  {
   "cell_type": "code",
   "execution_count": null,
   "id": "1ed88911",
   "metadata": {},
   "outputs": [],
   "source": [
    "array = np.array([1, 2, 3, 4, 5, 6, 7, 8, 9])\n",
    "array[array%2==1]"
   ]
  },
  {
   "cell_type": "markdown",
   "id": "760e49df",
   "metadata": {},
   "source": [
    "2 - Substitua os valores ímpares do seguinte array por 0:  <br>\n",
    "array = [1, 2, 3, 4, 5, 6, 7, 8, 9] <br>"
   ]
  },
  {
   "cell_type": "code",
   "execution_count": null,
   "id": "8e2eacc9",
   "metadata": {},
   "outputs": [],
   "source": [
    "# primeira forma de solução\n",
    "arr = np.array([1, 2, 3, 4, 5, 6, 7, 8, 9])\n",
    "[0 if i%2==1 else i for i in arr ]\n",
    "\n",
    "# segunda forma de solução\n",
    "arr[arr%2==1] = 0\n",
    "arr\n",
    "\n",
    "# terceira forma de solução\n",
    "np.where(arr % 2 == 1, 0, arr)"
   ]
  },
  {
   "cell_type": "markdown",
   "id": "79294cbe",
   "metadata": {},
   "source": [
    "3 - Considere o dataset da iris disponível em: \n",
    "url = 'https://archive.ics.uci.edu/ml/machine-learning-databases/iris/iris.data'<br> \n",
    "Nesse dataset temos as seguintes informações:<br> \n",
    "   * Coluna 1. sepal length em cm<br> \n",
    "   * Coluna 2. sepal width em cm<br> \n",
    "   * Coluna 3. petal length em cm<br> \n",
    "   * Coluna 4. petal width em cm<br> \n",
    "   * Coluna 5. classe: \n",
    "                -- Iris Setosa \n",
    "                -- Iris Versicolour \n",
    "                -- Iris Virginica \n",
    "                \n",
    "Utilizando o método `np.genfromtxt()`, importe as 4 primeiras colunas do dataset do íris e print as 10 primeiras linhas <br>"
   ]
  },
  {
   "cell_type": "code",
   "execution_count": 9,
   "id": "0f1b33e7",
   "metadata": {},
   "outputs": [
    {
     "data": {
      "text/plain": [
       "array([[5.1, 3.5, 1.4, 0.2],\n",
       "       [4.9, 3. , 1.4, 0.2],\n",
       "       [4.7, 3.2, 1.3, 0.2],\n",
       "       [4.6, 3.1, 1.5, 0.2],\n",
       "       [5. , 3.6, 1.4, 0.2],\n",
       "       [5.4, 3.9, 1.7, 0.4],\n",
       "       [4.6, 3.4, 1.4, 0.3],\n",
       "       [5. , 3.4, 1.5, 0.2],\n",
       "       [4.4, 2.9, 1.4, 0.2],\n",
       "       [4.9, 3.1, 1.5, 0.1]])"
      ]
     },
     "execution_count": 9,
     "metadata": {},
     "output_type": "execute_result"
    }
   ],
   "source": [
    "url = 'https://archive.ics.uci.edu/ml/machine-learning-databases/iris/iris.data'\n",
    "iris = np.genfromtxt(url, delimiter=',', dtype= 'float', usecols=[0,1,2,3])\n",
    "names = ('sepallength', 'sepalwidth', 'petallength', 'petalwidth', 'species')\n",
    "\n",
    "iris[:10]"
   ]
  },
  {
   "cell_type": "markdown",
   "id": "be9e17f7",
   "metadata": {},
   "source": [
    "4 - Calcule a média, mediana e desvio padrão da coluna sepallenght"
   ]
  },
  {
   "cell_type": "code",
   "execution_count": null,
   "id": "7d4d2e21",
   "metadata": {},
   "outputs": [],
   "source": [
    "# Input\n",
    "sepallength = np.genfromtxt(url, delimiter=',', dtype='float', usecols=[0])\n",
    "\n",
    "# Solution\n",
    "mu, med, sd = np.mean(sepallength), np.median(sepallength), np.std(sepallength)\n",
    "print(mu, med, sd)"
   ]
  },
  {
   "cell_type": "markdown",
   "id": "b165df73",
   "metadata": {},
   "source": [
    "5 - Filtre a matriz para conter apenas dados nos quais petallength (3ª coluna) > 1.5 e sepallength (1ª coluna) < 5.0"
   ]
  },
  {
   "cell_type": "code",
   "execution_count": null,
   "id": "46ca14a1",
   "metadata": {},
   "outputs": [],
   "source": [
    "condition = (iris[:,2] > 1.5) & (iris[:,0] < 5.0)\n",
    "iris[condition]"
   ]
  },
  {
   "cell_type": "markdown",
   "id": "d2bbcb48",
   "metadata": {},
   "source": [
    "6 - Esse dataset possui nans?"
   ]
  },
  {
   "cell_type": "code",
   "execution_count": null,
   "id": "94b771e9",
   "metadata": {},
   "outputs": [],
   "source": [
    "iris[np.isnan(iris)]"
   ]
  },
  {
   "cell_type": "markdown",
   "id": "18ea9d0e",
   "metadata": {},
   "source": [
    "7 - Crie uma coluna de volume sabendo que ele pode ser calculado por (pi x petallength x sepal_length^2)/3"
   ]
  },
  {
   "cell_type": "code",
   "execution_count": null,
   "id": "a5e6eaf9",
   "metadata": {},
   "outputs": [],
   "source": [
    "# Solução\n",
    "# Computa o volume\n",
    "sepallength = iris[:, 0].astype('float')\n",
    "petallength = iris[:, 2].astype('float')\n",
    "volume = np.pi * petallength * (sepallength**2)/3\n",
    "\n",
    "# Adiciona a segunda dimensão no vetor de volume\n",
    "# volume = volume[:, np.newaxis]\n",
    "volume = volume.reshape(-1,1)\n",
    "\n",
    "# Adiciona o vetor volume como coluna da matriz original\n",
    "out = np.hstack([iris, volume])\n",
    "\n",
    "# View\n",
    "out[:4]"
   ]
  },
  {
   "cell_type": "code",
   "execution_count": null,
   "id": "4c5066b3",
   "metadata": {},
   "outputs": [],
   "source": []
  },
  {
   "cell_type": "code",
   "execution_count": null,
   "id": "7dd51f4d",
   "metadata": {},
   "outputs": [],
   "source": []
  }
 ],
 "metadata": {
  "kernelspec": {
   "display_name": "Python 3",
   "language": "python",
   "name": "python3"
  },
  "language_info": {
   "codemirror_mode": {
    "name": "ipython",
    "version": 3
   },
   "file_extension": ".py",
   "mimetype": "text/x-python",
   "name": "python",
   "nbconvert_exporter": "python",
   "pygments_lexer": "ipython3",
   "version": "3.8.8"
  }
 },
 "nbformat": 4,
 "nbformat_minor": 5
}
