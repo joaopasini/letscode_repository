{
 "cells": [
  {
   "cell_type": "markdown",
   "metadata": {},
   "source": [
    "## Exercício prático\n",
    "\n",
    "Utilize o dataset de predição de câncer de pele para prever se a pinta/mancha é benigna ou maligna\n",
    "\n",
    "https://www.kaggle.com/datasets/fanconic/skin-cancer-malignant-vs-benign \n",
    "\n",
    "- Utilize a rede VGG16 (ou outra de sua preferência) como modelo pré-treinado e adicione algumas camadas no topo.\n",
    "- Utilize o ImageDataGenerator com o preprocess_input do VGG16  (ou outra de sua preferência).\n",
    "\n",
    "Data de entrega: 13/10"
   ]
  },
  {
   "cell_type": "code",
   "execution_count": null,
   "metadata": {},
   "outputs": [],
   "source": []
  }
 ],
 "metadata": {
  "kernelspec": {
   "display_name": "Python 3",
   "language": "python",
   "name": "python3"
  },
  "language_info": {
   "codemirror_mode": {
    "name": "ipython",
    "version": 3
   },
   "file_extension": ".py",
   "mimetype": "text/x-python",
   "name": "python",
   "nbconvert_exporter": "python",
   "pygments_lexer": "ipython3",
   "version": "3.8.8"
  },
  "vscode": {
   "interpreter": {
    "hash": "1261565a8ccd5b4ad93b20c472fc987b0a84707a6c736c0af02e90b535a463f0"
   }
  }
 },
 "nbformat": 4,
 "nbformat_minor": 2
}
