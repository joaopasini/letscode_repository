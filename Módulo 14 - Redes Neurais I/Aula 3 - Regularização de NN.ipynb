{
 "cells": [
  {
   "cell_type": "markdown",
   "metadata": {},
   "source": [
    "# Aula 3 Regularização e Problemas do Gradiente Descendente\n",
    "\n",
    "## Temas:\n",
    "- Problemas do gradiente (vanish e exploding)\n",
    "- Underfit e Overfit\n",
    "- Regularização de Redes Neurais"
   ]
  },
  {
   "cell_type": "markdown",
   "metadata": {},
   "source": [
    "## Problema do vanishing-gradient\n",
    "\n",
    "O problema do gradiente de fuga (vanishing gradient) é encontrado ao __treinar redes neurais profundas__, com métodos de aprendizado baseados em gradiente e backpropagation. Em tais métodos, durante cada iteração de treinamento, cada um dos pesos da rede neural recebe uma atualização proporcional à derivada parcial da função de custo em relação ao peso atual. O problema é que, em alguns casos, __o gradiente será muito pequeno, impedindo efetivamente que o peso altere seu valor__. Na pior das hipóteses, isso __pode impedir completamente o treinamento__ da rede neural. \n",
    "\n",
    "Por exemplo, a função tangente hiperbólica tem gradientes no intervalo -1 a 1 e a sigmóide de 0 à 1 e como o backpropagation calcula gradientes pela regra da cadeia isso tem o efeito de multiplicar n desses pequenos números para calcular gradientes das camadas iniciais em uma rede de n camadas, o que significa que o gradiente diminui exponencialmente enquanto as camadas iniciais treinam muito lentamente.\n",
    "\n",
    "O resultado é um aprendizado lento, especialmente das primeiras camadas da rede.\n",
    "\n",
    "[Wikipedia](https://en.wikipedia.org/wiki/Vanishing_gradient_problem)\n",
    "\n",
    "<center>\n",
    "<img src=https://i0.wp.com/neptune.ai/wp-content/uploads/Vanishing-and-Exploding-Gradients-in-Neural-Network-Models-Debugging-Monitoring-and-Fixing-Practical-Guide_7.png width=450 text=\"https://neptune.ai/blog/vanishing-and-exploding-gradients-debugging-monitoring-fixing\">\n",
    "\n",
    "\n",
    "<img src=https://i.stack.imgur.com/lVKg7.png text=https://stats.stackexchange.com/questions/432300/help-understanding-vanishing-and-exploding-gradients width=600>\n",
    "\n",
    "</center>\n",
    "\n",
    "$$w_j^{(i)} \\larr w_j^{(i)} - \\alpha \\frac{∂l}{∂w^{(i)}_{j}}$$\n",
    "\n",
    "$$ \\frac{∂l}{∂w^{(1)}_{1,1}}=\\frac{∂l}{∂o}⋅\\frac{∂o}{∂a^{(2)}_1}⋅\\frac{∂a^{(2)}_1}{∂a^{(1)}_1}⋅\\frac{∂a^{(1)}_1}{∂w^{(1)}_{1,1}}+\\frac{∂l}{∂o}⋅\\frac{∂o}{∂a^{(2)}_2}⋅\\frac{∂a^{(2)}_2}{∂a^{(1)}_1}⋅\\frac{∂a^{(1)}_1}{∂w^{(1)}_{1,1}} $$"
   ]
  },
  {
   "cell_type": "code",
   "execution_count": 1,
   "metadata": {},
   "outputs": [
    {
     "data": {
      "text/plain": [
       "2.6561398887587544e-05"
      ]
     },
     "execution_count": 1,
     "metadata": {},
     "output_type": "execute_result"
    }
   ],
   "source": [
    "# Suponha que o gradiente fosse 0.9 em uma rede com 100 camadas\n",
    "# ao multiplicar esse valor 100x temos\n",
    "0.9**100"
   ]
  },
  {
   "cell_type": "code",
   "execution_count": 2,
   "metadata": {},
   "outputs": [
    {
     "data": {
      "text/plain": [
       "1.9999734386011123"
      ]
     },
     "execution_count": 2,
     "metadata": {},
     "output_type": "execute_result"
    }
   ],
   "source": [
    "# novo peso = peso anterior - learning rate * gradiente\n",
    "novo_peso = 2.0 - 1 * (0.9**100)\n",
    "novo_peso"
   ]
  },
  {
   "cell_type": "markdown",
   "metadata": {},
   "source": [
    "Se o gradiente é muito pequeno, ele influenciará pouco na atualização dos pesos, impactando no tempo de aprendizagem.\n",
    "\n",
    "Como identificar vanishing gradient\n",
    "- os parâmetros das últimas camadas sobrem mudanças grandes enquanto as primeiras quase não mudam\n",
    "- o modelo demora para aprender e o treino para após poucas iterações \n",
    "- performance do modelo é ruim\n",
    "\n",
    "\n",
    "Soluções:\n",
    "\n",
    "- Diminuir o tamanho da rede neural\n",
    "- Utilizar outras funções de ativação como a ReLU\n",
    "- Long short-term memory Networks (LSTM)\n",
    "- Batch Normalization (BN)"
   ]
  },
  {
   "cell_type": "markdown",
   "metadata": {},
   "source": [
    "#### Exemplo de análise que podemos fazer para avaliar o vanishing gradient\n",
    "\n",
    "<center>\n",
    "<img src=https://machinelearningmastery.com/wp-content/uploads/2021/11/vanishing-plot-sigmoid.png width=500 text=\"https://machinelearningmastery.com/visualizing-the-vanishing-gradient-problem/\">\n",
    "</center>\n",
    "\n",
    "No gráfico temos os dados dos pesos de cada uma das 5 camadas (cores) com função de ativação sigmóide realizadas no treinamento de 100 epochs (eixo x). No primeiro temos a média dos pesos, no segundo o desvio padrão e no terceiro o Loss ao longo das 100 epochs."
   ]
  },
  {
   "cell_type": "markdown",
   "metadata": {},
   "source": [
    "## Problema do exploding-gradient\n",
    "\n",
    "O oposto pode acontecer quando a função de ativação não possui um limite máximo. A multiplicação devido ao gradiente ao longo da rede neural pode fazer os valores explodirem. No pior dos casos os pesos acabam recebendo valores NaN e não conseguem mais ser atualizados.\n",
    "\n",
    "O resultado é um modelo instável (em cada update a função perda varia muito) com grandes alterações a cada atualização.\n",
    "\n",
    "<img src=https://miro.medium.com/max/1400/1*_YRWJr-jF7tKnmUq-e3ltw.png width=500 text=\"https://medium.com/@ayushch612/vanishing-gradient-and-exploding-gradient-problems-7737c0aa535f\">"
   ]
  },
  {
   "cell_type": "code",
   "execution_count": 3,
   "metadata": {},
   "outputs": [
    {
     "data": {
      "text/plain": [
       "-998.0"
      ]
     },
     "execution_count": 3,
     "metadata": {},
     "output_type": "execute_result"
    }
   ],
   "source": [
    "# novo peso = peso anterior - learning rate * gradiente\n",
    "novo_peso = 2.0 - 1*1000\n",
    "novo_peso"
   ]
  },
  {
   "cell_type": "markdown",
   "metadata": {},
   "source": [
    "Como identificar um gradient exploding:\n",
    "\n",
    "- a atualização dos pesos fica muito instável entre cada treino de batch/iteração\n",
    "- os parâmetros das primeiras camadas sobrem mudanças grandes enquanto das últimas mudam bem menos\n",
    "- pode haver o aparecimento de parâmetros nans\n",
    "- a loss function também pode ser nan\n",
    "\n",
    "Soluções:\n",
    "\n",
    "- Diminuir o tamanho da rede neural\n",
    "- Setar um valor máximo para o gradiente (Gradient clipping)\n",
    "- Verificar o tamanho dos pesos da rede e aplicar uma penalidade à função de perda (loss function) para valores de peso ($W$) grandes. Isso pode ser feito com as famosas regularização L1 (pesos absolutos) ou L2 (pesos quadrados).\n",
    "Batch Normalization (BN)"
   ]
  },
  {
   "cell_type": "markdown",
   "metadata": {},
   "source": [
    "## Underfit e Overfit\n",
    "\n",
    "<center>\n",
    "<img src=https://i.pinimg.com/564x/72/e2/22/72e222c1542539754df1d914cb671bd7.jpg width=500>\n",
    "</center>\n",
    "\n",
    "Já sabemos como aumentar a complexidade da nossa rede neural e sair de um problema de underfiting. Mas o que fazer quando estamos overfittando nosso modelo?\n",
    "\n",
    "\n",
    "## Regularização de Redes Neurais\n",
    "\n",
    "### Regularização L1 e L2\n",
    "\n",
    "Assim como nos modelos clássicos de ML, aqui podemos adicionar um regularizador de pesos L1 ou L2 ao calcular a função perda. \n",
    "\n",
    "[Regularizadores disponíveis no Keras](https://keras.io/api/layers/regularizers)\n"
   ]
  },
  {
   "cell_type": "markdown",
   "metadata": {},
   "source": [
    "### Dropout\n",
    "O Dropout consiste em desativar, ou dropar, alguns neurônios randomicamente durante o treino. Isso evita que a rede torne-se muito dependente de alguns únicos neurônios, já que a rede neural não pode contar com ele todo o tempo. Isso torna o aprendizado da rede muito mais balanceado e reduz o overfiting.\n",
    "\n",
    "O *dropout_rate* indica quantos % dos neurônios daquela camada serão desligados aleatoriamente a cada conjunto de treino (batch) e seu valor, geralmente, fica entre 0.2 e 0.5.\n",
    "\n",
    "Atenção: o drop de neurônios só acontece no treino. No teste e validação não!\n",
    "\n",
    "<img src=https://www.i2tutorials.com/wp-content/media/2019/09/Deep-learning-41-i2tutorials.png width=500>"
   ]
  },
  {
   "cell_type": "code",
   "execution_count": 4,
   "metadata": {},
   "outputs": [],
   "source": [
    "from nltk.corpus import stopwords\n",
    "import numpy as np\n",
    "import pandas as pd\n",
    "import re\n",
    "from sklearn.model_selection import train_test_split\n",
    "from keras.utils.np_utils import to_categorical\n",
    "from sklearn.metrics import accuracy_score\n",
    "import warnings\n",
    "warnings.filterwarnings('ignore')"
   ]
  },
  {
   "cell_type": "code",
   "execution_count": 5,
   "metadata": {},
   "outputs": [
    {
     "data": {
      "text/html": [
       "<div>\n",
       "<style scoped>\n",
       "    .dataframe tbody tr th:only-of-type {\n",
       "        vertical-align: middle;\n",
       "    }\n",
       "\n",
       "    .dataframe tbody tr th {\n",
       "        vertical-align: top;\n",
       "    }\n",
       "\n",
       "    .dataframe thead th {\n",
       "        text-align: right;\n",
       "    }\n",
       "</style>\n",
       "<table border=\"1\" class=\"dataframe\">\n",
       "  <thead>\n",
       "    <tr style=\"text-align: right;\">\n",
       "      <th></th>\n",
       "      <th>tweet_id</th>\n",
       "      <th>airline_sentiment</th>\n",
       "      <th>airline_sentiment_confidence</th>\n",
       "      <th>negativereason</th>\n",
       "      <th>negativereason_confidence</th>\n",
       "      <th>airline</th>\n",
       "      <th>airline_sentiment_gold</th>\n",
       "      <th>name</th>\n",
       "      <th>negativereason_gold</th>\n",
       "      <th>retweet_count</th>\n",
       "      <th>text</th>\n",
       "      <th>tweet_coord</th>\n",
       "      <th>tweet_created</th>\n",
       "      <th>tweet_location</th>\n",
       "      <th>user_timezone</th>\n",
       "    </tr>\n",
       "  </thead>\n",
       "  <tbody>\n",
       "    <tr>\n",
       "      <th>0</th>\n",
       "      <td>570306133677760513</td>\n",
       "      <td>neutral</td>\n",
       "      <td>1.0000</td>\n",
       "      <td>NaN</td>\n",
       "      <td>NaN</td>\n",
       "      <td>Virgin America</td>\n",
       "      <td>NaN</td>\n",
       "      <td>cairdin</td>\n",
       "      <td>NaN</td>\n",
       "      <td>0</td>\n",
       "      <td>@VirginAmerica What @dhepburn said.</td>\n",
       "      <td>NaN</td>\n",
       "      <td>2015-02-24 11:35:52 -0800</td>\n",
       "      <td>NaN</td>\n",
       "      <td>Eastern Time (US &amp; Canada)</td>\n",
       "    </tr>\n",
       "    <tr>\n",
       "      <th>1</th>\n",
       "      <td>570301130888122368</td>\n",
       "      <td>positive</td>\n",
       "      <td>0.3486</td>\n",
       "      <td>NaN</td>\n",
       "      <td>0.0000</td>\n",
       "      <td>Virgin America</td>\n",
       "      <td>NaN</td>\n",
       "      <td>jnardino</td>\n",
       "      <td>NaN</td>\n",
       "      <td>0</td>\n",
       "      <td>@VirginAmerica plus you've added commercials t...</td>\n",
       "      <td>NaN</td>\n",
       "      <td>2015-02-24 11:15:59 -0800</td>\n",
       "      <td>NaN</td>\n",
       "      <td>Pacific Time (US &amp; Canada)</td>\n",
       "    </tr>\n",
       "    <tr>\n",
       "      <th>2</th>\n",
       "      <td>570301083672813571</td>\n",
       "      <td>neutral</td>\n",
       "      <td>0.6837</td>\n",
       "      <td>NaN</td>\n",
       "      <td>NaN</td>\n",
       "      <td>Virgin America</td>\n",
       "      <td>NaN</td>\n",
       "      <td>yvonnalynn</td>\n",
       "      <td>NaN</td>\n",
       "      <td>0</td>\n",
       "      <td>@VirginAmerica I didn't today... Must mean I n...</td>\n",
       "      <td>NaN</td>\n",
       "      <td>2015-02-24 11:15:48 -0800</td>\n",
       "      <td>Lets Play</td>\n",
       "      <td>Central Time (US &amp; Canada)</td>\n",
       "    </tr>\n",
       "    <tr>\n",
       "      <th>3</th>\n",
       "      <td>570301031407624196</td>\n",
       "      <td>negative</td>\n",
       "      <td>1.0000</td>\n",
       "      <td>Bad Flight</td>\n",
       "      <td>0.7033</td>\n",
       "      <td>Virgin America</td>\n",
       "      <td>NaN</td>\n",
       "      <td>jnardino</td>\n",
       "      <td>NaN</td>\n",
       "      <td>0</td>\n",
       "      <td>@VirginAmerica it's really aggressive to blast...</td>\n",
       "      <td>NaN</td>\n",
       "      <td>2015-02-24 11:15:36 -0800</td>\n",
       "      <td>NaN</td>\n",
       "      <td>Pacific Time (US &amp; Canada)</td>\n",
       "    </tr>\n",
       "    <tr>\n",
       "      <th>4</th>\n",
       "      <td>570300817074462722</td>\n",
       "      <td>negative</td>\n",
       "      <td>1.0000</td>\n",
       "      <td>Can't Tell</td>\n",
       "      <td>1.0000</td>\n",
       "      <td>Virgin America</td>\n",
       "      <td>NaN</td>\n",
       "      <td>jnardino</td>\n",
       "      <td>NaN</td>\n",
       "      <td>0</td>\n",
       "      <td>@VirginAmerica and it's a really big bad thing...</td>\n",
       "      <td>NaN</td>\n",
       "      <td>2015-02-24 11:14:45 -0800</td>\n",
       "      <td>NaN</td>\n",
       "      <td>Pacific Time (US &amp; Canada)</td>\n",
       "    </tr>\n",
       "  </tbody>\n",
       "</table>\n",
       "</div>"
      ],
      "text/plain": [
       "             tweet_id airline_sentiment  airline_sentiment_confidence  \\\n",
       "0  570306133677760513           neutral                        1.0000   \n",
       "1  570301130888122368          positive                        0.3486   \n",
       "2  570301083672813571           neutral                        0.6837   \n",
       "3  570301031407624196          negative                        1.0000   \n",
       "4  570300817074462722          negative                        1.0000   \n",
       "\n",
       "  negativereason  negativereason_confidence         airline  \\\n",
       "0            NaN                        NaN  Virgin America   \n",
       "1            NaN                     0.0000  Virgin America   \n",
       "2            NaN                        NaN  Virgin America   \n",
       "3     Bad Flight                     0.7033  Virgin America   \n",
       "4     Can't Tell                     1.0000  Virgin America   \n",
       "\n",
       "  airline_sentiment_gold        name negativereason_gold  retweet_count  \\\n",
       "0                    NaN     cairdin                 NaN              0   \n",
       "1                    NaN    jnardino                 NaN              0   \n",
       "2                    NaN  yvonnalynn                 NaN              0   \n",
       "3                    NaN    jnardino                 NaN              0   \n",
       "4                    NaN    jnardino                 NaN              0   \n",
       "\n",
       "                                                text tweet_coord  \\\n",
       "0                @VirginAmerica What @dhepburn said.         NaN   \n",
       "1  @VirginAmerica plus you've added commercials t...         NaN   \n",
       "2  @VirginAmerica I didn't today... Must mean I n...         NaN   \n",
       "3  @VirginAmerica it's really aggressive to blast...         NaN   \n",
       "4  @VirginAmerica and it's a really big bad thing...         NaN   \n",
       "\n",
       "               tweet_created tweet_location               user_timezone  \n",
       "0  2015-02-24 11:35:52 -0800            NaN  Eastern Time (US & Canada)  \n",
       "1  2015-02-24 11:15:59 -0800            NaN  Pacific Time (US & Canada)  \n",
       "2  2015-02-24 11:15:48 -0800      Lets Play  Central Time (US & Canada)  \n",
       "3  2015-02-24 11:15:36 -0800            NaN  Pacific Time (US & Canada)  \n",
       "4  2015-02-24 11:14:45 -0800            NaN  Pacific Time (US & Canada)  "
      ]
     },
     "execution_count": 5,
     "metadata": {},
     "output_type": "execute_result"
    }
   ],
   "source": [
    "# Fonte dos dados: https://www.kaggle.com/datasets/crowdflower/twitter-airline-sentiment\n",
    "df = pd.read_csv(\"Tweets.csv\")\n",
    "df.head()"
   ]
  },
  {
   "cell_type": "code",
   "execution_count": 6,
   "metadata": {},
   "outputs": [],
   "source": [
    "def preprocessing_text(input_text):\n",
    "    input_text = re.sub(r'@\\w+', '', input_text)\n",
    "\n",
    "    stopwords_list = stopwords.words('english')\n",
    "    keep_list = [\"n't\", \"not\", \"no\"]\n",
    "\n",
    "    words = input_text.split()\n",
    "    clean_words = [word for word in words if (word not in stopwords_list or word in keep_list) and len(word) > 1]\n",
    "\n",
    "    return \" \".join(clean_words)"
   ]
  },
  {
   "cell_type": "code",
   "execution_count": 7,
   "metadata": {},
   "outputs": [],
   "source": [
    "df = df[['airline_sentiment', 'text']]\n",
    "\n",
    "df.text = df.text.apply(preprocessing_text)"
   ]
  },
  {
   "cell_type": "code",
   "execution_count": 8,
   "metadata": {},
   "outputs": [
    {
     "data": {
      "text/html": [
       "<div>\n",
       "<style scoped>\n",
       "    .dataframe tbody tr th:only-of-type {\n",
       "        vertical-align: middle;\n",
       "    }\n",
       "\n",
       "    .dataframe tbody tr th {\n",
       "        vertical-align: top;\n",
       "    }\n",
       "\n",
       "    .dataframe thead th {\n",
       "        text-align: right;\n",
       "    }\n",
       "</style>\n",
       "<table border=\"1\" class=\"dataframe\">\n",
       "  <thead>\n",
       "    <tr style=\"text-align: right;\">\n",
       "      <th></th>\n",
       "      <th>airline_sentiment</th>\n",
       "      <th>text</th>\n",
       "    </tr>\n",
       "  </thead>\n",
       "  <tbody>\n",
       "    <tr>\n",
       "      <th>0</th>\n",
       "      <td>neutral</td>\n",
       "      <td>What said.</td>\n",
       "    </tr>\n",
       "    <tr>\n",
       "      <th>1</th>\n",
       "      <td>positive</td>\n",
       "      <td>plus added commercials experience... tacky.</td>\n",
       "    </tr>\n",
       "    <tr>\n",
       "      <th>2</th>\n",
       "      <td>neutral</td>\n",
       "      <td>today... Must mean need take another trip!</td>\n",
       "    </tr>\n",
       "    <tr>\n",
       "      <th>3</th>\n",
       "      <td>negative</td>\n",
       "      <td>really aggressive blast obnoxious \"entertainme...</td>\n",
       "    </tr>\n",
       "    <tr>\n",
       "      <th>4</th>\n",
       "      <td>negative</td>\n",
       "      <td>really big bad thing</td>\n",
       "    </tr>\n",
       "    <tr>\n",
       "      <th>5</th>\n",
       "      <td>negative</td>\n",
       "      <td>seriously would pay $30 flight seats playing. ...</td>\n",
       "    </tr>\n",
       "    <tr>\n",
       "      <th>6</th>\n",
       "      <td>positive</td>\n",
       "      <td>yes, nearly every time fly VX “ear worm” won’t...</td>\n",
       "    </tr>\n",
       "    <tr>\n",
       "      <th>7</th>\n",
       "      <td>neutral</td>\n",
       "      <td>Really missed prime opportunity Men Without Ha...</td>\n",
       "    </tr>\n",
       "    <tr>\n",
       "      <th>8</th>\n",
       "      <td>positive</td>\n",
       "      <td>Well, didn't…but NOW DO! :-D</td>\n",
       "    </tr>\n",
       "    <tr>\n",
       "      <th>9</th>\n",
       "      <td>positive</td>\n",
       "      <td>amazing, arrived hour early. You're good me.</td>\n",
       "    </tr>\n",
       "  </tbody>\n",
       "</table>\n",
       "</div>"
      ],
      "text/plain": [
       "  airline_sentiment                                               text\n",
       "0           neutral                                         What said.\n",
       "1          positive        plus added commercials experience... tacky.\n",
       "2           neutral         today... Must mean need take another trip!\n",
       "3          negative  really aggressive blast obnoxious \"entertainme...\n",
       "4          negative                               really big bad thing\n",
       "5          negative  seriously would pay $30 flight seats playing. ...\n",
       "6          positive  yes, nearly every time fly VX “ear worm” won’t...\n",
       "7           neutral  Really missed prime opportunity Men Without Ha...\n",
       "8          positive                       Well, didn't…but NOW DO! :-D\n",
       "9          positive       amazing, arrived hour early. You're good me."
      ]
     },
     "execution_count": 8,
     "metadata": {},
     "output_type": "execute_result"
    }
   ],
   "source": [
    "df.head(10)"
   ]
  },
  {
   "cell_type": "code",
   "execution_count": 9,
   "metadata": {},
   "outputs": [],
   "source": [
    "# separar texto em treino e teste\n",
    "\n",
    "X_train, X_test, y_train, y_test = train_test_split(df.text, \n",
    "    df.airline_sentiment, \n",
    "    test_size= 0.2, \n",
    "    random_state=42, \n",
    "    stratify=df.airline_sentiment)"
   ]
  },
  {
   "cell_type": "code",
   "execution_count": 10,
   "metadata": {},
   "outputs": [
    {
     "name": "stdout",
     "output_type": "stream",
     "text": [
      "11712 2928\n"
     ]
    }
   ],
   "source": [
    "print(X_train.size, X_test.size)"
   ]
  },
  {
   "cell_type": "markdown",
   "metadata": {},
   "source": [
    "[keras.preprocessing.text.Tokenizer](https://www.tensorflow.org/api_docs/python/tf/keras/preprocessing/text/Tokenizer)"
   ]
  },
  {
   "cell_type": "code",
   "execution_count": 11,
   "metadata": {},
   "outputs": [],
   "source": [
    "from tensorflow.keras.preprocessing.text import Tokenizer\n",
    "\n",
    "tk = Tokenizer(\n",
    "    num_words=None,\n",
    "    filters='!\"#$%&()*+,-./:;<=>?@[\\\\]^_`{|}~\\t\\n',\n",
    "    lower=True,\n",
    "    split=' ',\n",
    "    char_level=False,\n",
    ")\n"
   ]
  },
  {
   "cell_type": "code",
   "execution_count": 12,
   "metadata": {},
   "outputs": [],
   "source": [
    "tk.fit_on_texts(X_train)\n",
    "\n",
    "X_train = tk.texts_to_matrix(X_train, mode='binary')\n",
    "X_test = tk.texts_to_matrix(X_test, mode='binary')"
   ]
  },
  {
   "cell_type": "code",
   "execution_count": 13,
   "metadata": {},
   "outputs": [
    {
     "data": {
      "text/plain": [
       "array([[0., 0., 0., ..., 0., 0., 0.],\n",
       "       [0., 0., 1., ..., 0., 0., 0.],\n",
       "       [0., 1., 0., ..., 0., 0., 0.],\n",
       "       ...,\n",
       "       [0., 1., 0., ..., 0., 0., 0.],\n",
       "       [0., 0., 0., ..., 0., 0., 0.],\n",
       "       [0., 0., 0., ..., 0., 0., 1.]])"
      ]
     },
     "execution_count": 13,
     "metadata": {},
     "output_type": "execute_result"
    }
   ],
   "source": [
    "X_train"
   ]
  },
  {
   "cell_type": "code",
   "execution_count": 14,
   "metadata": {},
   "outputs": [
    {
     "data": {
      "text/plain": [
       "(11712, 13065)"
      ]
     },
     "execution_count": 14,
     "metadata": {},
     "output_type": "execute_result"
    }
   ],
   "source": [
    "X_train.shape"
   ]
  },
  {
   "cell_type": "code",
   "execution_count": 15,
   "metadata": {},
   "outputs": [
    {
     "data": {
      "text/plain": [
       "1262      neutral\n",
       "10772     neutral\n",
       "4204     negative\n",
       "5491     positive\n",
       "12096    negative\n",
       "           ...   \n",
       "305      negative\n",
       "10579    negative\n",
       "4514      neutral\n",
       "7131     negative\n",
       "4927     positive\n",
       "Name: airline_sentiment, Length: 11712, dtype: object"
      ]
     },
     "execution_count": 15,
     "metadata": {},
     "output_type": "execute_result"
    }
   ],
   "source": [
    "y_train"
   ]
  },
  {
   "cell_type": "code",
   "execution_count": 16,
   "metadata": {},
   "outputs": [],
   "source": [
    "from sklearn.preprocessing import LabelBinarizer\n",
    "lb = LabelBinarizer()\n",
    "\n",
    "y_train = lb.fit_transform(y_train)\n",
    "y_test = lb.transform(y_test)"
   ]
  },
  {
   "cell_type": "code",
   "execution_count": 17,
   "metadata": {},
   "outputs": [
    {
     "data": {
      "text/plain": [
       "array([[0, 1, 0],\n",
       "       [0, 1, 0],\n",
       "       [1, 0, 0],\n",
       "       ...,\n",
       "       [0, 1, 0],\n",
       "       [1, 0, 0],\n",
       "       [0, 0, 1]])"
      ]
     },
     "execution_count": 17,
     "metadata": {},
     "output_type": "execute_result"
    }
   ],
   "source": [
    "y_train"
   ]
  },
  {
   "cell_type": "code",
   "execution_count": 18,
   "metadata": {},
   "outputs": [
    {
     "name": "stdout",
     "output_type": "stream",
     "text": [
      "Epoch 1/20\n",
      "19/19 [==============================] - 2s 65ms/step - loss: 0.8696 - accuracy: 0.6185 - val_loss: 0.7191 - val_accuracy: 0.6637\n",
      "Epoch 2/20\n",
      "19/19 [==============================] - 1s 45ms/step - loss: 0.5973 - accuracy: 0.7529 - val_loss: 0.5859 - val_accuracy: 0.7695\n",
      "Epoch 3/20\n",
      "19/19 [==============================] - 1s 38ms/step - loss: 0.4247 - accuracy: 0.8627 - val_loss: 0.5318 - val_accuracy: 0.7926\n",
      "Epoch 4/20\n",
      "19/19 [==============================] - 1s 38ms/step - loss: 0.3148 - accuracy: 0.8987 - val_loss: 0.5365 - val_accuracy: 0.7960\n",
      "Epoch 5/20\n",
      "19/19 [==============================] - 1s 36ms/step - loss: 0.2423 - accuracy: 0.9210 - val_loss: 0.5578 - val_accuracy: 0.7956\n",
      "Epoch 6/20\n",
      "19/19 [==============================] - 1s 36ms/step - loss: 0.1897 - accuracy: 0.9382 - val_loss: 0.5875 - val_accuracy: 0.7909\n",
      "Epoch 7/20\n",
      "19/19 [==============================] - 1s 35ms/step - loss: 0.1488 - accuracy: 0.9529 - val_loss: 0.6344 - val_accuracy: 0.7887\n",
      "Epoch 8/20\n",
      "19/19 [==============================] - 1s 37ms/step - loss: 0.1171 - accuracy: 0.9637 - val_loss: 0.6689 - val_accuracy: 0.7789\n",
      "Epoch 9/20\n",
      "19/19 [==============================] - 1s 35ms/step - loss: 0.0932 - accuracy: 0.9711 - val_loss: 0.7372 - val_accuracy: 0.7751\n",
      "Epoch 10/20\n",
      "19/19 [==============================] - 1s 36ms/step - loss: 0.0750 - accuracy: 0.9774 - val_loss: 0.7989 - val_accuracy: 0.7700\n",
      "Epoch 11/20\n",
      "19/19 [==============================] - 1s 36ms/step - loss: 0.0612 - accuracy: 0.9816 - val_loss: 0.8707 - val_accuracy: 0.7648\n",
      "Epoch 12/20\n",
      "19/19 [==============================] - 1s 36ms/step - loss: 0.0504 - accuracy: 0.9851 - val_loss: 0.9374 - val_accuracy: 0.7580\n",
      "Epoch 13/20\n",
      "19/19 [==============================] - 1s 36ms/step - loss: 0.0427 - accuracy: 0.9872 - val_loss: 1.0095 - val_accuracy: 0.7601\n",
      "Epoch 14/20\n",
      "19/19 [==============================] - 1s 38ms/step - loss: 0.0358 - accuracy: 0.9901 - val_loss: 1.0837 - val_accuracy: 0.7623\n",
      "Epoch 15/20\n",
      "19/19 [==============================] - 1s 37ms/step - loss: 0.0311 - accuracy: 0.9905 - val_loss: 1.1668 - val_accuracy: 0.7640\n",
      "Epoch 16/20\n",
      "19/19 [==============================] - 1s 35ms/step - loss: 0.0278 - accuracy: 0.9917 - val_loss: 1.2483 - val_accuracy: 0.7597\n",
      "Epoch 17/20\n",
      "19/19 [==============================] - 1s 38ms/step - loss: 0.0247 - accuracy: 0.9923 - val_loss: 1.3213 - val_accuracy: 0.7576\n",
      "Epoch 18/20\n",
      "19/19 [==============================] - 1s 36ms/step - loss: 0.0224 - accuracy: 0.9933 - val_loss: 1.3868 - val_accuracy: 0.7597\n",
      "Epoch 19/20\n",
      "19/19 [==============================] - 1s 35ms/step - loss: 0.0201 - accuracy: 0.9938 - val_loss: 1.4786 - val_accuracy: 0.7537\n",
      "Epoch 20/20\n",
      "19/19 [==============================] - 1s 36ms/step - loss: 0.0184 - accuracy: 0.9946 - val_loss: 1.5261 - val_accuracy: 0.7546\n"
     ]
    }
   ],
   "source": [
    "from tensorflow.keras.models import Sequential\n",
    "from tensorflow.keras.layers import Input, Dense, Dropout\n",
    "\n",
    "base_model = Sequential(name='Baseline_model')\n",
    "base_model.add(Dense(64, activation='relu'))\n",
    "base_model.add(Dense(64, activation='relu'))\n",
    "base_model.add(Dense(3, activation='softmax'))\n",
    "\n",
    "base_model.compile(loss='categorical_crossentropy', optimizer='rmsprop', metrics=['accuracy'])\n",
    "\n",
    "base_history = base_model.fit(X_train, y_train, epochs=20, batch_size=512, validation_split=0.2, verbose=1)"
   ]
  },
  {
   "cell_type": "code",
   "execution_count": 19,
   "metadata": {},
   "outputs": [
    {
     "data": {
      "image/png": "[encoded data removed]",
      "text/plain": [
       "<Figure size 432x288 with 1 Axes>"
      ]
     },
     "metadata": {
      "needs_background": "light"
     },
     "output_type": "display_data"
    }
   ],
   "source": [
    "import matplotlib.pyplot as plt\n",
    "\n",
    "epochs = range(1, 21)\n",
    "plt.plot(epochs, base_history.history['loss'], \"bo\", label='Training loss')\n",
    "plt.plot(epochs, base_history.history['val_loss'], \"b\", label='Validation loss')\n",
    "plt.legend()\n",
    "plt.xlabel('Epochs')\n",
    "plt.ylabel('Loss')\n",
    "plt.show()"
   ]
  },
  {
   "cell_type": "markdown",
   "metadata": {},
   "source": [
    "Vemos que nas primeiras epochs o erro da validação está decrescendo, mas logo começa a subir rapidamente, enquanto o loss do treino continua em queda. Nesse momento começamos a ter overfit.\n",
    "\n",
    "É possível ver que o loss do treino quase chega a zero em 20 epochs.\n",
    "\n",
    "Vamos agora adicionar as regularizações e comparar seus efeitos no modelo."
   ]
  },
  {
   "cell_type": "code",
   "execution_count": 20,
   "metadata": {},
   "outputs": [],
   "source": [
    "from tensorflow.keras import regularizers\n",
    "\n",
    "l1l2_model = Sequential(name='L1L2')\n",
    "l1l2_model.add(Dense(64, activation='relu', kernel_regularizer=regularizers.l2(0.02)))\n",
    "l1l2_model.add(Dense(64, activation='relu', kernel_regularizer=regularizers.l2(0.02)))\n",
    "l1l2_model.add(Dense(3, activation='softmax'))\n",
    "\n",
    "l1l2_model.compile(loss='categorical_crossentropy', optimizer='rmsprop', metrics=['accuracy'])\n",
    "\n",
    "l1l2_history = l1l2_model.fit(X_train, y_train, epochs=20, batch_size=512, validation_split=0.2, verbose=0)"
   ]
  },
  {
   "cell_type": "markdown",
   "metadata": {},
   "source": [
    "Vamos agora criar um modelo só com dropout"
   ]
  },
  {
   "cell_type": "code",
   "execution_count": 21,
   "metadata": {},
   "outputs": [],
   "source": [
    "drop_out_model = Sequential(name='Dropout')\n",
    "drop_out_model.add(Dense(64, activation='relu'))\n",
    "drop_out_model.add(Dropout(0.5))\n",
    "drop_out_model.add(Dense(64, activation='relu'))\n",
    "drop_out_model.add(Dropout(0.2))\n",
    "drop_out_model.add(Dense(3, activation='softmax'))\n",
    "\n",
    "drop_out_model.compile(loss='categorical_crossentropy', optimizer='rmsprop', metrics=['accuracy'])\n",
    "\n",
    "drop_out_history = drop_out_model.fit(X_train, y_train, epochs=20, batch_size=512, validation_split=0.2, verbose=0)"
   ]
  },
  {
   "cell_type": "code",
   "execution_count": 22,
   "metadata": {},
   "outputs": [
    {
     "data": {
      "image/png": "[encoded data removed]",
      "text/plain": [
       "<Figure size 432x288 with 1 Axes>"
      ]
     },
     "metadata": {
      "needs_background": "light"
     },
     "output_type": "display_data"
    }
   ],
   "source": [
    "epochs = range(1, 21)\n",
    "plt.plot(epochs, base_history.history['loss'], \"bo\", label='Training loss')\n",
    "plt.plot(epochs, base_history.history['val_loss'], \"b\", label='Validation loss')\n",
    "plt.plot(epochs, l1l2_history.history['loss'], \"go\", label='L1L2 Training loss')\n",
    "plt.plot(epochs, l1l2_history.history['val_loss'], \"g\", label='L1L2 Validation loss')\n",
    "plt.plot(epochs, drop_out_history.history['loss'], \"ro\", label='Dropout Training loss')\n",
    "plt.plot(epochs, drop_out_history.history['val_loss'], \"r\", label='Dropout Validation loss')\n",
    "plt.legend()\n",
    "plt.xlabel('Epochs')\n",
    "plt.ylabel('Loss')\n",
    "plt.show()"
   ]
  },
  {
   "cell_type": "markdown",
   "metadata": {},
   "source": [
    "### Early stopping (“Parada Antecipada” ou “Parada Precoce”)\n",
    "\n",
    "Como sabemos, o overfit acontece quando o erro no conjunto de validação começa a aumentar enquanto no treino continua a diminuir. O que o Early Stopping faz é observar após cada época como está a performance do modelo no conjunto de validação e se ela deixa de diminuir o modelo para de ser treinado.\n",
    "\n",
    "Para evitar de parar o modelo muito cedo, o que geralmente fazemos é observar se a performance do modelo não diminui por algum tempo.\n",
    "\n",
    "<img src=https://miro.medium.com/max/875/1*iAK5uMoOlX1gZu-cSh1nZw.png width=400>\n",
    "\n",
    "Vamos ver como utilizar o Early Stopping no modelo com dropout:"
   ]
  },
  {
   "cell_type": "code",
   "execution_count": 23,
   "metadata": {},
   "outputs": [],
   "source": [
    "from gc import callbacks\n",
    "from tensorflow.keras.callbacks import EarlyStopping\n",
    "\n",
    "es = EarlyStopping(monitor='val_loss', patience=3)\n",
    "\n",
    "es_model = Sequential(name='Early_Stopping')\n",
    "es_model.add(Dense(64, activation='relu'))\n",
    "es_model.add(Dropout(0.5))\n",
    "es_model.add(Dense(64, activation='relu'))\n",
    "es_model.add(Dropout(0.2))\n",
    "es_model.add(Dense(3, activation='softmax'))\n",
    "\n",
    "es_model.compile(loss='categorical_crossentropy', optimizer='rmsprop', metrics=['accuracy'])\n",
    "\n",
    "es_history = es_model.fit(X_train, y_train, epochs=20, batch_size=512, validation_split=0.2, verbose=0, callbacks=es)"
   ]
  },
  {
   "cell_type": "code",
   "execution_count": 24,
   "metadata": {},
   "outputs": [],
   "source": [
    "epochs_es = range(1, len(es_history.history['loss'])+1)"
   ]
  },
  {
   "cell_type": "code",
   "execution_count": 25,
   "metadata": {},
   "outputs": [
    {
     "data": {
      "text/plain": [
       "range(1, 9)"
      ]
     },
     "execution_count": 25,
     "metadata": {},
     "output_type": "execute_result"
    }
   ],
   "source": [
    "epochs_es"
   ]
  },
  {
   "cell_type": "code",
   "execution_count": 26,
   "metadata": {},
   "outputs": [
    {
     "data": {
      "image/png": "[encoded data removed]",
      "text/plain": [
       "<Figure size 432x288 with 1 Axes>"
      ]
     },
     "metadata": {
      "needs_background": "light"
     },
     "output_type": "display_data"
    }
   ],
   "source": [
    "epochs = range(1, 21)\n",
    "plt.plot(epochs_es, es_history.history['loss'], \"bo\", label='ES Training loss')\n",
    "plt.plot(epochs_es, es_history.history['val_loss'], \"b\", label='ES Validation loss')\n",
    "plt.plot(epochs, drop_out_history.history['loss'], \"ro\", label='Dropout Training loss', alpha=0.5)\n",
    "plt.plot(epochs, drop_out_history.history['val_loss'], \"r\", label='Dropout Validation loss', alpha=0.5)\n",
    "plt.legend()\n",
    "plt.xlabel('Epochs')\n",
    "plt.ylabel('Loss')\n",
    "plt.show()"
   ]
  },
  {
   "cell_type": "markdown",
   "metadata": {},
   "source": [
    "### Simplificar o modelo\n",
    "\n",
    "Assim como nos modelos clássicos, modelos mais complexos, ou seja, com mais parâmetros a serem treinados, tem mais chance de overfitar."
   ]
  },
  {
   "cell_type": "code",
   "execution_count": 27,
   "metadata": {},
   "outputs": [
    {
     "name": "stdout",
     "output_type": "stream",
     "text": [
      "Epoch 1/20\n",
      "19/19 [==============================] - 1s 36ms/step - loss: 0.9785 - accuracy: 0.6255 - val_loss: 0.8987 - val_accuracy: 0.6236\n",
      "Epoch 2/20\n",
      "19/19 [==============================] - 1s 27ms/step - loss: 0.8451 - accuracy: 0.6278 - val_loss: 0.8252 - val_accuracy: 0.6236\n",
      "Epoch 3/20\n",
      "19/19 [==============================] - 0s 25ms/step - loss: 0.7733 - accuracy: 0.6332 - val_loss: 0.7816 - val_accuracy: 0.6334\n",
      "Epoch 4/20\n",
      "19/19 [==============================] - 1s 27ms/step - loss: 0.7209 - accuracy: 0.6529 - val_loss: 0.7504 - val_accuracy: 0.6415\n",
      "Epoch 5/20\n",
      "19/19 [==============================] - 1s 26ms/step - loss: 0.6791 - accuracy: 0.6719 - val_loss: 0.7264 - val_accuracy: 0.6526\n",
      "Epoch 6/20\n",
      "19/19 [==============================] - 0s 24ms/step - loss: 0.6437 - accuracy: 0.6978 - val_loss: 0.7060 - val_accuracy: 0.6662\n",
      "Epoch 7/20\n",
      "19/19 [==============================] - 0s 25ms/step - loss: 0.6124 - accuracy: 0.7199 - val_loss: 0.6913 - val_accuracy: 0.6756\n",
      "Epoch 8/20\n",
      "19/19 [==============================] - 0s 25ms/step - loss: 0.5841 - accuracy: 0.7342 - val_loss: 0.6766 - val_accuracy: 0.6889\n",
      "Epoch 9/20\n",
      "19/19 [==============================] - 0s 25ms/step - loss: 0.5583 - accuracy: 0.7496 - val_loss: 0.6657 - val_accuracy: 0.6953\n",
      "Epoch 10/20\n",
      "19/19 [==============================] - 0s 24ms/step - loss: 0.5346 - accuracy: 0.7608 - val_loss: 0.6578 - val_accuracy: 0.7004\n",
      "Epoch 11/20\n",
      "19/19 [==============================] - 0s 26ms/step - loss: 0.5126 - accuracy: 0.7702 - val_loss: 0.6528 - val_accuracy: 0.7038\n",
      "Epoch 12/20\n",
      "19/19 [==============================] - 0s 25ms/step - loss: 0.4918 - accuracy: 0.7787 - val_loss: 0.6464 - val_accuracy: 0.7047\n",
      "Epoch 13/20\n",
      "19/19 [==============================] - 0s 25ms/step - loss: 0.4722 - accuracy: 0.7890 - val_loss: 0.6449 - val_accuracy: 0.7068\n",
      "Epoch 14/20\n",
      "19/19 [==============================] - 0s 25ms/step - loss: 0.4530 - accuracy: 0.7969 - val_loss: 0.6411 - val_accuracy: 0.7098\n",
      "Epoch 15/20\n",
      "19/19 [==============================] - 0s 25ms/step - loss: 0.4341 - accuracy: 0.8091 - val_loss: 0.6397 - val_accuracy: 0.7123\n",
      "Epoch 16/20\n",
      "19/19 [==============================] - 0s 25ms/step - loss: 0.4154 - accuracy: 0.8261 - val_loss: 0.6366 - val_accuracy: 0.7209\n",
      "Epoch 17/20\n",
      "19/19 [==============================] - 0s 25ms/step - loss: 0.3965 - accuracy: 0.8480 - val_loss: 0.6338 - val_accuracy: 0.7273\n",
      "Epoch 18/20\n",
      "19/19 [==============================] - 0s 25ms/step - loss: 0.3775 - accuracy: 0.8686 - val_loss: 0.6326 - val_accuracy: 0.7409\n",
      "Epoch 19/20\n",
      "19/19 [==============================] - 0s 25ms/step - loss: 0.3583 - accuracy: 0.8880 - val_loss: 0.6320 - val_accuracy: 0.7490\n",
      "Epoch 20/20\n",
      "19/19 [==============================] - 0s 24ms/step - loss: 0.3391 - accuracy: 0.9034 - val_loss: 0.6328 - val_accuracy: 0.7589\n"
     ]
    }
   ],
   "source": [
    "simple_model = Sequential(name='simple_model')\n",
    "simple_model.add(Dense(6, activation='relu'))\n",
    "simple_model.add(Dense(4, activation='relu'))\n",
    "simple_model.add(Dense(3, activation='softmax'))\n",
    "\n",
    "simple_model.compile(loss='categorical_crossentropy', optimizer='rmsprop', metrics=['accuracy'])\n",
    "\n",
    "simple_history = simple_model.fit(X_train, y_train, epochs=20, batch_size=512, validation_split=0.2, verbose=1)"
   ]
  },
  {
   "cell_type": "code",
   "execution_count": 28,
   "metadata": {},
   "outputs": [
    {
     "data": {
      "image/png": "[encoded data removed]",
      "text/plain": [
       "<Figure size 432x288 with 1 Axes>"
      ]
     },
     "metadata": {
      "needs_background": "light"
     },
     "output_type": "display_data"
    }
   ],
   "source": [
    "epochs = range(1, 21)\n",
    "plt.plot(epochs, base_history.history['loss'], \"bo\", label='Training loss')\n",
    "plt.plot(epochs, base_history.history['val_loss'], \"b\", label='Validation loss')\n",
    "plt.plot(epochs, simple_history.history['loss'], \"go\", label='Simple Training loss')\n",
    "plt.plot(epochs, simple_history.history['val_loss'], \"g\", label='Simple Validation loss')\n",
    "plt.legend()\n",
    "plt.xlabel('Epochs')\n",
    "plt.ylabel('Loss')\n",
    "plt.show()"
   ]
  },
  {
   "cell_type": "markdown",
   "metadata": {},
   "source": [
    "### Normalização do batch\n",
    "\n",
    "A normalização em lote é um recurso que adicionamos entre as camadas da rede neural para normalizá-la usando média=0, padrão dev=1 (μ=0,σ=1) antes de enviá-la para a próxima camada. Essa normalização tem o efeito de estabilizar a rede neural e manter a distribuição dos dados, evitando valores muito grandes e muitos pequenos.\n",
    "\n",
    "Outro efeito da normalização do batch é o treinamento mais rápido, já que agora é possível utilizarmos valores mais altos para o learning rate, além de aumentar a precisão do modelo.\n",
    "\n",
    "<img src=https://149695847.v2.pressablecdn.com/wp-content/uploads/2020/07/batch_normalization.png width=500>\n",
    "\n",
    "\n",
    "https://analyticsindiamag.com/hands-on-guide-to-implement-batch-normalization-in-deep-learning-models/"
   ]
  },
  {
   "cell_type": "code",
   "execution_count": 29,
   "metadata": {},
   "outputs": [],
   "source": [
    "from tensorflow.keras.layers import BatchNormalization\n",
    "\n",
    "bn_model = Sequential(name='BN')\n",
    "bn_model.add(Dense(64, activation='relu'))\n",
    "bn_model.add(BatchNormalization())\n",
    "bn_model.add(Dense(64, activation='relu'))\n",
    "bn_model.add(BatchNormalization())\n",
    "bn_model.add(Dense(3, activation='softmax'))\n",
    "\n",
    "bn_model.compile(loss='categorical_crossentropy', optimizer='rmsprop', metrics=['accuracy'])\n",
    "\n",
    "bn_history = bn_model.fit(X_train, y_train, epochs=20, batch_size=512, validation_split=0.2, verbose=0)"
   ]
  },
  {
   "cell_type": "code",
   "execution_count": 30,
   "metadata": {},
   "outputs": [
    {
     "data": {
      "image/png": "[encoded data removed]",
      "text/plain": [
       "<Figure size 432x288 with 1 Axes>"
      ]
     },
     "metadata": {
      "needs_background": "light"
     },
     "output_type": "display_data"
    }
   ],
   "source": [
    "epochs = range(1, 21)\n",
    "plt.plot(epochs, base_history.history['loss'], \"bo\", label='Training loss')\n",
    "plt.plot(epochs, base_history.history['val_loss'], \"b\", label='Validation loss')\n",
    "plt.plot(epochs, bn_history.history['loss'], \"go\", label='Batch Normalization Training loss')\n",
    "plt.plot(epochs, bn_history.history['val_loss'], \"g\", label='Batch Normalization Validation loss')\n",
    "plt.legend()\n",
    "plt.xlabel('Epochs')\n",
    "plt.ylabel('Loss')\n",
    "plt.show()"
   ]
  },
  {
   "cell_type": "markdown",
   "metadata": {},
   "source": [
    "### Aumentar o tamanho da base de treino\n",
    "Isso pode ser feito adquirindo novos dados ou criando novos dados artificialmente (data augmentation).\n",
    "\n",
    "<img src=https://amitness.com/images/nlp-aug-bert-augmentations.png width=500>\n",
    "\n",
    "Exemplos de data augmentation em NLP: https://www.analyticsvidhya.com/blog/2022/02/text-data-augmentation-in-natural-language-processing-with-texattack/"
   ]
  },
  {
   "cell_type": "markdown",
   "metadata": {},
   "source": [
    "___\n",
    "___"
   ]
  },
  {
   "cell_type": "markdown",
   "metadata": {},
   "source": [
    "## Bibliografia e Aprofundamento\n",
    "\n",
    "https://towardsdatascience.com/handling-overfitting-in-deep-learning-models-c760ee047c6e\n",
    "\n",
    "https://analyticsindiamag.com/hands-on-guide-to-implement-batch-normalization-in-deep-learning-models/\n",
    "\n",
    "[Exemplos de data augmentation em NLP](https://www.analyticsvidhya.com/blog/2022/02/text-data-augmentation-in-natural-language-processing-with-texattack/)\n",
    "\n",
    "[Vanishing Gradient explained using Code!](https://www.youtube.com/watch?v=wTyZqtJyp5g)\n",
    "\n",
    "[Investigando o problema de vanishing gradient](https://neptune.ai/blog/vanishing-and-exploding-gradients-debugging-monitoring-fixing)"
   ]
  },
  {
   "cell_type": "markdown",
   "metadata": {},
   "source": [
    "___\n",
    "___"
   ]
  },
  {
   "cell_type": "markdown",
   "metadata": {},
   "source": [
    "## Exercício:\n",
    "\n",
    "Retreine o modelo do exercício da aula anterior adicionando algumas regularizações vistas nessa aula."
   ]
  },
  {
   "cell_type": "markdown",
   "metadata": {},
   "source": [
    "___\n",
    "___"
   ]
  },
  {
   "cell_type": "code",
   "execution_count": 31,
   "metadata": {},
   "outputs": [],
   "source": [
    "import matplotlib.pyplot as plt\n",
    "import numpy as np\n",
    "\n",
    "from sklearn.model_selection import train_test_split\n",
    "from sklearn.preprocessing import StandardScaler\n",
    "from sklearn.metrics import accuracy_score\n",
    "\n",
    "from tensorflow.keras.models import Sequential\n",
    "from tensorflow.keras.layers import Dense, Input\n",
    "from tensorflow.keras.utils import plot_model\n",
    "from tensorflow.keras.utils import to_categorical\n",
    "\n",
    "import warnings\n",
    "warnings.filterwarnings('ignore')"
   ]
  },
  {
   "cell_type": "code",
   "execution_count": 32,
   "metadata": {},
   "outputs": [],
   "source": [
    "from tensorflow.keras.datasets import reuters\n",
    "\n",
    "(train_data, train_labels), (test_data, test_labels) = reuters.load_data(num_words=10000) # num_words=10000 restringe os dados as 10.000 palavras mais frequentes encontradas nos dados"
   ]
  },
  {
   "cell_type": "code",
   "execution_count": 37,
   "metadata": {},
   "outputs": [],
   "source": [
    "# prepare data\n",
    "import numpy as np\n",
    "def vectorize_sequences(sequences, dimension=10000):\n",
    "    \"\"\"Multi-hot encode your lists to turn them into vectors of 0s and 1s. This would\n",
    "    mean, for instance, turning the sequence [8, 5] into a 10,000-dimensional vec-\n",
    "    tor that would be all 0s except for indices 8 and 5, which would be 1s. Then you\n",
    "    could use a Dense layer, capable of handling floating-point vector data, as the\n",
    "    first layer in your model\"\"\"\n",
    "    results = np.zeros((len(sequences), dimension))\n",
    "    for i, sequence in enumerate(sequences):\n",
    "        for j in sequence:\n",
    "            results[i, j] = 1.\n",
    "    return results\n",
    "x_train = vectorize_sequences(train_data)\n",
    "x_test = vectorize_sequences(test_data)"
   ]
  },
  {
   "cell_type": "code",
   "execution_count": 34,
   "metadata": {},
   "outputs": [],
   "source": [
    "# encode labels\n",
    "from tensorflow.keras.utils import to_categorical\n",
    "y_train = to_categorical(train_labels)\n",
    "y_test = to_categorical(test_labels)"
   ]
  },
  {
   "cell_type": "code",
   "execution_count": 38,
   "metadata": {},
   "outputs": [
    {
     "data": {
      "text/plain": [
       "array([list([1, 2, 2, 8, 43, 10, 447, 5, 25, 207, 270, 5, 3095, 111, 16, 369, 186, 90, 67, 7, 89, 5, 19, 102, 6, 19, 124, 15, 90, 67, 84, 22, 482, 26, 7, 48, 4, 49, 8, 864, 39, 209, 154, 6, 151, 6, 83, 11, 15, 22, 155, 11, 15, 7, 48, 9, 4579, 1005, 504, 6, 258, 6, 272, 11, 15, 22, 134, 44, 11, 15, 16, 8, 197, 1245, 90, 67, 52, 29, 209, 30, 32, 132, 6, 109, 15, 17, 12]),\n",
       "       list([1, 3267, 699, 3434, 2295, 56, 2, 7511, 9, 56, 3906, 1073, 81, 5, 1198, 57, 366, 737, 132, 20, 4093, 7, 2, 49, 2295, 2, 1037, 3267, 699, 3434, 8, 7, 10, 241, 16, 855, 129, 231, 783, 5, 4, 587, 2295, 2, 2, 775, 7, 48, 34, 191, 44, 35, 1795, 505, 17, 12]),\n",
       "       list([1, 53, 12, 284, 15, 14, 272, 26, 53, 959, 32, 818, 15, 14, 272, 26, 39, 684, 70, 11, 14, 12, 3886, 18, 180, 183, 187, 70, 11, 14, 102, 32, 11, 29, 53, 44, 704, 15, 14, 19, 758, 15, 53, 959, 47, 1013, 15, 14, 19, 132, 15, 39, 965, 32, 11, 14, 147, 72, 11, 180, 183, 187, 44, 11, 14, 102, 19, 11, 123, 186, 90, 67, 960, 4, 78, 13, 68, 467, 511, 110, 59, 89, 90, 67, 1390, 55, 2678, 92, 617, 80, 1274, 46, 905, 220, 13, 4, 346, 48, 235, 629, 5, 211, 5, 1118, 7, 2, 81, 5, 187, 11, 15, 9, 1709, 201, 5, 47, 3615, 18, 478, 4514, 5, 1118, 7, 232, 2, 71, 5, 160, 63, 11, 9, 2, 81, 5, 102, 59, 11, 17, 12]),\n",
       "       ...,\n",
       "       list([1, 141, 3890, 387, 81, 8, 16, 1629, 10, 340, 1241, 850, 31, 56, 3890, 691, 9, 1241, 71, 9, 5985, 2, 2, 699, 2, 2, 2, 699, 244, 5945, 4, 49, 8, 4, 656, 850, 33, 2993, 9, 2139, 340, 3371, 1493, 9, 2, 22, 2, 1094, 687, 83, 35, 15, 257, 6, 57, 9190, 7, 4, 5956, 654, 5, 2, 6191, 1371, 4, 49, 8, 16, 369, 646, 6, 1076, 7, 124, 407, 17, 12]),\n",
       "       list([1, 53, 46, 957, 26, 14, 74, 132, 26, 39, 46, 258, 3614, 18, 14, 74, 134, 5131, 18, 88, 2321, 72, 11, 14, 1842, 32, 11, 123, 383, 89, 39, 46, 235, 10, 864, 728, 5, 258, 44, 11, 15, 22, 753, 9, 42, 92, 131, 728, 5, 69, 312, 11, 15, 22, 222, 2, 3237, 383, 48, 39, 74, 235, 10, 864, 276, 5, 61, 32, 11, 15, 21, 4, 211, 5, 126, 1072, 42, 92, 131, 46, 19, 352, 11, 15, 22, 710, 220, 9, 42, 92, 131, 276, 5, 59, 61, 11, 15, 22, 10, 455, 7, 1172, 137, 336, 1325, 6, 1532, 142, 971, 6463, 43, 359, 5, 4, 326, 753, 364, 17, 12]),\n",
       "       list([1, 227, 2406, 91, 2, 125, 2855, 21, 4, 3976, 76, 7, 4, 757, 481, 3976, 790, 5259, 5654, 9, 111, 149, 8, 7, 10, 76, 223, 51, 4, 417, 8, 1047, 91, 6917, 1688, 340, 7, 194, 9411, 6, 1894, 21, 127, 2151, 2394, 1456, 6, 3034, 4, 329, 433, 7, 65, 87, 1127, 10, 8219, 1475, 290, 9, 21, 567, 16, 1926, 24, 4, 76, 209, 30, 4033, 6655, 5654, 8, 4, 60, 8, 4, 966, 308, 40, 2575, 129, 2, 295, 277, 1071, 9, 24, 286, 2114, 234, 222, 9, 4, 906, 3994, 8519, 114, 5758, 1752, 7, 4, 113, 17, 12])],\n",
       "      dtype=object)"
      ]
     },
     "execution_count": 38,
     "metadata": {},
     "output_type": "execute_result"
    }
   ],
   "source": [
    "train_data"
   ]
  },
  {
   "cell_type": "code",
   "execution_count": 35,
   "metadata": {},
   "outputs": [
    {
     "ename": "ValueError",
     "evalue": "Data cardinality is ambiguous:\n  x sizes: 9369\n  y sizes: 8982\nMake sure all arrays contain the same number of samples.",
     "output_type": "error",
     "traceback": [
      "\u001b[1;31m---------------------------------------------------------------------------\u001b[0m",
      "\u001b[1;31mValueError\u001b[0m                                Traceback (most recent call last)",
      "\u001b[1;32m<ipython-input-35-4f2d2e5c157b>\u001b[0m in \u001b[0;36m<module>\u001b[1;34m\u001b[0m\n\u001b[0;32m      9\u001b[0m \u001b[0mbase_model\u001b[0m\u001b[1;33m.\u001b[0m\u001b[0mcompile\u001b[0m\u001b[1;33m(\u001b[0m\u001b[0mloss\u001b[0m\u001b[1;33m=\u001b[0m\u001b[1;34m'categorical_crossentropy'\u001b[0m\u001b[1;33m,\u001b[0m \u001b[0moptimizer\u001b[0m\u001b[1;33m=\u001b[0m\u001b[1;34m'rmsprop'\u001b[0m\u001b[1;33m,\u001b[0m \u001b[0mmetrics\u001b[0m\u001b[1;33m=\u001b[0m\u001b[1;33m[\u001b[0m\u001b[1;34m'accuracy'\u001b[0m\u001b[1;33m]\u001b[0m\u001b[1;33m)\u001b[0m\u001b[1;33m\u001b[0m\u001b[1;33m\u001b[0m\u001b[0m\n\u001b[0;32m     10\u001b[0m \u001b[1;33m\u001b[0m\u001b[0m\n\u001b[1;32m---> 11\u001b[1;33m \u001b[0mbase_history\u001b[0m \u001b[1;33m=\u001b[0m \u001b[0mbase_model\u001b[0m\u001b[1;33m.\u001b[0m\u001b[0mfit\u001b[0m\u001b[1;33m(\u001b[0m\u001b[0mX_train\u001b[0m\u001b[1;33m,\u001b[0m \u001b[0my_train\u001b[0m\u001b[1;33m,\u001b[0m \u001b[0mepochs\u001b[0m\u001b[1;33m=\u001b[0m\u001b[1;36m20\u001b[0m\u001b[1;33m,\u001b[0m \u001b[0mbatch_size\u001b[0m\u001b[1;33m=\u001b[0m\u001b[1;36m512\u001b[0m\u001b[1;33m,\u001b[0m \u001b[0mvalidation_split\u001b[0m\u001b[1;33m=\u001b[0m\u001b[1;36m0.2\u001b[0m\u001b[1;33m,\u001b[0m \u001b[0mverbose\u001b[0m\u001b[1;33m=\u001b[0m\u001b[1;36m1\u001b[0m\u001b[1;33m)\u001b[0m\u001b[1;33m\u001b[0m\u001b[1;33m\u001b[0m\u001b[0m\n\u001b[0m",
      "\u001b[1;32m~\\anaconda3\\lib\\site-packages\\keras\\utils\\traceback_utils.py\u001b[0m in \u001b[0;36merror_handler\u001b[1;34m(*args, **kwargs)\u001b[0m\n\u001b[0;32m     68\u001b[0m             \u001b[1;31m# To get the full stack trace, call:\u001b[0m\u001b[1;33m\u001b[0m\u001b[1;33m\u001b[0m\u001b[1;33m\u001b[0m\u001b[0m\n\u001b[0;32m     69\u001b[0m             \u001b[1;31m# `tf.debugging.disable_traceback_filtering()`\u001b[0m\u001b[1;33m\u001b[0m\u001b[1;33m\u001b[0m\u001b[1;33m\u001b[0m\u001b[0m\n\u001b[1;32m---> 70\u001b[1;33m             \u001b[1;32mraise\u001b[0m \u001b[0me\u001b[0m\u001b[1;33m.\u001b[0m\u001b[0mwith_traceback\u001b[0m\u001b[1;33m(\u001b[0m\u001b[0mfiltered_tb\u001b[0m\u001b[1;33m)\u001b[0m \u001b[1;32mfrom\u001b[0m \u001b[1;32mNone\u001b[0m\u001b[1;33m\u001b[0m\u001b[1;33m\u001b[0m\u001b[0m\n\u001b[0m\u001b[0;32m     71\u001b[0m         \u001b[1;32mfinally\u001b[0m\u001b[1;33m:\u001b[0m\u001b[1;33m\u001b[0m\u001b[1;33m\u001b[0m\u001b[0m\n\u001b[0;32m     72\u001b[0m             \u001b[1;32mdel\u001b[0m \u001b[0mfiltered_tb\u001b[0m\u001b[1;33m\u001b[0m\u001b[1;33m\u001b[0m\u001b[0m\n",
      "\u001b[1;32m~\\anaconda3\\lib\\site-packages\\keras\\engine\\data_adapter.py\u001b[0m in \u001b[0;36m_check_data_cardinality\u001b[1;34m(data)\u001b[0m\n\u001b[0;32m   1849\u001b[0m             )\n\u001b[0;32m   1850\u001b[0m         \u001b[0mmsg\u001b[0m \u001b[1;33m+=\u001b[0m \u001b[1;34m\"Make sure all arrays contain the same number of samples.\"\u001b[0m\u001b[1;33m\u001b[0m\u001b[1;33m\u001b[0m\u001b[0m\n\u001b[1;32m-> 1851\u001b[1;33m         \u001b[1;32mraise\u001b[0m \u001b[0mValueError\u001b[0m\u001b[1;33m(\u001b[0m\u001b[0mmsg\u001b[0m\u001b[1;33m)\u001b[0m\u001b[1;33m\u001b[0m\u001b[1;33m\u001b[0m\u001b[0m\n\u001b[0m\u001b[0;32m   1852\u001b[0m \u001b[1;33m\u001b[0m\u001b[0m\n\u001b[0;32m   1853\u001b[0m \u001b[1;33m\u001b[0m\u001b[0m\n",
      "\u001b[1;31mValueError\u001b[0m: Data cardinality is ambiguous:\n  x sizes: 9369\n  y sizes: 8982\nMake sure all arrays contain the same number of samples."
     ]
    }
   ],
   "source": [
    "from tensorflow.keras.models import Sequential\n",
    "from tensorflow.keras.layers import Input, Dense, Dropout\n",
    "\n",
    "base_model = Sequential(name='Baseline_model')\n",
    "base_model.add(Dense(64, activation='relu'))\n",
    "base_model.add(Dense(64, activation='relu'))\n",
    "base_model.add(Dense(3, activation='softmax'))\n",
    "\n",
    "base_model.compile(loss='categorical_crossentropy', optimizer='rmsprop', metrics=['accuracy'])\n",
    "\n",
    "base_history = base_model.fit(X_train, y_train, epochs=20, batch_size=512, validation_split=0.2, verbose=1)"
   ]
  },
  {
   "cell_type": "code",
   "execution_count": null,
   "metadata": {},
   "outputs": [],
   "source": []
  }
 ],
 "metadata": {
  "kernelspec": {
   "display_name": "Python 3",
   "language": "python",
   "name": "python3"
  },
  "language_info": {
   "codemirror_mode": {
    "name": "ipython",
    "version": 3
   },
   "file_extension": ".py",
   "mimetype": "text/x-python",
   "name": "python",
   "nbconvert_exporter": "python",
   "pygments_lexer": "ipython3",
   "version": "3.8.8"
  },
  "vscode": {
   "interpreter": {
    "hash": "cb5f626699f206ef97176a4f092b8d9f6e52ae1f84b4bb3163daf9eb25ca3519"
   }
  }
 },
 "nbformat": 4,
 "nbformat_minor": 2
}
