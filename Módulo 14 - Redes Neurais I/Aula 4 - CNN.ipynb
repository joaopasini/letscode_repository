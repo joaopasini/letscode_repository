{
 "cells": [
  {
   "cell_type": "markdown",
   "metadata": {},
   "source": [
    "# **Redes Neurais Convolucionais**\n",
    "\n",
    "Neste material, vamos introduzir os principais conceitos e a implementação de **redes neurais convolucionais (convolutional neural networks - CNN)**.\n",
    "\n",
    "## **1. Introdução**\n",
    "\n",
    "Para atacar determinados problemas, precisamos modificar a **arquitetura** da rede neural empregada. Uma dessas modificações é dada por meio das redes convolucionais, sendo estas utilizadas principalmente para imagens.\n",
    "\n",
    "Considere a imagem a seguir:\n",
    "\n",
    "<center>\n",
    "<img src=\"https://s3-sa-east-1.amazonaws.com/lcpi/807be939-f81f-425c-a974-341065fb1131.jpg\" width=\"20%\" text=\"https://www.nps.gov/lacl/learn/nature/animals.htm.\"/>\n",
    "</center>\n",
    "\n",
    "*Uma raposa em seu habitat. Mas você não precisou ler esta legenda para reconhecer isto... *\n",
    "\n",
    "Para humanos, é fácil reconhecer que a imagem se trata de uma raposa. E é bem provável que ainda conseguiríamos identificar a imagem de uma raposa em representações mais gerais, como, por exemplo, se ela estivesse de frente ao invés de estar de perfil. Esta generalização, embora fácil pra humanos, é um problema **muito complicado para as redes neurais de arquitetura mais simples**, como a rede neural densa que construímos anteriormente.\n",
    "\n",
    "Lembre que uma imagem é representada por uma **matriz de números**.  Para resolução de problemas em que a base de dados é uma imagem, seja para rede neural ou outros problemas de machine learning (como random forest e svm), os atributos de entrada são cada pixel da imagem. A imagem da raposa acima tem 700 pixels de altura e 700 pixels de largura. Ou seja, o quadrado inteiro da imagem tem 700 x 700 = **490.000 pixels**. Lembre-se também de que uma foto colorida é composta por **3 canais de cores**, vermelho, verde e azul (**RGB**):\n",
    "\n",
    "<center>\n",
    "<img src=\"https://s3-sa-east-1.amazonaws.com/lcpi/8ef5da91-7dfa-46b4-b84d-7fa5af75c2a6.png\" width=\"70%\"/>\n",
    "</center>\n",
    "\n",
    " Assim, nossa imagem terá: ( 700 * 700 * 3 = 1.470.000) inputs! Se optarmos por utilizar como primeira camada oculta uma camada densa com 1000 neurônios, teremos uma matriz de pesos para a primeira camada de: 1.470.000 (quantidade de entradas) * 1000 (quantidade de neurônios)= 1.470.000.000) elementos: cerca de **1.5 bilhão de parâmetros só para primeira camada**! Com essa quantidade enorme de parâmetros é extremamente difícil não cair em **overfitting** mesmo com uma quantidade **muito grande de observações no conjunto de treinamento**.\n",
    "\n",
    "Além disso, há um outro problema: quando utilizamos essa imagem em uma rede neural, fatiamos a imagem para montar o vetor de input, simplesmente empilhando as colunas da matriz, com isso perdemos muita informação espacial relevante. Pense no pequeno bloco de pixels que corresponde ao olho da raposa: a **posição dos pixels** e de **seus vizinhos mais próximos** carregam **muita informação** sobre o objeto \"olho\":\n",
    "\n",
    "<center>\n",
    "<img src=\"https://s3-sa-east-1.amazonaws.com/lcpi/79937950-01a6-4bb8-bca0-bb0419e7f869.png\" width=\"25%\"/>\n",
    "</center>\n",
    "\n",
    "Enfim, seja pela quantidade imensa de parâmetros (tendência ao overfitting), seja pela perda de muita informação espacial, precisamos de um novo método que possa melhorar a forma que a rede neural **trabalha com inputs pictóricos**."
   ]
  },
  {
   "cell_type": "markdown",
   "metadata": {},
   "source": [
    "## **2. Filtros**\n",
    "\n",
    "A introdução de filtros de imagem (ou *kernels*) antes de passar a imagem para uma rede neural convencional teve uma importância crucial para resolver os desafios listados na seção anterior.\n",
    "\n",
    "Os filtros nos permitem detectar **bordas na imagem**, ao mesmo tempo em que mantêm a quantidade de parâmetros relativamente **baixa**. Como as próprias imagens, os filtros são representados por **pequenas matrizes**, com certos padrões numéricos únicos. Abaixo, temos dois exemplos de filtros: o primeiro serve para detectar bordas verticais na imagem; o segundo, horizontais. \n",
    "\n",
    "<center>\n",
    "<img src=\"https://s3-sa-east-1.amazonaws.com/lcpi/83a95036-3ad7-4280-85ad-32d0d3bb567f.png\" width=\"30%\"/>\n",
    "</center>\n",
    "\n",
    "Ao aplicar filtro em uma imagem, temos uma image pré-processada que pode realçar ou simplificar determinadas features. Por exemplo, se tivermos a dada imagem do palácio abaixo, podemos aplicar filtros para reassaltar as bordas e estrutura geral do palácio mais importantes por meio de filtros de bordas.\n",
    "\n",
    "<center>\n",
    "<img src=\"https://upload.wikimedia.org/wikipedia/commons/8/85/Filtro_bordes_original_laplace_sobel.jpg?20100424174950\" width=\"90%\"/>\n",
    "</center>\n",
    "\n",
    "Semelhantemente, podemos aplicar filtros de suavização em que, nos permite, por exemplo, deixar o fundo da imagem da webcam desfocado em uma aula online. \n",
    "\n",
    "Esses filtros são amplamente utilizados em processamento digital de imagens, além de redes convolucionais, e a aplicação desses filtros tem como base a operação de convolução."
   ]
  },
  {
   "cell_type": "markdown",
   "metadata": {},
   "source": [
    "### **2.1 Convolução**\n",
    "\n",
    "A operação que realizamos entre a matriz da imagem e um determinado filtro é chamada de **convolução**. \n",
    "\n",
    "Seja a matriz de uma imagem P&B de 6 pixels x 6 pixels e o filtro de bordas verticais que apresentamos. Para calcular a operação de convolução, denotada por um asterisco *, entre a imagem e o filtro:\n",
    "\n",
    "- começamos \"sobrepondo\" o filtro no canto superior direito da matriz da imagem;\n",
    "- calculamos o produto, elemento por elemento, do filtro com o trecho da imagem sobreposto e somamos tudo. No exemplo, abaixo, temos:\n",
    "\n",
    " 1 * 2 + 1 * 7 + 1 * 0 + 0 * 1 + 0 * 4 + 0 * 9 + (-1) * 0 + (-1) * 2 + (-1) * 10 = -3 \n",
    "\n",
    "O resultado, -3, será o primeiro elemento da matriz 4x4 resultante da convolução, como ilustra a 1ª etapa da figura abaixo;\n",
    "\n",
    "- a seguir, deslizamos nosso filtro uma casa para direita sobre a matriz da imagem e reproduzimos o cálculo de soma dos produtos; neste caso, dá -8 (2ª etapa);\n",
    "- quando cobrirmos todas essas colunas nessas 3 primeiras linhas, voltamos ao canto esquerdo, **descemos** 1 linha e continuamos, até a 16ª etapa, quando preenchemos toda a matriz-resultado à esquerda. \n",
    "\n",
    "<center>\n",
    "<img src=\"https://s3-sa-east-1.amazonaws.com/lcpi/1f634646-1d13-44b9-945c-c65a8489cb94.png\" width=\"70%\"/>\n",
    "</center>\n",
    "\n",
    "**Nota**: o número de casas \"puladas\" a cada etapa, chamado *stride*, não precisa ser 1. Também podemos controlar o tamanho final da nossa matriz resultado da convolução. Ela não precisa ser menor (4x4) do que a original (6x6); podemos ajustar o *padding*, outro hiperparâmetro, para conservar a dimensão original. \n",
    "\n",
    "<center>\n",
    "<img src=https://miro.medium.com/max/658/0*jLoqqFsO-52KHTn9.gif width=400>\n",
    "</center>"
   ]
  },
  {
   "cell_type": "markdown",
   "metadata": {},
   "source": [
    "### **2.2 Imagens coloridas**\n",
    "\n",
    "Se a imagem for **colorida**, em vez de uma matriz de imagem e uma de filtro, cada uma delas será composta de 3 matrizes, uma para cada cor: vermelha, verde e azul. O procedimento de cálculo é como no caso da imagem P&B, com a diferença de que todos os 3 filtros vão percorrer, juntos, cada um uma camada de cor. Em cada iteração, seus resultado também serão somados, de modo que a matriz final continuará tendo dimensão 4x4. A figura abaixo demonstra o processo: \n",
    "\n",
    "<center>\n",
    "<img src=\"https://s3-sa-east-1.amazonaws.com/lcpi/73c5d655-2984-4b31-bddb-f55da57c5bbe.png\" width=\"80%\"/>\n",
    "</center>"
   ]
  },
  {
   "cell_type": "markdown",
   "metadata": {},
   "source": [
    "### **2.3 Filtros em CNNs**\n",
    "Conforme descrito no início do tópico 2, os filtros são utilizados há anos em diferentes contextos, não apenas em redes convolucionais.\n",
    "\n",
    "Isso ocorre porque, devido à **capacidade dos filtros de aguçar e/ou diminuir informação**, como trabalhar com imagens em geral é uma tarefa de grande complexidade devido à quantidade de entradas, é comum utilizarmos diferentes técnicas de processamento digital de imagens para **extrair features mais importantes**, sendo esta imagem resultante utilizada como entrada de um classificador por exemplo, como rede neural ou um SVM. \n",
    "\n",
    "Existem diversas **técnicas de pré-processamento de imagens** que podem ser utilizadas sendo a maioria delas é baseada na utilização de filtros. Entretanto, esse **processo é custoso porque, em geral, é algo definido experimentalmente**, isto é, cabe ao profissional identificar quais melhores filtros se encaixam como extratores de features para um dado problema. \n",
    "\n",
    "Além disso, em cenários reais tem-se uma base de dados com imagens de diferentes formas. Por exemplo, para classificar placas de trânsito, podemos ter fotos da estrada em diferentes horários, ou clima (sol, chuva, neve, nublado), distâncias, ou ainda podemos ter placas mais antigas, cujo material pode estar desgastado com o tempo.\n",
    "\n",
    "Todos esses cenários devem estar inclusos no pré-processamento e, como esse processo é manual, é consideravelmente **custoso  encontrar uma combinação de filtros que generalize bem para todos os contextos**. Por fim, caso exista qualquer modificação da base de dados, existe sempre o risco de repetir todo o processo para encontrar novos filtros.\n",
    "\n",
    "Sendo assim, visando reduzir esse processo, as redes convolucionais \"agregam\" este pré-processamento na própria rede, sendo o objetivo dessas redes **aprender a combinação de filtros que mais adequada para o problema desejado**. Isso reduz consideravelmente o processo manual e permite uma maior capacidade de generalização.\n",
    "\n",
    "<center>\n",
    "<img src=\"https://semiengineering.com/wp-content/uploads/2018/01/MLvsDL.png\" width=\"60%\"/>\n",
    "</center>\n",
    "\n",
    "E como as redes convolucionais aprendem a combinação de filtros mais adequada? Lembremos que, em uma rede tradicional (também conhecida como MLP ou rede neural multicamada), tem-se uma estrutura **em camadas**, em que os neurônios possuem pesos que serão aprendidos de forma a representar matematicamente a saída em termos dos atributos de entrada do problema.\n",
    "\n",
    "<center>\n",
    "<img src=\"https://uploads-ssl.webflow.com/5e6b6ac0d1fd2b1f242cc0cb/5f201fc59a54002670de36a4_5eac2bb7d3cad50315947c84_Untitled-3.jpg\" width=\"45%\"/>\n",
    "</center>\n",
    "\n",
    "**Em uma rede convolucional, esses pesos representam os números da matriz do filtro**. Por exemplo, em um filtro de bordas verticais, temos como valores desse filtro a matriz [1,0,-1], repetido em diferentes linhas. Em CNNs, cada valor é um peso que deverá ser aprendido ao longo do treinamento da rede.\n",
    "\n",
    "Neste exemplo, podemos pensar que a rede inicie um filtro com valores aleatórios e, durante o aprendizado, esses pesos sejam otimizados, até chegar nos valores do filtro de bordas verticais. Isso indica que, para a rede, essa combinação de valores gera um filtro que irá extrair as features de uma forma significariva para o problema.\n",
    "\n",
    "<center>\n",
    "<img src=\"https://s3-sa-east-1.amazonaws.com/lcpi/83a95036-3ad7-4280-85ad-32d0d3bb567f.png\" width=\"30%\"/>\n",
    "</center>\n",
    "\n",
    "Com isto, ao invés de termos pesos, cada um associado a uma entrada da imagem, temos uma pequena matriz de pesos (como dimensão 3x3 por exemplo), que é aplicada ao longo da imagem, totalizando 9 pesos. Além disso, por meio dessa estrutura podemos trabalhar com imagens ao invés de um vetor de inputs, permitindo que a rede possa aprender a relação espacial entre as features."
   ]
  },
  {
   "cell_type": "markdown",
   "metadata": {},
   "source": [
    "## **3. Múltiplos filtros**\n",
    "\n",
    "Para identificar formas mais complexas, não basta apenas um único filtro, vertical ou horizontal. Na prática, queremos poder ter N filtros, cada um responsável por uma forma específica. \n",
    "\n",
    "Conforme ilustra a próxima figura: para cada filtro, aplicamos o processo de convolução. Ao fim, teremos **N matrizes bidimensionais**, que podemos empilhar para formar uma nova matriz tridimensional e, se quisermos, continuarmos aplicando a operação de convolução.\n",
    "\n",
    "<center>\n",
    "<img src=\"https://s3-sa-east-1.amazonaws.com/lcpi/8baa30ea-9867-4bb6-88c8-2f23c9465bf3.png\" width=\"100%\"/>\n",
    "</center>"
   ]
  },
  {
   "cell_type": "markdown",
   "metadata": {},
   "source": [
    "## **4. Max Pooling**\n",
    "\n",
    "Outros procedimentos bastante usados são os de amostragem, entre os quais o mais usado é o **max pooling**. Ele consiste em particionar a imagem em blocos (conjuntos de pixels) e, para cada um desses blocos, ele **retorna o maior valor entre os pixels.**\n",
    "\n",
    "Imagine que tomamos o primeiro bloco 3x3 de uma imagem (bloco do canto superior esquerdo), que tem como valor dos pixels: $$( (70, 90, 95, 62, 57, 1, 41, 68, 53) )$$.  Se aplicarmos o max pooling a este bloco, obteremos 95, que é o maior elemento do bloco.\n",
    "\n",
    "Se repetirmos a operação para toda a matriz da imagem, o que obteremos no fim é uma nova matriz, menor do que a original, apenas com os **pixels de valores mais altos dela**. Assim, max pooling pode ser visto como forma de **compressão da imagem original**.\n",
    "\n",
    "Sendo assim, esse recurso é bastante utilizado para reduzirmos a quantidade de features que não são muito significativas para o problema através de agregação dos dados. Outro pooling muito utilizado é o **average pooling**.\n",
    "\n",
    "O average pooling produz mapas de features mais suaves e desfocados enquanto o max pooling produz mapas de features mais nítidos e descontínuos. No entanto, não é garantido que qualquer uma das representações seja a melhor para nossas aplicações.\n",
    "\n",
    "<center>\n",
    "<img src=https://production-media.paperswithcode.com/methods/MaxpoolSample2.png width=400 text=\"https://paperswithcode.com/method/max-pooling\">\n",
    "</center>\n",
    "\n",
    "A vantagem dessa camada é que ela **compacta a informação quase sem gerar custo para a rede neural**. Isso porque ela reduz pela metade, quando o pooling é feito com matrizes 2x2, e **não possui nenhum peso ou parâmetro a ser aprendido pela rede**.\n",
    "\n",
    "#### Efeito do Max Pooling na imagem\n",
    "\n",
    "<center>\n",
    "<img src=https://gudgud96.github.io/img/mean-vs-max-pool.png width=700 text=\"https://gudgud96.github.io/2020/11/25/param-pooling\">\n",
    "</center>"
   ]
  },
  {
   "cell_type": "markdown",
   "metadata": {},
   "source": [
    "Drawback de utilizar max e average pooling\n",
    "\n",
    "<img src=https://www.researchgate.net/profile/Hanli-Wang-2/publication/300020038/figure/fig2/AS:404961465782275@1473561745471/Toy-example-illustrating-the-drawbacks-of-max-pooling-and-average-pooling.png text=\"https://www.researchgate.net/figure/Toy-example-illustrating-the-drawbacks-of-max-pooling-and-average-pooling_fig2_300020038\">"
   ]
  },
  {
   "cell_type": "markdown",
   "metadata": {},
   "source": [
    "## **5. Arquitetura de uma rede neural convolucional**\n",
    "\n",
    "Por fim, juntando tudo que aprendemos até aqui, podemos construir uma rede neural convolucional (CNN, na sigla em inglês) completa. \n",
    "\n",
    "A figura abaixo ilustra um modelo genérico. Note que a imagem de input pode passar por várias camadas de convolução e *pooling* antes de, efetivamente, entrar na rede neural totalmente conectada que estamos habituados. \n",
    "\n",
    "<center>\n",
    "<img src=\"https://s3-sa-east-1.amazonaws.com/lcpi/5afe976c-6deb-4b63-9fef-ae7176eb295a.png\" width=\"100%\"/>\n",
    "</center>\n",
    "\n",
    "\n",
    "Todas essas camadas anteriores garantem que features de alto nível de abstração, como rostos, carros, bicicletas, etc., estão sendo construídas ao longo da rede, partindo de lá do começo, dos filtros verticais e outros. Esse procedimento, feito nas primeiras camadas da CNN, é chamado de **feature extraction**. Já a classificação em si, é feita pela componente **classificadora** da rede neural, que comumente tem arquitetura densa. De forma genérica, a CNN é composta por estas duas componentes:\n",
    "\n",
    "<center>\n",
    "<img src=\"https://miro.medium.com/max/3712/1*7K4ZTTfZb-hbjoADbisHAg.png\" width=\"80%\"/>\n",
    "</center>\n"
   ]
  },
  {
   "cell_type": "markdown",
   "metadata": {},
   "source": [
    "<center>\n",
    "<img src=https://miro.medium.com/max/875/1*uAeANQIOQPqWZnnuH-VEyw.jpeg text=\"https://towardsdatascience.com/a-comprehensive-guide-to-convolutional-neural-networks-the-eli5-way-3bd2b1164a53\" width=700>\n",
    "</center>"
   ]
  },
  {
   "cell_type": "markdown",
   "metadata": {},
   "source": [
    "\n",
    "#### Exemplo do que acontece nas camadas intermediárias\n",
    "\n",
    "<center>\n",
    "<img src=https://www.researchgate.net/profile/Siva-Chaitanya-Mynepalli/publication/281607765/figure/fig1/AS:284643598323714@1444875730488/Learning-hierarchy-of-visual-features-in-CNN-architecture.png width=800>\n",
    "</center>"
   ]
  },
  {
   "cell_type": "markdown",
   "metadata": {},
   "source": [
    "Os filtros/kernels que serão aplicados na etapa convolucionão terão seus valores/pesos aprendidos durante o treinamento da rede convolucional.\n",
    "\n",
    "<figure>\n",
    "<center>\n",
    "<img src=https://ml4a.github.io/images/figures/rolled_weights_mnist_0.png text=\"https://ml4a.github.io/ml4a/looking_inside_neural_nets/\" width=400>\n",
    "</center>\n",
    "\n",
    "<figcaption align = \"center\"><b>Visualizando os pesos para todos os neurônios de saída de um classificador MNIST.</b></figcaption>\n",
    "</figure>\n",
    "\n",
    "Esta é uma dica do que é realmente especial sobre as partes internas das redes neurais: elas formam representações dos objetos em que são treinadas, e essas representações podem ser úteis para muito mais do que simples classificação ou previsão."
   ]
  },
  {
   "cell_type": "markdown",
   "metadata": {},
   "source": [
    "#### Demo\n",
    "\n",
    "<figure>\n",
    "<center>\n",
    "<img src=\"demo_CNN.png\" width=600>\n",
    "</center>\n",
    "\n",
    "<figcaption align = \"center\"><b>https://ml4a.github.io/demos/convolution_all/</b></figcaption>\n",
    "</figure>\n",
    "\n",
    "## **6. CNN em Python**\n",
    "\n",
    "Vamos agora construir nossa CNN, utilizando o Keras!\n",
    "\n",
    "Vamos ler o MNIST e fazer as mesmas etapas de pré-processamento que fizemos no material anterior:"
   ]
  },
  {
   "cell_type": "code",
   "execution_count": 2,
   "metadata": {},
   "outputs": [
    {
     "name": "stdout",
     "output_type": "stream",
     "text": [
      "(60000, 28, 28) (10000, 28, 28) (60000,) (10000,)\n"
     ]
    }
   ],
   "source": [
    "import numpy as np\n",
    "import pandas as pd\n",
    "import os\n",
    "\n",
    "from tensorflow.keras.datasets import mnist\n",
    "\n",
    "(x_train, y_train), (x_test, y_test) = mnist.load_data()\n",
    "\n",
    "print(x_train.shape, x_test.shape, y_train.shape, y_test.shape)\n",
    "\n",
    "# rescale das imagens (normalização)\n",
    "m = np.max(x_train)\n",
    "x_train = x_train/m\n",
    "x_test = x_test/m"
   ]
  },
  {
   "cell_type": "code",
   "execution_count": 5,
   "metadata": {},
   "outputs": [
    {
     "name": "stdout",
     "output_type": "stream",
     "text": [
      "(60000,) (10000,)\n",
      "(60000, 10) (10000, 10)\n"
     ]
    }
   ],
   "source": [
    "from tensorflow.keras.utils import to_categorical\n",
    "\n",
    "print(y_train.shape, y_test.shape)\n",
    "\n",
    "y_train = to_categorical(y_train)\n",
    "y_test = to_categorical(y_test)\n",
    "\n",
    "print(y_train.shape, y_test.shape)"
   ]
  },
  {
   "cell_type": "code",
   "execution_count": 6,
   "metadata": {},
   "outputs": [
    {
     "data": {
      "text/plain": [
       "array([[0., 0., 0., ..., 0., 0., 0.],\n",
       "       [1., 0., 0., ..., 0., 0., 0.],\n",
       "       [0., 0., 0., ..., 0., 0., 0.],\n",
       "       ...,\n",
       "       [0., 0., 0., ..., 0., 0., 0.],\n",
       "       [0., 0., 0., ..., 0., 0., 0.],\n",
       "       [0., 0., 0., ..., 0., 1., 0.]], dtype=float32)"
      ]
     },
     "execution_count": 6,
     "metadata": {},
     "output_type": "execute_result"
    }
   ],
   "source": [
    "y_train"
   ]
  },
  {
   "cell_type": "code",
   "execution_count": 7,
   "metadata": {},
   "outputs": [],
   "source": [
    "from random import random\n",
    "from sklearn.model_selection import train_test_split\n",
    "\n",
    "x_train, x_val, y_train, y_val = train_test_split(x_train, y_train, test_size=0.1, random_state=42, stratify=y_train)"
   ]
  },
  {
   "cell_type": "code",
   "execution_count": 8,
   "metadata": {},
   "outputs": [
    {
     "name": "stdout",
     "output_type": "stream",
     "text": [
      "(54000, 28, 28) (6000, 28, 28) (54000, 10) (6000, 10)\n"
     ]
    }
   ],
   "source": [
    "print(x_train.shape, x_val.shape, y_train.shape, y_val.shape)"
   ]
  },
  {
   "cell_type": "markdown",
   "metadata": {},
   "source": [
    "Agora definimos a arquitetura de nossa rede neural, usando o Keras!\n",
    "\n",
    "A componente de feature extraction de nossa CNN será composta por:\n",
    "\n",
    "- Uma camada de [convoluções 2D](https://keras.io/api/layers/convolution_layers/convolution2d/) com 32 filtros 3x3, com função de ativação ReLu;\n",
    "- Uma camada de [max pooling 2D](https://keras.io/api/layers/pooling_layers/max_pooling2d/) com blocos 2x2;\n",
    "- Uma camada de convoluções 2D com 64 filtros 3x3, com função de ativação ReLu;\n",
    "- Uma camada de max pooling 2D com blocos 2x2;\n",
    "- Uma camada [flatten](https://keras.io/api/layers/reshaping_layers/flatten/), que transforma a matriz final representante da imagem em um vetor unidimensional, que será input da componente de classificação.\n",
    "\n",
    "A componente de classificação da CNN será uma rede neural densa composta por:\n",
    "\n",
    "- Uma camada [densa](https://keras.io/api/layers/core_layers/dense/) com 100 neurônios, com função de ativação ReLu;\n",
    "- Uma camada de output com função de ativação Softmax, dado que temos um problema de classificação multiclasse.\n",
    "\n",
    "É importante notar que a arquitetura descrita acima não é a única possível. É sempre sua responsabilidade fazer escolhas importantes como: quais camadas utilizar e quais seus parâmetros (exemplo: o número de filtro nas convoluções, o tamanho dos blocos no max pooling, o número de neurônios na camada densa, etc.). Como sempre, o processo é iterativo: experimente diferentes arquiteturas até encontrar a mais adequada!\n",
    "\n",
    "No código:"
   ]
  },
  {
   "cell_type": "code",
   "execution_count": 9,
   "metadata": {},
   "outputs": [],
   "source": [
    "# Importação de funções úteis do Keras\n",
    "from tensorflow.keras.layers import Conv2D, MaxPooling2D, Flatten, Dense\n",
    "from tensorflow.keras.models import Sequential\n",
    "\n",
    "cnn = Sequential()\n",
    "\n",
    "# feature extraction\n",
    "cnn.add(Conv2D(32, kernel_size=(3, 3), activation='relu', input_shape=(28, 28, 1)))\n",
    "cnn.add(MaxPooling2D(pool_size=(2,2)))\n",
    "cnn.add(Conv2D(64, kernel_size=(3, 3), activation='relu'))\n",
    "cnn.add(MaxPooling2D(pool_size=(2,2)))\n",
    "cnn.add(Flatten())\n",
    "\n",
    "# classificação\n",
    "cnn.add(Dense(100, activation='relu'))\n",
    "cnn.add(Dense(10, activation='softmax'))"
   ]
  },
  {
   "cell_type": "markdown",
   "metadata": {},
   "source": [
    "Agora, compilamos a rede neural, explicitando o otimizador e a função de perda desejadas:"
   ]
  },
  {
   "cell_type": "code",
   "execution_count": 16,
   "metadata": {},
   "outputs": [],
   "source": [
    "from tensorflow.keras.optimizers import RMSprop\n",
    "\n",
    "rmsprop = RMSprop(learning_rate=0.00015)\n",
    "cnn.compile(optimizer=rmsprop, loss='categorical_crossentropy', metrics=['accuracy'])\n",
    "# cnn.compile(optimizer='rmsprop', loss='categorical_crossentropy', metrics=['accuracy'])"
   ]
  },
  {
   "cell_type": "markdown",
   "metadata": {},
   "source": [
    "Por fim, treinamos a rede neural! Basta usar o método \".fit()\", determinando o número de epochs bem como os dados de treino e validação:"
   ]
  },
  {
   "cell_type": "code",
   "execution_count": 17,
   "metadata": {},
   "outputs": [
    {
     "name": "stdout",
     "output_type": "stream",
     "text": [
      "Epoch 1/5\n",
      "1688/1688 [==============================] - 10s 5ms/step - loss: 0.4563 - accuracy: 0.9463 - val_loss: 0.1215 - val_accuracy: 0.9678\n",
      "Epoch 2/5\n",
      "1688/1688 [==============================] - 9s 6ms/step - loss: 0.0785 - accuracy: 0.9792 - val_loss: 0.1000 - val_accuracy: 0.9777\n",
      "Epoch 3/5\n",
      "1688/1688 [==============================] - 9s 6ms/step - loss: 0.0625 - accuracy: 0.9842 - val_loss: 0.0911 - val_accuracy: 0.9792\n",
      "Epoch 4/5\n",
      "1688/1688 [==============================] - 9s 5ms/step - loss: 0.0537 - accuracy: 0.9871 - val_loss: 0.0850 - val_accuracy: 0.9772\n",
      "Epoch 5/5\n",
      "1688/1688 [==============================] - 9s 5ms/step - loss: 0.0514 - accuracy: 0.9879 - val_loss: 0.1304 - val_accuracy: 0.9822\n"
     ]
    },
    {
     "data": {
      "text/plain": [
       "<keras.callbacks.History at 0x7fc9e0abda30>"
      ]
     },
     "execution_count": 17,
     "metadata": {},
     "output_type": "execute_result"
    }
   ],
   "source": [
    "cnn.fit(x_train, y_train, epochs=5, verbose=1, validation_data=(x_val, y_val))"
   ]
  },
  {
   "cell_type": "code",
   "execution_count": 18,
   "metadata": {},
   "outputs": [
    {
     "name": "stdout",
     "output_type": "stream",
     "text": [
      "Model: \"sequential\"\n",
      "_________________________________________________________________\n",
      " Layer (type)                Output Shape              Param #   \n",
      "=================================================================\n",
      " conv2d (Conv2D)             (None, 26, 26, 32)        320       \n",
      "                                                                 \n",
      " max_pooling2d (MaxPooling2D  (None, 13, 13, 32)       0         \n",
      " )                                                               \n",
      "                                                                 \n",
      " conv2d_1 (Conv2D)           (None, 11, 11, 64)        18496     \n",
      "                                                                 \n",
      " max_pooling2d_1 (MaxPooling  (None, 5, 5, 64)         0         \n",
      " 2D)                                                             \n",
      "                                                                 \n",
      " flatten (Flatten)           (None, 1600)              0         \n",
      "                                                                 \n",
      " dense (Dense)               (None, 100)               160100    \n",
      "                                                                 \n",
      " dense_1 (Dense)             (None, 10)                1010      \n",
      "                                                                 \n",
      "=================================================================\n",
      "Total params: 179,926\n",
      "Trainable params: 179,926\n",
      "Non-trainable params: 0\n",
      "_________________________________________________________________\n"
     ]
    }
   ],
   "source": [
    "cnn.summary()"
   ]
  },
  {
   "cell_type": "markdown",
   "metadata": {},
   "source": [
    "E, pronto! A rede neural está treinada! Podemos utilizar o classification report para avaliar sua performance nos dados de teste:"
   ]
  },
  {
   "cell_type": "code",
   "execution_count": 20,
   "metadata": {},
   "outputs": [
    {
     "name": "stdout",
     "output_type": "stream",
     "text": [
      "313/313 [==============================] - 1s 2ms/step\n"
     ]
    }
   ],
   "source": [
    "y_pred = cnn.predict(x_test)\n",
    "y_pred = np.argmax(y_pred, axis=1)"
   ]
  },
  {
   "cell_type": "code",
   "execution_count": 23,
   "metadata": {},
   "outputs": [
    {
     "data": {
      "text/plain": [
       "array([7, 2, 1, ..., 4, 5, 6])"
      ]
     },
     "execution_count": 23,
     "metadata": {},
     "output_type": "execute_result"
    }
   ],
   "source": [
    "y_pred"
   ]
  },
  {
   "cell_type": "code",
   "execution_count": 25,
   "metadata": {},
   "outputs": [],
   "source": [
    "y_test_ = np.argmax(y_test, axis=1)"
   ]
  },
  {
   "cell_type": "code",
   "execution_count": 27,
   "metadata": {},
   "outputs": [
    {
     "name": "stdout",
     "output_type": "stream",
     "text": [
      "              precision    recall  f1-score   support\n",
      "\n",
      "           0       0.98      0.99      0.99       980\n",
      "           1       0.99      1.00      0.99      1135\n",
      "           2       0.99      0.98      0.99      1032\n",
      "           3       0.99      0.99      0.99      1010\n",
      "           4       0.99      0.99      0.99       982\n",
      "           5       0.99      0.97      0.98       892\n",
      "           6       0.99      0.99      0.99       958\n",
      "           7       0.98      0.99      0.98      1028\n",
      "           8       0.99      0.98      0.99       974\n",
      "           9       0.98      0.98      0.98      1009\n",
      "\n",
      "    accuracy                           0.99     10000\n",
      "   macro avg       0.99      0.99      0.99     10000\n",
      "weighted avg       0.99      0.99      0.99     10000\n",
      "\n"
     ]
    }
   ],
   "source": [
    "from sklearn.metrics import classification_report\n",
    "\n",
    "print(classification_report(y_test_, y_pred))"
   ]
  },
  {
   "cell_type": "markdown",
   "metadata": {},
   "source": [
    "## Data Augmentation\n",
    "Podemos aumentar a quantidade de imagens aplicando nelas algumas transformações como:\n",
    "\n",
    "- **rotation_range:** valor em graus (0-180) do range em que a imagem será rotacionada randomicamente;\n",
    "- **width_shift e height_shift** são ranges nos quais as imagens serão transladadas randomicamente na vertical e na horizontal;\n",
    "- **rescale:** muda a escala da imagem, em geral ela vem com os valores de pixel no intervalo de 0-255, mas para inputar no modelo precisamos escalar esses valores por 1/255. para que fiquem no intervalo 0-1;\n",
    "- **shear_range:** aplicar randomicamente transformações  [shearing](https://en.wikipedia.org/wiki/Shear_mapping);\n",
    "- **zoom_range:** aplica zoom randomicamente na imagem;\n",
    "- **horizontal_flip:** aplica randomicamente um flip horizontal nas imagens. Essa transformação é relevante quando assumimos que não há assimetria horizontal, como no caso de fotos reais;\n",
    "- **fill_mode:** indica como preencher os nulos que foram criados após aplicarmos transformações como a rotação da imagem ou um shift horizontal/vertical.\n",
    "\n",
    "Essas transformações ajudam a prevenir o overfitting, já que teremos mais imagens para treinamento. Um modelo exposto a poucos exemplos pode aprender padrões que não se generalizam para novos dados, ou seja, ele passa a usar features irrelevantes para fazer previsões.\n",
    "\n",
    "No keras temos o [ImageDataGenerator](https://www.tensorflow.org/api_docs/python/tf/keras/preprocessing/image/ImageDataGenerator) que realiza essa função."
   ]
  },
  {
   "cell_type": "code",
   "execution_count": 36,
   "metadata": {},
   "outputs": [
    {
     "name": "stdout",
     "output_type": "stream",
     "text": [
      "Epoch 1/5\n",
      "750/750 [==============================] - 13s 17ms/step - loss: 1.9372 - accuracy: 0.3092 - val_loss: 1.6376 - val_accuracy: 0.4408\n",
      "Epoch 2/5\n",
      "750/750 [==============================] - 13s 18ms/step - loss: 1.3584 - accuracy: 0.5389 - val_loss: 1.1481 - val_accuracy: 0.6154\n",
      "Epoch 3/5\n",
      "750/750 [==============================] - 13s 17ms/step - loss: 1.0252 - accuracy: 0.6587 - val_loss: 0.9278 - val_accuracy: 0.6957\n",
      "Epoch 4/5\n",
      "750/750 [==============================] - 13s 17ms/step - loss: 0.8371 - accuracy: 0.7241 - val_loss: 0.7165 - val_accuracy: 0.7667\n",
      "Epoch 5/5\n",
      "750/750 [==============================] - 13s 18ms/step - loss: 0.7131 - accuracy: 0.7636 - val_loss: 0.7272 - val_accuracy: 0.7651\n"
     ]
    }
   ],
   "source": [
    "from turtle import width\n",
    "from tensorflow.keras.preprocessing.image import ImageDataGenerator\n",
    "\n",
    "(x_train, y_train), (x_test, y_test) = mnist.load_data()\n",
    "x_train = x_train.reshape(x_train.shape[0], 28, 28, 1)\n",
    "x_test = x_test.reshape(x_test.shape[0], 28, 28, 1)\n",
    "\n",
    "# define transformações\n",
    "dataGen = ImageDataGenerator(\n",
    "      rescale=1./255,\n",
    "      rotation_range=40,\n",
    "      width_shift_range=0.2,\n",
    "      height_shift_range=0.2,\n",
    "      shear_range=0.2,\n",
    "      zoom_range=0.2,\n",
    "      horizontal_flip=True,\n",
    "      fill_mode='nearest',\n",
    "      validation_split=0.2)\n",
    "\n",
    "# faz o fit no conjunto de treino\n",
    "dataGen.fit(x_train)\n",
    "\n",
    "# cria novo dataset adicionando transformações no treino\n",
    "train_generator = dataGen.flow(\n",
    "    x_train,\n",
    "    y_train,\n",
    "    batch_size=64,\n",
    "    seed=2,\n",
    "    subset='training'\n",
    ")\n",
    "\n",
    "# cria novo dataset adicionando transformações na validação\n",
    "validation_generator = dataGen.flow(\n",
    "    x_train,\n",
    "    y_train,\n",
    "    batch_size=64,\n",
    "    seed=2,\n",
    "    subset='validation'\n",
    ")\n",
    "\n",
    "# compilar modelo\n",
    "cnn.compile(loss='sparse_categorical_crossentropy', optimizer='rmsprop', metrics=['accuracy'])\n",
    "\n",
    "# faz o fit\n",
    "history = cnn.fit(\n",
    "    train_generator,\n",
    "    epochs=5,\n",
    "    validation_data=validation_generator\n",
    ")\n",
    "\n"
   ]
  },
  {
   "cell_type": "code",
   "execution_count": 32,
   "metadata": {},
   "outputs": [
    {
     "data": {
      "text/plain": [
       "(60000, 28, 28, 1)"
      ]
     },
     "execution_count": 32,
     "metadata": {},
     "output_type": "execute_result"
    }
   ],
   "source": [
    "x_train.shape"
   ]
  },
  {
   "cell_type": "code",
   "execution_count": 37,
   "metadata": {},
   "outputs": [
    {
     "data": {
      "image/png": "[encoded data removed]",
      "text/plain": [
       "<Figure size 200x200 with 1 Axes>"
      ]
     },
     "metadata": {},
     "output_type": "display_data"
    },
    {
     "data": {
      "image/png": "[encoded data removed]",
      "text/plain": [
       "<Figure size 200x200 with 1 Axes>"
      ]
     },
     "metadata": {},
     "output_type": "display_data"
    },
    {
     "data": {
      "image/png": "[encoded data removed]",
      "text/plain": [
       "<Figure size 200x200 with 1 Axes>"
      ]
     },
     "metadata": {},
     "output_type": "display_data"
    },
    {
     "data": {
      "image/png": "[encoded data removed]",
      "text/plain": [
       "<Figure size 200x200 with 1 Axes>"
      ]
     },
     "metadata": {},
     "output_type": "display_data"
    },
    {
     "data": {
      "image/png": "[encoded data removed]",
      "text/plain": [
       "<Figure size 200x200 with 1 Axes>"
      ]
     },
     "metadata": {},
     "output_type": "display_data"
    },
    {
     "data": {
      "image/png": "[encoded data removed]",
      "text/plain": [
       "<Figure size 200x200 with 1 Axes>"
      ]
     },
     "metadata": {},
     "output_type": "display_data"
    },
    {
     "data": {
      "image/png": "[encoded data removed]",
      "text/plain": [
       "<Figure size 200x200 with 1 Axes>"
      ]
     },
     "metadata": {},
     "output_type": "display_data"
    },
    {
     "data": {
      "image/png": "[encoded data removed]",
      "text/plain": [
       "<Figure size 200x200 with 1 Axes>"
      ]
     },
     "metadata": {},
     "output_type": "display_data"
    },
    {
     "data": {
      "image/png": "[encoded data removed]",
      "text/plain": [
       "<Figure size 200x200 with 1 Axes>"
      ]
     },
     "metadata": {},
     "output_type": "display_data"
    },
    {
     "data": {
      "image/png": "[encoded data removed]",
      "text/plain": [
       "<Figure size 200x200 with 1 Axes>"
      ]
     },
     "metadata": {},
     "output_type": "display_data"
    }
   ],
   "source": [
    "import matplotlib.pyplot as plt\n",
    "\n",
    "x_batch, y_batch = next(train_generator)\n",
    "\n",
    "for i in range (0,10):\n",
    "    plt.figure(figsize=(2,2))\n",
    "    image = x_batch[i]\n",
    "    plt.imshow(image, cmap='gray')\n",
    "    plt.show()"
   ]
  },
  {
   "cell_type": "markdown",
   "metadata": {},
   "source": [
    "Há dois pontos importantes:\n",
    "\n",
    "- 1. O ImageDataGenerator não está retornando os dados originais + os dados transformados — a classe retorna apenas os dados transformados aleatoriamente. Chamamos isso de aumento de dados “no local” e “on-the-fly” porque esse aumento é feito no momento do treinamento (ou seja, não estamos gerando esses exemplos antes do tempo/antes do treinamento).\n",
    "\n",
    "- 2. Quando o modelo está sendo treinado, podemos pensar em nosso ImageDataGenerator class como “interceptador” dos dados originais, transformando-os aleatoriamente e, em seguida, devolvendo-os à rede neural para treinamento,\n",
    "\n",
    "O objetivo da técnica de aumento de dados é garantir que a rede veja “novas” imagens que nunca “viu” antes em cada época. Para atingir esse objetivo, “substituímos” os dados de treinamento por dados aumentados e transformados aleatoriamente.\n",
    "\n",
    "Na prática, isso leva a um modelo que funciona melhor em nossos dados de validação/teste, mas talvez tenha um desempenho um pouco pior em nossos dados de treinamento (devido às variações nos dados causadas pelas transformações aleatórias).\n",
    "\n",
    "Fonte: [Pyimagesearch](https://pyimagesearch.com/2019/07/08/keras-imagedatagenerator-and-data-augmentation/)"
   ]
  },
  {
   "cell_type": "markdown",
   "metadata": {},
   "source": [
    "**Referências e Materiais de Apoio**\n",
    "\n",
    "Deep Learning. Ian Godfellow, Yoshua Bengio\n",
    "\n",
    "Deep Learning with Python, second edition. François Chollet\n",
    "\n",
    "Deep Learning: A Practitioner's Approach\n",
    "Drive into Deep Learning (https://d2l.ai)\n",
    "\n",
    "Links:\n",
    "\n",
    "https://www.deeplearningbook.com.br\n",
    "\n",
    "https://keras.io\n",
    "\n",
    "https://www.tensorflow.org/tutorials\n",
    "\n",
    "https://ml4a.github.io/ml4a/how_neural_networks_are_trained/"
   ]
  },
  {
   "cell_type": "markdown",
   "metadata": {},
   "source": [
    "____\n",
    "____\n",
    "____\n",
    "\n",
    "## Exercício\n",
    "\n",
    "Utilize o dataset de classificação de imagens de cães e gatos para criar um modelo de CNN."
   ]
  },
  {
   "cell_type": "code",
   "execution_count": null,
   "metadata": {},
   "outputs": [],
   "source": [
    "import os\n",
    "import numpy as np\n",
    "from tensorflow.keras.preprocessing import image\n",
    "import matplotlib.pyplot as plt\n",
    "%matplotlib inline\n",
    " \n",
    "def load_images_from_path(path, label):\n",
    "    images = []\n",
    "    labels = []\n",
    " \n",
    "    for file in os.listdir(path):\n",
    "        img = image.load_img(os.path.join(path, file), target_size=(224, 224, 3))\n",
    "        images.append(image.img_to_array(img))\n",
    "        labels.append((label))\n",
    "         \n",
    "    return images, labels\n",
    " \n",
    "def show_images(images):\n",
    "    fig, axes = plt.subplots(1, 8, figsize=(20, 20), subplot_kw={'xticks': [], 'yticks': []})\n",
    " \n",
    "    for i, ax in enumerate(axes.flat):\n",
    "        ax.imshow(images[i] / 255)\n",
    " \n",
    "x_train = []\n",
    "y_train = []\n",
    "\n",
    "x_test = []\n",
    "y_test = []"
   ]
  },
  {
   "cell_type": "code",
   "execution_count": null,
   "metadata": {},
   "outputs": [],
   "source": [
    "images, labels = load_images_from_path('train/train/dog', 0)\n",
    "show_images(images)\n",
    "       \n",
    "x_train += images\n",
    "y_train += labels"
   ]
  },
  {
   "cell_type": "code",
   "execution_count": null,
   "metadata": {},
   "outputs": [],
   "source": [
    "images, labels = load_images_from_path('train/train/cat', 1)\n",
    "show_images(images)\n",
    "       \n",
    "x_train += images\n",
    "y_train += labels"
   ]
  },
  {
   "cell_type": "code",
   "execution_count": null,
   "metadata": {},
   "outputs": [],
   "source": [
    "images, labels = load_images_from_path('train/val/dog', 0)\n",
    "x_test += images\n",
    "y_test += labels\n",
    "\n",
    "images, labels = load_images_from_path('train/val/cat', 1)\n",
    "x_test += images\n",
    "y_test += labels"
   ]
  },
  {
   "cell_type": "code",
   "execution_count": null,
   "metadata": {},
   "outputs": [],
   "source": [
    "print(type(x_train))\n",
    "print(type(y_train))"
   ]
  },
  {
   "cell_type": "code",
   "execution_count": null,
   "metadata": {},
   "outputs": [],
   "source": [
    "# Converte lista para array\n",
    "x_train = np.array(x_train)\n",
    "y_train = np.array(y_train)\n",
    "\n",
    "x_test = np.array(x_test)\n",
    "y_test = np.array(y_test)"
   ]
  },
  {
   "cell_type": "code",
   "execution_count": null,
   "metadata": {},
   "outputs": [],
   "source": [
    "print(x_train.shape)\n",
    "print(y_train.shape)\n",
    "print(x_test.shape)\n",
    "print(y_test.shape)"
   ]
  },
  {
   "cell_type": "markdown",
   "metadata": {},
   "source": [
    "Ele vai dar erro na hora de rodarmos o datagen porque na hora de separar o train, val ele pega o final do dataset como validação e como só appendamos uma classe na outra isso vai fazer com que o dataset de validação tenha apenas uma classe.\n",
    "\n",
    "ValueError: Training and validation subsets have different number of classes after the split. If your numpy arrays are sorted by the label, you might want to shuffle them."
   ]
  },
  {
   "cell_type": "code",
   "execution_count": null,
   "metadata": {},
   "outputs": [],
   "source": [
    "from sklearn.model_selection import train_test_split\n",
    "\n",
    "x_train, x_val, y_train, y_val = train_test_split(\n",
    "    x_train, y_train, \n",
    "    test_size=0.2, stratify=y_train, random_state=42)\n"
   ]
  },
  {
   "cell_type": "code",
   "execution_count": null,
   "metadata": {},
   "outputs": [],
   "source": []
  },
  {
   "cell_type": "markdown",
   "metadata": {},
   "source": [
    "____\n",
    "____\n",
    "\n",
    "Outras bases para treino:\n",
    "\n",
    "[Classificação de uso da terra utilizando imagens do satélite Landsat](https://www.kaggle.com/datasets/ryanholbrook/eurosat)\n",
    "\n",
    "[Linguagem de Sinais](https://www.kaggle.com/code/alincijov/signs-detection-transfer-learning/data)\n",
    "\n",
    "[Detectar doença no tomate](https://www.kaggle.com/datasets/kaustubhb999/tomatoleaf)"
   ]
  },
  {
   "cell_type": "markdown",
   "metadata": {},
   "source": [
    "____\n",
    "____\n",
    "____"
   ]
  },
  {
   "cell_type": "markdown",
   "metadata": {},
   "source": [
    "<center>\n",
    "<img src=https://i.pinimg.com/564x/6d/f3/27/6df3274f6559eae490a0fe94eaa6c3b0.jpg width=400>\n",
    "</center>\n"
   ]
  },
  {
   "cell_type": "markdown",
   "metadata": {},
   "source": [
    "<img src=https://coolgpu.github.io/coolgpu_blog/assets/images/Conv2d_0p_1s_3inCh.gif width=500 text=\"https://coolgpu.github.io/coolgpu_blog/github/pages/2020/10/04/convolution.html\">"
   ]
  },
  {
   "cell_type": "markdown",
   "metadata": {},
   "source": []
  }
 ],
 "metadata": {
  "kernelspec": {
   "display_name": "Python 3",
   "language": "python",
   "name": "python3"
  },
  "language_info": {
   "codemirror_mode": {
    "name": "ipython",
    "version": 3
   },
   "file_extension": ".py",
   "mimetype": "text/x-python",
   "name": "python",
   "nbconvert_exporter": "python",
   "pygments_lexer": "ipython3",
   "version": "3.8.8"
  },
  "vscode": {
   "interpreter": {
    "hash": "cb5f626699f206ef97176a4f092b8d9f6e52ae1f84b4bb3163daf9eb25ca3519"
   }
  }
 },
 "nbformat": 4,
 "nbformat_minor": 2
}
