{
 "cells": [
  {
   "cell_type": "markdown",
   "metadata": {},
   "source": [
    "# **Redes Neurais Artificiais**\n",
    "\n",
    "## **Reprise**\n",
    "\n",
    "<img src=https://iq.opengenus.org/content/images/2021/11/step-func-1-2.png width=500 text=\"https://iq.opengenus.org/binary-step-function/\" >\n",
    "\n",
    "#### E como a RNA aprende os pesos? Quero entender um pouco melhor estes modelos!"
   ]
  },
  {
   "cell_type": "code",
   "execution_count": 1,
   "metadata": {},
   "outputs": [],
   "source": [
    "# !pip install tensorflow graphviz pydot"
   ]
  },
  {
   "cell_type": "markdown",
   "metadata": {},
   "source": [
    "## **Forward Propagation x Backward Propagation**\n",
    "\n",
    "As redes neurais tem como objetivo realizar o aprendizado de pesos que melhor se ajustam aos dados de entrada e essa \"aprendizagem\" é realizada através de duas fases:\n",
    "\n",
    "- **Forward Propagation**;\n",
    "- **Backward Propagation**.\n",
    "\n",
    "No __forward propagation__, a informação propaga na direção habitual (da camada de input para a de output) na rede neural: features são lidas na camada de input, passam pelo processamento nas camadas ocultas, e a resposta (target) é predita na camada de output. \n",
    "\n",
    "Para que a predição seja realizada, os neurônios nas camadas ocultas e de output realizam as seguintes duas etapas de cálculo:\n",
    "\n",
    "- 1. Uma combinação linear entre o output da camada anterior (que denotamos pela letra **a**) e os pesos da camada atual (denominados de **W**). Assim, se tivermos n ligações a combinação linear que teremos será:\n",
    "\n",
    "<center>\n",
    "<img src=https://latex.codecogs.com/gif.latex?z%5E%7Batual%7D%20%3D%20W_0%5E%7Batual%7D%20&plus;%20%5Cleft%20%28%20W_1%5E%7Batual%7D%5Ctimes%20a_1%5E%7Banterior%7D%20%5Cright%29%20&plus;%20%5Cleft%28%20W_2%5E%7Batual%7D%20%5Ctimes%20a_2%5E%7Banterior%7D%20%5Cright%20%29%20&plus;%20%5Ccdots%20&plus;%20%5Cleft%20%28%20W_n%5E%7Batual%7D%20%5Ctimes%20a_n%5E%7Banterior%7D%20%5Cright%29) width=700>\n",
    "</center>\n",
    "\n",
    "- 2. Aplica-se uma **função de ativação** $f(x)$ não-linear à combinação linear acima. \n",
    "\n",
    "As principais funções de ativação utilizadas são:\n",
    "\n",
    "<center>\n",
    "<img src=\"https://cdn-images-1.medium.com/max/1000/1*4ZEDRpFuCIpUjNgjDdT2Lg.png\n",
    "\" width=\"600\" />\n",
    "</center>\n",
    "\n",
    "O cálculo realizado por um único neurônio é bem parecido com um **perceptron**, ilustrado a seguir:\n",
    "\n",
    "<center>\n",
    "<img src=\"https://img2.gratispng.com/20180619/oav/kisspng-multilayer-perceptron-machine-learning-statistical-5b2996bdb9dcd2.4724873615294522217613.jpg\" width=\"400\" />\n",
    "</center>\n"
   ]
  },
  {
   "cell_type": "markdown",
   "metadata": {},
   "source": [
    "### Notação do feedforward\n",
    "\n",
    "Soma dos pesos com os valores da camada anterior é denominado de $z^{atual}$\n",
    "\n",
    "$$z^{atual} = W_n^{atual} \\ast x_n^{anterior}   + b^{atual} = \\sum_n{W_n^{atual} x_n^{anterior}}   + b^{atual}$$\n",
    "\n",
    "Aplica função de ativação $f$ para obter $a^{atual}$\n",
    "\n",
    "$$a^{atual} = f(z^{atual})$$\n",
    "\n",
    "Na camada de output teremos que:\n",
    "\n",
    "$$\\hat{y} = a^{atual}$$\n",
    "\n",
    "E podemos calcular nossa função de custo (vamos aqui considerar o MSE, por exemplo):\n",
    "\n",
    "$$C = \\frac{1}{n}\\sum_{i=1}^{n}(y_i-\\hat{y}_i)^2$$\n",
    "\n",
    "<center>\n",
    "<img src=\"https://www.researchgate.net/profile/Sandra-Vieira-7/publication/312205163/figure/fig1/AS:453658144972800@1485171938968/a-The-building-block-of-deep-neural-networks-artificial-neuron-or-node-Each-input-x.png\" width=\"400\" text=\"https://www.researchgate.net/publication/312205163_Using_deep_learning_to_investigate_the_neuroimaging_correlates_of_psychiatric_and_neurological_disorders_Methods_and_applications\"/>\n",
    "</center>\n"
   ]
  },
  {
   "cell_type": "markdown",
   "metadata": {},
   "source": [
    "<center>\n",
    "<img src=\"forward_pass.png\" width=300>\n",
    "</center>\n",
    "\n",
    "[Link](https://ml4a.github.io/demos/simple_forward_pass/)"
   ]
  },
  {
   "cell_type": "markdown",
   "metadata": {},
   "source": [
    "### Qual função de ativação devo utilizar?\n",
    "\n",
    "A escolha das funções de ativação também pode ser variável, mas costuma-se utilizar:\n",
    "\n",
    "**Camada de output**:\n",
    "- **Sigmoid** (para problemas de classificação binários) ou **Softmax** (para problemas de classificação multiclasse)\n",
    "- **Linear** para problemas de regressão \n",
    "\n",
    "Quando a __função de ativação é utilizada em camadas de saída, o objetivo é estruturar aquela saída de acordo com a saída do nosso problema__. Nesse contexto, a função softmax estrutura a saída de forma a poder realizar uma classificação multiclasse, da mesma forma que a função sigmoid estrutura a saída de um problema binário.\n",
    "\n",
    "<img src=https://machinelearningmastery.com/wp-content/uploads/2020/12/How-to-Choose-an-Output-Layer-Activation-Function.png width=500 text=\"https://machinelearningmastery.com/choose-an-activation-function-for-deep-learning/\">\n",
    "\n",
    "**Camadas ocultas**\n",
    "\n",
    "Essas __funções de ativação__, quando utilizadas nas camadas ocultas, permitem que __adicionemos não linearidade__ na resolução da nossa solução. Se observamos a figura do perceptron ilustrada acima, teremos sempre uma equação linear para representação do nosso problema, já que teremos basicamente uma soma ponderada. Entretanto, muitas vezes nossa base de dados requer uma equação não linear para representar o problema. A tendência é que, quanto mais difícil o problema seja, mais chances da resolução ser não linear.\n",
    "\n",
    "Sendo assim, um processo comum é, após a soma ponderada, gerar uma saída não linear por meio das funções de ativação.\n",
    "\n",
    "Já a __ReLU (Rectified Linear Unit) tem o papel de jogar para zero qualquer valor negativo, gerando uma matriz muito mais esparsa__. Com isso teremos uma matriz com vários zeros e alguns não zeros o que __força a rede a focar nestes últimos tornando muito mais eficiente o tempo computacional de treino__. Isso também contruibui com a __diminuição do \"vanishing gradient problem\"__, que discutiremos nas próximas aulas, o que permite que o modelo aprenda mais rápido e performe melhor.\n",
    "\n",
    "<img src=https://machinelearningmastery.com/wp-content/uploads/2020/12/How-to-Choose-an-Hidden-Layer-Activation-Function.png width=500 text=\"https://machinelearningmastery.com/choose-an-activation-function-for-deep-learning/\">\n",
    "\n",
    "\n",
    "\n",
    "Ao fim do forward propagation, na camada de output, calculamos a **função de perda**, que quantifica qual a **diferença entre as predições feitas pela rede neural e os valores reais do target dos dados**. Cada tipo de problema tem uma função de perda própria.\n",
    "\n",
    "Queremos que as predições sejam sempre o mais próximas o possível dos valores reais!\n",
    "\n",
    "Isto é feito ao propagarmos a informação na direção contrária (de trás pra frente) na rede neural, o que caracteriza o chamado __backward propagation__. "
   ]
  },
  {
   "cell_type": "markdown",
   "metadata": {},
   "source": [
    "## __Backward propagation__\n",
    "<img src=https://cdn-images-1.medium.com/max/540/1*7CJRMAomDwc8HBtaD6LqlQ.gif text=\"https://www.louisbouchard.ai/densenet-explained/\" width=500>\n",
    "\n",
    "Nesse processo de __backward propagation__ os pesos $W_i$ são atualizados de acordo com sua contribuição no erro final e esse atualização acontece de trás para frente na rede. Uma vez que o erro propagado chega na primeira camada outra amostra é iniciada alimentando a rede neural. \n",
    "\n",
    "Este processo de forward e backward propagation é feito iterativamente, várias vezes utilizando todo o dataset. Cada vez que o dataset inteiro passa por esse processo chamamos de **epoch**.\n",
    "\n",
    "O objetivo do backward propagation é **determinar os pesos que miminizem a função de perda!** A cada iteração, os pesos são **atualizados**, de modo que a função de perda é sempre reduzida em direção ao seu mínimo.\n",
    "\n",
    "<img src=\"https://machinelearningknowledge.ai/wp-content/uploads/2019/10/Backpropagation.gif\" width=500>"
   ]
  },
  {
   "cell_type": "markdown",
   "metadata": {},
   "source": [
    "## Como esses pesos são atualizados?\n",
    "\n",
    "A forma como esses pesos são atualizados para reduzir a função de perda depende do **otimizador** escolhido. Os otimizadores são objetos que representam o procedimento matemático de minimização da função de perda.\n",
    "\n",
    "Os principais otimizadores utilizados são: \n",
    "\n",
    "- __Gradiente Descendente (GD)__,\n",
    "- **Stochastic Gradient Descent (SGD)**,\n",
    "- **Adam** \n",
    "- **RMSProp** \n",
    "\n",
    "(vale a pena testar cada um deles!)\n",
    "\n",
    "### Gradient Descent\n",
    "Você começa definindo os valores do parâmetro inicial e, a partir daí, o gradiente descendente usa o cálculo para ajustar iterativamente os valores para que eles minimizem a função de custo fornecida em cada uma das epochs.\n",
    "\n",
    "<img src=https://static.wixstatic.com/media/3eee0b_4aff9459e3ad43ae9b9e18b2c5631fc1~mv2.jpg/v1/fill/w_360,h_178,al_c,lg_1,q_90/3eee0b_4aff9459e3ad43ae9b9e18b2c5631fc1~mv2.webp width=300 text=\"https://www.kdnuggets.com/2020/12/optimization-algorithms-neural-networks.html\">\n",
    "\n",
    "Nessa equação $\\theta$ representa nossos pesos $W$ e $J(\\theta)$ é nossa função custo (MSE, por exemplo). Lembrando que a função custo é uma fórmula matemática que permite que nosso modelo de ML analise o quão bem ele fitou nos dados.\n",
    "\n",
    "Assim, podemos concluir dessa equação que a atualização dos parâmetro $\\theta$ depende do seu valor anterior, qual a taxa de variação a função de custo $J(\\theta)$ devido ao $\\theta$ e do learning rate $\\alpha$. Nessa estratégia o objetivo é chegarmos no valor mínimo dá nossa função de custo avaliando o gradiente (derivada) da nossa função:\n",
    "\n",
    "<img src=https://static.wixstatic.com/media/3eee0b_ed42ef8479934026980c15c679df0821~mv2.png/v1/fill/w_360,h_224,al_c,q_90,usm_0.66_1.00_0.01/3eee0b_ed42ef8479934026980c15c679df0821~mv2.webp width=400 text=\"https://www.kdnuggets.com/2020/12/optimization-algorithms-neural-networks.html\">\n",
    "\n",
    "O learning rate $\\alpha$ é o valor responsável por definir qual o tamanho do passo de cada iteração. Se considerarmos um valor muito grande para o learning rate, podemos nunca chegar no valor de mínimo enquanto se utilizarmos um valor muito baixo podemos demorar muito para chegar.\n",
    "\n",
    "<img src=https://static.wixstatic.com/media/3eee0b_08ae4ed9e6504acbb3bd37320c20f77e~mv2.png/v1/fill/w_360,h_187,al_c,q_90,usm_0.66_1.00_0.01/3eee0b_08ae4ed9e6504acbb3bd37320c20f77e~mv2.webp width=400 text=\"https://www.kdnuggets.com/2020/12/optimization-algorithms-neural-networks.html\">\n",
    "\n",
    "Para saber como está performando nosso learning rate podemos plotar seu valor versus quanto o erro está variando.\n",
    "\n",
    "<img src=https://806230.smushcdn.com/1739487/wp-content/uploads/2020/10/plot-min.png text=\"https://sdsclub.com/stochastic-gradient-descent-vs-gradient-descent-a-head-to-head-comparison/\" width=500>"
   ]
  },
  {
   "cell_type": "markdown",
   "metadata": {},
   "source": [
    "#### Hora do gif\n",
    "\n",
    "##### Gradiente descentente unidimensional\n",
    "\n",
    "A curva representada por $C(w)$ corresponde a função de custo que queremos minimizar.\n",
    "\n",
    "<img src=https://mlfromscratch.com/content/images/2019/12/gradient-descent-optimized.gif width=600 text=\"https://mlfromscratch.com/neural-networks-explained/\">\n",
    "\n",
    "Se o gradiente das derivadas parciais for positivo damos um passo à esquerda, e damos um passo à direita quando negativo.\n",
    "\n",
    "##### Gradiente descentente bidimensional\n",
    "\n",
    "A superfície representada corresponde a função de custo que queremos minimizar.\n",
    "\n",
    "<img src=https://miro.medium.com/max/598/1*hUd744hDEEGx0-ypWGhrkw.gif width=300 text='https://towardsdatascience.com/a-visual-explanation-of-gradient-descent-methods-momentum-adagrad-rmsprop-adam-f898b102325c'>\n",
    "\n",
    "__Vantagens:__\n",
    "\n",
    "- Computação fácil.\n",
    "- Fácil de implementar.\n",
    "- Fácil de entender.\n",
    "\n",
    "__Desvantagens:__\n",
    "\n",
    "- Pode prender em mínimos locais.\n",
    "- Os pesos são alterados após o cálculo do gradiente em todo o conjunto de dados. Portanto, se o conjunto de dados for muito grande, isso pode levar anos para convergir para os mínimos.\n",
    "- Requer grande memória para calcular o gradiente em todo o conjunto de dados.\n",
    "\n",
    "Para quem quiser saber mais sobre o gradiente descendente e sobre derivadas eu recomendo o capítulo \"2.4 The engine of neural networks: Gradient-based\n",
    "optimization\" do livro \"Deep Learning with Python, 2nd Edition\" do Françõis Chollet."
   ]
  },
  {
   "cell_type": "markdown",
   "metadata": {},
   "source": [
    "### Stochastic Gradient Descent (SGD)\n",
    "\n",
    "No SGD a derivada é computada considerando apenas um ponto por vez, o que evita o problema de memória.\n",
    "\n",
    "<img src=https://static.wixstatic.com/media/3eee0b_2f20c4c9902844718350e189e57fd909~mv2.png/v1/fill/w_740,h_290,al_c,q_90,usm_0.66_1.00_0.01/3eee0b_2f20c4c9902844718350e189e57fd909~mv2.webp width=500 text=\"https://www.kdnuggets.com/2020/12/optimization-algorithms-neural-networks.html\">\n",
    "\n",
    "No SGD em cada passo o gradiente descendente é cálculado para cada amostra enquanto no GD ele é cálculado para todo o dataset. Isso significa que os pesos são atualizados no GD apenas após todo o dataset ter passado pela rede e termos os valores de $\\hat{y}$ para cada amostra. No SGD, os pesos são atualizados toda vez que uma amostra chega ao final da rede neural.\n",
    "\n",
    "Então após 1 epoch o GD teria calculado apenas um gradiente descendente enquando o SGD teria calculado `X_train.shape[0]` vezes.\n",
    "\n",
    "__Vantagem:__\n",
    "\n",
    "- O requisito de memória é menor em comparação com o algoritmo GD, pois a derivada é calculada tomando apenas 1 ponto de cada vez.\n",
    "- Minimiza a função de custo de forma mais rápida que o GD (por ter mais atualizações dos pesos em 1 epoch)\n",
    "\n",
    "__Desvantagens:__\n",
    "\n",
    "- O tempo necessário para completar 1 época é grande comparado ao algoritmo GD.\n",
    "- Ainda leva muito tempo para convergir.\n",
    "- Também pode ficar preso em mínimos locais.\n",
    "- SGD oscilar mais e necessita de muito mais passos\n",
    "\n",
    "\n",
    "### Mini-bath gradient descent (MGD)\n",
    "Para conseguir o melhor dos dois podemos utilizar o Mini-bath gradient descent (MGD) que considera uma pequena amostra de dataset de treino em cada iteração. Esse otimizador é mais estável que o SGD.\n",
    "\n",
    "O MGD divide o conjunto de dados em vários lotes e após cada lote os parâmetros são atualizados.\n",
    "\n",
    "<img src=https://static.wixstatic.com/media/3eee0b_afe86f0d655d4b218f002ce82c1c25ac~mv2.png/v1/fill/w_740,h_190,al_c,q_90,usm_0.66_1.00_0.01/3eee0b_afe86f0d655d4b218f002ce82c1c25ac~mv2.webp width=500 text=\"https://www.kdnuggets.com/2020/12/optimization-algorithms-neural-networks.html\">\n",
    "\n",
    "__Vantagens:__\n",
    "\n",
    "- Menor complexidade de tempo para convergir em comparação com o algoritmo SGD padrão.\n",
    "\n",
    "__Desvantagens:__\n",
    "\n",
    "- A atualização do MB-SGD é muito ruidosa em comparação com a atualização do algoritmo GD.\n",
    "-  Leva mais tempo para convergir do que o algoritmo GD.\n",
    "-  Pode ficar preso em mínimos locais.\n"
   ]
  },
  {
   "cell_type": "markdown",
   "metadata": {},
   "source": [
    "#### GD x SGD x MGD\n",
    "\n",
    "__Gradient Descent__ -> Batch Size = Size of Training Set\n",
    "\n",
    "__Stochastic Gradient Descent__ -> Batch Size = 1\n",
    " \n",
    "__Mini-Batch Gradient Descent__ -> 1 < Batch Size < Size of Training Set\n",
    "\n",
    "E se o conjunto de dados não for dividido uniformemente pelo tamanho do lote?\n",
    "\n",
    "Isso acontece com frequência ao treinar um modelo. Significa simplesmente que o lote final tem menos amostras do que os outros lotes."
   ]
  },
  {
   "cell_type": "markdown",
   "metadata": {},
   "source": [
    "### RMSprop\n",
    "Como vimos nos outros otimizadores, a escolha do learning rate é fundamental tanto para a convergência quanto para o tempo de convergência. Para minimizar esse problema, o RMSProp utiliza um **decaimento exponencial do learning rate**. Dessa forma, o learning rate é alto no início da aprendizagem e seu valor cai ao longo do tempo.\n"
   ]
  },
  {
   "cell_type": "markdown",
   "metadata": {},
   "source": [
    "### Adaptive Moment Estimation (Adam)\n",
    "Adam pode ser considerado uma combinação de Stochastic Gradient Descent e RMSProp com momento.\n",
    "\n",
    "#### Momento?\n",
    "\n",
    "O conceito de momento aqui é o mesmo que utilizamos em física. Suponha uma bola rolando em uma superfície sem atrito. O momento faz com que ela continue seu movimento sem parar.\n",
    "\n",
    "<figure>\n",
    "<center>\n",
    "<img src=https://miro.medium.com/max/400/1*i1Qc2E0TVlPHEKG7LepXgA.gif width=500>\n",
    "</center>\n",
    "\n",
    "<figcaption align = \"center\"><b>Fig.1 - Descida do momento com decay_rate = 1.0 (sem decaimento).</b></figcaption>\n",
    "</figure>\n",
    "\n"
   ]
  },
  {
   "cell_type": "markdown",
   "metadata": {},
   "source": [
    "Sem momento:\n",
    "\n",
    "$$ \\theta = \\theta - learning\\_rate * gradient$$\n",
    "\n",
    "Com momento:\n",
    "\n",
    "$$\\theta = \\theta - learning\\_rate * gradient + previous\\_theta * decay\\_rate$$\n",
    "\n",
    "<figure>\n",
    "<center>\n",
    "<img src=https://miro.medium.com/max/875/1*pgpFmmIXJBvlReVwlRQ-Yg.png width=700>\n",
    "</center>\n",
    "\n",
    "<figcaption align = \"center\"><b>Fig.2 - Como o momento atua passo-a-passo.</b></figcaption>\n",
    "</figure>\n",
    "\n",
    "Normalmente, a taxa de decaimento (decay_rate) é escolhida em torno de 0,8 a 0,9 – é como uma superfície com um pouco de atrito, então, eventualmente, a bolinha desacelera e para.\n",
    "\n",
    "<figure>\n",
    "<center>\n",
    "<img src=https://miro.medium.com/max/500/1*zVi4ayX9u0MQQwa90CnxVg.gif width=400>\n",
    "</center>\n",
    "\n",
    "<figcaption align = \"center\"><b>Fig.3 - Momentum (magenta) vs. Gradient Descent (ciano) em uma superfície com um mínimo global (o poço esquerdo) e um mínimo local (o poço direito).</b></figcaption>\n",
    "</figure>\n",
    "\n",
    "Qual a diferença entre GD com e sem momentum:\n",
    "\n",
    "- Momentum se move mais rápido por causa de todo o momentum que acumula\n",
    "- O momento tem uma chance de escapar de mínimos locais (porque o momento pode impulsioná-lo para fora de um mínimo local).\n",
    "- Percorrer melhor as regiões de planalto.\n"
   ]
  },
  {
   "cell_type": "markdown",
   "metadata": {},
   "source": [
    "## **Como construir um modelo de Rede Neural Artificial em Python?**\n",
    "\n",
    "Vamos iniciar reescrevendo nosso perceptron com a biblioteca `keras`. Para isso precisamos introduzir alguns conceitos novos e aproveitaremos para revisar outros:\n",
    "\n",
    "\n",
    "\n"
   ]
  },
  {
   "cell_type": "markdown",
   "metadata": {},
   "source": [
    "!!!!!!!pesquisar como o perceptron do sklearn atualiza os pesos"
   ]
  },
  {
   "cell_type": "code",
   "execution_count": 2,
   "metadata": {},
   "outputs": [],
   "source": [
    "from sklearn import datasets\n",
    "import numpy as np\n",
    "from sklearn.model_selection import train_test_split\n",
    "from sklearn.linear_model import Perceptron\n",
    "from sklearn.preprocessing import StandardScaler\n",
    "from sklearn.metrics import accuracy_score\n",
    "import warnings\n",
    "warnings.filterwarnings('ignore')\n",
    " \n",
    "# Importa o dataset do iris\n",
    "iris = datasets.load_iris()\n",
    "X = iris.data\n",
    "y = iris.target\n",
    " \n",
    "# Separa em treino e teste\n",
    "X_train, X_test, y_train, y_test = train_test_split(\n",
    "    X, y, test_size=0.3, random_state=42, stratify=y)\n",
    "\n",
    "# Vamos fazer um scale dos nossos dados\n",
    "sc = StandardScaler()\n",
    "X_train_std = sc.fit_transform(X_train)\n",
    "X_test_std = sc.transform(X_test)"
   ]
  },
  {
   "cell_type": "code",
   "execution_count": 3,
   "metadata": {},
   "outputs": [
    {
     "data": {
      "text/plain": [
       "{'alpha': 0.0001,\n",
       " 'class_weight': None,\n",
       " 'early_stopping': False,\n",
       " 'eta0': 1.0,\n",
       " 'fit_intercept': True,\n",
       " 'l1_ratio': 0.15,\n",
       " 'max_iter': 1000,\n",
       " 'n_iter_no_change': 5,\n",
       " 'n_jobs': None,\n",
       " 'penalty': None,\n",
       " 'random_state': 0,\n",
       " 'shuffle': True,\n",
       " 'tol': 0.001,\n",
       " 'validation_fraction': 0.1,\n",
       " 'verbose': 0,\n",
       " 'warm_start': False}"
      ]
     },
     "execution_count": 3,
     "metadata": {},
     "output_type": "execute_result"
    }
   ],
   "source": [
    "pp = Perceptron()\n",
    "pp.get_params()"
   ]
  },
  {
   "cell_type": "markdown",
   "metadata": {},
   "source": [
    "### Dicionário de termos + Keras\n",
    "\n",
    "[Sequencial](https://keras.io/api/models/sequential/)\n",
    "\n",
    "O bloco de construção inicial do Keras é um modelo, e o modelo mais simples é chamado de _sequencial_. Um modelo Keras sequencial é um pipeline linear (uma pilha) de camadas de redes neurais. Outras formas de criar modelos são com o [Functional API](https://keras.io/guides/functional_api) e [Model Subclassing](https://keras.io/guides/making_new_layers_and_models_via_subclassing)\n",
    "\n",
    "[Input layer](https://keras.io/api/layers/core_layers/input/)\n",
    "\n",
    "É a camada de input que contem nossas features. O dado de entrada deve ser um array de uma única coluna.\n",
    "\n",
    "[Dense layer](https://keras.io/api/layers/core_layers/dense/)\n",
    "\n",
    "Dense layers (camadas densas), são camadas neurais densamente conectadas. Isso significa que todos os neurônios de uma camada se conectam com todos os neurônios da camada seguinte. Essas camadas também são chamadas de fully connected).\n",
    "\n",
    "<img src=https://www.i2tutorials.com/wp-content/media/2019/09/Deep-learning-41-i2tutorials.png width=500>\n",
    "\n",
    "\n",
    "[Funções de Custo](https://keras.io/api/losses/)\n",
    "\n",
    "O objetivo das funções de perda é calcular a quantidade que um modelo deve procurar minimizar durante o treinamento.\n",
    "- CategoricalCrossentropy: many-class classification; target no formato one-hot-encode ([1,0,0] , [0,1,0], [0,0,1])\n",
    "- SparseCategoricalCrossentropy: many-class classification; target como coluna única ([1] , [2], [3])\n",
    "- BinaryCrossentropy: two-class classification\n",
    "- MeanSquaredError\n",
    "- KLDivergence\n",
    "- CosineSimilarity\n",
    "\n",
    "[Métricas](https://keras.io/api/metrics/)\n",
    "\n",
    "Uma métrica é uma função usada para avaliar o desempenho do seu modelo.\n",
    "\n",
    "As funções de métrica são semelhantes às funções de perda, exceto que os resultados da avaliação de uma métrica não são usados ​​ao treinar o modelo. Observe que você pode usar qualquer função de perda como métrica.\n",
    "\n",
    "- CategoricalCrossentropy: target é uma matrix com cada coluna representando uma classe\n",
    "- SparseCategoricalCrossentropy: target é uma única coluna com as classes sendo representadas de 0 até n.\n",
    "- BinaryCrossentropy: target binário\n",
    "- Accuracy\n",
    "- AUC\n",
    "- MeanSquaredError\n",
    "- KLDivergence\n",
    "- CosineSimilarity\n",
    "\n",
    "[Funções de ativação](https://keras.io/api/layers/activations)\n",
    "\n",
    "Função aplicada nas camadas ocultas e de output visando aumentar a complexidade do nosso modelo, no primeiro caso, e adequar nossa saída.\n",
    "\n",
    "<center>\n",
    "<img src=https://miro.medium.com/max/875/1*B24qtkjFBD43ClulZtLmVA.png width=600 text=\"https://medium.com/analytics-vidhya/activation-functions-and-loss-functions-for-neural-networks-how-to-pick-the-right-one-542e1dd523e0\">\n",
    "</center>\n",
    "\n",
    "[Inicializador de pesos](https://keras.io/api/layers/initializers)\n",
    "\n",
    "Como queremos iniciar os pesos $W$.\n",
    "\n",
    "- __random_uniform:__ os pesos são inicializados para valores pequenos uniformemente aleatórios em (-0,05, 0,05). Em outras palavras, qualquer valor dentro do intervalo dado tem a mesma probabilidade de ser desenhado.\n",
    "- __random_normal:__ Os pesos são inicializados de acordo com uma Gaussiana, com média zero e desvio padrão pequeno de 0,05. Para aqueles que não estão familiarizados com uma gaussiana, pense em uma forma de curva de sino simétrica.\n",
    "- __zero:__ Todos os pesos são inicializados com o valor zero.\n",
    "\n",
    "[Otimizador](https://keras.io/api/optimizers/)\n",
    "\n",
    "O mecanismo pelo qual o modelo se atualizará com base nos dados de treinamento que ele vê, para melhorar seu desempenho.\n",
    "\n",
    "- SGD (with or without momentum)\n",
    "- RMSprop\n",
    "- Adam\n",
    "- Adagrad\n",
    "\n",
    "[Epochs]()\n",
    "\n",
    "Quantas vezes o loop de treinamento deve iterar sobre todos os dados.\n",
    "\n",
    "Uma época significa que cada amostra no conjunto de dados de treinamento teve a oportunidade de atualizar os parâmetros internos do modelo. Uma época é composta por um ou mais lotes e geralmente assume valores bem grandes como 100, 500, 1000 e até mais. Ao final de cada epoch temos uma estimativa do erro do nosso modelo.\n",
    "\n",
    "[Batch]()\n",
    "\n",
    "O tamanho do lote a ser usado em cada época de descida do Mini-batch GD.\n",
    "O número de exemplos de treinamento considerados para calcular os gradientes para um etapa de atualização de peso.\n",
    "Normalmente entre 8 e 128 que são processados ​​simultaneamente pelo modelo. O número de amostras é\n",
    "geralmente uma potência de 2, para facilitar a alocação de memória na GPU.\n"
   ]
  },
  {
   "cell_type": "code",
   "execution_count": 4,
   "metadata": {},
   "outputs": [
    {
     "data": {
      "text/plain": [
       "(105, 4)"
      ]
     },
     "execution_count": 4,
     "metadata": {},
     "output_type": "execute_result"
    }
   ],
   "source": [
    "X_train.shape"
   ]
  },
  {
   "cell_type": "code",
   "execution_count": 5,
   "metadata": {},
   "outputs": [
    {
     "data": {
      "text/plain": [
       "(105,)"
      ]
     },
     "execution_count": 5,
     "metadata": {},
     "output_type": "execute_result"
    }
   ],
   "source": [
    "y_train.shape"
   ]
  },
  {
   "cell_type": "code",
   "execution_count": 6,
   "metadata": {},
   "outputs": [
    {
     "data": {
      "text/plain": [
       "array([1, 1, 0, 2, 1, 2, 0, 0, 0, 2])"
      ]
     },
     "execution_count": 6,
     "metadata": {},
     "output_type": "execute_result"
    }
   ],
   "source": [
    "y_train[0:10]"
   ]
  },
  {
   "cell_type": "code",
   "execution_count": 7,
   "metadata": {},
   "outputs": [
    {
     "name": "stdout",
     "output_type": "stream",
     "text": [
      "Epoch 1/100\n",
      "11/11 [==============================] - 1s 19ms/step - loss: 1.1029 - accuracy: 0.2738 - val_loss: 1.0963 - val_accuracy: 0.2381\n",
      "Epoch 2/100\n",
      "11/11 [==============================] - 0s 4ms/step - loss: 1.0757 - accuracy: 0.3571 - val_loss: 1.0828 - val_accuracy: 0.2381\n",
      "Epoch 3/100\n",
      "11/11 [==============================] - 0s 4ms/step - loss: 1.0580 - accuracy: 0.3571 - val_loss: 1.0742 - val_accuracy: 0.2381\n",
      "Epoch 4/100\n",
      "11/11 [==============================] - 0s 5ms/step - loss: 1.0425 - accuracy: 0.3571 - val_loss: 1.0650 - val_accuracy: 0.2381\n",
      "Epoch 5/100\n",
      "11/11 [==============================] - 0s 4ms/step - loss: 1.0275 - accuracy: 0.3571 - val_loss: 1.0538 - val_accuracy: 0.2381\n",
      "Epoch 6/100\n",
      "11/11 [==============================] - 0s 4ms/step - loss: 1.0162 - accuracy: 0.3571 - val_loss: 1.0462 - val_accuracy: 0.2381\n",
      "Epoch 7/100\n",
      "11/11 [==============================] - 0s 4ms/step - loss: 1.0020 - accuracy: 0.3571 - val_loss: 1.0331 - val_accuracy: 0.2857\n",
      "Epoch 8/100\n",
      "11/11 [==============================] - 0s 4ms/step - loss: 0.9891 - accuracy: 0.4405 - val_loss: 1.0229 - val_accuracy: 0.3810\n",
      "Epoch 9/100\n",
      "11/11 [==============================] - 0s 4ms/step - loss: 0.9759 - accuracy: 0.5476 - val_loss: 1.0144 - val_accuracy: 0.4762\n",
      "Epoch 10/100\n",
      "11/11 [==============================] - 0s 4ms/step - loss: 0.9652 - accuracy: 0.5714 - val_loss: 1.0033 - val_accuracy: 0.5714\n",
      "Epoch 11/100\n",
      "11/11 [==============================] - 0s 4ms/step - loss: 0.9526 - accuracy: 0.5952 - val_loss: 0.9861 - val_accuracy: 0.5714\n",
      "Epoch 12/100\n",
      "11/11 [==============================] - 0s 5ms/step - loss: 0.9422 - accuracy: 0.6786 - val_loss: 0.9762 - val_accuracy: 0.5714\n",
      "Epoch 13/100\n",
      "11/11 [==============================] - 0s 4ms/step - loss: 0.9302 - accuracy: 0.6905 - val_loss: 0.9695 - val_accuracy: 0.5714\n",
      "Epoch 14/100\n",
      "11/11 [==============================] - 0s 4ms/step - loss: 0.9205 - accuracy: 0.6905 - val_loss: 0.9600 - val_accuracy: 0.5714\n",
      "Epoch 15/100\n",
      "11/11 [==============================] - 0s 4ms/step - loss: 0.9081 - accuracy: 0.6905 - val_loss: 0.9519 - val_accuracy: 0.5714\n",
      "Epoch 16/100\n",
      "11/11 [==============================] - 0s 4ms/step - loss: 0.8973 - accuracy: 0.6905 - val_loss: 0.9397 - val_accuracy: 0.5714\n",
      "Epoch 17/100\n",
      "11/11 [==============================] - 0s 4ms/step - loss: 0.8869 - accuracy: 0.6905 - val_loss: 0.9237 - val_accuracy: 0.5714\n",
      "Epoch 18/100\n",
      "11/11 [==============================] - 0s 4ms/step - loss: 0.8757 - accuracy: 0.6905 - val_loss: 0.9148 - val_accuracy: 0.5714\n",
      "Epoch 19/100\n",
      "11/11 [==============================] - 0s 4ms/step - loss: 0.8670 - accuracy: 0.6905 - val_loss: 0.9057 - val_accuracy: 0.5714\n",
      "Epoch 20/100\n",
      "11/11 [==============================] - 0s 4ms/step - loss: 0.8577 - accuracy: 0.6905 - val_loss: 0.9005 - val_accuracy: 0.5714\n",
      "Epoch 21/100\n",
      "11/11 [==============================] - 0s 4ms/step - loss: 0.8488 - accuracy: 0.6905 - val_loss: 0.8871 - val_accuracy: 0.5714\n",
      "Epoch 22/100\n",
      "11/11 [==============================] - 0s 4ms/step - loss: 0.8377 - accuracy: 0.6905 - val_loss: 0.8757 - val_accuracy: 0.5714\n",
      "Epoch 23/100\n",
      "11/11 [==============================] - 0s 4ms/step - loss: 0.8297 - accuracy: 0.6905 - val_loss: 0.8646 - val_accuracy: 0.5714\n",
      "Epoch 24/100\n",
      "11/11 [==============================] - 0s 4ms/step - loss: 0.8214 - accuracy: 0.6905 - val_loss: 0.8579 - val_accuracy: 0.5714\n",
      "Epoch 25/100\n",
      "11/11 [==============================] - 0s 4ms/step - loss: 0.8113 - accuracy: 0.6905 - val_loss: 0.8483 - val_accuracy: 0.5714\n",
      "Epoch 26/100\n",
      "11/11 [==============================] - 0s 4ms/step - loss: 0.8038 - accuracy: 0.6905 - val_loss: 0.8449 - val_accuracy: 0.5714\n",
      "Epoch 27/100\n",
      "11/11 [==============================] - 0s 4ms/step - loss: 0.7945 - accuracy: 0.6905 - val_loss: 0.8399 - val_accuracy: 0.5714\n",
      "Epoch 28/100\n",
      "11/11 [==============================] - 0s 4ms/step - loss: 0.7883 - accuracy: 0.6905 - val_loss: 0.8338 - val_accuracy: 0.5714\n",
      "Epoch 29/100\n",
      "11/11 [==============================] - 0s 4ms/step - loss: 0.7792 - accuracy: 0.6905 - val_loss: 0.8270 - val_accuracy: 0.5714\n",
      "Epoch 30/100\n",
      "11/11 [==============================] - 0s 4ms/step - loss: 0.7717 - accuracy: 0.6905 - val_loss: 0.8180 - val_accuracy: 0.5714\n",
      "Epoch 31/100\n",
      "11/11 [==============================] - 0s 4ms/step - loss: 0.7648 - accuracy: 0.6905 - val_loss: 0.8059 - val_accuracy: 0.5714\n",
      "Epoch 32/100\n",
      "11/11 [==============================] - 0s 4ms/step - loss: 0.7576 - accuracy: 0.6905 - val_loss: 0.7972 - val_accuracy: 0.5714\n",
      "Epoch 33/100\n",
      "11/11 [==============================] - 0s 4ms/step - loss: 0.7497 - accuracy: 0.6905 - val_loss: 0.7918 - val_accuracy: 0.5714\n",
      "Epoch 34/100\n",
      "11/11 [==============================] - 0s 4ms/step - loss: 0.7443 - accuracy: 0.6905 - val_loss: 0.7822 - val_accuracy: 0.5714\n",
      "Epoch 35/100\n",
      "11/11 [==============================] - 0s 4ms/step - loss: 0.7373 - accuracy: 0.6905 - val_loss: 0.7792 - val_accuracy: 0.5714\n",
      "Epoch 36/100\n",
      "11/11 [==============================] - 0s 4ms/step - loss: 0.7303 - accuracy: 0.6905 - val_loss: 0.7753 - val_accuracy: 0.5714\n",
      "Epoch 37/100\n",
      "11/11 [==============================] - 0s 5ms/step - loss: 0.7240 - accuracy: 0.6905 - val_loss: 0.7662 - val_accuracy: 0.5714\n",
      "Epoch 38/100\n",
      "11/11 [==============================] - 0s 4ms/step - loss: 0.7164 - accuracy: 0.6905 - val_loss: 0.7557 - val_accuracy: 0.5714\n",
      "Epoch 39/100\n",
      "11/11 [==============================] - 0s 4ms/step - loss: 0.7097 - accuracy: 0.6905 - val_loss: 0.7520 - val_accuracy: 0.5714\n",
      "Epoch 40/100\n",
      "11/11 [==============================] - 0s 4ms/step - loss: 0.7042 - accuracy: 0.6905 - val_loss: 0.7436 - val_accuracy: 0.5714\n",
      "Epoch 41/100\n",
      "11/11 [==============================] - 0s 4ms/step - loss: 0.6971 - accuracy: 0.6905 - val_loss: 0.7372 - val_accuracy: 0.5714\n",
      "Epoch 42/100\n",
      "11/11 [==============================] - 0s 4ms/step - loss: 0.6922 - accuracy: 0.6905 - val_loss: 0.7335 - val_accuracy: 0.5714\n",
      "Epoch 43/100\n",
      "11/11 [==============================] - 0s 4ms/step - loss: 0.6859 - accuracy: 0.6905 - val_loss: 0.7283 - val_accuracy: 0.5714\n",
      "Epoch 44/100\n",
      "11/11 [==============================] - 0s 4ms/step - loss: 0.6793 - accuracy: 0.6905 - val_loss: 0.7225 - val_accuracy: 0.5714\n",
      "Epoch 45/100\n",
      "11/11 [==============================] - 0s 4ms/step - loss: 0.6741 - accuracy: 0.6905 - val_loss: 0.7177 - val_accuracy: 0.5714\n",
      "Epoch 46/100\n",
      "11/11 [==============================] - 0s 4ms/step - loss: 0.6700 - accuracy: 0.6905 - val_loss: 0.7110 - val_accuracy: 0.5714\n",
      "Epoch 47/100\n",
      "11/11 [==============================] - 0s 4ms/step - loss: 0.6639 - accuracy: 0.6905 - val_loss: 0.7062 - val_accuracy: 0.5714\n",
      "Epoch 48/100\n",
      "11/11 [==============================] - 0s 4ms/step - loss: 0.6587 - accuracy: 0.6905 - val_loss: 0.7030 - val_accuracy: 0.5714\n",
      "Epoch 49/100\n",
      "11/11 [==============================] - 0s 4ms/step - loss: 0.6524 - accuracy: 0.6905 - val_loss: 0.6919 - val_accuracy: 0.5714\n",
      "Epoch 50/100\n",
      "11/11 [==============================] - 0s 4ms/step - loss: 0.6482 - accuracy: 0.6905 - val_loss: 0.6891 - val_accuracy: 0.5714\n",
      "Epoch 51/100\n",
      "11/11 [==============================] - 0s 4ms/step - loss: 0.6427 - accuracy: 0.6905 - val_loss: 0.6837 - val_accuracy: 0.5714\n",
      "Epoch 52/100\n",
      "11/11 [==============================] - 0s 4ms/step - loss: 0.6376 - accuracy: 0.6905 - val_loss: 0.6740 - val_accuracy: 0.5714\n",
      "Epoch 53/100\n",
      "11/11 [==============================] - 0s 4ms/step - loss: 0.6328 - accuracy: 0.6905 - val_loss: 0.6670 - val_accuracy: 0.5714\n",
      "Epoch 54/100\n",
      "11/11 [==============================] - 0s 4ms/step - loss: 0.6287 - accuracy: 0.6905 - val_loss: 0.6654 - val_accuracy: 0.5714\n",
      "Epoch 55/100\n",
      "11/11 [==============================] - 0s 4ms/step - loss: 0.6244 - accuracy: 0.6905 - val_loss: 0.6603 - val_accuracy: 0.5714\n",
      "Epoch 56/100\n",
      "11/11 [==============================] - 0s 4ms/step - loss: 0.6185 - accuracy: 0.6905 - val_loss: 0.6561 - val_accuracy: 0.5714\n",
      "Epoch 57/100\n",
      "11/11 [==============================] - 0s 4ms/step - loss: 0.6150 - accuracy: 0.6905 - val_loss: 0.6508 - val_accuracy: 0.5714\n",
      "Epoch 58/100\n",
      "11/11 [==============================] - 0s 4ms/step - loss: 0.6101 - accuracy: 0.6905 - val_loss: 0.6442 - val_accuracy: 0.6190\n"
     ]
    },
    {
     "name": "stdout",
     "output_type": "stream",
     "text": [
      "Epoch 59/100\n",
      "11/11 [==============================] - 0s 4ms/step - loss: 0.6069 - accuracy: 0.6905 - val_loss: 0.6423 - val_accuracy: 0.5714\n",
      "Epoch 60/100\n",
      "11/11 [==============================] - 0s 4ms/step - loss: 0.6014 - accuracy: 0.6905 - val_loss: 0.6425 - val_accuracy: 0.5714\n",
      "Epoch 61/100\n",
      "11/11 [==============================] - 0s 4ms/step - loss: 0.5979 - accuracy: 0.6905 - val_loss: 0.6389 - val_accuracy: 0.5714\n",
      "Epoch 62/100\n",
      "11/11 [==============================] - 0s 4ms/step - loss: 0.5940 - accuracy: 0.6905 - val_loss: 0.6365 - val_accuracy: 0.5714\n",
      "Epoch 63/100\n",
      "11/11 [==============================] - 0s 4ms/step - loss: 0.5896 - accuracy: 0.6905 - val_loss: 0.6346 - val_accuracy: 0.5714\n",
      "Epoch 64/100\n",
      "11/11 [==============================] - 0s 4ms/step - loss: 0.5891 - accuracy: 0.6905 - val_loss: 0.6292 - val_accuracy: 0.5714\n",
      "Epoch 65/100\n",
      "11/11 [==============================] - 0s 4ms/step - loss: 0.5839 - accuracy: 0.6905 - val_loss: 0.6269 - val_accuracy: 0.5714\n",
      "Epoch 66/100\n",
      "11/11 [==============================] - 0s 4ms/step - loss: 0.5793 - accuracy: 0.6905 - val_loss: 0.6246 - val_accuracy: 0.5714\n",
      "Epoch 67/100\n",
      "11/11 [==============================] - 0s 4ms/step - loss: 0.5768 - accuracy: 0.6905 - val_loss: 0.6180 - val_accuracy: 0.5714\n",
      "Epoch 68/100\n",
      "11/11 [==============================] - 0s 4ms/step - loss: 0.5726 - accuracy: 0.6905 - val_loss: 0.6120 - val_accuracy: 0.5714\n",
      "Epoch 69/100\n",
      "11/11 [==============================] - 0s 4ms/step - loss: 0.5672 - accuracy: 0.6905 - val_loss: 0.6043 - val_accuracy: 0.6190\n",
      "Epoch 70/100\n",
      "11/11 [==============================] - 0s 4ms/step - loss: 0.5649 - accuracy: 0.7143 - val_loss: 0.6001 - val_accuracy: 0.6190\n",
      "Epoch 71/100\n",
      "11/11 [==============================] - 0s 4ms/step - loss: 0.5606 - accuracy: 0.7024 - val_loss: 0.5961 - val_accuracy: 0.6190\n",
      "Epoch 72/100\n",
      "11/11 [==============================] - 0s 4ms/step - loss: 0.5586 - accuracy: 0.7143 - val_loss: 0.5902 - val_accuracy: 0.6190\n",
      "Epoch 73/100\n",
      "11/11 [==============================] - 0s 4ms/step - loss: 0.5532 - accuracy: 0.7500 - val_loss: 0.5955 - val_accuracy: 0.6190\n",
      "Epoch 74/100\n",
      "11/11 [==============================] - 0s 4ms/step - loss: 0.5498 - accuracy: 0.6905 - val_loss: 0.5888 - val_accuracy: 0.6190\n",
      "Epoch 75/100\n",
      "11/11 [==============================] - 0s 4ms/step - loss: 0.5470 - accuracy: 0.7024 - val_loss: 0.5876 - val_accuracy: 0.6190\n",
      "Epoch 76/100\n",
      "11/11 [==============================] - 0s 5ms/step - loss: 0.5443 - accuracy: 0.7024 - val_loss: 0.5828 - val_accuracy: 0.6190\n",
      "Epoch 77/100\n",
      "11/11 [==============================] - 0s 4ms/step - loss: 0.5404 - accuracy: 0.7024 - val_loss: 0.5790 - val_accuracy: 0.6190\n",
      "Epoch 78/100\n",
      "11/11 [==============================] - 0s 4ms/step - loss: 0.5384 - accuracy: 0.7024 - val_loss: 0.5706 - val_accuracy: 0.6190\n",
      "Epoch 79/100\n",
      "11/11 [==============================] - 0s 4ms/step - loss: 0.5363 - accuracy: 0.7500 - val_loss: 0.5704 - val_accuracy: 0.6190\n",
      "Epoch 80/100\n",
      "11/11 [==============================] - 0s 4ms/step - loss: 0.5316 - accuracy: 0.7024 - val_loss: 0.5636 - val_accuracy: 0.6190\n",
      "Epoch 81/100\n",
      "11/11 [==============================] - 0s 4ms/step - loss: 0.5286 - accuracy: 0.7024 - val_loss: 0.5614 - val_accuracy: 0.6190\n",
      "Epoch 82/100\n",
      "11/11 [==============================] - 0s 4ms/step - loss: 0.5269 - accuracy: 0.7381 - val_loss: 0.5630 - val_accuracy: 0.6190\n",
      "Epoch 83/100\n",
      "11/11 [==============================] - 0s 4ms/step - loss: 0.5243 - accuracy: 0.7262 - val_loss: 0.5625 - val_accuracy: 0.6190\n",
      "Epoch 84/100\n",
      "11/11 [==============================] - 0s 4ms/step - loss: 0.5200 - accuracy: 0.7143 - val_loss: 0.5612 - val_accuracy: 0.6190\n",
      "Epoch 85/100\n",
      "11/11 [==============================] - 0s 4ms/step - loss: 0.5188 - accuracy: 0.7143 - val_loss: 0.5579 - val_accuracy: 0.6190\n",
      "Epoch 86/100\n",
      "11/11 [==============================] - 0s 4ms/step - loss: 0.5170 - accuracy: 0.7024 - val_loss: 0.5547 - val_accuracy: 0.6190\n",
      "Epoch 87/100\n",
      "11/11 [==============================] - 0s 4ms/step - loss: 0.5146 - accuracy: 0.7024 - val_loss: 0.5501 - val_accuracy: 0.6190\n",
      "Epoch 88/100\n",
      "11/11 [==============================] - 0s 4ms/step - loss: 0.5111 - accuracy: 0.7500 - val_loss: 0.5491 - val_accuracy: 0.6190\n",
      "Epoch 89/100\n",
      "11/11 [==============================] - 0s 4ms/step - loss: 0.5086 - accuracy: 0.7619 - val_loss: 0.5471 - val_accuracy: 0.6190\n",
      "Epoch 90/100\n",
      "11/11 [==============================] - 0s 4ms/step - loss: 0.5056 - accuracy: 0.7262 - val_loss: 0.5382 - val_accuracy: 0.6667\n",
      "Epoch 91/100\n",
      "11/11 [==============================] - 0s 4ms/step - loss: 0.5037 - accuracy: 0.7857 - val_loss: 0.5392 - val_accuracy: 0.6190\n",
      "Epoch 92/100\n",
      "11/11 [==============================] - 0s 4ms/step - loss: 0.5005 - accuracy: 0.7500 - val_loss: 0.5367 - val_accuracy: 0.6190\n",
      "Epoch 93/100\n",
      "11/11 [==============================] - 0s 4ms/step - loss: 0.4988 - accuracy: 0.7381 - val_loss: 0.5374 - val_accuracy: 0.6190\n",
      "Epoch 94/100\n",
      "11/11 [==============================] - 0s 4ms/step - loss: 0.4960 - accuracy: 0.7262 - val_loss: 0.5303 - val_accuracy: 0.6190\n",
      "Epoch 95/100\n",
      "11/11 [==============================] - 0s 4ms/step - loss: 0.4937 - accuracy: 0.7976 - val_loss: 0.5318 - val_accuracy: 0.6190\n",
      "Epoch 96/100\n",
      "11/11 [==============================] - 0s 4ms/step - loss: 0.4911 - accuracy: 0.7738 - val_loss: 0.5299 - val_accuracy: 0.6190\n",
      "Epoch 97/100\n",
      "11/11 [==============================] - 0s 4ms/step - loss: 0.4896 - accuracy: 0.7500 - val_loss: 0.5234 - val_accuracy: 0.6667\n",
      "Epoch 98/100\n",
      "11/11 [==============================] - 0s 4ms/step - loss: 0.4874 - accuracy: 0.7381 - val_loss: 0.5168 - val_accuracy: 0.7619\n",
      "Epoch 99/100\n",
      "11/11 [==============================] - 0s 4ms/step - loss: 0.4853 - accuracy: 0.8333 - val_loss: 0.5194 - val_accuracy: 0.6667\n",
      "Epoch 100/100\n",
      "11/11 [==============================] - 0s 4ms/step - loss: 0.4844 - accuracy: 0.7619 - val_loss: 0.5178 - val_accuracy: 0.6667\n"
     ]
    }
   ],
   "source": [
    "from tabnanny import verbose\n",
    "from tensorflow.keras.models import Sequential\n",
    "from tensorflow.keras.layers import Dense, Input\n",
    "\n",
    "# declarar forma modelo\n",
    "model = Sequential(name='Perceptron')\n",
    "\n",
    "# adicionar os layers\n",
    "# para remover o último layer usamos o .pop()\n",
    "model.add(Input(X_train.shape[1]))\n",
    "model.add(Dense(3, activation='softmax', kernel_initializer='random_uniform', name='output'))\n",
    "\n",
    "# compilar o modelo\n",
    "model.compile(loss='sparse_categorical_crossentropy', metrics=['accuracy'])\n",
    "\n",
    "# Fit do modelo\n",
    "history = model.fit(X_train, y_train, epochs=100, batch_size=8, verbose=1, validation_split=0.2)\n"
   ]
  },
  {
   "cell_type": "code",
   "execution_count": 8,
   "metadata": {},
   "outputs": [
    {
     "name": "stdout",
     "output_type": "stream",
     "text": [
      "2/2 [==============================] - 0s 4ms/step - loss: 0.4981 - accuracy: 0.7333\n",
      "[0.49812519550323486, 0.7333333492279053]\n"
     ]
    }
   ],
   "source": [
    "# Test the model after training\n",
    "test_results = model.evaluate(X_test, y_test, verbose=1)\n",
    "print(test_results)"
   ]
  },
  {
   "cell_type": "code",
   "execution_count": 9,
   "metadata": {},
   "outputs": [
    {
     "name": "stdout",
     "output_type": "stream",
     "text": [
      "Model: \"Perceptron\"\n",
      "_________________________________________________________________\n",
      " Layer (type)                Output Shape              Param #   \n",
      "=================================================================\n",
      " output (Dense)              (None, 3)                 15        \n",
      "                                                                 \n",
      "=================================================================\n",
      "Total params: 15\n",
      "Trainable params: 15\n",
      "Non-trainable params: 0\n",
      "_________________________________________________________________\n"
     ]
    }
   ],
   "source": [
    "model.summary()"
   ]
  },
  {
   "cell_type": "code",
   "execution_count": 10,
   "metadata": {},
   "outputs": [
    {
     "data": {
      "text/plain": [
       "(105, 4)"
      ]
     },
     "execution_count": 10,
     "metadata": {},
     "output_type": "execute_result"
    }
   ],
   "source": [
    "X_train.shape"
   ]
  },
  {
   "cell_type": "code",
   "execution_count": 11,
   "metadata": {},
   "outputs": [
    {
     "data": {
      "text/plain": [
       "15"
      ]
     },
     "execution_count": 11,
     "metadata": {},
     "output_type": "execute_result"
    }
   ],
   "source": [
    "# 4 neurônios de input * 3 neurônios de output + 3 bias\n",
    "4 * 3 + 3"
   ]
  },
  {
   "cell_type": "code",
   "execution_count": null,
   "metadata": {},
   "outputs": [],
   "source": []
  },
  {
   "cell_type": "markdown",
   "metadata": {},
   "source": [
    "### MLP no Keras"
   ]
  },
  {
   "cell_type": "code",
   "execution_count": 12,
   "metadata": {},
   "outputs": [
    {
     "data": {
      "text/plain": [
       "{'activation': 'relu',\n",
       " 'alpha': 0.0001,\n",
       " 'batch_size': 'auto',\n",
       " 'beta_1': 0.9,\n",
       " 'beta_2': 0.999,\n",
       " 'early_stopping': False,\n",
       " 'epsilon': 1e-08,\n",
       " 'hidden_layer_sizes': (100,),\n",
       " 'learning_rate': 'constant',\n",
       " 'learning_rate_init': 0.001,\n",
       " 'max_fun': 15000,\n",
       " 'max_iter': 200,\n",
       " 'momentum': 0.9,\n",
       " 'n_iter_no_change': 10,\n",
       " 'nesterovs_momentum': True,\n",
       " 'power_t': 0.5,\n",
       " 'random_state': None,\n",
       " 'shuffle': True,\n",
       " 'solver': 'adam',\n",
       " 'tol': 0.0001,\n",
       " 'validation_fraction': 0.1,\n",
       " 'verbose': False,\n",
       " 'warm_start': False}"
      ]
     },
     "execution_count": 12,
     "metadata": {},
     "output_type": "execute_result"
    }
   ],
   "source": [
    "from sklearn.neural_network import MLPClassifier\n",
    "mlp = MLPClassifier()\n",
    "mlp.get_params()"
   ]
  },
  {
   "cell_type": "code",
   "execution_count": 13,
   "metadata": {},
   "outputs": [
    {
     "name": "stdout",
     "output_type": "stream",
     "text": [
      "Epoch 1/100\n",
      "11/11 [==============================] - 1s 26ms/step - loss: 1.0855 - accuracy: 0.2976 - val_loss: 1.0737 - val_accuracy: 0.2381\n",
      "Epoch 2/100\n",
      "11/11 [==============================] - 0s 4ms/step - loss: 1.0527 - accuracy: 0.3571 - val_loss: 1.0622 - val_accuracy: 0.2381\n",
      "Epoch 3/100\n",
      "11/11 [==============================] - 0s 4ms/step - loss: 1.0191 - accuracy: 0.3571 - val_loss: 1.0349 - val_accuracy: 0.2381\n",
      "Epoch 4/100\n",
      "11/11 [==============================] - 0s 4ms/step - loss: 0.9807 - accuracy: 0.4643 - val_loss: 0.9980 - val_accuracy: 0.5714\n",
      "Epoch 5/100\n",
      "11/11 [==============================] - 0s 4ms/step - loss: 0.9367 - accuracy: 0.6905 - val_loss: 0.9621 - val_accuracy: 0.5714\n",
      "Epoch 6/100\n",
      "11/11 [==============================] - 0s 4ms/step - loss: 0.8825 - accuracy: 0.6905 - val_loss: 0.9051 - val_accuracy: 0.5714\n",
      "Epoch 7/100\n",
      "11/11 [==============================] - 0s 4ms/step - loss: 0.8238 - accuracy: 0.6905 - val_loss: 0.8459 - val_accuracy: 0.5714\n",
      "Epoch 8/100\n",
      "11/11 [==============================] - 0s 4ms/step - loss: 0.7620 - accuracy: 0.6905 - val_loss: 0.7858 - val_accuracy: 0.5714\n",
      "Epoch 9/100\n",
      "11/11 [==============================] - 0s 5ms/step - loss: 0.7029 - accuracy: 0.6905 - val_loss: 0.7292 - val_accuracy: 0.5714\n",
      "Epoch 10/100\n",
      "11/11 [==============================] - 0s 4ms/step - loss: 0.6495 - accuracy: 0.6905 - val_loss: 0.6755 - val_accuracy: 0.5714\n",
      "Epoch 11/100\n",
      "11/11 [==============================] - 0s 4ms/step - loss: 0.6023 - accuracy: 0.6905 - val_loss: 0.6427 - val_accuracy: 0.5714\n",
      "Epoch 12/100\n",
      "11/11 [==============================] - 0s 4ms/step - loss: 0.5661 - accuracy: 0.6905 - val_loss: 0.5948 - val_accuracy: 0.5714\n",
      "Epoch 13/100\n",
      "11/11 [==============================] - 0s 4ms/step - loss: 0.5283 - accuracy: 0.7024 - val_loss: 0.5646 - val_accuracy: 0.6190\n",
      "Epoch 14/100\n",
      "11/11 [==============================] - 0s 5ms/step - loss: 0.5013 - accuracy: 0.7024 - val_loss: 0.5432 - val_accuracy: 0.6190\n",
      "Epoch 15/100\n",
      "11/11 [==============================] - 0s 4ms/step - loss: 0.4761 - accuracy: 0.7381 - val_loss: 0.5098 - val_accuracy: 0.6190\n",
      "Epoch 16/100\n",
      "11/11 [==============================] - 0s 4ms/step - loss: 0.4564 - accuracy: 0.8452 - val_loss: 0.4853 - val_accuracy: 0.7619\n",
      "Epoch 17/100\n",
      "11/11 [==============================] - 0s 4ms/step - loss: 0.4446 - accuracy: 0.7381 - val_loss: 0.4903 - val_accuracy: 0.6190\n",
      "Epoch 18/100\n",
      "11/11 [==============================] - 0s 4ms/step - loss: 0.4216 - accuracy: 0.8095 - val_loss: 0.4484 - val_accuracy: 0.9048\n",
      "Epoch 19/100\n",
      "11/11 [==============================] - 0s 4ms/step - loss: 0.4039 - accuracy: 0.9286 - val_loss: 0.4336 - val_accuracy: 0.8571\n",
      "Epoch 20/100\n",
      "11/11 [==============================] - 0s 4ms/step - loss: 0.3868 - accuracy: 0.8690 - val_loss: 0.4209 - val_accuracy: 0.8571\n",
      "Epoch 21/100\n",
      "11/11 [==============================] - 0s 4ms/step - loss: 0.3754 - accuracy: 0.9643 - val_loss: 0.3975 - val_accuracy: 0.9524\n",
      "Epoch 22/100\n",
      "11/11 [==============================] - 0s 4ms/step - loss: 0.3600 - accuracy: 0.9286 - val_loss: 0.3904 - val_accuracy: 0.9048\n",
      "Epoch 23/100\n",
      "11/11 [==============================] - 0s 4ms/step - loss: 0.3467 - accuracy: 0.9524 - val_loss: 0.3709 - val_accuracy: 0.9524\n",
      "Epoch 24/100\n",
      "11/11 [==============================] - 0s 4ms/step - loss: 0.3380 - accuracy: 0.9405 - val_loss: 0.3665 - val_accuracy: 0.9524\n",
      "Epoch 25/100\n",
      "11/11 [==============================] - 0s 5ms/step - loss: 0.3221 - accuracy: 0.9643 - val_loss: 0.3491 - val_accuracy: 0.9524\n",
      "Epoch 26/100\n",
      "11/11 [==============================] - 0s 4ms/step - loss: 0.3143 - accuracy: 0.9524 - val_loss: 0.3315 - val_accuracy: 0.9524\n",
      "Epoch 27/100\n",
      "11/11 [==============================] - 0s 4ms/step - loss: 0.3089 - accuracy: 0.9762 - val_loss: 0.3117 - val_accuracy: 0.9524\n",
      "Epoch 28/100\n",
      "11/11 [==============================] - 0s 4ms/step - loss: 0.2935 - accuracy: 0.9643 - val_loss: 0.3257 - val_accuracy: 0.9524\n",
      "Epoch 29/100\n",
      "11/11 [==============================] - 0s 4ms/step - loss: 0.2841 - accuracy: 0.9643 - val_loss: 0.2980 - val_accuracy: 0.9524\n",
      "Epoch 30/100\n",
      "11/11 [==============================] - 0s 4ms/step - loss: 0.2756 - accuracy: 0.9643 - val_loss: 0.2828 - val_accuracy: 0.9524\n",
      "Epoch 31/100\n",
      "11/11 [==============================] - 0s 4ms/step - loss: 0.2614 - accuracy: 0.9643 - val_loss: 0.2868 - val_accuracy: 0.9524\n",
      "Epoch 32/100\n",
      "11/11 [==============================] - 0s 4ms/step - loss: 0.2565 - accuracy: 0.9643 - val_loss: 0.2780 - val_accuracy: 0.9524\n",
      "Epoch 33/100\n",
      "11/11 [==============================] - 0s 4ms/step - loss: 0.2466 - accuracy: 0.9643 - val_loss: 0.2658 - val_accuracy: 0.9524\n",
      "Epoch 34/100\n",
      "11/11 [==============================] - 0s 4ms/step - loss: 0.2427 - accuracy: 0.9762 - val_loss: 0.2465 - val_accuracy: 0.9524\n",
      "Epoch 35/100\n",
      "11/11 [==============================] - 0s 4ms/step - loss: 0.2327 - accuracy: 0.9643 - val_loss: 0.2561 - val_accuracy: 0.9524\n",
      "Epoch 36/100\n",
      "11/11 [==============================] - 0s 4ms/step - loss: 0.2284 - accuracy: 0.9643 - val_loss: 0.2419 - val_accuracy: 0.9524\n",
      "Epoch 37/100\n",
      "11/11 [==============================] - 0s 4ms/step - loss: 0.2186 - accuracy: 0.9643 - val_loss: 0.2241 - val_accuracy: 0.9524\n",
      "Epoch 38/100\n",
      "11/11 [==============================] - 0s 4ms/step - loss: 0.2139 - accuracy: 0.9643 - val_loss: 0.2237 - val_accuracy: 0.9524\n",
      "Epoch 39/100\n",
      "11/11 [==============================] - 0s 4ms/step - loss: 0.2085 - accuracy: 0.9643 - val_loss: 0.2265 - val_accuracy: 0.9524\n",
      "Epoch 40/100\n",
      "11/11 [==============================] - 0s 4ms/step - loss: 0.2140 - accuracy: 0.9643 - val_loss: 0.2034 - val_accuracy: 0.9524\n",
      "Epoch 41/100\n",
      "11/11 [==============================] - 0s 4ms/step - loss: 0.2091 - accuracy: 0.9762 - val_loss: 0.2325 - val_accuracy: 0.9524\n",
      "Epoch 42/100\n",
      "11/11 [==============================] - 0s 4ms/step - loss: 0.1958 - accuracy: 0.9762 - val_loss: 0.1903 - val_accuracy: 1.0000\n",
      "Epoch 43/100\n",
      "11/11 [==============================] - 0s 4ms/step - loss: 0.1896 - accuracy: 0.9643 - val_loss: 0.2101 - val_accuracy: 0.9524\n",
      "Epoch 44/100\n",
      "11/11 [==============================] - 0s 4ms/step - loss: 0.1890 - accuracy: 0.9643 - val_loss: 0.1872 - val_accuracy: 0.9524\n",
      "Epoch 45/100\n",
      "11/11 [==============================] - 0s 4ms/step - loss: 0.1840 - accuracy: 0.9643 - val_loss: 0.1861 - val_accuracy: 0.9524\n",
      "Epoch 46/100\n",
      "11/11 [==============================] - 0s 4ms/step - loss: 0.1742 - accuracy: 0.9643 - val_loss: 0.1811 - val_accuracy: 0.9524\n",
      "Epoch 47/100\n",
      "11/11 [==============================] - 0s 4ms/step - loss: 0.1715 - accuracy: 0.9643 - val_loss: 0.1771 - val_accuracy: 0.9524\n",
      "Epoch 48/100\n",
      "11/11 [==============================] - 0s 4ms/step - loss: 0.1676 - accuracy: 0.9643 - val_loss: 0.1777 - val_accuracy: 0.9524\n",
      "Epoch 49/100\n",
      "11/11 [==============================] - 0s 4ms/step - loss: 0.1709 - accuracy: 0.9643 - val_loss: 0.1780 - val_accuracy: 0.9524\n",
      "Epoch 50/100\n",
      "11/11 [==============================] - 0s 4ms/step - loss: 0.1624 - accuracy: 0.9643 - val_loss: 0.1590 - val_accuracy: 0.9524\n",
      "Epoch 51/100\n",
      "11/11 [==============================] - 0s 4ms/step - loss: 0.1653 - accuracy: 0.9643 - val_loss: 0.1730 - val_accuracy: 0.9524\n",
      "Epoch 52/100\n",
      "11/11 [==============================] - 0s 4ms/step - loss: 0.1562 - accuracy: 0.9643 - val_loss: 0.1526 - val_accuracy: 0.9524\n",
      "Epoch 53/100\n",
      "11/11 [==============================] - 0s 4ms/step - loss: 0.1529 - accuracy: 0.9643 - val_loss: 0.1565 - val_accuracy: 0.9524\n",
      "Epoch 54/100\n",
      "11/11 [==============================] - 0s 4ms/step - loss: 0.1549 - accuracy: 0.9643 - val_loss: 0.1636 - val_accuracy: 0.9524\n",
      "Epoch 55/100\n",
      "11/11 [==============================] - 0s 5ms/step - loss: 0.1491 - accuracy: 0.9762 - val_loss: 0.1419 - val_accuracy: 0.9524\n",
      "Epoch 56/100\n",
      "11/11 [==============================] - 0s 4ms/step - loss: 0.1443 - accuracy: 0.9762 - val_loss: 0.1532 - val_accuracy: 0.9524\n",
      "Epoch 57/100\n",
      "11/11 [==============================] - 0s 5ms/step - loss: 0.1445 - accuracy: 0.9643 - val_loss: 0.1433 - val_accuracy: 0.9524\n",
      "Epoch 58/100\n",
      "11/11 [==============================] - 0s 6ms/step - loss: 0.1416 - accuracy: 0.9643 - val_loss: 0.1461 - val_accuracy: 0.9524\n"
     ]
    },
    {
     "name": "stdout",
     "output_type": "stream",
     "text": [
      "Epoch 59/100\n",
      "11/11 [==============================] - 0s 5ms/step - loss: 0.1421 - accuracy: 0.9881 - val_loss: 0.1319 - val_accuracy: 0.9524\n",
      "Epoch 60/100\n",
      "11/11 [==============================] - 0s 5ms/step - loss: 0.1554 - accuracy: 0.9643 - val_loss: 0.1512 - val_accuracy: 0.9524\n",
      "Epoch 61/100\n",
      "11/11 [==============================] - 0s 4ms/step - loss: 0.1346 - accuracy: 0.9643 - val_loss: 0.1258 - val_accuracy: 1.0000\n",
      "Epoch 62/100\n",
      "11/11 [==============================] - 0s 4ms/step - loss: 0.1335 - accuracy: 0.9881 - val_loss: 0.1328 - val_accuracy: 0.9524\n",
      "Epoch 63/100\n",
      "11/11 [==============================] - 0s 4ms/step - loss: 0.1295 - accuracy: 0.9643 - val_loss: 0.1332 - val_accuracy: 0.9524\n",
      "Epoch 64/100\n",
      "11/11 [==============================] - 0s 4ms/step - loss: 0.1302 - accuracy: 0.9643 - val_loss: 0.1297 - val_accuracy: 0.9524\n",
      "Epoch 65/100\n",
      "11/11 [==============================] - 0s 4ms/step - loss: 0.1279 - accuracy: 0.9762 - val_loss: 0.1176 - val_accuracy: 1.0000\n",
      "Epoch 66/100\n",
      "11/11 [==============================] - 0s 4ms/step - loss: 0.1256 - accuracy: 0.9643 - val_loss: 0.1276 - val_accuracy: 0.9524\n",
      "Epoch 67/100\n",
      "11/11 [==============================] - 0s 5ms/step - loss: 0.1343 - accuracy: 0.9643 - val_loss: 0.1360 - val_accuracy: 0.9524\n",
      "Epoch 68/100\n",
      "11/11 [==============================] - 0s 4ms/step - loss: 0.1282 - accuracy: 0.9762 - val_loss: 0.1144 - val_accuracy: 0.9524\n",
      "Epoch 69/100\n",
      "11/11 [==============================] - 0s 4ms/step - loss: 0.1281 - accuracy: 0.9643 - val_loss: 0.1236 - val_accuracy: 0.9524\n",
      "Epoch 70/100\n",
      "11/11 [==============================] - 0s 4ms/step - loss: 0.1211 - accuracy: 0.9643 - val_loss: 0.1182 - val_accuracy: 0.9524\n",
      "Epoch 71/100\n",
      "11/11 [==============================] - 0s 5ms/step - loss: 0.1281 - accuracy: 0.9643 - val_loss: 0.1109 - val_accuracy: 0.9524\n",
      "Epoch 72/100\n",
      "11/11 [==============================] - 0s 4ms/step - loss: 0.1164 - accuracy: 0.9643 - val_loss: 0.1201 - val_accuracy: 0.9524\n",
      "Epoch 73/100\n",
      "11/11 [==============================] - 0s 5ms/step - loss: 0.1169 - accuracy: 0.9643 - val_loss: 0.1150 - val_accuracy: 0.9524\n",
      "Epoch 74/100\n",
      "11/11 [==============================] - 0s 5ms/step - loss: 0.1156 - accuracy: 0.9643 - val_loss: 0.1106 - val_accuracy: 0.9524\n",
      "Epoch 75/100\n",
      "11/11 [==============================] - 0s 5ms/step - loss: 0.1158 - accuracy: 0.9643 - val_loss: 0.1191 - val_accuracy: 0.9524\n",
      "Epoch 76/100\n",
      "11/11 [==============================] - 0s 4ms/step - loss: 0.1129 - accuracy: 0.9643 - val_loss: 0.1072 - val_accuracy: 0.9524\n",
      "Epoch 77/100\n",
      "11/11 [==============================] - 0s 4ms/step - loss: 0.1181 - accuracy: 0.9524 - val_loss: 0.0970 - val_accuracy: 1.0000\n",
      "Epoch 78/100\n",
      "11/11 [==============================] - 0s 4ms/step - loss: 0.1275 - accuracy: 0.9643 - val_loss: 0.1211 - val_accuracy: 0.9524\n",
      "Epoch 79/100\n",
      "11/11 [==============================] - 0s 4ms/step - loss: 0.1085 - accuracy: 0.9643 - val_loss: 0.1002 - val_accuracy: 0.9524\n",
      "Epoch 80/100\n",
      "11/11 [==============================] - 0s 4ms/step - loss: 0.1153 - accuracy: 0.9881 - val_loss: 0.0949 - val_accuracy: 1.0000\n",
      "Epoch 81/100\n",
      "11/11 [==============================] - 0s 4ms/step - loss: 0.1213 - accuracy: 0.9643 - val_loss: 0.1153 - val_accuracy: 0.9524\n",
      "Epoch 82/100\n",
      "11/11 [==============================] - 0s 4ms/step - loss: 0.1113 - accuracy: 0.9643 - val_loss: 0.0931 - val_accuracy: 1.0000\n",
      "Epoch 83/100\n",
      "11/11 [==============================] - 0s 4ms/step - loss: 0.1053 - accuracy: 0.9643 - val_loss: 0.1042 - val_accuracy: 0.9524\n",
      "Epoch 84/100\n",
      "11/11 [==============================] - 0s 4ms/step - loss: 0.1069 - accuracy: 0.9643 - val_loss: 0.0973 - val_accuracy: 0.9524\n",
      "Epoch 85/100\n",
      "11/11 [==============================] - 0s 4ms/step - loss: 0.1051 - accuracy: 0.9643 - val_loss: 0.1000 - val_accuracy: 0.9524\n",
      "Epoch 86/100\n",
      "11/11 [==============================] - 0s 4ms/step - loss: 0.1073 - accuracy: 0.9762 - val_loss: 0.0900 - val_accuracy: 0.9524\n",
      "Epoch 87/100\n",
      "11/11 [==============================] - 0s 4ms/step - loss: 0.1035 - accuracy: 0.9881 - val_loss: 0.1005 - val_accuracy: 0.9524\n",
      "Epoch 88/100\n",
      "11/11 [==============================] - 0s 4ms/step - loss: 0.1041 - accuracy: 0.9643 - val_loss: 0.0960 - val_accuracy: 0.9524\n",
      "Epoch 89/100\n",
      "11/11 [==============================] - 0s 4ms/step - loss: 0.1002 - accuracy: 0.9762 - val_loss: 0.0881 - val_accuracy: 0.9524\n",
      "Epoch 90/100\n",
      "11/11 [==============================] - 0s 4ms/step - loss: 0.1014 - accuracy: 0.9762 - val_loss: 0.0873 - val_accuracy: 0.9524\n",
      "Epoch 91/100\n",
      "11/11 [==============================] - 0s 4ms/step - loss: 0.1010 - accuracy: 0.9643 - val_loss: 0.0925 - val_accuracy: 0.9524\n",
      "Epoch 92/100\n",
      "11/11 [==============================] - 0s 4ms/step - loss: 0.1024 - accuracy: 0.9762 - val_loss: 0.0907 - val_accuracy: 0.9524\n",
      "Epoch 93/100\n",
      "11/11 [==============================] - 0s 4ms/step - loss: 0.1034 - accuracy: 0.9643 - val_loss: 0.0923 - val_accuracy: 0.9524\n",
      "Epoch 94/100\n",
      "11/11 [==============================] - 0s 4ms/step - loss: 0.0989 - accuracy: 0.9643 - val_loss: 0.0916 - val_accuracy: 0.9524\n",
      "Epoch 95/100\n",
      "11/11 [==============================] - 0s 4ms/step - loss: 0.0963 - accuracy: 0.9881 - val_loss: 0.0802 - val_accuracy: 1.0000\n",
      "Epoch 96/100\n",
      "11/11 [==============================] - 0s 4ms/step - loss: 0.0983 - accuracy: 0.9643 - val_loss: 0.0890 - val_accuracy: 0.9524\n",
      "Epoch 97/100\n",
      "11/11 [==============================] - 0s 4ms/step - loss: 0.0971 - accuracy: 0.9762 - val_loss: 0.0818 - val_accuracy: 0.9524\n",
      "Epoch 98/100\n",
      "11/11 [==============================] - 0s 4ms/step - loss: 0.0952 - accuracy: 0.9762 - val_loss: 0.0827 - val_accuracy: 0.9524\n",
      "Epoch 99/100\n",
      "11/11 [==============================] - 0s 4ms/step - loss: 0.0949 - accuracy: 0.9643 - val_loss: 0.0868 - val_accuracy: 0.9524\n",
      "Epoch 100/100\n",
      "11/11 [==============================] - 0s 4ms/step - loss: 0.0965 - accuracy: 0.9643 - val_loss: 0.0860 - val_accuracy: 0.9524\n"
     ]
    }
   ],
   "source": [
    "# Create the MLP\n",
    "from tensorflow.keras.models import Sequential\n",
    "from tensorflow.keras.layers import Input, Dense\n",
    "\n",
    "# declarar forma modelo (Sequencial? Funcional?)\n",
    "model_mlp = Sequential(name='MLP')\n",
    "\n",
    "# adicionar os layers\n",
    "model_mlp.add(Input(X_train.shape[1]))\n",
    "model_mlp.add(Dense(100, activation='relu', kernel_initializer='random_uniform'))\n",
    "model_mlp.add(Dense(3, activation='softmax', kernel_initializer='random_uniform', name='output'))\n",
    "\n",
    "# compilar o modelo: Configuring the learning process\n",
    "model_mlp.compile(loss='sparse_categorical_crossentropy', optimizer='adam', metrics=['accuracy'])\n",
    "\n",
    "# Fit do modelo\n",
    "history_mlp = model_mlp.fit(X_train, y_train, epochs=100, batch_size=8, verbose=1, validation_split=0.2)\n",
    "\n"
   ]
  },
  {
   "cell_type": "code",
   "execution_count": 14,
   "metadata": {},
   "outputs": [
    {
     "name": "stdout",
     "output_type": "stream",
     "text": [
      "2/2 [==============================] - 0s 2ms/step - loss: 0.1009 - accuracy: 1.0000\n",
      "4/4 [==============================] - 0s 1ms/step - loss: 0.0916 - accuracy: 0.9619\n",
      "\n",
      "Train results - Loss: 0.09 - Accuracy: 96.2%\n",
      "\n",
      "Test results - Loss: 0.10 - Accuracy: 100.0%\n"
     ]
    }
   ],
   "source": [
    "# Test the model after training using evaluate\n",
    "test_results = model_mlp.evaluate(X_test, y_test)\n",
    "train_results = model_mlp.evaluate(X_train, y_train)\n",
    "\n",
    "print(f'\\nTrain results - Loss: {train_results[0]:.2f} - Accuracy: {100*train_results[1]:.1f}%')\n",
    "print(f'\\nTest results - Loss: {test_results[0]:.2f} - Accuracy: {100*test_results[1]:.1f}%')"
   ]
  },
  {
   "cell_type": "code",
   "execution_count": 15,
   "metadata": {},
   "outputs": [
    {
     "name": "stdout",
     "output_type": "stream",
     "text": [
      "Model: \"MLP\"\n",
      "_________________________________________________________________\n",
      " Layer (type)                Output Shape              Param #   \n",
      "=================================================================\n",
      " dense (Dense)               (None, 100)               500       \n",
      "                                                                 \n",
      " output (Dense)              (None, 3)                 303       \n",
      "                                                                 \n",
      "=================================================================\n",
      "Total params: 803\n",
      "Trainable params: 803\n",
      "Non-trainable params: 0\n",
      "_________________________________________________________________\n"
     ]
    }
   ],
   "source": [
    "model_mlp.summary()"
   ]
  },
  {
   "cell_type": "code",
   "execution_count": 16,
   "metadata": {},
   "outputs": [
    {
     "name": "stdout",
     "output_type": "stream",
     "text": [
      "500\n",
      "303\n"
     ]
    }
   ],
   "source": [
    "# Primeira camada\n",
    "# 4 neurônios de input * 100 neurônios ocultos + 100 bias\n",
    "print(4*100 + 100)\n",
    "\n",
    "# Camada output\n",
    "# 100 neurônios ocultos * 3 neurônios de output + 3 bias\n",
    "print(100*3 + 3)\n"
   ]
  },
  {
   "cell_type": "code",
   "execution_count": 17,
   "metadata": {},
   "outputs": [
    {
     "data": {
      "text/plain": [
       "803"
      ]
     },
     "execution_count": 17,
     "metadata": {},
     "output_type": "execute_result"
    }
   ],
   "source": [
    "# saber quantidade de parâmetros: \n",
    "model_mlp.count_params()"
   ]
  },
  {
   "cell_type": "code",
   "execution_count": 18,
   "metadata": {},
   "outputs": [
    {
     "data": {
      "text/plain": [
       "{'name': 'MLP',\n",
       " 'layers': [{'class_name': 'InputLayer',\n",
       "   'config': {'batch_input_shape': (None, 4),\n",
       "    'dtype': 'float32',\n",
       "    'sparse': False,\n",
       "    'ragged': False,\n",
       "    'name': 'input_2'}},\n",
       "  {'class_name': 'Dense',\n",
       "   'config': {'name': 'dense',\n",
       "    'trainable': True,\n",
       "    'dtype': 'float32',\n",
       "    'units': 100,\n",
       "    'activation': 'relu',\n",
       "    'use_bias': True,\n",
       "    'kernel_initializer': {'class_name': 'RandomUniform',\n",
       "     'config': {'minval': -0.05, 'maxval': 0.05, 'seed': None}},\n",
       "    'bias_initializer': {'class_name': 'Zeros', 'config': {}},\n",
       "    'kernel_regularizer': None,\n",
       "    'bias_regularizer': None,\n",
       "    'activity_regularizer': None,\n",
       "    'kernel_constraint': None,\n",
       "    'bias_constraint': None}},\n",
       "  {'class_name': 'Dense',\n",
       "   'config': {'name': 'output',\n",
       "    'trainable': True,\n",
       "    'dtype': 'float32',\n",
       "    'units': 3,\n",
       "    'activation': 'softmax',\n",
       "    'use_bias': True,\n",
       "    'kernel_initializer': {'class_name': 'RandomUniform',\n",
       "     'config': {'minval': -0.05, 'maxval': 0.05, 'seed': None}},\n",
       "    'bias_initializer': {'class_name': 'Zeros', 'config': {}},\n",
       "    'kernel_regularizer': None,\n",
       "    'bias_regularizer': None,\n",
       "    'activity_regularizer': None,\n",
       "    'kernel_constraint': None,\n",
       "    'bias_constraint': None}}]}"
      ]
     },
     "execution_count": 18,
     "metadata": {},
     "output_type": "execute_result"
    }
   ],
   "source": [
    "# pegar estrutura da rede neural\n",
    "model_mlp.get_config()"
   ]
  },
  {
   "cell_type": "code",
   "execution_count": 19,
   "metadata": {},
   "outputs": [],
   "source": [
    "# saber pesos\n",
    "# model_mlp.get_weights()"
   ]
  },
  {
   "cell_type": "markdown",
   "metadata": {},
   "source": [
    "#### Inferência: Usando um modelo após o treino"
   ]
  },
  {
   "cell_type": "code",
   "execution_count": 20,
   "metadata": {},
   "outputs": [
    {
     "name": "stdout",
     "output_type": "stream",
     "text": [
      "2/2 [==============================] - 0s 2ms/step\n"
     ]
    }
   ],
   "source": [
    "y_pred = model_mlp.predict(X_test)"
   ]
  },
  {
   "cell_type": "code",
   "execution_count": 21,
   "metadata": {},
   "outputs": [
    {
     "data": {
      "text/plain": [
       "(45,)"
      ]
     },
     "execution_count": 21,
     "metadata": {},
     "output_type": "execute_result"
    }
   ],
   "source": [
    "y_test.shape"
   ]
  },
  {
   "cell_type": "code",
   "execution_count": 22,
   "metadata": {},
   "outputs": [
    {
     "data": {
      "text/plain": [
       "(45, 3)"
      ]
     },
     "execution_count": 22,
     "metadata": {},
     "output_type": "execute_result"
    }
   ],
   "source": [
    "y_pred.shape"
   ]
  },
  {
   "cell_type": "code",
   "execution_count": 23,
   "metadata": {},
   "outputs": [
    {
     "data": {
      "text/plain": [
       "array([[1.33047820e-07, 4.16880697e-02, 9.58311796e-01],\n",
       "       [3.57997604e-04, 8.26739788e-01, 1.72902197e-01],\n",
       "       [5.06267897e-05, 4.85229015e-01, 5.14720380e-01],\n",
       "       [3.70217575e-04, 8.82418573e-01, 1.17211275e-01],\n",
       "       [2.31982340e-05, 3.21099371e-01, 6.78877354e-01],\n",
       "       [2.42077363e-08, 1.08159734e-02, 9.89184022e-01],\n",
       "       [9.36895434e-04, 8.10895503e-01, 1.88167602e-01],\n",
       "       [4.12198110e-03, 9.66132760e-01, 2.97452491e-02],\n",
       "       [9.95987594e-01, 4.01234673e-03, 4.72021366e-10],\n",
       "       [1.30245735e-06, 1.01660706e-01, 8.98337960e-01],\n",
       "       [9.98792648e-01, 1.20731059e-03, 8.72131707e-12],\n",
       "       [9.92980838e-01, 7.01912306e-03, 5.13261611e-09],\n",
       "       [1.05952530e-07, 2.22688336e-02, 9.77731049e-01],\n",
       "       [2.58285650e-06, 1.35832444e-01, 8.64164948e-01],\n",
       "       [9.96609092e-01, 3.39097250e-03, 3.34216349e-10],\n",
       "       [1.93881789e-07, 3.06155812e-02, 9.69384193e-01],\n",
       "       [1.77962892e-02, 9.68504727e-01, 1.36989215e-02],\n",
       "       [9.97520983e-01, 2.47898465e-03, 1.07090524e-10],\n",
       "       [9.84618723e-01, 1.53812347e-02, 1.38542351e-08],\n",
       "       [9.97429550e-01, 2.57038861e-03, 1.04726755e-10],\n",
       "       [1.75942201e-03, 9.66935039e-01, 3.13055627e-02],\n",
       "       [9.95933115e-01, 4.06695576e-03, 6.47865372e-10],\n",
       "       [1.36308686e-03, 9.72086191e-01, 2.65506711e-02],\n",
       "       [1.84328233e-08, 8.67422111e-03, 9.91325676e-01],\n",
       "       [3.09703428e-05, 3.49171579e-01, 6.50797486e-01],\n",
       "       [8.69497133e-04, 9.52224433e-01, 4.69060130e-02],\n",
       "       [2.74956546e-04, 6.74991846e-01, 3.24733227e-01],\n",
       "       [1.59452651e-02, 9.68966901e-01, 1.50878718e-02],\n",
       "       [3.37041332e-04, 7.45677769e-01, 2.53985167e-01],\n",
       "       [9.96078908e-01, 3.92106688e-03, 6.00862970e-10],\n",
       "       [3.45822082e-06, 1.24312676e-01, 8.75683844e-01],\n",
       "       [1.93497005e-08, 7.64320092e-03, 9.92356777e-01],\n",
       "       [6.33608899e-04, 9.14267778e-01, 8.50986093e-02],\n",
       "       [9.95855272e-01, 4.14468441e-03, 7.01909808e-10],\n",
       "       [8.25075404e-07, 5.99654540e-02, 9.40033734e-01],\n",
       "       [9.96381104e-01, 3.61889554e-03, 4.59139698e-10],\n",
       "       [9.94173467e-01, 5.82656311e-03, 2.73109158e-09],\n",
       "       [9.95038807e-01, 4.96124243e-03, 1.44123102e-09],\n",
       "       [9.87122536e-01, 1.28774885e-02, 9.78021664e-09],\n",
       "       [6.74054027e-05, 6.19265079e-01, 3.80667537e-01],\n",
       "       [6.13427314e-04, 8.44155908e-01, 1.55230612e-01],\n",
       "       [9.97117400e-01, 2.88265152e-03, 2.48860876e-10],\n",
       "       [5.66792005e-06, 7.52582625e-02, 9.24736023e-01],\n",
       "       [2.51774668e-06, 1.24521188e-01, 8.75476301e-01],\n",
       "       [9.95208742e-04, 9.60800946e-01, 3.82038094e-02]], dtype=float32)"
      ]
     },
     "execution_count": 23,
     "metadata": {},
     "output_type": "execute_result"
    }
   ],
   "source": [
    "y_pred"
   ]
  },
  {
   "cell_type": "code",
   "execution_count": 24,
   "metadata": {},
   "outputs": [
    {
     "data": {
      "text/plain": [
       "array([2, 1, 2, 1, 2, 2, 1, 1, 0, 2, 0, 0, 2, 2, 0, 2, 1, 0, 0, 0, 1, 0,\n",
       "       1, 2, 2, 1, 1, 1, 1, 0, 2, 2, 1, 0, 2, 0, 0, 0, 0, 1, 1, 0, 2, 2,\n",
       "       1], dtype=int64)"
      ]
     },
     "execution_count": 24,
     "metadata": {},
     "output_type": "execute_result"
    }
   ],
   "source": [
    "import numpy as np\n",
    "y_pred_mod = np.argmax(y_pred, axis=1)\n",
    "y_pred_mod"
   ]
  },
  {
   "cell_type": "code",
   "execution_count": 25,
   "metadata": {},
   "outputs": [
    {
     "data": {
      "text/plain": [
       "array([[15,  0,  0],\n",
       "       [ 0, 15,  0],\n",
       "       [ 0,  0, 15]], dtype=int64)"
      ]
     },
     "execution_count": 25,
     "metadata": {},
     "output_type": "execute_result"
    }
   ],
   "source": [
    "from sklearn.metrics import confusion_matrix\n",
    "\n",
    "confusion_matrix(y_test, y_pred_mod)"
   ]
  },
  {
   "cell_type": "markdown",
   "metadata": {},
   "source": [
    "#### Plot da função de custo"
   ]
  },
  {
   "cell_type": "code",
   "execution_count": 26,
   "metadata": {},
   "outputs": [],
   "source": [
    "# history.history['loss']"
   ]
  },
  {
   "cell_type": "code",
   "execution_count": 27,
   "metadata": {},
   "outputs": [
    {
     "data": {
      "image/png": "[encoded data removed]",
      "text/plain": [
       "<Figure size 432x288 with 1 Axes>"
      ]
     },
     "metadata": {
      "needs_background": "light"
     },
     "output_type": "display_data"
    }
   ],
   "source": [
    "import matplotlib.pyplot as plt\n",
    "\n",
    "plt.title('Loss')\n",
    "plt.plot(history.history['loss'], label='train')\n",
    "plt.plot(history.history['val_loss'], label='val')\n",
    "plt.ylabel('Loss')\n",
    "plt.xlabel('Epochs')\n",
    "plt.legend()\n",
    "plt.show()"
   ]
  },
  {
   "cell_type": "code",
   "execution_count": 28,
   "metadata": {},
   "outputs": [
    {
     "data": {
      "image/png": "[encoded data removed]",
      "text/plain": [
       "<Figure size 432x288 with 1 Axes>"
      ]
     },
     "metadata": {
      "needs_background": "light"
     },
     "output_type": "display_data"
    }
   ],
   "source": [
    "plt.title('Accuracy')\n",
    "plt.plot(history.history['accuracy'], label='train')\n",
    "plt.plot(history.history['val_accuracy'], label='val')\n",
    "plt.ylabel('Accuracy')\n",
    "plt.xlabel('Epochs')\n",
    "plt.legend()\n",
    "plt.show()"
   ]
  },
  {
   "cell_type": "markdown",
   "metadata": {},
   "source": [
    "Podemos ver que o modelo converge e tanto a performance de treino e de teste ficam equivalentes. Essa performance e convergência sugerem que escolhemos uma boa função de custo para nosso modelo."
   ]
  },
  {
   "cell_type": "markdown",
   "metadata": {},
   "source": [
    "## Exemplo:\n",
    "\n",
    "Neste exemplo, usaremos o **MNIST**, o famoso dataset de dígitos (números de 0 a 9) escritos à mão. O objetivo do nosso modelo será o de classificar digítos, com base em imagens. Assim sendo, temos um **problema de classificação multiclasse** (pois os dados serão classificados em uma dentre 10 classes possíveis, de 0 a 9).\n",
    "\n",
    "Primeiramente, lemos nossos dados:"
   ]
  },
  {
   "cell_type": "code",
   "execution_count": 29,
   "metadata": {},
   "outputs": [],
   "source": [
    "# importa libs\n",
    "from tensorflow.keras.models import Sequential\n",
    "from tensorflow.keras.layers import Input, Dense\n",
    "\n",
    "import numpy as np\n",
    "import pandas as pd\n",
    "\n",
    "import warnings\n",
    "warnings.filterwarnings('ignore')"
   ]
  },
  {
   "cell_type": "code",
   "execution_count": 30,
   "metadata": {},
   "outputs": [
    {
     "name": "stdout",
     "output_type": "stream",
     "text": [
      "(60000, 28, 28) (60000,) (10000, 28, 28) (10000,)\n"
     ]
    }
   ],
   "source": [
    "# importa mnist\n",
    "from keras.datasets import mnist\n",
    "\n",
    "(X_train, y_train), (X_test, y_test) = mnist.load_data()\n",
    "\n",
    "print(X_train.shape, y_train.shape, X_test.shape, y_test.shape)"
   ]
  },
  {
   "cell_type": "code",
   "execution_count": 31,
   "metadata": {},
   "outputs": [],
   "source": [
    "# reshape dos dados de treino e teste\n",
    "X_train = X_train.reshape((X_train.shape[0], 28*28)).astype('float32')\n",
    "X_test = X_test.reshape((X_test.shape[0], 28*28)).astype('float32')"
   ]
  },
  {
   "cell_type": "code",
   "execution_count": 32,
   "metadata": {},
   "outputs": [
    {
     "data": {
      "text/plain": [
       "(60000, 784)"
      ]
     },
     "execution_count": 32,
     "metadata": {},
     "output_type": "execute_result"
    }
   ],
   "source": [
    "X_train.shape"
   ]
  },
  {
   "cell_type": "code",
   "execution_count": 33,
   "metadata": {},
   "outputs": [],
   "source": [
    "# Limita tamanho dos dados\n",
    "X_train = X_train[:30000]\n",
    "X_test = X_test[:5000]\n",
    "y_train = y_train[:30000]\n",
    "y_test = y_test[:5000]"
   ]
  },
  {
   "cell_type": "markdown",
   "metadata": {},
   "source": [
    "Note que acima já temos separados os dados de treino e de teste!\n",
    "\n",
    "Pra garantir maior rapidez do algoritmo, **reescalamos** as **features** para que tenham valores entre 0 e 1:"
   ]
  },
  {
   "cell_type": "code",
   "execution_count": 34,
   "metadata": {},
   "outputs": [
    {
     "data": {
      "text/plain": [
       "255.0"
      ]
     },
     "execution_count": 34,
     "metadata": {},
     "output_type": "execute_result"
    }
   ],
   "source": [
    "X_train.max()"
   ]
  },
  {
   "cell_type": "code",
   "execution_count": 35,
   "metadata": {},
   "outputs": [],
   "source": [
    "# para reescalar as features, as dividimos pelo valor máximo das features de treino\n",
    "maximo = X_train.max()\n",
    "\n",
    "X_train = X_train/maximo\n",
    "X_test = X_test/maximo"
   ]
  },
  {
   "cell_type": "code",
   "execution_count": 36,
   "metadata": {},
   "outputs": [
    {
     "name": "stdout",
     "output_type": "stream",
     "text": [
      "1.0 1.0\n",
      "0.0 0.0\n"
     ]
    }
   ],
   "source": [
    "print(X_train.max(), X_test.max())\n",
    "print(X_train.min(), X_test.min())"
   ]
  },
  {
   "cell_type": "markdown",
   "metadata": {},
   "source": [
    "Vamos converter nossos targets em matrizes com a mesma quantidade de linhas que anteriormente, mas agora com uma coluna para cada classe utilizando o to_categorical:"
   ]
  },
  {
   "cell_type": "code",
   "execution_count": 37,
   "metadata": {},
   "outputs": [
    {
     "data": {
      "text/plain": [
       "array([5, 0, 4, ..., 6, 7, 1], dtype=uint8)"
      ]
     },
     "execution_count": 37,
     "metadata": {},
     "output_type": "execute_result"
    }
   ],
   "source": [
    "y_train"
   ]
  },
  {
   "cell_type": "code",
   "execution_count": 38,
   "metadata": {},
   "outputs": [
    {
     "name": "stdout",
     "output_type": "stream",
     "text": [
      "(30000, 10)\n"
     ]
    }
   ],
   "source": [
    "from tensorflow.keras.utils import to_categorical\n",
    "\n",
    "y_train = to_categorical(y_train)\n",
    "y_test = to_categorical(y_test)\n",
    "\n",
    "print(y_train.shape)"
   ]
  },
  {
   "cell_type": "code",
   "execution_count": 39,
   "metadata": {},
   "outputs": [
    {
     "data": {
      "text/plain": [
       "array([[0., 0., 0., ..., 0., 0., 0.],\n",
       "       [1., 0., 0., ..., 0., 0., 0.],\n",
       "       [0., 0., 0., ..., 0., 0., 0.],\n",
       "       ...,\n",
       "       [0., 0., 0., ..., 0., 0., 0.],\n",
       "       [0., 0., 0., ..., 1., 0., 0.],\n",
       "       [0., 1., 0., ..., 0., 0., 0.]], dtype=float32)"
      ]
     },
     "execution_count": 39,
     "metadata": {},
     "output_type": "execute_result"
    }
   ],
   "source": [
    "y_train"
   ]
  },
  {
   "cell_type": "markdown",
   "metadata": {},
   "source": [
    "Vamos separar nossos dados de treino em um conjunto para treino e outro para validação. No Keras podemos tanto selecionar uma porcentagem dos dados de treino para validação, quanto passar um conjunto de validação pré-determinado."
   ]
  },
  {
   "cell_type": "code",
   "execution_count": 40,
   "metadata": {},
   "outputs": [],
   "source": [
    "from sklearn.model_selection import train_test_split\n",
    "\n",
    "X_train, X_val, y_train, y_val = train_test_split(X_train, y_train, stratify=y_train, test_size=0.2, random_state=42)"
   ]
  },
  {
   "cell_type": "markdown",
   "metadata": {},
   "source": [
    "Agora, definimos a arquitetura de nossa rede neural, usando o Keras!\n",
    "\n",
    "Vamos construir uma rede neural simples, com 3 camadas ocultas densas e 25 neurônios em cada camada, com a função de ativação **ReLu**. Para a camada de output, usamos a **Softmax**, dado que temos um problema de classificação multiclasse."
   ]
  },
  {
   "cell_type": "code",
   "execution_count": 41,
   "metadata": {},
   "outputs": [],
   "source": [
    "# Importação de funções úteis do Keras\n",
    "from tensorflow.keras.models import Sequential\n",
    "from tensorflow.keras.layers import Dense, Activation\n",
    "\n",
    "# definição da arquitetura\n",
    "rede_simples = Sequential()\n",
    "\n",
    "rede_simples.add(Dense(25, input_dim=784))\n",
    "rede_simples.add(Activation('relu'))\n",
    "rede_simples.add(Dense(25, input_dim=784))\n",
    "rede_simples.add(Activation('relu'))\n",
    "rede_simples.add(Dense(25, input_dim=784))\n",
    "rede_simples.add(Activation('relu'))\n",
    "rede_simples.add(Dense(10))\n",
    "rede_simples.add(Activation('softmax'))"
   ]
  },
  {
   "cell_type": "markdown",
   "metadata": {},
   "source": [
    "Agora, compilamos a rede neural, explicitando o otimizador e a função de perda desejadas:"
   ]
  },
  {
   "cell_type": "code",
   "execution_count": 42,
   "metadata": {},
   "outputs": [],
   "source": [
    "# Importando o otimizador RMSprop\n",
    "rede_simples.compile(loss='categorical_crossentropy', optimizer='rmsprop', metrics=['accuracy'])"
   ]
  },
  {
   "cell_type": "markdown",
   "metadata": {},
   "source": [
    "Dois parâmetros na função acima são importantes:\n",
    "- **\"loss\"**, que é a função de perda a ser minimizada. Esta função depende do tipo de problema que queremos resolver. Como temos um problema de classificação multiclasse, a função de perda adequada é ou a \"categorical_crossentropy\" ou a \"sparse_categorical_crossentropy\".\n",
    "- **\"optimizer\"**, que é o otimizador que utilizaremos para minimizar a função de perda. A escolha do otimizador é bem mais livre: é uma boa ideia testar diferentes otimizadores! Os mais utilizados são: **Adam**, **SGD** e **RMSprop**.\n",
    "\n",
    "Por fim, treinamos a rede neural! Basta usar o método \".fit()\", determinando o número de epochs bem como os dados de treino e validação:"
   ]
  },
  {
   "cell_type": "code",
   "execution_count": 43,
   "metadata": {},
   "outputs": [
    {
     "name": "stdout",
     "output_type": "stream",
     "text": [
      "Epoch 1/100\n",
      "750/750 [==============================] - 2s 2ms/step - loss: 0.5817 - accuracy: 0.8233 - val_loss: 0.3168 - val_accuracy: 0.9058\n",
      "Epoch 2/100\n",
      "750/750 [==============================] - 1s 2ms/step - loss: 0.2418 - accuracy: 0.9303 - val_loss: 0.2379 - val_accuracy: 0.9285\n",
      "Epoch 3/100\n",
      "750/750 [==============================] - 1s 2ms/step - loss: 0.1895 - accuracy: 0.9436 - val_loss: 0.2257 - val_accuracy: 0.9348\n",
      "Epoch 4/100\n",
      "750/750 [==============================] - 1s 2ms/step - loss: 0.1603 - accuracy: 0.9527 - val_loss: 0.2081 - val_accuracy: 0.9400\n",
      "Epoch 5/100\n",
      "750/750 [==============================] - 1s 2ms/step - loss: 0.1408 - accuracy: 0.9595 - val_loss: 0.2243 - val_accuracy: 0.9350\n",
      "Epoch 6/100\n",
      "750/750 [==============================] - 1s 2ms/step - loss: 0.1269 - accuracy: 0.9623 - val_loss: 0.1903 - val_accuracy: 0.9432\n",
      "Epoch 7/100\n",
      "750/750 [==============================] - 1s 2ms/step - loss: 0.1132 - accuracy: 0.9654 - val_loss: 0.1955 - val_accuracy: 0.9467\n",
      "Epoch 8/100\n",
      "750/750 [==============================] - 1s 2ms/step - loss: 0.1054 - accuracy: 0.9690 - val_loss: 0.2022 - val_accuracy: 0.9437\n",
      "Epoch 9/100\n",
      "750/750 [==============================] - 1s 2ms/step - loss: 0.0946 - accuracy: 0.9715 - val_loss: 0.2054 - val_accuracy: 0.9423\n",
      "Epoch 10/100\n",
      "750/750 [==============================] - 1s 2ms/step - loss: 0.0894 - accuracy: 0.9730 - val_loss: 0.1875 - val_accuracy: 0.9483\n",
      "Epoch 11/100\n",
      "750/750 [==============================] - 1s 2ms/step - loss: 0.0820 - accuracy: 0.9749 - val_loss: 0.2136 - val_accuracy: 0.9470\n",
      "Epoch 12/100\n",
      "750/750 [==============================] - 1s 2ms/step - loss: 0.0772 - accuracy: 0.9770 - val_loss: 0.1947 - val_accuracy: 0.9472\n",
      "Epoch 13/100\n",
      "750/750 [==============================] - 1s 2ms/step - loss: 0.0733 - accuracy: 0.9778 - val_loss: 0.1992 - val_accuracy: 0.9493\n",
      "Epoch 14/100\n",
      "750/750 [==============================] - 1s 2ms/step - loss: 0.0677 - accuracy: 0.9800 - val_loss: 0.2093 - val_accuracy: 0.9497\n",
      "Epoch 15/100\n",
      "750/750 [==============================] - 1s 2ms/step - loss: 0.0618 - accuracy: 0.9808 - val_loss: 0.2089 - val_accuracy: 0.9495\n",
      "Epoch 16/100\n",
      "750/750 [==============================] - 1s 2ms/step - loss: 0.0591 - accuracy: 0.9821 - val_loss: 0.2377 - val_accuracy: 0.9447\n",
      "Epoch 17/100\n",
      "750/750 [==============================] - 1s 2ms/step - loss: 0.0545 - accuracy: 0.9833 - val_loss: 0.2144 - val_accuracy: 0.9515\n",
      "Epoch 18/100\n",
      "750/750 [==============================] - 1s 2ms/step - loss: 0.0525 - accuracy: 0.9831 - val_loss: 0.2334 - val_accuracy: 0.9495\n",
      "Epoch 19/100\n",
      "750/750 [==============================] - 1s 2ms/step - loss: 0.0494 - accuracy: 0.9844 - val_loss: 0.2324 - val_accuracy: 0.9487\n",
      "Epoch 20/100\n",
      "750/750 [==============================] - 1s 2ms/step - loss: 0.0461 - accuracy: 0.9865 - val_loss: 0.2342 - val_accuracy: 0.9480\n",
      "Epoch 21/100\n",
      "750/750 [==============================] - 1s 2ms/step - loss: 0.0452 - accuracy: 0.9868 - val_loss: 0.2489 - val_accuracy: 0.9487\n",
      "Epoch 22/100\n",
      "750/750 [==============================] - 1s 2ms/step - loss: 0.0431 - accuracy: 0.9868 - val_loss: 0.2445 - val_accuracy: 0.9512\n",
      "Epoch 23/100\n",
      "750/750 [==============================] - 1s 2ms/step - loss: 0.0399 - accuracy: 0.9874 - val_loss: 0.2551 - val_accuracy: 0.9517\n",
      "Epoch 24/100\n",
      "750/750 [==============================] - 1s 2ms/step - loss: 0.0386 - accuracy: 0.9887 - val_loss: 0.2813 - val_accuracy: 0.9487\n",
      "Epoch 25/100\n",
      "750/750 [==============================] - 1s 2ms/step - loss: 0.0355 - accuracy: 0.9887 - val_loss: 0.2853 - val_accuracy: 0.9478\n",
      "Epoch 26/100\n",
      "750/750 [==============================] - 1s 2ms/step - loss: 0.0324 - accuracy: 0.9905 - val_loss: 0.2769 - val_accuracy: 0.9493\n",
      "Epoch 27/100\n",
      "750/750 [==============================] - 1s 2ms/step - loss: 0.0314 - accuracy: 0.9911 - val_loss: 0.3011 - val_accuracy: 0.9482\n",
      "Epoch 28/100\n",
      "750/750 [==============================] - 1s 2ms/step - loss: 0.0304 - accuracy: 0.9905 - val_loss: 0.3138 - val_accuracy: 0.9487\n",
      "Epoch 29/100\n",
      "750/750 [==============================] - 1s 2ms/step - loss: 0.0263 - accuracy: 0.9921 - val_loss: 0.2946 - val_accuracy: 0.9515\n",
      "Epoch 30/100\n",
      "750/750 [==============================] - 1s 2ms/step - loss: 0.0276 - accuracy: 0.9912 - val_loss: 0.3180 - val_accuracy: 0.9493\n",
      "Epoch 31/100\n",
      "750/750 [==============================] - 1s 2ms/step - loss: 0.0252 - accuracy: 0.9922 - val_loss: 0.3379 - val_accuracy: 0.9482\n",
      "Epoch 32/100\n",
      "750/750 [==============================] - 1s 2ms/step - loss: 0.0257 - accuracy: 0.9922 - val_loss: 0.3132 - val_accuracy: 0.9468\n",
      "Epoch 33/100\n",
      "750/750 [==============================] - 1s 2ms/step - loss: 0.0235 - accuracy: 0.9929 - val_loss: 0.3303 - val_accuracy: 0.9493\n",
      "Epoch 34/100\n",
      "750/750 [==============================] - 1s 2ms/step - loss: 0.0215 - accuracy: 0.9931 - val_loss: 0.3593 - val_accuracy: 0.9490\n",
      "Epoch 35/100\n",
      "750/750 [==============================] - 1s 2ms/step - loss: 0.0189 - accuracy: 0.9939 - val_loss: 0.3418 - val_accuracy: 0.9473\n",
      "Epoch 36/100\n",
      "750/750 [==============================] - 1s 2ms/step - loss: 0.0207 - accuracy: 0.9938 - val_loss: 0.3497 - val_accuracy: 0.9507\n",
      "Epoch 37/100\n",
      "750/750 [==============================] - 1s 2ms/step - loss: 0.0183 - accuracy: 0.9942 - val_loss: 0.3659 - val_accuracy: 0.9482\n",
      "Epoch 38/100\n",
      "750/750 [==============================] - 1s 2ms/step - loss: 0.0181 - accuracy: 0.9947 - val_loss: 0.4061 - val_accuracy: 0.9483\n",
      "Epoch 39/100\n",
      "750/750 [==============================] - 1s 2ms/step - loss: 0.0159 - accuracy: 0.9947 - val_loss: 0.3711 - val_accuracy: 0.9503\n",
      "Epoch 40/100\n",
      "750/750 [==============================] - 1s 2ms/step - loss: 0.0153 - accuracy: 0.9956 - val_loss: 0.3894 - val_accuracy: 0.9488\n",
      "Epoch 41/100\n",
      "750/750 [==============================] - 1s 2ms/step - loss: 0.0171 - accuracy: 0.9947 - val_loss: 0.4042 - val_accuracy: 0.9480\n",
      "Epoch 42/100\n",
      "750/750 [==============================] - 1s 2ms/step - loss: 0.0136 - accuracy: 0.9958 - val_loss: 0.4163 - val_accuracy: 0.9443\n",
      "Epoch 43/100\n",
      "750/750 [==============================] - 1s 2ms/step - loss: 0.0143 - accuracy: 0.9950 - val_loss: 0.4352 - val_accuracy: 0.9462\n",
      "Epoch 44/100\n",
      "750/750 [==============================] - 1s 2ms/step - loss: 0.0130 - accuracy: 0.9960 - val_loss: 0.4444 - val_accuracy: 0.9468\n",
      "Epoch 45/100\n",
      "750/750 [==============================] - 1s 2ms/step - loss: 0.0133 - accuracy: 0.9962 - val_loss: 0.4324 - val_accuracy: 0.9502\n",
      "Epoch 46/100\n",
      "750/750 [==============================] - 1s 2ms/step - loss: 0.0115 - accuracy: 0.9964 - val_loss: 0.4359 - val_accuracy: 0.9488\n",
      "Epoch 47/100\n",
      "750/750 [==============================] - 1s 2ms/step - loss: 0.0123 - accuracy: 0.9962 - val_loss: 0.4244 - val_accuracy: 0.9493\n",
      "Epoch 48/100\n",
      "750/750 [==============================] - 1s 2ms/step - loss: 0.0127 - accuracy: 0.9961 - val_loss: 0.4735 - val_accuracy: 0.9467\n",
      "Epoch 49/100\n",
      "750/750 [==============================] - 1s 2ms/step - loss: 0.0118 - accuracy: 0.9963 - val_loss: 0.4945 - val_accuracy: 0.9493\n",
      "Epoch 50/100\n",
      "750/750 [==============================] - 1s 2ms/step - loss: 0.0106 - accuracy: 0.9971 - val_loss: 0.4619 - val_accuracy: 0.9483\n",
      "Epoch 51/100\n",
      "750/750 [==============================] - 1s 2ms/step - loss: 0.0110 - accuracy: 0.9973 - val_loss: 0.4857 - val_accuracy: 0.9493\n",
      "Epoch 52/100\n",
      "750/750 [==============================] - 1s 2ms/step - loss: 0.0105 - accuracy: 0.9970 - val_loss: 0.5117 - val_accuracy: 0.9503\n",
      "Epoch 53/100\n",
      "750/750 [==============================] - 1s 2ms/step - loss: 0.0101 - accuracy: 0.9970 - val_loss: 0.5005 - val_accuracy: 0.9488\n",
      "Epoch 54/100\n",
      "750/750 [==============================] - 1s 2ms/step - loss: 0.0088 - accuracy: 0.9974 - val_loss: 0.5544 - val_accuracy: 0.9470\n",
      "Epoch 55/100\n",
      "750/750 [==============================] - 1s 2ms/step - loss: 0.0088 - accuracy: 0.9975 - val_loss: 0.5499 - val_accuracy: 0.9443\n",
      "Epoch 56/100\n",
      "750/750 [==============================] - 1s 2ms/step - loss: 0.0102 - accuracy: 0.9977 - val_loss: 0.5166 - val_accuracy: 0.9485\n",
      "Epoch 57/100\n",
      "750/750 [==============================] - 1s 2ms/step - loss: 0.0098 - accuracy: 0.9974 - val_loss: 0.5156 - val_accuracy: 0.9490\n"
     ]
    },
    {
     "name": "stdout",
     "output_type": "stream",
     "text": [
      "Epoch 58/100\n",
      "750/750 [==============================] - 1s 2ms/step - loss: 0.0085 - accuracy: 0.9976 - val_loss: 0.5212 - val_accuracy: 0.9507\n",
      "Epoch 59/100\n",
      "750/750 [==============================] - 1s 2ms/step - loss: 0.0066 - accuracy: 0.9979 - val_loss: 0.5338 - val_accuracy: 0.9477\n",
      "Epoch 60/100\n",
      "750/750 [==============================] - 1s 2ms/step - loss: 0.0082 - accuracy: 0.9975 - val_loss: 0.5381 - val_accuracy: 0.9460\n",
      "Epoch 61/100\n",
      "750/750 [==============================] - 1s 2ms/step - loss: 0.0084 - accuracy: 0.9973 - val_loss: 0.5906 - val_accuracy: 0.9448\n",
      "Epoch 62/100\n",
      "750/750 [==============================] - 1s 2ms/step - loss: 0.0079 - accuracy: 0.9976 - val_loss: 0.5614 - val_accuracy: 0.9457\n",
      "Epoch 63/100\n",
      "750/750 [==============================] - 1s 2ms/step - loss: 0.0071 - accuracy: 0.9977 - val_loss: 0.5779 - val_accuracy: 0.9475\n",
      "Epoch 64/100\n",
      "750/750 [==============================] - 1s 2ms/step - loss: 0.0078 - accuracy: 0.9976 - val_loss: 0.6216 - val_accuracy: 0.9450\n",
      "Epoch 65/100\n",
      "750/750 [==============================] - 1s 2ms/step - loss: 0.0069 - accuracy: 0.9980 - val_loss: 0.5782 - val_accuracy: 0.9498\n",
      "Epoch 66/100\n",
      "750/750 [==============================] - 1s 2ms/step - loss: 0.0069 - accuracy: 0.9978 - val_loss: 0.5981 - val_accuracy: 0.9482\n",
      "Epoch 67/100\n",
      "750/750 [==============================] - 1s 2ms/step - loss: 0.0077 - accuracy: 0.9976 - val_loss: 0.5821 - val_accuracy: 0.9477\n",
      "Epoch 68/100\n",
      "750/750 [==============================] - 1s 2ms/step - loss: 0.0073 - accuracy: 0.9982 - val_loss: 0.5937 - val_accuracy: 0.9492\n",
      "Epoch 69/100\n",
      "750/750 [==============================] - 1s 2ms/step - loss: 0.0065 - accuracy: 0.9978 - val_loss: 0.5995 - val_accuracy: 0.9480\n",
      "Epoch 70/100\n",
      "750/750 [==============================] - 1s 2ms/step - loss: 0.0084 - accuracy: 0.9977 - val_loss: 0.6394 - val_accuracy: 0.9495\n",
      "Epoch 71/100\n",
      "750/750 [==============================] - 1s 2ms/step - loss: 0.0071 - accuracy: 0.9981 - val_loss: 0.6575 - val_accuracy: 0.9478\n",
      "Epoch 72/100\n",
      "750/750 [==============================] - 1s 2ms/step - loss: 0.0056 - accuracy: 0.9981 - val_loss: 0.6073 - val_accuracy: 0.9502\n",
      "Epoch 73/100\n",
      "750/750 [==============================] - 1s 2ms/step - loss: 0.0076 - accuracy: 0.9978 - val_loss: 0.6833 - val_accuracy: 0.9455\n",
      "Epoch 74/100\n",
      "750/750 [==============================] - 1s 2ms/step - loss: 0.0066 - accuracy: 0.9980 - val_loss: 0.7073 - val_accuracy: 0.9442\n",
      "Epoch 75/100\n",
      "750/750 [==============================] - 1s 2ms/step - loss: 0.0064 - accuracy: 0.9976 - val_loss: 0.6420 - val_accuracy: 0.9497\n",
      "Epoch 76/100\n",
      "750/750 [==============================] - 1s 2ms/step - loss: 0.0070 - accuracy: 0.9980 - val_loss: 0.6448 - val_accuracy: 0.9495\n",
      "Epoch 77/100\n",
      "750/750 [==============================] - 2s 2ms/step - loss: 0.0056 - accuracy: 0.9982 - val_loss: 0.6770 - val_accuracy: 0.9468\n",
      "Epoch 78/100\n",
      "750/750 [==============================] - 1s 2ms/step - loss: 0.0052 - accuracy: 0.9983 - val_loss: 0.6916 - val_accuracy: 0.9480\n",
      "Epoch 79/100\n",
      "750/750 [==============================] - 1s 2ms/step - loss: 0.0037 - accuracy: 0.9990 - val_loss: 0.6879 - val_accuracy: 0.9485\n",
      "Epoch 80/100\n",
      "750/750 [==============================] - 1s 2ms/step - loss: 0.0044 - accuracy: 0.9985 - val_loss: 0.7394 - val_accuracy: 0.9442\n",
      "Epoch 81/100\n",
      "750/750 [==============================] - 1s 2ms/step - loss: 0.0062 - accuracy: 0.9982 - val_loss: 0.7333 - val_accuracy: 0.9482\n",
      "Epoch 82/100\n",
      "750/750 [==============================] - 1s 2ms/step - loss: 0.0058 - accuracy: 0.9987 - val_loss: 0.6981 - val_accuracy: 0.9488\n",
      "Epoch 83/100\n",
      "750/750 [==============================] - 1s 2ms/step - loss: 0.0042 - accuracy: 0.9986 - val_loss: 0.7374 - val_accuracy: 0.9467\n",
      "Epoch 84/100\n",
      "750/750 [==============================] - 1s 2ms/step - loss: 0.0056 - accuracy: 0.9984 - val_loss: 0.7554 - val_accuracy: 0.9490\n",
      "Epoch 85/100\n",
      "750/750 [==============================] - 1s 2ms/step - loss: 0.0051 - accuracy: 0.9984 - val_loss: 0.7465 - val_accuracy: 0.9502\n",
      "Epoch 86/100\n",
      "750/750 [==============================] - 1s 2ms/step - loss: 0.0053 - accuracy: 0.9983 - val_loss: 0.8170 - val_accuracy: 0.9425\n",
      "Epoch 87/100\n",
      "750/750 [==============================] - 1s 2ms/step - loss: 0.0053 - accuracy: 0.9984 - val_loss: 0.8036 - val_accuracy: 0.9453\n",
      "Epoch 88/100\n",
      "750/750 [==============================] - 1s 2ms/step - loss: 0.0045 - accuracy: 0.9984 - val_loss: 0.7512 - val_accuracy: 0.9463\n",
      "Epoch 89/100\n",
      "750/750 [==============================] - 1s 2ms/step - loss: 0.0060 - accuracy: 0.9984 - val_loss: 0.7347 - val_accuracy: 0.9483\n",
      "Epoch 90/100\n",
      "750/750 [==============================] - 1s 2ms/step - loss: 0.0050 - accuracy: 0.9984 - val_loss: 0.7812 - val_accuracy: 0.9467\n",
      "Epoch 91/100\n",
      "750/750 [==============================] - 1s 2ms/step - loss: 0.0061 - accuracy: 0.9981 - val_loss: 0.8113 - val_accuracy: 0.9465\n",
      "Epoch 92/100\n",
      "750/750 [==============================] - 1s 2ms/step - loss: 0.0046 - accuracy: 0.9984 - val_loss: 0.7750 - val_accuracy: 0.9475\n",
      "Epoch 93/100\n",
      "750/750 [==============================] - 1s 2ms/step - loss: 0.0031 - accuracy: 0.9991 - val_loss: 0.7810 - val_accuracy: 0.9458\n",
      "Epoch 94/100\n",
      "750/750 [==============================] - 1s 2ms/step - loss: 0.0047 - accuracy: 0.9986 - val_loss: 0.7663 - val_accuracy: 0.9485\n",
      "Epoch 95/100\n",
      "750/750 [==============================] - 1s 2ms/step - loss: 0.0050 - accuracy: 0.9983 - val_loss: 0.8350 - val_accuracy: 0.9453\n",
      "Epoch 96/100\n",
      "750/750 [==============================] - 1s 2ms/step - loss: 0.0046 - accuracy: 0.9986 - val_loss: 0.7863 - val_accuracy: 0.9488\n",
      "Epoch 97/100\n",
      "750/750 [==============================] - 1s 2ms/step - loss: 0.0031 - accuracy: 0.9989 - val_loss: 0.8061 - val_accuracy: 0.9478\n",
      "Epoch 98/100\n",
      "750/750 [==============================] - 1s 2ms/step - loss: 0.0037 - accuracy: 0.9990 - val_loss: 0.7776 - val_accuracy: 0.9490\n",
      "Epoch 99/100\n",
      "750/750 [==============================] - 1s 2ms/step - loss: 0.0043 - accuracy: 0.9987 - val_loss: 0.7966 - val_accuracy: 0.9500\n",
      "Epoch 100/100\n",
      "750/750 [==============================] - 1s 2ms/step - loss: 0.0051 - accuracy: 0.9985 - val_loss: 0.8229 - val_accuracy: 0.9495\n"
     ]
    }
   ],
   "source": [
    "history_rede_simples = rede_simples.fit(X_train, y_train, epochs=100, batch_size=32, verbose=1, validation_data=(X_val, y_val))"
   ]
  },
  {
   "cell_type": "code",
   "execution_count": 44,
   "metadata": {},
   "outputs": [
    {
     "name": "stdout",
     "output_type": "stream",
     "text": [
      "750/750 [==============================] - 1s 1ms/step - loss: 0.0054 - accuracy: 0.9992\n",
      "Xtrain:  [0.005412205588072538, 0.9991666674613953]\n",
      "188/188 [==============================] - 0s 1ms/step - loss: 0.8229 - accuracy: 0.9495\n",
      "X_val:  [0.8228529691696167, 0.9495000243186951]\n",
      "157/157 [==============================] - 0s 1ms/step - loss: 1.0332 - accuracy: 0.9384\n",
      "X_test:  [1.0331882238388062, 0.9383999705314636]\n"
     ]
    }
   ],
   "source": [
    "print('Xtrain: ', rede_simples.evaluate(X_train, y_train))\n",
    "print('X_val: ', rede_simples.evaluate(X_val, y_val))\n",
    "print('X_test: ', rede_simples.evaluate(X_test, y_test))"
   ]
  },
  {
   "cell_type": "markdown",
   "metadata": {},
   "source": [
    "E, pronto! A rede neural está treinada!\n",
    "\n",
    "Como em todo problema de classificação, podemos utilizar o classification report para avaliar sua performance nos dados de teste:"
   ]
  },
  {
   "cell_type": "code",
   "execution_count": 45,
   "metadata": {},
   "outputs": [
    {
     "name": "stdout",
     "output_type": "stream",
     "text": [
      "157/157 [==============================] - 0s 1ms/step\n"
     ]
    },
    {
     "data": {
      "text/plain": [
       "array([7, 2, 1, 0, 4, 1, 4, 9, 5, 9], dtype=int64)"
      ]
     },
     "execution_count": 45,
     "metadata": {},
     "output_type": "execute_result"
    }
   ],
   "source": [
    "# fazendo as predições\n",
    "y_pred = rede_simples.predict(X_test)\n",
    "\n",
    "# Extrai classe com maior probabilidade\n",
    "y_pred = np.argmax(y_pred, axis=1)\n",
    "y_pred[0:10]"
   ]
  },
  {
   "cell_type": "code",
   "execution_count": 46,
   "metadata": {},
   "outputs": [
    {
     "data": {
      "text/plain": [
       "array([[0., 0., 0., ..., 1., 0., 0.],\n",
       "       [0., 0., 1., ..., 0., 0., 0.],\n",
       "       [0., 1., 0., ..., 0., 0., 0.],\n",
       "       ...,\n",
       "       [0., 0., 1., ..., 0., 0., 0.],\n",
       "       [0., 0., 0., ..., 0., 0., 0.],\n",
       "       [1., 0., 0., ..., 0., 0., 0.]], dtype=float32)"
      ]
     },
     "execution_count": 46,
     "metadata": {},
     "output_type": "execute_result"
    }
   ],
   "source": [
    "y_test"
   ]
  },
  {
   "cell_type": "code",
   "execution_count": 47,
   "metadata": {},
   "outputs": [
    {
     "name": "stdout",
     "output_type": "stream",
     "text": [
      "              precision    recall  f1-score   support\n",
      "\n",
      "           0       0.96      0.95      0.96       460\n",
      "           1       0.97      0.99      0.98       571\n",
      "           2       0.94      0.93      0.94       530\n",
      "           3       0.93      0.94      0.94       500\n",
      "           4       0.94      0.93      0.94       500\n",
      "           5       0.92      0.93      0.92       456\n",
      "           6       0.92      0.95      0.93       462\n",
      "           7       0.94      0.91      0.92       512\n",
      "           8       0.93      0.92      0.93       489\n",
      "           9       0.92      0.93      0.92       520\n",
      "\n",
      "    accuracy                           0.94      5000\n",
      "   macro avg       0.94      0.94      0.94      5000\n",
      "weighted avg       0.94      0.94      0.94      5000\n",
      "\n"
     ]
    }
   ],
   "source": [
    "# exibe o classification report\n",
    "from sklearn.metrics import classification_report\n",
    "\n",
    "y_test_labels = np.argmax(y_test, axis=1)\n",
    "print(classification_report(y_test_labels, y_pred))"
   ]
  },
  {
   "cell_type": "code",
   "execution_count": 48,
   "metadata": {},
   "outputs": [
    {
     "data": {
      "image/png": "[encoded data removed]",
      "text/plain": [
       "<Figure size 432x288 with 1 Axes>"
      ]
     },
     "metadata": {
      "needs_background": "light"
     },
     "output_type": "display_data"
    }
   ],
   "source": [
    "import matplotlib.pyplot as plt\n",
    "\n",
    "plt.title('Loss')\n",
    "plt.plot(history_rede_simples.history['loss'], label='train')\n",
    "plt.plot(history_rede_simples.history['val_loss'], label='val')\n",
    "plt.ylabel('Loss')\n",
    "plt.xlabel('Epochs')\n",
    "plt.legend()\n",
    "plt.show()"
   ]
  },
  {
   "cell_type": "code",
   "execution_count": 49,
   "metadata": {},
   "outputs": [
    {
     "data": {
      "image/png": "[encoded data removed]",
      "text/plain": [
       "<Figure size 432x288 with 1 Axes>"
      ]
     },
     "metadata": {
      "needs_background": "light"
     },
     "output_type": "display_data"
    }
   ],
   "source": [
    "import matplotlib.pyplot as plt\n",
    "\n",
    "plt.title('Accuracy')\n",
    "plt.plot(history_rede_simples.history['accuracy'], label='train')\n",
    "plt.plot(history_rede_simples.history['val_accuracy'], label='val')\n",
    "plt.ylabel('accuracy')\n",
    "plt.xlabel('Epochs')\n",
    "plt.legend()\n",
    "plt.show()"
   ]
  },
  {
   "cell_type": "markdown",
   "metadata": {},
   "source": [
    "Caso a performance não seja suficiente, entram os próximos passos, muito comuns em todo projeto de Deep Learning:\n",
    "\n",
    "- Tentar arquiteturas diferentes de Redes Neurais;\n",
    "- Tunar os hiperparâmetros;\n",
    "- Mudar o otimizador;\n",
    "- Investigar a ocorrência de overfitting, e usar técnicas de regularização;\n",
    "\n",
    "...entre outras!\n",
    "\n",
    "Lembre-se: a construção de um modelo de Deep Learning é um processo altamente **iterativo**, de tentativa e erro!"
   ]
  },
  {
   "cell_type": "markdown",
   "metadata": {},
   "source": [
    "_____\n",
    "_____\n",
    "\n"
   ]
  },
  {
   "cell_type": "markdown",
   "metadata": {},
   "source": [
    "Vemos que a performance de treino não mudou, mas pioramos nossa generalização no teste\n",
    "_____\n",
    "_____"
   ]
  },
  {
   "cell_type": "markdown",
   "metadata": {},
   "source": [
    "## **Referências**\n",
    "\n",
    "https://playground.tensorflow.org/\n",
    "\n",
    "https://www.deeplearningbook.com.br\n",
    "\n",
    "https://keras.io\n",
    "\n",
    "https://www.tensorflow.org/tutorials\n",
    "\n",
    "https://www.louisbouchard.ai/densenet-explained/\n",
    "\n",
    "https://www.kdnuggets.com/2020/12/optimization-algorithms-neural-networks.html\n",
    "\n",
    "https://valueml.com/multi-layer-perceptron-by-keras-with-example/\n",
    "\n",
    "https://ml4a.github.io/ml4a/how_neural_networks_are_trained/\n",
    "\n",
    "[Três formas de montar redes neurais com o Keras](https://developpaper.com/three-methods-of-constructing-neural-network-with-keras/)\n",
    "\n",
    "[Álgebra Linear](https://mlfromscratch.com/tag/linear-algebra/)\n",
    "\n",
    "[Comparação entre otimizadores](https://towardsdatascience.com/a-visual-explanation-of-gradient-descent-methods-momentum-adagrad-rmsprop-adam-f898b102325c)\n",
    "\n",
    "[Binary Cross Entropy](https://towardsdatascience.com/understanding-binary-cross-entropy-log-loss-a-visual-explanation-a3ac6025181a)\n",
    "\n",
    "[Derivada no backpropagation: exemplo demostrando Regra da Cadeia](https://www.jeremyjordan.me/neural-networks-training/)"
   ]
  },
  {
   "cell_type": "markdown",
   "metadata": {},
   "source": [
    "## **Exercício**\n",
    "\n",
    "Você trabalhará com o conjunto de dados da Reuters, um conjunto de notícias curtas e seus tópicos, publicados pela Reuters em 1986. É um conjunto de dados de teste simples e amplamente utilizado para classificação de texto. Nele encontramos 46 temas diferentes com alguns tópicos aparecendo mais do que outros, mas cada tópico tem pelo menos 10 exemplos no conjunto de treinamento.\n",
    "\n",
    "Esse dataset foi originalmente gerado pela análise e pré-processamento do conjunto de dados clássico Reuters-21578. Cada noticia é codificada como uma lista de índices de palavras (inteiros). Por conveniência, as palavras são indexadas pela frequência geral no conjunto de dados, de modo que, por exemplo, o inteiro \"3\" codifica a 3ª palavra mais frequente nos dados."
   ]
  },
  {
   "cell_type": "markdown",
   "metadata": {},
   "source": [
    "Importe os dados do `tensorflow.keras.datasets`"
   ]
  },
  {
   "cell_type": "code",
   "execution_count": 50,
   "metadata": {},
   "outputs": [],
   "source": [
    "import matplotlib.pyplot as plt\n",
    "import numpy as np\n",
    "\n",
    "from sklearn.model_selection import train_test_split\n",
    "from sklearn.preprocessing import StandardScaler\n",
    "from sklearn.metrics import accuracy_score\n",
    "\n",
    "from tensorflow.keras.models import Sequential\n",
    "from tensorflow.keras.layers import Dense, Input\n",
    "from tensorflow.keras.utils import plot_model\n",
    "from tensorflow.keras.utils import to_categorical\n",
    "\n",
    "import warnings\n",
    "warnings.filterwarnings('ignore')"
   ]
  },
  {
   "cell_type": "code",
   "execution_count": 51,
   "metadata": {},
   "outputs": [
    {
     "name": "stdout",
     "output_type": "stream",
     "text": [
      "Downloading data from https://storage.googleapis.com/tensorflow/tf-keras-datasets/reuters.npz\n",
      "2110848/2110848 [==============================] - 0s 0us/step\n"
     ]
    }
   ],
   "source": [
    "from tensorflow.keras.datasets import reuters\n",
    "\n",
    "(train_data, train_labels), (test_data, test_labels) = reuters.load_data(num_words=10000) # num_words=10000 restringe os dados as 10.000 palavras mais frequentes encontradas nos dados"
   ]
  },
  {
   "cell_type": "markdown",
   "metadata": {},
   "source": [
    "Qual o shape dos datasets?"
   ]
  },
  {
   "cell_type": "code",
   "execution_count": 52,
   "metadata": {},
   "outputs": [
    {
     "data": {
      "text/plain": [
       "(8982,)"
      ]
     },
     "execution_count": 52,
     "metadata": {},
     "output_type": "execute_result"
    }
   ],
   "source": [
    "train_data.shape"
   ]
  },
  {
   "cell_type": "markdown",
   "metadata": {},
   "source": [
    "Selecione o primeiro elemento de train_data e retorne seu tamanho"
   ]
  },
  {
   "cell_type": "code",
   "execution_count": 53,
   "metadata": {},
   "outputs": [
    {
     "data": {
      "text/plain": [
       "87"
      ]
     },
     "execution_count": 53,
     "metadata": {},
     "output_type": "execute_result"
    }
   ],
   "source": [
    "len(train_data[0])"
   ]
  },
  {
   "cell_type": "markdown",
   "metadata": {},
   "source": [
    "Selecione o terceiro elemento de train_data e retorne seu tamanho"
   ]
  },
  {
   "cell_type": "code",
   "execution_count": 54,
   "metadata": {},
   "outputs": [
    {
     "data": {
      "text/plain": [
       "224"
      ]
     },
     "execution_count": 54,
     "metadata": {},
     "output_type": "execute_result"
    }
   ],
   "source": [
    "len(train_data[3])"
   ]
  },
  {
   "cell_type": "markdown",
   "metadata": {},
   "source": [
    "Dado que cada linha do dataset de treino tem um tamanho diferente, que pré-processamento podemos fazer para deixar todas com o mesmo tamanho?"
   ]
  },
  {
   "cell_type": "markdown",
   "metadata": {},
   "source": [
    "Resposta: adicionar zeros até chegar em um valor de coluna limite, limitar a quantidade para a menor, ohe"
   ]
  },
  {
   "cell_type": "markdown",
   "metadata": {},
   "source": [
    "Sugestão de pré-processamento:"
   ]
  },
  {
   "cell_type": "code",
   "execution_count": 55,
   "metadata": {},
   "outputs": [],
   "source": [
    "# prepare data\n",
    "import numpy as np\n",
    "def vectorize_sequences(sequences, dimension=10000):\n",
    "    \"\"\"Multi-hot encode your lists to turn them into vectors of 0s and 1s. This would\n",
    "    mean, for instance, turning the sequence [8, 5] into a 10,000-dimensional vec-\n",
    "    tor that would be all 0s except for indices 8 and 5, which would be 1s. Then you\n",
    "    could use a Dense layer, capable of handling floating-point vector data, as the\n",
    "    first layer in your model\"\"\"\n",
    "    results = np.zeros((len(sequences), dimension))\n",
    "    for i, sequence in enumerate(sequences):\n",
    "        for j in sequence:\n",
    "            results[i, j] = 1.\n",
    "    return results\n",
    "x_train = vectorize_sequences(train_data)\n",
    "x_test = vectorize_sequences(test_data)"
   ]
  },
  {
   "cell_type": "markdown",
   "metadata": {},
   "source": [
    "Utilize o método `to_categorical` do `tensorflow.keras.utils` ou o `LabelBinarizer` do `sklearn.preprocessing` para converter os labels de uma coluna para n colunas."
   ]
  },
  {
   "cell_type": "code",
   "execution_count": 56,
   "metadata": {},
   "outputs": [],
   "source": [
    "# encode labels\n",
    "from tensorflow.keras.utils import to_categorical\n",
    "y_train = to_categorical(train_labels)\n",
    "y_test = to_categorical(test_labels)"
   ]
  },
  {
   "cell_type": "markdown",
   "metadata": {},
   "source": [
    "Vamos começar a montar nossa rede neural!\n",
    "\n",
    "- Quantas camadas ocultas colocar?\n",
    "- Quantos neurônios em cada camada oculta?\n",
    "- Qual será a função de cada camada oculta?\n",
    "- Quantos neurônios na camada de saída?\n",
    "- Qual a função na cada camada de saída?\n",
    "- Meu problema é de classificação ou regressão? Se for de classificação, é binário ou multi-classe?\n",
    "- Qual função custo utilizar?\n",
    "- Qual métrica para avaliar meu modelo?\n",
    "- Qual otimizador usar?"
   ]
  },
  {
   "cell_type": "code",
   "execution_count": 57,
   "metadata": {},
   "outputs": [],
   "source": [
    "model = Sequential([\n",
    "    Dense(64, activation=\"relu\"),\n",
    "    Dense(64, activation=\"relu\"),\n",
    "    Dense(46, activation=\"softmax\")\n",
    "])\n",
    "\n",
    "model.compile(optimizer=\"rmsprop\",\n",
    "    loss=\"categorical_crossentropy\",\n",
    "    metrics=[\"accuracy\"])\n",
    "\n",
    "history = model.fit(\n",
    "    x_train,\n",
    "    y_train,\n",
    "    epochs=100,\n",
    "    batch_size=512,\n",
    "    validation_split=0.2,\n",
    "    verbose=0\n",
    "    )"
   ]
  },
  {
   "cell_type": "markdown",
   "metadata": {},
   "source": [
    "Plote as curvas da função custo e sua métrica por epoch."
   ]
  },
  {
   "cell_type": "code",
   "execution_count": 58,
   "metadata": {},
   "outputs": [
    {
     "data": {
      "image/png": "[encoded data removed]",
      "text/plain": [
       "<Figure size 432x288 with 1 Axes>"
      ]
     },
     "metadata": {
      "needs_background": "light"
     },
     "output_type": "display_data"
    }
   ],
   "source": [
    "import matplotlib.pyplot as plt\n",
    "\n",
    "loss = history.history[\"loss\"]\n",
    "val_loss = history.history[\"val_loss\"]\n",
    "epochs = range(1, len(loss) + 1)\n",
    "plt.plot(epochs, loss, \"bo\", label=\"Training loss\")\n",
    "plt.plot(epochs, val_loss, \"b\", label=\"Validation loss\")\n",
    "plt.title(\"Training and validation loss\")\n",
    "plt.xlabel(\"Epochs\")\n",
    "plt.ylabel(\"Loss\")\n",
    "plt.legend()\n",
    "plt.show()"
   ]
  },
  {
   "cell_type": "code",
   "execution_count": 59,
   "metadata": {},
   "outputs": [
    {
     "data": {
      "image/png": "[encoded data removed]",
      "text/plain": [
       "<Figure size 432x288 with 1 Axes>"
      ]
     },
     "metadata": {
      "needs_background": "light"
     },
     "output_type": "display_data"
    }
   ],
   "source": [
    "plt.clf()\n",
    "acc = history.history[\"accuracy\"]\n",
    "val_acc = history.history[\"val_accuracy\"]\n",
    "plt.plot(epochs, acc, \"bo\", label=\"Training accuracy\")\n",
    "plt.plot(epochs, val_acc, \"b\", label=\"Validation accuracy\")\n",
    "plt.title(\"Training and validation accuracy\")\n",
    "plt.xlabel(\"Epochs\")\n",
    "plt.ylabel(\"Accuracy\")\n",
    "plt.legend()\n",
    "plt.show()"
   ]
  },
  {
   "cell_type": "markdown",
   "metadata": {},
   "source": [
    "Seu modelo está overfitando, underfitando ou está bom? Porquê?"
   ]
  },
  {
   "cell_type": "markdown",
   "metadata": {},
   "source": []
  },
  {
   "cell_type": "markdown",
   "metadata": {},
   "source": [
    "Se seu modelo não ficou bom, o que você pode fazer para melhorá-lo?"
   ]
  },
  {
   "cell_type": "markdown",
   "metadata": {},
   "source": []
  },
  {
   "cell_type": "markdown",
   "metadata": {},
   "source": [
    "Compare a acurácia entre as seguintes redes neurais:\n",
    "\n",
    "1. Uma camada densa com 64 neurônios > uma camada densa com 64 neurônios > uma camada densa com 46 neurônios\n",
    "2. Uma camada densa com 64 neurônios > uma camada densa com 4 neurônios > uma camada densa com 46 neurônios\n"
   ]
  },
  {
   "cell_type": "code",
   "execution_count": 60,
   "metadata": {},
   "outputs": [],
   "source": [
    "model_smaller = Sequential([\n",
    "    Dense(64, activation=\"relu\"),\n",
    "    Dense(4, activation=\"relu\"),\n",
    "    Dense(46, activation=\"softmax\")\n",
    "])\n",
    "\n",
    "model_smaller.compile(optimizer=\"rmsprop\",\n",
    "    loss=\"categorical_crossentropy\",\n",
    "    metrics=[\"accuracy\"])\n",
    "\n",
    "history_smaller = model_smaller.fit(\n",
    "    x_train,\n",
    "    y_train,\n",
    "    epochs=100,\n",
    "    batch_size=512,\n",
    "    validation_split=0.2,\n",
    "    verbose=0\n",
    "    )"
   ]
  },
  {
   "cell_type": "code",
   "execution_count": 61,
   "metadata": {},
   "outputs": [
    {
     "data": {
      "image/png": "[encoded data removed]",
      "text/plain": [
       "<Figure size 432x288 with 1 Axes>"
      ]
     },
     "metadata": {
      "needs_background": "light"
     },
     "output_type": "display_data"
    }
   ],
   "source": [
    "import matplotlib.pyplot as plt\n",
    "\n",
    "loss = history.history[\"loss\"]\n",
    "val_loss = history.history[\"val_loss\"]\n",
    "epochs = range(1, len(loss) + 1)\n",
    "plt.plot(epochs, history_smaller.history[\"loss\"], \"go\", label=\"Training loss smaller\")\n",
    "plt.plot(epochs, history_smaller.history[\"val_loss\"], \"g\", label=\"Validation loss smaller\")\n",
    "plt.plot(epochs, loss, \"bo\", label=\"Training loss\")\n",
    "plt.plot(epochs, val_loss, \"b\", label=\"Validation loss\")\n",
    "plt.title(\"Training and validation loss\")\n",
    "plt.xlabel(\"Epochs\")\n",
    "plt.ylabel(\"Loss\")\n",
    "plt.legend()\n",
    "plt.show()"
   ]
  },
  {
   "cell_type": "code",
   "execution_count": 62,
   "metadata": {},
   "outputs": [
    {
     "data": {
      "image/png": "[encoded data removed]",
      "text/plain": [
       "<Figure size 432x288 with 1 Axes>"
      ]
     },
     "metadata": {
      "needs_background": "light"
     },
     "output_type": "display_data"
    }
   ],
   "source": [
    "import matplotlib.pyplot as plt\n",
    "\n",
    "accuracy = history.history[\"accuracy\"]\n",
    "val_accuracy = history.history[\"val_accuracy\"]\n",
    "epochs = range(1, len(accuracy) + 1)\n",
    "plt.plot(epochs, history_smaller.history[\"accuracy\"], \"go\", label=\"Training accuracy smaller\")\n",
    "plt.plot(epochs, history_smaller.history[\"val_accuracy\"], \"g\", label=\"Validation accuracy smaller\")\n",
    "plt.plot(epochs, accuracy, \"bo\", label=\"Training accuracy\")\n",
    "plt.plot(epochs, val_accuracy, \"b\", label=\"Validation accuracy\")\n",
    "plt.title(\"Training and validation accuracy\")\n",
    "plt.xlabel(\"Epochs\")\n",
    "plt.ylabel(\"accuracy\")\n",
    "plt.legend()\n",
    "plt.show()"
   ]
  },
  {
   "cell_type": "markdown",
   "metadata": {},
   "source": [
    "Faça outros testes diminuindo e aumentando tanto a quantidade de neurônios quanto a de camadas ocultas.\n",
    "\n",
    "### Fim!"
   ]
  },
  {
   "cell_type": "markdown",
   "metadata": {},
   "source": [
    "_____\n",
    "_____\n",
    "_____"
   ]
  },
  {
   "cell_type": "markdown",
   "metadata": {},
   "source": [
    "## Aprofundamento"
   ]
  },
  {
   "cell_type": "markdown",
   "metadata": {},
   "source": [
    "### Loss function: Binary Cross-Entropy Loss / Log Loss\n",
    "\n",
    "This is the most common loss function used in classification problems. The cross-entropy loss decreases as the predicted probability converges to the actual label. It measures the performance of a classification model whose predicted output is a probability value between 0 and 1.\n",
    "\n",
    "<img src=https://builtin.com/sites/www.builtin.com/files/styles/ckeditor_optimize/public/inline-images/1_common-loss-functions_1.png width=400 text=\"https://builtin.com/machine-learning/common-loss-functions\">\n",
    "\n",
    "When the number of classes is 2, it’s binary classification.\n",
    "common-loss-functions\n",
    "\n",
    "<img src=https://builtin.com/sites/www.builtin.com/files/styles/ckeditor_optimize/public/inline-images/2_common-loss-functions.png width=200 text=\"https://builtin.com/machine-learning/common-loss-functions\" >\n",
    "\n",
    "When the number of classes is more than 2, it’s multi-class classification.\n",
    "common-loss-functions\n",
    "\n",
    "<img src=https://builtin.com/sites/www.builtin.com/files/styles/ckeditor_optimize/public/inline-images/3_common-loss-functions.png width=500 text=\"https://builtin.com/machine-learning/common-loss-functions\">\n",
    "\n",
    "We derive the cross-entropy loss formula from the regular likelihood function, but with logarithms added in.\n",
    "\n",
    "Extraído de https://builtin.com/machine-learning/common-loss-functions"
   ]
  },
  {
   "cell_type": "markdown",
   "metadata": {},
   "source": [
    "### Notação matricial das equações\n",
    "\n",
    "Denotamos cada ativação por $a_{neuron}^{(layer)}$, por exemplo $a^{(1)}_2$ corresponderia ao neurônio número três na segunda camada (contamos a partir de 0). Assim, o número abaixo (subscrito) corresponde a qual neurônio estamos falando, e o número acima (sobrescrito) corresponde a qual camada estamos olhando, ambos contando a partir de zero.\n",
    "\n",
    "Denotamos cada peso por $w_{to, from}^{(layer)}$, onde $to$ é denotado como $j$ e $from$ denotado como $k$, assim,  $w^2_{2,3}$ significa indo para o terceiro neurônio na terceira camada, a partir do neurônio quatro na camada anterior (segunda camada), pois contamos a partir do zero.\n",
    "\n",
    "Exemplo de vetor de ativação para a camada zero:\n",
    "\n",
    "$$\\begin{bmatrix}\n",
    "    a_0^{0}\\\\\n",
    "    a_1^{0}\\\\\n",
    "    \\vdots \\\\\n",
    "    a_n^{0}\\\\\n",
    "    \\end{bmatrix}\n",
    "    $$\n",
    "\n",
    "Exemplo de matriz de pesos que conectam cada neuron a próxima camada:\n",
    "$$\n",
    "\\begin{bmatrix}\n",
    "    w_{0,0} & w_{0,1} & \\cdots & w_{0,k}\\\\\n",
    "    w_{1,0} & w_{1,1} & \\cdots & w_{1,k}\\\\\n",
    "    \\vdots & \\vdots & \\ddots & \\vdots \\\\\n",
    "    w_{j,0} & w_{j,1} & \\cdots & w_{j,k}\\\\\n",
    "    \\end{bmatrix}\n",
    "$$\n",
    "\n",
    "Combinando esses dois com a matriz de bias e encapsulando na função sigmóide:\n",
    "\n",
    "$$\n",
    "\\sigma \\left(\n",
    "    \\begin{bmatrix}\n",
    "    w_{0,0} & w_{0,1} & \\cdots & w_{0,k}\\\\\n",
    "    w_{1,0} & w_{1,1} & \\cdots & w_{1,k}\\\\\n",
    "    \\vdots & \\vdots & \\ddots & \\vdots \\\\\n",
    "    w_{j,0} & w_{j,1} & \\cdots & w_{j,k}\\\\\n",
    "    \\end{bmatrix}\n",
    "    \\, \n",
    "    \\begin{bmatrix}\n",
    "    a_0^{0}\\\\\n",
    "    a_1^{0}\\\\\n",
    "    \\vdots \\\\\n",
    "    a_n^{0}\\\\\n",
    "    \\end{bmatrix}\n",
    "    +\n",
    "    \\begin{bmatrix}\n",
    "    b_0\\\\\n",
    "    b_1\\\\\n",
    "    \\vdots \\\\\n",
    "    b_n\\\\\n",
    "    \\end{bmatrix}\n",
    "    \\right)\n",
    "    $$\n",
    "\n",
    "Podemos escrever de outra forma:\n",
    "\n",
    "$$ a^{(1)}=\n",
    "\\sigma\\left(\n",
    "\\boldsymbol{W}\\boldsymbol{a}^{0}+\\boldsymbol{b}\n",
    "\\right) $$\n",
    "\n",
    "Ou reduzir a notação ainda mais e escrever:\n",
    "\n",
    "$$ a^{(1)}=\n",
    "\\sigma\\left(\n",
    "\\boldsymbol{z}\n",
    "\\right)$$\n",
    "\n",
    "Com isso conseguimos a matriz de todas as ativações da segunda camada.\n"
   ]
  },
  {
   "cell_type": "markdown",
   "metadata": {},
   "source": [
    "____\n",
    "____\n",
    "____"
   ]
  },
  {
   "cell_type": "markdown",
   "metadata": {},
   "source": []
  }
 ],
 "metadata": {
  "kernelspec": {
   "display_name": "Python 3",
   "language": "python",
   "name": "python3"
  },
  "language_info": {
   "codemirror_mode": {
    "name": "ipython",
    "version": 3
   },
   "file_extension": ".py",
   "mimetype": "text/x-python",
   "name": "python",
   "nbconvert_exporter": "python",
   "pygments_lexer": "ipython3",
   "version": "3.8.8"
  },
  "vscode": {
   "interpreter": {
    "hash": "cb5f626699f206ef97176a4f092b8d9f6e52ae1f84b4bb3163daf9eb25ca3519"
   }
  }
 },
 "nbformat": 4,
 "nbformat_minor": 2
}
