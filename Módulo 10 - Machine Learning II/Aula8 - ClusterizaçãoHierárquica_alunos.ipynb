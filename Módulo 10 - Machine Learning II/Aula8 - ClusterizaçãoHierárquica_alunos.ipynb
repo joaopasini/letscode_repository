{
 "cells": [
  {
   "cell_type": "markdown",
   "metadata": {},
   "source": [
    "# Aula 8. Métodos de Clusterização Hierárquica\n",
    "\n",
    "Na aula de hoje, vamos conversar sobre o terceiro método de clusterização, conhecida como clusterização hierárquica. Dentre os tópicos, falaremos sobre:\n",
    "\n",
    "- Clusterização Hierárquica\n",
    "- Tipos de hierarquia\n",
    "- Dendogramas\n",
    "- Exemplos de aplicação"
   ]
  },
  {
   "cell_type": "markdown",
   "metadata": {},
   "source": [
    "## 1. Clusterização Hierárquica\n",
    "\n",
    "O método de clusterização hierárquica realiza a identificação dos agrupamentos nos dados de forma hierárquica, encontrando grupos dentro de grupos de uma forma hierarquizada. Esse tipo de técnica de agrupamento é muito utilizada e parecida com classificações taxonômicas de espécies animais ou vegetais. O agrupamento, portanto, é feito de uma forma que parece uma árvore de decisão, onde o nó raiz corresponde a todos os dados (agrupamento total) e cada divisão vai gerando os clusters.\n",
    "\n",
    "<img src=\"https://th.bing.com/th/id/R.df228cb781b9fc1f7bb98596396122be?rik=C2mrkHa9pmyM9A&riu=http%3a%2f%2fwww.statisticshowto.com%2fwp-content%2fuploads%2f2016%2f11%2fclustergram.png&ehk=b6Khl19cSqpqMrZKlr3zpc5KM8XsyCgUrnGJ40NNRLY%3d&risl=&pid=ImgRaw&r=0&sres=1&sresct=1\" width=\"700px\">"
   ]
  },
  {
   "cell_type": "markdown",
   "metadata": {},
   "source": [
    "A divisão dos agrupamentos pode ser realizada, essencialmente de duas formas:\n",
    "\n",
    "- **Agrupamento Divisivo** ou *Top-Down*: inicialmente os dados são atribuídos a um único cluster, e depois, vão sendo sequencialmente divididos até que cada observação seja um cluster\n",
    "- **Agrupamento Aglomerativo** ou *Bottom-Up*: inicialmente, cada dado é considerado um cluster. Sequencialmente, os clusters vão sendo agrupados até que todos os dados estejam agrupados num único cluster.\n",
    "\n",
    "Ou seja, os algoritmos são exatamente o oposto um do outro, de forma que vamos entender o algoritmo de Clusterização Aglomerativa.\n",
    "\n",
    "### Como a Clusterização Aglomerativa funciona?\n",
    "\n",
    "- 1. Inicia-se assinalando cada observação como um *cluster de único ponto*. (N clusters)\n",
    "- 2. Encontrar o par de cluster (pontos) mais próximo (maior similaridade) e colocá-los num único cluster (N-1 clusters)\n",
    "- 3. Encontrar o par de clusters (grupos de pontos) mais próximo e colocá-los num único cluster (N-2 clusters)\n",
    "- 4. Repetir 2 e 3 até que todos os pontos do dataset estejam agrupados.\n",
    "\n",
    "<img src=\"https://lh3.googleusercontent.com/ZCPIPpa0E--HG8OcVM8yfWD5_Iik8Y172gswBY_5tM5fLcvBU_NjOQDuweH2dGNE9OiuwqFR36XleJs4N4AZ_rGkTjMDy2U2wr_Z2otGBqlMjHr9Oth1fMhVgmqdEfyKz76bc7KH8fP-hNaGfA\">\n",
    "\n",
    "No `scikit-learn`, a classe usada é o `AgglomerativeClustering`, cuja documentação pode ser encontrada [aqui](https://scikit-learn.org/stable/modules/generated/sklearn.cluster.AgglomerativeClustering.html) e [aqui](https://scikit-learn.org/stable/modules/clustering.html#hierarchical-clustering).\n"
   ]
  },
  {
   "cell_type": "markdown",
   "metadata": {},
   "source": [
    "### Beleza, mas como posso comparar clusters quanto à sua similaridade?\n",
    "\n",
    "Bom, essa pergunta é fácil. Existem diversas formas de se calcular a similaridade de dois objetos multidimensionais. As principais e mais conhecidas:\n",
    "\n",
    "- distância Euclidiana\n",
    "\n",
    "$$d_E = \\sqrt{\\sum_{i=1}^N (x_{1,i} - x_{2,i})^2}$$\n",
    "\n",
    "- distância Manhattan\n",
    "\n",
    "$$d_M = \\sum_{i=1}^N |x_{1,i} - x_{2,i}|$$\n",
    "\n",
    "- distância de Minkowski\n",
    "\n",
    "$$d_{Mp} = \\Bigg(\\sum_{i=1}^n |x_{1,i} - x_{2,i}|^p\\Bigg)^{1/p}$$\n",
    "\n",
    "### Mas e para determinar quais são os clusters que devem ser unidos ou não?\n",
    "\n",
    "Nesse caso, devemos usar técnicas de ligação de clusters - *Linkage Algorithms*. A escolha do algoritmo de ligação de clusters é muito importante e pode determinar significativamente a qualidade da clusterização.\n",
    "Vamos ver alguns tipos de ligação.\n",
    "\n",
    "- **Ligação Simples** ou *Simple Linkage* - a distância entre os clusters é o mínimo das distâncias ou a distância entre os pontos mais próximos de cada cluster\n",
    "- **Ligação Completa** ou *Complete Linkage* - é a máxima distância entre os elementos do cluster\n",
    "- **Ligação Média** ou *Average Linkage* - É a distância média entre todos os pares de pontos de cada cluster\n",
    "- **Método do Centróide** - Mínima distância entre os centroides de cada cluster\n",
    "- **Método de Ward** - Combinação dos clusters de modo que o aumento de variância seja o menor possível, com o objetivo de minimizar o WCSS\n",
    "\n",
    "<img src=\"https://d1m75rqqgidzqn.cloudfront.net/wp-data/2020/07/01130934/june-30-hierarchical-clustering-infograph-for-blog-8.png\">"
   ]
  },
  {
   "cell_type": "markdown",
   "metadata": {},
   "source": [
    "_____\n",
    "\n",
    "## 2. Dendogramas\n",
    "\n",
    "Os dendogramas são diagramas aplicados para representar a relação hierárquica entre objetos. Muito utilizado para representar os diferentes agrupamentos numa técnica de clusterização hierárquica.\n",
    "\n",
    "Essencialmente, um \"nível\" da árvore do dendograma representa objetos que possuem similaridade entre si. Ao se fazer um \"corte\" na árvore, então estamos assumindo que desejamos analisar apenas determinado número de clusters. Por isso, o dendograma não nos aponta qual faz mais sentido, apenas quais as possibilidades de agrupamentos que existem nos dados.\n",
    "\n",
    "<img src=\"https://46gyn61z4i0t1u1pnq2bbk2e-wpengine.netdna-ssl.com/wp-content/uploads/2018/03/Screen-Shot-2018-03-21-at-4.45.46-pm.png\">\n",
    "\n",
    "**Exemplo**: No caso de uma classificação de espécies de flores, podemos agrupá-las em diversos níveis de hierarquia, de acordo com os objetivos do negócio.\n",
    "\n",
    "<img src=\"https://www.biorxiv.org/content/biorxiv/early/2019/10/25/817221/F1.large.jpg?width=800&height=600&carousel=1\" width=900px>"
   ]
  },
  {
   "cell_type": "markdown",
   "metadata": {},
   "source": [
    "______\n",
    "\n",
    "## 3. Vantagens e Desvantagens\n",
    "\n",
    "### **Vantanges**\n",
    "\n",
    "- não existem hipóteses sobre o formato dos clusters (KMeans, por exemplo, traça um \"círculo\" ao redor do centroide do cluster)\n",
    "\n",
    "<img src=\"https://miro.medium.com/max/1400/1*DVcjzP5yfsLRkuRGCZwmqQ.png\">\n",
    "\n",
    "- pode-se clusterizar o dataset em diferentes níveis de granularidade com uma única execução (KMeans, GMM e DBSCAN tem parâmetros tunáveis)\n",
    "- no caso da utilização de distâncias conhecidas, o resultado torna-se mais fácil de interpretar\n",
    "\n",
    "### **Desvantagens**\n",
    "\n",
    "- muitas vezes a tomada de decisçai é baseada em heurística, o que torna o algoritmo muito dependende da aplicação especialista de conhecimento de negócio\n",
    "- é matematicamente custoso devido aos repetidos cálculos de distâncias entre os pontos\n",
    "- dendogramas funcionam apenas com poucas quantidades de amostras. Em casos mais reais, os dendogramas tornam-se muito difíceis de ler e interpretar\n",
    "\n",
    "<img src=\"https://th.bing.com/th/id/OIP.GtLjRzpWBLNaIYZfCOKL-QHaHL?pid=ImgDet&rs=1\">"
   ]
  },
  {
   "cell_type": "markdown",
   "metadata": {},
   "source": [
    "______________\n",
    "\n",
    "**Exercício 1**. Vamos aplicar a clusterização hierárquica no dataset `german_credit_data` para identificar subgrupos de clientes\n",
    "\n",
    "- carregue os dados\n",
    "- crie um pipeline de processamento - utilize apenas as variáveis numéricas\n",
    "- escolha o número de clusters usando método da silhueta\n",
    "- para o escalonamento utilize o RobustScaler\n",
    "\n",
    "____\n",
    "\n",
    "**Exercício 2**. Vamos aplicar a clusterização hierárquica no dataset `german_credit_data` para identificar subgrupos de clientes\n",
    "\n",
    "- carregue os dados\n",
    "- crie um pipeline de processamento - utilize variáveis numéricas e categóricas\n",
    "- escolha o número de clusters usando método da silhueta\n",
    "- para o escalonamento utilize o RobustScaler\n",
    "\n",
    "___\n",
    "\n",
    "**Exercício 3 (DESAFIO)**. Utilizando o dataset do `Steel_Industry_data`, utilize clusterização hierárquica para tentar determinar os fatores que esteja mais correlacionados com o consumo (trata-se de uma abordagem semi-supervisionada)\n",
    "\n",
    "- carregue os dados\n",
    "- verifique os problemas de qualidade de dados\n",
    "- crie um pipeline de processamento - utilize variáveis numéricas e categóricas\n",
    "- escolha o número de clusters usando o método da silhueta\n",
    "- defina qualquer algoritmo de escalonamento desejado (Robust, Standard ou MinMax)\n",
    "- a partir da identificação da estrutura de grupos, verifique se existem fatores ou condições que corroboram o aumento do consumo energético\n",
    "- produza recomendações, se possível, para reduzir o consumo."
   ]
  },
  {
   "cell_type": "markdown",
   "metadata": {},
   "source": []
  }
 ],
 "metadata": {
  "kernelspec": {
   "display_name": "Python 3",
   "language": "python",
   "name": "python3"
  },
  "language_info": {
   "codemirror_mode": {
    "name": "ipython",
    "version": 3
   },
   "file_extension": ".py",
   "mimetype": "text/x-python",
   "name": "python",
   "nbconvert_exporter": "python",
   "pygments_lexer": "ipython3",
   "version": "3.8.8"
  }
 },
 "nbformat": 4,
 "nbformat_minor": 2
}
