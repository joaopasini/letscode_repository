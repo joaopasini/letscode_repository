{
 "cells": [
  {
   "cell_type": "markdown",
   "metadata": {},
   "source": [
    "# Aula 4 - Métodos Ensemble - Boosting\n",
    "\n",
    "Nesta aula, vamos conversar sobre os seguintes tópicos:\n",
    "\n",
    "- 1. Revisão de métodos ensemble - Boosting\n",
    "- 2. AdaBoost\n",
    "- 3. Gradient Boosting\n",
    "- 4. EXtreme Gradient Boosting - XGBoost"
   ]
  },
  {
   "cell_type": "markdown",
   "metadata": {},
   "source": [
    "## 1. Revisão de Métodos Ensemble"
   ]
  },
  {
   "cell_type": "markdown",
   "metadata": {},
   "source": [
    "Os métodos **Ensemble** (do inglês, *ensemble* = conjunto) pertencem a uma classe de modelos de Machine Learning que consiste em *combinar diversos estimadores mais simples* para gerar uma estimativa final mais robusta.\n",
    "\n",
    "Existem essencialmente três classes de ensemble:\n",
    "\n",
    "- **Métodos de Agregação:** também conhecidos como *aggregation methods*, têm como procedimento geral construir diversos estimadores independentes e usar a combinação desses estimadores para produzir a predição final. No caso de problemas de regressão, essa combinação pode ser a média aritmética ou ponderada das predições individuais, enquanto que no caso de problemas de classificação, a decisão pode ser tomada por meio da votação majoritária (*hard voting*) ou então pela média arimtética ou ponderada das probabilidades de pertencimento de cada classe  (*soft voting*) O principal objetivo do método é de **reduzir variância**, de modo que o modelo final seja melhor que todos os modelos individuais. Bons exemplos desses modelos são o **Random Forest** e o **Extra Trees**.\n",
    "- **Métodos de Boosting:** controem modelos robustos por meio da combinação sequencial, de modeo que os estimadores posteriores tentam reduzir o **viés** do estimador conjunto, levando em consideração os erros cometidos pelos estimadores anteriores. Exemplos incluem o **Gradient Boosting** e o **AdaBoost**.\n",
    "- **Métodos de Stacking:** consistem em \"modelos empilhados\" de forma hierárquica. Ou seja, o modelo \"filho\" utiliza como entrada as saídas dos modelos \"pais\".[Este link](https://machinelearningmastery.com/stacking-ensemble-machine-learning-with-python/) tem mais detalhes sobre a aplicação do método de *stacking ensemble*\n",
    "\n",
    "No contexto do módulo `scikit-learn`, o [seguinte link](https://scikit-learn.org/stable/modules/ensemble.html) tem a documentação com os modelos ensemble implementados."
   ]
  },
  {
   "cell_type": "markdown",
   "metadata": {},
   "source": [
    "## 2. *AdaBoosting*"
   ]
  },
  {
   "cell_type": "markdown",
   "metadata": {},
   "source": [
    "O *AdaBoost* significa **Adaptative Boosting**, e tem como procedimento geral a criação sucessiva dos chamados *weak learners*,ou modelos de aprendizagem fraca. Um exemplo de modelo de aprendizagem fraca no caso de modelos em árvores de um único nó (**stumps**).\n",
    "\n",
    "<img src=\"https://miro.medium.com/max/1744/1*nJ5VrsiS1yaOR77d4h8gyw.png\" width=300>"
   ]
  },
  {
   "cell_type": "markdown",
   "metadata": {},
   "source": [
    "O AdaBoost utiliza os erros da árvore anterior para **melhorar a próxima árvore**. As predições finais são feitas com base **nos pesos de cada stump**, cuja determinação faz parte do algoritmo.\n",
    "\n",
    "<img src=\"https://static.packt-cdn.com/products/9781788295758/graphics/image_04_046-1.png\" width=700>\n",
    "\n",
    "Aqui, o bootstrapping não é utilizado: o método começa treinando um classificador fraco **no dataset original**, e depois treina diversas cópias adicionais do classificador **no mesmo dataset**, mas dando **um peso maior às observações que foram classificadas erroneamente** (ou, no caso de regressões, a observações **com o maior erro**).\n",
    "\n",
    "Assim, após diversas iterações, classificadores/regressores vão sequencialmente \"focando nos casos mais difíceis\", e construindo um classificador encadeado que seja forte, apesar de utilizar diversos classificadores fracos em como elementos fundamentais.\n",
    "\n",
    "<img src=\"https://www.researchgate.net/profile/Zhuo_Wang8/publication/288699540/figure/fig9/AS:668373486686246@1536364065786/Illustration-of-AdaBoost-algorithm-for-creating-a-strong-classifier-based-on-multiple.png\" width=500>"
   ]
  },
  {
   "cell_type": "markdown",
   "metadata": {},
   "source": [
    "De forma resumida, as principais ideias por trás deste algoritmo são:\n",
    "\n",
    "- os algoritmos cria e combina um conjunto de **modelos fracos** (em geral, *stumps*).\n",
    "- cada stumps é criado **levando em consideração os erros do stump anterior**\n",
    "- alguns dos stumps têm **maior peso de decisão** do que outros na predição do que outros na predição final\n",
    "\n",
    "As classes no sklearn são:\n",
    "\n",
    "- [AdaBoostClassifier](https://scikit-learn.org/stable/modules/generated/sklearn.ensemble.AdaBoostClassifier.html)\n",
    "\n",
    "- [AdaBoostRegressor](https://scikit-learn.org/stable/modules/generated/sklearn.ensemble.AdaBoostRegressor.html#sklearn.ensemble.AdaBoostRegressor)\n",
    "\n",
    "Note que não há muitos hiperparâmetros. O mais importante, que deve ser tunado com o grid/random search, é:\n",
    "\n",
    "- `n_estimators` : o número de weak learners encadeados;\n",
    "\n",
    "Além disso, pode também ser interessante tunar os hiperparâmetros dos weak learners."
   ]
  },
  {
   "cell_type": "code",
   "execution_count": 8,
   "metadata": {},
   "outputs": [],
   "source": [
    "import warnings\n",
    "import pandas as pd\n",
    "import numpy as np\n",
    "import matplotlib.pyplot as plt\n",
    "import seaborn as sns\n",
    "from sklearn.model_selection import train_test_split, StratifiedKFold, \\\n",
    "    RandomizedSearchCV\n",
    "from sklearn.preprocessing import StandardScaler, OneHotEncoder\n",
    "from sklearn.compose import ColumnTransformer\n",
    "from sklearn.impute import SimpleImputer\n",
    "from sklearn.ensemble import AdaBoostClassifier\n",
    "from sklearn.linear_model import LogisticRegression\n",
    "from sklearn.pipeline import Pipeline\n",
    "from sklearn.metrics import confusion_matrix, make_scorer, classification_report\n",
    "\n",
    "# ignorando warnings\n",
    "warnings.filterwarnings('ignore')\n",
    "\n",
    "# defino constantes\n",
    "RANDOM_SEED = 12"
   ]
  },
  {
   "cell_type": "code",
   "execution_count": 2,
   "metadata": {},
   "outputs": [
    {
     "data": {
      "text/html": [
       "<div>\n",
       "<style scoped>\n",
       "    .dataframe tbody tr th:only-of-type {\n",
       "        vertical-align: middle;\n",
       "    }\n",
       "\n",
       "    .dataframe tbody tr th {\n",
       "        vertical-align: top;\n",
       "    }\n",
       "\n",
       "    .dataframe thead th {\n",
       "        text-align: right;\n",
       "    }\n",
       "</style>\n",
       "<table border=\"1\" class=\"dataframe\">\n",
       "  <thead>\n",
       "    <tr style=\"text-align: right;\">\n",
       "      <th></th>\n",
       "      <th>Unnamed: 0</th>\n",
       "      <th>Age</th>\n",
       "      <th>Sex</th>\n",
       "      <th>Job</th>\n",
       "      <th>Housing</th>\n",
       "      <th>Saving accounts</th>\n",
       "      <th>Checking account</th>\n",
       "      <th>Credit amount</th>\n",
       "      <th>Duration</th>\n",
       "      <th>Purpose</th>\n",
       "      <th>Risk</th>\n",
       "    </tr>\n",
       "  </thead>\n",
       "  <tbody>\n",
       "    <tr>\n",
       "      <th>0</th>\n",
       "      <td>0</td>\n",
       "      <td>67</td>\n",
       "      <td>male</td>\n",
       "      <td>2</td>\n",
       "      <td>own</td>\n",
       "      <td>NaN</td>\n",
       "      <td>little</td>\n",
       "      <td>1169</td>\n",
       "      <td>6</td>\n",
       "      <td>radio/TV</td>\n",
       "      <td>good</td>\n",
       "    </tr>\n",
       "    <tr>\n",
       "      <th>1</th>\n",
       "      <td>1</td>\n",
       "      <td>22</td>\n",
       "      <td>female</td>\n",
       "      <td>2</td>\n",
       "      <td>own</td>\n",
       "      <td>little</td>\n",
       "      <td>moderate</td>\n",
       "      <td>5951</td>\n",
       "      <td>48</td>\n",
       "      <td>radio/TV</td>\n",
       "      <td>bad</td>\n",
       "    </tr>\n",
       "    <tr>\n",
       "      <th>2</th>\n",
       "      <td>2</td>\n",
       "      <td>49</td>\n",
       "      <td>male</td>\n",
       "      <td>1</td>\n",
       "      <td>own</td>\n",
       "      <td>little</td>\n",
       "      <td>NaN</td>\n",
       "      <td>2096</td>\n",
       "      <td>12</td>\n",
       "      <td>education</td>\n",
       "      <td>good</td>\n",
       "    </tr>\n",
       "    <tr>\n",
       "      <th>3</th>\n",
       "      <td>3</td>\n",
       "      <td>45</td>\n",
       "      <td>male</td>\n",
       "      <td>2</td>\n",
       "      <td>free</td>\n",
       "      <td>little</td>\n",
       "      <td>little</td>\n",
       "      <td>7882</td>\n",
       "      <td>42</td>\n",
       "      <td>furniture/equipment</td>\n",
       "      <td>good</td>\n",
       "    </tr>\n",
       "    <tr>\n",
       "      <th>4</th>\n",
       "      <td>4</td>\n",
       "      <td>53</td>\n",
       "      <td>male</td>\n",
       "      <td>2</td>\n",
       "      <td>free</td>\n",
       "      <td>little</td>\n",
       "      <td>little</td>\n",
       "      <td>4870</td>\n",
       "      <td>24</td>\n",
       "      <td>car</td>\n",
       "      <td>bad</td>\n",
       "    </tr>\n",
       "  </tbody>\n",
       "</table>\n",
       "</div>"
      ],
      "text/plain": [
       "   Unnamed: 0  Age     Sex  Job Housing Saving accounts Checking account  \\\n",
       "0           0   67    male    2     own             NaN           little   \n",
       "1           1   22  female    2     own          little         moderate   \n",
       "2           2   49    male    1     own          little              NaN   \n",
       "3           3   45    male    2    free          little           little   \n",
       "4           4   53    male    2    free          little           little   \n",
       "\n",
       "   Credit amount  Duration              Purpose  Risk  \n",
       "0           1169         6             radio/TV  good  \n",
       "1           5951        48             radio/TV   bad  \n",
       "2           2096        12            education  good  \n",
       "3           7882        42  furniture/equipment  good  \n",
       "4           4870        24                  car   bad  "
      ]
     },
     "execution_count": 2,
     "metadata": {},
     "output_type": "execute_result"
    }
   ],
   "source": [
    "# importando os dados\n",
    "data = pd.read_csv('german_credit_data.csv')\n",
    "data.head()"
   ]
  },
  {
   "cell_type": "code",
   "execution_count": 3,
   "metadata": {},
   "outputs": [],
   "source": [
    "# eliminar colunas não utilizadas\n",
    "data.drop(['Unnamed: 0'], inplace = True, axis = 1)"
   ]
  },
  {
   "cell_type": "code",
   "execution_count": 4,
   "metadata": {},
   "outputs": [
    {
     "data": {
      "text/plain": [
       "Age                   0\n",
       "Sex                   0\n",
       "Job                   0\n",
       "Housing               0\n",
       "Saving accounts     183\n",
       "Checking account    394\n",
       "Credit amount         0\n",
       "Duration              0\n",
       "Purpose               0\n",
       "Risk                  0\n",
       "dtype: int64"
      ]
     },
     "execution_count": 4,
     "metadata": {},
     "output_type": "execute_result"
    }
   ],
   "source": [
    "# checando a presença de dados nulos\n",
    "data.isna().sum()"
   ]
  },
  {
   "cell_type": "code",
   "execution_count": 5,
   "metadata": {},
   "outputs": [
    {
     "data": {
      "text/plain": [
       "<AxesSubplot:>"
      ]
     },
     "execution_count": 5,
     "metadata": {},
     "output_type": "execute_result"
    },
    {
     "data": {
      "image/png": "[encoded data removed]",
      "text/plain": [
       "<Figure size 576x576 with 2 Axes>"
      ]
     },
     "metadata": {
      "needs_background": "light"
     },
     "output_type": "display_data"
    }
   ],
   "source": [
    "# forma gráfica de análise de dados nulos\n",
    "plt.figure(figsize=(8,8))\n",
    "sns.heatmap(data.isna().T, cmap = 'YlGnBu')"
   ]
  },
  {
   "cell_type": "code",
   "execution_count": 6,
   "metadata": {},
   "outputs": [
    {
     "data": {
      "text/html": [
       "<div>\n",
       "<style scoped>\n",
       "    .dataframe tbody tr th:only-of-type {\n",
       "        vertical-align: middle;\n",
       "    }\n",
       "\n",
       "    .dataframe tbody tr th {\n",
       "        vertical-align: top;\n",
       "    }\n",
       "\n",
       "    .dataframe thead th {\n",
       "        text-align: right;\n",
       "    }\n",
       "</style>\n",
       "<table border=\"1\" class=\"dataframe\">\n",
       "  <thead>\n",
       "    <tr style=\"text-align: right;\">\n",
       "      <th></th>\n",
       "      <th>Age</th>\n",
       "      <th>Sex</th>\n",
       "      <th>Job</th>\n",
       "      <th>Housing</th>\n",
       "      <th>Saving accounts</th>\n",
       "      <th>Checking account</th>\n",
       "      <th>Credit amount</th>\n",
       "      <th>Duration</th>\n",
       "      <th>Purpose</th>\n",
       "      <th>Risk</th>\n",
       "    </tr>\n",
       "  </thead>\n",
       "  <tbody>\n",
       "    <tr>\n",
       "      <th>0</th>\n",
       "      <td>67</td>\n",
       "      <td>male</td>\n",
       "      <td>2</td>\n",
       "      <td>own</td>\n",
       "      <td>NaN</td>\n",
       "      <td>little</td>\n",
       "      <td>1169</td>\n",
       "      <td>6</td>\n",
       "      <td>radio/TV</td>\n",
       "      <td>0</td>\n",
       "    </tr>\n",
       "    <tr>\n",
       "      <th>1</th>\n",
       "      <td>22</td>\n",
       "      <td>female</td>\n",
       "      <td>2</td>\n",
       "      <td>own</td>\n",
       "      <td>little</td>\n",
       "      <td>moderate</td>\n",
       "      <td>5951</td>\n",
       "      <td>48</td>\n",
       "      <td>radio/TV</td>\n",
       "      <td>1</td>\n",
       "    </tr>\n",
       "    <tr>\n",
       "      <th>2</th>\n",
       "      <td>49</td>\n",
       "      <td>male</td>\n",
       "      <td>1</td>\n",
       "      <td>own</td>\n",
       "      <td>little</td>\n",
       "      <td>NaN</td>\n",
       "      <td>2096</td>\n",
       "      <td>12</td>\n",
       "      <td>education</td>\n",
       "      <td>0</td>\n",
       "    </tr>\n",
       "    <tr>\n",
       "      <th>3</th>\n",
       "      <td>45</td>\n",
       "      <td>male</td>\n",
       "      <td>2</td>\n",
       "      <td>free</td>\n",
       "      <td>little</td>\n",
       "      <td>little</td>\n",
       "      <td>7882</td>\n",
       "      <td>42</td>\n",
       "      <td>furniture/equipment</td>\n",
       "      <td>0</td>\n",
       "    </tr>\n",
       "    <tr>\n",
       "      <th>4</th>\n",
       "      <td>53</td>\n",
       "      <td>male</td>\n",
       "      <td>2</td>\n",
       "      <td>free</td>\n",
       "      <td>little</td>\n",
       "      <td>little</td>\n",
       "      <td>4870</td>\n",
       "      <td>24</td>\n",
       "      <td>car</td>\n",
       "      <td>1</td>\n",
       "    </tr>\n",
       "  </tbody>\n",
       "</table>\n",
       "</div>"
      ],
      "text/plain": [
       "   Age     Sex  Job Housing Saving accounts Checking account  Credit amount  \\\n",
       "0   67    male    2     own             NaN           little           1169   \n",
       "1   22  female    2     own          little         moderate           5951   \n",
       "2   49    male    1     own          little              NaN           2096   \n",
       "3   45    male    2    free          little           little           7882   \n",
       "4   53    male    2    free          little           little           4870   \n",
       "\n",
       "   Duration              Purpose  Risk  \n",
       "0         6             radio/TV     0  \n",
       "1        48             radio/TV     1  \n",
       "2        12            education     0  \n",
       "3        42  furniture/equipment     0  \n",
       "4        24                  car     1  "
      ]
     },
     "execution_count": 6,
     "metadata": {},
     "output_type": "execute_result"
    }
   ],
   "source": [
    "# transformar feature target em números\n",
    "data.Risk = data.Risk.map({'good': 0, 'bad': 1})\n",
    "data.head()"
   ]
  },
  {
   "cell_type": "code",
   "execution_count": 7,
   "metadata": {},
   "outputs": [
    {
     "data": {
      "text/plain": [
       "0    0.7\n",
       "1    0.3\n",
       "Name: Risk, dtype: float64"
      ]
     },
     "execution_count": 7,
     "metadata": {},
     "output_type": "execute_result"
    }
   ],
   "source": [
    "# analisando balanceamentos das classes\n",
    "data.Risk.value_counts(normalize=True)"
   ]
  },
  {
   "cell_type": "code",
   "execution_count": 11,
   "metadata": {},
   "outputs": [],
   "source": [
    "# caso eu quisesse considerar o Job como categórica\n",
    "# data.Job = data.Job.astype(str)"
   ]
  },
  {
   "cell_type": "code",
   "execution_count": 9,
   "metadata": {},
   "outputs": [],
   "source": [
    "# separar entre preditores e preditos\n",
    "x = data.drop(['Risk'], axis = 1)\n",
    "y = data[['Risk']]\n",
    "\n",
    "# separar o conjunto de validação final\n",
    "x_train, x_test, y_train, y_test = train_test_split(x,\n",
    "                                                    y,\n",
    "                                                    test_size=0.2,\n",
    "                                                    random_state=RANDOM_SEED,\n",
    "                                                    stratify=y)"
   ]
  },
  {
   "cell_type": "code",
   "execution_count": 12,
   "metadata": {},
   "outputs": [],
   "source": [
    "# configurar um objeto de pré-processamento completo\n",
    "\n",
    "# selecionar automaticamente as colunas que vão receber cada processamento\n",
    "num_features = x_train.select_dtypes(include=np.number).columns.tolist()\n",
    "cat_features = x_train.select_dtypes(exclude=np.number).columns.tolist()\n",
    "\n",
    "# criar pipelines de processamento para cada tipo de variáveis\n",
    "pipe_num = Pipeline([('input_na_num', SimpleImputer(strategy='mean'))])\n",
    "pipe_cat = Pipeline([\n",
    "    ('input_na_cat', SimpleImputer(strategy='constant', fill_value='unknown')),\n",
    "    ('onehot', OneHotEncoder(drop='first'))\n",
    "])\n",
    "\n",
    "# configurando o pre_processador\n",
    "pre_processador = ColumnTransformer([\n",
    "    ('transf_num', pipe_num, num_features),\n",
    "    ('transf_cat', pipe_cat, cat_features)\n",
    "])"
   ]
  },
  {
   "cell_type": "code",
   "execution_count": 13,
   "metadata": {},
   "outputs": [],
   "source": [
    "# configurar o amostrador\n",
    "cvs = StratifiedKFold(n_splits=10, shuffle=True, random_state=RANDOM_SEED)\n",
    "\n",
    "# configurar o pipeline final\n",
    "final_pipe = Pipeline([\n",
    "    ('preprocessador', pre_processador),\n",
    "    ('scaler', StandardScaler()),\n",
    "    ('ada', AdaBoostClassifier())\n",
    "])\n",
    "\n",
    "# dicionário de hiperparâmetros\n",
    "param_dict = {\n",
    "    'ada__n_estimators': np.random.randint(2, 1000, size = 500)\n",
    "}"
   ]
  },
  {
   "cell_type": "code",
   "execution_count": 14,
   "metadata": {},
   "outputs": [],
   "source": [
    "# definir a função de lucro (métrica do modelo)\n",
    "def lucro_f(y_real, y_pred):\n",
    "\n",
    "    # cálculo do lucro segundo a regra de negócios\n",
    "    # 100 euros por cliente verdadeiro positivo - nego o crédito ao cliente caloteiro\n",
    "    # -150 euros por cliente falso positivo - perco o cliente honesto\n",
    "    # 500 euros por cliente verdadeiro falso negativo - dou o crédito ao cliente honesto\n",
    "    # -50 euros por cliente falso negativo - tomo o calote\n",
    "\n",
    "    # cálcular a matriz de confusão\n",
    "    cm = confusion_matrix(y_real, y_pred)\n",
    "\n",
    "    # extraio os valores de cada categoria de cliente\n",
    "    FP = cm[0][1]                   # falso positivo\n",
    "    TP = cm[1][1]                   # verdadeiro positivo\n",
    "    TN = cm[0][0]                   # verdadeiro negativo\n",
    "    FN = cm[1][0]                   # falso negativo\n",
    "\n",
    "    # cálculo do lucro\n",
    "    lucro = 100*TP+500*TN-150*FP-50*FN\n",
    "\n",
    "    return lucro\n",
    "\n",
    "# transformando em score\n",
    "score_lucro = make_scorer(lucro_f, greater_is_better=True)"
   ]
  },
  {
   "cell_type": "code",
   "execution_count": 15,
   "metadata": {},
   "outputs": [
    {
     "name": "stdout",
     "output_type": "stream",
     "text": [
      "Lucro Baseline - Caso Otimista: 67000\n"
     ]
    }
   ],
   "source": [
    "# criando o baseline - caso mais otimista (todo mundo é honesto)\n",
    "yhat_base = np.repeat(0, repeats=y_test.shape[0])\n",
    "\n",
    "# Lucro Baseline Otimista\n",
    "print(f'Lucro Baseline - Caso Otimista: {lucro_f(y_test, yhat_base)}')"
   ]
  },
  {
   "cell_type": "code",
   "execution_count": 16,
   "metadata": {},
   "outputs": [
    {
     "name": "stdout",
     "output_type": "stream",
     "text": [
      "Lucro Baseline - Caso Pessimista: -15000\n"
     ]
    }
   ],
   "source": [
    "# criando o baseline - caso mais pessimista (todo mundo é caloteiro)\n",
    "yhat_base = np.repeat(1, repeats=y_test.shape[0])\n",
    "\n",
    "# Lucro Baseline Pessimista\n",
    "print(f'Lucro Baseline - Caso Pessimista: {lucro_f(y_test, yhat_base)}')"
   ]
  },
  {
   "cell_type": "code",
   "execution_count": 17,
   "metadata": {},
   "outputs": [
    {
     "name": "stdout",
     "output_type": "stream",
     "text": [
      "Lucro Baseline - Caso Máximo: 76000\n"
     ]
    }
   ],
   "source": [
    "# criando o baseline - lucro máximo (modelo perfeito)\n",
    "# Lucro Baseline Máximo\n",
    "print(f'Lucro Baseline - Caso Máximo: {lucro_f(y_test, y_test)}')"
   ]
  },
  {
   "cell_type": "code",
   "execution_count": 18,
   "metadata": {},
   "outputs": [
    {
     "data": {
      "text/html": [
       "<style>#sk-container-id-1 {color: black;background-color: white;}#sk-container-id-1 pre{padding: 0;}#sk-container-id-1 div.sk-toggleable {background-color: white;}#sk-container-id-1 label.sk-toggleable__label {cursor: pointer;display: block;width: 100%;margin-bottom: 0;padding: 0.3em;box-sizing: border-box;text-align: center;}#sk-container-id-1 label.sk-toggleable__label-arrow:before {content: \"▸\";float: left;margin-right: 0.25em;color: #696969;}#sk-container-id-1 label.sk-toggleable__label-arrow:hover:before {color: black;}#sk-container-id-1 div.sk-estimator:hover label.sk-toggleable__label-arrow:before {color: black;}#sk-container-id-1 div.sk-toggleable__content {max-height: 0;max-width: 0;overflow: hidden;text-align: left;background-color: #f0f8ff;}#sk-container-id-1 div.sk-toggleable__content pre {margin: 0.2em;color: black;border-radius: 0.25em;background-color: #f0f8ff;}#sk-container-id-1 input.sk-toggleable__control:checked~div.sk-toggleable__content {max-height: 200px;max-width: 100%;overflow: auto;}#sk-container-id-1 input.sk-toggleable__control:checked~label.sk-toggleable__label-arrow:before {content: \"▾\";}#sk-container-id-1 div.sk-estimator input.sk-toggleable__control:checked~label.sk-toggleable__label {background-color: #d4ebff;}#sk-container-id-1 div.sk-label input.sk-toggleable__control:checked~label.sk-toggleable__label {background-color: #d4ebff;}#sk-container-id-1 input.sk-hidden--visually {border: 0;clip: rect(1px 1px 1px 1px);clip: rect(1px, 1px, 1px, 1px);height: 1px;margin: -1px;overflow: hidden;padding: 0;position: absolute;width: 1px;}#sk-container-id-1 div.sk-estimator {font-family: monospace;background-color: #f0f8ff;border: 1px dotted black;border-radius: 0.25em;box-sizing: border-box;margin-bottom: 0.5em;}#sk-container-id-1 div.sk-estimator:hover {background-color: #d4ebff;}#sk-container-id-1 div.sk-parallel-item::after {content: \"\";width: 100%;border-bottom: 1px solid gray;flex-grow: 1;}#sk-container-id-1 div.sk-label:hover label.sk-toggleable__label {background-color: #d4ebff;}#sk-container-id-1 div.sk-serial::before {content: \"\";position: absolute;border-left: 1px solid gray;box-sizing: border-box;top: 0;bottom: 0;left: 50%;z-index: 0;}#sk-container-id-1 div.sk-serial {display: flex;flex-direction: column;align-items: center;background-color: white;padding-right: 0.2em;padding-left: 0.2em;position: relative;}#sk-container-id-1 div.sk-item {position: relative;z-index: 1;}#sk-container-id-1 div.sk-parallel {display: flex;align-items: stretch;justify-content: center;background-color: white;position: relative;}#sk-container-id-1 div.sk-item::before, #sk-container-id-1 div.sk-parallel-item::before {content: \"\";position: absolute;border-left: 1px solid gray;box-sizing: border-box;top: 0;bottom: 0;left: 50%;z-index: -1;}#sk-container-id-1 div.sk-parallel-item {display: flex;flex-direction: column;z-index: 1;position: relative;background-color: white;}#sk-container-id-1 div.sk-parallel-item:first-child::after {align-self: flex-end;width: 50%;}#sk-container-id-1 div.sk-parallel-item:last-child::after {align-self: flex-start;width: 50%;}#sk-container-id-1 div.sk-parallel-item:only-child::after {width: 0;}#sk-container-id-1 div.sk-dashed-wrapped {border: 1px dashed gray;margin: 0 0.4em 0.5em 0.4em;box-sizing: border-box;padding-bottom: 0.4em;background-color: white;}#sk-container-id-1 div.sk-label label {font-family: monospace;font-weight: bold;display: inline-block;line-height: 1.2em;}#sk-container-id-1 div.sk-label-container {text-align: center;}#sk-container-id-1 div.sk-container {/* jupyter's `normalize.less` sets `[hidden] { display: none; }` but bootstrap.min.css set `[hidden] { display: none !important; }` so we also need the `!important` here to be able to override the default hidden behavior on the sphinx rendered scikit-learn.org. See: https://github.com/scikit-learn/scikit-learn/issues/21755 */display: inline-block !important;position: relative;}#sk-container-id-1 div.sk-text-repr-fallback {display: none;}</style><div id=\"sk-container-id-1\" class=\"sk-top-container\"><div class=\"sk-text-repr-fallback\"><pre>RandomizedSearchCV(cv=StratifiedKFold(n_splits=10, random_state=12, shuffle=True),\n",
       "                   estimator=Pipeline(steps=[(&#x27;preprocessador&#x27;,\n",
       "                                              ColumnTransformer(transformers=[(&#x27;transf_num&#x27;,\n",
       "                                                                               Pipeline(steps=[(&#x27;input_na_num&#x27;,\n",
       "                                                                                                SimpleImputer())]),\n",
       "                                                                               [&#x27;Age&#x27;,\n",
       "                                                                                &#x27;Job&#x27;,\n",
       "                                                                                &#x27;Credit &#x27;\n",
       "                                                                                &#x27;amount&#x27;,\n",
       "                                                                                &#x27;Duration&#x27;]),\n",
       "                                                                              (&#x27;transf_cat&#x27;,\n",
       "                                                                               Pipeline(steps=[(&#x27;input_na_cat&#x27;,\n",
       "                                                                                                SimpleImputer(fill_value=&#x27;unknown&#x27;,\n",
       "                                                                                                              strat...\n",
       "       737, 889, 185, 241, 598, 379, 492, 133, 154, 964, 217, 286, 909,\n",
       "        97, 487, 868,  73,  48, 881, 904, 492, 844, 543, 341, 856, 501,\n",
       "       875, 815, 402, 811,   5, 898, 883, 766, 544, 834, 112, 895, 267,\n",
       "       995, 417, 890, 395, 746,  49, 466, 356, 523,  97, 474,  27, 289,\n",
       "       359, 514, 970, 997, 263, 227, 962, 726, 199, 751, 151, 522, 542,\n",
       "       592, 509, 803, 773, 358, 116, 246, 710, 803, 223, 620, 351, 607,\n",
       "       313, 249, 773, 546, 599, 826])},\n",
       "                   scoring=make_scorer(lucro_f))</pre><b>In a Jupyter environment, please rerun this cell to show the HTML representation or trust the notebook. <br />On GitHub, the HTML representation is unable to render, please try loading this page with nbviewer.org.</b></div><div class=\"sk-container\" hidden><div class=\"sk-item sk-dashed-wrapped\"><div class=\"sk-label-container\"><div class=\"sk-label sk-toggleable\"><input class=\"sk-toggleable__control sk-hidden--visually\" id=\"sk-estimator-id-1\" type=\"checkbox\" ><label for=\"sk-estimator-id-1\" class=\"sk-toggleable__label sk-toggleable__label-arrow\">RandomizedSearchCV</label><div class=\"sk-toggleable__content\"><pre>RandomizedSearchCV(cv=StratifiedKFold(n_splits=10, random_state=12, shuffle=True),\n",
       "                   estimator=Pipeline(steps=[(&#x27;preprocessador&#x27;,\n",
       "                                              ColumnTransformer(transformers=[(&#x27;transf_num&#x27;,\n",
       "                                                                               Pipeline(steps=[(&#x27;input_na_num&#x27;,\n",
       "                                                                                                SimpleImputer())]),\n",
       "                                                                               [&#x27;Age&#x27;,\n",
       "                                                                                &#x27;Job&#x27;,\n",
       "                                                                                &#x27;Credit &#x27;\n",
       "                                                                                &#x27;amount&#x27;,\n",
       "                                                                                &#x27;Duration&#x27;]),\n",
       "                                                                              (&#x27;transf_cat&#x27;,\n",
       "                                                                               Pipeline(steps=[(&#x27;input_na_cat&#x27;,\n",
       "                                                                                                SimpleImputer(fill_value=&#x27;unknown&#x27;,\n",
       "                                                                                                              strat...\n",
       "       737, 889, 185, 241, 598, 379, 492, 133, 154, 964, 217, 286, 909,\n",
       "        97, 487, 868,  73,  48, 881, 904, 492, 844, 543, 341, 856, 501,\n",
       "       875, 815, 402, 811,   5, 898, 883, 766, 544, 834, 112, 895, 267,\n",
       "       995, 417, 890, 395, 746,  49, 466, 356, 523,  97, 474,  27, 289,\n",
       "       359, 514, 970, 997, 263, 227, 962, 726, 199, 751, 151, 522, 542,\n",
       "       592, 509, 803, 773, 358, 116, 246, 710, 803, 223, 620, 351, 607,\n",
       "       313, 249, 773, 546, 599, 826])},\n",
       "                   scoring=make_scorer(lucro_f))</pre></div></div></div><div class=\"sk-parallel\"><div class=\"sk-parallel-item\"><div class=\"sk-item\"><div class=\"sk-label-container\"><div class=\"sk-label sk-toggleable\"><input class=\"sk-toggleable__control sk-hidden--visually\" id=\"sk-estimator-id-2\" type=\"checkbox\" ><label for=\"sk-estimator-id-2\" class=\"sk-toggleable__label sk-toggleable__label-arrow\">estimator: Pipeline</label><div class=\"sk-toggleable__content\"><pre>Pipeline(steps=[(&#x27;preprocessador&#x27;,\n",
       "                 ColumnTransformer(transformers=[(&#x27;transf_num&#x27;,\n",
       "                                                  Pipeline(steps=[(&#x27;input_na_num&#x27;,\n",
       "                                                                   SimpleImputer())]),\n",
       "                                                  [&#x27;Age&#x27;, &#x27;Job&#x27;,\n",
       "                                                   &#x27;Credit amount&#x27;,\n",
       "                                                   &#x27;Duration&#x27;]),\n",
       "                                                 (&#x27;transf_cat&#x27;,\n",
       "                                                  Pipeline(steps=[(&#x27;input_na_cat&#x27;,\n",
       "                                                                   SimpleImputer(fill_value=&#x27;unknown&#x27;,\n",
       "                                                                                 strategy=&#x27;constant&#x27;)),\n",
       "                                                                  (&#x27;onehot&#x27;,\n",
       "                                                                   OneHotEncoder(drop=&#x27;first&#x27;))]),\n",
       "                                                  [&#x27;Sex&#x27;, &#x27;Housing&#x27;,\n",
       "                                                   &#x27;Saving accounts&#x27;,\n",
       "                                                   &#x27;Checking account&#x27;,\n",
       "                                                   &#x27;Purpose&#x27;])])),\n",
       "                (&#x27;scaler&#x27;, StandardScaler()), (&#x27;ada&#x27;, AdaBoostClassifier())])</pre></div></div></div><div class=\"sk-serial\"><div class=\"sk-item\"><div class=\"sk-serial\"><div class=\"sk-item sk-dashed-wrapped\"><div class=\"sk-label-container\"><div class=\"sk-label sk-toggleable\"><input class=\"sk-toggleable__control sk-hidden--visually\" id=\"sk-estimator-id-3\" type=\"checkbox\" ><label for=\"sk-estimator-id-3\" class=\"sk-toggleable__label sk-toggleable__label-arrow\">preprocessador: ColumnTransformer</label><div class=\"sk-toggleable__content\"><pre>ColumnTransformer(transformers=[(&#x27;transf_num&#x27;,\n",
       "                                 Pipeline(steps=[(&#x27;input_na_num&#x27;,\n",
       "                                                  SimpleImputer())]),\n",
       "                                 [&#x27;Age&#x27;, &#x27;Job&#x27;, &#x27;Credit amount&#x27;, &#x27;Duration&#x27;]),\n",
       "                                (&#x27;transf_cat&#x27;,\n",
       "                                 Pipeline(steps=[(&#x27;input_na_cat&#x27;,\n",
       "                                                  SimpleImputer(fill_value=&#x27;unknown&#x27;,\n",
       "                                                                strategy=&#x27;constant&#x27;)),\n",
       "                                                 (&#x27;onehot&#x27;,\n",
       "                                                  OneHotEncoder(drop=&#x27;first&#x27;))]),\n",
       "                                 [&#x27;Sex&#x27;, &#x27;Housing&#x27;, &#x27;Saving accounts&#x27;,\n",
       "                                  &#x27;Checking account&#x27;, &#x27;Purpose&#x27;])])</pre></div></div></div><div class=\"sk-parallel\"><div class=\"sk-parallel-item\"><div class=\"sk-item\"><div class=\"sk-label-container\"><div class=\"sk-label sk-toggleable\"><input class=\"sk-toggleable__control sk-hidden--visually\" id=\"sk-estimator-id-4\" type=\"checkbox\" ><label for=\"sk-estimator-id-4\" class=\"sk-toggleable__label sk-toggleable__label-arrow\">transf_num</label><div class=\"sk-toggleable__content\"><pre>[&#x27;Age&#x27;, &#x27;Job&#x27;, &#x27;Credit amount&#x27;, &#x27;Duration&#x27;]</pre></div></div></div><div class=\"sk-serial\"><div class=\"sk-item\"><div class=\"sk-serial\"><div class=\"sk-item\"><div class=\"sk-estimator sk-toggleable\"><input class=\"sk-toggleable__control sk-hidden--visually\" id=\"sk-estimator-id-5\" type=\"checkbox\" ><label for=\"sk-estimator-id-5\" class=\"sk-toggleable__label sk-toggleable__label-arrow\">SimpleImputer</label><div class=\"sk-toggleable__content\"><pre>SimpleImputer()</pre></div></div></div></div></div></div></div></div><div class=\"sk-parallel-item\"><div class=\"sk-item\"><div class=\"sk-label-container\"><div class=\"sk-label sk-toggleable\"><input class=\"sk-toggleable__control sk-hidden--visually\" id=\"sk-estimator-id-6\" type=\"checkbox\" ><label for=\"sk-estimator-id-6\" class=\"sk-toggleable__label sk-toggleable__label-arrow\">transf_cat</label><div class=\"sk-toggleable__content\"><pre>[&#x27;Sex&#x27;, &#x27;Housing&#x27;, &#x27;Saving accounts&#x27;, &#x27;Checking account&#x27;, &#x27;Purpose&#x27;]</pre></div></div></div><div class=\"sk-serial\"><div class=\"sk-item\"><div class=\"sk-serial\"><div class=\"sk-item\"><div class=\"sk-estimator sk-toggleable\"><input class=\"sk-toggleable__control sk-hidden--visually\" id=\"sk-estimator-id-7\" type=\"checkbox\" ><label for=\"sk-estimator-id-7\" class=\"sk-toggleable__label sk-toggleable__label-arrow\">SimpleImputer</label><div class=\"sk-toggleable__content\"><pre>SimpleImputer(fill_value=&#x27;unknown&#x27;, strategy=&#x27;constant&#x27;)</pre></div></div></div><div class=\"sk-item\"><div class=\"sk-estimator sk-toggleable\"><input class=\"sk-toggleable__control sk-hidden--visually\" id=\"sk-estimator-id-8\" type=\"checkbox\" ><label for=\"sk-estimator-id-8\" class=\"sk-toggleable__label sk-toggleable__label-arrow\">OneHotEncoder</label><div class=\"sk-toggleable__content\"><pre>OneHotEncoder(drop=&#x27;first&#x27;)</pre></div></div></div></div></div></div></div></div></div></div><div class=\"sk-item\"><div class=\"sk-estimator sk-toggleable\"><input class=\"sk-toggleable__control sk-hidden--visually\" id=\"sk-estimator-id-9\" type=\"checkbox\" ><label for=\"sk-estimator-id-9\" class=\"sk-toggleable__label sk-toggleable__label-arrow\">StandardScaler</label><div class=\"sk-toggleable__content\"><pre>StandardScaler()</pre></div></div></div><div class=\"sk-item\"><div class=\"sk-estimator sk-toggleable\"><input class=\"sk-toggleable__control sk-hidden--visually\" id=\"sk-estimator-id-10\" type=\"checkbox\" ><label for=\"sk-estimator-id-10\" class=\"sk-toggleable__label sk-toggleable__label-arrow\">AdaBoostClassifier</label><div class=\"sk-toggleable__content\"><pre>AdaBoostClassifier()</pre></div></div></div></div></div></div></div></div></div></div></div></div>"
      ],
      "text/plain": [
       "RandomizedSearchCV(cv=StratifiedKFold(n_splits=10, random_state=12, shuffle=True),\n",
       "                   estimator=Pipeline(steps=[('preprocessador',\n",
       "                                              ColumnTransformer(transformers=[('transf_num',\n",
       "                                                                               Pipeline(steps=[('input_na_num',\n",
       "                                                                                                SimpleImputer())]),\n",
       "                                                                               ['Age',\n",
       "                                                                                'Job',\n",
       "                                                                                'Credit '\n",
       "                                                                                'amount',\n",
       "                                                                                'Duration']),\n",
       "                                                                              ('transf_cat',\n",
       "                                                                               Pipeline(steps=[('input_na_cat',\n",
       "                                                                                                SimpleImputer(fill_value='unknown',\n",
       "                                                                                                              strat...\n",
       "       737, 889, 185, 241, 598, 379, 492, 133, 154, 964, 217, 286, 909,\n",
       "        97, 487, 868,  73,  48, 881, 904, 492, 844, 543, 341, 856, 501,\n",
       "       875, 815, 402, 811,   5, 898, 883, 766, 544, 834, 112, 895, 267,\n",
       "       995, 417, 890, 395, 746,  49, 466, 356, 523,  97, 474,  27, 289,\n",
       "       359, 514, 970, 997, 263, 227, 962, 726, 199, 751, 151, 522, 542,\n",
       "       592, 509, 803, 773, 358, 116, 246, 710, 803, 223, 620, 351, 607,\n",
       "       313, 249, 773, 546, 599, 826])},\n",
       "                   scoring=make_scorer(lucro_f))"
      ]
     },
     "execution_count": 18,
     "metadata": {},
     "output_type": "execute_result"
    }
   ],
   "source": [
    "# criando o amostrador para seleção de hiperparâmetros\n",
    "model_selector = RandomizedSearchCV(\n",
    "    estimator=final_pipe,\n",
    "    param_distributions=param_dict,\n",
    "    scoring=score_lucro,\n",
    "    n_iter = 3,\n",
    "    cv = cvs,\n",
    "    refit = True,\n",
    "    n_jobs = -1\n",
    ")\n",
    "\n",
    "# ajustando o modelo\n",
    "model_selector.fit(x_train, y_train)"
   ]
  },
  {
   "cell_type": "code",
   "execution_count": 19,
   "metadata": {},
   "outputs": [
    {
     "name": "stdout",
     "output_type": "stream",
     "text": [
      "Melhor parâmetro:  {'ada__n_estimators': 8}\n",
      "Maior lucro médio obtido:  23670.0\n"
     ]
    }
   ],
   "source": [
    "# analisando o melhor modelo\n",
    "print('Melhor parâmetro: ', model_selector.best_params_)\n",
    "print('Maior lucro médio obtido: ', model_selector.best_score_)"
   ]
  },
  {
   "cell_type": "code",
   "execution_count": 20,
   "metadata": {},
   "outputs": [
    {
     "name": "stdout",
     "output_type": "stream",
     "text": [
      "Lucro Esperado: 58000\n"
     ]
    }
   ],
   "source": [
    "# avaliando o relatório de classificação do ponto de vista do negócio\n",
    "yhat = model_selector.best_estimator_.predict(x_test)\n",
    "\n",
    "print(f'Lucro Esperado: {lucro_f(y_test, yhat)}')"
   ]
  },
  {
   "cell_type": "markdown",
   "metadata": {},
   "source": [
    "### Mas existe a possibilidade de tunarmos os parâmetros do modelo \"fraco\"?"
   ]
  },
  {
   "cell_type": "code",
   "execution_count": 21,
   "metadata": {},
   "outputs": [],
   "source": [
    "# vamos criar um AdaBoost de regressões logísticas\n",
    "base_model = LogisticRegression(solver='saga')\n",
    "\n",
    "# recriando o pipeline do AdaBoost, explicitando o modelo base\n",
    "final_pipe = Pipeline([\n",
    "    ('preprocessador', pre_processador),\n",
    "    ('scaler', StandardScaler()),\n",
    "    ('ada', AdaBoostClassifier(base_estimator=base_model, random_state=19))\n",
    "])\n",
    "\n",
    "# dicionário de hiperparâmetros\n",
    "param_dict = {\n",
    "    'ada__base_estimator__C': np.random.uniform(0.01, 10, size = 1000),\n",
    "    'ada__base_estimator__penalty': ['l1', 'l2', 'elasticnet'],\n",
    "    'ada__base_estimator__l1_ratio': np.random.uniform(0.1, 1, size = 100),\n",
    "    'ada__n_estimators': np.random.randint(2, 1000, size = 500)\n",
    "}"
   ]
  },
  {
   "cell_type": "code",
   "execution_count": 22,
   "metadata": {},
   "outputs": [
    {
     "name": "stdout",
     "output_type": "stream",
     "text": [
      "Melhor parâmetro:  {'ada__n_estimators': 218, 'ada__base_estimator__penalty': 'elasticnet', 'ada__base_estimator__l1_ratio': 0.8108720548358955, 'ada__base_estimator__C': 9.745244457222611}\n",
      "Maior lucro obtido:  26815.0\n",
      "Lucro Esperado: 67150\n"
     ]
    }
   ],
   "source": [
    "# criando o amostrador para seleção dos hiperparâmetros\n",
    "model_selector = RandomizedSearchCV(\n",
    "    estimator=final_pipe,\n",
    "    param_distributions=param_dict,\n",
    "    scoring = score_lucro,\n",
    "    n_iter=5,\n",
    "    cv = cvs,\n",
    "    refit = True,\n",
    "    n_jobs = -1 \n",
    ")\n",
    "\n",
    "# ajustando o modelo\n",
    "model_selector.fit(x_train, y_train)\n",
    "\n",
    "# analisando o melhor modelo\n",
    "print('Melhor parâmetro: ', model_selector.best_params_)\n",
    "print('Maior lucro obtido: ', model_selector.best_score_)\n",
    "\n",
    "# avaliando o relatório de classificação do ponto de vista do negócio\n",
    "yhat = model_selector.best_estimator_.predict(x_test)\n",
    "\n",
    "print(f'Lucro Esperado: {lucro_f(y_test, yhat)}')"
   ]
  },
  {
   "cell_type": "markdown",
   "metadata": {},
   "source": [
    "___"
   ]
  },
  {
   "cell_type": "markdown",
   "metadata": {},
   "source": [
    "## 3. *Gradient Boosting*"
   ]
  },
  {
   "cell_type": "markdown",
   "metadata": {},
   "source": [
    "O AdaBoost não é o único que incorpora a técnica de boosting. Outro tipo de modelo que implementa é o Gradient Boosting, que implementa o princípio de boosting por meio de um **gradiente explícito**\n",
    "\n",
    "<img src=https://miro.medium.com/max/788/1*pEu2LNmxf9ttXHIALPcEBw.png width=600>"
   ]
  },
  {
   "cell_type": "markdown",
   "metadata": {},
   "source": [
    "A ideia é que caminhemos na direção do **erro mínimo** de maneira iterativa **passo a passo**.\n",
    "\n",
    "Este caminho se dá justamente pelo **gradiente** da **função de custo/perda**, que mede justamente os erros cometidos.\n",
    "\n",
    "<img src=https://upload.wikimedia.org/wikipedia/commons/a/a3/Gradient_descent.gif width=400>\n",
    "\n",
    "Este método é conhecido como:\n",
    "\n",
    "### Gradiente descendente"
   ]
  },
  {
   "cell_type": "markdown",
   "metadata": {},
   "source": [
    "Deixei em ênfase porque este será um método de **enorme importância** no estudo de redes neurais (e é, em geral, um método de otimização muito utilizado).\n",
    "\n",
    "O objetivo geral do método é bem simples: determinar quais são os **parâmetros** da hipótese que minimizam a função de custo/perda. Para isso, o método \"percorre\" a função de erro, indo em direção ao seu mínimo (e este \"caminho\" feito na função se dá justamente pela **determinação iterativa dos parâmetros**, isto é, **a cada passo, chegamos mais perto dos parâmetros finais da hipótese**, conforme eles são ajustados aos dados."
   ]
  },
  {
   "cell_type": "markdown",
   "metadata": {},
   "source": [
    "> **Pequeno interlúdio matemático:** o gradiente descendente implementado pelo gradient boosting é, na verdade, um **gradiente descendente funcional**, isto é, desejamos encontrar não um conjunto de parâmetros que minimiza o erro, mas sim **introduzir sequencialmente weak learners (hipótese simples) que minimizam o erro**. Desta forma, o gradient boosting minimiza a função de custo ao ecolher iterativamente hipóteses simples que apontam na direção do mínimo, neste espaço funcional."
   ]
  },
  {
   "cell_type": "markdown",
   "metadata": {},
   "source": [
    "Apesar do interlúdio acima, não precisamos nos preocupar muito com os detalhes matemáticos: o que importa é entender que no caso do gradient boosting, há alguns pontos importantes:\n",
    "\n",
    "- Uma **função de custo/perda (loss)** é explicitamente minimizada por um procedimento de gradiente;\n",
    "\n",
    "- O gradiente está relacionado com o procedimento de **encadeamento progressivo entre weak learners**, seguindo a ideia do boosting.\n",
    "\n",
    "Pra quem quiser saber um pouco mais de detalhes (e se aventurar na matemática), sugiro [este post](https://www.gormanalysis.com/blog/gradient-boosting-explained/) ou então [este site](https://explained.ai/gradient-boosting/), que contém vários materiais ótimos para entender o método com todos os detalhes matemáticos.\n",
    "\n",
    "Os [vídeos do StatQuest](https://www.youtube.com/playlist?list=PLblh5JKOoLUJjeXUvUE0maghNuY2_5fY6) também são uma boa referência"
   ]
  },
  {
   "cell_type": "markdown",
   "metadata": {},
   "source": [
    "As classes do sklearn são:\n",
    "\n",
    "- [GradientBoostingClassifier](https://scikit-learn.org/stable/modules/generated/sklearn.ensemble.GradientBoostingClassifier.html)\n",
    "\n",
    "- [GradientBoostingRegressor](https://scikit-learn.org/stable/modules/generated/sklearn.ensemble.GradientBoostingRegressor.html#sklearn.ensemble.GradientBoostingRegressor)\n",
    "\n",
    "E os principais hiperparâmetros a serem ajustados são:\n",
    "\n",
    "- `n_estimators` : novamente, o número de weak learners encadeados.\n",
    "\n",
    "- `learning_rate` : a constante que multiplica o gradiente no gradiente descendente. Essencialmente, controla o \"tamanho do passo\" a ser dado em direção ao mínimo.\n",
    "\n",
    "Segundo o próprio [User Guide](https://scikit-learn.org/stable/modules/ensemble.html#gradient-boosting): \"*Empirical evidence suggests that small values of `learning_rate` favor better test error. The lireature recommends to set the learning rate to a small constant (e.g. `learning_rate <= 0.1`) and choose `n_estimators` by early stopping.*\"\n",
    "\n",
    "Ainda sobre a learning rate, as ilustrações a seguir ajudam a entender sua importância:\n",
    "\n",
    "<img src=https://www.jeremyjordan.me/content/images/2018/02/Screen-Shot-2018-02-24-at-11.47.09-AM.png width=700>\n",
    "\n",
    "<img src=https://cdn-images-1.medium.com/max/1440/0*A351v9EkS6Ps2zIg.gif width=500>"
   ]
  },
  {
   "cell_type": "markdown",
   "metadata": {},
   "source": [
    "## 4. *EXtreme Gradient Boosting*\n",
    "\n",
    "Este método nada mais é que um gradient boosting, mas com algumas importantes modificações que lhe conferem o título de \"extreme\"! Em particular, duas alterações merecem destaque:\n",
    "\n",
    "- A adição de procedimentos de regularização (L1 e L2!), o que melhora consideravelmente sua capacidade de generalização;\n",
    "\n",
    "- A utilização de derivadas de segunda ordem (Hessiano) para o procedimento de gradiente.\n",
    "\n",
    "Para quem quiser se aventurar mais, sugiro algumas boas leituras:\n",
    "\n",
    "- [Este](https://shirinsplayground.netlify.app/2018/11/ml_basics_gbm/), explica bem as particularidades do XGBoost, além de dar uma boa introdução ao gradient boosting\n",
    "\n",
    "- [Este](https://medium.com/analytics-vidhya/what-makes-xgboost-so-extreme-e1544a4433bb), introduz bem o método, enquanto enfativa suas particularidades, com alguns detalhes matemáticos;\n",
    "\n",
    "- [Este](https://xgboost.readthedocs.io/en/latest/tutorials/model.html), da própria documentação da biblioteca, traz uma explicação legal, e com alguns detalhes matemáticos;\n",
    "\n",
    "- [Este](https://towardsdatascience.com/https-medium-com-vishalmorde-xgboost-algorithm-long-she-may-rein-edd9f99be63d), com uma discussão mais alto-nível (sem tantos detalhes) sobre o XGBoost e os motivos de seu sucesso."
   ]
  },
  {
   "cell_type": "code",
   "execution_count": 2,
   "metadata": {},
   "outputs": [],
   "source": [
    "#!pip install xgboost"
   ]
  },
  {
   "cell_type": "code",
   "execution_count": null,
   "metadata": {},
   "outputs": [],
   "source": [
    "from xgboost import XGBClassifier\n",
    "\n",
    "# XGBoost em árvore\n",
    "XGBClassifier(booster = 'gbtree')\n",
    "\n",
    "# XGBoost linear\n",
    "XGBClassifier(booster = 'gblinear')"
   ]
  },
  {
   "cell_type": "markdown",
   "metadata": {},
   "source": [
    "______\n",
    "\n",
    "## Exercício 1\n",
    "\n",
    "Aplicando os conhecimentos obtidos com os modelos de GradientBoosting e de XGBoost, tente melhorar o desempenho do classificador de crédito com relação ao lucro esperado. Lembre-se de checar a documentação para identificar os hiperparâmetros que podem ser trabalhados em cada um deles. Nesse exercício, utilize os estimadores padrão das respectivas classes.\n",
    "\n",
    "_____\n",
    "\n",
    "## Exercício 2\n",
    "\n",
    "Repita o exercício 1, porém modificando o estimador base, conforme fizemos na demonstração, alterando seus hiperparâmetros também. **ATENÇÃO**: no caso do xgboost, isso deve ser feito de forma separada, ou seja, haverá um pipeline com o parâmetros `gbtree` e outro com o `gblinear`.\n",
    "\n",
    "______\n",
    "\n",
    "## Exercício 3 (DESAFIO)\n",
    "\n",
    "Agora é com vocês ! Existe uma base de dados que descrever a produtividade de uma indústria (`garments_worker_productivity.csv`), portanto sendo um problema de regressão - target (`actual_productivity`). Nessa atividade você deverá:\n",
    "\n",
    "- carregar a base de dados\n",
    "- identificar a necessidade de tratar dados nulos\n",
    "- calcule o lucro no pior cenário, melhor cenário e no cenário \"máximo\" - mais detalhes da função lucro abaixo\n",
    "- configurar um processador de dados usando o `ColumnTransformer`, `SimpleImputer` e `Pipeline`, conforme você determinar\n",
    "- separar uma base de treino e de teste, colocando 30 % para base de teste, sem estratificação\n",
    "- configure um amostrador de validação cruzada de 5 folds sem estratificação (`KFold`)\n",
    "- configure um `Pipeline` com o processamento, scaler (`StandardScaler`) e o modelo selecionado\n",
    "- use um seletor de modelos `RandomizedSearchCV`\n",
    "- teste os modelos `AdaBoostRegressor`, `GradientBoostingRegressor`, `XGBoostRegressor`\n",
    "- você tem a liberdade de escolher os hiperparâmetros e estimadores base\n",
    "- aplique a seguinte regra de negócios numa função para determinar o lucro\n",
    "\n",
    "    - se o erro for menor que -10 % em relação ao valor, deve-se pagar a execução do modelo (150) e o prejuízo de superestimar (p*2500)\n",
    "    - se o erro ficar entre -10 % e -1 % em relação ao valor, paga-se a execução do modelo (150) e metade do prejuízo (p*1250)\n",
    "    - se o erro ficar entre -1 % e + 1 % em relação ao valor, paga-se a execução do modelo (150)\n",
    "    - se o erro ficar entre 1 % e e 10 %, paga-se o modelo (150) porém ganha-se metade do lucro total (p*1000)\n",
    "    - se o erro for maior que 10 %, paga-se o modelo (150) porém se ganha o lucro total (p*2000)\n",
    "\n"
   ]
  },
  {
   "cell_type": "markdown",
   "metadata": {},
   "source": [
    "### Exercício 1\n",
    "Aplicando os conhecimentos obtidos com os modelos de GradientBoosting e de XGBoost, tente melhorar o desempenho do classificador de crédito com relação ao lucro esperado. Lembre-se de checar a documentação para identificar os hiperparâmetros que podem ser trabalhados em cada um deles. Nesse exercício, utilize os estimadores padrão das respectivas classes.\n",
    "\n"
   ]
  },
  {
   "cell_type": "code",
   "execution_count": null,
   "metadata": {},
   "outputs": [],
   "source": []
  },
  {
   "cell_type": "code",
   "execution_count": null,
   "metadata": {},
   "outputs": [],
   "source": []
  },
  {
   "cell_type": "markdown",
   "metadata": {},
   "source": [
    "### Exercício 2\n",
    "Repita o exercício 1, porém modificando o estimador base, conforme fizemos na demonstração, alterando seus hiperparâmetros também. ATENÇÃO: no caso do xgboost, isso deve ser feito de forma separada, ou seja, haverá um pipeline com o parâmetros gbtree e outro com o gblinear."
   ]
  },
  {
   "cell_type": "code",
   "execution_count": null,
   "metadata": {},
   "outputs": [],
   "source": []
  },
  {
   "cell_type": "code",
   "execution_count": null,
   "metadata": {},
   "outputs": [],
   "source": []
  },
  {
   "cell_type": "code",
   "execution_count": null,
   "metadata": {},
   "outputs": [],
   "source": []
  },
  {
   "cell_type": "code",
   "execution_count": null,
   "metadata": {},
   "outputs": [],
   "source": []
  },
  {
   "cell_type": "code",
   "execution_count": null,
   "metadata": {},
   "outputs": [],
   "source": []
  },
  {
   "cell_type": "markdown",
   "metadata": {},
   "source": [
    "### Exercício 3 (DESAFIO)\n",
    "Agora é com vocês ! Existe uma base de dados que descrever a produtividade de uma indústria (garments_worker_productivity.csv), portanto sendo um problema de regressão - target (actual_productivity). Nessa atividade você deverá:\n",
    "\n",
    "carregar a base de dados\n",
    "\n",
    "identificar a necessidade de tratar dados nulos\n",
    "\n",
    "calcule o lucro no pior cenário, melhor cenário e no cenário \"máximo\" - mais detalhes da função lucro abaixo\n",
    "\n",
    "configurar um processador de dados usando o ColumnTransformer, SimpleImputer e Pipeline, conforme você determinar\n",
    "\n",
    "separar uma base de treino e de teste, colocando 30 % para base de teste, sem estratificação\n",
    "\n",
    "configure um amostrador de validação cruzada de 5 folds sem estratificação (KFold)\n",
    "\n",
    "configure um Pipeline com o processamento, scaler (StandardScaler) e o modelo selecionado\n",
    "\n",
    "use um seletor de modelos RandomizedSearchCV\n",
    "\n",
    "teste os modelos AdaBoostRegressor, GradientBoostingRegressor, XGBoostRegressor\n",
    "\n",
    "você tem a liberdade de escolher os hiperparâmetros e estimadores base\n",
    "\n",
    "aplique a seguinte regra de negócios numa função para determinar o lucro\n",
    "\n",
    "se o erro for menor que -10 % em relação ao valor, deve-se pagar a execução do modelo (150) e o prejuízo de superestimar (p*2500)\n",
    "se o erro ficar entre -10 % e -1 % em relação ao valor, paga-se a execução do modelo (150) e metade do prejuízo (p*1250)\n",
    "se o erro ficar entre -1 % e + 1 % em relação ao valor, paga-se a execução do modelo (150)\n",
    "se o erro ficar entre 1 % e e 10 %, paga-se o modelo (150) porém ganha-se metade do lucro total (p*1000)\n",
    "se o erro for maior que 10 %, paga-se o modelo (150) porém se ganha o lucro total (p*2000)"
   ]
  },
  {
   "cell_type": "code",
   "execution_count": null,
   "metadata": {},
   "outputs": [],
   "source": []
  },
  {
   "cell_type": "code",
   "execution_count": null,
   "metadata": {},
   "outputs": [],
   "source": []
  },
  {
   "cell_type": "code",
   "execution_count": null,
   "metadata": {},
   "outputs": [],
   "source": []
  },
  {
   "cell_type": "code",
   "execution_count": null,
   "metadata": {},
   "outputs": [],
   "source": []
  },
  {
   "cell_type": "code",
   "execution_count": null,
   "metadata": {},
   "outputs": [],
   "source": [
    "def penalty(x):\n",
    "    if x < -0.1:\n",
    "        return -2500\n",
    "    elif ((x >= -0.1) & (x < -0.01)):\n",
    "        return -1250\n",
    "    elif ((x >= -0.01) & (x < 0.01)):\n",
    "        return 0\n",
    "    elif ((x >= 0.01) & (x < 0.1)):\n",
    "        return 1000\n",
    "    else:\n",
    "        return 2000\n",
    "\n",
    "def lucro_f(y_real, ypred):\n",
    "    data = pd.DataFrame(y_real, columns = ['real'])\n",
    "    data['pred'] = ypred\n",
    "\n",
    "    data['erro_p'] = (data['real'] - data['pred']) / data['real']\n",
    "\n",
    "    data['penalty'] = data.erro_p.apply(penalty)\n",
    "    data['penalty'] -= 150\n",
    "\n",
    "    return data.penalty.sum()"
   ]
  },
  {
   "cell_type": "code",
   "execution_count": null,
   "metadata": {},
   "outputs": [],
   "source": [
    "# Para o pior caso\n",
    "\n",
    "lucro_f(y_test, 0.75*y_test)\n",
    "\n",
    "# Para o melhor caso \n",
    "\n",
    "lucro_f(y_test, 1.75*y_test)"
   ]
  },
  {
   "cell_type": "markdown",
   "metadata": {},
   "source": []
  }
 ],
 "metadata": {
  "interpreter": {
   "hash": "f1ba8794fa85fbaa82e75e2932815913cb5407855996c12a16cc8e292cbcd9f4"
  },
  "kernelspec": {
   "display_name": "Python 3",
   "language": "python",
   "name": "python3"
  },
  "language_info": {
   "codemirror_mode": {
    "name": "ipython",
    "version": 3
   },
   "file_extension": ".py",
   "mimetype": "text/x-python",
   "name": "python",
   "nbconvert_exporter": "python",
   "pygments_lexer": "ipython3",
   "version": "3.8.8"
  }
 },
 "nbformat": 4,
 "nbformat_minor": 2
}
