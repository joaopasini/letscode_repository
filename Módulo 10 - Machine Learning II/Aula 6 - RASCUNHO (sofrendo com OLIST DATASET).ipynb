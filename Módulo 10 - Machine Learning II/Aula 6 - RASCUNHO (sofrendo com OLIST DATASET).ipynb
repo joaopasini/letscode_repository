{
 "cells": [
  {
   "cell_type": "markdown",
   "id": "747e09ee",
   "metadata": {},
   "source": [
    "# ATENÇÃO! \n",
    "\n",
    "Este é o notebook de rascunho com uma tentativa de clusterização da base de clientes da ollist, organizadana no outro notebook \"organizando_dataset_olist.ipynb\". \n",
    "\n",
    "O problema era complexo demais para ser abordado na aula, mas vale a averiguação com calma do que pode ser feito. \n",
    "\n",
    "Fica ai o desafio! ;)"
   ]
  },
  {
   "cell_type": "markdown",
   "id": "9723bcb7-f16d-4c2e-a19c-c09219931816",
   "metadata": {},
   "source": [
    "# Aula 6 - Aprendizagem não-supervisionada e K-MEANS\n",
    "\n",
    "Por onde vamos passar? \n",
    "\n",
    "- 1) Aprendizagem não-supervisionada? Onde vive? O que come?;\n",
    "- 2) Utilizando um exemplo com K-means;\n",
    "- 3) Afinal, o que o K-means está fazendo?;\n",
    "- 4) Agora que sabemos, vamos resolver um problema real."
   ]
  },
  {
   "cell_type": "code",
   "execution_count": null,
   "id": "43d02728-7360-4201-9a85-fa866afd9cd6",
   "metadata": {},
   "outputs": [],
   "source": []
  },
  {
   "cell_type": "markdown",
   "id": "492c2deb-8adf-4717-8260-5b6b43cf2c5c",
   "metadata": {},
   "source": [
    "# Agora, vamos atacar um problema real"
   ]
  },
  {
   "cell_type": "code",
   "execution_count": 132,
   "id": "2202f9e8-96d2-4159-9d53-a83730cc3263",
   "metadata": {},
   "outputs": [
    {
     "data": {
      "text/plain": [
       "(117604, 22)"
      ]
     },
     "execution_count": 132,
     "metadata": {},
     "output_type": "execute_result"
    }
   ],
   "source": [
    "olist = pd.read_csv(\"dataset_olist/olist_dataset_aula.csv\")\n",
    "olist.shape"
   ]
  },
  {
   "cell_type": "code",
   "execution_count": 133,
   "id": "0466e924-4d6f-4da4-bbc9-a75938c83533",
   "metadata": {},
   "outputs": [
    {
     "data": {
      "text/html": [
       "<div>\n",
       "<style scoped>\n",
       "    .dataframe tbody tr th:only-of-type {\n",
       "        vertical-align: middle;\n",
       "    }\n",
       "\n",
       "    .dataframe tbody tr th {\n",
       "        vertical-align: top;\n",
       "    }\n",
       "\n",
       "    .dataframe thead th {\n",
       "        text-align: right;\n",
       "    }\n",
       "</style>\n",
       "<table border=\"1\" class=\"dataframe\">\n",
       "  <thead>\n",
       "    <tr style=\"text-align: right;\">\n",
       "      <th></th>\n",
       "      <th>order_id</th>\n",
       "      <th>order_item_id</th>\n",
       "      <th>product_id</th>\n",
       "      <th>seller_id</th>\n",
       "      <th>shipping_limit_date</th>\n",
       "      <th>price</th>\n",
       "      <th>freight_value</th>\n",
       "      <th>payment_sequential</th>\n",
       "      <th>payment_type</th>\n",
       "      <th>payment_installments</th>\n",
       "      <th>...</th>\n",
       "      <th>order_status</th>\n",
       "      <th>order_purchase_timestamp</th>\n",
       "      <th>order_approved_at</th>\n",
       "      <th>order_delivered_carrier_date</th>\n",
       "      <th>order_delivered_customer_date</th>\n",
       "      <th>order_estimated_delivery_date</th>\n",
       "      <th>customer_unique_id</th>\n",
       "      <th>customer_zip_code_prefix</th>\n",
       "      <th>customer_city</th>\n",
       "      <th>customer_state</th>\n",
       "    </tr>\n",
       "  </thead>\n",
       "  <tbody>\n",
       "    <tr>\n",
       "      <th>0</th>\n",
       "      <td>00010242fe8c5a6d1ba2dd792cb16214</td>\n",
       "      <td>1</td>\n",
       "      <td>4244733e06e7ecb4970a6e2683c13e61</td>\n",
       "      <td>48436dade18ac8b2bce089ec2a041202</td>\n",
       "      <td>2017-09-19 09:45:35</td>\n",
       "      <td>58.90</td>\n",
       "      <td>13.29</td>\n",
       "      <td>1.0</td>\n",
       "      <td>credit_card</td>\n",
       "      <td>2.0</td>\n",
       "      <td>...</td>\n",
       "      <td>delivered</td>\n",
       "      <td>2017-09-13 08:59:02</td>\n",
       "      <td>2017-09-13 09:45:35</td>\n",
       "      <td>2017-09-19 18:34:16</td>\n",
       "      <td>2017-09-20 23:43:48</td>\n",
       "      <td>2017-09-29 00:00:00</td>\n",
       "      <td>871766c5855e863f6eccc05f988b23cb</td>\n",
       "      <td>28013</td>\n",
       "      <td>campos dos goytacazes</td>\n",
       "      <td>RJ</td>\n",
       "    </tr>\n",
       "    <tr>\n",
       "      <th>1</th>\n",
       "      <td>00018f77f2f0320c557190d7a144bdd3</td>\n",
       "      <td>1</td>\n",
       "      <td>e5f2d52b802189ee658865ca93d83a8f</td>\n",
       "      <td>dd7ddc04e1b6c2c614352b383efe2d36</td>\n",
       "      <td>2017-05-03 11:05:13</td>\n",
       "      <td>239.90</td>\n",
       "      <td>19.93</td>\n",
       "      <td>1.0</td>\n",
       "      <td>credit_card</td>\n",
       "      <td>3.0</td>\n",
       "      <td>...</td>\n",
       "      <td>delivered</td>\n",
       "      <td>2017-04-26 10:53:06</td>\n",
       "      <td>2017-04-26 11:05:13</td>\n",
       "      <td>2017-05-04 14:35:00</td>\n",
       "      <td>2017-05-12 16:04:24</td>\n",
       "      <td>2017-05-15 00:00:00</td>\n",
       "      <td>eb28e67c4c0b83846050ddfb8a35d051</td>\n",
       "      <td>15775</td>\n",
       "      <td>santa fe do sul</td>\n",
       "      <td>SP</td>\n",
       "    </tr>\n",
       "    <tr>\n",
       "      <th>2</th>\n",
       "      <td>000229ec398224ef6ca0657da4fc703e</td>\n",
       "      <td>1</td>\n",
       "      <td>c777355d18b72b67abbeef9df44fd0fd</td>\n",
       "      <td>5b51032eddd242adc84c38acab88f23d</td>\n",
       "      <td>2018-01-18 14:48:30</td>\n",
       "      <td>199.00</td>\n",
       "      <td>17.87</td>\n",
       "      <td>1.0</td>\n",
       "      <td>credit_card</td>\n",
       "      <td>5.0</td>\n",
       "      <td>...</td>\n",
       "      <td>delivered</td>\n",
       "      <td>2018-01-14 14:33:31</td>\n",
       "      <td>2018-01-14 14:48:30</td>\n",
       "      <td>2018-01-16 12:36:48</td>\n",
       "      <td>2018-01-22 13:19:16</td>\n",
       "      <td>2018-02-05 00:00:00</td>\n",
       "      <td>3818d81c6709e39d06b2738a8d3a2474</td>\n",
       "      <td>35661</td>\n",
       "      <td>para de minas</td>\n",
       "      <td>MG</td>\n",
       "    </tr>\n",
       "    <tr>\n",
       "      <th>3</th>\n",
       "      <td>00024acbcdf0a6daa1e931b038114c75</td>\n",
       "      <td>1</td>\n",
       "      <td>7634da152a4610f1595efa32f14722fc</td>\n",
       "      <td>9d7a1d34a5052409006425275ba1c2b4</td>\n",
       "      <td>2018-08-15 10:10:18</td>\n",
       "      <td>12.99</td>\n",
       "      <td>12.79</td>\n",
       "      <td>1.0</td>\n",
       "      <td>credit_card</td>\n",
       "      <td>2.0</td>\n",
       "      <td>...</td>\n",
       "      <td>delivered</td>\n",
       "      <td>2018-08-08 10:00:35</td>\n",
       "      <td>2018-08-08 10:10:18</td>\n",
       "      <td>2018-08-10 13:28:00</td>\n",
       "      <td>2018-08-14 13:32:39</td>\n",
       "      <td>2018-08-20 00:00:00</td>\n",
       "      <td>af861d436cfc08b2c2ddefd0ba074622</td>\n",
       "      <td>12952</td>\n",
       "      <td>atibaia</td>\n",
       "      <td>SP</td>\n",
       "    </tr>\n",
       "    <tr>\n",
       "      <th>4</th>\n",
       "      <td>00042b26cf59d7ce69dfabb4e55b4fd9</td>\n",
       "      <td>1</td>\n",
       "      <td>ac6c3623068f30de03045865e4e10089</td>\n",
       "      <td>df560393f3a51e74553ab94004ba5c87</td>\n",
       "      <td>2017-02-13 13:57:51</td>\n",
       "      <td>199.90</td>\n",
       "      <td>18.14</td>\n",
       "      <td>1.0</td>\n",
       "      <td>credit_card</td>\n",
       "      <td>3.0</td>\n",
       "      <td>...</td>\n",
       "      <td>delivered</td>\n",
       "      <td>2017-02-04 13:57:51</td>\n",
       "      <td>2017-02-04 14:10:13</td>\n",
       "      <td>2017-02-16 09:46:09</td>\n",
       "      <td>2017-03-01 16:42:31</td>\n",
       "      <td>2017-03-17 00:00:00</td>\n",
       "      <td>64b576fb70d441e8f1b2d7d446e483c5</td>\n",
       "      <td>13226</td>\n",
       "      <td>varzea paulista</td>\n",
       "      <td>SP</td>\n",
       "    </tr>\n",
       "  </tbody>\n",
       "</table>\n",
       "<p>5 rows × 22 columns</p>\n",
       "</div>"
      ],
      "text/plain": [
       "                           order_id  order_item_id  \\\n",
       "0  00010242fe8c5a6d1ba2dd792cb16214              1   \n",
       "1  00018f77f2f0320c557190d7a144bdd3              1   \n",
       "2  000229ec398224ef6ca0657da4fc703e              1   \n",
       "3  00024acbcdf0a6daa1e931b038114c75              1   \n",
       "4  00042b26cf59d7ce69dfabb4e55b4fd9              1   \n",
       "\n",
       "                         product_id                         seller_id  \\\n",
       "0  4244733e06e7ecb4970a6e2683c13e61  48436dade18ac8b2bce089ec2a041202   \n",
       "1  e5f2d52b802189ee658865ca93d83a8f  dd7ddc04e1b6c2c614352b383efe2d36   \n",
       "2  c777355d18b72b67abbeef9df44fd0fd  5b51032eddd242adc84c38acab88f23d   \n",
       "3  7634da152a4610f1595efa32f14722fc  9d7a1d34a5052409006425275ba1c2b4   \n",
       "4  ac6c3623068f30de03045865e4e10089  df560393f3a51e74553ab94004ba5c87   \n",
       "\n",
       "   shipping_limit_date   price  freight_value  payment_sequential  \\\n",
       "0  2017-09-19 09:45:35   58.90          13.29                 1.0   \n",
       "1  2017-05-03 11:05:13  239.90          19.93                 1.0   \n",
       "2  2018-01-18 14:48:30  199.00          17.87                 1.0   \n",
       "3  2018-08-15 10:10:18   12.99          12.79                 1.0   \n",
       "4  2017-02-13 13:57:51  199.90          18.14                 1.0   \n",
       "\n",
       "  payment_type  payment_installments  ...  order_status  \\\n",
       "0  credit_card                   2.0  ...     delivered   \n",
       "1  credit_card                   3.0  ...     delivered   \n",
       "2  credit_card                   5.0  ...     delivered   \n",
       "3  credit_card                   2.0  ...     delivered   \n",
       "4  credit_card                   3.0  ...     delivered   \n",
       "\n",
       "  order_purchase_timestamp    order_approved_at order_delivered_carrier_date  \\\n",
       "0      2017-09-13 08:59:02  2017-09-13 09:45:35          2017-09-19 18:34:16   \n",
       "1      2017-04-26 10:53:06  2017-04-26 11:05:13          2017-05-04 14:35:00   \n",
       "2      2018-01-14 14:33:31  2018-01-14 14:48:30          2018-01-16 12:36:48   \n",
       "3      2018-08-08 10:00:35  2018-08-08 10:10:18          2018-08-10 13:28:00   \n",
       "4      2017-02-04 13:57:51  2017-02-04 14:10:13          2017-02-16 09:46:09   \n",
       "\n",
       "  order_delivered_customer_date order_estimated_delivery_date  \\\n",
       "0           2017-09-20 23:43:48           2017-09-29 00:00:00   \n",
       "1           2017-05-12 16:04:24           2017-05-15 00:00:00   \n",
       "2           2018-01-22 13:19:16           2018-02-05 00:00:00   \n",
       "3           2018-08-14 13:32:39           2018-08-20 00:00:00   \n",
       "4           2017-03-01 16:42:31           2017-03-17 00:00:00   \n",
       "\n",
       "                 customer_unique_id customer_zip_code_prefix  \\\n",
       "0  871766c5855e863f6eccc05f988b23cb                    28013   \n",
       "1  eb28e67c4c0b83846050ddfb8a35d051                    15775   \n",
       "2  3818d81c6709e39d06b2738a8d3a2474                    35661   \n",
       "3  af861d436cfc08b2c2ddefd0ba074622                    12952   \n",
       "4  64b576fb70d441e8f1b2d7d446e483c5                    13226   \n",
       "\n",
       "           customer_city  customer_state  \n",
       "0  campos dos goytacazes              RJ  \n",
       "1        santa fe do sul              SP  \n",
       "2          para de minas              MG  \n",
       "3                atibaia              SP  \n",
       "4        varzea paulista              SP  \n",
       "\n",
       "[5 rows x 22 columns]"
      ]
     },
     "execution_count": 133,
     "metadata": {},
     "output_type": "execute_result"
    }
   ],
   "source": [
    "olist.head()"
   ]
  },
  {
   "cell_type": "code",
   "execution_count": 134,
   "id": "ae36f0ba-39aa-4af7-8cac-f12e640512db",
   "metadata": {},
   "outputs": [],
   "source": [
    "dt = olist.iloc[:5000, :]"
   ]
  },
  {
   "cell_type": "code",
   "execution_count": 135,
   "id": "5c196171-75df-48ab-9fbe-ba8169be5990",
   "metadata": {},
   "outputs": [
    {
     "data": {
      "text/plain": [
       "order_id                           0\n",
       "order_item_id                      0\n",
       "product_id                         0\n",
       "seller_id                          0\n",
       "shipping_limit_date                0\n",
       "price                              0\n",
       "freight_value                      0\n",
       "payment_sequential                 0\n",
       "payment_type                       0\n",
       "payment_installments               0\n",
       "payment_value                      0\n",
       "customer_id                        0\n",
       "order_status                       0\n",
       "order_purchase_timestamp           0\n",
       "order_approved_at                  0\n",
       "order_delivered_carrier_date      46\n",
       "order_delivered_customer_date    101\n",
       "order_estimated_delivery_date      0\n",
       "customer_unique_id                 0\n",
       "customer_zip_code_prefix           0\n",
       "customer_city                      0\n",
       "customer_state                     0\n",
       "dtype: int64"
      ]
     },
     "execution_count": 135,
     "metadata": {},
     "output_type": "execute_result"
    }
   ],
   "source": [
    "dt.isnull().sum()"
   ]
  },
  {
   "cell_type": "code",
   "execution_count": 136,
   "id": "3b6369c5-b69d-4374-8238-537023ceea92",
   "metadata": {},
   "outputs": [
    {
     "data": {
      "text/plain": [
       "'2016-10-04 09:06:10'"
      ]
     },
     "execution_count": 136,
     "metadata": {},
     "output_type": "execute_result"
    }
   ],
   "source": [
    "dt[\"order_purchase_timestamp\"].min()"
   ]
  },
  {
   "cell_type": "code",
   "execution_count": 137,
   "id": "ce6e9f68-a0bf-47c9-beb6-8f2341fe31c3",
   "metadata": {},
   "outputs": [
    {
     "data": {
      "text/plain": [
       "'2018-08-29 14:52:00'"
      ]
     },
     "execution_count": 137,
     "metadata": {},
     "output_type": "execute_result"
    }
   ],
   "source": [
    "dt[\"order_purchase_timestamp\"].max()"
   ]
  },
  {
   "cell_type": "code",
   "execution_count": 138,
   "id": "f239d175-1b15-4201-931e-ad36b1ab6a06",
   "metadata": {},
   "outputs": [
    {
     "data": {
      "text/plain": [
       "Index(['order_id', 'order_item_id', 'product_id', 'seller_id',\n",
       "       'shipping_limit_date', 'price', 'freight_value', 'payment_sequential',\n",
       "       'payment_type', 'payment_installments', 'payment_value', 'customer_id',\n",
       "       'order_status', 'order_purchase_timestamp', 'order_approved_at',\n",
       "       'order_delivered_carrier_date', 'order_delivered_customer_date',\n",
       "       'order_estimated_delivery_date', 'customer_unique_id',\n",
       "       'customer_zip_code_prefix', 'customer_city', 'customer_state'],\n",
       "      dtype='object')"
      ]
     },
     "execution_count": 138,
     "metadata": {},
     "output_type": "execute_result"
    }
   ],
   "source": [
    "dt.columns"
   ]
  },
  {
   "cell_type": "code",
   "execution_count": 139,
   "id": "a04ee2ee-ea62-4f5d-b354-faaa72731460",
   "metadata": {},
   "outputs": [
    {
     "name": "stderr",
     "output_type": "stream",
     "text": [
      "C:\\Users\\r-omd\\AppData\\Local\\Temp\\ipykernel_72060\\3039592857.py:1: SettingWithCopyWarning: \n",
      "A value is trying to be set on a copy of a slice from a DataFrame.\n",
      "Try using .loc[row_indexer,col_indexer] = value instead\n",
      "\n",
      "See the caveats in the documentation: https://pandas.pydata.org/pandas-docs/stable/user_guide/indexing.html#returning-a-view-versus-a-copy\n",
      "  dt[\"order_purchase_timestamp\"] = pd.to_datetime(dt[\"order_purchase_timestamp\"])\n"
     ]
    }
   ],
   "source": [
    "dt[\"order_purchase_timestamp\"] = pd.to_datetime(dt[\"order_purchase_timestamp\"])"
   ]
  },
  {
   "cell_type": "code",
   "execution_count": 140,
   "id": "49c32927-8d0e-4d6f-8b70-07dda8a77eaa",
   "metadata": {},
   "outputs": [],
   "source": [
    "dt_cluster = dt.groupby([\"customer_id\"], as_index = False)[[\"price\", \"order_purchase_timestamp\"]].agg({\"price\":[\"mean\",\"size\"],\n",
    "                                                                                                       \"order_purchase_timestamp\": \"max\"})"
   ]
  },
  {
   "cell_type": "code",
   "execution_count": 141,
   "id": "f9d0cb86-4617-489d-9b07-8c14730bbb69",
   "metadata": {},
   "outputs": [
    {
     "data": {
      "text/html": [
       "<div>\n",
       "<style scoped>\n",
       "    .dataframe tbody tr th:only-of-type {\n",
       "        vertical-align: middle;\n",
       "    }\n",
       "\n",
       "    .dataframe tbody tr th {\n",
       "        vertical-align: top;\n",
       "    }\n",
       "\n",
       "    .dataframe thead tr th {\n",
       "        text-align: left;\n",
       "    }\n",
       "</style>\n",
       "<table border=\"1\" class=\"dataframe\">\n",
       "  <thead>\n",
       "    <tr>\n",
       "      <th></th>\n",
       "      <th>customer_id</th>\n",
       "      <th colspan=\"2\" halign=\"left\">price</th>\n",
       "      <th>order_purchase_timestamp</th>\n",
       "    </tr>\n",
       "    <tr>\n",
       "      <th></th>\n",
       "      <th></th>\n",
       "      <th>mean</th>\n",
       "      <th>size</th>\n",
       "      <th>max</th>\n",
       "    </tr>\n",
       "  </thead>\n",
       "  <tbody>\n",
       "    <tr>\n",
       "      <th>0</th>\n",
       "      <td>000379cdec625522490c315e70c7a9fb</td>\n",
       "      <td>93.00</td>\n",
       "      <td>1</td>\n",
       "      <td>2018-04-02 13:42:17</td>\n",
       "    </tr>\n",
       "    <tr>\n",
       "      <th>1</th>\n",
       "      <td>000419c5494106c306a97b5635748086</td>\n",
       "      <td>34.30</td>\n",
       "      <td>1</td>\n",
       "      <td>2018-03-02 17:47:40</td>\n",
       "    </tr>\n",
       "    <tr>\n",
       "      <th>2</th>\n",
       "      <td>0009a69b72033b2d0ec8c69fc70ef768</td>\n",
       "      <td>159.90</td>\n",
       "      <td>1</td>\n",
       "      <td>2017-04-28 13:36:30</td>\n",
       "    </tr>\n",
       "    <tr>\n",
       "      <th>3</th>\n",
       "      <td>002b24cb2cd0c3e575040dbd278885e3</td>\n",
       "      <td>24.99</td>\n",
       "      <td>1</td>\n",
       "      <td>2018-05-21 23:17:32</td>\n",
       "    </tr>\n",
       "    <tr>\n",
       "      <th>4</th>\n",
       "      <td>004a2b3e8b026284407c620f4f01f686</td>\n",
       "      <td>138.00</td>\n",
       "      <td>1</td>\n",
       "      <td>2018-04-18 22:19:28</td>\n",
       "    </tr>\n",
       "  </tbody>\n",
       "</table>\n",
       "</div>"
      ],
      "text/plain": [
       "                        customer_id   price      order_purchase_timestamp\n",
       "                                       mean size                      max\n",
       "0  000379cdec625522490c315e70c7a9fb   93.00    1      2018-04-02 13:42:17\n",
       "1  000419c5494106c306a97b5635748086   34.30    1      2018-03-02 17:47:40\n",
       "2  0009a69b72033b2d0ec8c69fc70ef768  159.90    1      2017-04-28 13:36:30\n",
       "3  002b24cb2cd0c3e575040dbd278885e3   24.99    1      2018-05-21 23:17:32\n",
       "4  004a2b3e8b026284407c620f4f01f686  138.00    1      2018-04-18 22:19:28"
      ]
     },
     "execution_count": 141,
     "metadata": {},
     "output_type": "execute_result"
    }
   ],
   "source": [
    "dt_cluster.head()"
   ]
  },
  {
   "cell_type": "code",
   "execution_count": 142,
   "id": "ed2617b4-74f4-4c11-b79a-2296f523ba79",
   "metadata": {},
   "outputs": [],
   "source": [
    "dt_cluster.columns = [\"customer_id\", \"preco_medio\", \"quantidade\", \"ultima_compra\"]"
   ]
  },
  {
   "cell_type": "code",
   "execution_count": 143,
   "id": "e7c4330d-d577-4283-8f4a-24ea6d79930c",
   "metadata": {},
   "outputs": [
    {
     "data": {
      "text/html": [
       "<div>\n",
       "<style scoped>\n",
       "    .dataframe tbody tr th:only-of-type {\n",
       "        vertical-align: middle;\n",
       "    }\n",
       "\n",
       "    .dataframe tbody tr th {\n",
       "        vertical-align: top;\n",
       "    }\n",
       "\n",
       "    .dataframe thead th {\n",
       "        text-align: right;\n",
       "    }\n",
       "</style>\n",
       "<table border=\"1\" class=\"dataframe\">\n",
       "  <thead>\n",
       "    <tr style=\"text-align: right;\">\n",
       "      <th></th>\n",
       "      <th>customer_id</th>\n",
       "      <th>preco_medio</th>\n",
       "      <th>quantidade</th>\n",
       "      <th>ultima_compra</th>\n",
       "    </tr>\n",
       "  </thead>\n",
       "  <tbody>\n",
       "    <tr>\n",
       "      <th>0</th>\n",
       "      <td>000379cdec625522490c315e70c7a9fb</td>\n",
       "      <td>93.00</td>\n",
       "      <td>1</td>\n",
       "      <td>2018-04-02 13:42:17</td>\n",
       "    </tr>\n",
       "    <tr>\n",
       "      <th>1</th>\n",
       "      <td>000419c5494106c306a97b5635748086</td>\n",
       "      <td>34.30</td>\n",
       "      <td>1</td>\n",
       "      <td>2018-03-02 17:47:40</td>\n",
       "    </tr>\n",
       "    <tr>\n",
       "      <th>2</th>\n",
       "      <td>0009a69b72033b2d0ec8c69fc70ef768</td>\n",
       "      <td>159.90</td>\n",
       "      <td>1</td>\n",
       "      <td>2017-04-28 13:36:30</td>\n",
       "    </tr>\n",
       "    <tr>\n",
       "      <th>3</th>\n",
       "      <td>002b24cb2cd0c3e575040dbd278885e3</td>\n",
       "      <td>24.99</td>\n",
       "      <td>1</td>\n",
       "      <td>2018-05-21 23:17:32</td>\n",
       "    </tr>\n",
       "    <tr>\n",
       "      <th>4</th>\n",
       "      <td>004a2b3e8b026284407c620f4f01f686</td>\n",
       "      <td>138.00</td>\n",
       "      <td>1</td>\n",
       "      <td>2018-04-18 22:19:28</td>\n",
       "    </tr>\n",
       "  </tbody>\n",
       "</table>\n",
       "</div>"
      ],
      "text/plain": [
       "                        customer_id  preco_medio  quantidade  \\\n",
       "0  000379cdec625522490c315e70c7a9fb        93.00           1   \n",
       "1  000419c5494106c306a97b5635748086        34.30           1   \n",
       "2  0009a69b72033b2d0ec8c69fc70ef768       159.90           1   \n",
       "3  002b24cb2cd0c3e575040dbd278885e3        24.99           1   \n",
       "4  004a2b3e8b026284407c620f4f01f686       138.00           1   \n",
       "\n",
       "        ultima_compra  \n",
       "0 2018-04-02 13:42:17  \n",
       "1 2018-03-02 17:47:40  \n",
       "2 2017-04-28 13:36:30  \n",
       "3 2018-05-21 23:17:32  \n",
       "4 2018-04-18 22:19:28  "
      ]
     },
     "execution_count": 143,
     "metadata": {},
     "output_type": "execute_result"
    }
   ],
   "source": [
    "dt_cluster.head()"
   ]
  },
  {
   "cell_type": "code",
   "execution_count": 144,
   "id": "6de9f4cf-b71b-4983-a0c9-d2feb35b7f63",
   "metadata": {},
   "outputs": [
    {
     "data": {
      "text/plain": [
       "Timestamp('2022-06-06 00:00:00')"
      ]
     },
     "execution_count": 144,
     "metadata": {},
     "output_type": "execute_result"
    }
   ],
   "source": [
    "import datetime\n",
    "pd.to_datetime(datetime.date.today())"
   ]
  },
  {
   "cell_type": "code",
   "execution_count": 145,
   "id": "412ee732-7907-4e6f-9557-e6e3e52ca522",
   "metadata": {},
   "outputs": [],
   "source": [
    "dt_cluster[\"recencia\"] = (pd.to_datetime(datetime.date.today()) - dt_cluster[\"ultima_compra\"]).dt.days"
   ]
  },
  {
   "cell_type": "code",
   "execution_count": 146,
   "id": "c3ea629e-f03a-44e6-8f0b-8f263d34a84e",
   "metadata": {},
   "outputs": [
    {
     "data": {
      "text/html": [
       "<div>\n",
       "<style scoped>\n",
       "    .dataframe tbody tr th:only-of-type {\n",
       "        vertical-align: middle;\n",
       "    }\n",
       "\n",
       "    .dataframe tbody tr th {\n",
       "        vertical-align: top;\n",
       "    }\n",
       "\n",
       "    .dataframe thead th {\n",
       "        text-align: right;\n",
       "    }\n",
       "</style>\n",
       "<table border=\"1\" class=\"dataframe\">\n",
       "  <thead>\n",
       "    <tr style=\"text-align: right;\">\n",
       "      <th></th>\n",
       "      <th>customer_id</th>\n",
       "      <th>preco_medio</th>\n",
       "      <th>quantidade</th>\n",
       "      <th>ultima_compra</th>\n",
       "      <th>recencia</th>\n",
       "    </tr>\n",
       "  </thead>\n",
       "  <tbody>\n",
       "    <tr>\n",
       "      <th>1253</th>\n",
       "      <td>496630b6740bcca28fce9ba50d8a26ef</td>\n",
       "      <td>24.90</td>\n",
       "      <td>1</td>\n",
       "      <td>2018-08-29 14:52:00</td>\n",
       "      <td>1376</td>\n",
       "    </tr>\n",
       "    <tr>\n",
       "      <th>498</th>\n",
       "      <td>1c3d8766b5f8b24d7e95001ce31d1d38</td>\n",
       "      <td>7.50</td>\n",
       "      <td>1</td>\n",
       "      <td>2018-08-28 18:49:20</td>\n",
       "      <td>1377</td>\n",
       "    </tr>\n",
       "    <tr>\n",
       "      <th>204</th>\n",
       "      <td>0b5f6687d659478f1747caed607c4ec5</td>\n",
       "      <td>59.90</td>\n",
       "      <td>1</td>\n",
       "      <td>2018-08-28 21:10:46</td>\n",
       "      <td>1377</td>\n",
       "    </tr>\n",
       "    <tr>\n",
       "      <th>646</th>\n",
       "      <td>25308e9c16af1a99ce8c88b431f0bca5</td>\n",
       "      <td>21.99</td>\n",
       "      <td>1</td>\n",
       "      <td>2018-08-27 15:04:59</td>\n",
       "      <td>1378</td>\n",
       "    </tr>\n",
       "    <tr>\n",
       "      <th>3358</th>\n",
       "      <td>c713fee6f70301b6bf60701902502703</td>\n",
       "      <td>85.00</td>\n",
       "      <td>1</td>\n",
       "      <td>2018-08-27 18:45:54</td>\n",
       "      <td>1378</td>\n",
       "    </tr>\n",
       "    <tr>\n",
       "      <th>...</th>\n",
       "      <td>...</td>\n",
       "      <td>...</td>\n",
       "      <td>...</td>\n",
       "      <td>...</td>\n",
       "      <td>...</td>\n",
       "    </tr>\n",
       "    <tr>\n",
       "      <th>2532</th>\n",
       "      <td>98661b627038780e9e655a56ebc23dc6</td>\n",
       "      <td>128.90</td>\n",
       "      <td>1</td>\n",
       "      <td>2016-10-07 02:41:42</td>\n",
       "      <td>2067</td>\n",
       "    </tr>\n",
       "    <tr>\n",
       "      <th>1356</th>\n",
       "      <td>51cc1e38d0489d588d7a687da73b2458</td>\n",
       "      <td>249.90</td>\n",
       "      <td>2</td>\n",
       "      <td>2016-10-06 10:47:15</td>\n",
       "      <td>2068</td>\n",
       "    </tr>\n",
       "    <tr>\n",
       "      <th>3887</th>\n",
       "      <td>e937151346d1bec664f5b80cd798bdd2</td>\n",
       "      <td>649.00</td>\n",
       "      <td>1</td>\n",
       "      <td>2016-10-05 15:17:57</td>\n",
       "      <td>2069</td>\n",
       "    </tr>\n",
       "    <tr>\n",
       "      <th>1324</th>\n",
       "      <td>4f3f778022aefa22b9f9e52d2c47edf3</td>\n",
       "      <td>49.99</td>\n",
       "      <td>1</td>\n",
       "      <td>2016-10-04 09:06:10</td>\n",
       "      <td>2070</td>\n",
       "    </tr>\n",
       "    <tr>\n",
       "      <th>3648</th>\n",
       "      <td>da1c9a7e7fa9de1d48ecd6d6e027313e</td>\n",
       "      <td>57.90</td>\n",
       "      <td>1</td>\n",
       "      <td>2016-10-04 19:01:13</td>\n",
       "      <td>2070</td>\n",
       "    </tr>\n",
       "  </tbody>\n",
       "</table>\n",
       "<p>4245 rows × 5 columns</p>\n",
       "</div>"
      ],
      "text/plain": [
       "                           customer_id  preco_medio  quantidade  \\\n",
       "1253  496630b6740bcca28fce9ba50d8a26ef        24.90           1   \n",
       "498   1c3d8766b5f8b24d7e95001ce31d1d38         7.50           1   \n",
       "204   0b5f6687d659478f1747caed607c4ec5        59.90           1   \n",
       "646   25308e9c16af1a99ce8c88b431f0bca5        21.99           1   \n",
       "3358  c713fee6f70301b6bf60701902502703        85.00           1   \n",
       "...                                ...          ...         ...   \n",
       "2532  98661b627038780e9e655a56ebc23dc6       128.90           1   \n",
       "1356  51cc1e38d0489d588d7a687da73b2458       249.90           2   \n",
       "3887  e937151346d1bec664f5b80cd798bdd2       649.00           1   \n",
       "1324  4f3f778022aefa22b9f9e52d2c47edf3        49.99           1   \n",
       "3648  da1c9a7e7fa9de1d48ecd6d6e027313e        57.90           1   \n",
       "\n",
       "           ultima_compra  recencia  \n",
       "1253 2018-08-29 14:52:00      1376  \n",
       "498  2018-08-28 18:49:20      1377  \n",
       "204  2018-08-28 21:10:46      1377  \n",
       "646  2018-08-27 15:04:59      1378  \n",
       "3358 2018-08-27 18:45:54      1378  \n",
       "...                  ...       ...  \n",
       "2532 2016-10-07 02:41:42      2067  \n",
       "1356 2016-10-06 10:47:15      2068  \n",
       "3887 2016-10-05 15:17:57      2069  \n",
       "1324 2016-10-04 09:06:10      2070  \n",
       "3648 2016-10-04 19:01:13      2070  \n",
       "\n",
       "[4245 rows x 5 columns]"
      ]
     },
     "execution_count": 146,
     "metadata": {},
     "output_type": "execute_result"
    }
   ],
   "source": [
    "dt_cluster.sort_values(\"recencia\")"
   ]
  },
  {
   "cell_type": "code",
   "execution_count": 156,
   "id": "8a79f175-747b-45b0-90b6-6734aa9d06e4",
   "metadata": {},
   "outputs": [],
   "source": [
    "from sklearn.preprocessing import StandardScaler"
   ]
  },
  {
   "cell_type": "code",
   "execution_count": 157,
   "id": "f241587f-2487-41c1-90e1-cbdbfae93f53",
   "metadata": {},
   "outputs": [],
   "source": [
    "scaler = StandardScaler()\n",
    "\n",
    "X = scaler.fit_transform(dt_cluster[[\"preco_medio\", \"quantidade\",\"recencia\"]])"
   ]
  },
  {
   "cell_type": "code",
   "execution_count": 158,
   "id": "5829e232-1554-4853-bf1e-d4deef4f1d9f",
   "metadata": {},
   "outputs": [],
   "source": [
    "lista_inercias = []\n",
    "lista_silhueta = []\n",
    "for k in range(2, 15):\n",
    "    kmeans = KMeans(n_clusters = k)\n",
    "    kmeans.fit(X)\n",
    "    inercia = kmeans.inertia_\n",
    "    labels = kmeans.labels_\n",
    "    silhueta = silhouette_score(X, labels)\n",
    "    lista_inercias.append(inercia)\n",
    "    lista_silhueta.append(silhueta)"
   ]
  },
  {
   "cell_type": "code",
   "execution_count": 159,
   "id": "2ffee3f8-1cae-4820-8a6a-b964d8860f0a",
   "metadata": {},
   "outputs": [
    {
     "data": {
      "text/plain": [
       "[<matplotlib.lines.Line2D at 0x13c4ba60b20>]"
      ]
     },
     "execution_count": 159,
     "metadata": {},
     "output_type": "execute_result"
    },
    {
     "data": {
      "image/png": "[encoded data removed]",
      "text/plain": [
       "<Figure size 432x288 with 1 Axes>"
      ]
     },
     "metadata": {
      "needs_background": "light"
     },
     "output_type": "display_data"
    }
   ],
   "source": [
    "plt.plot(range(2,15), lista_inercias, marker = \"o\")"
   ]
  },
  {
   "cell_type": "code",
   "execution_count": 160,
   "id": "3c58842d-4de8-4d85-af8e-5bbf716635ea",
   "metadata": {},
   "outputs": [
    {
     "data": {
      "text/plain": [
       "[<matplotlib.lines.Line2D at 0x13c4ba9e350>]"
      ]
     },
     "execution_count": 160,
     "metadata": {},
     "output_type": "execute_result"
    },
    {
     "data": {
      "image/png": "[encoded data removed]",
      "text/plain": [
       "<Figure size 432x288 with 1 Axes>"
      ]
     },
     "metadata": {
      "needs_background": "light"
     },
     "output_type": "display_data"
    }
   ],
   "source": [
    "plt.plot(range(2,15), lista_silhueta, marker = \"o\")"
   ]
  },
  {
   "cell_type": "code",
   "execution_count": 162,
   "id": "f894bb53-bf01-4713-ba44-e6a42ae3b8f7",
   "metadata": {},
   "outputs": [],
   "source": [
    "kmeans = KMeans(n_clusters = 6)\n",
    "kmeans.fit(X)\n",
    "dt_cluster[\"labels\"] = kmeans.labels_"
   ]
  },
  {
   "cell_type": "code",
   "execution_count": 164,
   "id": "cf0d1349-957f-47c9-a1dc-3f41c997b85d",
   "metadata": {},
   "outputs": [
    {
     "data": {
      "text/html": [
       "<div>\n",
       "<style scoped>\n",
       "    .dataframe tbody tr th:only-of-type {\n",
       "        vertical-align: middle;\n",
       "    }\n",
       "\n",
       "    .dataframe tbody tr th {\n",
       "        vertical-align: top;\n",
       "    }\n",
       "\n",
       "    .dataframe thead th {\n",
       "        text-align: right;\n",
       "    }\n",
       "</style>\n",
       "<table border=\"1\" class=\"dataframe\">\n",
       "  <thead>\n",
       "    <tr style=\"text-align: right;\">\n",
       "      <th></th>\n",
       "      <th>customer_id</th>\n",
       "      <th>preco_medio</th>\n",
       "      <th>quantidade</th>\n",
       "      <th>ultima_compra</th>\n",
       "      <th>recencia</th>\n",
       "      <th>labels</th>\n",
       "    </tr>\n",
       "  </thead>\n",
       "  <tbody>\n",
       "    <tr>\n",
       "      <th>0</th>\n",
       "      <td>000379cdec625522490c315e70c7a9fb</td>\n",
       "      <td>93.00</td>\n",
       "      <td>1</td>\n",
       "      <td>2018-04-02 13:42:17</td>\n",
       "      <td>1525</td>\n",
       "      <td>1</td>\n",
       "    </tr>\n",
       "    <tr>\n",
       "      <th>1</th>\n",
       "      <td>000419c5494106c306a97b5635748086</td>\n",
       "      <td>34.30</td>\n",
       "      <td>1</td>\n",
       "      <td>2018-03-02 17:47:40</td>\n",
       "      <td>1556</td>\n",
       "      <td>1</td>\n",
       "    </tr>\n",
       "    <tr>\n",
       "      <th>2</th>\n",
       "      <td>0009a69b72033b2d0ec8c69fc70ef768</td>\n",
       "      <td>159.90</td>\n",
       "      <td>1</td>\n",
       "      <td>2017-04-28 13:36:30</td>\n",
       "      <td>1864</td>\n",
       "      <td>0</td>\n",
       "    </tr>\n",
       "    <tr>\n",
       "      <th>3</th>\n",
       "      <td>002b24cb2cd0c3e575040dbd278885e3</td>\n",
       "      <td>24.99</td>\n",
       "      <td>1</td>\n",
       "      <td>2018-05-21 23:17:32</td>\n",
       "      <td>1476</td>\n",
       "      <td>1</td>\n",
       "    </tr>\n",
       "    <tr>\n",
       "      <th>4</th>\n",
       "      <td>004a2b3e8b026284407c620f4f01f686</td>\n",
       "      <td>138.00</td>\n",
       "      <td>1</td>\n",
       "      <td>2018-04-18 22:19:28</td>\n",
       "      <td>1509</td>\n",
       "      <td>1</td>\n",
       "    </tr>\n",
       "  </tbody>\n",
       "</table>\n",
       "</div>"
      ],
      "text/plain": [
       "                        customer_id  preco_medio  quantidade  \\\n",
       "0  000379cdec625522490c315e70c7a9fb        93.00           1   \n",
       "1  000419c5494106c306a97b5635748086        34.30           1   \n",
       "2  0009a69b72033b2d0ec8c69fc70ef768       159.90           1   \n",
       "3  002b24cb2cd0c3e575040dbd278885e3        24.99           1   \n",
       "4  004a2b3e8b026284407c620f4f01f686       138.00           1   \n",
       "\n",
       "        ultima_compra  recencia  labels  \n",
       "0 2018-04-02 13:42:17      1525       1  \n",
       "1 2018-03-02 17:47:40      1556       1  \n",
       "2 2017-04-28 13:36:30      1864       0  \n",
       "3 2018-05-21 23:17:32      1476       1  \n",
       "4 2018-04-18 22:19:28      1509       1  "
      ]
     },
     "execution_count": 164,
     "metadata": {},
     "output_type": "execute_result"
    }
   ],
   "source": [
    "dt_cluster.head()"
   ]
  },
  {
   "cell_type": "code",
   "execution_count": 167,
   "id": "cfc80db8-0a04-4c2a-9e56-a1e45a76e363",
   "metadata": {},
   "outputs": [],
   "source": [
    "dt_norm = pd.DataFrame(X, columns = [\"preco_medio_n\", \"quantidade_n\", \"recencia_n\"])\n",
    "dt_norm[\"labels\"] = kmeans.labels_"
   ]
  },
  {
   "cell_type": "code",
   "execution_count": 172,
   "id": "843440e3-e6c0-4954-baed-aee85f8a1e18",
   "metadata": {},
   "outputs": [
    {
     "data": {
      "text/plain": [
       "<seaborn.axisgrid.PairGrid at 0x13c814f9c30>"
      ]
     },
     "execution_count": 172,
     "metadata": {},
     "output_type": "execute_result"
    },
    {
     "data": {
      "image/png": "[encoded data removed]",
      "text/plain": [
       "<Figure size 582.375x540 with 12 Axes>"
      ]
     },
     "metadata": {
      "needs_background": "light"
     },
     "output_type": "display_data"
    }
   ],
   "source": [
    "sns.pairplot(dt_cluster, hue = \"labels\")"
   ]
  },
  {
   "cell_type": "code",
   "execution_count": null,
   "id": "03e02168-d729-450a-a7dc-90d8b55136d7",
   "metadata": {},
   "outputs": [],
   "source": []
  }
 ],
 "metadata": {
  "kernelspec": {
   "display_name": "Python 3 (ipykernel)",
   "language": "python",
   "name": "python3"
  },
  "language_info": {
   "codemirror_mode": {
    "name": "ipython",
    "version": 3
   },
   "file_extension": ".py",
   "mimetype": "text/x-python",
   "name": "python",
   "nbconvert_exporter": "python",
   "pygments_lexer": "ipython3",
   "version": "3.10.4"
  }
 },
 "nbformat": 4,
 "nbformat_minor": 5
}
