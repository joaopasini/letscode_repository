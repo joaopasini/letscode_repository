{
 "cells": [
  {
   "cell_type": "markdown",
   "id": "9723bcb7-f16d-4c2e-a19c-c09219931816",
   "metadata": {},
   "source": [
    "# Aula 6 - Aprendizagem não-supervisionada e K-MEANS\n",
    "\n",
    "Por onde vamos passar? \n",
    "\n",
    "- 1) Aprendizagem não-supervisionada? Onde vive? O que come?;\n",
    "- 2) Utilizando um exemplo com K-means;\n",
    "- 3) Afinal, o que o K-means está fazendo?;\n",
    "- 4) Agora que sabemos, vamos resolver um problema real."
   ]
  },
  {
   "cell_type": "markdown",
   "id": "d66849e1-f4da-476f-9d70-51a49f625301",
   "metadata": {},
   "source": [
    "![slide1](imagens/slide1.png)"
   ]
  },
  {
   "cell_type": "markdown",
   "id": "706cbf20-06dc-41bf-9fd8-e547c2b4ee3f",
   "metadata": {},
   "source": [
    "![slide2](imagens/slide2.png)"
   ]
  },
  {
   "cell_type": "markdown",
   "id": "24f93332-a085-45d4-8dd5-c61ff1bcbb8b",
   "metadata": {},
   "source": [
    "![slide3](imagens/slide3.png)"
   ]
  },
  {
   "cell_type": "code",
   "execution_count": 1,
   "id": "e1331c36-b46b-4d92-be49-d37f96eea0a1",
   "metadata": {},
   "outputs": [],
   "source": [
    "# Fazemos a importação das bibliotecas que serão utilizadas\n",
    "\n",
    "import pandas as pd \n",
    "import numpy as np \n",
    "import matplotlib.pyplot as plt \n",
    "import seaborn as sns "
   ]
  },
  {
   "cell_type": "code",
   "execution_count": 2,
   "id": "6322b8e0-6e2e-4801-a206-680885a12a3e",
   "metadata": {},
   "outputs": [],
   "source": [
    "# Vamos gerar um conjunto de dados mais simplificado para entender o funcionamento \n",
    "\n",
    "from sklearn.datasets import make_blobs\n",
    "\n",
    "X,y = make_blobs(n_samples = 300, n_features = 2,centers = 4, cluster_std = 0.6, random_state = 0)"
   ]
  },
  {
   "cell_type": "code",
   "execution_count": 173,
   "id": "52ff983c-acdd-4f25-8a22-86a4f089e850",
   "metadata": {},
   "outputs": [],
   "source": [
    "# usamos o y?\n",
    "# Não vamos usar o Y"
   ]
  },
  {
   "cell_type": "code",
   "execution_count": 3,
   "id": "fd617013-4332-4a32-9dfe-2451a346fcdd",
   "metadata": {},
   "outputs": [],
   "source": [
    "# transforma em dataframe\n",
    "df = pd.DataFrame(X, columns = [\"x1\", \"x2\"])"
   ]
  },
  {
   "cell_type": "code",
   "execution_count": 4,
   "id": "e4c7ff13-c37e-4db7-930d-912aa825ee7c",
   "metadata": {},
   "outputs": [
    {
     "data": {
      "text/html": [
       "<div>\n",
       "<style scoped>\n",
       "    .dataframe tbody tr th:only-of-type {\n",
       "        vertical-align: middle;\n",
       "    }\n",
       "\n",
       "    .dataframe tbody tr th {\n",
       "        vertical-align: top;\n",
       "    }\n",
       "\n",
       "    .dataframe thead th {\n",
       "        text-align: right;\n",
       "    }\n",
       "</style>\n",
       "<table border=\"1\" class=\"dataframe\">\n",
       "  <thead>\n",
       "    <tr style=\"text-align: right;\">\n",
       "      <th></th>\n",
       "      <th>x1</th>\n",
       "      <th>x2</th>\n",
       "    </tr>\n",
       "  </thead>\n",
       "  <tbody>\n",
       "    <tr>\n",
       "      <th>0</th>\n",
       "      <td>0.836857</td>\n",
       "      <td>2.136359</td>\n",
       "    </tr>\n",
       "    <tr>\n",
       "      <th>1</th>\n",
       "      <td>-1.413658</td>\n",
       "      <td>7.409623</td>\n",
       "    </tr>\n",
       "    <tr>\n",
       "      <th>2</th>\n",
       "      <td>1.155213</td>\n",
       "      <td>5.099619</td>\n",
       "    </tr>\n",
       "    <tr>\n",
       "      <th>3</th>\n",
       "      <td>-1.018616</td>\n",
       "      <td>7.814915</td>\n",
       "    </tr>\n",
       "    <tr>\n",
       "      <th>4</th>\n",
       "      <td>1.271351</td>\n",
       "      <td>1.892542</td>\n",
       "    </tr>\n",
       "  </tbody>\n",
       "</table>\n",
       "</div>"
      ],
      "text/plain": [
       "         x1        x2\n",
       "0  0.836857  2.136359\n",
       "1 -1.413658  7.409623\n",
       "2  1.155213  5.099619\n",
       "3 -1.018616  7.814915\n",
       "4  1.271351  1.892542"
      ]
     },
     "execution_count": 4,
     "metadata": {},
     "output_type": "execute_result"
    }
   ],
   "source": [
    "# visualiza o dataframe\n",
    "df.head()"
   ]
  },
  {
   "cell_type": "code",
   "execution_count": 6,
   "id": "69f67834-3aed-47da-bc4b-b1f9ff2d185c",
   "metadata": {},
   "outputs": [
    {
     "data": {
      "image/png": "[encoded data removed]",
      "text/plain": [
       "<Figure size 432x288 with 1 Axes>"
      ]
     },
     "metadata": {
      "needs_background": "light"
     },
     "output_type": "display_data"
    }
   ],
   "source": [
    "# plotar a figura para visualizar os agrupamentos\n",
    "sns.scatterplot(x = \"x1\", y = \"x2\", data = df);"
   ]
  },
  {
   "cell_type": "markdown",
   "id": "7816c414-2210-41f3-a611-74d341dca820",
   "metadata": {},
   "source": [
    "# Exercício: Aplicando o KMeans "
   ]
  },
  {
   "cell_type": "code",
   "execution_count": 8,
   "id": "d062de8c-aa05-4a0e-baaf-6900d6ad3696",
   "metadata": {},
   "outputs": [],
   "source": [
    "from sklearn.cluster import KMeans"
   ]
  },
  {
   "cell_type": "code",
   "execution_count": 9,
   "id": "8a70cb45-67d0-4f66-818a-474f90bbacb0",
   "metadata": {},
   "outputs": [],
   "source": [
    "# instancia o modelo\n",
    "kmeans = KMeans(n_clusters = 4 , max_iter = 300)"
   ]
  },
  {
   "cell_type": "code",
   "execution_count": 10,
   "id": "5ce414ab-a100-49d7-94f5-42c5814f598d",
   "metadata": {},
   "outputs": [
    {
     "data": {
      "text/plain": [
       "KMeans(n_clusters=4)"
      ]
     },
     "execution_count": 10,
     "metadata": {},
     "output_type": "execute_result"
    }
   ],
   "source": [
    "# treina o modelo\n",
    "kmeans.fit(df)"
   ]
  },
  {
   "cell_type": "code",
   "execution_count": 11,
   "id": "c25aff9a-37bf-43fc-af7e-1ff128d6c29d",
   "metadata": {},
   "outputs": [
    {
     "data": {
      "text/plain": [
       "array([3, 1, 2, 1, 3, 3, 0, 2, 1, 1, 0, 1, 2, 1, 3, 2, 2, 3, 0, 0, 3, 3,\n",
       "       2, 0, 0, 2, 3, 2, 0, 2, 1, 1, 2, 1, 1, 1, 1, 1, 0, 3, 2, 0, 2, 2,\n",
       "       0, 0, 1, 0, 1, 3, 0, 3, 1, 3, 3, 0, 1, 0, 1, 3, 1, 2, 1, 0, 0, 0,\n",
       "       1, 3, 1, 0, 2, 0, 1, 0, 0, 1, 0, 2, 3, 1, 3, 2, 3, 3, 1, 2, 3, 2,\n",
       "       1, 1, 2, 3, 1, 0, 0, 2, 3, 3, 2, 0, 1, 3, 1, 3, 2, 3, 3, 2, 1, 2,\n",
       "       0, 0, 3, 1, 3, 2, 1, 3, 3, 2, 0, 3, 0, 3, 3, 3, 3, 0, 3, 0, 1, 0,\n",
       "       0, 3, 1, 0, 0, 1, 2, 1, 1, 0, 2, 0, 2, 0, 1, 2, 1, 1, 1, 2, 1, 2,\n",
       "       3, 0, 1, 0, 3, 2, 1, 2, 2, 3, 2, 0, 0, 2, 3, 2, 2, 1, 3, 2, 0, 1,\n",
       "       3, 3, 2, 0, 3, 2, 0, 0, 2, 2, 2, 2, 3, 1, 2, 0, 2, 2, 0, 0, 0, 2,\n",
       "       0, 1, 2, 0, 3, 0, 2, 1, 0, 1, 2, 1, 2, 0, 2, 2, 1, 0, 0, 3, 3, 2,\n",
       "       1, 3, 3, 0, 3, 0, 2, 1, 1, 2, 2, 1, 2, 3, 0, 2, 3, 0, 1, 0, 3, 2,\n",
       "       3, 1, 1, 1, 1, 0, 0, 1, 2, 0, 3, 2, 0, 0, 0, 3, 3, 1, 2, 2, 0, 3,\n",
       "       1, 0, 2, 1, 2, 3, 3, 0, 0, 2, 3, 3, 3, 2, 1, 1, 3, 3, 2, 3, 3, 3,\n",
       "       1, 0, 1, 2, 3, 3, 1, 1, 1, 3, 3, 2, 1, 0])"
      ]
     },
     "execution_count": 11,
     "metadata": {},
     "output_type": "execute_result"
    }
   ],
   "source": [
    "# quais rótulos ele atribuiu em cada entrada?\n",
    "kmeans.labels_"
   ]
  },
  {
   "cell_type": "code",
   "execution_count": 12,
   "id": "d82a0022-ccbf-4b5d-a5f1-6332de5dbdf0",
   "metadata": {},
   "outputs": [
    {
     "data": {
      "text/plain": [
       "array([3, 1, 2, 1, 3, 3, 0, 2, 1, 1, 0, 1, 2, 1, 3, 2, 2, 3, 0, 0, 3, 3,\n",
       "       2, 0, 0, 2, 3, 2, 0, 2, 1, 1, 2, 1, 1, 1, 1, 1, 0, 3, 2, 0, 2, 2,\n",
       "       0, 0, 1, 0, 1, 3, 0, 3, 1, 3, 3, 0, 1, 0, 1, 3, 1, 2, 1, 0, 0, 0,\n",
       "       1, 3, 1, 0, 2, 0, 1, 0, 0, 1, 0, 2, 3, 1, 3, 2, 3, 3, 1, 2, 3, 2,\n",
       "       1, 1, 2, 3, 1, 0, 0, 2, 3, 3, 2, 0, 1, 3, 1, 3, 2, 3, 3, 2, 1, 2,\n",
       "       0, 0, 3, 1, 3, 2, 1, 3, 3, 2, 0, 3, 0, 3, 3, 3, 3, 0, 3, 0, 1, 0,\n",
       "       0, 3, 1, 0, 0, 1, 2, 1, 1, 0, 2, 0, 2, 0, 1, 2, 1, 1, 1, 2, 1, 2,\n",
       "       3, 0, 1, 0, 3, 2, 1, 2, 2, 3, 2, 0, 0, 2, 3, 2, 2, 1, 3, 2, 0, 1,\n",
       "       3, 3, 2, 0, 3, 2, 0, 0, 2, 2, 2, 2, 3, 1, 2, 0, 2, 2, 0, 0, 0, 2,\n",
       "       0, 1, 2, 0, 3, 0, 2, 1, 0, 1, 2, 1, 2, 0, 2, 2, 1, 0, 0, 3, 3, 2,\n",
       "       1, 3, 3, 0, 3, 0, 2, 1, 1, 2, 2, 1, 2, 3, 0, 2, 3, 0, 1, 0, 3, 2,\n",
       "       3, 1, 1, 1, 1, 0, 0, 1, 2, 0, 3, 2, 0, 0, 0, 3, 3, 1, 2, 2, 0, 3,\n",
       "       1, 0, 2, 1, 2, 3, 3, 0, 0, 2, 3, 3, 3, 2, 1, 1, 3, 3, 2, 3, 3, 3,\n",
       "       1, 0, 1, 2, 3, 3, 1, 1, 1, 3, 3, 2, 1, 0])"
      ]
     },
     "execution_count": 12,
     "metadata": {},
     "output_type": "execute_result"
    }
   ],
   "source": [
    "# Caso eu tenha algum dado novo, basta dar um predict \n",
    "kmeans.predict(df)"
   ]
  },
  {
   "cell_type": "code",
   "execution_count": 13,
   "id": "7f77bfba-7abe-45ae-b318-705b0d20d3be",
   "metadata": {},
   "outputs": [],
   "source": [
    "# salvar os rótulos no dataframe\n",
    "df[\"labels\"] = kmeans.labels_"
   ]
  },
  {
   "cell_type": "code",
   "execution_count": 14,
   "id": "b7eb43fb-f8b2-4aec-9e78-ff9b790845b1",
   "metadata": {},
   "outputs": [
    {
     "data": {
      "text/html": [
       "<div>\n",
       "<style scoped>\n",
       "    .dataframe tbody tr th:only-of-type {\n",
       "        vertical-align: middle;\n",
       "    }\n",
       "\n",
       "    .dataframe tbody tr th {\n",
       "        vertical-align: top;\n",
       "    }\n",
       "\n",
       "    .dataframe thead th {\n",
       "        text-align: right;\n",
       "    }\n",
       "</style>\n",
       "<table border=\"1\" class=\"dataframe\">\n",
       "  <thead>\n",
       "    <tr style=\"text-align: right;\">\n",
       "      <th></th>\n",
       "      <th>x1</th>\n",
       "      <th>x2</th>\n",
       "      <th>labels</th>\n",
       "    </tr>\n",
       "  </thead>\n",
       "  <tbody>\n",
       "    <tr>\n",
       "      <th>0</th>\n",
       "      <td>0.836857</td>\n",
       "      <td>2.136359</td>\n",
       "      <td>3</td>\n",
       "    </tr>\n",
       "    <tr>\n",
       "      <th>1</th>\n",
       "      <td>-1.413658</td>\n",
       "      <td>7.409623</td>\n",
       "      <td>1</td>\n",
       "    </tr>\n",
       "    <tr>\n",
       "      <th>2</th>\n",
       "      <td>1.155213</td>\n",
       "      <td>5.099619</td>\n",
       "      <td>2</td>\n",
       "    </tr>\n",
       "    <tr>\n",
       "      <th>3</th>\n",
       "      <td>-1.018616</td>\n",
       "      <td>7.814915</td>\n",
       "      <td>1</td>\n",
       "    </tr>\n",
       "    <tr>\n",
       "      <th>4</th>\n",
       "      <td>1.271351</td>\n",
       "      <td>1.892542</td>\n",
       "      <td>3</td>\n",
       "    </tr>\n",
       "  </tbody>\n",
       "</table>\n",
       "</div>"
      ],
      "text/plain": [
       "         x1        x2  labels\n",
       "0  0.836857  2.136359       3\n",
       "1 -1.413658  7.409623       1\n",
       "2  1.155213  5.099619       2\n",
       "3 -1.018616  7.814915       1\n",
       "4  1.271351  1.892542       3"
      ]
     },
     "execution_count": 14,
     "metadata": {},
     "output_type": "execute_result"
    }
   ],
   "source": [
    "# visualizamos os rótulos\n",
    "df.head()"
   ]
  },
  {
   "cell_type": "code",
   "execution_count": 15,
   "id": "1224af30-5877-4d44-bf64-1bbe107012c4",
   "metadata": {},
   "outputs": [
    {
     "data": {
      "image/png": "[encoded data removed]",
      "text/plain": [
       "<Figure size 432x288 with 1 Axes>"
      ]
     },
     "metadata": {
      "needs_background": "light"
     },
     "output_type": "display_data"
    }
   ],
   "source": [
    "# agora podemos plotar com os rótulos\n",
    "sns.scatterplot(x = \"x1\", y = \"x2\", data = df, hue = \"labels\", palette = \"tab10\");"
   ]
  },
  {
   "cell_type": "code",
   "execution_count": 16,
   "id": "efe80ba8-1e1a-4144-9f3f-a7ee7cf80054",
   "metadata": {},
   "outputs": [
    {
     "data": {
      "text/html": [
       "<div>\n",
       "<style scoped>\n",
       "    .dataframe tbody tr th:only-of-type {\n",
       "        vertical-align: middle;\n",
       "    }\n",
       "\n",
       "    .dataframe tbody tr th {\n",
       "        vertical-align: top;\n",
       "    }\n",
       "\n",
       "    .dataframe thead th {\n",
       "        text-align: right;\n",
       "    }\n",
       "</style>\n",
       "<table border=\"1\" class=\"dataframe\">\n",
       "  <thead>\n",
       "    <tr style=\"text-align: right;\">\n",
       "      <th></th>\n",
       "      <th>x1</th>\n",
       "      <th>x2</th>\n",
       "      <th>labels</th>\n",
       "    </tr>\n",
       "  </thead>\n",
       "  <tbody>\n",
       "    <tr>\n",
       "      <th>6</th>\n",
       "      <td>-1.808223</td>\n",
       "      <td>1.597017</td>\n",
       "      <td>0</td>\n",
       "    </tr>\n",
       "    <tr>\n",
       "      <th>10</th>\n",
       "      <td>-1.712373</td>\n",
       "      <td>2.777802</td>\n",
       "      <td>0</td>\n",
       "    </tr>\n",
       "    <tr>\n",
       "      <th>18</th>\n",
       "      <td>-1.066906</td>\n",
       "      <td>3.131658</td>\n",
       "      <td>0</td>\n",
       "    </tr>\n",
       "    <tr>\n",
       "      <th>19</th>\n",
       "      <td>-1.078591</td>\n",
       "      <td>2.204515</td>\n",
       "      <td>0</td>\n",
       "    </tr>\n",
       "    <tr>\n",
       "      <th>23</th>\n",
       "      <td>-1.996482</td>\n",
       "      <td>2.851649</td>\n",
       "      <td>0</td>\n",
       "    </tr>\n",
       "    <tr>\n",
       "      <th>...</th>\n",
       "      <td>...</td>\n",
       "      <td>...</td>\n",
       "      <td>...</td>\n",
       "    </tr>\n",
       "    <tr>\n",
       "      <th>265</th>\n",
       "      <td>-1.005526</td>\n",
       "      <td>3.084005</td>\n",
       "      <td>0</td>\n",
       "    </tr>\n",
       "    <tr>\n",
       "      <th>271</th>\n",
       "      <td>-2.545768</td>\n",
       "      <td>3.150251</td>\n",
       "      <td>0</td>\n",
       "    </tr>\n",
       "    <tr>\n",
       "      <th>272</th>\n",
       "      <td>-1.958667</td>\n",
       "      <td>2.430086</td>\n",
       "      <td>0</td>\n",
       "    </tr>\n",
       "    <tr>\n",
       "      <th>287</th>\n",
       "      <td>-0.646957</td>\n",
       "      <td>3.429413</td>\n",
       "      <td>0</td>\n",
       "    </tr>\n",
       "    <tr>\n",
       "      <th>299</th>\n",
       "      <td>-1.791458</td>\n",
       "      <td>2.749669</td>\n",
       "      <td>0</td>\n",
       "    </tr>\n",
       "  </tbody>\n",
       "</table>\n",
       "<p>75 rows × 3 columns</p>\n",
       "</div>"
      ],
      "text/plain": [
       "           x1        x2  labels\n",
       "6   -1.808223  1.597017       0\n",
       "10  -1.712373  2.777802       0\n",
       "18  -1.066906  3.131658       0\n",
       "19  -1.078591  2.204515       0\n",
       "23  -1.996482  2.851649       0\n",
       "..        ...       ...     ...\n",
       "265 -1.005526  3.084005       0\n",
       "271 -2.545768  3.150251       0\n",
       "272 -1.958667  2.430086       0\n",
       "287 -0.646957  3.429413       0\n",
       "299 -1.791458  2.749669       0\n",
       "\n",
       "[75 rows x 3 columns]"
      ]
     },
     "execution_count": 16,
     "metadata": {},
     "output_type": "execute_result"
    }
   ],
   "source": [
    "# E depois de efetuar uma clusterização?\n",
    "cluster_0 = df.query(\"labels == 0\")\n",
    "cluster_0"
   ]
  },
  {
   "cell_type": "code",
   "execution_count": 18,
   "id": "d660d166-15c6-47ee-8eb5-9c701dae6ba3",
   "metadata": {},
   "outputs": [
    {
     "data": {
      "image/png": "[encoded data removed]",
      "text/plain": [
       "<Figure size 432x432 with 3 Axes>"
      ]
     },
     "metadata": {
      "needs_background": "light"
     },
     "output_type": "display_data"
    }
   ],
   "source": [
    "# plotamos um cluster para análise simples\n",
    "sns.jointplot(x = \"x1\", y = \"x2\", data = cluster_0);"
   ]
  },
  {
   "cell_type": "markdown",
   "id": "68fc93b5-7a87-46fa-9c59-1c14b35a7318",
   "metadata": {},
   "source": [
    "# Resumo de um projeto de cluserização:\n",
    "\n",
    "- 1) Análise dos dados;\n",
    "- 2) Separação em variaveis para clusterização e variaveis para caracterização;\n",
    "- 3) Efetua a clusterização de fato;\n",
    "- 4) Para cada grupo realiza-se um estudo sobre sua representação;\n",
    "- 5) Validação dos agrupamentos."
   ]
  },
  {
   "cell_type": "markdown",
   "id": "98c7346d-9d4f-4317-8e9b-6b219f9f8331",
   "metadata": {},
   "source": [
    "# Mas como o K-Means funciona e como decidir a melhor quantidade de grupos?"
   ]
  },
  {
   "cell_type": "markdown",
   "id": "7b10d279-be0b-49fd-9557-a0cfd3f3296a",
   "metadata": {},
   "source": [
    "![slide4](imagens/slide4.png)"
   ]
  },
  {
   "cell_type": "markdown",
   "id": "de5e5a9d-19cb-4181-911e-831c1345c2e1",
   "metadata": {},
   "source": [
    "![slide5](imagens/slide5.png)"
   ]
  },
  {
   "cell_type": "markdown",
   "id": "751ce229-3690-4557-897a-59db86f011a9",
   "metadata": {},
   "source": [
    "# Agora, como decidir a melhor quantidade de clusters? \n",
    "\n",
    "- Método do Cotovelo e Inercia (WCSS: Within-Cluster-Sum-of-Squares);\n",
    "- Método da Silhueta.\n",
    "\n",
    "Mais métricas: https://medium.com/@gilneyjnr/qualidade-de-agrupamentos-ciência-de-dados-4b1176bef5e5"
   ]
  },
  {
   "cell_type": "markdown",
   "id": "1966a852-bf1a-4497-8e62-598e7f9cb29d",
   "metadata": {},
   "source": [
    "![slide6](imagens/slide6.png)"
   ]
  },
  {
   "cell_type": "code",
   "execution_count": 20,
   "id": "28802e9b-1fa2-4f72-9274-72a9cf6a3206",
   "metadata": {},
   "outputs": [
    {
     "name": "stderr",
     "output_type": "stream",
     "text": [
      "C:\\Users\\joao\\anaconda3\\lib\\site-packages\\sklearn\\cluster\\_kmeans.py:1036: UserWarning: KMeans is known to have a memory leak on Windows with MKL, when there are less chunks than available threads. You can avoid it by setting the environment variable OMP_NUM_THREADS=2.\n",
      "  warnings.warn(\n"
     ]
    }
   ],
   "source": [
    "# fazemos o loop para resgatar as inercias (WCSS)\n",
    "lista_inercias = []\n",
    "for k in range(1,10):\n",
    "    kmeans = KMeans(n_clusters = k)\n",
    "    kmeans.fit(df[[\"x1\", \"x2\"]])\n",
    "    inercia = kmeans.inertia_\n",
    "    lista_inercias.append(inercia)"
   ]
  },
  {
   "cell_type": "code",
   "execution_count": 21,
   "id": "a01eafb9",
   "metadata": {},
   "outputs": [
    {
     "data": {
      "text/plain": [
       "[2812.1375953032334,\n",
       " 1190.7823593643448,\n",
       " 546.8911504626299,\n",
       " 212.00599621083478,\n",
       " 188.77323556773723,\n",
       " 171.37577474428363,\n",
       " 153.9132574708423,\n",
       " 137.3621983101731,\n",
       " 125.04677570982841]"
      ]
     },
     "execution_count": 21,
     "metadata": {},
     "output_type": "execute_result"
    }
   ],
   "source": [
    "lista_inercias"
   ]
  },
  {
   "cell_type": "code",
   "execution_count": 187,
   "id": "43ee5831-2fa8-4aef-b5ee-e2670e781b2b",
   "metadata": {},
   "outputs": [],
   "source": [
    "# plotamos o gráfico de cotovelo"
   ]
  },
  {
   "cell_type": "markdown",
   "id": "a402b1cd-d064-42b3-a62e-c3ff3ac9a911",
   "metadata": {},
   "source": [
    "## Método da Silhueta"
   ]
  },
  {
   "cell_type": "markdown",
   "id": "d1da747b-cf3b-4b76-9956-e2b88027bd5f",
   "metadata": {},
   "source": [
    "![silhueta](imagens/silhuetta.jpeg)\n",
    "\n",
    "- Fonte: https://towardsdatascience.com/silhouette-coefficient-validating-clustering-techniques-e976bb81d10c"
   ]
  },
  {
   "cell_type": "markdown",
   "id": "c252f3e6-2b92-49b1-8ea2-232a71d47c21",
   "metadata": {},
   "source": [
    "![slide7](imagens/slide7.png)"
   ]
  },
  {
   "cell_type": "markdown",
   "id": "b7acf399-8613-4218-bd17-8abb11b6e240",
   "metadata": {},
   "source": [
    "![slide7](imagens/slide8.png)"
   ]
  },
  {
   "cell_type": "code",
   "execution_count": 39,
   "id": "e6fdc2f1-ddee-4d64-9d1c-d15698d5cc8a",
   "metadata": {},
   "outputs": [],
   "source": [
    "# importamos o silhueta\n",
    "from sklearn.metrics import silhouette_score"
   ]
  },
  {
   "cell_type": "code",
   "execution_count": 188,
   "id": "de1ede5c-beb6-47c6-8c67-ec17212bc84b",
   "metadata": {},
   "outputs": [],
   "source": [
    "# Fazemos o loop e salvamos os valores de silhueta\n"
   ]
  },
  {
   "cell_type": "code",
   "execution_count": 189,
   "id": "de8a896a-9bc4-4e7d-a182-178b0652711c",
   "metadata": {},
   "outputs": [],
   "source": [
    "# vizualizamos os valores salvos\n"
   ]
  },
  {
   "cell_type": "code",
   "execution_count": null,
   "id": "e34da71b-83fb-4908-9061-d0de8858e2ba",
   "metadata": {},
   "outputs": [],
   "source": []
  },
  {
   "cell_type": "code",
   "execution_count": null,
   "id": "43d02728-7360-4201-9a85-fa866afd9cd6",
   "metadata": {},
   "outputs": [],
   "source": []
  },
  {
   "cell_type": "markdown",
   "id": "492c2deb-8adf-4717-8260-5b6b43cf2c5c",
   "metadata": {},
   "source": [
    "# Agora, vamos atacar um problema real"
   ]
  },
  {
   "cell_type": "code",
   "execution_count": null,
   "id": "8dbe0291-a388-4b06-82ba-148c04e0b01d",
   "metadata": {},
   "outputs": [],
   "source": []
  },
  {
   "cell_type": "code",
   "execution_count": null,
   "id": "0e3615e1-facb-4730-80cb-ed753dacc8c0",
   "metadata": {},
   "outputs": [],
   "source": []
  },
  {
   "cell_type": "code",
   "execution_count": null,
   "id": "662a17a2",
   "metadata": {},
   "outputs": [],
   "source": []
  },
  {
   "cell_type": "code",
   "execution_count": null,
   "id": "96848e0a",
   "metadata": {},
   "outputs": [],
   "source": []
  },
  {
   "cell_type": "code",
   "execution_count": null,
   "id": "6057be93",
   "metadata": {},
   "outputs": [],
   "source": []
  },
  {
   "cell_type": "code",
   "execution_count": null,
   "id": "07efb181",
   "metadata": {},
   "outputs": [],
   "source": []
  },
  {
   "cell_type": "markdown",
   "id": "1c266fd6",
   "metadata": {},
   "source": [
    "# Exercício\n",
    "\n",
    "Aplique KMeans no Iris dataset e realize os plots dos resultados para k clusters, com k de 1 a 8.\n",
    "\n",
    "- 1) Importe o dataset iris: \n",
    "\n",
    "``` \n",
    "from sklearn.datasets import load_iris\n",
    "data = load_iris(as_frame = True)\n",
    "X = data[\"data\"]\n",
    "y = data[\"target\"] # <- mas lembre-se que esse é inutil\n",
    "```\n",
    "- 2) Lembre-se que é necessário aplicar algum Scaler nos dados para realizar clusterização;\n",
    "- 3) Delimite o range de clusters para aplicar;\n",
    "- 4) Avalie as métricas para cada cluster;\n",
    "- 5) Escolha 2 variáveis e observe a coloração para valor de cluster;}"
   ]
  },
  {
   "cell_type": "code",
   "execution_count": 22,
   "id": "fa1f4db0",
   "metadata": {},
   "outputs": [],
   "source": [
    "from sklearn.datasets import load_iris\n",
    "data = load_iris(as_frame = True)\n",
    "X = data[\"data\"]\n",
    "y = data[\"target\"]"
   ]
  },
  {
   "cell_type": "code",
   "execution_count": null,
   "id": "fe6c41a5",
   "metadata": {},
   "outputs": [],
   "source": []
  }
 ],
 "metadata": {
  "kernelspec": {
   "display_name": "Python 3",
   "language": "python",
   "name": "python3"
  },
  "language_info": {
   "codemirror_mode": {
    "name": "ipython",
    "version": 3
   },
   "file_extension": ".py",
   "mimetype": "text/x-python",
   "name": "python",
   "nbconvert_exporter": "python",
   "pygments_lexer": "ipython3",
   "version": "3.8.8"
  }
 },
 "nbformat": 4,
 "nbformat_minor": 5
}
