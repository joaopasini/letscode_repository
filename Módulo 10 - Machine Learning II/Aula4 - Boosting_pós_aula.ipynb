{
 "cells": [
  {
   "cell_type": "markdown",
   "metadata": {},
   "source": [
    "# Aula 4 - Métodos Ensemble - Boosting\n",
    "\n",
    "Nesta aula, vamos conversar sobre os seguintes tópicos:\n",
    "\n",
    "- 1. Revisão de métodos ensemble - Boosting\n",
    "- 2. AdaBoost\n",
    "- 3. Gradient Boosting\n",
    "- 4. EXtreme Gradiente Boosting - XGBoost"
   ]
  },
  {
   "cell_type": "markdown",
   "metadata": {},
   "source": [
    "## 1. Revisão de Métodos Ensemble"
   ]
  },
  {
   "cell_type": "markdown",
   "metadata": {},
   "source": [
    "Os métodos **Ensemble** (do inglês, *ensemble* = conjunto) pertencem a uma classe de modelos de Machine Learning que consiste em *combinar diversos estimadores mais simples* para gerar uma estimativa final mais robusta.\n",
    "\n",
    "Existem essencialmente três classes de ensemble:\n",
    "\n",
    "- **Métodos de Agregação:** também conhecidos como *aggregation methods*, têm como procedimento geral construir diversos estimadores independentes e usar a combinação desses estimadores para produzir a predição final. No caso de problemas de regressão, essa combinação pode ser a média aritmética ou ponderada das predições individuais, enquanto que no caso de problemas de classificação, a decisão pode ser tomada por meio da votação majoritária (*hard voting*) ou então pela média arimtética ou ponderada das probabilidades de pertencimento de cada classe  (*soft voting*) O principal objetivo do método é de **reduzir variância**, de modo que o modelo final seja melhor que todos os modelos individuais. Bons exemplos desses modelos são o **Random Forest** e o **Extra Trees**.\n",
    "- **Métodos de Boosting:** controem modelos robustos por meio da combinação sequencial, de modeo que os estimadores posteriores tentam reduzir o **viés** do estimador conjunto, levando em consideração os erros cometidos pelos estimadores anteriores. Exemplos incluem o **Gradient Boosting** e o **AdaBoost**.\n",
    "- **Métodos de Stacking:** consistem em \"modelos empilhados\" de forma hierárquica. Ou seja, o modelo \"filho\" utiliza como entrada as saídas dos modelos \"pais\".[Este link](https://machinelearningmastery.com/stacking-ensemble-machine-learning-with-python/) tem mais detalhes sobre a aplicação do método de *stacking ensemble*\n",
    "\n",
    "No contexto do módulo `scikit-learn`, o [seguinte link](https://scikit-learn.org/stable/modules/ensemble.html) tem a documentação com os modelos ensemble implementados."
   ]
  },
  {
   "cell_type": "markdown",
   "metadata": {},
   "source": [
    "## 2. *AdaBoosting*"
   ]
  },
  {
   "cell_type": "markdown",
   "metadata": {},
   "source": [
    "O *AdaBoost* significa **Adaptative Boosting**, e tem como procedimento geral a criação sucessiva dos chamados *weak learners*,ou modelos de aprendizagem fraca. Um exemplo de modelo de aprendizagem fraca no caso de modelos em árvores de um único nó (**stumps**).\n",
    "\n",
    "<img src=\"https://miro.medium.com/max/1744/1*nJ5VrsiS1yaOR77d4h8gyw.png\" width=300>"
   ]
  },
  {
   "cell_type": "markdown",
   "metadata": {},
   "source": [
    "O AdaBoost utiliza os erros da árvore anterior para **melhorar a próxima árvore**. As predições finais são feitas com base **nos pesos de cada stump**, cuja determinação faz parte do algoritmo.\n",
    "\n",
    "<img src=\"https://static.packt-cdn.com/products/9781788295758/graphics/image_04_046-1.png\" width=700>\n",
    "\n",
    "Aqui, o bootstrapping não é utilizado: o método começa treinando um classificador fraco **no dataset original**, e depois treina diversas cópias adicionais do classificador **no mesmo dataset**, mas dando **um peso maior às observações que foram classificadas erroneamente** (ou, no caso de regressões, a observações **com o maior erro**).\n",
    "\n",
    "Assim, após diversas iterações, classificadores/regressores vão sequencialmente \"focando nos casos mais difíceis\", e construindo um classificador encadeado que seja forte, apesar de utilizar diversos classificadores fracos em como elementos fundamentais.\n",
    "\n",
    "<img src=\"https://www.researchgate.net/profile/Zhuo_Wang8/publication/288699540/figure/fig9/AS:668373486686246@1536364065786/Illustration-of-AdaBoost-algorithm-for-creating-a-strong-classifier-based-on-multiple.png\" width=500>"
   ]
  },
  {
   "cell_type": "markdown",
   "metadata": {},
   "source": [
    "De forma resumida, as principais ideias por trás deste algoritmo são:\n",
    "\n",
    "- os algoritmos cria e combina um conjunto de **modelos fracos** (em geral, *stumps*).\n",
    "- cada stumps é criado **levando em consideração os erros do stump anterior**\n",
    "- alguns dos stumps têm **maior peso de decisão** do que outros na predição do que outros na predição final\n",
    "\n",
    "As classes no sklearn são:\n",
    "\n",
    "- [AdaBoostClassifier](https://scikit-learn.org/stable/modules/generated/sklearn.ensemble.AdaBoostClassifier.html)\n",
    "\n",
    "- [AdaBoostRegressor](https://scikit-learn.org/stable/modules/generated/sklearn.ensemble.AdaBoostRegressor.html#sklearn.ensemble.AdaBoostRegressor)\n",
    "\n",
    "Note que não há muitos hiperparâmetros. O mais importante, que deve ser tunado com o grid/random search, é:\n",
    "\n",
    "- `n_estimators` : o número de weak learners encadeados;\n",
    "\n",
    "Além disso, pode também ser interessante tunar os hiperparâmetros dos weak learners."
   ]
  },
  {
   "cell_type": "code",
   "execution_count": 1,
   "metadata": {},
   "outputs": [],
   "source": [
    "import warnings\n",
    "import pandas as pd\n",
    "import numpy as np\n",
    "import xgboost as xgb\n",
    "import matplotlib.pyplot as plt\n",
    "import seaborn as sns\n",
    "from sklearn.model_selection import train_test_split, StratifiedKFold, \\\n",
    "    RandomizedSearchCV, KFold\n",
    "from sklearn.preprocessing import StandardScaler, OneHotEncoder\n",
    "from sklearn.compose import ColumnTransformer\n",
    "from sklearn.impute import SimpleImputer\n",
    "from sklearn.ensemble import AdaBoostClassifier, GradientBoostingClassifier\n",
    "from sklearn.ensemble import AdaBoostRegressor, GradientBoostingRegressor\n",
    "from sklearn.linear_model import LogisticRegression\n",
    "from sklearn.pipeline import Pipeline\n",
    "from sklearn.metrics import confusion_matrix, make_scorer\n",
    "\n",
    "# ignorando warnings\n",
    "warnings.filterwarnings('ignore')"
   ]
  },
  {
   "cell_type": "code",
   "execution_count": 2,
   "metadata": {},
   "outputs": [
    {
     "data": {
      "text/html": [
       "<div>\n",
       "<style scoped>\n",
       "    .dataframe tbody tr th:only-of-type {\n",
       "        vertical-align: middle;\n",
       "    }\n",
       "\n",
       "    .dataframe tbody tr th {\n",
       "        vertical-align: top;\n",
       "    }\n",
       "\n",
       "    .dataframe thead th {\n",
       "        text-align: right;\n",
       "    }\n",
       "</style>\n",
       "<table border=\"1\" class=\"dataframe\">\n",
       "  <thead>\n",
       "    <tr style=\"text-align: right;\">\n",
       "      <th></th>\n",
       "      <th>Unnamed: 0</th>\n",
       "      <th>Age</th>\n",
       "      <th>Sex</th>\n",
       "      <th>Job</th>\n",
       "      <th>Housing</th>\n",
       "      <th>Saving accounts</th>\n",
       "      <th>Checking account</th>\n",
       "      <th>Credit amount</th>\n",
       "      <th>Duration</th>\n",
       "      <th>Purpose</th>\n",
       "      <th>Risk</th>\n",
       "    </tr>\n",
       "  </thead>\n",
       "  <tbody>\n",
       "    <tr>\n",
       "      <th>0</th>\n",
       "      <td>0</td>\n",
       "      <td>67</td>\n",
       "      <td>male</td>\n",
       "      <td>2</td>\n",
       "      <td>own</td>\n",
       "      <td>NaN</td>\n",
       "      <td>little</td>\n",
       "      <td>1169</td>\n",
       "      <td>6</td>\n",
       "      <td>radio/TV</td>\n",
       "      <td>good</td>\n",
       "    </tr>\n",
       "    <tr>\n",
       "      <th>1</th>\n",
       "      <td>1</td>\n",
       "      <td>22</td>\n",
       "      <td>female</td>\n",
       "      <td>2</td>\n",
       "      <td>own</td>\n",
       "      <td>little</td>\n",
       "      <td>moderate</td>\n",
       "      <td>5951</td>\n",
       "      <td>48</td>\n",
       "      <td>radio/TV</td>\n",
       "      <td>bad</td>\n",
       "    </tr>\n",
       "    <tr>\n",
       "      <th>2</th>\n",
       "      <td>2</td>\n",
       "      <td>49</td>\n",
       "      <td>male</td>\n",
       "      <td>1</td>\n",
       "      <td>own</td>\n",
       "      <td>little</td>\n",
       "      <td>NaN</td>\n",
       "      <td>2096</td>\n",
       "      <td>12</td>\n",
       "      <td>education</td>\n",
       "      <td>good</td>\n",
       "    </tr>\n",
       "    <tr>\n",
       "      <th>3</th>\n",
       "      <td>3</td>\n",
       "      <td>45</td>\n",
       "      <td>male</td>\n",
       "      <td>2</td>\n",
       "      <td>free</td>\n",
       "      <td>little</td>\n",
       "      <td>little</td>\n",
       "      <td>7882</td>\n",
       "      <td>42</td>\n",
       "      <td>furniture/equipment</td>\n",
       "      <td>good</td>\n",
       "    </tr>\n",
       "    <tr>\n",
       "      <th>4</th>\n",
       "      <td>4</td>\n",
       "      <td>53</td>\n",
       "      <td>male</td>\n",
       "      <td>2</td>\n",
       "      <td>free</td>\n",
       "      <td>little</td>\n",
       "      <td>little</td>\n",
       "      <td>4870</td>\n",
       "      <td>24</td>\n",
       "      <td>car</td>\n",
       "      <td>bad</td>\n",
       "    </tr>\n",
       "  </tbody>\n",
       "</table>\n",
       "</div>"
      ],
      "text/plain": [
       "   Unnamed: 0  Age     Sex  Job Housing Saving accounts Checking account  \\\n",
       "0           0   67    male    2     own             NaN           little   \n",
       "1           1   22  female    2     own          little         moderate   \n",
       "2           2   49    male    1     own          little              NaN   \n",
       "3           3   45    male    2    free          little           little   \n",
       "4           4   53    male    2    free          little           little   \n",
       "\n",
       "   Credit amount  Duration              Purpose  Risk  \n",
       "0           1169         6             radio/TV  good  \n",
       "1           5951        48             radio/TV   bad  \n",
       "2           2096        12            education  good  \n",
       "3           7882        42  furniture/equipment  good  \n",
       "4           4870        24                  car   bad  "
      ]
     },
     "execution_count": 2,
     "metadata": {},
     "output_type": "execute_result"
    }
   ],
   "source": [
    "# importando os dados\n",
    "data = pd.read_csv('german_credit_data.csv')\n",
    "data.head()"
   ]
  },
  {
   "cell_type": "code",
   "execution_count": 3,
   "metadata": {},
   "outputs": [],
   "source": [
    "# eliminando colunas não utilizadas\n",
    "data.drop(['Unnamed: 0'], inplace=True, axis = 1)"
   ]
  },
  {
   "cell_type": "code",
   "execution_count": 4,
   "metadata": {},
   "outputs": [
    {
     "data": {
      "text/plain": [
       "Age                   0\n",
       "Sex                   0\n",
       "Job                   0\n",
       "Housing               0\n",
       "Saving accounts     183\n",
       "Checking account    394\n",
       "Credit amount         0\n",
       "Duration              0\n",
       "Purpose               0\n",
       "Risk                  0\n",
       "dtype: int64"
      ]
     },
     "execution_count": 4,
     "metadata": {},
     "output_type": "execute_result"
    }
   ],
   "source": [
    "# checando a presença de valores nulos\n",
    "data.isna().sum()"
   ]
  },
  {
   "cell_type": "code",
   "execution_count": 5,
   "metadata": {},
   "outputs": [
    {
     "data": {
      "text/plain": [
       "<AxesSubplot:>"
      ]
     },
     "execution_count": 5,
     "metadata": {},
     "output_type": "execute_result"
    },
    {
     "data": {
      "image/png": "[encoded data removed]",
      "text/plain": [
       "<Figure size 576x576 with 2 Axes>"
      ]
     },
     "metadata": {
      "needs_background": "light"
     },
     "output_type": "display_data"
    }
   ],
   "source": [
    "# checando a presença de valores nulos - forma gráfica\n",
    "plt.figure(figsize=(8,8))\n",
    "sns.heatmap(data.isna().T, cmap='YlGnBu')"
   ]
  },
  {
   "cell_type": "code",
   "execution_count": 6,
   "metadata": {},
   "outputs": [
    {
     "data": {
      "text/html": [
       "<div>\n",
       "<style scoped>\n",
       "    .dataframe tbody tr th:only-of-type {\n",
       "        vertical-align: middle;\n",
       "    }\n",
       "\n",
       "    .dataframe tbody tr th {\n",
       "        vertical-align: top;\n",
       "    }\n",
       "\n",
       "    .dataframe thead th {\n",
       "        text-align: right;\n",
       "    }\n",
       "</style>\n",
       "<table border=\"1\" class=\"dataframe\">\n",
       "  <thead>\n",
       "    <tr style=\"text-align: right;\">\n",
       "      <th></th>\n",
       "      <th>Age</th>\n",
       "      <th>Sex</th>\n",
       "      <th>Job</th>\n",
       "      <th>Housing</th>\n",
       "      <th>Saving accounts</th>\n",
       "      <th>Checking account</th>\n",
       "      <th>Credit amount</th>\n",
       "      <th>Duration</th>\n",
       "      <th>Purpose</th>\n",
       "      <th>Risk</th>\n",
       "    </tr>\n",
       "  </thead>\n",
       "  <tbody>\n",
       "    <tr>\n",
       "      <th>0</th>\n",
       "      <td>67</td>\n",
       "      <td>male</td>\n",
       "      <td>2</td>\n",
       "      <td>own</td>\n",
       "      <td>NaN</td>\n",
       "      <td>little</td>\n",
       "      <td>1169</td>\n",
       "      <td>6</td>\n",
       "      <td>radio/TV</td>\n",
       "      <td>0</td>\n",
       "    </tr>\n",
       "    <tr>\n",
       "      <th>1</th>\n",
       "      <td>22</td>\n",
       "      <td>female</td>\n",
       "      <td>2</td>\n",
       "      <td>own</td>\n",
       "      <td>little</td>\n",
       "      <td>moderate</td>\n",
       "      <td>5951</td>\n",
       "      <td>48</td>\n",
       "      <td>radio/TV</td>\n",
       "      <td>1</td>\n",
       "    </tr>\n",
       "    <tr>\n",
       "      <th>2</th>\n",
       "      <td>49</td>\n",
       "      <td>male</td>\n",
       "      <td>1</td>\n",
       "      <td>own</td>\n",
       "      <td>little</td>\n",
       "      <td>NaN</td>\n",
       "      <td>2096</td>\n",
       "      <td>12</td>\n",
       "      <td>education</td>\n",
       "      <td>0</td>\n",
       "    </tr>\n",
       "    <tr>\n",
       "      <th>3</th>\n",
       "      <td>45</td>\n",
       "      <td>male</td>\n",
       "      <td>2</td>\n",
       "      <td>free</td>\n",
       "      <td>little</td>\n",
       "      <td>little</td>\n",
       "      <td>7882</td>\n",
       "      <td>42</td>\n",
       "      <td>furniture/equipment</td>\n",
       "      <td>0</td>\n",
       "    </tr>\n",
       "    <tr>\n",
       "      <th>4</th>\n",
       "      <td>53</td>\n",
       "      <td>male</td>\n",
       "      <td>2</td>\n",
       "      <td>free</td>\n",
       "      <td>little</td>\n",
       "      <td>little</td>\n",
       "      <td>4870</td>\n",
       "      <td>24</td>\n",
       "      <td>car</td>\n",
       "      <td>1</td>\n",
       "    </tr>\n",
       "  </tbody>\n",
       "</table>\n",
       "</div>"
      ],
      "text/plain": [
       "   Age     Sex  Job Housing Saving accounts Checking account  Credit amount  \\\n",
       "0   67    male    2     own             NaN           little           1169   \n",
       "1   22  female    2     own          little         moderate           5951   \n",
       "2   49    male    1     own          little              NaN           2096   \n",
       "3   45    male    2    free          little           little           7882   \n",
       "4   53    male    2    free          little           little           4870   \n",
       "\n",
       "   Duration              Purpose  Risk  \n",
       "0         6             radio/TV     0  \n",
       "1        48             radio/TV     1  \n",
       "2        12            education     0  \n",
       "3        42  furniture/equipment     0  \n",
       "4        24                  car     1  "
      ]
     },
     "execution_count": 6,
     "metadata": {},
     "output_type": "execute_result"
    }
   ],
   "source": [
    "# transformando feature target em números\n",
    "data.Risk = data.Risk.map({'good': 0, 'bad': 1})\n",
    "data.head()"
   ]
  },
  {
   "cell_type": "code",
   "execution_count": 7,
   "metadata": {},
   "outputs": [
    {
     "data": {
      "text/plain": [
       "0    700\n",
       "1    300\n",
       "Name: Risk, dtype: int64"
      ]
     },
     "execution_count": 7,
     "metadata": {},
     "output_type": "execute_result"
    }
   ],
   "source": [
    "# analisando balanceamento de classes\n",
    "data.Risk.value_counts()"
   ]
  },
  {
   "cell_type": "code",
   "execution_count": 8,
   "metadata": {},
   "outputs": [],
   "source": [
    "# separando entre preditores e preditos\n",
    "x = data.drop(['Risk'], axis = 1)\n",
    "y = data[['Risk']]\n",
    "\n",
    "# separando o conjunto de validação final\n",
    "x_train, x_test, y_train, y_test = train_test_split(x, \n",
    "                                                    y, \n",
    "                                                    test_size=0.2, \n",
    "                                                    random_state=42,\n",
    "                                                    stratify=y)"
   ]
  },
  {
   "cell_type": "code",
   "execution_count": 9,
   "metadata": {},
   "outputs": [],
   "source": [
    "# configurando um objeto de pré-processamento completo\n",
    "pipe_num = Pipeline([('input_na_num', SimpleImputer(strategy='mean'))])\n",
    "pipe_cat = Pipeline([\n",
    "    ('input_na_cat', SimpleImputer(strategy='constant', fill_value='unknown')),\n",
    "    ('onehot', OneHotEncoder(drop='first'))\n",
    "    ])\n",
    "\n",
    "# selecionando automaticamente as colunas que vão receber os processamentos\n",
    "num_features = x_train.select_dtypes(include = np.number).columns.tolist()\n",
    "cat_features = x_train.select_dtypes(exclude = np.number).columns.tolist()\n",
    "\n",
    "# criando o transformador de colunas\n",
    "pre_processador = ColumnTransformer(\n",
    "    [\n",
    "        ('transf_num', pipe_num, num_features),\n",
    "        ('transf_cat', pipe_cat, cat_features)\n",
    "    ]\n",
    ")"
   ]
  },
  {
   "cell_type": "code",
   "execution_count": 10,
   "metadata": {},
   "outputs": [],
   "source": [
    "# configurando o amostrador\n",
    "cvs = StratifiedKFold(n_splits=10, shuffle=True, random_state=2)\n",
    "\n",
    "# configurando o pipeline final\n",
    "final_pipe = Pipeline([\n",
    "    ('preprocessador', pre_processador),\n",
    "    ('scaler', StandardScaler()),\n",
    "    ('ada', AdaBoostClassifier())\n",
    "])\n",
    "\n",
    "# dicionário de hiperparâmetros\n",
    "param_dict = {\n",
    "    'ada__n_estimators': np.random.randint(2, 1000, size = 500)\n",
    "}"
   ]
  },
  {
   "cell_type": "code",
   "execution_count": 11,
   "metadata": {},
   "outputs": [],
   "source": [
    "# definindo a função de lucro que usaremos como métrica\n",
    "def lucro_f(y_real, y_pred):\n",
    "\n",
    "    # cálculo da matriz de confusão\n",
    "    cm = confusion_matrix(y_real, y_pred)\n",
    "\n",
    "    # extração dos valores de falsos positivos e falsos negativos\n",
    "    FP = cm[0][1]                # falsos positivos\n",
    "    TP = cm[1][1]                # verdadeiros positivos\n",
    "    TN = cm[0][0]                # verdadeiros negativos\n",
    "    FN = cm[1][0]                # falsos negativos\n",
    "\n",
    "    # cálculo do lucro segundo a regra de negócios\n",
    "    # 100 euros por cliente verdadeiro positivo\n",
    "    # -1500 euros por cliente falso positivo\n",
    "    # 500 euros por cliente verdadeiro falso negativo\n",
    "    # -50 euros por cliente falso negativo\n",
    "    lucro = 100*TP - 150*FP + 500*TN - 50*FN\n",
    "\n",
    "    return lucro\n",
    "\n",
    "score_lucro = make_scorer(lucro_f, greater_is_better=True)"
   ]
  },
  {
   "cell_type": "code",
   "execution_count": 12,
   "metadata": {},
   "outputs": [
    {
     "name": "stdout",
     "output_type": "stream",
     "text": [
      "Lucro Baseline - Caso Otimista: 67000\n"
     ]
    }
   ],
   "source": [
    "# criando o baseline - caso mais otimista\n",
    "yhat_base = np.repeat(0, repeats=y_test.shape[0])\n",
    "\n",
    "# lucro obtido com o baseline\n",
    "print(f'Lucro Baseline - Caso Otimista: {lucro_f(y_test, yhat_base)}')"
   ]
  },
  {
   "cell_type": "code",
   "execution_count": 13,
   "metadata": {},
   "outputs": [
    {
     "name": "stdout",
     "output_type": "stream",
     "text": [
      "Lucro Baseline - Caso Pessimista: -15000\n"
     ]
    }
   ],
   "source": [
    "# criando o baseline - caso mais pessimista\n",
    "yhat_base = np.repeat(1, repeats=y_test.shape[0])\n",
    "\n",
    "# lucro obtido com o baseline\n",
    "print(f'Lucro Baseline - Caso Pessimista: {lucro_f(y_test, yhat_base)}')"
   ]
  },
  {
   "cell_type": "code",
   "execution_count": 14,
   "metadata": {},
   "outputs": [
    {
     "name": "stdout",
     "output_type": "stream",
     "text": [
      "Risk\n",
      "0       140\n",
      "1        60\n",
      "dtype: int64\n",
      "Lucro Máximo: 76000\n"
     ]
    }
   ],
   "source": [
    "# lucro máximo possível\n",
    "print(y_test.value_counts())\n",
    "\n",
    "print(f'Lucro Máximo: {500*140 + 100*60}')"
   ]
  },
  {
   "cell_type": "code",
   "execution_count": 15,
   "metadata": {},
   "outputs": [
    {
     "data": {
      "text/plain": [
       "RandomizedSearchCV(cv=StratifiedKFold(n_splits=10, random_state=2, shuffle=True),\n",
       "                   estimator=Pipeline(steps=[('preprocessador',\n",
       "                                              ColumnTransformer(transformers=[('transf_num',\n",
       "                                                                               Pipeline(steps=[('input_na_num',\n",
       "                                                                                                SimpleImputer())]),\n",
       "                                                                               ['Age',\n",
       "                                                                                'Job',\n",
       "                                                                                'Credit '\n",
       "                                                                                'amount',\n",
       "                                                                                'Duration']),\n",
       "                                                                              ('transf_cat',\n",
       "                                                                               Pipeline(steps=[('input_na_cat',\n",
       "                                                                                                SimpleImputer(fill_value='unknown',\n",
       "                                                                                                              strate...\n",
       "       364, 850,  71, 417, 249, 536, 143, 313, 624, 931, 128, 462, 117,\n",
       "       397,  67, 294, 728, 721, 494, 646, 506, 201, 233, 704, 777, 681,\n",
       "       820, 887, 486, 188, 580, 140, 793, 747, 128, 672,  28,  83, 879,\n",
       "       481, 839, 381,   3, 621, 165, 732, 881, 264, 571, 767, 187, 796,\n",
       "       505, 405, 736, 215, 750,  83, 912, 199, 419, 568, 242, 876, 247,\n",
       "       321, 919, 719, 831, 443, 897, 479, 385, 673, 440, 197,  43, 314,\n",
       "       386, 612, 908, 958, 810, 523])},\n",
       "                   scoring=make_scorer(lucro_f))"
      ]
     },
     "execution_count": 15,
     "metadata": {},
     "output_type": "execute_result"
    }
   ],
   "source": [
    "# criando o amostrador para seleção dos hiperparâmetros\n",
    "model_selector = RandomizedSearchCV(\n",
    "    estimator=final_pipe,\n",
    "    param_distributions=param_dict,\n",
    "    scoring = score_lucro,\n",
    "    n_iter=2,\n",
    "    cv = cvs,\n",
    "    refit = True \n",
    ")\n",
    "\n",
    "model_selector.fit(x_train, y_train)"
   ]
  },
  {
   "cell_type": "code",
   "execution_count": 16,
   "metadata": {},
   "outputs": [
    {
     "name": "stdout",
     "output_type": "stream",
     "text": [
      "Melhor parâmetro:  {'ada__n_estimators': 373}\n",
      "Maior lucro médio obtido:  22720.0\n"
     ]
    }
   ],
   "source": [
    "# analisando o melhor modelo\n",
    "print('Melhor parâmetro: ', model_selector.best_params_)\n",
    "print('Maior lucro médio obtido: ', model_selector.best_score_)"
   ]
  },
  {
   "cell_type": "code",
   "execution_count": 17,
   "metadata": {},
   "outputs": [
    {
     "name": "stdout",
     "output_type": "stream",
     "text": [
      "Lucro Esperado: 54800\n"
     ]
    }
   ],
   "source": [
    "# avaliando o relatório de classificação do ponto de vista do negócio\n",
    "yhat = model_selector.best_estimator_.predict(x_test)\n",
    "\n",
    "print(f'Lucro Esperado: {lucro_f(y_test, yhat)}')"
   ]
  },
  {
   "cell_type": "markdown",
   "metadata": {},
   "source": [
    "### Mas existe a possibilidade de tunarmos os parâmetros do modelo \"fraco\"?"
   ]
  },
  {
   "cell_type": "code",
   "execution_count": 18,
   "metadata": {},
   "outputs": [],
   "source": [
    "# vamos criar um AdaBoost de regressões logísticas\n",
    "base_model = LogisticRegression(solver='saga')\n",
    "\n",
    "# recriando o pipeline do AdaBoost, explicitando o modelo base\n",
    "final_pipe = Pipeline([\n",
    "    ('preprocessador', pre_processador),\n",
    "    ('scaler', StandardScaler()),\n",
    "    ('ada', AdaBoostClassifier(base_estimator=base_model, random_state=19))\n",
    "])\n",
    "\n",
    "# dicionário de hiperparâmetros\n",
    "param_dict = {\n",
    "    'ada__base_estimator__C': np.random.uniform(0.01, 10, size = 1000),\n",
    "    'ada__base_estimator__penalty': ['l1', 'l2', 'elasticnet'],\n",
    "    'ada__base_estimator__l1_ratio': np.random.uniform(0.1, 1, size = 100),\n",
    "    'ada__n_estimators': np.random.randint(2, 1000, size = 500)\n",
    "}"
   ]
  },
  {
   "cell_type": "code",
   "execution_count": 19,
   "metadata": {},
   "outputs": [
    {
     "name": "stdout",
     "output_type": "stream",
     "text": [
      "Melhor parâmetro:  {'ada__n_estimators': 939, 'ada__base_estimator__penalty': 'l2', 'ada__base_estimator__l1_ratio': 0.3486007277046319, 'ada__base_estimator__C': 8.117345559321906}\n",
      "Maior lucro obtido:  23555.0\n"
     ]
    }
   ],
   "source": [
    "# criando o amostrador para seleção dos hiperparâmetros\n",
    "model_selector = RandomizedSearchCV(\n",
    "    estimator=final_pipe,\n",
    "    param_distributions=param_dict,\n",
    "    scoring = score_lucro,\n",
    "    n_iter=1,\n",
    "    cv = cvs,\n",
    "    refit = True,\n",
    "    n_jobs = -1\n",
    ")\n",
    "\n",
    "# ajustando o modelo\n",
    "model_selector.fit(x_train, y_train)\n",
    "\n",
    "# analisando o melhor modelo\n",
    "print('Melhor parâmetro: ', model_selector.best_params_)\n",
    "print('Maior lucro obtido: ', model_selector.best_score_)"
   ]
  },
  {
   "cell_type": "code",
   "execution_count": 20,
   "metadata": {},
   "outputs": [
    {
     "name": "stdout",
     "output_type": "stream",
     "text": [
      "Lucro Esperado: 60700\n"
     ]
    }
   ],
   "source": [
    "# avaliando o relatório de classificação do ponto de vista do negócio\n",
    "yhat = model_selector.best_estimator_.predict(x_test)\n",
    "\n",
    "print(f'Lucro Esperado: {lucro_f(y_test, yhat)}')"
   ]
  },
  {
   "cell_type": "markdown",
   "metadata": {},
   "source": [
    "___"
   ]
  },
  {
   "cell_type": "markdown",
   "metadata": {},
   "source": [
    "## 3. *Gradient Boosting*"
   ]
  },
  {
   "cell_type": "markdown",
   "metadata": {},
   "source": [
    "O AdaBoost não é o único que incorpora a técnica de boosting. Outro tipo de modelo que implementa é o Gradient Boosting, que implementa o princípio de boosting por meio de um **gradiente explícito**\n",
    "\n",
    "<img src=https://miro.medium.com/max/788/1*pEu2LNmxf9ttXHIALPcEBw.png width=600>"
   ]
  },
  {
   "cell_type": "markdown",
   "metadata": {},
   "source": [
    "A ideia é que caminhemos na direção do **erro mínimo** de maneira iterativa **passo a passo**.\n",
    "\n",
    "Este caminho se dá justamente pelo **gradiente** da **função de custo/perda**, que mede justamente os erros cometidos.\n",
    "\n",
    "<img src=https://upload.wikimedia.org/wikipedia/commons/a/a3/Gradient_descent.gif width=400>\n",
    "\n",
    "Este método é conhecido como:\n",
    "\n",
    "### Gradiente descendente"
   ]
  },
  {
   "cell_type": "markdown",
   "metadata": {},
   "source": [
    "Deixei em ênfase porque este será um método de **enorme importância** no estudo de redes neurais (e é, em geral, um método de otimização muito utilizado).\n",
    "\n",
    "O objetivo geral do método é bem simples: determinar quais são os **parâmetros** da hipótese que minimizam a função de custo/perda. Para isso, o método \"percorre\" a função de erro, indo em direção ao seu mínimo (e este \"caminho\" feito na função se dá justamente pela **determinação iterativa dos parâmetros**, isto é, **a cada passo, chegamos mais perto dos parâmetros finais da hipótese**, conforme eles são ajustados aos dados."
   ]
  },
  {
   "cell_type": "markdown",
   "metadata": {},
   "source": [
    "> **Pequeno interlúdio matemático:** o gradiente descendente implementado pelo gradient boosting é, na verdade, um **gradiente descendente funcional**, isto é, desejamos encontrar não um conjunto de parâmetros que minimiza o erro, mas sim **introduzir sequencialmente weak learners (hipótese simples) que minimizam o erro**. Desta forma, o gradient boosting minimiza a função de custo ao ecolher iterativamente hipóteses simples que apontam na direção do mínimo, neste espaço funcional."
   ]
  },
  {
   "cell_type": "markdown",
   "metadata": {},
   "source": [
    "Apesar do interlúdio acima, não precisamos nos preocupar muito com os detalhes matemáticos: o que importa é entender que no caso do gradient boosting, há alguns pontos importantes:\n",
    "\n",
    "- Uma **função de custo/perda (loss)** é explicitamente minimizada por um procedimento de gradiente;\n",
    "\n",
    "- O gradiente está relacionado com o procedimento de **encadeamento progressivo entre weak learners**, seguindo a ideia do boosting.\n",
    "\n",
    "Pra quem quiser saber um pouco mais de detalhes (e se aventurar na matemática), sugiro [este post](https://www.gormanalysis.com/blog/gradient-boosting-explained/) ou então [este site](https://explained.ai/gradient-boosting/), que contém vários materiais ótimos para entender o método com todos os detalhes matemáticos.\n",
    "\n",
    "Os [vídeos do StatQuest](https://www.youtube.com/playlist?list=PLblh5JKOoLUJjeXUvUE0maghNuY2_5fY6) também são uma boa referência"
   ]
  },
  {
   "cell_type": "markdown",
   "metadata": {},
   "source": [
    "As classes do sklearn são:\n",
    "\n",
    "- [GradientBoostingClassifier](https://scikit-learn.org/stable/modules/generated/sklearn.ensemble.GradientBoostingClassifier.html)\n",
    "\n",
    "- [GradientBoostingRegressor](https://scikit-learn.org/stable/modules/generated/sklearn.ensemble.GradientBoostingRegressor.html#sklearn.ensemble.GradientBoostingRegressor)\n",
    "\n",
    "E os principais hiperparâmetros a serem ajustados são:\n",
    "\n",
    "- `n_estimators` : novamente, o número de weak learners encadeados.\n",
    "\n",
    "- `learning_rate` : a constante que multiplica o gradiente no gradiente descendente. Essencialmente, controla o \"tamanho do passo\" a ser dado em direção ao mínimo.\n",
    "\n",
    "Segundo o próprio [User Guide](https://scikit-learn.org/stable/modules/ensemble.html#gradient-boosting): \"*Empirical evidence suggests that small values of `learning_rate` favor better test error. The lireature recommends to set the learning rate to a small constant (e.g. `learning_rate <= 0.1`) and choose `n_estimators` by early stopping.*\"\n",
    "\n",
    "Ainda sobre a learning rate, as ilustrações a seguir ajudam a entender sua importância:\n",
    "\n",
    "<img src=https://www.jeremyjordan.me/content/images/2018/02/Screen-Shot-2018-02-24-at-11.47.09-AM.png width=700>\n",
    "\n",
    "<img src=https://cdn-images-1.medium.com/max/1440/0*A351v9EkS6Ps2zIg.gif width=500>"
   ]
  },
  {
   "cell_type": "markdown",
   "metadata": {},
   "source": [
    "## 4. *EXtreme Gradient Boosting*\n",
    "\n",
    "Este método nada mais é que um gradient boosting, mas com algumas importantes modificações que lhe conferem o título de \"extreme\"! Em particular, duas alterações merecem destaque:\n",
    "\n",
    "- A adição de procedimentos de regularização (L1 e L2!), o que melhora consideravelmente sua capacidade de generalização;\n",
    "\n",
    "- A utilização de derivadas de segunda ordem (Hessiano) para o procedimento de gradiente.\n",
    "\n",
    "Para quem quiser se aventurar mais, sugiro algumas boas leituras:\n",
    "\n",
    "- [Este](https://shirinsplayground.netlify.app/2018/11/ml_basics_gbm/), explica bem as particularidades do XGBoost, além de dar uma boa introdução ao gradient boosting\n",
    "\n",
    "- [Este](https://medium.com/analytics-vidhya/what-makes-xgboost-so-extreme-e1544a4433bb), introduz bem o método, enquanto enfativa suas particularidades, com alguns detalhes matemáticos;\n",
    "\n",
    "- [Este](https://xgboost.readthedocs.io/en/latest/tutorials/model.html), da própria documentação da biblioteca, traz uma explicação legal, e com alguns detalhes matemáticos;\n",
    "\n",
    "- [Este](https://towardsdatascience.com/https-medium-com-vishalmorde-xgboost-algorithm-long-she-may-rein-edd9f99be63d), com uma discussão mais alto-nível (sem tantos detalhes) sobre o XGBoost e os motivos de seu sucesso."
   ]
  },
  {
   "cell_type": "markdown",
   "metadata": {},
   "source": [
    "______\n",
    "\n",
    "## Exercício 1\n",
    "\n",
    "Aplicando os conhecimentos obtidos com os modelos de GradientBoosting e de XGBoost, tente melhorar o desempenho do classificador de crédito com relação ao lucro esperado. Lembre-se de checar a documentação para identificar os hiperparâmetros que podem ser trabalhados em cada um deles. Nesse exercício, utilize os estimadores padrão das respectivas classes.\n",
    "\n",
    "_____"
   ]
  },
  {
   "cell_type": "markdown",
   "metadata": {},
   "source": [
    "#### GradientBoosting Classifier"
   ]
  },
  {
   "cell_type": "code",
   "execution_count": 21,
   "metadata": {},
   "outputs": [],
   "source": [
    "# configurando o amostrador\n",
    "cvs = StratifiedKFold(n_splits=10, shuffle=True, random_state=2)\n",
    "\n",
    "# configurando o pipeline final\n",
    "final_pipe = Pipeline([\n",
    "    ('preprocessador', pre_processador),\n",
    "    ('scaler', StandardScaler()),\n",
    "    ('gboost', GradientBoostingClassifier())\n",
    "])\n",
    "\n",
    "# dicionário de hiperparâmetros\n",
    "param_dict = {\n",
    "    'gboost__n_estimators': np.random.randint(20,1000,500),\n",
    "    'gboost__learning_rate': np.random.uniform(0.01, 0.2, 100)\n",
    "}"
   ]
  },
  {
   "cell_type": "code",
   "execution_count": 22,
   "metadata": {},
   "outputs": [
    {
     "data": {
      "text/plain": [
       "RandomizedSearchCV(cv=StratifiedKFold(n_splits=10, random_state=2, shuffle=True),\n",
       "                   estimator=Pipeline(steps=[('preprocessador',\n",
       "                                              ColumnTransformer(transformers=[('transf_num',\n",
       "                                                                               Pipeline(steps=[('input_na_num',\n",
       "                                                                                                SimpleImputer())]),\n",
       "                                                                               ['Age',\n",
       "                                                                                'Job',\n",
       "                                                                                'Credit '\n",
       "                                                                                'amount',\n",
       "                                                                                'Duration']),\n",
       "                                                                              ('transf_cat',\n",
       "                                                                               Pipeline(steps=[('input_na_cat',\n",
       "                                                                                                SimpleImputer(fill_value='unknown',\n",
       "                                                                                                              strate...\n",
       "       846,  80, 492,  94, 792, 869, 644, 104, 252, 822, 238,  23, 120,\n",
       "       945, 911, 960, 114, 986, 226, 502, 517, 701, 106, 794, 666,  30,\n",
       "       142, 417, 654, 294, 945, 532, 665, 365, 717, 901, 979, 173, 733,\n",
       "       546, 942, 858, 708,  89,  61, 581, 945, 530, 192, 910, 645, 131,\n",
       "       967,  45, 102, 990, 126, 309, 269, 765, 695, 853, 522, 568, 334,\n",
       "       592, 131, 370, 505, 474, 306, 813, 520,  94,  90, 862,  74, 112,\n",
       "       932, 521, 179, 790, 175, 904])},\n",
       "                   scoring=make_scorer(lucro_f))"
      ]
     },
     "execution_count": 22,
     "metadata": {},
     "output_type": "execute_result"
    }
   ],
   "source": [
    "# criando o amostrador para seleção dos hiperparâmetros\n",
    "model_selector = RandomizedSearchCV(\n",
    "    estimator=final_pipe,\n",
    "    param_distributions=param_dict,\n",
    "    scoring = score_lucro,\n",
    "    n_iter=1,\n",
    "    cv = cvs,\n",
    "    refit = True,\n",
    "    n_jobs = -1 \n",
    ")\n",
    "\n",
    "# ajustando o modelo \n",
    "model_selector.fit(x_train, y_train)"
   ]
  },
  {
   "cell_type": "code",
   "execution_count": 23,
   "metadata": {},
   "outputs": [
    {
     "name": "stdout",
     "output_type": "stream",
     "text": [
      "Melhor parâmetro:  {'gboost__n_estimators': 236, 'gboost__learning_rate': 0.029140058944047947}\n",
      "Maior lucro médio obtido:  24440.0\n",
      "Lucro Esperado: 64050\n"
     ]
    }
   ],
   "source": [
    "# analisando o melhor modelo\n",
    "print('Melhor parâmetro: ', model_selector.best_params_)\n",
    "print('Maior lucro médio obtido: ', model_selector.best_score_)\n",
    "\n",
    "# avaliando o relatório de classificação do ponto de vista do negócio\n",
    "yhat = model_selector.best_estimator_.predict(x_test)\n",
    "\n",
    "print(f'Lucro Esperado: {lucro_f(y_test, yhat)}')"
   ]
  },
  {
   "cell_type": "markdown",
   "metadata": {},
   "source": [
    "#### XGBoost Classifier"
   ]
  },
  {
   "cell_type": "code",
   "execution_count": 24,
   "metadata": {},
   "outputs": [],
   "source": [
    "# configurando o amostrador\n",
    "cvs = StratifiedKFold(n_splits=10, shuffle=True, random_state=2)\n",
    "\n",
    "# configurando o pipeline final\n",
    "final_pipe = Pipeline([\n",
    "    ('preprocessador', pre_processador),\n",
    "    ('scaler', StandardScaler()),\n",
    "    ('xgboost', xgb.XGBClassifier())\n",
    "])\n",
    "\n",
    "# dicionário de hiperparâmetros\n",
    "param_dict = {\n",
    "    'xgboost__eta': np.random.uniform(0.01, 0.2, 100),\n",
    "    'xgboost__max_depth': np.random.randint(1,20,500)\n",
    "}"
   ]
  },
  {
   "cell_type": "code",
   "execution_count": 25,
   "metadata": {},
   "outputs": [
    {
     "name": "stdout",
     "output_type": "stream",
     "text": [
      "[11:29:44] WARNING: ..\\src\\learner.cc:1115: Starting in XGBoost 1.3.0, the default evaluation metric used with the objective 'binary:logistic' was changed from 'error' to 'logloss'. Explicitly set eval_metric if you'd like to restore the old behavior.\n"
     ]
    },
    {
     "data": {
      "text/plain": [
       "RandomizedSearchCV(cv=StratifiedKFold(n_splits=10, random_state=2, shuffle=True),\n",
       "                   estimator=Pipeline(steps=[('preprocessador',\n",
       "                                              ColumnTransformer(transformers=[('transf_num',\n",
       "                                                                               Pipeline(steps=[('input_na_num',\n",
       "                                                                                                SimpleImputer())]),\n",
       "                                                                               ['Age',\n",
       "                                                                                'Job',\n",
       "                                                                                'Credit '\n",
       "                                                                                'amount',\n",
       "                                                                                'Duration']),\n",
       "                                                                              ('transf_cat',\n",
       "                                                                               Pipeline(steps=[('input_na_cat',\n",
       "                                                                                                SimpleImputer(fill_value='unknown',\n",
       "                                                                                                              strate...\n",
       "       10, 19, 10, 17, 15,  6, 11, 17,  3,  5,  2, 10, 17,  9,  9,  1,  4,\n",
       "       10,  2,  8, 12,  7, 18,  5,  8, 17,  3, 16,  6, 12, 18, 10,  2,  5,\n",
       "        2, 16, 18,  2, 14,  7,  9, 12, 16,  6, 12, 11, 18,  4, 11,  1,  6,\n",
       "        1,  7, 17, 16, 13,  8, 18,  1, 12, 18, 15, 10,  6, 13,  3, 17, 11,\n",
       "        4, 16, 12, 13, 10, 18, 14,  6,  1, 15,  9,  6,  1, 13, 12, 13, 12,\n",
       "       13, 16, 15,  5, 14, 13, 12, 15,  4, 10,  5, 11,  8,  1, 10, 14, 18,\n",
       "        8,  2, 19,  8, 18, 16,  2,  2,  5,  4,  8,  1, 13,  1, 13, 10,  2,\n",
       "        7, 14, 11,  9,  5,  2, 15])},\n",
       "                   scoring=make_scorer(lucro_f))"
      ]
     },
     "execution_count": 25,
     "metadata": {},
     "output_type": "execute_result"
    }
   ],
   "source": [
    "# criando o amostrador para seleção dos hiperparâmetros\n",
    "model_selector = RandomizedSearchCV(\n",
    "    estimator=final_pipe,\n",
    "    param_distributions=param_dict,\n",
    "    scoring = score_lucro,\n",
    "    n_iter=1,\n",
    "    cv = cvs,\n",
    "    refit = True,\n",
    "    n_jobs=-1\n",
    ")\n",
    "\n",
    "# ajustando o modelo \n",
    "model_selector.fit(x_train, y_train)"
   ]
  },
  {
   "cell_type": "code",
   "execution_count": 26,
   "metadata": {},
   "outputs": [
    {
     "name": "stdout",
     "output_type": "stream",
     "text": [
      "Melhor parâmetro:  {'xgboost__max_depth': 3, 'xgboost__eta': 0.1000977009773678}\n",
      "Maior lucro médio obtido:  24160.0\n",
      "Lucro Esperado: 62850\n"
     ]
    }
   ],
   "source": [
    "# analisando o melhor modelo\n",
    "print('Melhor parâmetro: ', model_selector.best_params_)\n",
    "print('Maior lucro médio obtido: ', model_selector.best_score_)\n",
    "\n",
    "# avaliando o relatório de classificação do ponto de vista do negócio\n",
    "yhat = model_selector.best_estimator_.predict(x_test)\n",
    "\n",
    "print(f'Lucro Esperado: {lucro_f(y_test, yhat)}')"
   ]
  },
  {
   "cell_type": "markdown",
   "metadata": {},
   "source": [
    "____\n",
    "\n",
    "## Exercício 2\n",
    "\n",
    "Repita o exercício dois, porém modificando o estimador base, conforme fizemos na demonstração, alterando seus hiperparâmetros também. **ATENÇÃO**: no caso do xgboost, isso deve ser feito de forma separada, ou seja, haverá um pipeline com o parâmetros `gbtree` e outro com o `gblinear`.\n",
    "\n",
    "______"
   ]
  },
  {
   "cell_type": "markdown",
   "metadata": {},
   "source": [
    "#### GradientBoosting Classifier"
   ]
  },
  {
   "cell_type": "code",
   "execution_count": 27,
   "metadata": {},
   "outputs": [],
   "source": [
    "# vamos criar um AdaBoost de regressões logísticas\n",
    "base_model = LogisticRegression(solver='saga')\n",
    "\n",
    "# recriando o pipeline do AdaBoost, explicitando o modelo base\n",
    "final_pipe = Pipeline([\n",
    "    ('preprocessador', pre_processador),\n",
    "    ('scaler', StandardScaler()),\n",
    "    ('gboost', GradientBoostingClassifier(init=base_model, \n",
    "                                          random_state=19))\n",
    "])\n",
    "\n",
    "# dicionário de hiperparâmetros\n",
    "param_dict = {\n",
    "    'gboost__init__C': np.random.uniform(0.01, 10, size = 1000),\n",
    "    'gboost__init__penalty': ['l1', 'l2', 'elasticnet'],\n",
    "    'gboost__init__l1_ratio': np.random.uniform(0.1, 1, size = 100),\n",
    "    'gboost__n_estimators': np.random.randint(2, 1000, size = 500)\n",
    "}"
   ]
  },
  {
   "cell_type": "code",
   "execution_count": 28,
   "metadata": {},
   "outputs": [
    {
     "name": "stdout",
     "output_type": "stream",
     "text": [
      "Melhor parâmetro:  {'gboost__n_estimators': 648, 'gboost__init__penalty': 'l2', 'gboost__init__l1_ratio': 0.687757239065349, 'gboost__init__C': 1.8441642854095688}\n",
      "Maior lucro obtido:  22955.0\n",
      "Lucro Esperado: 56700\n"
     ]
    }
   ],
   "source": [
    "# criando o amostrador para seleção dos hiperparâmetros\n",
    "model_selector = RandomizedSearchCV(\n",
    "    estimator=final_pipe,\n",
    "    param_distributions=param_dict,\n",
    "    scoring = score_lucro,\n",
    "    n_iter=1,\n",
    "    cv = cvs,\n",
    "    refit = True,\n",
    "    n_jobs = -1\n",
    ")\n",
    "\n",
    "# ajustando o modelo\n",
    "model_selector.fit(x_train, y_train)\n",
    "\n",
    "# analisando o melhor modelo\n",
    "print('Melhor parâmetro: ', model_selector.best_params_)\n",
    "print('Maior lucro obtido: ', model_selector.best_score_)\n",
    "\n",
    "# avaliando o relatório de classificação do ponto de vista do negócio\n",
    "yhat = model_selector.best_estimator_.predict(x_test)\n",
    "\n",
    "print(f'Lucro Esperado: {lucro_f(y_test, yhat)}')"
   ]
  },
  {
   "cell_type": "markdown",
   "metadata": {},
   "source": [
    "#### XGBoost Classifier Linear"
   ]
  },
  {
   "cell_type": "code",
   "execution_count": 29,
   "metadata": {},
   "outputs": [],
   "source": [
    "# configurando o amostrador\n",
    "cvs = StratifiedKFold(n_splits=10, shuffle=True, random_state=2)\n",
    "\n",
    "# configurando o pipeline final\n",
    "final_pipe = Pipeline([\n",
    "    ('preprocessador', pre_processador),\n",
    "    ('scaler', StandardScaler()),\n",
    "    ('xgboost', xgb.XGBClassifier(booster='gblinear'))\n",
    "])\n",
    "\n",
    "# dicionário de hiperparâmetros\n",
    "param_dict = {\n",
    "    'xgboost__eta': np.random.uniform(0.01, 0.2, 100),\n",
    "    'xgboost__lambda': np.random.randint(0.1,10,500)\n",
    "}"
   ]
  },
  {
   "cell_type": "code",
   "execution_count": 30,
   "metadata": {},
   "outputs": [
    {
     "name": "stdout",
     "output_type": "stream",
     "text": [
      "[11:29:48] WARNING: ..\\src\\learner.cc:1115: Starting in XGBoost 1.3.0, the default evaluation metric used with the objective 'binary:logistic' was changed from 'error' to 'logloss'. Explicitly set eval_metric if you'd like to restore the old behavior.\n",
      "Melhor parâmetro:  {'xgboost__lambda': 8, 'xgboost__eta': 0.03667516869495077}\n",
      "Maior lucro obtido:  26800.0\n",
      "Lucro Esperado: 67000\n"
     ]
    }
   ],
   "source": [
    "# criando o amostrador para seleção dos hiperparâmetros\n",
    "model_selector = RandomizedSearchCV(\n",
    "    estimator=final_pipe,\n",
    "    param_distributions=param_dict,\n",
    "    scoring = score_lucro,\n",
    "    n_iter=1,\n",
    "    cv = cvs,\n",
    "    refit = True,\n",
    "    n_jobs = -1\n",
    ")\n",
    "\n",
    "# ajustando o modelo\n",
    "model_selector.fit(x_train, y_train)\n",
    "\n",
    "# analisando o melhor modelo\n",
    "print('Melhor parâmetro: ', model_selector.best_params_)\n",
    "print('Maior lucro obtido: ', model_selector.best_score_)\n",
    "\n",
    "# avaliando o relatório de classificação do ponto de vista do negócio\n",
    "yhat = model_selector.best_estimator_.predict(x_test)\n",
    "\n",
    "print(f'Lucro Esperado: {lucro_f(y_test, yhat)}')"
   ]
  },
  {
   "cell_type": "markdown",
   "metadata": {},
   "source": [
    "## Exercício 3 (DESAFIO)\n",
    "\n",
    "Agora é com vocês ! Existe uma base de dados que descrever a produtividade de uma indústria, portanto sendo um problema de regressão. Nessa atividade você deverá:\n",
    "\n",
    "- carregar a base de dados\n",
    "- identificar a necessidade de tratar dados nulos\n",
    "- calcule o lucro no pior cenário, melhor cenário e no cenário \"ingênuo\" - mais detalhes da função lucro abaixo\n",
    "- configurar um processador de dados usando o `ColumnTransformer`, `SimpleImputer` e `Pipeline`, conform você determinar\n",
    "- separar uma base de treino e de teste, colocando 30 % para base de teste, sem estratificação\n",
    "- configure um amostrador de validação cruzada de 5 folds sem estratificação (`KFold`)\n",
    "- configure um `Pipeline` com o processamento, scaler (`StandardScaler`) e o modelo selecionado\n",
    "- use um seletor de modelos `RandomizedSearchCV`\n",
    "- teste os modelos `AdaBoostRegressor`, `GradientBoostingRegressor`, `XGBoostRegressor`\n",
    "- você tem a liberdade de escolher os hiperparâmetros e estimadores base\n",
    "- aplique a seguinte regra de negócios numa função para determinar o lucro\n",
    "\n",
    "    - se o erro for menor que -10 % em relação ao valor, deve-se pagar a execução do modelo (150) e o prejuízo de superestimar (p*2500)\n",
    "    - se o erro ficar entre -10 % e -1 % em relação ao valor, paga-se a execução do modelo (150) e metade do prejuízo (p*1250)\n",
    "    - se o erro ficar entre -1 % e + 1 % em relação ao valor, paga-se a execução do modelo (150)\n",
    "    - se o erro ficar entre 1 % e e 10 %, paga-se o modelo (150) porém ganha-se metade do lucro total (p*1000)\n",
    "    - se o erro for maior que 10 %, paga-se o modelo (150) porém se ganha o lucro total (p*2000)\n",
    "\n"
   ]
  },
  {
   "cell_type": "code",
   "execution_count": 31,
   "metadata": {},
   "outputs": [],
   "source": [
    "def penalty(x):\n",
    "    if x < -0.1:\n",
    "        return -2500\n",
    "    elif ((x >= -0.1) & (x < -0.01)):\n",
    "        return -1250\n",
    "    elif ((x >= -0.01) & (x < 0.01)):\n",
    "        return 0\n",
    "    elif ((x >= 0.01) & (x < 0.1)):\n",
    "        return 1000\n",
    "    else:\n",
    "        return 2000"
   ]
  },
  {
   "cell_type": "code",
   "execution_count": 32,
   "metadata": {},
   "outputs": [],
   "source": [
    "def lucro_f(y_real, ypred):\n",
    "    data = pd.DataFrame(y_real.values, columns = ['real'])\n",
    "    data['pred'] = ypred\n",
    "\n",
    "    data['erro_p'] = (data['real'] - data['pred']) / data['real']\n",
    "\n",
    "    data['penalty'] = data.erro_p.apply(penalty)\n",
    "    data['penalty'] -= 150\n",
    "\n",
    "    print(data.head())\n",
    "\n",
    "    return data.penalty.sum()"
   ]
  },
  {
   "cell_type": "code",
   "execution_count": 33,
   "metadata": {},
   "outputs": [
    {
     "data": {
      "text/html": [
       "<div>\n",
       "<style scoped>\n",
       "    .dataframe tbody tr th:only-of-type {\n",
       "        vertical-align: middle;\n",
       "    }\n",
       "\n",
       "    .dataframe tbody tr th {\n",
       "        vertical-align: top;\n",
       "    }\n",
       "\n",
       "    .dataframe thead th {\n",
       "        text-align: right;\n",
       "    }\n",
       "</style>\n",
       "<table border=\"1\" class=\"dataframe\">\n",
       "  <thead>\n",
       "    <tr style=\"text-align: right;\">\n",
       "      <th></th>\n",
       "      <th>date</th>\n",
       "      <th>quarter</th>\n",
       "      <th>department</th>\n",
       "      <th>day</th>\n",
       "      <th>team</th>\n",
       "      <th>targeted_productivity</th>\n",
       "      <th>smv</th>\n",
       "      <th>wip</th>\n",
       "      <th>over_time</th>\n",
       "      <th>incentive</th>\n",
       "      <th>idle_time</th>\n",
       "      <th>idle_men</th>\n",
       "      <th>no_of_style_change</th>\n",
       "      <th>no_of_workers</th>\n",
       "      <th>actual_productivity</th>\n",
       "    </tr>\n",
       "  </thead>\n",
       "  <tbody>\n",
       "    <tr>\n",
       "      <th>0</th>\n",
       "      <td>1/1/2015</td>\n",
       "      <td>Quarter1</td>\n",
       "      <td>sweing</td>\n",
       "      <td>Thursday</td>\n",
       "      <td>8</td>\n",
       "      <td>0.80</td>\n",
       "      <td>26.16</td>\n",
       "      <td>1108.0</td>\n",
       "      <td>7080</td>\n",
       "      <td>98</td>\n",
       "      <td>0.0</td>\n",
       "      <td>0</td>\n",
       "      <td>0</td>\n",
       "      <td>59.0</td>\n",
       "      <td>0.940725</td>\n",
       "    </tr>\n",
       "    <tr>\n",
       "      <th>1</th>\n",
       "      <td>1/1/2015</td>\n",
       "      <td>Quarter1</td>\n",
       "      <td>finishing</td>\n",
       "      <td>Thursday</td>\n",
       "      <td>1</td>\n",
       "      <td>0.75</td>\n",
       "      <td>3.94</td>\n",
       "      <td>NaN</td>\n",
       "      <td>960</td>\n",
       "      <td>0</td>\n",
       "      <td>0.0</td>\n",
       "      <td>0</td>\n",
       "      <td>0</td>\n",
       "      <td>8.0</td>\n",
       "      <td>0.886500</td>\n",
       "    </tr>\n",
       "    <tr>\n",
       "      <th>2</th>\n",
       "      <td>1/1/2015</td>\n",
       "      <td>Quarter1</td>\n",
       "      <td>sweing</td>\n",
       "      <td>Thursday</td>\n",
       "      <td>11</td>\n",
       "      <td>0.80</td>\n",
       "      <td>11.41</td>\n",
       "      <td>968.0</td>\n",
       "      <td>3660</td>\n",
       "      <td>50</td>\n",
       "      <td>0.0</td>\n",
       "      <td>0</td>\n",
       "      <td>0</td>\n",
       "      <td>30.5</td>\n",
       "      <td>0.800570</td>\n",
       "    </tr>\n",
       "    <tr>\n",
       "      <th>3</th>\n",
       "      <td>1/1/2015</td>\n",
       "      <td>Quarter1</td>\n",
       "      <td>sweing</td>\n",
       "      <td>Thursday</td>\n",
       "      <td>12</td>\n",
       "      <td>0.80</td>\n",
       "      <td>11.41</td>\n",
       "      <td>968.0</td>\n",
       "      <td>3660</td>\n",
       "      <td>50</td>\n",
       "      <td>0.0</td>\n",
       "      <td>0</td>\n",
       "      <td>0</td>\n",
       "      <td>30.5</td>\n",
       "      <td>0.800570</td>\n",
       "    </tr>\n",
       "    <tr>\n",
       "      <th>4</th>\n",
       "      <td>1/1/2015</td>\n",
       "      <td>Quarter1</td>\n",
       "      <td>sweing</td>\n",
       "      <td>Thursday</td>\n",
       "      <td>6</td>\n",
       "      <td>0.80</td>\n",
       "      <td>25.90</td>\n",
       "      <td>1170.0</td>\n",
       "      <td>1920</td>\n",
       "      <td>50</td>\n",
       "      <td>0.0</td>\n",
       "      <td>0</td>\n",
       "      <td>0</td>\n",
       "      <td>56.0</td>\n",
       "      <td>0.800382</td>\n",
       "    </tr>\n",
       "  </tbody>\n",
       "</table>\n",
       "</div>"
      ],
      "text/plain": [
       "       date   quarter  department       day  team  targeted_productivity  \\\n",
       "0  1/1/2015  Quarter1      sweing  Thursday     8                   0.80   \n",
       "1  1/1/2015  Quarter1  finishing   Thursday     1                   0.75   \n",
       "2  1/1/2015  Quarter1      sweing  Thursday    11                   0.80   \n",
       "3  1/1/2015  Quarter1      sweing  Thursday    12                   0.80   \n",
       "4  1/1/2015  Quarter1      sweing  Thursday     6                   0.80   \n",
       "\n",
       "     smv     wip  over_time  incentive  idle_time  idle_men  \\\n",
       "0  26.16  1108.0       7080         98        0.0         0   \n",
       "1   3.94     NaN        960          0        0.0         0   \n",
       "2  11.41   968.0       3660         50        0.0         0   \n",
       "3  11.41   968.0       3660         50        0.0         0   \n",
       "4  25.90  1170.0       1920         50        0.0         0   \n",
       "\n",
       "   no_of_style_change  no_of_workers  actual_productivity  \n",
       "0                   0           59.0             0.940725  \n",
       "1                   0            8.0             0.886500  \n",
       "2                   0           30.5             0.800570  \n",
       "3                   0           30.5             0.800570  \n",
       "4                   0           56.0             0.800382  "
      ]
     },
     "execution_count": 33,
     "metadata": {},
     "output_type": "execute_result"
    }
   ],
   "source": [
    "# importar a base de dados\n",
    "data = pd.read_csv('garments_worker_productivity.csv')\n",
    "data.head()"
   ]
  },
  {
   "cell_type": "code",
   "execution_count": 34,
   "metadata": {},
   "outputs": [
    {
     "data": {
      "text/plain": [
       "date                       0\n",
       "quarter                    0\n",
       "department                 0\n",
       "day                        0\n",
       "team                       0\n",
       "targeted_productivity      0\n",
       "smv                        0\n",
       "wip                      506\n",
       "over_time                  0\n",
       "incentive                  0\n",
       "idle_time                  0\n",
       "idle_men                   0\n",
       "no_of_style_change         0\n",
       "no_of_workers              0\n",
       "actual_productivity        0\n",
       "dtype: int64"
      ]
     },
     "execution_count": 34,
     "metadata": {},
     "output_type": "execute_result"
    }
   ],
   "source": [
    "# identificar a necessidade de tratamento de dados nulos\n",
    "data.isna().sum()"
   ]
  },
  {
   "cell_type": "code",
   "execution_count": 35,
   "metadata": {},
   "outputs": [
    {
     "name": "stdout",
     "output_type": "stream",
     "text": [
      "<class 'pandas.core.frame.DataFrame'>\n",
      "RangeIndex: 1197 entries, 0 to 1196\n",
      "Data columns (total 15 columns):\n",
      " #   Column                 Non-Null Count  Dtype  \n",
      "---  ------                 --------------  -----  \n",
      " 0   date                   1197 non-null   object \n",
      " 1   quarter                1197 non-null   object \n",
      " 2   department             1197 non-null   object \n",
      " 3   day                    1197 non-null   object \n",
      " 4   team                   1197 non-null   object \n",
      " 5   targeted_productivity  1197 non-null   float64\n",
      " 6   smv                    1197 non-null   float64\n",
      " 7   wip                    691 non-null    float64\n",
      " 8   over_time              1197 non-null   int64  \n",
      " 9   incentive              1197 non-null   int64  \n",
      " 10  idle_time              1197 non-null   float64\n",
      " 11  idle_men               1197 non-null   int64  \n",
      " 12  no_of_style_change     1197 non-null   int64  \n",
      " 13  no_of_workers          1197 non-null   float64\n",
      " 14  actual_productivity    1197 non-null   float64\n",
      "dtypes: float64(6), int64(4), object(5)\n",
      "memory usage: 140.4+ KB\n"
     ]
    }
   ],
   "source": [
    "# tranformando tipos dos dados do número do time\n",
    "data.team = data.team.astype('str')\n",
    "data.info()"
   ]
  },
  {
   "cell_type": "code",
   "execution_count": 36,
   "metadata": {},
   "outputs": [],
   "source": [
    "# separando entre preditores e preditos\n",
    "x = data.drop(['date', 'actual_productivity'], axis = 1)\n",
    "y = data[['actual_productivity']]\n",
    "\n",
    "# separando o conjunto de validação final\n",
    "x_train, x_test, y_train, y_test = train_test_split(x, \n",
    "                                                    y, \n",
    "                                                    test_size=0.3, \n",
    "                                                    random_state=42)"
   ]
  },
  {
   "cell_type": "code",
   "execution_count": 37,
   "metadata": {},
   "outputs": [],
   "source": [
    "# configurando um objeto de pré-processamento completo\n",
    "pipe_num = Pipeline([('input_na_num', SimpleImputer(strategy='mean'))])\n",
    "pipe_cat = Pipeline([\n",
    "    ('onehot', OneHotEncoder(drop='first'))\n",
    "    ])\n",
    "\n",
    "# selecionando automaticamente as colunas que vão receber os processamentos\n",
    "num_features = x_train.select_dtypes(include = np.number).columns.tolist()\n",
    "cat_features = x_train.select_dtypes(exclude = np.number).columns.tolist()\n",
    "\n",
    "# criando o transformador de colunas\n",
    "pre_processador = ColumnTransformer(\n",
    "    [\n",
    "        ('transf_num', pipe_num, num_features),\n",
    "        ('transf_cat', pipe_cat, cat_features)\n",
    "    ]\n",
    ")"
   ]
  },
  {
   "cell_type": "markdown",
   "metadata": {},
   "source": [
    "#### AdaBoostRegressor"
   ]
  },
  {
   "cell_type": "code",
   "execution_count": 38,
   "metadata": {},
   "outputs": [],
   "source": [
    "# configurando o amostrador\n",
    "cvs = KFold(n_splits=5, shuffle=True, random_state=2)\n",
    "\n",
    "# configurando o pipeline final\n",
    "final_pipe = Pipeline([\n",
    "    ('preprocessador', pre_processador),\n",
    "    ('scaler', StandardScaler()),\n",
    "    ('ada', AdaBoostRegressor())\n",
    "])\n",
    "\n",
    "# dicionário de hiperparâmetros\n",
    "param_dict = {\n",
    "    'ada__n_estimators': np.random.randint(2, 1000, size = 500)\n",
    "}"
   ]
  },
  {
   "cell_type": "code",
   "execution_count": 39,
   "metadata": {},
   "outputs": [
    {
     "name": "stdout",
     "output_type": "stream",
     "text": [
      "Melhor parâmetro:  {'ada__n_estimators': 164}\n",
      "Maior lucro obtido:  55040.0\n",
      "       real      pred    erro_p  penalty\n",
      "0  0.268214  0.526517 -0.963045    -2650\n",
      "1  0.800359  0.803737 -0.004221     -150\n",
      "2  0.681061  0.669640  0.016769      850\n",
      "3  0.325000  0.624429 -0.921319    -2650\n",
      "4  0.667604  0.667264  0.000509     -150\n",
      "Lucro Esperado: 132500\n"
     ]
    }
   ],
   "source": [
    "# criando o amostrador para seleção dos hiperparâmetros\n",
    "model_selector = RandomizedSearchCV(\n",
    "    estimator=final_pipe,\n",
    "    param_distributions=param_dict,\n",
    "    scoring = make_scorer(lucro_f, greater_is_better=True),\n",
    "    n_iter=1,\n",
    "    cv = cvs,\n",
    "    refit = True,\n",
    "    n_jobs = -1\n",
    ")\n",
    "\n",
    "# ajustando o modelo\n",
    "model_selector.fit(x_train, y_train)\n",
    "\n",
    "# analisando o melhor modelo\n",
    "print('Melhor parâmetro: ', model_selector.best_params_)\n",
    "print('Maior lucro obtido: ', model_selector.best_score_)\n",
    "\n",
    "# avaliando o relatório de classificação do ponto de vista do negócio\n",
    "yhat = model_selector.best_estimator_.predict(x_test)\n",
    "\n",
    "print(f'Lucro Esperado: {lucro_f(y_test, yhat)}')"
   ]
  },
  {
   "cell_type": "code",
   "execution_count": 40,
   "metadata": {},
   "outputs": [
    {
     "name": "stdout",
     "output_type": "stream",
     "text": [
      "       real  pred    erro_p  penalty\n",
      "0  0.268214     1 -2.728362    -2650\n",
      "1  0.800359     1 -0.249440    -2650\n",
      "2  0.681061     1 -0.468298    -2650\n",
      "3  0.325000     1 -2.076923    -2650\n",
      "4  0.667604     1 -0.497894    -2650\n",
      "Lucro no Pior Caso: -870250\n"
     ]
    }
   ],
   "source": [
    "# pior caso - todos os erros abaixo de -10 % \n",
    "df_lucro = y_test.copy()\n",
    "\n",
    "df_lucro['pior_caso'] = 1\n",
    "\n",
    "print(f'Lucro no Pior Caso: {lucro_f(df_lucro[\"actual_productivity\"], df_lucro[\"pior_caso\"].values)}')"
   ]
  },
  {
   "cell_type": "code",
   "execution_count": 41,
   "metadata": {},
   "outputs": [
    {
     "name": "stdout",
     "output_type": "stream",
     "text": [
      "       real  pred  erro_p  penalty\n",
      "0  0.268214     0     1.0     1850\n",
      "1  0.800359     0     1.0     1850\n",
      "2  0.681061     0     1.0     1850\n",
      "3  0.325000     0     1.0     1850\n",
      "4  0.667604     0     1.0     1850\n",
      "Lucro no melhor Caso: 666000\n"
     ]
    }
   ],
   "source": [
    "# melhor caso - todos os erros acima de 10 % \n",
    "df_lucro = y_test.copy()\n",
    "\n",
    "df_lucro['melhor_caso'] = 0\n",
    "\n",
    "print(f'Lucro no melhor Caso: {lucro_f(df_lucro[\"actual_productivity\"], df_lucro[\"melhor_caso\"].values)}')"
   ]
  },
  {
   "cell_type": "markdown",
   "metadata": {},
   "source": [
    "## Mas e se quisermos avaliar o modelo classificador de uma forma mais \"humana\"? \n",
    "\n",
    "Não faz mais sentido decidir pela inadimplência olhando a chance da pessoa ser de fato inadimplente? \n",
    "\n",
    "-   Mas isso envolve escolher qual seria a probabilidade mínima de decisão. Conseguimos analisar qual o impacto dessa decisão?"
   ]
  },
  {
   "cell_type": "code",
   "execution_count": 42,
   "metadata": {},
   "outputs": [
    {
     "data": {
      "text/html": [
       "<div>\n",
       "<style scoped>\n",
       "    .dataframe tbody tr th:only-of-type {\n",
       "        vertical-align: middle;\n",
       "    }\n",
       "\n",
       "    .dataframe tbody tr th {\n",
       "        vertical-align: top;\n",
       "    }\n",
       "\n",
       "    .dataframe thead th {\n",
       "        text-align: right;\n",
       "    }\n",
       "</style>\n",
       "<table border=\"1\" class=\"dataframe\">\n",
       "  <thead>\n",
       "    <tr style=\"text-align: right;\">\n",
       "      <th></th>\n",
       "      <th>Unnamed: 0</th>\n",
       "      <th>Age</th>\n",
       "      <th>Sex</th>\n",
       "      <th>Job</th>\n",
       "      <th>Housing</th>\n",
       "      <th>Saving accounts</th>\n",
       "      <th>Checking account</th>\n",
       "      <th>Credit amount</th>\n",
       "      <th>Duration</th>\n",
       "      <th>Purpose</th>\n",
       "      <th>Risk</th>\n",
       "    </tr>\n",
       "  </thead>\n",
       "  <tbody>\n",
       "    <tr>\n",
       "      <th>0</th>\n",
       "      <td>0</td>\n",
       "      <td>67</td>\n",
       "      <td>male</td>\n",
       "      <td>2</td>\n",
       "      <td>own</td>\n",
       "      <td>NaN</td>\n",
       "      <td>little</td>\n",
       "      <td>1169</td>\n",
       "      <td>6</td>\n",
       "      <td>radio/TV</td>\n",
       "      <td>good</td>\n",
       "    </tr>\n",
       "    <tr>\n",
       "      <th>1</th>\n",
       "      <td>1</td>\n",
       "      <td>22</td>\n",
       "      <td>female</td>\n",
       "      <td>2</td>\n",
       "      <td>own</td>\n",
       "      <td>little</td>\n",
       "      <td>moderate</td>\n",
       "      <td>5951</td>\n",
       "      <td>48</td>\n",
       "      <td>radio/TV</td>\n",
       "      <td>bad</td>\n",
       "    </tr>\n",
       "    <tr>\n",
       "      <th>2</th>\n",
       "      <td>2</td>\n",
       "      <td>49</td>\n",
       "      <td>male</td>\n",
       "      <td>1</td>\n",
       "      <td>own</td>\n",
       "      <td>little</td>\n",
       "      <td>NaN</td>\n",
       "      <td>2096</td>\n",
       "      <td>12</td>\n",
       "      <td>education</td>\n",
       "      <td>good</td>\n",
       "    </tr>\n",
       "    <tr>\n",
       "      <th>3</th>\n",
       "      <td>3</td>\n",
       "      <td>45</td>\n",
       "      <td>male</td>\n",
       "      <td>2</td>\n",
       "      <td>free</td>\n",
       "      <td>little</td>\n",
       "      <td>little</td>\n",
       "      <td>7882</td>\n",
       "      <td>42</td>\n",
       "      <td>furniture/equipment</td>\n",
       "      <td>good</td>\n",
       "    </tr>\n",
       "    <tr>\n",
       "      <th>4</th>\n",
       "      <td>4</td>\n",
       "      <td>53</td>\n",
       "      <td>male</td>\n",
       "      <td>2</td>\n",
       "      <td>free</td>\n",
       "      <td>little</td>\n",
       "      <td>little</td>\n",
       "      <td>4870</td>\n",
       "      <td>24</td>\n",
       "      <td>car</td>\n",
       "      <td>bad</td>\n",
       "    </tr>\n",
       "  </tbody>\n",
       "</table>\n",
       "</div>"
      ],
      "text/plain": [
       "   Unnamed: 0  Age     Sex  Job Housing Saving accounts Checking account  \\\n",
       "0           0   67    male    2     own             NaN           little   \n",
       "1           1   22  female    2     own          little         moderate   \n",
       "2           2   49    male    1     own          little              NaN   \n",
       "3           3   45    male    2    free          little           little   \n",
       "4           4   53    male    2    free          little           little   \n",
       "\n",
       "   Credit amount  Duration              Purpose  Risk  \n",
       "0           1169         6             radio/TV  good  \n",
       "1           5951        48             radio/TV   bad  \n",
       "2           2096        12            education  good  \n",
       "3           7882        42  furniture/equipment  good  \n",
       "4           4870        24                  car   bad  "
      ]
     },
     "execution_count": 42,
     "metadata": {},
     "output_type": "execute_result"
    }
   ],
   "source": [
    "# importando os dados\n",
    "data = pd.read_csv('german_credit_data.csv')\n",
    "data.head()"
   ]
  },
  {
   "cell_type": "code",
   "execution_count": 43,
   "metadata": {},
   "outputs": [],
   "source": [
    "# eliminando colunas não utilizadas\n",
    "data.drop(['Unnamed: 0'], inplace=True, axis = 1)"
   ]
  },
  {
   "cell_type": "code",
   "execution_count": 44,
   "metadata": {},
   "outputs": [
    {
     "data": {
      "text/html": [
       "<div>\n",
       "<style scoped>\n",
       "    .dataframe tbody tr th:only-of-type {\n",
       "        vertical-align: middle;\n",
       "    }\n",
       "\n",
       "    .dataframe tbody tr th {\n",
       "        vertical-align: top;\n",
       "    }\n",
       "\n",
       "    .dataframe thead th {\n",
       "        text-align: right;\n",
       "    }\n",
       "</style>\n",
       "<table border=\"1\" class=\"dataframe\">\n",
       "  <thead>\n",
       "    <tr style=\"text-align: right;\">\n",
       "      <th></th>\n",
       "      <th>Age</th>\n",
       "      <th>Sex</th>\n",
       "      <th>Job</th>\n",
       "      <th>Housing</th>\n",
       "      <th>Saving accounts</th>\n",
       "      <th>Checking account</th>\n",
       "      <th>Credit amount</th>\n",
       "      <th>Duration</th>\n",
       "      <th>Purpose</th>\n",
       "      <th>Risk</th>\n",
       "    </tr>\n",
       "  </thead>\n",
       "  <tbody>\n",
       "    <tr>\n",
       "      <th>0</th>\n",
       "      <td>67</td>\n",
       "      <td>male</td>\n",
       "      <td>2</td>\n",
       "      <td>own</td>\n",
       "      <td>NaN</td>\n",
       "      <td>little</td>\n",
       "      <td>1169</td>\n",
       "      <td>6</td>\n",
       "      <td>radio/TV</td>\n",
       "      <td>0</td>\n",
       "    </tr>\n",
       "    <tr>\n",
       "      <th>1</th>\n",
       "      <td>22</td>\n",
       "      <td>female</td>\n",
       "      <td>2</td>\n",
       "      <td>own</td>\n",
       "      <td>little</td>\n",
       "      <td>moderate</td>\n",
       "      <td>5951</td>\n",
       "      <td>48</td>\n",
       "      <td>radio/TV</td>\n",
       "      <td>1</td>\n",
       "    </tr>\n",
       "    <tr>\n",
       "      <th>2</th>\n",
       "      <td>49</td>\n",
       "      <td>male</td>\n",
       "      <td>1</td>\n",
       "      <td>own</td>\n",
       "      <td>little</td>\n",
       "      <td>NaN</td>\n",
       "      <td>2096</td>\n",
       "      <td>12</td>\n",
       "      <td>education</td>\n",
       "      <td>0</td>\n",
       "    </tr>\n",
       "    <tr>\n",
       "      <th>3</th>\n",
       "      <td>45</td>\n",
       "      <td>male</td>\n",
       "      <td>2</td>\n",
       "      <td>free</td>\n",
       "      <td>little</td>\n",
       "      <td>little</td>\n",
       "      <td>7882</td>\n",
       "      <td>42</td>\n",
       "      <td>furniture/equipment</td>\n",
       "      <td>0</td>\n",
       "    </tr>\n",
       "    <tr>\n",
       "      <th>4</th>\n",
       "      <td>53</td>\n",
       "      <td>male</td>\n",
       "      <td>2</td>\n",
       "      <td>free</td>\n",
       "      <td>little</td>\n",
       "      <td>little</td>\n",
       "      <td>4870</td>\n",
       "      <td>24</td>\n",
       "      <td>car</td>\n",
       "      <td>1</td>\n",
       "    </tr>\n",
       "  </tbody>\n",
       "</table>\n",
       "</div>"
      ],
      "text/plain": [
       "   Age     Sex  Job Housing Saving accounts Checking account  Credit amount  \\\n",
       "0   67    male    2     own             NaN           little           1169   \n",
       "1   22  female    2     own          little         moderate           5951   \n",
       "2   49    male    1     own          little              NaN           2096   \n",
       "3   45    male    2    free          little           little           7882   \n",
       "4   53    male    2    free          little           little           4870   \n",
       "\n",
       "   Duration              Purpose  Risk  \n",
       "0         6             radio/TV     0  \n",
       "1        48             radio/TV     1  \n",
       "2        12            education     0  \n",
       "3        42  furniture/equipment     0  \n",
       "4        24                  car     1  "
      ]
     },
     "execution_count": 44,
     "metadata": {},
     "output_type": "execute_result"
    }
   ],
   "source": [
    "# transformando feature target em números\n",
    "data.Risk = data.Risk.map({'good': 0, 'bad': 1})\n",
    "data.head()"
   ]
  },
  {
   "cell_type": "code",
   "execution_count": 45,
   "metadata": {},
   "outputs": [],
   "source": [
    "# separando entre preditores e preditos\n",
    "x = data.drop(['Risk'], axis = 1)\n",
    "y = data[['Risk']]\n",
    "\n",
    "# separando o conjunto de validação final\n",
    "x_train, x_test, y_train, y_test = train_test_split(x, \n",
    "                                                    y, \n",
    "                                                    test_size=0.2, \n",
    "                                                    random_state=42,\n",
    "                                                    stratify=y)"
   ]
  },
  {
   "cell_type": "code",
   "execution_count": 46,
   "metadata": {},
   "outputs": [],
   "source": [
    "# configurando um objeto de pré-processamento completo\n",
    "pipe_num = Pipeline([('input_na_num', SimpleImputer(strategy='mean'))])\n",
    "pipe_cat = Pipeline([\n",
    "    ('input_na_cat', SimpleImputer(strategy='constant', fill_value='unknown')),\n",
    "    ('onehot', OneHotEncoder(drop='first'))\n",
    "    ])\n",
    "\n",
    "# selecionando automaticamente as colunas que vão receber os processamentos\n",
    "num_features = x_train.select_dtypes(include = np.number).columns.tolist()\n",
    "cat_features = x_train.select_dtypes(exclude = np.number).columns.tolist()\n",
    "\n",
    "# criando o transformador de colunas\n",
    "pre_processador = ColumnTransformer(\n",
    "    [\n",
    "        ('transf_num', pipe_num, num_features),\n",
    "        ('transf_cat', pipe_cat, cat_features)\n",
    "    ]\n",
    ")"
   ]
  },
  {
   "cell_type": "code",
   "execution_count": 47,
   "metadata": {},
   "outputs": [],
   "source": [
    "# configurando o amostrador\n",
    "cvs = StratifiedKFold(n_splits=5, shuffle=True, random_state=2)\n",
    "\n",
    "# configurando o pipeline final\n",
    "final_pipe = Pipeline([\n",
    "    ('preprocessador', pre_processador),\n",
    "    ('scaler', StandardScaler()),\n",
    "    ('gboost', GradientBoostingClassifier())\n",
    "])\n",
    "\n",
    "# dicionário de hiperparâmetros\n",
    "param_dict = {\n",
    "    'gboost__n_estimators': np.random.randint(20,100,50),\n",
    "    'gboost__learning_rate': np.random.uniform(0.01, 0.2, 100)\n",
    "}"
   ]
  },
  {
   "cell_type": "code",
   "execution_count": 48,
   "metadata": {},
   "outputs": [],
   "source": [
    "# definindo a função de lucro que usaremos como métrica\n",
    "def lucro_f_prob(y_real, y_pred, prob_thresh):\n",
    "\n",
    "    # criar um dataframe\n",
    "    prob_data = pd.DataFrame(y_real.values, columns = ['prob_real'])\n",
    "    prob_data['prob_pred'] = y_pred\n",
    "\n",
    "    # aplica a regra de decisão\n",
    "    prob_data.class_real = prob_data.prob_real.apply(lambda x: 1 if x > prob_thresh else 0)\n",
    "    prob_data.class_pred = prob_data.prob_pred.apply(lambda x: 1 if x > prob_thresh else 0)\n",
    "\n",
    "    # cálculo da matriz de confusão\n",
    "    cm = confusion_matrix(prob_data.class_real, prob_data.class_pred)\n",
    "\n",
    "    # extração dos valores de falsos positivos e falsos negativos\n",
    "    FP = cm[0][1]                # falsos positivos\n",
    "    TP = cm[1][1]                # verdadeiros positivos\n",
    "    TN = cm[0][0]                # verdadeiros negativos\n",
    "    FN = cm[1][0]                # falsos negativos\n",
    "\n",
    "    # cálculo do lucro segundo a regra de negócios\n",
    "    # 100 euros por cliente verdadeiro positivo\n",
    "    # -1500 euros por cliente falso positivo\n",
    "    # 500 euros por cliente verdadeiro falso negativo\n",
    "    # -50 euros por cliente falso negativo\n",
    "    lucro = 100*TP - 150*FP + 500*TN - 50*FN\n",
    "\n",
    "    return lucro"
   ]
  },
  {
   "cell_type": "code",
   "execution_count": 49,
   "metadata": {},
   "outputs": [],
   "source": [
    "# criar um vetor de probabilidades a serem testadas\n",
    "prob_test = np.arange(0.1, 1, 0.1)\n",
    "\n",
    "# criando listas vazias\n",
    "avg_lucro = []\n",
    "test_lucro = []\n",
    "\n",
    "# iterar para avaliar os modelos treinados\n",
    "for p in prob_test:\n",
    "\n",
    "    # treinar o modelo em CV\n",
    "    model_selector = RandomizedSearchCV(\n",
    "    estimator=final_pipe,\n",
    "    param_distributions=param_dict,\n",
    "    scoring = make_scorer(lucro_f_prob, \n",
    "                          greater_is_better=True, \n",
    "                          needs_proba=True, \n",
    "                          prob_thresh = p),\n",
    "    n_iter=3,\n",
    "    cv = cvs,\n",
    "    refit = True,\n",
    "    n_jobs = -1 \n",
    "    )\n",
    "\n",
    "    # ajustando o modelo \n",
    "    model_selector.fit(x_train, y_train)\n",
    "\n",
    "    # obtendo as métricas médias\n",
    "    # filtrando nans\n",
    "    avgs = [m for m in model_selector.cv_results_['mean_test_score'] if str(m).lower() != 'nan']\n",
    "    avg_lucro.append(np.mean(avgs))\n",
    "\n",
    "    # usando o melhor estimador encontrado para realizar novas previsões na base de teste\n",
    "    yhat = model_selector.best_estimator_.predict_proba(x_test)\n",
    "\n",
    "    # obtendo as probabilidades de pertencimento à classe 1\n",
    "    pred_prob = []\n",
    "    for y in yhat:\n",
    "        pred_prob.append(y[1])\n",
    "\n",
    "    # calculando a métrica na base de teste\n",
    "    test_lucro.append(lucro_f_prob(y_test, pred_prob, prob_thresh=p))"
   ]
  },
  {
   "cell_type": "code",
   "execution_count": 50,
   "metadata": {},
   "outputs": [
    {
     "data": {
      "image/png": "[encoded data removed]",
      "text/plain": [
       "<Figure size 720x576 with 1 Axes>"
      ]
     },
     "metadata": {
      "needs_background": "light"
     },
     "output_type": "display_data"
    }
   ],
   "source": [
    "plt.figure(figsize=(10,8))\n",
    "plt.plot(prob_test, avg_lucro, 'b-', label = 'Lucro Médio (Treinamento)')\n",
    "plt.plot(prob_test, test_lucro, 'r-', label = 'Lucro Esperado (Teste)')\n",
    "plt.xlabel('Mínima Probabilidade de Decisão', size = 14)\n",
    "plt.ylabel('Lucro', size = 14)\n",
    "plt.title('Curva de Lucro Esperado', size = 16)\n",
    "plt.legend(loc = 'best', prop={'size':14})\n",
    "plt.axhline(y = 67000, color = 'orange', ls = '--')\n",
    "plt.annotate(s = 'Modelo Otimista', xy = (0.1, 67500))\n",
    "plt.grid()\n",
    "plt.show()"
   ]
  },
  {
   "cell_type": "code",
   "execution_count": null,
   "metadata": {},
   "outputs": [],
   "source": []
  }
 ],
 "metadata": {
  "interpreter": {
   "hash": "f1ba8794fa85fbaa82e75e2932815913cb5407855996c12a16cc8e292cbcd9f4"
  },
  "kernelspec": {
   "display_name": "Python 3",
   "language": "python",
   "name": "python3"
  },
  "language_info": {
   "codemirror_mode": {
    "name": "ipython",
    "version": 3
   },
   "file_extension": ".py",
   "mimetype": "text/x-python",
   "name": "python",
   "nbconvert_exporter": "python",
   "pygments_lexer": "ipython3",
   "version": "3.8.8"
  }
 },
 "nbformat": 4,
 "nbformat_minor": 2
}
