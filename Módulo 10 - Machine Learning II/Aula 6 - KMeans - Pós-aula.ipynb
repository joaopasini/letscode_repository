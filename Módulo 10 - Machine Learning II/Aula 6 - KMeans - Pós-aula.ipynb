{
 "cells": [
  {
   "cell_type": "markdown",
   "id": "9723bcb7-f16d-4c2e-a19c-c09219931816",
   "metadata": {},
   "source": [
    "# Aula 6 - Aprendizagem não-supervisionada e K-MEANS\n",
    "\n",
    "Por onde vamos passar? \n",
    "\n",
    "- 1) Aprendizagem não-supervisionada? Onde vive? O que come?;\n",
    "- 2) Utilizando um exemplo com K-means;\n",
    "- 3) Afinal, o que o K-means está fazendo?;\n",
    "- 4) Agora que sabemos, vamos resolver um problema real."
   ]
  },
  {
   "cell_type": "markdown",
   "id": "d66849e1-f4da-476f-9d70-51a49f625301",
   "metadata": {},
   "source": [
    "![slide1](imagens/slide1.png)"
   ]
  },
  {
   "cell_type": "markdown",
   "id": "706cbf20-06dc-41bf-9fd8-e547c2b4ee3f",
   "metadata": {},
   "source": [
    "![slide2](imagens/slide2.png)"
   ]
  },
  {
   "cell_type": "markdown",
   "id": "24f93332-a085-45d4-8dd5-c61ff1bcbb8b",
   "metadata": {},
   "source": [
    "![slide3](imagens/slide3.png)"
   ]
  },
  {
   "cell_type": "code",
   "execution_count": 1,
   "id": "e1331c36-b46b-4d92-be49-d37f96eea0a1",
   "metadata": {},
   "outputs": [],
   "source": [
    "# Fazemos a importação das bibliotecas que serão utilizadas\n",
    "\n",
    "import pandas as pd \n",
    "import numpy as np \n",
    "import matplotlib.pyplot as plt \n",
    "import seaborn as sns "
   ]
  },
  {
   "cell_type": "code",
   "execution_count": 2,
   "id": "6322b8e0-6e2e-4801-a206-680885a12a3e",
   "metadata": {},
   "outputs": [],
   "source": [
    "# Vamos gerar um conjunto de dados mais simplificado para entender o funcionamento \n",
    "\n",
    "from sklearn.datasets import make_blobs\n",
    "\n",
    "X,y = make_blobs(n_samples = 300, n_features = 2,centers = 4, cluster_std = 0.6, random_state = 0)"
   ]
  },
  {
   "cell_type": "code",
   "execution_count": 3,
   "id": "52ff983c-acdd-4f25-8a22-86a4f089e850",
   "metadata": {},
   "outputs": [],
   "source": [
    "# usamos o y?\n",
    "# NÃO VAMOS USAR O Y"
   ]
  },
  {
   "cell_type": "code",
   "execution_count": 4,
   "id": "fd617013-4332-4a32-9dfe-2451a346fcdd",
   "metadata": {},
   "outputs": [],
   "source": [
    "# transforma em dataframe\n",
    "df =pd.DataFrame(X, columns = [\"x1\", 'x2'])"
   ]
  },
  {
   "cell_type": "code",
   "execution_count": 5,
   "id": "e4c7ff13-c37e-4db7-930d-912aa825ee7c",
   "metadata": {},
   "outputs": [
    {
     "data": {
      "text/html": [
       "<div>\n",
       "<style scoped>\n",
       "    .dataframe tbody tr th:only-of-type {\n",
       "        vertical-align: middle;\n",
       "    }\n",
       "\n",
       "    .dataframe tbody tr th {\n",
       "        vertical-align: top;\n",
       "    }\n",
       "\n",
       "    .dataframe thead th {\n",
       "        text-align: right;\n",
       "    }\n",
       "</style>\n",
       "<table border=\"1\" class=\"dataframe\">\n",
       "  <thead>\n",
       "    <tr style=\"text-align: right;\">\n",
       "      <th></th>\n",
       "      <th>x1</th>\n",
       "      <th>x2</th>\n",
       "    </tr>\n",
       "  </thead>\n",
       "  <tbody>\n",
       "    <tr>\n",
       "      <th>0</th>\n",
       "      <td>0.836857</td>\n",
       "      <td>2.136359</td>\n",
       "    </tr>\n",
       "    <tr>\n",
       "      <th>1</th>\n",
       "      <td>-1.413658</td>\n",
       "      <td>7.409623</td>\n",
       "    </tr>\n",
       "    <tr>\n",
       "      <th>2</th>\n",
       "      <td>1.155213</td>\n",
       "      <td>5.099619</td>\n",
       "    </tr>\n",
       "    <tr>\n",
       "      <th>3</th>\n",
       "      <td>-1.018616</td>\n",
       "      <td>7.814915</td>\n",
       "    </tr>\n",
       "    <tr>\n",
       "      <th>4</th>\n",
       "      <td>1.271351</td>\n",
       "      <td>1.892542</td>\n",
       "    </tr>\n",
       "  </tbody>\n",
       "</table>\n",
       "</div>"
      ],
      "text/plain": [
       "         x1        x2\n",
       "0  0.836857  2.136359\n",
       "1 -1.413658  7.409623\n",
       "2  1.155213  5.099619\n",
       "3 -1.018616  7.814915\n",
       "4  1.271351  1.892542"
      ]
     },
     "execution_count": 5,
     "metadata": {},
     "output_type": "execute_result"
    }
   ],
   "source": [
    "# visualiza o dataframe\n",
    "df.head()"
   ]
  },
  {
   "cell_type": "code",
   "execution_count": 6,
   "id": "69f67834-3aed-47da-bc4b-b1f9ff2d185c",
   "metadata": {},
   "outputs": [
    {
     "data": {
      "text/plain": [
       "<AxesSubplot:xlabel='x1', ylabel='x2'>"
      ]
     },
     "execution_count": 6,
     "metadata": {},
     "output_type": "execute_result"
    },
    {
     "data": {
      "image/png": "[encoded data removed]",
      "text/plain": [
       "<Figure size 432x288 with 1 Axes>"
      ]
     },
     "metadata": {
      "needs_background": "light"
     },
     "output_type": "display_data"
    }
   ],
   "source": [
    "# plotar a figura para visualizar os agrupamentos\n",
    "sns.scatterplot(x = \"x1\", y = \"x2\", data = df)"
   ]
  },
  {
   "cell_type": "markdown",
   "id": "7816c414-2210-41f3-a611-74d341dca820",
   "metadata": {},
   "source": [
    "# Exercício: Aplicando o KMeans "
   ]
  },
  {
   "cell_type": "code",
   "execution_count": 7,
   "id": "d062de8c-aa05-4a0e-baaf-6900d6ad3696",
   "metadata": {},
   "outputs": [],
   "source": [
    "from sklearn.cluster import KMeans"
   ]
  },
  {
   "cell_type": "code",
   "execution_count": 8,
   "id": "8a70cb45-67d0-4f66-818a-474f90bbacb0",
   "metadata": {},
   "outputs": [],
   "source": [
    "# instancia o modelo\n",
    "kmeans = KMeans(n_clusters = 4, max_iter = 300)"
   ]
  },
  {
   "cell_type": "code",
   "execution_count": 9,
   "id": "5ce414ab-a100-49d7-94f5-42c5814f598d",
   "metadata": {},
   "outputs": [
    {
     "data": {
      "text/plain": [
       "KMeans(n_clusters=4)"
      ]
     },
     "execution_count": 9,
     "metadata": {},
     "output_type": "execute_result"
    }
   ],
   "source": [
    "# treina o modelo\n",
    "kmeans.fit(df)"
   ]
  },
  {
   "cell_type": "code",
   "execution_count": 10,
   "id": "c25aff9a-37bf-43fc-af7e-1ff128d6c29d",
   "metadata": {},
   "outputs": [
    {
     "data": {
      "text/plain": [
       "array([1, 0, 2, 0, 1, 1, 3, 2, 0, 0, 3, 0, 2, 0, 1, 2, 2, 1, 3, 3, 1, 1,\n",
       "       2, 3, 3, 2, 1, 2, 3, 2, 0, 0, 2, 0, 0, 0, 0, 0, 3, 1, 2, 3, 2, 2,\n",
       "       3, 3, 0, 3, 0, 1, 3, 1, 0, 1, 1, 3, 0, 3, 0, 1, 0, 2, 0, 3, 3, 3,\n",
       "       0, 1, 0, 3, 2, 3, 0, 3, 3, 0, 3, 2, 1, 0, 1, 2, 1, 1, 0, 2, 1, 2,\n",
       "       0, 0, 2, 1, 0, 3, 3, 2, 1, 1, 2, 3, 0, 1, 0, 1, 2, 1, 1, 2, 0, 2,\n",
       "       3, 3, 1, 0, 1, 2, 0, 1, 1, 2, 3, 1, 3, 1, 1, 1, 1, 3, 1, 3, 0, 3,\n",
       "       3, 1, 0, 3, 3, 0, 2, 0, 0, 3, 2, 3, 2, 3, 0, 2, 0, 0, 0, 2, 0, 2,\n",
       "       1, 3, 0, 3, 1, 2, 0, 2, 2, 1, 2, 3, 3, 2, 1, 2, 2, 0, 1, 2, 3, 0,\n",
       "       1, 1, 2, 3, 1, 2, 3, 3, 2, 2, 2, 2, 1, 0, 2, 3, 2, 2, 3, 3, 3, 2,\n",
       "       3, 0, 2, 3, 1, 3, 2, 0, 3, 0, 2, 0, 2, 3, 2, 2, 0, 3, 3, 1, 1, 2,\n",
       "       0, 1, 1, 3, 1, 3, 2, 0, 0, 2, 2, 0, 2, 1, 3, 2, 1, 3, 0, 3, 1, 2,\n",
       "       1, 0, 0, 0, 0, 3, 3, 0, 2, 3, 1, 2, 3, 3, 3, 1, 1, 0, 2, 2, 3, 1,\n",
       "       0, 3, 2, 0, 2, 1, 1, 3, 3, 2, 1, 1, 1, 2, 0, 0, 1, 1, 2, 1, 1, 1,\n",
       "       0, 3, 0, 2, 1, 1, 0, 0, 0, 1, 1, 2, 0, 3])"
      ]
     },
     "execution_count": 10,
     "metadata": {},
     "output_type": "execute_result"
    }
   ],
   "source": [
    "# quais rótulos ele atribuiu em cada entrada?\n",
    "kmeans.labels_"
   ]
  },
  {
   "cell_type": "code",
   "execution_count": 11,
   "id": "d82a0022-ccbf-4b5d-a5f1-6332de5dbdf0",
   "metadata": {},
   "outputs": [
    {
     "data": {
      "text/plain": [
       "array([1, 0, 2, 0, 1, 1, 3, 2, 0, 0, 3, 0, 2, 0, 1, 2, 2, 1, 3, 3, 1, 1,\n",
       "       2, 3, 3, 2, 1, 2, 3, 2, 0, 0, 2, 0, 0, 0, 0, 0, 3, 1, 2, 3, 2, 2,\n",
       "       3, 3, 0, 3, 0, 1, 3, 1, 0, 1, 1, 3, 0, 3, 0, 1, 0, 2, 0, 3, 3, 3,\n",
       "       0, 1, 0, 3, 2, 3, 0, 3, 3, 0, 3, 2, 1, 0, 1, 2, 1, 1, 0, 2, 1, 2,\n",
       "       0, 0, 2, 1, 0, 3, 3, 2, 1, 1, 2, 3, 0, 1, 0, 1, 2, 1, 1, 2, 0, 2,\n",
       "       3, 3, 1, 0, 1, 2, 0, 1, 1, 2, 3, 1, 3, 1, 1, 1, 1, 3, 1, 3, 0, 3,\n",
       "       3, 1, 0, 3, 3, 0, 2, 0, 0, 3, 2, 3, 2, 3, 0, 2, 0, 0, 0, 2, 0, 2,\n",
       "       1, 3, 0, 3, 1, 2, 0, 2, 2, 1, 2, 3, 3, 2, 1, 2, 2, 0, 1, 2, 3, 0,\n",
       "       1, 1, 2, 3, 1, 2, 3, 3, 2, 2, 2, 2, 1, 0, 2, 3, 2, 2, 3, 3, 3, 2,\n",
       "       3, 0, 2, 3, 1, 3, 2, 0, 3, 0, 2, 0, 2, 3, 2, 2, 0, 3, 3, 1, 1, 2,\n",
       "       0, 1, 1, 3, 1, 3, 2, 0, 0, 2, 2, 0, 2, 1, 3, 2, 1, 3, 0, 3, 1, 2,\n",
       "       1, 0, 0, 0, 0, 3, 3, 0, 2, 3, 1, 2, 3, 3, 3, 1, 1, 0, 2, 2, 3, 1,\n",
       "       0, 3, 2, 0, 2, 1, 1, 3, 3, 2, 1, 1, 1, 2, 0, 0, 1, 1, 2, 1, 1, 1,\n",
       "       0, 3, 0, 2, 1, 1, 0, 0, 0, 1, 1, 2, 0, 3])"
      ]
     },
     "execution_count": 11,
     "metadata": {},
     "output_type": "execute_result"
    }
   ],
   "source": [
    "# Caso eu tenha algum dado novo, basta dar um predict \n",
    "kmeans.predict(df)"
   ]
  },
  {
   "cell_type": "code",
   "execution_count": 12,
   "id": "7f77bfba-7abe-45ae-b318-705b0d20d3be",
   "metadata": {},
   "outputs": [],
   "source": [
    "# salvar os rótulos no dataframe\n",
    "df[\"labels\"] = kmeans.labels_"
   ]
  },
  {
   "cell_type": "code",
   "execution_count": 13,
   "id": "b7eb43fb-f8b2-4aec-9e78-ff9b790845b1",
   "metadata": {},
   "outputs": [
    {
     "data": {
      "text/html": [
       "<div>\n",
       "<style scoped>\n",
       "    .dataframe tbody tr th:only-of-type {\n",
       "        vertical-align: middle;\n",
       "    }\n",
       "\n",
       "    .dataframe tbody tr th {\n",
       "        vertical-align: top;\n",
       "    }\n",
       "\n",
       "    .dataframe thead th {\n",
       "        text-align: right;\n",
       "    }\n",
       "</style>\n",
       "<table border=\"1\" class=\"dataframe\">\n",
       "  <thead>\n",
       "    <tr style=\"text-align: right;\">\n",
       "      <th></th>\n",
       "      <th>x1</th>\n",
       "      <th>x2</th>\n",
       "      <th>labels</th>\n",
       "    </tr>\n",
       "  </thead>\n",
       "  <tbody>\n",
       "    <tr>\n",
       "      <th>0</th>\n",
       "      <td>0.836857</td>\n",
       "      <td>2.136359</td>\n",
       "      <td>1</td>\n",
       "    </tr>\n",
       "    <tr>\n",
       "      <th>1</th>\n",
       "      <td>-1.413658</td>\n",
       "      <td>7.409623</td>\n",
       "      <td>0</td>\n",
       "    </tr>\n",
       "    <tr>\n",
       "      <th>2</th>\n",
       "      <td>1.155213</td>\n",
       "      <td>5.099619</td>\n",
       "      <td>2</td>\n",
       "    </tr>\n",
       "    <tr>\n",
       "      <th>3</th>\n",
       "      <td>-1.018616</td>\n",
       "      <td>7.814915</td>\n",
       "      <td>0</td>\n",
       "    </tr>\n",
       "    <tr>\n",
       "      <th>4</th>\n",
       "      <td>1.271351</td>\n",
       "      <td>1.892542</td>\n",
       "      <td>1</td>\n",
       "    </tr>\n",
       "  </tbody>\n",
       "</table>\n",
       "</div>"
      ],
      "text/plain": [
       "         x1        x2  labels\n",
       "0  0.836857  2.136359       1\n",
       "1 -1.413658  7.409623       0\n",
       "2  1.155213  5.099619       2\n",
       "3 -1.018616  7.814915       0\n",
       "4  1.271351  1.892542       1"
      ]
     },
     "execution_count": 13,
     "metadata": {},
     "output_type": "execute_result"
    }
   ],
   "source": [
    "# visualizamos os rótulos\n",
    "df.head()"
   ]
  },
  {
   "cell_type": "code",
   "execution_count": 14,
   "id": "1224af30-5877-4d44-bf64-1bbe107012c4",
   "metadata": {},
   "outputs": [
    {
     "data": {
      "text/plain": [
       "<AxesSubplot:xlabel='x1', ylabel='x2'>"
      ]
     },
     "execution_count": 14,
     "metadata": {},
     "output_type": "execute_result"
    },
    {
     "data": {
      "image/png": "[encoded data removed]",
      "text/plain": [
       "<Figure size 432x288 with 1 Axes>"
      ]
     },
     "metadata": {
      "needs_background": "light"
     },
     "output_type": "display_data"
    }
   ],
   "source": [
    "# agora podemos plotar com os rótulos\n",
    "sns.scatterplot(x = \"x1\", y = \"x2\", data = df, hue = \"labels\", palette = \"tab10\")"
   ]
  },
  {
   "cell_type": "code",
   "execution_count": 15,
   "id": "efe80ba8-1e1a-4144-9f3f-a7ee7cf80054",
   "metadata": {},
   "outputs": [
    {
     "data": {
      "text/html": [
       "<div>\n",
       "<style scoped>\n",
       "    .dataframe tbody tr th:only-of-type {\n",
       "        vertical-align: middle;\n",
       "    }\n",
       "\n",
       "    .dataframe tbody tr th {\n",
       "        vertical-align: top;\n",
       "    }\n",
       "\n",
       "    .dataframe thead th {\n",
       "        text-align: right;\n",
       "    }\n",
       "</style>\n",
       "<table border=\"1\" class=\"dataframe\">\n",
       "  <thead>\n",
       "    <tr style=\"text-align: right;\">\n",
       "      <th></th>\n",
       "      <th>x1</th>\n",
       "      <th>x2</th>\n",
       "      <th>labels</th>\n",
       "    </tr>\n",
       "  </thead>\n",
       "  <tbody>\n",
       "    <tr>\n",
       "      <th>1</th>\n",
       "      <td>-1.413658</td>\n",
       "      <td>7.409623</td>\n",
       "      <td>0</td>\n",
       "    </tr>\n",
       "    <tr>\n",
       "      <th>3</th>\n",
       "      <td>-1.018616</td>\n",
       "      <td>7.814915</td>\n",
       "      <td>0</td>\n",
       "    </tr>\n",
       "    <tr>\n",
       "      <th>8</th>\n",
       "      <td>-0.204932</td>\n",
       "      <td>8.432097</td>\n",
       "      <td>0</td>\n",
       "    </tr>\n",
       "    <tr>\n",
       "      <th>9</th>\n",
       "      <td>-0.711100</td>\n",
       "      <td>8.660438</td>\n",
       "      <td>0</td>\n",
       "    </tr>\n",
       "    <tr>\n",
       "      <th>11</th>\n",
       "      <td>-2.670008</td>\n",
       "      <td>8.353891</td>\n",
       "      <td>0</td>\n",
       "    </tr>\n",
       "    <tr>\n",
       "      <th>...</th>\n",
       "      <td>...</td>\n",
       "      <td>...</td>\n",
       "      <td>...</td>\n",
       "    </tr>\n",
       "    <tr>\n",
       "      <th>288</th>\n",
       "      <td>-1.326888</td>\n",
       "      <td>8.515308</td>\n",
       "      <td>0</td>\n",
       "    </tr>\n",
       "    <tr>\n",
       "      <th>292</th>\n",
       "      <td>-1.120168</td>\n",
       "      <td>7.110316</td>\n",
       "      <td>0</td>\n",
       "    </tr>\n",
       "    <tr>\n",
       "      <th>293</th>\n",
       "      <td>-1.655071</td>\n",
       "      <td>8.614167</td>\n",
       "      <td>0</td>\n",
       "    </tr>\n",
       "    <tr>\n",
       "      <th>294</th>\n",
       "      <td>-1.275678</td>\n",
       "      <td>7.967765</td>\n",
       "      <td>0</td>\n",
       "    </tr>\n",
       "    <tr>\n",
       "      <th>298</th>\n",
       "      <td>0.369479</td>\n",
       "      <td>7.791105</td>\n",
       "      <td>0</td>\n",
       "    </tr>\n",
       "  </tbody>\n",
       "</table>\n",
       "<p>75 rows × 3 columns</p>\n",
       "</div>"
      ],
      "text/plain": [
       "           x1        x2  labels\n",
       "1   -1.413658  7.409623       0\n",
       "3   -1.018616  7.814915       0\n",
       "8   -0.204932  8.432097       0\n",
       "9   -0.711100  8.660438       0\n",
       "11  -2.670008  8.353891       0\n",
       "..        ...       ...     ...\n",
       "288 -1.326888  8.515308       0\n",
       "292 -1.120168  7.110316       0\n",
       "293 -1.655071  8.614167       0\n",
       "294 -1.275678  7.967765       0\n",
       "298  0.369479  7.791105       0\n",
       "\n",
       "[75 rows x 3 columns]"
      ]
     },
     "execution_count": 15,
     "metadata": {},
     "output_type": "execute_result"
    }
   ],
   "source": [
    "# E depois de efetuar uma clusterização?\n",
    "cluster_0 = df.query(\"labels == 0\")\n",
    "cluster_0"
   ]
  },
  {
   "cell_type": "code",
   "execution_count": 16,
   "id": "d660d166-15c6-47ee-8eb5-9c701dae6ba3",
   "metadata": {},
   "outputs": [
    {
     "data": {
      "text/plain": [
       "<seaborn.axisgrid.JointGrid at 0x242458f8070>"
      ]
     },
     "execution_count": 16,
     "metadata": {},
     "output_type": "execute_result"
    },
    {
     "data": {
      "image/png": "[encoded data removed]",
      "text/plain": [
       "<Figure size 432x432 with 3 Axes>"
      ]
     },
     "metadata": {
      "needs_background": "light"
     },
     "output_type": "display_data"
    }
   ],
   "source": [
    "# plotamos um cluster para análise simples\n",
    "sns.jointplot(x = \"x1\", y = \"x2\", data = cluster_0)"
   ]
  },
  {
   "cell_type": "markdown",
   "id": "68fc93b5-7a87-46fa-9c59-1c14b35a7318",
   "metadata": {},
   "source": [
    "# Resumo de um projeto de cluserização:\n",
    "\n",
    "- 1) Análise dos dados;\n",
    "- 2) Separação em variaveis para clusterização e variaveis para caracterização;\n",
    "- 3) Efetua a clusterização de fato;\n",
    "- 4) Para cada grupo realiza-se um estudo sobre sua representação;\n",
    "- 5) Validação dos agrupamentos."
   ]
  },
  {
   "cell_type": "markdown",
   "id": "98c7346d-9d4f-4317-8e9b-6b219f9f8331",
   "metadata": {},
   "source": [
    "# Mas como o K-Means funciona e como decidir a melhor quantidade de grupos?"
   ]
  },
  {
   "cell_type": "markdown",
   "id": "7b10d279-be0b-49fd-9557-a0cfd3f3296a",
   "metadata": {},
   "source": [
    "![slide4](imagens/slide4.png)"
   ]
  },
  {
   "cell_type": "markdown",
   "id": "de5e5a9d-19cb-4181-911e-831c1345c2e1",
   "metadata": {},
   "source": [
    "![slide5](imagens/slide5.png)"
   ]
  },
  {
   "cell_type": "markdown",
   "id": "751ce229-3690-4557-897a-59db86f011a9",
   "metadata": {},
   "source": [
    "# Agora, como decidir a melhor quantidade de clusters? \n",
    "\n",
    "- Método do Cotovelo e Inercia (WCSS: Within-Cluster-Sum-of-Squares);\n",
    "- Método da Silhueta.\n",
    "\n",
    "Mais métricas: https://medium.com/@gilneyjnr/qualidade-de-agrupamentos-ciência-de-dados-4b1176bef5e5"
   ]
  },
  {
   "cell_type": "markdown",
   "id": "1966a852-bf1a-4497-8e62-598e7f9cb29d",
   "metadata": {},
   "source": [
    "![slide6](imagens/slide6.png)"
   ]
  },
  {
   "cell_type": "code",
   "execution_count": 17,
   "id": "28802e9b-1fa2-4f72-9274-72a9cf6a3206",
   "metadata": {},
   "outputs": [
    {
     "name": "stderr",
     "output_type": "stream",
     "text": [
      "C:\\Users\\joao\\anaconda3\\lib\\site-packages\\sklearn\\cluster\\_kmeans.py:1036: UserWarning: KMeans is known to have a memory leak on Windows with MKL, when there are less chunks than available threads. You can avoid it by setting the environment variable OMP_NUM_THREADS=2.\n",
      "  warnings.warn(\n"
     ]
    }
   ],
   "source": [
    "# fazemos o loop para resgatar as inercias (WCSS)\n",
    "lista_inercias = []\n",
    "for k in range(1, 10):\n",
    "    kmeans = KMeans(n_clusters = k)\n",
    "    kmeans.fit(df[[\"x1\", \"x2\"]])\n",
    "    inercia = kmeans.inertia_\n",
    "    lista_inercias.append(inercia)"
   ]
  },
  {
   "cell_type": "code",
   "execution_count": 18,
   "id": "8de2eb7e",
   "metadata": {},
   "outputs": [
    {
     "data": {
      "text/plain": [
       "[2812.1375953032334,\n",
       " 1190.7823593643448,\n",
       " 546.8911504626299,\n",
       " 212.00599621083478,\n",
       " 188.82985966318427,\n",
       " 171.5057304966513,\n",
       " 153.56181606926384,\n",
       " 136.13761463934088,\n",
       " 124.54889070841355]"
      ]
     },
     "execution_count": 18,
     "metadata": {},
     "output_type": "execute_result"
    }
   ],
   "source": [
    "lista_inercias"
   ]
  },
  {
   "cell_type": "code",
   "execution_count": 19,
   "id": "43ee5831-2fa8-4aef-b5ee-e2670e781b2b",
   "metadata": {},
   "outputs": [
    {
     "data": {
      "text/plain": [
       "Text(0, 0.5, 'Inercia (WCSS)')"
      ]
     },
     "execution_count": 19,
     "metadata": {},
     "output_type": "execute_result"
    },
    {
     "data": {
      "image/png": "[encoded data removed]",
      "text/plain": [
       "<Figure size 432x288 with 1 Axes>"
      ]
     },
     "metadata": {
      "needs_background": "light"
     },
     "output_type": "display_data"
    }
   ],
   "source": [
    "# plotamos o gráfico de cotovelo\n",
    "plt.plot(range(1,10), lista_inercias, marker = \"o\")\n",
    "plt.title(\"Método do cotovelo\")\n",
    "plt.xlabel(\"K clusters\")\n",
    "plt.ylabel(\"Inercia (WCSS)\")"
   ]
  },
  {
   "cell_type": "markdown",
   "id": "a402b1cd-d064-42b3-a62e-c3ff3ac9a911",
   "metadata": {},
   "source": [
    "## Método da Silhueta"
   ]
  },
  {
   "cell_type": "markdown",
   "id": "d1da747b-cf3b-4b76-9956-e2b88027bd5f",
   "metadata": {},
   "source": [
    "![silhueta](imagens/silhuetta.jpeg)\n",
    "\n",
    "- Fonte: https://towardsdatascience.com/silhouette-coefficient-validating-clustering-techniques-e976bb81d10c"
   ]
  },
  {
   "cell_type": "markdown",
   "id": "c252f3e6-2b92-49b1-8ea2-232a71d47c21",
   "metadata": {},
   "source": [
    "![slide7](imagens/slide7.png)"
   ]
  },
  {
   "cell_type": "markdown",
   "id": "b7acf399-8613-4218-bd17-8abb11b6e240",
   "metadata": {},
   "source": [
    "![slide7](imagens/slide8.png)"
   ]
  },
  {
   "cell_type": "code",
   "execution_count": 20,
   "id": "e6fdc2f1-ddee-4d64-9d1c-d15698d5cc8a",
   "metadata": {},
   "outputs": [],
   "source": [
    "# importamos o silhueta\n",
    "from sklearn.metrics import silhouette_score"
   ]
  },
  {
   "cell_type": "code",
   "execution_count": 21,
   "id": "de1ede5c-beb6-47c6-8c67-ec17212bc84b",
   "metadata": {},
   "outputs": [],
   "source": [
    "# Fazemos o loop e salvamos os valores de silhueta\n",
    "lista_silhuetas = []\n",
    "# cuidado, aqui o range deve começar em 2, se não a distância \"b\" não existe!\n",
    "for k in range(2,10):\n",
    "    kmeans = KMeans(n_clusters = k)\n",
    "    kmeans.fit(df[[\"x1\", \"x2\"]])\n",
    "    labels = kmeans.labels_\n",
    "    silhueta = silhouette_score(df[[\"x1\", \"x2\"]], labels)\n",
    "    lista_silhuetas.append(silhueta)"
   ]
  },
  {
   "cell_type": "code",
   "execution_count": 22,
   "id": "de8a896a-9bc4-4e7d-a182-178b0652711c",
   "metadata": {},
   "outputs": [
    {
     "data": {
      "text/plain": [
       "[0.5426422297358302,\n",
       " 0.5890390393551768,\n",
       " 0.6819938690643478,\n",
       " 0.5923875148758644,\n",
       " 0.49393303204615724,\n",
       " 0.4044033409927408,\n",
       " 0.3171246022189545,\n",
       " 0.3330434067092307]"
      ]
     },
     "execution_count": 22,
     "metadata": {},
     "output_type": "execute_result"
    }
   ],
   "source": [
    "# vizualizamos os valores salvos\n",
    "lista_silhuetas"
   ]
  },
  {
   "cell_type": "code",
   "execution_count": 23,
   "id": "e34da71b-83fb-4908-9061-d0de8858e2ba",
   "metadata": {},
   "outputs": [
    {
     "data": {
      "text/plain": [
       "Text(0, 0.5, 'Silhuetas')"
      ]
     },
     "execution_count": 23,
     "metadata": {},
     "output_type": "execute_result"
    },
    {
     "data": {
      "image/png": "[encoded data removed]",
      "text/plain": [
       "<Figure size 432x288 with 1 Axes>"
      ]
     },
     "metadata": {
      "needs_background": "light"
     },
     "output_type": "display_data"
    }
   ],
   "source": [
    "plt.plot(range(2,10), lista_silhuetas, marker = \"o\")\n",
    "plt.title(\"Método da silhueta\")\n",
    "plt.xlabel(\"K Clusters\")\n",
    "plt.ylabel(\"Silhuetas\")"
   ]
  },
  {
   "cell_type": "code",
   "execution_count": null,
   "id": "43d02728-7360-4201-9a85-fa866afd9cd6",
   "metadata": {},
   "outputs": [],
   "source": []
  },
  {
   "cell_type": "markdown",
   "id": "492c2deb-8adf-4717-8260-5b6b43cf2c5c",
   "metadata": {},
   "source": [
    "# Agora, vamos atacar um problema real"
   ]
  },
  {
   "cell_type": "code",
   "execution_count": 24,
   "id": "8dbe0291-a388-4b06-82ba-148c04e0b01d",
   "metadata": {},
   "outputs": [
    {
     "data": {
      "text/plain": [
       "(541909, 8)"
      ]
     },
     "execution_count": 24,
     "metadata": {},
     "output_type": "execute_result"
    }
   ],
   "source": [
    "dt = pd.read_csv(\"E_commerce_Data.csv\")\n",
    "dt.shape"
   ]
  },
  {
   "cell_type": "code",
   "execution_count": 25,
   "id": "08ab0991",
   "metadata": {},
   "outputs": [
    {
     "data": {
      "text/html": [
       "<div>\n",
       "<style scoped>\n",
       "    .dataframe tbody tr th:only-of-type {\n",
       "        vertical-align: middle;\n",
       "    }\n",
       "\n",
       "    .dataframe tbody tr th {\n",
       "        vertical-align: top;\n",
       "    }\n",
       "\n",
       "    .dataframe thead th {\n",
       "        text-align: right;\n",
       "    }\n",
       "</style>\n",
       "<table border=\"1\" class=\"dataframe\">\n",
       "  <thead>\n",
       "    <tr style=\"text-align: right;\">\n",
       "      <th></th>\n",
       "      <th>InvoiceNo</th>\n",
       "      <th>StockCode</th>\n",
       "      <th>Description</th>\n",
       "      <th>Quantity</th>\n",
       "      <th>InvoiceDate</th>\n",
       "      <th>UnitPrice</th>\n",
       "      <th>CustomerID</th>\n",
       "      <th>Country</th>\n",
       "    </tr>\n",
       "  </thead>\n",
       "  <tbody>\n",
       "    <tr>\n",
       "      <th>0</th>\n",
       "      <td>536365</td>\n",
       "      <td>85123A</td>\n",
       "      <td>WHITE HANGING HEART T-LIGHT HOLDER</td>\n",
       "      <td>6</td>\n",
       "      <td>12/1/2010 8:26</td>\n",
       "      <td>2.55</td>\n",
       "      <td>17850.0</td>\n",
       "      <td>United Kingdom</td>\n",
       "    </tr>\n",
       "    <tr>\n",
       "      <th>1</th>\n",
       "      <td>536365</td>\n",
       "      <td>71053</td>\n",
       "      <td>WHITE METAL LANTERN</td>\n",
       "      <td>6</td>\n",
       "      <td>12/1/2010 8:26</td>\n",
       "      <td>3.39</td>\n",
       "      <td>17850.0</td>\n",
       "      <td>United Kingdom</td>\n",
       "    </tr>\n",
       "    <tr>\n",
       "      <th>2</th>\n",
       "      <td>536365</td>\n",
       "      <td>84406B</td>\n",
       "      <td>CREAM CUPID HEARTS COAT HANGER</td>\n",
       "      <td>8</td>\n",
       "      <td>12/1/2010 8:26</td>\n",
       "      <td>2.75</td>\n",
       "      <td>17850.0</td>\n",
       "      <td>United Kingdom</td>\n",
       "    </tr>\n",
       "    <tr>\n",
       "      <th>3</th>\n",
       "      <td>536365</td>\n",
       "      <td>84029G</td>\n",
       "      <td>KNITTED UNION FLAG HOT WATER BOTTLE</td>\n",
       "      <td>6</td>\n",
       "      <td>12/1/2010 8:26</td>\n",
       "      <td>3.39</td>\n",
       "      <td>17850.0</td>\n",
       "      <td>United Kingdom</td>\n",
       "    </tr>\n",
       "    <tr>\n",
       "      <th>4</th>\n",
       "      <td>536365</td>\n",
       "      <td>84029E</td>\n",
       "      <td>RED WOOLLY HOTTIE WHITE HEART.</td>\n",
       "      <td>6</td>\n",
       "      <td>12/1/2010 8:26</td>\n",
       "      <td>3.39</td>\n",
       "      <td>17850.0</td>\n",
       "      <td>United Kingdom</td>\n",
       "    </tr>\n",
       "  </tbody>\n",
       "</table>\n",
       "</div>"
      ],
      "text/plain": [
       "  InvoiceNo StockCode                          Description  Quantity  \\\n",
       "0    536365    85123A   WHITE HANGING HEART T-LIGHT HOLDER         6   \n",
       "1    536365     71053                  WHITE METAL LANTERN         6   \n",
       "2    536365    84406B       CREAM CUPID HEARTS COAT HANGER         8   \n",
       "3    536365    84029G  KNITTED UNION FLAG HOT WATER BOTTLE         6   \n",
       "4    536365    84029E       RED WOOLLY HOTTIE WHITE HEART.         6   \n",
       "\n",
       "      InvoiceDate  UnitPrice  CustomerID         Country  \n",
       "0  12/1/2010 8:26       2.55     17850.0  United Kingdom  \n",
       "1  12/1/2010 8:26       3.39     17850.0  United Kingdom  \n",
       "2  12/1/2010 8:26       2.75     17850.0  United Kingdom  \n",
       "3  12/1/2010 8:26       3.39     17850.0  United Kingdom  \n",
       "4  12/1/2010 8:26       3.39     17850.0  United Kingdom  "
      ]
     },
     "execution_count": 25,
     "metadata": {},
     "output_type": "execute_result"
    }
   ],
   "source": [
    "dt.head()"
   ]
  },
  {
   "cell_type": "code",
   "execution_count": 26,
   "id": "a9ac1f49",
   "metadata": {},
   "outputs": [
    {
     "data": {
      "text/plain": [
       "InvoiceNo           0\n",
       "StockCode           0\n",
       "Description      1454\n",
       "Quantity            0\n",
       "InvoiceDate         0\n",
       "UnitPrice           0\n",
       "CustomerID     135080\n",
       "Country             0\n",
       "dtype: int64"
      ]
     },
     "execution_count": 26,
     "metadata": {},
     "output_type": "execute_result"
    }
   ],
   "source": [
    "dt.isnull().sum()"
   ]
  },
  {
   "cell_type": "code",
   "execution_count": 27,
   "id": "9b8d0519",
   "metadata": {},
   "outputs": [
    {
     "data": {
      "text/plain": [
       "(406829, 8)"
      ]
     },
     "execution_count": 27,
     "metadata": {},
     "output_type": "execute_result"
    }
   ],
   "source": [
    "dt_limpo1 = dt[dt[\"CustomerID\"].notnull()]\n",
    "dt_limpo1.shape"
   ]
  },
  {
   "cell_type": "code",
   "execution_count": 28,
   "id": "5cecd437",
   "metadata": {},
   "outputs": [
    {
     "data": {
      "text/plain": [
       "InvoiceNo      0\n",
       "StockCode      0\n",
       "Description    0\n",
       "Quantity       0\n",
       "InvoiceDate    0\n",
       "UnitPrice      0\n",
       "CustomerID     0\n",
       "Country        0\n",
       "dtype: int64"
      ]
     },
     "execution_count": 28,
     "metadata": {},
     "output_type": "execute_result"
    }
   ],
   "source": [
    "dt_limpo1.isnull().sum()"
   ]
  },
  {
   "cell_type": "code",
   "execution_count": 29,
   "id": "7b40c599",
   "metadata": {},
   "outputs": [
    {
     "data": {
      "text/html": [
       "<div>\n",
       "<style scoped>\n",
       "    .dataframe tbody tr th:only-of-type {\n",
       "        vertical-align: middle;\n",
       "    }\n",
       "\n",
       "    .dataframe tbody tr th {\n",
       "        vertical-align: top;\n",
       "    }\n",
       "\n",
       "    .dataframe thead th {\n",
       "        text-align: right;\n",
       "    }\n",
       "</style>\n",
       "<table border=\"1\" class=\"dataframe\">\n",
       "  <thead>\n",
       "    <tr style=\"text-align: right;\">\n",
       "      <th></th>\n",
       "      <th>CustomerID</th>\n",
       "      <th>Quantity</th>\n",
       "      <th>UnitPrice</th>\n",
       "    </tr>\n",
       "  </thead>\n",
       "  <tbody>\n",
       "    <tr>\n",
       "      <th>0</th>\n",
       "      <td>12346.0</td>\n",
       "      <td>0.000000</td>\n",
       "      <td>1.040000</td>\n",
       "    </tr>\n",
       "    <tr>\n",
       "      <th>1</th>\n",
       "      <td>12347.0</td>\n",
       "      <td>13.505495</td>\n",
       "      <td>2.644011</td>\n",
       "    </tr>\n",
       "    <tr>\n",
       "      <th>2</th>\n",
       "      <td>12348.0</td>\n",
       "      <td>75.516129</td>\n",
       "      <td>5.764839</td>\n",
       "    </tr>\n",
       "    <tr>\n",
       "      <th>3</th>\n",
       "      <td>12349.0</td>\n",
       "      <td>8.643836</td>\n",
       "      <td>8.289041</td>\n",
       "    </tr>\n",
       "    <tr>\n",
       "      <th>4</th>\n",
       "      <td>12350.0</td>\n",
       "      <td>11.588235</td>\n",
       "      <td>3.841176</td>\n",
       "    </tr>\n",
       "    <tr>\n",
       "      <th>...</th>\n",
       "      <td>...</td>\n",
       "      <td>...</td>\n",
       "      <td>...</td>\n",
       "    </tr>\n",
       "    <tr>\n",
       "      <th>4367</th>\n",
       "      <td>18280.0</td>\n",
       "      <td>4.500000</td>\n",
       "      <td>4.765000</td>\n",
       "    </tr>\n",
       "    <tr>\n",
       "      <th>4368</th>\n",
       "      <td>18281.0</td>\n",
       "      <td>7.714286</td>\n",
       "      <td>5.622857</td>\n",
       "    </tr>\n",
       "    <tr>\n",
       "      <th>4369</th>\n",
       "      <td>18282.0</td>\n",
       "      <td>7.538462</td>\n",
       "      <td>4.821538</td>\n",
       "    </tr>\n",
       "    <tr>\n",
       "      <th>4370</th>\n",
       "      <td>18283.0</td>\n",
       "      <td>1.847884</td>\n",
       "      <td>1.614987</td>\n",
       "    </tr>\n",
       "    <tr>\n",
       "      <th>4371</th>\n",
       "      <td>18287.0</td>\n",
       "      <td>22.657143</td>\n",
       "      <td>1.493571</td>\n",
       "    </tr>\n",
       "  </tbody>\n",
       "</table>\n",
       "<p>4372 rows × 3 columns</p>\n",
       "</div>"
      ],
      "text/plain": [
       "      CustomerID   Quantity  UnitPrice\n",
       "0        12346.0   0.000000   1.040000\n",
       "1        12347.0  13.505495   2.644011\n",
       "2        12348.0  75.516129   5.764839\n",
       "3        12349.0   8.643836   8.289041\n",
       "4        12350.0  11.588235   3.841176\n",
       "...          ...        ...        ...\n",
       "4367     18280.0   4.500000   4.765000\n",
       "4368     18281.0   7.714286   5.622857\n",
       "4369     18282.0   7.538462   4.821538\n",
       "4370     18283.0   1.847884   1.614987\n",
       "4371     18287.0  22.657143   1.493571\n",
       "\n",
       "[4372 rows x 3 columns]"
      ]
     },
     "execution_count": 29,
     "metadata": {},
     "output_type": "execute_result"
    }
   ],
   "source": [
    "dt_limpo1.groupby([\"CustomerID\"], as_index = False)[[\"Quantity\", \"UnitPrice\"]].mean()"
   ]
  },
  {
   "cell_type": "code",
   "execution_count": 30,
   "id": "4eb22079",
   "metadata": {},
   "outputs": [
    {
     "data": {
      "text/html": [
       "<div>\n",
       "<style scoped>\n",
       "    .dataframe tbody tr th:only-of-type {\n",
       "        vertical-align: middle;\n",
       "    }\n",
       "\n",
       "    .dataframe tbody tr th {\n",
       "        vertical-align: top;\n",
       "    }\n",
       "\n",
       "    .dataframe thead th {\n",
       "        text-align: right;\n",
       "    }\n",
       "</style>\n",
       "<table border=\"1\" class=\"dataframe\">\n",
       "  <thead>\n",
       "    <tr style=\"text-align: right;\">\n",
       "      <th></th>\n",
       "      <th>InvoiceNo</th>\n",
       "      <th>StockCode</th>\n",
       "      <th>Description</th>\n",
       "      <th>Quantity</th>\n",
       "      <th>InvoiceDate</th>\n",
       "      <th>UnitPrice</th>\n",
       "      <th>CustomerID</th>\n",
       "      <th>Country</th>\n",
       "    </tr>\n",
       "  </thead>\n",
       "  <tbody>\n",
       "    <tr>\n",
       "      <th>61619</th>\n",
       "      <td>541431</td>\n",
       "      <td>23166</td>\n",
       "      <td>MEDIUM CERAMIC TOP STORAGE JAR</td>\n",
       "      <td>74215</td>\n",
       "      <td>1/18/2011 10:01</td>\n",
       "      <td>1.04</td>\n",
       "      <td>12346.0</td>\n",
       "      <td>United Kingdom</td>\n",
       "    </tr>\n",
       "    <tr>\n",
       "      <th>61624</th>\n",
       "      <td>C541433</td>\n",
       "      <td>23166</td>\n",
       "      <td>MEDIUM CERAMIC TOP STORAGE JAR</td>\n",
       "      <td>-74215</td>\n",
       "      <td>1/18/2011 10:17</td>\n",
       "      <td>1.04</td>\n",
       "      <td>12346.0</td>\n",
       "      <td>United Kingdom</td>\n",
       "    </tr>\n",
       "  </tbody>\n",
       "</table>\n",
       "</div>"
      ],
      "text/plain": [
       "      InvoiceNo StockCode                     Description  Quantity  \\\n",
       "61619    541431     23166  MEDIUM CERAMIC TOP STORAGE JAR     74215   \n",
       "61624   C541433     23166  MEDIUM CERAMIC TOP STORAGE JAR    -74215   \n",
       "\n",
       "           InvoiceDate  UnitPrice  CustomerID         Country  \n",
       "61619  1/18/2011 10:01       1.04     12346.0  United Kingdom  \n",
       "61624  1/18/2011 10:17       1.04     12346.0  United Kingdom  "
      ]
     },
     "execution_count": 30,
     "metadata": {},
     "output_type": "execute_result"
    }
   ],
   "source": [
    "dt_limpo1.query(\"CustomerID == 12346\")"
   ]
  },
  {
   "cell_type": "code",
   "execution_count": 31,
   "id": "300207ed",
   "metadata": {},
   "outputs": [],
   "source": [
    "clientes_esquisitos = dt_limpo1.query(\"Quantity <= 0\")[\"CustomerID\"].unique()"
   ]
  },
  {
   "cell_type": "code",
   "execution_count": 32,
   "id": "89f39868",
   "metadata": {},
   "outputs": [
    {
     "data": {
      "text/plain": [
       "(153037, 8)"
      ]
     },
     "execution_count": 32,
     "metadata": {},
     "output_type": "execute_result"
    }
   ],
   "source": [
    "dt_limpo2 = dt_limpo1[~dt_limpo1[\"CustomerID\"].isin(clientes_esquisitos)]\n",
    "dt_limpo2.shape"
   ]
  },
  {
   "cell_type": "code",
   "execution_count": 33,
   "id": "e9d37a30",
   "metadata": {},
   "outputs": [
    {
     "data": {
      "text/html": [
       "<div>\n",
       "<style scoped>\n",
       "    .dataframe tbody tr th:only-of-type {\n",
       "        vertical-align: middle;\n",
       "    }\n",
       "\n",
       "    .dataframe tbody tr th {\n",
       "        vertical-align: top;\n",
       "    }\n",
       "\n",
       "    .dataframe thead th {\n",
       "        text-align: right;\n",
       "    }\n",
       "</style>\n",
       "<table border=\"1\" class=\"dataframe\">\n",
       "  <thead>\n",
       "    <tr style=\"text-align: right;\">\n",
       "      <th></th>\n",
       "      <th>InvoiceNo</th>\n",
       "      <th>StockCode</th>\n",
       "      <th>Description</th>\n",
       "      <th>Quantity</th>\n",
       "      <th>InvoiceDate</th>\n",
       "      <th>UnitPrice</th>\n",
       "      <th>CustomerID</th>\n",
       "      <th>Country</th>\n",
       "    </tr>\n",
       "  </thead>\n",
       "  <tbody>\n",
       "    <tr>\n",
       "      <th>46</th>\n",
       "      <td>536371</td>\n",
       "      <td>22086</td>\n",
       "      <td>PAPER CHAIN KIT 50'S CHRISTMAS</td>\n",
       "      <td>80</td>\n",
       "      <td>12/1/2010 9:00</td>\n",
       "      <td>2.55</td>\n",
       "      <td>13748.0</td>\n",
       "      <td>United Kingdom</td>\n",
       "    </tr>\n",
       "    <tr>\n",
       "      <th>142</th>\n",
       "      <td>536382</td>\n",
       "      <td>10002</td>\n",
       "      <td>INFLATABLE POLITICAL GLOBE</td>\n",
       "      <td>12</td>\n",
       "      <td>12/1/2010 9:45</td>\n",
       "      <td>0.85</td>\n",
       "      <td>16098.0</td>\n",
       "      <td>United Kingdom</td>\n",
       "    </tr>\n",
       "    <tr>\n",
       "      <th>143</th>\n",
       "      <td>536382</td>\n",
       "      <td>21912</td>\n",
       "      <td>VINTAGE SNAKES &amp; LADDERS</td>\n",
       "      <td>8</td>\n",
       "      <td>12/1/2010 9:45</td>\n",
       "      <td>3.75</td>\n",
       "      <td>16098.0</td>\n",
       "      <td>United Kingdom</td>\n",
       "    </tr>\n",
       "    <tr>\n",
       "      <th>144</th>\n",
       "      <td>536382</td>\n",
       "      <td>21832</td>\n",
       "      <td>CHOCOLATE CALCULATOR</td>\n",
       "      <td>12</td>\n",
       "      <td>12/1/2010 9:45</td>\n",
       "      <td>1.65</td>\n",
       "      <td>16098.0</td>\n",
       "      <td>United Kingdom</td>\n",
       "    </tr>\n",
       "    <tr>\n",
       "      <th>145</th>\n",
       "      <td>536382</td>\n",
       "      <td>22411</td>\n",
       "      <td>JUMBO SHOPPER VINTAGE RED PAISLEY</td>\n",
       "      <td>10</td>\n",
       "      <td>12/1/2010 9:45</td>\n",
       "      <td>1.95</td>\n",
       "      <td>16098.0</td>\n",
       "      <td>United Kingdom</td>\n",
       "    </tr>\n",
       "  </tbody>\n",
       "</table>\n",
       "</div>"
      ],
      "text/plain": [
       "    InvoiceNo StockCode                        Description  Quantity  \\\n",
       "46     536371     22086    PAPER CHAIN KIT 50'S CHRISTMAS         80   \n",
       "142    536382     10002        INFLATABLE POLITICAL GLOBE         12   \n",
       "143    536382     21912           VINTAGE SNAKES & LADDERS         8   \n",
       "144    536382     21832               CHOCOLATE CALCULATOR        12   \n",
       "145    536382     22411  JUMBO SHOPPER VINTAGE RED PAISLEY        10   \n",
       "\n",
       "        InvoiceDate  UnitPrice  CustomerID         Country  \n",
       "46   12/1/2010 9:00       2.55     13748.0  United Kingdom  \n",
       "142  12/1/2010 9:45       0.85     16098.0  United Kingdom  \n",
       "143  12/1/2010 9:45       3.75     16098.0  United Kingdom  \n",
       "144  12/1/2010 9:45       1.65     16098.0  United Kingdom  \n",
       "145  12/1/2010 9:45       1.95     16098.0  United Kingdom  "
      ]
     },
     "execution_count": 33,
     "metadata": {},
     "output_type": "execute_result"
    }
   ],
   "source": [
    "dt_limpo2.head()"
   ]
  },
  {
   "cell_type": "code",
   "execution_count": 34,
   "id": "ae94844d",
   "metadata": {},
   "outputs": [
    {
     "data": {
      "text/html": [
       "<div>\n",
       "<style scoped>\n",
       "    .dataframe tbody tr th:only-of-type {\n",
       "        vertical-align: middle;\n",
       "    }\n",
       "\n",
       "    .dataframe tbody tr th {\n",
       "        vertical-align: top;\n",
       "    }\n",
       "\n",
       "    .dataframe thead th {\n",
       "        text-align: right;\n",
       "    }\n",
       "</style>\n",
       "<table border=\"1\" class=\"dataframe\">\n",
       "  <thead>\n",
       "    <tr style=\"text-align: right;\">\n",
       "      <th></th>\n",
       "      <th>CustomerID</th>\n",
       "      <th>UnitPrice</th>\n",
       "      <th>Quantity</th>\n",
       "    </tr>\n",
       "  </thead>\n",
       "  <tbody>\n",
       "    <tr>\n",
       "      <th>0</th>\n",
       "      <td>12347.0</td>\n",
       "      <td>2.644011</td>\n",
       "      <td>13.505495</td>\n",
       "    </tr>\n",
       "    <tr>\n",
       "      <th>1</th>\n",
       "      <td>12348.0</td>\n",
       "      <td>5.764839</td>\n",
       "      <td>75.516129</td>\n",
       "    </tr>\n",
       "    <tr>\n",
       "      <th>2</th>\n",
       "      <td>12349.0</td>\n",
       "      <td>8.289041</td>\n",
       "      <td>8.643836</td>\n",
       "    </tr>\n",
       "    <tr>\n",
       "      <th>3</th>\n",
       "      <td>12350.0</td>\n",
       "      <td>3.841176</td>\n",
       "      <td>11.588235</td>\n",
       "    </tr>\n",
       "    <tr>\n",
       "      <th>4</th>\n",
       "      <td>12353.0</td>\n",
       "      <td>6.075000</td>\n",
       "      <td>5.000000</td>\n",
       "    </tr>\n",
       "  </tbody>\n",
       "</table>\n",
       "</div>"
      ],
      "text/plain": [
       "   CustomerID  UnitPrice   Quantity\n",
       "0     12347.0   2.644011  13.505495\n",
       "1     12348.0   5.764839  75.516129\n",
       "2     12349.0   8.289041   8.643836\n",
       "3     12350.0   3.841176  11.588235\n",
       "4     12353.0   6.075000   5.000000"
      ]
     },
     "execution_count": 34,
     "metadata": {},
     "output_type": "execute_result"
    }
   ],
   "source": [
    "dt_cluster = dt_limpo2.groupby(\"CustomerID\", as_index= False)[[\"UnitPrice\", \"Quantity\"]].mean()\n",
    "dt_cluster.head()"
   ]
  },
  {
   "cell_type": "code",
   "execution_count": 35,
   "id": "610de51d",
   "metadata": {},
   "outputs": [],
   "source": [
    "# Lembre-se de passar algum Scaler nas variáveis\n",
    "from sklearn.preprocessing import StandardScaler \n",
    "\n",
    "scaler = StandardScaler()"
   ]
  },
  {
   "cell_type": "code",
   "execution_count": 36,
   "id": "e35e1862",
   "metadata": {},
   "outputs": [],
   "source": [
    "dt_cluster[[\"unit_price_n\", \"quantity_n\"]] = scaler.fit_transform(dt_cluster[[\"UnitPrice\", \"Quantity\"]])"
   ]
  },
  {
   "cell_type": "code",
   "execution_count": 37,
   "id": "e606c16f",
   "metadata": {},
   "outputs": [
    {
     "data": {
      "text/html": [
       "<div>\n",
       "<style scoped>\n",
       "    .dataframe tbody tr th:only-of-type {\n",
       "        vertical-align: middle;\n",
       "    }\n",
       "\n",
       "    .dataframe tbody tr th {\n",
       "        vertical-align: top;\n",
       "    }\n",
       "\n",
       "    .dataframe thead th {\n",
       "        text-align: right;\n",
       "    }\n",
       "</style>\n",
       "<table border=\"1\" class=\"dataframe\">\n",
       "  <thead>\n",
       "    <tr style=\"text-align: right;\">\n",
       "      <th></th>\n",
       "      <th>CustomerID</th>\n",
       "      <th>UnitPrice</th>\n",
       "      <th>Quantity</th>\n",
       "      <th>unit_price_n</th>\n",
       "      <th>quantity_n</th>\n",
       "    </tr>\n",
       "  </thead>\n",
       "  <tbody>\n",
       "    <tr>\n",
       "      <th>0</th>\n",
       "      <td>12347.0</td>\n",
       "      <td>2.644011</td>\n",
       "      <td>13.505495</td>\n",
       "      <td>-0.041939</td>\n",
       "      <td>-0.049409</td>\n",
       "    </tr>\n",
       "    <tr>\n",
       "      <th>1</th>\n",
       "      <td>12348.0</td>\n",
       "      <td>5.764839</td>\n",
       "      <td>75.516129</td>\n",
       "      <td>0.037740</td>\n",
       "      <td>0.183688</td>\n",
       "    </tr>\n",
       "    <tr>\n",
       "      <th>2</th>\n",
       "      <td>12349.0</td>\n",
       "      <td>8.289041</td>\n",
       "      <td>8.643836</td>\n",
       "      <td>0.102186</td>\n",
       "      <td>-0.067684</td>\n",
       "    </tr>\n",
       "    <tr>\n",
       "      <th>3</th>\n",
       "      <td>12350.0</td>\n",
       "      <td>3.841176</td>\n",
       "      <td>11.588235</td>\n",
       "      <td>-0.011374</td>\n",
       "      <td>-0.056616</td>\n",
       "    </tr>\n",
       "    <tr>\n",
       "      <th>4</th>\n",
       "      <td>12353.0</td>\n",
       "      <td>6.075000</td>\n",
       "      <td>5.000000</td>\n",
       "      <td>0.045659</td>\n",
       "      <td>-0.081381</td>\n",
       "    </tr>\n",
       "  </tbody>\n",
       "</table>\n",
       "</div>"
      ],
      "text/plain": [
       "   CustomerID  UnitPrice   Quantity  unit_price_n  quantity_n\n",
       "0     12347.0   2.644011  13.505495     -0.041939   -0.049409\n",
       "1     12348.0   5.764839  75.516129      0.037740    0.183688\n",
       "2     12349.0   8.289041   8.643836      0.102186   -0.067684\n",
       "3     12350.0   3.841176  11.588235     -0.011374   -0.056616\n",
       "4     12353.0   6.075000   5.000000      0.045659   -0.081381"
      ]
     },
     "execution_count": 37,
     "metadata": {},
     "output_type": "execute_result"
    }
   ],
   "source": [
    "dt_cluster.head()"
   ]
  },
  {
   "cell_type": "code",
   "execution_count": 38,
   "id": "46efef5a",
   "metadata": {},
   "outputs": [],
   "source": [
    "X_cols = [\"unit_price_n\", \"quantity_n\"]"
   ]
  },
  {
   "cell_type": "code",
   "execution_count": 39,
   "id": "bc19e62e",
   "metadata": {},
   "outputs": [],
   "source": [
    "lista_inercia = []\n",
    "lista_silhueta = []\n",
    "for k in range(2,10):\n",
    "    kmeans = KMeans(n_clusters = k)\n",
    "    kmeans.fit(dt_cluster[X_cols])\n",
    "    inercia = kmeans.inertia_\n",
    "    labels = kmeans.labels_\n",
    "    silhueta = silhouette_score(dt_cluster[X_cols], labels)\n",
    "    lista_inercia.append(inercia)\n",
    "    lista_silhueta.append(silhueta)"
   ]
  },
  {
   "cell_type": "code",
   "execution_count": 40,
   "id": "771769ed",
   "metadata": {},
   "outputs": [
    {
     "data": {
      "text/plain": [
       "Text(0, 0.5, 'Inercia (WCSS)')"
      ]
     },
     "execution_count": 40,
     "metadata": {},
     "output_type": "execute_result"
    },
    {
     "data": {
      "image/png": "[encoded data removed]",
      "text/plain": [
       "<Figure size 432x288 with 1 Axes>"
      ]
     },
     "metadata": {
      "needs_background": "light"
     },
     "output_type": "display_data"
    }
   ],
   "source": [
    "plt.plot(range(2,10), lista_inercia, marker = \"o\")\n",
    "plt.title(\"Método do cotovelo\")\n",
    "plt.xlabel(\"K clusters\")\n",
    "plt.ylabel(\"Inercia (WCSS)\")"
   ]
  },
  {
   "cell_type": "code",
   "execution_count": 41,
   "id": "01dfed16",
   "metadata": {},
   "outputs": [
    {
     "data": {
      "text/plain": [
       "Text(0, 0.5, 'silhueta')"
      ]
     },
     "execution_count": 41,
     "metadata": {},
     "output_type": "execute_result"
    },
    {
     "data": {
      "image/png": "[encoded data removed]",
      "text/plain": [
       "<Figure size 432x288 with 1 Axes>"
      ]
     },
     "metadata": {
      "needs_background": "light"
     },
     "output_type": "display_data"
    }
   ],
   "source": [
    "plt.plot(range(2,10), lista_silhueta, marker = \"o\")\n",
    "plt.title(\"Método da silhueta\")\n",
    "plt.xlabel(\"K clusters\")\n",
    "plt.ylabel(\"silhueta\")"
   ]
  },
  {
   "cell_type": "code",
   "execution_count": 42,
   "id": "af3234d2",
   "metadata": {},
   "outputs": [],
   "source": [
    "kmeans = KMeans(n_clusters = 3)\n",
    "kmeans.fit(dt_cluster[X_cols])\n",
    "dt_cluster[\"labels\"] = kmeans.labels_"
   ]
  },
  {
   "cell_type": "code",
   "execution_count": 43,
   "id": "eb6138f3",
   "metadata": {},
   "outputs": [
    {
     "data": {
      "text/plain": [
       "0    2781\n",
       "2       1\n",
       "1       1\n",
       "Name: labels, dtype: int64"
      ]
     },
     "execution_count": 43,
     "metadata": {},
     "output_type": "execute_result"
    }
   ],
   "source": [
    "dt_cluster[\"labels\"].value_counts(dropna = False)"
   ]
  },
  {
   "cell_type": "code",
   "execution_count": 44,
   "id": "43ad3f9b",
   "metadata": {},
   "outputs": [
    {
     "data": {
      "text/plain": [
       "<AxesSubplot:xlabel='unit_price_n', ylabel='quantity_n'>"
      ]
     },
     "execution_count": 44,
     "metadata": {},
     "output_type": "execute_result"
    },
    {
     "data": {
      "image/png": "[encoded data removed]",
      "text/plain": [
       "<Figure size 432x288 with 1 Axes>"
      ]
     },
     "metadata": {
      "needs_background": "light"
     },
     "output_type": "display_data"
    }
   ],
   "source": [
    "sns.scatterplot(x = X_cols[0], y = X_cols[1], data = dt_cluster, hue = \"labels\")"
   ]
  },
  {
   "cell_type": "code",
   "execution_count": 45,
   "id": "c3c28a30",
   "metadata": {},
   "outputs": [
    {
     "data": {
      "text/plain": [
       "<AxesSubplot:xlabel='UnitPrice'>"
      ]
     },
     "execution_count": 45,
     "metadata": {},
     "output_type": "execute_result"
    },
    {
     "data": {
      "image/png": "[encoded data removed]",
      "text/plain": [
       "<Figure size 432x288 with 1 Axes>"
      ]
     },
     "metadata": {
      "needs_background": "light"
     },
     "output_type": "display_data"
    }
   ],
   "source": [
    "sns.boxplot(x = \"UnitPrice\", data = dt_cluster)"
   ]
  },
  {
   "cell_type": "code",
   "execution_count": 46,
   "id": "d56fe3ac",
   "metadata": {},
   "outputs": [
    {
     "data": {
      "text/plain": [
       "<AxesSubplot:xlabel='Quantity'>"
      ]
     },
     "execution_count": 46,
     "metadata": {},
     "output_type": "execute_result"
    },
    {
     "data": {
      "image/png": "[encoded data removed]",
      "text/plain": [
       "<Figure size 432x288 with 1 Axes>"
      ]
     },
     "metadata": {
      "needs_background": "light"
     },
     "output_type": "display_data"
    }
   ],
   "source": [
    "sns.boxplot(x = \"Quantity\", data = dt_cluster)"
   ]
  },
  {
   "cell_type": "code",
   "execution_count": 47,
   "id": "a59c23cc",
   "metadata": {},
   "outputs": [],
   "source": [
    "q4_UnitPrice = dt_cluster[\"UnitPrice\"].quantile(0.75) * 1.5\n",
    "q4_Quantity = dt_cluster[\"Quantity\"].quantile(0.75) * 1.5"
   ]
  },
  {
   "cell_type": "code",
   "execution_count": 48,
   "id": "0a29c419",
   "metadata": {},
   "outputs": [
    {
     "data": {
      "text/html": [
       "<div>\n",
       "<style scoped>\n",
       "    .dataframe tbody tr th:only-of-type {\n",
       "        vertical-align: middle;\n",
       "    }\n",
       "\n",
       "    .dataframe tbody tr th {\n",
       "        vertical-align: top;\n",
       "    }\n",
       "\n",
       "    .dataframe thead th {\n",
       "        text-align: right;\n",
       "    }\n",
       "</style>\n",
       "<table border=\"1\" class=\"dataframe\">\n",
       "  <thead>\n",
       "    <tr style=\"text-align: right;\">\n",
       "      <th></th>\n",
       "      <th>CustomerID</th>\n",
       "      <th>UnitPrice</th>\n",
       "      <th>Quantity</th>\n",
       "      <th>unit_price_n</th>\n",
       "      <th>quantity_n</th>\n",
       "      <th>labels</th>\n",
       "    </tr>\n",
       "  </thead>\n",
       "  <tbody>\n",
       "    <tr>\n",
       "      <th>0</th>\n",
       "      <td>12347.0</td>\n",
       "      <td>2.644011</td>\n",
       "      <td>13.505495</td>\n",
       "      <td>-0.041939</td>\n",
       "      <td>-0.049409</td>\n",
       "      <td>0</td>\n",
       "    </tr>\n",
       "    <tr>\n",
       "      <th>3</th>\n",
       "      <td>12350.0</td>\n",
       "      <td>3.841176</td>\n",
       "      <td>11.588235</td>\n",
       "      <td>-0.011374</td>\n",
       "      <td>-0.056616</td>\n",
       "      <td>0</td>\n",
       "    </tr>\n",
       "    <tr>\n",
       "      <th>5</th>\n",
       "      <td>12354.0</td>\n",
       "      <td>4.503793</td>\n",
       "      <td>9.137931</td>\n",
       "      <td>0.005544</td>\n",
       "      <td>-0.065827</td>\n",
       "      <td>0</td>\n",
       "    </tr>\n",
       "    <tr>\n",
       "      <th>6</th>\n",
       "      <td>12355.0</td>\n",
       "      <td>4.203846</td>\n",
       "      <td>18.461538</td>\n",
       "      <td>-0.002114</td>\n",
       "      <td>-0.030779</td>\n",
       "      <td>0</td>\n",
       "    </tr>\n",
       "    <tr>\n",
       "      <th>8</th>\n",
       "      <td>12357.0</td>\n",
       "      <td>3.348626</td>\n",
       "      <td>20.671756</td>\n",
       "      <td>-0.023949</td>\n",
       "      <td>-0.022471</td>\n",
       "      <td>0</td>\n",
       "    </tr>\n",
       "    <tr>\n",
       "      <th>...</th>\n",
       "      <td>...</td>\n",
       "      <td>...</td>\n",
       "      <td>...</td>\n",
       "      <td>...</td>\n",
       "      <td>...</td>\n",
       "      <td>...</td>\n",
       "    </tr>\n",
       "    <tr>\n",
       "      <th>2776</th>\n",
       "      <td>18265.0</td>\n",
       "      <td>5.246522</td>\n",
       "      <td>6.760870</td>\n",
       "      <td>0.024506</td>\n",
       "      <td>-0.074762</td>\n",
       "      <td>0</td>\n",
       "    </tr>\n",
       "    <tr>\n",
       "      <th>2778</th>\n",
       "      <td>18278.0</td>\n",
       "      <td>3.283333</td>\n",
       "      <td>7.333333</td>\n",
       "      <td>-0.025616</td>\n",
       "      <td>-0.072610</td>\n",
       "      <td>0</td>\n",
       "    </tr>\n",
       "    <tr>\n",
       "      <th>2779</th>\n",
       "      <td>18280.0</td>\n",
       "      <td>4.765000</td>\n",
       "      <td>4.500000</td>\n",
       "      <td>0.012213</td>\n",
       "      <td>-0.083260</td>\n",
       "      <td>0</td>\n",
       "    </tr>\n",
       "    <tr>\n",
       "      <th>2780</th>\n",
       "      <td>18281.0</td>\n",
       "      <td>5.622857</td>\n",
       "      <td>7.714286</td>\n",
       "      <td>0.034115</td>\n",
       "      <td>-0.071178</td>\n",
       "      <td>0</td>\n",
       "    </tr>\n",
       "    <tr>\n",
       "      <th>2781</th>\n",
       "      <td>18283.0</td>\n",
       "      <td>1.614987</td>\n",
       "      <td>1.847884</td>\n",
       "      <td>-0.068211</td>\n",
       "      <td>-0.093230</td>\n",
       "      <td>0</td>\n",
       "    </tr>\n",
       "  </tbody>\n",
       "</table>\n",
       "<p>2227 rows × 6 columns</p>\n",
       "</div>"
      ],
      "text/plain": [
       "      CustomerID  UnitPrice   Quantity  unit_price_n  quantity_n  labels\n",
       "0        12347.0   2.644011  13.505495     -0.041939   -0.049409       0\n",
       "3        12350.0   3.841176  11.588235     -0.011374   -0.056616       0\n",
       "5        12354.0   4.503793   9.137931      0.005544   -0.065827       0\n",
       "6        12355.0   4.203846  18.461538     -0.002114   -0.030779       0\n",
       "8        12357.0   3.348626  20.671756     -0.023949   -0.022471       0\n",
       "...          ...        ...        ...           ...         ...     ...\n",
       "2776     18265.0   5.246522   6.760870      0.024506   -0.074762       0\n",
       "2778     18278.0   3.283333   7.333333     -0.025616   -0.072610       0\n",
       "2779     18280.0   4.765000   4.500000      0.012213   -0.083260       0\n",
       "2780     18281.0   5.622857   7.714286      0.034115   -0.071178       0\n",
       "2781     18283.0   1.614987   1.847884     -0.068211   -0.093230       0\n",
       "\n",
       "[2227 rows x 6 columns]"
      ]
     },
     "execution_count": 48,
     "metadata": {},
     "output_type": "execute_result"
    }
   ],
   "source": [
    "dt_cluster_2 = dt_cluster[(dt_cluster[\"UnitPrice\"] < q4_UnitPrice) & (dt_cluster[\"Quantity\"] < q4_Quantity)]\n",
    "dt_cluster_2"
   ]
  },
  {
   "cell_type": "code",
   "execution_count": 49,
   "id": "ba36e4f5",
   "metadata": {},
   "outputs": [
    {
     "name": "stderr",
     "output_type": "stream",
     "text": [
      "<ipython-input-49-fbae2eb14d7e>:2: SettingWithCopyWarning: \n",
      "A value is trying to be set on a copy of a slice from a DataFrame.\n",
      "Try using .loc[row_indexer,col_indexer] = value instead\n",
      "\n",
      "See the caveats in the documentation: https://pandas.pydata.org/pandas-docs/stable/user_guide/indexing.html#returning-a-view-versus-a-copy\n",
      "  dt_cluster_2[[\"unit_price_n\", \"quantity_n\"]] = scaler.fit_transform(dt_cluster_2[[\"UnitPrice\", \"Quantity\"]])\n",
      "C:\\Users\\joao\\anaconda3\\lib\\site-packages\\pandas\\core\\indexing.py:1738: SettingWithCopyWarning: \n",
      "A value is trying to be set on a copy of a slice from a DataFrame.\n",
      "Try using .loc[row_indexer,col_indexer] = value instead\n",
      "\n",
      "See the caveats in the documentation: https://pandas.pydata.org/pandas-docs/stable/user_guide/indexing.html#returning-a-view-versus-a-copy\n",
      "  self._setitem_single_column(loc, value[:, i].tolist(), pi)\n"
     ]
    }
   ],
   "source": [
    "# cuidado, alteamos os valores máximos dos dados, então RE-normalizamos\n",
    "dt_cluster_2[[\"unit_price_n\", \"quantity_n\"]] = scaler.fit_transform(dt_cluster_2[[\"UnitPrice\", \"Quantity\"]])"
   ]
  },
  {
   "cell_type": "code",
   "execution_count": 50,
   "id": "e785195c",
   "metadata": {},
   "outputs": [
    {
     "data": {
      "text/html": [
       "<div>\n",
       "<style scoped>\n",
       "    .dataframe tbody tr th:only-of-type {\n",
       "        vertical-align: middle;\n",
       "    }\n",
       "\n",
       "    .dataframe tbody tr th {\n",
       "        vertical-align: top;\n",
       "    }\n",
       "\n",
       "    .dataframe thead th {\n",
       "        text-align: right;\n",
       "    }\n",
       "</style>\n",
       "<table border=\"1\" class=\"dataframe\">\n",
       "  <thead>\n",
       "    <tr style=\"text-align: right;\">\n",
       "      <th></th>\n",
       "      <th>CustomerID</th>\n",
       "      <th>UnitPrice</th>\n",
       "      <th>Quantity</th>\n",
       "      <th>unit_price_n</th>\n",
       "      <th>quantity_n</th>\n",
       "      <th>labels</th>\n",
       "    </tr>\n",
       "  </thead>\n",
       "  <tbody>\n",
       "    <tr>\n",
       "      <th>0</th>\n",
       "      <td>12347.0</td>\n",
       "      <td>2.644011</td>\n",
       "      <td>13.505495</td>\n",
       "      <td>-0.287975</td>\n",
       "      <td>0.994950</td>\n",
       "      <td>0</td>\n",
       "    </tr>\n",
       "    <tr>\n",
       "      <th>3</th>\n",
       "      <td>12350.0</td>\n",
       "      <td>3.841176</td>\n",
       "      <td>11.588235</td>\n",
       "      <td>0.877929</td>\n",
       "      <td>0.594120</td>\n",
       "      <td>0</td>\n",
       "    </tr>\n",
       "    <tr>\n",
       "      <th>5</th>\n",
       "      <td>12354.0</td>\n",
       "      <td>4.503793</td>\n",
       "      <td>9.137931</td>\n",
       "      <td>1.523242</td>\n",
       "      <td>0.081850</td>\n",
       "      <td>0</td>\n",
       "    </tr>\n",
       "    <tr>\n",
       "      <th>6</th>\n",
       "      <td>12355.0</td>\n",
       "      <td>4.203846</td>\n",
       "      <td>18.461538</td>\n",
       "      <td>1.231128</td>\n",
       "      <td>2.031080</td>\n",
       "      <td>0</td>\n",
       "    </tr>\n",
       "    <tr>\n",
       "      <th>8</th>\n",
       "      <td>12357.0</td>\n",
       "      <td>3.348626</td>\n",
       "      <td>20.671756</td>\n",
       "      <td>0.398241</td>\n",
       "      <td>2.493157</td>\n",
       "      <td>0</td>\n",
       "    </tr>\n",
       "  </tbody>\n",
       "</table>\n",
       "</div>"
      ],
      "text/plain": [
       "   CustomerID  UnitPrice   Quantity  unit_price_n  quantity_n  labels\n",
       "0     12347.0   2.644011  13.505495     -0.287975    0.994950       0\n",
       "3     12350.0   3.841176  11.588235      0.877929    0.594120       0\n",
       "5     12354.0   4.503793   9.137931      1.523242    0.081850       0\n",
       "6     12355.0   4.203846  18.461538      1.231128    2.031080       0\n",
       "8     12357.0   3.348626  20.671756      0.398241    2.493157       0"
      ]
     },
     "execution_count": 50,
     "metadata": {},
     "output_type": "execute_result"
    }
   ],
   "source": [
    "# ignore a coluna de labels\n",
    "dt_cluster_2.head()"
   ]
  },
  {
   "cell_type": "code",
   "execution_count": 51,
   "id": "b2023d8b",
   "metadata": {},
   "outputs": [],
   "source": [
    "lista_inercia = []\n",
    "lista_silhueta = []\n",
    "for k in range(2,11):\n",
    "    kmeans = KMeans(n_clusters = k)\n",
    "    kmeans.fit(dt_cluster_2[X_cols])\n",
    "    inercia = kmeans.inertia_\n",
    "    labels = kmeans.labels_\n",
    "    silhueta = silhouette_score(dt_cluster_2[X_cols], labels)\n",
    "    lista_inercia.append(inercia)\n",
    "    lista_silhueta.append(silhueta)"
   ]
  },
  {
   "cell_type": "code",
   "execution_count": 52,
   "id": "2050131f",
   "metadata": {},
   "outputs": [
    {
     "data": {
      "text/plain": [
       "Text(0, 0.5, 'inercia')"
      ]
     },
     "execution_count": 52,
     "metadata": {},
     "output_type": "execute_result"
    },
    {
     "data": {
      "image/png": "[encoded data removed]",
      "text/plain": [
       "<Figure size 432x288 with 1 Axes>"
      ]
     },
     "metadata": {
      "needs_background": "light"
     },
     "output_type": "display_data"
    }
   ],
   "source": [
    "plt.plot(range(2,11), lista_inercia, marker = \"o\")\n",
    "plt.title(\"Método do cotovelo\")\n",
    "plt.xlabel(\"K clusters\")\n",
    "plt.ylabel(\"inercia\")"
   ]
  },
  {
   "cell_type": "code",
   "execution_count": 53,
   "id": "f4a803e4",
   "metadata": {},
   "outputs": [
    {
     "data": {
      "text/plain": [
       "Text(0, 0.5, 'silhuetas')"
      ]
     },
     "execution_count": 53,
     "metadata": {},
     "output_type": "execute_result"
    },
    {
     "data": {
      "image/png": "[encoded data removed]",
      "text/plain": [
       "<Figure size 432x288 with 1 Axes>"
      ]
     },
     "metadata": {
      "needs_background": "light"
     },
     "output_type": "display_data"
    }
   ],
   "source": [
    "plt.plot(range(2,11), lista_silhueta, marker = \"o\")\n",
    "plt.title(\"Método da silhueta\")\n",
    "plt.xlabel(\"K clusters\")\n",
    "plt.ylabel(\"silhuetas\")"
   ]
  },
  {
   "cell_type": "code",
   "execution_count": 54,
   "id": "6b9bd2a4",
   "metadata": {},
   "outputs": [
    {
     "name": "stderr",
     "output_type": "stream",
     "text": [
      "<ipython-input-54-564f091ca91b>:3: SettingWithCopyWarning: \n",
      "A value is trying to be set on a copy of a slice from a DataFrame.\n",
      "Try using .loc[row_indexer,col_indexer] = value instead\n",
      "\n",
      "See the caveats in the documentation: https://pandas.pydata.org/pandas-docs/stable/user_guide/indexing.html#returning-a-view-versus-a-copy\n",
      "  dt_cluster_2[\"labels\"] = kmeans.labels_\n"
     ]
    }
   ],
   "source": [
    "kmeans = KMeans(n_clusters = 3)\n",
    "kmeans.fit(dt_cluster_2[X_cols])\n",
    "dt_cluster_2[\"labels\"] = kmeans.labels_"
   ]
  },
  {
   "cell_type": "code",
   "execution_count": 55,
   "id": "186a240c",
   "metadata": {},
   "outputs": [
    {
     "data": {
      "text/plain": [
       "1    0.365514\n",
       "0    0.355186\n",
       "2    0.279300\n",
       "Name: labels, dtype: float64"
      ]
     },
     "execution_count": 55,
     "metadata": {},
     "output_type": "execute_result"
    }
   ],
   "source": [
    "dt_cluster_2[\"labels\"].value_counts(dropna = False, normalize = True)"
   ]
  },
  {
   "cell_type": "code",
   "execution_count": 65,
   "id": "827d51b8",
   "metadata": {},
   "outputs": [
    {
     "ename": "SyntaxError",
     "evalue": "positional argument follows keyword argument (<ipython-input-65-8ea52c77bfba>, line 1)",
     "output_type": "error",
     "traceback": [
      "\u001b[1;36m  File \u001b[1;32m\"<ipython-input-65-8ea52c77bfba>\"\u001b[1;36m, line \u001b[1;32m1\u001b[0m\n\u001b[1;33m    sns.scatterplot(x = \"Quantity\", y = \"UnitPrice\", data = dt_cluster_2, hue = \"labels\", palette = \"tab10\", figsize = 10,10);\u001b[0m\n\u001b[1;37m                                                                                                                          ^\u001b[0m\n\u001b[1;31mSyntaxError\u001b[0m\u001b[1;31m:\u001b[0m positional argument follows keyword argument\n"
     ]
    }
   ],
   "source": [
    "sns.scatterplot(x = \"Quantity\", y = \"UnitPrice\", data = dt_cluster_2, hue = \"labels\", palette = \"tab10\", figsize(10,10);"
   ]
  },
  {
   "cell_type": "code",
   "execution_count": 57,
   "id": "0b92b859",
   "metadata": {},
   "outputs": [
    {
     "data": {
      "text/html": [
       "<div>\n",
       "<style scoped>\n",
       "    .dataframe tbody tr th:only-of-type {\n",
       "        vertical-align: middle;\n",
       "    }\n",
       "\n",
       "    .dataframe tbody tr th {\n",
       "        vertical-align: top;\n",
       "    }\n",
       "\n",
       "    .dataframe thead th {\n",
       "        text-align: right;\n",
       "    }\n",
       "</style>\n",
       "<table border=\"1\" class=\"dataframe\">\n",
       "  <thead>\n",
       "    <tr style=\"text-align: right;\">\n",
       "      <th></th>\n",
       "      <th>InvoiceNo</th>\n",
       "      <th>StockCode</th>\n",
       "      <th>Description</th>\n",
       "      <th>Quantity</th>\n",
       "      <th>InvoiceDate</th>\n",
       "      <th>UnitPrice</th>\n",
       "      <th>CustomerID</th>\n",
       "      <th>Country</th>\n",
       "    </tr>\n",
       "  </thead>\n",
       "  <tbody>\n",
       "    <tr>\n",
       "      <th>46</th>\n",
       "      <td>536371</td>\n",
       "      <td>22086</td>\n",
       "      <td>PAPER CHAIN KIT 50'S CHRISTMAS</td>\n",
       "      <td>80</td>\n",
       "      <td>12/1/2010 9:00</td>\n",
       "      <td>2.55</td>\n",
       "      <td>13748.0</td>\n",
       "      <td>United Kingdom</td>\n",
       "    </tr>\n",
       "    <tr>\n",
       "      <th>142</th>\n",
       "      <td>536382</td>\n",
       "      <td>10002</td>\n",
       "      <td>INFLATABLE POLITICAL GLOBE</td>\n",
       "      <td>12</td>\n",
       "      <td>12/1/2010 9:45</td>\n",
       "      <td>0.85</td>\n",
       "      <td>16098.0</td>\n",
       "      <td>United Kingdom</td>\n",
       "    </tr>\n",
       "    <tr>\n",
       "      <th>143</th>\n",
       "      <td>536382</td>\n",
       "      <td>21912</td>\n",
       "      <td>VINTAGE SNAKES &amp; LADDERS</td>\n",
       "      <td>8</td>\n",
       "      <td>12/1/2010 9:45</td>\n",
       "      <td>3.75</td>\n",
       "      <td>16098.0</td>\n",
       "      <td>United Kingdom</td>\n",
       "    </tr>\n",
       "    <tr>\n",
       "      <th>144</th>\n",
       "      <td>536382</td>\n",
       "      <td>21832</td>\n",
       "      <td>CHOCOLATE CALCULATOR</td>\n",
       "      <td>12</td>\n",
       "      <td>12/1/2010 9:45</td>\n",
       "      <td>1.65</td>\n",
       "      <td>16098.0</td>\n",
       "      <td>United Kingdom</td>\n",
       "    </tr>\n",
       "    <tr>\n",
       "      <th>145</th>\n",
       "      <td>536382</td>\n",
       "      <td>22411</td>\n",
       "      <td>JUMBO SHOPPER VINTAGE RED PAISLEY</td>\n",
       "      <td>10</td>\n",
       "      <td>12/1/2010 9:45</td>\n",
       "      <td>1.95</td>\n",
       "      <td>16098.0</td>\n",
       "      <td>United Kingdom</td>\n",
       "    </tr>\n",
       "  </tbody>\n",
       "</table>\n",
       "</div>"
      ],
      "text/plain": [
       "    InvoiceNo StockCode                        Description  Quantity  \\\n",
       "46     536371     22086    PAPER CHAIN KIT 50'S CHRISTMAS         80   \n",
       "142    536382     10002        INFLATABLE POLITICAL GLOBE         12   \n",
       "143    536382     21912           VINTAGE SNAKES & LADDERS         8   \n",
       "144    536382     21832               CHOCOLATE CALCULATOR        12   \n",
       "145    536382     22411  JUMBO SHOPPER VINTAGE RED PAISLEY        10   \n",
       "\n",
       "        InvoiceDate  UnitPrice  CustomerID         Country  \n",
       "46   12/1/2010 9:00       2.55     13748.0  United Kingdom  \n",
       "142  12/1/2010 9:45       0.85     16098.0  United Kingdom  \n",
       "143  12/1/2010 9:45       3.75     16098.0  United Kingdom  \n",
       "144  12/1/2010 9:45       1.65     16098.0  United Kingdom  \n",
       "145  12/1/2010 9:45       1.95     16098.0  United Kingdom  "
      ]
     },
     "execution_count": 57,
     "metadata": {},
     "output_type": "execute_result"
    }
   ],
   "source": [
    "dt_limpo2.head()"
   ]
  },
  {
   "cell_type": "code",
   "execution_count": 58,
   "id": "84192fa6",
   "metadata": {},
   "outputs": [
    {
     "data": {
      "text/plain": [
       "(153037, 8)"
      ]
     },
     "execution_count": 58,
     "metadata": {},
     "output_type": "execute_result"
    }
   ],
   "source": [
    "dt_limpo2.shape"
   ]
  },
  {
   "cell_type": "code",
   "execution_count": 59,
   "id": "f5f9427c",
   "metadata": {},
   "outputs": [
    {
     "data": {
      "text/plain": [
       "(2227, 6)"
      ]
     },
     "execution_count": 59,
     "metadata": {},
     "output_type": "execute_result"
    }
   ],
   "source": [
    "dt_cluster_2.shape"
   ]
  },
  {
   "cell_type": "code",
   "execution_count": 60,
   "id": "514ae7de",
   "metadata": {},
   "outputs": [
    {
     "data": {
      "text/plain": [
       "(153037, 9)"
      ]
     },
     "execution_count": 60,
     "metadata": {},
     "output_type": "execute_result"
    }
   ],
   "source": [
    "dt_analise = pd.merge(dt_limpo2, dt_cluster_2[[\"CustomerID\", \"labels\"]], on =[ \"CustomerID\"], how = \"left\")\n",
    "dt_analise.shape"
   ]
  },
  {
   "cell_type": "code",
   "execution_count": 61,
   "id": "c6042b2c",
   "metadata": {},
   "outputs": [
    {
     "data": {
      "text/html": [
       "<div>\n",
       "<style scoped>\n",
       "    .dataframe tbody tr th:only-of-type {\n",
       "        vertical-align: middle;\n",
       "    }\n",
       "\n",
       "    .dataframe tbody tr th {\n",
       "        vertical-align: top;\n",
       "    }\n",
       "\n",
       "    .dataframe thead th {\n",
       "        text-align: right;\n",
       "    }\n",
       "</style>\n",
       "<table border=\"1\" class=\"dataframe\">\n",
       "  <thead>\n",
       "    <tr style=\"text-align: right;\">\n",
       "      <th></th>\n",
       "      <th>InvoiceNo</th>\n",
       "      <th>StockCode</th>\n",
       "      <th>Description</th>\n",
       "      <th>Quantity</th>\n",
       "      <th>InvoiceDate</th>\n",
       "      <th>UnitPrice</th>\n",
       "      <th>CustomerID</th>\n",
       "      <th>Country</th>\n",
       "      <th>labels</th>\n",
       "    </tr>\n",
       "  </thead>\n",
       "  <tbody>\n",
       "    <tr>\n",
       "      <th>0</th>\n",
       "      <td>536371</td>\n",
       "      <td>22086</td>\n",
       "      <td>PAPER CHAIN KIT 50'S CHRISTMAS</td>\n",
       "      <td>80</td>\n",
       "      <td>12/1/2010 9:00</td>\n",
       "      <td>2.55</td>\n",
       "      <td>13748.0</td>\n",
       "      <td>United Kingdom</td>\n",
       "      <td>2.0</td>\n",
       "    </tr>\n",
       "    <tr>\n",
       "      <th>1</th>\n",
       "      <td>536382</td>\n",
       "      <td>10002</td>\n",
       "      <td>INFLATABLE POLITICAL GLOBE</td>\n",
       "      <td>12</td>\n",
       "      <td>12/1/2010 9:45</td>\n",
       "      <td>0.85</td>\n",
       "      <td>16098.0</td>\n",
       "      <td>United Kingdom</td>\n",
       "      <td>2.0</td>\n",
       "    </tr>\n",
       "    <tr>\n",
       "      <th>2</th>\n",
       "      <td>536382</td>\n",
       "      <td>21912</td>\n",
       "      <td>VINTAGE SNAKES &amp; LADDERS</td>\n",
       "      <td>8</td>\n",
       "      <td>12/1/2010 9:45</td>\n",
       "      <td>3.75</td>\n",
       "      <td>16098.0</td>\n",
       "      <td>United Kingdom</td>\n",
       "      <td>2.0</td>\n",
       "    </tr>\n",
       "    <tr>\n",
       "      <th>3</th>\n",
       "      <td>536382</td>\n",
       "      <td>21832</td>\n",
       "      <td>CHOCOLATE CALCULATOR</td>\n",
       "      <td>12</td>\n",
       "      <td>12/1/2010 9:45</td>\n",
       "      <td>1.65</td>\n",
       "      <td>16098.0</td>\n",
       "      <td>United Kingdom</td>\n",
       "      <td>2.0</td>\n",
       "    </tr>\n",
       "    <tr>\n",
       "      <th>4</th>\n",
       "      <td>536382</td>\n",
       "      <td>22411</td>\n",
       "      <td>JUMBO SHOPPER VINTAGE RED PAISLEY</td>\n",
       "      <td>10</td>\n",
       "      <td>12/1/2010 9:45</td>\n",
       "      <td>1.95</td>\n",
       "      <td>16098.0</td>\n",
       "      <td>United Kingdom</td>\n",
       "      <td>2.0</td>\n",
       "    </tr>\n",
       "  </tbody>\n",
       "</table>\n",
       "</div>"
      ],
      "text/plain": [
       "  InvoiceNo StockCode                        Description  Quantity  \\\n",
       "0    536371     22086    PAPER CHAIN KIT 50'S CHRISTMAS         80   \n",
       "1    536382     10002        INFLATABLE POLITICAL GLOBE         12   \n",
       "2    536382     21912           VINTAGE SNAKES & LADDERS         8   \n",
       "3    536382     21832               CHOCOLATE CALCULATOR        12   \n",
       "4    536382     22411  JUMBO SHOPPER VINTAGE RED PAISLEY        10   \n",
       "\n",
       "      InvoiceDate  UnitPrice  CustomerID         Country  labels  \n",
       "0  12/1/2010 9:00       2.55     13748.0  United Kingdom     2.0  \n",
       "1  12/1/2010 9:45       0.85     16098.0  United Kingdom     2.0  \n",
       "2  12/1/2010 9:45       3.75     16098.0  United Kingdom     2.0  \n",
       "3  12/1/2010 9:45       1.65     16098.0  United Kingdom     2.0  \n",
       "4  12/1/2010 9:45       1.95     16098.0  United Kingdom     2.0  "
      ]
     },
     "execution_count": 61,
     "metadata": {},
     "output_type": "execute_result"
    }
   ],
   "source": [
    "dt_analise.head()"
   ]
  },
  {
   "cell_type": "code",
   "execution_count": 62,
   "id": "ceabc345",
   "metadata": {},
   "outputs": [
    {
     "data": {
      "text/plain": [
       "(141822, 9)"
      ]
     },
     "execution_count": 62,
     "metadata": {},
     "output_type": "execute_result"
    }
   ],
   "source": [
    "dt_analise_2 = dt_analise[dt_analise.labels.notnull()]\n",
    "dt_analise_2.shape"
   ]
  },
  {
   "cell_type": "code",
   "execution_count": 63,
   "id": "1f9f96aa",
   "metadata": {},
   "outputs": [
    {
     "data": {
      "text/html": [
       "<div>\n",
       "<style scoped>\n",
       "    .dataframe tbody tr th:only-of-type {\n",
       "        vertical-align: middle;\n",
       "    }\n",
       "\n",
       "    .dataframe tbody tr th {\n",
       "        vertical-align: top;\n",
       "    }\n",
       "\n",
       "    .dataframe thead tr th {\n",
       "        text-align: left;\n",
       "    }\n",
       "</style>\n",
       "<table border=\"1\" class=\"dataframe\">\n",
       "  <thead>\n",
       "    <tr>\n",
       "      <th></th>\n",
       "      <th colspan=\"8\" halign=\"left\">Quantity</th>\n",
       "      <th colspan=\"8\" halign=\"left\">UnitPrice</th>\n",
       "    </tr>\n",
       "    <tr>\n",
       "      <th></th>\n",
       "      <th>count</th>\n",
       "      <th>mean</th>\n",
       "      <th>std</th>\n",
       "      <th>min</th>\n",
       "      <th>25%</th>\n",
       "      <th>50%</th>\n",
       "      <th>75%</th>\n",
       "      <th>max</th>\n",
       "      <th>count</th>\n",
       "      <th>mean</th>\n",
       "      <th>std</th>\n",
       "      <th>min</th>\n",
       "      <th>25%</th>\n",
       "      <th>50%</th>\n",
       "      <th>75%</th>\n",
       "      <th>max</th>\n",
       "    </tr>\n",
       "  </thead>\n",
       "  <tbody>\n",
       "    <tr>\n",
       "      <th>0</th>\n",
       "      <td>35798.0</td>\n",
       "      <td>13.223616</td>\n",
       "      <td>15.300680</td>\n",
       "      <td>1.0</td>\n",
       "      <td>6.0</td>\n",
       "      <td>12.0</td>\n",
       "      <td>12.0</td>\n",
       "      <td>906.0</td>\n",
       "      <td>35798.0</td>\n",
       "      <td>2.339882</td>\n",
       "      <td>2.552512</td>\n",
       "      <td>0.0</td>\n",
       "      <td>0.85</td>\n",
       "      <td>1.65</td>\n",
       "      <td>2.95</td>\n",
       "      <td>40.0</td>\n",
       "    </tr>\n",
       "    <tr>\n",
       "      <th>1</th>\n",
       "      <td>81249.0</td>\n",
       "      <td>3.974277</td>\n",
       "      <td>6.490846</td>\n",
       "      <td>1.0</td>\n",
       "      <td>1.0</td>\n",
       "      <td>2.0</td>\n",
       "      <td>4.0</td>\n",
       "      <td>480.0</td>\n",
       "      <td>81249.0</td>\n",
       "      <td>2.480946</td>\n",
       "      <td>2.465619</td>\n",
       "      <td>0.0</td>\n",
       "      <td>0.95</td>\n",
       "      <td>1.65</td>\n",
       "      <td>2.95</td>\n",
       "      <td>125.0</td>\n",
       "    </tr>\n",
       "    <tr>\n",
       "      <th>2</th>\n",
       "      <td>24775.0</td>\n",
       "      <td>8.195681</td>\n",
       "      <td>9.640426</td>\n",
       "      <td>1.0</td>\n",
       "      <td>2.0</td>\n",
       "      <td>6.0</td>\n",
       "      <td>12.0</td>\n",
       "      <td>288.0</td>\n",
       "      <td>24775.0</td>\n",
       "      <td>4.085812</td>\n",
       "      <td>5.604077</td>\n",
       "      <td>0.0</td>\n",
       "      <td>1.45</td>\n",
       "      <td>2.95</td>\n",
       "      <td>4.95</td>\n",
       "      <td>295.0</td>\n",
       "    </tr>\n",
       "  </tbody>\n",
       "</table>\n",
       "</div>"
      ],
      "text/plain": [
       "  Quantity                                                    UnitPrice  \\\n",
       "     count       mean        std  min  25%   50%   75%    max     count   \n",
       "0  35798.0  13.223616  15.300680  1.0  6.0  12.0  12.0  906.0   35798.0   \n",
       "1  81249.0   3.974277   6.490846  1.0  1.0   2.0   4.0  480.0   81249.0   \n",
       "2  24775.0   8.195681   9.640426  1.0  2.0   6.0  12.0  288.0   24775.0   \n",
       "\n",
       "                                                     \n",
       "       mean       std  min   25%   50%   75%    max  \n",
       "0  2.339882  2.552512  0.0  0.85  1.65  2.95   40.0  \n",
       "1  2.480946  2.465619  0.0  0.95  1.65  2.95  125.0  \n",
       "2  4.085812  5.604077  0.0  1.45  2.95  4.95  295.0  "
      ]
     },
     "execution_count": 63,
     "metadata": {},
     "output_type": "execute_result"
    }
   ],
   "source": [
    "dt_analise_2.groupby([\"labels\"], as_index = False)[[\"Quantity\",\"UnitPrice\"]].describe()"
   ]
  },
  {
   "cell_type": "code",
   "execution_count": null,
   "id": "1f163855",
   "metadata": {},
   "outputs": [],
   "source": []
  },
  {
   "cell_type": "code",
   "execution_count": null,
   "id": "6137c8bd",
   "metadata": {},
   "outputs": [],
   "source": []
  },
  {
   "cell_type": "code",
   "execution_count": null,
   "id": "562ccd23",
   "metadata": {},
   "outputs": [],
   "source": []
  },
  {
   "cell_type": "code",
   "execution_count": null,
   "id": "33fae9df",
   "metadata": {},
   "outputs": [],
   "source": []
  },
  {
   "cell_type": "code",
   "execution_count": null,
   "id": "3852673c",
   "metadata": {},
   "outputs": [],
   "source": []
  },
  {
   "cell_type": "markdown",
   "id": "4fc295bc",
   "metadata": {},
   "source": [
    "# Exercício\n",
    "\n",
    "Aplique KMeans no Iris dataset e realize os plots dos resultados para k clusters, com k de 1 a 8.\n",
    "\n",
    "- 1) Importe o dataset iris: \n",
    "\n",
    "``` \n",
    "from sklearn.datasets import load_iris\n",
    "data = load_iris(as_frame = True)\n",
    "X = data[\"data\"]\n",
    "y = data[\"target\"] # <- mas lembre-se que esse é inutil\n",
    "```\n",
    "- 2) Lembre-se que é necessário aplicar algum Scaler nos dados para realizar clusterização;\n",
    "- 3) Delimite o range de clusters para aplicar;\n",
    "- 4) Avalie as métricas para cada cluster;\n",
    "- 5) Escolha 2 variáveis e observe a coloração para valor de cluster;}"
   ]
  },
  {
   "cell_type": "code",
   "execution_count": null,
   "id": "9e537196",
   "metadata": {},
   "outputs": [],
   "source": []
  }
 ],
 "metadata": {
  "kernelspec": {
   "display_name": "Python 3",
   "language": "python",
   "name": "python3"
  },
  "language_info": {
   "codemirror_mode": {
    "name": "ipython",
    "version": 3
   },
   "file_extension": ".py",
   "mimetype": "text/x-python",
   "name": "python",
   "nbconvert_exporter": "python",
   "pygments_lexer": "ipython3",
   "version": "3.8.8"
  }
 },
 "nbformat": 4,
 "nbformat_minor": 5
}
