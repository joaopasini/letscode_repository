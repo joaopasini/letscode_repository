{
 "cells": [
  {
   "cell_type": "markdown",
   "id": "0d3f028d",
   "metadata": {},
   "source": [
    "# 1. Estatística Básica"
   ]
  },
  {
   "cell_type": "markdown",
   "id": "b8138ae1",
   "metadata": {},
   "source": [
    "## 1.1 Tipos de variáveis\n",
    "\n",
    "- **Variável qualitativa** \n",
    "    - *Nominal*: Valores que expressam atributos sem nenhum tipo de ordem. Ex: sexo, estado civil, país de origem\n",
    "    - *Ordinal*: Valores que expressam atributos, porém com algum tipo de ordem ou grau. Ex: escolaridade, resposta de um paciente (piora, igual, melhora), classe social (alta, média, baixa)\n",
    "\n",
    "- **Variável quantitativa** \n",
    "    - *Discreta*: Valores que expressam atributos nos valores inteiros. Ex: idade, número de banheiros, número de filhos.\n",
    "    - *Contínua* : Valores que expressam atributos nos valores reais. Ex: Salário, temperatura"
   ]
  },
  {
   "cell_type": "markdown",
   "id": "228f8971",
   "metadata": {},
   "source": [
    "## 1.2 Estatística descritiva\n",
    "\n",
    "Etapa inicial da análise das features de um conjunto de dados, com o objetivo de tirar informações prévias do mesmo. Quando possuímos grande volume de dados, precisamos de valores representativos que resumam nosso conjuto de dados."
   ]
  },
  {
   "cell_type": "markdown",
   "id": "5fb969a9",
   "metadata": {},
   "source": [
    "### 1.2.1 Medidas de posição\n",
    "Um passo básico na exploração dos dados é encontrar um valor típico de cada feature: uma estimativa de onde a maior parte dos dados está localizada. Usualmente, emprega-se uma das seguintes medidas de posição (ou localização) central: média, mediana ou moda.\n",
    "\n",
    "1.2.1.1 Média\n",
    "\n",
    "Seja $X$ uma variável quantitativa e $x_i$, tal que $i=1,...,n$, os valores assumidos por X. Define-se média de $\\overline{x}$ como sendo :\n",
    "\n",
    "\n",
    "$$\\overline{x} = \\frac{\\sum_{i=1}^{n}x_i}{n}= \\frac{x_1+ x_2 + x_3 +... +x_n}{n}$$"
   ]
  },
  {
   "cell_type": "code",
   "execution_count": 14,
   "id": "6d125b7f",
   "metadata": {},
   "outputs": [
    {
     "name": "stdout",
     "output_type": "stream",
     "text": [
      "Média das alturas: 1.97\n"
     ]
    }
   ],
   "source": [
    "import numpy as np\n",
    "from scipy import stats\n",
    "\n",
    "alturas = [1.62, 1.70, 1.72, 1.68, 1.70, 1.62, 1.70, 4.0]\n",
    "\n",
    "media = np.mean(alturas)\n",
    "\n",
    "print(f'Média das alturas: {media:.2f}')"
   ]
  },
  {
   "cell_type": "markdown",
   "id": "02f808c3",
   "metadata": {},
   "source": [
    "1.2.1.2 Mediana\n",
    "\n",
    "Consideremos, agora, as observações ordenadas em ordem crescente. Vamos denotar a menor observação por $x^{(1)}$, a segunda por $x^{(2)}$, e assim por diante, obtendo-se\n",
    "\n",
    "\n",
    "$$x^{(1)} \\leq x^{(2)} \\leq \\dots \\leq x^{(n)}$$\n",
    "\n",
    "Com esta notação, a mediana da variável $X$ pode ser definida como\n",
    "\n",
    "$md(X)= x^{\\left(\\frac{n+1}{2}\\right)}\\mbox{ (se n é ímpar)}$\n",
    "\n",
    "ou\n",
    "\n",
    "$md(X)= x^{\\left(\\frac{n}{2}\\right)}+ x^{\\left(\\frac{n}{2}+1\\right)}\\mbox{ (se n é par)}$"
   ]
  },
  {
   "cell_type": "code",
   "execution_count": 16,
   "id": "f8f2c605",
   "metadata": {
    "scrolled": true
   },
   "outputs": [
    {
     "name": "stdout",
     "output_type": "stream",
     "text": [
      "Alturas ordenadas: [1.62 1.62 1.68 1.7  1.7  1.7  1.72 4.  ]\n"
     ]
    }
   ],
   "source": [
    "print(f'Alturas ordenadas: {np.sort(alturas)}')"
   ]
  },
  {
   "cell_type": "code",
   "execution_count": 15,
   "id": "edb79403",
   "metadata": {},
   "outputs": [
    {
     "name": "stdout",
     "output_type": "stream",
     "text": [
      "Mediana das alturas: 1.70\n"
     ]
    }
   ],
   "source": [
    "mediana = np.median(alturas)\n",
    "print(f'Mediana das alturas: {mediana:.2f}')"
   ]
  },
  {
   "cell_type": "markdown",
   "id": "3292e022",
   "metadata": {},
   "source": [
    "1.2.1.3 Moda"
   ]
  },
  {
   "cell_type": "markdown",
   "id": "f5984e90",
   "metadata": {},
   "source": [
    "A moda é o valor que ocorre com mais frequência em uma feature de um conjunto de dados. Ela pode não existir, quando nenhum valor se repete); ser unimodal, quando existe apenas um valor com maior frequência; e também ser multimodal, quando mais de um valor possui a maior frequência."
   ]
  },
  {
   "cell_type": "code",
   "execution_count": 5,
   "id": "d157c39e",
   "metadata": {},
   "outputs": [
    {
     "name": "stdout",
     "output_type": "stream",
     "text": [
      "A altura 1.70 é a moda e apareceu em 3 amostras.\n"
     ]
    }
   ],
   "source": [
    "moda = stats.mode(alturas)\n",
    "print(f'A altura {moda[0][0]:.2f} é a moda e apareceu em {moda[1][0]} amostras.')"
   ]
  },
  {
   "cell_type": "markdown",
   "id": "d0ba5279",
   "metadata": {},
   "source": [
    "Vimos a moda para uma variável quantitativa. Podemos ter a moda de uma variável qualitativa?"
   ]
  },
  {
   "cell_type": "code",
   "execution_count": 7,
   "id": "bf35d2b1",
   "metadata": {},
   "outputs": [
    {
     "data": {
      "text/plain": [
       "ModeResult(mode=array(['amarelo'], dtype='<U8'), count=array([2]))"
      ]
     },
     "execution_count": 7,
     "metadata": {},
     "output_type": "execute_result"
    }
   ],
   "source": [
    "cores = ['amarelo', 'vermelho', 'Amarelo','verde', 'verde', \n",
    "         'amarelo', 'vermelho', 'aMarelo']\n",
    "moda = stats.mode(cores)\n",
    "moda\n",
    "#print(f'A cor {moda[0][0]} é a cor da moda e apareceu em {moda[1][0]} amostras.')"
   ]
  },
  {
   "cell_type": "markdown",
   "id": "8416088e",
   "metadata": {},
   "source": [
    "### Exercício\n",
    "\n",
    "O dataset contido em state.csv contém a população e a taxa de homicídios (em unidades de homicídios por 100.000 pessoas em um ano) para cada estado. Agora que já aprendemos sobre a média, a mediana e a moda. Vamos verificar essas medidas neste dataset.\n",
    "\n",
    "https://pandas.pydata.org/docs/reference/api/pandas.DataFrame.mean.html\n",
    "https://pandas.pydata.org/docs/reference/api/pandas.DataFrame.median.html\n",
    "https://pandas.pydata.org/docs/reference/api/pandas.DataFrame.mode.html"
   ]
  },
  {
   "cell_type": "code",
   "execution_count": 8,
   "id": "324ec62a",
   "metadata": {
    "scrolled": true
   },
   "outputs": [
    {
     "data": {
      "text/html": [
       "<div>\n",
       "<style scoped>\n",
       "    .dataframe tbody tr th:only-of-type {\n",
       "        vertical-align: middle;\n",
       "    }\n",
       "\n",
       "    .dataframe tbody tr th {\n",
       "        vertical-align: top;\n",
       "    }\n",
       "\n",
       "    .dataframe thead th {\n",
       "        text-align: right;\n",
       "    }\n",
       "</style>\n",
       "<table border=\"1\" class=\"dataframe\">\n",
       "  <thead>\n",
       "    <tr style=\"text-align: right;\">\n",
       "      <th></th>\n",
       "      <th>State</th>\n",
       "      <th>Population</th>\n",
       "      <th>Murder.Rate</th>\n",
       "      <th>Abbreviation</th>\n",
       "    </tr>\n",
       "  </thead>\n",
       "  <tbody>\n",
       "    <tr>\n",
       "      <th>0</th>\n",
       "      <td>Alabama</td>\n",
       "      <td>4779736</td>\n",
       "      <td>5.7</td>\n",
       "      <td>AL</td>\n",
       "    </tr>\n",
       "    <tr>\n",
       "      <th>1</th>\n",
       "      <td>Alaska</td>\n",
       "      <td>710231</td>\n",
       "      <td>5.6</td>\n",
       "      <td>AK</td>\n",
       "    </tr>\n",
       "    <tr>\n",
       "      <th>2</th>\n",
       "      <td>Arizona</td>\n",
       "      <td>6392017</td>\n",
       "      <td>4.7</td>\n",
       "      <td>AZ</td>\n",
       "    </tr>\n",
       "    <tr>\n",
       "      <th>3</th>\n",
       "      <td>Arkansas</td>\n",
       "      <td>2915918</td>\n",
       "      <td>5.6</td>\n",
       "      <td>AR</td>\n",
       "    </tr>\n",
       "    <tr>\n",
       "      <th>4</th>\n",
       "      <td>California</td>\n",
       "      <td>37253956</td>\n",
       "      <td>4.4</td>\n",
       "      <td>CA</td>\n",
       "    </tr>\n",
       "  </tbody>\n",
       "</table>\n",
       "</div>"
      ],
      "text/plain": [
       "        State  Population  Murder.Rate Abbreviation\n",
       "0     Alabama     4779736          5.7           AL\n",
       "1      Alaska      710231          5.6           AK\n",
       "2     Arizona     6392017          4.7           AZ\n",
       "3    Arkansas     2915918          5.6           AR\n",
       "4  California    37253956          4.4           CA"
      ]
     },
     "execution_count": 8,
     "metadata": {},
     "output_type": "execute_result"
    }
   ],
   "source": [
    "import pandas as pd\n",
    "\n",
    "state = pd.read_csv('state.csv')\n",
    "\n",
    "state.head()"
   ]
  },
  {
   "cell_type": "code",
   "execution_count": 9,
   "id": "f954a1cc",
   "metadata": {
    "scrolled": true
   },
   "outputs": [
    {
     "data": {
      "text/plain": [
       "Population     6162876.300\n",
       "Murder.Rate          4.066\n",
       "dtype: float64"
      ]
     },
     "execution_count": 9,
     "metadata": {},
     "output_type": "execute_result"
    }
   ],
   "source": [
    "state.mean(numeric_only=True)"
   ]
  },
  {
   "cell_type": "code",
   "execution_count": 11,
   "id": "109dd5ac",
   "metadata": {
    "scrolled": true
   },
   "outputs": [
    {
     "data": {
      "text/plain": [
       "Population     4436369.5\n",
       "Murder.Rate          4.0\n",
       "dtype: float64"
      ]
     },
     "execution_count": 11,
     "metadata": {},
     "output_type": "execute_result"
    }
   ],
   "source": [
    "state.median(numeric_only=True)"
   ]
  },
  {
   "cell_type": "code",
   "execution_count": 13,
   "id": "cd30ae57",
   "metadata": {},
   "outputs": [
    {
     "data": {
      "text/plain": [
       "0    1.6\n",
       "1    2.0\n",
       "2    5.7\n",
       "dtype: float64"
      ]
     },
     "execution_count": 13,
     "metadata": {},
     "output_type": "execute_result"
    }
   ],
   "source": [
    "state['Murder.Rate'].mode()"
   ]
  },
  {
   "cell_type": "markdown",
   "id": "580ae8bd",
   "metadata": {},
   "source": [
    "Qual conclusão podemos tirar desses resultados? A média é uma boa medida para representar a feature Population? Por quê?"
   ]
  },
  {
   "cell_type": "markdown",
   "id": "5d2dbfa9",
   "metadata": {},
   "source": [
    "### 1.2.2 Medidas de variabilidade\n",
    "\n",
    "O resumo de um conjunto de dados por uma única medida representativa de posição central esconde toda a informação sobre a variabilidade do conjunto de observações. As medidas de variabilidade, ou de dispersão, acrescentam maiores informações sobre os dados ao medir se os valores são bem agrupados ou mais espalhados. Assim como existem diferentes medidas de dispersão, existem também diferentes formas de medir a variabilidade.  "
   ]
  },
  {
   "cell_type": "markdown",
   "id": "7ec9d263",
   "metadata": {},
   "source": [
    "1.2.2.1 Variância\n",
    "\n",
    "As métricas de dispersão mais utilizadas são baseadas nas diferenças, ou desvios, entre os dados observados e a medida de posição."
   ]
  },
  {
   "cell_type": "code",
   "execution_count": 17,
   "id": "7f5c5e9c",
   "metadata": {
    "scrolled": true
   },
   "outputs": [
    {
     "name": "stdout",
     "output_type": "stream",
     "text": [
      "Os desvios são: [-2.0, 1.0, 1.0]\n"
     ]
    }
   ],
   "source": [
    "lista = [1,4,4]\n",
    "media = np.mean(lista)\n",
    "\n",
    "desvios = [n - media for n in  lista]\n",
    "\n",
    "print(f'Os desvios são: {desvios}')"
   ]
  },
  {
   "cell_type": "markdown",
   "id": "ac0dbcbb",
   "metadata": {},
   "source": [
    "Estes desvios nos dizem o quão dispersos os dados são em relação ao valor central. Uma forma de medir a variabilidade é estimar um valor típico destes desvios. A **variância** é uma medida bem conhecida que é calculada por meio da média dos desvios ao quadrado.\n",
    "\n",
    "$$s^2 = \\frac{\\sum_{i=1}^{n}(x_i - \\overline{x})^2}{n}$$"
   ]
  },
  {
   "cell_type": "code",
   "execution_count": 21,
   "id": "24512f80",
   "metadata": {},
   "outputs": [
    {
     "data": {
      "text/plain": [
       "1.9999999999999998"
      ]
     },
     "execution_count": 21,
     "metadata": {},
     "output_type": "execute_result"
    }
   ],
   "source": [
    "#Cuidado: O indíce em python começa com o zero\n",
    "variancia = np.sum([((n - media)**2)/(len(lista)) for n in  lista])\n",
    "variancia"
   ]
  },
  {
   "cell_type": "code",
   "execution_count": 66,
   "id": "497bb705",
   "metadata": {},
   "outputs": [
    {
     "data": {
      "text/plain": [
       "2.0"
      ]
     },
     "execution_count": 66,
     "metadata": {},
     "output_type": "execute_result"
    }
   ],
   "source": [
    "np.var(lista)"
   ]
  },
  {
   "cell_type": "markdown",
   "id": "6ea45ff7",
   "metadata": {},
   "source": [
    "Além da variância, temos também o **desvio padrão** que é igual a raiz quadrada da variância e a **amplitude** que é a diferença entre o maior e o menor valor observado. Esta medida de variabilidade é fortemente influenciada por valores extremos nas observações, como outliers. "
   ]
  },
  {
   "cell_type": "markdown",
   "id": "093374c9",
   "metadata": {},
   "source": [
    "**Variância: vídeo explicando pq se divide por 'n-1' em variância amostral:**\n",
    "https://pt.khanacademy.org/math/ap-statistics/summarizing-quantitative-data-ap/more-standard-deviation/v/another-simulation-giving-evidence-that-n-1-gives-us-an-unbiased-estimate-of-variance"
   ]
  },
  {
   "cell_type": "markdown",
   "id": "f03a3833",
   "metadata": {},
   "source": [
    "1.2.2.2 Quartis\n",
    "\n",
    "Vimos que a mediana é um valor que deixa metade dos dados abaixo dela e metade acima. Ela também é conhecida como o segundo quartil. Além dela, existem também o primeiro e o terceiro quartil, onde:\n",
    "\n",
    "* $Q_1$ - 1º quartil (25º percentil) - 25% das observações são menores do que esse valor\n",
    "* $Q_2$ - 2º quartil (50º percentil) - 50% das observações são menores do que esse valor\n",
    "* $Q_3$ - 3º quartil (75º percentil) - 75% das observações são menores do que esse valor"
   ]
  },
  {
   "cell_type": "code",
   "execution_count": 18,
   "id": "66c96a85",
   "metadata": {
    "scrolled": true
   },
   "outputs": [
    {
     "data": {
      "text/html": [
       "<div>\n",
       "<style scoped>\n",
       "    .dataframe tbody tr th:only-of-type {\n",
       "        vertical-align: middle;\n",
       "    }\n",
       "\n",
       "    .dataframe tbody tr th {\n",
       "        vertical-align: top;\n",
       "    }\n",
       "\n",
       "    .dataframe thead th {\n",
       "        text-align: right;\n",
       "    }\n",
       "</style>\n",
       "<table border=\"1\" class=\"dataframe\">\n",
       "  <thead>\n",
       "    <tr style=\"text-align: right;\">\n",
       "      <th></th>\n",
       "      <th>Population</th>\n",
       "      <th>Murder.Rate</th>\n",
       "    </tr>\n",
       "  </thead>\n",
       "  <tbody>\n",
       "    <tr>\n",
       "      <th>0.25</th>\n",
       "      <td>1833004.25</td>\n",
       "      <td>2.425</td>\n",
       "    </tr>\n",
       "    <tr>\n",
       "      <th>0.50</th>\n",
       "      <td>4436369.50</td>\n",
       "      <td>4.000</td>\n",
       "    </tr>\n",
       "    <tr>\n",
       "      <th>0.75</th>\n",
       "      <td>6680312.25</td>\n",
       "      <td>5.550</td>\n",
       "    </tr>\n",
       "  </tbody>\n",
       "</table>\n",
       "</div>"
      ],
      "text/plain": [
       "      Population  Murder.Rate\n",
       "0.25  1833004.25        2.425\n",
       "0.50  4436369.50        4.000\n",
       "0.75  6680312.25        5.550"
      ]
     },
     "execution_count": 18,
     "metadata": {},
     "output_type": "execute_result"
    }
   ],
   "source": [
    "state.quantile([0.25,0.5,0.75])"
   ]
  },
  {
   "cell_type": "markdown",
   "id": "4ac83b9d",
   "metadata": {},
   "source": [
    "Uma medida comum de variabilidade é a chamada amplitude interquartil (ou Interquartile Range), que é dada por\n",
    "$$ IQR = Q_3 - Q_1$$"
   ]
  },
  {
   "cell_type": "markdown",
   "id": "4de764f0",
   "metadata": {},
   "source": [
    "### Exercício\n",
    "\n",
    "Calcule a variância e a amplitude interquartil das features do dataset state.csv.\n",
    "\n",
    "Dicas: https://pandas.pydata.org/docs/reference/api/pandas.DataFrame.var.html\n",
    "https://pandas.pydata.org/docs/reference/api/pandas.DataFrame.quantile.html"
   ]
  },
  {
   "cell_type": "code",
   "execution_count": 71,
   "id": "8c215997",
   "metadata": {},
   "outputs": [
    {
     "data": {
      "text/plain": [
       "Population     4.689833e+13\n",
       "Murder.Rate    3.670045e+00\n",
       "dtype: float64"
      ]
     },
     "execution_count": 71,
     "metadata": {},
     "output_type": "execute_result"
    }
   ],
   "source": [
    "state.var(numeric_only=True)"
   ]
  },
  {
   "cell_type": "code",
   "execution_count": 73,
   "id": "293ed0ed",
   "metadata": {},
   "outputs": [
    {
     "name": "stdout",
     "output_type": "stream",
     "text": [
      "As amplitudes interquartil das features são iguais a:\n",
      "Population     4847308.000\n",
      "Murder.Rate          3.125\n",
      "dtype: float64\n"
     ]
    }
   ],
   "source": [
    "q3 = state.quantile(0.75)\n",
    "q1 = state.quantile(0.25)\n",
    "IQR = q3 - q1\n",
    "print('As amplitudes interquartil das features são iguais a:')\n",
    "print(IQR)"
   ]
  },
  {
   "cell_type": "markdown",
   "id": "4d7e3dec",
   "metadata": {},
   "source": [
    "\"Tradicionalmente, uma análise descritiva de dados limita-se a calcular algumas medidas de posição e variabilidade, como a média e variância, por exemplo. Contrária a essa tendência, uma corrente mais moderna, liderada por Tukey (1977), utiliza principalmente técnicas gráficas, em oposição a resumos numéricos. Isso não significa que sumários não devam ser obtidos, mas uma análise exploratória de dados não deve se limitar a calcular tais medidas.\" (Bussab e Morettin, 2010)"
   ]
  },
  {
   "cell_type": "markdown",
   "id": "e664c0f1",
   "metadata": {},
   "source": [
    "## 1.3 BOXPLOT\n",
    "\n",
    "O boxplot é um gráfico utilizado para avaliar a distribuição empírica do dados. O boxplot é formado pelo primeiro e terceiro quartil, além da mediana. As hastes inferiores e superiores se estendem, respectivamente, do quartil inferior até o menor valor não inferior ao limite inferior e do quartil superior até o maior valor não superior ao limite superior. Os limites são calculados da forma abaixo\n",
    "\n",
    "* Limite inferior: $\\max\\{\\min(\\text{dados});Q_1-1,5(Q_3-Q_1)\\}$.\n",
    "- Limite superior: $\\min\\{\\max(\\text{dados});Q_3+1,5(Q_3-Q_1)\\}$.\n",
    "\n",
    "Para este caso, os pontos fora destes limites são considerados valores discrepantes (outliers) e são denotados por asterisco (*). A Figura  a seguir apresenta um exemplo do formato de um boxplot.\n",
    "\n",
    "<center><img src=\"https://miro.medium.com/max/609/1*r41SQj0LbdCV6rWoIos6mA.png\" width=\"700\" height=\"700\" /></center>\n",
    "\n",
    "O boxplot pode ainda ser utilizado para uma comparação visual entre dois ou mais grupos. Por exemplo, duas ou mais caixas são colocadas lado a lado e se compara a variabilidade entre elas, a mediana e assim por diante. Outro ponto importante é a possibilidade da observação da amplitude interquartil \\\\( (Q_3 - Q_1) \\\\)."
   ]
  },
  {
   "cell_type": "code",
   "execution_count": 78,
   "id": "97225f21",
   "metadata": {
    "scrolled": false
   },
   "outputs": [
    {
     "data": {
      "text/plain": [
       "<AxesSubplot:ylabel='Murder.Rate'>"
      ]
     },
     "execution_count": 78,
     "metadata": {},
     "output_type": "execute_result"
    },
    {
     "data": {
      "image/png": "[encoded data removed]",
      "text/plain": [
       "<Figure size 432x288 with 1 Axes>"
      ]
     },
     "metadata": {
      "needs_background": "light"
     },
     "output_type": "display_data"
    }
   ],
   "source": [
    "import seaborn as sns\n",
    "import matplotlib.pyplot as plt\n",
    "\n",
    "sns.boxplot(data=state, y='Murder.Rate')"
   ]
  },
  {
   "cell_type": "code",
   "execution_count": 23,
   "id": "8098a59f",
   "metadata": {},
   "outputs": [
    {
     "data": {
      "text/plain": [
       "10.3"
      ]
     },
     "execution_count": 23,
     "metadata": {},
     "output_type": "execute_result"
    }
   ],
   "source": [
    "state['Murder.Rate'].max()"
   ]
  },
  {
   "cell_type": "markdown",
   "id": "cd189eec",
   "metadata": {},
   "source": [
    "## 1.4 Tabela de Frequência e Histograma\n",
    "\n",
    "A tabela de frequência de uma variável divide os dados desta variável em segmentos igualmente espaçados e nos diz quantos valores pertencem a cada segmento. No caso abaixo, a feature 'Population' foi dividida em 10 segmentos. A tabela de frequência exibe os ranges e a contagem de estados que pertencem a cada segmento.\n"
   ]
  },
  {
   "cell_type": "code",
   "execution_count": 104,
   "id": "ab4df88f",
   "metadata": {
    "scrolled": true
   },
   "outputs": [
    {
     "data": {
      "text/html": [
       "<div>\n",
       "<style scoped>\n",
       "    .dataframe tbody tr th:only-of-type {\n",
       "        vertical-align: middle;\n",
       "    }\n",
       "\n",
       "    .dataframe tbody tr th {\n",
       "        vertical-align: top;\n",
       "    }\n",
       "\n",
       "    .dataframe thead th {\n",
       "        text-align: right;\n",
       "    }\n",
       "</style>\n",
       "<table border=\"1\" class=\"dataframe\">\n",
       "  <thead>\n",
       "    <tr style=\"text-align: right;\">\n",
       "      <th></th>\n",
       "      <th>range</th>\n",
       "      <th>count</th>\n",
       "    </tr>\n",
       "  </thead>\n",
       "  <tbody>\n",
       "    <tr>\n",
       "      <th>0</th>\n",
       "      <td>(526935.669, 4232659.0]</td>\n",
       "      <td>24</td>\n",
       "    </tr>\n",
       "    <tr>\n",
       "      <th>1</th>\n",
       "      <td>(4232659.0, 7901692.0]</td>\n",
       "      <td>14</td>\n",
       "    </tr>\n",
       "    <tr>\n",
       "      <th>2</th>\n",
       "      <td>(7901692.0, 11570725.0]</td>\n",
       "      <td>6</td>\n",
       "    </tr>\n",
       "    <tr>\n",
       "      <th>3</th>\n",
       "      <td>(11570725.0, 15239758.0]</td>\n",
       "      <td>2</td>\n",
       "    </tr>\n",
       "    <tr>\n",
       "      <th>4</th>\n",
       "      <td>(15239758.0, 18908791.0]</td>\n",
       "      <td>1</td>\n",
       "    </tr>\n",
       "    <tr>\n",
       "      <th>5</th>\n",
       "      <td>(18908791.0, 22577824.0]</td>\n",
       "      <td>1</td>\n",
       "    </tr>\n",
       "    <tr>\n",
       "      <th>6</th>\n",
       "      <td>(22577824.0, 26246857.0]</td>\n",
       "      <td>1</td>\n",
       "    </tr>\n",
       "    <tr>\n",
       "      <th>7</th>\n",
       "      <td>(26246857.0, 29915890.0]</td>\n",
       "      <td>0</td>\n",
       "    </tr>\n",
       "    <tr>\n",
       "      <th>8</th>\n",
       "      <td>(29915890.0, 33584923.0]</td>\n",
       "      <td>0</td>\n",
       "    </tr>\n",
       "    <tr>\n",
       "      <th>9</th>\n",
       "      <td>(33584923.0, 37253956.0]</td>\n",
       "      <td>1</td>\n",
       "    </tr>\n",
       "  </tbody>\n",
       "</table>\n",
       "</div>"
      ],
      "text/plain": [
       "                      range  count\n",
       "0   (526935.669, 4232659.0]     24\n",
       "1    (4232659.0, 7901692.0]     14\n",
       "2   (7901692.0, 11570725.0]      6\n",
       "3  (11570725.0, 15239758.0]      2\n",
       "4  (15239758.0, 18908791.0]      1\n",
       "5  (18908791.0, 22577824.0]      1\n",
       "6  (22577824.0, 26246857.0]      1\n",
       "7  (26246857.0, 29915890.0]      0\n",
       "8  (29915890.0, 33584923.0]      0\n",
       "9  (33584923.0, 37253956.0]      1"
      ]
     },
     "execution_count": 104,
     "metadata": {},
     "output_type": "execute_result"
    }
   ],
   "source": [
    "data=state['Population'].value_counts(bins = 10).sort_index().reset_index()\n",
    "df = pd.DataFrame(data=data).rename(columns={'index':'range','Population':'count'})\n",
    "df.head(11)"
   ]
  },
  {
   "cell_type": "markdown",
   "id": "f927fe7b",
   "metadata": {},
   "source": [
    "Um **histograma** é uma forma de visualizar uma tabela de frequências, com os bins no eixo X e a contagem de dados no eixo Y."
   ]
  },
  {
   "cell_type": "code",
   "execution_count": 124,
   "id": "71dccbd1",
   "metadata": {
    "scrolled": true
   },
   "outputs": [
    {
     "data": {
      "image/png": "[encoded data removed]",
      "text/plain": [
       "<Figure size 432x288 with 1 Axes>"
      ]
     },
     "metadata": {
      "needs_background": "light"
     },
     "output_type": "display_data"
    }
   ],
   "source": [
    "q1 = state['Population'].quantile(0.25)\n",
    "q2 = state['Population'].quantile(0.5)\n",
    "q3 = state['Population'].quantile(0.75)\n",
    "media = state['Population'].mean()\n",
    "\n",
    "state['Population'].hist(bins=10)\n",
    "\n",
    "# plotando a mediana e os quartis\n",
    "plt.axvline(q1,color=\"darkgreen\", label=\"q1\")\n",
    "plt.axvline(q2, color=\"black\", label=\"q2=mediana\")\n",
    "plt.axvline(q3, color=\"red\", label=\"q3\")\n",
    "plt.axvline(media, color=\"yellow\", label=\"media\")\n",
    "plt.legend()\n",
    "plt.show()"
   ]
  },
  {
   "cell_type": "markdown",
   "id": "745d8f0a",
   "metadata": {},
   "source": [
    "## 1.5 Assimetria\n",
    "\n",
    "É o **grau de desvio ou afastamento** da **simetria** de uma distribuição. Quando a curva é simétrica, a `média`, a `mediana` e a `moda` coincidem, num mesmo ponto, havendo um perfeito equilíbrio na distribuição. Um exemplo de distribuição simétrica é a **distribuição normal**. Quando o equilíbrio não acontece, a média, a mediana e a moda recaem em pontos diferentes da distribuição, e a distribuição se torna **assimétrica**:\n",
    "\n",
    "\n",
    "<img src=\"https://www.researchgate.net/profile/Marco_Faria/publication/294890337/figure/fig5/AS:668873900716049@1536483373457/a-Negative-skewness-b-Normal-curve-c-Positive-skewness-Durkhure-and-Lodwal-2014.ppm\" width=600>\n",
    "\n",
    "\n",
    "- Distribuição assimétrica **Negativa ou enviesada a esquerda**: quando os valores se concentram na extremidade superior da escala e se distribuem gradativamente em direção à extremidade inferior.\n",
    "\n",
    "- Distribuição assimétrica **Positiva ou enviesada a direita**: quando os valores se concentram na extremidade inferior da escala e se distribuem gradativamente em direção à extremidade superior.\n",
    "\n",
    "A medidade de assimetria é conhecida como **skewness**, sendo calculada como:\n",
    "\n",
    "$$ s(X) = \\frac{1}{\\sigma^3}\\sum_{i=1}^{n}\\frac{(x_i-\\overline{x})^{3}}{n}$$\n",
    "\n",
    "O valor da skewness nos indica a assimetria da distribuição:\n",
    "\n",
    "- s = 0: distribuição simétrica\n",
    "- s > 0: assimetria à direita\n",
    "- s < 0: assimetria à esquerda"
   ]
  },
  {
   "cell_type": "code",
   "execution_count": 125,
   "id": "b9c2ad9a",
   "metadata": {},
   "outputs": [
    {
     "data": {
      "text/plain": [
       "2.6426346412748765"
      ]
     },
     "execution_count": 125,
     "metadata": {},
     "output_type": "execute_result"
    }
   ],
   "source": [
    "state['Population'].skew()"
   ]
  },
  {
   "cell_type": "markdown",
   "id": "e28f1bcc",
   "metadata": {},
   "source": [
    "Referências:\n",
    "\n",
    "* Bruce, P., Bruce, A., & Gedeck, P. (2020). Practical statistics for data scientists: 50+ essential concepts using R and Python. O'Reilly Media.\n",
    "* Morettin, P. A., & Bussab, W. O. (2017). Estatística básica. Saraiva Educação SA."
   ]
  }
 ],
 "metadata": {
  "kernelspec": {
   "display_name": "Python 3",
   "language": "python",
   "name": "python3"
  },
  "language_info": {
   "codemirror_mode": {
    "name": "ipython",
    "version": 3
   },
   "file_extension": ".py",
   "mimetype": "text/x-python",
   "name": "python",
   "nbconvert_exporter": "python",
   "pygments_lexer": "ipython3",
   "version": "3.8.8"
  }
 },
 "nbformat": 4,
 "nbformat_minor": 5
}
