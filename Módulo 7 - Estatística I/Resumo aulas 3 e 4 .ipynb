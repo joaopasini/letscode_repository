{
 "cells": [
  {
   "cell_type": "markdown",
   "id": "410b17d2",
   "metadata": {},
   "source": [
    "### Distribuição de probabilidade é uma função que descreve o comportamento aleatório de um fenômeno dependente do acaso."
   ]
  },
  {
   "cell_type": "markdown",
   "id": "cc9e10dc",
   "metadata": {},
   "source": [
    "### Serve para modelar incertezas e descrever fenômenos físicos, biológicos, econômicos, entre outros."
   ]
  },
  {
   "cell_type": "markdown",
   "id": "f9443d09",
   "metadata": {},
   "source": [
    "### Função Distribuição de Probabilidade Acumulada (Cumulative Distribution Function - CDF) é uma função que nos retorna a soma das probabilidades de todos os valores assumidos pela variável aleatória até um certo valor  𝑥𝑖 . Ela é representada por  𝑃(𝑋≤𝑥𝑖) .\n",
    "\n"
   ]
  },
  {
   "cell_type": "markdown",
   "id": "0e91e4ab",
   "metadata": {},
   "source": [
    " ###  A média, valor esperado ou esperança de uma variável X é dada pela expressão:\n",
    "###   𝐸(𝑋)=∑𝑖=1𝑘𝑥𝑖𝑝𝑖"
   ]
  },
  {
   "cell_type": "markdown",
   "id": "e1006d32",
   "metadata": {},
   "source": [
    "### Já a Variância é:\n",
    "𝑉𝑎𝑟(𝑋)=∑𝑖=1𝑛𝑝𝑖(𝑥𝑖−𝜇)2"
   ]
  },
  {
   "cell_type": "markdown",
   "id": "c9164a87",
   "metadata": {},
   "source": [
    "### Uma forma alternativa para calcular a variância, utilizando a Esperança, é:\n",
    "\n",
    "𝑉𝑎𝑟(𝑋)=𝐸(𝑋2)−[𝐸(𝑋)]2"
   ]
  },
  {
   "cell_type": "code",
   "execution_count": null,
   "id": "bf6c471d",
   "metadata": {},
   "outputs": [],
   "source": []
  },
  {
   "cell_type": "code",
   "execution_count": null,
   "id": "cd8f4995",
   "metadata": {},
   "outputs": [],
   "source": []
  },
  {
   "cell_type": "code",
   "execution_count": null,
   "id": "20b1f8ff",
   "metadata": {},
   "outputs": [],
   "source": []
  },
  {
   "cell_type": "code",
   "execution_count": null,
   "id": "ad2e1e29",
   "metadata": {},
   "outputs": [],
   "source": []
  },
  {
   "cell_type": "code",
   "execution_count": null,
   "id": "24c89d6e",
   "metadata": {},
   "outputs": [],
   "source": []
  },
  {
   "cell_type": "code",
   "execution_count": null,
   "id": "9c073cc8",
   "metadata": {},
   "outputs": [],
   "source": []
  }
 ],
 "metadata": {
  "kernelspec": {
   "display_name": "Python 3 (ipykernel)",
   "language": "python",
   "name": "python3"
  },
  "language_info": {
   "codemirror_mode": {
    "name": "ipython",
    "version": 3
   },
   "file_extension": ".py",
   "mimetype": "text/x-python",
   "name": "python",
   "nbconvert_exporter": "python",
   "pygments_lexer": "ipython3",
   "version": "3.9.7"
  }
 },
 "nbformat": 4,
 "nbformat_minor": 5
}
