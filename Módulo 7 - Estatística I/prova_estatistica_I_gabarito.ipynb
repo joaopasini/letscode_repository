{
 "cells": [
  {
   "cell_type": "markdown",
   "id": "_tVwoKIzMT7a",
   "metadata": {
    "id": "_tVwoKIzMT7a"
   },
   "source": [
    "## Questão 1\n",
    "\n",
    "Identifique nas alternativas abaixo, a opção que contenha apenas métricas de posição:\n",
    "\n",
    "Resposta: A mediana e a moda são medidas de posição."
   ]
  },
  {
   "cell_type": "markdown",
   "id": "UrYPTzWuMfd9",
   "metadata": {
    "id": "UrYPTzWuMfd9"
   },
   "source": [
    "## Questão 2\n",
    "\n",
    "Dado o boxplot conforme a figura abaixo:\n",
    "\n",
    "<img src=\"https://i0.wp.com/www.abgconsultoria.com.br/blog/wp-content/uploads/boxplot-1-1024x664.png?resize=1024%2C664\" width=400>\n",
    "\n",
    "Como é definida a fórmula para os limites __superior__ e __inferior__ do boxplot que separa os dados da distribuição dos prováveis _outliers_?\n",
    "\n",
    "Resposta: $$Q_3 + 1.5(Q_3 - Q_1), Q_1 - 1.5(Q_3 - Q_1)$$"
   ]
  },
  {
   "cell_type": "markdown",
   "id": "LSg3ToQoM0gq",
   "metadata": {
    "id": "LSg3ToQoM0gq"
   },
   "source": [
    "## Questão 3 \n",
    "\n",
    "Rafael queria levar dinheiro na escola para comprar balas, mas sua mãe só deixou que ele levasse duas moedas para a escola. Sabendo que dentro do cofre do Rafael, temos as seguintes moedas:\n",
    "\n",
    "    10 centavos = 5 moedas\n",
    "    25 centavos = 4 moedas\n",
    "    50 centavos = 10 moedas\n",
    "    01 real = 3 moedas\n",
    "\n",
    "Qual a probabilidade de Rafael retirar respectivamente uma moeda de 1 real e uma moeda de 25 centavos?\n"
   ]
  },
  {
   "cell_type": "code",
   "execution_count": null,
   "id": "4nU_pVlwKIpO",
   "metadata": {
    "colab": {
     "base_uri": "https://localhost:8080/"
    },
    "id": "4nU_pVlwKIpO",
    "outputId": "434accba-1e4e-49f0-e568-ca257d145930"
   },
   "outputs": [
    {
     "name": "stdout",
     "output_type": "stream",
     "text": [
      "Resposta: 2.6%\n"
     ]
    }
   ],
   "source": [
    "p_1 = 3/22 # Probabilidade de retirar uma moeda de 1 real\n",
    "p_2 = 4/21 # Probabilidade de retirar uma moeda de 25 centavos após retirar a de 1 real\n",
    "\n",
    "p_total = p_1 * p_2 * 100 # p(A,B) = p(A)*p(B|A)\n",
    "\n",
    "print(f'Resposta: {p_total:.1f}%')"
   ]
  },
  {
   "cell_type": "markdown",
   "id": "A9EvzkBLLZFB",
   "metadata": {
    "id": "A9EvzkBLLZFB"
   },
   "source": [
    "## Questão 4\n",
    "\n",
    "Em um centro de distribuição logístico da Amazon, chegam cerca de 1.440 produtos por dia. Sabendo que segue uma distribuição de Poisson, qual a probabilidade de que em um minuto cheguem 3 produtos?"
   ]
  },
  {
   "cell_type": "code",
   "execution_count": null,
   "id": "62H6Svp0Jn8m",
   "metadata": {
    "colab": {
     "base_uri": "https://localhost:8080/"
    },
    "id": "62H6Svp0Jn8m",
    "outputId": "1284644e-0d65-4ed1-9868-918b0b87ec7b"
   },
   "outputs": [
    {
     "name": "stdout",
     "output_type": "stream",
     "text": [
      "Resposta: 6.1%\n"
     ]
    }
   ],
   "source": [
    "from scipy.stats import poisson\n",
    "\n",
    "k = 3\n",
    "mu = 1440/24/60\n",
    "\n",
    "prob = poisson.pmf(k, mu)*100\n",
    "\n",
    "print(f'Resposta: {prob:.1f}%')"
   ]
  },
  {
   "cell_type": "markdown",
   "id": "GF8zpWOLLcvp",
   "metadata": {
    "id": "GF8zpWOLLcvp"
   },
   "source": [
    "## Questão 5\n",
    "\n",
    "Em uma filial de um banco, 40% dos clientes que vão ao caixa eletrônico sacam dinheiro do caixa. Utilizando de uma distribuição binomial, qual é a probabilidade de no máximo 12 clientes sacarem dinheiro em um dia que tivemos 30 clientes no caixa eletrônico?"
   ]
  },
  {
   "cell_type": "code",
   "execution_count": null,
   "id": "iK4fWIoZ9jnf",
   "metadata": {
    "colab": {
     "base_uri": "https://localhost:8080/"
    },
    "id": "iK4fWIoZ9jnf",
    "outputId": "492c508f-76cd-4040-94ab-123921cdd2da"
   },
   "outputs": [
    {
     "name": "stdout",
     "output_type": "stream",
     "text": [
      "Resposta: 57.8%\n"
     ]
    }
   ],
   "source": [
    "from scipy.stats import binom\n",
    "\n",
    "k = 12\n",
    "n = 30\n",
    "p_sucesso = 0.4\n",
    "\n",
    "prob = binom.cdf(k,n,p_sucesso)*100\n",
    "\n",
    "print(f'Resposta: {prob:.1f}%')"
   ]
  },
  {
   "cell_type": "markdown",
   "id": "I-4EkRpfNeih",
   "metadata": {
    "id": "I-4EkRpfNeih"
   },
   "source": [
    "## Questão 6\n",
    "\n",
    "Suponha que 60% das mulheres que compram kits de gravidez instantâneos estejam, de fato, grávidas. Para um kit de uma marca específica, se a mulher estiver grávida, o teste fornecerá resultado positivo 96% das vezes e negativo 4% das vezes (um “falso negativo\"). Se ela não estiver grávida, o teste resultará positivo em 1% das vezes (um “falso positivo”) e negativo 99% das vezes . Suponha que um teste resulte positivo. Qual a probabilidade de que a mulher esteja realmente grávida?"
   ]
  },
  {
   "cell_type": "markdown",
   "id": "Ql_E_4iTNm_O",
   "metadata": {
    "id": "Ql_E_4iTNm_O"
   },
   "source": [
    "* P(gravida) = 0.6\n",
    "* P(¬gravida) = 0.4\n",
    "* P(gravida,positivo) = 0.6 * 0.96 = 0.576\n",
    "* P(gravida,negativo) = 0.6 * 0.04 = 0.024\n",
    "* P(¬gravida, positivo) = 0.4 * 0.01 = 0.004\n",
    "* P(¬gravida, negativo) = 0.4 * 0.99 = 0.396\n",
    "\n",
    "$$P(gravida|positivo) = \\frac{P(gravida,positivo)}{P(gravida,positivo)+P(¬gravida, positivo)}$$"
   ]
  },
  {
   "cell_type": "code",
   "execution_count": null,
   "id": "HQ8hx-2BNg09",
   "metadata": {
    "colab": {
     "base_uri": "https://localhost:8080/"
    },
    "id": "HQ8hx-2BNg09",
    "outputId": "544f34b9-afa0-4f2c-b0e0-27441e5027e2"
   },
   "outputs": [
    {
     "name": "stdout",
     "output_type": "stream",
     "text": [
      "Resposta: 99.3%\n"
     ]
    }
   ],
   "source": [
    "prob_condicional = 0.576/(0.576 + 0.004)\n",
    "\n",
    "print(f'Resposta: {prob_condicional*100:.1f}%')"
   ]
  },
  {
   "cell_type": "markdown",
   "id": "v-6q4pR3TmJq",
   "metadata": {
    "id": "v-6q4pR3TmJq"
   },
   "source": [
    "## Questão 7\n",
    "\n",
    "O tempo para fabricar um perfume em uma empresa é descrito por uma variável aleatória X, medida em horas, com distribuição normal de média mu = 7 e desvio padrão sigma = 2. Qual a probabilidade de que um perfume será finalizado entre 4 e 11 horas?"
   ]
  },
  {
   "cell_type": "code",
   "execution_count": null,
   "id": "luQkGB7_UeQw",
   "metadata": {
    "colab": {
     "base_uri": "https://localhost:8080/"
    },
    "id": "luQkGB7_UeQw",
    "outputId": "acdd7103-39d8-4947-a801-dff9b6ea4f47"
   },
   "outputs": [
    {
     "name": "stdout",
     "output_type": "stream",
     "text": [
      "Resposta: 91.0%\n"
     ]
    }
   ],
   "source": [
    "from scipy.stats import norm\n",
    "\n",
    "mu = 7\n",
    "sigma = 2\n",
    "\n",
    "prob = norm.cdf(11,mu,sigma) - norm.cdf(4,mu,sigma)\n",
    "\n",
    "print(f'Resposta: {prob*100:.1f}%')"
   ]
  },
  {
   "cell_type": "markdown",
   "id": "naIz3rpzUcSd",
   "metadata": {
    "id": "naIz3rpzUcSd"
   },
   "source": [
    "## Questão 8\n",
    "\n",
    "Uma máquina de sorvete está regulada de modo a servir uma média de 80g por casquinha. Se a quantidade servida por casquinha seguir uma distribuição normal com desvio padrão de 8g, qual a porcentagem de casquinhas que conterão mais de 85g de sorvete?"
   ]
  },
  {
   "cell_type": "code",
   "execution_count": null,
   "id": "Kk39JrNCTweY",
   "metadata": {
    "colab": {
     "base_uri": "https://localhost:8080/"
    },
    "id": "Kk39JrNCTweY",
    "outputId": "f492a5df-ef8f-48df-a872-a3e72a80c150"
   },
   "outputs": [
    {
     "name": "stdout",
     "output_type": "stream",
     "text": [
      "Resposta: 26.6%\n"
     ]
    }
   ],
   "source": [
    "from scipy.stats import norm\n",
    "\n",
    "mu = 80\n",
    "sigma = 8\n",
    "\n",
    "prob = 1 - norm.cdf(85,mu,sigma)\n",
    "\n",
    "print(f'Resposta: {prob*100:.1f}%')"
   ]
  },
  {
   "cell_type": "markdown",
   "id": "Hhk1jq-JcnbW",
   "metadata": {
    "id": "Hhk1jq-JcnbW"
   },
   "source": [
    "## Questão 9\n",
    "\n",
    "Dados os tipos de amostragem e as definições dos mesmos, assinale a alternativa que indique cada tipo de amostragem com a respectiva definição:\n",
    "\n",
    "Tipos de Amostragem:\n",
    "\n",
    "1 - Amostragem Aleatória Simples\n",
    "\n",
    "2 - Amostragem Estratificada\n",
    "\n",
    "3 - Amostragem Sistemática\n",
    "\n",
    "Definições:\n",
    "\n",
    "I - Método de amostragem onde a população é dividida em grupos (estratos) segundo algumas características conhecidas sobre a população em estudo;\n",
    "\n",
    "II - Método de amostragem utilizado para selecionar amostras de populações que estão ordenadas;\n",
    "\n",
    "III - Método de amostragem mais simples onde serão escolhidos aleatoriamente elementos com ou sem reposição.\n",
    "\n"
   ]
  },
  {
   "cell_type": "markdown",
   "id": "GRNkk8fMhFli",
   "metadata": {
    "id": "GRNkk8fMhFli"
   },
   "source": [
    "Resposta: 1-III, 2-I, 3-II\n",
    "\n",
    "* Amostragem Estratificada: a população é dividida em grupos (estratos) segundo algumas características conhecidas sobre a população em estudo.\n",
    "\n",
    "* Amostragem Sistemática: utilizada para selecionar amostras de populações que estão ordenadas.\n",
    "\n",
    "* Amostragem Aleatória Simples: método de amostragem mais simples onde serão escolhidos aleatoriamente elementos com ou sem reposição\n"
   ]
  },
  {
   "cell_type": "markdown",
   "id": "YnSQZbV-hvlw",
   "metadata": {
    "id": "YnSQZbV-hvlw"
   },
   "source": [
    "## Questão 10\n",
    "\n",
    "A respeito da análise de dados categorizados. Temos as seguintes afirmações:\n",
    "\n",
    "I - Uma maneira útil de resumir duas variáveis categóricas é utilizando uma tabela de contingência.\n",
    "\n",
    "II - O gênero musical é um exemplo de variável categórica ordinal.\n",
    "\n",
    "III - Não podemos considerar mais de duas variáveis categóricas utilizando uma tabela de contingência.\n",
    "\n",
    "IV - Em um teste de diagnóstico, a probabilidade do teste ser positivo, dado que um indivíduo tem a doença, é chamada de sensibilidade.\n",
    "\n",
    "Dentre as afirmações, quais são verdadeiras?\n",
    "\n",
    "Resposta: I - IV"
   ]
  },
  {
   "cell_type": "markdown",
   "id": "7f4fCHY3jzbl",
   "metadata": {
    "id": "7f4fCHY3jzbl"
   },
   "source": [
    "## Questão 11\n",
    "\n",
    "Um fabricante de refrigerante anunciou que a média do índice de cafeína do seu refrigerante de cola é igual a 35mg por lata. Um laboratório realizou 20 análises do índice de cafeína obtendo os resultados (37, 34, 36, 37, 35, 32, 30, 35, 34, 36, 39, 38, 34, 35, 31, 30, 33, 35, 36, 31). Sabe-se que o índice de cafeína do refrigerante de cola dessa marca se distribui normalmente com variância igual a 4. Responda respectivamente a conclusão sobre o teste e os valores de X críticos para este teste com nível de significância de 5%?\n",
    "\n",
    "$H_0: \\mu = 35 mg$\n",
    "\n",
    "$H_1: \\mu \\neq 35 mg $ "
   ]
  },
  {
   "cell_type": "code",
   "execution_count": 1,
   "id": "bJSLJX0Ji7Mc",
   "metadata": {
    "colab": {
     "base_uri": "https://localhost:8080/"
    },
    "id": "bJSLJX0Ji7Mc",
    "outputId": "02b2769b-d142-4755-cc09-ceb78c113665"
   },
   "outputs": [
    {
     "name": "stdout",
     "output_type": "stream",
     "text": [
      "A região crítica é: x_barra <= 34.1 ou x_barra >= 35.9\n",
      "Dado que a média amostral é igual a 34.4, não devemos rejeitar a Hipótese Nula.\n"
     ]
    }
   ],
   "source": [
    "import numpy as np\n",
    "from scipy.stats import norm\n",
    "\n",
    "media = 35\n",
    "desvio_padrao = 2/np.sqrt(20)\n",
    "\n",
    "alpha = 0.05\n",
    "\n",
    "amostra = [37,34,36,37,35,32,30,35,34,36,39,38,34,35,31,30,33,35,36,31]\n",
    "\n",
    "media_amostral = np.mean(amostra) #media_amostral = 34.4\n",
    "\n",
    "z_critico_1 = norm.ppf(q=0.025)\n",
    "z_critico_2 = norm.ppf(q=0.975)\n",
    "\n",
    "x_critico_1 = z_critico_1*desvio_padrao + media\n",
    "x_critico_2 = z_critico_2*desvio_padrao + media\n",
    "\n",
    "print(f'A região crítica é: x_barra <= {x_critico_1:.1f} ou x_barra >= {x_critico_2:.1f}')\n",
    "\n",
    "if x_critico_1 <= media_amostral <= x_critico_2:\n",
    "  print(f'Dado que a média amostral é igual a {media_amostral}, não devemos rejeitar a Hipótese Nula.')\n",
    "\n",
    "else:\n",
    "  print(f'Dado que a média amostral é igual a {media_amostral}, devemos Rejeitar a Hipótese Nula')"
   ]
  }
 ],
 "metadata": {
  "colab": {
   "name": "prova_estatistica_I_gabarito.ipynb",
   "provenance": []
  },
  "kernelspec": {
   "display_name": "Python 3",
   "language": "python",
   "name": "python3"
  },
  "language_info": {
   "codemirror_mode": {
    "name": "ipython",
    "version": 3
   },
   "file_extension": ".py",
   "mimetype": "text/x-python",
   "name": "python",
   "nbconvert_exporter": "python",
   "pygments_lexer": "ipython3",
   "version": "3.8.8"
  },
  "varInspector": {
   "cols": {
    "lenName": 16,
    "lenType": 16,
    "lenVar": 40
   },
   "kernels_config": {
    "python": {
     "delete_cmd_postfix": "",
     "delete_cmd_prefix": "del ",
     "library": "var_list.py",
     "varRefreshCmd": "print(var_dic_list())"
    },
    "r": {
     "delete_cmd_postfix": ") ",
     "delete_cmd_prefix": "rm(",
     "library": "var_list.r",
     "varRefreshCmd": "cat(var_dic_list()) "
    }
   },
   "types_to_exclude": [
    "module",
    "function",
    "builtin_function_or_method",
    "instance",
    "_Feature"
   ],
   "window_display": false
  }
 },
 "nbformat": 4,
 "nbformat_minor": 5
}
