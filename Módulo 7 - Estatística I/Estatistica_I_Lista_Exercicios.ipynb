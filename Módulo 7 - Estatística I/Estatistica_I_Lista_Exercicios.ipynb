{
 "cells": [
  {
   "cell_type": "markdown",
   "id": "ab3dfefb",
   "metadata": {
    "id": "ab3dfefb"
   },
   "source": [
    "# Exercícios"
   ]
  },
  {
   "cell_type": "code",
   "execution_count": 1,
   "id": "016142de",
   "metadata": {},
   "outputs": [],
   "source": [
    "import pandas as pd\n",
    "import numpy as np\n",
    "import random"
   ]
  },
  {
   "cell_type": "markdown",
   "id": "f9102e3c",
   "metadata": {
    "id": "f9102e3c"
   },
   "source": [
    "## Questão 1 \n",
    "\n",
    "Na casa da Luiza tem um pote de balas de diferentes cores. Certo dia a pessoa responsável por ele contou quantas balas tinha de cada uma das cores:\n",
    "\n",
    "    - 14 balas azuis;\n",
    "    - 22 balas vermelhas;\n",
    "    - 17 balas amarelas.\n",
    "\n",
    "Essa pessoa deixou que ele pegasse 3 balas. Qual a probabilidade da Luiza pegar uma bala de cada na ordem da contagem (azul, vermelha e amarela), dado que é um evento sem reposição?"
   ]
  },
  {
   "cell_type": "code",
   "execution_count": 2,
   "id": "c5b74ce4",
   "metadata": {},
   "outputs": [
    {
     "name": "stdout",
     "output_type": "stream",
     "text": [
      "A probabilidade é de 3.33%\n"
     ]
    }
   ],
   "source": [
    "azuis = 14/54  \n",
    "vermelhas = 22/54  \n",
    "amarelas = 17/54  \n",
    "total = azuis*vermelhas*amarelas\n",
    "print(f'A probabilidade é de {total*100:.2f}%')"
   ]
  },
  {
   "cell_type": "markdown",
   "id": "9b42655a",
   "metadata": {
    "id": "9b42655a"
   },
   "source": [
    "## Questão 2\n",
    "A probabilidade de dado honesto é conhecido e igual a $1/6$, mas quando vamos testar isso com um dado físico, não necessariamente vai cair uma vez cada face do dado (se eu lançar ele 6 vezes). A ideia é que conforme fazermos vários testes a tendência é que a probabilidade de cada face irá convergir pro valor esperado. \n",
    "\n",
    "Vamos testar este conceito utilizando da programação seguintes os itens abaixo:\n",
    "\n",
    "__A)__ Desenvolva uma função que receba um valor n, onde n é a quantidade de elementos e o objetivo da função é retorna uma _Series_ com k elementos sendo esses elementos números variando de 1 e 6;\n",
    "\n",
    "__B)__ Teste a função para n igual a 10, 100, 1.000, 10.000 e 100.000 casos e para cada um deles calcule a proporção de vezes que aparece cada número;\n",
    "\n",
    "__DIca.:__ utilize a função do _Pandas_ `.value_counts`\n",
    "\n",
    "__C)__ O que podermos dizer sobre a afirmação do enunciado, a tendência é que as probabilidades irâo convergir para $1/6$?"
   ]
  },
  {
   "cell_type": "code",
   "execution_count": 3,
   "id": "a577429f",
   "metadata": {},
   "outputs": [
    {
     "name": "stdout",
     "output_type": "stream",
     "text": [
      "6    0.6\n",
      "3    0.2\n",
      "2    0.1\n",
      "5    0.1\n",
      "dtype: float64\n",
      "4    0.22\n",
      "2    0.19\n",
      "3    0.19\n",
      "5    0.15\n",
      "6    0.13\n",
      "1    0.12\n",
      "dtype: float64\n",
      "3    0.191\n",
      "1    0.183\n",
      "4    0.170\n",
      "2    0.165\n",
      "6    0.153\n",
      "5    0.138\n",
      "dtype: float64\n",
      "2    0.1725\n",
      "3    0.1677\n",
      "5    0.1662\n",
      "1    0.1654\n",
      "6    0.1648\n",
      "4    0.1634\n",
      "dtype: float64\n",
      "2    0.16914\n",
      "4    0.16771\n",
      "6    0.16733\n",
      "1    0.16535\n",
      "5    0.16529\n",
      "3    0.16518\n",
      "dtype: float64\n"
     ]
    }
   ],
   "source": [
    "def random_dado(n):\n",
    "    return np.random.randint(1,7,n)\n",
    "\n",
    "for i in [10,100,1000,10000,100000]:\n",
    "    series = pd.Series(random_dado(i))\n",
    "    print(series.value_counts(normalize=True))"
   ]
  },
  {
   "cell_type": "markdown",
   "id": "3a62e259",
   "metadata": {},
   "source": [
    "sim, a tendência é que as probabilidades irâo convergir para  1/6."
   ]
  },
  {
   "cell_type": "markdown",
   "id": "723953d4-0369-44e2-89de-85cbb6011e64",
   "metadata": {
    "id": "723953d4-0369-44e2-89de-85cbb6011e64"
   },
   "source": [
    "## Questão 3\n",
    "Seja X uma v.a. que representa o valor observado num dado não viesado.\n",
    "\n",
    "    1. Descreva quem é a distribuição de probabilidade de X\n",
    "    2. Calcule $E(X)$\n",
    "    3. Calcule $Var(X)$"
   ]
  },
  {
   "cell_type": "markdown",
   "id": "66590e60",
   "metadata": {},
   "source": [
    "|Valores de X| Probabilidade|\n",
    "|:---:|:---:|\n",
    "|1|$\\frac{1}{6}$|\n",
    "|2|$\\frac{1}{6}$|\n",
    "|3|$\\frac{1}{6}$|\n",
    "|4|$\\frac{1}{6}$|\n",
    "|5|$\\frac{1}{6}$|\n",
    "|6|$\\frac{1}{6}$|"
   ]
  },
  {
   "cell_type": "markdown",
   "id": "713c4ba6",
   "metadata": {},
   "source": [
    "$$E(X) = \\frac{1}{6}*(1+2+3+4+5+6) = \\frac{21}{6} = \\frac{7}{2} = 3.5$$"
   ]
  },
  {
   "cell_type": "markdown",
   "id": "2ade1bdd",
   "metadata": {},
   "source": [
    "|Valores de X|<div style=\"width:290px\">Valores de $(X - E(X))^2$</div>| Probabilidade|\n",
    "|:---:|:---:|:---:|\n",
    "|1|$(1-3.5)^2 = 6.25$ | $\\frac{1}{6}$|\n",
    "|2|$(2-3.5)^2 = 2.25$ | $\\frac{1}{6}$|\n",
    "|3|$(3-3.5)^2 = 0.25$ | $\\frac{1}{6}$|\n",
    "|4|$(4-3.5)^2 = 0.25$ | $\\frac{1}{6}$|\n",
    "|5|$(5-3.5)^2 = 2.25$ | $\\frac{1}{6}$|\n",
    "|6|$(6-3.5)^2 = 6.25$ | $\\frac{1}{6}$|\n",
    "\n",
    "$$Var(X) = E[(X - E(X))^2] = \\frac{2}{6}*(6.25 + 2.25 + 0.25) = \\frac{8.75}{3} \\approx 2.916$$\n",
    "\n",
    "e portanto\n",
    "\n",
    "$$SD(X) = \\sqrt{2.916} \\approx 1.71$$"
   ]
  },
  {
   "cell_type": "code",
   "execution_count": 4,
   "id": "ddb09409",
   "metadata": {},
   "outputs": [
    {
     "name": "stdout",
     "output_type": "stream",
     "text": [
      "Esp: 3.5000000000000004\n",
      "var: 2.916666666666667\n"
     ]
    }
   ],
   "source": [
    "x = np.array(range(6))+1\n",
    "prob = np.ones(6)/6\n",
    "esp = np.average(x, weights=prob)\n",
    "var = np.average((x-esp)**2, weights = prob)\n",
    "\n",
    "print(\"Esp:\", esp)\n",
    "print(\"var:\", var)"
   ]
  },
  {
   "cell_type": "markdown",
   "id": "82372fbf-b5eb-434f-8aed-b85bbd3641b0",
   "metadata": {
    "id": "82372fbf-b5eb-434f-8aed-b85bbd3641b0"
   },
   "source": [
    "## Questão 4\n",
    "Seja X uma v.a. que representa a compra de um ativo (X = 1) ou a não compra de um ativo (X = 0) em que o sucesso da compra tem 90% de probabilidade.\n",
    "\n",
    "    1. Descreva quem é a distribuição de probabilidade de X\n",
    "    2. Calcule $E(X)$\n",
    "    3. Calcule $Var(X)$"
   ]
  },
  {
   "cell_type": "markdown",
   "id": "ab0c5638",
   "metadata": {},
   "source": [
    "1.\n",
    "\n",
    "|Valores de X| Probabilidade|\n",
    "|:---:|:---:|\n",
    "|0|0.1|\n",
    "|1|0.9|"
   ]
  },
  {
   "cell_type": "markdown",
   "id": "db255542",
   "metadata": {},
   "source": [
    "2.\n",
    "\n",
    "$$E(X) = 0*0.1 + 1*0.9 = 0.9$$"
   ]
  },
  {
   "cell_type": "markdown",
   "id": "73baa226",
   "metadata": {},
   "source": [
    "3.\n",
    "\n",
    "|Valores de X|<div style=\"width:290px\">Valores de $(X - E(X))^2$</div>| Probabilidade|\n",
    "|:---:|:---:|:---:|\n",
    "|0|$(0-0.9)^2 = 0.81$|0.1|\n",
    "|1|$(1-0.9)^2 = 0.01$|0.9|\n",
    "\n",
    "$$Var(X) = E[(X - E(X))^2] = 0.81*0.1 + 0.01*0.9= 0.09$$"
   ]
  },
  {
   "cell_type": "markdown",
   "id": "4a12dfd0-7697-45fa-9117-06986f5334a0",
   "metadata": {
    "id": "4a12dfd0-7697-45fa-9117-06986f5334a0"
   },
   "source": [
    "## Questão 5\n",
    "Uma relação bem importante entre uma população e uma amostra, é que uma amostra pode ser significativa daquela população (ou seja, podemos inferir que a média e variância da amostra será bem próximo do valor real da população), isto quando essa amostra for grande o suficiente para isso. Vamos fazer algumas simulações utilizando o _Python_ para testar esses conceicos, resolvendo os itens a seguir:\n",
    "\n",
    "__A)__ Crie uma lista com número aleatórios entre 20 e 50 e que essa lista contenham 1 milhão de elementos;\n",
    "\n",
    "__B)__ Calcule a média e a variância para essa lista;\n",
    "\n",
    "__C)__ Faça amostra aleatórias de diversos tamanhos (10, 100, 1.000 e 10.000 elementos) e calcule as mesmas métricas que o item anterior, para avaliar o conceito proposto no enunciado\n",
    "\n",
    "**Dica**: utiliza o método _sample_ do pacote _random_ para fazer a seleção da amostra"
   ]
  },
  {
   "cell_type": "code",
   "execution_count": 5,
   "id": "ee9f9581",
   "metadata": {},
   "outputs": [
    {
     "name": "stdout",
     "output_type": "stream",
     "text": [
      "[26, 39, 48, 34, 30]\n"
     ]
    },
    {
     "data": {
      "text/plain": [
       "50"
      ]
     },
     "execution_count": 5,
     "metadata": {},
     "output_type": "execute_result"
    }
   ],
   "source": [
    "# A)\n",
    "\n",
    "# Criar semente aleatória\n",
    "np.random.seed(42)\n",
    "\n",
    "# Tamanho da população\n",
    "n = 1000000\n",
    "\n",
    "# Criando a população\n",
    "pop = list(np.random.randint(20,51, size = n))\n",
    "\n",
    "# Print de 5 elementos da população\n",
    "print(pop[:5])\n",
    "\n",
    "# Verificando elemento máximo:\n",
    "max(pop)"
   ]
  },
  {
   "cell_type": "code",
   "execution_count": 6,
   "id": "d279947f",
   "metadata": {},
   "outputs": [
    {
     "name": "stdout",
     "output_type": "stream",
     "text": [
      "Média:  34.99\n",
      "Variância:  79.94\n"
     ]
    }
   ],
   "source": [
    "# B)\n",
    "\n",
    "print('Média: ', np.round(np.mean(pop),2))\n",
    "print('Variância: ', np.round(np.var(pop),2))"
   ]
  },
  {
   "cell_type": "code",
   "execution_count": null,
   "id": "48b5933f",
   "metadata": {},
   "outputs": [],
   "source": []
  },
  {
   "cell_type": "markdown",
   "id": "f36953b8",
   "metadata": {
    "id": "f36953b8"
   },
   "source": [
    "## Questão 6\n",
    "Um teste para COVID-19 possui uma taxa de 5% de falso positivo e 1% de falso negativo, ou seja, em 5% dos não-infectados acusa como infectados, e em 1% dos infectados acusa como não infectados. Sabendo que atualmente 1% da população está infectada, calcule a probabilidade de um paciente cujo teste apontou positivo estar realmente infectado."
   ]
  },
  {
   "cell_type": "code",
   "execution_count": 7,
   "id": "87b8f946",
   "metadata": {},
   "outputs": [
    {
     "data": {
      "text/plain": [
       "0.16666666666666669"
      ]
     },
     "execution_count": 7,
     "metadata": {},
     "output_type": "execute_result"
    }
   ],
   "source": [
    "(.99*.01)/((.99*0.01)+(0.05*.99))"
   ]
  },
  {
   "cell_type": "markdown",
   "id": "LxOQ9MBVKc_Q",
   "metadata": {
    "id": "LxOQ9MBVKc_Q"
   },
   "source": [
    "## Questão 7\n",
    "Se uma amostra aleatória n=250, tem uma média amostral de 51,3 e uma desvio padrão populacional de σ=2. Construa o intervalo com 95% de confiança para a média populacional μ."
   ]
  },
  {
   "cell_type": "code",
   "execution_count": 16,
   "id": "7573a5b2",
   "metadata": {},
   "outputs": [
    {
     "name": "stdout",
     "output_type": "stream",
     "text": [
      "Limiar inferior 51.56428634608559\n",
      "Limiar superior 51.56428634608559\n"
     ]
    }
   ],
   "source": [
    "# Intervalo de confiança \n",
    "sigma = 2 # desvio padrao populacional\n",
    "n = 220 # tamanho da amostra\n",
    "media_amostral = 51.3\n",
    "\n",
    "significancia = 0.05\n",
    "confianca = 0.95\n",
    "\n",
    "z = 1.96\n",
    "\n",
    "limiar_inferior_intervalo_confianca = media_amostral - z * sigma / n**0.5\n",
    "limiar_inferior_intervalo_confianca = media_amostral + z * sigma / n**0.5\n",
    "\n",
    "print('Limiar inferior', limiar_inferior_intervalo_confianca)\n",
    "print('Limiar superior', limiar_inferior_intervalo_confianca)"
   ]
  },
  {
   "cell_type": "markdown",
   "id": "Mfa5J5nlKnKW",
   "metadata": {
    "id": "Mfa5J5nlKnKW"
   },
   "source": [
    "## Questão 8\n",
    "Sabe-se que a vida em horas de um bulbo de lâmpada de 75 W é distribuída de forma aproximadamente normal com desvio padrão de σ = 25. Uma amostra aleatória de 200 bulbos tem uma vida media de 1.014 horas. Construa um intervalo de confiança de 95% para a vida média."
   ]
  },
  {
   "cell_type": "code",
   "execution_count": 18,
   "id": "399d27c2",
   "metadata": {},
   "outputs": [
    {
     "name": "stdout",
     "output_type": "stream",
     "text": [
      "Limiar inferior 1010.5351767721859\n",
      "Limiar superior 1017.4648232278141\n"
     ]
    }
   ],
   "source": [
    "#Intervalo de confiança\n",
    "sigma = 25 #desvio padrao populacional\n",
    "n = 200 #tamanho da amostra\n",
    "media_amostral = 1014 #media amostral\n",
    "\n",
    "significancia = 0.05 \n",
    "confiancia = 0.95\n",
    "\n",
    "z = 1.96\n",
    "\n",
    "limiar_inferior_intervalo_confianca = media_amostral - z * sigma / n**0.5\n",
    "limiar_superior_intervalo_confianca = media_amostral + z * sigma / n**0.5\n",
    "\n",
    "print('Limiar inferior', limiar_inferior_intervalo_confianca)\n",
    "print('Limiar superior', limiar_superior_intervalo_confianca)"
   ]
  },
  {
   "cell_type": "markdown",
   "id": "uVHWBW-Qh0l2",
   "metadata": {
    "id": "uVHWBW-Qh0l2"
   },
   "source": [
    "## Questão 9\n",
    "\n",
    "Para decidirmos se os habitantes de uma ilha são descendentes da civilização A ou B, iremos proceder do seguinte modo:\n",
    "\n",
    "(i) selecionamos uma amostra de 100 moradores adultos da ilha, e determinamos a altura média deles;\n",
    "\n",
    "(ii) se essa altura média for superior a 176, diremos que são descendentes de B; caso contrário, são descendentes de A.\n",
    "\n",
    "Os parâmetros das alturas das duas civilizações são:\n",
    "A : μ = 175 e σ = 10;\n",
    "B : μ = 177 e σ = 10.\n",
    "\n",
    "Definamos:\n",
    "\n",
    "$H_0: \\overline{X} > 176$\n",
    "\n",
    "$H_1: \\overline{X} \\leq 176$\n",
    "\n",
    "(a) Defina os erros do tipo I e do tipo II e suas probabilidadades de ocorrerem.\n",
    "\n",
    "(b) Qual deve ser a regra de decisão se quisermos fixar a probabilidade do erro de tipo I em $5\\%$? Qual a probabilidade do erro de tipo II, nesse caso?"
   ]
  },
  {
   "cell_type": "code",
   "execution_count": 20,
   "id": "53e8739c",
   "metadata": {},
   "outputs": [
    {
     "name": "stdout",
     "output_type": "stream",
     "text": [
      "Probabilidade de erro do tipo 1: 0.84134\n"
     ]
    }
   ],
   "source": [
    "#A)\n",
    "\n",
    "'''\n",
    "Erro tipo 1 - afirmar que os habitantes são descententes de A quando na realidade são de B.\n",
    "Erro tipo 2 - afirmar que os habitantes são descendentes de B quando na realidade são de A.\n",
    "'''\n",
    "\n",
    "from scipy.stats import norm\n",
    "import numpy as np\n",
    "\n",
    "#Cálculo de probabilidade do erro tipo 1\n",
    "\n",
    "x_barra_c = 176\n",
    "media = 175\n",
    "desvio_padrao = (10/np.sqrt(100))**2\n",
    "\n",
    "z_critico = (x_barra_c - media) / desvio_padrao\n",
    "\n",
    "p_erro_1 = norm.cdf(z_critico)\n",
    "\n",
    "print(f'Probabilidade de erro do tipo 1: {p_erro_1:.5f}')\n",
    "\n",
    "\n",
    "\n"
   ]
  },
  {
   "cell_type": "code",
   "execution_count": null,
   "id": "6ceddca7",
   "metadata": {},
   "outputs": [],
   "source": []
  }
 ],
 "metadata": {
  "colab": {
   "name": "Cópia de lista_ex1.ipynb",
   "provenance": []
  },
  "kernelspec": {
   "display_name": "Python 3",
   "language": "python",
   "name": "python3"
  },
  "language_info": {
   "codemirror_mode": {
    "name": "ipython",
    "version": 3
   },
   "file_extension": ".py",
   "mimetype": "text/x-python",
   "name": "python",
   "nbconvert_exporter": "python",
   "pygments_lexer": "ipython3",
   "version": "3.8.8"
  },
  "varInspector": {
   "cols": {
    "lenName": 16,
    "lenType": 16,
    "lenVar": 40
   },
   "kernels_config": {
    "python": {
     "delete_cmd_postfix": "",
     "delete_cmd_prefix": "del ",
     "library": "var_list.py",
     "varRefreshCmd": "print(var_dic_list())"
    },
    "r": {
     "delete_cmd_postfix": ") ",
     "delete_cmd_prefix": "rm(",
     "library": "var_list.r",
     "varRefreshCmd": "cat(var_dic_list()) "
    }
   },
   "types_to_exclude": [
    "module",
    "function",
    "builtin_function_or_method",
    "instance",
    "_Feature"
   ],
   "window_display": false
  }
 },
 "nbformat": 4,
 "nbformat_minor": 5
}
