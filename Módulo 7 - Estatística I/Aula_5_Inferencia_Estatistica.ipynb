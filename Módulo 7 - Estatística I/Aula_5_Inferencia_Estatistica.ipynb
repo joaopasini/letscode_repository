{
 "cells": [
  {
   "cell_type": "markdown",
   "metadata": {
    "id": "U0U-SxIOWtmU"
   },
   "source": [
    "# 5. Inferência estatística\n",
    "\n",
    "Seja $X$ uma variável aleatória com função densidade (ou de probabilidade) denotada por $f(x,\\theta)$, em que $\\theta$ é um **parâmetro desconhecido da população** e que se deseja conhecer. Chamamos de inferência estatística o problema que consiste em especificar um ou mais valores para $\\theta$, baseado em uma amostra de X. Há duas formas de estimar $\\theta$: estimativas pontuais ou intervalares.\n",
    "\n",
    "## 5.1 Estimador Pontual\n",
    "\n",
    "As estimativas pontuais são estimativas de parâmetros populacionais com base em dados amostrais. Por exemplo, se quiséssemos saber a idade média dos eleitores registrados nos EUA, poderíamos fazer uma pesquisa com eleitores registrados e usar a idade média dos entrevistados como uma estimativa pontual da idade média da população como um todo. A média de uma amostra é conhecida como média amostral.\n",
    "\n",
    "Um estimador paramétrico deve apresentar as seguintes propriedades:\n",
    "\n",
    "- **Suficiência**: um estimador \\\\(T(X)\\\\) é suficiente para \\\\(\\theta\\\\)  se e somente se \\\\(T(X)\\\\) não depender de \\\\(\\theta\\\\). Por exemplo, o estimador \\\\(\\overline{X}\\\\) é suficiente para a média populacional, pois a função paramétrica não depende da média populacional \\\\(\\mu\\\\):\n",
    "\n",
    "\\\\[ \\overline{X} = T(X) =  \\frac{\\sum_{i}^{n}x_i}{n} \\\\] \n",
    "\n",
    "\n",
    "- **Consistência**:  um estimador é dito consistente para parâmetro \\\\[\\theta\\\\] quando, a medida que se aumenta o tamanho **n** da amostra, também aumenta a precisão na estimativa ou seja, considerando \\\\(T_{n}(X)\\\\) o estimador de \\\\(\\theta\\\\) para uma amostra de tamanho n, temos:\n",
    "\n",
    "\\\\[  P(\\mid T_{n}(X) -\\theta \\mid > \\epsilon) \\rightarrow 0, n \\rightarrow \\infty\\\\]\n",
    "\n",
    "- **Não enviesado**: um estimador de \\\\(\\theta\\\\) é não enviesado (ou não tendencioso) para o parâmetro, se \\\\(E(T(X)) = \\theta\\\\), para qualquer valor de \\\\(\\theta\\\\).\n",
    "\n",
    "\n",
    "- **Eficiência**: Sejam \\\\(\\widehat{\\theta}_1\\\\) e \\\\(\\widehat{\\theta}_2\\\\) dois estimadores não viciados de \\\\(\\theta\\\\), dizemos que \\\\(\\widehat{\\theta}_1\\\\) é mais eficiente que \\\\(\\widehat{\\theta}_2\\\\) se \\\\(Var(\\widehat{\\theta}_1) < Var(\\widehat{\\theta}_2)\\\\).\n",
    "\n",
    "\n",
    "<center><img src=http://drive.google.com/uc?export=view&id=1z6Cat6ENkWG90LWn_fV94Y2lwVetaNsH width=\"400\" height=\"500\" /></center> \n",
    "\n",
    "\n",
    "\n",
    "São exemplos de estimadores que satisfazem as quatro propriedades acima:\n",
    "\n",
    "- Para a média populacional \\\\(\\mu\\\\)\n",
    "\n",
    "\\\\[ \\widehat{\\mu} = \\overline{X} = \\frac{\\sum_{i}^{n}x_i}{n} \\\\] \n",
    "\n",
    "- para a proporção populacional p (em que \\\\(x_i = {[0,1]}\\\\))\n",
    "\n",
    "\\\\[ \\widehat{p} = \\overline{p} = \\frac{\\sum_{i}^{n}x_i}{n} \\\\] \n",
    "\n",
    "- para a variância populacional \\\\(\\sigma^2\\\\)\n",
    "\n",
    "\\\\[ \\widehat{\\sigma^2} = s^2 = \\frac{\\sum_{i}^{n}(x_i-\\overline{X})^2}{n-1} \\\\]\n",
    "\n",
    "A diferença entre o parâmetro popuacional e o estimador pode ser causada por muitos fatores, incluindo desenho de pesquisa ruim, métodos de amostragem tendenciosos e aleatoriedade inerente ao sorteio de uma amostra de uma população. Vamos investigar estimativas pontuais gerando uma população de dados de idade aleatórios e, em seguida, extraindo uma amostra para estimar a média:"
   ]
  },
  {
   "cell_type": "code",
   "execution_count": 2,
   "metadata": {
    "id": "-jpIWGbHWtRL"
   },
   "outputs": [],
   "source": [
    "import numpy as np\n",
    "import pandas as pd\n",
    "import scipy.stats as stats\n",
    "import matplotlib.pyplot as plt\n",
    "import random\n",
    "import math"
   ]
  },
  {
   "cell_type": "code",
   "execution_count": 3,
   "metadata": {
    "colab": {
     "base_uri": "https://localhost:8080/"
    },
    "id": "4NP23cBuWh7G",
    "outputId": "bdb87680-c9f7-43ba-b889-5414bd9d4671"
   },
   "outputs": [
    {
     "data": {
      "text/plain": [
       "43.002372"
      ]
     },
     "execution_count": 3,
     "metadata": {},
     "output_type": "execute_result"
    }
   ],
   "source": [
    "np.random.seed(10)\n",
    "population_ages1 = stats.poisson.rvs(loc=18, mu=35, size=150000)\n",
    "population_ages2 = stats.poisson.rvs(loc=18, mu=10, size=100000)\n",
    "population_ages = np.concatenate((population_ages1, population_ages2))\n",
    "\n",
    "population_ages.mean()"
   ]
  },
  {
   "cell_type": "code",
   "execution_count": 14,
   "metadata": {
    "colab": {
     "base_uri": "https://localhost:8080/"
    },
    "id": "83WU8893HQSo",
    "outputId": "492ad02e-8bdc-4193-9143-83326253e672"
   },
   "outputs": [
    {
     "name": "stdout",
     "output_type": "stream",
     "text": [
      "Media Amostral:  42.748666666666665\n",
      "Diferenca entre as medias 0.2537053333333361\n"
     ]
    }
   ],
   "source": [
    "np.random.seed(10)\n",
    "\n",
    "sample_ages = np.random.choice(a=population_ages,size=3000)\n",
    "\n",
    "print('Media Amostral: ',sample_ages.mean())\n",
    "print('Diferenca entre as medias',population_ages.mean()-sample_ages.mean())"
   ]
  },
  {
   "cell_type": "markdown",
   "metadata": {
    "id": "lNmIxGWvQWr1"
   },
   "source": [
    "### 5.1.1 Erro Quadrático Médio\n",
    "\n",
    "Vale ressaltar que nem sempre um estimador eficiente produz um bom resultado. Considere a expressão do Erro Quadrático Médio (EQM) do estimador \\\\(\\widehat{\\theta}\\\\):\n",
    "\n",
    "\\\\[ EQM(\\widehat{\\theta}, \\theta) =  E(\\epsilon^2) = E(\\widehat{\\theta}- \\theta)^2 \\\\]\n",
    "\n",
    "Sendo assim:\n",
    "\n",
    "\n",
    "\\\\[ E(\\widehat{\\theta}- \\theta)^2 = E(\\widehat{\\theta}^2 + \\theta^2 - 2\\theta \\widehat{\\theta})\\\\]\n",
    "\\\\[= E(\\widehat{\\theta})^2 +  E(\\theta^2) - 2\\theta E(\\widehat{\\theta}) \\\\]\n",
    "\\\\[ = E(\\widehat{\\theta})^2 - (E(\\widehat{\\theta}))^2 + (E(\\widehat{\\theta}))^2  +  E(\\theta^2) - 2\\theta E(\\widehat{\\theta}) \\\\]\n",
    " \\\\[= Var(\\widehat{\\theta})+ (E(\\widehat{\\theta}))^2  + E(\\theta^2) - 2\\theta E(\\widehat{\\theta}) \\\\]\n",
    "\\\\[ = Var(\\widehat{\\theta}) + (E(\\widehat{\\theta}))^2 + \\theta^2 - 2\\theta E(\\widehat{\\theta})  \\\\]\n",
    "\\\\[ = Var(\\widehat{\\theta}) + [E(\\widehat{\\theta}) -  \\theta] ^2\\\\]\n",
    " \n",
    " Nesta expressão $E(\\widehat{\\theta}) -  \\theta$ indica o viés do estimador \\\\(\\widehat{\\theta}\\\\), sendo assim, perceba mesmo que a variância seja pequena, não necessariamente o erro produzido pelo estimador é baixo (exemplificado na figura abaixo).\n",
    " \n",
    " \n",
    " <center><img src=http://drive.google.com/uc?export=view&id=1PvfWpQhexAUqxobkwmAj4JUqT367YXQI width=\"400\" height=\"400\" /></center> "
   ]
  },
  {
   "cell_type": "markdown",
   "metadata": {
    "id": "NwcZjrtYkAeC"
   },
   "source": [
    "### 5.1.2 Máxima Verossimilhancia\n",
    "\n",
    "A Estimativa de Máxima Verossimilhança, simplesmente conhecida como MLE, é uma abordagem probabilística tradicional que pode ser aplicada a dados pertencentes a qualquer distribuição, ou seja, Normal, Poisson, Bernoulli, etc. os parâmetros de distribuição mais prováveis ​​de ocorrer. Por exemplo, digamos que temos dados que são considerados normalmente distribuídos, mas não conhecemos seus parâmetros de média e desvio padrão. A Estimativa de Máxima Verossimilhança pesquisa iterativamente a média e o desvio padrão mais prováveis ​​que poderiam ter gerado a distribuição.\n",
    "\n",
    "O termo verossimilhança pode ser definido como a possibilidade de que os parâmetros considerados possam gerar os dados. Uma função de verossimilhança é simplesmente a função de probabilidade conjunta da distribuição de dados, conforme equação abaixo.\n",
    "\n",
    "\\\\[L(\\theta; x_1, x_2, \\cdots, x_n) = \\prod_{i=1}^{n} f(x_i, \\theta)= f(x_1, \\theta) f(x_2, \\theta) \\cdots f(x_n, \\theta)\\\\]\n",
    "\n",
    "A função de probabilidade conjunta é simplesmente o produto das funções de probabilidade de pontos de dados individuais. \n",
    "\n",
    "A maximização da função é realizada ao se diferenciar a função de verossimilhança em relação aos parâmetros de distribuição e igualar a zero."
   ]
  },
  {
   "cell_type": "markdown",
   "metadata": {
    "id": "J2iUrnxrMpAn"
   },
   "source": [
    "## 5.2 Estimador Intervalar\n",
    "\n",
    "A estimção pontual não permite julgar a magnetude do erro cometido na estimativa. Então surge a necessidade de um estimador intervalar (Intervalo de Confiança, IC), que permite construir  um intervalo que é previsto para conter o parâmetro estimado, baseado na distribuição amostral do estimador pontual. A confiança que atribuimos ao intervalo é a probabilidade de que ele irá conter o parâmetro.\n",
    "\n",
    "Seja \\\\((1-\\alpha)\\\\) uma probabilidade especificada e L e U funções dos valores amostrais X, de modo que\n",
    "\n",
    "\\\\[P(L < \\theta <U) =1-\\alpha\\\\]\n",
    "\n",
    "O intervalo \\\\((L ,U)\\\\) é chamado intervalo de confiança e \\\\((1-\\alpha)\\\\) é o nível deconfiança (NC) associado ao intervalo. Pode-se definir  nível de confiança como a probabilidade de o intervalo conter \\\\(\\theta\\\\), em outras palavras é a proporção de vezes que o intervalo de confiança realmente contém o parâmetro populacional, supondo que o processo seja repetido um número grande de vezes.\n",
    "\n",
    " <center><img src=http://drive.google.com/uc?export=view&id=1q9B2CurquFrblAg43LoWB3zfdDs5g_dQ width=\"400\" height=\"400\" /></center> "
   ]
  },
  {
   "cell_type": "markdown",
   "metadata": {
    "id": "COwjjpPvOP-c"
   },
   "source": [
    "Vamos calcular uma confiança de 95% para nossa estimativa de ponto médio:"
   ]
  },
  {
   "cell_type": "code",
   "execution_count": null,
   "metadata": {
    "colab": {
     "base_uri": "https://localhost:8080/"
    },
    "id": "-Z0aF_huORf6",
    "outputId": "2a6996fc-f168-40bb-d923-b607fdb6b86a"
   },
   "outputs": [
    {
     "name": "stdout",
     "output_type": "stream",
     "text": [
      "z-critical value:\n",
      "1.959963984540054\n",
      "Confidence interval:\n",
      "(41.70306406882683, 43.34293593117317)\n"
     ]
    }
   ],
   "source": [
    "np.random.seed(10)\n",
    "\n",
    "sample_size = 1000\n",
    "sample = np.random.choice(a= population_ages, size = sample_size)\n",
    "sample_mean = sample.mean()\n",
    "\n",
    "z_critical = stats.norm.ppf(q = 0.975)  # Usamos stats.norm.ppf(q = 0,975) para obter o valor z-crítico desejado em vez de q = 0,95 porque a distribuição tem duas caudas.\n",
    "\n",
    "print(\"z-critical value:\")              # Check the z-critical value\n",
    "print(z_critical)                        \n",
    "\n",
    "pop_stdev = population_ages.std()  # Get the population standard deviation\n",
    "\n",
    "margin_of_error = z_critical * (pop_stdev/math.sqrt(sample_size))\n",
    "\n",
    "confidence_interval = (sample_mean - margin_of_error,\n",
    "                       sample_mean + margin_of_error)  \n",
    "\n",
    "print(\"Confidence interval:\")\n",
    "print(confidence_interval)"
   ]
  },
  {
   "cell_type": "markdown",
   "metadata": {
    "id": "2WotGXy3OmA9"
   },
   "source": [
    "Vamos criar vários intervalos de confiança e plotá-los para ter uma noção melhor do que significa \"capturar\" a verdadeira média:"
   ]
  },
  {
   "cell_type": "code",
   "execution_count": null,
   "metadata": {
    "id": "g9e9mtdpPEuW"
   },
   "outputs": [],
   "source": [
    "np.random.seed(12)\n",
    "\n",
    "sample_size = 1000\n",
    "\n",
    "intervals = []\n",
    "sample_means = []\n",
    "\n",
    "for sample in range(25):\n",
    "    sample = np.random.choice(a= population_ages, size = sample_size)\n",
    "    sample_mean = sample.mean()\n",
    "    sample_means.append(sample_mean)\n",
    "\n",
    "    z_critical = stats.norm.ppf(q = 0.975)  # Get the z-critical value*         \n",
    "\n",
    "    pop_stdev = population_ages.std()  # Get the population standard deviation\n",
    "\n",
    "    stats.norm.ppf(q = 0.025)\n",
    "\n",
    "    margin_of_error = z_critical * (pop_stdev/math.sqrt(sample_size))\n",
    "\n",
    "    confidence_interval = (sample_mean - margin_of_error,\n",
    "                           sample_mean + margin_of_error)  \n",
    "    \n",
    "    intervals.append(confidence_interval)"
   ]
  },
  {
   "cell_type": "code",
   "execution_count": null,
   "metadata": {
    "colab": {
     "base_uri": "https://localhost:8080/",
     "height": 554
    },
    "id": "N98u2JRuPJcD",
    "outputId": "65c25485-4039-4d3b-bf9b-e5964e2d0b02"
   },
   "outputs": [
    {
     "data": {
      "text/plain": [
       "<matplotlib.collections.LineCollection at 0x7f2212888a50>"
      ]
     },
     "execution_count": 6,
     "metadata": {},
     "output_type": "execute_result"
    },
    {
     "data": {
      "image/png": "[encoded data removed]",
      "text/plain": [
       "<Figure size 648x648 with 1 Axes>"
      ]
     },
     "metadata": {
      "needs_background": "light"
     },
     "output_type": "display_data"
    }
   ],
   "source": [
    "plt.figure(figsize=(9,9))\n",
    "\n",
    "plt.errorbar(x=np.arange(0.1, 25, 1), \n",
    "             y=sample_means, \n",
    "             yerr=[(top-bot)/2 for top,bot in intervals],\n",
    "             fmt='o')\n",
    "\n",
    "plt.hlines(xmin=0, xmax=25,\n",
    "           y=43.0023, \n",
    "           linewidth=2.0,\n",
    "           color=\"red\")"
   ]
  }
 ],
 "metadata": {
  "colab": {
   "name": "Aula_5_Inferencia_Estatistica.ipynb",
   "provenance": []
  },
  "kernelspec": {
   "display_name": "Python 3 (ipykernel)",
   "language": "python",
   "name": "python3"
  },
  "language_info": {
   "codemirror_mode": {
    "name": "ipython",
    "version": 3
   },
   "file_extension": ".py",
   "mimetype": "text/x-python",
   "name": "python",
   "nbconvert_exporter": "python",
   "pygments_lexer": "ipython3",
   "version": "3.9.7"
  }
 },
 "nbformat": 4,
 "nbformat_minor": 1
}
