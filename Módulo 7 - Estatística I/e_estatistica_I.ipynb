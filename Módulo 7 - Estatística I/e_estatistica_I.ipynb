{
 "cells": [
  {
   "cell_type": "markdown",
   "id": "2d61adf6",
   "metadata": {},
   "source": [
    "## Exercícios de Estatística I"
   ]
  },
  {
   "cell_type": "markdown",
   "id": "b2b47fc9",
   "metadata": {},
   "source": [
    "Questão 1\n",
    "\n",
    "Em uma urna há 3 bolas azuis, 6 vermelhas e uma branca. As bolas são retiradas sem reposição. Qual a probabilidade de alguém retirar uma bola uma bola azul e uma branca, nesta ordem?"
   ]
  },
  {
   "cell_type": "code",
   "execution_count": 1,
   "id": "ab0fa16a",
   "metadata": {},
   "outputs": [
    {
     "name": "stdout",
     "output_type": "stream",
     "text": [
      "Resposta: 3.3%\n"
     ]
    }
   ],
   "source": [
    "p1 = 3/10  # Probabilidade de retirar uma bola azul\n",
    "p2 = 1/9   # Probabilidade de retirar uma bola branca\n",
    "\n",
    "p_total = p1*p2*100 # p(A,B) = P(A)*P(B|A)\n",
    "\n",
    "print(f'Resposta: {p_total:.1f}%')"
   ]
  },
  {
   "cell_type": "markdown",
   "id": "52c29b4c",
   "metadata": {},
   "source": [
    "Questão 2\n",
    "\n",
    "O número médio de clientes que entram em uma padaria por hora é igual a 20. Obtenha a probabilidade de, na próxima hora, entrarem exatamente 25 clientes."
   ]
  },
  {
   "cell_type": "code",
   "execution_count": 2,
   "id": "75fc83c1",
   "metadata": {},
   "outputs": [
    {
     "name": "stdout",
     "output_type": "stream",
     "text": [
      "Resposta: 4.5%\n"
     ]
    }
   ],
   "source": [
    "from scipy.stats import poisson\n",
    "\n",
    "k = 25\n",
    "mu = 20\n",
    "\n",
    "prob = poisson.pmf(k, mu)*100\n",
    "\n",
    "print(f'Resposta: {prob:.1f}%')"
   ]
  },
  {
   "cell_type": "markdown",
   "id": "a576bd11",
   "metadata": {},
   "source": [
    "Questão 3\n",
    "\n",
    "A aplicação de uma prova de estatística em um concurso apresentou um conjunto de notas normalmente distribuídas. Verificou-se que o conjunto de notas tinha média 70 e desvio padrão de 5 pontos.\n",
    "Qual a probabilidade de um aluno, selecionado ao acaso, ter nota menor que 85?"
   ]
  },
  {
   "cell_type": "code",
   "execution_count": 3,
   "id": "1334afed",
   "metadata": {},
   "outputs": [
    {
     "name": "stdout",
     "output_type": "stream",
     "text": [
      "Resposta: 99.9%\n"
     ]
    }
   ],
   "source": [
    "from scipy.stats import norm\n",
    "\n",
    "mu = 70\n",
    "sigma = 5 \n",
    "\n",
    "prob = norm.cdf(84.9, mu, sigma) - norm.cdf(0, mu, sigma)\n",
    "\n",
    "print(f'Resposta: {prob*100:.1f}%')"
   ]
  },
  {
   "cell_type": "markdown",
   "id": "b9ca4c3a",
   "metadata": {},
   "source": [
    "Questão 4\n",
    "\n",
    "Para uma amostra contendo os seguintes valores: [1, 4, 5, 6, 10], estime a variância populacional"
   ]
  },
  {
   "cell_type": "code",
   "execution_count": 4,
   "id": "846162f5",
   "metadata": {},
   "outputs": [
    {
     "data": {
      "text/plain": [
       "8.559999999999999"
      ]
     },
     "execution_count": 4,
     "metadata": {},
     "output_type": "execute_result"
    }
   ],
   "source": [
    "import numpy as np\n",
    "lista = [1, 4, 5, 6, 10]\n",
    "np.var(lista)"
   ]
  },
  {
   "cell_type": "markdown",
   "id": "37d3e392",
   "metadata": {},
   "source": [
    "Questão 5\n",
    "\n",
    "Um fabricante garante que 90% dos equipamentos que fornece a\n",
    "uma f ́abrica est ̃ao de acordo com as especifica ̧c ̃oes exigidas. O\n",
    "exame de uma amostra de 200 pe ̧cas desse equipamento revelou\n",
    "25 defeituosas. Teste a afirmativa do fabricante, nos n ́ıveis de 5%\n",
    "e 1%."
   ]
  },
  {
   "cell_type": "code",
   "execution_count": 6,
   "id": "18012278",
   "metadata": {},
   "outputs": [
    {
     "name": "stdout",
     "output_type": "stream",
     "text": [
      "A região crítica é: x_barra <= 0.3 ou x_barra >= 1.5\n",
      "Dado que a média amostral é igual a 0.875, não devemos rejeitar a Hipótese Nula.\n"
     ]
    }
   ],
   "source": [
    "from scipy.stats import norm\n",
    "\n",
    "# Teste no nível 5%\n",
    "\n",
    "media = 0.9\n",
    "desvio_padrao = 0.3 \n",
    "\n",
    "alpha = 0.05\n",
    "\n",
    "media_amostral = 0.875\n",
    "\n",
    "z_critico_1 = norm.ppf(q=0.025)\n",
    "z_critico_2 = norm.ppf(q=0.975)\n",
    "\n",
    "x_critico_1 = z_critico_1*desvio_padrao + media\n",
    "x_critico_2 = z_critico_2*desvio_padrao + media\n",
    "\n",
    "print(f'A região crítica é: x_barra <= {x_critico_1:.1f} ou x_barra >= {x_critico_2:.1f}')\n",
    "\n",
    "if x_critico_1 <= media_amostral <= x_critico_2:\n",
    "      print(f'Dado que a média amostral é igual a {media_amostral}, não devemos rejeitar a Hipótese Nula.')\n",
    "\n",
    "else:\n",
    "      print(f'Dado que a média amostral é igual a {media_amostral}, devemos Rejeitar a Hipótese Nula')"
   ]
  },
  {
   "cell_type": "code",
   "execution_count": 7,
   "id": "41352b70",
   "metadata": {},
   "outputs": [
    {
     "name": "stdout",
     "output_type": "stream",
     "text": [
      "A região crítica é: x_barra <= 0.1 ou x_barra >= 1.7\n",
      "Dado que a média amostral é igual a 0.875, não devemos rejeitar a Hipótese Nula.\n"
     ]
    }
   ],
   "source": [
    "# Teste no nível 1%\n",
    "\n",
    "media = 0.9\n",
    "desvio_padrao = 0.3 \n",
    "\n",
    "alpha = 0.01\n",
    "\n",
    "media_amostral = 0.875\n",
    "\n",
    "z_critico_1 = norm.ppf(q=0.005)\n",
    "z_critico_2 = norm.ppf(q=0.995)\n",
    "\n",
    "x_critico_1 = z_critico_1*desvio_padrao + media\n",
    "x_critico_2 = z_critico_2*desvio_padrao + media\n",
    "\n",
    "print(f'A região crítica é: x_barra <= {x_critico_1:.1f} ou x_barra >= {x_critico_2:.1f}')\n",
    "\n",
    "if x_critico_1 <= media_amostral <= x_critico_2:\n",
    "      print(f'Dado que a média amostral é igual a {media_amostral}, não devemos rejeitar a Hipótese Nula.')\n",
    "\n",
    "else:\n",
    "      print(f'Dado que a média amostral é igual a {media_amostral}, devemos Rejeitar a Hipótese Nula')"
   ]
  }
 ],
 "metadata": {
  "kernelspec": {
   "display_name": "Python 3 (ipykernel)",
   "language": "python",
   "name": "python3"
  },
  "language_info": {
   "codemirror_mode": {
    "name": "ipython",
    "version": 3
   },
   "file_extension": ".py",
   "mimetype": "text/x-python",
   "name": "python",
   "nbconvert_exporter": "python",
   "pygments_lexer": "ipython3",
   "version": "3.9.7"
  }
 },
 "nbformat": 4,
 "nbformat_minor": 5
}
