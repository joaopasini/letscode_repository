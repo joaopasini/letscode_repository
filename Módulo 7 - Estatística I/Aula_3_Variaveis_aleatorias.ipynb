{
 "cells": [
  {
   "cell_type": "code",
   "execution_count": 1,
   "id": "nB3qxRJiOjsr",
   "metadata": {
    "ExecuteTime": {
     "end_time": "2021-12-03T08:02:49.645714Z",
     "start_time": "2021-12-03T08:02:49.630142Z"
    },
    "id": "nB3qxRJiOjsr"
   },
   "outputs": [],
   "source": [
    "#Bibliotecas utilizadas\n",
    "import matplotlib.pyplot as plt\n",
    "import seaborn as sns\n",
    "import numpy as np\n",
    "import math\n",
    "from scipy import stats\n",
    "import pandas as pd"
   ]
  },
  {
   "cell_type": "markdown",
   "id": "ea3ac378",
   "metadata": {
    "id": "ea3ac378"
   },
   "source": [
    "## 3. Variáveis Aleatórias\n",
    "\n",
    "Uma quantidade X, associada a cada possível resultado do espaço amostral é denominado de **variável aleatória discreta** se assume valores num conjunto enumerável, com certa probabilidade. Por outro lado será denominado **variável aleatória contínua** se seu conjunto de valores é qualquer intervalo dos números reais.\n",
    "\n",
    "Exemplo:\n",
    "\n",
    "1) Lançamento de 2 moedas simultâneas\n",
    "\n",
    "Espaço amostral: S={ (cara, cara), (cara, coroa), (coroa, coroa), (coroa, cara) }\n",
    "\n",
    "A variável aleatória X é o número de caras\n",
    "\n",
    "| Ponto Amostral | X |\n",
    "|----------------|---|\n",
    "| (cara, cara)   | 2 |\n",
    "| (cara, coroa)  | 1 |\n",
    "| (coroa, cara)  | 1 |\n",
    "| (coroa, coroa) | 0 |"
   ]
  },
  {
   "cell_type": "markdown",
   "id": "e9873601",
   "metadata": {},
   "source": [
    "2) Uma obra possui um registro da quantidade de acidentes diários ocorridos no mês de Abril/2021:"
   ]
  },
  {
   "cell_type": "code",
   "execution_count": 2,
   "id": "5d77ac57",
   "metadata": {
    "scrolled": true
   },
   "outputs": [
    {
     "data": {
      "image/png": "[encoded data removed]",
      "text/plain": [
       "<Figure size 792x360 with 1 Axes>"
      ]
     },
     "metadata": {
      "needs_background": "light"
     },
     "output_type": "display_data"
    }
   ],
   "source": [
    "acidentes_por_dia = [0,0,0,0,1,2,0,0,0,3,0,0,0,0,1,1,2,0,0,0,0,0,0,1,0,0,1,0,0,0]\n",
    "dias = range(1,31)\n",
    "plt.figure(figsize=(11,5))\n",
    "plt.bar(dias,acidentes_por_dia)\n",
    "plt.xticks(range(1,31))\n",
    "plt.yticks([1,2,3])\n",
    "plt.ylabel('Acidentes')\n",
    "plt.xlabel('Dia')\n",
    "plt.grid()\n",
    "plt.show()"
   ]
  },
  {
   "cell_type": "markdown",
   "id": "8fda4d65",
   "metadata": {},
   "source": [
    "Com esses dados, podemos construir a sua tabela de frequências."
   ]
  },
  {
   "cell_type": "code",
   "execution_count": 3,
   "id": "61d80ad0",
   "metadata": {
    "scrolled": true
   },
   "outputs": [
    {
     "data": {
      "text/plain": [
       "acidentes_por_dia\n",
       "0                    22\n",
       "1                     5\n",
       "2                     2\n",
       "3                     1\n",
       "dtype: int64"
      ]
     },
     "execution_count": 3,
     "metadata": {},
     "output_type": "execute_result"
    }
   ],
   "source": [
    "acidentes = pd.DataFrame(data={'acidentes_por_dia':acidentes_por_dia},index=dias)\n",
    "freq = acidentes.value_counts()\n",
    "freq"
   ]
  },
  {
   "cell_type": "markdown",
   "id": "fbcc3bf2",
   "metadata": {},
   "source": [
    "Em um dia, a probabilidade de:\n",
    "\n",
    "* Não ocorrer acidente:"
   ]
  },
  {
   "cell_type": "code",
   "execution_count": 4,
   "id": "0fc82362",
   "metadata": {
    "scrolled": true
   },
   "outputs": [
    {
     "data": {
      "text/plain": [
       "0.7333333333333333"
      ]
     },
     "execution_count": 4,
     "metadata": {},
     "output_type": "execute_result"
    }
   ],
   "source": [
    "freq[0]/freq.sum()"
   ]
  },
  {
   "cell_type": "markdown",
   "id": "8600ba63",
   "metadata": {},
   "source": [
    "* Ocorrer 1 acidente:"
   ]
  },
  {
   "cell_type": "code",
   "execution_count": 5,
   "id": "4c31e78f",
   "metadata": {},
   "outputs": [
    {
     "data": {
      "text/plain": [
       "0.16666666666666666"
      ]
     },
     "execution_count": 5,
     "metadata": {},
     "output_type": "execute_result"
    }
   ],
   "source": [
    "freq[1]/freq.sum()"
   ]
  },
  {
   "cell_type": "markdown",
   "id": "0d2dfccc",
   "metadata": {},
   "source": [
    "* Ocorrerem 2 acidentes:"
   ]
  },
  {
   "cell_type": "code",
   "execution_count": 6,
   "id": "12fc5813",
   "metadata": {},
   "outputs": [
    {
     "data": {
      "text/plain": [
       "0.06666666666666667"
      ]
     },
     "execution_count": 6,
     "metadata": {},
     "output_type": "execute_result"
    }
   ],
   "source": [
    "freq[2]/freq.sum()"
   ]
  },
  {
   "cell_type": "markdown",
   "id": "31d10de4",
   "metadata": {},
   "source": [
    "* Ocorrerem 3 acidentes:"
   ]
  },
  {
   "cell_type": "code",
   "execution_count": 7,
   "id": "33eb5913",
   "metadata": {
    "scrolled": true
   },
   "outputs": [
    {
     "data": {
      "text/plain": [
       "0.03333333333333333"
      ]
     },
     "execution_count": 7,
     "metadata": {},
     "output_type": "execute_result"
    }
   ],
   "source": [
    "freq[3]/freq.sum()"
   ]
  },
  {
   "cell_type": "markdown",
   "id": "c071f6cb",
   "metadata": {},
   "source": [
    "Outro modo de calcular essas probabilidades:"
   ]
  },
  {
   "cell_type": "code",
   "execution_count": 8,
   "id": "5418dbb2",
   "metadata": {},
   "outputs": [
    {
     "data": {
      "text/plain": [
       "4"
      ]
     },
     "execution_count": 8,
     "metadata": {},
     "output_type": "execute_result"
    }
   ],
   "source": [
    "dist_prob = acidentes.value_counts(normalize=True)\n",
    "\n",
    "4"
   ]
  },
  {
   "cell_type": "markdown",
   "id": "2ce26aa2",
   "metadata": {
    "id": "2ce26aa2"
   },
   "source": [
    "Essa tabela é denominada **distribuição de probabilidade**\n",
    "    \n",
    "| Número de acidentes | Probabilidades |\n",
    "|---------------------|----------------|\n",
    "| 0                   | 0.73           |\n",
    "| 1                   | 0.17           |\n",
    "| 2                   | 0.07           |\n",
    "| 3                   | 0.03           |\n",
    "|                     | **Soma = 1**   |\n",
    "\n",
    "Relação entre a variável aleatória $X$ (número de acidentes) e os valores da função $P$, que é denominada probabilidade:\n",
    "  \n",
    "$$f(x_i) = P(X = x_i)$$\n",
    "  \n",
    "A função $P(X = x_i)$ determina a distribuição de probabilidade da variável aleatória $X$."
   ]
  },
  {
   "cell_type": "markdown",
   "id": "e11ae13b",
   "metadata": {
    "id": "e11ae13b"
   },
   "source": [
    "**Voltando no exemplo das moedas:**\n",
    "\n",
    "Espaço amostral de 2 moedas S = {(cara, cara), (cara, coroa), (coroa, coroa), (coroa, cara)}\n",
    "\n",
    "* Qual a probabilidade de não aparecer cara $(x_i = 0)$? \n",
    "    - A = [(coroa,coroa)]\n",
    "    - $p_{A} = 1/4$\n",
    "\n",
    "* Qual a probabilidade de aparecer uma cara $(x_i = 1)$?\n",
    "    - B = [(cara, coroa),(coroa, cara)]?\n",
    "    - $p_{B} = 1/2$\n",
    "\n",
    "* Qual a probabilidade de aparecerem duas caras $(x_i = 2)$?\n",
    "    - C = [(cara, cara)]? \n",
    "    - $p_{C} = 1/4$\n",
    "\n",
    "Essa tabela é a distribuição de probabilidade:\n",
    "\n",
    "| Número de caras  | $$P(X=x_i)$$  |\n",
    "|------------------|--------------|\n",
    "| 2                |  1/4         |\n",
    "| 1                |  2/4=1/2     |\n",
    "| 0                |  1/4         |\n",
    "|                  | **soma = 1** |"
   ]
  },
  {
   "cell_type": "markdown",
   "id": "7ebfdb6c",
   "metadata": {
    "id": "7ebfdb6c"
   },
   "source": [
    "Represetação gráfica da tabela de distribuição de probabilidade"
   ]
  },
  {
   "cell_type": "code",
   "execution_count": 9,
   "id": "6b41fe34",
   "metadata": {
    "ExecuteTime": {
     "end_time": "2021-12-03T21:49:58.092250Z",
     "start_time": "2021-12-03T21:49:57.709595Z"
    },
    "id": "6b41fe34",
    "outputId": "2e318095-66f6-42a3-9405-8b929413ad5a",
    "scrolled": true
   },
   "outputs": [
    {
     "data": {
      "image/png": "[encoded data removed]",
      "text/plain": [
       "<Figure size 432x288 with 1 Axes>"
      ]
     },
     "metadata": {
      "needs_background": "light"
     },
     "output_type": "display_data"
    }
   ],
   "source": [
    "plt.bar(x=[0,1,2], height=[1/4,1/2,1/4])\n",
    "plt.title('Distribuição de Probabilidade do lançamento de 2 moedas simultaneamente')\n",
    "plt.ylabel(r'$P(X=x_i)$')\n",
    "plt.xlabel(r'$x_i$')\n",
    "plt.xticks([0,1,2])\n",
    "plt.yticks([1/4,1/2])\n",
    "plt.grid()\n",
    "plt.show()"
   ]
  },
  {
   "cell_type": "markdown",
   "id": "13135654",
   "metadata": {
    "id": "13135654"
   },
   "source": [
    "Experimento que mostra a distribuição de probabilidade:\n",
    "\n",
    "https://www.youtube.com/watch?v=Vo9Esp1yaC8"
   ]
  },
  {
   "cell_type": "markdown",
   "id": "dd0b52c6",
   "metadata": {
    "id": "dd0b52c6"
   },
   "source": [
    "## 3.1 Distribuições de Probabilidade\n",
    "\n",
    "Uma **distribuição de probabilidade** é uma função que descreve o comportamento aleatório de um fenômeno dependente do acaso.\n",
    "\n",
    "A distribuição de probabilidade pode **modelar incertezas** e descrever fenômenos físicos, biológicos, econômicos, entre outros.\n",
    "\n",
    "Para representar a distribuição matematicamente, frequentemente utilizamos a função de probabilidade (variáveis aleatórias discretas) ou [função densidade de probabilidade](https://en.wikipedia.org/wiki/Probability_density_function) (variáveis aleatórias contínuas) . Esta última função é tal que a **probabilidade** da variável aleatória cair em uma faixa particular é dada **pela integral da densidade dessa variável sobre tal faixa** - isto é, é dada pela área abaixo da função densidade mas acima do eixo horizontal e entre o menor e o maior valor dessa faixa.\n",
    "\n",
    "<img src=\"https://work.thaslwanter.at/Stats/html/_images/PDF.png\" width=400>\n",
    "\n",
    "Há muitas distribuições de probabilidade diferentes.\n",
    "\n",
    "Entre as distribuições de probabilidade, a **distribuição normal** tem uma importância particular. "
   ]
  },
  {
   "cell_type": "markdown",
   "id": "AdbaYf5ZOjs6",
   "metadata": {
    "id": "AdbaYf5ZOjs6"
   },
   "source": [
    "## 3.2 Esperança e variância de uma variável aleatória discreta\n",
    "\n",
    "Em Estatística, em teoria das probabilidades, o valor esperado, também chamado esperança matemática ou expectância, de uma variável aleatória é a soma do produto de cada probabilidade de saída da experiência pelo seu respectivo valor.\n",
    "\n",
    "\n",
    "A média, valor esperado ou esperança de uma variável X é dada pela expressão:\n",
    "\\\\[ E(X) = \\sum_{i=1}^{k} x_{i} p_{i}\\\\]\n",
    "\n",
    "\n",
    "Já a Variância é:\n",
    "$$ Var(X) = \\sum_{i=1}^{n}p_i(x_i-\\mu)^{2}$$\n",
    "\n",
    "Uma forma alternativa para calcular a variância, utilizando a Esperança, é:\n",
    "\n",
    "\\\\[ Var(X) = E(X^2) - [E(X)]^2 \\\\]"
   ]
  },
  {
   "cell_type": "markdown",
   "id": "otf24WthOjs6",
   "metadata": {
    "id": "otf24WthOjs6"
   },
   "source": [
    "Exemplo:\n",
    "    \n",
    "Sabendo que um grupo de amigos compra um cartão de rifa a cada mês e que todo mês são vendidos mil bilhetes do sorteio por 1,00 real cada. Cada bilhete tem uma chance igual de ganhar o prêmio, sendo o primeiro prêmio de 300,00 reais, o segundo de 200,00 reais e o terceiro de 100,00 reais. Qual o ganho líquido potencial ao se comprar um desses bilhetes, ou seja, qual será o valor esperado de X?\n",
    "\n",
    "\n",
    "|  X | P(X) |\n",
    "|---|---|\n",
    "| 300 - 1 = 299  | 1/1000  |\n",
    "| 200 - 1 = 199  | 1/1000  |\n",
    "| 100 - 1 = 99  | 1/1000  |\n",
    "|  0 - 1 = -1 | 997/1000  |\n",
    "\n",
    "O valor esperado da rifa é:\n",
    "\n",
    "\\\\[E(X) = (299 * 0.001) + (199 * 0.001) + (99 * 0.001) + ((-1) * 0.997) = - 0.4 \\\\]\n",
    "\n",
    "Sabendo que:\n",
    "\n",
    "\\\\[E(X^2) = (299^2 * 0.001) + (199^2 * 0.001) + (99^2 * 0.001) + ((-1)^2 * 0.997)) = 139.8\\\\]\n",
    "\n",
    "A variância da rifa será:\n",
    "\n",
    "\\\\[Var(X) = E(X^2) - [E(X)]^2 = 139.8 - (-0.4)^2 = 139.64 \\\\]\n",
    "\n",
    "Calculando o desvio padrão:\n",
    "\n",
    "$$ Dp(X) = \\sqrt{Var(X)} = \\sqrt{139.64} \\approx 11.82$$"
   ]
  },
  {
   "cell_type": "code",
   "execution_count": 10,
   "id": "48616880",
   "metadata": {},
   "outputs": [
    {
     "name": "stdout",
     "output_type": "stream",
     "text": [
      "Esperança =  -0.4\n"
     ]
    }
   ],
   "source": [
    "#Calculando a Esperança e a variância\n",
    "\n",
    "prob = [1/1000, 1/1000, 1/1000, 997/1000]\n",
    "\n",
    "X = [299, 199, 99, -1]\n",
    "\n",
    "#Calculando a esperança de X\n",
    "\n",
    "esperanca = np.sum([i*p for i,p in zip(X,prob)])\n",
    "print(f'Esperança =  {esperanca}')"
   ]
  },
  {
   "cell_type": "code",
   "execution_count": 11,
   "id": "a0c8ceb7",
   "metadata": {},
   "outputs": [
    {
     "name": "stdout",
     "output_type": "stream",
     "text": [
      "Var(X) = 139.64\n"
     ]
    }
   ],
   "source": [
    "#Calculando a variância de X\n",
    "#Primeira maneira    \n",
    "variancia = np.sum([(p*(i-esperanca)**2) for i,p in zip(X,prob)])\n",
    "\n",
    "print(f'Var(X) = {variancia}')"
   ]
  },
  {
   "cell_type": "code",
   "execution_count": 12,
   "id": "zmRzP55NOjs7",
   "metadata": {
    "ExecuteTime": {
     "end_time": "2021-12-03T22:54:37.502961Z",
     "start_time": "2021-12-03T22:54:37.322964Z"
    },
    "id": "zmRzP55NOjs7",
    "outputId": "bcf473e5-6feb-41c5-cbd4-4fc05d006bfb"
   },
   "outputs": [
    {
     "name": "stdout",
     "output_type": "stream",
     "text": [
      "Var(X) = 139.64000000000001\n"
     ]
    }
   ],
   "source": [
    "#Segunda maneira\n",
    "variancia = 0\n",
    "ex2 = np.sum([p*(i)**2 for i,p in zip(X,prob)]) #E(X^2)\n",
    "\n",
    "variancia = ex2 - (esperanca)**2\n",
    "print(f'Var(X) = {variancia}')"
   ]
  },
  {
   "cell_type": "markdown",
   "id": "AI6KJfVeOjs9",
   "metadata": {
    "id": "AI6KJfVeOjs9"
   },
   "source": [
    "## 3.3 Principais modelos discretos :\n",
    "\n",
    "\n",
    "#### **3.3.1 Bernoulli** \n",
    "\n",
    "\n",
    "Uma **distribuição de Bernoulli** tem apenas dois resultados possíveis, a saber 1 *(sucesso)* e 0 *(falha)*, e uma única tentativa, por exemplo, um sorteio. Portanto, a variável aleatória X que tem uma distribuição de Bernoulli pode assumir o valor 1 com a probabilidade de sucesso, p, e o valor 0 com a probabilidade de falha, q ou 1-p. As probabilidades de sucesso e fracasso não precisam ser igualmente prováveis. \n",
    "\n",
    "\\\\[  P(X=x) = p^{x} * (1-p) ^{1-x}\\\\]\n"
   ]
  },
  {
   "cell_type": "code",
   "execution_count": 13,
   "id": "iIC7qVBrOjs-",
   "metadata": {
    "ExecuteTime": {
     "end_time": "2021-12-03T08:03:12.625185Z",
     "start_time": "2021-12-03T08:03:10.139189Z"
    },
    "id": "iIC7qVBrOjs-",
    "outputId": "c41c19df-77b8-4662-f1d6-374dad3af13e"
   },
   "outputs": [
    {
     "data": {
      "text/plain": [
       "<seaborn.axisgrid.FacetGrid at 0x7f9618a3f5e0>"
      ]
     },
     "execution_count": 13,
     "metadata": {},
     "output_type": "execute_result"
    },
    {
     "data": {
      "image/png": "[encoded data removed]",
      "text/plain": [
       "<Figure size 360x360 with 1 Axes>"
      ]
     },
     "metadata": {
      "needs_background": "light"
     },
     "output_type": "display_data"
    }
   ],
   "source": [
    "from scipy.stats import bernoulli\n",
    "\n",
    "X = bernoulli(0.6) #40% falha e 60% de sucesso\n",
    "X_samples = X.rvs(100000)\n",
    "ax = sns.displot(X_samples, kind='hist', discrete=True, shrink=0.2)\n",
    "ax.set(title='Distribuição Bernoulli', xlabel='Reultado', ylabel='Frequência')"
   ]
  },
  {
   "cell_type": "markdown",
   "id": "0EBp30N6Ojs-",
   "metadata": {
    "id": "0EBp30N6Ojs-"
   },
   "source": [
    "#### **3.3.2 Binomial**\n",
    "\n",
    "Uma distribuição em que apenas dois resultados são possíveis (Ex: sucesso ou fracasso, vitória ou derrota) e em que a probabilidade de sucesso e fracasso é a mesma para todas as tentativas é chamada de Distribuição Binomial. No entanto, os resultados não precisam ser igualmente prováveis e cada estudo é independente um do outro. Os parâmetros de uma distribuição binomial são **n** e **p** onde n é o número total de tentativas e p é a probabilidade de sucesso em cada tentativa. Além do k que é o número de sucesso desejado. Sua função de distribuição de probabilidade é dada por:\n",
    "\n",
    "\n",
    "\n",
    "\\\\[f(k, n, p)  =  \\binom{n}{k} \\cdot p^k(1-p)^{n-k}\\\\]\n",
    "\n",
    "\n",
    "- probabilidade de sucesso é p e a probabilidade de insucesso q = 1 - p\n",
    "\n",
    "https://numpy.org/doc/stable/reference/random/generated/numpy.random.binomial.html"
   ]
  },
  {
   "cell_type": "markdown",
   "id": "a5f95253",
   "metadata": {},
   "source": [
    "Exemplo\n",
    "\n",
    "Uma companhia perfura 9 poços de exploração para tentar encontrar petróleo, cada um com uma probabilidade estimada de sucesso igual a 0.1. Qual é a probabilidade dos 9 poços falharem (não possuírem petróleo)?"
   ]
  },
  {
   "cell_type": "code",
   "execution_count": 23,
   "id": "C2UrhvVjOjs-",
   "metadata": {
    "ExecuteTime": {
     "end_time": "2021-12-03T21:19:43.072500Z",
     "start_time": "2021-12-03T21:19:42.885161Z"
    },
    "id": "C2UrhvVjOjs-",
    "outputId": "7903fdcf-7529-4de8-b82c-2aa17cbc22a6",
    "scrolled": false
   },
   "outputs": [
    {
     "data": {
      "image/png": "[encoded data removed]",
      "text/plain": [
       "<Figure size 360x360 with 1 Axes>"
      ]
     },
     "metadata": {
      "needs_background": "light"
     },
     "output_type": "display_data"
    }
   ],
   "source": [
    "#from scipy.stats import binom\n",
    "\n",
    "from numpy.random import binomial\n",
    "\n",
    "data_binom = binomial(n=9, p=0.1, size=20000)\n",
    "\n",
    "ax = sns.displot(\n",
    "    data_binom,\n",
    "    kind='hist',\n",
    "    color='skyblue',\n",
    ")\n",
    "ax.set(title='Distribuição Binomial', xlabel='#Sucesso', ylabel='Frequência');"
   ]
  },
  {
   "cell_type": "code",
   "execution_count": 15,
   "id": "b704d23d",
   "metadata": {},
   "outputs": [
    {
     "data": {
      "text/plain": [
       "0.38905"
      ]
     },
     "execution_count": 15,
     "metadata": {},
     "output_type": "execute_result"
    }
   ],
   "source": [
    "sum(np.random.binomial(9, 0.1, 20000) == 0)/20000"
   ]
  },
  {
   "cell_type": "markdown",
   "id": "aaxlSFo2Ojs_",
   "metadata": {
    "id": "aaxlSFo2Ojs_"
   },
   "source": [
    "**Exercício**: Uma prova de Estatística contém 6 questões, cada um contendo 5 alternativas e apenas uma correta. Qual a probabilidade de alguém, no chute, acertar pelo menos 3 questões?  "
   ]
  },
  {
   "cell_type": "code",
   "execution_count": 24,
   "id": "Cxk1hDqUOjtA",
   "metadata": {
    "id": "Cxk1hDqUOjtA"
   },
   "outputs": [
    {
     "data": {
      "image/png": "[encoded data removed]",
      "text/plain": [
       "<Figure size 360x360 with 1 Axes>"
      ]
     },
     "metadata": {
      "needs_background": "light"
     },
     "output_type": "display_data"
    }
   ],
   "source": [
    "data_binom = np.random.binomial(6,1/5,20000)\n",
    "ax = sns.displot(data_binom, kind = 'hist', color = 'skyblue')\n",
    "ax.set(title='Distribuição Binomial', xlabel= '#Sucesso', ylabel= 'Frequência');"
   ]
  },
  {
   "cell_type": "code",
   "execution_count": 25,
   "id": "1_t4GbfFOjtA",
   "metadata": {
    "id": "1_t4GbfFOjtA"
   },
   "outputs": [
    {
     "data": {
      "text/plain": [
       "9.705"
      ]
     },
     "execution_count": 25,
     "metadata": {},
     "output_type": "execute_result"
    }
   ],
   "source": [
    "(np.sum(data_binom >= 3) / 20000) *100"
   ]
  },
  {
   "cell_type": "markdown",
   "id": "HDAjTEhhOjtA",
   "metadata": {
    "id": "HDAjTEhhOjtA"
   },
   "source": [
    "### **3.3.3 Modelo Poisson**\n",
    "\n",
    "Dizemos que um modelo tem distribuição de Poisson se \n",
    "\n",
    "\\\\[ P(X=k) = \\frac{e^{-\\lambda}\\lambda^{k}}{k!} \\\\]\n",
    " \n",
    "onde $\\lambda$ é  número esperado de ocorrências que ocorrem num dado intervalo de tempo.\n",
    "\n",
    "Esse modelo descreve experimentos onde a probabilidade de ocorrência de k eventos em um determinado intervalo de tempo é independente da ocorrência do último evento.\n",
    "\n",
    "A distribuição de Poisson representa um modelo probabilístico adequado para o estudo de um grande número de fenômenos observáveis. Eis alguns exemplos:\n",
    "\n",
    "* Chamadas telefônicas por unidade de tempo;\n",
    "* Defeitos por unidade de área;\n",
    "* Acidentes por unidade de tempo;\n",
    "* Chegada de clientes a um supermercado por unidade de tempo;\n",
    "* Número de glóbulos visíveis ao microscópio por unidade de área;\n",
    "* Número de partículas emitidas por uma fonte de material radioativo por unidade de tempo.\n",
    "\n",
    "[Calculadora de Poisson](http://www.elektro-energetika.cz/calculations/po.php?language=portugues)"
   ]
  },
  {
   "cell_type": "code",
   "execution_count": 26,
   "id": "O0QRhfkxOjtA",
   "metadata": {
    "ExecuteTime": {
     "end_time": "2021-12-03T21:22:15.121327Z",
     "start_time": "2021-12-03T21:22:14.850444Z"
    },
    "id": "O0QRhfkxOjtA",
    "outputId": "163f6d13-2a86-4436-f8a3-d01adc316e1b"
   },
   "outputs": [
    {
     "data": {
      "image/png": "[encoded data removed]",
      "text/plain": [
       "<Figure size 360x360 with 1 Axes>"
      ]
     },
     "metadata": {
      "needs_background": "light"
     },
     "output_type": "display_data"
    }
   ],
   "source": [
    "from scipy.stats import poisson\n",
    "data_poisson = poisson.rvs(mu=3, size=20000)\n",
    "\n",
    "\n",
    "ax = sns.displot(data_poisson,\n",
    "                  bins=30,\n",
    "                  kde=False,\n",
    "                  color='skyblue',\n",
    "                  )\n",
    "ax.set(xlabel='Distribuição Poisson', ylabel='Frequência');"
   ]
  },
  {
   "cell_type": "markdown",
   "id": "j6RcJVvIOjtA",
   "metadata": {
    "id": "j6RcJVvIOjtA"
   },
   "source": [
    "Exercício: O número médio de acidentes por mês, em um certo cruzamento, é três. Qual a probabilidade de, em qualquer mês, ocorrerem quatro acidentes nesse cruzamento?"
   ]
  },
  {
   "cell_type": "code",
   "execution_count": 28,
   "id": "DTU8gJ5EOjtB",
   "metadata": {
    "ExecuteTime": {
     "end_time": "2021-12-04T00:00:39.209255Z",
     "start_time": "2021-12-04T00:00:39.187315Z"
    },
    "id": "DTU8gJ5EOjtB",
    "outputId": "e610a076-16b2-4624-ebd6-a8367895e2bf"
   },
   "outputs": [
    {
     "name": "stdout",
     "output_type": "stream",
     "text": [
      "0.16803135574154082\n"
     ]
    }
   ],
   "source": [
    "def fat(n):\n",
    "    if n == 0 or n==1:\n",
    "        return 1\n",
    "    else:\n",
    "        return n * fat(n-1)\n",
    "    \n",
    "lam = 3\n",
    "k = 4\n",
    "p = np.exp(-lam) * lam**k / fat(k) #P(X=4)\n",
    "print(p)"
   ]
  },
  {
   "cell_type": "markdown",
   "id": "byJt0iLLOjtC",
   "metadata": {
    "id": "byJt0iLLOjtC"
   },
   "source": [
    "### 3.3.4 Uniforme\n",
    "\n",
    "A distribuição uniforme discreta é uma distribuição de probabilidade simétrica em que um número finito de valores é igualmente provável de ser observado; cada um dos n valores tem a mesma probabilidade 1/n.\n",
    "\n",
    "**Exemplo**\n",
    "\n",
    "No lançamento de um dado, a variável aleatória X pode tomar os valores 1,2,3,4,5,6\n",
    "\n",
    "Como cada um desdes valores está associada uma só probabilidade de realização e $\\sum P(x_i)=1$, a função probabilidade resulta da distribuição de probabilidade:\n",
    "\n",
    "\n",
    "| X | P(X) |\n",
    "|---|------|\n",
    "| 1 | 1/6  |\n",
    "| 2 | 1/6  |\n",
    "| 3 | 1/6  |\n",
    "| 4 | 1/6  |\n",
    "| 5 | 1/6  |\n",
    "| 6 | 1/6  |"
   ]
  },
  {
   "cell_type": "code",
   "execution_count": 18,
   "id": "iP4VDIBTOjtC",
   "metadata": {
    "ExecuteTime": {
     "end_time": "2021-12-03T21:27:00.334077Z",
     "start_time": "2021-12-03T21:27:00.216172Z"
    },
    "id": "iP4VDIBTOjtC",
    "outputId": "9b20af94-b7c1-41ee-e454-89c24c514eba"
   },
   "outputs": [
    {
     "data": {
      "text/plain": [
       "<BarContainer object of 6 artists>"
      ]
     },
     "execution_count": 18,
     "metadata": {},
     "output_type": "execute_result"
    },
    {
     "data": {
      "image/png": "[encoded data removed]",
      "text/plain": [
       "<Figure size 432x288 with 1 Axes>"
      ]
     },
     "metadata": {
      "needs_background": "light"
     },
     "output_type": "display_data"
    }
   ],
   "source": [
    "plt.bar(x=[1, 2, 3, 4, 5, 6], height=1/6)"
   ]
  },
  {
   "cell_type": "markdown",
   "id": "84810755",
   "metadata": {},
   "source": [
    "DOC Scipy: https://docs.scipy.org/doc/scipy/reference/generated/scipy.stats.uniform.html"
   ]
  },
  {
   "cell_type": "code",
   "execution_count": 29,
   "id": "eVIQacjiOjtD",
   "metadata": {
    "ExecuteTime": {
     "end_time": "2021-12-03T21:29:08.646401Z",
     "start_time": "2021-12-03T21:29:08.377589Z"
    },
    "id": "eVIQacjiOjtD",
    "outputId": "30446eee-76ca-4d2d-c026-6a8be1ddfe1a"
   },
   "outputs": [
    {
     "data": {
      "image/png": "[encoded data removed]",
      "text/plain": [
       "<Figure size 360x360 with 1 Axes>"
      ]
     },
     "metadata": {
      "needs_background": "light"
     },
     "output_type": "display_data"
    }
   ],
   "source": [
    "from scipy.stats import uniform\n",
    "# random numbers from uniform distribution\n",
    "n = 60000\n",
    "start = 1\n",
    "width = 5\n",
    "data_uniform = uniform.rvs(size=n, loc = start, scale=width)\n",
    "\n",
    "ax = sns.displot(data_uniform,\n",
    "                  bins=6,\n",
    "                  color='skyblue',\n",
    "                  )\n",
    "ax.set(xlabel='Uniform Distribution ', ylabel='Frequency');"
   ]
  },
  {
   "cell_type": "markdown",
   "id": "dx6HtsvyOjtE",
   "metadata": {
    "id": "dx6HtsvyOjtE"
   },
   "source": [
    "**Diversas distribuições de probabilidade**\n",
    "\n",
    "http://ucla.jamesyxu.com/wp-content/uploads/2011/08/A-probability-and-statistics-cheatsheet.pdf"
   ]
  },
  {
   "cell_type": "markdown",
   "id": "b77a561f",
   "metadata": {
    "ExecuteTime": {
     "end_time": "2021-10-15T23:16:07.672080Z",
     "start_time": "2021-10-15T23:16:07.661109Z"
    },
    "id": "b77a561f"
   },
   "source": [
    "## 3.4 Principais modelos contínuos :\n",
    "\n",
    "### 3.4.1 Uniforme\n",
    "\n",
    "Uma variável aleatória contínua X tem distribuição uniforme com parâmetros a e b (com a<b) se sua função de densidade de probabilidade é dada por:\n",
    "\n",
    "\\\\[f(x) = \\frac{1}{b-a} \\\\]\n",
    "\n",
    "Se $a \\leq x \\leq b$, então $f(x) = \\frac{1}{b-a}$. Caso $x$ não pertença ao intervalo entre a e b, então $f(x) = 0$.\n",
    "\n",
    "\n",
    "<center><img src=https://media.geeksforgeeks.org/wp-content/uploads/probability-distribution-1.jpg width=\"200\" height=\"500\" />"
   ]
  },
  {
   "cell_type": "markdown",
   "id": "14grbM0cOjtE",
   "metadata": {
    "id": "14grbM0cOjtE"
   },
   "source": [
    "Esperança (média): $$ E(X) = \\frac{a+b}{2}$$\n",
    "\n",
    "Variância: $$Var(X) = \\frac{(b-a)^2}{12}$$\n",
    "\n",
    "Função acumulada: $$ \n",
    "F(x) = P(X < x) = \n",
    "  \\begin{cases}\n",
    "      0, & x<a \\\\\n",
    "      \\frac{x-a}{b-a}, & a \\le x \\leq b \\\\\n",
    "      1, & x > b\n",
    "  \\end{cases}\n",
    "$$"
   ]
  },
  {
   "cell_type": "markdown",
   "id": "d85a404e",
   "metadata": {
    "id": "d85a404e"
   },
   "source": [
    "## 3.4.2 Distribuição Normal\n",
    "\n",
    "É representada por uma **curva simétrica em torno do seu ponto médio**, apresentando assim seu famoso formato de **sino** (bell shape).\n",
    "\n",
    "A curva de distribuição normal representa o comportamento de **diversos processos e fenômenos comuns**, como por exemplo: altura ou peso de uma população, a pressão sanguínea de um grupo de pessoas, o tempo que um grupo de estudantes gasta para realizar uma prova, etc.\n",
    "\n",
    "A distribuição normal serve também como base para a inferência estatística clássica, sendo a premissa em diversos modelos e métodos.\n",
    "\n",
    "Na distribuição normal, a média, mediana e moda dos dados possuem o mesmo valor. \n",
    "\n",
    "<img src=\"https://dietassessmentprimer.cancer.gov/images/learn/distribution1.jpg\">\n",
    "\n",
    "Usaremos a notação X ~ N($\\mu$,$\\sigma^2$) para representar uma variável aleatória **com distribuição normal** de média $\\mu$ e variância $\\sigma^2$.\n",
    "\n",
    "<img src=\"https://upload.wikimedia.org/wikipedia/commons/thumb/7/74/Normal_Distribution_PDF.svg/1280px-Normal_Distribution_PDF.svg.png\" width=500>\n",
    "\n",
    "A equação da distribuição normal é:\n",
    "\n",
    "<img src=\"https://www.onlinemathlearning.com/image-files/normal-distribution-formula.png\" width=200>\n",
    "\n"
   ]
  },
  {
   "cell_type": "markdown",
   "id": "VwwEZWA_OjtE",
   "metadata": {
    "id": "VwwEZWA_OjtE"
   },
   "source": [
    "Em resumo, a distribuição normal (distribuição teórica da variável aleatória contínua):\n",
    "- formato em sino\n",
    "- simétrica em torno do x (média), ou seja, a média, moda e mediana estão no mesmo ponto\n",
    "- a curva normal ou curva de Gauss\n",
    "- Área sob a curva é igual a 1\n",
    "- assintótica nas abcissas, ou seja, aproxima do eixo mas não toca\n"
   ]
  },
  {
   "cell_type": "markdown",
   "id": "60d26913",
   "metadata": {},
   "source": [
    "Na distribuição normal, os dados são distribuídos de forma muito particular, tal que o **desvio padrão** determina a proporção de dados em cada faixa:\n",
    "\n",
    "<img src=\"https://miro.medium.com/max/24000/1*IdGgdrY_n_9_YfkaCh-dag.png\" width=500>\n",
    "\n",
    "<img src=\"https://miro.medium.com/max/24000/1*IZ2II2HYKeoMrdLU5jW6Dw.png\" width=500>"
   ]
  },
  {
   "cell_type": "markdown",
   "id": "oVcsMQQkOjtF",
   "metadata": {
    "id": "oVcsMQQkOjtF"
   },
   "source": [
    "### Z-Score\n",
    "\n",
    "O **z-score** de uma observação nada mais é que **o número de desvios padrões que a obervação está com relação à média**:\n",
    "\n",
    "$$ z = \\frac{x - \\mu}{\\sigma} $$\n",
    "\n",
    "$$ z \\sigma = x - \\mu $$\n",
    "\n",
    "$$  x = \\mu + z \\sigma  $$\n",
    "\n",
    "Como vimos acima, em uma distribuição normal, 99.73% das observações são esperadas de estar entre 3 desvios-padrão da média. Assim, obervações para além desta faixa são muito improváveis de ocorrer (0.27% de chance), de forma que podem ser consideradas outliers.\n",
    "\n",
    "Assim, é comum considerar outliers os pontos tais que $|z| > 3$ (embora seja comum também variar este z-score limite, para 2.5 o, 3.5, etc.)\n",
    "\n",
    "**OBS.: naturalmente, este método é altamente dependente da hipótese de que seus dados são normalmente distribuídos! Por isso, funciona apenas aproximadamente para outros casos. Mas é uma boa aproximação, em geral.**"
   ]
  },
  {
   "cell_type": "markdown",
   "id": "WToRoG6JOjtF",
   "metadata": {
    "id": "WToRoG6JOjtF"
   },
   "source": [
    "Exemplo:\n",
    "\n",
    "Suponha que as medidas da corrente elétrica em pedaço de fio sigam a\n",
    "distribuição Normal, com uma média de 10 miliamperes e uma variância de 4\n",
    "miliamperes. Qual a probabilidade de a medida exceder 13 miliamperes?\n"
   ]
  },
  {
   "cell_type": "markdown",
   "id": "3af46dc7",
   "metadata": {},
   "source": [
    "Faça $z = \\frac{13 - 10}{2} = 1,5$. Assim,\n",
    "$$P(X > 13) = P(z > 1,5)$$\n",
    "$$=1-P(z \\leq 1,5)$$\n",
    "Da tabela, temos\n",
    "$$P(z \\leq 1,5) = 0.9332$$\n",
    "Assim,\n",
    "\n",
    "$$P(X > 13)=1-0.9332=0.0068$$"
   ]
  },
  {
   "cell_type": "markdown",
   "id": "d0e24feb",
   "metadata": {},
   "source": [
    "Exercício\n",
    "\n",
    "Para o problema anterior, calcule a probabilidade da medida ser menor que 11 mA."
   ]
  },
  {
   "cell_type": "markdown",
   "id": "EQ7WHyU-OjtF",
   "metadata": {
    "id": "EQ7WHyU-OjtF"
   },
   "source": [
    "Tabela de Distribuição Normal Padrão"
   ]
  },
  {
   "cell_type": "markdown",
   "id": "5ddc523f",
   "metadata": {
    "id": "5ddc523f"
   },
   "source": [
    "<img src=\"https://zscoregeek.com/wp-content/uploads/2021/09/positive-z-score-table-493x1024.png\" width=500>\n",
    "     \n",
    "     "
   ]
  },
  {
   "cell_type": "code",
   "execution_count": 20,
   "id": "3e7e7b56",
   "metadata": {
    "ExecuteTime": {
     "end_time": "2021-12-01T21:41:31.809707Z",
     "start_time": "2021-12-01T21:41:31.708230Z"
    },
    "id": "3e7e7b56",
    "outputId": "6fada895-81d5-4285-b7b2-2fb031b018bb"
   },
   "outputs": [
    {
     "data": {
      "image/png": "[encoded data removed]",
      "text/plain": [
       "<Figure size 432x288 with 1 Axes>"
      ]
     },
     "metadata": {
      "needs_background": "light"
     },
     "output_type": "display_data"
    }
   ],
   "source": [
    "x = np.linspace(-5, 5, 400)\n",
    "\n",
    "mu = 0 #média\n",
    "sigma = 1 #desvio padrão\n",
    "# usando o scipy\n",
    "y = stats.norm(loc=mu, scale=sigma).pdf(x) #probability density function (pdf)\n",
    "\n",
    "plt.plot(x, y)\n",
    "\n",
    "plt.show()"
   ]
  },
  {
   "cell_type": "code",
   "execution_count": 21,
   "id": "e0b6ec8d",
   "metadata": {
    "ExecuteTime": {
     "end_time": "2021-12-01T21:42:03.586799Z",
     "start_time": "2021-12-01T21:42:03.464645Z"
    },
    "id": "e0b6ec8d",
    "outputId": "a54ac90a-23a3-4ef5-e145-e5e497090977"
   },
   "outputs": [
    {
     "data": {
      "image/png": "[encoded data removed]",
      "text/plain": [
       "<Figure size 432x288 with 1 Axes>"
      ]
     },
     "metadata": {
      "needs_background": "light"
     },
     "output_type": "display_data"
    }
   ],
   "source": [
    "x = np.linspace(-5, 5, 400)\n",
    "\n",
    "mu = 0 #média  \n",
    "sigma = 1 #devio padrão\n",
    "\n",
    "# definição explícita da curva\n",
    "y = (1/(sigma*np.sqrt(2*np.pi)))*np.exp(-(x - mu)**2/2*sigma**2)\n",
    "\n",
    "plt.plot(x, y)\n",
    "\n",
    "plt.show()"
   ]
  },
  {
   "cell_type": "code",
   "execution_count": 22,
   "id": "09879032",
   "metadata": {
    "ExecuteTime": {
     "end_time": "2021-12-01T20:56:23.015050Z",
     "start_time": "2021-12-01T20:56:22.064626Z"
    },
    "id": "09879032",
    "outputId": "d9d65a5d-14e3-4c36-e8b5-52b2e5c8e788"
   },
   "outputs": [
    {
     "data": {
      "image/png": "[encoded data removed]",
      "text/plain": [
       "<Figure size 360x360 with 1 Axes>"
      ]
     },
     "metadata": {
      "needs_background": "light"
     },
     "output_type": "display_data"
    }
   ],
   "source": [
    "N = 10000\n",
    "amostra_normal = np.random.normal(0, 1, N)\n",
    "\n",
    "sns.displot(amostra_normal, kde=True)\n",
    "\n",
    "plt.show()"
   ]
  },
  {
   "cell_type": "markdown",
   "id": "58b089b2",
   "metadata": {
    "id": "58b089b2"
   },
   "source": [
    "Diversas distribuições de probabilidade\n",
    "\n",
    "http://ucla.jamesyxu.com/wp-content/uploads/2011/08/A-probability-and-statistics-cheatsheet.pdf"
   ]
  }
 ],
 "metadata": {
  "colab": {
   "name": "Aula 4 - Modelos probabilísticos.ipynb",
   "provenance": []
  },
  "kernelspec": {
   "display_name": "Python 3 (ipykernel)",
   "language": "python",
   "name": "python3"
  },
  "language_info": {
   "codemirror_mode": {
    "name": "ipython",
    "version": 3
   },
   "file_extension": ".py",
   "mimetype": "text/x-python",
   "name": "python",
   "nbconvert_exporter": "python",
   "pygments_lexer": "ipython3",
   "version": "3.9.7"
  },
  "varInspector": {
   "cols": {
    "lenName": 16,
    "lenType": 16,
    "lenVar": 40
   },
   "kernels_config": {
    "python": {
     "delete_cmd_postfix": "",
     "delete_cmd_prefix": "del ",
     "library": "var_list.py",
     "varRefreshCmd": "print(var_dic_list())"
    },
    "r": {
     "delete_cmd_postfix": ") ",
     "delete_cmd_prefix": "rm(",
     "library": "var_list.r",
     "varRefreshCmd": "cat(var_dic_list()) "
    }
   },
   "types_to_exclude": [
    "module",
    "function",
    "builtin_function_or_method",
    "instance",
    "_Feature"
   ],
   "window_display": false
  }
 },
 "nbformat": 4,
 "nbformat_minor": 5
}
