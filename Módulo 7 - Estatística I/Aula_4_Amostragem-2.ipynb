{
 "cells": [
  {
   "cell_type": "markdown",
   "id": "97130c0f",
   "metadata": {},
   "source": [
    "# 4. Amostragem\n",
    "\n",
    "Quando se prepara um macarrão, uma unidade desse é retirada para saber se o ponto de cozimento é o desejado. Já para saber se uma sopa está com o sal na medida certa, experimentamos uma única colherada. Quando um médico deseja identificar se um paciente está doente, alguns ml de sangue são retirados para análise. \n",
    "\n",
    "Em todos os casos acima, não seria conveniente analisar o todo para chegar a uma conclusão satisfatória. De fato, o que fazemos é **tirar uma parte do todo** para validar alguma suposição.\n",
    "\n",
    "Este procedimento é chamado de **amostragem**, e tem como objetivo **obter informações, tirar conclusões sobre o todo** com base na **análise de dados coletados de parte do todo (amostra)**.\n",
    "\n",
    "<center><img src=http://drive.google.com/uc?export=view&id=1h3EUKf74tn3WMFJ17KkqnfrHT6MXmm5j width=\"600\" height=\"500\" /></center>\n",
    "\n",
    "## 4.1 Definições\n",
    "**População ou Universo**: é o conjunto de todas as unidades elementares de interesse. A população deve ser definida claramente e em termos da informação que se pretende conhecer.\n",
    "\n",
    "**Unidade**: trata-se de qualquer elemento da populaçao.\n",
    "\n",
    "**Amostra**: uma parte ou subconjunto da população\n",
    "\n",
    "**Censo**:  observação de todos os elementos da população.\n",
    "\n",
    "**Parâmetro Populacional**: característica observada na população\n",
    "\n",
    "**Função Paramétrica Populacional**:  é uma expressão numérica que condensa os valores do vetor de parâmetro populacional. Por exemplo, média, total, proporção, dentre outros.\n",
    "\n",
    "<img src='https://www.inf.ufsc.br/~andre.zibetti/probabilidade/img/estimacao.png' width=500>"
   ]
  },
  {
   "cell_type": "markdown",
   "id": "e5462e13",
   "metadata": {},
   "source": [
    "**Exemplo 1**: Considere uma população formada por 4 alunos de uma escola. Com as seguintes caracteristicas:"
   ]
  },
  {
   "cell_type": "code",
   "execution_count": 1,
   "id": "5ad439a2",
   "metadata": {},
   "outputs": [
    {
     "data": {
      "text/html": [
       "<div>\n",
       "<style scoped>\n",
       "    .dataframe tbody tr th:only-of-type {\n",
       "        vertical-align: middle;\n",
       "    }\n",
       "\n",
       "    .dataframe tbody tr th {\n",
       "        vertical-align: top;\n",
       "    }\n",
       "\n",
       "    .dataframe thead th {\n",
       "        text-align: right;\n",
       "    }\n",
       "</style>\n",
       "<table border=\"1\" class=\"dataframe\">\n",
       "  <thead>\n",
       "    <tr style=\"text-align: right;\">\n",
       "      <th></th>\n",
       "      <th>aluno</th>\n",
       "      <th>nome</th>\n",
       "      <th>idade</th>\n",
       "      <th>sexo</th>\n",
       "    </tr>\n",
       "  </thead>\n",
       "  <tbody>\n",
       "    <tr>\n",
       "      <th>0</th>\n",
       "      <td>1</td>\n",
       "      <td>Ana</td>\n",
       "      <td>8</td>\n",
       "      <td>F</td>\n",
       "    </tr>\n",
       "    <tr>\n",
       "      <th>1</th>\n",
       "      <td>2</td>\n",
       "      <td>João</td>\n",
       "      <td>7</td>\n",
       "      <td>M</td>\n",
       "    </tr>\n",
       "    <tr>\n",
       "      <th>2</th>\n",
       "      <td>3</td>\n",
       "      <td>Lucas</td>\n",
       "      <td>8</td>\n",
       "      <td>M</td>\n",
       "    </tr>\n",
       "    <tr>\n",
       "      <th>3</th>\n",
       "      <td>4</td>\n",
       "      <td>Francisco</td>\n",
       "      <td>12</td>\n",
       "      <td>M</td>\n",
       "    </tr>\n",
       "  </tbody>\n",
       "</table>\n",
       "</div>"
      ],
      "text/plain": [
       "   aluno       nome  idade sexo\n",
       "0      1        Ana      8    F\n",
       "1      2       João      7    M\n",
       "2      3      Lucas      8    M\n",
       "3      4  Francisco     12    M"
      ]
     },
     "execution_count": 1,
     "metadata": {},
     "output_type": "execute_result"
    }
   ],
   "source": [
    "import pandas as pd\n",
    "\n",
    "populacao = pd.DataFrame(data={'aluno':[1,2,3,4],'nome':['Ana', 'João', 'Lucas', 'Francisco'],\n",
    "                               'idade':[8,7,8,12],'sexo':['F','M','M','M']})\n",
    "populacao.head()"
   ]
  },
  {
   "cell_type": "markdown",
   "id": "7541b195",
   "metadata": {},
   "source": [
    "Neste exemplo, cada aluno é um elemento da população. O que seria uma amostra dessa população?"
   ]
  },
  {
   "cell_type": "code",
   "execution_count": 2,
   "id": "6dac9528",
   "metadata": {},
   "outputs": [
    {
     "data": {
      "text/html": [
       "<div>\n",
       "<style scoped>\n",
       "    .dataframe tbody tr th:only-of-type {\n",
       "        vertical-align: middle;\n",
       "    }\n",
       "\n",
       "    .dataframe tbody tr th {\n",
       "        vertical-align: top;\n",
       "    }\n",
       "\n",
       "    .dataframe thead th {\n",
       "        text-align: right;\n",
       "    }\n",
       "</style>\n",
       "<table border=\"1\" class=\"dataframe\">\n",
       "  <thead>\n",
       "    <tr style=\"text-align: right;\">\n",
       "      <th></th>\n",
       "      <th>aluno</th>\n",
       "      <th>nome</th>\n",
       "      <th>idade</th>\n",
       "      <th>sexo</th>\n",
       "    </tr>\n",
       "  </thead>\n",
       "  <tbody>\n",
       "    <tr>\n",
       "      <th>3</th>\n",
       "      <td>4</td>\n",
       "      <td>Francisco</td>\n",
       "      <td>12</td>\n",
       "      <td>M</td>\n",
       "    </tr>\n",
       "    <tr>\n",
       "      <th>1</th>\n",
       "      <td>2</td>\n",
       "      <td>João</td>\n",
       "      <td>7</td>\n",
       "      <td>M</td>\n",
       "    </tr>\n",
       "  </tbody>\n",
       "</table>\n",
       "</div>"
      ],
      "text/plain": [
       "   aluno       nome  idade sexo\n",
       "3      4  Francisco     12    M\n",
       "1      2       João      7    M"
      ]
     },
     "execution_count": 2,
     "metadata": {},
     "output_type": "execute_result"
    }
   ],
   "source": [
    "populacao.sample(n=2)"
   ]
  },
  {
   "cell_type": "markdown",
   "id": "5e043e0d",
   "metadata": {},
   "source": [
    "Com relação às **funções paramétricas**, poderíamos definir:\n",
    "\n",
    "- Idade média: fazendo idade = Y:\n",
    "\n",
    "\\\\[\\mu = \\overline{Y} = \\frac{\\sum_{i=1}^{N}Y_i}{N} \\\\]\n",
    "\n",
    "onde $N$ é a quantidade de elementos da população."
   ]
  },
  {
   "cell_type": "code",
   "execution_count": 3,
   "id": "6a21cc46",
   "metadata": {},
   "outputs": [
    {
     "data": {
      "text/plain": [
       "8.75"
      ]
     },
     "execution_count": 3,
     "metadata": {},
     "output_type": "execute_result"
    }
   ],
   "source": [
    "populacao['idade'].mean()"
   ]
  },
  {
   "cell_type": "markdown",
   "id": "08aa487f",
   "metadata": {},
   "source": [
    "- Idade máxima:\n",
    "$$\\max(Y)$$"
   ]
  },
  {
   "cell_type": "code",
   "execution_count": 4,
   "id": "64465595",
   "metadata": {},
   "outputs": [
    {
     "data": {
      "text/plain": [
       "12"
      ]
     },
     "execution_count": 4,
     "metadata": {},
     "output_type": "execute_result"
    }
   ],
   "source": [
    "populacao['idade'].max()"
   ]
  },
  {
   "cell_type": "markdown",
   "id": "e3daa117",
   "metadata": {},
   "source": [
    "- Proporção de meninas: sexo = Y = (F,M,M,M)"
   ]
  },
  {
   "cell_type": "code",
   "execution_count": 6,
   "id": "8d632900",
   "metadata": {},
   "outputs": [
    {
     "data": {
      "text/plain": [
       "0.25"
      ]
     },
     "execution_count": 6,
     "metadata": {},
     "output_type": "execute_result"
    }
   ],
   "source": [
    "populacao.value_counts(subset='sexo',normalize=True)[1]"
   ]
  },
  {
   "cell_type": "markdown",
   "id": "881c697d",
   "metadata": {},
   "source": [
    "## 4.2 Métodos de Amostragem\n",
    "\n",
    "- **Amostra probabilística**: todos os elementos da população apresentam probabilidade maior que zero de serem selecionados\n",
    "\n",
    "- **Amostra não probabilística**: quando não há probabilidade clara/conhecida de seleção dos elementos. Os elementos são escolhidos de forma julgamental.\n",
    "\n",
    "Neste material abordaremos apenas os métodos relacionados à amostragem probabilística, com o objetivo de obter uma **amostra representativa**. Uma amostra é considerada representativa quando consegue **refletir as caracteristicas da população**.\n",
    "\n",
    "\n",
    "### 4.2.1 Amostra Aleatória Simples\n",
    "\n",
    "Este é o método mais simples e mais importante de seleção de uma amostra, pois pode ser usada em combinação com outros métodos. A premissa assumida é que a população é homogênea com relação à característica de interesse.\n",
    "\n",
    "A amostra aleatória simples pode ser realizada com ou sem reposição. No caso em que há reposição, cada elemento pode ser sorteado mais de uma vez. Para exemplificar, suponha que se queira sortear um número aleatório de uma urna, se for uma AAS com preposição,  este número voltará para urna para participar do próximo sorteio. Se não houver reposição, cada elemento só poderá ser selecionado uma vez para compor a amostra.\n",
    " \n",
    " \n",
    "Considere uma população formada por N elementos (conhecido e finito). Este método consiste em selecionar n elementos, sendo que cada elemento tem a mesma probabilidade de ser selecionado.\n",
    "\n",
    "**Exemplo:**\n",
    "Considere uma gerência formada por 21 pessoas. Selecione de forma aleatória  (sem reposição) 6 funcionários para fazerem um treinamento."
   ]
  },
  {
   "cell_type": "code",
   "execution_count": 7,
   "id": "636afbac",
   "metadata": {},
   "outputs": [],
   "source": [
    "funcionarios = ['Pedro Henrique','João','Antônio','Carolina','Maria','Henrique','Elisa',\n",
    "                'Alexandre','Filipe','Gabriela','Renata','Pedro Henrique','Paulo André',\n",
    "               'Victor Cesar', 'Ana Carolina', 'Priscila', 'Marina', 'Douglas', 'Vanessa',\n",
    "                'Vivian', 'Leandro']"
   ]
  },
  {
   "cell_type": "code",
   "execution_count": 17,
   "id": "806fd353",
   "metadata": {
    "scrolled": true
   },
   "outputs": [
    {
     "data": {
      "text/plain": [
       "['Leandro', 'Carolina', 'Pedro Henrique', 'Filipe', 'Alexandre', 'Marina']"
      ]
     },
     "execution_count": 17,
     "metadata": {},
     "output_type": "execute_result"
    }
   ],
   "source": [
    "import random\n",
    "random.seed(42)\n",
    "random.sample(funcionarios,6)"
   ]
  },
  {
   "cell_type": "markdown",
   "id": "6bc024c0",
   "metadata": {},
   "source": [
    "Efeito do random.seed:"
   ]
  },
  {
   "cell_type": "code",
   "execution_count": 12,
   "id": "e3b96c48",
   "metadata": {},
   "outputs": [
    {
     "data": {
      "text/plain": [
       "['Leandro', 'Carolina', 'Pedro Henrique', 'Filipe', 'Alexandre', 'Marina']"
      ]
     },
     "execution_count": 12,
     "metadata": {},
     "output_type": "execute_result"
    }
   ],
   "source": [
    "random.seed(42)\n",
    "random.sample(funcionarios,6)"
   ]
  },
  {
   "cell_type": "markdown",
   "id": "93d71eef",
   "metadata": {},
   "source": [
    "### 4.2.2 Amostra Sistemática\n",
    "\n",
    "Usada quando os elementos população estão ordenados (população de lista telefônica, casas em uma rua). \n",
    "\n",
    "Considere uma população de tamanho $N$ e que se queira uma amostra de tamanho \\\\(n\\\\). O processo de amostragem deste método consiste em:\n",
    "\n",
    "- Dividir o tamanho populacional em K partes:\n",
    "\\\\[ k = \\frac{N}{n} \\\\]\n",
    "\n",
    "- Definir a posição de início da amostragem (que também será o primeiro elemento da amostra). Para tal fim, é sorteado i com o uso da amostra aleatória simples no intervalo, em que  \\\\[i \\in [1, k]\\\\]\n",
    "\n",
    "\n",
    "- A partir do elemento selecionado aleatoriamente, é realizada sucessão aritimética para selecionar os $n-1$ indivíduos restantes\n",
    "\\\\[i, i + k, i + 2k, i + 3k, ...., i + (n-1)k\\\\]\n",
    "\n",
    "**Exemplo:**\n",
    "Dado a lista de funcionários ordenada, retire uma amostra sistemática de tamanho 3."
   ]
  },
  {
   "cell_type": "code",
   "execution_count": 18,
   "id": "8e83fe9c",
   "metadata": {
    "scrolled": true
   },
   "outputs": [
    {
     "name": "stdout",
     "output_type": "stream",
     "text": [
      "['Alexandre', 'Ana Carolina', 'Antônio', 'Carolina', 'Douglas', 'Elisa', 'Filipe', 'Gabriela', 'Henrique', 'João', 'Leandro', 'Maria', 'Marina', 'Paulo André', 'Pedro Henrique', 'Pedro Henrique', 'Priscila', 'Renata', 'Vanessa', 'Victor Cesar', 'Vivian']\n"
     ]
    }
   ],
   "source": [
    "#Ordenar a lista de funcionários\n",
    "funcionarios_ordenados = sorted(funcionarios)\n",
    "print(funcionarios_ordenados)"
   ]
  },
  {
   "cell_type": "code",
   "execution_count": 27,
   "id": "7ea75549",
   "metadata": {
    "scrolled": true
   },
   "outputs": [
    {
     "name": "stdout",
     "output_type": "stream",
     "text": [
      "7.0\n"
     ]
    }
   ],
   "source": [
    "#Definir o valor de K\n",
    "n = 3\n",
    "N = len(funcionarios_ordenados)\n",
    "k = N/n\n",
    "print(k)"
   ]
  },
  {
   "cell_type": "code",
   "execution_count": 30,
   "id": "5e9ce79d",
   "metadata": {},
   "outputs": [
    {
     "data": {
      "text/plain": [
       "[0, 1, 2, 3, 4, 5, 6]"
      ]
     },
     "execution_count": 30,
     "metadata": {},
     "output_type": "execute_result"
    }
   ],
   "source": [
    "k = int(k)\n",
    "list(range(k))"
   ]
  },
  {
   "cell_type": "code",
   "execution_count": 22,
   "id": "6b538bde",
   "metadata": {
    "scrolled": true
   },
   "outputs": [
    {
     "name": "stdout",
     "output_type": "stream",
     "text": [
      "5\n"
     ]
    }
   ],
   "source": [
    "#Definir a posição de início da amostragem\n",
    "random.seed(42)\n",
    "k = int(k)\n",
    "i = random.sample(list(range(k)),1)[0]\n",
    "print(i)"
   ]
  },
  {
   "cell_type": "code",
   "execution_count": 24,
   "id": "387352b2",
   "metadata": {
    "scrolled": true
   },
   "outputs": [
    {
     "name": "stdout",
     "output_type": "stream",
     "text": [
      "Elisa\n",
      "Marina\n",
      "Victor Cesar\n"
     ]
    }
   ],
   "source": [
    "#Selecionar os n indivíduos\n",
    "\n",
    "while i < len(funcionarios_ordenados):\n",
    "    print(funcionarios_ordenados[i])\n",
    "    i += k"
   ]
  },
  {
   "cell_type": "markdown",
   "id": "a1fac788",
   "metadata": {},
   "source": [
    "### 4.2.3 Amostra Estratificada \n",
    "\n",
    "Trata-se do método em que a população é dividida em grupos (estratos) segundo alguma(s) característica(s) conhecida(s) na população sob estudo. São exemplos de estrato o gênero, faixa etária, região geográfica, profiissão. No geral, é usada quando a população é heterogênea sob a ótica das características analisadas. Procedimento de amostragem:\n",
    "\n",
    "- Dividir as N unidades da população em \\\\(N_1, N_2, \\cdots , N_j\\\\) estratos distintos e homogêneos\n",
    "\n",
    "\n",
    "- Selecionar, ao acaso, uma amostra de tamanhos \\\\(n_1, n_2, \\cdots , n_j\\\\) , de modo que o tamanho da amostra seja \\\\(n = n_1+n_2+ \\cdots +n_j\\\\). O tamanho amostral pode ser proporcional à representatividade do estrato\n",
    "\n",
    "<img src=\"https://faculty.elgin.edu/dkernler/statistics/ch01/images/strata-sample.gif\" width=400>\n",
    "\n",
    "**Exemplo**: Considere a população formada por integrantes de uma escola. Dependendo do objetivo do estudo, esta população poderia ser dividida em alunos, professores, e demais funcionários (grupos homogêneos com relação à função na escola). \n",
    "\n",
    "Agora considere que a proporção de cada estrato seja: 50% alunos, 25% professores e 25% servidores. A amostragem poderia ser realizada dentro de cada estrato de forma que o tamanho amostral preserve esta característica. Sendo assim, se amostra total é de tamanho $n$, a composição será $0,5 \\times n$ de alunos, $0,25\\times n$ de professores e $0,25\\times n$ de servidores."
   ]
  },
  {
   "cell_type": "code",
   "execution_count": 25,
   "id": "a5182f2f",
   "metadata": {
    "scrolled": true
   },
   "outputs": [
    {
     "name": "stdout",
     "output_type": "stream",
     "text": [
      "Professores: 15.0\n",
      "alunos: 30.0\n",
      "servidores: 15.0\n"
     ]
    }
   ],
   "source": [
    "n = 60\n",
    "prof = 60*0.25\n",
    "alunos = 60*0.5\n",
    "servidores = 60*0.25\n",
    "print('Professores:',prof)\n",
    "print('alunos:',alunos)\n",
    "print('servidores:',servidores)"
   ]
  },
  {
   "cell_type": "markdown",
   "id": "94770b4f",
   "metadata": {},
   "source": [
    "## 4.3 Tamanho Amostral\n",
    "\n",
    "Ao se realizar uma amostra para inferir uma determinada função paramétrica (média, máximo ou outra função de um parâmetro), há um erro associado ao planejamento amostral.\n",
    "A medida que o tamanho da amostra aumenta, o erro do estimador diminui. \n",
    "Vale ressaltar que uma amostra muito grande pode implicar em custos desnecessários, enquanto que uma amostra pequena pode tornar a pesquisa inconclusiva. Deste modo, o ponto chave de um levantamento amostral é determinar o tamanho da amostra. "
   ]
  },
  {
   "cell_type": "markdown",
   "id": "8588815e",
   "metadata": {},
   "source": [
    "## 4.3.1 Teorema do Limite Central (TLC, ou TCL)\n",
    "\n",
    "Esse é um dos teoremas mais poderosos e fundamentais da estatística, porque ele é usado **como base para muitos outros resultados**. \n",
    "\n",
    "A ideia é que muitos dos resultados de inferência estatística são válidos assumindo como hipótese que os dados sob análise seguem uma distribuição normal. \n",
    "\n",
    "No entanto, há muitos casos de interesse em que a **distribuição populacional não é normal** -- e, na verdade, não temos como saber com segurança qual é a distribuição populacional, dado que temos apenas acesso às amostras!\n",
    "\n",
    "Assim, a priori, muitos dos resultados e métodos da inferência estatística seriam invalidados, dado que não podemos assegurar qual é a distribuição populacional dos dados que estamos analisando.\n",
    "\n",
    "E é neste contexto que o TLC mostra seu poder e importância, pois ele mostra que **estimadores pontuais de parâmetros populacionais serão normalmente distribuídos, INDEPENDENTE DA DISTRIBUIÇÃO POPULACIONAL!**\n",
    "\n",
    "Vamos enunciá-lo, e depois veremos alguns exemplos:\n",
    "\n",
    "> Seja uma **amostra aleatória** ($x_1, x_2, \\cdots, x_n$) de uma variável aleatória $X$ com **qualquer distribuição**, média $\\mu$ e desvio padrão $\\sigma$. Para $n$ suficientemente grande, a **distribuição das médias amostrais**, $\\overline{X}$, se **aproxima de uma distribuição normal** com média $\\mu_{\\overline{x}} = \\mu$ e erro padrão $SE_{\\overline{X}} = \\frac{\\sigma}{\\sqrt{n}}$. Isto é, $$\\overline{X} \\sim N \\left(\\mu, \\frac{\\sigma}{\\sqrt{n}} \\right)$$\n",
    "OBS.: quando estamos falando do **estimador amostral do desvio padrão**, costumamos usar o termo **erro padrão** (standard error), denotado $SE$.\n",
    "\n",
    "O que o TLC para as médias diz, essencialmente, é:\n",
    "\n",
    "> A distribuição de **médias das amostras** tiradas de **qualquer distribuição populacional** será **aproximadamente normal**, contanto que fizermos uma quantidade razoável de amostras.\n",
    "\n",
    "E isso é um resultado fantástico, pois nos permite a construção de uma **distribuição normal**, para a qual vale uma série de resultados e teoremas, a partir de **qualquer distribuição populacional**!"
   ]
  },
  {
   "cell_type": "markdown",
   "id": "30bbaa74",
   "metadata": {},
   "source": [
    "## 4.3.2 Níveis de confiança e significância\n",
    "\n",
    "\n",
    "###  4.3.2.1 Definições\n",
    "O **nível de confiança** ($1 - \\alpha$) representa a probabilidade de acerto da estimativa. De forma complementar o **nível de significância** ($\\alpha$) expressa a probabilidade de erro da estimativa.\n",
    "\n",
    "O **nível de confiança** representa o grau de confiabilidade do resultado da estimativa estar dentro de determinado intervalo. Quando fixamos em uma pesquisa um **nível de confiança** de 95%, por exemplo, estamos assumindo que existe uma probabilidade de 95% dos resultados da pesquisa representarem bem a realidade, ou seja, estarem corretos.\n",
    "\n",
    "O **nível de confiança** de uma estimativa pode ser obtido a partir da área sob a curva normal como ilustrado na figura abaixo.\n",
    "\n",
    "![alt text](https://caelum-online-public.s3.amazonaws.com/1178-estatistica-parte2/01/img007.png)\n",
    "\n",
    "Para um cientista de dados, um intervalo de confiança é uma ferramenta para ter uma\n",
    "ideia de quão variável o resultado da amostra pode ser. Os cientistas de dados não\n",
    "utilizariam essa informação para publicar um artigo acadêmico ou submeter um resultado\n",
    "a uma agência regulatória (como um pesquisador poderia fazer), mas provavelmente para\n",
    "comunicar o potencial erro em uma estimativa e, talvez, entender se uma amostra maior é\n",
    "necessária.\n",
    "\n",
    "\n",
    "\n",
    "\n",
    "\n",
    "### 4.3.2.2  Erro inferencial\n",
    "***\n",
    "\n",
    "O **erro inferencial** é definido pelo **desvio padrão das médias amostrais** $\\sigma_\\bar{x}$ e pelo **nível de confiança** determinado para o processo.\n",
    "\n",
    "### $$e = z_{\\alpha/2} \\frac{\\sigma}{\\sqrt{n}}$$\n",
    "\n",
    "\n",
    "#### Tamanho da amostra: \n",
    "### $$n = \\left(z_{\\alpha/2} \\frac{\\sigma}{e}\\right)^2$$ \n",
    "\n",
    "##  Intervalos de confiança\n",
    "***\n",
    "\n",
    "### Intervalo de confiança para a média da população\n",
    "\n",
    "#### Com desvio padrão populacional conhecido\n",
    "\n",
    "## $$\\mu = \\bar{x} \\pm z_{\\alpha/2} \\frac{\\sigma}{\\sqrt{n}}$$\n",
    "\n",
    "#### Com desvio padrão populacional desconhecido\n",
    "\n",
    "No caso em que o desvio padrão populacional é desconhecida, pode-se realizar uma amostragem aleatória preliminar (ao menos 30 elementos) para estimar o desvio padrão amostral e usa-la na equaçao acima.\n",
    "\n",
    "## $$\\mu = \\bar{x} \\pm z_{\\alpha/2} \\frac{s}{\\sqrt{n}}$$\n",
    "\n",
    "### Exemplo\n",
    "\n",
    "Suponha que os pesos dos sacos de arroz de uma indústria alimentícia se distribuem aproximadamente como uma normal de **desvio padrão populacional igual a 150 g**. Selecionada uma **amostra aleatória de 20 sacos** de um lote específico, obteve-se um **peso médio de 5.050 g**. Construa um intervalo de confiança para a **média populacional** assumindo um **nível de significância de 5%**."
   ]
  },
  {
   "cell_type": "code",
   "execution_count": 1,
   "id": "b2bfc50d",
   "metadata": {},
   "outputs": [
    {
     "name": "stdout",
     "output_type": "stream",
     "text": [
      "limiar_inferior 4984.2596014615065\n",
      "limiar_superior 5115.7403985384935\n"
     ]
    }
   ],
   "source": [
    "#Intervalo de confiança\n",
    "sigma = 150 #desvio padrao populacional\n",
    "n = 20 #tamanho da amostra\n",
    "media_amostral = 5050 #media amostral\n",
    "\n",
    "significancia = 0.05\n",
    "confianca = 0.95\n",
    "\n",
    "z = 1.96\n",
    "\n",
    "limiar_inferior_intervalo_confianca = media_amostral - z * sigma / n**0.5\n",
    "limiar_superior_intervalo_confianca = media_amostral + z * sigma / n**0.5\n",
    "\n",
    "print('limiar_inferior',limiar_inferior_intervalo_confianca)\n",
    "print('limiar_superior',limiar_superior_intervalo_confianca)"
   ]
  },
  {
   "cell_type": "code",
   "execution_count": 2,
   "id": "5a38d7cb",
   "metadata": {},
   "outputs": [
    {
     "name": "stdout",
     "output_type": "stream",
     "text": [
      "Erro inferencial:  65.74039853849382\n"
     ]
    }
   ],
   "source": [
    "#Erro\n",
    "\n",
    "erro = z * sigma/n**0.5\n",
    "\n",
    "print('Erro inferencial: ',erro)"
   ]
  },
  {
   "cell_type": "markdown",
   "id": "362c11a6",
   "metadata": {},
   "source": [
    "![alt text](https://caelum-online-public.s3.amazonaws.com/1178-estatistica-parte2/01/img008.png)"
   ]
  },
  {
   "cell_type": "markdown",
   "id": "65a072f4",
   "metadata": {},
   "source": [
    "4984----------5050--------------5115\n",
    "Probabilidade de 95% de que a média populacional vai ser menor que 5115 e maior que 4984."
   ]
  },
  {
   "cell_type": "code",
   "execution_count": 6,
   "id": "888b8346",
   "metadata": {},
   "outputs": [
    {
     "name": "stdout",
     "output_type": "stream",
     "text": [
      "i 1\n",
      "j 5\n",
      "i 2\n",
      "j 4\n",
      "i 3\n",
      "j 3\n",
      "i 4\n",
      "j 2\n"
     ]
    }
   ],
   "source": [
    "a = [1,2,3,4,5]\n",
    "b = [5,4,3,2]\n",
    "\n",
    "for i,j in zip(a,b):\n",
    "    print('i',i)\n",
    "    print('j', j)"
   ]
  }
 ],
 "metadata": {
  "kernelspec": {
   "display_name": "Python 3 (ipykernel)",
   "language": "python",
   "name": "python3"
  },
  "language_info": {
   "codemirror_mode": {
    "name": "ipython",
    "version": 3
   },
   "file_extension": ".py",
   "mimetype": "text/x-python",
   "name": "python",
   "nbconvert_exporter": "python",
   "pygments_lexer": "ipython3",
   "version": "3.9.7"
  }
 },
 "nbformat": 4,
 "nbformat_minor": 5
}
