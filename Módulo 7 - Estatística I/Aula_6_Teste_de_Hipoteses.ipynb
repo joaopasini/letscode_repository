{
 "cells": [
  {
   "cell_type": "markdown",
   "id": "f8fd3e8e",
   "metadata": {},
   "source": [
    "# 6. Teste de Hipóteses\n",
    "\n",
    "Feita determinada afirmação sobre uma população, usualmente sobre um parâmetro dessa, desejamos saber se os resultados experimentais provenientes de uma amostra contrariam ou não tal afirmação. Muitas vezes, essa afirmação sobre a população é derivada de teorias desenvolvidas no campo substantivo do conhecimento. A adequação ou não dessa teoria ao universo real pode ser verificada ou refutada pela amostra.\n",
    "\n",
    "O objetivo do teste estatístico de hipóteses é, então, fornecer uma metodologia que nos permita verificar se os dados amostrais trazem evidências que apóiem ou não uma hipótese (estatística) formulada."
   ]
  },
  {
   "cell_type": "markdown",
   "id": "7eb806fe",
   "metadata": {},
   "source": [
    "**Exemplo**\n",
    "\n",
    "Uma indústria usa um tipo de parafuso importado, que deve satisfazer a uma exigência com relação a resistência à tração. Esses parafusos são fabricados por alguns países, e as especificações técnicas variam de país para país. Por exemplo, os catálogos dos países A e B afirmam o seguinte sobre resistência à tração de seus parafusos:\n",
    "\n",
    "$$\\mu_A=145 kg \\text{ e } \\sigma_A = 12 kg$$\n",
    "$$\\mu_B=155 kg \\text{ e } \\sigma_B = 20 kg$$\n",
    "\n",
    "Um lote desses parafusos, de origem desconhecida, será leiloado a um preço muito convidativo. Para que a indústria saiba se faz ou não uma oferta, ela necessita saber qual país produziu tais parafusos. O edital do leiloeiro afirma que, pouco antes do leilão, será divulgada a resistência média $\\overline{X}$ de uma amostra de 25 parafusos do lote. Qual regra de decisão deve ser usada pela indústria para dizer se os parafusos são do país A ou B?"
   ]
  },
  {
   "cell_type": "markdown",
   "id": "95041124",
   "metadata": {},
   "source": [
    "Uma regra de decisão poderia ser:\n",
    "\n",
    "<img src='regra_de_decisao.png' width=500>\n",
    "\n",
    "REGRA DE DECISÃO: Se $\\overline{X} \\leq 150$ (valor médio entre $\\mu_a$ e $\\mu_B$), diremos que os parafusos são do país A, caso contrário, do país B. "
   ]
  },
  {
   "cell_type": "markdown",
   "id": "8d6f1b66",
   "metadata": {},
   "source": [
    "Então, podemos ter duas **Hipóteses:**\n",
    "\n",
    "$H_0$: os parafusos são de origem B. (Hipótese nula)\n",
    "\n",
    "$H_1$: os parafusos são de origem A. (Hipótese alternativa)"
   ]
  },
  {
   "cell_type": "markdown",
   "id": "2f8524b2",
   "metadata": {},
   "source": [
    "No dia do leilão, o leiloeiro informa:\n",
    "\n",
    "$$\\overline{X}=148$$\n",
    "\n",
    "De acordo com a nossa regra de decisão, diríamos que o lote de parafusos é do país A e que a hipótese nula não é verdadeira."
   ]
  },
  {
   "cell_type": "markdown",
   "id": "d2843608",
   "metadata": {},
   "source": [
    "Podemos estar enganados nessa conclusão? Ou seja, de acordo com o que vimos até hoje, existe a possibilidade da média amostral dos parafusos do país B ser diferente da média populacional a ponto de $\\overline{X}_B \\leq 150$?\n",
    "\n",
    "Resposta: SIM!"
   ]
  },
  {
   "cell_type": "markdown",
   "id": "c050d55e",
   "metadata": {},
   "source": [
    "## 6.1 Tipos de erro\n",
    "\n",
    "**Erro do tipo I:** dizer que os parafusos são de A quando na realidade são de B. De acordo com a nossa regra de decisão, quando isso ocorre?\n",
    "$$\\{\\text{rejeitamos } H_0|H_0 \\text{ é verdadeira}\\}$$\n",
    "**Erro do tipo II:** dizer que os parafusos são de B, quando na realidade eles são de A. De acordo com a nossa regra de decisão, quando isso ocorre?\n",
    "$$\\{\\text{não rejeitamos } H_0|H_0 \\text{ é falsa}\\}$$"
   ]
  },
  {
   "cell_type": "markdown",
   "id": "6ffb7b06",
   "metadata": {},
   "source": [
    "Vamos indicar por Região Crítica (RC) a região correspondente aos valores menores que 150:\n",
    "\n",
    "$$RC = \\{y \\in R | y \\leq 150\\}$$\n",
    "\n",
    "$$\\overline{x}_c = 150$$\n",
    "\n",
    "Ou seja, se a nossa média amostral cair nessa região, rejeitaremos a hipótese nula."
   ]
  },
  {
   "cell_type": "markdown",
   "id": "783ec7f4",
   "metadata": {},
   "source": [
    "Assim, pode definir as probabilidade de se cometer cada um dos erros como:\n",
    "\n",
    "$$P(\\text{erro I}) = P(\\overline{X} \\in RC|H_0 \\text{ é verdadeira}) = \\alpha$$\n",
    "$$P(\\text{erro II}) = P(\\overline{X} \\notin RC|H_1 \\text{ é verdadeira}) = \\beta$$"
   ]
  },
  {
   "cell_type": "markdown",
   "id": "adb1697f",
   "metadata": {},
   "source": [
    "Para encontramos essas probablidades, podemos fazer:\n",
    "\n",
    "* Quando $H_0$ for verdadeira (os parafusos forem de B):\n",
    "\n",
    "Lembrando que\n",
    "\n",
    "$$\\mu_B=155 kg \\text{ e } \\sigma_B = 20 kg$$\n",
    "\n",
    "e do **TLC**, que diz que\n",
    "\n",
    "$$\\overline{X} \\sim N\\left(\\mu,\\left(\\sigma/\\sqrt{n}\\right)^2\\right).$$\n",
    "\n",
    "\n",
    "Logo,\n",
    "\n",
    "$$\\overline{X} \\sim N(155,16)$$\n",
    "\n",
    "Denotando por Z a variável aleatória com distribuição $N(0,1)$, temos:\n",
    "\n",
    "$$P(\\text{erro I}) = P(\\overline{X} \\in RC | H_0 \\text{ é verdadeira})$$\n",
    "\n",
    "$$= P(\\overline{X} \\leq 150 | \\overline{X} \\sim N(155,16))$$\n",
    "\n",
    "Lembrando da transformação: $ z = \\frac{x - \\mu}{\\sigma} $\n",
    "\n",
    "$$= P\\left(Z \\leq \\frac{150 - 155}{4}\\right)$$\n",
    "\n",
    "$$= P(Z \\leq -1,25) = 0,10565 = 10,56\\% = \\alpha$$\n"
   ]
  },
  {
   "cell_type": "markdown",
   "id": "4b678b5b",
   "metadata": {},
   "source": [
    "Utilizando o Python para calcular $\\alpha$:"
   ]
  },
  {
   "cell_type": "code",
   "execution_count": 2,
   "id": "a579f2e1",
   "metadata": {
    "scrolled": true
   },
   "outputs": [
    {
     "name": "stdout",
     "output_type": "stream",
     "text": [
      "z_critico:  -1.25\n",
      "Probabilidade de erro do tipo I: 0.10564977366685535\n"
     ]
    }
   ],
   "source": [
    "from scipy.stats import norm\n",
    "\n",
    "x_barra_c = 150\n",
    "media = 155\n",
    "desvio_padrao = 4\n",
    "\n",
    "z_critico = (x_barra_c - media) / desvio_padrao\n",
    "\n",
    "p_erro_I = norm.cdf(z_critico)\n",
    "\n",
    "print('z_critico: ',z_critico)\n",
    "print('Probabilidade de erro do tipo I:',p_erro_I)"
   ]
  },
  {
   "cell_type": "markdown",
   "id": "cbaae638",
   "metadata": {},
   "source": [
    "* Quando H_1 for a alternativa verdadeira, teremos que a v.a. $\\overline{X}$ é\n",
    "\n",
    "$$\\overline{X} \\sim N(145; 5,76)$$\n",
    "\n",
    "O erro do tipo II terá probabilidade de acontecer igual a:\n",
    "\n",
    "$$P(\\text{erro II}) = P(\\overline{X} \\notin RC | H_1 \\text{ é verdadeira})$$\n",
    "\n",
    "$$= P(\\overline{X} > 150 | \\overline{X} \\sim N(145;5,76))$$\n",
    "\n",
    "$$= P\\left(Z > \\frac{150 - 145}{2,4}\\right)$$\n",
    "\n",
    "$$= P(Z > 2,08) = 0,01861 = 1,86\\% = \\beta$$\n"
   ]
  },
  {
   "cell_type": "markdown",
   "id": "6e3b0cbd",
   "metadata": {},
   "source": [
    "Exercício:\n",
    "\n",
    "Calcule o valor do $z_{critico}$ e de $\\beta$ utilizando o Python."
   ]
  },
  {
   "cell_type": "code",
   "execution_count": 5,
   "id": "374bd5ee",
   "metadata": {},
   "outputs": [
    {
     "name": "stdout",
     "output_type": "stream",
     "text": [
      "z_critico:2.0833333333333335\n",
      "Porbabilidade do erro do tipo II: 0.01861\n"
     ]
    }
   ],
   "source": [
    "x_barra_c = 150\n",
    "media = 145\n",
    "desvio_padrao = 2.4\n",
    "\n",
    "z_critico = (x_barra_c - media)/desvio_padrao\n",
    "\n",
    "p_erro_II = 1 - norm.cdf(z_critico)\n",
    "\n",
    "print(f'z_critico:{z_critico}')\n",
    "print(f'Porbabilidade do erro do tipo II: {p_erro_II:.5f}')"
   ]
  },
  {
   "cell_type": "markdown",
   "id": "59cde45e",
   "metadata": {},
   "source": [
    "Resumindo:\n",
    "\n",
    "<img src='resumo_teste_hipotese_nula.png' width=500>\n",
    "\n",
    "Obs: O beta na figura está igual a 1,88% por que o livro arredondou o valor do $z_{critico}$ para 2,08."
   ]
  },
  {
   "cell_type": "markdown",
   "id": "7593eb9c",
   "metadata": {},
   "source": [
    "--------"
   ]
  },
  {
   "cell_type": "markdown",
   "id": "5bc960d5",
   "metadata": {},
   "source": [
    "Agora, é importante lembrarmos que escolhemos no início da aula que o valor de $\\overline{x}_c$ seria o valor médio entre $\\mu_A$ e $\\mu_B$, mas essa não é uma escolha obrigatória. Podemos escolher um $\\overline{x}_c \\neq 150$.\n",
    "\n",
    "Assim, para cada regra de decisão adotada, isto é, se escolhermos um valor de $\\overline{x}_c \\neq 150$, as probablidades $\\alpha$ e $\\beta$ mudarão.\n",
    "\n",
    "Usualmente, procedemos de modo inverso: fixamos um dos erros (geralmente $\\alpha$) e encontramos a regra de decisão que irá corresponder a este valor.\n",
    "\n",
    "Por exemplo, se definirmos $\\alpha = 5\\%$, a regra de decisão será:\n",
    "\n",
    "$$P(\\text{erro I}) = P(\\overline{X} \\leq \\overline{x}_c | \\overline{X} \\sim N(155,16)) = 0,05$$\n",
    "\n",
    "$$P(Z \\leq z_c) = 0,05$$\n",
    "\n",
    "Da tabela do Z-score para a probabilidade acumulada de 0,05, temos $z_c = -1,645$. Da transformação para a normal padrão sabemos que\n",
    "\n",
    "$$\\frac{\\overline{x}_c - 155}{4}=-1,645.$$\n",
    "\n",
    "Logo,\n",
    "\n",
    "$$\\overline{x}_c = 148,42.$$\n",
    "\n",
    "Por fim, a **regra de decisão** será:\n",
    "\n",
    "Se $\\overline{x}$ for inferior a 148,42, dizemos que o lote é de A; caso contrário, dizemos que é de B."
   ]
  },
  {
   "cell_type": "markdown",
   "id": "187eca5c",
   "metadata": {},
   "source": [
    "<img src='distribuicao_A_e_B.png' width=500>"
   ]
  },
  {
   "cell_type": "markdown",
   "id": "8af442e3",
   "metadata": {},
   "source": [
    "----"
   ]
  },
  {
   "cell_type": "markdown",
   "id": "5d4afea0",
   "metadata": {},
   "source": [
    "## 6.2 Procedimento Geral do Teste de Hipóteses\n",
    "\n",
    "* Passo 1. Fixe qual a hipótese $H_0$ a ser testada e qual a hipótese alternativa $H_1$.\n",
    "* Passo 2. Use a teoria estatística e as informações disponíveis para decidir qual estatística (estimador) será usada para testar a hipótese $H_0$. Obter as propriedades dessa estatística (distribuição, média, desvio padrão).\n",
    "* Passo 3. Fixe a probabilidade $\\alpha$ de cometer o erro de tipo I e use este valor para construir a região crítica (regra de decisão). Lembre que essa região é construída para a estatística definida no passo 2, usando os valores do parâmetro hipotetizados por $H_0$.\n",
    "* Passo 4. Use as observações da amostra para calcular o valor da estatística do teste.\n",
    "* Passo 5. Se o valor da estatística calculado com os dados da amostra não pertencer à região crítica, não rejeite H0; caso contrário, rejeite H0."
   ]
  },
  {
   "cell_type": "markdown",
   "id": "b63b68c1",
   "metadata": {},
   "source": [
    "**Exercício:**\n",
    "\n",
    "Uma máquina automática para encher pacotes de café enche-os segundo uma distribuição normal, com média μ e variância sempre igual a 400 $g^2$. A máquina foi regulada para μ = 500 g. Desejamos, periodicamente, colher uma amostra de 16 pacotes e verificar se a produção está sob controle, isto é, se μ = 500 g ou não. Se uma dessas amostras apresentasse uma média $\\overline{X} = 492$ g, você pararia ou não a produção para regular a máquina?"
   ]
  },
  {
   "cell_type": "markdown",
   "id": "aa1fa5b0",
   "metadata": {},
   "source": [
    "* **Passo 1**\n",
    "\n",
    "X o peso de cada pacote, então $X \\sim N(500, 400)$ e \n",
    "\n",
    "$$H_0: \\mu = 500$$\n",
    "$$H_1: \\mu \\neq 500$$"
   ]
  },
  {
   "cell_type": "markdown",
   "id": "8e687729",
   "metadata": {},
   "source": [
    "* **Passo 2**\n",
    "\n",
    "DO TLC, se $H_0$ for verdadeira,\n",
    "\n",
    "$$\\overline{X} \\sim N(500,25)$$"
   ]
  },
  {
   "cell_type": "markdown",
   "id": "498d4e10",
   "metadata": {},
   "source": [
    "* **Passo 3**\n",
    "\n",
    "Vamos fixar α = 1\\%; pela hipótese alternativa, vemos que $H_0$ deve ser rejeitada quando $\\overline{X}$ for muito pequena ou muito grande (dizemos que temos um teste bilateral).\n",
    "\n",
    "Logo, a região crítica, será:\n",
    "<img src='regiao_critica_bilateral.png' width=500>"
   ]
  },
  {
   "cell_type": "code",
   "execution_count": 7,
   "id": "7a192d29",
   "metadata": {},
   "outputs": [
    {
     "name": "stdout",
     "output_type": "stream",
     "text": [
      "A região crítica é: x_barra <= 487.1 ou x_barra >= 512.9\n"
     ]
    }
   ],
   "source": [
    "media = 500\n",
    "desvio_padrao = 5\n",
    "z_critico_1 = norm.ppf(q=0.005)\n",
    "z_critico_2 = norm.ppf(q=0.995)\n",
    "\n",
    "x_critico_1 = z_critico_1*desvio_padrao + media\n",
    "x_critico_2 = z_critico_2*desvio_padrao + media\n",
    "\n",
    "print(f'A região crítica é: x_barra <= {x_critico_1:.1f} ou x_barra >= {x_critico_2:.1f}')"
   ]
  },
  {
   "cell_type": "markdown",
   "id": "cd07908c",
   "metadata": {},
   "source": [
    "* **Passo 4**\n",
    "\n",
    "A informação pertinente da amostra é sua média, que nesse caso particular é $\\overline{x}_0 = 492.$"
   ]
  },
  {
   "cell_type": "markdown",
   "id": "99aabe90",
   "metadata": {},
   "source": [
    "* **Passo 5**\n",
    "\n",
    "Como $\\overline{x}_{c1} \\leq \\overline{x}_0 \\leq \\overline{x}_{c2}$, nossa conclusão será não rejeitar $H_0$. Ou seja, o desvio da média da amostra para a média proposta por $H_0$ pode ser considerada como devido apenas ao sorteio aleatório dos pacotes. "
   ]
  },
  {
   "cell_type": "markdown",
   "id": "c5efd710",
   "metadata": {},
   "source": [
    "Referência:\n",
    "\n",
    "* Morettin, P. A., & Bussab, W. O. (2017). Estatística básica. Saraiva Educação SA. (Capítulo 12)"
   ]
  },
  {
   "cell_type": "markdown",
   "id": "d45c25c4",
   "metadata": {},
   "source": [
    "Dica do Augusto: Nessa playlist tem outros exemplos de outros tipos de teste de hipotese. \n",
    "https://www.youtube.com/watch?v=h4QcWDDlrW0&list=PL7xT0Gz6G0-TfV-S6WiGDvIsZds6Pv_g8"
   ]
  }
 ],
 "metadata": {
  "kernelspec": {
   "display_name": "Python 3 (ipykernel)",
   "language": "python",
   "name": "python3"
  },
  "language_info": {
   "codemirror_mode": {
    "name": "ipython",
    "version": 3
   },
   "file_extension": ".py",
   "mimetype": "text/x-python",
   "name": "python",
   "nbconvert_exporter": "python",
   "pygments_lexer": "ipython3",
   "version": "3.9.7"
  }
 },
 "nbformat": 4,
 "nbformat_minor": 5
}
