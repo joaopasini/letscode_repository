{
 "cells": [
  {
   "cell_type": "markdown",
   "id": "5588ff06",
   "metadata": {},
   "source": [
    "1) \n",
    "Identifique nas alternativas abaixo, a opção que contenha apenas métricas de posição:\n",
    "\n",
    "Alternativas\n",
    "\n",
    "\n",
    "Mediana e Moda\n"
   ]
  },
  {
   "cell_type": "markdown",
   "id": "146986e1",
   "metadata": {},
   "source": [
    "2) \n",
    "Dado o boxplot conforme a figura abaixo:\n",
    "\n",
    "\n",
    "Como é definida a fórmula para os limites superior e inferior do boxplot que separa os dados da distribuição dos prováveis outliers?\n",
    "\n",
    "\n",
    "\n",
    "\n",
    "\n",
    "*** Q3 + 1.5(Q3 - Q1), Q1 - 1.5(Q3 - Q1)\n",
    "\n"
   ]
  },
  {
   "cell_type": "markdown",
   "id": "a91edd01",
   "metadata": {},
   "source": [
    "3) Rafael queria levar dinheiro na escola para comprar balas, mas sua mãe só deixou que ele levasse duas moedas para a escola. Sabendo que dentro do cofre do Rafael, temos as seguintes moedas:\n",
    "\n",
    "10 centavos = 5 moedas\n",
    "25 centavos = 4 moedas\n",
    "50 centavos = 10 moedas\n",
    "01 real = 3 moedas\n",
    "Qual a probabilidade de Rafael retirar respectivamente uma moeda de 1 real e uma moeda de 25 centavos?\n",
    "\n",
    "2,6 %"
   ]
  },
  {
   "cell_type": "markdown",
   "id": "a7ea0ec6",
   "metadata": {},
   "source": [
    "4) \n",
    "\n",
    "Em um centro de distribuição logístico da Amazon, chegam cerca de 1.440 produtos por dia. Sabendo que segue uma distribuição de Poisson, qual a probabilidade de que em um minuto cheguem 3 produtos?\n",
    "\n",
    "6,1 %"
   ]
  },
  {
   "cell_type": "markdown",
   "id": "6919eeac",
   "metadata": {},
   "source": [
    "5) \n",
    "\n",
    "Em uma filial de um banco, 40% dos clientes que vão ao caixa eletrônico sacam dinheiro do caixa. Utilizando de uma distribuição binomial, qual é a probabilidade de no máximo 12 clientes sacarem dinheiro em um dia que tivemos 30 clientes no caixa eletrônico?\n",
    "\n",
    "42,2 %"
   ]
  },
  {
   "cell_type": "markdown",
   "id": "a5e92098",
   "metadata": {},
   "source": [
    "6)\n",
    "\n",
    "Suponha que 60% das mulheres que compram kits de gravidez instantâneos estejam, de fato, grávidas. Para um kit de uma marca específica, se a mulher estiver grávida, o teste fornecerá resultado positivo 96% das vezes e negativo 4% das vezes (um “falso negativo\"). Se ela não estiver grávida, o teste resultará positivo em 1% das vezes (um “falso positivo”) e negativo 99% das vezes . Suponha que um teste resulte positivo. Qual a probabilidade de que a mulher esteja realmente grávida?\n",
    "\n",
    "99,3 %"
   ]
  },
  {
   "cell_type": "markdown",
   "id": "a1be4d86",
   "metadata": {},
   "source": [
    "7)\n",
    "\n",
    "O tempo para fabricar um perfume em uma empresa é descrito por uma variável aleatória X, medida em horas, com distribuição normal de média mu = 7 e desvio padrão sigma = 2. Qual a probabilidade de que um perfume será finalizado entre 4 e 11 horas? \n",
    "\n",
    "91,0 %"
   ]
  },
  {
   "cell_type": "markdown",
   "id": "d176f5d0",
   "metadata": {},
   "source": [
    "8) \n",
    "Uma máquina de sorvete está regulada de modo a servir uma média de 80g por casquinha. Se a quantidade servida por casquinha seguir uma distribuição normal com desvio padrão de 8g, qual a porcentagem de casquinhas que conterão mais de 85g de sorvete?\n",
    "\n",
    "26,6 %"
   ]
  },
  {
   "cell_type": "markdown",
   "id": "f06ff94d",
   "metadata": {},
   "source": [
    "9)\n",
    "\n",
    "Dados os tipos de amostragem e as definições dos mesmos, assinale a alternativa que indique cada tipo de amostragem com a respectiva definição:\n",
    "\n",
    "Tipos de Amostragem:\n",
    "\n",
    "1 - Amostragem Aleatória Simples\n",
    "\n",
    "2 - Amostragem Estratificada\n",
    "\n",
    "3 - Amostragem Sistemática\n",
    "\n",
    "Definições:\n",
    "\n",
    "I - Método de amostragem onde a população é dividida em grupos (estratos) segundo algumas características conhecidas sobre a população em estudo;\n",
    "\n",
    "II - Método de amostragem utilizado para selecionar amostras de populações que estão ordenadas;\n",
    "\n",
    "III - Método de amostragem mais simples onde serão escolhidos aleatoriamente elementos com ou sem reposição.\n",
    "\n",
    "\n",
    "1-III, 2-I, 3-II"
   ]
  },
  {
   "cell_type": "markdown",
   "id": "43c4e844",
   "metadata": {},
   "source": [
    "10)\n",
    "\n",
    "A respeito da análise de dados categorizados. Temos as seguintes afirmações:\n",
    "\n",
    "I - Uma maneira útil de resumir duas variáveis categóricas é utilizando uma tabela de contingência.\n",
    "\n",
    "II - O gênero musical é um exemplo de variável categórica ordinal.\n",
    "\n",
    "III - Não podemos considerar mais de duas variáveis categóricas utilizando uma tabela de contingência.\n",
    "\n",
    "IV - Em um teste de diagnóstico, a probabilidade do teste ser positivo, dado que um indivíduo tem a doença, é chamada de sensibilidade.\n",
    "\n",
    "Dentre as afirmações, quais são verdadeiras?\n",
    "\n",
    "I - IV"
   ]
  },
  {
   "cell_type": "markdown",
   "id": "498628e7",
   "metadata": {},
   "source": [
    "11)\n",
    "\n",
    "Um fabricante de refrigerante anunciou que a média do índice de cafeína do seu refrigerante de cola é igual a 35mg por lata. Um laboratório realizou 20 análises do índice de cafeína obtendo os resultados (37, 34, 36, 37, 35, 32, 30, 35, 34, 36, 39, 38, 34, 35, 31, 30, 33, 35, 36, 31). Sabe-se que o índice de cafeína do refrigerante de cola dessa marca se distribui normalmente com variância igual a 4. Responda respectivamente a conclusão sobre o teste e os valores de X críticos para este teste com nível de significância de 5%?\n",
    "\n",
    "Rejeita H0, X_critico_1 = 34,6 mg e X_Critico_2 = 35,4 mg"
   ]
  },
  {
   "cell_type": "code",
   "execution_count": null,
   "id": "ffc1a0b3",
   "metadata": {},
   "outputs": [],
   "source": []
  },
  {
   "cell_type": "code",
   "execution_count": null,
   "id": "04179ad4",
   "metadata": {},
   "outputs": [],
   "source": []
  },
  {
   "cell_type": "code",
   "execution_count": null,
   "id": "03d58024",
   "metadata": {},
   "outputs": [],
   "source": []
  }
 ],
 "metadata": {
  "kernelspec": {
   "display_name": "Python 3 (ipykernel)",
   "language": "python",
   "name": "python3"
  },
  "language_info": {
   "codemirror_mode": {
    "name": "ipython",
    "version": 3
   },
   "file_extension": ".py",
   "mimetype": "text/x-python",
   "name": "python",
   "nbconvert_exporter": "python",
   "pygments_lexer": "ipython3",
   "version": "3.9.7"
  }
 },
 "nbformat": 4,
 "nbformat_minor": 5
}
