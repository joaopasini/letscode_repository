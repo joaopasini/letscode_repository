{
 "cells": [
  {
   "cell_type": "markdown",
   "id": "2d61adf6",
   "metadata": {},
   "source": [
    "## Exercícios de Estatística I"
   ]
  },
  {
   "cell_type": "raw",
   "id": "57e4f0c6",
   "metadata": {},
   "source": [
    "Questão 1\n",
    "\n",
    "Em uma urna há 3 bolas azuis, 6 vermelhas e uma branca. As bolas são retiradas sem reposição. Qual a probabilidade de alguém retirar uma bola uma bola azul e uma branca, nesta ordem?"
   ]
  },
  {
   "cell_type": "markdown",
   "id": "52c29b4c",
   "metadata": {},
   "source": [
    "Questão 2\n",
    "\n",
    "O número médio de clientes que entram em uma padaria por hora é igual a 20. Obtenha a probabilidade de, na próxima hora, entrarem exatamente 25 clientes."
   ]
  },
  {
   "cell_type": "code",
   "execution_count": null,
   "id": "2e3f3f66",
   "metadata": {},
   "outputs": [],
   "source": [
    "Questão 3\n",
    "\n",
    "A aplicação de uma prova de estatística em um concurso apresentou um conjunto de notas normalmente distribuídas. Verificou-se que o conjunto de notas tinha média 70 e desvio padrão de 5 pontos.\n",
    "Qual a probabilidade de um aluno, selecionado ao acaso, ter nota menor que 85?"
   ]
  },
  {
   "cell_type": "code",
   "execution_count": null,
   "id": "6361c25b",
   "metadata": {},
   "outputs": [],
   "source": [
    "Questão 4\n",
    "\n",
    "Para uma amostra contendo os seguintes valores: [1, 4, 5, 6, 10], estime a variância populacional"
   ]
  },
  {
   "cell_type": "code",
   "execution_count": null,
   "id": "4b451c7b",
   "metadata": {},
   "outputs": [],
   "source": [
    "Questão 5\n",
    "\n",
    "Um fabricante garante que 90% dos equipamentos que fornece a\n",
    "uma f ́abrica est ̃ao de acordo com as especifica ̧c ̃oes exigidas. O\n",
    "exame de uma amostra de 200 pe ̧cas desse equipamento revelou\n",
    "25 defeituosas. Teste a afirmativa do fabricante, nos n ́ıveis de 5%\n",
    "e 1%."
   ]
  }
 ],
 "metadata": {
  "kernelspec": {
   "display_name": "Python 3 (ipykernel)",
   "language": "python",
   "name": "python3"
  },
  "language_info": {
   "codemirror_mode": {
    "name": "ipython",
    "version": 3
   },
   "file_extension": ".py",
   "mimetype": "text/x-python",
   "name": "python",
   "nbconvert_exporter": "python",
   "pygments_lexer": "ipython3",
   "version": "3.9.7"
  }
 },
 "nbformat": 4,
 "nbformat_minor": 5
}
