{
 "cells": [
  {
   "cell_type": "markdown",
   "id": "0d2b43ee",
   "metadata": {},
   "source": [
    "# 7. Dados Categorizados\n",
    "\n",
    "As variáveis categóricas têm dois tipos principais de escalas de medição. Muitas escalas categóricas têm uma ordem natural. Os exemplos são atitudes em relação à legalização do aborto (desaprovar em todos os casos, aprovar apenas em certos casos, aprovar em todos os casos), avaliação do nível de estoque de uma empresa (muito baixo, quase certo, muito alto), resposta a um tratamento médico (excelente, bom, regular, ruim) e frequência de sintomas de ansiedade (nunca, ocasionalmente, frequentemente, sempre). Variáveis categóricas com escalas ordenadas são chamadas de variáveis **ordinais**.\n",
    "\n",
    "Variáveis categóricas com escalas não ordenadas são denominadas variáveis **nominais**. Os exemplos são afiliação religiosa (categorias católica, judaica, protestante, muçulmana, outra), principal meio de transporte para o trabalho (automóvel, bicicleta, ônibus, metrô, caminhada), tipo de música favorita (clássica, country, folclórica, jazz, rock) e o local favorito para fazer compras (shopping local, centro da cidade, Internet, outros)."
   ]
  },
  {
   "cell_type": "markdown",
   "id": "71173635",
   "metadata": {},
   "source": [
    "## 7.1 Tabela de Contingência\n",
    "\n",
    "Uma maneira útil de resumir duas variáveis categóricas é utilizando **uma tabela de contingência** — uma tabela de contagens por categoria."
   ]
  },
  {
   "cell_type": "code",
   "execution_count": 4,
   "id": "133eb6e3",
   "metadata": {},
   "outputs": [
    {
     "data": {
      "text/html": [
       "<div>\n",
       "<style scoped>\n",
       "    .dataframe tbody tr th:only-of-type {\n",
       "        vertical-align: middle;\n",
       "    }\n",
       "\n",
       "    .dataframe tbody tr th {\n",
       "        vertical-align: top;\n",
       "    }\n",
       "\n",
       "    .dataframe thead th {\n",
       "        text-align: right;\n",
       "    }\n",
       "</style>\n",
       "<table border=\"1\" class=\"dataframe\">\n",
       "  <thead>\n",
       "    <tr style=\"text-align: right;\">\n",
       "      <th></th>\n",
       "      <th>Id</th>\n",
       "      <th>Sexo</th>\n",
       "      <th>Candidato</th>\n",
       "      <th>Empregado</th>\n",
       "    </tr>\n",
       "  </thead>\n",
       "  <tbody>\n",
       "    <tr>\n",
       "      <th>0</th>\n",
       "      <td>1</td>\n",
       "      <td>M</td>\n",
       "      <td>A</td>\n",
       "      <td>S</td>\n",
       "    </tr>\n",
       "    <tr>\n",
       "      <th>1</th>\n",
       "      <td>2</td>\n",
       "      <td>F</td>\n",
       "      <td>A</td>\n",
       "      <td>N</td>\n",
       "    </tr>\n",
       "    <tr>\n",
       "      <th>2</th>\n",
       "      <td>3</td>\n",
       "      <td>F</td>\n",
       "      <td>A</td>\n",
       "      <td>N</td>\n",
       "    </tr>\n",
       "    <tr>\n",
       "      <th>3</th>\n",
       "      <td>4</td>\n",
       "      <td>F</td>\n",
       "      <td>B</td>\n",
       "      <td>S</td>\n",
       "    </tr>\n",
       "    <tr>\n",
       "      <th>4</th>\n",
       "      <td>5</td>\n",
       "      <td>M</td>\n",
       "      <td>B</td>\n",
       "      <td>S</td>\n",
       "    </tr>\n",
       "  </tbody>\n",
       "</table>\n",
       "</div>"
      ],
      "text/plain": [
       "   Id Sexo Candidato Empregado\n",
       "0   1    M         A         S\n",
       "1   2    F         A         N\n",
       "2   3    F         A         N\n",
       "3   4    F         B         S\n",
       "4   5    M         B         S"
      ]
     },
     "execution_count": 4,
     "metadata": {},
     "output_type": "execute_result"
    }
   ],
   "source": [
    "import pandas as pd\n",
    "\n",
    "df = pd.read_csv('dados_tabela_contingencia.csv', sep=';')\n",
    "df.head()"
   ]
  },
  {
   "cell_type": "code",
   "execution_count": 5,
   "id": "13e6659d",
   "metadata": {
    "scrolled": false
   },
   "outputs": [
    {
     "data": {
      "text/html": [
       "<div>\n",
       "<style scoped>\n",
       "    .dataframe tbody tr th:only-of-type {\n",
       "        vertical-align: middle;\n",
       "    }\n",
       "\n",
       "    .dataframe tbody tr th {\n",
       "        vertical-align: top;\n",
       "    }\n",
       "\n",
       "    .dataframe thead th {\n",
       "        text-align: right;\n",
       "    }\n",
       "</style>\n",
       "<table border=\"1\" class=\"dataframe\">\n",
       "  <thead>\n",
       "    <tr style=\"text-align: right;\">\n",
       "      <th>Candidato</th>\n",
       "      <th>A</th>\n",
       "      <th>B</th>\n",
       "      <th>All</th>\n",
       "    </tr>\n",
       "    <tr>\n",
       "      <th>Sexo</th>\n",
       "      <th></th>\n",
       "      <th></th>\n",
       "      <th></th>\n",
       "    </tr>\n",
       "  </thead>\n",
       "  <tbody>\n",
       "    <tr>\n",
       "      <th>F</th>\n",
       "      <td>34</td>\n",
       "      <td>18</td>\n",
       "      <td>52</td>\n",
       "    </tr>\n",
       "    <tr>\n",
       "      <th>M</th>\n",
       "      <td>27</td>\n",
       "      <td>21</td>\n",
       "      <td>48</td>\n",
       "    </tr>\n",
       "    <tr>\n",
       "      <th>All</th>\n",
       "      <td>61</td>\n",
       "      <td>39</td>\n",
       "      <td>100</td>\n",
       "    </tr>\n",
       "  </tbody>\n",
       "</table>\n",
       "</div>"
      ],
      "text/plain": [
       "Candidato   A   B  All\n",
       "Sexo                  \n",
       "F          34  18   52\n",
       "M          27  21   48\n",
       "All        61  39  100"
      ]
     },
     "execution_count": 5,
     "metadata": {},
     "output_type": "execute_result"
    }
   ],
   "source": [
    "tabela_contingencia = pd.crosstab(index=[df.Sexo], columns=df.Candidato, margins=True)\n",
    "tabela_contingencia"
   ]
  },
  {
   "cell_type": "markdown",
   "id": "a8f00241",
   "metadata": {},
   "source": [
    "* A contagem na interseção da linha $i$ e coluna $j$ é identificada por $n_{ij}$, e representa o número de observações que exibem essa combinação de níveis. Por exemplo, $n_{1,2}$ exibe o número de entrevistadas do sexo feminino que tenham votado para o Candidato B.\n",
    "\n",
    "* A tabela também inclui **totais marginais** para cada nível das variáveis. Os totais marginais para as linhas mostram que 52 dos entrevistados eram do sexo feminino. Os totais marginais para colunas mostram que 61 entrevistados votaram no Candidato A. Além disso, o total global mostra que o tamanho amostral é de 100."
   ]
  },
  {
   "cell_type": "markdown",
   "id": "1233427f",
   "metadata": {},
   "source": [
    "### Podemos considerar mais de duas variáveis?\n",
    "\n",
    "As tabelas de contingência mais simples são tabelas com dois fatores que contam as respostas por duas variáveis. Você pode categorizar observações por três ou mais variáveis \"cruzando-as\". No exemplo do voto, você também poderia classificar as respostas por situação empregatícia:"
   ]
  },
  {
   "cell_type": "code",
   "execution_count": 8,
   "id": "f4b51f12",
   "metadata": {
    "scrolled": false
   },
   "outputs": [
    {
     "data": {
      "text/html": [
       "<div>\n",
       "<style scoped>\n",
       "    .dataframe tbody tr th:only-of-type {\n",
       "        vertical-align: middle;\n",
       "    }\n",
       "\n",
       "    .dataframe tbody tr th {\n",
       "        vertical-align: top;\n",
       "    }\n",
       "\n",
       "    .dataframe thead th {\n",
       "        text-align: right;\n",
       "    }\n",
       "</style>\n",
       "<table border=\"1\" class=\"dataframe\">\n",
       "  <thead>\n",
       "    <tr style=\"text-align: right;\">\n",
       "      <th></th>\n",
       "      <th>Candidato</th>\n",
       "      <th>A</th>\n",
       "      <th>B</th>\n",
       "      <th>All</th>\n",
       "    </tr>\n",
       "    <tr>\n",
       "      <th>Sexo</th>\n",
       "      <th>Empregado</th>\n",
       "      <th></th>\n",
       "      <th></th>\n",
       "      <th></th>\n",
       "    </tr>\n",
       "  </thead>\n",
       "  <tbody>\n",
       "    <tr>\n",
       "      <th rowspan=\"2\" valign=\"top\">F</th>\n",
       "      <th>N</th>\n",
       "      <td>16</td>\n",
       "      <td>4</td>\n",
       "      <td>20</td>\n",
       "    </tr>\n",
       "    <tr>\n",
       "      <th>S</th>\n",
       "      <td>18</td>\n",
       "      <td>14</td>\n",
       "      <td>32</td>\n",
       "    </tr>\n",
       "    <tr>\n",
       "      <th rowspan=\"2\" valign=\"top\">M</th>\n",
       "      <th>N</th>\n",
       "      <td>3</td>\n",
       "      <td>0</td>\n",
       "      <td>3</td>\n",
       "    </tr>\n",
       "    <tr>\n",
       "      <th>S</th>\n",
       "      <td>24</td>\n",
       "      <td>21</td>\n",
       "      <td>45</td>\n",
       "    </tr>\n",
       "    <tr>\n",
       "      <th>All</th>\n",
       "      <th></th>\n",
       "      <td>61</td>\n",
       "      <td>39</td>\n",
       "      <td>100</td>\n",
       "    </tr>\n",
       "  </tbody>\n",
       "</table>\n",
       "</div>"
      ],
      "text/plain": [
       "Candidato        A   B  All\n",
       "Sexo Empregado             \n",
       "F    N          16   4   20\n",
       "     S          18  14   32\n",
       "M    N           3   0    3\n",
       "     S          24  21   45\n",
       "All             61  39  100"
      ]
     },
     "execution_count": 8,
     "metadata": {},
     "output_type": "execute_result"
    }
   ],
   "source": [
    "tabela_contigencia_empregado = pd.crosstab(index=[df.Sexo,df.Empregado], \n",
    "                                           columns=df.Candidato, margins=True)\n",
    "tabela_contigencia_empregado"
   ]
  },
  {
   "cell_type": "code",
   "execution_count": 9,
   "id": "79bea530",
   "metadata": {},
   "outputs": [
    {
     "data": {
      "text/html": [
       "<div>\n",
       "<style scoped>\n",
       "    .dataframe tbody tr th:only-of-type {\n",
       "        vertical-align: middle;\n",
       "    }\n",
       "\n",
       "    .dataframe tbody tr th {\n",
       "        vertical-align: top;\n",
       "    }\n",
       "\n",
       "    .dataframe thead th {\n",
       "        text-align: right;\n",
       "    }\n",
       "</style>\n",
       "<table border=\"1\" class=\"dataframe\">\n",
       "  <thead>\n",
       "    <tr style=\"text-align: right;\">\n",
       "      <th>Candidato</th>\n",
       "      <th>A</th>\n",
       "      <th>B</th>\n",
       "      <th>All</th>\n",
       "    </tr>\n",
       "    <tr>\n",
       "      <th>Sexo</th>\n",
       "      <th></th>\n",
       "      <th></th>\n",
       "      <th></th>\n",
       "    </tr>\n",
       "  </thead>\n",
       "  <tbody>\n",
       "    <tr>\n",
       "      <th>F</th>\n",
       "      <td>34</td>\n",
       "      <td>18</td>\n",
       "      <td>52</td>\n",
       "    </tr>\n",
       "    <tr>\n",
       "      <th>M</th>\n",
       "      <td>27</td>\n",
       "      <td>21</td>\n",
       "      <td>48</td>\n",
       "    </tr>\n",
       "    <tr>\n",
       "      <th>All</th>\n",
       "      <td>61</td>\n",
       "      <td>39</td>\n",
       "      <td>100</td>\n",
       "    </tr>\n",
       "  </tbody>\n",
       "</table>\n",
       "</div>"
      ],
      "text/plain": [
       "Candidato   A   B  All\n",
       "Sexo                  \n",
       "F          34  18   52\n",
       "M          27  21   48\n",
       "All        61  39  100"
      ]
     },
     "execution_count": 9,
     "metadata": {},
     "output_type": "execute_result"
    }
   ],
   "source": [
    "tabela_contingencia = pd.crosstab(index=[df.Sexo], columns=df.Candidato, margins=True)\n",
    "tabela_contingencia"
   ]
  },
  {
   "cell_type": "markdown",
   "id": "6579a442",
   "metadata": {},
   "source": [
    "### 7.1.1 Estrutura de probabilidade para tabelas de contigência\n",
    "\n",
    "As probabilidades para tabelas de contingência podem ser de três tipos - conjunta, marginal ou condicional.\n",
    "\n",
    "**Probabilidades conjuntas:** São calculadas das interseções das variáveis. Voltando ao nosso exemplo da tabela que relaciona o sexo do eleitor e o candidato escolhido, podemos calcular a probabilidade de ser uma eleitora e ter votado no candidato B, por exemplo:\n",
    "\n",
    "$$P(F \\cap B) = P(F,B) = \\frac{18}{100} = 0,18 = 18\\%$$\n",
    "\n",
    "**Probabilidades marginais:** São calculadas dos totais marginais. Por exemplo, podemos calcular a probabilidade marginal do eleitor ser do sexo masculino:\n",
    "\n",
    "$$P(Sexo=M) = \\frac{48}{100} = 0,48 = 48\\%$$\n",
    "\n",
    "Podemos também, calcular a probabilidade marginal do candidato A ser escolhido:\n",
    "\n",
    "$$P(Candidato=A) = \\frac{61}{100} = 0,61 = 61\\%$$\n",
    "\n",
    "**Probabilidades Condicionais:** São calculadas por meio das probabilidades conjuntas e marginais. Se quisermos saber a probabilidade de termos um eleitor do sexo masculino, dado que ele votou no candidato A, podemos fazer:\n",
    "\n",
    "$$P(M|A) = \\frac{P(M,A)}{P(Candidato=A)} = \\frac{0,27}{0,61} = 0,44 = 44\\%$$\n"
   ]
  },
  {
   "cell_type": "markdown",
   "id": "323c2ed1",
   "metadata": {},
   "source": [
    "No python, podemos calcular as probabilidades conjuntas e marginais apenas definindo o parâmetro **normalize** da função crosstab como **True**:"
   ]
  },
  {
   "cell_type": "code",
   "execution_count": 10,
   "id": "5573047b",
   "metadata": {
    "scrolled": true
   },
   "outputs": [
    {
     "data": {
      "text/html": [
       "<div>\n",
       "<style scoped>\n",
       "    .dataframe tbody tr th:only-of-type {\n",
       "        vertical-align: middle;\n",
       "    }\n",
       "\n",
       "    .dataframe tbody tr th {\n",
       "        vertical-align: top;\n",
       "    }\n",
       "\n",
       "    .dataframe thead th {\n",
       "        text-align: right;\n",
       "    }\n",
       "</style>\n",
       "<table border=\"1\" class=\"dataframe\">\n",
       "  <thead>\n",
       "    <tr style=\"text-align: right;\">\n",
       "      <th>Candidato</th>\n",
       "      <th>A</th>\n",
       "      <th>B</th>\n",
       "      <th>All</th>\n",
       "    </tr>\n",
       "    <tr>\n",
       "      <th>Sexo</th>\n",
       "      <th></th>\n",
       "      <th></th>\n",
       "      <th></th>\n",
       "    </tr>\n",
       "  </thead>\n",
       "  <tbody>\n",
       "    <tr>\n",
       "      <th>F</th>\n",
       "      <td>0.34</td>\n",
       "      <td>0.18</td>\n",
       "      <td>0.52</td>\n",
       "    </tr>\n",
       "    <tr>\n",
       "      <th>M</th>\n",
       "      <td>0.27</td>\n",
       "      <td>0.21</td>\n",
       "      <td>0.48</td>\n",
       "    </tr>\n",
       "    <tr>\n",
       "      <th>All</th>\n",
       "      <td>0.61</td>\n",
       "      <td>0.39</td>\n",
       "      <td>1.00</td>\n",
       "    </tr>\n",
       "  </tbody>\n",
       "</table>\n",
       "</div>"
      ],
      "text/plain": [
       "Candidato     A     B   All\n",
       "Sexo                       \n",
       "F          0.34  0.18  0.52\n",
       "M          0.27  0.21  0.48\n",
       "All        0.61  0.39  1.00"
      ]
     },
     "execution_count": 10,
     "metadata": {},
     "output_type": "execute_result"
    }
   ],
   "source": [
    "tabela_contingencia_normalizada = pd.crosstab(index=[df.Sexo], \n",
    "                                              columns=df.Candidato, margins=True, normalize=True)\n",
    "tabela_contingencia_normalizada"
   ]
  },
  {
   "cell_type": "code",
   "execution_count": 11,
   "id": "a3d9c168",
   "metadata": {},
   "outputs": [
    {
     "data": {
      "text/html": [
       "<div>\n",
       "<style scoped>\n",
       "    .dataframe tbody tr th:only-of-type {\n",
       "        vertical-align: middle;\n",
       "    }\n",
       "\n",
       "    .dataframe tbody tr th {\n",
       "        vertical-align: top;\n",
       "    }\n",
       "\n",
       "    .dataframe thead th {\n",
       "        text-align: right;\n",
       "    }\n",
       "</style>\n",
       "<table border=\"1\" class=\"dataframe\">\n",
       "  <thead>\n",
       "    <tr style=\"text-align: right;\">\n",
       "      <th>Candidato</th>\n",
       "      <th>A</th>\n",
       "      <th>B</th>\n",
       "      <th>All</th>\n",
       "    </tr>\n",
       "    <tr>\n",
       "      <th>Sexo</th>\n",
       "      <th></th>\n",
       "      <th></th>\n",
       "      <th></th>\n",
       "    </tr>\n",
       "  </thead>\n",
       "  <tbody>\n",
       "    <tr>\n",
       "      <th>F</th>\n",
       "      <td>34</td>\n",
       "      <td>18</td>\n",
       "      <td>52</td>\n",
       "    </tr>\n",
       "    <tr>\n",
       "      <th>M</th>\n",
       "      <td>27</td>\n",
       "      <td>21</td>\n",
       "      <td>48</td>\n",
       "    </tr>\n",
       "    <tr>\n",
       "      <th>All</th>\n",
       "      <td>61</td>\n",
       "      <td>39</td>\n",
       "      <td>100</td>\n",
       "    </tr>\n",
       "  </tbody>\n",
       "</table>\n",
       "</div>"
      ],
      "text/plain": [
       "Candidato   A   B  All\n",
       "Sexo                  \n",
       "F          34  18   52\n",
       "M          27  21   48\n",
       "All        61  39  100"
      ]
     },
     "execution_count": 11,
     "metadata": {},
     "output_type": "execute_result"
    }
   ],
   "source": [
    "tabela_contingencia = pd.crosstab(index=[df.Sexo], columns=df.Candidato, margins=True)\n",
    "tabela_contingencia"
   ]
  },
  {
   "cell_type": "markdown",
   "id": "b5935c0e",
   "metadata": {},
   "source": [
    "### 7.1.2 Sensibilidade e especificidade em testes de diagnóstico\n",
    "\n",
    "Um **teste de diagnóstico** é usado para detectar muitas condições médicas. Por exemplo, a mamografia pode detectar câncer de mama em mulheres e o antígeno prostático específico (PSA) pode detectar câncer de próstata em homens. Diz-se que o resultado de um teste de diagnóstico é **positivo** se afirma que a doença está **presente** e **negativo** se afirma que a doença está **ausente**. A precisão dos testes de diagnóstico é frequentemente avaliada com duas probabilidades condicionais: Dado que um indivíduo tem a doença, a probabilidade de o teste de diagnóstico ser positivo é chamado de **sensibilidade**. Dado que o sujeito não tem a doença, a probabilidade de o teste ser negativo é chamada de **especificidade**."
   ]
  },
  {
   "cell_type": "markdown",
   "id": "03d90ef2",
   "metadata": {},
   "source": [
    "**Exercício**\n",
    "\n",
    "A tabela teste_diagnostico.csv possui o resultado de uma pesquisa realizada com pacientes que realizaram um teste de COVID-19 a fim de verficiar a especificidade e a sensibilidade do teste. Dado que a coluna 'resultado_teste' indica o resultado do teste, onde: N = Negativo e P=Positivo. Já a coluna 'doente' indica se a pessoa estava (S) ou não (N) com a doença. Utilizando a biblioteca Pandas, calcule:\n",
    "\n",
    "A) A quantidade de pessoas que tiveram o teste positivo.\n",
    "\n",
    "B) A quantidade de pessoas que tiveram o teste negativo e não estavam doentes.\n",
    "\n",
    "C) A probabilidade de alguém que esteja saudável fazer este teste.\n",
    "\n",
    "D) A probabilidade de uma pessoa estar saudável e o teste indicar positivo.\n",
    "\n",
    "E) A especificidade e a sensibilidade deste teste."
   ]
  },
  {
   "cell_type": "code",
   "execution_count": 12,
   "id": "d4b19468",
   "metadata": {
    "scrolled": true
   },
   "outputs": [
    {
     "data": {
      "text/html": [
       "<div>\n",
       "<style scoped>\n",
       "    .dataframe tbody tr th:only-of-type {\n",
       "        vertical-align: middle;\n",
       "    }\n",
       "\n",
       "    .dataframe tbody tr th {\n",
       "        vertical-align: top;\n",
       "    }\n",
       "\n",
       "    .dataframe thead th {\n",
       "        text-align: right;\n",
       "    }\n",
       "</style>\n",
       "<table border=\"1\" class=\"dataframe\">\n",
       "  <thead>\n",
       "    <tr style=\"text-align: right;\">\n",
       "      <th>doente</th>\n",
       "      <th>N</th>\n",
       "      <th>S</th>\n",
       "      <th>All</th>\n",
       "    </tr>\n",
       "    <tr>\n",
       "      <th>resultado_teste</th>\n",
       "      <th></th>\n",
       "      <th></th>\n",
       "      <th></th>\n",
       "    </tr>\n",
       "  </thead>\n",
       "  <tbody>\n",
       "    <tr>\n",
       "      <th>N</th>\n",
       "      <td>114</td>\n",
       "      <td>19</td>\n",
       "      <td>133</td>\n",
       "    </tr>\n",
       "    <tr>\n",
       "      <th>P</th>\n",
       "      <td>4</td>\n",
       "      <td>150</td>\n",
       "      <td>154</td>\n",
       "    </tr>\n",
       "    <tr>\n",
       "      <th>All</th>\n",
       "      <td>118</td>\n",
       "      <td>169</td>\n",
       "      <td>287</td>\n",
       "    </tr>\n",
       "  </tbody>\n",
       "</table>\n",
       "</div>"
      ],
      "text/plain": [
       "doente             N    S  All\n",
       "resultado_teste               \n",
       "N                114   19  133\n",
       "P                  4  150  154\n",
       "All              118  169  287"
      ]
     },
     "execution_count": 12,
     "metadata": {},
     "output_type": "execute_result"
    }
   ],
   "source": [
    "df = pd.read_csv('teste_diagnostico.csv', sep=';')\n",
    "\n",
    "tabela_contingencia = pd.crosstab(index=[df.resultado_teste], columns=df.doente, margins=True)\n",
    "tabela_contingencia"
   ]
  },
  {
   "cell_type": "markdown",
   "id": "0bd532f5",
   "metadata": {},
   "source": [
    "A) 154 testaram positivo\n",
    "\n",
    "B) 114 pessoas testaram negativo e não estavam doente "
   ]
  },
  {
   "cell_type": "code",
   "execution_count": 13,
   "id": "ff58403b",
   "metadata": {
    "scrolled": true
   },
   "outputs": [
    {
     "data": {
      "text/html": [
       "<div>\n",
       "<style scoped>\n",
       "    .dataframe tbody tr th:only-of-type {\n",
       "        vertical-align: middle;\n",
       "    }\n",
       "\n",
       "    .dataframe tbody tr th {\n",
       "        vertical-align: top;\n",
       "    }\n",
       "\n",
       "    .dataframe thead th {\n",
       "        text-align: right;\n",
       "    }\n",
       "</style>\n",
       "<table border=\"1\" class=\"dataframe\">\n",
       "  <thead>\n",
       "    <tr style=\"text-align: right;\">\n",
       "      <th>doente</th>\n",
       "      <th>N</th>\n",
       "      <th>S</th>\n",
       "      <th>All</th>\n",
       "    </tr>\n",
       "    <tr>\n",
       "      <th>resultado_teste</th>\n",
       "      <th></th>\n",
       "      <th></th>\n",
       "      <th></th>\n",
       "    </tr>\n",
       "  </thead>\n",
       "  <tbody>\n",
       "    <tr>\n",
       "      <th>N</th>\n",
       "      <td>0.397213</td>\n",
       "      <td>0.066202</td>\n",
       "      <td>0.463415</td>\n",
       "    </tr>\n",
       "    <tr>\n",
       "      <th>P</th>\n",
       "      <td>0.013937</td>\n",
       "      <td>0.522648</td>\n",
       "      <td>0.536585</td>\n",
       "    </tr>\n",
       "    <tr>\n",
       "      <th>All</th>\n",
       "      <td>0.411150</td>\n",
       "      <td>0.588850</td>\n",
       "      <td>1.000000</td>\n",
       "    </tr>\n",
       "  </tbody>\n",
       "</table>\n",
       "</div>"
      ],
      "text/plain": [
       "doente                  N         S       All\n",
       "resultado_teste                              \n",
       "N                0.397213  0.066202  0.463415\n",
       "P                0.013937  0.522648  0.536585\n",
       "All              0.411150  0.588850  1.000000"
      ]
     },
     "execution_count": 13,
     "metadata": {},
     "output_type": "execute_result"
    }
   ],
   "source": [
    "tabela_contingencia_normalizada = pd.crosstab(index=[df.resultado_teste], columns=df.doente, margins=True, normalize=True)\n",
    "tabela_contingencia_normalizada"
   ]
  },
  {
   "cell_type": "markdown",
   "id": "fe4ba23b",
   "metadata": {},
   "source": [
    "C) A probabilidade de uma pessoa saudável fazer o teste é igual a 0.41\n",
    "\n",
    "D) A probabilidade de uma pessoa estar saudável e o teste indicar positivo é igual a 0.01"
   ]
  },
  {
   "cell_type": "code",
   "execution_count": 15,
   "id": "e8cc904a",
   "metadata": {
    "scrolled": true
   },
   "outputs": [
    {
     "name": "stdout",
     "output_type": "stream",
     "text": [
      "Especificidade: 96.61016949152543\n",
      "Sensibilidade: 88.75739644970415\n"
     ]
    }
   ],
   "source": [
    "especificidade = (tabela_contingencia_normalizada.loc['N']['N']/\n",
    "                  tabela_contingencia_normalizada.loc['All']['N'])\n",
    "\n",
    "sensibilidade = (tabela_contingencia_normalizada.loc['P']['S']/\n",
    "                 tabela_contingencia_normalizada.loc['All']['S'])\n",
    "\n",
    "print('Especificidade:',especificidade*100)\n",
    "print('Sensibilidade:',sensibilidade*100)"
   ]
  },
  {
   "cell_type": "markdown",
   "id": "bc481c9d",
   "metadata": {},
   "source": [
    "## 7.2 Risco Relativo\n",
    "\n",
    "Uma diferença entre duas proporções de um determinado tamanho fixo geralmente é mais importante quando ambas as proporções estão próximas de 0 ou 1 do que quando estão próximas do meio do intervalo. Considere uma comparação de dois medicamentos na proporção de indivíduos que tiveram efeitos adversos ao usar o medicamento. A diferença entre 0,010 e 0,001 é a mesma como a diferença entre 0,410 e 0,401, ou seja, 0,009.\n",
    "\n",
    "$$risco = \\frac{\\pi_1}{\\pi2}$$"
   ]
  },
  {
   "cell_type": "code",
   "execution_count": 18,
   "id": "4158ee8e",
   "metadata": {
    "scrolled": true
   },
   "outputs": [
    {
     "name": "stdout",
     "output_type": "stream",
     "text": [
      "10.0\n"
     ]
    }
   ],
   "source": [
    "#Caso 1\n",
    "A=0.010\n",
    "B=0.001\n",
    "\n",
    "risco_relativo = A/B\n",
    "\n",
    "print(risco_relativo)"
   ]
  },
  {
   "cell_type": "code",
   "execution_count": 20,
   "id": "822c618f",
   "metadata": {},
   "outputs": [
    {
     "name": "stdout",
     "output_type": "stream",
     "text": [
      "1.022443890274314\n"
     ]
    }
   ],
   "source": [
    "#Caso 2\n",
    "A=0.410\n",
    "B=0.401\n",
    "\n",
    "risco_relativo = A/B\n",
    "print(risco_relativo)"
   ]
  },
  {
   "cell_type": "markdown",
   "id": "5155491f",
   "metadata": {},
   "source": [
    "A primeira diferença é mais impressionante, uma vez que 10 vezes mais indivíduos tiveram reações adversas com um medicamento que o de outros. Nesses casos, a razão de proporções é uma medida descritiva mais relevante."
   ]
  },
  {
   "cell_type": "markdown",
   "id": "597f1d1b",
   "metadata": {},
   "source": [
    "## 7.3 Independência entre variáveis\n",
    "\n",
    "Diz-se que duas variáveis são estatisticamente independentes se as populações condicionais de Y são idênticas em cada nível de X. Quando duas variáveis são independentes, a probabilidade de qualquer resultado específico da coluna j é a mesma em cada linha.\n",
    "       \n",
    "Sexo Eleitor |  Candidato A  | Candidato B  |\n",
    "-------------|:-------------:|:------------:|     \n",
    "M            |  34           |  46          |\n",
    "F            |  34           |  46          |"
   ]
  },
  {
   "cell_type": "markdown",
   "id": "495fac90",
   "metadata": {},
   "source": [
    "## 7.4 Teste Qui-quadrado\n",
    "\n",
    "O teste qui-quadrado é usado com dados de contagem para testar o quão bem eles se ajustam em algumas distribuições esperadas. O uso mais comum da estatística qui-quadrado em estatística\n",
    "prática é com tabelas de contingência, para avaliar se a hipótese nula de independência entre as variáveis é razoável.\n",
    "\n",
    "$$H_0: \\text{As variáveis são independentes.}$$\n",
    "$$H_1: \\text{As variáveis são dependentes.}$$"
   ]
  },
  {
   "cell_type": "markdown",
   "id": "8c341d16",
   "metadata": {},
   "source": [
    "**Exemplo**\n",
    "\n",
    "Suponha que você trabalha em site de notícias e esteja querendo descobrir a manchete que vai despertar o maior interesse nos visitantes do site. Para isso você testa três manchetes diferentes – A, B e C – com 1.000 visitantes para cada manchete e registra quantos cliques cada uma recebeu. O resultado deste teste pode ser observado na tabela abaixo."
   ]
  },
  {
   "cell_type": "code",
   "execution_count": 22,
   "id": "04064fc3",
   "metadata": {
    "scrolled": false
   },
   "outputs": [
    {
     "data": {
      "text/html": [
       "<div>\n",
       "<style scoped>\n",
       "    .dataframe tbody tr th:only-of-type {\n",
       "        vertical-align: middle;\n",
       "    }\n",
       "\n",
       "    .dataframe tbody tr th {\n",
       "        vertical-align: top;\n",
       "    }\n",
       "\n",
       "    .dataframe thead th {\n",
       "        text-align: right;\n",
       "    }\n",
       "</style>\n",
       "<table border=\"1\" class=\"dataframe\">\n",
       "  <thead>\n",
       "    <tr style=\"text-align: right;\">\n",
       "      <th></th>\n",
       "      <th>Headline</th>\n",
       "      <th>Click</th>\n",
       "      <th>Rate</th>\n",
       "    </tr>\n",
       "  </thead>\n",
       "  <tbody>\n",
       "    <tr>\n",
       "      <th>0</th>\n",
       "      <td>Headline A</td>\n",
       "      <td>Click</td>\n",
       "      <td>14</td>\n",
       "    </tr>\n",
       "    <tr>\n",
       "      <th>1</th>\n",
       "      <td>Headline A</td>\n",
       "      <td>No-click</td>\n",
       "      <td>986</td>\n",
       "    </tr>\n",
       "    <tr>\n",
       "      <th>2</th>\n",
       "      <td>Headline B</td>\n",
       "      <td>Click</td>\n",
       "      <td>8</td>\n",
       "    </tr>\n",
       "    <tr>\n",
       "      <th>3</th>\n",
       "      <td>Headline B</td>\n",
       "      <td>No-click</td>\n",
       "      <td>992</td>\n",
       "    </tr>\n",
       "    <tr>\n",
       "      <th>4</th>\n",
       "      <td>Headline C</td>\n",
       "      <td>Click</td>\n",
       "      <td>12</td>\n",
       "    </tr>\n",
       "    <tr>\n",
       "      <th>5</th>\n",
       "      <td>Headline C</td>\n",
       "      <td>No-click</td>\n",
       "      <td>988</td>\n",
       "    </tr>\n",
       "  </tbody>\n",
       "</table>\n",
       "</div>"
      ],
      "text/plain": [
       "     Headline     Click  Rate\n",
       "0  Headline A     Click    14\n",
       "1  Headline A  No-click   986\n",
       "2  Headline B     Click     8\n",
       "3  Headline B  No-click   992\n",
       "4  Headline C     Click    12\n",
       "5  Headline C  No-click   988"
      ]
     },
     "execution_count": 22,
     "metadata": {},
     "output_type": "execute_result"
    }
   ],
   "source": [
    "df = pd.read_csv('click_rate.csv', sep=';')\n",
    "df.head(10)"
   ]
  },
  {
   "cell_type": "code",
   "execution_count": 23,
   "id": "cb4a5bff",
   "metadata": {},
   "outputs": [
    {
     "data": {
      "text/html": [
       "<div>\n",
       "<style scoped>\n",
       "    .dataframe tbody tr th:only-of-type {\n",
       "        vertical-align: middle;\n",
       "    }\n",
       "\n",
       "    .dataframe tbody tr th {\n",
       "        vertical-align: top;\n",
       "    }\n",
       "\n",
       "    .dataframe thead th {\n",
       "        text-align: right;\n",
       "    }\n",
       "</style>\n",
       "<table border=\"1\" class=\"dataframe\">\n",
       "  <thead>\n",
       "    <tr style=\"text-align: right;\">\n",
       "      <th>Headline</th>\n",
       "      <th>Headline A</th>\n",
       "      <th>Headline B</th>\n",
       "      <th>Headline C</th>\n",
       "    </tr>\n",
       "    <tr>\n",
       "      <th>Click</th>\n",
       "      <th></th>\n",
       "      <th></th>\n",
       "      <th></th>\n",
       "    </tr>\n",
       "  </thead>\n",
       "  <tbody>\n",
       "    <tr>\n",
       "      <th>Click</th>\n",
       "      <td>14</td>\n",
       "      <td>8</td>\n",
       "      <td>12</td>\n",
       "    </tr>\n",
       "    <tr>\n",
       "      <th>No-click</th>\n",
       "      <td>986</td>\n",
       "      <td>992</td>\n",
       "      <td>988</td>\n",
       "    </tr>\n",
       "  </tbody>\n",
       "</table>\n",
       "</div>"
      ],
      "text/plain": [
       "Headline  Headline A  Headline B  Headline C\n",
       "Click                                       \n",
       "Click             14           8          12\n",
       "No-click         986         992         988"
      ]
     },
     "execution_count": 23,
     "metadata": {},
     "output_type": "execute_result"
    }
   ],
   "source": [
    "tabela_observada = pd.pivot_table(df, values='Rate', index=['Click'],columns=['Headline'])\n",
    "tabela_observada"
   ]
  },
  {
   "cell_type": "markdown",
   "id": "1d75f68c",
   "metadata": {},
   "source": [
    "Com este resultado, você acha que as manchetes tiveram resultados diferentes?"
   ]
  },
  {
   "cell_type": "markdown",
   "id": "68e71653",
   "metadata": {},
   "source": [
    "O teste Qui-quadrado é capaz de testar se as taxas de clique diferem em uma extensão maior do que o acaso pode causar. Ou seja, se os resultados são de fato diferentes ou as diferenças observadas foram geradas pela aleatoriedade da amostra."
   ]
  },
  {
   "cell_type": "markdown",
   "id": "27624e95",
   "metadata": {},
   "source": [
    "* **Distribuição esperada**\n",
    "\n",
    "Para este teste, precisamos ter a distribuição “esperada” de cliques e, nesse caso, isso estaria sob a suposição da hipótese nula de que todos os três títulos compartilham a mesma taxa de cliques. Sob essa premissa, nossa tabela de contingência seria. "
   ]
  },
  {
   "cell_type": "code",
   "execution_count": 24,
   "id": "affa02f2",
   "metadata": {
    "scrolled": true
   },
   "outputs": [
    {
     "data": {
      "text/html": [
       "<div>\n",
       "<style scoped>\n",
       "    .dataframe tbody tr th:only-of-type {\n",
       "        vertical-align: middle;\n",
       "    }\n",
       "\n",
       "    .dataframe tbody tr th {\n",
       "        vertical-align: top;\n",
       "    }\n",
       "\n",
       "    .dataframe thead th {\n",
       "        text-align: right;\n",
       "    }\n",
       "</style>\n",
       "<table border=\"1\" class=\"dataframe\">\n",
       "  <thead>\n",
       "    <tr style=\"text-align: right;\">\n",
       "      <th></th>\n",
       "      <th>Headline A</th>\n",
       "      <th>Headline B</th>\n",
       "      <th>Headline C</th>\n",
       "    </tr>\n",
       "  </thead>\n",
       "  <tbody>\n",
       "    <tr>\n",
       "      <th>Click</th>\n",
       "      <td>11.33</td>\n",
       "      <td>11.33</td>\n",
       "      <td>11.33</td>\n",
       "    </tr>\n",
       "    <tr>\n",
       "      <th>No-click</th>\n",
       "      <td>988.67</td>\n",
       "      <td>988.67</td>\n",
       "      <td>988.67</td>\n",
       "    </tr>\n",
       "  </tbody>\n",
       "</table>\n",
       "</div>"
      ],
      "text/plain": [
       "          Headline A  Headline B  Headline C\n",
       "Click          11.33       11.33       11.33\n",
       "No-click      988.67      988.67      988.67"
      ]
     },
     "execution_count": 24,
     "metadata": {},
     "output_type": "execute_result"
    }
   ],
   "source": [
    "tabela_esperada = pd.DataFrame(data={'Headline A':[11.33,988.67],'Headline B':[11.33,988.67],\n",
    "                                 'Headline C':[11.33,988.67]},index=['Click','No-click'])\n",
    "tabela_esperada.head()"
   ]
  },
  {
   "cell_type": "markdown",
   "id": "c2a366c9",
   "metadata": {},
   "source": [
    "* **O Resíduo de Pearson**\n",
    "\n",
    "Este resíduo indica a quantia que a contagem real difere da contagem esprada.\n",
    "\n",
    "$$R_{ij} = \\frac{Observado_{ij} - Esperado_{ij}}{\\sqrt{Esperado_{ij}}}$$\n",
    "\n",
    "onde i é a linha e j a coluna.\n",
    "\n",
    "A tabela de contigência dos resíduos para o nosso problema seria:"
   ]
  },
  {
   "cell_type": "code",
   "execution_count": 25,
   "id": "b1c2b188",
   "metadata": {
    "scrolled": false
   },
   "outputs": [
    {
     "data": {
      "text/html": [
       "<div>\n",
       "<style scoped>\n",
       "    .dataframe tbody tr th:only-of-type {\n",
       "        vertical-align: middle;\n",
       "    }\n",
       "\n",
       "    .dataframe tbody tr th {\n",
       "        vertical-align: top;\n",
       "    }\n",
       "\n",
       "    .dataframe thead th {\n",
       "        text-align: right;\n",
       "    }\n",
       "</style>\n",
       "<table border=\"1\" class=\"dataframe\">\n",
       "  <thead>\n",
       "    <tr style=\"text-align: right;\">\n",
       "      <th>Headline</th>\n",
       "      <th>Headline A</th>\n",
       "      <th>Headline B</th>\n",
       "      <th>Headline C</th>\n",
       "    </tr>\n",
       "    <tr>\n",
       "      <th>Click</th>\n",
       "      <th></th>\n",
       "      <th></th>\n",
       "      <th></th>\n",
       "    </tr>\n",
       "  </thead>\n",
       "  <tbody>\n",
       "    <tr>\n",
       "      <th>Click</th>\n",
       "      <td>0.793225</td>\n",
       "      <td>-0.989303</td>\n",
       "      <td>0.199049</td>\n",
       "    </tr>\n",
       "    <tr>\n",
       "      <th>No-click</th>\n",
       "      <td>-0.084915</td>\n",
       "      <td>0.105906</td>\n",
       "      <td>-0.021308</td>\n",
       "    </tr>\n",
       "  </tbody>\n",
       "</table>\n",
       "</div>"
      ],
      "text/plain": [
       "Headline  Headline A  Headline B  Headline C\n",
       "Click                                       \n",
       "Click       0.793225   -0.989303    0.199049\n",
       "No-click   -0.084915    0.105906   -0.021308"
      ]
     },
     "execution_count": 25,
     "metadata": {},
     "output_type": "execute_result"
    }
   ],
   "source": [
    "import numpy as np\n",
    "tabela_residuos = (tabela_observada - tabela_esperada) / np.sqrt(tabela_esperada)\n",
    "tabela_residuos.head()"
   ]
  },
  {
   "cell_type": "markdown",
   "id": "9183e9b4",
   "metadata": {},
   "source": [
    "Assim, a estatística qui-quadrada é definida como a soma dos resíduos de Pearson ao quadrado.\n",
    "\n",
    "$$\\chi^2_{obs} = \\sum_i^r \\sum_j^c R_{ij}^2$$\n",
    "\n",
    "onde r é o número de linhas e c o número de colunas da tabela."
   ]
  },
  {
   "cell_type": "code",
   "execution_count": 26,
   "id": "61c3ce37",
   "metadata": {
    "scrolled": true
   },
   "outputs": [
    {
     "data": {
      "text/plain": [
       "1.6664269545530739"
      ]
     },
     "execution_count": 26,
     "metadata": {},
     "output_type": "execute_result"
    }
   ],
   "source": [
    "tabela_residuos_quadrado = tabela_residuos**2\n",
    "tabela_residuos_quadrado.values.sum()"
   ]
  },
  {
   "cell_type": "markdown",
   "id": "b3056d29",
   "metadata": {},
   "source": [
    "Dado a nossa estística ${\\chi_{obs}}^2$ e um nível de significância $\\alpha$, podemos calcular o p-value do teste.\n",
    "\n",
    "\\\\[ \\mbox{p-valor}=P[\\chi^2_{obs}\\geq \\chi^2_{\\alpha;dof}|H_0] \\\\]\n",
    "\n",
    "onde o degrees of freedom (dof) é um parâmetro da distribuição qui-quadrado e é calculado por $(r-1) \\times (c-1).$"
   ]
  },
  {
   "cell_type": "markdown",
   "id": "a27510bb",
   "metadata": {},
   "source": [
    "Por fim, temos\n",
    "\n",
    "* Se o $\\text{p-value} > \\alpha$: as variáveis são independentes, a hipótese nula $(H_0)$ é verdadeira.\n",
    "\n",
    "* Caso contrário: as variáveis são dependentes, a hipótese nula $(H_0)$ deve ser rejeitada.\n",
    "\n",
    "Para o nosso exemplo, a hipótese nula diz que as quantidades de cliques são independentes das manchetes. "
   ]
  },
  {
   "cell_type": "markdown",
   "id": "2842ed91",
   "metadata": {},
   "source": [
    "Utilizando o Python:"
   ]
  },
  {
   "cell_type": "code",
   "execution_count": 29,
   "id": "f5988142",
   "metadata": {
    "scrolled": false
   },
   "outputs": [
    {
     "name": "stdout",
     "output_type": "stream",
     "text": [
      "estatistica: 1.666426954553074\n",
      "p-valor: 0.6444234621892968\n"
     ]
    }
   ],
   "source": [
    "from scipy.stats import chisquare\n",
    "from scipy.stats import chi2\n",
    "\n",
    "alpha = 0.05\n",
    "prob = 1 - alpha\n",
    "ddof = 2\n",
    "\n",
    "stat, p = chisquare(tabela_observada,tabela_esperada,axis=None,ddof=ddof)\n",
    "\n",
    "print('estatistica:',stat)\n",
    "print('p-valor:', p)"
   ]
  },
  {
   "cell_type": "code",
   "execution_count": 31,
   "id": "2ffb20ac",
   "metadata": {},
   "outputs": [
    {
     "name": "stdout",
     "output_type": "stream",
     "text": [
      "Significancia=0.050, p=0.644\n",
      "Independentes (falha ao rejeitar H0)\n",
      "confiança=0.950, critical=5.991, stat=1.666\n",
      "Independentes (falha ao rejeitar H0)\n"
     ]
    }
   ],
   "source": [
    "# Interpretando o p-value\n",
    "\n",
    "print('Significancia=%.3f, p=%.3f' % (alpha, p))\n",
    "\n",
    "if p <= alpha:\n",
    "    print('Dependentes(rejeitar H0)')\n",
    "else:\n",
    "    print('Independentes (falha ao rejeitar H0)')\n",
    "\n",
    "# Interpretando a estatistica do teste\n",
    "critical = chi2.ppf(prob, ddof)\n",
    "\n",
    "print('confiança=%.3f, critical=%.3f, stat=%.3f' % (prob, critical, stat))\n",
    "if abs(stat) >= critical:\n",
    "    print('Dependentes (rejeitar H0)')\n",
    "else:\n",
    "    print('Independentes (falha ao rejeitar H0)')"
   ]
  },
  {
   "cell_type": "markdown",
   "id": "d4b35e22",
   "metadata": {},
   "source": [
    "**Exercício:**\n",
    "\n",
    "Foi realizada uma pesquisa para tentar entender o principal interesse dos alunos de uma escola em 3 áreas: Artes, Matemática e Ciências. Os dados foram separados entre meninos e meninas de acordo com a tabela abaixo:"
   ]
  },
  {
   "cell_type": "code",
   "execution_count": 3,
   "id": "cb097d45",
   "metadata": {
    "scrolled": true
   },
   "outputs": [
    {
     "data": {
      "text/html": [
       "<div>\n",
       "<style scoped>\n",
       "    .dataframe tbody tr th:only-of-type {\n",
       "        vertical-align: middle;\n",
       "    }\n",
       "\n",
       "    .dataframe tbody tr th {\n",
       "        vertical-align: top;\n",
       "    }\n",
       "\n",
       "    .dataframe thead th {\n",
       "        text-align: right;\n",
       "    }\n",
       "</style>\n",
       "<table border=\"1\" class=\"dataframe\">\n",
       "  <thead>\n",
       "    <tr style=\"text-align: right;\">\n",
       "      <th></th>\n",
       "      <th>Artes</th>\n",
       "      <th>Matemática</th>\n",
       "      <th>Ciência</th>\n",
       "    </tr>\n",
       "  </thead>\n",
       "  <tbody>\n",
       "    <tr>\n",
       "      <th>meninos</th>\n",
       "      <td>20</td>\n",
       "      <td>30</td>\n",
       "      <td>20</td>\n",
       "    </tr>\n",
       "    <tr>\n",
       "      <th>meninas</th>\n",
       "      <td>20</td>\n",
       "      <td>25</td>\n",
       "      <td>25</td>\n",
       "    </tr>\n",
       "  </tbody>\n",
       "</table>\n",
       "</div>"
      ],
      "text/plain": [
       "         Artes  Matemática  Ciência\n",
       "meninos     20          30       20\n",
       "meninas     20          25       25"
      ]
     },
     "execution_count": 3,
     "metadata": {},
     "output_type": "execute_result"
    }
   ],
   "source": [
    "import pandas as pd\n",
    "tabela = pd.DataFrame(data={'Artes':[20,20],'Matemática':[30,25],\n",
    "                                 'Ciência':[20,25]},index=['meninos','meninas'])\n",
    "tabela"
   ]
  },
  {
   "cell_type": "markdown",
   "id": "bafeb50e",
   "metadata": {},
   "source": [
    "Utilizando o teste Qui-quadrado, verifique se a área de interesse possuem relação com o sexo dos alunos."
   ]
  },
  {
   "cell_type": "code",
   "execution_count": null,
   "id": "cf156a84",
   "metadata": {},
   "outputs": [],
   "source": []
  },
  {
   "cell_type": "markdown",
   "id": "615abf94",
   "metadata": {},
   "source": [
    "Referências:\n",
    "\n",
    "* A. Agresti (1996). An Introduction to Categorical Data Analysis. An Introduction to Categorical Data Analysis. John Wiley & Sons, Inc.\n",
    "* [Tabela de Contingência - Profª Carla Silva da Silva](https://www.youtube.com/watch?v=eDBnyH0I1Lo)\n",
    "* Pratical Statistics for Data Scientists\n",
    "* [A Gentle Introduction to the Chi-Squared Test for Machine Learning](https://machinelearningmastery.com/chi-squared-test-for-machine-learning/)"
   ]
  }
 ],
 "metadata": {
  "kernelspec": {
   "display_name": "Python 3",
   "language": "python",
   "name": "python3"
  },
  "language_info": {
   "codemirror_mode": {
    "name": "ipython",
    "version": 3
   },
   "file_extension": ".py",
   "mimetype": "text/x-python",
   "name": "python",
   "nbconvert_exporter": "python",
   "pygments_lexer": "ipython3",
   "version": "3.8.8"
  }
 },
 "nbformat": 4,
 "nbformat_minor": 5
}
