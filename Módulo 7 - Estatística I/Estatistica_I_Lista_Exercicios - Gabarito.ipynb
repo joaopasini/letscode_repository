{
 "cells": [
  {
   "cell_type": "markdown",
   "id": "ab3dfefb",
   "metadata": {
    "id": "ab3dfefb"
   },
   "source": [
    "# Exercícios"
   ]
  },
  {
   "cell_type": "code",
   "execution_count": null,
   "id": "843baa73-a5e2-4c08-a5e3-2c402e8f1a43",
   "metadata": {
    "id": "843baa73-a5e2-4c08-a5e3-2c402e8f1a43"
   },
   "outputs": [],
   "source": [
    "import numpy as np\n",
    "import pandas as pd\n",
    "import random"
   ]
  },
  {
   "cell_type": "markdown",
   "id": "f9102e3c",
   "metadata": {
    "id": "f9102e3c"
   },
   "source": [
    "## Questão 1 \n",
    "\n",
    "Na casa da Luiza tem um pote de balas de diferentes cores. Certo dia a pessoa responsável por ele contou quantas balas tinha de cada uma das cores:\n",
    "\n",
    "    - 14 balas azuis;\n",
    "    - 22 balas vermelhas;\n",
    "    - 17 balas amarelas.\n",
    "\n",
    "Essa pessoa deixou que ele pegasse 3 balas. Qual a probabilidade da Luiza pegar uma bala de cada na ordem da contagem (azul, vermelha e amarela), dado que é um evento sem reposição?"
   ]
  },
  {
   "cell_type": "code",
   "execution_count": 11,
   "id": "6691a0a0-f220-4a7a-bb01-c5f537de45eb",
   "metadata": {
    "id": "6691a0a0-f220-4a7a-bb01-c5f537de45eb",
    "outputId": "7b6a2adc-3743-4b5b-ab67-837f212a3935"
   },
   "outputs": [
    {
     "name": "stdout",
     "output_type": "stream",
     "text": [
      "A probabilidade da Luiza pegar uma bala de cada cor é igual a 3.73%\n"
     ]
    }
   ],
   "source": [
    "p_azul = 14/53\n",
    "p_vermelha = 22/52\n",
    "p_amarela = 17/51\n",
    "\n",
    "p = p_azul * p_vermelha * p_amarela\n",
    "\n",
    "print(f'A probabilidade da Luiza pegar uma bala de cada cor é igual a {p*100:.2f}%')"
   ]
  },
  {
   "cell_type": "markdown",
   "id": "9b42655a",
   "metadata": {
    "id": "9b42655a"
   },
   "source": [
    "## Questão 2\n",
    "A probabilidade de dado honesto é conhecido e igual a $1/6$, mas quando vamos testar isso com um dado físico, não necessariamente vai cair uma vez cada face do dado (se eu lançar ele 6 vezes). A ideia é que conforme fazermos vários testes a tendência é que a probabilidade de cada face irá convergir pro valor esperado. \n",
    "\n",
    "Vamos testar este conceito utilizando da programação seguintes os itens abaixo:\n",
    "\n",
    "__A)__ Desenvolva uma função que receba um valor n, onde n é a quantidade de elementos e o objetivo da função é retorna uma _Series_ com k elementos sendo esses elementos números variando de 1 e 6;\n",
    "\n",
    "__B)__ Teste a função para n igual a 10, 100, 1.000, 10.000 e 100.000 casos e para cada um deles calcule a proporção de vezes que aparece cada número;\n",
    "\n",
    "__DIca.:__ utilize a função do _Pandas_ `.value_counts`\n",
    "\n",
    "__C)__ O que podermos dizer sobre a afirmação do enunciado, a tendência é que as probabilidades irâo convergir para $1/6$?"
   ]
  },
  {
   "cell_type": "code",
   "execution_count": null,
   "id": "5749d309-eb26-477f-922a-0e6f45426e55",
   "metadata": {
    "id": "5749d309-eb26-477f-922a-0e6f45426e55",
    "outputId": "8ee7fb10-f1de-4571-f078-2308dc7d89c4"
   },
   "outputs": [
    {
     "name": "stdout",
     "output_type": "stream",
     "text": [
      "4    0.3\n",
      "1    0.2\n",
      "3    0.2\n",
      "2    0.1\n",
      "5    0.1\n",
      "6    0.1\n",
      "dtype: float64\n",
      "1    0.20\n",
      "4    0.19\n",
      "6    0.18\n",
      "5    0.17\n",
      "2    0.13\n",
      "3    0.13\n",
      "dtype: float64\n",
      "4    0.183\n",
      "2    0.182\n",
      "3    0.171\n",
      "5    0.169\n",
      "1    0.153\n",
      "6    0.142\n",
      "dtype: float64\n",
      "5    0.1722\n",
      "6    0.1715\n",
      "1    0.1696\n",
      "3    0.1656\n",
      "2    0.1613\n",
      "4    0.1598\n",
      "dtype: float64\n",
      "5    0.16782\n",
      "3    0.16701\n",
      "1    0.16683\n",
      "6    0.16641\n",
      "2    0.16621\n",
      "4    0.16572\n",
      "dtype: float64\n"
     ]
    }
   ],
   "source": [
    "def rand_dado(n):\n",
    "    return np.random.randint(1,7,n)\n",
    "\n",
    "for i in [10,100,1000,10000,100000]:\n",
    "    series = pd.Series(rand_dado(i))\n",
    "    print(series.value_counts(normalize=True))"
   ]
  },
  {
   "cell_type": "markdown",
   "id": "723953d4-0369-44e2-89de-85cbb6011e64",
   "metadata": {
    "id": "723953d4-0369-44e2-89de-85cbb6011e64"
   },
   "source": [
    "## Questão 3\n",
    "Seja X uma v.a. que representa o valor observado num dado não viesado.\n",
    "\n",
    "    1. Descreva quem é a distribuição de probabilidade de X\n",
    "    2. Calcule $E(X)$\n",
    "    3. Calcule $Var(X)$"
   ]
  },
  {
   "cell_type": "markdown",
   "id": "66b86f96-33a4-4ec8-b634-46299190fc47",
   "metadata": {
    "id": "66b86f96-33a4-4ec8-b634-46299190fc47"
   },
   "source": [
    "1. \n",
    "\n",
    "|Valores de X| Probabilidade|\n",
    "|:---:|:---:|\n",
    "|1|$\\frac{1}{6}$|\n",
    "|2|$\\frac{1}{6}$|\n",
    "|3|$\\frac{1}{6}$|\n",
    "|4|$\\frac{1}{6}$|\n",
    "|5|$\\frac{1}{6}$|\n",
    "|6|$\\frac{1}{6}$|\n",
    "\n",
    "2. \n",
    "\n",
    "$$E(X) = \\frac{1}{6}*(1+2+3+4+5+6) = \\frac{21}{6} = \\frac{7}{2} = 3.5$$\n",
    "\n",
    "3.\n",
    "\n",
    "|Valores de X|<div style=\"width:290px\">Valores de $(X - E(X))^2$</div>| Probabilidade|\n",
    "|:---:|:---:|:---:|\n",
    "|1|$(1-3.5)^2 = 6.25$ | $\\frac{1}{6}$|\n",
    "|2|$(2-3.5)^2 = 2.25$ | $\\frac{1}{6}$|\n",
    "|3|$(3-3.5)^2 = 0.25$ | $\\frac{1}{6}$|\n",
    "|4|$(4-3.5)^2 = 0.25$ | $\\frac{1}{6}$|\n",
    "|5|$(5-3.5)^2 = 2.25$ | $\\frac{1}{6}$|\n",
    "|6|$(6-3.5)^2 = 6.25$ | $\\frac{1}{6}$|\n",
    "\n",
    "$$Var(X) = E[(X - E(X))^2] = \\frac{2}{6}*(6.25 + 2.25 + 0.25) = \\frac{8.75}{3} \\approx 2.916$$\n",
    "\n",
    "e portanto\n",
    "\n",
    "$$SD(X) = \\sqrt{2.916} \\approx 1.71$$"
   ]
  },
  {
   "cell_type": "code",
   "execution_count": null,
   "id": "e2f86903-f7c2-459f-a681-5509ac6e63ad",
   "metadata": {
    "id": "e2f86903-f7c2-459f-a681-5509ac6e63ad",
    "outputId": "4650bd18-9f12-4ede-d90b-8270041f8439"
   },
   "outputs": [
    {
     "name": "stdout",
     "output_type": "stream",
     "text": [
      "Esp: 3.5000000000000004\n",
      "var: 2.916666666666667\n"
     ]
    }
   ],
   "source": [
    "x = np.array(range(6))+1\n",
    "prob = np.ones(6)/6\n",
    "esp = np.average(x, weights=prob)\n",
    "var = np.average((x-esp)**2, weights = prob)\n",
    "\n",
    "print(\"Esp:\", esp)\n",
    "print(\"var:\", var)"
   ]
  },
  {
   "cell_type": "markdown",
   "id": "82372fbf-b5eb-434f-8aed-b85bbd3641b0",
   "metadata": {
    "id": "82372fbf-b5eb-434f-8aed-b85bbd3641b0"
   },
   "source": [
    "## Questão 4\n",
    "Seja X uma v.a. que representa a compra de um ativo (X = 1) ou a não compra de um ativo (X = 0) em que o sucesso da compra tem 90% de probabilidade.\n",
    "\n",
    "    1. Descreva quem é a distribuição de probabilidade de X\n",
    "    2. Calcule $E(X)$\n",
    "    3. Calcule $Var(X)$\n",
    "    \n",
    "1. \n",
    "\n",
    "|Valores de X| Probabilidade|\n",
    "|:---:|:---:|\n",
    "|0|0.1|\n",
    "|1|0.9|\n",
    "\n",
    "2. \n",
    "\n",
    "$$E(X) = 0*0.1 + 1*0.9 = 0.9$$\n",
    "\n",
    "3.\n",
    "\n",
    "|Valores de X|<div style=\"width:290px\">Valores de $(X - E(X))^2$</div>| Probabilidade|\n",
    "|:---:|:---:|:---:|\n",
    "|0|$(0-0.9)^2 = 0.81$|0.1|\n",
    "|1|$(1-0.9)^2 = 0.01$|0.9|\n",
    "\n",
    "$$Var(X) = E[(X - E(X))^2] = 0.81*0.1 + 0.01*0.9= 0.09$$"
   ]
  },
  {
   "cell_type": "code",
   "execution_count": null,
   "id": "2cf3d9b3-8ee8-4324-ac44-72e939cb8a3a",
   "metadata": {
    "id": "2cf3d9b3-8ee8-4324-ac44-72e939cb8a3a",
    "outputId": "3e1ca8e9-bcd6-40b3-986e-1668c3eea32a"
   },
   "outputs": [
    {
     "name": "stdout",
     "output_type": "stream",
     "text": [
      "Esp: 0.9\n",
      "var: 0.09000000000000001\n"
     ]
    }
   ],
   "source": [
    "x = np.array([0,1])\n",
    "prob = np.array([0.1, 0.9])\n",
    "esp = np.average(x, weights=prob)\n",
    "var = np.average((x-esp)**2, weights = prob)\n",
    "\n",
    "print(\"Esp:\", esp)\n",
    "print(\"var:\", var)"
   ]
  },
  {
   "cell_type": "markdown",
   "id": "4a12dfd0-7697-45fa-9117-06986f5334a0",
   "metadata": {
    "id": "4a12dfd0-7697-45fa-9117-06986f5334a0"
   },
   "source": [
    "## Questão 5\n",
    "Uma relação bem importante entre uma população e uma amostra, é que uma amostra pode ser significativa daquela população (ou seja, podemos inferir que a média e variância da amostra será bem próximo do valor real da população), isto quando essa amostra for grande o suficiente para isso. Vamos fazer algumas simulações utilizando o _Python_ para testar esses conceicos, resolvendo os itens a seguir:\n",
    "\n",
    "__A)__ Crie uma lista com número aleatórios entre 20 e 50 e que essa lista contenham 1 milhão de elementos;\n",
    "\n",
    "__B)__ Calcule a média e a variância para essa lista;\n",
    "\n",
    "__C)__ Faça amostra aleatórias de diversos tamanhos (10, 100, 1.000 e 10.000 elementos) e calcule as mesmas métricas que o item anterior, para avaliar o conceito proposto no enunciado\n",
    "\n",
    "**Dica**: utiliza o método _sample_ do pacote _random_ para fazer a seleção da amostra"
   ]
  },
  {
   "cell_type": "code",
   "execution_count": null,
   "id": "f5ea4272-868a-41ad-801c-94d8570e8676",
   "metadata": {
    "id": "f5ea4272-868a-41ad-801c-94d8570e8676",
    "outputId": "c9fe42f8-4331-411e-e6aa-55f758696c38"
   },
   "outputs": [
    {
     "data": {
      "text/plain": [
       "[26, 39, 48, 34, 30]"
      ]
     },
     "execution_count": 22,
     "metadata": {},
     "output_type": "execute_result"
    }
   ],
   "source": [
    "#A\n",
    "\n",
    "# Define uma semente aleatória\n",
    "np.random.seed(42)\n",
    "\n",
    "# tamanho da população\n",
    "n = 1000000\n",
    "\n",
    "# Criando a população\n",
    "pop = list(np.random.randint(20, 50+1, size = n))\n",
    "\n",
    "# Print de 5 elementos da população\n",
    "pop[:5]# Verificando elemento máximo:\n",
    "max(pop)"
   ]
  },
  {
   "cell_type": "code",
   "execution_count": null,
   "id": "88973b2d-3db6-4cf4-b516-fc7de9e3fb6e",
   "metadata": {
    "id": "88973b2d-3db6-4cf4-b516-fc7de9e3fb6e",
    "outputId": "06124292-dc18-4091-c9c1-91c9dd927313"
   },
   "outputs": [
    {
     "name": "stdout",
     "output_type": "stream",
     "text": [
      "Métricas da População: \n",
      "Média:      34.49\n",
      "Variância:  74.89\n"
     ]
    }
   ],
   "source": [
    "#B\n",
    "\n",
    "# Print das metricas da população\n",
    "print(\"Métricas da População: \")\n",
    "print('Média:     ', np.round(np.mean(pop),2))\n",
    "print('Variância: ', np.round(np.var(pop),2))"
   ]
  },
  {
   "cell_type": "code",
   "execution_count": null,
   "id": "9116825b-144e-4c40-b93f-db532ec03304",
   "metadata": {
    "id": "9116825b-144e-4c40-b93f-db532ec03304",
    "outputId": "18c1b6c5-8693-4d55-963c-56767debb816"
   },
   "outputs": [
    {
     "name": "stdout",
     "output_type": "stream",
     "text": [
      "Amostra com 10 elementos\n",
      "Média:      31.3\n",
      "Variância:  73.41\n",
      "=================================\n",
      "Amostra com 100 elementos\n",
      "Média:      33.75\n",
      "Variância:  75.93\n",
      "=================================\n",
      "Amostra com 1000 elementos\n",
      "Média:      34.53\n",
      "Variância:  73.79\n",
      "=================================\n",
      "Amostra com 10000 elementos\n",
      "Média:      34.42\n",
      "Variância:  75.4\n",
      "=================================\n"
     ]
    }
   ],
   "source": [
    "#C\n",
    "\n",
    "# Import da biblioteca random para os samples\n",
    "import random\n",
    "\n",
    "# Cria uma lista com os diversos tamanhos de amostras\n",
    "n_amostras = [10, 100, 1000, 10000]\n",
    "\n",
    "# Loop para fazer a amostra aleatória e calcular as métricas\n",
    "for n in n_amostras:\n",
    "    amostra = list(random.sample(pop, n))\n",
    "    print('Amostra com {} elementos'.format(n))\n",
    "    print('Média:     ', np.round(np.mean(amostra),2))\n",
    "    print('Variância: ', np.round(np.var(amostra),2))\n",
    "    print('=================================')"
   ]
  },
  {
   "cell_type": "markdown",
   "id": "f36953b8",
   "metadata": {
    "id": "f36953b8"
   },
   "source": [
    "## Questão 6\n",
    "Um teste para COVID-19 possui uma taxa de 5% de falso positivo e 1% de falso negativo, ou seja, em 5% dos não-infectados acusa como infectados, e em 1% dos infectados acusa como não infectados. Sabendo que atualmente 1% da população está infectada, calcule a probabilidade de um paciente cujo teste apontou positivo estar realmente infectado."
   ]
  },
  {
   "cell_type": "code",
   "execution_count": null,
   "id": "331a98a3-5dc5-4b2d-b601-721957b8d44e",
   "metadata": {
    "id": "331a98a3-5dc5-4b2d-b601-721957b8d44e",
    "outputId": "b32eec36-1283-4775-e8c3-b2bb63d8be7e"
   },
   "outputs": [
    {
     "data": {
      "text/plain": [
       "0.16666666666666669"
      ]
     },
     "execution_count": 25,
     "metadata": {},
     "output_type": "execute_result"
    }
   ],
   "source": [
    "(0.99*0.01)/((0.99*0.01) + (0.05*0.99))"
   ]
  },
  {
   "cell_type": "markdown",
   "id": "LxOQ9MBVKc_Q",
   "metadata": {
    "id": "LxOQ9MBVKc_Q"
   },
   "source": [
    "## Questão 7\n",
    "Se uma amostra aleatória n=250, tem uma média amostral de 51,3 e uma desvio padrão populacional de σ=2. Construa o intervalo com 95% de confiança para a média populacional μ."
   ]
  },
  {
   "cell_type": "markdown",
   "id": "Mfa5J5nlKnKW",
   "metadata": {
    "id": "Mfa5J5nlKnKW"
   },
   "source": [
    "## Questão 8\n",
    "Sabe-se que a vida em horas de um bulbo de lâmpada de 75 W é distribuída de forma aproximadamente normal com desvio padrão de σ = 25. Uma amostra aleatória de 200 bulbos tem uma vida media de 1.014 horas. Construa um intervalo de confiança de 95% para a vida média."
   ]
  },
  {
   "cell_type": "markdown",
   "id": "uVHWBW-Qh0l2",
   "metadata": {
    "id": "uVHWBW-Qh0l2"
   },
   "source": [
    "## Questão 9\n",
    "\n",
    "Para decidirmos se os habitantes de uma ilha são descendentes da civilização A ou B, iremos proceder do seguinte modo:\n",
    "\n",
    "(i) selecionamos uma amostra de 100 moradores adultos da ilha, e determinamos a altura média deles;\n",
    "\n",
    "(ii) se essa altura média for superior a 176, diremos que são descendentes de B; caso contrário, são descendentes de A.\n",
    "\n",
    "Os parâmetros das alturas das duas civilizações são:\n",
    "A : μ = 175 e σ = 10;\n",
    "B : μ = 177 e σ = 10.\n",
    "\n",
    "Definamos:\n",
    "\n",
    "$H_0: \\overline{X} > 176$\n",
    "\n",
    "$H_1: \\overline{X} \\leq 176$\n",
    "\n",
    "(a) Defina os erros do tipo I e do tipo II e suas probabilidadades de ocorrerem.\n",
    "\n",
    "(b) Qual deve ser a regra de decisão se quisermos fixar a probabilidade do erro de tipo I em $5\\%$? Qual a probabilidade do erro de tipo II, nesse caso?"
   ]
  }
 ],
 "metadata": {
  "colab": {
   "name": "Cópia de lista_ex1.ipynb",
   "provenance": []
  },
  "kernelspec": {
   "display_name": "Python 3 (ipykernel)",
   "language": "python",
   "name": "python3"
  },
  "language_info": {
   "codemirror_mode": {
    "name": "ipython",
    "version": 3
   },
   "file_extension": ".py",
   "mimetype": "text/x-python",
   "name": "python",
   "nbconvert_exporter": "python",
   "pygments_lexer": "ipython3",
   "version": "3.9.7"
  },
  "varInspector": {
   "cols": {
    "lenName": 16,
    "lenType": 16,
    "lenVar": 40
   },
   "kernels_config": {
    "python": {
     "delete_cmd_postfix": "",
     "delete_cmd_prefix": "del ",
     "library": "var_list.py",
     "varRefreshCmd": "print(var_dic_list())"
    },
    "r": {
     "delete_cmd_postfix": ") ",
     "delete_cmd_prefix": "rm(",
     "library": "var_list.r",
     "varRefreshCmd": "cat(var_dic_list()) "
    }
   },
   "types_to_exclude": [
    "module",
    "function",
    "builtin_function_or_method",
    "instance",
    "_Feature"
   ],
   "window_display": false
  }
 },
 "nbformat": 4,
 "nbformat_minor": 5
}
