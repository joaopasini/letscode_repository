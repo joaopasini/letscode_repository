{
 "cells": [
  {
   "cell_type": "markdown",
   "id": "7967a7e2",
   "metadata": {},
   "source": [
    "Variáveis, entradas e saídas\n",
    "\n",
    "1. Variáveis\n",
    "\n",
    "Variáveis são \"pedacinhos de memória\" onde guardamos dados. Sempre que referenciamos o nome, o pedacinho de memória é acessado e seu dado é recuperado.\n",
    "\n",
    "Criamos variáveis dando um nome a elas e usando o operador de atribuição (o sinal de igualdade: =) para atribuir um valor inicial.\n",
    "\n",
    "x = 10\n",
    "\n",
    "No exemplo acima, foi criada uma variável chamada x que guarda o valor 10. Ou seja, reservamos um pedacinho de memória e guardamos o número 10 lá.\n",
    "\n",
    "2. Tipos de variáveis\n",
    "\n",
    "Variáveis em Python possuem 4 tipos básicos:\n",
    "\n",
    "int: números inteiros, ou seja, números sem parte decimal: 0, 5, -1, 1000\n",
    "float: números reais, ou seja, números com parte decimal: 1.0, -2.7, 3.14\n",
    "str: cadeias de caracteres (strings), ou seja, dados textuais: 'Olá Mundo!', \"eu tenho 18 anos\"\n",
    "bool: valores lógicos (booleanos), ou seja, apenas um entre dois valores possíveis: True ou False\n",
    "nome = 'Zé' # uma variável do tipo string - note as aspas\n",
    "email = \"ze@letscode.com.br\" # outra string\n",
    "idade = 22 # uma variável inteira\n",
    "salario = 5999.85 # uma variável float - usamos ponto, não vírgula\n",
    "receberNewsletter = True # uma variável bool\n",
    "Dica: Tente sempre utilizar nomes intuitivos para suas variáveis. O nome deveria ser uma boa descrição do dado que a variável guarda. Nomes como 'x', 'y', 'z', 'a', 'b', 'c', 'a1', 'a2', 'a3' etc podem se tornar bastante confusos quando nossos códigos são muito grandes.\n",
    "\n",
    "3. Comentários\n",
    "\n",
    "Note que nos exemplos acima, escrevemos textos no meio do código utilizando o símbolo #. Esses textos são comentários: quando utilizamos o símbolo #, o Python irá ignorar tudo o que vier em seguida (na mesma linha). Utilizamos comentários para explicar pedaços do nosso código para que nós mesmos ou outros colegas no futuro entendam o que fizemos e possam modificar ou corrigir o código com mais facilidade. Também podemos escrever comentários de múltiplas linhas utilizando aspas triplas - neste caso, utilizamos-as para abrir e depois para fechar o bloco de comentários.\n",
    "\n",
    "'''\n",
    "Este é um comentário de várias linhas.\n",
    "Tudo que veio após o primeiro trio de aspas e antes do segundo\n",
    "será ignorado pelo Python.\n",
    "'''\n",
    "4. Saídas\n",
    "\n",
    "Chamamos de saídas do nosso programa todos os dados que são gerados pelo programa e serão fornecidos para o usuário. A função de saída em tela no Python é o print. Colocamos entre parênteses o dado que queremos que apareça.\n",
    "\n",
    "print('olá mundo!') # exibe a frase 'olá mundo' na tela\n",
    "Os dados a serem exibidos não precisam ser valores constantes, como a frase fixa acima. Eles podem ser variáveis:\n",
    "\n",
    "idade = 20\n",
    "print(idade)\n",
    "Note que quando usamos aspas, o Python trata o valor como uma string, um texto literal. Quando não usamos aspas, o Python irá considerar que aquele é o nome de uma variável e irá acessá-la para buscar seu valor.\n",
    "\n",
    "Podemos exibir múltiplos dados em um print. Para isso, basta separá-los por vírgula e eles irão aparecer na tela na mesma ordem que apareceram no código:\n",
    "\n",
    "nome = 'Mario'\n",
    "linguagem = 'Python'\n",
    "print('Oi, eu sou o', nome, 'e eu programo em', linguagem)\n",
    "\n",
    "```\n",
    "Resultado na tela:\n",
    "Oi, eu sou o Mario e eu programo em Python\n",
    "```\n",
    "5. Entradas\n",
    "\n",
    "Assim como temos dados de saída - dados gerados pelo código e fornecidos para o usuário - também temos dados de entrada: informações que o usuário possuí e deve fornecer ao código. Para receber entradas pelo teclado, utilizaremos a função input. Devemos fazer uma variável receber o valor capturado pelo input.\n",
    "\n",
    "nome = input()\n",
    "print('Olá', nome)\n",
    "O programa acima captura o nome do usuário e em seguida mostra a mensagem \"olá\" seguida do nome do usuário. Note que o programa fica parado em uma tela em branco com um cursor piscando aguardando a digitação pelo usuário. Isso pode ser confuso para o usuário, que não sabe o que o programa está esperando. Por isso, dentro dos parênteses do input podemos colocar uma mensagem simples informando o que o programa gostaria que ele fizesse:\n",
    "\n",
    "nome = input('Qual é o seu nome?')\n",
    "print('Olá', nome)\n",
    "5.1. Determinando o tipo da entrada\n",
    "\n",
    "Vamos imaginar um programa que informa quantos anos falta para que uma criança atinja a maioridade. Podemos ler a idade da criança pelo teclado (entrada), subtrair a idade do número 18 (processamento) e exibir o resultado da conta na tela (saída). Considere a solução abaixo:\n",
    "\n",
    "idade = input('Digite a sua idade: ')\n",
    "resto = 18 - idade\n",
    "print('Faltam', resto, 'anos.')\n",
    "Se você copiar e executar o programa, ele dará erro na segunda linha. Isso ocorre porque o teclado é uma \"máquina de escrever\" um pouco mais moderna. Portanto, tudo que entra pelo teclado é considerado pelo Python como texto (ou seja, str). Porém, não podemos \"fazer contas\" com textos. Fazemos contas com números. Portanto, neste caso, precisamos falar para o Python interpretar a nossa entrada como um número. Um bom tipo de dado para \"idade\" seria um número inteiro. Fazemos isso colocando o nome do tipo desejado, e entre parênteses colocamos nosso input:\n",
    "\n",
    "idade = int(input('Digite a sua idade: '))\n",
    "resto = 18 - idade\n",
    "print('Faltam', resto, 'anos.')\n",
    "\n",
    "6. Operadores\n",
    "\n",
    "Como podemos observar no exemplo anterior, o Python faz operações aritméticas de maneira bastante intuitiva, similar ao que estamos acostumados. Os operadores aceitos são:\n",
    "\n",
    "Soma: +\n",
    "Subtração: -\n",
    "Multiplicação: *\n",
    "Divisão: /\n",
    "Divisão inteira: //\n",
    "Resto da divisão: %\n",
    "Potência: **\n",
    "numero1 = int(input('Digite um número: '))\n",
    "numero2 = int(input('Digite outro número: ''))\n",
    "soma = numero1 + numero2\n",
    "subtracao = numero1 - numero2\n",
    "multiplicacao = numero1 * numero2\n",
    "divisao = numero1 / numero2\n",
    "divinteira = numero1 // numero2\n",
    "resto = numero1 % numero2\n",
    "elevado = numero1 ** numero2\n",
    "print('Soma: ', soma)\n",
    "print('Subtração: ', subtracao)\n",
    "print('Multiplicação: ', multiplicacao)\n",
    "print('Divisão: ', divisao)\n",
    "print('Divisão inteira: ', divinteira)\n",
    "print('Resto da divisão: ', resto)\n",
    "print('Potência: ', elevado)\n",
    "Operadores de divisão: Note que temos 3 operadores de divisão. O que seria cada um deles? Vamos supor que numero1 seja 15 e numero2 seja 6. Ao calcular essa divisão, chegamos na seguinte situação:\n",
    "\n",
    "15 |__ 6\n",
    "\n",
    "03 | 2\n",
    "\n",
    "Note que, considerando apenas números inteiros, não conseguimos mais prosseguir com a divisão. Neste caso, a divisão inteira (numero1 // numero2) dará 2. Já o resto da divisão (numero1 % numero2) dará 3. Porém, considerando casas decimais é possível prosseguir com a divisão:\n",
    "\n",
    "15 |__ 6\n",
    "\n",
    "30 | 2,5\n",
    "\n",
    "0\n",
    "\n",
    "Portanto, a divisão comum (numero1 / numero2) dará 2.5."
   ]
  },
  {
   "cell_type": "markdown",
   "id": "421a366e",
   "metadata": {},
   "source": [
    "     Enunciado\n",
    "\n",
    "Faça um programa que mostre a mensagem \"Olá, mundo!\" na tela."
   ]
  },
  {
   "cell_type": "markdown",
   "id": "777e42bf",
   "metadata": {},
   "source": [
    "print('Olá, mundo!')"
   ]
  },
  {
   "cell_type": "markdown",
   "id": "ca8b68a7",
   "metadata": {},
   "source": [
    "Faça um programa que peça um número e mostre a mensagem \"O número informado foi [número]\"."
   ]
  },
  {
   "cell_type": "markdown",
   "id": "61987789",
   "metadata": {},
   "source": [
    "num = input(\"digite um número: \")\n",
    "print(\"O número informado foi\", num)"
   ]
  },
  {
   "cell_type": "markdown",
   "id": "54afa00f",
   "metadata": {},
   "source": [
    "Faça um programa que peça um número para o usuário (string), converta-o para float e depois imprima-o na tela. Você consegue fazer a mesma coisa, porém convertendo para int?"
   ]
  },
  {
   "cell_type": "markdown",
   "id": "89e4f0b5",
   "metadata": {},
   "source": [
    "#Convertendo para float\n",
    "\n",
    "num = input(\"digite um número: \")\n",
    "num = float(num)\n",
    "print(\"O número informado é\", num)\n",
    "\n",
    "#Convertendo para int\n",
    "\n",
    "num = input(\"digite um número: \")\n",
    "num = int(num)\n",
    "print(\"O número informado é\", num)"
   ]
  },
  {
   "cell_type": "markdown",
   "id": "94f61f2e",
   "metadata": {},
   "source": [
    "Faça um programa que peça dois números inteiros e imprima a soma deles."
   ]
  },
  {
   "cell_type": "markdown",
   "id": "8e89fc63",
   "metadata": {},
   "source": [
    "num1 = int(input(\"digite um número: \"))\n",
    "num2 = int(input(\"digite outro número: \"))\n",
    "print('A soma é:', num1 + num2)"
   ]
  },
  {
   "cell_type": "markdown",
   "id": "b905c9fd",
   "metadata": {},
   "source": [
    "Faça um programa que peça as 4 notas bimestrais de um aluno e mostre a média aritmética delas."
   ]
  },
  {
   "cell_type": "markdown",
   "id": "9483a331",
   "metadata": {},
   "source": [
    "n1 = float(input(\"Digite a nota 1: \"))\n",
    "n2 = float(input(\"Digite a nota 2: \"))\n",
    "n3 = float(input(\"Digite a nota 3: \"))\n",
    "n4 = float(input(\"Digite a nota 4: \"))\n",
    "\n",
    "soma = n1+n2+n3+n4\n",
    "media = soma/4\n",
    "\n",
    "print (\"A média das notas é:\", media)\n",
    "\n",
    "#OU\n",
    "\n",
    "print(\"A média das notas é:\", (n1+n2+n3+n4)/4)"
   ]
  },
  {
   "cell_type": "markdown",
   "id": "cb4f8616",
   "metadata": {},
   "source": [
    "Faça um programa que peça o raio de um círculo, calcule e mostre sua área.\n",
    "\n",
    "Obs: Fórmula da área de um círculo: A = 3,14*(r**2), onde r é o raio."
   ]
  },
  {
   "cell_type": "markdown",
   "id": "8ecca3f0",
   "metadata": {},
   "source": [
    "raio = float(input(\"Digite o raio de um círculo: \"))\n",
    "print(\"A área do círculo é\", 3.14*(raio**2))"
   ]
  },
  {
   "cell_type": "markdown",
   "id": "8614d1b5",
   "metadata": {},
   "source": [
    "Faça um programa que pergunte quanto você ganha por hora e o número de horas trabalhadas no mês e depois, calcule e mostre o total do seu salário no referido mês."
   ]
  },
  {
   "cell_type": "markdown",
   "id": "681bf698",
   "metadata": {},
   "source": [
    "salario = float(input(\"Quanto você ganha por hora: \"))\n",
    "horas = float(input(\"Qual a quantidade de horas que você trabalha por mês: \"))\n",
    "print(\"Você recebe\", salario*horas, \"por mês\")"
   ]
  },
  {
   "cell_type": "markdown",
   "id": "fd8f4c5a",
   "metadata": {},
   "source": [
    "Faça um programa que peça a temperatura em graus Fahrenheit (F), transforme e mostre a temperatura em graus Celsius (°C).\n",
    "\n",
    "°C = (5 * (F-32) / 9)\n",
    "\n",
    "Obs: Tente também fazer um programa que faça o inverso: peça a temperatura em graus Celsius e a transforme em graus Fahrenheit."
   ]
  },
  {
   "cell_type": "markdown",
   "id": "8da73b4f",
   "metadata": {},
   "source": [
    "#°F --> °C\n",
    "fahrenheit = float(input(\"Digite a temperatura em Farenheit: \"))\n",
    "celsius = 5*(fahrenheit-32)/9\n",
    "print\n",
    "\n",
    "#°C --> °F\n",
    "celsius = float(input(\"Digite a temperatura em graus Celsius: \"))\n",
    "fahrenheit = celsius*9/5 + 32\n",
    "print(\"A temperatura digitada, em Fahrenheit, é:\", fahrenheit)"
   ]
  },
  {
   "cell_type": "markdown",
   "id": "13a1dd6f",
   "metadata": {},
   "source": [
    "Faça um programa que peça o dia, o mês e o ano para o usuário e imprima a data completa no formato dd/mm/aaaa."
   ]
  },
  {
   "cell_type": "markdown",
   "id": "571f4473",
   "metadata": {},
   "source": [
    "dia = int(input(\"Qual o dia? \"))\n",
    "mes = int(input(\"Qual o mês? \"))\n",
    "ano = int(input(\"Qual o ano? \"))\n",
    "print(\"A data é:\", dia, \"/\", mes, \"/\", ano)\n",
    "\n",
    "dia = input(\"Qual o dia? \")\n",
    "mes = input(\"Qual o mês? \")\n",
    "ano = input(\"Qual o ano? \")\n",
    "print(\"A data é: \"+dia+\"/\"+mes+\"/\"+ano) "
   ]
  },
  {
   "cell_type": "markdown",
   "id": "bdfc30fb",
   "metadata": {},
   "source": [
    "Faça um programa que peça 2 números inteiros e um número real, calcule e mostre:\n",
    "\n",
    "a) o produto do dobro do primeiro com metade do segundo.\n",
    "\n",
    "b) a soma do triplo do primeiro com o terceiro.\n",
    "\n",
    "c) o terceiro elevado ao cubo."
   ]
  },
  {
   "cell_type": "markdown",
   "id": "9664fe33",
   "metadata": {},
   "source": [
    "int1 = int(input('digite um número inteiro: '))\n",
    "int2 = int(input('digite outro número inteiro: '))\n",
    "real1 = float(input('agora digite um número real: '))\n",
    "\n",
    "#a)    o produto do dobro do primeiro com metade do segundo.\n",
    "print(\"O produto do dobro do primeiro com metade do segundo:\", 2*int1*int2/2)\n",
    "\n",
    "#b)    a soma do triplo do primeiro com o terceiro.\n",
    "print(\"A soma do triplo do primeiro com o terceiro:\", 3*int1 + real1)\n",
    "\n",
    "#c)    o terceiro elevado ao cubo.\n",
    "print(\"O terceiro elevado ao cubo:\", real1**3)"
   ]
  },
  {
   "cell_type": "markdown",
   "id": "0c4b36d9",
   "metadata": {},
   "source": [
    "Faça um programa que peça o peso e altura de uma pessoa e calcule seu IMC (Índice de Massa Corporal).\n",
    "\n",
    "Obs: IMC = Peso/Altura**2"
   ]
  },
  {
   "cell_type": "markdown",
   "id": "b670bc27",
   "metadata": {},
   "source": [
    "peso = float(input('Digite seu peso em kg:'))\n",
    "altura = float(input('Digite sua altura em m:'))\n",
    "\n",
    "print(\"Seu imc é:\", peso/(altura**2))"
   ]
  },
  {
   "cell_type": "markdown",
   "id": "c29c86d5",
   "metadata": {},
   "source": [
    "Faça um programa que peça um valor monetário e aumente-o em 15%. Seu programa deve imprimir a mensagem “O novo valor é [valor]”."
   ]
  },
  {
   "cell_type": "markdown",
   "id": "ccde038b",
   "metadata": {},
   "source": [
    "valor = float(input(\"Qual o valor? \"))\n",
    "print(\"O novo valor é R$\",valor*1.15)"
   ]
  },
  {
   "cell_type": "markdown",
   "id": "b9375c44",
   "metadata": {},
   "source": [
    "Faça um programa que peça um valor monetário e diminua-o em 15%. Seu programa deve imprimir a mensagem “O novo valor é [valor]”."
   ]
  },
  {
   "cell_type": "markdown",
   "id": "1c7cca1d",
   "metadata": {},
   "source": [
    "valor = float(input(\"Qual o valor? \"))\n",
    "print(\"O novo valor é R$\",valor*0.85)"
   ]
  },
  {
   "cell_type": "markdown",
   "id": "034681e6",
   "metadata": {},
   "source": [
    "Desafio 1 - Peça para o usuário digitar uma velocidade inicial (em m/s), uma posição inicial (em m) e um instante de tempo (em s) e imprima a posição de um projétil nesse instante de tempo.\n",
    "\n",
    "Use a fórmula matemática:\n",
    "\n",
    "y(t) = y(0) + v(0)*t + (g*(t**2)/2)\n",
    "\n",
    "Onde, g é a aceleração da gravidade (-10m/s²), y(t) é a posição final, y(0) é a posição inicial, v(0) é a velocidade inicial e t é o instante de tempo."
   ]
  },
  {
   "cell_type": "markdown",
   "id": "ba5fb72c",
   "metadata": {},
   "source": [
    "y0 = float(input(\"Digite a posição inicial: \"))\n",
    "v0 = float(input(\"Digite a velocidade inicial: \"))\n",
    "t = float(input(\"Digite um instante no tempo: \"))\n",
    "g = -10\n",
    "\n",
    "y = y0 + v0*t + 0.5*g*t**2\n",
    "\n",
    "print(\"A posição no instante t =\", t, \"é\", y)"
   ]
  },
  {
   "cell_type": "markdown",
   "id": "1a6d2d48",
   "metadata": {},
   "source": [
    "Desafio 2 - Faça um programa que informe a data e a hora para o usuário. Para isso use a função datetime.now() do módulo datetime."
   ]
  },
  {
   "cell_type": "markdown",
   "id": "63f9b0aa",
   "metadata": {},
   "source": [
    "from datetime import datetime # Incluímos a biblioteca datetime\n",
    "agora = datetime.now() # Chamamos a função now() da biblioteca datetime\n",
    "\n",
    "#Separamos cada pedaço que precisamos\n",
    "ano = agora.year\n",
    "mes = agora.month\n",
    "dia = agora.day\n",
    "hora = agora.hour\n",
    "minuto = agora.minute\n",
    "segundo = agora.second\n",
    "\n",
    "#Imprimimos o resultado \n",
    "#(Obs: o sep=\"\" quer dizer que o print não vai inserir um espaço entre cada uma das saídas)\n",
    "print(dia, \"/\", mes, \"/\", ano, \" \", hora, \":\", minuto, \":\", segundo, sep=\"\")\n",
    "\n",
    "#Outra forma\n",
    "agora = datetime.now()\n",
    "formato = \"%d/%m/%Y %H:%M:%S\" # Definimos um formato \n",
    "agora_formatado = datetime.strftime(agora,formato) # Usamos a função strftime(), que formata automaticamente o texto\n",
    "print(agora_formatado)"
   ]
  },
  {
   "cell_type": "code",
   "execution_count": null,
   "id": "3c0f9514",
   "metadata": {},
   "outputs": [],
   "source": []
  }
 ],
 "metadata": {
  "kernelspec": {
   "display_name": "Python 3 (ipykernel)",
   "language": "python",
   "name": "python3"
  },
  "language_info": {
   "codemirror_mode": {
    "name": "ipython",
    "version": 3
   },
   "file_extension": ".py",
   "mimetype": "text/x-python",
   "name": "python",
   "nbconvert_exporter": "python",
   "pygments_lexer": "ipython3",
   "version": "3.9.7"
  }
 },
 "nbformat": 4,
 "nbformat_minor": 5
}
