{
 "cells": [
  {
   "cell_type": "markdown",
   "id": "61ee4455",
   "metadata": {},
   "source": [
    "Operações lógicas\n",
    "\n",
    "1. Operações booleanas\n",
    "\n",
    "Na aula passada, vimos que nossos dados podem ter 4 tipos básicos: str (texto), int (número inteiro), float (número real) e bool (lógico). Vimos diversas operações aritméticas também, como a soma, a divisão ou a potência, cujos resultados são int ou float. Porém, podemos ter também operações cujo resultado é bool: são operações lógicas. Operações lógicas tipicamente são comparações:\n",
    "\n",
    "comparacao1 = 5 > 3\n",
    "print(comparacao1)\n",
    "comparacao2 = 5 < 3\n",
    "print(comparacao2)\n",
    "Se executarmos o código acima, a saída que teremos na tela será:\n",
    "\n",
    "True\n",
    "False\n",
    "Isso ocorre porque 5 é maior que 3. Portanto, comparacao1 recebeu uma expressão cujo valor lógico é verdadeiro, portanto seu resultado foi True, e o oposto ocorreu para comparacao2. O Python possui 6 operadores de comparação:\n",
    "\n",
    "Maior que: >\n",
    "Maior ou igual: >=\n",
    "Menor que: <\n",
    "Menor ou igual: <=\n",
    "Igual: ==\n",
    "Diferente: !=\n",
    "Note que o operador para comparar se 2 valores são iguais é ==, e não =. Isso ocorre porque o operador = é o nosso operador de atribuição: ele diz que a variável à sua esquerda deve receber o valor da expressão à direita. O operador de == irá testar se o valor à sua esquerda é igual ao valor à sua direita e irá responder True ou False, como todos os outros operadores de comparação.\n",
    "\n",
    "1.1. Conjunções lógicas\n",
    "\n",
    "Em alguns casos precisamos testar se duas ou mais condições são verdadeiras. Imagine, por exemplo, que o critério de aprovação em uma escola seja média superior a 6.0 e presença superior a 75%. Neste caso, o aluno precisa atender a ambos os critérios para ser aprovado. Se ele tirou uma ótima nota mas faltou demais, será reprovado. Se ele compareceu a todas as aulas mas teve notas baixas, idem. O código abaixo testa se é verdade que o aluno foi aprovado:\n",
    "\n",
    "media = float(input('Digite a média do aluno: '))\n",
    "presenca = float(input('Digite as presenças do aluno: '))\n",
    "\n",
    "aprovado = media >= 6.0 and presenca >= 0.75\n",
    "print(aprovado)\n",
    "Execute o código acima e teste algumas combinações diferentes de valores. Note que basta uma das condições ser falsa para que o resultado total seja False.\n",
    "\n",
    "Porém, nem sempre precisamos que ambas as condições sejam verdadeiras. Vários de nós já nos deparamos com promoções de queima de estoque anunciadas da seguinte maneira: \"promoção válida até o dia 15 deste mês ou enquanto durarem os estoques\". Neste caso, para a promoção acabar, não é necessário que ambas as coisas ocorram (atingir o dia 15 e zerar o estoque). Se ainda temos 10 itens no estoque mas hoje é dia 16, a promoção acabou. Se hoje é dia 5 mas o estoque está zerado, a promoção acabou. O programa abaixo testa se a promoção acabou:\n",
    "\n",
    "diaFinal = int(input('Digite o dia do mês para encerrar a promoção: '))\n",
    "diaAtual = int(input('Digite o dia do mês atual: '))\n",
    "estoque = int(input('Digite a quantidade de itens no estoque: '))\n",
    "\n",
    "acabou = diaAtual > diaFinal or estoque == 0\n",
    "print(acabou)\n",
    "Faça alguns testes com o programa acima e note que basta uma condição ser verdadeira para seu resultado ser True.\n",
    "\n",
    "Resumo:\n",
    "\n",
    "and: verdadeiro se condição 1 for verdadeira e condição 2 for verdadeira\n",
    "or: verdadeiro se condição 1 for verdadeira ou condiçã 2 for verdadeira"
   ]
  },
  {
   "cell_type": "markdown",
   "id": "bf18bbbf",
   "metadata": {},
   "source": []
  },
  {
   "cell_type": "markdown",
   "id": "e7004e3f",
   "metadata": {},
   "source": []
  },
  {
   "cell_type": "markdown",
   "id": "25144d23",
   "metadata": {},
   "source": []
  },
  {
   "cell_type": "markdown",
   "id": "6cc13be3",
   "metadata": {},
   "source": []
  },
  {
   "cell_type": "markdown",
   "id": "4ea20a96",
   "metadata": {},
   "source": []
  },
  {
   "cell_type": "markdown",
   "id": "768ee7de",
   "metadata": {},
   "source": []
  },
  {
   "cell_type": "markdown",
   "id": "75d3af4d",
   "metadata": {},
   "source": []
  },
  {
   "cell_type": "markdown",
   "id": "ab5bf56e",
   "metadata": {},
   "source": []
  },
  {
   "cell_type": "markdown",
   "id": "892fbf16",
   "metadata": {},
   "source": []
  },
  {
   "cell_type": "markdown",
   "id": "2c2e868d",
   "metadata": {},
   "source": []
  },
  {
   "cell_type": "markdown",
   "id": "5b6ba4f3",
   "metadata": {},
   "source": []
  },
  {
   "cell_type": "markdown",
   "id": "a707f3dc",
   "metadata": {},
   "source": []
  },
  {
   "cell_type": "markdown",
   "id": "96ab8ebf",
   "metadata": {},
   "source": []
  },
  {
   "cell_type": "markdown",
   "id": "99570978",
   "metadata": {},
   "source": []
  },
  {
   "cell_type": "markdown",
   "id": "76f61520",
   "metadata": {},
   "source": []
  },
  {
   "cell_type": "markdown",
   "id": "0c72d09f",
   "metadata": {},
   "source": []
  },
  {
   "cell_type": "markdown",
   "id": "328b0d9e",
   "metadata": {},
   "source": []
  },
  {
   "cell_type": "markdown",
   "id": "c7f3fa13",
   "metadata": {},
   "source": []
  },
  {
   "cell_type": "markdown",
   "id": "c0ede58b",
   "metadata": {},
   "source": []
  },
  {
   "cell_type": "markdown",
   "id": "55f208a6",
   "metadata": {},
   "source": []
  },
  {
   "cell_type": "markdown",
   "id": "4ee0857e",
   "metadata": {},
   "source": []
  },
  {
   "cell_type": "markdown",
   "id": "b6fdcded",
   "metadata": {},
   "source": []
  },
  {
   "cell_type": "markdown",
   "id": "84b03363",
   "metadata": {},
   "source": []
  }
 ],
 "metadata": {
  "kernelspec": {
   "display_name": "Python 3 (ipykernel)",
   "language": "python",
   "name": "python3"
  },
  "language_info": {
   "codemirror_mode": {
    "name": "ipython",
    "version": 3
   },
   "file_extension": ".py",
   "mimetype": "text/x-python",
   "name": "python",
   "nbconvert_exporter": "python",
   "pygments_lexer": "ipython3",
   "version": "3.9.7"
  }
 },
 "nbformat": 4,
 "nbformat_minor": 5
}
