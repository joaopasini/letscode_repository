{
 "cells": [
  {
   "cell_type": "markdown",
   "id": "de0fac3c",
   "metadata": {},
   "source": [
    "# Módulo 5 - Técnicas de Programação II\n",
    "## Aula 2\n",
    "- Gráficos com Pandas\n",
    "- EDA (Exploratory Data Analysis)\n",
    "- Exercícios"
   ]
  },
  {
   "cell_type": "markdown",
   "id": "cf8dade5",
   "metadata": {},
   "source": [
    "### Introdução\n",
    "\n",
    "Gráficos são representações visuais dos dados, que buscam facilitar o entendimento dos mesmos. Podem ser muito úteis na identificação de variáveis importantes para uma modelagem ou tomada de decisão.\n",
    "\n",
    "\n",
    "**Tipos de gráficos mais usuais:**\n",
    "- **Scatter plot (ou gráfico de dispersão):**\n",
    "Dadas duas variáveis X e Y, cada observação (par de valores (x,y)) é representado por um ponto no gráfico. Na imagem abaixo, uma observação (x,y) = (4,5) é representada pelo X vermelho.\n",
    "<img src=\"./images/img_scatterplot_editada.png\" alt=\"Drawing\" style=\"width: 500px;\"/>\n",
    "\n",
    "- **Gráfico de linhas:**\n",
    "O gráfico de linhas é muito utilizado quando estamos querendo encontrar tendências de um conjunto de variáveis. No geral, a variável alocada no eixo horizontal representa categorias ordinais, geralmente temporais (como por exemplo: meses, anos, dias, semanas, lotes em ordem de fabricação etc). Para construí-lo, primeiro aplica-se um gráfico de dispersão dessas variáveis, e depois unem-se os pontos por linhas, como mostra a imagem abaixo. Podemos imaginar que cada categoria é um lote de produção de uma mercadoria (em que o lote 1 foi produzido antes do lote 2, e assim por diante), e no eixo vertical, têm se a quantidade vendida de cada lote. Ainda, há 3 séries representadas por cores, que podem representar, por exemplo, três clientes diferentes que adquiriram as mercadorias.\n",
    "<img src=\"./images/grafico_linhas.jpg\" alt=\"Drawing\" style=\"width: 500px;\"/>\n",
    "\n",
    "- **Gráfico de pizza/Pie plot (ou gráfico de setores):**\n",
    "Este gráfico tem como objetivo representar um valor relativo de cada categoria em relação a um todo. Exemplo: de todo o lucro de uma empresa revendedora de aparelhos celular, quantos porcento são relativos a cada marca de produto comercializado.\n",
    "<img src=\"./images/grafico_pizza.png\" alt=\"Drawing\" style=\"width: 400px;\"/>\n",
    "\n",
    "- **Gráfico de barras (horizontal e vertical):**\n",
    "Um gráfico de barras é uma forma de visualização de dados categóricos, em que cada categoria é representada por uma barra, cujo tamanho representa sua frequência/quantidade de observações. Pode ser representado de forma vertical (conhecido também como gráfico de colunas) ou de forma horizontal (em que o gráfico parece \"deitado\". No exemplo abaixo, o mesmo conjunto de dados é representado das duas formas. \n",
    "\n",
    "Observação: Aqui, os valores \"1\", \"2\" e \"3\" das barras representam categorias, e não uma variável contínua.\n",
    "<img src=\"./images/grafico_barras.png\" alt=\"Drawing\" style=\"width: 500px;\"/>\n",
    "\n",
    "- **Histograma:** \n",
    "Um histograma é muito parecido com um gráfico de barras, e possui a mesma ideia: cada coluna representa uma frequência/quantidade. Entretanto, o eixo horizontal deste tipo de gráfico é uma variável contínua, e a ideia é observar a distribuição das observações desta variável. Exemplos de perguntas que podemos estar tentando responder ao analisar esse tipo de gráfico, são: \"quais são os valores mais frequentes nessa variável contínua?\" e \"Qual a probabilidade de uma nova observação ter determinado valor?\"\n",
    "\n",
    "Para se construir as barras deste gráfico, a variável contínua é agrupada em intervalos, e o tamanho da barra representa o número de observações que possuem valores dentro deste intervalo. É comum encontrar histogramas com um traço linear ligando o topo dessas barras pelo meio, de forma a facilitar a identificação de uma distribuição estatística.\n",
    "<img src=\"./images/histograma.png\" alt=\"Drawing\" style=\"width: 500px;\"/>\n",
    "\n",
    "- **Box-Plot:**\n",
    "Os box-plot, assim como os histogramas, são gráficos estatísticos que permitem analisar uma distribuição dos dados, mas com uma representação diferente. Apesar de muito utilizados por estatísticos e cientistas de dados, a maioria das pessoas que não estão acostumadas a eles, têm dificuldade em interpretá-los. \n",
    "\n",
    "A representação do box-plot se baseia em medidas de quartis: uma caixinha central é desenhada ligando o primeiro (Q1) e terceiro (Q3) quartis (25% e 75%, respectivamente), e uma reta corta essa 'caixa' no quartil central (Q2 = 50%). Na parte inferior e superior do gráfico, é traçada uma reta de tamanho máximo 1.5xIQ, em que IQ = Q3-Q1. Essa reta é traçada até o último valor da variável que ainda esteja dentro desse limite. Observações acima ou abaixo dele, são representadas por bolinhas, e muito chamadas de 'outliers' (valor atípico). Abaixo, uma representação dos componentes de um box-plot, e um gráfico exibindo box-plots das distribuições de temperaturas de diferentes cidades.\n",
    "<img src=\"./images/boxplot2.png\" alt=\"Drawing\" style=\"width: 500px;\"/>\n",
    "<img src=\"./images/boxplot.png\" alt=\"Drawing\" style=\"width: 500px;\"/>"
   ]
  },
  {
   "cell_type": "markdown",
   "id": "d91605b1",
   "metadata": {},
   "source": [
    "## Gráficos com pandas\n",
    "\n",
    "A biblioteca pandas, que estudamos no módulo 4, permite realizar alguns gráficos simples, baseados na biblioteca matplotlib. Vamos aprender a aplicá-los utilizando a base de dados do titanic como exemplo.  \n",
    "\n",
    "**Documentação:** https://pandas.pydata.org/docs/reference/api/pandas.DataFrame.plot.html"
   ]
  },
  {
   "cell_type": "code",
   "execution_count": 1,
   "id": "c15eaa8b",
   "metadata": {},
   "outputs": [],
   "source": [
    "import pandas as pd\n",
    "import numpy as np\n",
    "import matplotlib.pyplot as plt\n",
    "\n",
    "df_size = pd.read_csv('./data/penguins_size.csv')"
   ]
  },
  {
   "cell_type": "markdown",
   "id": "47b5af03",
   "metadata": {},
   "source": [
    "## Histograma"
   ]
  },
  {
   "cell_type": "code",
   "execution_count": 2,
   "id": "fbf0b2cf",
   "metadata": {
    "scrolled": false
   },
   "outputs": [
    {
     "data": {
      "image/png": "[encoded data removed]",
      "text/plain": [
       "<Figure size 1080x720 with 1 Axes>"
      ]
     },
     "metadata": {
      "needs_background": "light"
     },
     "output_type": "display_data"
    }
   ],
   "source": [
    "## Brincar com bins\n",
    "ax_hist = df_size.plot(y='body_mass_g', kind='hist', bins=10, figsize=(15,10))\n",
    "ax_hist.set_xlabel('Massa dos Pinguins', fontsize=15)\n",
    "\n",
    "ax_hist.plot();"
   ]
  },
  {
   "cell_type": "markdown",
   "id": "88db82af",
   "metadata": {},
   "source": [
    "## Boxplot"
   ]
  },
  {
   "cell_type": "code",
   "execution_count": 3,
   "id": "8af970e3",
   "metadata": {},
   "outputs": [
    {
     "data": {
      "image/png": "[encoded data removed]",
      "text/plain": [
       "<Figure size 432x288 with 1 Axes>"
      ]
     },
     "metadata": {
      "needs_background": "light"
     },
     "output_type": "display_data"
    }
   ],
   "source": [
    "df_size.plot(y='body_mass_g', kind='box');"
   ]
  },
  {
   "cell_type": "markdown",
   "id": "3668fd2b",
   "metadata": {},
   "source": [
    "## Exemplo de EDA com Pandas\n",
    "Para exemplificar o processo de Análise Exploratória de Dados utilizaremos um survey respondido por profissionais de TI da União Europeia, com informações pessoais como idade, gênero, cidade e também relacionadas às respectivas carreiras como posição na empresa, anos de experiência."
   ]
  },
  {
   "cell_type": "code",
   "execution_count": 4,
   "id": "949295ea",
   "metadata": {},
   "outputs": [
    {
     "data": {
      "text/html": [
       "<div>\n",
       "<style scoped>\n",
       "    .dataframe tbody tr th:only-of-type {\n",
       "        vertical-align: middle;\n",
       "    }\n",
       "\n",
       "    .dataframe tbody tr th {\n",
       "        vertical-align: top;\n",
       "    }\n",
       "\n",
       "    .dataframe thead th {\n",
       "        text-align: right;\n",
       "    }\n",
       "</style>\n",
       "<table border=\"1\" class=\"dataframe\">\n",
       "  <thead>\n",
       "    <tr style=\"text-align: right;\">\n",
       "      <th></th>\n",
       "      <th>Age</th>\n",
       "      <th>Gender</th>\n",
       "      <th>City</th>\n",
       "      <th>Position</th>\n",
       "      <th>Years of experience</th>\n",
       "      <th>Seniority level</th>\n",
       "      <th>Main technology</th>\n",
       "      <th>Other technologies</th>\n",
       "      <th>Yearly salary</th>\n",
       "      <th>Vacation days</th>\n",
       "      <th>Employment status</th>\n",
       "      <th>Ð¡ontract duration</th>\n",
       "      <th>Language at work</th>\n",
       "      <th>Company size</th>\n",
       "      <th>Company type</th>\n",
       "    </tr>\n",
       "  </thead>\n",
       "  <tbody>\n",
       "    <tr>\n",
       "      <th>0</th>\n",
       "      <td>26</td>\n",
       "      <td>Male</td>\n",
       "      <td>Munich</td>\n",
       "      <td>Software Engineer</td>\n",
       "      <td>5</td>\n",
       "      <td>Senior</td>\n",
       "      <td>TypeScript</td>\n",
       "      <td>Kotlin, Javascript / Typescript</td>\n",
       "      <td>80000.0</td>\n",
       "      <td>30.0</td>\n",
       "      <td>Full-time employee</td>\n",
       "      <td>Unlimited contract</td>\n",
       "      <td>English</td>\n",
       "      <td>51-100</td>\n",
       "      <td>Product</td>\n",
       "    </tr>\n",
       "    <tr>\n",
       "      <th>1</th>\n",
       "      <td>26</td>\n",
       "      <td>Male</td>\n",
       "      <td>Berlin</td>\n",
       "      <td>Backend Developer</td>\n",
       "      <td>7</td>\n",
       "      <td>Senior</td>\n",
       "      <td>Ruby</td>\n",
       "      <td>NaN</td>\n",
       "      <td>80000.0</td>\n",
       "      <td>28.0</td>\n",
       "      <td>Full-time employee</td>\n",
       "      <td>Unlimited contract</td>\n",
       "      <td>English</td>\n",
       "      <td>101-1000</td>\n",
       "      <td>Product</td>\n",
       "    </tr>\n",
       "    <tr>\n",
       "      <th>2</th>\n",
       "      <td>29</td>\n",
       "      <td>Male</td>\n",
       "      <td>Berlin</td>\n",
       "      <td>Software Engineer</td>\n",
       "      <td>12</td>\n",
       "      <td>Lead</td>\n",
       "      <td>Javascript / Typescript</td>\n",
       "      <td>Javascript / Typescript, Docker</td>\n",
       "      <td>120000.0</td>\n",
       "      <td>30.0</td>\n",
       "      <td>Self-employed (freelancer)</td>\n",
       "      <td>Temporary contract</td>\n",
       "      <td>English</td>\n",
       "      <td>101-1000</td>\n",
       "      <td>Product</td>\n",
       "    </tr>\n",
       "    <tr>\n",
       "      <th>3</th>\n",
       "      <td>28</td>\n",
       "      <td>Male</td>\n",
       "      <td>Berlin</td>\n",
       "      <td>Frontend Developer</td>\n",
       "      <td>4</td>\n",
       "      <td>Junior</td>\n",
       "      <td>Javascript</td>\n",
       "      <td>NaN</td>\n",
       "      <td>54000.0</td>\n",
       "      <td>24.0</td>\n",
       "      <td>Full-time employee</td>\n",
       "      <td>Unlimited contract</td>\n",
       "      <td>English</td>\n",
       "      <td>51-100</td>\n",
       "      <td>Startup</td>\n",
       "    </tr>\n",
       "    <tr>\n",
       "      <th>4</th>\n",
       "      <td>37</td>\n",
       "      <td>Male</td>\n",
       "      <td>Berlin</td>\n",
       "      <td>Backend Developer</td>\n",
       "      <td>17</td>\n",
       "      <td>Senior</td>\n",
       "      <td>C# .NET</td>\n",
       "      <td>.NET, SQL, AWS, Docker</td>\n",
       "      <td>62000.0</td>\n",
       "      <td>29.0</td>\n",
       "      <td>Full-time employee</td>\n",
       "      <td>Unlimited contract</td>\n",
       "      <td>English</td>\n",
       "      <td>101-1000</td>\n",
       "      <td>Product</td>\n",
       "    </tr>\n",
       "  </tbody>\n",
       "</table>\n",
       "</div>"
      ],
      "text/plain": [
       "   Age Gender    City            Position  Years of experience  \\\n",
       "0   26   Male  Munich   Software Engineer                    5   \n",
       "1   26   Male  Berlin   Backend Developer                    7   \n",
       "2   29   Male  Berlin   Software Engineer                   12   \n",
       "3   28   Male  Berlin  Frontend Developer                    4   \n",
       "4   37   Male  Berlin   Backend Developer                   17   \n",
       "\n",
       "  Seniority level          Main technology               Other technologies  \\\n",
       "0          Senior               TypeScript  Kotlin, Javascript / Typescript   \n",
       "1          Senior                     Ruby                              NaN   \n",
       "2            Lead  Javascript / Typescript  Javascript / Typescript, Docker   \n",
       "3          Junior               Javascript                              NaN   \n",
       "4          Senior                  C# .NET           .NET, SQL, AWS, Docker   \n",
       "\n",
       "   Yearly salary  Vacation days           Employment status  \\\n",
       "0        80000.0           30.0          Full-time employee   \n",
       "1        80000.0           28.0          Full-time employee   \n",
       "2       120000.0           30.0  Self-employed (freelancer)   \n",
       "3        54000.0           24.0          Full-time employee   \n",
       "4        62000.0           29.0          Full-time employee   \n",
       "\n",
       "   Ð¡ontract duration Language at work Company size Company type  \n",
       "0  Unlimited contract          English       51-100      Product  \n",
       "1  Unlimited contract          English     101-1000      Product  \n",
       "2  Temporary contract          English     101-1000      Product  \n",
       "3  Unlimited contract          English       51-100      Startup  \n",
       "4  Unlimited contract          English     101-1000      Product  "
      ]
     },
     "execution_count": 4,
     "metadata": {},
     "output_type": "execute_result"
    }
   ],
   "source": [
    "df = pd.read_excel('./data/IT_Salary_Survey_EU_2020.xlsx')\n",
    "df.head()"
   ]
  },
  {
   "cell_type": "markdown",
   "id": "4aa4ed89",
   "metadata": {},
   "source": [
    "### Outliers\n",
    "É muito comum utilizarmos os **boxplot** para plotarmos variáveis contínuas e assim verificarmos se há outliers entre os valores. No dataset de estudo verificaremos as variáveis de Idade, Anos de Experiência, Salário anual e Dias de férias. "
   ]
  },
  {
   "cell_type": "code",
   "execution_count": 5,
   "id": "ce739cd4",
   "metadata": {
    "scrolled": false
   },
   "outputs": [
    {
     "data": {
      "image/png": "[encoded data removed]",
      "text/plain": [
       "<Figure size 432x288 with 1 Axes>"
      ]
     },
     "metadata": {
      "needs_background": "light"
     },
     "output_type": "display_data"
    },
    {
     "data": {
      "image/png": "[encoded data removed]",
      "text/plain": [
       "<Figure size 432x288 with 1 Axes>"
      ]
     },
     "metadata": {
      "needs_background": "light"
     },
     "output_type": "display_data"
    },
    {
     "data": {
      "image/png": "[encoded data removed]",
      "text/plain": [
       "<Figure size 432x288 with 1 Axes>"
      ]
     },
     "metadata": {
      "needs_background": "light"
     },
     "output_type": "display_data"
    },
    {
     "data": {
      "image/png": "[encoded data removed]",
      "text/plain": [
       "<Figure size 432x288 with 1 Axes>"
      ]
     },
     "metadata": {
      "needs_background": "light"
     },
     "output_type": "display_data"
    }
   ],
   "source": [
    "ax1 = df.plot(y='Age', kind='box')\n",
    "ax2 = df.plot(y='Yearly salary', kind='box')\n",
    "ax3 = df.plot(y='Years of experience', kind='box')\n",
    "ax4 = df.plot(y='Vacation days', kind='box')"
   ]
  },
  {
   "cell_type": "markdown",
   "id": "647de4c4",
   "metadata": {},
   "source": [
    "### Função para retirada dos outliers\n",
    "Com os gráficos acima foi possível identificar valores outliers. Estes registros podem ser tratados de diversas formas como, por exemplo:\n",
    "- Substituição pela média\n",
    "- Substituição pela mediana\n",
    "- Substituição pelo valor mais frequente (moda)\n",
    "- Exclusão\n",
    "\n",
    "  \n",
    "Para simplificarmos as análises estes valores serão excluídos. Como visto no módulo anterior, para aplicar o mesmo tratamento a diversos campos, utilizamos as funções.  \n",
    "A função abaixo identifica os valores acima fora dos limites do boxplot e exclui o registro."
   ]
  },
  {
   "cell_type": "code",
   "execution_count": 6,
   "id": "b7bf698c",
   "metadata": {
    "scrolled": true
   },
   "outputs": [],
   "source": [
    "# define a function to determine the outliers and exclude them (interquartile range method):\n",
    "\n",
    "def outliers(dataframe, column):\n",
    "    Q1 = dataframe[column].quantile(0.25)\n",
    "    Q3 = dataframe[column].quantile(0.75)\n",
    "    IQR = Q3 - Q1\n",
    "    lower_boundary = Q1 - 1.5 * IQR\n",
    "    upper_boundary = Q3 + 1.5 * IQR\n",
    "    df_new = dataframe.loc[(dataframe[column] >= lower_boundary) & (dataframe[column] <= upper_boundary)]\n",
    "    return df_new"
   ]
  },
  {
   "cell_type": "markdown",
   "id": "6103d546",
   "metadata": {},
   "source": [
    "Aplicação da função aos campos nos quais identificamos outliers"
   ]
  },
  {
   "cell_type": "code",
   "execution_count": 7,
   "id": "0ed8e35e",
   "metadata": {},
   "outputs": [],
   "source": [
    "age = outliers(df, 'Age')\n",
    "experience = outliers(age, 'Years of experience')\n",
    "salary = outliers(experience, 'Yearly salary')\n",
    "df_tratado = outliers(salary, 'Vacation days')"
   ]
  },
  {
   "cell_type": "markdown",
   "id": "4425935a",
   "metadata": {},
   "source": [
    "Com isso é possível continuarmos as análises **sem outliers**."
   ]
  },
  {
   "cell_type": "markdown",
   "id": "7839279c",
   "metadata": {},
   "source": [
    "### Visão da experiência por salário\n",
    "Distribuição dos salários por anos de experiência dos colaboradores que responderam ao survey."
   ]
  },
  {
   "cell_type": "code",
   "execution_count": 8,
   "id": "49523531",
   "metadata": {
    "scrolled": true
   },
   "outputs": [
    {
     "data": {
      "image/png": "[encoded data removed]",
      "text/plain": [
       "<Figure size 432x288 with 1 Axes>"
      ]
     },
     "metadata": {
      "needs_background": "light"
     },
     "output_type": "display_data"
    }
   ],
   "source": [
    "df_tratado.plot(x='Years of experience', y='Yearly salary', kind='scatter');"
   ]
  },
  {
   "cell_type": "code",
   "execution_count": 9,
   "id": "b2240308",
   "metadata": {},
   "outputs": [
    {
     "data": {
      "image/png": "[encoded data removed]",
      "text/plain": [
       "<Figure size 432x288 with 1 Axes>"
      ]
     },
     "metadata": {
      "needs_background": "light"
     },
     "output_type": "display_data"
    }
   ],
   "source": [
    "df_tratado.plot(x='Years of experience', y='Yearly salary', kind='scatter', title='Relação entre anos de experiência e salário', color='red');"
   ]
  },
  {
   "cell_type": "markdown",
   "id": "83a566dd",
   "metadata": {},
   "source": [
    "### Avaliação das características por idade\n",
    "O gráfico de barras neste caso nos dará uma noção da experiência média de cada colaborador dada sua idade"
   ]
  },
  {
   "cell_type": "code",
   "execution_count": 11,
   "id": "3f9ac5ca",
   "metadata": {
    "scrolled": true
   },
   "outputs": [
    {
     "data": {
      "image/png": "[encoded data removed]",
      "text/plain": [
       "<Figure size 864x360 with 1 Axes>"
      ]
     },
     "metadata": {
      "needs_background": "light"
     },
     "output_type": "display_data"
    }
   ],
   "source": [
    "age_experience = age.pivot_table(index='Age', values='Years of experience', aggfunc='mean')\n",
    "age_experience.plot(kind='bar', figsize=(12,5), color='green', title = 'Anos de experiência por idade');"
   ]
  },
  {
   "cell_type": "code",
   "execution_count": null,
   "id": "f2343e7b",
   "metadata": {},
   "outputs": [],
   "source": [
    "age_experience.plot(kind='bar', figsize=(12,5), color='green', title = 'Anos de experiência por idade', legend=None);"
   ]
  },
  {
   "cell_type": "markdown",
   "id": "c18d1f9a",
   "metadata": {},
   "source": [
    "Também podemos plotar os salários anuais médios de cada faixa etária"
   ]
  },
  {
   "cell_type": "code",
   "execution_count": null,
   "id": "137d02cc",
   "metadata": {},
   "outputs": [],
   "source": [
    "age_salary = salary.pivot_table(index='Age', values='Yearly salary', aggfunc='mean')\n",
    "age_salary.plot(kind='bar', figsize=(12,5), color='red', title = 'Salário anual por idade', legend=None);"
   ]
  },
  {
   "cell_type": "code",
   "execution_count": null,
   "id": "5ad84498",
   "metadata": {},
   "outputs": [],
   "source": [
    "position = df.groupby('Position', as_index= False).min().sort_values('Yearly salary', ascending = False).head(15)\n",
    "\n",
    "plt.figure(figsize= (16 , 6))\n",
    "\n",
    "position.plot(kind = 'barh', x = 'Position', y = 'Yearly salary', figsize=(12, 8), title = 'Profissões com maior salario anual', legend=None);"
   ]
  },
  {
   "cell_type": "markdown",
   "id": "57c71ac9",
   "metadata": {},
   "source": [
    "### Distribuição das variáveis categóricas"
   ]
  },
  {
   "cell_type": "code",
   "execution_count": null,
   "id": "7becd2b7",
   "metadata": {
    "scrolled": true
   },
   "outputs": [],
   "source": [
    "df['Gender'].value_counts().plot(kind='pie', autopct='%1.0f%%', legend=True, labeldistance=None);"
   ]
  },
  {
   "cell_type": "markdown",
   "id": "c5bcf56f",
   "metadata": {},
   "source": [
    "O histograma nos mostra uma distribuição de frequência das idades dos colaboradores que responderam ao survey"
   ]
  },
  {
   "cell_type": "code",
   "execution_count": null,
   "id": "4095459c",
   "metadata": {},
   "outputs": [],
   "source": [
    "ax_hist = age.plot(y='Age', kind='hist', bins=10, figsize=(12,6), alpha=0.8)\n",
    "ax_hist.set_xlabel('Idade', fontsize=10)\n",
    "ax_hist.set_title('Histograma da idade', fontsize=15)\n",
    "\n",
    "ax_hist.plot();"
   ]
  },
  {
   "cell_type": "markdown",
   "id": "a3848f44",
   "metadata": {},
   "source": [
    "## Exercício\n",
    "Agora é hora de praticar. Para isso utilizaremos o dataset 'Forbes Highest Paid Athletes 1990-2020' que contém uma lista completa dos atletas mais bem pagos do mundo desde a primeira lista publicada pela Forbes em 1990. Em 2002 o período de relatório do ano civil foi alterado para de junho a junho e, consequentemente, não há registros de 2001.  \n",
    "Usar https://www.kaggle.com/deepthimreddy/13-concusions-eda-on-highest-paid-dataset/notebook e https://www.kaggle.com/rushikeshdarge/forbes-highest-paid-athletes-eda"
   ]
  },
  {
   "cell_type": "markdown",
   "id": "d46cf823",
   "metadata": {},
   "source": [
    "Importe a tabela **Forbes_Richest_Atheletes_1990_2020** que está em csv dentro do diretório **data**"
   ]
  },
  {
   "cell_type": "code",
   "execution_count": null,
   "id": "8a440e00",
   "metadata": {},
   "outputs": [],
   "source": [
    "import pandas as pd\n",
    "import numpy as np\n",
    "import matplotlib.pyplot as plt\n",
    "\n",
    "df_a = pd.read_csv('data/Forbes_Richest_Atheletes_1990_2020.csv')\n",
    "\n",
    "df_a"
   ]
  },
  {
   "cell_type": "markdown",
   "id": "aea84c03",
   "metadata": {},
   "source": [
    "Verifique com a função .info os campos presentes na tabela"
   ]
  },
  {
   "cell_type": "code",
   "execution_count": null,
   "id": "410524e6",
   "metadata": {
    "scrolled": true
   },
   "outputs": [],
   "source": [
    "df_a.info()"
   ]
  },
  {
   "cell_type": "markdown",
   "id": "cd9dd0b7",
   "metadata": {},
   "source": [
    "Imprima as estatísticas padrões do dataframe com a função .describe"
   ]
  },
  {
   "cell_type": "code",
   "execution_count": null,
   "id": "a46c3178",
   "metadata": {},
   "outputs": [],
   "source": [
    "df_a.describe()"
   ]
  },
  {
   "cell_type": "markdown",
   "id": "fcb2e57b",
   "metadata": {},
   "source": [
    "### Gráficos"
   ]
  },
  {
   "cell_type": "markdown",
   "id": "f8ac0ec9",
   "metadata": {},
   "source": [
    "1) Existem outliers nos valores de ganhos dos atletas"
   ]
  },
  {
   "cell_type": "code",
   "execution_count": null,
   "id": "e47964e4",
   "metadata": {
    "scrolled": true
   },
   "outputs": [],
   "source": [
    "df_a.plot(y='earnings ($ million)', kind='box');\n",
    "# sim, existem outliers recebendo $300mm"
   ]
  },
  {
   "cell_type": "markdown",
   "id": "9996bd14",
   "metadata": {},
   "source": []
  },
  {
   "cell_type": "markdown",
   "id": "7360bc1b",
   "metadata": {},
   "source": [
    "2) Faça um gráfico de barras para verificar os ganhos (earnings) anuais dos atletas"
   ]
  },
  {
   "cell_type": "code",
   "execution_count": null,
   "id": "d6512349",
   "metadata": {},
   "outputs": [],
   "source": [
    "df_a.pivot_table(index='Year', values='earnings ($ million)', aggfunc=\"sum\").plot(kind=\"bar\",figsize=(12,6));"
   ]
  },
  {
   "cell_type": "markdown",
   "id": "8f563dc1",
   "metadata": {},
   "source": []
  },
  {
   "cell_type": "markdown",
   "id": "0677a702",
   "metadata": {},
   "source": [
    "3) Quais são os dois atletas que mais aparecem nos registros do dataframe? Para estes atletas, como está a distribuição anual dos ganhos"
   ]
  },
  {
   "cell_type": "code",
   "execution_count": null,
   "id": "36939a40",
   "metadata": {},
   "outputs": [],
   "source": [
    "df_a['Name'].value_counts().head(2)"
   ]
  },
  {
   "cell_type": "code",
   "execution_count": null,
   "id": "708f004d",
   "metadata": {},
   "outputs": [],
   "source": [
    "ax1 = df_a[df_a[\"Name\"]==\"Tiger Woods\"].plot(x=\"Year\", y='earnings ($ million)', kind='line', figsize=(12,6), label='Tiger Woods')\n",
    "ax2 = df_a[df_a[\"Name\"]==\"Michael Jordan\"].plot(x=\"Year\", y='earnings ($ million)', kind='line',label = 'Michael Jordan', ax=ax1)\n",
    "\n",
    "ax1.set_ylabel(\"Ganhos em milhões de dólares\")\n",
    "ax1.set_xlabel(\"Ano\")\n",
    "ax1.set_title(\"Ganhos anuais em milhões de dólares\");"
   ]
  },
  {
   "cell_type": "markdown",
   "id": "991a3ca4",
   "metadata": {},
   "source": []
  },
  {
   "cell_type": "markdown",
   "id": "0eb2434f",
   "metadata": {},
   "source": [
    "4) Construa um gráfico de **barras horizontais** com os top 15 atletas em **média** de ganhos"
   ]
  },
  {
   "cell_type": "code",
   "execution_count": null,
   "id": "afc2f056",
   "metadata": {},
   "outputs": [],
   "source": [
    "df_a.groupby(\"Name\", as_index=False).mean().sort_values('earnings ($ million)', ascending=False).head(15)"
   ]
  },
  {
   "cell_type": "markdown",
   "id": "d06c1aa3",
   "metadata": {},
   "source": []
  },
  {
   "cell_type": "markdown",
   "id": "c7cc10b5",
   "metadata": {},
   "source": [
    "5) Gráfico de pizza as contagens dos países"
   ]
  },
  {
   "cell_type": "code",
   "execution_count": null,
   "id": "4fb171c5",
   "metadata": {},
   "outputs": [],
   "source": [
    "df_a.groupby['Nationality'].value_counts()\n"
   ]
  },
  {
   "cell_type": "markdown",
   "id": "b251b382",
   "metadata": {},
   "source": []
  },
  {
   "cell_type": "markdown",
   "id": "8eaf0b85",
   "metadata": {},
   "source": [
    "6) Dado o gráfico produzido acima construa um gráfico apenas com os países que obtiveram maior quantidade de atletas representados (USA, UK, Germany, Switzerland, Portugal) dos ganhos acumulados por país em função do tempo. Utilize um gráfico de linhas."
   ]
  },
  {
   "cell_type": "code",
   "execution_count": null,
   "id": "4b98293f",
   "metadata": {},
   "outputs": [],
   "source": [
    "ax1 = df_a[df_a[\"Nationality\"]==\"USA\"].plot(x=\"Year\", y='earnings ($ million)', kind='line', figsize=(12,6), label='USA')\n",
    "ax2 = df_a[df_a[\"Nationality\"]==\"UK\"].plot(x=\"Year\", y='earnings ($ million)', kind='line',label = 'UK', ax=ax1)\n",
    "ax2 = df_a[df_a[\"Nationality\"]==\"Germany\"].plot(x=\"Year\", y='earnings ($ million)', kind='line',label = 'Germany', ax=ax1)\n",
    "ax2 = df_a[df_a[\"Nationality\"]==\"Switzerland\"].plot(x=\"Year\", y='earnings ($ million)', kind='line',label = 'Switzerland',ax=ax1)\n",
    "ax2 = df_a[df_a[\"Nationality\"]==\"Portugal\"].plot(x=\"Year\", y='earnings ($ million)', kind='line',label = 'Portugal', ax=ax1)\n",
    "\n",
    "ax1.set_ylabel(\"Ganhos em milhões de dólares\")\n",
    "ax1.set_xlabel(\"Ano\")\n",
    "ax1.set_title(\"Ganhos anuais em milhões de dólares\");"
   ]
  },
  {
   "cell_type": "markdown",
   "id": "79f0e0e1",
   "metadata": {},
   "source": []
  },
  {
   "cell_type": "markdown",
   "id": "bdceb2a8",
   "metadata": {},
   "source": [
    "7) Faça um gráfico de pizza para verificar qual esporte mais aparece nestas listas"
   ]
  },
  {
   "cell_type": "code",
   "execution_count": null,
   "id": "a3a0ea09",
   "metadata": {},
   "outputs": [],
   "source": [
    "df_a['Sport'].value_counts().plot.pie(figsize=(20,10));"
   ]
  },
  {
   "cell_type": "markdown",
   "id": "aa3b7477",
   "metadata": {},
   "source": []
  },
  {
   "cell_type": "markdown",
   "id": "9839a3a8",
   "metadata": {},
   "source": [
    "8) Construa dois gráfico de barras para verificar os ganhos por esporte, sendo o primeiro dos ganhos médios e o segundo da somatória."
   ]
  },
  {
   "cell_type": "code",
   "execution_count": null,
   "id": "92fe06ce",
   "metadata": {
    "scrolled": false
   },
   "outputs": [],
   "source": [
    "ax_bar = df_a.pivot_table(index='Sport', values='earnings ($ million)', aggfunc=\"mean\").plot(kind=\"barh\",figsize=(20,10));\n",
    "\n",
    "ax_bar.set_ylabel('Sport', fontsize=20)\n",
    "ax_bar.set_xlabel('Average Earnings', fontsize=20)\n",
    "\n",
    "plt.show()"
   ]
  },
  {
   "cell_type": "code",
   "execution_count": null,
   "id": "af731331",
   "metadata": {},
   "outputs": [],
   "source": [
    "ax_bar = df_a.pivot_table(index='Sport', values='earnings ($ million)', aggfunc=\"sum\").plot(kind=\"barh\",figsize=(20,10));\n",
    "\n",
    "ax_bar.set_ylabel('Sport', fontsize=20)\n",
    "ax_bar.set_xlabel('Total Earnings', fontsize=20)\n",
    "\n",
    "plt.show()"
   ]
  },
  {
   "cell_type": "markdown",
   "id": "4827a9c2",
   "metadata": {},
   "source": []
  }
 ],
 "metadata": {
  "kernelspec": {
   "display_name": "Python 3",
   "language": "python",
   "name": "python3"
  },
  "language_info": {
   "codemirror_mode": {
    "name": "ipython",
    "version": 3
   },
   "file_extension": ".py",
   "mimetype": "text/x-python",
   "name": "python",
   "nbconvert_exporter": "python",
   "pygments_lexer": "ipython3",
   "version": "3.8.8"
  }
 },
 "nbformat": 4,
 "nbformat_minor": 5
}
