{
 "cells": [
  {
   "cell_type": "markdown",
   "id": "de0fac3c",
   "metadata": {},
   "source": [
    "# Módulo 5 - Técnicas de Programação II\n",
    "## Aula 2\n",
    "- Gráficos com Pandas\n",
    "- EDA (Exploratory Data Analysis)\n",
    "- Exercícios"
   ]
  },
  {
   "cell_type": "markdown",
   "id": "cf8dade5",
   "metadata": {},
   "source": [
    "### Introdução\n",
    "\n",
    "Gráficos são representações visuais dos dados, que buscam facilitar o entendimento dos mesmos. Podem ser muito úteis na identificação de variáveis importantes para uma modelagem ou tomada de decisão.\n",
    "\n",
    "\n",
    "**Tipos de gráficos mais usuais:**\n",
    "- **Scatter plot (ou gráfico de dispersão):**\n",
    "Dadas duas variáveis X e Y, cada observação (par de valores (x,y)) é representado por um ponto no gráfico. Na imagem abaixo, uma observação (x,y) = (4,5) é representada pelo X vermelho.\n",
    "<img src=\"./images/img_scatterplot_editada.png\" alt=\"Drawing\" style=\"width: 500px;\"/>\n",
    "\n",
    "- **Gráfico de linhas:**\n",
    "O gráfico de linhas é muito utilizado quando estamos querendo encontrar tendências de um conjunto de variáveis. No geral, a variável alocada no eixo horizontal representa categorias ordinais, geralmente temporais (como por exemplo: meses, anos, dias, semanas, lotes em ordem de fabricação etc). Para construí-lo, primeiro aplica-se um gráfico de dispersão dessas variáveis, e depois unem-se os pontos por linhas, como mostra a imagem abaixo. Podemos imaginar que cada categoria é um lote de produção de uma mercadoria (em que o lote 1 foi produzido antes do lote 2, e assim por diante), e no eixo vertical, têm se a quantidade vendida de cada lote. Ainda, há 3 séries representadas por cores, que podem representar, por exemplo, três clientes diferentes que adquiriram as mercadorias.\n",
    "<img src=\"./images/grafico_linhas.jpg\" alt=\"Drawing\" style=\"width: 500px;\"/>\n",
    "\n",
    "- **Gráfico de pizza/Pie plot (ou gráfico de setores):**\n",
    "Este gráfico tem como objetivo representar um valor relativo de cada categoria em relação a um todo. Exemplo: de todo o lucro de uma empresa revendedora de aparelhos celular, quantos porcento são relativos a cada marca de produto comercializado.\n",
    "<img src=\"./images/grafico_pizza.png\" alt=\"Drawing\" style=\"width: 400px;\"/>\n",
    "\n",
    "- **Gráfico de barras (horizontal e vertical):**\n",
    "Um gráfico de barras é uma forma de visualização de dados categóricos, em que cada categoria é representada por uma barra, cujo tamanho representa sua frequência/quantidade de observações. Pode ser representado de forma vertical (conhecido também como gráfico de colunas) ou de forma horizontal (em que o gráfico parece \"deitado\". No exemplo abaixo, o mesmo conjunto de dados é representado das duas formas. \n",
    "\n",
    "Observação: Aqui, os valores \"1\", \"2\" e \"3\" das barras representam categorias, e não uma variável contínua.\n",
    "<img src=\"./images/grafico_barras.png\" alt=\"Drawing\" style=\"width: 500px;\"/>\n",
    "\n",
    "- **Histograma:** \n",
    "Um histograma é muito parecido com um gráfico de barras, e possui a mesma ideia: cada coluna representa uma frequência/quantidade. Entretanto, o eixo horizontal deste tipo de gráfico é uma variável contínua, e a ideia é observar a distribuição das observações desta variável. Exemplos de perguntas que podemos estar tentando responder ao analisar esse tipo de gráfico, são: \"quais são os valores mais frequentes nessa variável contínua?\" e \"Qual a probabilidade de uma nova observação ter determinado valor?\"\n",
    "\n",
    "Para se construir as barras deste gráfico, a variável contínua é agrupada em intervalos, e o tamanho da barra representa o número de observações que possuem valores dentro deste intervalo. É comum encontrar histogramas com um traço linear ligando o topo dessas barras pelo meio, de forma a facilitar a identificação de uma distribuição estatística.\n",
    "<img src=\"./images/histograma.png\" alt=\"Drawing\" style=\"width: 500px;\"/>\n",
    "\n",
    "- **Box-Plot:**\n",
    "Os box-plot, assim como os histogramas, são gráficos estatísticos que permitem analisar uma distribuição dos dados, mas com uma representação diferente. Apesar de muito utilizados por estatísticos e cientistas de dados, a maioria das pessoas que não estão acostumadas a eles, têm dificuldade em interpretá-los. \n",
    "\n",
    "A representação do box-plot se baseia em medidas de quartis: uma caixinha central é desenhada ligando o primeiro (Q1) e terceiro (Q3) quartis (25% e 75%, respectivamente), e uma reta corta essa 'caixa' no quartil central (Q2 = 50%). Na parte inferior e superior do gráfico, é traçada uma reta de tamanho máximo 1.5xIQ, em que IQ = Q3-Q1. Essa reta é traçada até o último valor da variável que ainda esteja dentro desse limite. Observações acima ou abaixo dele, são representadas por bolinhas, e muito chamadas de 'outliers' (valor atípico). Abaixo, uma representação dos componentes de um box-plot, e um gráfico exibindo box-plots das distribuições de temperaturas de diferentes cidades.\n",
    "<img src=\"./images/boxplot2.png\" alt=\"Drawing\" style=\"width: 500px;\"/>\n",
    "<img src=\"./images/boxplot.png\" alt=\"Drawing\" style=\"width: 500px;\"/>"
   ]
  },
  {
   "cell_type": "markdown",
   "id": "d91605b1",
   "metadata": {},
   "source": [
    "## Gráficos com pandas\n",
    "\n",
    "A biblioteca pandas, que estudamos no módulo 4, permite realizar alguns gráficos simples, baseados na biblioteca matplotlib. Vamos aprender a aplicá-los utilizando a base de dados do titanic como exemplo.  \n",
    "\n",
    "**Documentação:** https://pandas.pydata.org/docs/reference/api/pandas.DataFrame.plot.html"
   ]
  },
  {
   "cell_type": "code",
   "execution_count": null,
   "id": "c15eaa8b",
   "metadata": {},
   "outputs": [],
   "source": [
    "import pandas as pd\n",
    "import numpy as np\n",
    "import matplotlib.pyplot as plt\n",
    "\n",
    "df_size = pd.read_csv('./data/penguins_size.csv')"
   ]
  },
  {
   "cell_type": "markdown",
   "id": "47b5af03",
   "metadata": {},
   "source": [
    "## Histograma"
   ]
  },
  {
   "cell_type": "code",
   "execution_count": null,
   "id": "fbf0b2cf",
   "metadata": {
    "scrolled": false
   },
   "outputs": [],
   "source": [
    "## Brincar com bins\n",
    "ax_hist = df_size.plot(y='body_mass_g', kind='hist', bins=10, figsize=(15,10))\n",
    "ax_hist.set_xlabel('Massa dos Pinguins', fontsize=15)\n",
    "\n",
    "ax_hist.plot();"
   ]
  },
  {
   "cell_type": "markdown",
   "id": "88db82af",
   "metadata": {},
   "source": [
    "## Boxplot"
   ]
  },
  {
   "cell_type": "code",
   "execution_count": null,
   "id": "8af970e3",
   "metadata": {},
   "outputs": [],
   "source": [
    "df_size.plot(y='body_mass_g', kind='box');"
   ]
  },
  {
   "cell_type": "markdown",
   "id": "3668fd2b",
   "metadata": {},
   "source": [
    "## Exemplo de EDA com Pandas\n",
    "Para exemplificar o processo de Análise Exploratória de Dados utilizaremos um survey respondido por profissionais de TI da União Europeia, com informações pessoais como idade, gênero, cidade e também relacionadas às respectivas carreiras como posição na empresa, anos de experiência."
   ]
  },
  {
   "cell_type": "code",
   "execution_count": null,
   "id": "949295ea",
   "metadata": {},
   "outputs": [],
   "source": [
    "df = pd.read_excel('./data/IT_Salary_Survey_EU_2020.xlsx')\n",
    "df.head()"
   ]
  },
  {
   "cell_type": "markdown",
   "id": "4aa4ed89",
   "metadata": {},
   "source": [
    "### Outliers\n",
    "É muito comum utilizarmos os **boxplot** para plotarmos variáveis contínuas e assim verificarmos se há outliers entre os valores. No dataset de estudo verificaremos as variáveis de Idade, Anos de Experiência, Salário anual e Dias de férias. "
   ]
  },
  {
   "cell_type": "code",
   "execution_count": null,
   "id": "ce739cd4",
   "metadata": {
    "scrolled": false
   },
   "outputs": [],
   "source": [
    "ax1 = df.plot(y='Age', kind='box')\n",
    "ax2 = df.plot(y='Yearly salary', kind='box')\n",
    "ax3 = df.plot(y='Years of experience', kind='box')\n",
    "ax4 = df.plot(y='Vacation days', kind='box')"
   ]
  },
  {
   "cell_type": "markdown",
   "id": "647de4c4",
   "metadata": {},
   "source": [
    "### Função para retirada dos outliers\n",
    "Com os gráficos acima foi possível identificar valores outliers. Estes registros podem ser tratados de diversas formas como, por exemplo:\n",
    "- Substituição pela média\n",
    "- Substituição pela mediana\n",
    "- Substituição pelo valor mais frequente (moda)\n",
    "- Exclusão\n",
    "\n",
    "  \n",
    "Para simplificarmos as análises estes valores serão excluídos. Como visto no módulo anterior, para aplicar o mesmo tratamento a diversos campos, utilizamos as funções.  \n",
    "A função abaixo identifica os valores acima fora dos limites do boxplot e exclui o registro."
   ]
  },
  {
   "cell_type": "code",
   "execution_count": null,
   "id": "b7bf698c",
   "metadata": {
    "scrolled": true
   },
   "outputs": [],
   "source": [
    "# define a function to determine the outliers and exclude them (interquartile range method):\n",
    "\n",
    "def outliers(dataframe, column):\n",
    "    Q1 = dataframe[column].quantile(0.25)\n",
    "    Q3 = dataframe[column].quantile(0.75)\n",
    "    IQR = Q3 - Q1\n",
    "    lower_boundary = Q1 - 1.5 * IQR\n",
    "    upper_boundary = Q3 + 1.5 * IQR\n",
    "    df_new = dataframe.loc[(dataframe[column] >= lower_boundary) & (dataframe[column] <= upper_boundary)]\n",
    "    return df_new"
   ]
  },
  {
   "cell_type": "markdown",
   "id": "6103d546",
   "metadata": {},
   "source": [
    "Aplicação da função aos campos nos quais identificamos outliers"
   ]
  },
  {
   "cell_type": "code",
   "execution_count": null,
   "id": "0ed8e35e",
   "metadata": {},
   "outputs": [],
   "source": [
    "age = outliers(df, 'Age')\n",
    "experience = outliers(age, 'Years of experience')\n",
    "salary = outliers(experience, 'Yearly salary')\n",
    "df_tratado = outliers(salary, 'Vacation days')"
   ]
  },
  {
   "cell_type": "markdown",
   "id": "4425935a",
   "metadata": {},
   "source": [
    "Com isso é possível continuarmos as análises **sem outliers**."
   ]
  },
  {
   "cell_type": "markdown",
   "id": "7839279c",
   "metadata": {},
   "source": [
    "### Visão da experiência por salário\n",
    "Distribuição dos salários por anos de experiência dos colaboradores que responderam ao survey."
   ]
  },
  {
   "cell_type": "code",
   "execution_count": null,
   "id": "49523531",
   "metadata": {
    "scrolled": true
   },
   "outputs": [],
   "source": [
    "df_tratado.plot(x='Years of experience', y='Yearly salary', kind='scatter');"
   ]
  },
  {
   "cell_type": "code",
   "execution_count": null,
   "id": "b2240308",
   "metadata": {},
   "outputs": [],
   "source": [
    "df_tratado.plot(x='Years of experience', y='Yearly salary', kind='scatter', title='Relação entre anos de experiência e salário', color='red');"
   ]
  },
  {
   "cell_type": "markdown",
   "id": "83a566dd",
   "metadata": {},
   "source": [
    "### Avaliação das características por idade\n",
    "O gráfico de barras neste caso nos dará uma noção da experiência média de cada colaborador dada sua idade"
   ]
  },
  {
   "cell_type": "code",
   "execution_count": null,
   "id": "3f9ac5ca",
   "metadata": {
    "scrolled": true
   },
   "outputs": [],
   "source": [
    "age_experience = age.pivot_table(index='Age', values='Years of experience', aggfunc='mean')\n",
    "age_experience.plot(kind='bar', figsize=(12,5), color='green', title = 'Anos de experiência por idade');"
   ]
  },
  {
   "cell_type": "code",
   "execution_count": null,
   "id": "f2343e7b",
   "metadata": {},
   "outputs": [],
   "source": [
    "age_experience.plot(kind='bar', figsize=(12,5), color='green', title = 'Anos de experiência por idade', legend=None);"
   ]
  },
  {
   "cell_type": "markdown",
   "id": "c18d1f9a",
   "metadata": {},
   "source": [
    "Também podemos plotar os salários anuais médios de cada faixa etária"
   ]
  },
  {
   "cell_type": "code",
   "execution_count": null,
   "id": "137d02cc",
   "metadata": {},
   "outputs": [],
   "source": [
    "age_salary = salary.pivot_table(index='Age', values='Yearly salary', aggfunc='mean')\n",
    "age_salary.plot(kind='bar', figsize=(12,5), color='red', title = 'Salário anual por idade', legend=None);"
   ]
  },
  {
   "cell_type": "code",
   "execution_count": null,
   "id": "5ad84498",
   "metadata": {},
   "outputs": [],
   "source": [
    "position = df.groupby('Position', as_index= False).min().sort_values('Yearly salary', ascending = False).head(15)\n",
    "\n",
    "plt.figure(figsize= (16 , 6))\n",
    "position.plot(kind = 'barh', x = 'Position', y = 'Yearly salary', figsize=(12, 8), title = 'Profissões com maior salario anual', legend=None);"
   ]
  },
  {
   "cell_type": "markdown",
   "id": "57c71ac9",
   "metadata": {},
   "source": [
    "### Distribuição das variáveis categóricas"
   ]
  },
  {
   "cell_type": "code",
   "execution_count": null,
   "id": "7becd2b7",
   "metadata": {
    "scrolled": true
   },
   "outputs": [],
   "source": [
    "df['Gender'].value_counts().plot(kind='pie', autopct='%1.0f%%', legend=True, labeldistance=None);"
   ]
  },
  {
   "cell_type": "markdown",
   "id": "c5bcf56f",
   "metadata": {},
   "source": [
    "O histograma nos mostra uma distribuição de frequência das idades dos colaboradores que responderam ao survey"
   ]
  },
  {
   "cell_type": "code",
   "execution_count": null,
   "id": "4095459c",
   "metadata": {},
   "outputs": [],
   "source": [
    "ax_hist = age.plot(y='Age', kind='hist', bins=10, figsize=(12,6), alpha=0.8)\n",
    "ax_hist.set_xlabel('Idade', fontsize=10)\n",
    "ax_hist.set_title('Histograma da idade', fontsize=15)\n",
    "\n",
    "ax_hist.plot();"
   ]
  },
  {
   "cell_type": "markdown",
   "id": "a3848f44",
   "metadata": {},
   "source": [
    "## Exercício\n",
    "Agora é hora de praticar. Para isso utilizaremos o dataset 'Forbes Highest Paid Athletes 1990-2020' que contém uma lista completa dos atletas mais bem pagos do mundo desde a primeira lista publicada pela Forbes em 1990. Em 2002 o período de relatório do ano civil foi alterado para de junho a junho e, consequentemente, não há registros de 2001.  \n",
    "Usar https://www.kaggle.com/deepthimreddy/13-concusions-eda-on-highest-paid-dataset/notebook e https://www.kaggle.com/rushikeshdarge/forbes-highest-paid-athletes-eda"
   ]
  },
  {
   "cell_type": "markdown",
   "id": "d46cf823",
   "metadata": {},
   "source": [
    "Importe a tabela **Forbes_Richest_Atheletes_1990_2020** que está em csv dentro do diretório **data**"
   ]
  },
  {
   "cell_type": "code",
   "execution_count": 3,
   "id": "8a440e00",
   "metadata": {},
   "outputs": [
    {
     "data": {
      "text/html": [
       "<div>\n",
       "<style scoped>\n",
       "    .dataframe tbody tr th:only-of-type {\n",
       "        vertical-align: middle;\n",
       "    }\n",
       "\n",
       "    .dataframe tbody tr th {\n",
       "        vertical-align: top;\n",
       "    }\n",
       "\n",
       "    .dataframe thead th {\n",
       "        text-align: right;\n",
       "    }\n",
       "</style>\n",
       "<table border=\"1\" class=\"dataframe\">\n",
       "  <thead>\n",
       "    <tr style=\"text-align: right;\">\n",
       "      <th></th>\n",
       "      <th>S.NO</th>\n",
       "      <th>Name</th>\n",
       "      <th>Nationality</th>\n",
       "      <th>Current Rank</th>\n",
       "      <th>Previous Year Rank</th>\n",
       "      <th>Sport</th>\n",
       "      <th>Year</th>\n",
       "      <th>earnings ($ million)</th>\n",
       "    </tr>\n",
       "  </thead>\n",
       "  <tbody>\n",
       "    <tr>\n",
       "      <th>0</th>\n",
       "      <td>1</td>\n",
       "      <td>Mike Tyson</td>\n",
       "      <td>USA</td>\n",
       "      <td>1</td>\n",
       "      <td>NaN</td>\n",
       "      <td>boxing</td>\n",
       "      <td>1990</td>\n",
       "      <td>28.6</td>\n",
       "    </tr>\n",
       "    <tr>\n",
       "      <th>1</th>\n",
       "      <td>2</td>\n",
       "      <td>Buster Douglas</td>\n",
       "      <td>USA</td>\n",
       "      <td>2</td>\n",
       "      <td>NaN</td>\n",
       "      <td>boxing</td>\n",
       "      <td>1990</td>\n",
       "      <td>26.0</td>\n",
       "    </tr>\n",
       "    <tr>\n",
       "      <th>2</th>\n",
       "      <td>3</td>\n",
       "      <td>Sugar Ray Leonard</td>\n",
       "      <td>USA</td>\n",
       "      <td>3</td>\n",
       "      <td>NaN</td>\n",
       "      <td>boxing</td>\n",
       "      <td>1990</td>\n",
       "      <td>13.0</td>\n",
       "    </tr>\n",
       "    <tr>\n",
       "      <th>3</th>\n",
       "      <td>4</td>\n",
       "      <td>Ayrton Senna</td>\n",
       "      <td>Brazil</td>\n",
       "      <td>4</td>\n",
       "      <td>NaN</td>\n",
       "      <td>auto racing</td>\n",
       "      <td>1990</td>\n",
       "      <td>10.0</td>\n",
       "    </tr>\n",
       "    <tr>\n",
       "      <th>4</th>\n",
       "      <td>5</td>\n",
       "      <td>Alain Prost</td>\n",
       "      <td>France</td>\n",
       "      <td>5</td>\n",
       "      <td>NaN</td>\n",
       "      <td>auto racing</td>\n",
       "      <td>1990</td>\n",
       "      <td>9.0</td>\n",
       "    </tr>\n",
       "    <tr>\n",
       "      <th>...</th>\n",
       "      <td>...</td>\n",
       "      <td>...</td>\n",
       "      <td>...</td>\n",
       "      <td>...</td>\n",
       "      <td>...</td>\n",
       "      <td>...</td>\n",
       "      <td>...</td>\n",
       "      <td>...</td>\n",
       "    </tr>\n",
       "    <tr>\n",
       "      <th>296</th>\n",
       "      <td>297</td>\n",
       "      <td>Stephen Curry</td>\n",
       "      <td>USA</td>\n",
       "      <td>6</td>\n",
       "      <td>9</td>\n",
       "      <td>Basketball</td>\n",
       "      <td>2020</td>\n",
       "      <td>74.4</td>\n",
       "    </tr>\n",
       "    <tr>\n",
       "      <th>297</th>\n",
       "      <td>298</td>\n",
       "      <td>Kevin Durant</td>\n",
       "      <td>USA</td>\n",
       "      <td>7</td>\n",
       "      <td>10</td>\n",
       "      <td>Basketball</td>\n",
       "      <td>2020</td>\n",
       "      <td>63.9</td>\n",
       "    </tr>\n",
       "    <tr>\n",
       "      <th>298</th>\n",
       "      <td>299</td>\n",
       "      <td>Tiger Woods</td>\n",
       "      <td>USA</td>\n",
       "      <td>8</td>\n",
       "      <td>11</td>\n",
       "      <td>Golf</td>\n",
       "      <td>2020</td>\n",
       "      <td>62.3</td>\n",
       "    </tr>\n",
       "    <tr>\n",
       "      <th>299</th>\n",
       "      <td>300</td>\n",
       "      <td>Kirk Cousins</td>\n",
       "      <td>USA</td>\n",
       "      <td>9</td>\n",
       "      <td>&gt;100</td>\n",
       "      <td>American Football</td>\n",
       "      <td>2020</td>\n",
       "      <td>60.5</td>\n",
       "    </tr>\n",
       "    <tr>\n",
       "      <th>300</th>\n",
       "      <td>301</td>\n",
       "      <td>Carson Wentz</td>\n",
       "      <td>USA</td>\n",
       "      <td>10</td>\n",
       "      <td>&gt;100</td>\n",
       "      <td>American Football</td>\n",
       "      <td>2020</td>\n",
       "      <td>59.1</td>\n",
       "    </tr>\n",
       "  </tbody>\n",
       "</table>\n",
       "<p>301 rows × 8 columns</p>\n",
       "</div>"
      ],
      "text/plain": [
       "     S.NO               Name Nationality  Current Rank Previous Year Rank  \\\n",
       "0       1         Mike Tyson         USA             1                NaN   \n",
       "1       2     Buster Douglas         USA             2                NaN   \n",
       "2       3  Sugar Ray Leonard         USA             3                NaN   \n",
       "3       4       Ayrton Senna      Brazil             4                NaN   \n",
       "4       5        Alain Prost      France             5                NaN   \n",
       "..    ...                ...         ...           ...                ...   \n",
       "296   297      Stephen Curry         USA             6                  9   \n",
       "297   298       Kevin Durant         USA             7                 10   \n",
       "298   299        Tiger Woods         USA             8                 11   \n",
       "299   300       Kirk Cousins         USA             9               >100   \n",
       "300   301       Carson Wentz         USA            10               >100   \n",
       "\n",
       "                 Sport  Year  earnings ($ million)  \n",
       "0               boxing  1990                  28.6  \n",
       "1               boxing  1990                  26.0  \n",
       "2               boxing  1990                  13.0  \n",
       "3          auto racing  1990                  10.0  \n",
       "4          auto racing  1990                   9.0  \n",
       "..                 ...   ...                   ...  \n",
       "296         Basketball  2020                  74.4  \n",
       "297         Basketball  2020                  63.9  \n",
       "298               Golf  2020                  62.3  \n",
       "299  American Football  2020                  60.5  \n",
       "300  American Football  2020                  59.1  \n",
       "\n",
       "[301 rows x 8 columns]"
      ]
     },
     "execution_count": 3,
     "metadata": {},
     "output_type": "execute_result"
    }
   ],
   "source": [
    "import pandas as pd\n",
    "import numpy as np\n",
    "import matplotlib.pyplot as plt\n",
    "\n",
    "df_a = pd.read_csv('data/Forbes_Richest_Atheletes_1990_2020.csv')\n",
    "\n",
    "df_a"
   ]
  },
  {
   "cell_type": "markdown",
   "id": "aea84c03",
   "metadata": {},
   "source": [
    "Verifique com a função .info os campos presentes na tabela"
   ]
  },
  {
   "cell_type": "code",
   "execution_count": 4,
   "id": "410524e6",
   "metadata": {
    "scrolled": true
   },
   "outputs": [
    {
     "name": "stdout",
     "output_type": "stream",
     "text": [
      "<class 'pandas.core.frame.DataFrame'>\n",
      "RangeIndex: 301 entries, 0 to 300\n",
      "Data columns (total 8 columns):\n",
      " #   Column                Non-Null Count  Dtype  \n",
      "---  ------                --------------  -----  \n",
      " 0   S.NO                  301 non-null    int64  \n",
      " 1   Name                  301 non-null    object \n",
      " 2   Nationality           301 non-null    object \n",
      " 3   Current Rank          301 non-null    int64  \n",
      " 4   Previous Year Rank    277 non-null    object \n",
      " 5   Sport                 301 non-null    object \n",
      " 6   Year                  301 non-null    int64  \n",
      " 7   earnings ($ million)  301 non-null    float64\n",
      "dtypes: float64(1), int64(3), object(4)\n",
      "memory usage: 18.9+ KB\n"
     ]
    }
   ],
   "source": [
    "df_a.info()"
   ]
  },
  {
   "cell_type": "markdown",
   "id": "cd9dd0b7",
   "metadata": {},
   "source": [
    "Imprima as estatísticas padrões do dataframe com a função .describe"
   ]
  },
  {
   "cell_type": "code",
   "execution_count": 5,
   "id": "a46c3178",
   "metadata": {},
   "outputs": [
    {
     "data": {
      "text/html": [
       "<div>\n",
       "<style scoped>\n",
       "    .dataframe tbody tr th:only-of-type {\n",
       "        vertical-align: middle;\n",
       "    }\n",
       "\n",
       "    .dataframe tbody tr th {\n",
       "        vertical-align: top;\n",
       "    }\n",
       "\n",
       "    .dataframe thead th {\n",
       "        text-align: right;\n",
       "    }\n",
       "</style>\n",
       "<table border=\"1\" class=\"dataframe\">\n",
       "  <thead>\n",
       "    <tr style=\"text-align: right;\">\n",
       "      <th></th>\n",
       "      <th>S.NO</th>\n",
       "      <th>Current Rank</th>\n",
       "      <th>Year</th>\n",
       "      <th>earnings ($ million)</th>\n",
       "    </tr>\n",
       "  </thead>\n",
       "  <tbody>\n",
       "    <tr>\n",
       "      <th>count</th>\n",
       "      <td>301.000000</td>\n",
       "      <td>301.000000</td>\n",
       "      <td>301.000000</td>\n",
       "      <td>301.000000</td>\n",
       "    </tr>\n",
       "    <tr>\n",
       "      <th>mean</th>\n",
       "      <td>151.000000</td>\n",
       "      <td>5.448505</td>\n",
       "      <td>2005.122924</td>\n",
       "      <td>45.516279</td>\n",
       "    </tr>\n",
       "    <tr>\n",
       "      <th>std</th>\n",
       "      <td>87.035433</td>\n",
       "      <td>2.850995</td>\n",
       "      <td>9.063563</td>\n",
       "      <td>33.525337</td>\n",
       "    </tr>\n",
       "    <tr>\n",
       "      <th>min</th>\n",
       "      <td>1.000000</td>\n",
       "      <td>1.000000</td>\n",
       "      <td>1990.000000</td>\n",
       "      <td>8.100000</td>\n",
       "    </tr>\n",
       "    <tr>\n",
       "      <th>25%</th>\n",
       "      <td>76.000000</td>\n",
       "      <td>3.000000</td>\n",
       "      <td>1997.000000</td>\n",
       "      <td>24.000000</td>\n",
       "    </tr>\n",
       "    <tr>\n",
       "      <th>50%</th>\n",
       "      <td>151.000000</td>\n",
       "      <td>5.000000</td>\n",
       "      <td>2005.000000</td>\n",
       "      <td>39.000000</td>\n",
       "    </tr>\n",
       "    <tr>\n",
       "      <th>75%</th>\n",
       "      <td>226.000000</td>\n",
       "      <td>8.000000</td>\n",
       "      <td>2013.000000</td>\n",
       "      <td>59.400000</td>\n",
       "    </tr>\n",
       "    <tr>\n",
       "      <th>max</th>\n",
       "      <td>301.000000</td>\n",
       "      <td>10.000000</td>\n",
       "      <td>2020.000000</td>\n",
       "      <td>300.000000</td>\n",
       "    </tr>\n",
       "  </tbody>\n",
       "</table>\n",
       "</div>"
      ],
      "text/plain": [
       "             S.NO  Current Rank         Year  earnings ($ million)\n",
       "count  301.000000    301.000000   301.000000            301.000000\n",
       "mean   151.000000      5.448505  2005.122924             45.516279\n",
       "std     87.035433      2.850995     9.063563             33.525337\n",
       "min      1.000000      1.000000  1990.000000              8.100000\n",
       "25%     76.000000      3.000000  1997.000000             24.000000\n",
       "50%    151.000000      5.000000  2005.000000             39.000000\n",
       "75%    226.000000      8.000000  2013.000000             59.400000\n",
       "max    301.000000     10.000000  2020.000000            300.000000"
      ]
     },
     "execution_count": 5,
     "metadata": {},
     "output_type": "execute_result"
    }
   ],
   "source": [
    "df_a.describe()"
   ]
  },
  {
   "cell_type": "markdown",
   "id": "fcb2e57b",
   "metadata": {},
   "source": [
    "### Gráficos"
   ]
  },
  {
   "cell_type": "markdown",
   "id": "f8ac0ec9",
   "metadata": {},
   "source": [
    "1) Existem outliers nos valores de ganhos dos atletas"
   ]
  },
  {
   "cell_type": "code",
   "execution_count": 6,
   "id": "e47964e4",
   "metadata": {
    "scrolled": true
   },
   "outputs": [
    {
     "data": {
      "image/png": "[encoded data removed]",
      "text/plain": [
       "<Figure size 432x288 with 1 Axes>"
      ]
     },
     "metadata": {
      "needs_background": "light"
     },
     "output_type": "display_data"
    }
   ],
   "source": [
    "df_a.plot(y='earnings ($ million)', kind='box');\n",
    "# sim, existem outliers recebendo $300mm"
   ]
  },
  {
   "cell_type": "markdown",
   "id": "9996bd14",
   "metadata": {},
   "source": []
  },
  {
   "cell_type": "markdown",
   "id": "7360bc1b",
   "metadata": {},
   "source": [
    "2) Faça um gráfico de barras para verificar os ganhos (earnings) anuais dos atletas"
   ]
  },
  {
   "cell_type": "code",
   "execution_count": 51,
   "id": "d6512349",
   "metadata": {},
   "outputs": [
    {
     "data": {
      "image/png": "[encoded data removed]",
      "text/plain": [
       "<Figure size 864x432 with 1 Axes>"
      ]
     },
     "metadata": {
      "needs_background": "light"
     },
     "output_type": "display_data"
    }
   ],
   "source": [
    "df_a.pivot_table(index='Year', values='earnings ($ million)', aggfunc=\"sum\").plot(kind=\"bar\",figsize=(12,6));"
   ]
  },
  {
   "cell_type": "markdown",
   "id": "8f563dc1",
   "metadata": {},
   "source": []
  },
  {
   "cell_type": "markdown",
   "id": "0677a702",
   "metadata": {},
   "source": [
    "3) Quais são os dois atletas que mais aparecem nos registros do dataframe? Para estes atletas, como está a distribuição anual dos ganhos"
   ]
  },
  {
   "cell_type": "code",
   "execution_count": 41,
   "id": "36939a40",
   "metadata": {},
   "outputs": [
    {
     "data": {
      "text/plain": [
       "Tiger Woods       19\n",
       "Michael Jordan    19\n",
       "Name: Name, dtype: int64"
      ]
     },
     "execution_count": 41,
     "metadata": {},
     "output_type": "execute_result"
    }
   ],
   "source": [
    "df_a['Name'].value_counts().head(2)"
   ]
  },
  {
   "cell_type": "code",
   "execution_count": 63,
   "id": "708f004d",
   "metadata": {},
   "outputs": [
    {
     "data": {
      "image/png": "[encoded data removed]",
      "text/plain": [
       "<Figure size 864x432 with 1 Axes>"
      ]
     },
     "metadata": {
      "needs_background": "light"
     },
     "output_type": "display_data"
    }
   ],
   "source": [
    "ax1 = df_a[df_a[\"Name\"]==\"Tiger Woods\"].plot(x=\"Year\", y='earnings ($ million)', kind='line', figsize=(12,6), label='Tiger Woods')\n",
    "ax2 = df_a[df_a[\"Name\"]==\"Michael Jordan\"].plot(x=\"Year\", y='earnings ($ million)', kind='line',label = 'Michael Jordan', ax=ax1)\n",
    "\n",
    "ax1.set_ylabel(\"Ganhos em milhões de dólares\")\n",
    "ax1.set_xlabel(\"Ano\")\n",
    "ax1.set_title(\"Ganhos anuais em milhões de dólares\");"
   ]
  },
  {
   "cell_type": "markdown",
   "id": "991a3ca4",
   "metadata": {},
   "source": []
  },
  {
   "cell_type": "markdown",
   "id": "0eb2434f",
   "metadata": {},
   "source": [
    "4) Construa um gráfico de **barras horizontais** com os top 15 atletas em **média** de ganhos"
   ]
  },
  {
   "cell_type": "code",
   "execution_count": 65,
   "id": "afc2f056",
   "metadata": {},
   "outputs": [
    {
     "data": {
      "text/html": [
       "<div>\n",
       "<style scoped>\n",
       "    .dataframe tbody tr th:only-of-type {\n",
       "        vertical-align: middle;\n",
       "    }\n",
       "\n",
       "    .dataframe tbody tr th {\n",
       "        vertical-align: top;\n",
       "    }\n",
       "\n",
       "    .dataframe thead th {\n",
       "        text-align: right;\n",
       "    }\n",
       "</style>\n",
       "<table border=\"1\" class=\"dataframe\">\n",
       "  <thead>\n",
       "    <tr style=\"text-align: right;\">\n",
       "      <th></th>\n",
       "      <th>Name</th>\n",
       "      <th>S.NO</th>\n",
       "      <th>Current Rank</th>\n",
       "      <th>Year</th>\n",
       "      <th>earnings ($ million)</th>\n",
       "    </tr>\n",
       "  </thead>\n",
       "  <tbody>\n",
       "    <tr>\n",
       "      <th>30</th>\n",
       "      <td>Greg Norman</td>\n",
       "      <td>7.0</td>\n",
       "      <td>7.0</td>\n",
       "      <td>1990.0</td>\n",
       "      <td>8.500000</td>\n",
       "    </tr>\n",
       "    <tr>\n",
       "      <th>57</th>\n",
       "      <td>Monica Seles</td>\n",
       "      <td>30.0</td>\n",
       "      <td>10.0</td>\n",
       "      <td>1992.0</td>\n",
       "      <td>8.500000</td>\n",
       "    </tr>\n",
       "    <tr>\n",
       "      <th>20</th>\n",
       "      <td>Donovan \"Razor\" Ruddock</td>\n",
       "      <td>17.0</td>\n",
       "      <td>7.0</td>\n",
       "      <td>1991.0</td>\n",
       "      <td>10.200000</td>\n",
       "    </tr>\n",
       "    <tr>\n",
       "      <th>36</th>\n",
       "      <td>Joe Montana</td>\n",
       "      <td>33.5</td>\n",
       "      <td>8.5</td>\n",
       "      <td>1992.5</td>\n",
       "      <td>10.500000</td>\n",
       "    </tr>\n",
       "    <tr>\n",
       "      <th>35</th>\n",
       "      <td>Jim Courier</td>\n",
       "      <td>34.0</td>\n",
       "      <td>9.0</td>\n",
       "      <td>1992.5</td>\n",
       "      <td>10.800000</td>\n",
       "    </tr>\n",
       "    <tr>\n",
       "      <th>...</th>\n",
       "      <td>...</td>\n",
       "      <td>...</td>\n",
       "      <td>...</td>\n",
       "      <td>...</td>\n",
       "      <td>...</td>\n",
       "    </tr>\n",
       "    <tr>\n",
       "      <th>71</th>\n",
       "      <td>Russell Wilson</td>\n",
       "      <td>287.0</td>\n",
       "      <td>6.0</td>\n",
       "      <td>2019.0</td>\n",
       "      <td>89.500000</td>\n",
       "    </tr>\n",
       "    <tr>\n",
       "      <th>10</th>\n",
       "      <td>Canelo Alvarez</td>\n",
       "      <td>285.0</td>\n",
       "      <td>4.0</td>\n",
       "      <td>2019.0</td>\n",
       "      <td>94.000000</td>\n",
       "    </tr>\n",
       "    <tr>\n",
       "      <th>59</th>\n",
       "      <td>Neymar</td>\n",
       "      <td>285.0</td>\n",
       "      <td>4.0</td>\n",
       "      <td>2019.0</td>\n",
       "      <td>96.833333</td>\n",
       "    </tr>\n",
       "    <tr>\n",
       "      <th>13</th>\n",
       "      <td>Conor McGregor</td>\n",
       "      <td>275.0</td>\n",
       "      <td>4.0</td>\n",
       "      <td>2018.0</td>\n",
       "      <td>99.000000</td>\n",
       "    </tr>\n",
       "    <tr>\n",
       "      <th>25</th>\n",
       "      <td>Floyd Mayweather</td>\n",
       "      <td>230.2</td>\n",
       "      <td>1.2</td>\n",
       "      <td>2013.8</td>\n",
       "      <td>168.000000</td>\n",
       "    </tr>\n",
       "  </tbody>\n",
       "</table>\n",
       "<p>82 rows × 5 columns</p>\n",
       "</div>"
      ],
      "text/plain": [
       "                       Name   S.NO  Current Rank    Year  earnings ($ million)\n",
       "30              Greg Norman    7.0           7.0  1990.0              8.500000\n",
       "57             Monica Seles   30.0          10.0  1992.0              8.500000\n",
       "20  Donovan \"Razor\" Ruddock   17.0           7.0  1991.0             10.200000\n",
       "36              Joe Montana   33.5           8.5  1992.5             10.500000\n",
       "35              Jim Courier   34.0           9.0  1992.5             10.800000\n",
       "..                      ...    ...           ...     ...                   ...\n",
       "71           Russell Wilson  287.0           6.0  2019.0             89.500000\n",
       "10           Canelo Alvarez  285.0           4.0  2019.0             94.000000\n",
       "59                   Neymar  285.0           4.0  2019.0             96.833333\n",
       "13           Conor McGregor  275.0           4.0  2018.0             99.000000\n",
       "25         Floyd Mayweather  230.2           1.2  2013.8            168.000000\n",
       "\n",
       "[82 rows x 5 columns]"
      ]
     },
     "execution_count": 65,
     "metadata": {},
     "output_type": "execute_result"
    }
   ],
   "source": [
    "df_a.groupby(\"Name\", as_index=False).mean().sort_values('earnings ($ million)')"
   ]
  },
  {
   "cell_type": "markdown",
   "id": "d06c1aa3",
   "metadata": {},
   "source": []
  },
  {
   "cell_type": "markdown",
   "id": "c7cc10b5",
   "metadata": {},
   "source": [
    "5) Gráfico de pizza as contagens dos países"
   ]
  },
  {
   "cell_type": "code",
   "execution_count": null,
   "id": "4fb171c5",
   "metadata": {},
   "outputs": [],
   "source": []
  },
  {
   "cell_type": "markdown",
   "id": "b251b382",
   "metadata": {},
   "source": []
  },
  {
   "cell_type": "markdown",
   "id": "8eaf0b85",
   "metadata": {},
   "source": [
    "6) Dado o gráfico produzido acima construa um gráfico apenas com os países que obtiveram maior quantidade de atletas representados (USA, UK, Germany, Switzerland, Portugal) dos ganhos acumulados por país em função do tempo. Utilize um gráfico de linhas."
   ]
  },
  {
   "cell_type": "code",
   "execution_count": null,
   "id": "4b98293f",
   "metadata": {},
   "outputs": [],
   "source": []
  },
  {
   "cell_type": "markdown",
   "id": "79f0e0e1",
   "metadata": {},
   "source": []
  },
  {
   "cell_type": "markdown",
   "id": "bdceb2a8",
   "metadata": {},
   "source": [
    "7) Faça um gráfico de pizza para verificar qual esporte mais aparece nestas listas"
   ]
  },
  {
   "cell_type": "code",
   "execution_count": null,
   "id": "a3a0ea09",
   "metadata": {},
   "outputs": [],
   "source": []
  },
  {
   "cell_type": "markdown",
   "id": "aa3b7477",
   "metadata": {},
   "source": []
  },
  {
   "cell_type": "markdown",
   "id": "9839a3a8",
   "metadata": {},
   "source": [
    "8) Construa dois gráfico de barras para verificar os ganhos por esporte, sendo o primeiro dos ganhos médios e o segundo da somatória."
   ]
  },
  {
   "cell_type": "code",
   "execution_count": null,
   "id": "92fe06ce",
   "metadata": {
    "scrolled": false
   },
   "outputs": [],
   "source": []
  },
  {
   "cell_type": "code",
   "execution_count": null,
   "id": "af731331",
   "metadata": {},
   "outputs": [],
   "source": []
  },
  {
   "cell_type": "markdown",
   "id": "4827a9c2",
   "metadata": {},
   "source": []
  }
 ],
 "metadata": {
  "kernelspec": {
   "display_name": "Python 3 (ipykernel)",
   "language": "python",
   "name": "python3"
  },
  "language_info": {
   "codemirror_mode": {
    "name": "ipython",
    "version": 3
   },
   "file_extension": ".py",
   "mimetype": "text/x-python",
   "name": "python",
   "nbconvert_exporter": "python",
   "pygments_lexer": "ipython3",
   "version": "3.9.7"
  }
 },
 "nbformat": 4,
 "nbformat_minor": 5
}
