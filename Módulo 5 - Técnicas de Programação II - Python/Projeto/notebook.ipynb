{
 "cells": [
  {
   "cell_type": "markdown",
   "source": "Pontos esperados:\n\n1. Apresente as características do conjunto de dados fornecido, destacando sua visão geral acerca do conjunto de dados e tecendo críticas e comentários.\n2. Faça uma análise detalhada das variáveis numéricas e categóricas da base de dados, discutindo sua distribuição e outras características relevantes.\n3. Limpeza de dados: Considere a avaliação da existência de valores ausentes e de possíveis outliers, discutindo como estes podem ser tratados ou eliminados.\n4. Feature engineering: Quais variáveis você poderia criar para enriquecer a análise?\n5. Enriquecimento da base: Inclua qualquer outra informação/análise que achar importante.\n6. Que outras bases externas ou internas voce buscaria para enriquecer as análises?",
   "metadata": {
    "cell_id": "21ea99a4-b57e-4ce8-b758-285544d175db",
    "tags": [],
    "deepnote_cell_type": "markdown"
   }
  },
  {
   "cell_type": "code",
   "metadata": {
    "cell_id": "c452ba74-ca33-4bfb-be77-a667a6eec21d",
    "tags": [],
    "deepnote_to_be_reexecuted": false,
    "source_hash": "3af0a567",
    "execution_start": 1643669431594,
    "execution_millis": 5118,
    "deepnote_cell_type": "code"
   },
   "source": "!pip install inflection",
   "execution_count": null,
   "outputs": [
    {
     "name": "stdout",
     "text": "Collecting inflection\n  Downloading inflection-0.5.1-py2.py3-none-any.whl (9.5 kB)\nInstalling collected packages: inflection\nSuccessfully installed inflection-0.5.1\n\u001b[33mWARNING: You are using pip version 20.1.1; however, version 22.0.2 is available.\nYou should consider upgrading via the '/root/venv/bin/python -m pip install --upgrade pip' command.\u001b[0m\n",
     "output_type": "stream"
    }
   ]
  },
  {
   "cell_type": "code",
   "metadata": {
    "cell_id": "deea780a-2c00-46f8-8166-b4dfb785f541",
    "tags": [],
    "deepnote_to_be_reexecuted": false,
    "source_hash": "62342fd1",
    "execution_start": 1643669436711,
    "execution_millis": 1446,
    "deepnote_table_state": {
     "pageSize": 10,
     "pageIndex": 0,
     "filters": [],
     "sortBy": [
      {
       "id": "DayOfWeek",
       "type": "asc"
      }
     ]
    },
    "deepnote_table_loading": false,
    "deepnote_output_heights": [
     null,
     174.6875
    ],
    "deepnote_cell_type": "code"
   },
   "source": "import pandas as pd\nimport numpy as np\nimport inflection\nimport math \n\nsales = pd.read_csv('train.csv')\nprint(sales.shape)\n#teste = pd.read_csv('test.csv')\n#print(teste.shape)\nstores=pd.read_csv(\"store.csv\")\nprint(stores.shape)\nsales=sales.merge(stores, how=\"inner\", on=\"Store\")\nprint(sales.shape)",
   "execution_count": null,
   "outputs": [
    {
     "name": "stderr",
     "text": "/shared-libs/python3.7/py-core/lib/python3.7/site-packages/IPython/core/interactiveshell.py:3186: DtypeWarning: Columns (7) have mixed types.Specify dtype option on import or set low_memory=False.\n  interactivity=interactivity, compiler=compiler, result=result)\n(1017209, 9)\n(1115, 10)\n(1017209, 18)\n",
     "output_type": "stream"
    }
   ]
  },
  {
   "cell_type": "code",
   "metadata": {
    "cell_id": "864967ee-7f95-4479-968d-c0aeaf6371d6",
    "tags": [],
    "deepnote_to_be_reexecuted": false,
    "source_hash": "a6b0eecb",
    "execution_start": 1643669438203,
    "execution_millis": 136,
    "deepnote_cell_type": "code"
   },
   "source": "oldCols=list(sales.columns)\nsnakecase=lambda x: inflection.underscore(x)\nnewCols=list(map(snakecase, oldCols))\n#print(newCols)\n\nsales.columns = newCols\nsales.head()",
   "execution_count": null,
   "outputs": [
    {
     "output_type": "execute_result",
     "execution_count": 3,
     "data": {
      "application/vnd.deepnote.dataframe.v3+json": {
       "column_count": 18,
       "row_count": 5,
       "columns": [
        {
         "name": "store",
         "dtype": "int64",
         "stats": {
          "unique_count": 1,
          "nan_count": 0,
          "min": "1",
          "max": "1",
          "histogram": [
           {
            "bin_start": 0.5,
            "bin_end": 0.6,
            "count": 0
           },
           {
            "bin_start": 0.6,
            "bin_end": 0.7,
            "count": 0
           },
           {
            "bin_start": 0.7,
            "bin_end": 0.8,
            "count": 0
           },
           {
            "bin_start": 0.8,
            "bin_end": 0.9,
            "count": 0
           },
           {
            "bin_start": 0.9,
            "bin_end": 1,
            "count": 0
           },
           {
            "bin_start": 1,
            "bin_end": 1.1,
            "count": 5
           },
           {
            "bin_start": 1.1,
            "bin_end": 1.2000000000000002,
            "count": 0
           },
           {
            "bin_start": 1.2000000000000002,
            "bin_end": 1.3,
            "count": 0
           },
           {
            "bin_start": 1.3,
            "bin_end": 1.4,
            "count": 0
           },
           {
            "bin_start": 1.4,
            "bin_end": 1.5,
            "count": 0
           }
          ]
         }
        },
        {
         "name": "day_of_week",
         "dtype": "int64",
         "stats": {
          "unique_count": 5,
          "nan_count": 0,
          "min": "1",
          "max": "5",
          "histogram": [
           {
            "bin_start": 1,
            "bin_end": 1.4,
            "count": 1
           },
           {
            "bin_start": 1.4,
            "bin_end": 1.8,
            "count": 0
           },
           {
            "bin_start": 1.8,
            "bin_end": 2.2,
            "count": 1
           },
           {
            "bin_start": 2.2,
            "bin_end": 2.6,
            "count": 0
           },
           {
            "bin_start": 2.6,
            "bin_end": 3,
            "count": 0
           },
           {
            "bin_start": 3,
            "bin_end": 3.4000000000000004,
            "count": 1
           },
           {
            "bin_start": 3.4000000000000004,
            "bin_end": 3.8000000000000003,
            "count": 0
           },
           {
            "bin_start": 3.8000000000000003,
            "bin_end": 4.2,
            "count": 1
           },
           {
            "bin_start": 4.2,
            "bin_end": 4.6,
            "count": 0
           },
           {
            "bin_start": 4.6,
            "bin_end": 5,
            "count": 1
           }
          ]
         }
        },
        {
         "name": "date",
         "dtype": "object",
         "stats": {
          "unique_count": 5,
          "nan_count": 0,
          "categories": [
           {
            "name": "2015-07-31",
            "count": 1
           },
           {
            "name": "2015-07-30",
            "count": 1
           },
           {
            "name": "3 others",
            "count": 3
           }
          ]
         }
        },
        {
         "name": "sales",
         "dtype": "int64",
         "stats": {
          "unique_count": 5,
          "nan_count": 0,
          "min": "4782",
          "max": "6102",
          "histogram": [
           {
            "bin_start": 4782,
            "bin_end": 4914,
            "count": 1
           },
           {
            "bin_start": 4914,
            "bin_end": 5046,
            "count": 2
           },
           {
            "bin_start": 5046,
            "bin_end": 5178,
            "count": 0
           },
           {
            "bin_start": 5178,
            "bin_end": 5310,
            "count": 1
           },
           {
            "bin_start": 5310,
            "bin_end": 5442,
            "count": 0
           },
           {
            "bin_start": 5442,
            "bin_end": 5574,
            "count": 0
           },
           {
            "bin_start": 5574,
            "bin_end": 5706,
            "count": 0
           },
           {
            "bin_start": 5706,
            "bin_end": 5838,
            "count": 0
           },
           {
            "bin_start": 5838,
            "bin_end": 5970,
            "count": 0
           },
           {
            "bin_start": 5970,
            "bin_end": 6102,
            "count": 1
           }
          ]
         }
        },
        {
         "name": "customers",
         "dtype": "int64",
         "stats": {
          "unique_count": 5,
          "nan_count": 0,
          "min": "523",
          "max": "612",
          "histogram": [
           {
            "bin_start": 523,
            "bin_end": 531.9,
            "count": 1
           },
           {
            "bin_start": 531.9,
            "bin_end": 540.8,
            "count": 0
           },
           {
            "bin_start": 540.8,
            "bin_end": 549.7,
            "count": 1
           },
           {
            "bin_start": 549.7,
            "bin_end": 558.6,
            "count": 1
           },
           {
            "bin_start": 558.6,
            "bin_end": 567.5,
            "count": 1
           },
           {
            "bin_start": 567.5,
            "bin_end": 576.4,
            "count": 0
           },
           {
            "bin_start": 576.4,
            "bin_end": 585.3,
            "count": 0
           },
           {
            "bin_start": 585.3,
            "bin_end": 594.2,
            "count": 0
           },
           {
            "bin_start": 594.2,
            "bin_end": 603.1,
            "count": 0
           },
           {
            "bin_start": 603.1,
            "bin_end": 612,
            "count": 1
           }
          ]
         }
        },
        {
         "name": "open",
         "dtype": "int64",
         "stats": {
          "unique_count": 1,
          "nan_count": 0,
          "min": "1",
          "max": "1",
          "histogram": [
           {
            "bin_start": 0.5,
            "bin_end": 0.6,
            "count": 0
           },
           {
            "bin_start": 0.6,
            "bin_end": 0.7,
            "count": 0
           },
           {
            "bin_start": 0.7,
            "bin_end": 0.8,
            "count": 0
           },
           {
            "bin_start": 0.8,
            "bin_end": 0.9,
            "count": 0
           },
           {
            "bin_start": 0.9,
            "bin_end": 1,
            "count": 0
           },
           {
            "bin_start": 1,
            "bin_end": 1.1,
            "count": 5
           },
           {
            "bin_start": 1.1,
            "bin_end": 1.2000000000000002,
            "count": 0
           },
           {
            "bin_start": 1.2000000000000002,
            "bin_end": 1.3,
            "count": 0
           },
           {
            "bin_start": 1.3,
            "bin_end": 1.4,
            "count": 0
           },
           {
            "bin_start": 1.4,
            "bin_end": 1.5,
            "count": 0
           }
          ]
         }
        },
        {
         "name": "promo",
         "dtype": "int64",
         "stats": {
          "unique_count": 1,
          "nan_count": 0,
          "min": "1",
          "max": "1",
          "histogram": [
           {
            "bin_start": 0.5,
            "bin_end": 0.6,
            "count": 0
           },
           {
            "bin_start": 0.6,
            "bin_end": 0.7,
            "count": 0
           },
           {
            "bin_start": 0.7,
            "bin_end": 0.8,
            "count": 0
           },
           {
            "bin_start": 0.8,
            "bin_end": 0.9,
            "count": 0
           },
           {
            "bin_start": 0.9,
            "bin_end": 1,
            "count": 0
           },
           {
            "bin_start": 1,
            "bin_end": 1.1,
            "count": 5
           },
           {
            "bin_start": 1.1,
            "bin_end": 1.2000000000000002,
            "count": 0
           },
           {
            "bin_start": 1.2000000000000002,
            "bin_end": 1.3,
            "count": 0
           },
           {
            "bin_start": 1.3,
            "bin_end": 1.4,
            "count": 0
           },
           {
            "bin_start": 1.4,
            "bin_end": 1.5,
            "count": 0
           }
          ]
         }
        },
        {
         "name": "state_holiday",
         "dtype": "object",
         "stats": {
          "unique_count": 1,
          "nan_count": 0,
          "categories": [
           {
            "name": "0",
            "count": 5
           }
          ]
         }
        },
        {
         "name": "school_holiday",
         "dtype": "int64",
         "stats": {
          "unique_count": 1,
          "nan_count": 0,
          "min": "1",
          "max": "1",
          "histogram": [
           {
            "bin_start": 0.5,
            "bin_end": 0.6,
            "count": 0
           },
           {
            "bin_start": 0.6,
            "bin_end": 0.7,
            "count": 0
           },
           {
            "bin_start": 0.7,
            "bin_end": 0.8,
            "count": 0
           },
           {
            "bin_start": 0.8,
            "bin_end": 0.9,
            "count": 0
           },
           {
            "bin_start": 0.9,
            "bin_end": 1,
            "count": 0
           },
           {
            "bin_start": 1,
            "bin_end": 1.1,
            "count": 5
           },
           {
            "bin_start": 1.1,
            "bin_end": 1.2000000000000002,
            "count": 0
           },
           {
            "bin_start": 1.2000000000000002,
            "bin_end": 1.3,
            "count": 0
           },
           {
            "bin_start": 1.3,
            "bin_end": 1.4,
            "count": 0
           },
           {
            "bin_start": 1.4,
            "bin_end": 1.5,
            "count": 0
           }
          ]
         }
        },
        {
         "name": "store_type",
         "dtype": "object",
         "stats": {
          "unique_count": 1,
          "nan_count": 0,
          "categories": [
           {
            "name": "c",
            "count": 5
           }
          ]
         }
        },
        {
         "name": "assortment",
         "dtype": "object",
         "stats": {
          "unique_count": 1,
          "nan_count": 0,
          "categories": [
           {
            "name": "a",
            "count": 5
           }
          ]
         }
        },
        {
         "name": "competition_distance",
         "dtype": "float64",
         "stats": {
          "unique_count": 1,
          "nan_count": 0,
          "min": "1270.0",
          "max": "1270.0",
          "histogram": [
           {
            "bin_start": 1269.5,
            "bin_end": 1269.6,
            "count": 0
           },
           {
            "bin_start": 1269.6,
            "bin_end": 1269.7,
            "count": 0
           },
           {
            "bin_start": 1269.7,
            "bin_end": 1269.8,
            "count": 0
           },
           {
            "bin_start": 1269.8,
            "bin_end": 1269.9,
            "count": 0
           },
           {
            "bin_start": 1269.9,
            "bin_end": 1270,
            "count": 0
           },
           {
            "bin_start": 1270,
            "bin_end": 1270.1,
            "count": 5
           },
           {
            "bin_start": 1270.1,
            "bin_end": 1270.2,
            "count": 0
           },
           {
            "bin_start": 1270.2,
            "bin_end": 1270.3,
            "count": 0
           },
           {
            "bin_start": 1270.3,
            "bin_end": 1270.4,
            "count": 0
           },
           {
            "bin_start": 1270.4,
            "bin_end": 1270.5,
            "count": 0
           }
          ]
         }
        },
        {
         "name": "competition_open_since_month",
         "dtype": "float64",
         "stats": {
          "unique_count": 1,
          "nan_count": 0,
          "min": "9.0",
          "max": "9.0",
          "histogram": [
           {
            "bin_start": 8.5,
            "bin_end": 8.6,
            "count": 0
           },
           {
            "bin_start": 8.6,
            "bin_end": 8.7,
            "count": 0
           },
           {
            "bin_start": 8.7,
            "bin_end": 8.8,
            "count": 0
           },
           {
            "bin_start": 8.8,
            "bin_end": 8.9,
            "count": 0
           },
           {
            "bin_start": 8.9,
            "bin_end": 9,
            "count": 0
           },
           {
            "bin_start": 9,
            "bin_end": 9.1,
            "count": 5
           },
           {
            "bin_start": 9.1,
            "bin_end": 9.2,
            "count": 0
           },
           {
            "bin_start": 9.2,
            "bin_end": 9.3,
            "count": 0
           },
           {
            "bin_start": 9.3,
            "bin_end": 9.4,
            "count": 0
           },
           {
            "bin_start": 9.4,
            "bin_end": 9.5,
            "count": 0
           }
          ]
         }
        },
        {
         "name": "competition_open_since_year",
         "dtype": "float64",
         "stats": {
          "unique_count": 1,
          "nan_count": 0,
          "min": "2008.0",
          "max": "2008.0",
          "histogram": [
           {
            "bin_start": 2007.5,
            "bin_end": 2007.6,
            "count": 0
           },
           {
            "bin_start": 2007.6,
            "bin_end": 2007.7,
            "count": 0
           },
           {
            "bin_start": 2007.7,
            "bin_end": 2007.8,
            "count": 0
           },
           {
            "bin_start": 2007.8,
            "bin_end": 2007.9,
            "count": 0
           },
           {
            "bin_start": 2007.9,
            "bin_end": 2008,
            "count": 0
           },
           {
            "bin_start": 2008,
            "bin_end": 2008.1,
            "count": 5
           },
           {
            "bin_start": 2008.1,
            "bin_end": 2008.2,
            "count": 0
           },
           {
            "bin_start": 2008.2,
            "bin_end": 2008.3,
            "count": 0
           },
           {
            "bin_start": 2008.3,
            "bin_end": 2008.4,
            "count": 0
           },
           {
            "bin_start": 2008.4,
            "bin_end": 2008.5,
            "count": 0
           }
          ]
         }
        },
        {
         "name": "promo2",
         "dtype": "int64",
         "stats": {
          "unique_count": 1,
          "nan_count": 0,
          "min": "0",
          "max": "0",
          "histogram": [
           {
            "bin_start": -0.5,
            "bin_end": -0.4,
            "count": 0
           },
           {
            "bin_start": -0.4,
            "bin_end": -0.3,
            "count": 0
           },
           {
            "bin_start": -0.3,
            "bin_end": -0.19999999999999996,
            "count": 0
           },
           {
            "bin_start": -0.19999999999999996,
            "bin_end": -0.09999999999999998,
            "count": 0
           },
           {
            "bin_start": -0.09999999999999998,
            "bin_end": 0,
            "count": 0
           },
           {
            "bin_start": 0,
            "bin_end": 0.10000000000000009,
            "count": 5
           },
           {
            "bin_start": 0.10000000000000009,
            "bin_end": 0.20000000000000007,
            "count": 0
           },
           {
            "bin_start": 0.20000000000000007,
            "bin_end": 0.30000000000000004,
            "count": 0
           },
           {
            "bin_start": 0.30000000000000004,
            "bin_end": 0.4,
            "count": 0
           },
           {
            "bin_start": 0.4,
            "bin_end": 0.5,
            "count": 0
           }
          ]
         }
        },
        {
         "name": "promo2_since_week",
         "dtype": "float64",
         "stats": {
          "unique_count": 0,
          "nan_count": 5,
          "min": null,
          "max": null,
          "histogram": [
           {
            "bin_start": 0,
            "bin_end": 0.1,
            "count": 0
           },
           {
            "bin_start": 0.1,
            "bin_end": 0.2,
            "count": 0
           },
           {
            "bin_start": 0.2,
            "bin_end": 0.30000000000000004,
            "count": 0
           },
           {
            "bin_start": 0.30000000000000004,
            "bin_end": 0.4,
            "count": 0
           },
           {
            "bin_start": 0.4,
            "bin_end": 0.5,
            "count": 0
           },
           {
            "bin_start": 0.5,
            "bin_end": 0.6000000000000001,
            "count": 0
           },
           {
            "bin_start": 0.6000000000000001,
            "bin_end": 0.7000000000000001,
            "count": 0
           },
           {
            "bin_start": 0.7000000000000001,
            "bin_end": 0.8,
            "count": 0
           },
           {
            "bin_start": 0.8,
            "bin_end": 0.9,
            "count": 0
           },
           {
            "bin_start": 0.9,
            "bin_end": 1,
            "count": 0
           }
          ]
         }
        },
        {
         "name": "promo2_since_year",
         "dtype": "float64",
         "stats": {
          "unique_count": 0,
          "nan_count": 5,
          "min": null,
          "max": null,
          "histogram": [
           {
            "bin_start": 0,
            "bin_end": 0.1,
            "count": 0
           },
           {
            "bin_start": 0.1,
            "bin_end": 0.2,
            "count": 0
           },
           {
            "bin_start": 0.2,
            "bin_end": 0.30000000000000004,
            "count": 0
           },
           {
            "bin_start": 0.30000000000000004,
            "bin_end": 0.4,
            "count": 0
           },
           {
            "bin_start": 0.4,
            "bin_end": 0.5,
            "count": 0
           },
           {
            "bin_start": 0.5,
            "bin_end": 0.6000000000000001,
            "count": 0
           },
           {
            "bin_start": 0.6000000000000001,
            "bin_end": 0.7000000000000001,
            "count": 0
           },
           {
            "bin_start": 0.7000000000000001,
            "bin_end": 0.8,
            "count": 0
           },
           {
            "bin_start": 0.8,
            "bin_end": 0.9,
            "count": 0
           },
           {
            "bin_start": 0.9,
            "bin_end": 1,
            "count": 0
           }
          ]
         }
        },
        {
         "name": "promo_interval",
         "dtype": "object",
         "stats": {
          "unique_count": 0,
          "nan_count": 5,
          "categories": [
           {
            "name": "Missing",
            "count": 5
           }
          ]
         }
        },
        {
         "name": "_deepnote_index_column",
         "dtype": "int64"
        }
       ],
       "rows": [
        {
         "store": 1,
         "day_of_week": 5,
         "date": "2015-07-31",
         "sales": 5263,
         "customers": 555,
         "open": 1,
         "promo": 1,
         "state_holiday": "0",
         "school_holiday": 1,
         "store_type": "c",
         "assortment": "a",
         "competition_distance": 1270,
         "competition_open_since_month": 9,
         "competition_open_since_year": 2008,
         "promo2": 0,
         "promo2_since_week": "nan",
         "promo2_since_year": "nan",
         "promo_interval": "nan",
         "_deepnote_index_column": 0
        },
        {
         "store": 1,
         "day_of_week": 4,
         "date": "2015-07-30",
         "sales": 5020,
         "customers": 546,
         "open": 1,
         "promo": 1,
         "state_holiday": "0",
         "school_holiday": 1,
         "store_type": "c",
         "assortment": "a",
         "competition_distance": 1270,
         "competition_open_since_month": 9,
         "competition_open_since_year": 2008,
         "promo2": 0,
         "promo2_since_week": "nan",
         "promo2_since_year": "nan",
         "promo_interval": "nan",
         "_deepnote_index_column": 1
        },
        {
         "store": 1,
         "day_of_week": 3,
         "date": "2015-07-29",
         "sales": 4782,
         "customers": 523,
         "open": 1,
         "promo": 1,
         "state_holiday": "0",
         "school_holiday": 1,
         "store_type": "c",
         "assortment": "a",
         "competition_distance": 1270,
         "competition_open_since_month": 9,
         "competition_open_since_year": 2008,
         "promo2": 0,
         "promo2_since_week": "nan",
         "promo2_since_year": "nan",
         "promo_interval": "nan",
         "_deepnote_index_column": 2
        },
        {
         "store": 1,
         "day_of_week": 2,
         "date": "2015-07-28",
         "sales": 5011,
         "customers": 560,
         "open": 1,
         "promo": 1,
         "state_holiday": "0",
         "school_holiday": 1,
         "store_type": "c",
         "assortment": "a",
         "competition_distance": 1270,
         "competition_open_since_month": 9,
         "competition_open_since_year": 2008,
         "promo2": 0,
         "promo2_since_week": "nan",
         "promo2_since_year": "nan",
         "promo_interval": "nan",
         "_deepnote_index_column": 3
        },
        {
         "store": 1,
         "day_of_week": 1,
         "date": "2015-07-27",
         "sales": 6102,
         "customers": 612,
         "open": 1,
         "promo": 1,
         "state_holiday": "0",
         "school_holiday": 1,
         "store_type": "c",
         "assortment": "a",
         "competition_distance": 1270,
         "competition_open_since_month": 9,
         "competition_open_since_year": 2008,
         "promo2": 0,
         "promo2_since_week": "nan",
         "promo2_since_year": "nan",
         "promo_interval": "nan",
         "_deepnote_index_column": 4
        }
       ]
      },
      "text/plain": "   store  day_of_week        date  sales  customers  open  promo  \\\n0      1            5  2015-07-31   5263        555     1      1   \n1      1            4  2015-07-30   5020        546     1      1   \n2      1            3  2015-07-29   4782        523     1      1   \n3      1            2  2015-07-28   5011        560     1      1   \n4      1            1  2015-07-27   6102        612     1      1   \n\n  state_holiday  school_holiday store_type assortment  competition_distance  \\\n0             0               1          c          a                1270.0   \n1             0               1          c          a                1270.0   \n2             0               1          c          a                1270.0   \n3             0               1          c          a                1270.0   \n4             0               1          c          a                1270.0   \n\n   competition_open_since_month  competition_open_since_year  promo2  \\\n0                           9.0                       2008.0       0   \n1                           9.0                       2008.0       0   \n2                           9.0                       2008.0       0   \n3                           9.0                       2008.0       0   \n4                           9.0                       2008.0       0   \n\n   promo2_since_week  promo2_since_year promo_interval  \n0                NaN                NaN            NaN  \n1                NaN                NaN            NaN  \n2                NaN                NaN            NaN  \n3                NaN                NaN            NaN  \n4                NaN                NaN            NaN  ",
      "text/html": "<div>\n<style scoped>\n    .dataframe tbody tr th:only-of-type {\n        vertical-align: middle;\n    }\n\n    .dataframe tbody tr th {\n        vertical-align: top;\n    }\n\n    .dataframe thead th {\n        text-align: right;\n    }\n</style>\n<table border=\"1\" class=\"dataframe\">\n  <thead>\n    <tr style=\"text-align: right;\">\n      <th></th>\n      <th>store</th>\n      <th>day_of_week</th>\n      <th>date</th>\n      <th>sales</th>\n      <th>customers</th>\n      <th>open</th>\n      <th>promo</th>\n      <th>state_holiday</th>\n      <th>school_holiday</th>\n      <th>store_type</th>\n      <th>assortment</th>\n      <th>competition_distance</th>\n      <th>competition_open_since_month</th>\n      <th>competition_open_since_year</th>\n      <th>promo2</th>\n      <th>promo2_since_week</th>\n      <th>promo2_since_year</th>\n      <th>promo_interval</th>\n    </tr>\n  </thead>\n  <tbody>\n    <tr>\n      <th>0</th>\n      <td>1</td>\n      <td>5</td>\n      <td>2015-07-31</td>\n      <td>5263</td>\n      <td>555</td>\n      <td>1</td>\n      <td>1</td>\n      <td>0</td>\n      <td>1</td>\n      <td>c</td>\n      <td>a</td>\n      <td>1270.0</td>\n      <td>9.0</td>\n      <td>2008.0</td>\n      <td>0</td>\n      <td>NaN</td>\n      <td>NaN</td>\n      <td>NaN</td>\n    </tr>\n    <tr>\n      <th>1</th>\n      <td>1</td>\n      <td>4</td>\n      <td>2015-07-30</td>\n      <td>5020</td>\n      <td>546</td>\n      <td>1</td>\n      <td>1</td>\n      <td>0</td>\n      <td>1</td>\n      <td>c</td>\n      <td>a</td>\n      <td>1270.0</td>\n      <td>9.0</td>\n      <td>2008.0</td>\n      <td>0</td>\n      <td>NaN</td>\n      <td>NaN</td>\n      <td>NaN</td>\n    </tr>\n    <tr>\n      <th>2</th>\n      <td>1</td>\n      <td>3</td>\n      <td>2015-07-29</td>\n      <td>4782</td>\n      <td>523</td>\n      <td>1</td>\n      <td>1</td>\n      <td>0</td>\n      <td>1</td>\n      <td>c</td>\n      <td>a</td>\n      <td>1270.0</td>\n      <td>9.0</td>\n      <td>2008.0</td>\n      <td>0</td>\n      <td>NaN</td>\n      <td>NaN</td>\n      <td>NaN</td>\n    </tr>\n    <tr>\n      <th>3</th>\n      <td>1</td>\n      <td>2</td>\n      <td>2015-07-28</td>\n      <td>5011</td>\n      <td>560</td>\n      <td>1</td>\n      <td>1</td>\n      <td>0</td>\n      <td>1</td>\n      <td>c</td>\n      <td>a</td>\n      <td>1270.0</td>\n      <td>9.0</td>\n      <td>2008.0</td>\n      <td>0</td>\n      <td>NaN</td>\n      <td>NaN</td>\n      <td>NaN</td>\n    </tr>\n    <tr>\n      <th>4</th>\n      <td>1</td>\n      <td>1</td>\n      <td>2015-07-27</td>\n      <td>6102</td>\n      <td>612</td>\n      <td>1</td>\n      <td>1</td>\n      <td>0</td>\n      <td>1</td>\n      <td>c</td>\n      <td>a</td>\n      <td>1270.0</td>\n      <td>9.0</td>\n      <td>2008.0</td>\n      <td>0</td>\n      <td>NaN</td>\n      <td>NaN</td>\n      <td>NaN</td>\n    </tr>\n  </tbody>\n</table>\n</div>"
     },
     "metadata": {}
    }
   ]
  },
  {
   "cell_type": "code",
   "metadata": {
    "cell_id": "882fcd6c-f156-4db9-80b5-b3a371c6c6ec",
    "tags": [],
    "deepnote_to_be_reexecuted": false,
    "source_hash": "ab25acfb",
    "execution_start": 1643669438347,
    "execution_millis": 242,
    "deepnote_cell_type": "code"
   },
   "source": "sales.info()",
   "execution_count": null,
   "outputs": [
    {
     "name": "stdout",
     "text": "<class 'pandas.core.frame.DataFrame'>\nInt64Index: 1017209 entries, 0 to 1017208\nData columns (total 18 columns):\n #   Column                        Non-Null Count    Dtype  \n---  ------                        --------------    -----  \n 0   store                         1017209 non-null  int64  \n 1   day_of_week                   1017209 non-null  int64  \n 2   date                          1017209 non-null  object \n 3   sales                         1017209 non-null  int64  \n 4   customers                     1017209 non-null  int64  \n 5   open                          1017209 non-null  int64  \n 6   promo                         1017209 non-null  int64  \n 7   state_holiday                 1017209 non-null  object \n 8   school_holiday                1017209 non-null  int64  \n 9   store_type                    1017209 non-null  object \n 10  assortment                    1017209 non-null  object \n 11  competition_distance          1014567 non-null  float64\n 12  competition_open_since_month  693861 non-null   float64\n 13  competition_open_since_year   693861 non-null   float64\n 14  promo2                        1017209 non-null  int64  \n 15  promo2_since_week             509178 non-null   float64\n 16  promo2_since_year             509178 non-null   float64\n 17  promo_interval                509178 non-null   object \ndtypes: float64(5), int64(8), object(5)\nmemory usage: 147.5+ MB\n",
     "output_type": "stream"
    }
   ]
  },
  {
   "cell_type": "code",
   "metadata": {
    "cell_id": "c719cf53-0fa0-4b98-8691-7947a3c52d47",
    "tags": [],
    "deepnote_to_be_reexecuted": false,
    "source_hash": "3a93b017",
    "execution_start": 1643669438596,
    "execution_millis": 717,
    "deepnote_table_state": {
     "pageSize": 10,
     "pageIndex": 0,
     "filters": [],
     "sortBy": [
      {
       "id": "customers",
       "type": "desc"
      }
     ]
    },
    "deepnote_table_loading": false,
    "deepnote_cell_type": "code"
   },
   "source": "sales.describe()",
   "execution_count": null,
   "outputs": [
    {
     "output_type": "execute_result",
     "execution_count": 5,
     "data": {
      "application/vnd.deepnote.dataframe.v3+json": {
       "column_count": 13,
       "row_count": 8,
       "columns": [
        {
         "name": "store",
         "dtype": "float64",
         "stats": {
          "unique_count": 8,
          "nan_count": 0,
          "min": "1.0",
          "max": "1017209.0",
          "histogram": [
           {
            "bin_start": 1,
            "bin_end": 101721.8,
            "count": 7
           },
           {
            "bin_start": 101721.8,
            "bin_end": 203442.6,
            "count": 0
           },
           {
            "bin_start": 203442.6,
            "bin_end": 305163.4,
            "count": 0
           },
           {
            "bin_start": 305163.4,
            "bin_end": 406884.2,
            "count": 0
           },
           {
            "bin_start": 406884.2,
            "bin_end": 508605,
            "count": 0
           },
           {
            "bin_start": 508605,
            "bin_end": 610325.8,
            "count": 0
           },
           {
            "bin_start": 610325.8,
            "bin_end": 712046.6,
            "count": 0
           },
           {
            "bin_start": 712046.6,
            "bin_end": 813767.4,
            "count": 0
           },
           {
            "bin_start": 813767.4,
            "bin_end": 915488.2000000001,
            "count": 0
           },
           {
            "bin_start": 915488.2000000001,
            "bin_end": 1017209,
            "count": 1
           }
          ]
         }
        },
        {
         "name": "day_of_week",
         "dtype": "float64",
         "stats": {
          "unique_count": 8,
          "nan_count": 0,
          "min": "1.0",
          "max": "1017209.0",
          "histogram": [
           {
            "bin_start": 1,
            "bin_end": 101721.8,
            "count": 7
           },
           {
            "bin_start": 101721.8,
            "bin_end": 203442.6,
            "count": 0
           },
           {
            "bin_start": 203442.6,
            "bin_end": 305163.4,
            "count": 0
           },
           {
            "bin_start": 305163.4,
            "bin_end": 406884.2,
            "count": 0
           },
           {
            "bin_start": 406884.2,
            "bin_end": 508605,
            "count": 0
           },
           {
            "bin_start": 508605,
            "bin_end": 610325.8,
            "count": 0
           },
           {
            "bin_start": 610325.8,
            "bin_end": 712046.6,
            "count": 0
           },
           {
            "bin_start": 712046.6,
            "bin_end": 813767.4,
            "count": 0
           },
           {
            "bin_start": 813767.4,
            "bin_end": 915488.2000000001,
            "count": 0
           },
           {
            "bin_start": 915488.2000000001,
            "bin_end": 1017209,
            "count": 1
           }
          ]
         }
        },
        {
         "name": "sales",
         "dtype": "float64",
         "stats": {
          "unique_count": 8,
          "nan_count": 0,
          "min": "0.0",
          "max": "1017209.0",
          "histogram": [
           {
            "bin_start": 0,
            "bin_end": 101720.9,
            "count": 7
           },
           {
            "bin_start": 101720.9,
            "bin_end": 203441.8,
            "count": 0
           },
           {
            "bin_start": 203441.8,
            "bin_end": 305162.69999999995,
            "count": 0
           },
           {
            "bin_start": 305162.69999999995,
            "bin_end": 406883.6,
            "count": 0
           },
           {
            "bin_start": 406883.6,
            "bin_end": 508604.5,
            "count": 0
           },
           {
            "bin_start": 508604.5,
            "bin_end": 610325.3999999999,
            "count": 0
           },
           {
            "bin_start": 610325.3999999999,
            "bin_end": 712046.2999999999,
            "count": 0
           },
           {
            "bin_start": 712046.2999999999,
            "bin_end": 813767.2,
            "count": 0
           },
           {
            "bin_start": 813767.2,
            "bin_end": 915488.1,
            "count": 0
           },
           {
            "bin_start": 915488.1,
            "bin_end": 1017209,
            "count": 1
           }
          ]
         }
        },
        {
         "name": "customers",
         "dtype": "float64",
         "stats": {
          "unique_count": 8,
          "nan_count": 0,
          "min": "0.0",
          "max": "1017209.0",
          "histogram": [
           {
            "bin_start": 0,
            "bin_end": 101720.9,
            "count": 7
           },
           {
            "bin_start": 101720.9,
            "bin_end": 203441.8,
            "count": 0
           },
           {
            "bin_start": 203441.8,
            "bin_end": 305162.69999999995,
            "count": 0
           },
           {
            "bin_start": 305162.69999999995,
            "bin_end": 406883.6,
            "count": 0
           },
           {
            "bin_start": 406883.6,
            "bin_end": 508604.5,
            "count": 0
           },
           {
            "bin_start": 508604.5,
            "bin_end": 610325.3999999999,
            "count": 0
           },
           {
            "bin_start": 610325.3999999999,
            "bin_end": 712046.2999999999,
            "count": 0
           },
           {
            "bin_start": 712046.2999999999,
            "bin_end": 813767.2,
            "count": 0
           },
           {
            "bin_start": 813767.2,
            "bin_end": 915488.1,
            "count": 0
           },
           {
            "bin_start": 915488.1,
            "bin_end": 1017209,
            "count": 1
           }
          ]
         }
        },
        {
         "name": "open",
         "dtype": "float64",
         "stats": {
          "unique_count": 5,
          "nan_count": 0,
          "min": "0.0",
          "max": "1017209.0",
          "histogram": [
           {
            "bin_start": 0,
            "bin_end": 101720.9,
            "count": 7
           },
           {
            "bin_start": 101720.9,
            "bin_end": 203441.8,
            "count": 0
           },
           {
            "bin_start": 203441.8,
            "bin_end": 305162.69999999995,
            "count": 0
           },
           {
            "bin_start": 305162.69999999995,
            "bin_end": 406883.6,
            "count": 0
           },
           {
            "bin_start": 406883.6,
            "bin_end": 508604.5,
            "count": 0
           },
           {
            "bin_start": 508604.5,
            "bin_end": 610325.3999999999,
            "count": 0
           },
           {
            "bin_start": 610325.3999999999,
            "bin_end": 712046.2999999999,
            "count": 0
           },
           {
            "bin_start": 712046.2999999999,
            "bin_end": 813767.2,
            "count": 0
           },
           {
            "bin_start": 813767.2,
            "bin_end": 915488.1,
            "count": 0
           },
           {
            "bin_start": 915488.1,
            "bin_end": 1017209,
            "count": 1
           }
          ]
         }
        },
        {
         "name": "promo",
         "dtype": "float64",
         "stats": {
          "unique_count": 5,
          "nan_count": 0,
          "min": "0.0",
          "max": "1017209.0",
          "histogram": [
           {
            "bin_start": 0,
            "bin_end": 101720.9,
            "count": 7
           },
           {
            "bin_start": 101720.9,
            "bin_end": 203441.8,
            "count": 0
           },
           {
            "bin_start": 203441.8,
            "bin_end": 305162.69999999995,
            "count": 0
           },
           {
            "bin_start": 305162.69999999995,
            "bin_end": 406883.6,
            "count": 0
           },
           {
            "bin_start": 406883.6,
            "bin_end": 508604.5,
            "count": 0
           },
           {
            "bin_start": 508604.5,
            "bin_end": 610325.3999999999,
            "count": 0
           },
           {
            "bin_start": 610325.3999999999,
            "bin_end": 712046.2999999999,
            "count": 0
           },
           {
            "bin_start": 712046.2999999999,
            "bin_end": 813767.2,
            "count": 0
           },
           {
            "bin_start": 813767.2,
            "bin_end": 915488.1,
            "count": 0
           },
           {
            "bin_start": 915488.1,
            "bin_end": 1017209,
            "count": 1
           }
          ]
         }
        },
        {
         "name": "school_holiday",
         "dtype": "float64",
         "stats": {
          "unique_count": 5,
          "nan_count": 0,
          "min": "0.0",
          "max": "1017209.0",
          "histogram": [
           {
            "bin_start": 0,
            "bin_end": 101720.9,
            "count": 7
           },
           {
            "bin_start": 101720.9,
            "bin_end": 203441.8,
            "count": 0
           },
           {
            "bin_start": 203441.8,
            "bin_end": 305162.69999999995,
            "count": 0
           },
           {
            "bin_start": 305162.69999999995,
            "bin_end": 406883.6,
            "count": 0
           },
           {
            "bin_start": 406883.6,
            "bin_end": 508604.5,
            "count": 0
           },
           {
            "bin_start": 508604.5,
            "bin_end": 610325.3999999999,
            "count": 0
           },
           {
            "bin_start": 610325.3999999999,
            "bin_end": 712046.2999999999,
            "count": 0
           },
           {
            "bin_start": 712046.2999999999,
            "bin_end": 813767.2,
            "count": 0
           },
           {
            "bin_start": 813767.2,
            "bin_end": 915488.1,
            "count": 0
           },
           {
            "bin_start": 915488.1,
            "bin_end": 1017209,
            "count": 1
           }
          ]
         }
        },
        {
         "name": "competition_distance",
         "dtype": "float64",
         "stats": {
          "unique_count": 8,
          "nan_count": 0,
          "min": "20.0",
          "max": "1014567.0",
          "histogram": [
           {
            "bin_start": 20,
            "bin_end": 101474.7,
            "count": 7
           },
           {
            "bin_start": 101474.7,
            "bin_end": 202929.4,
            "count": 0
           },
           {
            "bin_start": 202929.4,
            "bin_end": 304384.1,
            "count": 0
           },
           {
            "bin_start": 304384.1,
            "bin_end": 405838.8,
            "count": 0
           },
           {
            "bin_start": 405838.8,
            "bin_end": 507293.5,
            "count": 0
           },
           {
            "bin_start": 507293.5,
            "bin_end": 608748.2,
            "count": 0
           },
           {
            "bin_start": 608748.2,
            "bin_end": 710202.9,
            "count": 0
           },
           {
            "bin_start": 710202.9,
            "bin_end": 811657.6,
            "count": 0
           },
           {
            "bin_start": 811657.6,
            "bin_end": 913112.2999999999,
            "count": 0
           },
           {
            "bin_start": 913112.2999999999,
            "bin_end": 1014567,
            "count": 1
           }
          ]
         }
        },
        {
         "name": "competition_open_since_month",
         "dtype": "float64",
         "stats": {
          "unique_count": 8,
          "nan_count": 0,
          "min": "1.0",
          "max": "693861.0",
          "histogram": [
           {
            "bin_start": 1,
            "bin_end": 69387,
            "count": 7
           },
           {
            "bin_start": 69387,
            "bin_end": 138773,
            "count": 0
           },
           {
            "bin_start": 138773,
            "bin_end": 208159,
            "count": 0
           },
           {
            "bin_start": 208159,
            "bin_end": 277545,
            "count": 0
           },
           {
            "bin_start": 277545,
            "bin_end": 346931,
            "count": 0
           },
           {
            "bin_start": 346931,
            "bin_end": 416317,
            "count": 0
           },
           {
            "bin_start": 416317,
            "bin_end": 485703,
            "count": 0
           },
           {
            "bin_start": 485703,
            "bin_end": 555089,
            "count": 0
           },
           {
            "bin_start": 555089,
            "bin_end": 624475,
            "count": 0
           },
           {
            "bin_start": 624475,
            "bin_end": 693861,
            "count": 1
           }
          ]
         }
        },
        {
         "name": "competition_open_since_year",
         "dtype": "float64",
         "stats": {
          "unique_count": 8,
          "nan_count": 0,
          "min": "5.992644443814032",
          "max": "693861.0",
          "histogram": [
           {
            "bin_start": 5.992644443814032,
            "bin_end": 69391.49337999945,
            "count": 7
           },
           {
            "bin_start": 69391.49337999945,
            "bin_end": 138776.99411555508,
            "count": 0
           },
           {
            "bin_start": 138776.99411555508,
            "bin_end": 208162.4948511107,
            "count": 0
           },
           {
            "bin_start": 208162.4948511107,
            "bin_end": 277547.99558666634,
            "count": 0
           },
           {
            "bin_start": 277547.99558666634,
            "bin_end": 346933.496322222,
            "count": 0
           },
           {
            "bin_start": 346933.496322222,
            "bin_end": 416318.9970577776,
            "count": 0
           },
           {
            "bin_start": 416318.9970577776,
            "bin_end": 485704.4977933332,
            "count": 0
           },
           {
            "bin_start": 485704.4977933332,
            "bin_end": 555089.9985288888,
            "count": 0
           },
           {
            "bin_start": 555089.9985288888,
            "bin_end": 624475.4992644445,
            "count": 0
           },
           {
            "bin_start": 624475.4992644445,
            "bin_end": 693861,
            "count": 1
           }
          ]
         }
        },
        {
         "name": "promo2",
         "dtype": "float64",
         "stats": {
          "unique_count": 5,
          "nan_count": 0,
          "min": "0.0",
          "max": "1017209.0",
          "histogram": [
           {
            "bin_start": 0,
            "bin_end": 101720.9,
            "count": 7
           },
           {
            "bin_start": 101720.9,
            "bin_end": 203441.8,
            "count": 0
           },
           {
            "bin_start": 203441.8,
            "bin_end": 305162.69999999995,
            "count": 0
           },
           {
            "bin_start": 305162.69999999995,
            "bin_end": 406883.6,
            "count": 0
           },
           {
            "bin_start": 406883.6,
            "bin_end": 508604.5,
            "count": 0
           },
           {
            "bin_start": 508604.5,
            "bin_end": 610325.3999999999,
            "count": 0
           },
           {
            "bin_start": 610325.3999999999,
            "bin_end": 712046.2999999999,
            "count": 0
           },
           {
            "bin_start": 712046.2999999999,
            "bin_end": 813767.2,
            "count": 0
           },
           {
            "bin_start": 813767.2,
            "bin_end": 915488.1,
            "count": 0
           },
           {
            "bin_start": 915488.1,
            "bin_end": 1017209,
            "count": 1
           }
          ]
         }
        },
        {
         "name": "promo2_since_week",
         "dtype": "float64",
         "stats": {
          "unique_count": 8,
          "nan_count": 0,
          "min": "1.0",
          "max": "509178.0",
          "histogram": [
           {
            "bin_start": 1,
            "bin_end": 50918.7,
            "count": 7
           },
           {
            "bin_start": 50918.7,
            "bin_end": 101836.4,
            "count": 0
           },
           {
            "bin_start": 101836.4,
            "bin_end": 152754.09999999998,
            "count": 0
           },
           {
            "bin_start": 152754.09999999998,
            "bin_end": 203671.8,
            "count": 0
           },
           {
            "bin_start": 203671.8,
            "bin_end": 254589.5,
            "count": 0
           },
           {
            "bin_start": 254589.5,
            "bin_end": 305507.19999999995,
            "count": 0
           },
           {
            "bin_start": 305507.19999999995,
            "bin_end": 356424.89999999997,
            "count": 0
           },
           {
            "bin_start": 356424.89999999997,
            "bin_end": 407342.6,
            "count": 0
           },
           {
            "bin_start": 407342.6,
            "bin_end": 458260.3,
            "count": 0
           },
           {
            "bin_start": 458260.3,
            "bin_end": 509178,
            "count": 1
           }
          ]
         }
        },
        {
         "name": "promo2_since_year",
         "dtype": "float64",
         "stats": {
          "unique_count": 8,
          "nan_count": 0,
          "min": "1.6628704306428779",
          "max": "509178.0",
          "histogram": [
           {
            "bin_start": 1.6628704306428779,
            "bin_end": 50919.29658338758,
            "count": 7
           },
           {
            "bin_start": 50919.29658338758,
            "bin_end": 101836.93029634452,
            "count": 0
           },
           {
            "bin_start": 101836.93029634452,
            "bin_end": 152754.56400930145,
            "count": 0
           },
           {
            "bin_start": 152754.56400930145,
            "bin_end": 203672.1977222584,
            "count": 0
           },
           {
            "bin_start": 203672.1977222584,
            "bin_end": 254589.83143521534,
            "count": 0
           },
           {
            "bin_start": 254589.83143521534,
            "bin_end": 305507.4651481722,
            "count": 0
           },
           {
            "bin_start": 305507.4651481722,
            "bin_end": 356425.0988611292,
            "count": 0
           },
           {
            "bin_start": 356425.0988611292,
            "bin_end": 407342.7325740861,
            "count": 0
           },
           {
            "bin_start": 407342.7325740861,
            "bin_end": 458260.366287043,
            "count": 0
           },
           {
            "bin_start": 458260.366287043,
            "bin_end": 509178,
            "count": 1
           }
          ]
         }
        },
        {
         "name": "_deepnote_index_column",
         "dtype": "object"
        }
       ],
       "rows": [
        {
         "store": 1017209,
         "day_of_week": 1017209,
         "sales": 1017209,
         "customers": 1017209,
         "open": 1017209,
         "promo": 1017209,
         "school_holiday": 1017209,
         "competition_distance": 1014567,
         "competition_open_since_month": 693861,
         "competition_open_since_year": 693861,
         "promo2": 1017209,
         "promo2_since_week": 509178,
         "promo2_since_year": 509178,
         "_deepnote_index_column": "count"
        },
        {
         "store": 1115,
         "day_of_week": 7,
         "sales": 41551,
         "customers": 7388,
         "open": 1,
         "promo": 1,
         "school_holiday": 1,
         "competition_distance": 75860,
         "competition_open_since_month": 12,
         "competition_open_since_year": 2015,
         "promo2": 1,
         "promo2_since_week": 50,
         "promo2_since_year": 2015,
         "_deepnote_index_column": "max"
        },
        {
         "store": 838,
         "day_of_week": 6,
         "sales": 7856,
         "customers": 837,
         "open": 1,
         "promo": 1,
         "school_holiday": 0,
         "competition_distance": 6890,
         "competition_open_since_month": 10,
         "competition_open_since_year": 2013,
         "promo2": 1,
         "promo2_since_week": 37,
         "promo2_since_year": 2013,
         "_deepnote_index_column": "75%"
        },
        {
         "store": 558.4297268309659,
         "day_of_week": 3.998340557348588,
         "sales": 5773.818972305593,
         "customers": 633.1459464082602,
         "open": 0.8301066939045958,
         "promo": 0.3815145166824124,
         "school_holiday": 0.17864666946517382,
         "competition_distance": 5430.085652302903,
         "competition_open_since_month": 7.222865963067531,
         "competition_open_since_year": 2008.6902275816049,
         "promo2": 0.5005637976069814,
         "promo2_since_week": 23.269092537383784,
         "promo2_since_year": 2011.7527740790058,
         "_deepnote_index_column": "mean"
        },
        {
         "store": 558,
         "day_of_week": 4,
         "sales": 5744,
         "customers": 609,
         "open": 1,
         "promo": 0,
         "school_holiday": 0,
         "competition_distance": 2330,
         "competition_open_since_month": 8,
         "competition_open_since_year": 2010,
         "promo2": 1,
         "promo2_since_week": 22,
         "promo2_since_year": 2012,
         "_deepnote_index_column": "50%"
        },
        {
         "store": 321.9086511434534,
         "day_of_week": 1.9973909649405301,
         "sales": 3849.926175234759,
         "customers": 464.41173388663236,
         "open": 0.37553922469319473,
         "promo": 0.48575860487742006,
         "school_holiday": 0.38305636818092625,
         "competition_distance": 7715.32370027018,
         "competition_open_since_month": 3.211832113457743,
         "competition_open_since_year": 5.992644443814032,
         "promo2": 0.4999999279027171,
         "promo2_since_week": 14.095972529260495,
         "promo2_since_year": 1.6628704306428779,
         "_deepnote_index_column": "std"
        },
        {
         "store": 280,
         "day_of_week": 2,
         "sales": 3727,
         "customers": 405,
         "open": 1,
         "promo": 0,
         "school_holiday": 0,
         "competition_distance": 710,
         "competition_open_since_month": 4,
         "competition_open_since_year": 2006,
         "promo2": 0,
         "promo2_since_week": 13,
         "promo2_since_year": 2011,
         "_deepnote_index_column": "25%"
        },
        {
         "store": 1,
         "day_of_week": 1,
         "sales": 0,
         "customers": 0,
         "open": 0,
         "promo": 0,
         "school_holiday": 0,
         "competition_distance": 20,
         "competition_open_since_month": 1,
         "competition_open_since_year": 1900,
         "promo2": 0,
         "promo2_since_week": 1,
         "promo2_since_year": 2009,
         "_deepnote_index_column": "min"
        }
       ]
      },
      "text/plain": "              store   day_of_week         sales     customers          open  \\\ncount  1.017209e+06  1.017209e+06  1.017209e+06  1.017209e+06  1.017209e+06   \nmean   5.584297e+02  3.998341e+00  5.773819e+03  6.331459e+02  8.301067e-01   \nstd    3.219087e+02  1.997391e+00  3.849926e+03  4.644117e+02  3.755392e-01   \nmin    1.000000e+00  1.000000e+00  0.000000e+00  0.000000e+00  0.000000e+00   \n25%    2.800000e+02  2.000000e+00  3.727000e+03  4.050000e+02  1.000000e+00   \n50%    5.580000e+02  4.000000e+00  5.744000e+03  6.090000e+02  1.000000e+00   \n75%    8.380000e+02  6.000000e+00  7.856000e+03  8.370000e+02  1.000000e+00   \nmax    1.115000e+03  7.000000e+00  4.155100e+04  7.388000e+03  1.000000e+00   \n\n              promo  school_holiday  competition_distance  \\\ncount  1.017209e+06    1.017209e+06          1.014567e+06   \nmean   3.815145e-01    1.786467e-01          5.430086e+03   \nstd    4.857586e-01    3.830564e-01          7.715324e+03   \nmin    0.000000e+00    0.000000e+00          2.000000e+01   \n25%    0.000000e+00    0.000000e+00          7.100000e+02   \n50%    0.000000e+00    0.000000e+00          2.330000e+03   \n75%    1.000000e+00    0.000000e+00          6.890000e+03   \nmax    1.000000e+00    1.000000e+00          7.586000e+04   \n\n       competition_open_since_month  competition_open_since_year  \\\ncount                 693861.000000                693861.000000   \nmean                       7.222866                  2008.690228   \nstd                        3.211832                     5.992644   \nmin                        1.000000                  1900.000000   \n25%                        4.000000                  2006.000000   \n50%                        8.000000                  2010.000000   \n75%                       10.000000                  2013.000000   \nmax                       12.000000                  2015.000000   \n\n             promo2  promo2_since_week  promo2_since_year  \ncount  1.017209e+06      509178.000000      509178.000000  \nmean   5.005638e-01          23.269093        2011.752774  \nstd    4.999999e-01          14.095973           1.662870  \nmin    0.000000e+00           1.000000        2009.000000  \n25%    0.000000e+00          13.000000        2011.000000  \n50%    1.000000e+00          22.000000        2012.000000  \n75%    1.000000e+00          37.000000        2013.000000  \nmax    1.000000e+00          50.000000        2015.000000  ",
      "text/html": "<div>\n<style scoped>\n    .dataframe tbody tr th:only-of-type {\n        vertical-align: middle;\n    }\n\n    .dataframe tbody tr th {\n        vertical-align: top;\n    }\n\n    .dataframe thead th {\n        text-align: right;\n    }\n</style>\n<table border=\"1\" class=\"dataframe\">\n  <thead>\n    <tr style=\"text-align: right;\">\n      <th></th>\n      <th>store</th>\n      <th>day_of_week</th>\n      <th>sales</th>\n      <th>customers</th>\n      <th>open</th>\n      <th>promo</th>\n      <th>school_holiday</th>\n      <th>competition_distance</th>\n      <th>competition_open_since_month</th>\n      <th>competition_open_since_year</th>\n      <th>promo2</th>\n      <th>promo2_since_week</th>\n      <th>promo2_since_year</th>\n    </tr>\n  </thead>\n  <tbody>\n    <tr>\n      <th>count</th>\n      <td>1.017209e+06</td>\n      <td>1.017209e+06</td>\n      <td>1.017209e+06</td>\n      <td>1.017209e+06</td>\n      <td>1.017209e+06</td>\n      <td>1.017209e+06</td>\n      <td>1.017209e+06</td>\n      <td>1.014567e+06</td>\n      <td>693861.000000</td>\n      <td>693861.000000</td>\n      <td>1.017209e+06</td>\n      <td>509178.000000</td>\n      <td>509178.000000</td>\n    </tr>\n    <tr>\n      <th>mean</th>\n      <td>5.584297e+02</td>\n      <td>3.998341e+00</td>\n      <td>5.773819e+03</td>\n      <td>6.331459e+02</td>\n      <td>8.301067e-01</td>\n      <td>3.815145e-01</td>\n      <td>1.786467e-01</td>\n      <td>5.430086e+03</td>\n      <td>7.222866</td>\n      <td>2008.690228</td>\n      <td>5.005638e-01</td>\n      <td>23.269093</td>\n      <td>2011.752774</td>\n    </tr>\n    <tr>\n      <th>std</th>\n      <td>3.219087e+02</td>\n      <td>1.997391e+00</td>\n      <td>3.849926e+03</td>\n      <td>4.644117e+02</td>\n      <td>3.755392e-01</td>\n      <td>4.857586e-01</td>\n      <td>3.830564e-01</td>\n      <td>7.715324e+03</td>\n      <td>3.211832</td>\n      <td>5.992644</td>\n      <td>4.999999e-01</td>\n      <td>14.095973</td>\n      <td>1.662870</td>\n    </tr>\n    <tr>\n      <th>min</th>\n      <td>1.000000e+00</td>\n      <td>1.000000e+00</td>\n      <td>0.000000e+00</td>\n      <td>0.000000e+00</td>\n      <td>0.000000e+00</td>\n      <td>0.000000e+00</td>\n      <td>0.000000e+00</td>\n      <td>2.000000e+01</td>\n      <td>1.000000</td>\n      <td>1900.000000</td>\n      <td>0.000000e+00</td>\n      <td>1.000000</td>\n      <td>2009.000000</td>\n    </tr>\n    <tr>\n      <th>25%</th>\n      <td>2.800000e+02</td>\n      <td>2.000000e+00</td>\n      <td>3.727000e+03</td>\n      <td>4.050000e+02</td>\n      <td>1.000000e+00</td>\n      <td>0.000000e+00</td>\n      <td>0.000000e+00</td>\n      <td>7.100000e+02</td>\n      <td>4.000000</td>\n      <td>2006.000000</td>\n      <td>0.000000e+00</td>\n      <td>13.000000</td>\n      <td>2011.000000</td>\n    </tr>\n    <tr>\n      <th>50%</th>\n      <td>5.580000e+02</td>\n      <td>4.000000e+00</td>\n      <td>5.744000e+03</td>\n      <td>6.090000e+02</td>\n      <td>1.000000e+00</td>\n      <td>0.000000e+00</td>\n      <td>0.000000e+00</td>\n      <td>2.330000e+03</td>\n      <td>8.000000</td>\n      <td>2010.000000</td>\n      <td>1.000000e+00</td>\n      <td>22.000000</td>\n      <td>2012.000000</td>\n    </tr>\n    <tr>\n      <th>75%</th>\n      <td>8.380000e+02</td>\n      <td>6.000000e+00</td>\n      <td>7.856000e+03</td>\n      <td>8.370000e+02</td>\n      <td>1.000000e+00</td>\n      <td>1.000000e+00</td>\n      <td>0.000000e+00</td>\n      <td>6.890000e+03</td>\n      <td>10.000000</td>\n      <td>2013.000000</td>\n      <td>1.000000e+00</td>\n      <td>37.000000</td>\n      <td>2013.000000</td>\n    </tr>\n    <tr>\n      <th>max</th>\n      <td>1.115000e+03</td>\n      <td>7.000000e+00</td>\n      <td>4.155100e+04</td>\n      <td>7.388000e+03</td>\n      <td>1.000000e+00</td>\n      <td>1.000000e+00</td>\n      <td>1.000000e+00</td>\n      <td>7.586000e+04</td>\n      <td>12.000000</td>\n      <td>2015.000000</td>\n      <td>1.000000e+00</td>\n      <td>50.000000</td>\n      <td>2015.000000</td>\n    </tr>\n  </tbody>\n</table>\n</div>"
     },
     "metadata": {}
    }
   ]
  },
  {
   "cell_type": "code",
   "metadata": {
    "cell_id": "72f10f08-2065-46a6-ab52-6cbd2f7e91ec",
    "tags": [],
    "deepnote_to_be_reexecuted": false,
    "source_hash": "a41153e2",
    "execution_start": 1643669439362,
    "execution_millis": 805,
    "deepnote_output_heights": [
     21.1875,
     21.1875
    ],
    "deepnote_cell_type": "code"
   },
   "source": "sales[\"date\"]=pd.to_datetime(sales[\"date\"]).dt.date\nsales.info()\n\n#stamp.strftime('%Y-%m-%d')",
   "execution_count": null,
   "outputs": [
    {
     "name": "stdout",
     "text": "<class 'pandas.core.frame.DataFrame'>\nInt64Index: 1017209 entries, 0 to 1017208\nData columns (total 18 columns):\n #   Column                        Non-Null Count    Dtype  \n---  ------                        --------------    -----  \n 0   store                         1017209 non-null  int64  \n 1   day_of_week                   1017209 non-null  int64  \n 2   date                          1017209 non-null  object \n 3   sales                         1017209 non-null  int64  \n 4   customers                     1017209 non-null  int64  \n 5   open                          1017209 non-null  int64  \n 6   promo                         1017209 non-null  int64  \n 7   state_holiday                 1017209 non-null  object \n 8   school_holiday                1017209 non-null  int64  \n 9   store_type                    1017209 non-null  object \n 10  assortment                    1017209 non-null  object \n 11  competition_distance          1014567 non-null  float64\n 12  competition_open_since_month  693861 non-null   float64\n 13  competition_open_since_year   693861 non-null   float64\n 14  promo2                        1017209 non-null  int64  \n 15  promo2_since_week             509178 non-null   float64\n 16  promo2_since_year             509178 non-null   float64\n 17  promo_interval                509178 non-null   object \ndtypes: float64(5), int64(8), object(5)\nmemory usage: 147.5+ MB\n",
     "output_type": "stream"
    }
   ]
  },
  {
   "cell_type": "code",
   "metadata": {
    "cell_id": "04eccb1a-fef2-459d-a3dc-29728a85e50f",
    "tags": [],
    "deepnote_to_be_reexecuted": false,
    "source_hash": "e2efffad",
    "execution_start": 1643669440175,
    "execution_millis": 419,
    "deepnote_output_heights": [
     21.1875
    ],
    "deepnote_table_state": {
     "pageSize": 25,
     "pageIndex": 0,
     "filters": [],
     "sortBy": []
    },
    "deepnote_table_loading": false,
    "deepnote_cell_type": "code"
   },
   "source": "#a = public holiday, b = Easter holiday, c = Christmas, 0 = None\nsales[\"state_holiday\"].replace({\"a\": \"public_holiday\", \"b\": \"easter_holiday\", \"c\": \"christmas\", \"0\": \"None\", 0: \"None\"}, inplace=True)\nprint(sales.state_holiday.unique())\nsales.head(20)",
   "execution_count": null,
   "outputs": [
    {
     "name": "stdout",
     "text": "['None' 'public_holiday' 'easter_holiday' 'christmas']\n",
     "output_type": "stream"
    },
    {
     "output_type": "execute_result",
     "execution_count": 7,
     "data": {
      "application/vnd.deepnote.dataframe.v3+json": {
       "column_count": 18,
       "row_count": 20,
       "columns": [
        {
         "name": "store",
         "dtype": "int64",
         "stats": {
          "unique_count": 1,
          "nan_count": 0,
          "min": "1",
          "max": "1",
          "histogram": [
           {
            "bin_start": 0.5,
            "bin_end": 0.6,
            "count": 0
           },
           {
            "bin_start": 0.6,
            "bin_end": 0.7,
            "count": 0
           },
           {
            "bin_start": 0.7,
            "bin_end": 0.8,
            "count": 0
           },
           {
            "bin_start": 0.8,
            "bin_end": 0.9,
            "count": 0
           },
           {
            "bin_start": 0.9,
            "bin_end": 1,
            "count": 0
           },
           {
            "bin_start": 1,
            "bin_end": 1.1,
            "count": 20
           },
           {
            "bin_start": 1.1,
            "bin_end": 1.2000000000000002,
            "count": 0
           },
           {
            "bin_start": 1.2000000000000002,
            "bin_end": 1.3,
            "count": 0
           },
           {
            "bin_start": 1.3,
            "bin_end": 1.4,
            "count": 0
           },
           {
            "bin_start": 1.4,
            "bin_end": 1.5,
            "count": 0
           }
          ]
         }
        },
        {
         "name": "day_of_week",
         "dtype": "int64",
         "stats": {
          "unique_count": 7,
          "nan_count": 0,
          "min": "1",
          "max": "7",
          "histogram": [
           {
            "bin_start": 1,
            "bin_end": 1.6,
            "count": 3
           },
           {
            "bin_start": 1.6,
            "bin_end": 2.2,
            "count": 3
           },
           {
            "bin_start": 2.2,
            "bin_end": 2.8,
            "count": 0
           },
           {
            "bin_start": 2.8,
            "bin_end": 3.4,
            "count": 3
           },
           {
            "bin_start": 3.4,
            "bin_end": 4,
            "count": 0
           },
           {
            "bin_start": 4,
            "bin_end": 4.6,
            "count": 3
           },
           {
            "bin_start": 4.6,
            "bin_end": 5.2,
            "count": 3
           },
           {
            "bin_start": 5.2,
            "bin_end": 5.8,
            "count": 0
           },
           {
            "bin_start": 5.8,
            "bin_end": 6.3999999999999995,
            "count": 2
           },
           {
            "bin_start": 6.3999999999999995,
            "bin_end": 7,
            "count": 3
           }
          ]
         }
        },
        {
         "name": "date",
         "dtype": "object",
         "stats": {
          "unique_count": 20,
          "nan_count": 0,
          "categories": [
           {
            "name": "2015-07-31",
            "count": 1
           },
           {
            "name": "2015-07-30",
            "count": 1
           },
           {
            "name": "18 others",
            "count": 18
           }
          ]
         }
        },
        {
         "name": "sales",
         "dtype": "int64",
         "stats": {
          "unique_count": 18,
          "nan_count": 0,
          "min": "0",
          "max": "6102",
          "histogram": [
           {
            "bin_start": 0,
            "bin_end": 610.2,
            "count": 3
           },
           {
            "bin_start": 610.2,
            "bin_end": 1220.4,
            "count": 0
           },
           {
            "bin_start": 1220.4,
            "bin_end": 1830.6000000000001,
            "count": 0
           },
           {
            "bin_start": 1830.6000000000001,
            "bin_end": 2440.8,
            "count": 0
           },
           {
            "bin_start": 2440.8,
            "bin_end": 3051,
            "count": 0
           },
           {
            "bin_start": 3051,
            "bin_end": 3661.2000000000003,
            "count": 2
           },
           {
            "bin_start": 3661.2000000000003,
            "bin_end": 4271.400000000001,
            "count": 2
           },
           {
            "bin_start": 4271.400000000001,
            "bin_end": 4881.6,
            "count": 7
           },
           {
            "bin_start": 4881.6,
            "bin_end": 5491.8,
            "count": 5
           },
           {
            "bin_start": 5491.8,
            "bin_end": 6102,
            "count": 1
           }
          ]
         }
        },
        {
         "name": "customers",
         "dtype": "int64",
         "stats": {
          "unique_count": 18,
          "nan_count": 0,
          "min": "0",
          "max": "612",
          "histogram": [
           {
            "bin_start": 0,
            "bin_end": 61.2,
            "count": 3
           },
           {
            "bin_start": 61.2,
            "bin_end": 122.4,
            "count": 0
           },
           {
            "bin_start": 122.4,
            "bin_end": 183.60000000000002,
            "count": 0
           },
           {
            "bin_start": 183.60000000000002,
            "bin_end": 244.8,
            "count": 0
           },
           {
            "bin_start": 244.8,
            "bin_end": 306,
            "count": 0
           },
           {
            "bin_start": 306,
            "bin_end": 367.20000000000005,
            "count": 0
           },
           {
            "bin_start": 367.20000000000005,
            "bin_end": 428.40000000000003,
            "count": 0
           },
           {
            "bin_start": 428.40000000000003,
            "bin_end": 489.6,
            "count": 3
           },
           {
            "bin_start": 489.6,
            "bin_end": 550.8000000000001,
            "count": 10
           },
           {
            "bin_start": 550.8000000000001,
            "bin_end": 612,
            "count": 4
           }
          ]
         }
        },
        {
         "name": "open",
         "dtype": "int64",
         "stats": {
          "unique_count": 2,
          "nan_count": 0,
          "min": "0",
          "max": "1",
          "histogram": [
           {
            "bin_start": 0,
            "bin_end": 0.1,
            "count": 3
           },
           {
            "bin_start": 0.1,
            "bin_end": 0.2,
            "count": 0
           },
           {
            "bin_start": 0.2,
            "bin_end": 0.30000000000000004,
            "count": 0
           },
           {
            "bin_start": 0.30000000000000004,
            "bin_end": 0.4,
            "count": 0
           },
           {
            "bin_start": 0.4,
            "bin_end": 0.5,
            "count": 0
           },
           {
            "bin_start": 0.5,
            "bin_end": 0.6000000000000001,
            "count": 0
           },
           {
            "bin_start": 0.6000000000000001,
            "bin_end": 0.7000000000000001,
            "count": 0
           },
           {
            "bin_start": 0.7000000000000001,
            "bin_end": 0.8,
            "count": 0
           },
           {
            "bin_start": 0.8,
            "bin_end": 0.9,
            "count": 0
           },
           {
            "bin_start": 0.9,
            "bin_end": 1,
            "count": 17
           }
          ]
         }
        },
        {
         "name": "promo",
         "dtype": "int64",
         "stats": {
          "unique_count": 2,
          "nan_count": 0,
          "min": "0",
          "max": "1",
          "histogram": [
           {
            "bin_start": 0,
            "bin_end": 0.1,
            "count": 10
           },
           {
            "bin_start": 0.1,
            "bin_end": 0.2,
            "count": 0
           },
           {
            "bin_start": 0.2,
            "bin_end": 0.30000000000000004,
            "count": 0
           },
           {
            "bin_start": 0.30000000000000004,
            "bin_end": 0.4,
            "count": 0
           },
           {
            "bin_start": 0.4,
            "bin_end": 0.5,
            "count": 0
           },
           {
            "bin_start": 0.5,
            "bin_end": 0.6000000000000001,
            "count": 0
           },
           {
            "bin_start": 0.6000000000000001,
            "bin_end": 0.7000000000000001,
            "count": 0
           },
           {
            "bin_start": 0.7000000000000001,
            "bin_end": 0.8,
            "count": 0
           },
           {
            "bin_start": 0.8,
            "bin_end": 0.9,
            "count": 0
           },
           {
            "bin_start": 0.9,
            "bin_end": 1,
            "count": 10
           }
          ]
         }
        },
        {
         "name": "state_holiday",
         "dtype": "object",
         "stats": {
          "unique_count": 1,
          "nan_count": 0,
          "categories": [
           {
            "name": "None",
            "count": 20
           }
          ]
         }
        },
        {
         "name": "school_holiday",
         "dtype": "int64",
         "stats": {
          "unique_count": 2,
          "nan_count": 0,
          "min": "0",
          "max": "1",
          "histogram": [
           {
            "bin_start": 0,
            "bin_end": 0.1,
            "count": 15
           },
           {
            "bin_start": 0.1,
            "bin_end": 0.2,
            "count": 0
           },
           {
            "bin_start": 0.2,
            "bin_end": 0.30000000000000004,
            "count": 0
           },
           {
            "bin_start": 0.30000000000000004,
            "bin_end": 0.4,
            "count": 0
           },
           {
            "bin_start": 0.4,
            "bin_end": 0.5,
            "count": 0
           },
           {
            "bin_start": 0.5,
            "bin_end": 0.6000000000000001,
            "count": 0
           },
           {
            "bin_start": 0.6000000000000001,
            "bin_end": 0.7000000000000001,
            "count": 0
           },
           {
            "bin_start": 0.7000000000000001,
            "bin_end": 0.8,
            "count": 0
           },
           {
            "bin_start": 0.8,
            "bin_end": 0.9,
            "count": 0
           },
           {
            "bin_start": 0.9,
            "bin_end": 1,
            "count": 5
           }
          ]
         }
        },
        {
         "name": "store_type",
         "dtype": "object",
         "stats": {
          "unique_count": 1,
          "nan_count": 0,
          "categories": [
           {
            "name": "c",
            "count": 20
           }
          ]
         }
        },
        {
         "name": "assortment",
         "dtype": "object",
         "stats": {
          "unique_count": 1,
          "nan_count": 0,
          "categories": [
           {
            "name": "a",
            "count": 20
           }
          ]
         }
        },
        {
         "name": "competition_distance",
         "dtype": "float64",
         "stats": {
          "unique_count": 1,
          "nan_count": 0,
          "min": "1270.0",
          "max": "1270.0",
          "histogram": [
           {
            "bin_start": 1269.5,
            "bin_end": 1269.6,
            "count": 0
           },
           {
            "bin_start": 1269.6,
            "bin_end": 1269.7,
            "count": 0
           },
           {
            "bin_start": 1269.7,
            "bin_end": 1269.8,
            "count": 0
           },
           {
            "bin_start": 1269.8,
            "bin_end": 1269.9,
            "count": 0
           },
           {
            "bin_start": 1269.9,
            "bin_end": 1270,
            "count": 0
           },
           {
            "bin_start": 1270,
            "bin_end": 1270.1,
            "count": 20
           },
           {
            "bin_start": 1270.1,
            "bin_end": 1270.2,
            "count": 0
           },
           {
            "bin_start": 1270.2,
            "bin_end": 1270.3,
            "count": 0
           },
           {
            "bin_start": 1270.3,
            "bin_end": 1270.4,
            "count": 0
           },
           {
            "bin_start": 1270.4,
            "bin_end": 1270.5,
            "count": 0
           }
          ]
         }
        },
        {
         "name": "competition_open_since_month",
         "dtype": "float64",
         "stats": {
          "unique_count": 1,
          "nan_count": 0,
          "min": "9.0",
          "max": "9.0",
          "histogram": [
           {
            "bin_start": 8.5,
            "bin_end": 8.6,
            "count": 0
           },
           {
            "bin_start": 8.6,
            "bin_end": 8.7,
            "count": 0
           },
           {
            "bin_start": 8.7,
            "bin_end": 8.8,
            "count": 0
           },
           {
            "bin_start": 8.8,
            "bin_end": 8.9,
            "count": 0
           },
           {
            "bin_start": 8.9,
            "bin_end": 9,
            "count": 0
           },
           {
            "bin_start": 9,
            "bin_end": 9.1,
            "count": 20
           },
           {
            "bin_start": 9.1,
            "bin_end": 9.2,
            "count": 0
           },
           {
            "bin_start": 9.2,
            "bin_end": 9.3,
            "count": 0
           },
           {
            "bin_start": 9.3,
            "bin_end": 9.4,
            "count": 0
           },
           {
            "bin_start": 9.4,
            "bin_end": 9.5,
            "count": 0
           }
          ]
         }
        },
        {
         "name": "competition_open_since_year",
         "dtype": "float64",
         "stats": {
          "unique_count": 1,
          "nan_count": 0,
          "min": "2008.0",
          "max": "2008.0",
          "histogram": [
           {
            "bin_start": 2007.5,
            "bin_end": 2007.6,
            "count": 0
           },
           {
            "bin_start": 2007.6,
            "bin_end": 2007.7,
            "count": 0
           },
           {
            "bin_start": 2007.7,
            "bin_end": 2007.8,
            "count": 0
           },
           {
            "bin_start": 2007.8,
            "bin_end": 2007.9,
            "count": 0
           },
           {
            "bin_start": 2007.9,
            "bin_end": 2008,
            "count": 0
           },
           {
            "bin_start": 2008,
            "bin_end": 2008.1,
            "count": 20
           },
           {
            "bin_start": 2008.1,
            "bin_end": 2008.2,
            "count": 0
           },
           {
            "bin_start": 2008.2,
            "bin_end": 2008.3,
            "count": 0
           },
           {
            "bin_start": 2008.3,
            "bin_end": 2008.4,
            "count": 0
           },
           {
            "bin_start": 2008.4,
            "bin_end": 2008.5,
            "count": 0
           }
          ]
         }
        },
        {
         "name": "promo2",
         "dtype": "int64",
         "stats": {
          "unique_count": 1,
          "nan_count": 0,
          "min": "0",
          "max": "0",
          "histogram": [
           {
            "bin_start": -0.5,
            "bin_end": -0.4,
            "count": 0
           },
           {
            "bin_start": -0.4,
            "bin_end": -0.3,
            "count": 0
           },
           {
            "bin_start": -0.3,
            "bin_end": -0.19999999999999996,
            "count": 0
           },
           {
            "bin_start": -0.19999999999999996,
            "bin_end": -0.09999999999999998,
            "count": 0
           },
           {
            "bin_start": -0.09999999999999998,
            "bin_end": 0,
            "count": 0
           },
           {
            "bin_start": 0,
            "bin_end": 0.10000000000000009,
            "count": 20
           },
           {
            "bin_start": 0.10000000000000009,
            "bin_end": 0.20000000000000007,
            "count": 0
           },
           {
            "bin_start": 0.20000000000000007,
            "bin_end": 0.30000000000000004,
            "count": 0
           },
           {
            "bin_start": 0.30000000000000004,
            "bin_end": 0.4,
            "count": 0
           },
           {
            "bin_start": 0.4,
            "bin_end": 0.5,
            "count": 0
           }
          ]
         }
        },
        {
         "name": "promo2_since_week",
         "dtype": "float64",
         "stats": {
          "unique_count": 0,
          "nan_count": 20,
          "min": null,
          "max": null,
          "histogram": [
           {
            "bin_start": 0,
            "bin_end": 0.1,
            "count": 0
           },
           {
            "bin_start": 0.1,
            "bin_end": 0.2,
            "count": 0
           },
           {
            "bin_start": 0.2,
            "bin_end": 0.30000000000000004,
            "count": 0
           },
           {
            "bin_start": 0.30000000000000004,
            "bin_end": 0.4,
            "count": 0
           },
           {
            "bin_start": 0.4,
            "bin_end": 0.5,
            "count": 0
           },
           {
            "bin_start": 0.5,
            "bin_end": 0.6000000000000001,
            "count": 0
           },
           {
            "bin_start": 0.6000000000000001,
            "bin_end": 0.7000000000000001,
            "count": 0
           },
           {
            "bin_start": 0.7000000000000001,
            "bin_end": 0.8,
            "count": 0
           },
           {
            "bin_start": 0.8,
            "bin_end": 0.9,
            "count": 0
           },
           {
            "bin_start": 0.9,
            "bin_end": 1,
            "count": 0
           }
          ]
         }
        },
        {
         "name": "promo2_since_year",
         "dtype": "float64",
         "stats": {
          "unique_count": 0,
          "nan_count": 20,
          "min": null,
          "max": null,
          "histogram": [
           {
            "bin_start": 0,
            "bin_end": 0.1,
            "count": 0
           },
           {
            "bin_start": 0.1,
            "bin_end": 0.2,
            "count": 0
           },
           {
            "bin_start": 0.2,
            "bin_end": 0.30000000000000004,
            "count": 0
           },
           {
            "bin_start": 0.30000000000000004,
            "bin_end": 0.4,
            "count": 0
           },
           {
            "bin_start": 0.4,
            "bin_end": 0.5,
            "count": 0
           },
           {
            "bin_start": 0.5,
            "bin_end": 0.6000000000000001,
            "count": 0
           },
           {
            "bin_start": 0.6000000000000001,
            "bin_end": 0.7000000000000001,
            "count": 0
           },
           {
            "bin_start": 0.7000000000000001,
            "bin_end": 0.8,
            "count": 0
           },
           {
            "bin_start": 0.8,
            "bin_end": 0.9,
            "count": 0
           },
           {
            "bin_start": 0.9,
            "bin_end": 1,
            "count": 0
           }
          ]
         }
        },
        {
         "name": "promo_interval",
         "dtype": "object",
         "stats": {
          "unique_count": 0,
          "nan_count": 20,
          "categories": [
           {
            "name": "Missing",
            "count": 20
           }
          ]
         }
        },
        {
         "name": "_deepnote_index_column",
         "dtype": "int64"
        }
       ],
       "rows": [
        {
         "store": 1,
         "day_of_week": 5,
         "date": "2015-07-31",
         "sales": 5263,
         "customers": 555,
         "open": 1,
         "promo": 1,
         "state_holiday": "None",
         "school_holiday": 1,
         "store_type": "c",
         "assortment": "a",
         "competition_distance": 1270,
         "competition_open_since_month": 9,
         "competition_open_since_year": 2008,
         "promo2": 0,
         "promo2_since_week": "nan",
         "promo2_since_year": "nan",
         "promo_interval": "nan",
         "_deepnote_index_column": 0
        },
        {
         "store": 1,
         "day_of_week": 4,
         "date": "2015-07-30",
         "sales": 5020,
         "customers": 546,
         "open": 1,
         "promo": 1,
         "state_holiday": "None",
         "school_holiday": 1,
         "store_type": "c",
         "assortment": "a",
         "competition_distance": 1270,
         "competition_open_since_month": 9,
         "competition_open_since_year": 2008,
         "promo2": 0,
         "promo2_since_week": "nan",
         "promo2_since_year": "nan",
         "promo_interval": "nan",
         "_deepnote_index_column": 1
        },
        {
         "store": 1,
         "day_of_week": 3,
         "date": "2015-07-29",
         "sales": 4782,
         "customers": 523,
         "open": 1,
         "promo": 1,
         "state_holiday": "None",
         "school_holiday": 1,
         "store_type": "c",
         "assortment": "a",
         "competition_distance": 1270,
         "competition_open_since_month": 9,
         "competition_open_since_year": 2008,
         "promo2": 0,
         "promo2_since_week": "nan",
         "promo2_since_year": "nan",
         "promo_interval": "nan",
         "_deepnote_index_column": 2
        },
        {
         "store": 1,
         "day_of_week": 2,
         "date": "2015-07-28",
         "sales": 5011,
         "customers": 560,
         "open": 1,
         "promo": 1,
         "state_holiday": "None",
         "school_holiday": 1,
         "store_type": "c",
         "assortment": "a",
         "competition_distance": 1270,
         "competition_open_since_month": 9,
         "competition_open_since_year": 2008,
         "promo2": 0,
         "promo2_since_week": "nan",
         "promo2_since_year": "nan",
         "promo_interval": "nan",
         "_deepnote_index_column": 3
        },
        {
         "store": 1,
         "day_of_week": 1,
         "date": "2015-07-27",
         "sales": 6102,
         "customers": 612,
         "open": 1,
         "promo": 1,
         "state_holiday": "None",
         "school_holiday": 1,
         "store_type": "c",
         "assortment": "a",
         "competition_distance": 1270,
         "competition_open_since_month": 9,
         "competition_open_since_year": 2008,
         "promo2": 0,
         "promo2_since_week": "nan",
         "promo2_since_year": "nan",
         "promo_interval": "nan",
         "_deepnote_index_column": 4
        },
        {
         "store": 1,
         "day_of_week": 7,
         "date": "2015-07-26",
         "sales": 0,
         "customers": 0,
         "open": 0,
         "promo": 0,
         "state_holiday": "None",
         "school_holiday": 0,
         "store_type": "c",
         "assortment": "a",
         "competition_distance": 1270,
         "competition_open_since_month": 9,
         "competition_open_since_year": 2008,
         "promo2": 0,
         "promo2_since_week": "nan",
         "promo2_since_year": "nan",
         "promo_interval": "nan",
         "_deepnote_index_column": 5
        },
        {
         "store": 1,
         "day_of_week": 6,
         "date": "2015-07-25",
         "sales": 4364,
         "customers": 500,
         "open": 1,
         "promo": 0,
         "state_holiday": "None",
         "school_holiday": 0,
         "store_type": "c",
         "assortment": "a",
         "competition_distance": 1270,
         "competition_open_since_month": 9,
         "competition_open_since_year": 2008,
         "promo2": 0,
         "promo2_since_week": "nan",
         "promo2_since_year": "nan",
         "promo_interval": "nan",
         "_deepnote_index_column": 6
        },
        {
         "store": 1,
         "day_of_week": 5,
         "date": "2015-07-24",
         "sales": 3706,
         "customers": 459,
         "open": 1,
         "promo": 0,
         "state_holiday": "None",
         "school_holiday": 0,
         "store_type": "c",
         "assortment": "a",
         "competition_distance": 1270,
         "competition_open_since_month": 9,
         "competition_open_since_year": 2008,
         "promo2": 0,
         "promo2_since_week": "nan",
         "promo2_since_year": "nan",
         "promo_interval": "nan",
         "_deepnote_index_column": 7
        },
        {
         "store": 1,
         "day_of_week": 4,
         "date": "2015-07-23",
         "sales": 3769,
         "customers": 503,
         "open": 1,
         "promo": 0,
         "state_holiday": "None",
         "school_holiday": 0,
         "store_type": "c",
         "assortment": "a",
         "competition_distance": 1270,
         "competition_open_since_month": 9,
         "competition_open_since_year": 2008,
         "promo2": 0,
         "promo2_since_week": "nan",
         "promo2_since_year": "nan",
         "promo_interval": "nan",
         "_deepnote_index_column": 8
        },
        {
         "store": 1,
         "day_of_week": 3,
         "date": "2015-07-22",
         "sales": 3464,
         "customers": 463,
         "open": 1,
         "promo": 0,
         "state_holiday": "None",
         "school_holiday": 0,
         "store_type": "c",
         "assortment": "a",
         "competition_distance": 1270,
         "competition_open_since_month": 9,
         "competition_open_since_year": 2008,
         "promo2": 0,
         "promo2_since_week": "nan",
         "promo2_since_year": "nan",
         "promo_interval": "nan",
         "_deepnote_index_column": 9
        },
        {
         "store": 1,
         "day_of_week": 2,
         "date": "2015-07-21",
         "sales": 3558,
         "customers": 469,
         "open": 1,
         "promo": 0,
         "state_holiday": "None",
         "school_holiday": 0,
         "store_type": "c",
         "assortment": "a",
         "competition_distance": 1270,
         "competition_open_since_month": 9,
         "competition_open_since_year": 2008,
         "promo2": 0,
         "promo2_since_week": "nan",
         "promo2_since_year": "nan",
         "promo_interval": "nan",
         "_deepnote_index_column": 10
        },
        {
         "store": 1,
         "day_of_week": 1,
         "date": "2015-07-20",
         "sales": 4395,
         "customers": 526,
         "open": 1,
         "promo": 0,
         "state_holiday": "None",
         "school_holiday": 0,
         "store_type": "c",
         "assortment": "a",
         "competition_distance": 1270,
         "competition_open_since_month": 9,
         "competition_open_since_year": 2008,
         "promo2": 0,
         "promo2_since_week": "nan",
         "promo2_since_year": "nan",
         "promo_interval": "nan",
         "_deepnote_index_column": 11
        },
        {
         "store": 1,
         "day_of_week": 7,
         "date": "2015-07-19",
         "sales": 0,
         "customers": 0,
         "open": 0,
         "promo": 0,
         "state_holiday": "None",
         "school_holiday": 0,
         "store_type": "c",
         "assortment": "a",
         "competition_distance": 1270,
         "competition_open_since_month": 9,
         "competition_open_since_year": 2008,
         "promo2": 0,
         "promo2_since_week": "nan",
         "promo2_since_year": "nan",
         "promo_interval": "nan",
         "_deepnote_index_column": 12
        },
        {
         "store": 1,
         "day_of_week": 6,
         "date": "2015-07-18",
         "sales": 4406,
         "customers": 512,
         "open": 1,
         "promo": 0,
         "state_holiday": "None",
         "school_holiday": 0,
         "store_type": "c",
         "assortment": "a",
         "competition_distance": 1270,
         "competition_open_since_month": 9,
         "competition_open_since_year": 2008,
         "promo2": 0,
         "promo2_since_week": "nan",
         "promo2_since_year": "nan",
         "promo_interval": "nan",
         "_deepnote_index_column": 13
        },
        {
         "store": 1,
         "day_of_week": 5,
         "date": "2015-07-17",
         "sales": 4852,
         "customers": 519,
         "open": 1,
         "promo": 1,
         "state_holiday": "None",
         "school_holiday": 0,
         "store_type": "c",
         "assortment": "a",
         "competition_distance": 1270,
         "competition_open_since_month": 9,
         "competition_open_since_year": 2008,
         "promo2": 0,
         "promo2_since_week": "nan",
         "promo2_since_year": "nan",
         "promo_interval": "nan",
         "_deepnote_index_column": 14
        },
        {
         "store": 1,
         "day_of_week": 4,
         "date": "2015-07-16",
         "sales": 4427,
         "customers": 517,
         "open": 1,
         "promo": 1,
         "state_holiday": "None",
         "school_holiday": 0,
         "store_type": "c",
         "assortment": "a",
         "competition_distance": 1270,
         "competition_open_since_month": 9,
         "competition_open_since_year": 2008,
         "promo2": 0,
         "promo2_since_week": "nan",
         "promo2_since_year": "nan",
         "promo_interval": "nan",
         "_deepnote_index_column": 15
        },
        {
         "store": 1,
         "day_of_week": 3,
         "date": "2015-07-15",
         "sales": 4767,
         "customers": 550,
         "open": 1,
         "promo": 1,
         "state_holiday": "None",
         "school_holiday": 0,
         "store_type": "c",
         "assortment": "a",
         "competition_distance": 1270,
         "competition_open_since_month": 9,
         "competition_open_since_year": 2008,
         "promo2": 0,
         "promo2_since_week": "nan",
         "promo2_since_year": "nan",
         "promo_interval": "nan",
         "_deepnote_index_column": 16
        },
        {
         "store": 1,
         "day_of_week": 2,
         "date": "2015-07-14",
         "sales": 5042,
         "customers": 544,
         "open": 1,
         "promo": 1,
         "state_holiday": "None",
         "school_holiday": 0,
         "store_type": "c",
         "assortment": "a",
         "competition_distance": 1270,
         "competition_open_since_month": 9,
         "competition_open_since_year": 2008,
         "promo2": 0,
         "promo2_since_week": "nan",
         "promo2_since_year": "nan",
         "promo_interval": "nan",
         "_deepnote_index_column": 17
        },
        {
         "store": 1,
         "day_of_week": 1,
         "date": "2015-07-13",
         "sales": 5054,
         "customers": 553,
         "open": 1,
         "promo": 1,
         "state_holiday": "None",
         "school_holiday": 0,
         "store_type": "c",
         "assortment": "a",
         "competition_distance": 1270,
         "competition_open_since_month": 9,
         "competition_open_since_year": 2008,
         "promo2": 0,
         "promo2_since_week": "nan",
         "promo2_since_year": "nan",
         "promo_interval": "nan",
         "_deepnote_index_column": 18
        },
        {
         "store": 1,
         "day_of_week": 7,
         "date": "2015-07-12",
         "sales": 0,
         "customers": 0,
         "open": 0,
         "promo": 0,
         "state_holiday": "None",
         "school_holiday": 0,
         "store_type": "c",
         "assortment": "a",
         "competition_distance": 1270,
         "competition_open_since_month": 9,
         "competition_open_since_year": 2008,
         "promo2": 0,
         "promo2_since_week": "nan",
         "promo2_since_year": "nan",
         "promo_interval": "nan",
         "_deepnote_index_column": 19
        }
       ]
      },
      "text/plain": "    store  day_of_week        date  sales  customers  open  promo  \\\n0       1            5  2015-07-31   5263        555     1      1   \n1       1            4  2015-07-30   5020        546     1      1   \n2       1            3  2015-07-29   4782        523     1      1   \n3       1            2  2015-07-28   5011        560     1      1   \n4       1            1  2015-07-27   6102        612     1      1   \n5       1            7  2015-07-26      0          0     0      0   \n6       1            6  2015-07-25   4364        500     1      0   \n7       1            5  2015-07-24   3706        459     1      0   \n8       1            4  2015-07-23   3769        503     1      0   \n9       1            3  2015-07-22   3464        463     1      0   \n10      1            2  2015-07-21   3558        469     1      0   \n11      1            1  2015-07-20   4395        526     1      0   \n12      1            7  2015-07-19      0          0     0      0   \n13      1            6  2015-07-18   4406        512     1      0   \n14      1            5  2015-07-17   4852        519     1      1   \n15      1            4  2015-07-16   4427        517     1      1   \n16      1            3  2015-07-15   4767        550     1      1   \n17      1            2  2015-07-14   5042        544     1      1   \n18      1            1  2015-07-13   5054        553     1      1   \n19      1            7  2015-07-12      0          0     0      0   \n\n   state_holiday  school_holiday store_type assortment  competition_distance  \\\n0           None               1          c          a                1270.0   \n1           None               1          c          a                1270.0   \n2           None               1          c          a                1270.0   \n3           None               1          c          a                1270.0   \n4           None               1          c          a                1270.0   \n5           None               0          c          a                1270.0   \n6           None               0          c          a                1270.0   \n7           None               0          c          a                1270.0   \n8           None               0          c          a                1270.0   \n9           None               0          c          a                1270.0   \n10          None               0          c          a                1270.0   \n11          None               0          c          a                1270.0   \n12          None               0          c          a                1270.0   \n13          None               0          c          a                1270.0   \n14          None               0          c          a                1270.0   \n15          None               0          c          a                1270.0   \n16          None               0          c          a                1270.0   \n17          None               0          c          a                1270.0   \n18          None               0          c          a                1270.0   \n19          None               0          c          a                1270.0   \n\n    competition_open_since_month  competition_open_since_year  promo2  \\\n0                            9.0                       2008.0       0   \n1                            9.0                       2008.0       0   \n2                            9.0                       2008.0       0   \n3                            9.0                       2008.0       0   \n4                            9.0                       2008.0       0   \n5                            9.0                       2008.0       0   \n6                            9.0                       2008.0       0   \n7                            9.0                       2008.0       0   \n8                            9.0                       2008.0       0   \n9                            9.0                       2008.0       0   \n10                           9.0                       2008.0       0   \n11                           9.0                       2008.0       0   \n12                           9.0                       2008.0       0   \n13                           9.0                       2008.0       0   \n14                           9.0                       2008.0       0   \n15                           9.0                       2008.0       0   \n16                           9.0                       2008.0       0   \n17                           9.0                       2008.0       0   \n18                           9.0                       2008.0       0   \n19                           9.0                       2008.0       0   \n\n    promo2_since_week  promo2_since_year promo_interval  \n0                 NaN                NaN            NaN  \n1                 NaN                NaN            NaN  \n2                 NaN                NaN            NaN  \n3                 NaN                NaN            NaN  \n4                 NaN                NaN            NaN  \n5                 NaN                NaN            NaN  \n6                 NaN                NaN            NaN  \n7                 NaN                NaN            NaN  \n8                 NaN                NaN            NaN  \n9                 NaN                NaN            NaN  \n10                NaN                NaN            NaN  \n11                NaN                NaN            NaN  \n12                NaN                NaN            NaN  \n13                NaN                NaN            NaN  \n14                NaN                NaN            NaN  \n15                NaN                NaN            NaN  \n16                NaN                NaN            NaN  \n17                NaN                NaN            NaN  \n18                NaN                NaN            NaN  \n19                NaN                NaN            NaN  ",
      "text/html": "<div>\n<style scoped>\n    .dataframe tbody tr th:only-of-type {\n        vertical-align: middle;\n    }\n\n    .dataframe tbody tr th {\n        vertical-align: top;\n    }\n\n    .dataframe thead th {\n        text-align: right;\n    }\n</style>\n<table border=\"1\" class=\"dataframe\">\n  <thead>\n    <tr style=\"text-align: right;\">\n      <th></th>\n      <th>store</th>\n      <th>day_of_week</th>\n      <th>date</th>\n      <th>sales</th>\n      <th>customers</th>\n      <th>open</th>\n      <th>promo</th>\n      <th>state_holiday</th>\n      <th>school_holiday</th>\n      <th>store_type</th>\n      <th>assortment</th>\n      <th>competition_distance</th>\n      <th>competition_open_since_month</th>\n      <th>competition_open_since_year</th>\n      <th>promo2</th>\n      <th>promo2_since_week</th>\n      <th>promo2_since_year</th>\n      <th>promo_interval</th>\n    </tr>\n  </thead>\n  <tbody>\n    <tr>\n      <th>0</th>\n      <td>1</td>\n      <td>5</td>\n      <td>2015-07-31</td>\n      <td>5263</td>\n      <td>555</td>\n      <td>1</td>\n      <td>1</td>\n      <td>None</td>\n      <td>1</td>\n      <td>c</td>\n      <td>a</td>\n      <td>1270.0</td>\n      <td>9.0</td>\n      <td>2008.0</td>\n      <td>0</td>\n      <td>NaN</td>\n      <td>NaN</td>\n      <td>NaN</td>\n    </tr>\n    <tr>\n      <th>1</th>\n      <td>1</td>\n      <td>4</td>\n      <td>2015-07-30</td>\n      <td>5020</td>\n      <td>546</td>\n      <td>1</td>\n      <td>1</td>\n      <td>None</td>\n      <td>1</td>\n      <td>c</td>\n      <td>a</td>\n      <td>1270.0</td>\n      <td>9.0</td>\n      <td>2008.0</td>\n      <td>0</td>\n      <td>NaN</td>\n      <td>NaN</td>\n      <td>NaN</td>\n    </tr>\n    <tr>\n      <th>2</th>\n      <td>1</td>\n      <td>3</td>\n      <td>2015-07-29</td>\n      <td>4782</td>\n      <td>523</td>\n      <td>1</td>\n      <td>1</td>\n      <td>None</td>\n      <td>1</td>\n      <td>c</td>\n      <td>a</td>\n      <td>1270.0</td>\n      <td>9.0</td>\n      <td>2008.0</td>\n      <td>0</td>\n      <td>NaN</td>\n      <td>NaN</td>\n      <td>NaN</td>\n    </tr>\n    <tr>\n      <th>3</th>\n      <td>1</td>\n      <td>2</td>\n      <td>2015-07-28</td>\n      <td>5011</td>\n      <td>560</td>\n      <td>1</td>\n      <td>1</td>\n      <td>None</td>\n      <td>1</td>\n      <td>c</td>\n      <td>a</td>\n      <td>1270.0</td>\n      <td>9.0</td>\n      <td>2008.0</td>\n      <td>0</td>\n      <td>NaN</td>\n      <td>NaN</td>\n      <td>NaN</td>\n    </tr>\n    <tr>\n      <th>4</th>\n      <td>1</td>\n      <td>1</td>\n      <td>2015-07-27</td>\n      <td>6102</td>\n      <td>612</td>\n      <td>1</td>\n      <td>1</td>\n      <td>None</td>\n      <td>1</td>\n      <td>c</td>\n      <td>a</td>\n      <td>1270.0</td>\n      <td>9.0</td>\n      <td>2008.0</td>\n      <td>0</td>\n      <td>NaN</td>\n      <td>NaN</td>\n      <td>NaN</td>\n    </tr>\n    <tr>\n      <th>5</th>\n      <td>1</td>\n      <td>7</td>\n      <td>2015-07-26</td>\n      <td>0</td>\n      <td>0</td>\n      <td>0</td>\n      <td>0</td>\n      <td>None</td>\n      <td>0</td>\n      <td>c</td>\n      <td>a</td>\n      <td>1270.0</td>\n      <td>9.0</td>\n      <td>2008.0</td>\n      <td>0</td>\n      <td>NaN</td>\n      <td>NaN</td>\n      <td>NaN</td>\n    </tr>\n    <tr>\n      <th>6</th>\n      <td>1</td>\n      <td>6</td>\n      <td>2015-07-25</td>\n      <td>4364</td>\n      <td>500</td>\n      <td>1</td>\n      <td>0</td>\n      <td>None</td>\n      <td>0</td>\n      <td>c</td>\n      <td>a</td>\n      <td>1270.0</td>\n      <td>9.0</td>\n      <td>2008.0</td>\n      <td>0</td>\n      <td>NaN</td>\n      <td>NaN</td>\n      <td>NaN</td>\n    </tr>\n    <tr>\n      <th>7</th>\n      <td>1</td>\n      <td>5</td>\n      <td>2015-07-24</td>\n      <td>3706</td>\n      <td>459</td>\n      <td>1</td>\n      <td>0</td>\n      <td>None</td>\n      <td>0</td>\n      <td>c</td>\n      <td>a</td>\n      <td>1270.0</td>\n      <td>9.0</td>\n      <td>2008.0</td>\n      <td>0</td>\n      <td>NaN</td>\n      <td>NaN</td>\n      <td>NaN</td>\n    </tr>\n    <tr>\n      <th>8</th>\n      <td>1</td>\n      <td>4</td>\n      <td>2015-07-23</td>\n      <td>3769</td>\n      <td>503</td>\n      <td>1</td>\n      <td>0</td>\n      <td>None</td>\n      <td>0</td>\n      <td>c</td>\n      <td>a</td>\n      <td>1270.0</td>\n      <td>9.0</td>\n      <td>2008.0</td>\n      <td>0</td>\n      <td>NaN</td>\n      <td>NaN</td>\n      <td>NaN</td>\n    </tr>\n    <tr>\n      <th>9</th>\n      <td>1</td>\n      <td>3</td>\n      <td>2015-07-22</td>\n      <td>3464</td>\n      <td>463</td>\n      <td>1</td>\n      <td>0</td>\n      <td>None</td>\n      <td>0</td>\n      <td>c</td>\n      <td>a</td>\n      <td>1270.0</td>\n      <td>9.0</td>\n      <td>2008.0</td>\n      <td>0</td>\n      <td>NaN</td>\n      <td>NaN</td>\n      <td>NaN</td>\n    </tr>\n    <tr>\n      <th>10</th>\n      <td>1</td>\n      <td>2</td>\n      <td>2015-07-21</td>\n      <td>3558</td>\n      <td>469</td>\n      <td>1</td>\n      <td>0</td>\n      <td>None</td>\n      <td>0</td>\n      <td>c</td>\n      <td>a</td>\n      <td>1270.0</td>\n      <td>9.0</td>\n      <td>2008.0</td>\n      <td>0</td>\n      <td>NaN</td>\n      <td>NaN</td>\n      <td>NaN</td>\n    </tr>\n    <tr>\n      <th>11</th>\n      <td>1</td>\n      <td>1</td>\n      <td>2015-07-20</td>\n      <td>4395</td>\n      <td>526</td>\n      <td>1</td>\n      <td>0</td>\n      <td>None</td>\n      <td>0</td>\n      <td>c</td>\n      <td>a</td>\n      <td>1270.0</td>\n      <td>9.0</td>\n      <td>2008.0</td>\n      <td>0</td>\n      <td>NaN</td>\n      <td>NaN</td>\n      <td>NaN</td>\n    </tr>\n    <tr>\n      <th>12</th>\n      <td>1</td>\n      <td>7</td>\n      <td>2015-07-19</td>\n      <td>0</td>\n      <td>0</td>\n      <td>0</td>\n      <td>0</td>\n      <td>None</td>\n      <td>0</td>\n      <td>c</td>\n      <td>a</td>\n      <td>1270.0</td>\n      <td>9.0</td>\n      <td>2008.0</td>\n      <td>0</td>\n      <td>NaN</td>\n      <td>NaN</td>\n      <td>NaN</td>\n    </tr>\n    <tr>\n      <th>13</th>\n      <td>1</td>\n      <td>6</td>\n      <td>2015-07-18</td>\n      <td>4406</td>\n      <td>512</td>\n      <td>1</td>\n      <td>0</td>\n      <td>None</td>\n      <td>0</td>\n      <td>c</td>\n      <td>a</td>\n      <td>1270.0</td>\n      <td>9.0</td>\n      <td>2008.0</td>\n      <td>0</td>\n      <td>NaN</td>\n      <td>NaN</td>\n      <td>NaN</td>\n    </tr>\n    <tr>\n      <th>14</th>\n      <td>1</td>\n      <td>5</td>\n      <td>2015-07-17</td>\n      <td>4852</td>\n      <td>519</td>\n      <td>1</td>\n      <td>1</td>\n      <td>None</td>\n      <td>0</td>\n      <td>c</td>\n      <td>a</td>\n      <td>1270.0</td>\n      <td>9.0</td>\n      <td>2008.0</td>\n      <td>0</td>\n      <td>NaN</td>\n      <td>NaN</td>\n      <td>NaN</td>\n    </tr>\n    <tr>\n      <th>15</th>\n      <td>1</td>\n      <td>4</td>\n      <td>2015-07-16</td>\n      <td>4427</td>\n      <td>517</td>\n      <td>1</td>\n      <td>1</td>\n      <td>None</td>\n      <td>0</td>\n      <td>c</td>\n      <td>a</td>\n      <td>1270.0</td>\n      <td>9.0</td>\n      <td>2008.0</td>\n      <td>0</td>\n      <td>NaN</td>\n      <td>NaN</td>\n      <td>NaN</td>\n    </tr>\n    <tr>\n      <th>16</th>\n      <td>1</td>\n      <td>3</td>\n      <td>2015-07-15</td>\n      <td>4767</td>\n      <td>550</td>\n      <td>1</td>\n      <td>1</td>\n      <td>None</td>\n      <td>0</td>\n      <td>c</td>\n      <td>a</td>\n      <td>1270.0</td>\n      <td>9.0</td>\n      <td>2008.0</td>\n      <td>0</td>\n      <td>NaN</td>\n      <td>NaN</td>\n      <td>NaN</td>\n    </tr>\n    <tr>\n      <th>17</th>\n      <td>1</td>\n      <td>2</td>\n      <td>2015-07-14</td>\n      <td>5042</td>\n      <td>544</td>\n      <td>1</td>\n      <td>1</td>\n      <td>None</td>\n      <td>0</td>\n      <td>c</td>\n      <td>a</td>\n      <td>1270.0</td>\n      <td>9.0</td>\n      <td>2008.0</td>\n      <td>0</td>\n      <td>NaN</td>\n      <td>NaN</td>\n      <td>NaN</td>\n    </tr>\n    <tr>\n      <th>18</th>\n      <td>1</td>\n      <td>1</td>\n      <td>2015-07-13</td>\n      <td>5054</td>\n      <td>553</td>\n      <td>1</td>\n      <td>1</td>\n      <td>None</td>\n      <td>0</td>\n      <td>c</td>\n      <td>a</td>\n      <td>1270.0</td>\n      <td>9.0</td>\n      <td>2008.0</td>\n      <td>0</td>\n      <td>NaN</td>\n      <td>NaN</td>\n      <td>NaN</td>\n    </tr>\n    <tr>\n      <th>19</th>\n      <td>1</td>\n      <td>7</td>\n      <td>2015-07-12</td>\n      <td>0</td>\n      <td>0</td>\n      <td>0</td>\n      <td>0</td>\n      <td>None</td>\n      <td>0</td>\n      <td>c</td>\n      <td>a</td>\n      <td>1270.0</td>\n      <td>9.0</td>\n      <td>2008.0</td>\n      <td>0</td>\n      <td>NaN</td>\n      <td>NaN</td>\n      <td>NaN</td>\n    </tr>\n  </tbody>\n</table>\n</div>"
     },
     "metadata": {}
    }
   ]
  },
  {
   "cell_type": "code",
   "metadata": {
    "cell_id": "ae2d9769-b629-4153-8420-bbc337e6ce8a",
    "tags": [],
    "deepnote_to_be_reexecuted": false,
    "source_hash": "8cf44aad",
    "execution_start": 1643669440586,
    "execution_millis": 223,
    "deepnote_output_heights": [
     366.5625
    ],
    "deepnote_cell_type": "code"
   },
   "source": "sales.isna().sum()",
   "execution_count": null,
   "outputs": [
    {
     "output_type": "execute_result",
     "execution_count": 8,
     "data": {
      "text/plain": "store                                0\nday_of_week                          0\ndate                                 0\nsales                                0\ncustomers                            0\nopen                                 0\npromo                                0\nstate_holiday                        0\nschool_holiday                       0\nstore_type                           0\nassortment                           0\ncompetition_distance              2642\ncompetition_open_since_month    323348\ncompetition_open_since_year     323348\npromo2                               0\npromo2_since_week               508031\npromo2_since_year               508031\npromo_interval                  508031\ndtype: int64"
     },
     "metadata": {}
    }
   ]
  },
  {
   "cell_type": "code",
   "metadata": {
    "cell_id": "d5599069-5324-4742-96cd-5068471c7c83",
    "tags": [],
    "deepnote_to_be_reexecuted": false,
    "source_hash": "6a96b72e",
    "execution_start": 1643669440810,
    "execution_millis": 268,
    "deepnote_output_heights": [
     366.5625
    ],
    "deepnote_cell_type": "code"
   },
   "source": "sales[\"competition_distance\"].fillna(sales[\"competition_distance\"].max(), inplace = True)\nsales.isna().sum()",
   "execution_count": null,
   "outputs": [
    {
     "output_type": "execute_result",
     "execution_count": 9,
     "data": {
      "text/plain": "store                                0\nday_of_week                          0\ndate                                 0\nsales                                0\ncustomers                            0\nopen                                 0\npromo                                0\nstate_holiday                        0\nschool_holiday                       0\nstore_type                           0\nassortment                           0\ncompetition_distance                 0\ncompetition_open_since_month    323348\ncompetition_open_since_year     323348\npromo2                               0\npromo2_since_week               508031\npromo2_since_year               508031\npromo_interval                  508031\ndtype: int64"
     },
     "metadata": {}
    }
   ]
  },
  {
   "cell_type": "code",
   "metadata": {
    "cell_id": "2233b497-26da-4c34-9651-8a763d89a612",
    "tags": [],
    "deepnote_to_be_reexecuted": false,
    "source_hash": "64f9516a",
    "execution_start": 1643669441086,
    "execution_millis": 90,
    "deepnote_output_heights": [
     21.1875
    ],
    "deepnote_cell_type": "code"
   },
   "source": "#Colunas excluídas \nprint(sales.shape)\nsales.drop([\"assortment\", \"competition_open_since_month\"], axis=1, inplace=True)\nprint(sales.shape)",
   "execution_count": null,
   "outputs": [
    {
     "name": "stdout",
     "text": "(1017209, 18)\n(1017209, 16)\n",
     "output_type": "stream"
    }
   ]
  },
  {
   "cell_type": "code",
   "metadata": {
    "cell_id": "0fcb6a48-3610-47f4-ae6d-8e72a6caa606",
    "tags": [],
    "deepnote_to_be_reexecuted": false,
    "source_hash": "3d366b96",
    "execution_start": 1643669441180,
    "execution_millis": 584,
    "deepnote_output_heights": [
     232.25
    ],
    "deepnote_cell_type": "code"
   },
   "source": "sales.groupby(\"store\")[\"date\"].transform(lambda x: x.min().year)",
   "execution_count": null,
   "outputs": [
    {
     "output_type": "execute_result",
     "execution_count": 11,
     "data": {
      "text/plain": "0          2013\n1          2013\n2          2013\n3          2013\n4          2013\n           ... \n1017204    2013\n1017205    2013\n1017206    2013\n1017207    2013\n1017208    2013\nName: date, Length: 1017209, dtype: int64"
     },
     "metadata": {}
    }
   ]
  },
  {
   "cell_type": "code",
   "metadata": {
    "cell_id": "52058799-6ca8-42c9-b91d-b5bfd1f41097",
    "tags": [],
    "deepnote_to_be_reexecuted": false,
    "source_hash": "91e34f81",
    "execution_start": 1643669441777,
    "execution_millis": 110,
    "deepnote_output_heights": [
     328.1875
    ],
    "deepnote_cell_type": "code"
   },
   "source": "mask=sales[\"competition_open_since_year\"].isna()\n#sales.loc[mask, 'competition_open_since_year'] = sales.loc[mask, \"date\"].apply(lambda x: x.year)\nsales.loc[mask, 'competition_open_since_year'] = 2013\nsales.head(5)",
   "execution_count": null,
   "outputs": [
    {
     "output_type": "execute_result",
     "execution_count": 12,
     "data": {
      "application/vnd.deepnote.dataframe.v3+json": {
       "column_count": 16,
       "row_count": 5,
       "columns": [
        {
         "name": "store",
         "dtype": "int64",
         "stats": {
          "unique_count": 1,
          "nan_count": 0,
          "min": "1",
          "max": "1",
          "histogram": [
           {
            "bin_start": 0.5,
            "bin_end": 0.6,
            "count": 0
           },
           {
            "bin_start": 0.6,
            "bin_end": 0.7,
            "count": 0
           },
           {
            "bin_start": 0.7,
            "bin_end": 0.8,
            "count": 0
           },
           {
            "bin_start": 0.8,
            "bin_end": 0.9,
            "count": 0
           },
           {
            "bin_start": 0.9,
            "bin_end": 1,
            "count": 0
           },
           {
            "bin_start": 1,
            "bin_end": 1.1,
            "count": 5
           },
           {
            "bin_start": 1.1,
            "bin_end": 1.2000000000000002,
            "count": 0
           },
           {
            "bin_start": 1.2000000000000002,
            "bin_end": 1.3,
            "count": 0
           },
           {
            "bin_start": 1.3,
            "bin_end": 1.4,
            "count": 0
           },
           {
            "bin_start": 1.4,
            "bin_end": 1.5,
            "count": 0
           }
          ]
         }
        },
        {
         "name": "day_of_week",
         "dtype": "int64",
         "stats": {
          "unique_count": 5,
          "nan_count": 0,
          "min": "1",
          "max": "5",
          "histogram": [
           {
            "bin_start": 1,
            "bin_end": 1.4,
            "count": 1
           },
           {
            "bin_start": 1.4,
            "bin_end": 1.8,
            "count": 0
           },
           {
            "bin_start": 1.8,
            "bin_end": 2.2,
            "count": 1
           },
           {
            "bin_start": 2.2,
            "bin_end": 2.6,
            "count": 0
           },
           {
            "bin_start": 2.6,
            "bin_end": 3,
            "count": 0
           },
           {
            "bin_start": 3,
            "bin_end": 3.4000000000000004,
            "count": 1
           },
           {
            "bin_start": 3.4000000000000004,
            "bin_end": 3.8000000000000003,
            "count": 0
           },
           {
            "bin_start": 3.8000000000000003,
            "bin_end": 4.2,
            "count": 1
           },
           {
            "bin_start": 4.2,
            "bin_end": 4.6,
            "count": 0
           },
           {
            "bin_start": 4.6,
            "bin_end": 5,
            "count": 1
           }
          ]
         }
        },
        {
         "name": "date",
         "dtype": "object",
         "stats": {
          "unique_count": 5,
          "nan_count": 0,
          "categories": [
           {
            "name": "2015-07-31",
            "count": 1
           },
           {
            "name": "2015-07-30",
            "count": 1
           },
           {
            "name": "3 others",
            "count": 3
           }
          ]
         }
        },
        {
         "name": "sales",
         "dtype": "int64",
         "stats": {
          "unique_count": 5,
          "nan_count": 0,
          "min": "4782",
          "max": "6102",
          "histogram": [
           {
            "bin_start": 4782,
            "bin_end": 4914,
            "count": 1
           },
           {
            "bin_start": 4914,
            "bin_end": 5046,
            "count": 2
           },
           {
            "bin_start": 5046,
            "bin_end": 5178,
            "count": 0
           },
           {
            "bin_start": 5178,
            "bin_end": 5310,
            "count": 1
           },
           {
            "bin_start": 5310,
            "bin_end": 5442,
            "count": 0
           },
           {
            "bin_start": 5442,
            "bin_end": 5574,
            "count": 0
           },
           {
            "bin_start": 5574,
            "bin_end": 5706,
            "count": 0
           },
           {
            "bin_start": 5706,
            "bin_end": 5838,
            "count": 0
           },
           {
            "bin_start": 5838,
            "bin_end": 5970,
            "count": 0
           },
           {
            "bin_start": 5970,
            "bin_end": 6102,
            "count": 1
           }
          ]
         }
        },
        {
         "name": "customers",
         "dtype": "int64",
         "stats": {
          "unique_count": 5,
          "nan_count": 0,
          "min": "523",
          "max": "612",
          "histogram": [
           {
            "bin_start": 523,
            "bin_end": 531.9,
            "count": 1
           },
           {
            "bin_start": 531.9,
            "bin_end": 540.8,
            "count": 0
           },
           {
            "bin_start": 540.8,
            "bin_end": 549.7,
            "count": 1
           },
           {
            "bin_start": 549.7,
            "bin_end": 558.6,
            "count": 1
           },
           {
            "bin_start": 558.6,
            "bin_end": 567.5,
            "count": 1
           },
           {
            "bin_start": 567.5,
            "bin_end": 576.4,
            "count": 0
           },
           {
            "bin_start": 576.4,
            "bin_end": 585.3,
            "count": 0
           },
           {
            "bin_start": 585.3,
            "bin_end": 594.2,
            "count": 0
           },
           {
            "bin_start": 594.2,
            "bin_end": 603.1,
            "count": 0
           },
           {
            "bin_start": 603.1,
            "bin_end": 612,
            "count": 1
           }
          ]
         }
        },
        {
         "name": "open",
         "dtype": "int64",
         "stats": {
          "unique_count": 1,
          "nan_count": 0,
          "min": "1",
          "max": "1",
          "histogram": [
           {
            "bin_start": 0.5,
            "bin_end": 0.6,
            "count": 0
           },
           {
            "bin_start": 0.6,
            "bin_end": 0.7,
            "count": 0
           },
           {
            "bin_start": 0.7,
            "bin_end": 0.8,
            "count": 0
           },
           {
            "bin_start": 0.8,
            "bin_end": 0.9,
            "count": 0
           },
           {
            "bin_start": 0.9,
            "bin_end": 1,
            "count": 0
           },
           {
            "bin_start": 1,
            "bin_end": 1.1,
            "count": 5
           },
           {
            "bin_start": 1.1,
            "bin_end": 1.2000000000000002,
            "count": 0
           },
           {
            "bin_start": 1.2000000000000002,
            "bin_end": 1.3,
            "count": 0
           },
           {
            "bin_start": 1.3,
            "bin_end": 1.4,
            "count": 0
           },
           {
            "bin_start": 1.4,
            "bin_end": 1.5,
            "count": 0
           }
          ]
         }
        },
        {
         "name": "promo",
         "dtype": "int64",
         "stats": {
          "unique_count": 1,
          "nan_count": 0,
          "min": "1",
          "max": "1",
          "histogram": [
           {
            "bin_start": 0.5,
            "bin_end": 0.6,
            "count": 0
           },
           {
            "bin_start": 0.6,
            "bin_end": 0.7,
            "count": 0
           },
           {
            "bin_start": 0.7,
            "bin_end": 0.8,
            "count": 0
           },
           {
            "bin_start": 0.8,
            "bin_end": 0.9,
            "count": 0
           },
           {
            "bin_start": 0.9,
            "bin_end": 1,
            "count": 0
           },
           {
            "bin_start": 1,
            "bin_end": 1.1,
            "count": 5
           },
           {
            "bin_start": 1.1,
            "bin_end": 1.2000000000000002,
            "count": 0
           },
           {
            "bin_start": 1.2000000000000002,
            "bin_end": 1.3,
            "count": 0
           },
           {
            "bin_start": 1.3,
            "bin_end": 1.4,
            "count": 0
           },
           {
            "bin_start": 1.4,
            "bin_end": 1.5,
            "count": 0
           }
          ]
         }
        },
        {
         "name": "state_holiday",
         "dtype": "object",
         "stats": {
          "unique_count": 1,
          "nan_count": 0,
          "categories": [
           {
            "name": "None",
            "count": 5
           }
          ]
         }
        },
        {
         "name": "school_holiday",
         "dtype": "int64",
         "stats": {
          "unique_count": 1,
          "nan_count": 0,
          "min": "1",
          "max": "1",
          "histogram": [
           {
            "bin_start": 0.5,
            "bin_end": 0.6,
            "count": 0
           },
           {
            "bin_start": 0.6,
            "bin_end": 0.7,
            "count": 0
           },
           {
            "bin_start": 0.7,
            "bin_end": 0.8,
            "count": 0
           },
           {
            "bin_start": 0.8,
            "bin_end": 0.9,
            "count": 0
           },
           {
            "bin_start": 0.9,
            "bin_end": 1,
            "count": 0
           },
           {
            "bin_start": 1,
            "bin_end": 1.1,
            "count": 5
           },
           {
            "bin_start": 1.1,
            "bin_end": 1.2000000000000002,
            "count": 0
           },
           {
            "bin_start": 1.2000000000000002,
            "bin_end": 1.3,
            "count": 0
           },
           {
            "bin_start": 1.3,
            "bin_end": 1.4,
            "count": 0
           },
           {
            "bin_start": 1.4,
            "bin_end": 1.5,
            "count": 0
           }
          ]
         }
        },
        {
         "name": "store_type",
         "dtype": "object",
         "stats": {
          "unique_count": 1,
          "nan_count": 0,
          "categories": [
           {
            "name": "c",
            "count": 5
           }
          ]
         }
        },
        {
         "name": "competition_distance",
         "dtype": "float64",
         "stats": {
          "unique_count": 1,
          "nan_count": 0,
          "min": "1270.0",
          "max": "1270.0",
          "histogram": [
           {
            "bin_start": 1269.5,
            "bin_end": 1269.6,
            "count": 0
           },
           {
            "bin_start": 1269.6,
            "bin_end": 1269.7,
            "count": 0
           },
           {
            "bin_start": 1269.7,
            "bin_end": 1269.8,
            "count": 0
           },
           {
            "bin_start": 1269.8,
            "bin_end": 1269.9,
            "count": 0
           },
           {
            "bin_start": 1269.9,
            "bin_end": 1270,
            "count": 0
           },
           {
            "bin_start": 1270,
            "bin_end": 1270.1,
            "count": 5
           },
           {
            "bin_start": 1270.1,
            "bin_end": 1270.2,
            "count": 0
           },
           {
            "bin_start": 1270.2,
            "bin_end": 1270.3,
            "count": 0
           },
           {
            "bin_start": 1270.3,
            "bin_end": 1270.4,
            "count": 0
           },
           {
            "bin_start": 1270.4,
            "bin_end": 1270.5,
            "count": 0
           }
          ]
         }
        },
        {
         "name": "competition_open_since_year",
         "dtype": "float64",
         "stats": {
          "unique_count": 1,
          "nan_count": 0,
          "min": "2008.0",
          "max": "2008.0",
          "histogram": [
           {
            "bin_start": 2007.5,
            "bin_end": 2007.6,
            "count": 0
           },
           {
            "bin_start": 2007.6,
            "bin_end": 2007.7,
            "count": 0
           },
           {
            "bin_start": 2007.7,
            "bin_end": 2007.8,
            "count": 0
           },
           {
            "bin_start": 2007.8,
            "bin_end": 2007.9,
            "count": 0
           },
           {
            "bin_start": 2007.9,
            "bin_end": 2008,
            "count": 0
           },
           {
            "bin_start": 2008,
            "bin_end": 2008.1,
            "count": 5
           },
           {
            "bin_start": 2008.1,
            "bin_end": 2008.2,
            "count": 0
           },
           {
            "bin_start": 2008.2,
            "bin_end": 2008.3,
            "count": 0
           },
           {
            "bin_start": 2008.3,
            "bin_end": 2008.4,
            "count": 0
           },
           {
            "bin_start": 2008.4,
            "bin_end": 2008.5,
            "count": 0
           }
          ]
         }
        },
        {
         "name": "promo2",
         "dtype": "int64",
         "stats": {
          "unique_count": 1,
          "nan_count": 0,
          "min": "0",
          "max": "0",
          "histogram": [
           {
            "bin_start": -0.5,
            "bin_end": -0.4,
            "count": 0
           },
           {
            "bin_start": -0.4,
            "bin_end": -0.3,
            "count": 0
           },
           {
            "bin_start": -0.3,
            "bin_end": -0.19999999999999996,
            "count": 0
           },
           {
            "bin_start": -0.19999999999999996,
            "bin_end": -0.09999999999999998,
            "count": 0
           },
           {
            "bin_start": -0.09999999999999998,
            "bin_end": 0,
            "count": 0
           },
           {
            "bin_start": 0,
            "bin_end": 0.10000000000000009,
            "count": 5
           },
           {
            "bin_start": 0.10000000000000009,
            "bin_end": 0.20000000000000007,
            "count": 0
           },
           {
            "bin_start": 0.20000000000000007,
            "bin_end": 0.30000000000000004,
            "count": 0
           },
           {
            "bin_start": 0.30000000000000004,
            "bin_end": 0.4,
            "count": 0
           },
           {
            "bin_start": 0.4,
            "bin_end": 0.5,
            "count": 0
           }
          ]
         }
        },
        {
         "name": "promo2_since_week",
         "dtype": "float64",
         "stats": {
          "unique_count": 0,
          "nan_count": 5,
          "min": null,
          "max": null,
          "histogram": [
           {
            "bin_start": 0,
            "bin_end": 0.1,
            "count": 0
           },
           {
            "bin_start": 0.1,
            "bin_end": 0.2,
            "count": 0
           },
           {
            "bin_start": 0.2,
            "bin_end": 0.30000000000000004,
            "count": 0
           },
           {
            "bin_start": 0.30000000000000004,
            "bin_end": 0.4,
            "count": 0
           },
           {
            "bin_start": 0.4,
            "bin_end": 0.5,
            "count": 0
           },
           {
            "bin_start": 0.5,
            "bin_end": 0.6000000000000001,
            "count": 0
           },
           {
            "bin_start": 0.6000000000000001,
            "bin_end": 0.7000000000000001,
            "count": 0
           },
           {
            "bin_start": 0.7000000000000001,
            "bin_end": 0.8,
            "count": 0
           },
           {
            "bin_start": 0.8,
            "bin_end": 0.9,
            "count": 0
           },
           {
            "bin_start": 0.9,
            "bin_end": 1,
            "count": 0
           }
          ]
         }
        },
        {
         "name": "promo2_since_year",
         "dtype": "float64",
         "stats": {
          "unique_count": 0,
          "nan_count": 5,
          "min": null,
          "max": null,
          "histogram": [
           {
            "bin_start": 0,
            "bin_end": 0.1,
            "count": 0
           },
           {
            "bin_start": 0.1,
            "bin_end": 0.2,
            "count": 0
           },
           {
            "bin_start": 0.2,
            "bin_end": 0.30000000000000004,
            "count": 0
           },
           {
            "bin_start": 0.30000000000000004,
            "bin_end": 0.4,
            "count": 0
           },
           {
            "bin_start": 0.4,
            "bin_end": 0.5,
            "count": 0
           },
           {
            "bin_start": 0.5,
            "bin_end": 0.6000000000000001,
            "count": 0
           },
           {
            "bin_start": 0.6000000000000001,
            "bin_end": 0.7000000000000001,
            "count": 0
           },
           {
            "bin_start": 0.7000000000000001,
            "bin_end": 0.8,
            "count": 0
           },
           {
            "bin_start": 0.8,
            "bin_end": 0.9,
            "count": 0
           },
           {
            "bin_start": 0.9,
            "bin_end": 1,
            "count": 0
           }
          ]
         }
        },
        {
         "name": "promo_interval",
         "dtype": "object",
         "stats": {
          "unique_count": 0,
          "nan_count": 5,
          "categories": [
           {
            "name": "Missing",
            "count": 5
           }
          ]
         }
        },
        {
         "name": "_deepnote_index_column",
         "dtype": "int64"
        }
       ],
       "rows": [
        {
         "store": 1,
         "day_of_week": 5,
         "date": "2015-07-31",
         "sales": 5263,
         "customers": 555,
         "open": 1,
         "promo": 1,
         "state_holiday": "None",
         "school_holiday": 1,
         "store_type": "c",
         "competition_distance": 1270,
         "competition_open_since_year": 2008,
         "promo2": 0,
         "promo2_since_week": "nan",
         "promo2_since_year": "nan",
         "promo_interval": "nan",
         "_deepnote_index_column": 0
        },
        {
         "store": 1,
         "day_of_week": 4,
         "date": "2015-07-30",
         "sales": 5020,
         "customers": 546,
         "open": 1,
         "promo": 1,
         "state_holiday": "None",
         "school_holiday": 1,
         "store_type": "c",
         "competition_distance": 1270,
         "competition_open_since_year": 2008,
         "promo2": 0,
         "promo2_since_week": "nan",
         "promo2_since_year": "nan",
         "promo_interval": "nan",
         "_deepnote_index_column": 1
        },
        {
         "store": 1,
         "day_of_week": 3,
         "date": "2015-07-29",
         "sales": 4782,
         "customers": 523,
         "open": 1,
         "promo": 1,
         "state_holiday": "None",
         "school_holiday": 1,
         "store_type": "c",
         "competition_distance": 1270,
         "competition_open_since_year": 2008,
         "promo2": 0,
         "promo2_since_week": "nan",
         "promo2_since_year": "nan",
         "promo_interval": "nan",
         "_deepnote_index_column": 2
        },
        {
         "store": 1,
         "day_of_week": 2,
         "date": "2015-07-28",
         "sales": 5011,
         "customers": 560,
         "open": 1,
         "promo": 1,
         "state_holiday": "None",
         "school_holiday": 1,
         "store_type": "c",
         "competition_distance": 1270,
         "competition_open_since_year": 2008,
         "promo2": 0,
         "promo2_since_week": "nan",
         "promo2_since_year": "nan",
         "promo_interval": "nan",
         "_deepnote_index_column": 3
        },
        {
         "store": 1,
         "day_of_week": 1,
         "date": "2015-07-27",
         "sales": 6102,
         "customers": 612,
         "open": 1,
         "promo": 1,
         "state_holiday": "None",
         "school_holiday": 1,
         "store_type": "c",
         "competition_distance": 1270,
         "competition_open_since_year": 2008,
         "promo2": 0,
         "promo2_since_week": "nan",
         "promo2_since_year": "nan",
         "promo_interval": "nan",
         "_deepnote_index_column": 4
        }
       ]
      },
      "text/plain": "   store  day_of_week        date  sales  customers  open  promo  \\\n0      1            5  2015-07-31   5263        555     1      1   \n1      1            4  2015-07-30   5020        546     1      1   \n2      1            3  2015-07-29   4782        523     1      1   \n3      1            2  2015-07-28   5011        560     1      1   \n4      1            1  2015-07-27   6102        612     1      1   \n\n  state_holiday  school_holiday store_type  competition_distance  \\\n0          None               1          c                1270.0   \n1          None               1          c                1270.0   \n2          None               1          c                1270.0   \n3          None               1          c                1270.0   \n4          None               1          c                1270.0   \n\n   competition_open_since_year  promo2  promo2_since_week  promo2_since_year  \\\n0                       2008.0       0                NaN                NaN   \n1                       2008.0       0                NaN                NaN   \n2                       2008.0       0                NaN                NaN   \n3                       2008.0       0                NaN                NaN   \n4                       2008.0       0                NaN                NaN   \n\n  promo_interval  \n0            NaN  \n1            NaN  \n2            NaN  \n3            NaN  \n4            NaN  ",
      "text/html": "<div>\n<style scoped>\n    .dataframe tbody tr th:only-of-type {\n        vertical-align: middle;\n    }\n\n    .dataframe tbody tr th {\n        vertical-align: top;\n    }\n\n    .dataframe thead th {\n        text-align: right;\n    }\n</style>\n<table border=\"1\" class=\"dataframe\">\n  <thead>\n    <tr style=\"text-align: right;\">\n      <th></th>\n      <th>store</th>\n      <th>day_of_week</th>\n      <th>date</th>\n      <th>sales</th>\n      <th>customers</th>\n      <th>open</th>\n      <th>promo</th>\n      <th>state_holiday</th>\n      <th>school_holiday</th>\n      <th>store_type</th>\n      <th>competition_distance</th>\n      <th>competition_open_since_year</th>\n      <th>promo2</th>\n      <th>promo2_since_week</th>\n      <th>promo2_since_year</th>\n      <th>promo_interval</th>\n    </tr>\n  </thead>\n  <tbody>\n    <tr>\n      <th>0</th>\n      <td>1</td>\n      <td>5</td>\n      <td>2015-07-31</td>\n      <td>5263</td>\n      <td>555</td>\n      <td>1</td>\n      <td>1</td>\n      <td>None</td>\n      <td>1</td>\n      <td>c</td>\n      <td>1270.0</td>\n      <td>2008.0</td>\n      <td>0</td>\n      <td>NaN</td>\n      <td>NaN</td>\n      <td>NaN</td>\n    </tr>\n    <tr>\n      <th>1</th>\n      <td>1</td>\n      <td>4</td>\n      <td>2015-07-30</td>\n      <td>5020</td>\n      <td>546</td>\n      <td>1</td>\n      <td>1</td>\n      <td>None</td>\n      <td>1</td>\n      <td>c</td>\n      <td>1270.0</td>\n      <td>2008.0</td>\n      <td>0</td>\n      <td>NaN</td>\n      <td>NaN</td>\n      <td>NaN</td>\n    </tr>\n    <tr>\n      <th>2</th>\n      <td>1</td>\n      <td>3</td>\n      <td>2015-07-29</td>\n      <td>4782</td>\n      <td>523</td>\n      <td>1</td>\n      <td>1</td>\n      <td>None</td>\n      <td>1</td>\n      <td>c</td>\n      <td>1270.0</td>\n      <td>2008.0</td>\n      <td>0</td>\n      <td>NaN</td>\n      <td>NaN</td>\n      <td>NaN</td>\n    </tr>\n    <tr>\n      <th>3</th>\n      <td>1</td>\n      <td>2</td>\n      <td>2015-07-28</td>\n      <td>5011</td>\n      <td>560</td>\n      <td>1</td>\n      <td>1</td>\n      <td>None</td>\n      <td>1</td>\n      <td>c</td>\n      <td>1270.0</td>\n      <td>2008.0</td>\n      <td>0</td>\n      <td>NaN</td>\n      <td>NaN</td>\n      <td>NaN</td>\n    </tr>\n    <tr>\n      <th>4</th>\n      <td>1</td>\n      <td>1</td>\n      <td>2015-07-27</td>\n      <td>6102</td>\n      <td>612</td>\n      <td>1</td>\n      <td>1</td>\n      <td>None</td>\n      <td>1</td>\n      <td>c</td>\n      <td>1270.0</td>\n      <td>2008.0</td>\n      <td>0</td>\n      <td>NaN</td>\n      <td>NaN</td>\n      <td>NaN</td>\n    </tr>\n  </tbody>\n</table>\n</div>"
     },
     "metadata": {}
    }
   ]
  },
  {
   "cell_type": "code",
   "metadata": {
    "cell_id": "83e3b7f9-51d4-45d8-a509-1f1005cdd24d",
    "tags": [],
    "deepnote_to_be_reexecuted": false,
    "source_hash": "83207055",
    "execution_start": 1643669441896,
    "execution_millis": 224,
    "deepnote_output_heights": [
     328.1875
    ],
    "deepnote_cell_type": "code"
   },
   "source": "sales['promo2_since_year'].replace(np.nan, 0, inplace=True)\nsales['promo2_since_year'] = sales['promo2_since_year'].astype(np.int32)\nsales.isna().sum()",
   "execution_count": null,
   "outputs": [
    {
     "output_type": "execute_result",
     "execution_count": 13,
     "data": {
      "text/plain": "store                               0\nday_of_week                         0\ndate                                0\nsales                               0\ncustomers                           0\nopen                                0\npromo                               0\nstate_holiday                       0\nschool_holiday                      0\nstore_type                          0\ncompetition_distance                0\ncompetition_open_since_year         0\npromo2                              0\npromo2_since_week              508031\npromo2_since_year                   0\npromo_interval                 508031\ndtype: int64"
     },
     "metadata": {}
    }
   ]
  },
  {
   "cell_type": "code",
   "metadata": {
    "cell_id": "7df680d1-71fc-480c-a5a6-469c32e9b75e",
    "tags": [],
    "deepnote_to_be_reexecuted": false,
    "source_hash": "fc7d1141",
    "execution_start": 1643669442146,
    "execution_millis": 331,
    "deepnote_output_heights": [
     null,
     328.1875
    ],
    "deepnote_cell_type": "code"
   },
   "source": "print(sales[\"promo_interval\"].unique())\nsales[\"promo_interval\"].replace(np.nan, \"None\", inplace=True)\nsales.isna().sum()",
   "execution_count": null,
   "outputs": [
    {
     "name": "stdout",
     "text": "[nan 'Jan,Apr,Jul,Oct' 'Feb,May,Aug,Nov' 'Mar,Jun,Sept,Dec']\n",
     "output_type": "stream"
    },
    {
     "output_type": "execute_result",
     "execution_count": 14,
     "data": {
      "text/plain": "store                               0\nday_of_week                         0\ndate                                0\nsales                               0\ncustomers                           0\nopen                                0\npromo                               0\nstate_holiday                       0\nschool_holiday                      0\nstore_type                          0\ncompetition_distance                0\ncompetition_open_since_year         0\npromo2                              0\npromo2_since_week              508031\npromo2_since_year                   0\npromo_interval                      0\ndtype: int64"
     },
     "metadata": {}
    }
   ]
  },
  {
   "cell_type": "code",
   "metadata": {
    "cell_id": "597aab77-5ed2-4ecd-8d48-390c0aabf174",
    "tags": [],
    "deepnote_to_be_reexecuted": false,
    "source_hash": "5a887175",
    "execution_start": 1643669442560,
    "execution_millis": 267,
    "deepnote_output_heights": [
     309
    ],
    "deepnote_cell_type": "code"
   },
   "source": "sales.drop([\"promo2_since_week\"], axis=1, inplace=True)\nsales.isna().sum()",
   "execution_count": null,
   "outputs": [
    {
     "output_type": "execute_result",
     "execution_count": 15,
     "data": {
      "text/plain": "store                          0\nday_of_week                    0\ndate                           0\nsales                          0\ncustomers                      0\nopen                           0\npromo                          0\nstate_holiday                  0\nschool_holiday                 0\nstore_type                     0\ncompetition_distance           0\ncompetition_open_since_year    0\npromo2                         0\npromo2_since_year              0\npromo_interval                 0\ndtype: int64"
     },
     "metadata": {}
    }
   ]
  },
  {
   "cell_type": "code",
   "metadata": {
    "cell_id": "5470d9af-4890-4b9d-92ca-059786a280e1",
    "tags": [],
    "deepnote_to_be_reexecuted": false,
    "source_hash": "2b5d0c5f",
    "execution_start": 1643669442830,
    "execution_millis": 52,
    "deepnote_output_heights": [
     40
    ],
    "deepnote_cell_type": "code"
   },
   "source": "# Qual loja fez mais vendas?\n#sales.groupby(\"store\")[\"sales\"].sum().sort_values(ascending=False)\nsales.groupby(\"store\")[[\"sales\"]].sum().sort_values(\"sales\", ascending=False).head(1)",
   "execution_count": null,
   "outputs": [
    {
     "output_type": "execute_result",
     "execution_count": 16,
     "data": {
      "application/vnd.deepnote.dataframe.v3+json": {
       "column_count": 1,
       "row_count": 1,
       "columns": [
        {
         "name": "sales",
         "dtype": "int64",
         "stats": {
          "unique_count": 1,
          "nan_count": 0,
          "min": "19516842",
          "max": "19516842",
          "histogram": [
           {
            "bin_start": 19516841.5,
            "bin_end": 19516841.6,
            "count": 0
           },
           {
            "bin_start": 19516841.6,
            "bin_end": 19516841.7,
            "count": 0
           },
           {
            "bin_start": 19516841.7,
            "bin_end": 19516841.8,
            "count": 0
           },
           {
            "bin_start": 19516841.8,
            "bin_end": 19516841.9,
            "count": 0
           },
           {
            "bin_start": 19516841.9,
            "bin_end": 19516842,
            "count": 0
           },
           {
            "bin_start": 19516842,
            "bin_end": 19516842.1,
            "count": 1
           },
           {
            "bin_start": 19516842.1,
            "bin_end": 19516842.2,
            "count": 0
           },
           {
            "bin_start": 19516842.2,
            "bin_end": 19516842.3,
            "count": 0
           },
           {
            "bin_start": 19516842.3,
            "bin_end": 19516842.4,
            "count": 0
           },
           {
            "bin_start": 19516842.4,
            "bin_end": 19516842.5,
            "count": 0
           }
          ]
         }
        },
        {
         "name": "_deepnote_index_column",
         "dtype": "int64"
        }
       ],
       "rows": [
        {
         "sales": 19516842,
         "_deepnote_index_column": 262
        }
       ]
      },
      "text/plain": "          sales\nstore          \n262    19516842",
      "text/html": "<div>\n<style scoped>\n    .dataframe tbody tr th:only-of-type {\n        vertical-align: middle;\n    }\n\n    .dataframe tbody tr th {\n        vertical-align: top;\n    }\n\n    .dataframe thead th {\n        text-align: right;\n    }\n</style>\n<table border=\"1\" class=\"dataframe\">\n  <thead>\n    <tr style=\"text-align: right;\">\n      <th></th>\n      <th>sales</th>\n    </tr>\n    <tr>\n      <th>store</th>\n      <th></th>\n    </tr>\n  </thead>\n  <tbody>\n    <tr>\n      <th>262</th>\n      <td>19516842</td>\n    </tr>\n  </tbody>\n</table>\n</div>"
     },
     "metadata": {}
    }
   ]
  },
  {
   "cell_type": "code",
   "metadata": {
    "cell_id": "57861f03-8add-4bc1-aedf-a6a48da99f1d",
    "tags": [],
    "deepnote_to_be_reexecuted": false,
    "source_hash": "8d6a15b8",
    "execution_start": 1643669745863,
    "execution_millis": 68,
    "deepnote_output_heights": [
     40
    ],
    "deepnote_cell_type": "code"
   },
   "source": "# Qual loja tem a maior média de clientes?\nsales.groupby(\"store\")[[\"customers\"]].mean().sort_values(\"customers\", ascending=False).iloc[0, :]\nsales.groupby(\"store\")[[\"customers\"]].mean().sort_values(\"customers\", ascending=False).head(1)",
   "execution_count": null,
   "outputs": [
    {
     "output_type": "execute_result",
     "execution_count": 32,
     "data": {
      "application/vnd.deepnote.dataframe.v3+json": {
       "column_count": 1,
       "row_count": 1,
       "columns": [
        {
         "name": "customers",
         "dtype": "float64",
         "stats": {
          "unique_count": 1,
          "nan_count": 0,
          "min": "3403.458598726115",
          "max": "3403.458598726115",
          "histogram": [
           {
            "bin_start": 3402.958598726115,
            "bin_end": 3403.0585987261147,
            "count": 0
           },
           {
            "bin_start": 3403.0585987261147,
            "bin_end": 3403.1585987261146,
            "count": 0
           },
           {
            "bin_start": 3403.1585987261146,
            "bin_end": 3403.258598726115,
            "count": 0
           },
           {
            "bin_start": 3403.258598726115,
            "bin_end": 3403.358598726115,
            "count": 0
           },
           {
            "bin_start": 3403.358598726115,
            "bin_end": 3403.458598726115,
            "count": 0
           },
           {
            "bin_start": 3403.458598726115,
            "bin_end": 3403.5585987261147,
            "count": 1
           },
           {
            "bin_start": 3403.5585987261147,
            "bin_end": 3403.6585987261146,
            "count": 0
           },
           {
            "bin_start": 3403.6585987261146,
            "bin_end": 3403.758598726115,
            "count": 0
           },
           {
            "bin_start": 3403.758598726115,
            "bin_end": 3403.858598726115,
            "count": 0
           },
           {
            "bin_start": 3403.858598726115,
            "bin_end": 3403.958598726115,
            "count": 0
           }
          ]
         }
        },
        {
         "name": "_deepnote_index_column",
         "dtype": "int64"
        }
       ],
       "rows": [
        {
         "customers": 3403.458598726115,
         "_deepnote_index_column": 733
        }
       ]
      },
      "text/plain": "         customers\nstore             \n733    3403.458599",
      "text/html": "<div>\n<style scoped>\n    .dataframe tbody tr th:only-of-type {\n        vertical-align: middle;\n    }\n\n    .dataframe tbody tr th {\n        vertical-align: top;\n    }\n\n    .dataframe thead th {\n        text-align: right;\n    }\n</style>\n<table border=\"1\" class=\"dataframe\">\n  <thead>\n    <tr style=\"text-align: right;\">\n      <th></th>\n      <th>customers</th>\n    </tr>\n    <tr>\n      <th>store</th>\n      <th></th>\n    </tr>\n  </thead>\n  <tbody>\n    <tr>\n      <th>733</th>\n      <td>3403.458599</td>\n    </tr>\n  </tbody>\n</table>\n</div>"
     },
     "metadata": {}
    }
   ]
  },
  {
   "cell_type": "code",
   "metadata": {
    "cell_id": "efa5af92-f53b-4624-bd56-adbe77c0f49f",
    "tags": [],
    "deepnote_to_be_reexecuted": false,
    "source_hash": "322fb35c",
    "execution_start": 1643669442921,
    "execution_millis": 67,
    "deepnote_cell_type": "code"
   },
   "source": "# Qual a média de clientes por loja?\nsales.groupby(\"store\")[[\"customers\"]].mean()",
   "execution_count": null,
   "outputs": [
    {
     "output_type": "execute_result",
     "execution_count": 18,
     "data": {
      "application/vnd.deepnote.dataframe.v3+json": {
       "column_count": 1,
       "row_count": 1115,
       "columns": [
        {
         "name": "customers",
         "dtype": "float64",
         "stats": {
          "unique_count": 1113,
          "nan_count": 0,
          "min": "199.13269639065817",
          "max": "3403.458598726115",
          "histogram": [
           {
            "bin_start": 199.13269639065817,
            "bin_end": 519.5652866242038,
            "count": 454
           },
           {
            "bin_start": 519.5652866242038,
            "bin_end": 839.9978768577496,
            "count": 505
           },
           {
            "bin_start": 839.9978768577496,
            "bin_end": 1160.4304670912952,
            "count": 109
           },
           {
            "bin_start": 1160.4304670912952,
            "bin_end": 1480.8630573248408,
            "count": 24
           },
           {
            "bin_start": 1480.8630573248408,
            "bin_end": 1801.2956475583865,
            "count": 9
           },
           {
            "bin_start": 1801.2956475583865,
            "bin_end": 2121.7282377919323,
            "count": 5
           },
           {
            "bin_start": 2121.7282377919323,
            "bin_end": 2442.1608280254777,
            "count": 3
           },
           {
            "bin_start": 2442.1608280254777,
            "bin_end": 2762.5934182590236,
            "count": 2
           },
           {
            "bin_start": 2762.5934182590236,
            "bin_end": 3083.0260084925694,
            "count": 1
           },
           {
            "bin_start": 3083.0260084925694,
            "bin_end": 3403.458598726115,
            "count": 3
           }
          ]
         }
        },
        {
         "name": "_deepnote_index_column",
         "dtype": "int64"
        }
       ],
       "rows": [
        {
         "customers": 467.64649681528664,
         "_deepnote_index_column": 1
        },
        {
         "customers": 486.0456475583864,
         "_deepnote_index_column": 2
        },
        {
         "customers": 620.2866242038217,
         "_deepnote_index_column": 3
        },
        {
         "customers": 1100.0573248407643,
         "_deepnote_index_column": 4
        },
        {
         "customers": 444.36093418259026,
         "_deepnote_index_column": 5
        },
        {
         "customers": 525.9904458598726,
         "_deepnote_index_column": 6
        },
        {
         "customers": 791.4745222929936,
         "_deepnote_index_column": 7
        },
        {
         "customers": 547.7993630573249,
         "_deepnote_index_column": 8
        },
        {
         "customers": 479.4872611464968,
         "_deepnote_index_column": 9
        },
        {
         "customers": 494.33227176220805,
         "_deepnote_index_column": 10
        }
       ]
      },
      "text/plain": "         customers\nstore             \n1       467.646497\n2       486.045648\n3       620.286624\n4      1100.057325\n5       444.360934\n...            ...\n1111    373.548832\n1112    693.498938\n1113    596.763270\n1114   2664.057325\n1115    358.687898\n\n[1115 rows x 1 columns]",
      "text/html": "<div>\n<style scoped>\n    .dataframe tbody tr th:only-of-type {\n        vertical-align: middle;\n    }\n\n    .dataframe tbody tr th {\n        vertical-align: top;\n    }\n\n    .dataframe thead th {\n        text-align: right;\n    }\n</style>\n<table border=\"1\" class=\"dataframe\">\n  <thead>\n    <tr style=\"text-align: right;\">\n      <th></th>\n      <th>customers</th>\n    </tr>\n    <tr>\n      <th>store</th>\n      <th></th>\n    </tr>\n  </thead>\n  <tbody>\n    <tr>\n      <th>1</th>\n      <td>467.646497</td>\n    </tr>\n    <tr>\n      <th>2</th>\n      <td>486.045648</td>\n    </tr>\n    <tr>\n      <th>3</th>\n      <td>620.286624</td>\n    </tr>\n    <tr>\n      <th>4</th>\n      <td>1100.057325</td>\n    </tr>\n    <tr>\n      <th>5</th>\n      <td>444.360934</td>\n    </tr>\n    <tr>\n      <th>...</th>\n      <td>...</td>\n    </tr>\n    <tr>\n      <th>1111</th>\n      <td>373.548832</td>\n    </tr>\n    <tr>\n      <th>1112</th>\n      <td>693.498938</td>\n    </tr>\n    <tr>\n      <th>1113</th>\n      <td>596.763270</td>\n    </tr>\n    <tr>\n      <th>1114</th>\n      <td>2664.057325</td>\n    </tr>\n    <tr>\n      <th>1115</th>\n      <td>358.687898</td>\n    </tr>\n  </tbody>\n</table>\n<p>1115 rows × 1 columns</p>\n</div>"
     },
     "metadata": {}
    }
   ]
  },
  {
   "cell_type": "code",
   "metadata": {
    "cell_id": "1b175444-962c-4564-aa8d-aabdaa4d9b21",
    "tags": [],
    "deepnote_to_be_reexecuted": false,
    "source_hash": "20e7da75",
    "execution_start": 1643669442990,
    "execution_millis": 45,
    "deepnote_table_state": {
     "pageSize": 10,
     "pageIndex": 0,
     "filters": [],
     "sortBy": []
    },
    "deepnote_table_loading": false,
    "deepnote_cell_type": "code"
   },
   "source": "# Qual loja passou mais dias com produtos em promoção?\nsales.groupby(\"store\")[[\"promo\"]].sum().sort_values(\"promo\",ascending=False).head(15)",
   "execution_count": null,
   "outputs": [
    {
     "output_type": "execute_result",
     "execution_count": 19,
     "data": {
      "application/vnd.deepnote.dataframe.v3+json": {
       "column_count": 1,
       "row_count": 15,
       "columns": [
        {
         "name": "promo",
         "dtype": "int64",
         "stats": {
          "unique_count": 1,
          "nan_count": 0,
          "min": "360",
          "max": "360",
          "histogram": [
           {
            "bin_start": 359.5,
            "bin_end": 359.6,
            "count": 0
           },
           {
            "bin_start": 359.6,
            "bin_end": 359.7,
            "count": 0
           },
           {
            "bin_start": 359.7,
            "bin_end": 359.8,
            "count": 0
           },
           {
            "bin_start": 359.8,
            "bin_end": 359.9,
            "count": 0
           },
           {
            "bin_start": 359.9,
            "bin_end": 360,
            "count": 0
           },
           {
            "bin_start": 360,
            "bin_end": 360.1,
            "count": 15
           },
           {
            "bin_start": 360.1,
            "bin_end": 360.2,
            "count": 0
           },
           {
            "bin_start": 360.2,
            "bin_end": 360.3,
            "count": 0
           },
           {
            "bin_start": 360.3,
            "bin_end": 360.4,
            "count": 0
           },
           {
            "bin_start": 360.4,
            "bin_end": 360.5,
            "count": 0
           }
          ]
         }
        },
        {
         "name": "_deepnote_index_column",
         "dtype": "int64"
        }
       ],
       "rows": [
        {
         "promo": 360,
         "_deepnote_index_column": 1
        },
        {
         "promo": 360,
         "_deepnote_index_column": 726
        },
        {
         "promo": 360,
         "_deepnote_index_column": 708
        },
        {
         "promo": 360,
         "_deepnote_index_column": 709
        },
        {
         "promo": 360,
         "_deepnote_index_column": 713
        },
        {
         "promo": 360,
         "_deepnote_index_column": 714
        },
        {
         "promo": 360,
         "_deepnote_index_column": 715
        },
        {
         "promo": 360,
         "_deepnote_index_column": 717
        },
        {
         "promo": 360,
         "_deepnote_index_column": 718
        },
        {
         "promo": 360,
         "_deepnote_index_column": 720
        }
       ]
      },
      "text/plain": "       promo\nstore       \n1        360\n726      360\n708      360\n709      360\n713      360\n714      360\n715      360\n717      360\n718      360\n720      360\n721      360\n722      360\n723      360\n724      360\n725      360",
      "text/html": "<div>\n<style scoped>\n    .dataframe tbody tr th:only-of-type {\n        vertical-align: middle;\n    }\n\n    .dataframe tbody tr th {\n        vertical-align: top;\n    }\n\n    .dataframe thead th {\n        text-align: right;\n    }\n</style>\n<table border=\"1\" class=\"dataframe\">\n  <thead>\n    <tr style=\"text-align: right;\">\n      <th></th>\n      <th>promo</th>\n    </tr>\n    <tr>\n      <th>store</th>\n      <th></th>\n    </tr>\n  </thead>\n  <tbody>\n    <tr>\n      <th>1</th>\n      <td>360</td>\n    </tr>\n    <tr>\n      <th>726</th>\n      <td>360</td>\n    </tr>\n    <tr>\n      <th>708</th>\n      <td>360</td>\n    </tr>\n    <tr>\n      <th>709</th>\n      <td>360</td>\n    </tr>\n    <tr>\n      <th>713</th>\n      <td>360</td>\n    </tr>\n    <tr>\n      <th>714</th>\n      <td>360</td>\n    </tr>\n    <tr>\n      <th>715</th>\n      <td>360</td>\n    </tr>\n    <tr>\n      <th>717</th>\n      <td>360</td>\n    </tr>\n    <tr>\n      <th>718</th>\n      <td>360</td>\n    </tr>\n    <tr>\n      <th>720</th>\n      <td>360</td>\n    </tr>\n    <tr>\n      <th>721</th>\n      <td>360</td>\n    </tr>\n    <tr>\n      <th>722</th>\n      <td>360</td>\n    </tr>\n    <tr>\n      <th>723</th>\n      <td>360</td>\n    </tr>\n    <tr>\n      <th>724</th>\n      <td>360</td>\n    </tr>\n    <tr>\n      <th>725</th>\n      <td>360</td>\n    </tr>\n  </tbody>\n</table>\n</div>"
     },
     "metadata": {}
    }
   ]
  },
  {
   "cell_type": "code",
   "metadata": {
    "cell_id": "9fd540b5-91d3-4634-83ce-c46956689a68",
    "tags": [],
    "deepnote_to_be_reexecuted": false,
    "source_hash": "727941c4",
    "execution_start": 1643669443042,
    "execution_millis": 2667,
    "deepnote_cell_type": "code"
   },
   "source": "# Qual loja passou mais dias com produtos em promoção num ano?\nsales[\"year\"]=sales[\"date\"].apply(lambda x: x.year)\nsales.groupby([\"year\", \"store\"])[[\"promo\"]].sum().sort_values(\"promo\",ascending=False).head(15)",
   "execution_count": null,
   "outputs": [
    {
     "output_type": "execute_result",
     "execution_count": 20,
     "data": {
      "application/vnd.deepnote.dataframe.v3+json": {
       "column_count": 1,
       "row_count": 15,
       "columns": [
        {
         "name": "promo",
         "dtype": "int64",
         "stats": {
          "unique_count": 1,
          "nan_count": 0,
          "min": "140",
          "max": "140",
          "histogram": [
           {
            "bin_start": 139.5,
            "bin_end": 139.6,
            "count": 0
           },
           {
            "bin_start": 139.6,
            "bin_end": 139.7,
            "count": 0
           },
           {
            "bin_start": 139.7,
            "bin_end": 139.8,
            "count": 0
           },
           {
            "bin_start": 139.8,
            "bin_end": 139.9,
            "count": 0
           },
           {
            "bin_start": 139.9,
            "bin_end": 140,
            "count": 0
           },
           {
            "bin_start": 140,
            "bin_end": 140.1,
            "count": 15
           },
           {
            "bin_start": 140.1,
            "bin_end": 140.2,
            "count": 0
           },
           {
            "bin_start": 140.2,
            "bin_end": 140.3,
            "count": 0
           },
           {
            "bin_start": 140.3,
            "bin_end": 140.4,
            "count": 0
           },
           {
            "bin_start": 140.4,
            "bin_end": 140.5,
            "count": 0
           }
          ]
         }
        },
        {
         "name": "_deepnote_index_column",
         "dtype": "object"
        }
       ],
       "rows": [
        {
         "promo": 140,
         "_deepnote_index_column": "(2014, 558)"
        },
        {
         "promo": 140,
         "_deepnote_index_column": "(2014, 368)"
        },
        {
         "promo": 140,
         "_deepnote_index_column": "(2014, 380)"
        },
        {
         "promo": 140,
         "_deepnote_index_column": "(2014, 379)"
        },
        {
         "promo": 140,
         "_deepnote_index_column": "(2014, 378)"
        },
        {
         "promo": 140,
         "_deepnote_index_column": "(2014, 377)"
        },
        {
         "promo": 140,
         "_deepnote_index_column": "(2014, 376)"
        },
        {
         "promo": 140,
         "_deepnote_index_column": "(2014, 375)"
        },
        {
         "promo": 140,
         "_deepnote_index_column": "(2014, 374)"
        },
        {
         "promo": 140,
         "_deepnote_index_column": "(2014, 373)"
        }
       ]
      },
      "text/plain": "            promo\nyear store       \n2014 558      140\n     368      140\n     380      140\n     379      140\n     378      140\n     377      140\n     376      140\n     375      140\n     374      140\n     373      140\n     372      140\n     371      140\n     370      140\n     369      140\n     367      140",
      "text/html": "<div>\n<style scoped>\n    .dataframe tbody tr th:only-of-type {\n        vertical-align: middle;\n    }\n\n    .dataframe tbody tr th {\n        vertical-align: top;\n    }\n\n    .dataframe thead th {\n        text-align: right;\n    }\n</style>\n<table border=\"1\" class=\"dataframe\">\n  <thead>\n    <tr style=\"text-align: right;\">\n      <th></th>\n      <th></th>\n      <th>promo</th>\n    </tr>\n    <tr>\n      <th>year</th>\n      <th>store</th>\n      <th></th>\n    </tr>\n  </thead>\n  <tbody>\n    <tr>\n      <th rowspan=\"15\" valign=\"top\">2014</th>\n      <th>558</th>\n      <td>140</td>\n    </tr>\n    <tr>\n      <th>368</th>\n      <td>140</td>\n    </tr>\n    <tr>\n      <th>380</th>\n      <td>140</td>\n    </tr>\n    <tr>\n      <th>379</th>\n      <td>140</td>\n    </tr>\n    <tr>\n      <th>378</th>\n      <td>140</td>\n    </tr>\n    <tr>\n      <th>377</th>\n      <td>140</td>\n    </tr>\n    <tr>\n      <th>376</th>\n      <td>140</td>\n    </tr>\n    <tr>\n      <th>375</th>\n      <td>140</td>\n    </tr>\n    <tr>\n      <th>374</th>\n      <td>140</td>\n    </tr>\n    <tr>\n      <th>373</th>\n      <td>140</td>\n    </tr>\n    <tr>\n      <th>372</th>\n      <td>140</td>\n    </tr>\n    <tr>\n      <th>371</th>\n      <td>140</td>\n    </tr>\n    <tr>\n      <th>370</th>\n      <td>140</td>\n    </tr>\n    <tr>\n      <th>369</th>\n      <td>140</td>\n    </tr>\n    <tr>\n      <th>367</th>\n      <td>140</td>\n    </tr>\n  </tbody>\n</table>\n</div>"
     },
     "metadata": {}
    }
   ]
  },
  {
   "cell_type": "code",
   "metadata": {
    "cell_id": "6f1fc769-813b-44be-adc1-99761ec75d95",
    "tags": [],
    "deepnote_to_be_reexecuted": false,
    "source_hash": "848ec87f",
    "execution_start": 1643669445754,
    "execution_millis": 2211,
    "deepnote_output_heights": [
     117.125
    ],
    "deepnote_cell_type": "code"
   },
   "source": "# Qual dia da semana é mais provável de ocorrer uma promoção?\nsales.loc[sales['promo']==1, 'day_of_week'].value_counts() # dias 6 e 7 não tem promoção",
   "execution_count": null,
   "outputs": [
    {
     "output_type": "execute_result",
     "execution_count": 21,
     "data": {
      "text/plain": "1    77760\n2    77580\n3    77580\n4    77580\n5    77580\nName: day_of_week, dtype: int64"
     },
     "metadata": {}
    }
   ]
  },
  {
   "cell_type": "code",
   "metadata": {
    "cell_id": "760da778-a652-409f-839a-2b91379f6833",
    "tags": [],
    "deepnote_to_be_reexecuted": false,
    "source_hash": "65e32c84",
    "execution_start": 1643669447999,
    "execution_millis": 40,
    "deepnote_table_state": {
     "pageSize": 10,
     "pageIndex": 0,
     "filters": [],
     "sortBy": []
    },
    "deepnote_table_loading": false,
    "deepnote_cell_type": "code"
   },
   "source": "# Em qual feriado as vendas são maiores, natal ou páscoa?\nmask=sales[\"state_holiday\"].isin([\"easter_holiday\", \"christmas\"])\nsales.loc[mask].groupby(['state_holiday', 'year'])[['sales']].sum().sort_values(\"sales\", ascending=False).head(5)",
   "execution_count": null,
   "outputs": [
    {
     "output_type": "execute_result",
     "execution_count": 22,
     "data": {
      "application/vnd.deepnote.dataframe.v3+json": {
       "column_count": 1,
       "row_count": 5,
       "columns": [
        {
         "name": "sales",
         "dtype": "int64",
         "stats": {
          "unique_count": 5,
          "nan_count": 0,
          "min": "331182",
          "max": "515394",
          "histogram": [
           {
            "bin_start": 331182,
            "bin_end": 349603.2,
            "count": 1
           },
           {
            "bin_start": 349603.2,
            "bin_end": 368024.4,
            "count": 1
           },
           {
            "bin_start": 368024.4,
            "bin_end": 386445.6,
            "count": 0
           },
           {
            "bin_start": 386445.6,
            "bin_end": 404866.8,
            "count": 0
           },
           {
            "bin_start": 404866.8,
            "bin_end": 423288,
            "count": 0
           },
           {
            "bin_start": 423288,
            "bin_end": 441709.2,
            "count": 0
           },
           {
            "bin_start": 441709.2,
            "bin_end": 460130.4,
            "count": 1
           },
           {
            "bin_start": 460130.4,
            "bin_end": 478551.6,
            "count": 1
           },
           {
            "bin_start": 478551.6,
            "bin_end": 496972.80000000005,
            "count": 0
           },
           {
            "bin_start": 496972.80000000005,
            "bin_end": 515394,
            "count": 1
           }
          ]
         }
        },
        {
         "name": "_deepnote_index_column",
         "dtype": "object"
        }
       ],
       "rows": [
        {
         "sales": 515394,
         "_deepnote_index_column": "('easter_holiday', 2015)"
        },
        {
         "sales": 463353,
         "_deepnote_index_column": "('easter_holiday', 2014)"
        },
        {
         "sales": 454997,
         "_deepnote_index_column": "('easter_holiday', 2013)"
        },
        {
         "sales": 360624,
         "_deepnote_index_column": "('christmas', 2014)"
        },
        {
         "sales": 331182,
         "_deepnote_index_column": "('christmas', 2013)"
        }
       ]
      },
      "text/plain": "                      sales\nstate_holiday  year        \neaster_holiday 2015  515394\n               2014  463353\n               2013  454997\nchristmas      2014  360624\n               2013  331182",
      "text/html": "<div>\n<style scoped>\n    .dataframe tbody tr th:only-of-type {\n        vertical-align: middle;\n    }\n\n    .dataframe tbody tr th {\n        vertical-align: top;\n    }\n\n    .dataframe thead th {\n        text-align: right;\n    }\n</style>\n<table border=\"1\" class=\"dataframe\">\n  <thead>\n    <tr style=\"text-align: right;\">\n      <th></th>\n      <th></th>\n      <th>sales</th>\n    </tr>\n    <tr>\n      <th>state_holiday</th>\n      <th>year</th>\n      <th></th>\n    </tr>\n  </thead>\n  <tbody>\n    <tr>\n      <th rowspan=\"3\" valign=\"top\">easter_holiday</th>\n      <th>2015</th>\n      <td>515394</td>\n    </tr>\n    <tr>\n      <th>2014</th>\n      <td>463353</td>\n    </tr>\n    <tr>\n      <th>2013</th>\n      <td>454997</td>\n    </tr>\n    <tr>\n      <th rowspan=\"2\" valign=\"top\">christmas</th>\n      <th>2014</th>\n      <td>360624</td>\n    </tr>\n    <tr>\n      <th>2013</th>\n      <td>331182</td>\n    </tr>\n  </tbody>\n</table>\n</div>"
     },
     "metadata": {}
    }
   ]
  },
  {
   "cell_type": "code",
   "metadata": {
    "cell_id": "58c510f7-da47-4167-a2e9-0e8c138c21b3",
    "tags": [],
    "deepnote_to_be_reexecuted": false,
    "source_hash": "bdafedd1",
    "execution_start": 1643669448043,
    "execution_millis": 776,
    "deepnote_table_state": {
     "pageSize": 10,
     "pageIndex": 0,
     "filters": [],
     "sortBy": []
    },
    "deepnote_table_loading": false,
    "deepnote_cell_type": "code"
   },
   "source": "# Qual loja conseguiu mais vendas num único mês?\nsales[\"month\"]=sales[\"date\"].apply(lambda x: x.month)\nsales.groupby(['year', 'month','store'])[['sales']].max().sort_values('sales',ascending=False).head(1)",
   "execution_count": null,
   "outputs": [
    {
     "output_type": "execute_result",
     "execution_count": 23,
     "data": {
      "application/vnd.deepnote.dataframe.v3+json": {
       "column_count": 1,
       "row_count": 1,
       "columns": [
        {
         "name": "sales",
         "dtype": "int64",
         "stats": {
          "unique_count": 1,
          "nan_count": 0,
          "min": "41551",
          "max": "41551",
          "histogram": [
           {
            "bin_start": 41550.5,
            "bin_end": 41550.6,
            "count": 0
           },
           {
            "bin_start": 41550.6,
            "bin_end": 41550.7,
            "count": 0
           },
           {
            "bin_start": 41550.7,
            "bin_end": 41550.8,
            "count": 0
           },
           {
            "bin_start": 41550.8,
            "bin_end": 41550.9,
            "count": 0
           },
           {
            "bin_start": 41550.9,
            "bin_end": 41551,
            "count": 0
           },
           {
            "bin_start": 41551,
            "bin_end": 41551.1,
            "count": 1
           },
           {
            "bin_start": 41551.1,
            "bin_end": 41551.2,
            "count": 0
           },
           {
            "bin_start": 41551.2,
            "bin_end": 41551.3,
            "count": 0
           },
           {
            "bin_start": 41551.3,
            "bin_end": 41551.4,
            "count": 0
           },
           {
            "bin_start": 41551.4,
            "bin_end": 41551.5,
            "count": 0
           }
          ]
         }
        },
        {
         "name": "_deepnote_index_column",
         "dtype": "object"
        }
       ],
       "rows": [
        {
         "sales": 41551,
         "_deepnote_index_column": "(2015, 6, 909)"
        }
       ]
      },
      "text/plain": "                  sales\nyear month store       \n2015 6     909    41551",
      "text/html": "<div>\n<style scoped>\n    .dataframe tbody tr th:only-of-type {\n        vertical-align: middle;\n    }\n\n    .dataframe tbody tr th {\n        vertical-align: top;\n    }\n\n    .dataframe thead th {\n        text-align: right;\n    }\n</style>\n<table border=\"1\" class=\"dataframe\">\n  <thead>\n    <tr style=\"text-align: right;\">\n      <th></th>\n      <th></th>\n      <th></th>\n      <th>sales</th>\n    </tr>\n    <tr>\n      <th>year</th>\n      <th>month</th>\n      <th>store</th>\n      <th></th>\n    </tr>\n  </thead>\n  <tbody>\n    <tr>\n      <th>2015</th>\n      <th>6</th>\n      <th>909</th>\n      <td>41551</td>\n    </tr>\n  </tbody>\n</table>\n</div>"
     },
     "metadata": {}
    }
   ]
  },
  {
   "cell_type": "code",
   "metadata": {
    "cell_id": "2cd42fba-b0f6-4a61-b929-f929fa9dd783",
    "tags": [],
    "deepnote_to_be_reexecuted": false,
    "source_hash": "bee04721",
    "execution_start": 1643669448758,
    "execution_millis": 111,
    "deepnote_table_state": {
     "pageSize": 25,
     "pageIndex": 0,
     "filters": [],
     "sortBy": []
    },
    "deepnote_table_loading": false,
    "deepnote_cell_type": "code"
   },
   "source": "# Qual a loja com o máximo de clientes num determinado dia da semana e ano?\nsales.groupby(['store', 'year','day_of_week'])[['customers']].max().sort_values(\"customers\", ascending=False).head(5)",
   "execution_count": null,
   "outputs": [
    {
     "output_type": "execute_result",
     "execution_count": 24,
     "data": {
      "application/vnd.deepnote.dataframe.v3+json": {
       "column_count": 1,
       "row_count": 5,
       "columns": [
        {
         "name": "customers",
         "dtype": "int64",
         "stats": {
          "unique_count": 5,
          "nan_count": 0,
          "min": "5297",
          "max": "7388",
          "histogram": [
           {
            "bin_start": 5297,
            "bin_end": 5506.1,
            "count": 4
           },
           {
            "bin_start": 5506.1,
            "bin_end": 5715.2,
            "count": 0
           },
           {
            "bin_start": 5715.2,
            "bin_end": 5924.3,
            "count": 0
           },
           {
            "bin_start": 5924.3,
            "bin_end": 6133.4,
            "count": 0
           },
           {
            "bin_start": 6133.4,
            "bin_end": 6342.5,
            "count": 0
           },
           {
            "bin_start": 6342.5,
            "bin_end": 6551.6,
            "count": 0
           },
           {
            "bin_start": 6551.6,
            "bin_end": 6760.7,
            "count": 0
           },
           {
            "bin_start": 6760.7,
            "bin_end": 6969.8,
            "count": 0
           },
           {
            "bin_start": 6969.8,
            "bin_end": 7178.9,
            "count": 0
           },
           {
            "bin_start": 7178.9,
            "bin_end": 7388,
            "count": 1
           }
          ]
         }
        },
        {
         "name": "_deepnote_index_column",
         "dtype": "object"
        }
       ],
       "rows": [
        {
         "customers": 7388,
         "_deepnote_index_column": "(817, 2013, 2)"
        },
        {
         "customers": 5494,
         "_deepnote_index_column": "(262, 2014, 5)"
        },
        {
         "customers": 5458,
         "_deepnote_index_column": "(262, 2015, 5)"
        },
        {
         "customers": 5387,
         "_deepnote_index_column": "(262, 2014, 1)"
        },
        {
         "customers": 5297,
         "_deepnote_index_column": "(262, 2014, 4)"
        }
       ]
      },
      "text/plain": "                        customers\nstore year day_of_week           \n817   2013 2                 7388\n262   2014 5                 5494\n      2015 5                 5458\n      2014 1                 5387\n           4                 5297",
      "text/html": "<div>\n<style scoped>\n    .dataframe tbody tr th:only-of-type {\n        vertical-align: middle;\n    }\n\n    .dataframe tbody tr th {\n        vertical-align: top;\n    }\n\n    .dataframe thead th {\n        text-align: right;\n    }\n</style>\n<table border=\"1\" class=\"dataframe\">\n  <thead>\n    <tr style=\"text-align: right;\">\n      <th></th>\n      <th></th>\n      <th></th>\n      <th>customers</th>\n    </tr>\n    <tr>\n      <th>store</th>\n      <th>year</th>\n      <th>day_of_week</th>\n      <th></th>\n    </tr>\n  </thead>\n  <tbody>\n    <tr>\n      <th>817</th>\n      <th>2013</th>\n      <th>2</th>\n      <td>7388</td>\n    </tr>\n    <tr>\n      <th rowspan=\"4\" valign=\"top\">262</th>\n      <th>2014</th>\n      <th>5</th>\n      <td>5494</td>\n    </tr>\n    <tr>\n      <th>2015</th>\n      <th>5</th>\n      <td>5458</td>\n    </tr>\n    <tr>\n      <th rowspan=\"2\" valign=\"top\">2014</th>\n      <th>1</th>\n      <td>5387</td>\n    </tr>\n    <tr>\n      <th>4</th>\n      <td>5297</td>\n    </tr>\n  </tbody>\n</table>\n</div>"
     },
     "metadata": {}
    }
   ]
  },
  {
   "cell_type": "code",
   "source": "",
   "metadata": {
    "cell_id": "00abcbb5-3d6e-4c69-bba2-7a341da78339",
    "deepnote_to_be_reexecuted": false,
    "source_hash": "b623e53d",
    "execution_start": 1643669448955,
    "execution_millis": 6788078,
    "deepnote_cell_type": "visualization"
   },
   "execution_count": null,
   "outputs": []
  },
  {
   "cell_type": "code",
   "metadata": {
    "cell_id": "f2339f72-20b5-42f4-a673-00311e014a21",
    "tags": [],
    "deepnote_to_be_reexecuted": false,
    "source_hash": "66b0344b",
    "execution_start": 1643669449008,
    "execution_millis": 631,
    "deepnote_cell_type": "code"
   },
   "source": "# Qual o número máximo, mínimo, e mediana de clientes que o grupo atendeu num dia?\nsales['day']=sales['date'].apply(lambda x: x.day)\nsales.groupby(['year','month','day'])[['customers']].agg('sum').sort_values(\"customers\", ascending=False).head(15)\n#sales.groupby(['year','month','day'])[['customers']].agg('').sort_values(\"customers\", ascending=True).head()",
   "execution_count": null,
   "outputs": [
    {
     "output_type": "execute_result",
     "execution_count": 26,
     "data": {
      "application/vnd.deepnote.dataframe.v3+json": {
       "column_count": 1,
       "row_count": 15,
       "columns": [
        {
         "name": "customers",
         "dtype": "int64",
         "stats": {
          "unique_count": 15,
          "nan_count": 0,
          "min": "1117442",
          "max": "1518600",
          "histogram": [
           {
            "bin_start": 1117442,
            "bin_end": 1157557.8,
            "count": 7
           },
           {
            "bin_start": 1157557.8,
            "bin_end": 1197673.6,
            "count": 3
           },
           {
            "bin_start": 1197673.6,
            "bin_end": 1237789.4,
            "count": 3
           },
           {
            "bin_start": 1237789.4,
            "bin_end": 1277905.2,
            "count": 0
           },
           {
            "bin_start": 1277905.2,
            "bin_end": 1318021,
            "count": 0
           },
           {
            "bin_start": 1318021,
            "bin_end": 1358136.8,
            "count": 1
           },
           {
            "bin_start": 1358136.8,
            "bin_end": 1398252.6,
            "count": 0
           },
           {
            "bin_start": 1398252.6,
            "bin_end": 1438368.4,
            "count": 0
           },
           {
            "bin_start": 1438368.4,
            "bin_end": 1478484.2,
            "count": 0
           },
           {
            "bin_start": 1478484.2,
            "bin_end": 1518600,
            "count": 1
           }
          ]
         }
        },
        {
         "name": "_deepnote_index_column",
         "dtype": "object"
        }
       ],
       "rows": [
        {
         "customers": 1518600,
         "_deepnote_index_column": "(2013, 12, 23)"
        },
        {
         "customers": 1340280,
         "_deepnote_index_column": "(2013, 12, 16)"
        },
        {
         "customers": 1219287,
         "_deepnote_index_column": "(2013, 12, 20)"
        },
        {
         "customers": 1199202,
         "_deepnote_index_column": "(2013, 12, 2)"
        },
        {
         "customers": 1198877,
         "_deepnote_index_column": "(2013, 12, 17)"
        },
        {
         "customers": 1189439,
         "_deepnote_index_column": "(2014, 6, 30)"
        },
        {
         "customers": 1177111,
         "_deepnote_index_column": "(2013, 3, 28)"
        },
        {
         "customers": 1158335,
         "_deepnote_index_column": "(2013, 12, 18)"
        },
        {
         "customers": 1154752,
         "_deepnote_index_column": "(2013, 12, 19)"
        },
        {
         "customers": 1141048,
         "_deepnote_index_column": "(2014, 5, 2)"
        }
       ]
      },
      "text/plain": "                customers\nyear month day           \n2013 12    23     1518600\n           16     1340280\n           20     1219287\n           2      1199202\n           17     1198877\n2014 6     30     1189439\n2013 3     28     1177111\n     12    18     1158335\n           19     1154752\n2014 5     2      1141048\n     12    23     1130310\n           22     1130014\n     3     31     1125153\n2015 4     2      1119146\n2013 12    30     1117442",
      "text/html": "<div>\n<style scoped>\n    .dataframe tbody tr th:only-of-type {\n        vertical-align: middle;\n    }\n\n    .dataframe tbody tr th {\n        vertical-align: top;\n    }\n\n    .dataframe thead th {\n        text-align: right;\n    }\n</style>\n<table border=\"1\" class=\"dataframe\">\n  <thead>\n    <tr style=\"text-align: right;\">\n      <th></th>\n      <th></th>\n      <th></th>\n      <th>customers</th>\n    </tr>\n    <tr>\n      <th>year</th>\n      <th>month</th>\n      <th>day</th>\n      <th></th>\n    </tr>\n  </thead>\n  <tbody>\n    <tr>\n      <th rowspan=\"5\" valign=\"top\">2013</th>\n      <th rowspan=\"5\" valign=\"top\">12</th>\n      <th>23</th>\n      <td>1518600</td>\n    </tr>\n    <tr>\n      <th>16</th>\n      <td>1340280</td>\n    </tr>\n    <tr>\n      <th>20</th>\n      <td>1219287</td>\n    </tr>\n    <tr>\n      <th>2</th>\n      <td>1199202</td>\n    </tr>\n    <tr>\n      <th>17</th>\n      <td>1198877</td>\n    </tr>\n    <tr>\n      <th>2014</th>\n      <th>6</th>\n      <th>30</th>\n      <td>1189439</td>\n    </tr>\n    <tr>\n      <th rowspan=\"3\" valign=\"top\">2013</th>\n      <th>3</th>\n      <th>28</th>\n      <td>1177111</td>\n    </tr>\n    <tr>\n      <th rowspan=\"2\" valign=\"top\">12</th>\n      <th>18</th>\n      <td>1158335</td>\n    </tr>\n    <tr>\n      <th>19</th>\n      <td>1154752</td>\n    </tr>\n    <tr>\n      <th rowspan=\"4\" valign=\"top\">2014</th>\n      <th>5</th>\n      <th>2</th>\n      <td>1141048</td>\n    </tr>\n    <tr>\n      <th rowspan=\"2\" valign=\"top\">12</th>\n      <th>23</th>\n      <td>1130310</td>\n    </tr>\n    <tr>\n      <th>22</th>\n      <td>1130014</td>\n    </tr>\n    <tr>\n      <th>3</th>\n      <th>31</th>\n      <td>1125153</td>\n    </tr>\n    <tr>\n      <th>2015</th>\n      <th>4</th>\n      <th>2</th>\n      <td>1119146</td>\n    </tr>\n    <tr>\n      <th>2013</th>\n      <th>12</th>\n      <th>30</th>\n      <td>1117442</td>\n    </tr>\n  </tbody>\n</table>\n</div>"
     },
     "metadata": {}
    }
   ]
  },
  {
   "cell_type": "code",
   "metadata": {
    "cell_id": "05fe8d55-71cd-4a02-bc71-2f87823e658e",
    "tags": [],
    "deepnote_to_be_reexecuted": false,
    "source_hash": "256eaaa2",
    "execution_start": 1643669449640,
    "execution_millis": 181,
    "deepnote_cell_type": "code"
   },
   "source": "sales.groupby(['year','month','day'])[['customers']].agg('sum').sort_values(\"customers\", ascending=True).head(15)",
   "execution_count": null,
   "outputs": [
    {
     "output_type": "execute_result",
     "execution_count": 27,
     "data": {
      "application/vnd.deepnote.dataframe.v3+json": {
       "column_count": 1,
       "row_count": 15,
       "columns": [
        {
         "name": "customers",
         "dtype": "int64",
         "stats": {
          "unique_count": 15,
          "nan_count": 0,
          "min": "19491",
          "max": "30772",
          "histogram": [
           {
            "bin_start": 19491,
            "bin_end": 20619.1,
            "count": 1
           },
           {
            "bin_start": 20619.1,
            "bin_end": 21747.2,
            "count": 0
           },
           {
            "bin_start": 21747.2,
            "bin_end": 22875.3,
            "count": 1
           },
           {
            "bin_start": 22875.3,
            "bin_end": 24003.4,
            "count": 1
           },
           {
            "bin_start": 24003.4,
            "bin_end": 25131.5,
            "count": 2
           },
           {
            "bin_start": 25131.5,
            "bin_end": 26259.6,
            "count": 0
           },
           {
            "bin_start": 26259.6,
            "bin_end": 27387.699999999997,
            "count": 3
           },
           {
            "bin_start": 27387.699999999997,
            "bin_end": 28515.8,
            "count": 1
           },
           {
            "bin_start": 28515.8,
            "bin_end": 29643.9,
            "count": 0
           },
           {
            "bin_start": 29643.9,
            "bin_end": 30772,
            "count": 6
           }
          ]
         }
        },
        {
         "name": "_deepnote_index_column",
         "dtype": "object"
        }
       ],
       "rows": [
        {
         "customers": 19491,
         "_deepnote_index_column": "(2013, 1, 1)"
        },
        {
         "customers": 21925,
         "_deepnote_index_column": "(2014, 1, 1)"
        },
        {
         "customers": 23049,
         "_deepnote_index_column": "(2015, 1, 1)"
        },
        {
         "customers": 24022,
         "_deepnote_index_column": "(2013, 12, 25)"
        },
        {
         "customers": 24451,
         "_deepnote_index_column": "(2014, 12, 25)"
        },
        {
         "customers": 26387,
         "_deepnote_index_column": "(2013, 1, 6)"
        },
        {
         "customers": 27044,
         "_deepnote_index_column": "(2013, 1, 13)"
        },
        {
         "customers": 27286,
         "_deepnote_index_column": "(2013, 1, 27)"
        },
        {
         "customers": 28040,
         "_deepnote_index_column": "(2013, 1, 20)"
        },
        {
         "customers": 29963,
         "_deepnote_index_column": "(2013, 3, 10)"
        }
       ]
      },
      "text/plain": "                customers\nyear month day           \n2013 1     1        19491\n2014 1     1        21925\n2015 1     1        23049\n2013 12    25       24022\n2014 12    25       24451\n2013 1     6        26387\n           13       27044\n           27       27286\n           20       28040\n     3     10       29963\n     2     24       30107\n           3        30349\n2014 1     26       30422\n2013 12    26       30762\n     3     31       30772",
      "text/html": "<div>\n<style scoped>\n    .dataframe tbody tr th:only-of-type {\n        vertical-align: middle;\n    }\n\n    .dataframe tbody tr th {\n        vertical-align: top;\n    }\n\n    .dataframe thead th {\n        text-align: right;\n    }\n</style>\n<table border=\"1\" class=\"dataframe\">\n  <thead>\n    <tr style=\"text-align: right;\">\n      <th></th>\n      <th></th>\n      <th></th>\n      <th>customers</th>\n    </tr>\n    <tr>\n      <th>year</th>\n      <th>month</th>\n      <th>day</th>\n      <th></th>\n    </tr>\n  </thead>\n  <tbody>\n    <tr>\n      <th>2013</th>\n      <th>1</th>\n      <th>1</th>\n      <td>19491</td>\n    </tr>\n    <tr>\n      <th>2014</th>\n      <th>1</th>\n      <th>1</th>\n      <td>21925</td>\n    </tr>\n    <tr>\n      <th>2015</th>\n      <th>1</th>\n      <th>1</th>\n      <td>23049</td>\n    </tr>\n    <tr>\n      <th>2013</th>\n      <th>12</th>\n      <th>25</th>\n      <td>24022</td>\n    </tr>\n    <tr>\n      <th>2014</th>\n      <th>12</th>\n      <th>25</th>\n      <td>24451</td>\n    </tr>\n    <tr>\n      <th rowspan=\"7\" valign=\"top\">2013</th>\n      <th rowspan=\"4\" valign=\"top\">1</th>\n      <th>6</th>\n      <td>26387</td>\n    </tr>\n    <tr>\n      <th>13</th>\n      <td>27044</td>\n    </tr>\n    <tr>\n      <th>27</th>\n      <td>27286</td>\n    </tr>\n    <tr>\n      <th>20</th>\n      <td>28040</td>\n    </tr>\n    <tr>\n      <th>3</th>\n      <th>10</th>\n      <td>29963</td>\n    </tr>\n    <tr>\n      <th rowspan=\"2\" valign=\"top\">2</th>\n      <th>24</th>\n      <td>30107</td>\n    </tr>\n    <tr>\n      <th>3</th>\n      <td>30349</td>\n    </tr>\n    <tr>\n      <th>2014</th>\n      <th>1</th>\n      <th>26</th>\n      <td>30422</td>\n    </tr>\n    <tr>\n      <th rowspan=\"2\" valign=\"top\">2013</th>\n      <th>12</th>\n      <th>26</th>\n      <td>30762</td>\n    </tr>\n    <tr>\n      <th>3</th>\n      <th>31</th>\n      <td>30772</td>\n    </tr>\n  </tbody>\n</table>\n</div>"
     },
     "metadata": {}
    }
   ]
  },
  {
   "cell_type": "code",
   "metadata": {
    "cell_id": "4ccba47a-a9e4-4484-b17c-3902876854b6",
    "tags": [],
    "deepnote_to_be_reexecuted": false,
    "source_hash": "820250e2",
    "execution_start": 1643669449779,
    "execution_millis": 66,
    "deepnote_output_heights": [
     40.375
    ],
    "deepnote_cell_type": "code"
   },
   "source": "sales.groupby(['year','month','day'])[['customers']].agg('sum').median()",
   "execution_count": null,
   "outputs": [
    {
     "output_type": "execute_result",
     "execution_count": 28,
     "data": {
      "text/plain": "customers    761154.0\ndtype: float64"
     },
     "metadata": {}
    }
   ]
  },
  {
   "cell_type": "code",
   "metadata": {
    "cell_id": "86cd007e-8f03-470e-83ca-12a7e28101e9",
    "tags": [],
    "deepnote_to_be_reexecuted": false,
    "source_hash": "39502cf8",
    "execution_start": 1643669449906,
    "execution_millis": 43,
    "deepnote_cell_type": "code"
   },
   "source": "# Tem mais vendas/clientes com promoção ou sem promoção?\nsales.groupby(\"promo\")[\"sales\", \"customers\"].mean().rename(mapper={0:\"sem promo\", 1:\"com promo\"})",
   "execution_count": null,
   "outputs": [
    {
     "name": "stderr",
     "text": "/shared-libs/python3.7/py-core/lib/python3.7/site-packages/ipykernel_launcher.py:2: FutureWarning: Indexing with multiple keys (implicitly converted to a tuple of keys) will be deprecated, use a list instead.\n  \n",
     "output_type": "stream"
    },
    {
     "output_type": "execute_result",
     "execution_count": 30,
     "data": {
      "application/vnd.deepnote.dataframe.v3+json": {
       "column_count": 2,
       "row_count": 2,
       "columns": [
        {
         "name": "sales",
         "dtype": "float64",
         "stats": {
          "unique_count": 2,
          "nan_count": 0,
          "min": "4406.050805160786",
          "max": "7991.152045969903",
          "histogram": [
           {
            "bin_start": 4406.050805160786,
            "bin_end": 4764.5609292416975,
            "count": 1
           },
           {
            "bin_start": 4764.5609292416975,
            "bin_end": 5123.071053322609,
            "count": 0
           },
           {
            "bin_start": 5123.071053322609,
            "bin_end": 5481.581177403521,
            "count": 0
           },
           {
            "bin_start": 5481.581177403521,
            "bin_end": 5840.091301484433,
            "count": 0
           },
           {
            "bin_start": 5840.091301484433,
            "bin_end": 6198.6014255653445,
            "count": 0
           },
           {
            "bin_start": 6198.6014255653445,
            "bin_end": 6557.111549646256,
            "count": 0
           },
           {
            "bin_start": 6557.111549646256,
            "bin_end": 6915.621673727168,
            "count": 0
           },
           {
            "bin_start": 6915.621673727168,
            "bin_end": 7274.13179780808,
            "count": 0
           },
           {
            "bin_start": 7274.13179780808,
            "bin_end": 7632.641921888991,
            "count": 0
           },
           {
            "bin_start": 7632.641921888991,
            "bin_end": 7991.152045969903,
            "count": 1
           }
          ]
         }
        },
        {
         "name": "customers",
         "dtype": "float64",
         "stats": {
          "unique_count": 2,
          "nan_count": 0,
          "min": "517.8235417537579",
          "max": "820.0988146773861",
          "histogram": [
           {
            "bin_start": 517.8235417537579,
            "bin_end": 548.0510690461208,
            "count": 1
           },
           {
            "bin_start": 548.0510690461208,
            "bin_end": 578.2785963384836,
            "count": 0
           },
           {
            "bin_start": 578.2785963384836,
            "bin_end": 608.5061236308463,
            "count": 0
           },
           {
            "bin_start": 608.5061236308463,
            "bin_end": 638.7336509232092,
            "count": 0
           },
           {
            "bin_start": 638.7336509232092,
            "bin_end": 668.9611782155721,
            "count": 0
           },
           {
            "bin_start": 668.9611782155721,
            "bin_end": 699.1887055079349,
            "count": 0
           },
           {
            "bin_start": 699.1887055079349,
            "bin_end": 729.4162328002976,
            "count": 0
           },
           {
            "bin_start": 729.4162328002976,
            "bin_end": 759.6437600926605,
            "count": 0
           },
           {
            "bin_start": 759.6437600926605,
            "bin_end": 789.8712873850234,
            "count": 0
           },
           {
            "bin_start": 789.8712873850234,
            "bin_end": 820.0988146773861,
            "count": 1
           }
          ]
         }
        },
        {
         "name": "_deepnote_index_column",
         "dtype": "object"
        }
       ],
       "rows": [
        {
         "sales": 4406.050805160786,
         "customers": 517.8235417537579,
         "_deepnote_index_column": "sem promo"
        },
        {
         "sales": 7991.152045969903,
         "customers": 820.0988146773861,
         "_deepnote_index_column": "com promo"
        }
       ]
      },
      "text/plain": "                 sales   customers\npromo                             \nsem promo  4406.050805  517.823542\ncom promo  7991.152046  820.098815",
      "text/html": "<div>\n<style scoped>\n    .dataframe tbody tr th:only-of-type {\n        vertical-align: middle;\n    }\n\n    .dataframe tbody tr th {\n        vertical-align: top;\n    }\n\n    .dataframe thead th {\n        text-align: right;\n    }\n</style>\n<table border=\"1\" class=\"dataframe\">\n  <thead>\n    <tr style=\"text-align: right;\">\n      <th></th>\n      <th>sales</th>\n      <th>customers</th>\n    </tr>\n    <tr>\n      <th>promo</th>\n      <th></th>\n      <th></th>\n    </tr>\n  </thead>\n  <tbody>\n    <tr>\n      <th>sem promo</th>\n      <td>4406.050805</td>\n      <td>517.823542</td>\n    </tr>\n    <tr>\n      <th>com promo</th>\n      <td>7991.152046</td>\n      <td>820.098815</td>\n    </tr>\n  </tbody>\n</table>\n</div>"
     },
     "metadata": {}
    }
   ]
  },
  {
   "cell_type": "code",
   "metadata": {
    "cell_id": "a2d41209-adbe-4b76-a43e-7f4d8d3c5977",
    "tags": [],
    "deepnote_to_be_reexecuted": false,
    "source_hash": "28efd254",
    "execution_start": 1643669449947,
    "execution_millis": 210,
    "deepnote_output_heights": [
     78
    ],
    "deepnote_cell_type": "code"
   },
   "source": "# Tem mais vendas com promoção ou sem promoção?\nsales.groupby(\"promo\")[\"sales\"].describe()",
   "execution_count": null,
   "outputs": [
    {
     "output_type": "execute_result",
     "execution_count": 31,
     "data": {
      "application/vnd.deepnote.dataframe.v3+json": {
       "column_count": 8,
       "row_count": 2,
       "columns": [
        {
         "name": "count",
         "dtype": "float64",
         "stats": {
          "unique_count": 2,
          "nan_count": 0,
          "min": "388080.0",
          "max": "629129.0",
          "histogram": [
           {
            "bin_start": 388080,
            "bin_end": 412184.9,
            "count": 1
           },
           {
            "bin_start": 412184.9,
            "bin_end": 436289.8,
            "count": 0
           },
           {
            "bin_start": 436289.8,
            "bin_end": 460394.7,
            "count": 0
           },
           {
            "bin_start": 460394.7,
            "bin_end": 484499.6,
            "count": 0
           },
           {
            "bin_start": 484499.6,
            "bin_end": 508604.5,
            "count": 0
           },
           {
            "bin_start": 508604.5,
            "bin_end": 532709.4,
            "count": 0
           },
           {
            "bin_start": 532709.4,
            "bin_end": 556814.3,
            "count": 0
           },
           {
            "bin_start": 556814.3,
            "bin_end": 580919.2,
            "count": 0
           },
           {
            "bin_start": 580919.2,
            "bin_end": 605024.1,
            "count": 0
           },
           {
            "bin_start": 605024.1,
            "bin_end": 629129,
            "count": 1
           }
          ]
         }
        },
        {
         "name": "mean",
         "dtype": "float64",
         "stats": {
          "unique_count": 2,
          "nan_count": 0,
          "min": "4406.050805160786",
          "max": "7991.152045969903",
          "histogram": [
           {
            "bin_start": 4406.050805160786,
            "bin_end": 4764.5609292416975,
            "count": 1
           },
           {
            "bin_start": 4764.5609292416975,
            "bin_end": 5123.071053322609,
            "count": 0
           },
           {
            "bin_start": 5123.071053322609,
            "bin_end": 5481.581177403521,
            "count": 0
           },
           {
            "bin_start": 5481.581177403521,
            "bin_end": 5840.091301484433,
            "count": 0
           },
           {
            "bin_start": 5840.091301484433,
            "bin_end": 6198.6014255653445,
            "count": 0
           },
           {
            "bin_start": 6198.6014255653445,
            "bin_end": 6557.111549646256,
            "count": 0
           },
           {
            "bin_start": 6557.111549646256,
            "bin_end": 6915.621673727168,
            "count": 0
           },
           {
            "bin_start": 6915.621673727168,
            "bin_end": 7274.13179780808,
            "count": 0
           },
           {
            "bin_start": 7274.13179780808,
            "bin_end": 7632.641921888991,
            "count": 0
           },
           {
            "bin_start": 7632.641921888991,
            "bin_end": 7991.152045969903,
            "count": 1
           }
          ]
         }
        },
        {
         "name": "std",
         "dtype": "float64",
         "stats": {
          "unique_count": 2,
          "nan_count": 0,
          "min": "3419.0254953317617",
          "max": "3442.450019900872",
          "histogram": [
           {
            "bin_start": 3419.0254953317617,
            "bin_end": 3421.3679477886726,
            "count": 1
           },
           {
            "bin_start": 3421.3679477886726,
            "bin_end": 3423.710400245584,
            "count": 0
           },
           {
            "bin_start": 3423.710400245584,
            "bin_end": 3426.052852702495,
            "count": 0
           },
           {
            "bin_start": 3426.052852702495,
            "bin_end": 3428.395305159406,
            "count": 0
           },
           {
            "bin_start": 3428.395305159406,
            "bin_end": 3430.737757616317,
            "count": 0
           },
           {
            "bin_start": 3430.737757616317,
            "bin_end": 3433.080210073228,
            "count": 0
           },
           {
            "bin_start": 3433.080210073228,
            "bin_end": 3435.422662530139,
            "count": 0
           },
           {
            "bin_start": 3435.422662530139,
            "bin_end": 3437.76511498705,
            "count": 0
           },
           {
            "bin_start": 3437.76511498705,
            "bin_end": 3440.107567443961,
            "count": 0
           },
           {
            "bin_start": 3440.107567443961,
            "bin_end": 3442.450019900872,
            "count": 1
           }
          ]
         }
        },
        {
         "name": "min",
         "dtype": "float64",
         "stats": {
          "unique_count": 1,
          "nan_count": 0,
          "min": "0.0",
          "max": "0.0",
          "histogram": [
           {
            "bin_start": -0.5,
            "bin_end": -0.4,
            "count": 0
           },
           {
            "bin_start": -0.4,
            "bin_end": -0.3,
            "count": 0
           },
           {
            "bin_start": -0.3,
            "bin_end": -0.19999999999999996,
            "count": 0
           },
           {
            "bin_start": -0.19999999999999996,
            "bin_end": -0.09999999999999998,
            "count": 0
           },
           {
            "bin_start": -0.09999999999999998,
            "bin_end": 0,
            "count": 0
           },
           {
            "bin_start": 0,
            "bin_end": 0.10000000000000009,
            "count": 2
           },
           {
            "bin_start": 0.10000000000000009,
            "bin_end": 0.20000000000000007,
            "count": 0
           },
           {
            "bin_start": 0.20000000000000007,
            "bin_end": 0.30000000000000004,
            "count": 0
           },
           {
            "bin_start": 0.30000000000000004,
            "bin_end": 0.4,
            "count": 0
           },
           {
            "bin_start": 0.4,
            "bin_end": 0.5,
            "count": 0
           }
          ]
         }
        },
        {
         "name": "25%",
         "dtype": "float64",
         "stats": {
          "unique_count": 2,
          "nan_count": 0,
          "min": "0.0",
          "max": "5922.0",
          "histogram": [
           {
            "bin_start": 0,
            "bin_end": 592.2,
            "count": 1
           },
           {
            "bin_start": 592.2,
            "bin_end": 1184.4,
            "count": 0
           },
           {
            "bin_start": 1184.4,
            "bin_end": 1776.6000000000001,
            "count": 0
           },
           {
            "bin_start": 1776.6000000000001,
            "bin_end": 2368.8,
            "count": 0
           },
           {
            "bin_start": 2368.8,
            "bin_end": 2961,
            "count": 0
           },
           {
            "bin_start": 2961,
            "bin_end": 3553.2000000000003,
            "count": 0
           },
           {
            "bin_start": 3553.2000000000003,
            "bin_end": 4145.400000000001,
            "count": 0
           },
           {
            "bin_start": 4145.400000000001,
            "bin_end": 4737.6,
            "count": 0
           },
           {
            "bin_start": 4737.6,
            "bin_end": 5329.8,
            "count": 0
           },
           {
            "bin_start": 5329.8,
            "bin_end": 5922,
            "count": 1
           }
          ]
         }
        },
        {
         "name": "50%",
         "dtype": "float64",
         "stats": {
          "unique_count": 2,
          "nan_count": 0,
          "min": "4622.0",
          "max": "7553.0",
          "histogram": [
           {
            "bin_start": 4622,
            "bin_end": 4915.1,
            "count": 1
           },
           {
            "bin_start": 4915.1,
            "bin_end": 5208.2,
            "count": 0
           },
           {
            "bin_start": 5208.2,
            "bin_end": 5501.3,
            "count": 0
           },
           {
            "bin_start": 5501.3,
            "bin_end": 5794.4,
            "count": 0
           },
           {
            "bin_start": 5794.4,
            "bin_end": 6087.5,
            "count": 0
           },
           {
            "bin_start": 6087.5,
            "bin_end": 6380.6,
            "count": 0
           },
           {
            "bin_start": 6380.6,
            "bin_end": 6673.700000000001,
            "count": 0
           },
           {
            "bin_start": 6673.700000000001,
            "bin_end": 6966.8,
            "count": 0
           },
           {
            "bin_start": 6966.8,
            "bin_end": 7259.9,
            "count": 0
           },
           {
            "bin_start": 7259.9,
            "bin_end": 7553,
            "count": 1
           }
          ]
         }
        },
        {
         "name": "75%",
         "dtype": "float64",
         "stats": {
          "unique_count": 2,
          "nan_count": 0,
          "min": "6367.0",
          "max": "9603.0",
          "histogram": [
           {
            "bin_start": 6367,
            "bin_end": 6690.6,
            "count": 1
           },
           {
            "bin_start": 6690.6,
            "bin_end": 7014.2,
            "count": 0
           },
           {
            "bin_start": 7014.2,
            "bin_end": 7337.8,
            "count": 0
           },
           {
            "bin_start": 7337.8,
            "bin_end": 7661.4,
            "count": 0
           },
           {
            "bin_start": 7661.4,
            "bin_end": 7985,
            "count": 0
           },
           {
            "bin_start": 7985,
            "bin_end": 8308.6,
            "count": 0
           },
           {
            "bin_start": 8308.6,
            "bin_end": 8632.2,
            "count": 0
           },
           {
            "bin_start": 8632.2,
            "bin_end": 8955.8,
            "count": 0
           },
           {
            "bin_start": 8955.8,
            "bin_end": 9279.4,
            "count": 0
           },
           {
            "bin_start": 9279.4,
            "bin_end": 9603,
            "count": 1
           }
          ]
         }
        },
        {
         "name": "max",
         "dtype": "float64",
         "stats": {
          "unique_count": 2,
          "nan_count": 0,
          "min": "38722.0",
          "max": "41551.0",
          "histogram": [
           {
            "bin_start": 38722,
            "bin_end": 39004.9,
            "count": 1
           },
           {
            "bin_start": 39004.9,
            "bin_end": 39287.8,
            "count": 0
           },
           {
            "bin_start": 39287.8,
            "bin_end": 39570.7,
            "count": 0
           },
           {
            "bin_start": 39570.7,
            "bin_end": 39853.6,
            "count": 0
           },
           {
            "bin_start": 39853.6,
            "bin_end": 40136.5,
            "count": 0
           },
           {
            "bin_start": 40136.5,
            "bin_end": 40419.4,
            "count": 0
           },
           {
            "bin_start": 40419.4,
            "bin_end": 40702.3,
            "count": 0
           },
           {
            "bin_start": 40702.3,
            "bin_end": 40985.2,
            "count": 0
           },
           {
            "bin_start": 40985.2,
            "bin_end": 41268.1,
            "count": 0
           },
           {
            "bin_start": 41268.1,
            "bin_end": 41551,
            "count": 1
           }
          ]
         }
        },
        {
         "name": "_deepnote_index_column",
         "dtype": "int64"
        }
       ],
       "rows": [
        {
         "count": 629129,
         "mean": 4406.050805160786,
         "std": 3442.450019900872,
         "min": 0,
         "25%": 0,
         "50%": 4622,
         "75%": 6367,
         "max": 41551,
         "_deepnote_index_column": 0
        },
        {
         "count": 388080,
         "mean": 7991.152045969903,
         "std": 3419.0254953317617,
         "min": 0,
         "25%": 5922,
         "50%": 7553,
         "75%": 9603,
         "max": 38722,
         "_deepnote_index_column": 1
        }
       ]
      },
      "text/plain": "          count         mean          std  min     25%     50%     75%  \\\npromo                                                                    \n0      629129.0  4406.050805  3442.450020  0.0     0.0  4622.0  6367.0   \n1      388080.0  7991.152046  3419.025495  0.0  5922.0  7553.0  9603.0   \n\n           max  \npromo           \n0      41551.0  \n1      38722.0  ",
      "text/html": "<div>\n<style scoped>\n    .dataframe tbody tr th:only-of-type {\n        vertical-align: middle;\n    }\n\n    .dataframe tbody tr th {\n        vertical-align: top;\n    }\n\n    .dataframe thead th {\n        text-align: right;\n    }\n</style>\n<table border=\"1\" class=\"dataframe\">\n  <thead>\n    <tr style=\"text-align: right;\">\n      <th></th>\n      <th>count</th>\n      <th>mean</th>\n      <th>std</th>\n      <th>min</th>\n      <th>25%</th>\n      <th>50%</th>\n      <th>75%</th>\n      <th>max</th>\n    </tr>\n    <tr>\n      <th>promo</th>\n      <th></th>\n      <th></th>\n      <th></th>\n      <th></th>\n      <th></th>\n      <th></th>\n      <th></th>\n      <th></th>\n    </tr>\n  </thead>\n  <tbody>\n    <tr>\n      <th>0</th>\n      <td>629129.0</td>\n      <td>4406.050805</td>\n      <td>3442.450020</td>\n      <td>0.0</td>\n      <td>0.0</td>\n      <td>4622.0</td>\n      <td>6367.0</td>\n      <td>41551.0</td>\n    </tr>\n    <tr>\n      <th>1</th>\n      <td>388080.0</td>\n      <td>7991.152046</td>\n      <td>3419.025495</td>\n      <td>0.0</td>\n      <td>5922.0</td>\n      <td>7553.0</td>\n      <td>9603.0</td>\n      <td>38722.0</td>\n    </tr>\n  </tbody>\n</table>\n</div>"
     },
     "metadata": {}
    }
   ]
  },
  {
   "cell_type": "markdown",
   "source": "<a style='text-decoration:none;line-height:16px;display:flex;color:#5B5B62;padding:10px;justify-content:end;' href='https://deepnote.com?utm_source=created-in-deepnote-cell&projectId=43c508c6-91f9-4c07-8f9a-b0e96ce9285e' target=\"_blank\">\n<img alt='Created in deepnote.com' style='display:inline;max-height:16px;margin:0px;margin-right:7.5px;' src='data:image/svg+xml;base64,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' > </img>\nCreated in <span style='font-weight:600;margin-left:4px;'>Deepnote</span></a>",
   "metadata": {
    "tags": [],
    "created_in_deepnote_cell": true,
    "deepnote_cell_type": "markdown"
   }
  }
 ],
 "nbformat": 4,
 "nbformat_minor": 2,
 "metadata": {
  "orig_nbformat": 2,
  "deepnote": {
   "is_reactive": false
  },
  "deepnote_notebook_id": "8350fc9d-95ec-4fc7-81ee-3a9919972ae5",
  "deepnote_execution_queue": []
 }
}