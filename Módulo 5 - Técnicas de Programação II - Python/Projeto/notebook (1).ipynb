{
 "cells": [
  {
   "cell_type": "markdown",
   "metadata": {
    "cell_id": "21ea99a4-b57e-4ce8-b758-285544d175db",
    "deepnote_cell_height": 296.96875,
    "deepnote_cell_type": "markdown",
    "tags": []
   },
   "source": [
    "Pontos esperados:\n",
    "\n",
    "1. Apresente as características do conjunto de dados fornecido, destacando sua visão geral acerca do conjunto de dados e tecendo críticas e comentários.\n",
    "2. Faça uma análise detalhada das variáveis numéricas e categóricas da base de dados, discutindo sua distribuição e outras características relevantes.\n",
    "3. Limpeza de dados: Considere a avaliação da existência de valores ausentes e de possíveis outliers, discutindo como estes podem ser tratados ou eliminados.\n",
    "4. Feature engineering: Quais variáveis você poderia criar para enriquecer a análise?\n",
    "5. Enriquecimento da base: Inclua qualquer outra informação/análise que achar importante.\n",
    "6. Que outras bases externas ou internas voce buscaria para enriquecer as análises?"
   ]
  },
  {
   "cell_type": "code",
   "execution_count": 1,
   "metadata": {
    "cell_id": "c452ba74-ca33-4bfb-be77-a667a6eec21d",
    "deepnote_cell_height": 261.28125,
    "deepnote_cell_type": "code",
    "deepnote_to_be_reexecuted": false,
    "execution_millis": 10243,
    "execution_start": 1645467622030,
    "source_hash": "acaf2319",
    "tags": []
   },
   "outputs": [
    {
     "name": "stdout",
     "output_type": "stream",
     "text": [
      "Requirement already satisfied: inflection in c:\\users\\joao\\anaconda3\\lib\\site-packages (0.5.1)\n",
      "Requirement already satisfied: missingno in c:\\users\\joao\\anaconda3\\lib\\site-packages (0.5.0)\n",
      "Requirement already satisfied: numpy in c:\\users\\joao\\anaconda3\\lib\\site-packages (from missingno) (1.20.1)\n",
      "Requirement already satisfied: seaborn in c:\\users\\joao\\anaconda3\\lib\\site-packages (from missingno) (0.11.1)\n",
      "Requirement already satisfied: matplotlib in c:\\users\\joao\\anaconda3\\lib\\site-packages (from missingno) (3.3.4)\n",
      "Requirement already satisfied: scipy in c:\\users\\joao\\anaconda3\\lib\\site-packages (from missingno) (1.6.2)\n",
      "Requirement already satisfied: kiwisolver>=1.0.1 in c:\\users\\joao\\anaconda3\\lib\\site-packages (from matplotlib->missingno) (1.3.1)\n",
      "Requirement already satisfied: cycler>=0.10 in c:\\users\\joao\\anaconda3\\lib\\site-packages (from matplotlib->missingno) (0.10.0)\n",
      "Requirement already satisfied: python-dateutil>=2.1 in c:\\users\\joao\\anaconda3\\lib\\site-packages (from matplotlib->missingno) (2.8.1)\n",
      "Requirement already satisfied: pillow>=6.2.0 in c:\\users\\joao\\anaconda3\\lib\\site-packages (from matplotlib->missingno) (8.2.0)\n",
      "Requirement already satisfied: pyparsing!=2.0.4,!=2.1.2,!=2.1.6,>=2.0.3 in c:\\users\\joao\\anaconda3\\lib\\site-packages (from matplotlib->missingno) (2.4.7)\n",
      "Requirement already satisfied: six in c:\\users\\joao\\anaconda3\\lib\\site-packages (from cycler>=0.10->matplotlib->missingno) (1.15.0)\n",
      "Requirement already satisfied: pandas>=0.23 in c:\\users\\joao\\anaconda3\\lib\\site-packages (from seaborn->missingno) (1.2.4)\n",
      "Requirement already satisfied: pytz>=2017.3 in c:\\users\\joao\\anaconda3\\lib\\site-packages (from pandas>=0.23->seaborn->missingno) (2021.1)\n"
     ]
    }
   ],
   "source": [
    "!pip install inflection\n",
    "!pip install missingno"
   ]
  },
  {
   "cell_type": "code",
   "execution_count": 2,
   "metadata": {
    "cell_id": "deea780a-2c00-46f8-8166-b4dfb785f541",
    "deepnote_cell_height": 520.34375,
    "deepnote_cell_type": "code",
    "deepnote_output_heights": [
     null,
     174.6875
    ],
    "deepnote_table_loading": false,
    "deepnote_table_state": {
     "filters": [],
     "pageIndex": 0,
     "pageSize": 10,
     "sortBy": [
      {
       "id": "DayOfWeek",
       "type": "asc"
      }
     ]
    },
    "deepnote_to_be_reexecuted": false,
    "execution_millis": 3896,
    "execution_start": 1645467632287,
    "source_hash": "de742960",
    "tags": []
   },
   "outputs": [
    {
     "name": "stderr",
     "output_type": "stream",
     "text": [
      "C:\\Users\\joao\\anaconda3\\lib\\site-packages\\IPython\\core\\interactiveshell.py:3165: DtypeWarning: Columns (7) have mixed types.Specify dtype option on import or set low_memory=False.\n",
      "  has_raised = await self.run_ast_nodes(code_ast.body, cell_name,\n"
     ]
    },
    {
     "name": "stdout",
     "output_type": "stream",
     "text": [
      "(1017209, 9)\n",
      "(1115, 10)\n",
      "(1017209, 18)\n"
     ]
    }
   ],
   "source": [
    "import missingno as msno\n",
    "import pandas as pd\n",
    "import numpy as np\n",
    "import inflection\n",
    "import math \n",
    "import matplotlib.pyplot as plt\n",
    "import plotly.express as px\n",
    "import matplotlib.colors as mcolors\n",
    "import seaborn as sns\n",
    "\n",
    "%matplotlib inline\n",
    "\n",
    "\n",
    "sales = pd.read_csv('train.csv')\n",
    "print(sales.shape)\n",
    "#teste = pd.read_csv('test.csv')\n",
    "#print(teste.shape)\n",
    "stores=pd.read_csv(\"store.csv\")\n",
    "print(stores.shape)\n",
    "sales=sales.merge(stores, how=\"inner\", on=\"Store\")\n",
    "print(sales.shape)"
   ]
  },
  {
   "cell_type": "code",
   "execution_count": 3,
   "metadata": {
    "cell_id": "864967ee-7f95-4479-968d-c0aeaf6371d6",
    "deepnote_cell_height": 450,
    "deepnote_cell_type": "code",
    "deepnote_to_be_reexecuted": false,
    "execution_millis": 76,
    "execution_start": 1645467636211,
    "source_hash": "a6b0eecb",
    "tags": []
   },
   "outputs": [
    {
     "data": {
      "text/html": [
       "<div>\n",
       "<style scoped>\n",
       "    .dataframe tbody tr th:only-of-type {\n",
       "        vertical-align: middle;\n",
       "    }\n",
       "\n",
       "    .dataframe tbody tr th {\n",
       "        vertical-align: top;\n",
       "    }\n",
       "\n",
       "    .dataframe thead th {\n",
       "        text-align: right;\n",
       "    }\n",
       "</style>\n",
       "<table border=\"1\" class=\"dataframe\">\n",
       "  <thead>\n",
       "    <tr style=\"text-align: right;\">\n",
       "      <th></th>\n",
       "      <th>store</th>\n",
       "      <th>day_of_week</th>\n",
       "      <th>date</th>\n",
       "      <th>sales</th>\n",
       "      <th>customers</th>\n",
       "      <th>open</th>\n",
       "      <th>promo</th>\n",
       "      <th>state_holiday</th>\n",
       "      <th>school_holiday</th>\n",
       "      <th>store_type</th>\n",
       "      <th>assortment</th>\n",
       "      <th>competition_distance</th>\n",
       "      <th>competition_open_since_month</th>\n",
       "      <th>competition_open_since_year</th>\n",
       "      <th>promo2</th>\n",
       "      <th>promo2_since_week</th>\n",
       "      <th>promo2_since_year</th>\n",
       "      <th>promo_interval</th>\n",
       "    </tr>\n",
       "  </thead>\n",
       "  <tbody>\n",
       "    <tr>\n",
       "      <th>0</th>\n",
       "      <td>1</td>\n",
       "      <td>5</td>\n",
       "      <td>2015-07-31</td>\n",
       "      <td>5263</td>\n",
       "      <td>555</td>\n",
       "      <td>1</td>\n",
       "      <td>1</td>\n",
       "      <td>0</td>\n",
       "      <td>1</td>\n",
       "      <td>c</td>\n",
       "      <td>a</td>\n",
       "      <td>1270.0</td>\n",
       "      <td>9.0</td>\n",
       "      <td>2008.0</td>\n",
       "      <td>0</td>\n",
       "      <td>NaN</td>\n",
       "      <td>NaN</td>\n",
       "      <td>NaN</td>\n",
       "    </tr>\n",
       "    <tr>\n",
       "      <th>1</th>\n",
       "      <td>1</td>\n",
       "      <td>4</td>\n",
       "      <td>2015-07-30</td>\n",
       "      <td>5020</td>\n",
       "      <td>546</td>\n",
       "      <td>1</td>\n",
       "      <td>1</td>\n",
       "      <td>0</td>\n",
       "      <td>1</td>\n",
       "      <td>c</td>\n",
       "      <td>a</td>\n",
       "      <td>1270.0</td>\n",
       "      <td>9.0</td>\n",
       "      <td>2008.0</td>\n",
       "      <td>0</td>\n",
       "      <td>NaN</td>\n",
       "      <td>NaN</td>\n",
       "      <td>NaN</td>\n",
       "    </tr>\n",
       "    <tr>\n",
       "      <th>2</th>\n",
       "      <td>1</td>\n",
       "      <td>3</td>\n",
       "      <td>2015-07-29</td>\n",
       "      <td>4782</td>\n",
       "      <td>523</td>\n",
       "      <td>1</td>\n",
       "      <td>1</td>\n",
       "      <td>0</td>\n",
       "      <td>1</td>\n",
       "      <td>c</td>\n",
       "      <td>a</td>\n",
       "      <td>1270.0</td>\n",
       "      <td>9.0</td>\n",
       "      <td>2008.0</td>\n",
       "      <td>0</td>\n",
       "      <td>NaN</td>\n",
       "      <td>NaN</td>\n",
       "      <td>NaN</td>\n",
       "    </tr>\n",
       "    <tr>\n",
       "      <th>3</th>\n",
       "      <td>1</td>\n",
       "      <td>2</td>\n",
       "      <td>2015-07-28</td>\n",
       "      <td>5011</td>\n",
       "      <td>560</td>\n",
       "      <td>1</td>\n",
       "      <td>1</td>\n",
       "      <td>0</td>\n",
       "      <td>1</td>\n",
       "      <td>c</td>\n",
       "      <td>a</td>\n",
       "      <td>1270.0</td>\n",
       "      <td>9.0</td>\n",
       "      <td>2008.0</td>\n",
       "      <td>0</td>\n",
       "      <td>NaN</td>\n",
       "      <td>NaN</td>\n",
       "      <td>NaN</td>\n",
       "    </tr>\n",
       "    <tr>\n",
       "      <th>4</th>\n",
       "      <td>1</td>\n",
       "      <td>1</td>\n",
       "      <td>2015-07-27</td>\n",
       "      <td>6102</td>\n",
       "      <td>612</td>\n",
       "      <td>1</td>\n",
       "      <td>1</td>\n",
       "      <td>0</td>\n",
       "      <td>1</td>\n",
       "      <td>c</td>\n",
       "      <td>a</td>\n",
       "      <td>1270.0</td>\n",
       "      <td>9.0</td>\n",
       "      <td>2008.0</td>\n",
       "      <td>0</td>\n",
       "      <td>NaN</td>\n",
       "      <td>NaN</td>\n",
       "      <td>NaN</td>\n",
       "    </tr>\n",
       "  </tbody>\n",
       "</table>\n",
       "</div>"
      ],
      "text/plain": [
       "   store  day_of_week        date  sales  customers  open  promo  \\\n",
       "0      1            5  2015-07-31   5263        555     1      1   \n",
       "1      1            4  2015-07-30   5020        546     1      1   \n",
       "2      1            3  2015-07-29   4782        523     1      1   \n",
       "3      1            2  2015-07-28   5011        560     1      1   \n",
       "4      1            1  2015-07-27   6102        612     1      1   \n",
       "\n",
       "  state_holiday  school_holiday store_type assortment  competition_distance  \\\n",
       "0             0               1          c          a                1270.0   \n",
       "1             0               1          c          a                1270.0   \n",
       "2             0               1          c          a                1270.0   \n",
       "3             0               1          c          a                1270.0   \n",
       "4             0               1          c          a                1270.0   \n",
       "\n",
       "   competition_open_since_month  competition_open_since_year  promo2  \\\n",
       "0                           9.0                       2008.0       0   \n",
       "1                           9.0                       2008.0       0   \n",
       "2                           9.0                       2008.0       0   \n",
       "3                           9.0                       2008.0       0   \n",
       "4                           9.0                       2008.0       0   \n",
       "\n",
       "   promo2_since_week  promo2_since_year promo_interval  \n",
       "0                NaN                NaN            NaN  \n",
       "1                NaN                NaN            NaN  \n",
       "2                NaN                NaN            NaN  \n",
       "3                NaN                NaN            NaN  \n",
       "4                NaN                NaN            NaN  "
      ]
     },
     "execution_count": 3,
     "metadata": {},
     "output_type": "execute_result"
    }
   ],
   "source": [
    "oldCols=list(sales.columns)\n",
    "snakecase=lambda x: inflection.underscore(x)\n",
    "newCols=list(map(snakecase, oldCols))\n",
    "#print(newCols)\n",
    "\n",
    "sales.columns = newCols\n",
    "sales.head()"
   ]
  },
  {
   "cell_type": "code",
   "execution_count": 4,
   "metadata": {
    "cell_id": "882fcd6c-f156-4db9-80b5-b3a371c6c6ec",
    "deepnote_cell_height": 590.140625,
    "deepnote_cell_type": "code",
    "deepnote_to_be_reexecuted": false,
    "execution_millis": 222,
    "execution_start": 1645467636332,
    "source_hash": "ab25acfb",
    "tags": []
   },
   "outputs": [
    {
     "name": "stdout",
     "output_type": "stream",
     "text": [
      "<class 'pandas.core.frame.DataFrame'>\n",
      "Int64Index: 1017209 entries, 0 to 1017208\n",
      "Data columns (total 18 columns):\n",
      " #   Column                        Non-Null Count    Dtype  \n",
      "---  ------                        --------------    -----  \n",
      " 0   store                         1017209 non-null  int64  \n",
      " 1   day_of_week                   1017209 non-null  int64  \n",
      " 2   date                          1017209 non-null  object \n",
      " 3   sales                         1017209 non-null  int64  \n",
      " 4   customers                     1017209 non-null  int64  \n",
      " 5   open                          1017209 non-null  int64  \n",
      " 6   promo                         1017209 non-null  int64  \n",
      " 7   state_holiday                 1017209 non-null  object \n",
      " 8   school_holiday                1017209 non-null  int64  \n",
      " 9   store_type                    1017209 non-null  object \n",
      " 10  assortment                    1017209 non-null  object \n",
      " 11  competition_distance          1014567 non-null  float64\n",
      " 12  competition_open_since_month  693861 non-null   float64\n",
      " 13  competition_open_since_year   693861 non-null   float64\n",
      " 14  promo2                        1017209 non-null  int64  \n",
      " 15  promo2_since_week             509178 non-null   float64\n",
      " 16  promo2_since_year             509178 non-null   float64\n",
      " 17  promo_interval                509178 non-null   object \n",
      "dtypes: float64(5), int64(8), object(5)\n",
      "memory usage: 147.5+ MB\n"
     ]
    }
   ],
   "source": [
    "sales.info()"
   ]
  },
  {
   "cell_type": "code",
   "execution_count": 5,
   "metadata": {
    "cell_id": "c719cf53-0fa0-4b98-8691-7947a3c52d47",
    "deepnote_cell_height": 497,
    "deepnote_cell_type": "code",
    "deepnote_table_loading": false,
    "deepnote_table_state": {
     "filters": [],
     "pageIndex": 0,
     "pageSize": 10,
     "sortBy": [
      {
       "id": "customers",
       "type": "desc"
      }
     ]
    },
    "deepnote_to_be_reexecuted": false,
    "execution_millis": 569,
    "execution_start": 1645467636563,
    "source_hash": "3a93b017",
    "tags": []
   },
   "outputs": [
    {
     "data": {
      "text/html": [
       "<div>\n",
       "<style scoped>\n",
       "    .dataframe tbody tr th:only-of-type {\n",
       "        vertical-align: middle;\n",
       "    }\n",
       "\n",
       "    .dataframe tbody tr th {\n",
       "        vertical-align: top;\n",
       "    }\n",
       "\n",
       "    .dataframe thead th {\n",
       "        text-align: right;\n",
       "    }\n",
       "</style>\n",
       "<table border=\"1\" class=\"dataframe\">\n",
       "  <thead>\n",
       "    <tr style=\"text-align: right;\">\n",
       "      <th></th>\n",
       "      <th>store</th>\n",
       "      <th>day_of_week</th>\n",
       "      <th>sales</th>\n",
       "      <th>customers</th>\n",
       "      <th>open</th>\n",
       "      <th>promo</th>\n",
       "      <th>school_holiday</th>\n",
       "      <th>competition_distance</th>\n",
       "      <th>competition_open_since_month</th>\n",
       "      <th>competition_open_since_year</th>\n",
       "      <th>promo2</th>\n",
       "      <th>promo2_since_week</th>\n",
       "      <th>promo2_since_year</th>\n",
       "    </tr>\n",
       "  </thead>\n",
       "  <tbody>\n",
       "    <tr>\n",
       "      <th>count</th>\n",
       "      <td>1.017209e+06</td>\n",
       "      <td>1.017209e+06</td>\n",
       "      <td>1.017209e+06</td>\n",
       "      <td>1.017209e+06</td>\n",
       "      <td>1.017209e+06</td>\n",
       "      <td>1.017209e+06</td>\n",
       "      <td>1.017209e+06</td>\n",
       "      <td>1.014567e+06</td>\n",
       "      <td>693861.000000</td>\n",
       "      <td>693861.000000</td>\n",
       "      <td>1.017209e+06</td>\n",
       "      <td>509178.000000</td>\n",
       "      <td>509178.000000</td>\n",
       "    </tr>\n",
       "    <tr>\n",
       "      <th>mean</th>\n",
       "      <td>5.584297e+02</td>\n",
       "      <td>3.998341e+00</td>\n",
       "      <td>5.773819e+03</td>\n",
       "      <td>6.331459e+02</td>\n",
       "      <td>8.301067e-01</td>\n",
       "      <td>3.815145e-01</td>\n",
       "      <td>1.786467e-01</td>\n",
       "      <td>5.430086e+03</td>\n",
       "      <td>7.222866</td>\n",
       "      <td>2008.690228</td>\n",
       "      <td>5.005638e-01</td>\n",
       "      <td>23.269093</td>\n",
       "      <td>2011.752774</td>\n",
       "    </tr>\n",
       "    <tr>\n",
       "      <th>std</th>\n",
       "      <td>3.219087e+02</td>\n",
       "      <td>1.997391e+00</td>\n",
       "      <td>3.849926e+03</td>\n",
       "      <td>4.644117e+02</td>\n",
       "      <td>3.755392e-01</td>\n",
       "      <td>4.857586e-01</td>\n",
       "      <td>3.830564e-01</td>\n",
       "      <td>7.715324e+03</td>\n",
       "      <td>3.211832</td>\n",
       "      <td>5.992644</td>\n",
       "      <td>4.999999e-01</td>\n",
       "      <td>14.095973</td>\n",
       "      <td>1.662870</td>\n",
       "    </tr>\n",
       "    <tr>\n",
       "      <th>min</th>\n",
       "      <td>1.000000e+00</td>\n",
       "      <td>1.000000e+00</td>\n",
       "      <td>0.000000e+00</td>\n",
       "      <td>0.000000e+00</td>\n",
       "      <td>0.000000e+00</td>\n",
       "      <td>0.000000e+00</td>\n",
       "      <td>0.000000e+00</td>\n",
       "      <td>2.000000e+01</td>\n",
       "      <td>1.000000</td>\n",
       "      <td>1900.000000</td>\n",
       "      <td>0.000000e+00</td>\n",
       "      <td>1.000000</td>\n",
       "      <td>2009.000000</td>\n",
       "    </tr>\n",
       "    <tr>\n",
       "      <th>25%</th>\n",
       "      <td>2.800000e+02</td>\n",
       "      <td>2.000000e+00</td>\n",
       "      <td>3.727000e+03</td>\n",
       "      <td>4.050000e+02</td>\n",
       "      <td>1.000000e+00</td>\n",
       "      <td>0.000000e+00</td>\n",
       "      <td>0.000000e+00</td>\n",
       "      <td>7.100000e+02</td>\n",
       "      <td>4.000000</td>\n",
       "      <td>2006.000000</td>\n",
       "      <td>0.000000e+00</td>\n",
       "      <td>13.000000</td>\n",
       "      <td>2011.000000</td>\n",
       "    </tr>\n",
       "    <tr>\n",
       "      <th>50%</th>\n",
       "      <td>5.580000e+02</td>\n",
       "      <td>4.000000e+00</td>\n",
       "      <td>5.744000e+03</td>\n",
       "      <td>6.090000e+02</td>\n",
       "      <td>1.000000e+00</td>\n",
       "      <td>0.000000e+00</td>\n",
       "      <td>0.000000e+00</td>\n",
       "      <td>2.330000e+03</td>\n",
       "      <td>8.000000</td>\n",
       "      <td>2010.000000</td>\n",
       "      <td>1.000000e+00</td>\n",
       "      <td>22.000000</td>\n",
       "      <td>2012.000000</td>\n",
       "    </tr>\n",
       "    <tr>\n",
       "      <th>75%</th>\n",
       "      <td>8.380000e+02</td>\n",
       "      <td>6.000000e+00</td>\n",
       "      <td>7.856000e+03</td>\n",
       "      <td>8.370000e+02</td>\n",
       "      <td>1.000000e+00</td>\n",
       "      <td>1.000000e+00</td>\n",
       "      <td>0.000000e+00</td>\n",
       "      <td>6.890000e+03</td>\n",
       "      <td>10.000000</td>\n",
       "      <td>2013.000000</td>\n",
       "      <td>1.000000e+00</td>\n",
       "      <td>37.000000</td>\n",
       "      <td>2013.000000</td>\n",
       "    </tr>\n",
       "    <tr>\n",
       "      <th>max</th>\n",
       "      <td>1.115000e+03</td>\n",
       "      <td>7.000000e+00</td>\n",
       "      <td>4.155100e+04</td>\n",
       "      <td>7.388000e+03</td>\n",
       "      <td>1.000000e+00</td>\n",
       "      <td>1.000000e+00</td>\n",
       "      <td>1.000000e+00</td>\n",
       "      <td>7.586000e+04</td>\n",
       "      <td>12.000000</td>\n",
       "      <td>2015.000000</td>\n",
       "      <td>1.000000e+00</td>\n",
       "      <td>50.000000</td>\n",
       "      <td>2015.000000</td>\n",
       "    </tr>\n",
       "  </tbody>\n",
       "</table>\n",
       "</div>"
      ],
      "text/plain": [
       "              store   day_of_week         sales     customers          open  \\\n",
       "count  1.017209e+06  1.017209e+06  1.017209e+06  1.017209e+06  1.017209e+06   \n",
       "mean   5.584297e+02  3.998341e+00  5.773819e+03  6.331459e+02  8.301067e-01   \n",
       "std    3.219087e+02  1.997391e+00  3.849926e+03  4.644117e+02  3.755392e-01   \n",
       "min    1.000000e+00  1.000000e+00  0.000000e+00  0.000000e+00  0.000000e+00   \n",
       "25%    2.800000e+02  2.000000e+00  3.727000e+03  4.050000e+02  1.000000e+00   \n",
       "50%    5.580000e+02  4.000000e+00  5.744000e+03  6.090000e+02  1.000000e+00   \n",
       "75%    8.380000e+02  6.000000e+00  7.856000e+03  8.370000e+02  1.000000e+00   \n",
       "max    1.115000e+03  7.000000e+00  4.155100e+04  7.388000e+03  1.000000e+00   \n",
       "\n",
       "              promo  school_holiday  competition_distance  \\\n",
       "count  1.017209e+06    1.017209e+06          1.014567e+06   \n",
       "mean   3.815145e-01    1.786467e-01          5.430086e+03   \n",
       "std    4.857586e-01    3.830564e-01          7.715324e+03   \n",
       "min    0.000000e+00    0.000000e+00          2.000000e+01   \n",
       "25%    0.000000e+00    0.000000e+00          7.100000e+02   \n",
       "50%    0.000000e+00    0.000000e+00          2.330000e+03   \n",
       "75%    1.000000e+00    0.000000e+00          6.890000e+03   \n",
       "max    1.000000e+00    1.000000e+00          7.586000e+04   \n",
       "\n",
       "       competition_open_since_month  competition_open_since_year  \\\n",
       "count                 693861.000000                693861.000000   \n",
       "mean                       7.222866                  2008.690228   \n",
       "std                        3.211832                     5.992644   \n",
       "min                        1.000000                  1900.000000   \n",
       "25%                        4.000000                  2006.000000   \n",
       "50%                        8.000000                  2010.000000   \n",
       "75%                       10.000000                  2013.000000   \n",
       "max                       12.000000                  2015.000000   \n",
       "\n",
       "             promo2  promo2_since_week  promo2_since_year  \n",
       "count  1.017209e+06      509178.000000      509178.000000  \n",
       "mean   5.005638e-01          23.269093        2011.752774  \n",
       "std    4.999999e-01          14.095973           1.662870  \n",
       "min    0.000000e+00           1.000000        2009.000000  \n",
       "25%    0.000000e+00          13.000000        2011.000000  \n",
       "50%    1.000000e+00          22.000000        2012.000000  \n",
       "75%    1.000000e+00          37.000000        2013.000000  \n",
       "max    1.000000e+00          50.000000        2015.000000  "
      ]
     },
     "execution_count": 5,
     "metadata": {},
     "output_type": "execute_result"
    }
   ],
   "source": [
    "sales.describe()"
   ]
  },
  {
   "cell_type": "code",
   "execution_count": 6,
   "metadata": {
    "cell_id": "72f10f08-2065-46a6-ab52-6cbd2f7e91ec",
    "deepnote_cell_height": 644.140625,
    "deepnote_cell_type": "code",
    "deepnote_output_heights": [
     21.1875,
     21.1875
    ],
    "deepnote_to_be_reexecuted": false,
    "execution_millis": 1051,
    "execution_start": 1645467637364,
    "source_hash": "a41153e2",
    "tags": []
   },
   "outputs": [
    {
     "name": "stdout",
     "output_type": "stream",
     "text": [
      "<class 'pandas.core.frame.DataFrame'>\n",
      "Int64Index: 1017209 entries, 0 to 1017208\n",
      "Data columns (total 18 columns):\n",
      " #   Column                        Non-Null Count    Dtype  \n",
      "---  ------                        --------------    -----  \n",
      " 0   store                         1017209 non-null  int64  \n",
      " 1   day_of_week                   1017209 non-null  int64  \n",
      " 2   date                          1017209 non-null  object \n",
      " 3   sales                         1017209 non-null  int64  \n",
      " 4   customers                     1017209 non-null  int64  \n",
      " 5   open                          1017209 non-null  int64  \n",
      " 6   promo                         1017209 non-null  int64  \n",
      " 7   state_holiday                 1017209 non-null  object \n",
      " 8   school_holiday                1017209 non-null  int64  \n",
      " 9   store_type                    1017209 non-null  object \n",
      " 10  assortment                    1017209 non-null  object \n",
      " 11  competition_distance          1014567 non-null  float64\n",
      " 12  competition_open_since_month  693861 non-null   float64\n",
      " 13  competition_open_since_year   693861 non-null   float64\n",
      " 14  promo2                        1017209 non-null  int64  \n",
      " 15  promo2_since_week             509178 non-null   float64\n",
      " 16  promo2_since_year             509178 non-null   float64\n",
      " 17  promo_interval                509178 non-null   object \n",
      "dtypes: float64(5), int64(8), object(5)\n",
      "memory usage: 147.5+ MB\n"
     ]
    }
   ],
   "source": [
    "sales[\"date\"]=pd.to_datetime(sales[\"date\"]).dt.date\n",
    "sales.info()\n",
    "\n",
    "#stamp.strftime('%Y-%m-%d')"
   ]
  },
  {
   "cell_type": "code",
   "execution_count": 7,
   "metadata": {
    "cell_id": "85bb13e4-f30a-4af1-8223-200f8229295d",
    "deepnote_cell_type": "code",
    "deepnote_to_be_reexecuted": false,
    "execution_millis": 4612,
    "execution_start": 1645467637977,
    "source_hash": "baaf94b4",
    "tags": []
   },
   "outputs": [
    {
     "data": {
      "text/plain": [
       "<AxesSubplot:>"
      ]
     },
     "execution_count": 7,
     "metadata": {},
     "output_type": "execute_result"
    },
    {
     "data": {
      "image/png": "[encoded data removed]",
      "text/plain": [
       "<Figure size 1800x720 with 2 Axes>"
      ]
     },
     "metadata": {
      "needs_background": "light"
     },
     "output_type": "display_data"
    }
   ],
   "source": [
    "msno.matrix(sales)"
   ]
  },
  {
   "cell_type": "code",
   "execution_count": 8,
   "metadata": {
    "cell_id": "4584c4ba-b812-46f0-8505-ffd14f687f95",
    "deepnote_cell_type": "code",
    "deepnote_to_be_reexecuted": false,
    "execution_millis": 1249,
    "execution_start": 1645467642625,
    "source_hash": "b6cdef80",
    "tags": []
   },
   "outputs": [
    {
     "data": {
      "text/plain": [
       "<AxesSubplot:>"
      ]
     },
     "execution_count": 8,
     "metadata": {},
     "output_type": "execute_result"
    },
    {
     "data": {
      "image/png": "[encoded data removed]",
      "text/plain": [
       "<Figure size 1440x864 with 2 Axes>"
      ]
     },
     "metadata": {
      "needs_background": "light"
     },
     "output_type": "display_data"
    }
   ],
   "source": [
    "msno.heatmap(sales)"
   ]
  },
  {
   "cell_type": "code",
   "execution_count": 9,
   "metadata": {
    "cell_id": "04eccb1a-fef2-459d-a3dc-29728a85e50f",
    "deepnote_cell_height": 1107.921875,
    "deepnote_cell_type": "code",
    "deepnote_output_heights": [
     21.1875
    ],
    "deepnote_table_loading": false,
    "deepnote_table_state": {
     "filters": [],
     "pageIndex": 39,
     "pageSize": 25,
     "sortBy": [
      {
       "id": "date",
       "type": "asc"
      }
     ]
    },
    "deepnote_to_be_reexecuted": false,
    "execution_millis": 323,
    "execution_start": 1645467643925,
    "source_hash": "850cd848",
    "tags": []
   },
   "outputs": [
    {
     "name": "stdout",
     "output_type": "stream",
     "text": [
      "['None' 'public_holiday' 'easter_holiday' 'christmas']\n"
     ]
    },
    {
     "data": {
      "text/html": [
       "<div>\n",
       "<style scoped>\n",
       "    .dataframe tbody tr th:only-of-type {\n",
       "        vertical-align: middle;\n",
       "    }\n",
       "\n",
       "    .dataframe tbody tr th {\n",
       "        vertical-align: top;\n",
       "    }\n",
       "\n",
       "    .dataframe thead th {\n",
       "        text-align: right;\n",
       "    }\n",
       "</style>\n",
       "<table border=\"1\" class=\"dataframe\">\n",
       "  <thead>\n",
       "    <tr style=\"text-align: right;\">\n",
       "      <th></th>\n",
       "      <th>store</th>\n",
       "      <th>day_of_week</th>\n",
       "      <th>date</th>\n",
       "      <th>sales</th>\n",
       "      <th>customers</th>\n",
       "      <th>open</th>\n",
       "      <th>promo</th>\n",
       "      <th>state_holiday</th>\n",
       "      <th>school_holiday</th>\n",
       "      <th>store_type</th>\n",
       "      <th>assortment</th>\n",
       "      <th>competition_distance</th>\n",
       "      <th>competition_open_since_month</th>\n",
       "      <th>competition_open_since_year</th>\n",
       "      <th>promo2</th>\n",
       "      <th>promo2_since_week</th>\n",
       "      <th>promo2_since_year</th>\n",
       "      <th>promo_interval</th>\n",
       "    </tr>\n",
       "  </thead>\n",
       "  <tbody>\n",
       "    <tr>\n",
       "      <th>0</th>\n",
       "      <td>1</td>\n",
       "      <td>5</td>\n",
       "      <td>2015-07-31</td>\n",
       "      <td>5263</td>\n",
       "      <td>555</td>\n",
       "      <td>1</td>\n",
       "      <td>1</td>\n",
       "      <td>None</td>\n",
       "      <td>1</td>\n",
       "      <td>c</td>\n",
       "      <td>a</td>\n",
       "      <td>1270.0</td>\n",
       "      <td>9.0</td>\n",
       "      <td>2008.0</td>\n",
       "      <td>0</td>\n",
       "      <td>NaN</td>\n",
       "      <td>NaN</td>\n",
       "      <td>NaN</td>\n",
       "    </tr>\n",
       "    <tr>\n",
       "      <th>1</th>\n",
       "      <td>1</td>\n",
       "      <td>4</td>\n",
       "      <td>2015-07-30</td>\n",
       "      <td>5020</td>\n",
       "      <td>546</td>\n",
       "      <td>1</td>\n",
       "      <td>1</td>\n",
       "      <td>None</td>\n",
       "      <td>1</td>\n",
       "      <td>c</td>\n",
       "      <td>a</td>\n",
       "      <td>1270.0</td>\n",
       "      <td>9.0</td>\n",
       "      <td>2008.0</td>\n",
       "      <td>0</td>\n",
       "      <td>NaN</td>\n",
       "      <td>NaN</td>\n",
       "      <td>NaN</td>\n",
       "    </tr>\n",
       "    <tr>\n",
       "      <th>2</th>\n",
       "      <td>1</td>\n",
       "      <td>3</td>\n",
       "      <td>2015-07-29</td>\n",
       "      <td>4782</td>\n",
       "      <td>523</td>\n",
       "      <td>1</td>\n",
       "      <td>1</td>\n",
       "      <td>None</td>\n",
       "      <td>1</td>\n",
       "      <td>c</td>\n",
       "      <td>a</td>\n",
       "      <td>1270.0</td>\n",
       "      <td>9.0</td>\n",
       "      <td>2008.0</td>\n",
       "      <td>0</td>\n",
       "      <td>NaN</td>\n",
       "      <td>NaN</td>\n",
       "      <td>NaN</td>\n",
       "    </tr>\n",
       "    <tr>\n",
       "      <th>3</th>\n",
       "      <td>1</td>\n",
       "      <td>2</td>\n",
       "      <td>2015-07-28</td>\n",
       "      <td>5011</td>\n",
       "      <td>560</td>\n",
       "      <td>1</td>\n",
       "      <td>1</td>\n",
       "      <td>None</td>\n",
       "      <td>1</td>\n",
       "      <td>c</td>\n",
       "      <td>a</td>\n",
       "      <td>1270.0</td>\n",
       "      <td>9.0</td>\n",
       "      <td>2008.0</td>\n",
       "      <td>0</td>\n",
       "      <td>NaN</td>\n",
       "      <td>NaN</td>\n",
       "      <td>NaN</td>\n",
       "    </tr>\n",
       "    <tr>\n",
       "      <th>4</th>\n",
       "      <td>1</td>\n",
       "      <td>1</td>\n",
       "      <td>2015-07-27</td>\n",
       "      <td>6102</td>\n",
       "      <td>612</td>\n",
       "      <td>1</td>\n",
       "      <td>1</td>\n",
       "      <td>None</td>\n",
       "      <td>1</td>\n",
       "      <td>c</td>\n",
       "      <td>a</td>\n",
       "      <td>1270.0</td>\n",
       "      <td>9.0</td>\n",
       "      <td>2008.0</td>\n",
       "      <td>0</td>\n",
       "      <td>NaN</td>\n",
       "      <td>NaN</td>\n",
       "      <td>NaN</td>\n",
       "    </tr>\n",
       "    <tr>\n",
       "      <th>...</th>\n",
       "      <td>...</td>\n",
       "      <td>...</td>\n",
       "      <td>...</td>\n",
       "      <td>...</td>\n",
       "      <td>...</td>\n",
       "      <td>...</td>\n",
       "      <td>...</td>\n",
       "      <td>...</td>\n",
       "      <td>...</td>\n",
       "      <td>...</td>\n",
       "      <td>...</td>\n",
       "      <td>...</td>\n",
       "      <td>...</td>\n",
       "      <td>...</td>\n",
       "      <td>...</td>\n",
       "      <td>...</td>\n",
       "      <td>...</td>\n",
       "      <td>...</td>\n",
       "    </tr>\n",
       "    <tr>\n",
       "      <th>995</th>\n",
       "      <td>2</td>\n",
       "      <td>1</td>\n",
       "      <td>2015-06-08</td>\n",
       "      <td>3918</td>\n",
       "      <td>501</td>\n",
       "      <td>1</td>\n",
       "      <td>0</td>\n",
       "      <td>None</td>\n",
       "      <td>0</td>\n",
       "      <td>a</td>\n",
       "      <td>a</td>\n",
       "      <td>570.0</td>\n",
       "      <td>11.0</td>\n",
       "      <td>2007.0</td>\n",
       "      <td>1</td>\n",
       "      <td>13.0</td>\n",
       "      <td>2010.0</td>\n",
       "      <td>Jan,Apr,Jul,Oct</td>\n",
       "    </tr>\n",
       "    <tr>\n",
       "      <th>996</th>\n",
       "      <td>2</td>\n",
       "      <td>7</td>\n",
       "      <td>2015-06-07</td>\n",
       "      <td>0</td>\n",
       "      <td>0</td>\n",
       "      <td>0</td>\n",
       "      <td>0</td>\n",
       "      <td>None</td>\n",
       "      <td>0</td>\n",
       "      <td>a</td>\n",
       "      <td>a</td>\n",
       "      <td>570.0</td>\n",
       "      <td>11.0</td>\n",
       "      <td>2007.0</td>\n",
       "      <td>1</td>\n",
       "      <td>13.0</td>\n",
       "      <td>2010.0</td>\n",
       "      <td>Jan,Apr,Jul,Oct</td>\n",
       "    </tr>\n",
       "    <tr>\n",
       "      <th>997</th>\n",
       "      <td>2</td>\n",
       "      <td>6</td>\n",
       "      <td>2015-06-06</td>\n",
       "      <td>2641</td>\n",
       "      <td>319</td>\n",
       "      <td>1</td>\n",
       "      <td>0</td>\n",
       "      <td>None</td>\n",
       "      <td>0</td>\n",
       "      <td>a</td>\n",
       "      <td>a</td>\n",
       "      <td>570.0</td>\n",
       "      <td>11.0</td>\n",
       "      <td>2007.0</td>\n",
       "      <td>1</td>\n",
       "      <td>13.0</td>\n",
       "      <td>2010.0</td>\n",
       "      <td>Jan,Apr,Jul,Oct</td>\n",
       "    </tr>\n",
       "    <tr>\n",
       "      <th>998</th>\n",
       "      <td>2</td>\n",
       "      <td>5</td>\n",
       "      <td>2015-06-05</td>\n",
       "      <td>4938</td>\n",
       "      <td>532</td>\n",
       "      <td>1</td>\n",
       "      <td>1</td>\n",
       "      <td>None</td>\n",
       "      <td>0</td>\n",
       "      <td>a</td>\n",
       "      <td>a</td>\n",
       "      <td>570.0</td>\n",
       "      <td>11.0</td>\n",
       "      <td>2007.0</td>\n",
       "      <td>1</td>\n",
       "      <td>13.0</td>\n",
       "      <td>2010.0</td>\n",
       "      <td>Jan,Apr,Jul,Oct</td>\n",
       "    </tr>\n",
       "    <tr>\n",
       "      <th>999</th>\n",
       "      <td>2</td>\n",
       "      <td>4</td>\n",
       "      <td>2015-06-04</td>\n",
       "      <td>5810</td>\n",
       "      <td>646</td>\n",
       "      <td>1</td>\n",
       "      <td>1</td>\n",
       "      <td>None</td>\n",
       "      <td>0</td>\n",
       "      <td>a</td>\n",
       "      <td>a</td>\n",
       "      <td>570.0</td>\n",
       "      <td>11.0</td>\n",
       "      <td>2007.0</td>\n",
       "      <td>1</td>\n",
       "      <td>13.0</td>\n",
       "      <td>2010.0</td>\n",
       "      <td>Jan,Apr,Jul,Oct</td>\n",
       "    </tr>\n",
       "  </tbody>\n",
       "</table>\n",
       "<p>1000 rows × 18 columns</p>\n",
       "</div>"
      ],
      "text/plain": [
       "     store  day_of_week        date  sales  customers  open  promo  \\\n",
       "0        1            5  2015-07-31   5263        555     1      1   \n",
       "1        1            4  2015-07-30   5020        546     1      1   \n",
       "2        1            3  2015-07-29   4782        523     1      1   \n",
       "3        1            2  2015-07-28   5011        560     1      1   \n",
       "4        1            1  2015-07-27   6102        612     1      1   \n",
       "..     ...          ...         ...    ...        ...   ...    ...   \n",
       "995      2            1  2015-06-08   3918        501     1      0   \n",
       "996      2            7  2015-06-07      0          0     0      0   \n",
       "997      2            6  2015-06-06   2641        319     1      0   \n",
       "998      2            5  2015-06-05   4938        532     1      1   \n",
       "999      2            4  2015-06-04   5810        646     1      1   \n",
       "\n",
       "    state_holiday  school_holiday store_type assortment  competition_distance  \\\n",
       "0            None               1          c          a                1270.0   \n",
       "1            None               1          c          a                1270.0   \n",
       "2            None               1          c          a                1270.0   \n",
       "3            None               1          c          a                1270.0   \n",
       "4            None               1          c          a                1270.0   \n",
       "..            ...             ...        ...        ...                   ...   \n",
       "995          None               0          a          a                 570.0   \n",
       "996          None               0          a          a                 570.0   \n",
       "997          None               0          a          a                 570.0   \n",
       "998          None               0          a          a                 570.0   \n",
       "999          None               0          a          a                 570.0   \n",
       "\n",
       "     competition_open_since_month  competition_open_since_year  promo2  \\\n",
       "0                             9.0                       2008.0       0   \n",
       "1                             9.0                       2008.0       0   \n",
       "2                             9.0                       2008.0       0   \n",
       "3                             9.0                       2008.0       0   \n",
       "4                             9.0                       2008.0       0   \n",
       "..                            ...                          ...     ...   \n",
       "995                          11.0                       2007.0       1   \n",
       "996                          11.0                       2007.0       1   \n",
       "997                          11.0                       2007.0       1   \n",
       "998                          11.0                       2007.0       1   \n",
       "999                          11.0                       2007.0       1   \n",
       "\n",
       "     promo2_since_week  promo2_since_year   promo_interval  \n",
       "0                  NaN                NaN              NaN  \n",
       "1                  NaN                NaN              NaN  \n",
       "2                  NaN                NaN              NaN  \n",
       "3                  NaN                NaN              NaN  \n",
       "4                  NaN                NaN              NaN  \n",
       "..                 ...                ...              ...  \n",
       "995               13.0             2010.0  Jan,Apr,Jul,Oct  \n",
       "996               13.0             2010.0  Jan,Apr,Jul,Oct  \n",
       "997               13.0             2010.0  Jan,Apr,Jul,Oct  \n",
       "998               13.0             2010.0  Jan,Apr,Jul,Oct  \n",
       "999               13.0             2010.0  Jan,Apr,Jul,Oct  \n",
       "\n",
       "[1000 rows x 18 columns]"
      ]
     },
     "execution_count": 9,
     "metadata": {},
     "output_type": "execute_result"
    }
   ],
   "source": [
    "#a = public holiday, b = Easter holiday, c = Christmas, 0 = None\n",
    "sales[\"state_holiday\"].replace({\"a\": \"public_holiday\", \"b\": \"easter_holiday\", \"c\": \"christmas\", \"0\": \"None\", 0: \"None\"}, inplace=True)\n",
    "print(sales.state_holiday.unique())\n",
    "sales.head(1000)"
   ]
  },
  {
   "cell_type": "code",
   "execution_count": 10,
   "metadata": {
    "cell_id": "ae2d9769-b629-4153-8420-bbc337e6ce8a",
    "deepnote_cell_height": 463.5625,
    "deepnote_cell_type": "code",
    "deepnote_output_heights": [
     366.5625
    ],
    "deepnote_to_be_reexecuted": false,
    "execution_millis": 242,
    "execution_start": 1645467644255,
    "source_hash": "8cf44aad",
    "tags": []
   },
   "outputs": [
    {
     "data": {
      "text/plain": [
       "store                                0\n",
       "day_of_week                          0\n",
       "date                                 0\n",
       "sales                                0\n",
       "customers                            0\n",
       "open                                 0\n",
       "promo                                0\n",
       "state_holiday                        0\n",
       "school_holiday                       0\n",
       "store_type                           0\n",
       "assortment                           0\n",
       "competition_distance              2642\n",
       "competition_open_since_month    323348\n",
       "competition_open_since_year     323348\n",
       "promo2                               0\n",
       "promo2_since_week               508031\n",
       "promo2_since_year               508031\n",
       "promo_interval                  508031\n",
       "dtype: int64"
      ]
     },
     "execution_count": 10,
     "metadata": {},
     "output_type": "execute_result"
    }
   ],
   "source": [
    "sales.isna().sum()"
   ]
  },
  {
   "cell_type": "code",
   "execution_count": 11,
   "metadata": {
    "cell_id": "d5599069-5324-4742-96cd-5068471c7c83",
    "deepnote_cell_height": 481.5625,
    "deepnote_cell_type": "code",
    "deepnote_output_heights": [
     366.5625
    ],
    "deepnote_to_be_reexecuted": false,
    "execution_millis": 260,
    "execution_start": 1645467644510,
    "source_hash": "6a96b72e",
    "tags": []
   },
   "outputs": [
    {
     "data": {
      "text/plain": [
       "store                                0\n",
       "day_of_week                          0\n",
       "date                                 0\n",
       "sales                                0\n",
       "customers                            0\n",
       "open                                 0\n",
       "promo                                0\n",
       "state_holiday                        0\n",
       "school_holiday                       0\n",
       "store_type                           0\n",
       "assortment                           0\n",
       "competition_distance                 0\n",
       "competition_open_since_month    323348\n",
       "competition_open_since_year     323348\n",
       "promo2                               0\n",
       "promo2_since_week               508031\n",
       "promo2_since_year               508031\n",
       "promo_interval                  508031\n",
       "dtype: int64"
      ]
     },
     "execution_count": 11,
     "metadata": {},
     "output_type": "execute_result"
    }
   ],
   "source": [
    "sales[\"competition_distance\"].fillna(sales[\"competition_distance\"].max(), inplace = True)\n",
    "sales.isna().sum()"
   ]
  },
  {
   "cell_type": "code",
   "execution_count": 12,
   "metadata": {
    "cell_id": "2233b497-26da-4c34-9651-8a763d89a612",
    "deepnote_cell_height": 185.84375,
    "deepnote_cell_type": "code",
    "deepnote_output_heights": [
     21.1875
    ],
    "deepnote_to_be_reexecuted": false,
    "execution_millis": 64,
    "execution_start": 1645467644774,
    "source_hash": "64f9516a",
    "tags": []
   },
   "outputs": [
    {
     "name": "stdout",
     "output_type": "stream",
     "text": [
      "(1017209, 18)\n",
      "(1017209, 16)\n"
     ]
    }
   ],
   "source": [
    "#Colunas excluídas \n",
    "print(sales.shape)\n",
    "sales.drop([\"assortment\", \"competition_open_since_month\"], axis=1, inplace=True)\n",
    "print(sales.shape)"
   ]
  },
  {
   "cell_type": "code",
   "execution_count": 13,
   "metadata": {
    "cell_id": "0fcb6a48-3610-47f4-ae6d-8e72a6caa606",
    "deepnote_cell_height": 329.375,
    "deepnote_cell_type": "code",
    "deepnote_output_heights": [
     232.375
    ],
    "deepnote_to_be_reexecuted": false,
    "execution_millis": 517,
    "execution_start": 1645467644848,
    "source_hash": "3d366b96",
    "tags": []
   },
   "outputs": [
    {
     "data": {
      "text/plain": [
       "0          2013\n",
       "1          2013\n",
       "2          2013\n",
       "3          2013\n",
       "4          2013\n",
       "           ... \n",
       "1017204    2013\n",
       "1017205    2013\n",
       "1017206    2013\n",
       "1017207    2013\n",
       "1017208    2013\n",
       "Name: date, Length: 1017209, dtype: int64"
      ]
     },
     "execution_count": 13,
     "metadata": {},
     "output_type": "execute_result"
    }
   ],
   "source": [
    "sales.groupby(\"store\")[\"date\"].transform(lambda x: x.min().year)"
   ]
  },
  {
   "cell_type": "code",
   "execution_count": 14,
   "metadata": {
    "cell_id": "52058799-6ca8-42c9-b91d-b5bfd1f41097",
    "deepnote_cell_height": 396,
    "deepnote_cell_type": "code",
    "deepnote_output_heights": [
     328.1875
    ],
    "deepnote_to_be_reexecuted": false,
    "execution_millis": 65,
    "execution_start": 1645467645375,
    "source_hash": "91e34f81",
    "tags": []
   },
   "outputs": [
    {
     "data": {
      "text/html": [
       "<div>\n",
       "<style scoped>\n",
       "    .dataframe tbody tr th:only-of-type {\n",
       "        vertical-align: middle;\n",
       "    }\n",
       "\n",
       "    .dataframe tbody tr th {\n",
       "        vertical-align: top;\n",
       "    }\n",
       "\n",
       "    .dataframe thead th {\n",
       "        text-align: right;\n",
       "    }\n",
       "</style>\n",
       "<table border=\"1\" class=\"dataframe\">\n",
       "  <thead>\n",
       "    <tr style=\"text-align: right;\">\n",
       "      <th></th>\n",
       "      <th>store</th>\n",
       "      <th>day_of_week</th>\n",
       "      <th>date</th>\n",
       "      <th>sales</th>\n",
       "      <th>customers</th>\n",
       "      <th>open</th>\n",
       "      <th>promo</th>\n",
       "      <th>state_holiday</th>\n",
       "      <th>school_holiday</th>\n",
       "      <th>store_type</th>\n",
       "      <th>competition_distance</th>\n",
       "      <th>competition_open_since_year</th>\n",
       "      <th>promo2</th>\n",
       "      <th>promo2_since_week</th>\n",
       "      <th>promo2_since_year</th>\n",
       "      <th>promo_interval</th>\n",
       "    </tr>\n",
       "  </thead>\n",
       "  <tbody>\n",
       "    <tr>\n",
       "      <th>0</th>\n",
       "      <td>1</td>\n",
       "      <td>5</td>\n",
       "      <td>2015-07-31</td>\n",
       "      <td>5263</td>\n",
       "      <td>555</td>\n",
       "      <td>1</td>\n",
       "      <td>1</td>\n",
       "      <td>None</td>\n",
       "      <td>1</td>\n",
       "      <td>c</td>\n",
       "      <td>1270.0</td>\n",
       "      <td>2008.0</td>\n",
       "      <td>0</td>\n",
       "      <td>NaN</td>\n",
       "      <td>NaN</td>\n",
       "      <td>NaN</td>\n",
       "    </tr>\n",
       "    <tr>\n",
       "      <th>1</th>\n",
       "      <td>1</td>\n",
       "      <td>4</td>\n",
       "      <td>2015-07-30</td>\n",
       "      <td>5020</td>\n",
       "      <td>546</td>\n",
       "      <td>1</td>\n",
       "      <td>1</td>\n",
       "      <td>None</td>\n",
       "      <td>1</td>\n",
       "      <td>c</td>\n",
       "      <td>1270.0</td>\n",
       "      <td>2008.0</td>\n",
       "      <td>0</td>\n",
       "      <td>NaN</td>\n",
       "      <td>NaN</td>\n",
       "      <td>NaN</td>\n",
       "    </tr>\n",
       "    <tr>\n",
       "      <th>2</th>\n",
       "      <td>1</td>\n",
       "      <td>3</td>\n",
       "      <td>2015-07-29</td>\n",
       "      <td>4782</td>\n",
       "      <td>523</td>\n",
       "      <td>1</td>\n",
       "      <td>1</td>\n",
       "      <td>None</td>\n",
       "      <td>1</td>\n",
       "      <td>c</td>\n",
       "      <td>1270.0</td>\n",
       "      <td>2008.0</td>\n",
       "      <td>0</td>\n",
       "      <td>NaN</td>\n",
       "      <td>NaN</td>\n",
       "      <td>NaN</td>\n",
       "    </tr>\n",
       "    <tr>\n",
       "      <th>3</th>\n",
       "      <td>1</td>\n",
       "      <td>2</td>\n",
       "      <td>2015-07-28</td>\n",
       "      <td>5011</td>\n",
       "      <td>560</td>\n",
       "      <td>1</td>\n",
       "      <td>1</td>\n",
       "      <td>None</td>\n",
       "      <td>1</td>\n",
       "      <td>c</td>\n",
       "      <td>1270.0</td>\n",
       "      <td>2008.0</td>\n",
       "      <td>0</td>\n",
       "      <td>NaN</td>\n",
       "      <td>NaN</td>\n",
       "      <td>NaN</td>\n",
       "    </tr>\n",
       "    <tr>\n",
       "      <th>4</th>\n",
       "      <td>1</td>\n",
       "      <td>1</td>\n",
       "      <td>2015-07-27</td>\n",
       "      <td>6102</td>\n",
       "      <td>612</td>\n",
       "      <td>1</td>\n",
       "      <td>1</td>\n",
       "      <td>None</td>\n",
       "      <td>1</td>\n",
       "      <td>c</td>\n",
       "      <td>1270.0</td>\n",
       "      <td>2008.0</td>\n",
       "      <td>0</td>\n",
       "      <td>NaN</td>\n",
       "      <td>NaN</td>\n",
       "      <td>NaN</td>\n",
       "    </tr>\n",
       "  </tbody>\n",
       "</table>\n",
       "</div>"
      ],
      "text/plain": [
       "   store  day_of_week        date  sales  customers  open  promo  \\\n",
       "0      1            5  2015-07-31   5263        555     1      1   \n",
       "1      1            4  2015-07-30   5020        546     1      1   \n",
       "2      1            3  2015-07-29   4782        523     1      1   \n",
       "3      1            2  2015-07-28   5011        560     1      1   \n",
       "4      1            1  2015-07-27   6102        612     1      1   \n",
       "\n",
       "  state_holiday  school_holiday store_type  competition_distance  \\\n",
       "0          None               1          c                1270.0   \n",
       "1          None               1          c                1270.0   \n",
       "2          None               1          c                1270.0   \n",
       "3          None               1          c                1270.0   \n",
       "4          None               1          c                1270.0   \n",
       "\n",
       "   competition_open_since_year  promo2  promo2_since_week  promo2_since_year  \\\n",
       "0                       2008.0       0                NaN                NaN   \n",
       "1                       2008.0       0                NaN                NaN   \n",
       "2                       2008.0       0                NaN                NaN   \n",
       "3                       2008.0       0                NaN                NaN   \n",
       "4                       2008.0       0                NaN                NaN   \n",
       "\n",
       "  promo_interval  \n",
       "0            NaN  \n",
       "1            NaN  \n",
       "2            NaN  \n",
       "3            NaN  \n",
       "4            NaN  "
      ]
     },
     "execution_count": 14,
     "metadata": {},
     "output_type": "execute_result"
    }
   ],
   "source": [
    "mask=sales[\"competition_open_since_year\"].isna()\n",
    "#sales.loc[mask, 'competition_open_since_year'] = sales.loc[mask, \"date\"].apply(lambda x: x.year)\n",
    "sales.loc[mask, 'competition_open_since_year'] = 2013\n",
    "sales.head(5)"
   ]
  },
  {
   "cell_type": "code",
   "execution_count": 15,
   "metadata": {
    "cell_id": "83e3b7f9-51d4-45d8-a509-1f1005cdd24d",
    "deepnote_cell_height": 461.375,
    "deepnote_cell_type": "code",
    "deepnote_output_heights": [
     328.375
    ],
    "deepnote_to_be_reexecuted": false,
    "execution_millis": 491,
    "execution_start": 1645467645448,
    "source_hash": "83207055",
    "tags": []
   },
   "outputs": [
    {
     "data": {
      "text/plain": [
       "store                               0\n",
       "day_of_week                         0\n",
       "date                                0\n",
       "sales                               0\n",
       "customers                           0\n",
       "open                                0\n",
       "promo                               0\n",
       "state_holiday                       0\n",
       "school_holiday                      0\n",
       "store_type                          0\n",
       "competition_distance                0\n",
       "competition_open_since_year         0\n",
       "promo2                              0\n",
       "promo2_since_week              508031\n",
       "promo2_since_year                   0\n",
       "promo_interval                 508031\n",
       "dtype: int64"
      ]
     },
     "execution_count": 15,
     "metadata": {},
     "output_type": "execute_result"
    }
   ],
   "source": [
    "sales['promo2_since_year'].replace(np.nan, 0, inplace=True)\n",
    "sales['promo2_since_year'] = sales['promo2_since_year'].astype(np.int32)\n",
    "sales.isna().sum()"
   ]
  },
  {
   "cell_type": "code",
   "execution_count": 16,
   "metadata": {
    "cell_id": "7df680d1-71fc-480c-a5a6-469c32e9b75e",
    "deepnote_cell_height": 507.296875,
    "deepnote_cell_type": "code",
    "deepnote_output_heights": [
     null,
     328.375
    ],
    "deepnote_to_be_reexecuted": false,
    "execution_millis": 297,
    "execution_start": 1645467645734,
    "source_hash": "fc7d1141",
    "tags": []
   },
   "outputs": [
    {
     "name": "stdout",
     "output_type": "stream",
     "text": [
      "[nan 'Jan,Apr,Jul,Oct' 'Feb,May,Aug,Nov' 'Mar,Jun,Sept,Dec']\n"
     ]
    },
    {
     "data": {
      "text/plain": [
       "store                               0\n",
       "day_of_week                         0\n",
       "date                                0\n",
       "sales                               0\n",
       "customers                           0\n",
       "open                                0\n",
       "promo                               0\n",
       "state_holiday                       0\n",
       "school_holiday                      0\n",
       "store_type                          0\n",
       "competition_distance                0\n",
       "competition_open_since_year         0\n",
       "promo2                              0\n",
       "promo2_since_week              508031\n",
       "promo2_since_year                   0\n",
       "promo_interval                      0\n",
       "dtype: int64"
      ]
     },
     "execution_count": 16,
     "metadata": {},
     "output_type": "execute_result"
    }
   ],
   "source": [
    "print(sales[\"promo_interval\"].unique())\n",
    "sales[\"promo_interval\"].replace(np.nan, \"None\", inplace=True)\n",
    "sales.isna().sum()"
   ]
  },
  {
   "cell_type": "code",
   "execution_count": 17,
   "metadata": {
    "cell_id": "597aab77-5ed2-4ecd-8d48-390c0aabf174",
    "deepnote_cell_height": 424.15625,
    "deepnote_cell_type": "code",
    "deepnote_output_heights": [
     309.171875
    ],
    "deepnote_to_be_reexecuted": false,
    "execution_millis": 213,
    "execution_start": 1645467646067,
    "source_hash": "5a887175",
    "tags": []
   },
   "outputs": [
    {
     "data": {
      "text/plain": [
       "store                          0\n",
       "day_of_week                    0\n",
       "date                           0\n",
       "sales                          0\n",
       "customers                      0\n",
       "open                           0\n",
       "promo                          0\n",
       "state_holiday                  0\n",
       "school_holiday                 0\n",
       "store_type                     0\n",
       "competition_distance           0\n",
       "competition_open_since_year    0\n",
       "promo2                         0\n",
       "promo2_since_year              0\n",
       "promo_interval                 0\n",
       "dtype: int64"
      ]
     },
     "execution_count": 17,
     "metadata": {},
     "output_type": "execute_result"
    }
   ],
   "source": [
    "sales.drop([\"promo2_since_week\"], axis=1, inplace=True)\n",
    "sales.isna().sum()"
   ]
  },
  {
   "cell_type": "code",
   "execution_count": 18,
   "metadata": {
    "cell_id": "46255b61-68c0-43ff-9a44-1f12b463f8a6",
    "deepnote_cell_type": "code",
    "deepnote_to_be_reexecuted": false,
    "execution_millis": 3829,
    "execution_start": 1645467646466,
    "source_hash": "baaf94b4",
    "tags": []
   },
   "outputs": [
    {
     "data": {
      "text/plain": [
       "<AxesSubplot:>"
      ]
     },
     "execution_count": 18,
     "metadata": {},
     "output_type": "execute_result"
    },
    {
     "data": {
      "image/png": "[encoded data removed]",
      "text/plain": [
       "<Figure size 1800x720 with 2 Axes>"
      ]
     },
     "metadata": {
      "needs_background": "light"
     },
     "output_type": "display_data"
    }
   ],
   "source": [
    "msno.matrix(sales)"
   ]
  },
  {
   "cell_type": "markdown",
   "metadata": {
    "cell_id": "ab1de2d2-fd01-4039-b69e-ca8ec7be269b",
    "deepnote_cell_type": "markdown",
    "tags": []
   },
   "source": [
    "Perguntas"
   ]
  },
  {
   "cell_type": "code",
   "execution_count": 19,
   "metadata": {
    "cell_id": "5470d9af-4890-4b9d-92ca-059786a280e1",
    "deepnote_cell_height": 214,
    "deepnote_cell_type": "code",
    "deepnote_output_heights": [
     40
    ],
    "deepnote_to_be_reexecuted": false,
    "execution_millis": 595,
    "execution_start": 1645467650291,
    "source_hash": "8030774a",
    "tags": []
   },
   "outputs": [
    {
     "data": {
      "text/html": [
       "<div>\n",
       "<style scoped>\n",
       "    .dataframe tbody tr th:only-of-type {\n",
       "        vertical-align: middle;\n",
       "    }\n",
       "\n",
       "    .dataframe tbody tr th {\n",
       "        vertical-align: top;\n",
       "    }\n",
       "\n",
       "    .dataframe thead th {\n",
       "        text-align: right;\n",
       "    }\n",
       "</style>\n",
       "<table border=\"1\" class=\"dataframe\">\n",
       "  <thead>\n",
       "    <tr style=\"text-align: right;\">\n",
       "      <th></th>\n",
       "      <th>sales</th>\n",
       "    </tr>\n",
       "    <tr>\n",
       "      <th>store</th>\n",
       "      <th></th>\n",
       "    </tr>\n",
       "  </thead>\n",
       "  <tbody>\n",
       "    <tr>\n",
       "      <th>262</th>\n",
       "      <td>19516842</td>\n",
       "    </tr>\n",
       "  </tbody>\n",
       "</table>\n",
       "</div>"
      ],
      "text/plain": [
       "          sales\n",
       "store          \n",
       "262    19516842"
      ]
     },
     "execution_count": 19,
     "metadata": {},
     "output_type": "execute_result"
    }
   ],
   "source": [
    "# Qual loja fez mais vendas?\n",
    "#sales.groupby(\"store\")[\"sales\"].sum().sort_values(ascending=False)\n",
    "sales.groupby(\"store\")[[\"sales\"]].sum().sort_values(\"sales\", ascending=False).head(1)"
   ]
  },
  {
   "cell_type": "code",
   "execution_count": 20,
   "metadata": {
    "cell_id": "df0e3132-1675-49ea-9929-8d40116b6aef",
    "deepnote_cell_type": "code",
    "deepnote_to_be_reexecuted": true,
    "execution_millis": 1276,
    "execution_start": 1645461845456,
    "source_hash": "4468f304",
    "tags": []
   },
   "outputs": [
    {
     "ename": "NameError",
     "evalue": "name 'EngFormatter' is not defined",
     "output_type": "error",
     "traceback": [
      "\u001b[1;31m---------------------------------------------------------------------------\u001b[0m",
      "\u001b[1;31mNameError\u001b[0m                                 Traceback (most recent call last)",
      "\u001b[1;32m<ipython-input-20-09e5ebc630d3>\u001b[0m in \u001b[0;36m<module>\u001b[1;34m\u001b[0m\n\u001b[0;32m      5\u001b[0m \u001b[0max\u001b[0m\u001b[1;33m.\u001b[0m\u001b[0mset_ylabel\u001b[0m\u001b[1;33m(\u001b[0m\u001b[1;34m\"Quantidade de vendas (em milhões)\"\u001b[0m\u001b[1;33m)\u001b[0m\u001b[1;33m\u001b[0m\u001b[1;33m\u001b[0m\u001b[0m\n\u001b[0;32m      6\u001b[0m \u001b[0max\u001b[0m\u001b[1;33m.\u001b[0m\u001b[0mset_xlabel\u001b[0m\u001b[1;33m(\u001b[0m\u001b[1;34m\"Identificador da loja\"\u001b[0m\u001b[1;33m)\u001b[0m\u001b[1;33m\u001b[0m\u001b[1;33m\u001b[0m\u001b[0m\n\u001b[1;32m----> 7\u001b[1;33m \u001b[0max\u001b[0m\u001b[1;33m.\u001b[0m\u001b[0myaxis\u001b[0m\u001b[1;33m.\u001b[0m\u001b[0mset_major_formatter\u001b[0m\u001b[1;33m(\u001b[0m\u001b[0mEngFormatter\u001b[0m\u001b[1;33m(\u001b[0m\u001b[1;33m)\u001b[0m\u001b[1;33m)\u001b[0m\u001b[1;33m\u001b[0m\u001b[1;33m\u001b[0m\u001b[0m\n\u001b[0m\u001b[0;32m      8\u001b[0m \u001b[0mplt\u001b[0m\u001b[1;33m.\u001b[0m\u001b[0mshow\u001b[0m\u001b[1;33m(\u001b[0m\u001b[1;33m)\u001b[0m\u001b[1;33m\u001b[0m\u001b[1;33m\u001b[0m\u001b[0m\n",
      "\u001b[1;31mNameError\u001b[0m: name 'EngFormatter' is not defined"
     ]
    },
    {
     "data": {
      "image/png": "[encoded data removed]",
      "text/plain": [
       "<Figure size 360x432 with 1 Axes>"
      ]
     },
     "metadata": {
      "needs_background": "light"
     },
     "output_type": "display_data"
    }
   ],
   "source": [
    "fig, ax=plt.subplots(figsize=(5, 6))\n",
    "mean_cs = sales.pivot_table(index='store', values='sales', aggfunc='sum')\n",
    "plt.scatter(mean_cs.index, mean_cs['sales']);\n",
    "ax.set_title(\"Vendas por loja\")\n",
    "ax.set_ylabel(\"Quantidade de vendas (em milhões)\")\n",
    "ax.set_xlabel(\"Identificador da loja\")\n",
    "ax.yaxis.set_major_formatter(EngFormatter())\n",
    "plt.show()"
   ]
  },
  {
   "cell_type": "code",
   "execution_count": 31,
   "metadata": {
    "cell_id": "7e481beb-8468-4410-81b6-ac050b85ddaa",
    "deepnote_cell_type": "code",
    "deepnote_to_be_reexecuted": true,
    "execution_millis": 191,
    "execution_start": 1645443541455,
    "source_hash": "ee06a9e8",
    "tags": []
   },
   "outputs": [
    {
     "name": "stderr",
     "output_type": "stream",
     "text": [
      "C:\\Users\\joao\\anaconda3\\lib\\site-packages\\seaborn\\_decorators.py:36: FutureWarning: Pass the following variables as keyword args: x, y. From version 0.12, the only valid positional argument will be `data`, and passing other arguments without an explicit keyword will result in an error or misinterpretation.\n",
      "  warnings.warn(\n"
     ]
    },
    {
     "data": {
      "image/png": "[encoded data removed]",
      "text/plain": [
       "<Figure size 360x432 with 1 Axes>"
      ]
     },
     "metadata": {
      "needs_background": "light"
     },
     "output_type": "display_data"
    }
   ],
   "source": [
    "import matplotlib\n",
    "from matplotlib.ticker import FormatStrFormatter\n",
    "from matplotlib.ticker import EngFormatter\n",
    "#matplotlib.style.use('tableau-colorblind10')\n",
    "#matplotlib.style.use('fivethirtyeight')\n",
    "fig, ax=plt.subplots(figsize=(5, 6))\n",
    "df=sales.groupby(\"store\")[[\"sales\"]].sum().sort_values(\"sales\", ascending=False).head(5)\n",
    "clrs = ['grey' if (x < max(df)) else 'royalblue' for x in df]\n",
    "sns.barplot(df.index, df.sales, ci=None, estimator=sum, palette=clrs)\n",
    "ax.set_title(\"Vendas por loja\")\n",
    "ax.set_ylabel(\"Quantidade de vendas (em milhões)\")\n",
    "ax.set_xlabel(\"Identificador da loja\")\n",
    "ax.yaxis.set_major_formatter(EngFormatter())\n",
    "#ax.yaxis.set_major_formatter(FormatStrFormatter(\"%.f\"))\n",
    "ax.set_yticks(np.arange(0, 25000000, step=5000000));\n",
    "plt.show()"
   ]
  },
  {
   "cell_type": "code",
   "execution_count": 26,
   "metadata": {
    "cell_id": "378df69a-4ea1-406a-b663-f91c92c9acf7",
    "deepnote_cell_type": "code",
    "deepnote_to_be_reexecuted": true,
    "execution_millis": 234,
    "execution_start": 1645442526419,
    "source_hash": "3fc2b326",
    "tags": []
   },
   "outputs": [
    {
     "name": "stderr",
     "output_type": "stream",
     "text": [
      "C:\\Users\\joao\\anaconda3\\lib\\site-packages\\seaborn\\_decorators.py:36: FutureWarning: Pass the following variables as keyword args: x, y. From version 0.12, the only valid positional argument will be `data`, and passing other arguments without an explicit keyword will result in an error or misinterpretation.\n",
      "  warnings.warn(\n"
     ]
    },
    {
     "data": {
      "image/png": "[encoded data removed]",
      "text/plain": [
       "<Figure size 360x432 with 1 Axes>"
      ]
     },
     "metadata": {
      "needs_background": "light"
     },
     "output_type": "display_data"
    }
   ],
   "source": [
    "import matplotlib\n",
    "from matplotlib.ticker import FormatStrFormatter\n",
    "from matplotlib.ticker import EngFormatter\n",
    "matplotlib.style.use('tableau-colorblind10')\n",
    "#https://matplotlib.org/stable/gallery/style_sheets/style_sheets_reference.html\n",
    "fig, ax=plt.subplots(figsize=(5, 6))\n",
    "df=sales.groupby(\"store\")[[\"sales\"]].sum().sort_values(\"sales\", ascending=False).tail(5)\n",
    "sns.barplot(df.index, df.sales, ci=None, estimator=sum)\n",
    "ax.set_title(\"Vendas por loja\")\n",
    "ax.set_ylabel(\"Quantidade de vendas (em milhões)\")\n",
    "ax.set_xlabel(\"Identificador da loja\")\n",
    "ax.yaxis.set_major_formatter(EngFormatter())\n",
    "ax.set_ylim(0, 2500000)\n",
    "ax.set_yticks(np.arange(0, 3000000, step=500000))\n",
    "plt.show()"
   ]
  },
  {
   "cell_type": "code",
   "execution_count": null,
   "metadata": {
    "cell_id": "57861f03-8add-4bc1-aedf-a6a48da99f1d",
    "deepnote_cell_height": 214,
    "deepnote_cell_type": "code",
    "deepnote_output_heights": [
     40
    ],
    "deepnote_to_be_reexecuted": true,
    "execution_millis": 80,
    "execution_start": 1645442526652,
    "source_hash": "8d6a15b8",
    "tags": []
   },
   "outputs": [],
   "source": [
    "# Qual loja tem a maior média de clientes?\n",
    "sales.groupby(\"store\")[[\"customers\"]].mean().sort_values(\"customers\", ascending=False).iloc[0, :]\n",
    "sales.groupby(\"store\")[[\"customers\"]].mean().sort_values(\"customers\", ascending=False).head(1)"
   ]
  },
  {
   "cell_type": "code",
   "execution_count": null,
   "metadata": {
    "cell_id": "f804ef74-01e6-4914-841d-ee1fbd5f7039",
    "deepnote_cell_type": "code",
    "deepnote_to_be_reexecuted": true,
    "execution_millis": 278,
    "execution_start": 1645444172124,
    "source_hash": "b298daf4",
    "tags": []
   },
   "outputs": [],
   "source": [
    "fig, ax=plt.subplots(figsize=(5, 6))\n",
    "df=sales.groupby(\"store\")[[\"customers\"]].mean().sort_values(\"customers\", ascending=False).head(5)\n",
    "sns.barplot(df.index, df.customers, ci=None, estimator=sum)\n",
    "ax.set_title(\"Média de clientes por loja\")\n",
    "ax.set_ylabel(\"Quantidade de clientes (em milhares)\")\n",
    "ax.set_xlabel(\"Identificador da loja\")\n",
    "ax.yaxis.set_major_formatter(EngFormatter())\n",
    "plt.show()"
   ]
  },
  {
   "cell_type": "code",
   "execution_count": null,
   "metadata": {
    "cell_id": "fbce3fc7-600a-4540-a233-fde20a9712c7",
    "deepnote_cell_type": "code",
    "deepnote_to_be_reexecuted": true,
    "execution_millis": 238,
    "execution_start": 1645444265221,
    "source_hash": "1af28f83",
    "tags": []
   },
   "outputs": [],
   "source": [
    "fig, ax=plt.subplots(figsize=(5, 6))\n",
    "df=sales.groupby(\"store\")[[\"customers\"]].mean().sort_values(\"customers\", ascending=False).tail(5)\n",
    "sns.barplot(df.index, df.customers, ci=None, estimator=sum)\n",
    "ax.set_title(\"Média de clientes por loja\")\n",
    "ax.set_ylabel(\"Quantidade de clientes\")\n",
    "ax.set_xlabel(\"Identificador da loja\")\n",
    "ax.yaxis.set_major_formatter(EngFormatter())\n",
    "plt.show()"
   ]
  },
  {
   "cell_type": "code",
   "execution_count": null,
   "metadata": {
    "cell_id": "efa5af92-f53b-4624-bd56-adbe77c0f49f",
    "deepnote_cell_height": 616,
    "deepnote_cell_type": "code",
    "deepnote_to_be_reexecuted": true,
    "execution_millis": 42,
    "execution_start": 1645442526737,
    "source_hash": "322fb35c",
    "tags": []
   },
   "outputs": [],
   "source": [
    "# Qual a média de clientes por loja?\n",
    "sales.groupby(\"store\")[[\"customers\"]].mean()"
   ]
  },
  {
   "cell_type": "code",
   "execution_count": null,
   "metadata": {
    "cell_id": "4472e265-4db1-4823-861c-a66e1373b081",
    "deepnote_cell_height": 449,
    "deepnote_cell_type": "code",
    "deepnote_output_heights": [
     280
    ],
    "deepnote_to_be_reexecuted": true,
    "execution_millis": 316,
    "execution_start": 1645444593781,
    "source_hash": "313adb8c",
    "tags": []
   },
   "outputs": [],
   "source": [
    "fig, ax=plt.subplots(figsize=(5, 6))\n",
    "mean_cs = sales.pivot_table(index='store', values='customers', aggfunc='mean')\n",
    "plt.scatter(mean_cs.index, mean_cs['customers']);\n",
    "ax.set_title(\"Média de clientes por loja\")\n",
    "ax.set_ylabel(\"Quantidade de clientes (em milhares)\")\n",
    "ax.set_xlabel(\"Identificador da loja\")\n",
    "ax.yaxis.set_major_formatter(EngFormatter())\n",
    "plt.show()"
   ]
  },
  {
   "cell_type": "code",
   "execution_count": null,
   "metadata": {
    "cell_id": "96654641-a9cd-4868-8d4b-6297e30a2765",
    "deepnote_cell_type": "code",
    "deepnote_to_be_reexecuted": true,
    "execution_millis": 232663,
    "execution_start": 1645446495171,
    "source_hash": "961d2d45",
    "tags": []
   },
   "outputs": [],
   "source": [
    "#import scipy.stats as stats\n",
    "#g=sns.jointplot(x=\"customers\", y=\"sales\", data=sales, kind=\"reg\", joint_kws={'line_kws':{'color':'cyan'}})\n",
    "#r, p=stats.pearsonr(sales.customers, sales.sales)\n",
    "#phantom,=g.ax_joint.plot([], [], linestyle=\"\", alpha=0)\n",
    "#g.ax_joint.legend([phantom],[\"r={:f}, p-value={:f}\".format(r, p)])"
   ]
  },
  {
   "cell_type": "code",
   "execution_count": null,
   "metadata": {
    "cell_id": "1b175444-962c-4564-aa8d-aabdaa4d9b21",
    "deepnote_cell_height": 616,
    "deepnote_cell_type": "code",
    "deepnote_table_loading": false,
    "deepnote_table_state": {
     "filters": [],
     "pageIndex": 0,
     "pageSize": 10,
     "sortBy": []
    },
    "deepnote_to_be_reexecuted": true,
    "execution_millis": 142,
    "execution_start": 1645442527227,
    "source_hash": "20e7da75",
    "tags": []
   },
   "outputs": [],
   "source": [
    "# Qual loja passou mais dias com produtos em promoção?\n",
    "sales.groupby(\"store\")[[\"promo\"]].sum().sort_values(\"promo\",ascending=False).head(15)"
   ]
  },
  {
   "cell_type": "code",
   "execution_count": null,
   "metadata": {
    "cell_id": "5a7ca789-35ad-4db9-923d-871d5001405b",
    "deepnote_cell_height": 84,
    "deepnote_cell_type": "code",
    "deepnote_to_be_reexecuted": true,
    "execution_millis": 931,
    "execution_start": 1645442527271,
    "source_hash": "db0b3a80",
    "tags": []
   },
   "outputs": [],
   "source": [
    "sns.heatmap(sales.promo,cmap='coolwarm');\n",
    "# 360 dias em promoção num período aproximado de 3 anos ou 1.095 dias, média de 120 dias ou 32% do ano em promoção."
   ]
  },
  {
   "cell_type": "code",
   "execution_count": null,
   "metadata": {
    "cell_id": "eb5b7107-3867-4b1f-9379-7570a044dc5b",
    "deepnote_cell_type": "code",
    "deepnote_to_be_reexecuted": true,
    "execution_millis": 1727,
    "execution_start": 1645225827162,
    "source_hash": "9d6ac86a",
    "tags": []
   },
   "outputs": [],
   "source": [
    "sns.catplot(data=sales, x=\"year\", y=\"sales\", kind=\"bar\", estimator=sum, ci=None)"
   ]
  },
  {
   "cell_type": "code",
   "execution_count": null,
   "metadata": {
    "cell_id": "fe15745a-69aa-46e7-8629-a43a85b31fb3",
    "deepnote_cell_height": 84,
    "deepnote_cell_type": "code",
    "deepnote_to_be_reexecuted": true,
    "execution_millis": 283,
    "execution_start": 1645461859946,
    "source_hash": "f5de81e2",
    "tags": []
   },
   "outputs": [],
   "source": [
    "# Qual foi o total de vendas por ano?\n",
    "import matplotlib\n",
    "matplotlib.style.use('fivethirtyeight')\n",
    "fig, ax=plt.subplots(figsize=(5, 6))\n",
    "df=sales.groupby('year')[['sales']].sum()\n",
    "ax.bar(df.index, df.sales)\n",
    "ax.plot(df.index, df.sales, linestyle='-', marker='o', color=\"gray\")\n",
    "ax.set_title(\"Vendas por ano\")\n",
    "ax.set_ylabel(\"Quantidade de vendas (em bilhões)\")\n",
    "ax.set_xlabel(\"Ano\")\n",
    "ax.set_xticks(np.arange(2013, 2016, step=1))\n",
    "#ax.yaxis.set_major_formatter(EngFormatter())\n",
    "ax.legend([\"Vendas\"])\n",
    "plt.show()"
   ]
  },
  {
   "cell_type": "code",
   "execution_count": null,
   "metadata": {
    "cell_id": "de3129d9-4bb5-479a-9d4a-efbf38f556ca",
    "deepnote_cell_height": 246,
    "deepnote_cell_type": "code",
    "deepnote_to_be_reexecuted": true,
    "execution_millis": 331,
    "execution_start": 1645461882464,
    "source_hash": "b4f1dbea",
    "tags": []
   },
   "outputs": [],
   "source": [
    "#Média de vendas mensal\n",
    "\n",
    "sales_year = sales.pivot_table(index='month', values='sales', aggfunc='mean') \n",
    "\n",
    "plt.figure(figsize=(12,8))\n",
    "\n",
    "ax = sns.lineplot(x=sales_year.index, y=sales_year['sales'])\n",
    "ax.legend(['Vendas'])\n",
    "ax.set_title('Média de vendas mensais')\n",
    "ax.set_ylabel('Quantidade de vendas')\n",
    "ax.set_xlabel('Mês')\n",
    "ax.set_xticks(np.arange(1, 13, step=1))\n",
    "ax.set_label('');\n"
   ]
  },
  {
   "cell_type": "code",
   "execution_count": null,
   "metadata": {
    "cell_id": "9fd540b5-91d3-4634-83ce-c46956689a68",
    "deepnote_cell_height": 634,
    "deepnote_cell_type": "code",
    "deepnote_to_be_reexecuted": true,
    "execution_millis": 722,
    "execution_start": 1645397352045,
    "source_hash": "75036bfd",
    "tags": []
   },
   "outputs": [],
   "source": [
    "# Qual loja passou mais dias com produtos em promoção num ano?\n",
    "sales[\"year\"]=sales[\"date\"].apply(lambda x: x.year)\n",
    "sales.groupby([\"year\", \"store\"])[[\"promo\"]].sum().sort_values(\"promo\",ascending=False).head(15)Ê"
   ]
  },
  {
   "cell_type": "code",
   "execution_count": null,
   "metadata": {
    "cell_id": "6f1fc769-813b-44be-adc1-99761ec75d95",
    "deepnote_cell_height": 232.125,
    "deepnote_cell_type": "code",
    "deepnote_output_heights": [
     117.125
    ],
    "deepnote_to_be_reexecuted": true,
    "execution_millis": 61,
    "execution_start": 1645225944514,
    "source_hash": "848ec87f",
    "tags": []
   },
   "outputs": [],
   "source": [
    "# Qual dia da semana é mais provável de ocorrer uma promoção?\n",
    "sales.loc[sales['promo']==1, 'day_of_week'].value_counts() # dias 6 e 7 não tem promoção"
   ]
  },
  {
   "cell_type": "code",
   "execution_count": null,
   "metadata": {
    "cell_id": "4ed169c9-9554-4c48-af3e-a68b7de8ae39",
    "deepnote_cell_height": 66,
    "deepnote_cell_type": "code",
    "deepnote_to_be_reexecuted": true,
    "execution_millis": 476,
    "execution_start": 1645461932849,
    "source_hash": "2cf660dc",
    "tags": []
   },
   "outputs": [],
   "source": [
    "sns.histplot(data=sales.loc[sales['promo']==1], x='day_of_week', bins=5);"
   ]
  },
  {
   "cell_type": "code",
   "execution_count": null,
   "metadata": {
    "cell_id": "760da778-a652-409f-839a-2b91379f6833",
    "deepnote_cell_height": 378,
    "deepnote_cell_type": "code",
    "deepnote_table_loading": false,
    "deepnote_table_state": {
     "filters": [],
     "pageIndex": 0,
     "pageSize": 10,
     "sortBy": []
    },
    "deepnote_to_be_reexecuted": true,
    "execution_millis": 70,
    "execution_start": 1645121412646,
    "source_hash": "65e32c84",
    "tags": []
   },
   "outputs": [],
   "source": [
    "# Em qual feriado as vendas são maiores, natal ou páscoa?\n",
    "mask=sales[\"state_holiday\"].isin([\"easter_holiday\", \"christmas\"])\n",
    "sales.loc[mask].groupby(['state_holiday', 'year'])[['sales']].sum().sort_values(\"sales\", ascending=False).head(5)"
   ]
  },
  {
   "cell_type": "code",
   "execution_count": null,
   "metadata": {
    "cell_id": "58c510f7-da47-4167-a2e9-0e8c138c21b3",
    "deepnote_cell_height": 214,
    "deepnote_cell_type": "code",
    "deepnote_table_loading": false,
    "deepnote_table_state": {
     "filters": [],
     "pageIndex": 0,
     "pageSize": 10,
     "sortBy": []
    },
    "deepnote_to_be_reexecuted": true,
    "execution_millis": 571,
    "execution_start": 1645397358311,
    "source_hash": "bdafedd1",
    "tags": []
   },
   "outputs": [],
   "source": [
    "# Qual loja conseguiu mais vendas num único mês?\n",
    "sales[\"month\"]=sales[\"date\"].apply(lambda x: x.month)\n",
    "sales.groupby(['year', 'month','store'])[['sales']].max().sort_values('sales',ascending=False).head(1)"
   ]
  },
  {
   "cell_type": "code",
   "execution_count": null,
   "metadata": {
    "cell_id": "2cd42fba-b0f6-4a61-b929-f929fa9dd783",
    "deepnote_cell_height": 360,
    "deepnote_cell_type": "code",
    "deepnote_table_loading": false,
    "deepnote_table_state": {
     "filters": [],
     "pageIndex": 0,
     "pageSize": 25,
     "sortBy": []
    },
    "deepnote_to_be_reexecuted": true,
    "execution_millis": 149,
    "execution_start": 1645121413413,
    "source_hash": "bee04721",
    "tags": []
   },
   "outputs": [],
   "source": [
    "# Qual a loja com o máximo de clientes num determinado dia da semana e ano?\n",
    "sales.groupby(['store', 'year','day_of_week'])[['customers']].max().sort_values(\"customers\", ascending=False).head(5)"
   ]
  },
  {
   "cell_type": "code",
   "execution_count": null,
   "metadata": {
    "cell_id": "00abcbb5-3d6e-4c69-bba2-7a341da78339",
    "deepnote_cell_height": 54,
    "deepnote_cell_type": "visualization",
    "deepnote_to_be_reexecuted": true,
    "execution_millis": 1,
    "execution_start": 1645121413557,
    "source_hash": "b623e53d"
   },
   "outputs": [],
   "source": []
  },
  {
   "cell_type": "code",
   "execution_count": null,
   "metadata": {
    "cell_id": "f2339f72-20b5-42f4-a673-00311e014a21",
    "deepnote_cell_height": 652,
    "deepnote_cell_type": "code",
    "deepnote_to_be_reexecuted": true,
    "execution_millis": 517,
    "execution_start": 1645397328275,
    "source_hash": "5224b6b7",
    "tags": []
   },
   "outputs": [],
   "source": [
    "# Qual o número máximo, mínimo, e mediana de clientes que o grupo atendeu num dia?\n",
    "sales['day']=sales['date'].apply(lambda x: x.day)\n",
    "sales.groupby(['year','month','day'])[['customers']].agg('sum').sort_values(\"customers\", ascending=False).head(15)\n",
    "#sales.groupby(['year','month','day'])[['customers']].agg('').sort_values(\"customers\", ascending=True).head()"
   ]
  },
  {
   "cell_type": "code",
   "execution_count": null,
   "metadata": {
    "cell_id": "05fe8d55-71cd-4a02-bc71-2f87823e658e",
    "deepnote_cell_height": 598,
    "deepnote_cell_type": "code",
    "deepnote_to_be_reexecuted": true,
    "execution_millis": 95,
    "execution_start": 1645121414260,
    "source_hash": "256eaaa2",
    "tags": []
   },
   "outputs": [],
   "source": [
    "sales.groupby(['year','month','day'])[['customers']].agg('sum').sort_values(\"customers\", ascending=True).head(15)"
   ]
  },
  {
   "cell_type": "code",
   "execution_count": null,
   "metadata": {
    "cell_id": "4ccba47a-a9e4-4484-b17c-3902876854b6",
    "deepnote_cell_height": 137.375,
    "deepnote_cell_type": "code",
    "deepnote_output_heights": [
     40.375
    ],
    "deepnote_to_be_reexecuted": true,
    "execution_millis": 108,
    "execution_start": 1645121414362,
    "source_hash": "820250e2",
    "tags": []
   },
   "outputs": [],
   "source": [
    "sales.groupby(['year','month','day'])[['customers']].agg('sum').median()"
   ]
  },
  {
   "cell_type": "code",
   "execution_count": null,
   "metadata": {
    "cell_id": "86cd007e-8f03-470e-83ca-12a7e28101e9",
    "deepnote_cell_height": 307.578125,
    "deepnote_cell_type": "code",
    "deepnote_to_be_reexecuted": true,
    "execution_millis": 70,
    "execution_start": 1645121414471,
    "source_hash": "40eb79e2",
    "tags": []
   },
   "outputs": [],
   "source": [
    "# Tem mais vendas/clientes com promoção ou sem promoção?\n",
    "sales.groupby(\"promo\")[\"sales\", \"customers\"].mean().rename(mapper={0:\"sem promo\", 1:\"com promo\"})"
   ]
  },
  {
   "cell_type": "code",
   "execution_count": null,
   "metadata": {
    "cell_id": "a2d41209-adbe-4b76-a43e-7f4d8d3c5977",
    "deepnote_cell_height": 237,
    "deepnote_cell_type": "code",
    "deepnote_output_heights": [
     78
    ],
    "deepnote_to_be_reexecuted": true,
    "execution_millis": 127,
    "execution_start": 1645121414584,
    "source_hash": "28efd254",
    "tags": []
   },
   "outputs": [],
   "source": [
    "# Tem mais vendas com promoção ou sem promoção?\n",
    "sales.groupby(\"promo\")[\"sales\"].describe()"
   ]
  },
  {
   "cell_type": "code",
   "execution_count": null,
   "metadata": {
    "cell_id": "46c6ffda-3980-4b30-9190-ed4876892f8f",
    "deepnote_cell_height": 81,
    "deepnote_cell_type": "code",
    "deepnote_to_be_reexecuted": true,
    "execution_millis": 2,
    "execution_start": 1645397769062,
    "source_hash": "88796733",
    "tags": []
   },
   "outputs": [],
   "source": [
    "sales['date'].head()"
   ]
  },
  {
   "cell_type": "markdown",
   "metadata": {
    "created_in_deepnote_cell": true,
    "deepnote_cell_type": "markdown",
    "tags": []
   },
   "source": [
    "<a style='text-decoration:none;line-height:16px;display:flex;color:#5B5B62;padding:10px;justify-content:end;' href='https://deepnote.com?utm_source=created-in-deepnote-cell&projectId=43c508c6-91f9-4c07-8f9a-b0e96ce9285e' target=\"_blank\">\n",
    "<img alt='Created in deepnote.com' style='display:inline;max-height:16px;margin:0px;margin-right:7.5px;' src='data:image/svg+xml;base64,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' > </img>\n",
    "Created in <span style='font-weight:600;margin-left:4px;'>Deepnote</span></a>"
   ]
  }
 ],
 "metadata": {
  "deepnote": {
   "is_reactive": false
  },
  "deepnote_execution_queue": [],
  "deepnote_notebook_id": "8350fc9d-95ec-4fc7-81ee-3a9919972ae5",
  "kernelspec": {
   "display_name": "Python 3",
   "language": "python",
   "name": "python3"
  },
  "language_info": {
   "codemirror_mode": {
    "name": "ipython",
    "version": 3
   },
   "file_extension": ".py",
   "mimetype": "text/x-python",
   "name": "python",
   "nbconvert_exporter": "python",
   "pygments_lexer": "ipython3",
   "version": "3.8.8"
  }
 },
 "nbformat": 4,
 "nbformat_minor": 2
}
