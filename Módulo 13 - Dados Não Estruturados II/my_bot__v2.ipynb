{
 "cells": [
  {
   "cell_type": "markdown",
   "id": "4273ef48",
   "metadata": {},
   "source": [
    "### Telegram Bot "
   ]
  },
  {
   "cell_type": "code",
   "execution_count": 1,
   "id": "3ab3422e",
   "metadata": {
    "scrolled": true
   },
   "outputs": [],
   "source": [
    "#from PIL import Image\n",
    "\n",
    "#botlogo = Image.open('botfather.jpeg')\n",
    "#display(botlogo)"
   ]
  },
  {
   "cell_type": "markdown",
   "id": "5b4ce658",
   "metadata": {},
   "source": [
    "### Installs"
   ]
  },
  {
   "cell_type": "code",
   "execution_count": 2,
   "id": "369ae1d5",
   "metadata": {},
   "outputs": [],
   "source": [
    "# via pip\n",
    "# pip install -U python-telegram-bot\n",
    "# pip install python-Levenshtein\n",
    "# pip install investpy==0.9.2\n",
    "# pip install gTTS\n",
    "# !pip install deep_translator\n",
    "# via conda\n",
    "# conda install -c conda-forge python-telegram-bot\n",
    "# conda install -c conda-forge python-levenshtein"
   ]
  },
  {
   "cell_type": "markdown",
   "id": "80a11dfc",
   "metadata": {},
   "source": [
    "### Bibliotecas"
   ]
  },
  {
   "cell_type": "code",
   "execution_count": 3,
   "id": "91833f21",
   "metadata": {},
   "outputs": [],
   "source": [
    "from telegram.bot import Bot\n",
    "from telegram.update import Update\n",
    "from telegram.ext import CommandHandler\n",
    "from telegram.ext.updater import Updater\n",
    "from telegram.ext.messagehandler import MessageHandler\n",
    "from telegram.ext.filters import Filters\n",
    "from telegram.chataction import ChatAction\n",
    "from time import sleep\n",
    "from deep_translator import GoogleTranslator"
   ]
  },
  {
   "cell_type": "code",
   "execution_count": 4,
   "id": "332cfb5a",
   "metadata": {},
   "outputs": [],
   "source": [
    "#bibliotecas financeiras\n",
    "#import investpy as inv #Empresas da B3\n",
    "#import yfinance as yf  # Dados financeiros (valor histórico das ações)"
   ]
  },
  {
   "cell_type": "code",
   "execution_count": 5,
   "id": "4544ee32",
   "metadata": {},
   "outputs": [],
   "source": [
    "# Manipulação de dados\n",
    "import numpy as np\n",
    "import pandas as pd\n",
    "\n",
    "# Visualização de dados\n",
    "import plotly.graph_objects as go\n",
    "\n",
    "# sintetização de voz\n",
    "from gtts import gTTS"
   ]
  },
  {
   "cell_type": "markdown",
   "id": "fdd15878",
   "metadata": {},
   "source": [
    "### 1. Criar um bot no telegram"
   ]
  },
  {
   "cell_type": "markdown",
   "id": "975ea6dc",
   "metadata": {},
   "source": [
    "  - Abra o telegram e busque por ´BotFather´\n",
    "  - Envie **/start** para iniciar o bot\n",
    "  - Envie **/help** para conhecer as opções\n",
    "  - Envie **/newbot** para criar um novo bot \n",
    "  - Escolha um nome\n",
    "  - Escolha um **username**\n",
    "  - Pronto! Seu bot está criado. Agora vamos programá-lo!"
   ]
  },
  {
   "cell_type": "code",
   "execution_count": 6,
   "id": "e70d226e",
   "metadata": {},
   "outputs": [],
   "source": [
    "#tela = Image.open('tela.png')\n",
    "#display(tela)"
   ]
  },
  {
   "cell_type": "code",
   "execution_count": 7,
   "id": "2386534e",
   "metadata": {},
   "outputs": [
    {
     "name": "stdout",
     "output_type": "stream",
     "text": [
      "{'first_name': 'Bot_joao', 'can_join_groups': True, 'supports_inline_queries': False, 'is_bot': True, 'id': 5694778815, 'username': 'joaoluiz_bot', 'can_read_all_group_messages': False}\n"
     ]
    }
   ],
   "source": [
    "BOT_TOKEN = '5694778815:AAGn6FjotmlrSWFT8kt9tbAfOXW5B1cWhSs'\n",
    "\n",
    "bot = Bot(BOT_TOKEN)\n",
    "print(bot.get_me())\n",
    "\n",
    "updater = Updater(BOT_TOKEN, use_context = True)"
   ]
  },
  {
   "cell_type": "markdown",
   "id": "26c8cc7c",
   "metadata": {},
   "source": [
    "### Chat ID"
   ]
  },
  {
   "cell_type": "markdown",
   "id": "1e8c78e4",
   "metadata": {},
   "source": [
    "> https://api.telegram.org/bot5762345192:AAEQYaFSfZbdayVh-pxtVDD0YSzFbGG5T90/getUpdates"
   ]
  },
  {
   "cell_type": "markdown",
   "id": "d402bb28",
   "metadata": {},
   "source": [
    "### 2. Aplicação"
   ]
  },
  {
   "cell_type": "code",
   "execution_count": 8,
   "id": "45bce59f",
   "metadata": {},
   "outputs": [],
   "source": [
    "def start(update, context):\n",
    "    bot.send_message(chat_id = update.effective_chat.id, text='Digite sua mensagem')"
   ]
  },
  {
   "cell_type": "code",
   "execution_count": 9,
   "id": "a864910f",
   "metadata": {},
   "outputs": [],
   "source": [
    "def boas_vindas(update, context):\n",
    "    nome = update.message.text\n",
    "    bot.send_message(chat_id = update.effective_chat.id, text = 'Boa noite, ' + nome)"
   ]
  },
  {
   "cell_type": "code",
   "execution_count": 10,
   "id": "d7da13c6",
   "metadata": {},
   "outputs": [],
   "source": [
    "def conversor_voz(update, context):\n",
    "    mensagem = update.message.text\n",
    "    \n",
    "    traducao = GoogleTranslator(source='auto', target='pt').translate(mensagem)\n",
    "    \n",
    "    mensagem_voz = gTTS(text = mensagem, lang='pt', slow=False)\n",
    "    mensagem_voz.save('mensagem.mp3')\n",
    "    \n",
    "    bot.send_audio(chat_id = update.effective_chat.id, audio=open('mensagem.mp3', 'rb'))"
   ]
  },
  {
   "cell_type": "code",
   "execution_count": 11,
   "id": "759f6d3a",
   "metadata": {},
   "outputs": [],
   "source": [
    "dp = updater.dispatcher\n",
    "\n",
    "dp.add_handler(CommandHandler('iniciar', start))\n",
    "dp.add_handler(MessageHandler(Filters.text, conversor_voz))"
   ]
  },
  {
   "cell_type": "code",
   "execution_count": 12,
   "id": "7e675fff",
   "metadata": {},
   "outputs": [
    {
     "data": {
      "text/plain": [
       "<queue.Queue at 0x7f8d1b27b2e0>"
      ]
     },
     "execution_count": 12,
     "metadata": {},
     "output_type": "execute_result"
    }
   ],
   "source": [
    "updater.start_polling()"
   ]
  },
  {
   "cell_type": "code",
   "execution_count": null,
   "id": "69ed6f39",
   "metadata": {},
   "outputs": [],
   "source": []
  }
 ],
 "metadata": {
  "kernelspec": {
   "display_name": "Python 3 (ipykernel)",
   "language": "python",
   "name": "python3"
  },
  "language_info": {
   "codemirror_mode": {
    "name": "ipython",
    "version": 3
   },
   "file_extension": ".py",
   "mimetype": "text/x-python",
   "name": "python",
   "nbconvert_exporter": "python",
   "pygments_lexer": "ipython3",
   "version": "3.9.7"
  }
 },
 "nbformat": 4,
 "nbformat_minor": 5
}
