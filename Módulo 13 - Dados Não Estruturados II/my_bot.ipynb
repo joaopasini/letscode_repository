{
 "cells": [
  {
   "cell_type": "markdown",
   "id": "4273ef48",
   "metadata": {},
   "source": [
    "### Telegram Bot "
   ]
  },
  {
   "cell_type": "code",
   "execution_count": 6,
   "id": "3ab3422e",
   "metadata": {
    "scrolled": true
   },
   "outputs": [
    {
     "ename": "FileNotFoundError",
     "evalue": "[Errno 2] No such file or directory: 'botfather.jpeg'",
     "output_type": "error",
     "traceback": [
      "\u001b[0;31m---------------------------------------------------------------------------\u001b[0m",
      "\u001b[0;31mFileNotFoundError\u001b[0m                         Traceback (most recent call last)",
      "\u001b[0;32m/var/folders/4m/74nrsdkd711b73fw5csp5gnm0000gn/T/ipykernel_3098/2729535716.py\u001b[0m in \u001b[0;36m<module>\u001b[0;34m\u001b[0m\n\u001b[1;32m      1\u001b[0m \u001b[0;32mfrom\u001b[0m \u001b[0mPIL\u001b[0m \u001b[0;32mimport\u001b[0m \u001b[0mImage\u001b[0m\u001b[0;34m\u001b[0m\u001b[0;34m\u001b[0m\u001b[0m\n\u001b[1;32m      2\u001b[0m \u001b[0;34m\u001b[0m\u001b[0m\n\u001b[0;32m----> 3\u001b[0;31m \u001b[0mbotlogo\u001b[0m \u001b[0;34m=\u001b[0m \u001b[0mImage\u001b[0m\u001b[0;34m.\u001b[0m\u001b[0mopen\u001b[0m\u001b[0;34m(\u001b[0m\u001b[0;34m'botfather.jpeg'\u001b[0m\u001b[0;34m)\u001b[0m\u001b[0;34m\u001b[0m\u001b[0;34m\u001b[0m\u001b[0m\n\u001b[0m\u001b[1;32m      4\u001b[0m \u001b[0mdisplay\u001b[0m\u001b[0;34m(\u001b[0m\u001b[0mbotlogo\u001b[0m\u001b[0;34m)\u001b[0m\u001b[0;34m\u001b[0m\u001b[0;34m\u001b[0m\u001b[0m\n",
      "\u001b[0;32m~/opt/anaconda3/lib/python3.9/site-packages/PIL/Image.py\u001b[0m in \u001b[0;36mopen\u001b[0;34m(fp, mode, formats)\u001b[0m\n\u001b[1;32m   2973\u001b[0m \u001b[0;34m\u001b[0m\u001b[0m\n\u001b[1;32m   2974\u001b[0m     \u001b[0;32mif\u001b[0m \u001b[0mfilename\u001b[0m\u001b[0;34m:\u001b[0m\u001b[0;34m\u001b[0m\u001b[0;34m\u001b[0m\u001b[0m\n\u001b[0;32m-> 2975\u001b[0;31m         \u001b[0mfp\u001b[0m \u001b[0;34m=\u001b[0m \u001b[0mbuiltins\u001b[0m\u001b[0;34m.\u001b[0m\u001b[0mopen\u001b[0m\u001b[0;34m(\u001b[0m\u001b[0mfilename\u001b[0m\u001b[0;34m,\u001b[0m \u001b[0;34m\"rb\"\u001b[0m\u001b[0;34m)\u001b[0m\u001b[0;34m\u001b[0m\u001b[0;34m\u001b[0m\u001b[0m\n\u001b[0m\u001b[1;32m   2976\u001b[0m         \u001b[0mexclusive_fp\u001b[0m \u001b[0;34m=\u001b[0m \u001b[0;32mTrue\u001b[0m\u001b[0;34m\u001b[0m\u001b[0;34m\u001b[0m\u001b[0m\n\u001b[1;32m   2977\u001b[0m \u001b[0;34m\u001b[0m\u001b[0m\n",
      "\u001b[0;31mFileNotFoundError\u001b[0m: [Errno 2] No such file or directory: 'botfather.jpeg'"
     ]
    }
   ],
   "source": [
    "from PIL import Image\n",
    "\n",
    "botlogo = Image.open('botfather.jpeg')\n",
    "display(botlogo)"
   ]
  },
  {
   "cell_type": "markdown",
   "id": "5b4ce658",
   "metadata": {},
   "source": [
    "### Installs"
   ]
  },
  {
   "cell_type": "code",
   "execution_count": 5,
   "id": "369ae1d5",
   "metadata": {},
   "outputs": [],
   "source": [
    "#via pip\n",
    "#!pip install -U python-telegram-bot\n",
    "#!pip install python-Levenshtein\n",
    "#!pip install investpy==0.9.2\n",
    "#!pip install gTTS\n",
    "\n",
    "#via conda\n",
    "#conda install -c conda-forge python-telegram-bot\n",
    "#conda install -c conda-forge python-levenshtein"
   ]
  },
  {
   "cell_type": "markdown",
   "id": "80a11dfc",
   "metadata": {},
   "source": [
    "### Bibliotecas"
   ]
  },
  {
   "cell_type": "code",
   "execution_count": 7,
   "id": "91833f21",
   "metadata": {},
   "outputs": [],
   "source": [
    "from telegram.bot import Bot\n",
    "from telegram.update import Update\n",
    "from telegram.ext import CommandHandler\n",
    "from telegram.ext.updater import Updater\n",
    "from telegram.ext.messagehandler import MessageHandler\n",
    "from telegram.ext.filters import Filters\n",
    "from telegram.chataction import ChatAction\n",
    "from time import sleep"
   ]
  },
  {
   "cell_type": "code",
   "execution_count": 8,
   "id": "332cfb5a",
   "metadata": {},
   "outputs": [
    {
     "ename": "ModuleNotFoundError",
     "evalue": "No module named 'yfinance'",
     "output_type": "error",
     "traceback": [
      "\u001b[0;31m---------------------------------------------------------------------------\u001b[0m",
      "\u001b[0;31mModuleNotFoundError\u001b[0m                       Traceback (most recent call last)",
      "\u001b[0;32m/var/folders/4m/74nrsdkd711b73fw5csp5gnm0000gn/T/ipykernel_3098/429279741.py\u001b[0m in \u001b[0;36m<module>\u001b[0;34m\u001b[0m\n\u001b[1;32m      1\u001b[0m \u001b[0;31m#bibliotecas financeiras\u001b[0m\u001b[0;34m\u001b[0m\u001b[0;34m\u001b[0m\u001b[0m\n\u001b[1;32m      2\u001b[0m \u001b[0;32mimport\u001b[0m \u001b[0minvestpy\u001b[0m \u001b[0;32mas\u001b[0m \u001b[0minv\u001b[0m \u001b[0;31m#Empreas da B3\u001b[0m\u001b[0;34m\u001b[0m\u001b[0;34m\u001b[0m\u001b[0m\n\u001b[0;32m----> 3\u001b[0;31m \u001b[0;32mimport\u001b[0m \u001b[0myfinance\u001b[0m \u001b[0;32mas\u001b[0m \u001b[0myf\u001b[0m  \u001b[0;31m# Dados financeiros (valor histórico das ações)\u001b[0m\u001b[0;34m\u001b[0m\u001b[0;34m\u001b[0m\u001b[0m\n\u001b[0m",
      "\u001b[0;31mModuleNotFoundError\u001b[0m: No module named 'yfinance'"
     ]
    }
   ],
   "source": [
    "#bibliotecas financeiras\n",
    "import investpy as inv #Empreas da B3\n",
    "import yfinance as yf  # Dados financeiros (valor histórico das ações)"
   ]
  },
  {
   "cell_type": "code",
   "execution_count": 9,
   "id": "4544ee32",
   "metadata": {},
   "outputs": [],
   "source": [
    "# Manipulação de dados\n",
    "import numpy as np\n",
    "import pandas as pd\n",
    "\n",
    "# Visualização de dados\n",
    "import plotly.graph_objects as go\n",
    "\n",
    "# sintetização de voz\n",
    "from gtts import gTTS"
   ]
  },
  {
   "cell_type": "markdown",
   "id": "fdd15878",
   "metadata": {},
   "source": [
    "### 1. Criar um bot no telegram"
   ]
  },
  {
   "cell_type": "markdown",
   "id": "975ea6dc",
   "metadata": {},
   "source": [
    "  - Abra o telegram e busque por ´BotFather´\n",
    "  - Envie **/start** para iniciar o bot\n",
    "  - Envie **/help** para conhecer as opções\n",
    "  - Envie **/newbot** para criar um novo bot \n",
    "  - Escolha um nome\n",
    "  - Escolha um **username**\n",
    "  - Pronto! Seu bot está criado. Agora vamos programá-lo!"
   ]
  },
  {
   "cell_type": "code",
   "execution_count": 10,
   "id": "e70d226e",
   "metadata": {},
   "outputs": [
    {
     "ename": "FileNotFoundError",
     "evalue": "[Errno 2] No such file or directory: 'tela.png'",
     "output_type": "error",
     "traceback": [
      "\u001b[0;31m---------------------------------------------------------------------------\u001b[0m",
      "\u001b[0;31mFileNotFoundError\u001b[0m                         Traceback (most recent call last)",
      "\u001b[0;32m/var/folders/4m/74nrsdkd711b73fw5csp5gnm0000gn/T/ipykernel_3098/2683274965.py\u001b[0m in \u001b[0;36m<module>\u001b[0;34m\u001b[0m\n\u001b[0;32m----> 1\u001b[0;31m \u001b[0mtela\u001b[0m \u001b[0;34m=\u001b[0m \u001b[0mImage\u001b[0m\u001b[0;34m.\u001b[0m\u001b[0mopen\u001b[0m\u001b[0;34m(\u001b[0m\u001b[0;34m'tela.png'\u001b[0m\u001b[0;34m)\u001b[0m\u001b[0;34m\u001b[0m\u001b[0;34m\u001b[0m\u001b[0m\n\u001b[0m\u001b[1;32m      2\u001b[0m \u001b[0mdisplay\u001b[0m\u001b[0;34m(\u001b[0m\u001b[0mtela\u001b[0m\u001b[0;34m)\u001b[0m\u001b[0;34m\u001b[0m\u001b[0;34m\u001b[0m\u001b[0m\n",
      "\u001b[0;32m~/opt/anaconda3/lib/python3.9/site-packages/PIL/Image.py\u001b[0m in \u001b[0;36mopen\u001b[0;34m(fp, mode, formats)\u001b[0m\n\u001b[1;32m   2973\u001b[0m \u001b[0;34m\u001b[0m\u001b[0m\n\u001b[1;32m   2974\u001b[0m     \u001b[0;32mif\u001b[0m \u001b[0mfilename\u001b[0m\u001b[0;34m:\u001b[0m\u001b[0;34m\u001b[0m\u001b[0;34m\u001b[0m\u001b[0m\n\u001b[0;32m-> 2975\u001b[0;31m         \u001b[0mfp\u001b[0m \u001b[0;34m=\u001b[0m \u001b[0mbuiltins\u001b[0m\u001b[0;34m.\u001b[0m\u001b[0mopen\u001b[0m\u001b[0;34m(\u001b[0m\u001b[0mfilename\u001b[0m\u001b[0;34m,\u001b[0m \u001b[0;34m\"rb\"\u001b[0m\u001b[0;34m)\u001b[0m\u001b[0;34m\u001b[0m\u001b[0;34m\u001b[0m\u001b[0m\n\u001b[0m\u001b[1;32m   2976\u001b[0m         \u001b[0mexclusive_fp\u001b[0m \u001b[0;34m=\u001b[0m \u001b[0;32mTrue\u001b[0m\u001b[0;34m\u001b[0m\u001b[0;34m\u001b[0m\u001b[0m\n\u001b[1;32m   2977\u001b[0m \u001b[0;34m\u001b[0m\u001b[0m\n",
      "\u001b[0;31mFileNotFoundError\u001b[0m: [Errno 2] No such file or directory: 'tela.png'"
     ]
    }
   ],
   "source": [
    "tela = Image.open('tela.png')\n",
    "display(tela)"
   ]
  },
  {
   "cell_type": "code",
   "execution_count": 7,
   "id": "2386534e",
   "metadata": {},
   "outputs": [
    {
     "name": "stdout",
     "output_type": "stream",
     "text": [
      "{'id': 5762345192, 'can_join_groups': True, 'can_read_all_group_messages': False, 'is_bot': True, 'username': 'Letscode_by_adabot', 'supports_inline_queries': False, 'first_name': 'AdaBot'}\n"
     ]
    }
   ],
   "source": [
    "BOT_TOKEN = '5694778815:AAGn6FjotmlrSWFT8kt9tbAfOXW5B1cWhSs'\n",
    "\n",
    "bot = Bot(BOT_TOKEN)\n",
    "print(bot.get_me())\n",
    "\n",
    "updater = Updater(BOT_TOKEN, use_context = True)"
   ]
  },
  {
   "cell_type": "markdown",
   "id": "26c8cc7c",
   "metadata": {},
   "source": [
    "### Chat ID"
   ]
  },
  {
   "cell_type": "markdown",
   "id": "1e8c78e4",
   "metadata": {},
   "source": [
    "> https://api.telegram.org/bot5762345192:AAEQYaFSfZbdayVh-pxtVDD0YSzFbGG5T90/getUpdates"
   ]
  },
  {
   "cell_type": "markdown",
   "id": "d402bb28",
   "metadata": {},
   "source": [
    "### 2. Aplicação"
   ]
  },
  {
   "cell_type": "code",
   "execution_count": null,
   "id": "45bce59f",
   "metadata": {},
   "outputs": [],
   "source": []
  }
 ],
 "metadata": {
  "kernelspec": {
   "display_name": "Python 3 (ipykernel)",
   "language": "python",
   "name": "python3"
  },
  "language_info": {
   "codemirror_mode": {
    "name": "ipython",
    "version": 3
   },
   "file_extension": ".py",
   "mimetype": "text/x-python",
   "name": "python",
   "nbconvert_exporter": "python",
   "pygments_lexer": "ipython3",
   "version": "3.9.7"
  }
 },
 "nbformat": 4,
 "nbformat_minor": 5
}
