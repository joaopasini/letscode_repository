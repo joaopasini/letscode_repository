{
 "cells": [
  {
   "cell_type": "markdown",
   "metadata": {},
   "source": [
    "# Aula 8 - Random Search\n",
    "\n",
    "Na aula de hoje, vamos explorar os seguintes tópicos em Python\n",
    "\n",
    "- 1) breve revisão sobre o GridSearch para seleção de hiperparâmetros\n",
    "- 2) RandomSearch como uma ferramenta alternativa ao GridSearch"
   ]
  },
  {
   "cell_type": "markdown",
   "metadata": {},
   "source": [
    "_____"
   ]
  },
  {
   "cell_type": "markdown",
   "metadata": {},
   "source": [
    "# 1) GridSearch (revisão)\n",
    "\n",
    "Conforme já vimos, o GridSearch é um método proporcionado pelo módulo *scikit-learn* para seleção de hiperparâmetros, representando a **busca exaustiva de hiperparâmetros** de um estimador.\n",
    "\n",
    "Ele faz isso por meio do treinamento de **diversos modelos com diferentes combinações de hiperparâmetros**, e vai salvando os resultados de desempenho - medidos por um *scoring*. Ao final do processo, a melhor combinação (aquela com o melhor valor da métrica) de hiperparâmetros é selecionada. O *scikit-learn* ainda apresenta a possibilidade de fazer essa avaliação usando validação cruzada - GriSearchCV, o que aumenta a robustez estatística e a confiabilidade dos resultados obtidos.\n",
    "\n",
    "Para encontrar mais informações sobre os *scorings* utilizados, você pode usar o [LINK](https://scikit-learn.org/stable/modules/model_evaluation.html#scoring-parameter)\n",
    "\n",
    "Para utilizar quaisquer umas das técnicas, devemos informar a grade.\n",
    "\n",
    "<img src=\"https://www.yourdatateacher.com/wp-content/uploads/2021/03/image-6.png\" width=500>\n",
    "\n",
    "O argumento mais comum de ser passado ao GridSearchCV é o **Pipeline**, onde podemos agrupar várias operações sequenciais sobre os dados. Mais informações podem ser checadas [nesse link](https://scikit-learn.org/stable/modules/grid_search.html#grid-search)."
   ]
  },
  {
   "cell_type": "markdown",
   "metadata": {},
   "source": [
    "________"
   ]
  },
  {
   "cell_type": "markdown",
   "metadata": {},
   "source": [
    "# 2) Random Search\n",
    "\n",
    "O GridSearch é um excelente método para buscar hiperparâmetros de um estimador, mas tem dois principais pontos fracos:\n",
    "\n",
    "- E se a combinação \"ótima\" de hiperparâmetros não estiver dentro da grade especificada? Nesse caso, o GridSearch vai chegar numa solução boa, mas não podemos garantir de fato que ela seja a melhor, visto que ele nunca vai estar olhando para a região correta.\n",
    "- Para resolver a questão anterior, e se nós aumentássemos a grade informada para \"cobrir uma área maior\"? Nesse caso teríamos um problema de *explosão combinatória*. Vejamos um caso de dois hiperparâmetros de caráter contínuo:\n",
    "    - Se cada um deles assumir 5 valores, temos 25 experimentos (que pode ser multiplicado por 5 ou 10, dependendo do cross validation que usarmos).\n",
    "    - Se cada um deles assumir 10 valores, esse valor sobe para 100 experimentos\n",
    "    - Se cada um deles assumir 20 valores, temos 400 experimentos\n",
    "    - Para 40 valores, 1600.\n",
    "    - 80 valores, 6400\n",
    "    - ...\n",
    "Para uma variável contínua, ela pode assumir infinitos valores, então para garantir matematicamente que vamos encontrar a solução ótima, temos de explorar infinitas possibilidades, algo que não possuímos tempo ou recursos computacionais para conseguir.\n",
    "- Um terceiro ponto que precisamos ter em mente é mais voltado para o ponto de vista do negócio. Mesmo que algumas combinações sejam exploradas no GridSearch, pode ser que elas nem seja de interesse do negócio. Ainda assim, o método \"gasta recursos computacionais\" para explorar essas soluções.\n",
    "\n",
    "É nesse contexto que entra o método de **Random Search** ou Busca Aleatória.\n",
    "\n",
    "Ao invés de realizar uma busca bruta, onde todas as combinações são exploradas, o RandomSearch realiza uma amostragem aleatória de valores dos hiperparâmetros informados e somente depois realiza as combinações para o experimentador avaliar segundo o scoring.\n",
    "\n",
    "<img src=\"https://miro.medium.com/max/1400/1*9W1MrRkHi0YFmBoHi9Y2Ow.png\" width=500>"
   ]
  },
  {
   "cell_type": "code",
   "execution_count": 1,
   "metadata": {},
   "outputs": [],
   "source": [
    "import os\n",
    "import warnings\n",
    "import pandas as pd\n",
    "import numpy as np\n",
    "from sklearn.model_selection import RandomizedSearchCV, train_test_split, StratifiedKFold\n",
    "from sklearn.preprocessing import StandardScaler\n",
    "from sklearn.pipeline import Pipeline\n",
    "from sklearn.linear_model import LogisticRegression\n",
    "from sklearn.tree import DecisionTreeClassifier\n",
    "from sklearn.ensemble import RandomForestClassifier\n",
    "from sklearn.metrics import classification_report, ConfusionMatrixDisplay, f1_score, \\\n",
    "    make_scorer\n",
    "\n",
    "# ignorar warnings\n",
    "warnings.filterwarnings('ignore')\n",
    "\n",
    "# definir uma constante\n",
    "DATASOURCE = '.'"
   ]
  },
  {
   "cell_type": "code",
   "execution_count": 2,
   "metadata": {},
   "outputs": [
    {
     "data": {
      "text/html": [
       "<div>\n",
       "<style scoped>\n",
       "    .dataframe tbody tr th:only-of-type {\n",
       "        vertical-align: middle;\n",
       "    }\n",
       "\n",
       "    .dataframe tbody tr th {\n",
       "        vertical-align: top;\n",
       "    }\n",
       "\n",
       "    .dataframe thead th {\n",
       "        text-align: right;\n",
       "    }\n",
       "</style>\n",
       "<table border=\"1\" class=\"dataframe\">\n",
       "  <thead>\n",
       "    <tr style=\"text-align: right;\">\n",
       "      <th></th>\n",
       "      <th>id</th>\n",
       "      <th>diagnosis</th>\n",
       "      <th>radius_mean</th>\n",
       "      <th>texture_mean</th>\n",
       "      <th>perimeter_mean</th>\n",
       "      <th>area_mean</th>\n",
       "      <th>smoothness_mean</th>\n",
       "      <th>compactness_mean</th>\n",
       "      <th>concavity_mean</th>\n",
       "      <th>concave points_mean</th>\n",
       "      <th>...</th>\n",
       "      <th>radius_worst</th>\n",
       "      <th>texture_worst</th>\n",
       "      <th>perimeter_worst</th>\n",
       "      <th>area_worst</th>\n",
       "      <th>smoothness_worst</th>\n",
       "      <th>compactness_worst</th>\n",
       "      <th>concavity_worst</th>\n",
       "      <th>concave points_worst</th>\n",
       "      <th>symmetry_worst</th>\n",
       "      <th>fractal_dimension_worst</th>\n",
       "    </tr>\n",
       "  </thead>\n",
       "  <tbody>\n",
       "    <tr>\n",
       "      <th>0</th>\n",
       "      <td>842302</td>\n",
       "      <td>M</td>\n",
       "      <td>17.99</td>\n",
       "      <td>10.38</td>\n",
       "      <td>122.80</td>\n",
       "      <td>1001.0</td>\n",
       "      <td>0.11840</td>\n",
       "      <td>0.27760</td>\n",
       "      <td>0.3001</td>\n",
       "      <td>0.14710</td>\n",
       "      <td>...</td>\n",
       "      <td>25.38</td>\n",
       "      <td>17.33</td>\n",
       "      <td>184.60</td>\n",
       "      <td>2019.0</td>\n",
       "      <td>0.1622</td>\n",
       "      <td>0.6656</td>\n",
       "      <td>0.7119</td>\n",
       "      <td>0.2654</td>\n",
       "      <td>0.4601</td>\n",
       "      <td>0.11890</td>\n",
       "    </tr>\n",
       "    <tr>\n",
       "      <th>1</th>\n",
       "      <td>842517</td>\n",
       "      <td>M</td>\n",
       "      <td>20.57</td>\n",
       "      <td>17.77</td>\n",
       "      <td>132.90</td>\n",
       "      <td>1326.0</td>\n",
       "      <td>0.08474</td>\n",
       "      <td>0.07864</td>\n",
       "      <td>0.0869</td>\n",
       "      <td>0.07017</td>\n",
       "      <td>...</td>\n",
       "      <td>24.99</td>\n",
       "      <td>23.41</td>\n",
       "      <td>158.80</td>\n",
       "      <td>1956.0</td>\n",
       "      <td>0.1238</td>\n",
       "      <td>0.1866</td>\n",
       "      <td>0.2416</td>\n",
       "      <td>0.1860</td>\n",
       "      <td>0.2750</td>\n",
       "      <td>0.08902</td>\n",
       "    </tr>\n",
       "    <tr>\n",
       "      <th>2</th>\n",
       "      <td>84300903</td>\n",
       "      <td>M</td>\n",
       "      <td>19.69</td>\n",
       "      <td>21.25</td>\n",
       "      <td>130.00</td>\n",
       "      <td>1203.0</td>\n",
       "      <td>0.10960</td>\n",
       "      <td>0.15990</td>\n",
       "      <td>0.1974</td>\n",
       "      <td>0.12790</td>\n",
       "      <td>...</td>\n",
       "      <td>23.57</td>\n",
       "      <td>25.53</td>\n",
       "      <td>152.50</td>\n",
       "      <td>1709.0</td>\n",
       "      <td>0.1444</td>\n",
       "      <td>0.4245</td>\n",
       "      <td>0.4504</td>\n",
       "      <td>0.2430</td>\n",
       "      <td>0.3613</td>\n",
       "      <td>0.08758</td>\n",
       "    </tr>\n",
       "    <tr>\n",
       "      <th>3</th>\n",
       "      <td>84348301</td>\n",
       "      <td>M</td>\n",
       "      <td>11.42</td>\n",
       "      <td>20.38</td>\n",
       "      <td>77.58</td>\n",
       "      <td>386.1</td>\n",
       "      <td>0.14250</td>\n",
       "      <td>0.28390</td>\n",
       "      <td>0.2414</td>\n",
       "      <td>0.10520</td>\n",
       "      <td>...</td>\n",
       "      <td>14.91</td>\n",
       "      <td>26.50</td>\n",
       "      <td>98.87</td>\n",
       "      <td>567.7</td>\n",
       "      <td>0.2098</td>\n",
       "      <td>0.8663</td>\n",
       "      <td>0.6869</td>\n",
       "      <td>0.2575</td>\n",
       "      <td>0.6638</td>\n",
       "      <td>0.17300</td>\n",
       "    </tr>\n",
       "    <tr>\n",
       "      <th>4</th>\n",
       "      <td>84358402</td>\n",
       "      <td>M</td>\n",
       "      <td>20.29</td>\n",
       "      <td>14.34</td>\n",
       "      <td>135.10</td>\n",
       "      <td>1297.0</td>\n",
       "      <td>0.10030</td>\n",
       "      <td>0.13280</td>\n",
       "      <td>0.1980</td>\n",
       "      <td>0.10430</td>\n",
       "      <td>...</td>\n",
       "      <td>22.54</td>\n",
       "      <td>16.67</td>\n",
       "      <td>152.20</td>\n",
       "      <td>1575.0</td>\n",
       "      <td>0.1374</td>\n",
       "      <td>0.2050</td>\n",
       "      <td>0.4000</td>\n",
       "      <td>0.1625</td>\n",
       "      <td>0.2364</td>\n",
       "      <td>0.07678</td>\n",
       "    </tr>\n",
       "  </tbody>\n",
       "</table>\n",
       "<p>5 rows × 32 columns</p>\n",
       "</div>"
      ],
      "text/plain": [
       "         id diagnosis  radius_mean  texture_mean  perimeter_mean  area_mean  \\\n",
       "0    842302         M        17.99         10.38          122.80     1001.0   \n",
       "1    842517         M        20.57         17.77          132.90     1326.0   \n",
       "2  84300903         M        19.69         21.25          130.00     1203.0   \n",
       "3  84348301         M        11.42         20.38           77.58      386.1   \n",
       "4  84358402         M        20.29         14.34          135.10     1297.0   \n",
       "\n",
       "   smoothness_mean  compactness_mean  concavity_mean  concave points_mean  \\\n",
       "0          0.11840           0.27760          0.3001              0.14710   \n",
       "1          0.08474           0.07864          0.0869              0.07017   \n",
       "2          0.10960           0.15990          0.1974              0.12790   \n",
       "3          0.14250           0.28390          0.2414              0.10520   \n",
       "4          0.10030           0.13280          0.1980              0.10430   \n",
       "\n",
       "   ...  radius_worst  texture_worst  perimeter_worst  area_worst  \\\n",
       "0  ...         25.38          17.33           184.60      2019.0   \n",
       "1  ...         24.99          23.41           158.80      1956.0   \n",
       "2  ...         23.57          25.53           152.50      1709.0   \n",
       "3  ...         14.91          26.50            98.87       567.7   \n",
       "4  ...         22.54          16.67           152.20      1575.0   \n",
       "\n",
       "   smoothness_worst  compactness_worst  concavity_worst  concave points_worst  \\\n",
       "0            0.1622             0.6656           0.7119                0.2654   \n",
       "1            0.1238             0.1866           0.2416                0.1860   \n",
       "2            0.1444             0.4245           0.4504                0.2430   \n",
       "3            0.2098             0.8663           0.6869                0.2575   \n",
       "4            0.1374             0.2050           0.4000                0.1625   \n",
       "\n",
       "   symmetry_worst  fractal_dimension_worst  \n",
       "0          0.4601                  0.11890  \n",
       "1          0.2750                  0.08902  \n",
       "2          0.3613                  0.08758  \n",
       "3          0.6638                  0.17300  \n",
       "4          0.2364                  0.07678  \n",
       "\n",
       "[5 rows x 32 columns]"
      ]
     },
     "execution_count": 2,
     "metadata": {},
     "output_type": "execute_result"
    }
   ],
   "source": [
    "# realizar a leitura dos dados\n",
    "data = pd.read_csv(os.path.join(DATASOURCE, 'breast-cancer.csv'))\n",
    "data.head()"
   ]
  },
  {
   "cell_type": "code",
   "execution_count": 3,
   "metadata": {},
   "outputs": [
    {
     "name": "stdout",
     "output_type": "stream",
     "text": [
      "<class 'pandas.core.frame.DataFrame'>\n",
      "RangeIndex: 569 entries, 0 to 568\n",
      "Data columns (total 32 columns):\n",
      " #   Column                   Non-Null Count  Dtype  \n",
      "---  ------                   --------------  -----  \n",
      " 0   id                       569 non-null    int64  \n",
      " 1   diagnosis                569 non-null    object \n",
      " 2   radius_mean              569 non-null    float64\n",
      " 3   texture_mean             569 non-null    float64\n",
      " 4   perimeter_mean           569 non-null    float64\n",
      " 5   area_mean                569 non-null    float64\n",
      " 6   smoothness_mean          569 non-null    float64\n",
      " 7   compactness_mean         569 non-null    float64\n",
      " 8   concavity_mean           569 non-null    float64\n",
      " 9   concave points_mean      569 non-null    float64\n",
      " 10  symmetry_mean            569 non-null    float64\n",
      " 11  fractal_dimension_mean   569 non-null    float64\n",
      " 12  radius_se                569 non-null    float64\n",
      " 13  texture_se               569 non-null    float64\n",
      " 14  perimeter_se             569 non-null    float64\n",
      " 15  area_se                  569 non-null    float64\n",
      " 16  smoothness_se            569 non-null    float64\n",
      " 17  compactness_se           569 non-null    float64\n",
      " 18  concavity_se             569 non-null    float64\n",
      " 19  concave points_se        569 non-null    float64\n",
      " 20  symmetry_se              569 non-null    float64\n",
      " 21  fractal_dimension_se     569 non-null    float64\n",
      " 22  radius_worst             569 non-null    float64\n",
      " 23  texture_worst            569 non-null    float64\n",
      " 24  perimeter_worst          569 non-null    float64\n",
      " 25  area_worst               569 non-null    float64\n",
      " 26  smoothness_worst         569 non-null    float64\n",
      " 27  compactness_worst        569 non-null    float64\n",
      " 28  concavity_worst          569 non-null    float64\n",
      " 29  concave points_worst     569 non-null    float64\n",
      " 30  symmetry_worst           569 non-null    float64\n",
      " 31  fractal_dimension_worst  569 non-null    float64\n",
      "dtypes: float64(30), int64(1), object(1)\n",
      "memory usage: 142.4+ KB\n"
     ]
    }
   ],
   "source": [
    "# checando nos tipos dos dados para verificar variáveis categóricas\n",
    "data.info()"
   ]
  },
  {
   "cell_type": "code",
   "execution_count": 4,
   "metadata": {},
   "outputs": [],
   "source": [
    "# eliminar a coluna 'ID'\n",
    "data.drop(['id'], axis = 1, inplace=True)\n",
    "\n",
    "# separar entre preditores e target\n",
    "x = data.drop(['diagnosis'], axis = 1)\n",
    "y = data[['diagnosis']]\n",
    "\n",
    "# separar um conjunto de validação final\n",
    "x_train, x_test,  y_train, y_test = train_test_split(x, y, test_size=0.2, random_state=42, \n",
    "                                    stratify=y)"
   ]
  },
  {
   "cell_type": "code",
   "execution_count": 5,
   "metadata": {},
   "outputs": [
    {
     "data": {
      "text/plain": [
       "diagnosis\n",
       "B            0.627417\n",
       "M            0.372583\n",
       "dtype: float64"
      ]
     },
     "execution_count": 5,
     "metadata": {},
     "output_type": "execute_result"
    }
   ],
   "source": [
    "# checando desbalanceamento\n",
    "y.value_counts(normalize=True)"
   ]
  },
  {
   "cell_type": "code",
   "execution_count": 6,
   "metadata": {},
   "outputs": [
    {
     "data": {
      "text/plain": [
       "diagnosis\n",
       "B            0.626374\n",
       "M            0.373626\n",
       "dtype: float64"
      ]
     },
     "execution_count": 6,
     "metadata": {},
     "output_type": "execute_result"
    }
   ],
   "source": [
    "# checando balanceamento na base de treino\n",
    "y_train.value_counts(normalize=True)"
   ]
  },
  {
   "cell_type": "code",
   "execution_count": 7,
   "metadata": {},
   "outputs": [
    {
     "data": {
      "text/plain": [
       "diagnosis\n",
       "B            0.631579\n",
       "M            0.368421\n",
       "dtype: float64"
      ]
     },
     "execution_count": 7,
     "metadata": {},
     "output_type": "execute_result"
    }
   ],
   "source": [
    "# checando balanceamento na base de treino\n",
    "y_test.value_counts(normalize=True)"
   ]
  },
  {
   "cell_type": "code",
   "execution_count": 8,
   "metadata": {},
   "outputs": [],
   "source": [
    "# construir o pipeline\n",
    "steps = [('scaler', StandardScaler()), ('model', LogisticRegression(solver = 'saga'))]\n",
    "pipe = Pipeline(steps)\n",
    "\n",
    "# construir o amostrador dos folds\n",
    "cvs = StratifiedKFold(n_splits=10, shuffle=True, random_state=42)\n",
    "\n",
    "# criando a métrica \"adaptada\"\n",
    "score = make_scorer(f1_score, pos_label = 'M')"
   ]
  },
  {
   "cell_type": "code",
   "execution_count": 9,
   "metadata": {},
   "outputs": [
    {
     "name": "stdout",
     "output_type": "stream",
     "text": [
      "Fitting 10 folds for each of 10 candidates, totalling 100 fits\n",
      "[CV 1/10; 1/10] START model__C=0.1, model__l1_ratio=0.75, model__penalty=l2.....\n",
      "[CV 1/10; 1/10] END model__C=0.1, model__l1_ratio=0.75, model__penalty=l2;, score=0.970 total time=   0.0s\n",
      "[CV 2/10; 1/10] START model__C=0.1, model__l1_ratio=0.75, model__penalty=l2.....\n",
      "[CV 2/10; 1/10] END model__C=0.1, model__l1_ratio=0.75, model__penalty=l2;, score=0.903 total time=   0.0s\n",
      "[CV 3/10; 1/10] START model__C=0.1, model__l1_ratio=0.75, model__penalty=l2.....\n",
      "[CV 3/10; 1/10] END model__C=0.1, model__l1_ratio=0.75, model__penalty=l2;, score=0.914 total time=   0.0s\n",
      "[CV 4/10; 1/10] START model__C=0.1, model__l1_ratio=0.75, model__penalty=l2.....\n",
      "[CV 4/10; 1/10] END model__C=0.1, model__l1_ratio=0.75, model__penalty=l2;, score=1.000 total time=   0.0s\n",
      "[CV 5/10; 1/10] START model__C=0.1, model__l1_ratio=0.75, model__penalty=l2.....\n",
      "[CV 5/10; 1/10] END model__C=0.1, model__l1_ratio=0.75, model__penalty=l2;, score=0.970 total time=   0.0s\n",
      "[CV 6/10; 1/10] START model__C=0.1, model__l1_ratio=0.75, model__penalty=l2.....\n",
      "[CV 6/10; 1/10] END model__C=0.1, model__l1_ratio=0.75, model__penalty=l2;, score=0.970 total time=   0.0s\n",
      "[CV 7/10; 1/10] START model__C=0.1, model__l1_ratio=0.75, model__penalty=l2.....\n",
      "[CV 7/10; 1/10] END model__C=0.1, model__l1_ratio=0.75, model__penalty=l2;, score=0.903 total time=   0.0s\n",
      "[CV 8/10; 1/10] START model__C=0.1, model__l1_ratio=0.75, model__penalty=l2.....\n",
      "[CV 8/10; 1/10] END model__C=0.1, model__l1_ratio=0.75, model__penalty=l2;, score=1.000 total time=   0.0s\n",
      "[CV 9/10; 1/10] START model__C=0.1, model__l1_ratio=0.75, model__penalty=l2.....\n",
      "[CV 9/10; 1/10] END model__C=0.1, model__l1_ratio=0.75, model__penalty=l2;, score=1.000 total time=   0.0s\n",
      "[CV 10/10; 1/10] START model__C=0.1, model__l1_ratio=0.75, model__penalty=l2....\n",
      "[CV 10/10; 1/10] END model__C=0.1, model__l1_ratio=0.75, model__penalty=l2;, score=0.970 total time=   0.0s\n",
      "[CV 1/10; 2/10] START model__C=1, model__l1_ratio=1, model__penalty=elasticnet..\n",
      "[CV 1/10; 2/10] END model__C=1, model__l1_ratio=1, model__penalty=elasticnet;, score=0.970 total time=   0.0s\n",
      "[CV 2/10; 2/10] START model__C=1, model__l1_ratio=1, model__penalty=elasticnet..\n",
      "[CV 2/10; 2/10] END model__C=1, model__l1_ratio=1, model__penalty=elasticnet;, score=0.903 total time=   0.0s\n",
      "[CV 3/10; 2/10] START model__C=1, model__l1_ratio=1, model__penalty=elasticnet..\n",
      "[CV 3/10; 2/10] END model__C=1, model__l1_ratio=1, model__penalty=elasticnet;, score=0.914 total time=   0.0s\n",
      "[CV 4/10; 2/10] START model__C=1, model__l1_ratio=1, model__penalty=elasticnet..\n",
      "[CV 4/10; 2/10] END model__C=1, model__l1_ratio=1, model__penalty=elasticnet;, score=1.000 total time=   0.0s\n",
      "[CV 5/10; 2/10] START model__C=1, model__l1_ratio=1, model__penalty=elasticnet..\n",
      "[CV 5/10; 2/10] END model__C=1, model__l1_ratio=1, model__penalty=elasticnet;, score=0.970 total time=   0.0s\n",
      "[CV 6/10; 2/10] START model__C=1, model__l1_ratio=1, model__penalty=elasticnet..\n",
      "[CV 6/10; 2/10] END model__C=1, model__l1_ratio=1, model__penalty=elasticnet;, score=1.000 total time=   0.0s\n",
      "[CV 7/10; 2/10] START model__C=1, model__l1_ratio=1, model__penalty=elasticnet..\n",
      "[CV 7/10; 2/10] END model__C=1, model__l1_ratio=1, model__penalty=elasticnet;, score=0.938 total time=   0.0s\n",
      "[CV 8/10; 2/10] START model__C=1, model__l1_ratio=1, model__penalty=elasticnet..\n",
      "[CV 8/10; 2/10] END model__C=1, model__l1_ratio=1, model__penalty=elasticnet;, score=1.000 total time=   0.0s\n",
      "[CV 9/10; 2/10] START model__C=1, model__l1_ratio=1, model__penalty=elasticnet..\n",
      "[CV 9/10; 2/10] END model__C=1, model__l1_ratio=1, model__penalty=elasticnet;, score=1.000 total time=   0.0s\n",
      "[CV 10/10; 2/10] START model__C=1, model__l1_ratio=1, model__penalty=elasticnet.\n",
      "[CV 10/10; 2/10] END model__C=1, model__l1_ratio=1, model__penalty=elasticnet;, score=0.941 total time=   0.0s\n",
      "[CV 1/10; 3/10] START model__C=1, model__l1_ratio=0.5, model__penalty=l2........\n",
      "[CV 1/10; 3/10] END model__C=1, model__l1_ratio=0.5, model__penalty=l2;, score=0.970 total time=   0.0s\n",
      "[CV 2/10; 3/10] START model__C=1, model__l1_ratio=0.5, model__penalty=l2........\n",
      "[CV 2/10; 3/10] END model__C=1, model__l1_ratio=0.5, model__penalty=l2;, score=0.903 total time=   0.0s\n",
      "[CV 3/10; 3/10] START model__C=1, model__l1_ratio=0.5, model__penalty=l2........\n",
      "[CV 3/10; 3/10] END model__C=1, model__l1_ratio=0.5, model__penalty=l2;, score=0.914 total time=   0.0s\n",
      "[CV 4/10; 3/10] START model__C=1, model__l1_ratio=0.5, model__penalty=l2........\n",
      "[CV 4/10; 3/10] END model__C=1, model__l1_ratio=0.5, model__penalty=l2;, score=1.000 total time=   0.0s\n",
      "[CV 5/10; 3/10] START model__C=1, model__l1_ratio=0.5, model__penalty=l2........\n",
      "[CV 5/10; 3/10] END model__C=1, model__l1_ratio=0.5, model__penalty=l2;, score=1.000 total time=   0.0s\n",
      "[CV 6/10; 3/10] START model__C=1, model__l1_ratio=0.5, model__penalty=l2........\n",
      "[CV 6/10; 3/10] END model__C=1, model__l1_ratio=0.5, model__penalty=l2;, score=1.000 total time=   0.0s\n",
      "[CV 7/10; 3/10] START model__C=1, model__l1_ratio=0.5, model__penalty=l2........\n",
      "[CV 7/10; 3/10] END model__C=1, model__l1_ratio=0.5, model__penalty=l2;, score=0.938 total time=   0.0s\n",
      "[CV 8/10; 3/10] START model__C=1, model__l1_ratio=0.5, model__penalty=l2........\n",
      "[CV 8/10; 3/10] END model__C=1, model__l1_ratio=0.5, model__penalty=l2;, score=1.000 total time=   0.0s\n",
      "[CV 9/10; 3/10] START model__C=1, model__l1_ratio=0.5, model__penalty=l2........\n",
      "[CV 9/10; 3/10] END model__C=1, model__l1_ratio=0.5, model__penalty=l2;, score=1.000 total time=   0.0s\n",
      "[CV 10/10; 3/10] START model__C=1, model__l1_ratio=0.5, model__penalty=l2.......\n",
      "[CV 10/10; 3/10] END model__C=1, model__l1_ratio=0.5, model__penalty=l2;, score=0.941 total time=   0.0s\n",
      "[CV 1/10; 4/10] START model__C=0.01, model__l1_ratio=0.5, model__penalty=elasticnet\n",
      "[CV 1/10; 4/10] END model__C=0.01, model__l1_ratio=0.5, model__penalty=elasticnet;, score=0.828 total time=   0.0s\n",
      "[CV 2/10; 4/10] START model__C=0.01, model__l1_ratio=0.5, model__penalty=elasticnet\n",
      "[CV 2/10; 4/10] END model__C=0.01, model__l1_ratio=0.5, model__penalty=elasticnet;, score=0.867 total time=   0.0s\n",
      "[CV 3/10; 4/10] START model__C=0.01, model__l1_ratio=0.5, model__penalty=elasticnet\n",
      "[CV 3/10; 4/10] END model__C=0.01, model__l1_ratio=0.5, model__penalty=elasticnet;, score=0.903 total time=   0.0s\n",
      "[CV 4/10; 4/10] START model__C=0.01, model__l1_ratio=0.5, model__penalty=elasticnet\n",
      "[CV 4/10; 4/10] END model__C=0.01, model__l1_ratio=0.5, model__penalty=elasticnet;, score=0.970 total time=   0.0s\n",
      "[CV 5/10; 4/10] START model__C=0.01, model__l1_ratio=0.5, model__penalty=elasticnet\n",
      "[CV 5/10; 4/10] END model__C=0.01, model__l1_ratio=0.5, model__penalty=elasticnet;, score=0.828 total time=   0.0s\n",
      "[CV 6/10; 4/10] START model__C=0.01, model__l1_ratio=0.5, model__penalty=elasticnet\n",
      "[CV 6/10; 4/10] END model__C=0.01, model__l1_ratio=0.5, model__penalty=elasticnet;, score=0.828 total time=   0.0s\n",
      "[CV 7/10; 4/10] START model__C=0.01, model__l1_ratio=0.5, model__penalty=elasticnet\n",
      "[CV 7/10; 4/10] END model__C=0.01, model__l1_ratio=0.5, model__penalty=elasticnet;, score=0.741 total time=   0.0s\n",
      "[CV 8/10; 4/10] START model__C=0.01, model__l1_ratio=0.5, model__penalty=elasticnet\n",
      "[CV 8/10; 4/10] END model__C=0.01, model__l1_ratio=0.5, model__penalty=elasticnet;, score=0.903 total time=   0.0s\n",
      "[CV 9/10; 4/10] START model__C=0.01, model__l1_ratio=0.5, model__penalty=elasticnet\n",
      "[CV 9/10; 4/10] END model__C=0.01, model__l1_ratio=0.5, model__penalty=elasticnet;, score=0.938 total time=   0.0s\n",
      "[CV 10/10; 4/10] START model__C=0.01, model__l1_ratio=0.5, model__penalty=elasticnet\n",
      "[CV 10/10; 4/10] END model__C=0.01, model__l1_ratio=0.5, model__penalty=elasticnet;, score=0.903 total time=   0.0s\n",
      "[CV 1/10; 5/10] START model__C=1, model__l1_ratio=0.5, model__penalty=elasticnet\n",
      "[CV 1/10; 5/10] END model__C=1, model__l1_ratio=0.5, model__penalty=elasticnet;, score=0.970 total time=   0.0s\n",
      "[CV 2/10; 5/10] START model__C=1, model__l1_ratio=0.5, model__penalty=elasticnet\n",
      "[CV 2/10; 5/10] END model__C=1, model__l1_ratio=0.5, model__penalty=elasticnet;, score=0.903 total time=   0.0s\n",
      "[CV 3/10; 5/10] START model__C=1, model__l1_ratio=0.5, model__penalty=elasticnet\n",
      "[CV 3/10; 5/10] END model__C=1, model__l1_ratio=0.5, model__penalty=elasticnet;, score=0.914 total time=   0.0s\n",
      "[CV 4/10; 5/10] START model__C=1, model__l1_ratio=0.5, model__penalty=elasticnet\n",
      "[CV 4/10; 5/10] END model__C=1, model__l1_ratio=0.5, model__penalty=elasticnet;, score=1.000 total time=   0.0s\n",
      "[CV 5/10; 5/10] START model__C=1, model__l1_ratio=0.5, model__penalty=elasticnet\n",
      "[CV 5/10; 5/10] END model__C=1, model__l1_ratio=0.5, model__penalty=elasticnet;, score=0.970 total time=   0.0s\n",
      "[CV 6/10; 5/10] START model__C=1, model__l1_ratio=0.5, model__penalty=elasticnet\n",
      "[CV 6/10; 5/10] END model__C=1, model__l1_ratio=0.5, model__penalty=elasticnet;, score=1.000 total time=   0.0s\n",
      "[CV 7/10; 5/10] START model__C=1, model__l1_ratio=0.5, model__penalty=elasticnet\n",
      "[CV 7/10; 5/10] END model__C=1, model__l1_ratio=0.5, model__penalty=elasticnet;, score=0.938 total time=   0.0s\n",
      "[CV 8/10; 5/10] START model__C=1, model__l1_ratio=0.5, model__penalty=elasticnet\n",
      "[CV 8/10; 5/10] END model__C=1, model__l1_ratio=0.5, model__penalty=elasticnet;, score=1.000 total time=   0.0s\n",
      "[CV 9/10; 5/10] START model__C=1, model__l1_ratio=0.5, model__penalty=elasticnet\n",
      "[CV 9/10; 5/10] END model__C=1, model__l1_ratio=0.5, model__penalty=elasticnet;, score=1.000 total time=   0.0s\n",
      "[CV 10/10; 5/10] START model__C=1, model__l1_ratio=0.5, model__penalty=elasticnet\n",
      "[CV 10/10; 5/10] END model__C=1, model__l1_ratio=0.5, model__penalty=elasticnet;, score=0.941 total time=   0.0s\n",
      "[CV 1/10; 6/10] START model__C=0.01, model__l1_ratio=0.25, model__penalty=elasticnet\n",
      "[CV 1/10; 6/10] END model__C=0.01, model__l1_ratio=0.25, model__penalty=elasticnet;, score=0.938 total time=   0.0s\n",
      "[CV 2/10; 6/10] START model__C=0.01, model__l1_ratio=0.25, model__penalty=elasticnet\n",
      "[CV 2/10; 6/10] END model__C=0.01, model__l1_ratio=0.25, model__penalty=elasticnet;, score=0.867 total time=   0.0s\n",
      "[CV 3/10; 6/10] START model__C=0.01, model__l1_ratio=0.25, model__penalty=elasticnet\n",
      "[CV 3/10; 6/10] END model__C=0.01, model__l1_ratio=0.25, model__penalty=elasticnet;, score=0.970 total time=   0.0s\n",
      "[CV 4/10; 6/10] START model__C=0.01, model__l1_ratio=0.25, model__penalty=elasticnet\n",
      "[CV 4/10; 6/10] END model__C=0.01, model__l1_ratio=0.25, model__penalty=elasticnet;, score=1.000 total time=   0.0s\n",
      "[CV 5/10; 6/10] START model__C=0.01, model__l1_ratio=0.25, model__penalty=elasticnet\n",
      "[CV 5/10; 6/10] END model__C=0.01, model__l1_ratio=0.25, model__penalty=elasticnet;, score=0.867 total time=   0.0s\n",
      "[CV 6/10; 6/10] START model__C=0.01, model__l1_ratio=0.25, model__penalty=elasticnet\n",
      "[CV 6/10; 6/10] END model__C=0.01, model__l1_ratio=0.25, model__penalty=elasticnet;, score=0.903 total time=   0.0s\n",
      "[CV 7/10; 6/10] START model__C=0.01, model__l1_ratio=0.25, model__penalty=elasticnet\n",
      "[CV 7/10; 6/10] END model__C=0.01, model__l1_ratio=0.25, model__penalty=elasticnet;, score=0.828 total time=   0.0s\n",
      "[CV 8/10; 6/10] START model__C=0.01, model__l1_ratio=0.25, model__penalty=elasticnet\n",
      "[CV 8/10; 6/10] END model__C=0.01, model__l1_ratio=0.25, model__penalty=elasticnet;, score=0.938 total time=   0.0s\n",
      "[CV 9/10; 6/10] START model__C=0.01, model__l1_ratio=0.25, model__penalty=elasticnet\n",
      "[CV 9/10; 6/10] END model__C=0.01, model__l1_ratio=0.25, model__penalty=elasticnet;, score=0.970 total time=   0.0s\n",
      "[CV 10/10; 6/10] START model__C=0.01, model__l1_ratio=0.25, model__penalty=elasticnet\n",
      "[CV 10/10; 6/10] END model__C=0.01, model__l1_ratio=0.25, model__penalty=elasticnet;, score=0.903 total time=   0.0s\n",
      "[CV 1/10; 7/10] START model__C=10, model__l1_ratio=0.5, model__penalty=none.....\n",
      "[CV 1/10; 7/10] END model__C=10, model__l1_ratio=0.5, model__penalty=none;, score=0.970 total time=   0.0s\n",
      "[CV 2/10; 7/10] START model__C=10, model__l1_ratio=0.5, model__penalty=none.....\n",
      "[CV 2/10; 7/10] END model__C=10, model__l1_ratio=0.5, model__penalty=none;, score=0.909 total time=   0.0s\n",
      "[CV 3/10; 7/10] START model__C=10, model__l1_ratio=0.5, model__penalty=none.....\n",
      "[CV 3/10; 7/10] END model__C=10, model__l1_ratio=0.5, model__penalty=none;, score=0.914 total time=   0.0s\n",
      "[CV 4/10; 7/10] START model__C=10, model__l1_ratio=0.5, model__penalty=none.....\n",
      "[CV 4/10; 7/10] END model__C=10, model__l1_ratio=0.5, model__penalty=none;, score=1.000 total time=   0.0s\n",
      "[CV 5/10; 7/10] START model__C=10, model__l1_ratio=0.5, model__penalty=none.....\n",
      "[CV 5/10; 7/10] END model__C=10, model__l1_ratio=0.5, model__penalty=none;, score=1.000 total time=   0.0s\n",
      "[CV 6/10; 7/10] START model__C=10, model__l1_ratio=0.5, model__penalty=none.....\n",
      "[CV 6/10; 7/10] END model__C=10, model__l1_ratio=0.5, model__penalty=none;, score=1.000 total time=   0.0s\n",
      "[CV 7/10; 7/10] START model__C=10, model__l1_ratio=0.5, model__penalty=none.....\n",
      "[CV 7/10; 7/10] END model__C=10, model__l1_ratio=0.5, model__penalty=none;, score=0.938 total time=   0.0s\n",
      "[CV 8/10; 7/10] START model__C=10, model__l1_ratio=0.5, model__penalty=none.....\n",
      "[CV 8/10; 7/10] END model__C=10, model__l1_ratio=0.5, model__penalty=none;, score=1.000 total time=   0.0s\n",
      "[CV 9/10; 7/10] START model__C=10, model__l1_ratio=0.5, model__penalty=none.....\n",
      "[CV 9/10; 7/10] END model__C=10, model__l1_ratio=0.5, model__penalty=none;, score=1.000 total time=   0.0s\n",
      "[CV 10/10; 7/10] START model__C=10, model__l1_ratio=0.5, model__penalty=none....\n",
      "[CV 10/10; 7/10] END model__C=10, model__l1_ratio=0.5, model__penalty=none;, score=0.941 total time=   0.0s\n",
      "[CV 1/10; 8/10] START model__C=0.01, model__l1_ratio=0.75, model__penalty=l1....\n",
      "[CV 1/10; 8/10] END model__C=0.01, model__l1_ratio=0.75, model__penalty=l1;, score=0.583 total time=   0.0s\n",
      "[CV 2/10; 8/10] START model__C=0.01, model__l1_ratio=0.75, model__penalty=l1....\n",
      "[CV 2/10; 8/10] END model__C=0.01, model__l1_ratio=0.75, model__penalty=l1;, score=0.828 total time=   0.0s\n",
      "[CV 3/10; 8/10] START model__C=0.01, model__l1_ratio=0.75, model__penalty=l1....\n",
      "[CV 3/10; 8/10] END model__C=0.01, model__l1_ratio=0.75, model__penalty=l1;, score=0.741 total time=   0.0s\n",
      "[CV 4/10; 8/10] START model__C=0.01, model__l1_ratio=0.75, model__penalty=l1....\n",
      "[CV 4/10; 8/10] END model__C=0.01, model__l1_ratio=0.75, model__penalty=l1;, score=0.903 total time=   0.0s\n",
      "[CV 5/10; 8/10] START model__C=0.01, model__l1_ratio=0.75, model__penalty=l1....\n",
      "[CV 5/10; 8/10] END model__C=0.01, model__l1_ratio=0.75, model__penalty=l1;, score=0.583 total time=   0.0s\n",
      "[CV 6/10; 8/10] START model__C=0.01, model__l1_ratio=0.75, model__penalty=l1....\n",
      "[CV 6/10; 8/10] END model__C=0.01, model__l1_ratio=0.75, model__penalty=l1;, score=0.692 total time=   0.0s\n",
      "[CV 7/10; 8/10] START model__C=0.01, model__l1_ratio=0.75, model__penalty=l1....\n",
      "[CV 7/10; 8/10] END model__C=0.01, model__l1_ratio=0.75, model__penalty=l1;, score=0.640 total time=   0.0s\n",
      "[CV 8/10; 8/10] START model__C=0.01, model__l1_ratio=0.75, model__penalty=l1....\n",
      "[CV 8/10; 8/10] END model__C=0.01, model__l1_ratio=0.75, model__penalty=l1;, score=0.640 total time=   0.0s\n",
      "[CV 9/10; 8/10] START model__C=0.01, model__l1_ratio=0.75, model__penalty=l1....\n",
      "[CV 9/10; 8/10] END model__C=0.01, model__l1_ratio=0.75, model__penalty=l1;, score=0.786 total time=   0.0s\n",
      "[CV 10/10; 8/10] START model__C=0.01, model__l1_ratio=0.75, model__penalty=l1...\n",
      "[CV 10/10; 8/10] END model__C=0.01, model__l1_ratio=0.75, model__penalty=l1;, score=0.867 total time=   0.0s\n",
      "[CV 1/10; 9/10] START model__C=0.01, model__l1_ratio=0.5, model__penalty=none...\n",
      "[CV 1/10; 9/10] END model__C=0.01, model__l1_ratio=0.5, model__penalty=none;, score=0.970 total time=   0.0s\n",
      "[CV 2/10; 9/10] START model__C=0.01, model__l1_ratio=0.5, model__penalty=none...\n",
      "[CV 2/10; 9/10] END model__C=0.01, model__l1_ratio=0.5, model__penalty=none;, score=0.909 total time=   0.0s\n",
      "[CV 3/10; 9/10] START model__C=0.01, model__l1_ratio=0.5, model__penalty=none...\n",
      "[CV 3/10; 9/10] END model__C=0.01, model__l1_ratio=0.5, model__penalty=none;, score=0.914 total time=   0.0s\n",
      "[CV 4/10; 9/10] START model__C=0.01, model__l1_ratio=0.5, model__penalty=none...\n",
      "[CV 4/10; 9/10] END model__C=0.01, model__l1_ratio=0.5, model__penalty=none;, score=1.000 total time=   0.0s\n",
      "[CV 5/10; 9/10] START model__C=0.01, model__l1_ratio=0.5, model__penalty=none...\n",
      "[CV 5/10; 9/10] END model__C=0.01, model__l1_ratio=0.5, model__penalty=none;, score=1.000 total time=   0.0s\n",
      "[CV 6/10; 9/10] START model__C=0.01, model__l1_ratio=0.5, model__penalty=none...\n",
      "[CV 6/10; 9/10] END model__C=0.01, model__l1_ratio=0.5, model__penalty=none;, score=1.000 total time=   0.0s\n",
      "[CV 7/10; 9/10] START model__C=0.01, model__l1_ratio=0.5, model__penalty=none...\n",
      "[CV 7/10; 9/10] END model__C=0.01, model__l1_ratio=0.5, model__penalty=none;, score=0.938 total time=   0.0s\n",
      "[CV 8/10; 9/10] START model__C=0.01, model__l1_ratio=0.5, model__penalty=none...\n",
      "[CV 8/10; 9/10] END model__C=0.01, model__l1_ratio=0.5, model__penalty=none;, score=1.000 total time=   0.0s\n",
      "[CV 9/10; 9/10] START model__C=0.01, model__l1_ratio=0.5, model__penalty=none...\n",
      "[CV 9/10; 9/10] END model__C=0.01, model__l1_ratio=0.5, model__penalty=none;, score=1.000 total time=   0.0s\n",
      "[CV 10/10; 9/10] START model__C=0.01, model__l1_ratio=0.5, model__penalty=none..\n",
      "[CV 10/10; 9/10] END model__C=0.01, model__l1_ratio=0.5, model__penalty=none;, score=0.941 total time=   0.0s\n",
      "[CV 1/10; 10/10] START model__C=0.01, model__l1_ratio=0, model__penalty=none....\n",
      "[CV 1/10; 10/10] END model__C=0.01, model__l1_ratio=0, model__penalty=none;, score=0.970 total time=   0.0s\n",
      "[CV 2/10; 10/10] START model__C=0.01, model__l1_ratio=0, model__penalty=none....\n",
      "[CV 2/10; 10/10] END model__C=0.01, model__l1_ratio=0, model__penalty=none;, score=0.909 total time=   0.0s\n",
      "[CV 3/10; 10/10] START model__C=0.01, model__l1_ratio=0, model__penalty=none....\n",
      "[CV 3/10; 10/10] END model__C=0.01, model__l1_ratio=0, model__penalty=none;, score=0.914 total time=   0.0s\n",
      "[CV 4/10; 10/10] START model__C=0.01, model__l1_ratio=0, model__penalty=none....\n",
      "[CV 4/10; 10/10] END model__C=0.01, model__l1_ratio=0, model__penalty=none;, score=1.000 total time=   0.0s\n",
      "[CV 5/10; 10/10] START model__C=0.01, model__l1_ratio=0, model__penalty=none....\n",
      "[CV 5/10; 10/10] END model__C=0.01, model__l1_ratio=0, model__penalty=none;, score=1.000 total time=   0.0s\n",
      "[CV 6/10; 10/10] START model__C=0.01, model__l1_ratio=0, model__penalty=none....\n",
      "[CV 6/10; 10/10] END model__C=0.01, model__l1_ratio=0, model__penalty=none;, score=1.000 total time=   0.0s\n",
      "[CV 7/10; 10/10] START model__C=0.01, model__l1_ratio=0, model__penalty=none....\n",
      "[CV 7/10; 10/10] END model__C=0.01, model__l1_ratio=0, model__penalty=none;, score=0.938 total time=   0.0s\n",
      "[CV 8/10; 10/10] START model__C=0.01, model__l1_ratio=0, model__penalty=none....\n",
      "[CV 8/10; 10/10] END model__C=0.01, model__l1_ratio=0, model__penalty=none;, score=1.000 total time=   0.0s\n",
      "[CV 9/10; 10/10] START model__C=0.01, model__l1_ratio=0, model__penalty=none....\n",
      "[CV 9/10; 10/10] END model__C=0.01, model__l1_ratio=0, model__penalty=none;, score=1.000 total time=   0.0s\n",
      "[CV 10/10; 10/10] START model__C=0.01, model__l1_ratio=0, model__penalty=none...\n",
      "[CV 10/10; 10/10] END model__C=0.01, model__l1_ratio=0, model__penalty=none;, score=0.941 total time=   0.0s\n"
     ]
    },
    {
     "data": {
      "text/html": [
       "<style>#sk-container-id-1 {color: black;background-color: white;}#sk-container-id-1 pre{padding: 0;}#sk-container-id-1 div.sk-toggleable {background-color: white;}#sk-container-id-1 label.sk-toggleable__label {cursor: pointer;display: block;width: 100%;margin-bottom: 0;padding: 0.3em;box-sizing: border-box;text-align: center;}#sk-container-id-1 label.sk-toggleable__label-arrow:before {content: \"▸\";float: left;margin-right: 0.25em;color: #696969;}#sk-container-id-1 label.sk-toggleable__label-arrow:hover:before {color: black;}#sk-container-id-1 div.sk-estimator:hover label.sk-toggleable__label-arrow:before {color: black;}#sk-container-id-1 div.sk-toggleable__content {max-height: 0;max-width: 0;overflow: hidden;text-align: left;background-color: #f0f8ff;}#sk-container-id-1 div.sk-toggleable__content pre {margin: 0.2em;color: black;border-radius: 0.25em;background-color: #f0f8ff;}#sk-container-id-1 input.sk-toggleable__control:checked~div.sk-toggleable__content {max-height: 200px;max-width: 100%;overflow: auto;}#sk-container-id-1 input.sk-toggleable__control:checked~label.sk-toggleable__label-arrow:before {content: \"▾\";}#sk-container-id-1 div.sk-estimator input.sk-toggleable__control:checked~label.sk-toggleable__label {background-color: #d4ebff;}#sk-container-id-1 div.sk-label input.sk-toggleable__control:checked~label.sk-toggleable__label {background-color: #d4ebff;}#sk-container-id-1 input.sk-hidden--visually {border: 0;clip: rect(1px 1px 1px 1px);clip: rect(1px, 1px, 1px, 1px);height: 1px;margin: -1px;overflow: hidden;padding: 0;position: absolute;width: 1px;}#sk-container-id-1 div.sk-estimator {font-family: monospace;background-color: #f0f8ff;border: 1px dotted black;border-radius: 0.25em;box-sizing: border-box;margin-bottom: 0.5em;}#sk-container-id-1 div.sk-estimator:hover {background-color: #d4ebff;}#sk-container-id-1 div.sk-parallel-item::after {content: \"\";width: 100%;border-bottom: 1px solid gray;flex-grow: 1;}#sk-container-id-1 div.sk-label:hover label.sk-toggleable__label {background-color: #d4ebff;}#sk-container-id-1 div.sk-serial::before {content: \"\";position: absolute;border-left: 1px solid gray;box-sizing: border-box;top: 0;bottom: 0;left: 50%;z-index: 0;}#sk-container-id-1 div.sk-serial {display: flex;flex-direction: column;align-items: center;background-color: white;padding-right: 0.2em;padding-left: 0.2em;position: relative;}#sk-container-id-1 div.sk-item {position: relative;z-index: 1;}#sk-container-id-1 div.sk-parallel {display: flex;align-items: stretch;justify-content: center;background-color: white;position: relative;}#sk-container-id-1 div.sk-item::before, #sk-container-id-1 div.sk-parallel-item::before {content: \"\";position: absolute;border-left: 1px solid gray;box-sizing: border-box;top: 0;bottom: 0;left: 50%;z-index: -1;}#sk-container-id-1 div.sk-parallel-item {display: flex;flex-direction: column;z-index: 1;position: relative;background-color: white;}#sk-container-id-1 div.sk-parallel-item:first-child::after {align-self: flex-end;width: 50%;}#sk-container-id-1 div.sk-parallel-item:last-child::after {align-self: flex-start;width: 50%;}#sk-container-id-1 div.sk-parallel-item:only-child::after {width: 0;}#sk-container-id-1 div.sk-dashed-wrapped {border: 1px dashed gray;margin: 0 0.4em 0.5em 0.4em;box-sizing: border-box;padding-bottom: 0.4em;background-color: white;}#sk-container-id-1 div.sk-label label {font-family: monospace;font-weight: bold;display: inline-block;line-height: 1.2em;}#sk-container-id-1 div.sk-label-container {text-align: center;}#sk-container-id-1 div.sk-container {/* jupyter's `normalize.less` sets `[hidden] { display: none; }` but bootstrap.min.css set `[hidden] { display: none !important; }` so we also need the `!important` here to be able to override the default hidden behavior on the sphinx rendered scikit-learn.org. See: https://github.com/scikit-learn/scikit-learn/issues/21755 */display: inline-block !important;position: relative;}#sk-container-id-1 div.sk-text-repr-fallback {display: none;}</style><div id=\"sk-container-id-1\" class=\"sk-top-container\"><div class=\"sk-text-repr-fallback\"><pre>RandomizedSearchCV(cv=StratifiedKFold(n_splits=10, random_state=42, shuffle=True),\n",
       "                   estimator=Pipeline(steps=[(&#x27;scaler&#x27;, StandardScaler()),\n",
       "                                             (&#x27;model&#x27;,\n",
       "                                              LogisticRegression(solver=&#x27;saga&#x27;))]),\n",
       "                   param_distributions={&#x27;model__C&#x27;: [0.01, 0.1, 1, 10],\n",
       "                                        &#x27;model__l1_ratio&#x27;: [0, 0.25, 0.5, 0.75,\n",
       "                                                            1],\n",
       "                                        &#x27;model__penalty&#x27;: [&#x27;l1&#x27;, &#x27;l2&#x27;,\n",
       "                                                           &#x27;elasticnet&#x27;,\n",
       "                                                           &#x27;none&#x27;]},\n",
       "                   scoring=make_scorer(f1_score, pos_label=M), verbose=10)</pre><b>In a Jupyter environment, please rerun this cell to show the HTML representation or trust the notebook. <br />On GitHub, the HTML representation is unable to render, please try loading this page with nbviewer.org.</b></div><div class=\"sk-container\" hidden><div class=\"sk-item sk-dashed-wrapped\"><div class=\"sk-label-container\"><div class=\"sk-label sk-toggleable\"><input class=\"sk-toggleable__control sk-hidden--visually\" id=\"sk-estimator-id-1\" type=\"checkbox\" ><label for=\"sk-estimator-id-1\" class=\"sk-toggleable__label sk-toggleable__label-arrow\">RandomizedSearchCV</label><div class=\"sk-toggleable__content\"><pre>RandomizedSearchCV(cv=StratifiedKFold(n_splits=10, random_state=42, shuffle=True),\n",
       "                   estimator=Pipeline(steps=[(&#x27;scaler&#x27;, StandardScaler()),\n",
       "                                             (&#x27;model&#x27;,\n",
       "                                              LogisticRegression(solver=&#x27;saga&#x27;))]),\n",
       "                   param_distributions={&#x27;model__C&#x27;: [0.01, 0.1, 1, 10],\n",
       "                                        &#x27;model__l1_ratio&#x27;: [0, 0.25, 0.5, 0.75,\n",
       "                                                            1],\n",
       "                                        &#x27;model__penalty&#x27;: [&#x27;l1&#x27;, &#x27;l2&#x27;,\n",
       "                                                           &#x27;elasticnet&#x27;,\n",
       "                                                           &#x27;none&#x27;]},\n",
       "                   scoring=make_scorer(f1_score, pos_label=M), verbose=10)</pre></div></div></div><div class=\"sk-parallel\"><div class=\"sk-parallel-item\"><div class=\"sk-item\"><div class=\"sk-label-container\"><div class=\"sk-label sk-toggleable\"><input class=\"sk-toggleable__control sk-hidden--visually\" id=\"sk-estimator-id-2\" type=\"checkbox\" ><label for=\"sk-estimator-id-2\" class=\"sk-toggleable__label sk-toggleable__label-arrow\">estimator: Pipeline</label><div class=\"sk-toggleable__content\"><pre>Pipeline(steps=[(&#x27;scaler&#x27;, StandardScaler()),\n",
       "                (&#x27;model&#x27;, LogisticRegression(solver=&#x27;saga&#x27;))])</pre></div></div></div><div class=\"sk-serial\"><div class=\"sk-item\"><div class=\"sk-serial\"><div class=\"sk-item\"><div class=\"sk-estimator sk-toggleable\"><input class=\"sk-toggleable__control sk-hidden--visually\" id=\"sk-estimator-id-3\" type=\"checkbox\" ><label for=\"sk-estimator-id-3\" class=\"sk-toggleable__label sk-toggleable__label-arrow\">StandardScaler</label><div class=\"sk-toggleable__content\"><pre>StandardScaler()</pre></div></div></div><div class=\"sk-item\"><div class=\"sk-estimator sk-toggleable\"><input class=\"sk-toggleable__control sk-hidden--visually\" id=\"sk-estimator-id-4\" type=\"checkbox\" ><label for=\"sk-estimator-id-4\" class=\"sk-toggleable__label sk-toggleable__label-arrow\">LogisticRegression</label><div class=\"sk-toggleable__content\"><pre>LogisticRegression(solver=&#x27;saga&#x27;)</pre></div></div></div></div></div></div></div></div></div></div></div></div>"
      ],
      "text/plain": [
       "RandomizedSearchCV(cv=StratifiedKFold(n_splits=10, random_state=42, shuffle=True),\n",
       "                   estimator=Pipeline(steps=[('scaler', StandardScaler()),\n",
       "                                             ('model',\n",
       "                                              LogisticRegression(solver='saga'))]),\n",
       "                   param_distributions={'model__C': [0.01, 0.1, 1, 10],\n",
       "                                        'model__l1_ratio': [0, 0.25, 0.5, 0.75,\n",
       "                                                            1],\n",
       "                                        'model__penalty': ['l1', 'l2',\n",
       "                                                           'elasticnet',\n",
       "                                                           'none']},\n",
       "                   scoring=make_scorer(f1_score, pos_label=M), verbose=10)"
      ]
     },
     "execution_count": 9,
     "metadata": {},
     "output_type": "execute_result"
    }
   ],
   "source": [
    "# construir um dicionário de parâmetros\n",
    "param_dict = {\n",
    "    'model__C': [0.01, 0.1, 1, 10],\n",
    "    'model__penalty': ['l1', 'l2', 'elasticnet', 'none'],\n",
    "    'model__l1_ratio': [0, 0.25, 0.5, 0.75, 1]\n",
    "}\n",
    "\n",
    "# criar o objeto selecionador\n",
    "rs_cv = RandomizedSearchCV(pipe, param_dict, scoring = score, cv = cvs, verbose = 10)\n",
    "rs_cv.fit(x_train, y_train)"
   ]
  },
  {
   "cell_type": "code",
   "execution_count": 10,
   "metadata": {},
   "outputs": [
    {
     "name": "stdout",
     "output_type": "stream",
     "text": [
      "Melhores Parâmetros:\n",
      "{'model__penalty': 'none', 'model__l1_ratio': 0.5, 'model__C': 10}\n",
      "Melhor Métrica Média:\n",
      "0.9671750063661829\n"
     ]
    }
   ],
   "source": [
    "print('Melhores Parâmetros:')\n",
    "print(rs_cv.best_params_)\n",
    "print('Melhor Métrica Média:')\n",
    "print(rs_cv.best_score_)"
   ]
  },
  {
   "cell_type": "code",
   "execution_count": 11,
   "metadata": {},
   "outputs": [],
   "source": [
    "# analisando o melhor modelo\n",
    "# construindo o pipeline\n",
    "steps = [('scaler', StandardScaler()), ('model', LogisticRegression(penalty='none'))]\n",
    "pipe = Pipeline(steps)\n",
    "best_model = pipe.fit(x_train, y_train)\n",
    "\n",
    "# realizando predições\n",
    "yhat = pipe.predict(x_test)"
   ]
  },
  {
   "cell_type": "code",
   "execution_count": 12,
   "metadata": {},
   "outputs": [
    {
     "name": "stdout",
     "output_type": "stream",
     "text": [
      "              precision    recall  f1-score   support\n",
      "\n",
      "           B       0.93      0.97      0.95        72\n",
      "           M       0.95      0.88      0.91        42\n",
      "\n",
      "    accuracy                           0.94       114\n",
      "   macro avg       0.94      0.93      0.93       114\n",
      "weighted avg       0.94      0.94      0.94       114\n",
      "\n"
     ]
    }
   ],
   "source": [
    "# relatório de classificação\n",
    "print(classification_report(y_test, yhat))"
   ]
  },
  {
   "cell_type": "code",
   "execution_count": 13,
   "metadata": {},
   "outputs": [
    {
     "data": {
      "text/plain": [
       "<sklearn.metrics._plot.confusion_matrix.ConfusionMatrixDisplay at 0x1617f7226a0>"
      ]
     },
     "execution_count": 13,
     "metadata": {},
     "output_type": "execute_result"
    },
    {
     "data": {
      "image/png": "[encoded data removed]",
      "text/plain": [
       "<Figure size 432x288 with 2 Axes>"
      ]
     },
     "metadata": {
      "needs_background": "light"
     },
     "output_type": "display_data"
    }
   ],
   "source": [
    "# matriz de confusão\n",
    "ConfusionMatrixDisplay.from_predictions(y_test, yhat)"
   ]
  },
  {
   "cell_type": "markdown",
   "metadata": {},
   "source": [
    "_____"
   ]
  },
  {
   "cell_type": "markdown",
   "metadata": {},
   "source": [
    "## Exercício 1\n",
    "\n",
    "Para praticarmos e para comparar também, repita o mesmo procedimento com uma Árvore de Decisão (DT) e com uma Floresta Aleatória (RF). Para isso:\n",
    "\n",
    "- carregue o conjunto de dados\n",
    "- separe um conjunto de validação final\n",
    "- aplique a busca aleatória com os hiperparâmetros adequados para cada modelo - escolha três hiperparâmetros para cada modelo - utilizando a estrutura do Pipeline conforme mostramos\n",
    "    - hiperparâmetros da DT: *criterion* ['gini', 'entropy', 'log_loss'], *max_depth* [5, 10, 15, 20], *splitter* ['best', 'random']\n",
    "    - hiperparâmetros da RF: *n_estimators* [20, 50, 100, 200, 500], *max_depth* = DT, *criterion* = DT\n",
    "- compare os resultados obtidos entre si e também com os resultados da regressão logística"
   ]
  },
  {
   "cell_type": "markdown",
   "metadata": {},
   "source": [
    "### Decision Tree Classifier"
   ]
  },
  {
   "cell_type": "code",
   "execution_count": 14,
   "metadata": {},
   "outputs": [
    {
     "name": "stdout",
     "output_type": "stream",
     "text": [
      "Fitting 10 folds for each of 10 candidates, totalling 100 fits\n",
      "[CV 1/10; 1/10] START model__criterion=entropy, model__max_depth=5, model__splitter=random\n",
      "[CV 1/10; 1/10] END model__criterion=entropy, model__max_depth=5, model__splitter=random;, score=0.944 total time=   0.0s\n",
      "[CV 2/10; 1/10] START model__criterion=entropy, model__max_depth=5, model__splitter=random\n",
      "[CV 2/10; 1/10] END model__criterion=entropy, model__max_depth=5, model__splitter=random;, score=0.857 total time=   0.0s\n",
      "[CV 3/10; 1/10] START model__criterion=entropy, model__max_depth=5, model__splitter=random\n",
      "[CV 3/10; 1/10] END model__criterion=entropy, model__max_depth=5, model__splitter=random;, score=0.971 total time=   0.0s\n",
      "[CV 4/10; 1/10] START model__criterion=entropy, model__max_depth=5, model__splitter=random\n",
      "[CV 4/10; 1/10] END model__criterion=entropy, model__max_depth=5, model__splitter=random;, score=0.941 total time=   0.0s\n",
      "[CV 5/10; 1/10] START model__criterion=entropy, model__max_depth=5, model__splitter=random\n",
      "[CV 5/10; 1/10] END model__criterion=entropy, model__max_depth=5, model__splitter=random;, score=0.914 total time=   0.0s\n",
      "[CV 6/10; 1/10] START model__criterion=entropy, model__max_depth=5, model__splitter=random\n",
      "[CV 6/10; 1/10] END model__criterion=entropy, model__max_depth=5, model__splitter=random;, score=0.875 total time=   0.0s\n",
      "[CV 7/10; 1/10] START model__criterion=entropy, model__max_depth=5, model__splitter=random\n",
      "[CV 7/10; 1/10] END model__criterion=entropy, model__max_depth=5, model__splitter=random;, score=0.833 total time=   0.0s\n",
      "[CV 8/10; 1/10] START model__criterion=entropy, model__max_depth=5, model__splitter=random\n",
      "[CV 8/10; 1/10] END model__criterion=entropy, model__max_depth=5, model__splitter=random;, score=0.944 total time=   0.0s\n",
      "[CV 9/10; 1/10] START model__criterion=entropy, model__max_depth=5, model__splitter=random\n",
      "[CV 9/10; 1/10] END model__criterion=entropy, model__max_depth=5, model__splitter=random;, score=0.970 total time=   0.0s\n",
      "[CV 10/10; 1/10] START model__criterion=entropy, model__max_depth=5, model__splitter=random\n",
      "[CV 10/10; 1/10] END model__criterion=entropy, model__max_depth=5, model__splitter=random;, score=0.941 total time=   0.0s\n",
      "[CV 1/10; 2/10] START model__criterion=log_loss, model__max_depth=10, model__splitter=random\n",
      "[CV 1/10; 2/10] END model__criterion=log_loss, model__max_depth=10, model__splitter=random;, score=0.970 total time=   0.0s\n",
      "[CV 2/10; 2/10] START model__criterion=log_loss, model__max_depth=10, model__splitter=random\n",
      "[CV 2/10; 2/10] END model__criterion=log_loss, model__max_depth=10, model__splitter=random;, score=0.938 total time=   0.0s\n",
      "[CV 3/10; 2/10] START model__criterion=log_loss, model__max_depth=10, model__splitter=random\n",
      "[CV 3/10; 2/10] END model__criterion=log_loss, model__max_depth=10, model__splitter=random;, score=0.971 total time=   0.0s\n",
      "[CV 4/10; 2/10] START model__criterion=log_loss, model__max_depth=10, model__splitter=random\n",
      "[CV 4/10; 2/10] END model__criterion=log_loss, model__max_depth=10, model__splitter=random;, score=0.914 total time=   0.0s\n",
      "[CV 5/10; 2/10] START model__criterion=log_loss, model__max_depth=10, model__splitter=random\n",
      "[CV 5/10; 2/10] END model__criterion=log_loss, model__max_depth=10, model__splitter=random;, score=0.882 total time=   0.0s\n",
      "[CV 6/10; 2/10] START model__criterion=log_loss, model__max_depth=10, model__splitter=random\n",
      "[CV 6/10; 2/10] END model__criterion=log_loss, model__max_depth=10, model__splitter=random;, score=0.848 total time=   0.0s\n",
      "[CV 7/10; 2/10] START model__criterion=log_loss, model__max_depth=10, model__splitter=random\n",
      "[CV 7/10; 2/10] END model__criterion=log_loss, model__max_depth=10, model__splitter=random;, score=0.882 total time=   0.0s\n",
      "[CV 8/10; 2/10] START model__criterion=log_loss, model__max_depth=10, model__splitter=random\n",
      "[CV 8/10; 2/10] END model__criterion=log_loss, model__max_depth=10, model__splitter=random;, score=0.857 total time=   0.0s\n",
      "[CV 9/10; 2/10] START model__criterion=log_loss, model__max_depth=10, model__splitter=random\n",
      "[CV 9/10; 2/10] END model__criterion=log_loss, model__max_depth=10, model__splitter=random;, score=0.914 total time=   0.0s\n",
      "[CV 10/10; 2/10] START model__criterion=log_loss, model__max_depth=10, model__splitter=random\n",
      "[CV 10/10; 2/10] END model__criterion=log_loss, model__max_depth=10, model__splitter=random;, score=0.889 total time=   0.0s\n",
      "[CV 1/10; 3/10] START model__criterion=gini, model__max_depth=20, model__splitter=random\n",
      "[CV 1/10; 3/10] END model__criterion=gini, model__max_depth=20, model__splitter=random;, score=0.941 total time=   0.0s\n",
      "[CV 2/10; 3/10] START model__criterion=gini, model__max_depth=20, model__splitter=random\n",
      "[CV 2/10; 3/10] END model__criterion=gini, model__max_depth=20, model__splitter=random;, score=0.882 total time=   0.0s\n",
      "[CV 3/10; 3/10] START model__criterion=gini, model__max_depth=20, model__splitter=random\n",
      "[CV 3/10; 3/10] END model__criterion=gini, model__max_depth=20, model__splitter=random;, score=0.944 total time=   0.0s\n",
      "[CV 4/10; 3/10] START model__criterion=gini, model__max_depth=20, model__splitter=random\n",
      "[CV 4/10; 3/10] END model__criterion=gini, model__max_depth=20, model__splitter=random;, score=1.000 total time=   0.0s\n",
      "[CV 5/10; 3/10] START model__criterion=gini, model__max_depth=20, model__splitter=random\n",
      "[CV 5/10; 3/10] END model__criterion=gini, model__max_depth=20, model__splitter=random;, score=0.889 total time=   0.0s\n",
      "[CV 6/10; 3/10] START model__criterion=gini, model__max_depth=20, model__splitter=random\n",
      "[CV 6/10; 3/10] END model__criterion=gini, model__max_depth=20, model__splitter=random;, score=0.970 total time=   0.0s\n",
      "[CV 7/10; 3/10] START model__criterion=gini, model__max_depth=20, model__splitter=random\n",
      "[CV 7/10; 3/10] END model__criterion=gini, model__max_depth=20, model__splitter=random;, score=0.914 total time=   0.0s\n",
      "[CV 8/10; 3/10] START model__criterion=gini, model__max_depth=20, model__splitter=random\n",
      "[CV 8/10; 3/10] END model__criterion=gini, model__max_depth=20, model__splitter=random;, score=0.824 total time=   0.0s\n",
      "[CV 9/10; 3/10] START model__criterion=gini, model__max_depth=20, model__splitter=random\n",
      "[CV 9/10; 3/10] END model__criterion=gini, model__max_depth=20, model__splitter=random;, score=0.971 total time=   0.0s\n",
      "[CV 10/10; 3/10] START model__criterion=gini, model__max_depth=20, model__splitter=random\n",
      "[CV 10/10; 3/10] END model__criterion=gini, model__max_depth=20, model__splitter=random;, score=0.941 total time=   0.0s\n",
      "[CV 1/10; 4/10] START model__criterion=log_loss, model__max_depth=20, model__splitter=random\n",
      "[CV 1/10; 4/10] END model__criterion=log_loss, model__max_depth=20, model__splitter=random;, score=0.970 total time=   0.0s\n",
      "[CV 2/10; 4/10] START model__criterion=log_loss, model__max_depth=20, model__splitter=random\n",
      "[CV 2/10; 4/10] END model__criterion=log_loss, model__max_depth=20, model__splitter=random;, score=0.938 total time=   0.0s\n",
      "[CV 3/10; 4/10] START model__criterion=log_loss, model__max_depth=20, model__splitter=random\n",
      "[CV 3/10; 4/10] END model__criterion=log_loss, model__max_depth=20, model__splitter=random;, score=0.971 total time=   0.0s\n",
      "[CV 4/10; 4/10] START model__criterion=log_loss, model__max_depth=20, model__splitter=random\n",
      "[CV 4/10; 4/10] END model__criterion=log_loss, model__max_depth=20, model__splitter=random;, score=0.914 total time=   0.0s\n",
      "[CV 5/10; 4/10] START model__criterion=log_loss, model__max_depth=20, model__splitter=random\n",
      "[CV 5/10; 4/10] END model__criterion=log_loss, model__max_depth=20, model__splitter=random;, score=0.882 total time=   0.0s\n",
      "[CV 6/10; 4/10] START model__criterion=log_loss, model__max_depth=20, model__splitter=random\n",
      "[CV 6/10; 4/10] END model__criterion=log_loss, model__max_depth=20, model__splitter=random;, score=0.848 total time=   0.0s\n",
      "[CV 7/10; 4/10] START model__criterion=log_loss, model__max_depth=20, model__splitter=random\n",
      "[CV 7/10; 4/10] END model__criterion=log_loss, model__max_depth=20, model__splitter=random;, score=0.882 total time=   0.0s\n",
      "[CV 8/10; 4/10] START model__criterion=log_loss, model__max_depth=20, model__splitter=random\n",
      "[CV 8/10; 4/10] END model__criterion=log_loss, model__max_depth=20, model__splitter=random;, score=0.857 total time=   0.0s\n",
      "[CV 9/10; 4/10] START model__criterion=log_loss, model__max_depth=20, model__splitter=random\n",
      "[CV 9/10; 4/10] END model__criterion=log_loss, model__max_depth=20, model__splitter=random;, score=0.914 total time=   0.0s\n",
      "[CV 10/10; 4/10] START model__criterion=log_loss, model__max_depth=20, model__splitter=random\n",
      "[CV 10/10; 4/10] END model__criterion=log_loss, model__max_depth=20, model__splitter=random;, score=0.889 total time=   0.0s\n",
      "[CV 1/10; 5/10] START model__criterion=gini, model__max_depth=15, model__splitter=random\n",
      "[CV 1/10; 5/10] END model__criterion=gini, model__max_depth=15, model__splitter=random;, score=0.941 total time=   0.0s\n",
      "[CV 2/10; 5/10] START model__criterion=gini, model__max_depth=15, model__splitter=random\n",
      "[CV 2/10; 5/10] END model__criterion=gini, model__max_depth=15, model__splitter=random;, score=0.882 total time=   0.0s\n",
      "[CV 3/10; 5/10] START model__criterion=gini, model__max_depth=15, model__splitter=random\n",
      "[CV 3/10; 5/10] END model__criterion=gini, model__max_depth=15, model__splitter=random;, score=0.944 total time=   0.0s\n",
      "[CV 4/10; 5/10] START model__criterion=gini, model__max_depth=15, model__splitter=random\n",
      "[CV 4/10; 5/10] END model__criterion=gini, model__max_depth=15, model__splitter=random;, score=1.000 total time=   0.0s\n",
      "[CV 5/10; 5/10] START model__criterion=gini, model__max_depth=15, model__splitter=random\n",
      "[CV 5/10; 5/10] END model__criterion=gini, model__max_depth=15, model__splitter=random;, score=0.889 total time=   0.0s\n",
      "[CV 6/10; 5/10] START model__criterion=gini, model__max_depth=15, model__splitter=random\n",
      "[CV 6/10; 5/10] END model__criterion=gini, model__max_depth=15, model__splitter=random;, score=0.970 total time=   0.0s\n",
      "[CV 7/10; 5/10] START model__criterion=gini, model__max_depth=15, model__splitter=random\n",
      "[CV 7/10; 5/10] END model__criterion=gini, model__max_depth=15, model__splitter=random;, score=0.914 total time=   0.0s\n",
      "[CV 8/10; 5/10] START model__criterion=gini, model__max_depth=15, model__splitter=random\n",
      "[CV 8/10; 5/10] END model__criterion=gini, model__max_depth=15, model__splitter=random;, score=0.824 total time=   0.0s\n",
      "[CV 9/10; 5/10] START model__criterion=gini, model__max_depth=15, model__splitter=random\n",
      "[CV 9/10; 5/10] END model__criterion=gini, model__max_depth=15, model__splitter=random;, score=0.971 total time=   0.0s\n",
      "[CV 10/10; 5/10] START model__criterion=gini, model__max_depth=15, model__splitter=random\n",
      "[CV 10/10; 5/10] END model__criterion=gini, model__max_depth=15, model__splitter=random;, score=0.941 total time=   0.0s\n",
      "[CV 1/10; 6/10] START model__criterion=gini, model__max_depth=5, model__splitter=best\n",
      "[CV 1/10; 6/10] END model__criterion=gini, model__max_depth=5, model__splitter=best;, score=0.971 total time=   0.0s\n",
      "[CV 2/10; 6/10] START model__criterion=gini, model__max_depth=5, model__splitter=best\n",
      "[CV 2/10; 6/10] END model__criterion=gini, model__max_depth=5, model__splitter=best;, score=0.875 total time=   0.0s\n",
      "[CV 3/10; 6/10] START model__criterion=gini, model__max_depth=5, model__splitter=best\n",
      "[CV 3/10; 6/10] END model__criterion=gini, model__max_depth=5, model__splitter=best;, score=0.971 total time=   0.0s\n",
      "[CV 4/10; 6/10] START model__criterion=gini, model__max_depth=5, model__splitter=best\n",
      "[CV 4/10; 6/10] END model__criterion=gini, model__max_depth=5, model__splitter=best;, score=0.941 total time=   0.0s\n",
      "[CV 5/10; 6/10] START model__criterion=gini, model__max_depth=5, model__splitter=best\n",
      "[CV 5/10; 6/10] END model__criterion=gini, model__max_depth=5, model__splitter=best;, score=0.812 total time=   0.0s\n",
      "[CV 6/10; 6/10] START model__criterion=gini, model__max_depth=5, model__splitter=best\n",
      "[CV 6/10; 6/10] END model__criterion=gini, model__max_depth=5, model__splitter=best;, score=0.839 total time=   0.0s\n",
      "[CV 7/10; 6/10] START model__criterion=gini, model__max_depth=5, model__splitter=best\n",
      "[CV 7/10; 6/10] END model__criterion=gini, model__max_depth=5, model__splitter=best;, score=0.812 total time=   0.0s\n",
      "[CV 8/10; 6/10] START model__criterion=gini, model__max_depth=5, model__splitter=best\n",
      "[CV 8/10; 6/10] END model__criterion=gini, model__max_depth=5, model__splitter=best;, score=0.882 total time=   0.0s\n",
      "[CV 9/10; 6/10] START model__criterion=gini, model__max_depth=5, model__splitter=best\n",
      "[CV 9/10; 6/10] END model__criterion=gini, model__max_depth=5, model__splitter=best;, score=0.909 total time=   0.0s\n",
      "[CV 10/10; 6/10] START model__criterion=gini, model__max_depth=5, model__splitter=best\n",
      "[CV 10/10; 6/10] END model__criterion=gini, model__max_depth=5, model__splitter=best;, score=0.938 total time=   0.0s\n",
      "[CV 1/10; 7/10] START model__criterion=log_loss, model__max_depth=15, model__splitter=random\n",
      "[CV 1/10; 7/10] END model__criterion=log_loss, model__max_depth=15, model__splitter=random;, score=0.970 total time=   0.0s\n",
      "[CV 2/10; 7/10] START model__criterion=log_loss, model__max_depth=15, model__splitter=random\n",
      "[CV 2/10; 7/10] END model__criterion=log_loss, model__max_depth=15, model__splitter=random;, score=0.938 total time=   0.0s\n",
      "[CV 3/10; 7/10] START model__criterion=log_loss, model__max_depth=15, model__splitter=random\n",
      "[CV 3/10; 7/10] END model__criterion=log_loss, model__max_depth=15, model__splitter=random;, score=0.971 total time=   0.0s\n",
      "[CV 4/10; 7/10] START model__criterion=log_loss, model__max_depth=15, model__splitter=random\n",
      "[CV 4/10; 7/10] END model__criterion=log_loss, model__max_depth=15, model__splitter=random;, score=0.914 total time=   0.0s\n",
      "[CV 5/10; 7/10] START model__criterion=log_loss, model__max_depth=15, model__splitter=random\n",
      "[CV 5/10; 7/10] END model__criterion=log_loss, model__max_depth=15, model__splitter=random;, score=0.882 total time=   0.0s\n",
      "[CV 6/10; 7/10] START model__criterion=log_loss, model__max_depth=15, model__splitter=random\n",
      "[CV 6/10; 7/10] END model__criterion=log_loss, model__max_depth=15, model__splitter=random;, score=0.848 total time=   0.0s\n",
      "[CV 7/10; 7/10] START model__criterion=log_loss, model__max_depth=15, model__splitter=random\n",
      "[CV 7/10; 7/10] END model__criterion=log_loss, model__max_depth=15, model__splitter=random;, score=0.882 total time=   0.0s\n",
      "[CV 8/10; 7/10] START model__criterion=log_loss, model__max_depth=15, model__splitter=random\n",
      "[CV 8/10; 7/10] END model__criterion=log_loss, model__max_depth=15, model__splitter=random;, score=0.857 total time=   0.0s\n",
      "[CV 9/10; 7/10] START model__criterion=log_loss, model__max_depth=15, model__splitter=random\n",
      "[CV 9/10; 7/10] END model__criterion=log_loss, model__max_depth=15, model__splitter=random;, score=0.914 total time=   0.0s\n",
      "[CV 10/10; 7/10] START model__criterion=log_loss, model__max_depth=15, model__splitter=random\n",
      "[CV 10/10; 7/10] END model__criterion=log_loss, model__max_depth=15, model__splitter=random;, score=0.889 total time=   0.0s\n",
      "[CV 1/10; 8/10] START model__criterion=entropy, model__max_depth=10, model__splitter=random\n",
      "[CV 1/10; 8/10] END model__criterion=entropy, model__max_depth=10, model__splitter=random;, score=0.970 total time=   0.0s\n",
      "[CV 2/10; 8/10] START model__criterion=entropy, model__max_depth=10, model__splitter=random\n",
      "[CV 2/10; 8/10] END model__criterion=entropy, model__max_depth=10, model__splitter=random;, score=0.938 total time=   0.0s\n",
      "[CV 3/10; 8/10] START model__criterion=entropy, model__max_depth=10, model__splitter=random\n",
      "[CV 3/10; 8/10] END model__criterion=entropy, model__max_depth=10, model__splitter=random;, score=0.971 total time=   0.0s\n",
      "[CV 4/10; 8/10] START model__criterion=entropy, model__max_depth=10, model__splitter=random\n",
      "[CV 4/10; 8/10] END model__criterion=entropy, model__max_depth=10, model__splitter=random;, score=0.914 total time=   0.0s\n",
      "[CV 5/10; 8/10] START model__criterion=entropy, model__max_depth=10, model__splitter=random\n",
      "[CV 5/10; 8/10] END model__criterion=entropy, model__max_depth=10, model__splitter=random;, score=0.882 total time=   0.0s\n",
      "[CV 6/10; 8/10] START model__criterion=entropy, model__max_depth=10, model__splitter=random\n",
      "[CV 6/10; 8/10] END model__criterion=entropy, model__max_depth=10, model__splitter=random;, score=0.848 total time=   0.0s\n",
      "[CV 7/10; 8/10] START model__criterion=entropy, model__max_depth=10, model__splitter=random\n",
      "[CV 7/10; 8/10] END model__criterion=entropy, model__max_depth=10, model__splitter=random;, score=0.882 total time=   0.0s\n",
      "[CV 8/10; 8/10] START model__criterion=entropy, model__max_depth=10, model__splitter=random\n",
      "[CV 8/10; 8/10] END model__criterion=entropy, model__max_depth=10, model__splitter=random;, score=0.857 total time=   0.0s\n",
      "[CV 9/10; 8/10] START model__criterion=entropy, model__max_depth=10, model__splitter=random\n",
      "[CV 9/10; 8/10] END model__criterion=entropy, model__max_depth=10, model__splitter=random;, score=0.914 total time=   0.0s\n",
      "[CV 10/10; 8/10] START model__criterion=entropy, model__max_depth=10, model__splitter=random\n",
      "[CV 10/10; 8/10] END model__criterion=entropy, model__max_depth=10, model__splitter=random;, score=0.889 total time=   0.0s\n",
      "[CV 1/10; 9/10] START model__criterion=gini, model__max_depth=5, model__splitter=random\n",
      "[CV 1/10; 9/10] END model__criterion=gini, model__max_depth=5, model__splitter=random;, score=0.944 total time=   0.0s\n",
      "[CV 2/10; 9/10] START model__criterion=gini, model__max_depth=5, model__splitter=random\n",
      "[CV 2/10; 9/10] END model__criterion=gini, model__max_depth=5, model__splitter=random;, score=0.882 total time=   0.0s\n",
      "[CV 3/10; 9/10] START model__criterion=gini, model__max_depth=5, model__splitter=random\n",
      "[CV 3/10; 9/10] END model__criterion=gini, model__max_depth=5, model__splitter=random;, score=0.882 total time=   0.0s\n",
      "[CV 4/10; 9/10] START model__criterion=gini, model__max_depth=5, model__splitter=random\n",
      "[CV 4/10; 9/10] END model__criterion=gini, model__max_depth=5, model__splitter=random;, score=0.882 total time=   0.0s\n",
      "[CV 5/10; 9/10] START model__criterion=gini, model__max_depth=5, model__splitter=random\n",
      "[CV 5/10; 9/10] END model__criterion=gini, model__max_depth=5, model__splitter=random;, score=0.941 total time=   0.0s\n",
      "[CV 6/10; 9/10] START model__criterion=gini, model__max_depth=5, model__splitter=random\n",
      "[CV 6/10; 9/10] END model__criterion=gini, model__max_depth=5, model__splitter=random;, score=0.875 total time=   0.0s\n",
      "[CV 7/10; 9/10] START model__criterion=gini, model__max_depth=5, model__splitter=random\n",
      "[CV 7/10; 9/10] END model__criterion=gini, model__max_depth=5, model__splitter=random;, score=0.909 total time=   0.0s\n",
      "[CV 8/10; 9/10] START model__criterion=gini, model__max_depth=5, model__splitter=random\n",
      "[CV 8/10; 9/10] END model__criterion=gini, model__max_depth=5, model__splitter=random;, score=0.944 total time=   0.0s\n",
      "[CV 9/10; 9/10] START model__criterion=gini, model__max_depth=5, model__splitter=random\n",
      "[CV 9/10; 9/10] END model__criterion=gini, model__max_depth=5, model__splitter=random;, score=0.970 total time=   0.0s\n",
      "[CV 10/10; 9/10] START model__criterion=gini, model__max_depth=5, model__splitter=random\n",
      "[CV 10/10; 9/10] END model__criterion=gini, model__max_depth=5, model__splitter=random;, score=0.882 total time=   0.0s\n",
      "[CV 1/10; 10/10] START model__criterion=log_loss, model__max_depth=20, model__splitter=best\n",
      "[CV 1/10; 10/10] END model__criterion=log_loss, model__max_depth=20, model__splitter=best;, score=0.971 total time=   0.0s\n",
      "[CV 2/10; 10/10] START model__criterion=log_loss, model__max_depth=20, model__splitter=best\n",
      "[CV 2/10; 10/10] END model__criterion=log_loss, model__max_depth=20, model__splitter=best;, score=0.839 total time=   0.0s\n",
      "[CV 3/10; 10/10] START model__criterion=log_loss, model__max_depth=20, model__splitter=best\n",
      "[CV 3/10; 10/10] END model__criterion=log_loss, model__max_depth=20, model__splitter=best;, score=0.857 total time=   0.0s\n",
      "[CV 4/10; 10/10] START model__criterion=log_loss, model__max_depth=20, model__splitter=best\n",
      "[CV 4/10; 10/10] END model__criterion=log_loss, model__max_depth=20, model__splitter=best;, score=1.000 total time=   0.0s\n",
      "[CV 5/10; 10/10] START model__criterion=log_loss, model__max_depth=20, model__splitter=best\n",
      "[CV 5/10; 10/10] END model__criterion=log_loss, model__max_depth=20, model__splitter=best;, score=0.889 total time=   0.0s\n",
      "[CV 6/10; 10/10] START model__criterion=log_loss, model__max_depth=20, model__splitter=best\n",
      "[CV 6/10; 10/10] END model__criterion=log_loss, model__max_depth=20, model__splitter=best;, score=0.867 total time=   0.0s\n",
      "[CV 7/10; 10/10] START model__criterion=log_loss, model__max_depth=20, model__splitter=best\n",
      "[CV 7/10; 10/10] END model__criterion=log_loss, model__max_depth=20, model__splitter=best;, score=0.882 total time=   0.0s\n",
      "[CV 8/10; 10/10] START model__criterion=log_loss, model__max_depth=20, model__splitter=best\n",
      "[CV 8/10; 10/10] END model__criterion=log_loss, model__max_depth=20, model__splitter=best;, score=0.944 total time=   0.0s\n",
      "[CV 9/10; 10/10] START model__criterion=log_loss, model__max_depth=20, model__splitter=best\n",
      "[CV 9/10; 10/10] END model__criterion=log_loss, model__max_depth=20, model__splitter=best;, score=0.941 total time=   0.0s\n",
      "[CV 10/10; 10/10] START model__criterion=log_loss, model__max_depth=20, model__splitter=best\n",
      "[CV 10/10; 10/10] END model__criterion=log_loss, model__max_depth=20, model__splitter=best;, score=0.941 total time=   0.0s\n"
     ]
    },
    {
     "data": {
      "text/html": [
       "<style>#sk-container-id-2 {color: black;background-color: white;}#sk-container-id-2 pre{padding: 0;}#sk-container-id-2 div.sk-toggleable {background-color: white;}#sk-container-id-2 label.sk-toggleable__label {cursor: pointer;display: block;width: 100%;margin-bottom: 0;padding: 0.3em;box-sizing: border-box;text-align: center;}#sk-container-id-2 label.sk-toggleable__label-arrow:before {content: \"▸\";float: left;margin-right: 0.25em;color: #696969;}#sk-container-id-2 label.sk-toggleable__label-arrow:hover:before {color: black;}#sk-container-id-2 div.sk-estimator:hover label.sk-toggleable__label-arrow:before {color: black;}#sk-container-id-2 div.sk-toggleable__content {max-height: 0;max-width: 0;overflow: hidden;text-align: left;background-color: #f0f8ff;}#sk-container-id-2 div.sk-toggleable__content pre {margin: 0.2em;color: black;border-radius: 0.25em;background-color: #f0f8ff;}#sk-container-id-2 input.sk-toggleable__control:checked~div.sk-toggleable__content {max-height: 200px;max-width: 100%;overflow: auto;}#sk-container-id-2 input.sk-toggleable__control:checked~label.sk-toggleable__label-arrow:before {content: \"▾\";}#sk-container-id-2 div.sk-estimator input.sk-toggleable__control:checked~label.sk-toggleable__label {background-color: #d4ebff;}#sk-container-id-2 div.sk-label input.sk-toggleable__control:checked~label.sk-toggleable__label {background-color: #d4ebff;}#sk-container-id-2 input.sk-hidden--visually {border: 0;clip: rect(1px 1px 1px 1px);clip: rect(1px, 1px, 1px, 1px);height: 1px;margin: -1px;overflow: hidden;padding: 0;position: absolute;width: 1px;}#sk-container-id-2 div.sk-estimator {font-family: monospace;background-color: #f0f8ff;border: 1px dotted black;border-radius: 0.25em;box-sizing: border-box;margin-bottom: 0.5em;}#sk-container-id-2 div.sk-estimator:hover {background-color: #d4ebff;}#sk-container-id-2 div.sk-parallel-item::after {content: \"\";width: 100%;border-bottom: 1px solid gray;flex-grow: 1;}#sk-container-id-2 div.sk-label:hover label.sk-toggleable__label {background-color: #d4ebff;}#sk-container-id-2 div.sk-serial::before {content: \"\";position: absolute;border-left: 1px solid gray;box-sizing: border-box;top: 0;bottom: 0;left: 50%;z-index: 0;}#sk-container-id-2 div.sk-serial {display: flex;flex-direction: column;align-items: center;background-color: white;padding-right: 0.2em;padding-left: 0.2em;position: relative;}#sk-container-id-2 div.sk-item {position: relative;z-index: 1;}#sk-container-id-2 div.sk-parallel {display: flex;align-items: stretch;justify-content: center;background-color: white;position: relative;}#sk-container-id-2 div.sk-item::before, #sk-container-id-2 div.sk-parallel-item::before {content: \"\";position: absolute;border-left: 1px solid gray;box-sizing: border-box;top: 0;bottom: 0;left: 50%;z-index: -1;}#sk-container-id-2 div.sk-parallel-item {display: flex;flex-direction: column;z-index: 1;position: relative;background-color: white;}#sk-container-id-2 div.sk-parallel-item:first-child::after {align-self: flex-end;width: 50%;}#sk-container-id-2 div.sk-parallel-item:last-child::after {align-self: flex-start;width: 50%;}#sk-container-id-2 div.sk-parallel-item:only-child::after {width: 0;}#sk-container-id-2 div.sk-dashed-wrapped {border: 1px dashed gray;margin: 0 0.4em 0.5em 0.4em;box-sizing: border-box;padding-bottom: 0.4em;background-color: white;}#sk-container-id-2 div.sk-label label {font-family: monospace;font-weight: bold;display: inline-block;line-height: 1.2em;}#sk-container-id-2 div.sk-label-container {text-align: center;}#sk-container-id-2 div.sk-container {/* jupyter's `normalize.less` sets `[hidden] { display: none; }` but bootstrap.min.css set `[hidden] { display: none !important; }` so we also need the `!important` here to be able to override the default hidden behavior on the sphinx rendered scikit-learn.org. See: https://github.com/scikit-learn/scikit-learn/issues/21755 */display: inline-block !important;position: relative;}#sk-container-id-2 div.sk-text-repr-fallback {display: none;}</style><div id=\"sk-container-id-2\" class=\"sk-top-container\"><div class=\"sk-text-repr-fallback\"><pre>RandomizedSearchCV(cv=StratifiedKFold(n_splits=10, random_state=42, shuffle=True),\n",
       "                   estimator=Pipeline(steps=[(&#x27;scaler&#x27;, StandardScaler()),\n",
       "                                             (&#x27;model&#x27;,\n",
       "                                              DecisionTreeClassifier(random_state=42))]),\n",
       "                   param_distributions={&#x27;model__criterion&#x27;: [&#x27;gini&#x27;, &#x27;entropy&#x27;,\n",
       "                                                             &#x27;log_loss&#x27;],\n",
       "                                        &#x27;model__max_depth&#x27;: [5, 10, 15, 20],\n",
       "                                        &#x27;model__splitter&#x27;: [&#x27;best&#x27;, &#x27;random&#x27;]},\n",
       "                   scoring=make_scorer(f1_score, pos_label=M), verbose=10)</pre><b>In a Jupyter environment, please rerun this cell to show the HTML representation or trust the notebook. <br />On GitHub, the HTML representation is unable to render, please try loading this page with nbviewer.org.</b></div><div class=\"sk-container\" hidden><div class=\"sk-item sk-dashed-wrapped\"><div class=\"sk-label-container\"><div class=\"sk-label sk-toggleable\"><input class=\"sk-toggleable__control sk-hidden--visually\" id=\"sk-estimator-id-5\" type=\"checkbox\" ><label for=\"sk-estimator-id-5\" class=\"sk-toggleable__label sk-toggleable__label-arrow\">RandomizedSearchCV</label><div class=\"sk-toggleable__content\"><pre>RandomizedSearchCV(cv=StratifiedKFold(n_splits=10, random_state=42, shuffle=True),\n",
       "                   estimator=Pipeline(steps=[(&#x27;scaler&#x27;, StandardScaler()),\n",
       "                                             (&#x27;model&#x27;,\n",
       "                                              DecisionTreeClassifier(random_state=42))]),\n",
       "                   param_distributions={&#x27;model__criterion&#x27;: [&#x27;gini&#x27;, &#x27;entropy&#x27;,\n",
       "                                                             &#x27;log_loss&#x27;],\n",
       "                                        &#x27;model__max_depth&#x27;: [5, 10, 15, 20],\n",
       "                                        &#x27;model__splitter&#x27;: [&#x27;best&#x27;, &#x27;random&#x27;]},\n",
       "                   scoring=make_scorer(f1_score, pos_label=M), verbose=10)</pre></div></div></div><div class=\"sk-parallel\"><div class=\"sk-parallel-item\"><div class=\"sk-item\"><div class=\"sk-label-container\"><div class=\"sk-label sk-toggleable\"><input class=\"sk-toggleable__control sk-hidden--visually\" id=\"sk-estimator-id-6\" type=\"checkbox\" ><label for=\"sk-estimator-id-6\" class=\"sk-toggleable__label sk-toggleable__label-arrow\">estimator: Pipeline</label><div class=\"sk-toggleable__content\"><pre>Pipeline(steps=[(&#x27;scaler&#x27;, StandardScaler()),\n",
       "                (&#x27;model&#x27;, DecisionTreeClassifier(random_state=42))])</pre></div></div></div><div class=\"sk-serial\"><div class=\"sk-item\"><div class=\"sk-serial\"><div class=\"sk-item\"><div class=\"sk-estimator sk-toggleable\"><input class=\"sk-toggleable__control sk-hidden--visually\" id=\"sk-estimator-id-7\" type=\"checkbox\" ><label for=\"sk-estimator-id-7\" class=\"sk-toggleable__label sk-toggleable__label-arrow\">StandardScaler</label><div class=\"sk-toggleable__content\"><pre>StandardScaler()</pre></div></div></div><div class=\"sk-item\"><div class=\"sk-estimator sk-toggleable\"><input class=\"sk-toggleable__control sk-hidden--visually\" id=\"sk-estimator-id-8\" type=\"checkbox\" ><label for=\"sk-estimator-id-8\" class=\"sk-toggleable__label sk-toggleable__label-arrow\">DecisionTreeClassifier</label><div class=\"sk-toggleable__content\"><pre>DecisionTreeClassifier(random_state=42)</pre></div></div></div></div></div></div></div></div></div></div></div></div>"
      ],
      "text/plain": [
       "RandomizedSearchCV(cv=StratifiedKFold(n_splits=10, random_state=42, shuffle=True),\n",
       "                   estimator=Pipeline(steps=[('scaler', StandardScaler()),\n",
       "                                             ('model',\n",
       "                                              DecisionTreeClassifier(random_state=42))]),\n",
       "                   param_distributions={'model__criterion': ['gini', 'entropy',\n",
       "                                                             'log_loss'],\n",
       "                                        'model__max_depth': [5, 10, 15, 20],\n",
       "                                        'model__splitter': ['best', 'random']},\n",
       "                   scoring=make_scorer(f1_score, pos_label=M), verbose=10)"
      ]
     },
     "execution_count": 14,
     "metadata": {},
     "output_type": "execute_result"
    }
   ],
   "source": [
    "# construir o pipeline\n",
    "steps = [('scaler', StandardScaler()), \n",
    "         ('model', DecisionTreeClassifier(random_state = 42))]\n",
    "pipe = Pipeline(steps)\n",
    "\n",
    "# construir o amostrador dos folds\n",
    "cvs = StratifiedKFold(n_splits=10, shuffle=True, random_state=42)\n",
    "\n",
    "# criando a métrica \"adaptada\"\n",
    "score = make_scorer(f1_score, pos_label = 'M')\n",
    "\n",
    "# construir um dicionário de parâmetros\n",
    "param_dict = {\n",
    "    'model__criterion': ['gini', 'entropy', 'log_loss'],\n",
    "    'model__max_depth': [5, 10, 15, 20],\n",
    "    'model__splitter': ['best', 'random']\n",
    "}\n",
    "\n",
    "# criar o objeto selecionador\n",
    "rs_cv = RandomizedSearchCV(pipe, param_dict, scoring = score, cv = cvs, verbose = 10)\n",
    "rs_cv.fit(x_train, y_train)"
   ]
  },
  {
   "cell_type": "code",
   "execution_count": 15,
   "metadata": {},
   "outputs": [
    {
     "name": "stdout",
     "output_type": "stream",
     "text": [
      "Melhores Parâmetros:\n",
      "{'model__splitter': 'random', 'model__max_depth': 20, 'model__criterion': 'gini'}\n",
      "Melhor Métrica Média:\n",
      "0.9276979882862235\n"
     ]
    }
   ],
   "source": [
    "print('Melhores Parâmetros:')\n",
    "print(rs_cv.best_params_)\n",
    "print('Melhor Métrica Média:')\n",
    "print(rs_cv.best_score_)"
   ]
  },
  {
   "cell_type": "code",
   "execution_count": 16,
   "metadata": {},
   "outputs": [],
   "source": [
    "# analisando o melhor modelo\n",
    "# construindo o pipeline\n",
    "steps = [('scaler', StandardScaler()), \n",
    "         ('model', DecisionTreeClassifier(splitter='random',\n",
    "                                          max_depth = 5,\n",
    "                                          criterion = 'log_loss',\n",
    "                                          random_state = 42))]\n",
    "pipe = Pipeline(steps)\n",
    "best_model = pipe.fit(x_train, y_train)\n",
    "\n",
    "# realizando predições\n",
    "yhat = pipe.predict(x_test)"
   ]
  },
  {
   "cell_type": "code",
   "execution_count": 17,
   "metadata": {},
   "outputs": [
    {
     "name": "stdout",
     "output_type": "stream",
     "text": [
      "              precision    recall  f1-score   support\n",
      "\n",
      "           B       0.97      0.97      0.97        72\n",
      "           M       0.95      0.95      0.95        42\n",
      "\n",
      "    accuracy                           0.96       114\n",
      "   macro avg       0.96      0.96      0.96       114\n",
      "weighted avg       0.96      0.96      0.96       114\n",
      "\n"
     ]
    },
    {
     "data": {
      "text/plain": [
       "<sklearn.metrics._plot.confusion_matrix.ConfusionMatrixDisplay at 0x1617f7495e0>"
      ]
     },
     "execution_count": 17,
     "metadata": {},
     "output_type": "execute_result"
    },
    {
     "data": {
      "image/png": "[encoded data removed]",
      "text/plain": [
       "<Figure size 432x288 with 2 Axes>"
      ]
     },
     "metadata": {
      "needs_background": "light"
     },
     "output_type": "display_data"
    }
   ],
   "source": [
    "# relatório de classificação\n",
    "print(classification_report(y_test, yhat))\n",
    "\n",
    "# matriz de confusão\n",
    "ConfusionMatrixDisplay.from_predictions(y_test, yhat)"
   ]
  },
  {
   "cell_type": "markdown",
   "metadata": {},
   "source": [
    "### Random Forest"
   ]
  },
  {
   "cell_type": "code",
   "execution_count": 18,
   "metadata": {},
   "outputs": [
    {
     "name": "stdout",
     "output_type": "stream",
     "text": [
      "Fitting 10 folds for each of 10 candidates, totalling 100 fits\n",
      "[CV 1/10; 1/10] START model__criterion=log_loss, model__max_depth=20, model__n_estimators=20\n",
      "[CV 1/10; 1/10] END model__criterion=log_loss, model__max_depth=20, model__n_estimators=20;, score=1.000 total time=   0.0s\n",
      "[CV 2/10; 1/10] START model__criterion=log_loss, model__max_depth=20, model__n_estimators=20\n",
      "[CV 2/10; 1/10] END model__criterion=log_loss, model__max_depth=20, model__n_estimators=20;, score=0.875 total time=   0.0s\n",
      "[CV 3/10; 1/10] START model__criterion=log_loss, model__max_depth=20, model__n_estimators=20\n",
      "[CV 3/10; 1/10] END model__criterion=log_loss, model__max_depth=20, model__n_estimators=20;, score=1.000 total time=   0.0s\n",
      "[CV 4/10; 1/10] START model__criterion=log_loss, model__max_depth=20, model__n_estimators=20\n",
      "[CV 4/10; 1/10] END model__criterion=log_loss, model__max_depth=20, model__n_estimators=20;, score=1.000 total time=   0.0s\n",
      "[CV 5/10; 1/10] START model__criterion=log_loss, model__max_depth=20, model__n_estimators=20\n",
      "[CV 5/10; 1/10] END model__criterion=log_loss, model__max_depth=20, model__n_estimators=20;, score=0.941 total time=   0.0s\n",
      "[CV 6/10; 1/10] START model__criterion=log_loss, model__max_depth=20, model__n_estimators=20\n",
      "[CV 6/10; 1/10] END model__criterion=log_loss, model__max_depth=20, model__n_estimators=20;, score=0.938 total time=   0.0s\n",
      "[CV 7/10; 1/10] START model__criterion=log_loss, model__max_depth=20, model__n_estimators=20\n",
      "[CV 7/10; 1/10] END model__criterion=log_loss, model__max_depth=20, model__n_estimators=20;, score=0.848 total time=   0.0s\n",
      "[CV 8/10; 1/10] START model__criterion=log_loss, model__max_depth=20, model__n_estimators=20\n",
      "[CV 8/10; 1/10] END model__criterion=log_loss, model__max_depth=20, model__n_estimators=20;, score=0.971 total time=   0.0s\n",
      "[CV 9/10; 1/10] START model__criterion=log_loss, model__max_depth=20, model__n_estimators=20\n",
      "[CV 9/10; 1/10] END model__criterion=log_loss, model__max_depth=20, model__n_estimators=20;, score=1.000 total time=   0.0s\n",
      "[CV 10/10; 1/10] START model__criterion=log_loss, model__max_depth=20, model__n_estimators=20\n",
      "[CV 10/10; 1/10] END model__criterion=log_loss, model__max_depth=20, model__n_estimators=20;, score=0.938 total time=   0.0s\n",
      "[CV 1/10; 2/10] START model__criterion=gini, model__max_depth=15, model__n_estimators=200\n",
      "[CV 1/10; 2/10] END model__criterion=gini, model__max_depth=15, model__n_estimators=200;, score=1.000 total time=   0.3s\n",
      "[CV 2/10; 2/10] START model__criterion=gini, model__max_depth=15, model__n_estimators=200\n",
      "[CV 2/10; 2/10] END model__criterion=gini, model__max_depth=15, model__n_estimators=200;, score=0.875 total time=   0.3s\n",
      "[CV 3/10; 2/10] START model__criterion=gini, model__max_depth=15, model__n_estimators=200\n",
      "[CV 3/10; 2/10] END model__criterion=gini, model__max_depth=15, model__n_estimators=200;, score=1.000 total time=   0.4s\n",
      "[CV 4/10; 2/10] START model__criterion=gini, model__max_depth=15, model__n_estimators=200\n",
      "[CV 4/10; 2/10] END model__criterion=gini, model__max_depth=15, model__n_estimators=200;, score=1.000 total time=   0.3s\n",
      "[CV 5/10; 2/10] START model__criterion=gini, model__max_depth=15, model__n_estimators=200\n",
      "[CV 5/10; 2/10] END model__criterion=gini, model__max_depth=15, model__n_estimators=200;, score=0.882 total time=   0.3s\n",
      "[CV 6/10; 2/10] START model__criterion=gini, model__max_depth=15, model__n_estimators=200\n",
      "[CV 6/10; 2/10] END model__criterion=gini, model__max_depth=15, model__n_estimators=200;, score=0.938 total time=   0.3s\n",
      "[CV 7/10; 2/10] START model__criterion=gini, model__max_depth=15, model__n_estimators=200\n",
      "[CV 7/10; 2/10] END model__criterion=gini, model__max_depth=15, model__n_estimators=200;, score=0.875 total time=   0.3s\n",
      "[CV 8/10; 2/10] START model__criterion=gini, model__max_depth=15, model__n_estimators=200\n",
      "[CV 8/10; 2/10] END model__criterion=gini, model__max_depth=15, model__n_estimators=200;, score=0.971 total time=   0.4s\n",
      "[CV 9/10; 2/10] START model__criterion=gini, model__max_depth=15, model__n_estimators=200\n",
      "[CV 9/10; 2/10] END model__criterion=gini, model__max_depth=15, model__n_estimators=200;, score=1.000 total time=   0.3s\n",
      "[CV 10/10; 2/10] START model__criterion=gini, model__max_depth=15, model__n_estimators=200\n",
      "[CV 10/10; 2/10] END model__criterion=gini, model__max_depth=15, model__n_estimators=200;, score=0.909 total time=   0.3s\n",
      "[CV 1/10; 3/10] START model__criterion=gini, model__max_depth=5, model__n_estimators=20\n",
      "[CV 1/10; 3/10] END model__criterion=gini, model__max_depth=5, model__n_estimators=20;, score=0.970 total time=   0.0s\n",
      "[CV 2/10; 3/10] START model__criterion=gini, model__max_depth=5, model__n_estimators=20\n",
      "[CV 2/10; 3/10] END model__criterion=gini, model__max_depth=5, model__n_estimators=20;, score=0.909 total time=   0.0s\n",
      "[CV 3/10; 3/10] START model__criterion=gini, model__max_depth=5, model__n_estimators=20\n",
      "[CV 3/10; 3/10] END model__criterion=gini, model__max_depth=5, model__n_estimators=20;, score=1.000 total time=   0.0s\n",
      "[CV 4/10; 3/10] START model__criterion=gini, model__max_depth=5, model__n_estimators=20\n",
      "[CV 4/10; 3/10] END model__criterion=gini, model__max_depth=5, model__n_estimators=20;, score=0.971 total time=   0.0s\n",
      "[CV 5/10; 3/10] START model__criterion=gini, model__max_depth=5, model__n_estimators=20\n",
      "[CV 5/10; 3/10] END model__criterion=gini, model__max_depth=5, model__n_estimators=20;, score=0.909 total time=   0.0s\n",
      "[CV 6/10; 3/10] START model__criterion=gini, model__max_depth=5, model__n_estimators=20\n",
      "[CV 6/10; 3/10] END model__criterion=gini, model__max_depth=5, model__n_estimators=20;, score=0.938 total time=   0.0s\n",
      "[CV 7/10; 3/10] START model__criterion=gini, model__max_depth=5, model__n_estimators=20\n",
      "[CV 7/10; 3/10] END model__criterion=gini, model__max_depth=5, model__n_estimators=20;, score=0.875 total time=   0.0s\n",
      "[CV 8/10; 3/10] START model__criterion=gini, model__max_depth=5, model__n_estimators=20\n",
      "[CV 8/10; 3/10] END model__criterion=gini, model__max_depth=5, model__n_estimators=20;, score=0.941 total time=   0.0s\n",
      "[CV 9/10; 3/10] START model__criterion=gini, model__max_depth=5, model__n_estimators=20\n",
      "[CV 9/10; 3/10] END model__criterion=gini, model__max_depth=5, model__n_estimators=20;, score=1.000 total time=   0.0s\n",
      "[CV 10/10; 3/10] START model__criterion=gini, model__max_depth=5, model__n_estimators=20\n",
      "[CV 10/10; 3/10] END model__criterion=gini, model__max_depth=5, model__n_estimators=20;, score=0.970 total time=   0.0s\n",
      "[CV 1/10; 4/10] START model__criterion=log_loss, model__max_depth=15, model__n_estimators=100\n",
      "[CV 1/10; 4/10] END model__criterion=log_loss, model__max_depth=15, model__n_estimators=100;, score=1.000 total time=   0.2s\n",
      "[CV 2/10; 4/10] START model__criterion=log_loss, model__max_depth=15, model__n_estimators=100\n",
      "[CV 2/10; 4/10] END model__criterion=log_loss, model__max_depth=15, model__n_estimators=100;, score=0.909 total time=   0.1s\n",
      "[CV 3/10; 4/10] START model__criterion=log_loss, model__max_depth=15, model__n_estimators=100\n",
      "[CV 3/10; 4/10] END model__criterion=log_loss, model__max_depth=15, model__n_estimators=100;, score=1.000 total time=   0.1s\n",
      "[CV 4/10; 4/10] START model__criterion=log_loss, model__max_depth=15, model__n_estimators=100\n",
      "[CV 4/10; 4/10] END model__criterion=log_loss, model__max_depth=15, model__n_estimators=100;, score=1.000 total time=   0.2s\n",
      "[CV 5/10; 4/10] START model__criterion=log_loss, model__max_depth=15, model__n_estimators=100\n",
      "[CV 5/10; 4/10] END model__criterion=log_loss, model__max_depth=15, model__n_estimators=100;, score=0.914 total time=   0.2s\n",
      "[CV 6/10; 4/10] START model__criterion=log_loss, model__max_depth=15, model__n_estimators=100\n",
      "[CV 6/10; 4/10] END model__criterion=log_loss, model__max_depth=15, model__n_estimators=100;, score=0.938 total time=   0.1s\n",
      "[CV 7/10; 4/10] START model__criterion=log_loss, model__max_depth=15, model__n_estimators=100\n",
      "[CV 7/10; 4/10] END model__criterion=log_loss, model__max_depth=15, model__n_estimators=100;, score=0.909 total time=   0.1s\n",
      "[CV 8/10; 4/10] START model__criterion=log_loss, model__max_depth=15, model__n_estimators=100\n",
      "[CV 8/10; 4/10] END model__criterion=log_loss, model__max_depth=15, model__n_estimators=100;, score=0.971 total time=   0.2s\n",
      "[CV 9/10; 4/10] START model__criterion=log_loss, model__max_depth=15, model__n_estimators=100\n",
      "[CV 9/10; 4/10] END model__criterion=log_loss, model__max_depth=15, model__n_estimators=100;, score=1.000 total time=   0.1s\n",
      "[CV 10/10; 4/10] START model__criterion=log_loss, model__max_depth=15, model__n_estimators=100\n",
      "[CV 10/10; 4/10] END model__criterion=log_loss, model__max_depth=15, model__n_estimators=100;, score=0.970 total time=   0.1s\n",
      "[CV 1/10; 5/10] START model__criterion=log_loss, model__max_depth=15, model__n_estimators=20\n",
      "[CV 1/10; 5/10] END model__criterion=log_loss, model__max_depth=15, model__n_estimators=20;, score=1.000 total time=   0.0s\n",
      "[CV 2/10; 5/10] START model__criterion=log_loss, model__max_depth=15, model__n_estimators=20\n",
      "[CV 2/10; 5/10] END model__criterion=log_loss, model__max_depth=15, model__n_estimators=20;, score=0.875 total time=   0.0s\n",
      "[CV 3/10; 5/10] START model__criterion=log_loss, model__max_depth=15, model__n_estimators=20\n",
      "[CV 3/10; 5/10] END model__criterion=log_loss, model__max_depth=15, model__n_estimators=20;, score=1.000 total time=   0.0s\n",
      "[CV 4/10; 5/10] START model__criterion=log_loss, model__max_depth=15, model__n_estimators=20\n",
      "[CV 4/10; 5/10] END model__criterion=log_loss, model__max_depth=15, model__n_estimators=20;, score=1.000 total time=   0.0s\n",
      "[CV 5/10; 5/10] START model__criterion=log_loss, model__max_depth=15, model__n_estimators=20\n",
      "[CV 5/10; 5/10] END model__criterion=log_loss, model__max_depth=15, model__n_estimators=20;, score=0.941 total time=   0.0s\n",
      "[CV 6/10; 5/10] START model__criterion=log_loss, model__max_depth=15, model__n_estimators=20\n",
      "[CV 6/10; 5/10] END model__criterion=log_loss, model__max_depth=15, model__n_estimators=20;, score=0.938 total time=   0.0s\n",
      "[CV 7/10; 5/10] START model__criterion=log_loss, model__max_depth=15, model__n_estimators=20\n",
      "[CV 7/10; 5/10] END model__criterion=log_loss, model__max_depth=15, model__n_estimators=20;, score=0.848 total time=   0.0s\n",
      "[CV 8/10; 5/10] START model__criterion=log_loss, model__max_depth=15, model__n_estimators=20\n",
      "[CV 8/10; 5/10] END model__criterion=log_loss, model__max_depth=15, model__n_estimators=20;, score=0.971 total time=   0.0s\n",
      "[CV 9/10; 5/10] START model__criterion=log_loss, model__max_depth=15, model__n_estimators=20\n",
      "[CV 9/10; 5/10] END model__criterion=log_loss, model__max_depth=15, model__n_estimators=20;, score=1.000 total time=   0.0s\n",
      "[CV 10/10; 5/10] START model__criterion=log_loss, model__max_depth=15, model__n_estimators=20\n",
      "[CV 10/10; 5/10] END model__criterion=log_loss, model__max_depth=15, model__n_estimators=20;, score=0.938 total time=   0.0s\n",
      "[CV 1/10; 6/10] START model__criterion=gini, model__max_depth=5, model__n_estimators=200\n",
      "[CV 1/10; 6/10] END model__criterion=gini, model__max_depth=5, model__n_estimators=200;, score=1.000 total time=   0.4s\n",
      "[CV 2/10; 6/10] START model__criterion=gini, model__max_depth=5, model__n_estimators=200\n",
      "[CV 2/10; 6/10] END model__criterion=gini, model__max_depth=5, model__n_estimators=200;, score=0.875 total time=   0.3s\n",
      "[CV 3/10; 6/10] START model__criterion=gini, model__max_depth=5, model__n_estimators=200\n",
      "[CV 3/10; 6/10] END model__criterion=gini, model__max_depth=5, model__n_estimators=200;, score=1.000 total time=   0.3s\n",
      "[CV 4/10; 6/10] START model__criterion=gini, model__max_depth=5, model__n_estimators=200\n",
      "[CV 4/10; 6/10] END model__criterion=gini, model__max_depth=5, model__n_estimators=200;, score=1.000 total time=   0.3s\n",
      "[CV 5/10; 6/10] START model__criterion=gini, model__max_depth=5, model__n_estimators=200\n",
      "[CV 5/10; 6/10] END model__criterion=gini, model__max_depth=5, model__n_estimators=200;, score=0.882 total time=   0.3s\n",
      "[CV 6/10; 6/10] START model__criterion=gini, model__max_depth=5, model__n_estimators=200\n",
      "[CV 6/10; 6/10] END model__criterion=gini, model__max_depth=5, model__n_estimators=200;, score=0.938 total time=   0.3s\n",
      "[CV 7/10; 6/10] START model__criterion=gini, model__max_depth=5, model__n_estimators=200\n",
      "[CV 7/10; 6/10] END model__criterion=gini, model__max_depth=5, model__n_estimators=200;, score=0.909 total time=   0.3s\n",
      "[CV 8/10; 6/10] START model__criterion=gini, model__max_depth=5, model__n_estimators=200\n",
      "[CV 8/10; 6/10] END model__criterion=gini, model__max_depth=5, model__n_estimators=200;, score=0.971 total time=   0.3s\n",
      "[CV 9/10; 6/10] START model__criterion=gini, model__max_depth=5, model__n_estimators=200\n",
      "[CV 9/10; 6/10] END model__criterion=gini, model__max_depth=5, model__n_estimators=200;, score=1.000 total time=   0.3s\n",
      "[CV 10/10; 6/10] START model__criterion=gini, model__max_depth=5, model__n_estimators=200\n",
      "[CV 10/10; 6/10] END model__criterion=gini, model__max_depth=5, model__n_estimators=200;, score=0.909 total time=   0.3s\n",
      "[CV 1/10; 7/10] START model__criterion=gini, model__max_depth=15, model__n_estimators=20\n",
      "[CV 1/10; 7/10] END model__criterion=gini, model__max_depth=15, model__n_estimators=20;, score=1.000 total time=   0.0s\n",
      "[CV 2/10; 7/10] START model__criterion=gini, model__max_depth=15, model__n_estimators=20\n",
      "[CV 2/10; 7/10] END model__criterion=gini, model__max_depth=15, model__n_estimators=20;, score=0.909 total time=   0.0s\n",
      "[CV 3/10; 7/10] START model__criterion=gini, model__max_depth=15, model__n_estimators=20\n",
      "[CV 3/10; 7/10] END model__criterion=gini, model__max_depth=15, model__n_estimators=20;, score=0.971 total time=   0.0s\n",
      "[CV 4/10; 7/10] START model__criterion=gini, model__max_depth=15, model__n_estimators=20\n",
      "[CV 4/10; 7/10] END model__criterion=gini, model__max_depth=15, model__n_estimators=20;, score=1.000 total time=   0.0s\n",
      "[CV 5/10; 7/10] START model__criterion=gini, model__max_depth=15, model__n_estimators=20\n",
      "[CV 5/10; 7/10] END model__criterion=gini, model__max_depth=15, model__n_estimators=20;, score=0.938 total time=   0.0s\n",
      "[CV 6/10; 7/10] START model__criterion=gini, model__max_depth=15, model__n_estimators=20\n",
      "[CV 6/10; 7/10] END model__criterion=gini, model__max_depth=15, model__n_estimators=20;, score=0.938 total time=   0.0s\n",
      "[CV 7/10; 7/10] START model__criterion=gini, model__max_depth=15, model__n_estimators=20\n",
      "[CV 7/10; 7/10] END model__criterion=gini, model__max_depth=15, model__n_estimators=20;, score=0.909 total time=   0.0s\n",
      "[CV 8/10; 7/10] START model__criterion=gini, model__max_depth=15, model__n_estimators=20\n",
      "[CV 8/10; 7/10] END model__criterion=gini, model__max_depth=15, model__n_estimators=20;, score=0.971 total time=   0.0s\n",
      "[CV 9/10; 7/10] START model__criterion=gini, model__max_depth=15, model__n_estimators=20\n",
      "[CV 9/10; 7/10] END model__criterion=gini, model__max_depth=15, model__n_estimators=20;, score=0.970 total time=   0.0s\n",
      "[CV 10/10; 7/10] START model__criterion=gini, model__max_depth=15, model__n_estimators=20\n",
      "[CV 10/10; 7/10] END model__criterion=gini, model__max_depth=15, model__n_estimators=20;, score=0.970 total time=   0.0s\n",
      "[CV 1/10; 8/10] START model__criterion=entropy, model__max_depth=10, model__n_estimators=20\n",
      "[CV 1/10; 8/10] END model__criterion=entropy, model__max_depth=10, model__n_estimators=20;, score=1.000 total time=   0.0s\n",
      "[CV 2/10; 8/10] START model__criterion=entropy, model__max_depth=10, model__n_estimators=20\n",
      "[CV 2/10; 8/10] END model__criterion=entropy, model__max_depth=10, model__n_estimators=20;, score=0.875 total time=   0.0s\n",
      "[CV 3/10; 8/10] START model__criterion=entropy, model__max_depth=10, model__n_estimators=20\n",
      "[CV 3/10; 8/10] END model__criterion=entropy, model__max_depth=10, model__n_estimators=20;, score=1.000 total time=   0.0s\n",
      "[CV 4/10; 8/10] START model__criterion=entropy, model__max_depth=10, model__n_estimators=20\n",
      "[CV 4/10; 8/10] END model__criterion=entropy, model__max_depth=10, model__n_estimators=20;, score=1.000 total time=   0.0s\n",
      "[CV 5/10; 8/10] START model__criterion=entropy, model__max_depth=10, model__n_estimators=20\n",
      "[CV 5/10; 8/10] END model__criterion=entropy, model__max_depth=10, model__n_estimators=20;, score=0.941 total time=   0.0s\n",
      "[CV 6/10; 8/10] START model__criterion=entropy, model__max_depth=10, model__n_estimators=20\n",
      "[CV 6/10; 8/10] END model__criterion=entropy, model__max_depth=10, model__n_estimators=20;, score=0.938 total time=   0.0s\n",
      "[CV 7/10; 8/10] START model__criterion=entropy, model__max_depth=10, model__n_estimators=20\n",
      "[CV 7/10; 8/10] END model__criterion=entropy, model__max_depth=10, model__n_estimators=20;, score=0.848 total time=   0.0s\n",
      "[CV 8/10; 8/10] START model__criterion=entropy, model__max_depth=10, model__n_estimators=20\n",
      "[CV 8/10; 8/10] END model__criterion=entropy, model__max_depth=10, model__n_estimators=20;, score=0.971 total time=   0.0s\n",
      "[CV 9/10; 8/10] START model__criterion=entropy, model__max_depth=10, model__n_estimators=20\n",
      "[CV 9/10; 8/10] END model__criterion=entropy, model__max_depth=10, model__n_estimators=20;, score=1.000 total time=   0.0s\n",
      "[CV 10/10; 8/10] START model__criterion=entropy, model__max_depth=10, model__n_estimators=20\n",
      "[CV 10/10; 8/10] END model__criterion=entropy, model__max_depth=10, model__n_estimators=20;, score=0.938 total time=   0.0s\n",
      "[CV 1/10; 9/10] START model__criterion=gini, model__max_depth=10, model__n_estimators=20\n",
      "[CV 1/10; 9/10] END model__criterion=gini, model__max_depth=10, model__n_estimators=20;, score=1.000 total time=   0.0s\n",
      "[CV 2/10; 9/10] START model__criterion=gini, model__max_depth=10, model__n_estimators=20\n",
      "[CV 2/10; 9/10] END model__criterion=gini, model__max_depth=10, model__n_estimators=20;, score=0.909 total time=   0.0s\n",
      "[CV 3/10; 9/10] START model__criterion=gini, model__max_depth=10, model__n_estimators=20\n",
      "[CV 3/10; 9/10] END model__criterion=gini, model__max_depth=10, model__n_estimators=20;, score=0.971 total time=   0.0s\n",
      "[CV 4/10; 9/10] START model__criterion=gini, model__max_depth=10, model__n_estimators=20\n",
      "[CV 4/10; 9/10] END model__criterion=gini, model__max_depth=10, model__n_estimators=20;, score=1.000 total time=   0.0s\n",
      "[CV 5/10; 9/10] START model__criterion=gini, model__max_depth=10, model__n_estimators=20\n",
      "[CV 5/10; 9/10] END model__criterion=gini, model__max_depth=10, model__n_estimators=20;, score=0.938 total time=   0.0s\n",
      "[CV 6/10; 9/10] START model__criterion=gini, model__max_depth=10, model__n_estimators=20\n",
      "[CV 6/10; 9/10] END model__criterion=gini, model__max_depth=10, model__n_estimators=20;, score=0.938 total time=   0.0s\n",
      "[CV 7/10; 9/10] START model__criterion=gini, model__max_depth=10, model__n_estimators=20\n",
      "[CV 7/10; 9/10] END model__criterion=gini, model__max_depth=10, model__n_estimators=20;, score=0.909 total time=   0.0s\n",
      "[CV 8/10; 9/10] START model__criterion=gini, model__max_depth=10, model__n_estimators=20\n",
      "[CV 8/10; 9/10] END model__criterion=gini, model__max_depth=10, model__n_estimators=20;, score=0.971 total time=   0.0s\n",
      "[CV 9/10; 9/10] START model__criterion=gini, model__max_depth=10, model__n_estimators=20\n",
      "[CV 9/10; 9/10] END model__criterion=gini, model__max_depth=10, model__n_estimators=20;, score=0.970 total time=   0.0s\n",
      "[CV 10/10; 9/10] START model__criterion=gini, model__max_depth=10, model__n_estimators=20\n",
      "[CV 10/10; 9/10] END model__criterion=gini, model__max_depth=10, model__n_estimators=20;, score=0.970 total time=   0.0s\n",
      "[CV 1/10; 10/10] START model__criterion=gini, model__max_depth=20, model__n_estimators=50\n",
      "[CV 1/10; 10/10] END model__criterion=gini, model__max_depth=20, model__n_estimators=50;, score=1.000 total time=   0.0s\n",
      "[CV 2/10; 10/10] START model__criterion=gini, model__max_depth=20, model__n_estimators=50\n",
      "[CV 2/10; 10/10] END model__criterion=gini, model__max_depth=20, model__n_estimators=50;, score=0.909 total time=   0.0s\n",
      "[CV 3/10; 10/10] START model__criterion=gini, model__max_depth=20, model__n_estimators=50\n",
      "[CV 3/10; 10/10] END model__criterion=gini, model__max_depth=20, model__n_estimators=50;, score=0.971 total time=   0.0s\n",
      "[CV 4/10; 10/10] START model__criterion=gini, model__max_depth=20, model__n_estimators=50\n",
      "[CV 4/10; 10/10] END model__criterion=gini, model__max_depth=20, model__n_estimators=50;, score=1.000 total time=   0.0s\n",
      "[CV 5/10; 10/10] START model__criterion=gini, model__max_depth=20, model__n_estimators=50\n",
      "[CV 5/10; 10/10] END model__criterion=gini, model__max_depth=20, model__n_estimators=50;, score=0.882 total time=   0.0s\n",
      "[CV 6/10; 10/10] START model__criterion=gini, model__max_depth=20, model__n_estimators=50\n",
      "[CV 6/10; 10/10] END model__criterion=gini, model__max_depth=20, model__n_estimators=50;, score=0.938 total time=   0.0s\n",
      "[CV 7/10; 10/10] START model__criterion=gini, model__max_depth=20, model__n_estimators=50\n",
      "[CV 7/10; 10/10] END model__criterion=gini, model__max_depth=20, model__n_estimators=50;, score=0.875 total time=   0.0s\n",
      "[CV 8/10; 10/10] START model__criterion=gini, model__max_depth=20, model__n_estimators=50\n",
      "[CV 8/10; 10/10] END model__criterion=gini, model__max_depth=20, model__n_estimators=50;, score=0.971 total time=   0.0s\n",
      "[CV 9/10; 10/10] START model__criterion=gini, model__max_depth=20, model__n_estimators=50\n",
      "[CV 9/10; 10/10] END model__criterion=gini, model__max_depth=20, model__n_estimators=50;, score=1.000 total time=   0.0s\n",
      "[CV 10/10; 10/10] START model__criterion=gini, model__max_depth=20, model__n_estimators=50\n",
      "[CV 10/10; 10/10] END model__criterion=gini, model__max_depth=20, model__n_estimators=50;, score=0.941 total time=   0.0s\n"
     ]
    },
    {
     "data": {
      "text/html": [
       "<style>#sk-container-id-3 {color: black;background-color: white;}#sk-container-id-3 pre{padding: 0;}#sk-container-id-3 div.sk-toggleable {background-color: white;}#sk-container-id-3 label.sk-toggleable__label {cursor: pointer;display: block;width: 100%;margin-bottom: 0;padding: 0.3em;box-sizing: border-box;text-align: center;}#sk-container-id-3 label.sk-toggleable__label-arrow:before {content: \"▸\";float: left;margin-right: 0.25em;color: #696969;}#sk-container-id-3 label.sk-toggleable__label-arrow:hover:before {color: black;}#sk-container-id-3 div.sk-estimator:hover label.sk-toggleable__label-arrow:before {color: black;}#sk-container-id-3 div.sk-toggleable__content {max-height: 0;max-width: 0;overflow: hidden;text-align: left;background-color: #f0f8ff;}#sk-container-id-3 div.sk-toggleable__content pre {margin: 0.2em;color: black;border-radius: 0.25em;background-color: #f0f8ff;}#sk-container-id-3 input.sk-toggleable__control:checked~div.sk-toggleable__content {max-height: 200px;max-width: 100%;overflow: auto;}#sk-container-id-3 input.sk-toggleable__control:checked~label.sk-toggleable__label-arrow:before {content: \"▾\";}#sk-container-id-3 div.sk-estimator input.sk-toggleable__control:checked~label.sk-toggleable__label {background-color: #d4ebff;}#sk-container-id-3 div.sk-label input.sk-toggleable__control:checked~label.sk-toggleable__label {background-color: #d4ebff;}#sk-container-id-3 input.sk-hidden--visually {border: 0;clip: rect(1px 1px 1px 1px);clip: rect(1px, 1px, 1px, 1px);height: 1px;margin: -1px;overflow: hidden;padding: 0;position: absolute;width: 1px;}#sk-container-id-3 div.sk-estimator {font-family: monospace;background-color: #f0f8ff;border: 1px dotted black;border-radius: 0.25em;box-sizing: border-box;margin-bottom: 0.5em;}#sk-container-id-3 div.sk-estimator:hover {background-color: #d4ebff;}#sk-container-id-3 div.sk-parallel-item::after {content: \"\";width: 100%;border-bottom: 1px solid gray;flex-grow: 1;}#sk-container-id-3 div.sk-label:hover label.sk-toggleable__label {background-color: #d4ebff;}#sk-container-id-3 div.sk-serial::before {content: \"\";position: absolute;border-left: 1px solid gray;box-sizing: border-box;top: 0;bottom: 0;left: 50%;z-index: 0;}#sk-container-id-3 div.sk-serial {display: flex;flex-direction: column;align-items: center;background-color: white;padding-right: 0.2em;padding-left: 0.2em;position: relative;}#sk-container-id-3 div.sk-item {position: relative;z-index: 1;}#sk-container-id-3 div.sk-parallel {display: flex;align-items: stretch;justify-content: center;background-color: white;position: relative;}#sk-container-id-3 div.sk-item::before, #sk-container-id-3 div.sk-parallel-item::before {content: \"\";position: absolute;border-left: 1px solid gray;box-sizing: border-box;top: 0;bottom: 0;left: 50%;z-index: -1;}#sk-container-id-3 div.sk-parallel-item {display: flex;flex-direction: column;z-index: 1;position: relative;background-color: white;}#sk-container-id-3 div.sk-parallel-item:first-child::after {align-self: flex-end;width: 50%;}#sk-container-id-3 div.sk-parallel-item:last-child::after {align-self: flex-start;width: 50%;}#sk-container-id-3 div.sk-parallel-item:only-child::after {width: 0;}#sk-container-id-3 div.sk-dashed-wrapped {border: 1px dashed gray;margin: 0 0.4em 0.5em 0.4em;box-sizing: border-box;padding-bottom: 0.4em;background-color: white;}#sk-container-id-3 div.sk-label label {font-family: monospace;font-weight: bold;display: inline-block;line-height: 1.2em;}#sk-container-id-3 div.sk-label-container {text-align: center;}#sk-container-id-3 div.sk-container {/* jupyter's `normalize.less` sets `[hidden] { display: none; }` but bootstrap.min.css set `[hidden] { display: none !important; }` so we also need the `!important` here to be able to override the default hidden behavior on the sphinx rendered scikit-learn.org. See: https://github.com/scikit-learn/scikit-learn/issues/21755 */display: inline-block !important;position: relative;}#sk-container-id-3 div.sk-text-repr-fallback {display: none;}</style><div id=\"sk-container-id-3\" class=\"sk-top-container\"><div class=\"sk-text-repr-fallback\"><pre>RandomizedSearchCV(cv=StratifiedKFold(n_splits=10, random_state=42, shuffle=True),\n",
       "                   estimator=Pipeline(steps=[(&#x27;scaler&#x27;, StandardScaler()),\n",
       "                                             (&#x27;model&#x27;,\n",
       "                                              RandomForestClassifier(random_state=42))]),\n",
       "                   param_distributions={&#x27;model__criterion&#x27;: [&#x27;gini&#x27;, &#x27;entropy&#x27;,\n",
       "                                                             &#x27;log_loss&#x27;],\n",
       "                                        &#x27;model__max_depth&#x27;: [5, 10, 15, 20],\n",
       "                                        &#x27;model__n_estimators&#x27;: [20, 50, 100,\n",
       "                                                                200, 500]},\n",
       "                   scoring=make_scorer(f1_score, pos_label=M), verbose=10)</pre><b>In a Jupyter environment, please rerun this cell to show the HTML representation or trust the notebook. <br />On GitHub, the HTML representation is unable to render, please try loading this page with nbviewer.org.</b></div><div class=\"sk-container\" hidden><div class=\"sk-item sk-dashed-wrapped\"><div class=\"sk-label-container\"><div class=\"sk-label sk-toggleable\"><input class=\"sk-toggleable__control sk-hidden--visually\" id=\"sk-estimator-id-9\" type=\"checkbox\" ><label for=\"sk-estimator-id-9\" class=\"sk-toggleable__label sk-toggleable__label-arrow\">RandomizedSearchCV</label><div class=\"sk-toggleable__content\"><pre>RandomizedSearchCV(cv=StratifiedKFold(n_splits=10, random_state=42, shuffle=True),\n",
       "                   estimator=Pipeline(steps=[(&#x27;scaler&#x27;, StandardScaler()),\n",
       "                                             (&#x27;model&#x27;,\n",
       "                                              RandomForestClassifier(random_state=42))]),\n",
       "                   param_distributions={&#x27;model__criterion&#x27;: [&#x27;gini&#x27;, &#x27;entropy&#x27;,\n",
       "                                                             &#x27;log_loss&#x27;],\n",
       "                                        &#x27;model__max_depth&#x27;: [5, 10, 15, 20],\n",
       "                                        &#x27;model__n_estimators&#x27;: [20, 50, 100,\n",
       "                                                                200, 500]},\n",
       "                   scoring=make_scorer(f1_score, pos_label=M), verbose=10)</pre></div></div></div><div class=\"sk-parallel\"><div class=\"sk-parallel-item\"><div class=\"sk-item\"><div class=\"sk-label-container\"><div class=\"sk-label sk-toggleable\"><input class=\"sk-toggleable__control sk-hidden--visually\" id=\"sk-estimator-id-10\" type=\"checkbox\" ><label for=\"sk-estimator-id-10\" class=\"sk-toggleable__label sk-toggleable__label-arrow\">estimator: Pipeline</label><div class=\"sk-toggleable__content\"><pre>Pipeline(steps=[(&#x27;scaler&#x27;, StandardScaler()),\n",
       "                (&#x27;model&#x27;, RandomForestClassifier(random_state=42))])</pre></div></div></div><div class=\"sk-serial\"><div class=\"sk-item\"><div class=\"sk-serial\"><div class=\"sk-item\"><div class=\"sk-estimator sk-toggleable\"><input class=\"sk-toggleable__control sk-hidden--visually\" id=\"sk-estimator-id-11\" type=\"checkbox\" ><label for=\"sk-estimator-id-11\" class=\"sk-toggleable__label sk-toggleable__label-arrow\">StandardScaler</label><div class=\"sk-toggleable__content\"><pre>StandardScaler()</pre></div></div></div><div class=\"sk-item\"><div class=\"sk-estimator sk-toggleable\"><input class=\"sk-toggleable__control sk-hidden--visually\" id=\"sk-estimator-id-12\" type=\"checkbox\" ><label for=\"sk-estimator-id-12\" class=\"sk-toggleable__label sk-toggleable__label-arrow\">RandomForestClassifier</label><div class=\"sk-toggleable__content\"><pre>RandomForestClassifier(random_state=42)</pre></div></div></div></div></div></div></div></div></div></div></div></div>"
      ],
      "text/plain": [
       "RandomizedSearchCV(cv=StratifiedKFold(n_splits=10, random_state=42, shuffle=True),\n",
       "                   estimator=Pipeline(steps=[('scaler', StandardScaler()),\n",
       "                                             ('model',\n",
       "                                              RandomForestClassifier(random_state=42))]),\n",
       "                   param_distributions={'model__criterion': ['gini', 'entropy',\n",
       "                                                             'log_loss'],\n",
       "                                        'model__max_depth': [5, 10, 15, 20],\n",
       "                                        'model__n_estimators': [20, 50, 100,\n",
       "                                                                200, 500]},\n",
       "                   scoring=make_scorer(f1_score, pos_label=M), verbose=10)"
      ]
     },
     "execution_count": 18,
     "metadata": {},
     "output_type": "execute_result"
    }
   ],
   "source": [
    "# construir o pipeline\n",
    "steps = [('scaler', StandardScaler()), \n",
    "         ('model', RandomForestClassifier(random_state = 42))]\n",
    "pipe = Pipeline(steps)\n",
    "\n",
    "# construir o amostrador dos folds\n",
    "cvs = StratifiedKFold(n_splits=10, shuffle=True, random_state=42)\n",
    "\n",
    "# criando a métrica \"adaptada\"\n",
    "score = make_scorer(f1_score, pos_label = 'M')\n",
    "\n",
    "# construir um dicionário de parâmetros\n",
    "param_dict = {\n",
    "    'model__criterion': ['gini', 'entropy', 'log_loss'],\n",
    "    'model__max_depth': [5, 10, 15, 20],\n",
    "    'model__n_estimators': [20, 50, 100, 200, 500]\n",
    "}\n",
    "\n",
    "# criar o objeto selecionador\n",
    "rs_cv = RandomizedSearchCV(pipe, param_dict, scoring = score, cv = cvs, verbose = 10)\n",
    "rs_cv.fit(x_train, y_train)"
   ]
  },
  {
   "cell_type": "code",
   "execution_count": 19,
   "metadata": {},
   "outputs": [
    {
     "name": "stdout",
     "output_type": "stream",
     "text": [
      "Melhores Parâmetros:\n",
      "{'model__n_estimators': 100, 'model__max_depth': 15, 'model__criterion': 'log_loss'}\n",
      "Melhor Métrica Média:\n",
      "0.9611093073593071\n"
     ]
    }
   ],
   "source": [
    "print('Melhores Parâmetros:')\n",
    "print(rs_cv.best_params_)\n",
    "print('Melhor Métrica Média:')\n",
    "print(rs_cv.best_score_)"
   ]
  },
  {
   "cell_type": "code",
   "execution_count": 20,
   "metadata": {},
   "outputs": [],
   "source": [
    "# analisando o melhor modelo\n",
    "# construindo o pipeline\n",
    "steps = [('scaler', StandardScaler()), \n",
    "         ('model', RandomForestClassifier(max_depth = 5,\n",
    "                                          criterion = 'entropy',\n",
    "                                          n_estimators = 100,\n",
    "                                          random_state = 42))]\n",
    "pipe = Pipeline(steps)\n",
    "best_model = pipe.fit(x_train, y_train)\n",
    "\n",
    "# realizando predições\n",
    "yhat = pipe.predict(x_test)"
   ]
  },
  {
   "cell_type": "code",
   "execution_count": 21,
   "metadata": {},
   "outputs": [
    {
     "name": "stdout",
     "output_type": "stream",
     "text": [
      "              precision    recall  f1-score   support\n",
      "\n",
      "           B       0.95      1.00      0.97        72\n",
      "           M       1.00      0.90      0.95        42\n",
      "\n",
      "    accuracy                           0.96       114\n",
      "   macro avg       0.97      0.95      0.96       114\n",
      "weighted avg       0.97      0.96      0.96       114\n",
      "\n"
     ]
    },
    {
     "data": {
      "text/plain": [
       "<sklearn.metrics._plot.confusion_matrix.ConfusionMatrixDisplay at 0x161275b1550>"
      ]
     },
     "execution_count": 21,
     "metadata": {},
     "output_type": "execute_result"
    },
    {
     "data": {
      "image/png": "[encoded data removed]",
      "text/plain": [
       "<Figure size 432x288 with 2 Axes>"
      ]
     },
     "metadata": {
      "needs_background": "light"
     },
     "output_type": "display_data"
    }
   ],
   "source": [
    "# relatório de classificação\n",
    "print(classification_report(y_test, yhat))\n",
    "\n",
    "# matriz de confusão\n",
    "ConfusionMatrixDisplay.from_predictions(y_test, yhat)"
   ]
  },
  {
   "cell_type": "markdown",
   "metadata": {},
   "source": [
    "_____"
   ]
  },
  {
   "cell_type": "markdown",
   "metadata": {},
   "source": [
    "A classe `RandomizedSearchCV` apresenta vários atributos interessantes que podem ser manipulados, com maior detalhe no [LINK](https://scikit-learn.org/stable/modules/generated/sklearn.model_selection.RandomizedSearchCV.html). Dentre os principais podemos citar algumas:\n",
    "- `param_distributions`: podemos aqui especificar uma distribuição estatística para gerar valores aleatórios ao invés de uma lista simples. Isso nos permite explorar situações e maiores espaços de busca de forma mais simples\n",
    "- `n_iter`: aqui podemos controlar quantas amostras aleatórias serão realizadas. Temos de pensar no *trade-off* entre confiabilidade estatística vs custo computacional\n",
    "- `n_jobs`: relativo à paralelização dos cálculos. Ajuda do aumento da velocidade da execução do algoritmo\n",
    "- `refit`: se colocamos True, então ele vai ajustar um modelo final com os melhores parâmetros o que acelera nosso trabalho."
   ]
  },
  {
   "cell_type": "code",
   "execution_count": 22,
   "metadata": {},
   "outputs": [],
   "source": [
    "import matplotlib.pyplot as plt\n",
    "from sklearn.linear_model import Lasso\n",
    "from sklearn.metrics import r2_score\n",
    "from scipy.stats import norm"
   ]
  },
  {
   "cell_type": "code",
   "execution_count": 23,
   "metadata": {},
   "outputs": [
    {
     "data": {
      "text/html": [
       "<div>\n",
       "<style scoped>\n",
       "    .dataframe tbody tr th:only-of-type {\n",
       "        vertical-align: middle;\n",
       "    }\n",
       "\n",
       "    .dataframe tbody tr th {\n",
       "        vertical-align: top;\n",
       "    }\n",
       "\n",
       "    .dataframe thead th {\n",
       "        text-align: right;\n",
       "    }\n",
       "</style>\n",
       "<table border=\"1\" class=\"dataframe\">\n",
       "  <thead>\n",
       "    <tr style=\"text-align: right;\">\n",
       "      <th></th>\n",
       "      <th>fixed acidity</th>\n",
       "      <th>volatile acidity</th>\n",
       "      <th>citric acid</th>\n",
       "      <th>residual sugar</th>\n",
       "      <th>chlorides</th>\n",
       "      <th>free sulfur dioxide</th>\n",
       "      <th>total sulfur dioxide</th>\n",
       "      <th>density</th>\n",
       "      <th>pH</th>\n",
       "      <th>sulphates</th>\n",
       "      <th>alcohol</th>\n",
       "      <th>quality</th>\n",
       "      <th>Id</th>\n",
       "    </tr>\n",
       "  </thead>\n",
       "  <tbody>\n",
       "    <tr>\n",
       "      <th>0</th>\n",
       "      <td>7.4</td>\n",
       "      <td>0.70</td>\n",
       "      <td>0.00</td>\n",
       "      <td>1.9</td>\n",
       "      <td>0.076</td>\n",
       "      <td>11.0</td>\n",
       "      <td>34.0</td>\n",
       "      <td>0.9978</td>\n",
       "      <td>3.51</td>\n",
       "      <td>0.56</td>\n",
       "      <td>9.4</td>\n",
       "      <td>5</td>\n",
       "      <td>0</td>\n",
       "    </tr>\n",
       "    <tr>\n",
       "      <th>1</th>\n",
       "      <td>7.8</td>\n",
       "      <td>0.88</td>\n",
       "      <td>0.00</td>\n",
       "      <td>2.6</td>\n",
       "      <td>0.098</td>\n",
       "      <td>25.0</td>\n",
       "      <td>67.0</td>\n",
       "      <td>0.9968</td>\n",
       "      <td>3.20</td>\n",
       "      <td>0.68</td>\n",
       "      <td>9.8</td>\n",
       "      <td>5</td>\n",
       "      <td>1</td>\n",
       "    </tr>\n",
       "    <tr>\n",
       "      <th>2</th>\n",
       "      <td>7.8</td>\n",
       "      <td>0.76</td>\n",
       "      <td>0.04</td>\n",
       "      <td>2.3</td>\n",
       "      <td>0.092</td>\n",
       "      <td>15.0</td>\n",
       "      <td>54.0</td>\n",
       "      <td>0.9970</td>\n",
       "      <td>3.26</td>\n",
       "      <td>0.65</td>\n",
       "      <td>9.8</td>\n",
       "      <td>5</td>\n",
       "      <td>2</td>\n",
       "    </tr>\n",
       "    <tr>\n",
       "      <th>3</th>\n",
       "      <td>11.2</td>\n",
       "      <td>0.28</td>\n",
       "      <td>0.56</td>\n",
       "      <td>1.9</td>\n",
       "      <td>0.075</td>\n",
       "      <td>17.0</td>\n",
       "      <td>60.0</td>\n",
       "      <td>0.9980</td>\n",
       "      <td>3.16</td>\n",
       "      <td>0.58</td>\n",
       "      <td>9.8</td>\n",
       "      <td>6</td>\n",
       "      <td>3</td>\n",
       "    </tr>\n",
       "    <tr>\n",
       "      <th>4</th>\n",
       "      <td>7.4</td>\n",
       "      <td>0.70</td>\n",
       "      <td>0.00</td>\n",
       "      <td>1.9</td>\n",
       "      <td>0.076</td>\n",
       "      <td>11.0</td>\n",
       "      <td>34.0</td>\n",
       "      <td>0.9978</td>\n",
       "      <td>3.51</td>\n",
       "      <td>0.56</td>\n",
       "      <td>9.4</td>\n",
       "      <td>5</td>\n",
       "      <td>4</td>\n",
       "    </tr>\n",
       "  </tbody>\n",
       "</table>\n",
       "</div>"
      ],
      "text/plain": [
       "   fixed acidity  volatile acidity  citric acid  residual sugar  chlorides  \\\n",
       "0            7.4              0.70         0.00             1.9      0.076   \n",
       "1            7.8              0.88         0.00             2.6      0.098   \n",
       "2            7.8              0.76         0.04             2.3      0.092   \n",
       "3           11.2              0.28         0.56             1.9      0.075   \n",
       "4            7.4              0.70         0.00             1.9      0.076   \n",
       "\n",
       "   free sulfur dioxide  total sulfur dioxide  density    pH  sulphates  \\\n",
       "0                 11.0                  34.0   0.9978  3.51       0.56   \n",
       "1                 25.0                  67.0   0.9968  3.20       0.68   \n",
       "2                 15.0                  54.0   0.9970  3.26       0.65   \n",
       "3                 17.0                  60.0   0.9980  3.16       0.58   \n",
       "4                 11.0                  34.0   0.9978  3.51       0.56   \n",
       "\n",
       "   alcohol  quality  Id  \n",
       "0      9.4        5   0  \n",
       "1      9.8        5   1  \n",
       "2      9.8        5   2  \n",
       "3      9.8        6   3  \n",
       "4      9.4        5   4  "
      ]
     },
     "execution_count": 23,
     "metadata": {},
     "output_type": "execute_result"
    }
   ],
   "source": [
    "# realizando a leitura dos dados\n",
    "data = pd.read_csv('WineQT.csv')\n",
    "data.head()"
   ]
  },
  {
   "cell_type": "code",
   "execution_count": 24,
   "metadata": {},
   "outputs": [],
   "source": [
    "# eliminando coluna Id\n",
    "data.drop(['Id'], axis = 1, inplace = True)\n",
    "\n",
    "# separando entre preditores e targets\n",
    "x = data.drop(['quality'], axis = 1)\n",
    "y = data[['quality']]\n",
    "\n",
    "# separando o conjunto de validação final\n",
    "x_train, x_test, y_train, y_test = train_test_split(x, y, test_size=0.2, \n",
    "                                                random_state=42, stratify=y)"
   ]
  },
  {
   "cell_type": "code",
   "execution_count": 25,
   "metadata": {},
   "outputs": [
    {
     "name": "stdout",
     "output_type": "stream",
     "text": [
      "Fitting 10 folds for each of 100 candidates, totalling 1000 fits\n",
      "Melhores Parâmetros:\n",
      "{'model__alpha': 0.0815977622152394}\n",
      "Melhor Métrica:\n",
      "0.318410260607856\n"
     ]
    }
   ],
   "source": [
    "# construindo o pipeline\n",
    "steps = [('scaler', StandardScaler()), ('model', Lasso())]\n",
    "pipe = Pipeline(steps)\n",
    "\n",
    "# construindo o amostrador dos folds\n",
    "cvs = StratifiedKFold(n_splits=10, shuffle=True, random_state=42)\n",
    "\n",
    "# construindo um dicionário de DISTRIBUIÇÕES\n",
    "param_dists = {\n",
    "    'model__alpha': norm(loc = 1, scale = 0.5)\n",
    "}\n",
    "\n",
    "# objeto selecionador\n",
    "rs_cv = RandomizedSearchCV(pipe, param_dists, scoring='r2', cv=cvs, \n",
    "                        verbose = 10, n_iter=100, refit = True, n_jobs=-1)\n",
    "rs_cv.fit(x_train, y_train)\n",
    "\n",
    "print('Melhores Parâmetros:')\n",
    "print(rs_cv.best_params_)\n",
    "print('Melhor Métrica:')\n",
    "print(rs_cv.best_score_)"
   ]
  },
  {
   "cell_type": "code",
   "execution_count": 26,
   "metadata": {},
   "outputs": [
    {
     "name": "stdout",
     "output_type": "stream",
     "text": [
      "Pipeline(steps=[('scaler', StandardScaler()),\n",
      "                ('model', Lasso(alpha=0.0815977622152394))])\n"
     ]
    }
   ],
   "source": [
    "# analisando o melhor estimador\n",
    "print(rs_cv.best_estimator_)"
   ]
  },
  {
   "cell_type": "code",
   "execution_count": 27,
   "metadata": {},
   "outputs": [],
   "source": [
    "# realizando novas estimativas\n",
    "yhat = rs_cv.best_estimator_.predict(x_test)"
   ]
  },
  {
   "cell_type": "code",
   "execution_count": 28,
   "metadata": {},
   "outputs": [
    {
     "data": {
      "image/png": "[encoded data removed]",
      "text/plain": [
       "<Figure size 576x576 with 1 Axes>"
      ]
     },
     "metadata": {
      "needs_background": "light"
     },
     "output_type": "display_data"
    }
   ],
   "source": [
    "# gráfico com as predições\n",
    "plt.figure(figsize=(8,8))\n",
    "plt.plot(y_test, y_test, 'r-', label = 'Modelo Ideal')\n",
    "plt.plot(y_test, yhat, 'k.', label = 'Melhor Lasso')\n",
    "plt.xlabel('Valores Esperados', size=  14)\n",
    "plt.ylabel('Valores Estimados', size = 14)\n",
    "plt.title(f'Regressão Lasso - Qualidade do Vinho - R2 = {round(r2_score(y_test, yhat),4)}', size = 16)\n",
    "plt.legend(loc = 'best', prop = {'size': 14})\n",
    "plt.show()"
   ]
  },
  {
   "cell_type": "markdown",
   "metadata": {},
   "source": [
    "_____"
   ]
  },
  {
   "cell_type": "markdown",
   "metadata": {},
   "source": [
    "## Exercício 2\n",
    "\n",
    "Para praticarmos e para comparar também, repita o mesmo procedimento com um KNN. Para isso:\n",
    "\n",
    "- carregue o conjunto de dados\n",
    "- separe um conjunto de validação final\n",
    "- aplique a busca aleatória com os hiperparâmetros adequados para cada modelo - escolha três hiperparâmetros - utilizando a estrutura do Pipeline conforme mostramos\n",
    "     - use uma distribuição uniforme para o valor de *k* entre 1 e 100\n",
    "- compare os resultados obtidos entre si e também com os resultados da regressão linear"
   ]
  },
  {
   "cell_type": "code",
   "execution_count": 29,
   "metadata": {},
   "outputs": [],
   "source": [
    "from sklearn.neighbors import KNeighborsRegressor\n",
    "from scipy.stats import uniform"
   ]
  },
  {
   "cell_type": "code",
   "execution_count": 30,
   "metadata": {},
   "outputs": [],
   "source": [
    "# eliminando coluna Id\n",
    "# data.drop(['Id'], axis = 1, inplace = True)\n",
    "\n",
    "# separando entre preditores e targets\n",
    "x = data.drop(['quality'], axis = 1)\n",
    "y = data[['quality']]\n",
    "\n",
    "# separando o conjunto de validação final\n",
    "x_train, x_test, y_train, y_test = train_test_split(x, y, test_size=0.2, \n",
    "                                                random_state=42, stratify=y)"
   ]
  },
  {
   "cell_type": "code",
   "execution_count": 31,
   "metadata": {},
   "outputs": [
    {
     "name": "stdout",
     "output_type": "stream",
     "text": [
      "Fitting 10 folds for each of 100 candidates, totalling 1000 fits\n",
      "Melhores Parâmetros:\n",
      "{'model__weights': 'distance', 'model__p': 1, 'model__n_neighbors': 52}\n",
      "Melhor Métrica:\n",
      "0.46058331907706346\n"
     ]
    }
   ],
   "source": [
    "# construindo o pipeline\n",
    "steps = [('scaler', StandardScaler()), ('model', KNeighborsRegressor())]\n",
    "pipe = Pipeline(steps)\n",
    "\n",
    "# construindo o amostrador dos folds\n",
    "cvs = StratifiedKFold(n_splits=10, shuffle=True, random_state=42)\n",
    "\n",
    "# construindo um dicionário de DISTRIBUIÇÕES\n",
    "param_dists = {\n",
    "    'model__n_neighbors': np.random.randint(1, 100, 100),\n",
    "    'model__weights': ['uniform', 'distance'],\n",
    "    'model__p': [1, 2, 3, 4, 5]\n",
    "}\n",
    "\n",
    "# objeto selecionador\n",
    "rs_cv = RandomizedSearchCV(pipe, param_dists, scoring='r2', cv=cvs, \n",
    "                        verbose = 10, n_iter=100, refit = True, n_jobs=-1)\n",
    "rs_cv.fit(x_train, y_train)\n",
    "\n",
    "print('Melhores Parâmetros:')\n",
    "print(rs_cv.best_params_)\n",
    "print('Melhor Métrica:')\n",
    "print(rs_cv.best_score_)"
   ]
  },
  {
   "cell_type": "code",
   "execution_count": 32,
   "metadata": {},
   "outputs": [
    {
     "name": "stdout",
     "output_type": "stream",
     "text": [
      "Pipeline(steps=[('scaler', StandardScaler()),\n",
      "                ('model',\n",
      "                 KNeighborsRegressor(n_neighbors=52, p=1, weights='distance'))])\n"
     ]
    }
   ],
   "source": [
    "# analisando o melhor estimador\n",
    "print(rs_cv.best_estimator_)"
   ]
  },
  {
   "cell_type": "code",
   "execution_count": 33,
   "metadata": {},
   "outputs": [],
   "source": [
    "# realizando novas estimativas\n",
    "yhat = rs_cv.best_estimator_.predict(x_test)"
   ]
  },
  {
   "cell_type": "code",
   "execution_count": 34,
   "metadata": {},
   "outputs": [
    {
     "data": {
      "image/png": "[encoded data removed]",
      "text/plain": [
       "<Figure size 576x576 with 1 Axes>"
      ]
     },
     "metadata": {
      "needs_background": "light"
     },
     "output_type": "display_data"
    }
   ],
   "source": [
    "# gráfico com as predições\n",
    "plt.figure(figsize=(8,8))\n",
    "plt.plot(y_test, y_test, 'r-', label = 'Modelo Ideal')\n",
    "plt.plot(y_test, yhat, 'k.', label = 'Melhor Lasso')\n",
    "plt.xlabel('Valores Esperados', size=  14)\n",
    "plt.ylabel('Valores Estimados', size = 14)\n",
    "plt.title(f'Regressão Lasso - Qualidade do Vinho - R2 = {round(r2_score(y_test, yhat),4)}', size = 16)\n",
    "plt.legend(loc = 'best', prop = {'size': 14})\n",
    "plt.show()"
   ]
  },
  {
   "cell_type": "markdown",
   "metadata": {},
   "source": [
    "_____"
   ]
  },
  {
   "cell_type": "markdown",
   "metadata": {},
   "source": [
    "## Exercício 3\n",
    "\n",
    "Para praticarmos e para comparar também, repita o mesmo procedimento com uma floresta aleatória Para isso:\n",
    "\n",
    "- carregue o conjunto de dados\n",
    "- separe um conjunto de validação final\n",
    "- aplique a busca aleatória com os hiperparâmetros adequados para cada modelo - escolha três hiperparâmetros  - utilizando a estrutura do Pipeline conforme mostramos\n",
    "   - use distribuições uniformes para o número de árvores e para a profundidade máxima\n",
    "- aplique uma busca em Grade com muitos parâmetros para tentar encontrar o mesmo resultado.\n",
    "- compare os resultados obtidos entre si"
   ]
  },
  {
   "cell_type": "code",
   "execution_count": 35,
   "metadata": {},
   "outputs": [],
   "source": [
    "from sklearn.ensemble import RandomForestRegressor\n",
    "from sklearn.model_selection import GridSearchCV"
   ]
  },
  {
   "cell_type": "code",
   "execution_count": 36,
   "metadata": {},
   "outputs": [],
   "source": [
    "# eliminando coluna Id\n",
    "# data.drop(['Id'], axis = 1, inplace = True)\n",
    "\n",
    "# separando entre preditores e targets\n",
    "x = data.drop(['quality'], axis = 1)\n",
    "y = data[['quality']]\n",
    "\n",
    "# separando o conjunto de validação final\n",
    "x_train, x_test, y_train, y_test = train_test_split(x, y, test_size=0.2, \n",
    "                                                random_state=42, stratify=y)"
   ]
  },
  {
   "cell_type": "code",
   "execution_count": 37,
   "metadata": {},
   "outputs": [],
   "source": [
    "# construindo o pipeline\n",
    "steps = [('scaler', StandardScaler()), ('model', RandomForestRegressor(random_state=42))]\n",
    "pipe = Pipeline(steps)\n",
    "\n",
    "# construindo o amostrador dos folds\n",
    "cvs = StratifiedKFold(n_splits=10, shuffle=True, random_state=42)\n",
    "\n",
    "# construindo um dicionário de DISTRIBUIÇÕES\n",
    "param_dists = {\n",
    "    'model__n_estimators': np.random.randint(1, 100, 10),\n",
    "    'model__criterion': ['squared_error', 'absolute_error', 'poisson'],\n",
    "    'model__max_depth': np.random.randint(1, 10, 5)\n",
    "}"
   ]
  },
  {
   "cell_type": "code",
   "execution_count": 38,
   "metadata": {},
   "outputs": [
    {
     "data": {
      "text/plain": [
       "\"%%timeit\\n# checando o tempo de execução - Grid Search\\ngs_cv = GridSearchCV(pipe, param_dists, scoring='r2', cv=cvs, \\n                        verbose = 10, n_jobs=-1)\\ngs_cv.fit(x_train, y_train)\""
      ]
     },
     "execution_count": 38,
     "metadata": {},
     "output_type": "execute_result"
    }
   ],
   "source": [
    "\"\"\"%%timeit\n",
    "# checando o tempo de execução - Grid Search\n",
    "gs_cv = GridSearchCV(pipe, param_dists, scoring='r2', cv=cvs, \n",
    "                        verbose = 10, n_jobs=-1)\n",
    "gs_cv.fit(x_train, y_train)\"\"\""
   ]
  },
  {
   "cell_type": "code",
   "execution_count": 39,
   "metadata": {},
   "outputs": [
    {
     "name": "stdout",
     "output_type": "stream",
     "text": [
      "Fitting 10 folds for each of 100 candidates, totalling 1000 fits\n",
      "Fitting 10 folds for each of 100 candidates, totalling 1000 fits\n",
      "Fitting 10 folds for each of 100 candidates, totalling 1000 fits\n",
      "Fitting 10 folds for each of 100 candidates, totalling 1000 fits\n",
      "Fitting 10 folds for each of 100 candidates, totalling 1000 fits\n",
      "Fitting 10 folds for each of 100 candidates, totalling 1000 fits\n",
      "Fitting 10 folds for each of 100 candidates, totalling 1000 fits\n",
      "Fitting 10 folds for each of 100 candidates, totalling 1000 fits\n",
      "1min 17s ± 6.04 s per loop (mean ± std. dev. of 7 runs, 1 loop each)\n"
     ]
    }
   ],
   "source": [
    "%%timeit\n",
    "# objeto selecionador - Random Search\n",
    "rs_cv = RandomizedSearchCV(pipe, param_dists, scoring='r2', cv=cvs, \n",
    "                        verbose = 10, n_iter=100, refit = True, n_jobs=-1)\n",
    "rs_cv.fit(x_train, y_train)"
   ]
  },
  {
   "cell_type": "code",
   "execution_count": 40,
   "metadata": {},
   "outputs": [
    {
     "name": "stdout",
     "output_type": "stream",
     "text": [
      "Fitting 10 folds for each of 150 candidates, totalling 1500 fits\n"
     ]
    },
    {
     "data": {
      "text/html": [
       "<style>#sk-container-id-4 {color: black;background-color: white;}#sk-container-id-4 pre{padding: 0;}#sk-container-id-4 div.sk-toggleable {background-color: white;}#sk-container-id-4 label.sk-toggleable__label {cursor: pointer;display: block;width: 100%;margin-bottom: 0;padding: 0.3em;box-sizing: border-box;text-align: center;}#sk-container-id-4 label.sk-toggleable__label-arrow:before {content: \"▸\";float: left;margin-right: 0.25em;color: #696969;}#sk-container-id-4 label.sk-toggleable__label-arrow:hover:before {color: black;}#sk-container-id-4 div.sk-estimator:hover label.sk-toggleable__label-arrow:before {color: black;}#sk-container-id-4 div.sk-toggleable__content {max-height: 0;max-width: 0;overflow: hidden;text-align: left;background-color: #f0f8ff;}#sk-container-id-4 div.sk-toggleable__content pre {margin: 0.2em;color: black;border-radius: 0.25em;background-color: #f0f8ff;}#sk-container-id-4 input.sk-toggleable__control:checked~div.sk-toggleable__content {max-height: 200px;max-width: 100%;overflow: auto;}#sk-container-id-4 input.sk-toggleable__control:checked~label.sk-toggleable__label-arrow:before {content: \"▾\";}#sk-container-id-4 div.sk-estimator input.sk-toggleable__control:checked~label.sk-toggleable__label {background-color: #d4ebff;}#sk-container-id-4 div.sk-label input.sk-toggleable__control:checked~label.sk-toggleable__label {background-color: #d4ebff;}#sk-container-id-4 input.sk-hidden--visually {border: 0;clip: rect(1px 1px 1px 1px);clip: rect(1px, 1px, 1px, 1px);height: 1px;margin: -1px;overflow: hidden;padding: 0;position: absolute;width: 1px;}#sk-container-id-4 div.sk-estimator {font-family: monospace;background-color: #f0f8ff;border: 1px dotted black;border-radius: 0.25em;box-sizing: border-box;margin-bottom: 0.5em;}#sk-container-id-4 div.sk-estimator:hover {background-color: #d4ebff;}#sk-container-id-4 div.sk-parallel-item::after {content: \"\";width: 100%;border-bottom: 1px solid gray;flex-grow: 1;}#sk-container-id-4 div.sk-label:hover label.sk-toggleable__label {background-color: #d4ebff;}#sk-container-id-4 div.sk-serial::before {content: \"\";position: absolute;border-left: 1px solid gray;box-sizing: border-box;top: 0;bottom: 0;left: 50%;z-index: 0;}#sk-container-id-4 div.sk-serial {display: flex;flex-direction: column;align-items: center;background-color: white;padding-right: 0.2em;padding-left: 0.2em;position: relative;}#sk-container-id-4 div.sk-item {position: relative;z-index: 1;}#sk-container-id-4 div.sk-parallel {display: flex;align-items: stretch;justify-content: center;background-color: white;position: relative;}#sk-container-id-4 div.sk-item::before, #sk-container-id-4 div.sk-parallel-item::before {content: \"\";position: absolute;border-left: 1px solid gray;box-sizing: border-box;top: 0;bottom: 0;left: 50%;z-index: -1;}#sk-container-id-4 div.sk-parallel-item {display: flex;flex-direction: column;z-index: 1;position: relative;background-color: white;}#sk-container-id-4 div.sk-parallel-item:first-child::after {align-self: flex-end;width: 50%;}#sk-container-id-4 div.sk-parallel-item:last-child::after {align-self: flex-start;width: 50%;}#sk-container-id-4 div.sk-parallel-item:only-child::after {width: 0;}#sk-container-id-4 div.sk-dashed-wrapped {border: 1px dashed gray;margin: 0 0.4em 0.5em 0.4em;box-sizing: border-box;padding-bottom: 0.4em;background-color: white;}#sk-container-id-4 div.sk-label label {font-family: monospace;font-weight: bold;display: inline-block;line-height: 1.2em;}#sk-container-id-4 div.sk-label-container {text-align: center;}#sk-container-id-4 div.sk-container {/* jupyter's `normalize.less` sets `[hidden] { display: none; }` but bootstrap.min.css set `[hidden] { display: none !important; }` so we also need the `!important` here to be able to override the default hidden behavior on the sphinx rendered scikit-learn.org. See: https://github.com/scikit-learn/scikit-learn/issues/21755 */display: inline-block !important;position: relative;}#sk-container-id-4 div.sk-text-repr-fallback {display: none;}</style><div id=\"sk-container-id-4\" class=\"sk-top-container\"><div class=\"sk-text-repr-fallback\"><pre>GridSearchCV(cv=StratifiedKFold(n_splits=10, random_state=42, shuffle=True),\n",
       "             estimator=Pipeline(steps=[(&#x27;scaler&#x27;, StandardScaler()),\n",
       "                                       (&#x27;model&#x27;,\n",
       "                                        RandomForestRegressor(random_state=42))]),\n",
       "             n_jobs=-1,\n",
       "             param_grid={&#x27;model__criterion&#x27;: [&#x27;squared_error&#x27;, &#x27;absolute_error&#x27;,\n",
       "                                              &#x27;poisson&#x27;],\n",
       "                         &#x27;model__max_depth&#x27;: array([4, 4, 7, 1, 1]),\n",
       "                         &#x27;model__n_estimators&#x27;: array([37, 31, 94, 25,  8, 81, 34, 70, 16, 56])},\n",
       "             scoring=&#x27;r2&#x27;, verbose=10)</pre><b>In a Jupyter environment, please rerun this cell to show the HTML representation or trust the notebook. <br />On GitHub, the HTML representation is unable to render, please try loading this page with nbviewer.org.</b></div><div class=\"sk-container\" hidden><div class=\"sk-item sk-dashed-wrapped\"><div class=\"sk-label-container\"><div class=\"sk-label sk-toggleable\"><input class=\"sk-toggleable__control sk-hidden--visually\" id=\"sk-estimator-id-13\" type=\"checkbox\" ><label for=\"sk-estimator-id-13\" class=\"sk-toggleable__label sk-toggleable__label-arrow\">GridSearchCV</label><div class=\"sk-toggleable__content\"><pre>GridSearchCV(cv=StratifiedKFold(n_splits=10, random_state=42, shuffle=True),\n",
       "             estimator=Pipeline(steps=[(&#x27;scaler&#x27;, StandardScaler()),\n",
       "                                       (&#x27;model&#x27;,\n",
       "                                        RandomForestRegressor(random_state=42))]),\n",
       "             n_jobs=-1,\n",
       "             param_grid={&#x27;model__criterion&#x27;: [&#x27;squared_error&#x27;, &#x27;absolute_error&#x27;,\n",
       "                                              &#x27;poisson&#x27;],\n",
       "                         &#x27;model__max_depth&#x27;: array([4, 4, 7, 1, 1]),\n",
       "                         &#x27;model__n_estimators&#x27;: array([37, 31, 94, 25,  8, 81, 34, 70, 16, 56])},\n",
       "             scoring=&#x27;r2&#x27;, verbose=10)</pre></div></div></div><div class=\"sk-parallel\"><div class=\"sk-parallel-item\"><div class=\"sk-item\"><div class=\"sk-label-container\"><div class=\"sk-label sk-toggleable\"><input class=\"sk-toggleable__control sk-hidden--visually\" id=\"sk-estimator-id-14\" type=\"checkbox\" ><label for=\"sk-estimator-id-14\" class=\"sk-toggleable__label sk-toggleable__label-arrow\">estimator: Pipeline</label><div class=\"sk-toggleable__content\"><pre>Pipeline(steps=[(&#x27;scaler&#x27;, StandardScaler()),\n",
       "                (&#x27;model&#x27;, RandomForestRegressor(random_state=42))])</pre></div></div></div><div class=\"sk-serial\"><div class=\"sk-item\"><div class=\"sk-serial\"><div class=\"sk-item\"><div class=\"sk-estimator sk-toggleable\"><input class=\"sk-toggleable__control sk-hidden--visually\" id=\"sk-estimator-id-15\" type=\"checkbox\" ><label for=\"sk-estimator-id-15\" class=\"sk-toggleable__label sk-toggleable__label-arrow\">StandardScaler</label><div class=\"sk-toggleable__content\"><pre>StandardScaler()</pre></div></div></div><div class=\"sk-item\"><div class=\"sk-estimator sk-toggleable\"><input class=\"sk-toggleable__control sk-hidden--visually\" id=\"sk-estimator-id-16\" type=\"checkbox\" ><label for=\"sk-estimator-id-16\" class=\"sk-toggleable__label sk-toggleable__label-arrow\">RandomForestRegressor</label><div class=\"sk-toggleable__content\"><pre>RandomForestRegressor(random_state=42)</pre></div></div></div></div></div></div></div></div></div></div></div></div>"
      ],
      "text/plain": [
       "GridSearchCV(cv=StratifiedKFold(n_splits=10, random_state=42, shuffle=True),\n",
       "             estimator=Pipeline(steps=[('scaler', StandardScaler()),\n",
       "                                       ('model',\n",
       "                                        RandomForestRegressor(random_state=42))]),\n",
       "             n_jobs=-1,\n",
       "             param_grid={'model__criterion': ['squared_error', 'absolute_error',\n",
       "                                              'poisson'],\n",
       "                         'model__max_depth': array([4, 4, 7, 1, 1]),\n",
       "                         'model__n_estimators': array([37, 31, 94, 25,  8, 81, 34, 70, 16, 56])},\n",
       "             scoring='r2', verbose=10)"
      ]
     },
     "execution_count": 40,
     "metadata": {},
     "output_type": "execute_result"
    }
   ],
   "source": [
    "# ajuste - GridSearch\n",
    "gs_cv = GridSearchCV(pipe, param_dists, scoring='r2', cv=cvs, \n",
    "                        verbose = 10, n_jobs=-1)\n",
    "gs_cv.fit(x_train, y_train)"
   ]
  },
  {
   "cell_type": "code",
   "execution_count": 41,
   "metadata": {},
   "outputs": [
    {
     "name": "stdout",
     "output_type": "stream",
     "text": [
      "Fitting 10 folds for each of 100 candidates, totalling 1000 fits\n"
     ]
    },
    {
     "data": {
      "text/html": [
       "<style>#sk-container-id-5 {color: black;background-color: white;}#sk-container-id-5 pre{padding: 0;}#sk-container-id-5 div.sk-toggleable {background-color: white;}#sk-container-id-5 label.sk-toggleable__label {cursor: pointer;display: block;width: 100%;margin-bottom: 0;padding: 0.3em;box-sizing: border-box;text-align: center;}#sk-container-id-5 label.sk-toggleable__label-arrow:before {content: \"▸\";float: left;margin-right: 0.25em;color: #696969;}#sk-container-id-5 label.sk-toggleable__label-arrow:hover:before {color: black;}#sk-container-id-5 div.sk-estimator:hover label.sk-toggleable__label-arrow:before {color: black;}#sk-container-id-5 div.sk-toggleable__content {max-height: 0;max-width: 0;overflow: hidden;text-align: left;background-color: #f0f8ff;}#sk-container-id-5 div.sk-toggleable__content pre {margin: 0.2em;color: black;border-radius: 0.25em;background-color: #f0f8ff;}#sk-container-id-5 input.sk-toggleable__control:checked~div.sk-toggleable__content {max-height: 200px;max-width: 100%;overflow: auto;}#sk-container-id-5 input.sk-toggleable__control:checked~label.sk-toggleable__label-arrow:before {content: \"▾\";}#sk-container-id-5 div.sk-estimator input.sk-toggleable__control:checked~label.sk-toggleable__label {background-color: #d4ebff;}#sk-container-id-5 div.sk-label input.sk-toggleable__control:checked~label.sk-toggleable__label {background-color: #d4ebff;}#sk-container-id-5 input.sk-hidden--visually {border: 0;clip: rect(1px 1px 1px 1px);clip: rect(1px, 1px, 1px, 1px);height: 1px;margin: -1px;overflow: hidden;padding: 0;position: absolute;width: 1px;}#sk-container-id-5 div.sk-estimator {font-family: monospace;background-color: #f0f8ff;border: 1px dotted black;border-radius: 0.25em;box-sizing: border-box;margin-bottom: 0.5em;}#sk-container-id-5 div.sk-estimator:hover {background-color: #d4ebff;}#sk-container-id-5 div.sk-parallel-item::after {content: \"\";width: 100%;border-bottom: 1px solid gray;flex-grow: 1;}#sk-container-id-5 div.sk-label:hover label.sk-toggleable__label {background-color: #d4ebff;}#sk-container-id-5 div.sk-serial::before {content: \"\";position: absolute;border-left: 1px solid gray;box-sizing: border-box;top: 0;bottom: 0;left: 50%;z-index: 0;}#sk-container-id-5 div.sk-serial {display: flex;flex-direction: column;align-items: center;background-color: white;padding-right: 0.2em;padding-left: 0.2em;position: relative;}#sk-container-id-5 div.sk-item {position: relative;z-index: 1;}#sk-container-id-5 div.sk-parallel {display: flex;align-items: stretch;justify-content: center;background-color: white;position: relative;}#sk-container-id-5 div.sk-item::before, #sk-container-id-5 div.sk-parallel-item::before {content: \"\";position: absolute;border-left: 1px solid gray;box-sizing: border-box;top: 0;bottom: 0;left: 50%;z-index: -1;}#sk-container-id-5 div.sk-parallel-item {display: flex;flex-direction: column;z-index: 1;position: relative;background-color: white;}#sk-container-id-5 div.sk-parallel-item:first-child::after {align-self: flex-end;width: 50%;}#sk-container-id-5 div.sk-parallel-item:last-child::after {align-self: flex-start;width: 50%;}#sk-container-id-5 div.sk-parallel-item:only-child::after {width: 0;}#sk-container-id-5 div.sk-dashed-wrapped {border: 1px dashed gray;margin: 0 0.4em 0.5em 0.4em;box-sizing: border-box;padding-bottom: 0.4em;background-color: white;}#sk-container-id-5 div.sk-label label {font-family: monospace;font-weight: bold;display: inline-block;line-height: 1.2em;}#sk-container-id-5 div.sk-label-container {text-align: center;}#sk-container-id-5 div.sk-container {/* jupyter's `normalize.less` sets `[hidden] { display: none; }` but bootstrap.min.css set `[hidden] { display: none !important; }` so we also need the `!important` here to be able to override the default hidden behavior on the sphinx rendered scikit-learn.org. See: https://github.com/scikit-learn/scikit-learn/issues/21755 */display: inline-block !important;position: relative;}#sk-container-id-5 div.sk-text-repr-fallback {display: none;}</style><div id=\"sk-container-id-5\" class=\"sk-top-container\"><div class=\"sk-text-repr-fallback\"><pre>RandomizedSearchCV(cv=StratifiedKFold(n_splits=10, random_state=42, shuffle=True),\n",
       "                   estimator=Pipeline(steps=[(&#x27;scaler&#x27;, StandardScaler()),\n",
       "                                             (&#x27;model&#x27;,\n",
       "                                              RandomForestRegressor(random_state=42))]),\n",
       "                   n_iter=100, n_jobs=-1,\n",
       "                   param_distributions={&#x27;model__criterion&#x27;: [&#x27;squared_error&#x27;,\n",
       "                                                             &#x27;absolute_error&#x27;,\n",
       "                                                             &#x27;poisson&#x27;],\n",
       "                                        &#x27;model__max_depth&#x27;: array([4, 4, 7, 1, 1]),\n",
       "                                        &#x27;model__n_estimators&#x27;: array([37, 31, 94, 25,  8, 81, 34, 70, 16, 56])},\n",
       "                   scoring=&#x27;r2&#x27;, verbose=10)</pre><b>In a Jupyter environment, please rerun this cell to show the HTML representation or trust the notebook. <br />On GitHub, the HTML representation is unable to render, please try loading this page with nbviewer.org.</b></div><div class=\"sk-container\" hidden><div class=\"sk-item sk-dashed-wrapped\"><div class=\"sk-label-container\"><div class=\"sk-label sk-toggleable\"><input class=\"sk-toggleable__control sk-hidden--visually\" id=\"sk-estimator-id-17\" type=\"checkbox\" ><label for=\"sk-estimator-id-17\" class=\"sk-toggleable__label sk-toggleable__label-arrow\">RandomizedSearchCV</label><div class=\"sk-toggleable__content\"><pre>RandomizedSearchCV(cv=StratifiedKFold(n_splits=10, random_state=42, shuffle=True),\n",
       "                   estimator=Pipeline(steps=[(&#x27;scaler&#x27;, StandardScaler()),\n",
       "                                             (&#x27;model&#x27;,\n",
       "                                              RandomForestRegressor(random_state=42))]),\n",
       "                   n_iter=100, n_jobs=-1,\n",
       "                   param_distributions={&#x27;model__criterion&#x27;: [&#x27;squared_error&#x27;,\n",
       "                                                             &#x27;absolute_error&#x27;,\n",
       "                                                             &#x27;poisson&#x27;],\n",
       "                                        &#x27;model__max_depth&#x27;: array([4, 4, 7, 1, 1]),\n",
       "                                        &#x27;model__n_estimators&#x27;: array([37, 31, 94, 25,  8, 81, 34, 70, 16, 56])},\n",
       "                   scoring=&#x27;r2&#x27;, verbose=10)</pre></div></div></div><div class=\"sk-parallel\"><div class=\"sk-parallel-item\"><div class=\"sk-item\"><div class=\"sk-label-container\"><div class=\"sk-label sk-toggleable\"><input class=\"sk-toggleable__control sk-hidden--visually\" id=\"sk-estimator-id-18\" type=\"checkbox\" ><label for=\"sk-estimator-id-18\" class=\"sk-toggleable__label sk-toggleable__label-arrow\">estimator: Pipeline</label><div class=\"sk-toggleable__content\"><pre>Pipeline(steps=[(&#x27;scaler&#x27;, StandardScaler()),\n",
       "                (&#x27;model&#x27;, RandomForestRegressor(random_state=42))])</pre></div></div></div><div class=\"sk-serial\"><div class=\"sk-item\"><div class=\"sk-serial\"><div class=\"sk-item\"><div class=\"sk-estimator sk-toggleable\"><input class=\"sk-toggleable__control sk-hidden--visually\" id=\"sk-estimator-id-19\" type=\"checkbox\" ><label for=\"sk-estimator-id-19\" class=\"sk-toggleable__label sk-toggleable__label-arrow\">StandardScaler</label><div class=\"sk-toggleable__content\"><pre>StandardScaler()</pre></div></div></div><div class=\"sk-item\"><div class=\"sk-estimator sk-toggleable\"><input class=\"sk-toggleable__control sk-hidden--visually\" id=\"sk-estimator-id-20\" type=\"checkbox\" ><label for=\"sk-estimator-id-20\" class=\"sk-toggleable__label sk-toggleable__label-arrow\">RandomForestRegressor</label><div class=\"sk-toggleable__content\"><pre>RandomForestRegressor(random_state=42)</pre></div></div></div></div></div></div></div></div></div></div></div></div>"
      ],
      "text/plain": [
       "RandomizedSearchCV(cv=StratifiedKFold(n_splits=10, random_state=42, shuffle=True),\n",
       "                   estimator=Pipeline(steps=[('scaler', StandardScaler()),\n",
       "                                             ('model',\n",
       "                                              RandomForestRegressor(random_state=42))]),\n",
       "                   n_iter=100, n_jobs=-1,\n",
       "                   param_distributions={'model__criterion': ['squared_error',\n",
       "                                                             'absolute_error',\n",
       "                                                             'poisson'],\n",
       "                                        'model__max_depth': array([4, 4, 7, 1, 1]),\n",
       "                                        'model__n_estimators': array([37, 31, 94, 25,  8, 81, 34, 70, 16, 56])},\n",
       "                   scoring='r2', verbose=10)"
      ]
     },
     "execution_count": 41,
     "metadata": {},
     "output_type": "execute_result"
    }
   ],
   "source": [
    "# objeto selecionador - Random Search\n",
    "rs_cv = RandomizedSearchCV(pipe, param_dists, scoring='r2', cv=cvs, \n",
    "                        verbose = 10, n_iter=100, refit = True, n_jobs=-1)\n",
    "rs_cv.fit(x_train, y_train)"
   ]
  },
  {
   "cell_type": "code",
   "execution_count": 42,
   "metadata": {},
   "outputs": [
    {
     "name": "stdout",
     "output_type": "stream",
     "text": [
      "Grid Search - Melhores Parâmetros:\n",
      "{'model__criterion': 'squared_error', 'model__max_depth': 7, 'model__n_estimators': 94}\n",
      "Grid Search - Melhor Métrica:\n",
      "0.4314211283120307\n",
      "Random Search - Melhores Parâmetros:\n",
      "{'model__n_estimators': 81, 'model__max_depth': 7, 'model__criterion': 'squared_error'}\n",
      "Random Search - Melhor Métrica:\n",
      "0.4300190616029725\n"
     ]
    }
   ],
   "source": [
    "# avaliação de métricas\n",
    "print('Grid Search - Melhores Parâmetros:')\n",
    "print(gs_cv.best_params_)\n",
    "print('Grid Search - Melhor Métrica:')\n",
    "print(gs_cv.best_score_)\n",
    "\n",
    "\n",
    "print('Random Search - Melhores Parâmetros:')\n",
    "print(rs_cv.best_params_)\n",
    "print('Random Search - Melhor Métrica:')\n",
    "print(rs_cv.best_score_)"
   ]
  }
 ],
 "metadata": {
  "interpreter": {
   "hash": "f1ba8794fa85fbaa82e75e2932815913cb5407855996c12a16cc8e292cbcd9f4"
  },
  "kernelspec": {
   "display_name": "Python 3 (ipykernel)",
   "language": "python",
   "name": "python3"
  },
  "language_info": {
   "codemirror_mode": {
    "name": "ipython",
    "version": 3
   },
   "file_extension": ".py",
   "mimetype": "text/x-python",
   "name": "python",
   "nbconvert_exporter": "python",
   "pygments_lexer": "ipython3",
   "version": "3.9.7"
  }
 },
 "nbformat": 4,
 "nbformat_minor": 2
}
