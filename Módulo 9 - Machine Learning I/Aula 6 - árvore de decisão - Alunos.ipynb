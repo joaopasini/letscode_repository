{
 "cells": [
  {
   "cell_type": "markdown",
   "metadata": {
    "tags": []
   },
   "source": [
    "# Aula 6 - Árvore de decisão\n",
    "\n",
    "- 1) O que é uma árvore de decisão;\n",
    "- 2) Rapida aplicação;\n",
    "- 3) Como exatamente funciona uma árvore?;\n",
    "- 4) Árvores de Classificação;\n",
    "- 5) Árvores de Regressão;"
   ]
  },
  {
   "cell_type": "markdown",
   "metadata": {},
   "source": [
    "____\n",
    "____\n",
    "____"
   ]
  },
  {
   "cell_type": "markdown",
   "metadata": {},
   "source": [
    "## 1) O que é uma árvore de decisão"
   ]
  },
  {
   "cell_type": "markdown",
   "metadata": {},
   "source": [
    "<img src=\"https://didatica.tech/wp-content/uploads/2020/07/image-3.png\" width=500>\n",
    "\n",
    "Fonte: https://didatica.tech/como-funciona-o-algoritmo-arvore-de-decisao/"
   ]
  },
  {
   "cell_type": "markdown",
   "metadata": {},
   "source": [
    "<img src=\"https://web.tecnico.ulisboa.pt/ana.freitas/bioinformatics.ath.cx/bioinformatics.ath.cx/uploads/RTEmagicC_arv_dec4_01.gif.gif\" width=500>\n",
    "\n",
    "Fonte: http://web.tecnico.ulisboa.pt/ana.freitas/bioinformatics.ath.cx/bioinformatics.ath.cx/indexf23d.html?id"
   ]
  },
  {
   "cell_type": "markdown",
   "metadata": {
    "tags": []
   },
   "source": [
    "\n",
    "\n",
    "### Estrutura de uma árvore de decisão:\n",
    "\n",
    "<img src=\"https://i1.wp.com/www.vooo.pro/insights/wp-content/uploads/2016/12/RDS-Vooo_insights-Tutorial_arvore_de_decisao_02.jpg?resize=640%2C371&ssl=1\" width=600>\n",
    "\n",
    "\n",
    "Fonte: https://www.vooo.pro/insights/um-tutorial-completo-sobre-a-modelagem-baseada-em-tree-arvore-do-zero-em-r-python/"
   ]
  },
  {
   "cell_type": "markdown",
   "metadata": {},
   "source": [
    "#### Porque usar uma árvore: \n",
    "\n",
    "- Fácil interpretabilidade;\n",
    "- Auxilia na exploração de dados;\n",
    "- Traz um apelo visual.\n",
    "\n",
    "##### Mas cuidado com o risco de overfitting!"
   ]
  },
  {
   "cell_type": "markdown",
   "metadata": {},
   "source": [
    "#### Nota:\n",
    "\n",
    "Já foi visto árvores de decisão anteriormente no curso, no módulo de estrutura de dados.\n",
    "\n",
    "Naquele contato, nós criamos árvores **instanciando a classe com a estrutura que desejávamos**.\n",
    "\n",
    "Agora, conheceremos árvores como **estimadores**, de modo que á arvore **irá determinar sua estrutura com base nos dados de treino**!\n",
    "\n",
    "Isto é, a árvore irá determinar **quais são as melhores quebras** a serem feitas em cada nó.\n",
    "\n",
    "Entenderemos mais a frente como a \"qualidade\" de uma quebra é quantificada.\n",
    "\n",
    "Antes, vamos construir um modelo de árvore na prática!"
   ]
  },
  {
   "cell_type": "markdown",
   "metadata": {},
   "source": [
    "# Inicialmente, vamos a uma aplicação!"
   ]
  },
  {
   "cell_type": "code",
   "execution_count": 33,
   "metadata": {
    "ExecuteTime": {
     "end_time": "2022-02-16T19:07:55.727795Z",
     "start_time": "2022-02-16T19:07:53.191135Z"
    }
   },
   "outputs": [],
   "source": [
    "# importe as principais bibliotecas\n",
    "import pandas as pd\n",
    "import numpy as np\n",
    "import matplotlib.pyplot as plt\n",
    "import seaborn as sns\n",
    "\n",
    "# desabilita os warnings\n",
    "import warnings\n",
    "warnings.filterwarnings('ignore')"
   ]
  },
  {
   "cell_type": "code",
   "execution_count": 2,
   "metadata": {},
   "outputs": [
    {
     "data": {
      "text/plain": [
       "(569, 32)"
      ]
     },
     "execution_count": 2,
     "metadata": {},
     "output_type": "execute_result"
    }
   ],
   "source": [
    "df = pd.read_csv(\"breast_cancer.csv\")\n",
    "df.shape"
   ]
  },
  {
   "cell_type": "code",
   "execution_count": 4,
   "metadata": {},
   "outputs": [],
   "source": [
    "X = df.select_dtypes(include = np.number)\n",
    "y = df[\"diagnosis\"]"
   ]
  },
  {
   "cell_type": "code",
   "execution_count": 32,
   "metadata": {},
   "outputs": [],
   "source": [
    "from sklearn.model_selection import train_test_split"
   ]
  },
  {
   "cell_type": "code",
   "execution_count": 6,
   "metadata": {},
   "outputs": [],
   "source": [
    "X_train, X_test, y_train, y_test = train_test_split(X, y, test_size = 0.2, stratify=y)"
   ]
  },
  {
   "cell_type": "code",
   "execution_count": 8,
   "metadata": {},
   "outputs": [
    {
     "data": {
      "text/plain": [
       "B    0.626374\n",
       "M    0.373626\n",
       "Name: diagnosis, dtype: float64"
      ]
     },
     "execution_count": 8,
     "metadata": {},
     "output_type": "execute_result"
    }
   ],
   "source": [
    "y_train.value_counts(normalize = True)"
   ]
  },
  {
   "cell_type": "code",
   "execution_count": 31,
   "metadata": {},
   "outputs": [],
   "source": [
    "from sklearn.tree import DecisionTreeClassifier"
   ]
  },
  {
   "cell_type": "code",
   "execution_count": 15,
   "metadata": {},
   "outputs": [
    {
     "data": {
      "text/html": [
       "<style>#sk-container-id-1 {color: black;background-color: white;}#sk-container-id-1 pre{padding: 0;}#sk-container-id-1 div.sk-toggleable {background-color: white;}#sk-container-id-1 label.sk-toggleable__label {cursor: pointer;display: block;width: 100%;margin-bottom: 0;padding: 0.3em;box-sizing: border-box;text-align: center;}#sk-container-id-1 label.sk-toggleable__label-arrow:before {content: \"▸\";float: left;margin-right: 0.25em;color: #696969;}#sk-container-id-1 label.sk-toggleable__label-arrow:hover:before {color: black;}#sk-container-id-1 div.sk-estimator:hover label.sk-toggleable__label-arrow:before {color: black;}#sk-container-id-1 div.sk-toggleable__content {max-height: 0;max-width: 0;overflow: hidden;text-align: left;background-color: #f0f8ff;}#sk-container-id-1 div.sk-toggleable__content pre {margin: 0.2em;color: black;border-radius: 0.25em;background-color: #f0f8ff;}#sk-container-id-1 input.sk-toggleable__control:checked~div.sk-toggleable__content {max-height: 200px;max-width: 100%;overflow: auto;}#sk-container-id-1 input.sk-toggleable__control:checked~label.sk-toggleable__label-arrow:before {content: \"▾\";}#sk-container-id-1 div.sk-estimator input.sk-toggleable__control:checked~label.sk-toggleable__label {background-color: #d4ebff;}#sk-container-id-1 div.sk-label input.sk-toggleable__control:checked~label.sk-toggleable__label {background-color: #d4ebff;}#sk-container-id-1 input.sk-hidden--visually {border: 0;clip: rect(1px 1px 1px 1px);clip: rect(1px, 1px, 1px, 1px);height: 1px;margin: -1px;overflow: hidden;padding: 0;position: absolute;width: 1px;}#sk-container-id-1 div.sk-estimator {font-family: monospace;background-color: #f0f8ff;border: 1px dotted black;border-radius: 0.25em;box-sizing: border-box;margin-bottom: 0.5em;}#sk-container-id-1 div.sk-estimator:hover {background-color: #d4ebff;}#sk-container-id-1 div.sk-parallel-item::after {content: \"\";width: 100%;border-bottom: 1px solid gray;flex-grow: 1;}#sk-container-id-1 div.sk-label:hover label.sk-toggleable__label {background-color: #d4ebff;}#sk-container-id-1 div.sk-serial::before {content: \"\";position: absolute;border-left: 1px solid gray;box-sizing: border-box;top: 0;bottom: 0;left: 50%;z-index: 0;}#sk-container-id-1 div.sk-serial {display: flex;flex-direction: column;align-items: center;background-color: white;padding-right: 0.2em;padding-left: 0.2em;position: relative;}#sk-container-id-1 div.sk-item {position: relative;z-index: 1;}#sk-container-id-1 div.sk-parallel {display: flex;align-items: stretch;justify-content: center;background-color: white;position: relative;}#sk-container-id-1 div.sk-item::before, #sk-container-id-1 div.sk-parallel-item::before {content: \"\";position: absolute;border-left: 1px solid gray;box-sizing: border-box;top: 0;bottom: 0;left: 50%;z-index: -1;}#sk-container-id-1 div.sk-parallel-item {display: flex;flex-direction: column;z-index: 1;position: relative;background-color: white;}#sk-container-id-1 div.sk-parallel-item:first-child::after {align-self: flex-end;width: 50%;}#sk-container-id-1 div.sk-parallel-item:last-child::after {align-self: flex-start;width: 50%;}#sk-container-id-1 div.sk-parallel-item:only-child::after {width: 0;}#sk-container-id-1 div.sk-dashed-wrapped {border: 1px dashed gray;margin: 0 0.4em 0.5em 0.4em;box-sizing: border-box;padding-bottom: 0.4em;background-color: white;}#sk-container-id-1 div.sk-label label {font-family: monospace;font-weight: bold;display: inline-block;line-height: 1.2em;}#sk-container-id-1 div.sk-label-container {text-align: center;}#sk-container-id-1 div.sk-container {/* jupyter's `normalize.less` sets `[hidden] { display: none; }` but bootstrap.min.css set `[hidden] { display: none !important; }` so we also need the `!important` here to be able to override the default hidden behavior on the sphinx rendered scikit-learn.org. See: https://github.com/scikit-learn/scikit-learn/issues/21755 */display: inline-block !important;position: relative;}#sk-container-id-1 div.sk-text-repr-fallback {display: none;}</style><div id=\"sk-container-id-1\" class=\"sk-top-container\"><div class=\"sk-text-repr-fallback\"><pre>DecisionTreeClassifier()</pre><b>In a Jupyter environment, please rerun this cell to show the HTML representation or trust the notebook. <br />On GitHub, the HTML representation is unable to render, please try loading this page with nbviewer.org.</b></div><div class=\"sk-container\" hidden><div class=\"sk-item\"><div class=\"sk-estimator sk-toggleable\"><input class=\"sk-toggleable__control sk-hidden--visually\" id=\"sk-estimator-id-1\" type=\"checkbox\" checked><label for=\"sk-estimator-id-1\" class=\"sk-toggleable__label sk-toggleable__label-arrow\">DecisionTreeClassifier</label><div class=\"sk-toggleable__content\"><pre>DecisionTreeClassifier()</pre></div></div></div></div></div>"
      ],
      "text/plain": [
       "DecisionTreeClassifier()"
      ]
     },
     "execution_count": 15,
     "metadata": {},
     "output_type": "execute_result"
    }
   ],
   "source": [
    "dtc = DecisionTreeClassifier()\n",
    "\n",
    "dtc.fit(X_train, y_train)"
   ]
  },
  {
   "cell_type": "code",
   "execution_count": 91,
   "metadata": {},
   "outputs": [],
   "source": [
    "y_pred = dtc.predict(X_test)"
   ]
  },
  {
   "cell_type": "code",
   "execution_count": 92,
   "metadata": {},
   "outputs": [
    {
     "name": "stdout",
     "output_type": "stream",
     "text": [
      "              precision    recall  f1-score   support\n",
      "\n",
      "           B       0.95      0.99      0.97        72\n",
      "           M       0.97      0.90      0.94        42\n",
      "\n",
      "    accuracy                           0.96       114\n",
      "   macro avg       0.96      0.95      0.95       114\n",
      "weighted avg       0.96      0.96      0.96       114\n",
      "\n"
     ]
    }
   ],
   "source": [
    "# Olhando para o classification report \n",
    "\n",
    "print(classification_report(y_test, y_pred))"
   ]
  },
  {
   "cell_type": "code",
   "execution_count": 93,
   "metadata": {},
   "outputs": [
    {
     "data": {
      "text/plain": [
       "<sklearn.metrics._plot.confusion_matrix.ConfusionMatrixDisplay at 0x1d39c396f50>"
      ]
     },
     "execution_count": 93,
     "metadata": {},
     "output_type": "execute_result"
    },
    {
     "data": {
      "image/png": "[encoded data removed]",
      "text/plain": [
       "<Figure size 432x288 with 2 Axes>"
      ]
     },
     "metadata": {
      "needs_background": "light"
     },
     "output_type": "display_data"
    }
   ],
   "source": [
    "ConfusionMatrixDisplay.from_predictions(y_test, y_pred, normalize = 'true')"
   ]
  },
  {
   "cell_type": "markdown",
   "metadata": {},
   "source": [
    "# O que acontece realmente com a árvore?"
   ]
  },
  {
   "cell_type": "markdown",
   "metadata": {},
   "source": [
    "__Exemplo__\n",
    "\n",
    "Digamos que uma amostra de 30 alunos tem duas variáveis: Sexo (menino ou menina), Turma (IX ou X). \n",
    "\n",
    "Digamos também que 15 destes 30 jogam tênis no recreio. \n",
    "\n",
    "Queremos separar os alunos: quem **joga tênis** e quem **não joga tênis**\n"
   ]
  },
  {
   "cell_type": "markdown",
   "metadata": {},
   "source": [
    "Toda árvore começa pelo nó raiz, então, uma pergunta natural é: **qual feature utilizamos para fazer a quebra do nó raiz: sexo ou turma?**\n",
    "\n",
    "Há duas quebras possíveis:\n",
    "\n",
    "<img src=\"https://i2.wp.com/www.vooo.pro/insights/wp-content/uploads/2016/12/RDS-Vooo-Tutorial_completo_arvore_decisao_03.jpg?resize=617%2C293&ssl=1\" width=500>\n",
    "\n",
    "Vemos que, **dependendo da feature que utilizamos pra fazer a quebra**, conseguimos **graus de separações diferentes dos dados com relação ao target**:\n",
    "\n",
    "\n",
    "<table>\n",
    "<thead>\n",
    "  <tr>\n",
    "    <th colspan=\"4\"><center>Sexo</center></th>\n",
    "  </tr>\n",
    "</thead>\n",
    "<tbody>\n",
    "  <tr>\n",
    "    <td colspan=\"2\"><center>Meninas</center></td>\n",
    "    <td colspan=\"2\"><center>Meninos</center></td>\n",
    "  </tr>\n",
    "  <tr>\n",
    "    <td><center>jogam tênis</center></td>\n",
    "    <td><center>NÃO jogam tênis</center></td>\n",
    "    <td><center>jogam tênis</center></td>\n",
    "    <td><center>NÃO jogam tênis</center></td>\n",
    "  </tr>\n",
    "  <tr>\n",
    "    <td><center>2</center></td>\n",
    "    <td><center>8</center></td>\n",
    "    <td><center>13</center></td>\n",
    "    <td><center>7</center></td>\n",
    "  </tr>\n",
    "  <tr>\n",
    "    <td colspan=\"2\"><center>10</center></td>\n",
    "    <td colspan=\"2\"><center>20</center></td>\n",
    "  </tr>\n",
    "</tbody>\n",
    "</table>\n",
    "\n",
    "\n",
    "<table>\n",
    "<thead>\n",
    "  <tr>\n",
    "    <th colspan=\"4\"><center>turma</center></th>\n",
    "  </tr>\n",
    "</thead>\n",
    "<tbody>\n",
    "  <tr>\n",
    "    <td colspan=\"2\"><center>IX</center></td>\n",
    "    <td colspan=\"2\"><center>X</center></td>\n",
    "  </tr>\n",
    "  <tr>\n",
    "    <td><center>jogam tênis</center></td>\n",
    "    <td><center>NÃO jogam tênis</center></td>\n",
    "    <td><center>jogam tênis</center></td>\n",
    "    <td><center>NÃO jogam tênis</center></td>\n",
    "  </tr>\n",
    "  <tr>\n",
    "    <td><center>6</center></td>\n",
    "    <td><center>8</center></td>\n",
    "    <td><center>9</center></td>\n",
    "    <td><center>7</center></td>\n",
    "  </tr>\n",
    "  <tr>\n",
    "    <td colspan=\"2\"><center>14</center></td>\n",
    "    <td colspan=\"2\"><center>16</center></td>\n",
    "  </tr>\n",
    "</tbody>\n",
    "</table>\n",
    "\n",
    "Como decidir qual das quebrar acima **separou melhor os dados com relação ao target?**\n",
    "\n",
    "Matematicamente, o modelo pode usar dois critérios diferentes para decidir como fazer as quebras na árvore: o **critério de Gini** ou o **critério da entropia**."
   ]
  },
  {
   "cell_type": "markdown",
   "metadata": {},
   "source": [
    "______\n",
    "\n",
    "**Critério de Gini**\n",
    "\n",
    "A **impureza de Gini** mede o quão \"impuras\" são as folhas das árvores construídas após as quebras nos nós. O coeficiente é dado por:\n",
    "\n",
    "$$Gini(D) = 1 - \\sum{p_{i}^2}$$\n",
    "\n",
    "Onde $p_i$ são as **proporções** de separação do target em cada quebra.\n",
    "\n",
    "Aqui estaremos interessados **em como a impureza muda após as quebras**. Nosso objetivo será **maximizar a purificação proporcionada pela quebra nos nós** -- mais precisamente, estamos interessados em determinar **qual é a quebra que proporciona a maior purificação**.\n",
    "\n",
    "- **Impureza antes da divisão**: Como não havia separação alguma, a impureza era dada simplesmente pelo balanço natural dos dados: \n",
    "\n",
    "$$G(\\text{pré-divisão}) = 1 - ((15/30)^2 + (15/30)^2) = 0.5$$"
   ]
  },
  {
   "cell_type": "markdown",
   "metadata": {},
   "source": [
    "Temos duas quebras possíveis:\n",
    "\n",
    "- Divisão por **sexo**: após a divisão dos dados pela feature **sexo**, passamos a ter as seguintes impurezas, segundo a tabela acima: \n",
    "\n",
    "    - $G(\\text{meninas}) = 1 - (\\frac{2}{10}^2 + \\frac{8}{10}^2) = 0.319$\n",
    "    \n",
    "    - $G(\\text{meninos}) = 1 - ( \\frac{13}{20}^2 + \\frac{7}{20}^2) = 0.454$\n",
    "    \n",
    "    Ou seja, após a divisão, a impureza total passa a ser a média ponderada: \n",
    "    \n",
    "    <br>\n",
    "    \n",
    "    - $G(\\text{pós-divisão}) = \\frac{10}{30} \\times G(\\text{meninas}) + \\frac{20}{30} \\times G(\\text{meninos})\n",
    "    = 0.33 \\times 0.319 + 0.66 \\times 0.454\n",
    "    = 0.40491$\n",
    "    "
   ]
  },
  {
   "cell_type": "markdown",
   "metadata": {},
   "source": [
    "<!-- Assim, **a perda de impureza proporcionada pela quebra** dos dados segundo a feature **sexo** é de:\n",
    "\n",
    "- $\\Delta G_{\\text{sexo}} = G(\\text{pré-divisão}) - G(\\text{pós-divisão}) = 0.5 - 0.40491 = $ **0.095** -->"
   ]
  },
  {
   "cell_type": "markdown",
   "metadata": {},
   "source": [
    "- Divisão por **classe**: após a divisão dos dados pela feature **classe**, passamos a ter as seguintes impurezas, segundo a tabela acima:\n",
    "\n",
    "    - $G(\\text{IX}) = 1 - (\\frac{6}{14}^2 + \\frac{8}{14}^2) = 0.489$\n",
    "    \n",
    "    - $G(\\text{X}) = 1 - ( \\frac{9}{16}^2 + \\frac{7}{16}^2) = 0.492$\n",
    "    \n",
    "    Ou seja, após a divisão, a impureza total passa a ser a média ponderada: \n",
    "    \n",
    "    <br>\n",
    "    \n",
    "    - $G(\\text{pós-divisão}) = \\frac{14}{30} \\times G(\\text{IX}) + \\frac{16}{30} \\times G(\\text{X})\n",
    "    = 0.46 \\times 0.489 + 0.53 \\times 0.492\n",
    "    = 0.4857$\n",
    "    "
   ]
  },
  {
   "cell_type": "markdown",
   "metadata": {},
   "source": [
    "<!-- Assim, **a perda de impureza proporcionada pela quebra** dos dados segundo a feature **classe** é de:\n",
    "    \n",
    "- $\\Delta G_{\\text{classe}} = G(\\text{pré-divisão}) - G(\\text{pós-divisão}) = 0.5 - 0.4857 = $ **0.014**  -->"
   ]
  },
  {
   "cell_type": "markdown",
   "metadata": {},
   "source": [
    " \n",
    "Agora, como escolher a melhor quebra?\n",
    "\n",
    "> O **critério de Gini** consiste em **escolher a quebra que proporciona a maior purificação** | **menor grau de impureza**.\n",
    "\n",
    "Assim, a divisão a ser escolhida seria por **sexo**. \n",
    "\n",
    "Depois, aplica-se o mesmo procedimento para os nós resultantes."
   ]
  },
  {
   "cell_type": "markdown",
   "metadata": {},
   "source": [
    "_________\n",
    "\n",
    "**Critério de entropia**\n",
    "\n",
    "A **entropia** é uma quantidade definida em física e teoria da informação com o objetivo de quantificar **o grau de desordem de um sistema**, ou também, uma medidad da aleatoriedade (impureza) de uma variável.\n",
    "\n",
    "A entropia é dada por:\n",
    "\n",
    " $$E = -\\sum{p_{i} \\log_{2}{p_{i}}}$$\n",
    " \n",
    "Onde $p_i$ são as **proporções** de separação do target em cada quebra.\n",
    "\n",
    "O objetivo é o mesmo: Encontrar o menor grau de impureza.\n",
    " \n",
    "Temos duas quebras possíveis:"
   ]
  },
  {
   "cell_type": "markdown",
   "metadata": {},
   "source": [
    "- Divisão por sexo: \n",
    "\n",
    "    - $E(\\text{meninas}) = -1 \\times (\\frac{2}{10} \\log_{2}\\frac{2}{10} + \\frac{8}{10} \\log_{2}\\frac{8}{10}) = 0.721$\n",
    "    - $E(\\text{meninos}) = -1 \\times (\\frac{13}{20} \\log_{2}\\frac{13}{20} + \\frac{7}{20} \\log_{2}\\frac{7}{20}) = 0.934$\n",
    "    \n",
    "    A entropia ponderada após a divisão por **sexo** é:\n",
    "    \n",
    "    <br>\n",
    "    \n",
    "    - $E(\\text{pós-divisão}) = \\frac{10}{30} \\times E(\\text{meninas}) + \\frac{20}{30} \\times E(\\text{meninos}) =  0.863$\n",
    "    \n",
    "    \n",
    "    <br>\n",
    "    \n",
    "\n",
    "<br>"
   ]
  },
  {
   "cell_type": "markdown",
   "metadata": {},
   "source": [
    "- Divisão por classe:\n",
    "\n",
    "    - $E(\\text{IX}) = -1 \\times (\\frac{6}{14} \\log_{2}\\frac{6}{14} + \\frac{8}{14} \\log_{2}\\frac{8}{14}) = 0.985$\n",
    "    - $E(\\text{X}) = -1 \\times (\\frac{9}{16} \\log_{2}\\frac{9}{16} + \\frac{7}{16} \\log_{2}\\frac{7}{16}) = 0.988$\n",
    "    \n",
    "    A entropia ponderada após a divisão por **classe** é:\n",
    "    \n",
    "    <br>\n",
    "    \n",
    "    - $E(\\text{pós-divisão}) = \\frac{10}{30} \\times E(\\text{IX}) + \\frac{20}{30} \\times E(\\text{X}) =  0.986$\n",
    "    \n",
    "    \n",
    "    <br>\n",
    "    \n"
   ]
  },
  {
   "cell_type": "markdown",
   "metadata": {},
   "source": [
    "Também pela entropia, a divisão a ser escolhida seria por **sexo**. \n",
    "\n",
    "Depois, aplica-se o mesmo procedimento para os nós resultantes, até obter-se nós puros."
   ]
  },
  {
   "cell_type": "code",
   "execution_count": null,
   "metadata": {},
   "outputs": [],
   "source": []
  },
  {
   "cell_type": "markdown",
   "metadata": {},
   "source": [
    "# Exercício 1\n",
    "\n",
    "Faça como eu fiz anteriormente com o breast_cancer:\n",
    "\n",
    " - 1) Importe os dados e faça uma seleção dos features;\n",
    " \n",
    " - 2) Realize o split dos dados em treino e teste;\n",
    " \n",
    " - 3) from sklearn.tree import DecisionTreeClassifier... ; \n",
    " \n",
    " - 4) Treine e avalie o modelo.\n",
    " \n",
    " - 5) Faça o mesmo com outros modelos de classificação e compare-os!"
   ]
  },
  {
   "cell_type": "code",
   "execution_count": 40,
   "metadata": {
    "ExecuteTime": {
     "end_time": "2022-02-16T19:07:55.916673Z",
     "start_time": "2022-02-16T19:07:55.732802Z"
    }
   },
   "outputs": [],
   "source": [
    "df = pd.read_csv(\"breast_cancer.csv\")"
   ]
  },
  {
   "cell_type": "code",
   "execution_count": 63,
   "metadata": {
    "ExecuteTime": {
     "end_time": "2022-02-16T19:07:55.964590Z",
     "start_time": "2022-02-16T19:07:55.920616Z"
    }
   },
   "outputs": [
    {
     "data": {
      "text/html": [
       "<div>\n",
       "<style scoped>\n",
       "    .dataframe tbody tr th:only-of-type {\n",
       "        vertical-align: middle;\n",
       "    }\n",
       "\n",
       "    .dataframe tbody tr th {\n",
       "        vertical-align: top;\n",
       "    }\n",
       "\n",
       "    .dataframe thead th {\n",
       "        text-align: right;\n",
       "    }\n",
       "</style>\n",
       "<table border=\"1\" class=\"dataframe\">\n",
       "  <thead>\n",
       "    <tr style=\"text-align: right;\">\n",
       "      <th></th>\n",
       "      <th>id</th>\n",
       "      <th>diagnosis</th>\n",
       "      <th>radius_mean</th>\n",
       "      <th>texture_mean</th>\n",
       "      <th>perimeter_mean</th>\n",
       "      <th>area_mean</th>\n",
       "      <th>smoothness_mean</th>\n",
       "      <th>compactness_mean</th>\n",
       "      <th>concavity_mean</th>\n",
       "      <th>concave points_mean</th>\n",
       "      <th>...</th>\n",
       "      <th>radius_worst</th>\n",
       "      <th>texture_worst</th>\n",
       "      <th>perimeter_worst</th>\n",
       "      <th>area_worst</th>\n",
       "      <th>smoothness_worst</th>\n",
       "      <th>compactness_worst</th>\n",
       "      <th>concavity_worst</th>\n",
       "      <th>concave points_worst</th>\n",
       "      <th>symmetry_worst</th>\n",
       "      <th>fractal_dimension_worst</th>\n",
       "    </tr>\n",
       "  </thead>\n",
       "  <tbody>\n",
       "    <tr>\n",
       "      <th>0</th>\n",
       "      <td>842302</td>\n",
       "      <td>M</td>\n",
       "      <td>17.99</td>\n",
       "      <td>10.38</td>\n",
       "      <td>122.80</td>\n",
       "      <td>1001.0</td>\n",
       "      <td>0.11840</td>\n",
       "      <td>0.27760</td>\n",
       "      <td>0.3001</td>\n",
       "      <td>0.14710</td>\n",
       "      <td>...</td>\n",
       "      <td>25.38</td>\n",
       "      <td>17.33</td>\n",
       "      <td>184.60</td>\n",
       "      <td>2019.0</td>\n",
       "      <td>0.1622</td>\n",
       "      <td>0.6656</td>\n",
       "      <td>0.7119</td>\n",
       "      <td>0.2654</td>\n",
       "      <td>0.4601</td>\n",
       "      <td>0.11890</td>\n",
       "    </tr>\n",
       "    <tr>\n",
       "      <th>1</th>\n",
       "      <td>842517</td>\n",
       "      <td>M</td>\n",
       "      <td>20.57</td>\n",
       "      <td>17.77</td>\n",
       "      <td>132.90</td>\n",
       "      <td>1326.0</td>\n",
       "      <td>0.08474</td>\n",
       "      <td>0.07864</td>\n",
       "      <td>0.0869</td>\n",
       "      <td>0.07017</td>\n",
       "      <td>...</td>\n",
       "      <td>24.99</td>\n",
       "      <td>23.41</td>\n",
       "      <td>158.80</td>\n",
       "      <td>1956.0</td>\n",
       "      <td>0.1238</td>\n",
       "      <td>0.1866</td>\n",
       "      <td>0.2416</td>\n",
       "      <td>0.1860</td>\n",
       "      <td>0.2750</td>\n",
       "      <td>0.08902</td>\n",
       "    </tr>\n",
       "    <tr>\n",
       "      <th>2</th>\n",
       "      <td>84300903</td>\n",
       "      <td>M</td>\n",
       "      <td>19.69</td>\n",
       "      <td>21.25</td>\n",
       "      <td>130.00</td>\n",
       "      <td>1203.0</td>\n",
       "      <td>0.10960</td>\n",
       "      <td>0.15990</td>\n",
       "      <td>0.1974</td>\n",
       "      <td>0.12790</td>\n",
       "      <td>...</td>\n",
       "      <td>23.57</td>\n",
       "      <td>25.53</td>\n",
       "      <td>152.50</td>\n",
       "      <td>1709.0</td>\n",
       "      <td>0.1444</td>\n",
       "      <td>0.4245</td>\n",
       "      <td>0.4504</td>\n",
       "      <td>0.2430</td>\n",
       "      <td>0.3613</td>\n",
       "      <td>0.08758</td>\n",
       "    </tr>\n",
       "    <tr>\n",
       "      <th>3</th>\n",
       "      <td>84348301</td>\n",
       "      <td>M</td>\n",
       "      <td>11.42</td>\n",
       "      <td>20.38</td>\n",
       "      <td>77.58</td>\n",
       "      <td>386.1</td>\n",
       "      <td>0.14250</td>\n",
       "      <td>0.28390</td>\n",
       "      <td>0.2414</td>\n",
       "      <td>0.10520</td>\n",
       "      <td>...</td>\n",
       "      <td>14.91</td>\n",
       "      <td>26.50</td>\n",
       "      <td>98.87</td>\n",
       "      <td>567.7</td>\n",
       "      <td>0.2098</td>\n",
       "      <td>0.8663</td>\n",
       "      <td>0.6869</td>\n",
       "      <td>0.2575</td>\n",
       "      <td>0.6638</td>\n",
       "      <td>0.17300</td>\n",
       "    </tr>\n",
       "    <tr>\n",
       "      <th>4</th>\n",
       "      <td>84358402</td>\n",
       "      <td>M</td>\n",
       "      <td>20.29</td>\n",
       "      <td>14.34</td>\n",
       "      <td>135.10</td>\n",
       "      <td>1297.0</td>\n",
       "      <td>0.10030</td>\n",
       "      <td>0.13280</td>\n",
       "      <td>0.1980</td>\n",
       "      <td>0.10430</td>\n",
       "      <td>...</td>\n",
       "      <td>22.54</td>\n",
       "      <td>16.67</td>\n",
       "      <td>152.20</td>\n",
       "      <td>1575.0</td>\n",
       "      <td>0.1374</td>\n",
       "      <td>0.2050</td>\n",
       "      <td>0.4000</td>\n",
       "      <td>0.1625</td>\n",
       "      <td>0.2364</td>\n",
       "      <td>0.07678</td>\n",
       "    </tr>\n",
       "  </tbody>\n",
       "</table>\n",
       "<p>5 rows × 32 columns</p>\n",
       "</div>"
      ],
      "text/plain": [
       "         id diagnosis  radius_mean  texture_mean  perimeter_mean  area_mean  \\\n",
       "0    842302         M        17.99         10.38          122.80     1001.0   \n",
       "1    842517         M        20.57         17.77          132.90     1326.0   \n",
       "2  84300903         M        19.69         21.25          130.00     1203.0   \n",
       "3  84348301         M        11.42         20.38           77.58      386.1   \n",
       "4  84358402         M        20.29         14.34          135.10     1297.0   \n",
       "\n",
       "   smoothness_mean  compactness_mean  concavity_mean  concave points_mean  \\\n",
       "0          0.11840           0.27760          0.3001              0.14710   \n",
       "1          0.08474           0.07864          0.0869              0.07017   \n",
       "2          0.10960           0.15990          0.1974              0.12790   \n",
       "3          0.14250           0.28390          0.2414              0.10520   \n",
       "4          0.10030           0.13280          0.1980              0.10430   \n",
       "\n",
       "   ...  radius_worst  texture_worst  perimeter_worst  area_worst  \\\n",
       "0  ...         25.38          17.33           184.60      2019.0   \n",
       "1  ...         24.99          23.41           158.80      1956.0   \n",
       "2  ...         23.57          25.53           152.50      1709.0   \n",
       "3  ...         14.91          26.50            98.87       567.7   \n",
       "4  ...         22.54          16.67           152.20      1575.0   \n",
       "\n",
       "   smoothness_worst  compactness_worst  concavity_worst  concave points_worst  \\\n",
       "0            0.1622             0.6656           0.7119                0.2654   \n",
       "1            0.1238             0.1866           0.2416                0.1860   \n",
       "2            0.1444             0.4245           0.4504                0.2430   \n",
       "3            0.2098             0.8663           0.6869                0.2575   \n",
       "4            0.1374             0.2050           0.4000                0.1625   \n",
       "\n",
       "   symmetry_worst  fractal_dimension_worst  \n",
       "0          0.4601                  0.11890  \n",
       "1          0.2750                  0.08902  \n",
       "2          0.3613                  0.08758  \n",
       "3          0.6638                  0.17300  \n",
       "4          0.2364                  0.07678  \n",
       "\n",
       "[5 rows x 32 columns]"
      ]
     },
     "execution_count": 63,
     "metadata": {},
     "output_type": "execute_result"
    }
   ],
   "source": [
    "df.head()"
   ]
  },
  {
   "cell_type": "code",
   "execution_count": null,
   "metadata": {},
   "outputs": [],
   "source": [
    "X = df.select_dtypes(include = np.number)\n",
    "y = df[\"diagnosis\"]"
   ]
  },
  {
   "cell_type": "code",
   "execution_count": null,
   "metadata": {},
   "outputs": [],
   "source": [
    "from sklearn.model_selection import train_test_split"
   ]
  },
  {
   "cell_type": "code",
   "execution_count": null,
   "metadata": {},
   "outputs": [],
   "source": [
    "X_train, X_test, y_train, y_test = train_test_split(X, y, test_size = 0.2, stratify=y)"
   ]
  },
  {
   "cell_type": "code",
   "execution_count": null,
   "metadata": {},
   "outputs": [],
   "source": []
  },
  {
   "cell_type": "code",
   "execution_count": null,
   "metadata": {},
   "outputs": [],
   "source": []
  },
  {
   "cell_type": "code",
   "execution_count": null,
   "metadata": {},
   "outputs": [],
   "source": []
  },
  {
   "cell_type": "markdown",
   "metadata": {},
   "source": [
    "### teste com o logit..."
   ]
  },
  {
   "cell_type": "code",
   "execution_count": null,
   "metadata": {},
   "outputs": [],
   "source": []
  },
  {
   "cell_type": "markdown",
   "metadata": {},
   "source": [
    "Agora, pra árvore:"
   ]
  },
  {
   "cell_type": "code",
   "execution_count": null,
   "metadata": {},
   "outputs": [],
   "source": []
  },
  {
   "cell_type": "code",
   "execution_count": null,
   "metadata": {},
   "outputs": [],
   "source": []
  },
  {
   "cell_type": "markdown",
   "metadata": {},
   "source": [
    "Temos um claro overfitting! \n",
    "\n",
    "Por que isso pode ter acontecido? Vamos discutir mais sobre isso adiante, mas o fato é que o método de árvore de decisão é um método notoriamente **propenso a overfitting**.\n",
    "\n",
    "Para entender o porquê, vamos dar uma olhada na árvore treinada!"
   ]
  },
  {
   "cell_type": "markdown",
   "metadata": {},
   "source": [
    "__Visualizando a árvore de decisão__\n",
    "\n",
    "É possível visualizar a árvore de decisão criada com o próprio sklearn!\n",
    "\n",
    "Para isso, basta usar a função `plot_tree()` do sub-módulo tree, conforme abaixo!\n",
    "\n",
    "Para mais detalhes sobre como plotar a árvore, [clique aqui](https://scikit-learn.org/stable/modules/tree.html#tree)"
   ]
  },
  {
   "cell_type": "code",
   "execution_count": 35,
   "metadata": {
    "ExecuteTime": {
     "end_time": "2022-02-16T19:08:05.469532Z",
     "start_time": "2022-02-16T19:08:05.456528Z"
    }
   },
   "outputs": [],
   "source": [
    "from sklearn.tree import plot_tree"
   ]
  },
  {
   "cell_type": "markdown",
   "metadata": {},
   "source": [
    "Obs.: vou deixar os plots comentados pra não pesar no notebook."
   ]
  },
  {
   "cell_type": "code",
   "execution_count": 87,
   "metadata": {
    "ExecuteTime": {
     "end_time": "2022-02-16T19:08:05.576779Z",
     "start_time": "2022-02-16T19:08:05.472516Z"
    },
    "scrolled": true
   },
   "outputs": [],
   "source": [
    "# fig, axs = plt.subplots(nrows=1, ncols=1, figsize=(18, 18), dpi=300)\n",
    "\n",
    "# plot_tree(dt)\n",
    "\n",
    "# fig.savefig(\"arvore1.png\")"
   ]
  },
  {
   "cell_type": "code",
   "execution_count": null,
   "metadata": {},
   "outputs": [],
   "source": []
  },
  {
   "cell_type": "code",
   "execution_count": 81,
   "metadata": {
    "ExecuteTime": {
     "end_time": "2022-02-16T19:08:05.811013Z",
     "start_time": "2022-02-16T19:08:05.696342Z"
    },
    "scrolled": true
   },
   "outputs": [],
   "source": [
    "# fig, axs = plt.subplots(nrows=1, ncols=1, figsize=(18, 18), dpi=500)\n",
    "\n",
    "# plot_tree(dt, feature_names=X_train.columns, class_names=y_train.unique())\n",
    "\n",
    "# fig.savefig(\"arvore1.png\")"
   ]
  },
  {
   "cell_type": "code",
   "execution_count": 83,
   "metadata": {
    "ExecuteTime": {
     "end_time": "2022-02-16T19:08:05.891027Z",
     "start_time": "2022-02-16T19:08:05.814010Z"
    },
    "scrolled": true
   },
   "outputs": [],
   "source": [
    "# fig, axs = plt.subplots(nrows=1, ncols=1, figsize=(18, 18))\n",
    "\n",
    "# plot_tree(dt, feature_names=X_train.columns, max_depth=3)"
   ]
  },
  {
   "cell_type": "markdown",
   "metadata": {},
   "source": [
    "Alguns métodos interessantes da árvore:"
   ]
  },
  {
   "cell_type": "code",
   "execution_count": 84,
   "metadata": {
    "ExecuteTime": {
     "end_time": "2022-02-16T19:08:05.985931Z",
     "start_time": "2022-02-16T19:08:05.895983Z"
    }
   },
   "outputs": [
    {
     "data": {
      "text/plain": [
       "7"
      ]
     },
     "execution_count": 84,
     "metadata": {},
     "output_type": "execute_result"
    }
   ],
   "source": [
    "dt.get_depth()"
   ]
  },
  {
   "cell_type": "code",
   "execution_count": 85,
   "metadata": {
    "ExecuteTime": {
     "end_time": "2022-02-16T19:08:06.080976Z",
     "start_time": "2022-02-16T19:08:05.988932Z"
    }
   },
   "outputs": [
    {
     "data": {
      "text/plain": [
       "18"
      ]
     },
     "execution_count": 85,
     "metadata": {},
     "output_type": "execute_result"
    }
   ],
   "source": [
    "dt.get_n_leaves()"
   ]
  },
  {
   "cell_type": "markdown",
   "metadata": {},
   "source": [
    "Temos uma árvore **muito profunda**, o que implica em um **modelo muito complexo**.\n",
    "\n",
    "De fato, se imaginarmos a hipótese como uma função definida por partes, quanto mais quebras, mais partes, o que torna a hipótese mais complexa, e, portanto, mais propensa a overfitting!\n",
    "\n",
    "Uma visualização do que acontece com o espaço de features:\n",
    "\n",
    "<img src=https://paulvanderlaken.files.wordpress.com/2020/03/readme-titanic_plot-11.png width=500>"
   ]
  },
  {
   "cell_type": "markdown",
   "metadata": {},
   "source": [
    "Antes de avançarmos na direção de melhoria deste cenário, vamos parar e entender um pouco mais a fundo como que o estimador de árvore de decisão funciona!"
   ]
  },
  {
   "cell_type": "markdown",
   "metadata": {},
   "source": [
    "_______"
   ]
  },
  {
   "cell_type": "markdown",
   "metadata": {},
   "source": [
    "E, além do critério pro split, temos alguns outros hiperparâmetros muito importantes para a árvore de decisão, sobretudo no que diz respeito à sua **regularização**: `max_depth`, `min_samples_split`, `min_samples_leaf`, `max_leaf_nodes`, `min_impurity_decrease`"
   ]
  },
  {
   "cell_type": "markdown",
   "metadata": {},
   "source": [
    " - max_depth: Maxima profundidade;\n",
    " - min_samples_split: minimo de amostras para realizar um split;\n",
    " - min_samples_leaf: minimo de amostras necessarias para ter uma folha;\n",
    " - min_impurity_decrease: menor grau de impureza para realizar um split;"
   ]
  },
  {
   "cell_type": "markdown",
   "metadata": {},
   "source": [
    "Vamos então treinar um modelo melhor?\n",
    "\n",
    "Vamos usar o que aprendemos na aula passada e já usar o Grid Search!"
   ]
  },
  {
   "cell_type": "markdown",
   "metadata": {},
   "source": [
    "_________________"
   ]
  },
  {
   "cell_type": "code",
   "execution_count": 36,
   "metadata": {
    "ExecuteTime": {
     "end_time": "2022-02-16T19:08:06.177161Z",
     "start_time": "2022-02-16T19:08:06.083975Z"
    }
   },
   "outputs": [],
   "source": [
    "from sklearn.pipeline import Pipeline\n",
    "from sklearn.model_selection import GridSearchCV, StratifiedKFold"
   ]
  },
  {
   "cell_type": "code",
   "execution_count": 89,
   "metadata": {
    "ExecuteTime": {
     "end_time": "2022-02-16T19:08:07.835173Z",
     "start_time": "2022-02-16T19:08:06.180146Z"
    },
    "collapsed": true,
    "jupyter": {
     "outputs_hidden": true
    },
    "tags": []
   },
   "outputs": [
    {
     "name": "stdout",
     "output_type": "stream",
     "text": [
      "Fitting 5 folds for each of 36 candidates, totalling 180 fits\n",
      "[CV 1/5; 1/36] START dt__criterion=gini, dt__max_depth=2, dt__splitter=best.....\n",
      "[CV 1/5; 1/36] END dt__criterion=gini, dt__max_depth=2, dt__splitter=best;, score=0.902 total time=   0.0s\n",
      "[CV 2/5; 1/36] START dt__criterion=gini, dt__max_depth=2, dt__splitter=best.....\n",
      "[CV 2/5; 1/36] END dt__criterion=gini, dt__max_depth=2, dt__splitter=best;, score=0.934 total time=   0.0s\n",
      "[CV 3/5; 1/36] START dt__criterion=gini, dt__max_depth=2, dt__splitter=best.....\n",
      "[CV 3/5; 1/36] END dt__criterion=gini, dt__max_depth=2, dt__splitter=best;, score=0.913 total time=   0.0s\n",
      "[CV 4/5; 1/36] START dt__criterion=gini, dt__max_depth=2, dt__splitter=best.....\n",
      "[CV 4/5; 1/36] END dt__criterion=gini, dt__max_depth=2, dt__splitter=best;, score=0.923 total time=   0.0s\n",
      "[CV 5/5; 1/36] START dt__criterion=gini, dt__max_depth=2, dt__splitter=best.....\n",
      "[CV 5/5; 1/36] END dt__criterion=gini, dt__max_depth=2, dt__splitter=best;, score=0.934 total time=   0.0s\n",
      "[CV 1/5; 2/36] START dt__criterion=gini, dt__max_depth=2, dt__splitter=random...\n",
      "[CV 1/5; 2/36] END dt__criterion=gini, dt__max_depth=2, dt__splitter=random;, score=0.922 total time=   0.0s\n",
      "[CV 2/5; 2/36] START dt__criterion=gini, dt__max_depth=2, dt__splitter=random...\n",
      "[CV 2/5; 2/36] END dt__criterion=gini, dt__max_depth=2, dt__splitter=random;, score=0.935 total time=   0.0s\n",
      "[CV 3/5; 2/36] START dt__criterion=gini, dt__max_depth=2, dt__splitter=random...\n",
      "[CV 3/5; 2/36] END dt__criterion=gini, dt__max_depth=2, dt__splitter=random;, score=0.891 total time=   0.0s\n",
      "[CV 4/5; 2/36] START dt__criterion=gini, dt__max_depth=2, dt__splitter=random...\n",
      "[CV 4/5; 2/36] END dt__criterion=gini, dt__max_depth=2, dt__splitter=random;, score=0.922 total time=   0.0s\n",
      "[CV 5/5; 2/36] START dt__criterion=gini, dt__max_depth=2, dt__splitter=random...\n",
      "[CV 5/5; 2/36] END dt__criterion=gini, dt__max_depth=2, dt__splitter=random;, score=0.901 total time=   0.0s\n",
      "[CV 1/5; 3/36] START dt__criterion=gini, dt__max_depth=3, dt__splitter=best.....\n",
      "[CV 1/5; 3/36] END dt__criterion=gini, dt__max_depth=3, dt__splitter=best;, score=0.944 total time=   0.0s\n",
      "[CV 2/5; 3/36] START dt__criterion=gini, dt__max_depth=3, dt__splitter=best.....\n",
      "[CV 2/5; 3/36] END dt__criterion=gini, dt__max_depth=3, dt__splitter=best;, score=0.956 total time=   0.0s\n",
      "[CV 3/5; 3/36] START dt__criterion=gini, dt__max_depth=3, dt__splitter=best.....\n",
      "[CV 3/5; 3/36] END dt__criterion=gini, dt__max_depth=3, dt__splitter=best;, score=0.934 total time=   0.0s\n",
      "[CV 4/5; 3/36] START dt__criterion=gini, dt__max_depth=3, dt__splitter=best.....\n",
      "[CV 4/5; 3/36] END dt__criterion=gini, dt__max_depth=3, dt__splitter=best;, score=0.934 total time=   0.0s\n",
      "[CV 5/5; 3/36] START dt__criterion=gini, dt__max_depth=3, dt__splitter=best.....\n",
      "[CV 5/5; 3/36] END dt__criterion=gini, dt__max_depth=3, dt__splitter=best;, score=0.935 total time=   0.0s\n",
      "[CV 1/5; 4/36] START dt__criterion=gini, dt__max_depth=3, dt__splitter=random...\n",
      "[CV 1/5; 4/36] END dt__criterion=gini, dt__max_depth=3, dt__splitter=random;, score=0.902 total time=   0.0s\n",
      "[CV 2/5; 4/36] START dt__criterion=gini, dt__max_depth=3, dt__splitter=random...\n",
      "[CV 2/5; 4/36] END dt__criterion=gini, dt__max_depth=3, dt__splitter=random;, score=0.946 total time=   0.0s\n",
      "[CV 3/5; 4/36] START dt__criterion=gini, dt__max_depth=3, dt__splitter=random...\n",
      "[CV 3/5; 4/36] END dt__criterion=gini, dt__max_depth=3, dt__splitter=random;, score=0.902 total time=   0.0s\n",
      "[CV 4/5; 4/36] START dt__criterion=gini, dt__max_depth=3, dt__splitter=random...\n",
      "[CV 4/5; 4/36] END dt__criterion=gini, dt__max_depth=3, dt__splitter=random;, score=0.911 total time=   0.0s\n",
      "[CV 5/5; 4/36] START dt__criterion=gini, dt__max_depth=3, dt__splitter=random...\n",
      "[CV 5/5; 4/36] END dt__criterion=gini, dt__max_depth=3, dt__splitter=random;, score=0.912 total time=   0.0s\n",
      "[CV 1/5; 5/36] START dt__criterion=gini, dt__max_depth=4, dt__splitter=best.....\n",
      "[CV 1/5; 5/36] END dt__criterion=gini, dt__max_depth=4, dt__splitter=best;, score=0.944 total time=   0.0s\n",
      "[CV 2/5; 5/36] START dt__criterion=gini, dt__max_depth=4, dt__splitter=best.....\n",
      "[CV 2/5; 5/36] END dt__criterion=gini, dt__max_depth=4, dt__splitter=best;, score=0.945 total time=   0.0s\n",
      "[CV 3/5; 5/36] START dt__criterion=gini, dt__max_depth=4, dt__splitter=best.....\n",
      "[CV 3/5; 5/36] END dt__criterion=gini, dt__max_depth=4, dt__splitter=best;, score=0.924 total time=   0.0s\n",
      "[CV 4/5; 5/36] START dt__criterion=gini, dt__max_depth=4, dt__splitter=best.....\n",
      "[CV 4/5; 5/36] END dt__criterion=gini, dt__max_depth=4, dt__splitter=best;, score=0.956 total time=   0.0s\n",
      "[CV 5/5; 5/36] START dt__criterion=gini, dt__max_depth=4, dt__splitter=best.....\n",
      "[CV 5/5; 5/36] END dt__criterion=gini, dt__max_depth=4, dt__splitter=best;, score=0.934 total time=   0.0s\n",
      "[CV 1/5; 6/36] START dt__criterion=gini, dt__max_depth=4, dt__splitter=random...\n",
      "[CV 1/5; 6/36] END dt__criterion=gini, dt__max_depth=4, dt__splitter=random;, score=0.911 total time=   0.0s\n",
      "[CV 2/5; 6/36] START dt__criterion=gini, dt__max_depth=4, dt__splitter=random...\n",
      "[CV 2/5; 6/36] END dt__criterion=gini, dt__max_depth=4, dt__splitter=random;, score=0.924 total time=   0.0s\n",
      "[CV 3/5; 6/36] START dt__criterion=gini, dt__max_depth=4, dt__splitter=random...\n",
      "[CV 3/5; 6/36] END dt__criterion=gini, dt__max_depth=4, dt__splitter=random;, score=0.946 total time=   0.0s\n",
      "[CV 4/5; 6/36] START dt__criterion=gini, dt__max_depth=4, dt__splitter=random...\n",
      "[CV 4/5; 6/36] END dt__criterion=gini, dt__max_depth=4, dt__splitter=random;, score=0.922 total time=   0.0s\n",
      "[CV 5/5; 6/36] START dt__criterion=gini, dt__max_depth=4, dt__splitter=random...\n",
      "[CV 5/5; 6/36] END dt__criterion=gini, dt__max_depth=4, dt__splitter=random;, score=0.923 total time=   0.0s\n",
      "[CV 1/5; 7/36] START dt__criterion=gini, dt__max_depth=5, dt__splitter=best.....\n",
      "[CV 1/5; 7/36] END dt__criterion=gini, dt__max_depth=5, dt__splitter=best;, score=0.944 total time=   0.0s\n",
      "[CV 2/5; 7/36] START dt__criterion=gini, dt__max_depth=5, dt__splitter=best.....\n",
      "[CV 2/5; 7/36] END dt__criterion=gini, dt__max_depth=5, dt__splitter=best;, score=0.945 total time=   0.0s\n",
      "[CV 3/5; 7/36] START dt__criterion=gini, dt__max_depth=5, dt__splitter=best.....\n",
      "[CV 3/5; 7/36] END dt__criterion=gini, dt__max_depth=5, dt__splitter=best;, score=0.945 total time=   0.0s\n",
      "[CV 4/5; 7/36] START dt__criterion=gini, dt__max_depth=5, dt__splitter=best.....\n",
      "[CV 4/5; 7/36] END dt__criterion=gini, dt__max_depth=5, dt__splitter=best;, score=0.956 total time=   0.0s\n",
      "[CV 5/5; 7/36] START dt__criterion=gini, dt__max_depth=5, dt__splitter=best.....\n",
      "[CV 5/5; 7/36] END dt__criterion=gini, dt__max_depth=5, dt__splitter=best;, score=0.945 total time=   0.0s\n",
      "[CV 1/5; 8/36] START dt__criterion=gini, dt__max_depth=5, dt__splitter=random...\n",
      "[CV 1/5; 8/36] END dt__criterion=gini, dt__max_depth=5, dt__splitter=random;, score=0.889 total time=   0.0s\n",
      "[CV 2/5; 8/36] START dt__criterion=gini, dt__max_depth=5, dt__splitter=random...\n",
      "[CV 2/5; 8/36] END dt__criterion=gini, dt__max_depth=5, dt__splitter=random;, score=0.923 total time=   0.0s\n",
      "[CV 3/5; 8/36] START dt__criterion=gini, dt__max_depth=5, dt__splitter=random...\n",
      "[CV 3/5; 8/36] END dt__criterion=gini, dt__max_depth=5, dt__splitter=random;, score=0.945 total time=   0.0s\n",
      "[CV 4/5; 8/36] START dt__criterion=gini, dt__max_depth=5, dt__splitter=random...\n",
      "[CV 4/5; 8/36] END dt__criterion=gini, dt__max_depth=5, dt__splitter=random;, score=0.898 total time=   0.0s\n",
      "[CV 5/5; 8/36] START dt__criterion=gini, dt__max_depth=5, dt__splitter=random...\n",
      "[CV 5/5; 8/36] END dt__criterion=gini, dt__max_depth=5, dt__splitter=random;, score=0.913 total time=   0.0s\n",
      "[CV 1/5; 9/36] START dt__criterion=gini, dt__max_depth=6, dt__splitter=best.....\n",
      "[CV 1/5; 9/36] END dt__criterion=gini, dt__max_depth=6, dt__splitter=best;, score=0.956 total time=   0.0s\n",
      "[CV 2/5; 9/36] START dt__criterion=gini, dt__max_depth=6, dt__splitter=best.....\n",
      "[CV 2/5; 9/36] END dt__criterion=gini, dt__max_depth=6, dt__splitter=best;, score=0.945 total time=   0.0s\n",
      "[CV 3/5; 9/36] START dt__criterion=gini, dt__max_depth=6, dt__splitter=best.....\n",
      "[CV 3/5; 9/36] END dt__criterion=gini, dt__max_depth=6, dt__splitter=best;, score=0.935 total time=   0.0s\n",
      "[CV 4/5; 9/36] START dt__criterion=gini, dt__max_depth=6, dt__splitter=best.....\n",
      "[CV 4/5; 9/36] END dt__criterion=gini, dt__max_depth=6, dt__splitter=best;, score=0.956 total time=   0.0s\n",
      "[CV 5/5; 9/36] START dt__criterion=gini, dt__max_depth=6, dt__splitter=best.....\n",
      "[CV 5/5; 9/36] END dt__criterion=gini, dt__max_depth=6, dt__splitter=best;, score=0.945 total time=   0.0s\n",
      "[CV 1/5; 10/36] START dt__criterion=gini, dt__max_depth=6, dt__splitter=random..\n",
      "[CV 1/5; 10/36] END dt__criterion=gini, dt__max_depth=6, dt__splitter=random;, score=0.923 total time=   0.0s\n",
      "[CV 2/5; 10/36] START dt__criterion=gini, dt__max_depth=6, dt__splitter=random..\n",
      "[CV 2/5; 10/36] END dt__criterion=gini, dt__max_depth=6, dt__splitter=random;, score=0.923 total time=   0.0s\n",
      "[CV 3/5; 10/36] START dt__criterion=gini, dt__max_depth=6, dt__splitter=random..\n",
      "[CV 3/5; 10/36] END dt__criterion=gini, dt__max_depth=6, dt__splitter=random;, score=0.924 total time=   0.0s\n",
      "[CV 4/5; 10/36] START dt__criterion=gini, dt__max_depth=6, dt__splitter=random..\n",
      "[CV 4/5; 10/36] END dt__criterion=gini, dt__max_depth=6, dt__splitter=random;, score=0.922 total time=   0.0s\n",
      "[CV 5/5; 10/36] START dt__criterion=gini, dt__max_depth=6, dt__splitter=random..\n",
      "[CV 5/5; 10/36] END dt__criterion=gini, dt__max_depth=6, dt__splitter=random;, score=0.923 total time=   0.0s\n",
      "[CV 1/5; 11/36] START dt__criterion=gini, dt__max_depth=7, dt__splitter=best....\n",
      "[CV 1/5; 11/36] END dt__criterion=gini, dt__max_depth=7, dt__splitter=best;, score=0.956 total time=   0.0s\n",
      "[CV 2/5; 11/36] START dt__criterion=gini, dt__max_depth=7, dt__splitter=best....\n",
      "[CV 2/5; 11/36] END dt__criterion=gini, dt__max_depth=7, dt__splitter=best;, score=0.924 total time=   0.0s\n",
      "[CV 3/5; 11/36] START dt__criterion=gini, dt__max_depth=7, dt__splitter=best....\n",
      "[CV 3/5; 11/36] END dt__criterion=gini, dt__max_depth=7, dt__splitter=best;, score=0.924 total time=   0.0s\n",
      "[CV 4/5; 11/36] START dt__criterion=gini, dt__max_depth=7, dt__splitter=best....\n",
      "[CV 4/5; 11/36] END dt__criterion=gini, dt__max_depth=7, dt__splitter=best;, score=0.956 total time=   0.0s\n",
      "[CV 5/5; 11/36] START dt__criterion=gini, dt__max_depth=7, dt__splitter=best....\n",
      "[CV 5/5; 11/36] END dt__criterion=gini, dt__max_depth=7, dt__splitter=best;, score=0.945 total time=   0.0s\n",
      "[CV 1/5; 12/36] START dt__criterion=gini, dt__max_depth=7, dt__splitter=random..\n",
      "[CV 1/5; 12/36] END dt__criterion=gini, dt__max_depth=7, dt__splitter=random;, score=0.878 total time=   0.0s\n",
      "[CV 2/5; 12/36] START dt__criterion=gini, dt__max_depth=7, dt__splitter=random..\n",
      "[CV 2/5; 12/36] END dt__criterion=gini, dt__max_depth=7, dt__splitter=random;, score=0.923 total time=   0.0s\n",
      "[CV 3/5; 12/36] START dt__criterion=gini, dt__max_depth=7, dt__splitter=random..\n",
      "[CV 3/5; 12/36] END dt__criterion=gini, dt__max_depth=7, dt__splitter=random;, score=0.902 total time=   0.0s\n",
      "[CV 4/5; 12/36] START dt__criterion=gini, dt__max_depth=7, dt__splitter=random..\n",
      "[CV 4/5; 12/36] END dt__criterion=gini, dt__max_depth=7, dt__splitter=random;, score=0.944 total time=   0.0s\n",
      "[CV 5/5; 12/36] START dt__criterion=gini, dt__max_depth=7, dt__splitter=random..\n",
      "[CV 5/5; 12/36] END dt__criterion=gini, dt__max_depth=7, dt__splitter=random;, score=0.934 total time=   0.0s\n",
      "[CV 1/5; 13/36] START dt__criterion=gini, dt__max_depth=8, dt__splitter=best....\n",
      "[CV 1/5; 13/36] END dt__criterion=gini, dt__max_depth=8, dt__splitter=best;, score=0.956 total time=   0.0s\n",
      "[CV 2/5; 13/36] START dt__criterion=gini, dt__max_depth=8, dt__splitter=best....\n",
      "[CV 2/5; 13/36] END dt__criterion=gini, dt__max_depth=8, dt__splitter=best;, score=0.924 total time=   0.0s\n",
      "[CV 3/5; 13/36] START dt__criterion=gini, dt__max_depth=8, dt__splitter=best....\n",
      "[CV 3/5; 13/36] END dt__criterion=gini, dt__max_depth=8, dt__splitter=best;, score=0.924 total time=   0.0s\n",
      "[CV 4/5; 13/36] START dt__criterion=gini, dt__max_depth=8, dt__splitter=best....\n",
      "[CV 4/5; 13/36] END dt__criterion=gini, dt__max_depth=8, dt__splitter=best;, score=0.956 total time=   0.0s\n",
      "[CV 5/5; 13/36] START dt__criterion=gini, dt__max_depth=8, dt__splitter=best....\n",
      "[CV 5/5; 13/36] END dt__criterion=gini, dt__max_depth=8, dt__splitter=best;, score=0.945 total time=   0.0s\n",
      "[CV 1/5; 14/36] START dt__criterion=gini, dt__max_depth=8, dt__splitter=random..\n",
      "[CV 1/5; 14/36] END dt__criterion=gini, dt__max_depth=8, dt__splitter=random;, score=0.889 total time=   0.0s\n",
      "[CV 2/5; 14/36] START dt__criterion=gini, dt__max_depth=8, dt__splitter=random..\n",
      "[CV 2/5; 14/36] END dt__criterion=gini, dt__max_depth=8, dt__splitter=random;, score=0.934 total time=   0.0s\n",
      "[CV 3/5; 14/36] START dt__criterion=gini, dt__max_depth=8, dt__splitter=random..\n",
      "[CV 3/5; 14/36] END dt__criterion=gini, dt__max_depth=8, dt__splitter=random;, score=0.902 total time=   0.0s\n",
      "[CV 4/5; 14/36] START dt__criterion=gini, dt__max_depth=8, dt__splitter=random..\n",
      "[CV 4/5; 14/36] END dt__criterion=gini, dt__max_depth=8, dt__splitter=random;, score=0.922 total time=   0.0s\n",
      "[CV 5/5; 14/36] START dt__criterion=gini, dt__max_depth=8, dt__splitter=random..\n",
      "[CV 5/5; 14/36] END dt__criterion=gini, dt__max_depth=8, dt__splitter=random;, score=0.934 total time=   0.0s\n",
      "[CV 1/5; 15/36] START dt__criterion=gini, dt__max_depth=9, dt__splitter=best....\n",
      "[CV 1/5; 15/36] END dt__criterion=gini, dt__max_depth=9, dt__splitter=best;, score=0.956 total time=   0.0s\n",
      "[CV 2/5; 15/36] START dt__criterion=gini, dt__max_depth=9, dt__splitter=best....\n",
      "[CV 2/5; 15/36] END dt__criterion=gini, dt__max_depth=9, dt__splitter=best;, score=0.924 total time=   0.0s\n",
      "[CV 3/5; 15/36] START dt__criterion=gini, dt__max_depth=9, dt__splitter=best....\n",
      "[CV 3/5; 15/36] END dt__criterion=gini, dt__max_depth=9, dt__splitter=best;, score=0.924 total time=   0.0s\n",
      "[CV 4/5; 15/36] START dt__criterion=gini, dt__max_depth=9, dt__splitter=best....\n",
      "[CV 4/5; 15/36] END dt__criterion=gini, dt__max_depth=9, dt__splitter=best;, score=0.956 total time=   0.0s\n",
      "[CV 5/5; 15/36] START dt__criterion=gini, dt__max_depth=9, dt__splitter=best....\n",
      "[CV 5/5; 15/36] END dt__criterion=gini, dt__max_depth=9, dt__splitter=best;, score=0.945 total time=   0.0s\n",
      "[CV 1/5; 16/36] START dt__criterion=gini, dt__max_depth=9, dt__splitter=random..\n",
      "[CV 1/5; 16/36] END dt__criterion=gini, dt__max_depth=9, dt__splitter=random;, score=0.889 total time=   0.0s\n",
      "[CV 2/5; 16/36] START dt__criterion=gini, dt__max_depth=9, dt__splitter=random..\n",
      "[CV 2/5; 16/36] END dt__criterion=gini, dt__max_depth=9, dt__splitter=random;, score=0.945 total time=   0.0s\n",
      "[CV 3/5; 16/36] START dt__criterion=gini, dt__max_depth=9, dt__splitter=random..\n",
      "[CV 3/5; 16/36] END dt__criterion=gini, dt__max_depth=9, dt__splitter=random;, score=0.902 total time=   0.0s\n",
      "[CV 4/5; 16/36] START dt__criterion=gini, dt__max_depth=9, dt__splitter=random..\n",
      "[CV 4/5; 16/36] END dt__criterion=gini, dt__max_depth=9, dt__splitter=random;, score=0.922 total time=   0.0s\n",
      "[CV 5/5; 16/36] START dt__criterion=gini, dt__max_depth=9, dt__splitter=random..\n",
      "[CV 5/5; 16/36] END dt__criterion=gini, dt__max_depth=9, dt__splitter=random;, score=0.945 total time=   0.0s\n",
      "[CV 1/5; 17/36] START dt__criterion=gini, dt__max_depth=10, dt__splitter=best...\n",
      "[CV 1/5; 17/36] END dt__criterion=gini, dt__max_depth=10, dt__splitter=best;, score=0.956 total time=   0.0s\n",
      "[CV 2/5; 17/36] START dt__criterion=gini, dt__max_depth=10, dt__splitter=best...\n",
      "[CV 2/5; 17/36] END dt__criterion=gini, dt__max_depth=10, dt__splitter=best;, score=0.924 total time=   0.0s\n",
      "[CV 3/5; 17/36] START dt__criterion=gini, dt__max_depth=10, dt__splitter=best...\n",
      "[CV 3/5; 17/36] END dt__criterion=gini, dt__max_depth=10, dt__splitter=best;, score=0.924 total time=   0.0s\n",
      "[CV 4/5; 17/36] START dt__criterion=gini, dt__max_depth=10, dt__splitter=best...\n",
      "[CV 4/5; 17/36] END dt__criterion=gini, dt__max_depth=10, dt__splitter=best;, score=0.956 total time=   0.0s\n",
      "[CV 5/5; 17/36] START dt__criterion=gini, dt__max_depth=10, dt__splitter=best...\n",
      "[CV 5/5; 17/36] END dt__criterion=gini, dt__max_depth=10, dt__splitter=best;, score=0.945 total time=   0.0s\n",
      "[CV 1/5; 18/36] START dt__criterion=gini, dt__max_depth=10, dt__splitter=random.\n",
      "[CV 1/5; 18/36] END dt__criterion=gini, dt__max_depth=10, dt__splitter=random;, score=0.889 total time=   0.0s\n",
      "[CV 2/5; 18/36] START dt__criterion=gini, dt__max_depth=10, dt__splitter=random.\n",
      "[CV 2/5; 18/36] END dt__criterion=gini, dt__max_depth=10, dt__splitter=random;, score=0.913 total time=   0.0s\n",
      "[CV 3/5; 18/36] START dt__criterion=gini, dt__max_depth=10, dt__splitter=random.\n",
      "[CV 3/5; 18/36] END dt__criterion=gini, dt__max_depth=10, dt__splitter=random;, score=0.902 total time=   0.0s\n",
      "[CV 4/5; 18/36] START dt__criterion=gini, dt__max_depth=10, dt__splitter=random.\n",
      "[CV 4/5; 18/36] END dt__criterion=gini, dt__max_depth=10, dt__splitter=random;, score=0.933 total time=   0.0s\n",
      "[CV 5/5; 18/36] START dt__criterion=gini, dt__max_depth=10, dt__splitter=random.\n",
      "[CV 5/5; 18/36] END dt__criterion=gini, dt__max_depth=10, dt__splitter=random;, score=0.934 total time=   0.0s\n",
      "[CV 1/5; 19/36] START dt__criterion=entropy, dt__max_depth=2, dt__splitter=best.\n",
      "[CV 1/5; 19/36] END dt__criterion=entropy, dt__max_depth=2, dt__splitter=best;, score=0.902 total time=   0.0s\n",
      "[CV 2/5; 19/36] START dt__criterion=entropy, dt__max_depth=2, dt__splitter=best.\n",
      "[CV 2/5; 19/36] END dt__criterion=entropy, dt__max_depth=2, dt__splitter=best;, score=0.956 total time=   0.0s\n",
      "[CV 3/5; 19/36] START dt__criterion=entropy, dt__max_depth=2, dt__splitter=best.\n",
      "[CV 3/5; 19/36] END dt__criterion=entropy, dt__max_depth=2, dt__splitter=best;, score=0.913 total time=   0.0s\n",
      "[CV 4/5; 19/36] START dt__criterion=entropy, dt__max_depth=2, dt__splitter=best.\n",
      "[CV 4/5; 19/36] END dt__criterion=entropy, dt__max_depth=2, dt__splitter=best;, score=0.913 total time=   0.0s\n",
      "[CV 5/5; 19/36] START dt__criterion=entropy, dt__max_depth=2, dt__splitter=best.\n",
      "[CV 5/5; 19/36] END dt__criterion=entropy, dt__max_depth=2, dt__splitter=best;, score=0.924 total time=   0.0s\n",
      "[CV 1/5; 20/36] START dt__criterion=entropy, dt__max_depth=2, dt__splitter=random\n",
      "[CV 1/5; 20/36] END dt__criterion=entropy, dt__max_depth=2, dt__splitter=random;, score=0.912 total time=   0.0s\n",
      "[CV 2/5; 20/36] START dt__criterion=entropy, dt__max_depth=2, dt__splitter=random\n",
      "[CV 2/5; 20/36] END dt__criterion=entropy, dt__max_depth=2, dt__splitter=random;, score=0.935 total time=   0.0s\n",
      "[CV 3/5; 20/36] START dt__criterion=entropy, dt__max_depth=2, dt__splitter=random\n",
      "[CV 3/5; 20/36] END dt__criterion=entropy, dt__max_depth=2, dt__splitter=random;, score=0.891 total time=   0.0s\n",
      "[CV 4/5; 20/36] START dt__criterion=entropy, dt__max_depth=2, dt__splitter=random\n",
      "[CV 4/5; 20/36] END dt__criterion=entropy, dt__max_depth=2, dt__splitter=random;, score=0.876 total time=   0.0s\n",
      "[CV 5/5; 20/36] START dt__criterion=entropy, dt__max_depth=2, dt__splitter=random\n",
      "[CV 5/5; 20/36] END dt__criterion=entropy, dt__max_depth=2, dt__splitter=random;, score=0.901 total time=   0.0s\n",
      "[CV 1/5; 21/36] START dt__criterion=entropy, dt__max_depth=3, dt__splitter=best.\n",
      "[CV 1/5; 21/36] END dt__criterion=entropy, dt__max_depth=3, dt__splitter=best;, score=0.944 total time=   0.0s\n",
      "[CV 2/5; 21/36] START dt__criterion=entropy, dt__max_depth=3, dt__splitter=best.\n",
      "[CV 2/5; 21/36] END dt__criterion=entropy, dt__max_depth=3, dt__splitter=best;, score=0.945 total time=   0.0s\n",
      "[CV 3/5; 21/36] START dt__criterion=entropy, dt__max_depth=3, dt__splitter=best.\n",
      "[CV 3/5; 21/36] END dt__criterion=entropy, dt__max_depth=3, dt__splitter=best;, score=0.924 total time=   0.0s\n",
      "[CV 4/5; 21/36] START dt__criterion=entropy, dt__max_depth=3, dt__splitter=best.\n",
      "[CV 4/5; 21/36] END dt__criterion=entropy, dt__max_depth=3, dt__splitter=best;, score=0.923 total time=   0.0s\n",
      "[CV 5/5; 21/36] START dt__criterion=entropy, dt__max_depth=3, dt__splitter=best.\n",
      "[CV 5/5; 21/36] END dt__criterion=entropy, dt__max_depth=3, dt__splitter=best;, score=0.935 total time=   0.0s\n",
      "[CV 1/5; 22/36] START dt__criterion=entropy, dt__max_depth=3, dt__splitter=random\n",
      "[CV 1/5; 22/36] END dt__criterion=entropy, dt__max_depth=3, dt__splitter=random;, score=0.902 total time=   0.0s\n",
      "[CV 2/5; 22/36] START dt__criterion=entropy, dt__max_depth=3, dt__splitter=random\n",
      "[CV 2/5; 22/36] END dt__criterion=entropy, dt__max_depth=3, dt__splitter=random;, score=0.935 total time=   0.0s\n",
      "[CV 3/5; 22/36] START dt__criterion=entropy, dt__max_depth=3, dt__splitter=random\n",
      "[CV 3/5; 22/36] END dt__criterion=entropy, dt__max_depth=3, dt__splitter=random;, score=0.902 total time=   0.0s\n",
      "[CV 4/5; 22/36] START dt__criterion=entropy, dt__max_depth=3, dt__splitter=random\n",
      "[CV 4/5; 22/36] END dt__criterion=entropy, dt__max_depth=3, dt__splitter=random;, score=0.934 total time=   0.0s\n",
      "[CV 5/5; 22/36] START dt__criterion=entropy, dt__max_depth=3, dt__splitter=random\n",
      "[CV 5/5; 22/36] END dt__criterion=entropy, dt__max_depth=3, dt__splitter=random;, score=0.913 total time=   0.0s\n",
      "[CV 1/5; 23/36] START dt__criterion=entropy, dt__max_depth=4, dt__splitter=best.\n",
      "[CV 1/5; 23/36] END dt__criterion=entropy, dt__max_depth=4, dt__splitter=best;, score=0.944 total time=   0.0s\n",
      "[CV 2/5; 23/36] START dt__criterion=entropy, dt__max_depth=4, dt__splitter=best.\n",
      "[CV 2/5; 23/36] END dt__criterion=entropy, dt__max_depth=4, dt__splitter=best;, score=0.934 total time=   0.0s\n",
      "[CV 3/5; 23/36] START dt__criterion=entropy, dt__max_depth=4, dt__splitter=best.\n",
      "[CV 3/5; 23/36] END dt__criterion=entropy, dt__max_depth=4, dt__splitter=best;, score=0.956 total time=   0.0s\n",
      "[CV 4/5; 23/36] START dt__criterion=entropy, dt__max_depth=4, dt__splitter=best.\n",
      "[CV 4/5; 23/36] END dt__criterion=entropy, dt__max_depth=4, dt__splitter=best;, score=0.956 total time=   0.0s\n",
      "[CV 5/5; 23/36] START dt__criterion=entropy, dt__max_depth=4, dt__splitter=best.\n",
      "[CV 5/5; 23/36] END dt__criterion=entropy, dt__max_depth=4, dt__splitter=best;, score=0.944 total time=   0.0s\n",
      "[CV 1/5; 24/36] START dt__criterion=entropy, dt__max_depth=4, dt__splitter=random\n",
      "[CV 1/5; 24/36] END dt__criterion=entropy, dt__max_depth=4, dt__splitter=random;, score=0.911 total time=   0.0s\n",
      "[CV 2/5; 24/36] START dt__criterion=entropy, dt__max_depth=4, dt__splitter=random\n",
      "[CV 2/5; 24/36] END dt__criterion=entropy, dt__max_depth=4, dt__splitter=random;, score=0.924 total time=   0.0s\n",
      "[CV 3/5; 24/36] START dt__criterion=entropy, dt__max_depth=4, dt__splitter=random\n",
      "[CV 3/5; 24/36] END dt__criterion=entropy, dt__max_depth=4, dt__splitter=random;, score=0.945 total time=   0.0s\n",
      "[CV 4/5; 24/36] START dt__criterion=entropy, dt__max_depth=4, dt__splitter=random\n",
      "[CV 4/5; 24/36] END dt__criterion=entropy, dt__max_depth=4, dt__splitter=random;, score=0.922 total time=   0.0s\n",
      "[CV 5/5; 24/36] START dt__criterion=entropy, dt__max_depth=4, dt__splitter=random\n",
      "[CV 5/5; 24/36] END dt__criterion=entropy, dt__max_depth=4, dt__splitter=random;, score=0.901 total time=   0.0s\n",
      "[CV 1/5; 25/36] START dt__criterion=entropy, dt__max_depth=5, dt__splitter=best.\n",
      "[CV 1/5; 25/36] END dt__criterion=entropy, dt__max_depth=5, dt__splitter=best;, score=0.944 total time=   0.0s\n",
      "[CV 2/5; 25/36] START dt__criterion=entropy, dt__max_depth=5, dt__splitter=best.\n",
      "[CV 2/5; 25/36] END dt__criterion=entropy, dt__max_depth=5, dt__splitter=best;, score=0.945 total time=   0.0s\n",
      "[CV 3/5; 25/36] START dt__criterion=entropy, dt__max_depth=5, dt__splitter=best.\n",
      "[CV 3/5; 25/36] END dt__criterion=entropy, dt__max_depth=5, dt__splitter=best;, score=0.967 total time=   0.0s\n",
      "[CV 4/5; 25/36] START dt__criterion=entropy, dt__max_depth=5, dt__splitter=best.\n",
      "[CV 4/5; 25/36] END dt__criterion=entropy, dt__max_depth=5, dt__splitter=best;, score=0.934 total time=   0.0s\n",
      "[CV 5/5; 25/36] START dt__criterion=entropy, dt__max_depth=5, dt__splitter=best.\n",
      "[CV 5/5; 25/36] END dt__criterion=entropy, dt__max_depth=5, dt__splitter=best;, score=0.923 total time=   0.0s\n",
      "[CV 1/5; 26/36] START dt__criterion=entropy, dt__max_depth=5, dt__splitter=random\n",
      "[CV 1/5; 26/36] END dt__criterion=entropy, dt__max_depth=5, dt__splitter=random;, score=0.911 total time=   0.0s\n",
      "[CV 2/5; 26/36] START dt__criterion=entropy, dt__max_depth=5, dt__splitter=random\n",
      "[CV 2/5; 26/36] END dt__criterion=entropy, dt__max_depth=5, dt__splitter=random;, score=0.956 total time=   0.0s\n",
      "[CV 3/5; 26/36] START dt__criterion=entropy, dt__max_depth=5, dt__splitter=random\n",
      "[CV 3/5; 26/36] END dt__criterion=entropy, dt__max_depth=5, dt__splitter=random;, score=0.935 total time=   0.0s\n",
      "[CV 4/5; 26/36] START dt__criterion=entropy, dt__max_depth=5, dt__splitter=random\n",
      "[CV 4/5; 26/36] END dt__criterion=entropy, dt__max_depth=5, dt__splitter=random;, score=0.910 total time=   0.0s\n",
      "[CV 5/5; 26/36] START dt__criterion=entropy, dt__max_depth=5, dt__splitter=random\n",
      "[CV 5/5; 26/36] END dt__criterion=entropy, dt__max_depth=5, dt__splitter=random;, score=0.934 total time=   0.0s\n",
      "[CV 1/5; 27/36] START dt__criterion=entropy, dt__max_depth=6, dt__splitter=best.\n",
      "[CV 1/5; 27/36] END dt__criterion=entropy, dt__max_depth=6, dt__splitter=best;, score=0.967 total time=   0.0s\n",
      "[CV 2/5; 27/36] START dt__criterion=entropy, dt__max_depth=6, dt__splitter=best.\n",
      "[CV 2/5; 27/36] END dt__criterion=entropy, dt__max_depth=6, dt__splitter=best;, score=0.934 total time=   0.0s\n",
      "[CV 3/5; 27/36] START dt__criterion=entropy, dt__max_depth=6, dt__splitter=best.\n",
      "[CV 3/5; 27/36] END dt__criterion=entropy, dt__max_depth=6, dt__splitter=best;, score=0.924 total time=   0.0s\n",
      "[CV 4/5; 27/36] START dt__criterion=entropy, dt__max_depth=6, dt__splitter=best.\n",
      "[CV 4/5; 27/36] END dt__criterion=entropy, dt__max_depth=6, dt__splitter=best;, score=0.934 total time=   0.0s\n",
      "[CV 5/5; 27/36] START dt__criterion=entropy, dt__max_depth=6, dt__splitter=best.\n",
      "[CV 5/5; 27/36] END dt__criterion=entropy, dt__max_depth=6, dt__splitter=best;, score=0.945 total time=   0.0s\n",
      "[CV 1/5; 28/36] START dt__criterion=entropy, dt__max_depth=6, dt__splitter=random\n",
      "[CV 1/5; 28/36] END dt__criterion=entropy, dt__max_depth=6, dt__splitter=random;, score=0.934 total time=   0.0s\n",
      "[CV 2/5; 28/36] START dt__criterion=entropy, dt__max_depth=6, dt__splitter=random\n",
      "[CV 2/5; 28/36] END dt__criterion=entropy, dt__max_depth=6, dt__splitter=random;, score=0.924 total time=   0.0s\n",
      "[CV 3/5; 28/36] START dt__criterion=entropy, dt__max_depth=6, dt__splitter=random\n",
      "[CV 3/5; 28/36] END dt__criterion=entropy, dt__max_depth=6, dt__splitter=random;, score=0.924 total time=   0.0s\n",
      "[CV 4/5; 28/36] START dt__criterion=entropy, dt__max_depth=6, dt__splitter=random\n",
      "[CV 4/5; 28/36] END dt__criterion=entropy, dt__max_depth=6, dt__splitter=random;, score=0.922 total time=   0.0s\n",
      "[CV 5/5; 28/36] START dt__criterion=entropy, dt__max_depth=6, dt__splitter=random\n",
      "[CV 5/5; 28/36] END dt__criterion=entropy, dt__max_depth=6, dt__splitter=random;, score=0.891 total time=   0.0s\n",
      "[CV 1/5; 29/36] START dt__criterion=entropy, dt__max_depth=7, dt__splitter=best.\n",
      "[CV 1/5; 29/36] END dt__criterion=entropy, dt__max_depth=7, dt__splitter=best;, score=0.967 total time=   0.0s\n",
      "[CV 2/5; 29/36] START dt__criterion=entropy, dt__max_depth=7, dt__splitter=best.\n",
      "[CV 2/5; 29/36] END dt__criterion=entropy, dt__max_depth=7, dt__splitter=best;, score=0.934 total time=   0.0s\n",
      "[CV 3/5; 29/36] START dt__criterion=entropy, dt__max_depth=7, dt__splitter=best.\n",
      "[CV 3/5; 29/36] END dt__criterion=entropy, dt__max_depth=7, dt__splitter=best;, score=0.924 total time=   0.0s\n",
      "[CV 4/5; 29/36] START dt__criterion=entropy, dt__max_depth=7, dt__splitter=best.\n",
      "[CV 4/5; 29/36] END dt__criterion=entropy, dt__max_depth=7, dt__splitter=best;, score=0.934 total time=   0.0s\n",
      "[CV 5/5; 29/36] START dt__criterion=entropy, dt__max_depth=7, dt__splitter=best.\n",
      "[CV 5/5; 29/36] END dt__criterion=entropy, dt__max_depth=7, dt__splitter=best;, score=0.945 total time=   0.0s\n",
      "[CV 1/5; 30/36] START dt__criterion=entropy, dt__max_depth=7, dt__splitter=random\n",
      "[CV 1/5; 30/36] END dt__criterion=entropy, dt__max_depth=7, dt__splitter=random;, score=0.911 total time=   0.0s\n",
      "[CV 2/5; 30/36] START dt__criterion=entropy, dt__max_depth=7, dt__splitter=random\n",
      "[CV 2/5; 30/36] END dt__criterion=entropy, dt__max_depth=7, dt__splitter=random;, score=0.933 total time=   0.0s\n",
      "[CV 3/5; 30/36] START dt__criterion=entropy, dt__max_depth=7, dt__splitter=random\n",
      "[CV 3/5; 30/36] END dt__criterion=entropy, dt__max_depth=7, dt__splitter=random;, score=0.902 total time=   0.0s\n",
      "[CV 4/5; 30/36] START dt__criterion=entropy, dt__max_depth=7, dt__splitter=random\n",
      "[CV 4/5; 30/36] END dt__criterion=entropy, dt__max_depth=7, dt__splitter=random;, score=0.878 total time=   0.0s\n",
      "[CV 5/5; 30/36] START dt__criterion=entropy, dt__max_depth=7, dt__splitter=random\n",
      "[CV 5/5; 30/36] END dt__criterion=entropy, dt__max_depth=7, dt__splitter=random;, score=0.900 total time=   0.0s\n",
      "[CV 1/5; 31/36] START dt__criterion=entropy, dt__max_depth=8, dt__splitter=best.\n",
      "[CV 1/5; 31/36] END dt__criterion=entropy, dt__max_depth=8, dt__splitter=best;, score=0.967 total time=   0.0s\n",
      "[CV 2/5; 31/36] START dt__criterion=entropy, dt__max_depth=8, dt__splitter=best.\n",
      "[CV 2/5; 31/36] END dt__criterion=entropy, dt__max_depth=8, dt__splitter=best;, score=0.934 total time=   0.0s\n",
      "[CV 3/5; 31/36] START dt__criterion=entropy, dt__max_depth=8, dt__splitter=best.\n",
      "[CV 3/5; 31/36] END dt__criterion=entropy, dt__max_depth=8, dt__splitter=best;, score=0.924 total time=   0.0s\n",
      "[CV 4/5; 31/36] START dt__criterion=entropy, dt__max_depth=8, dt__splitter=best.\n",
      "[CV 4/5; 31/36] END dt__criterion=entropy, dt__max_depth=8, dt__splitter=best;, score=0.934 total time=   0.0s\n",
      "[CV 5/5; 31/36] START dt__criterion=entropy, dt__max_depth=8, dt__splitter=best.\n",
      "[CV 5/5; 31/36] END dt__criterion=entropy, dt__max_depth=8, dt__splitter=best;, score=0.945 total time=   0.0s\n",
      "[CV 1/5; 32/36] START dt__criterion=entropy, dt__max_depth=8, dt__splitter=random\n",
      "[CV 1/5; 32/36] END dt__criterion=entropy, dt__max_depth=8, dt__splitter=random;, score=0.911 total time=   0.0s\n",
      "[CV 2/5; 32/36] START dt__criterion=entropy, dt__max_depth=8, dt__splitter=random\n",
      "[CV 2/5; 32/36] END dt__criterion=entropy, dt__max_depth=8, dt__splitter=random;, score=0.923 total time=   0.0s\n",
      "[CV 3/5; 32/36] START dt__criterion=entropy, dt__max_depth=8, dt__splitter=random\n",
      "[CV 3/5; 32/36] END dt__criterion=entropy, dt__max_depth=8, dt__splitter=random;, score=0.902 total time=   0.0s\n",
      "[CV 4/5; 32/36] START dt__criterion=entropy, dt__max_depth=8, dt__splitter=random\n",
      "[CV 4/5; 32/36] END dt__criterion=entropy, dt__max_depth=8, dt__splitter=random;, score=0.867 total time=   0.0s\n",
      "[CV 5/5; 32/36] START dt__criterion=entropy, dt__max_depth=8, dt__splitter=random\n",
      "[CV 5/5; 32/36] END dt__criterion=entropy, dt__max_depth=8, dt__splitter=random;, score=0.956 total time=   0.0s\n",
      "[CV 1/5; 33/36] START dt__criterion=entropy, dt__max_depth=9, dt__splitter=best.\n",
      "[CV 1/5; 33/36] END dt__criterion=entropy, dt__max_depth=9, dt__splitter=best;, score=0.967 total time=   0.0s\n",
      "[CV 2/5; 33/36] START dt__criterion=entropy, dt__max_depth=9, dt__splitter=best.\n",
      "[CV 2/5; 33/36] END dt__criterion=entropy, dt__max_depth=9, dt__splitter=best;, score=0.934 total time=   0.0s\n",
      "[CV 3/5; 33/36] START dt__criterion=entropy, dt__max_depth=9, dt__splitter=best.\n",
      "[CV 3/5; 33/36] END dt__criterion=entropy, dt__max_depth=9, dt__splitter=best;, score=0.924 total time=   0.0s\n",
      "[CV 4/5; 33/36] START dt__criterion=entropy, dt__max_depth=9, dt__splitter=best.\n",
      "[CV 4/5; 33/36] END dt__criterion=entropy, dt__max_depth=9, dt__splitter=best;, score=0.934 total time=   0.0s\n",
      "[CV 5/5; 33/36] START dt__criterion=entropy, dt__max_depth=9, dt__splitter=best.\n",
      "[CV 5/5; 33/36] END dt__criterion=entropy, dt__max_depth=9, dt__splitter=best;, score=0.945 total time=   0.0s\n",
      "[CV 1/5; 34/36] START dt__criterion=entropy, dt__max_depth=9, dt__splitter=random\n",
      "[CV 1/5; 34/36] END dt__criterion=entropy, dt__max_depth=9, dt__splitter=random;, score=0.900 total time=   0.0s\n",
      "[CV 2/5; 34/36] START dt__criterion=entropy, dt__max_depth=9, dt__splitter=random\n",
      "[CV 2/5; 34/36] END dt__criterion=entropy, dt__max_depth=9, dt__splitter=random;, score=0.923 total time=   0.0s\n",
      "[CV 3/5; 34/36] START dt__criterion=entropy, dt__max_depth=9, dt__splitter=random\n",
      "[CV 3/5; 34/36] END dt__criterion=entropy, dt__max_depth=9, dt__splitter=random;, score=0.902 total time=   0.0s\n",
      "[CV 4/5; 34/36] START dt__criterion=entropy, dt__max_depth=9, dt__splitter=random\n",
      "[CV 4/5; 34/36] END dt__criterion=entropy, dt__max_depth=9, dt__splitter=random;, score=0.867 total time=   0.0s\n",
      "[CV 5/5; 34/36] START dt__criterion=entropy, dt__max_depth=9, dt__splitter=random\n",
      "[CV 5/5; 34/36] END dt__criterion=entropy, dt__max_depth=9, dt__splitter=random;, score=0.945 total time=   0.0s\n",
      "[CV 1/5; 35/36] START dt__criterion=entropy, dt__max_depth=10, dt__splitter=best\n",
      "[CV 1/5; 35/36] END dt__criterion=entropy, dt__max_depth=10, dt__splitter=best;, score=0.967 total time=   0.0s\n",
      "[CV 2/5; 35/36] START dt__criterion=entropy, dt__max_depth=10, dt__splitter=best\n",
      "[CV 2/5; 35/36] END dt__criterion=entropy, dt__max_depth=10, dt__splitter=best;, score=0.934 total time=   0.0s\n",
      "[CV 3/5; 35/36] START dt__criterion=entropy, dt__max_depth=10, dt__splitter=best\n",
      "[CV 3/5; 35/36] END dt__criterion=entropy, dt__max_depth=10, dt__splitter=best;, score=0.924 total time=   0.0s\n",
      "[CV 4/5; 35/36] START dt__criterion=entropy, dt__max_depth=10, dt__splitter=best\n",
      "[CV 4/5; 35/36] END dt__criterion=entropy, dt__max_depth=10, dt__splitter=best;, score=0.934 total time=   0.0s\n",
      "[CV 5/5; 35/36] START dt__criterion=entropy, dt__max_depth=10, dt__splitter=best\n",
      "[CV 5/5; 35/36] END dt__criterion=entropy, dt__max_depth=10, dt__splitter=best;, score=0.945 total time=   0.0s\n",
      "[CV 1/5; 36/36] START dt__criterion=entropy, dt__max_depth=10, dt__splitter=random\n",
      "[CV 1/5; 36/36] END dt__criterion=entropy, dt__max_depth=10, dt__splitter=random;, score=0.900 total time=   0.0s\n",
      "[CV 2/5; 36/36] START dt__criterion=entropy, dt__max_depth=10, dt__splitter=random\n",
      "[CV 2/5; 36/36] END dt__criterion=entropy, dt__max_depth=10, dt__splitter=random;, score=0.923 total time=   0.0s\n",
      "[CV 3/5; 36/36] START dt__criterion=entropy, dt__max_depth=10, dt__splitter=random\n",
      "[CV 3/5; 36/36] END dt__criterion=entropy, dt__max_depth=10, dt__splitter=random;, score=0.902 total time=   0.0s\n",
      "[CV 4/5; 36/36] START dt__criterion=entropy, dt__max_depth=10, dt__splitter=random\n",
      "[CV 4/5; 36/36] END dt__criterion=entropy, dt__max_depth=10, dt__splitter=random;, score=0.867 total time=   0.0s\n",
      "[CV 5/5; 36/36] START dt__criterion=entropy, dt__max_depth=10, dt__splitter=random\n",
      "[CV 5/5; 36/36] END dt__criterion=entropy, dt__max_depth=10, dt__splitter=random;, score=0.945 total time=   0.0s\n"
     ]
    },
    {
     "data": {
      "text/html": [
       "<style>#sk-container-id-2 {color: black;background-color: white;}#sk-container-id-2 pre{padding: 0;}#sk-container-id-2 div.sk-toggleable {background-color: white;}#sk-container-id-2 label.sk-toggleable__label {cursor: pointer;display: block;width: 100%;margin-bottom: 0;padding: 0.3em;box-sizing: border-box;text-align: center;}#sk-container-id-2 label.sk-toggleable__label-arrow:before {content: \"▸\";float: left;margin-right: 0.25em;color: #696969;}#sk-container-id-2 label.sk-toggleable__label-arrow:hover:before {color: black;}#sk-container-id-2 div.sk-estimator:hover label.sk-toggleable__label-arrow:before {color: black;}#sk-container-id-2 div.sk-toggleable__content {max-height: 0;max-width: 0;overflow: hidden;text-align: left;background-color: #f0f8ff;}#sk-container-id-2 div.sk-toggleable__content pre {margin: 0.2em;color: black;border-radius: 0.25em;background-color: #f0f8ff;}#sk-container-id-2 input.sk-toggleable__control:checked~div.sk-toggleable__content {max-height: 200px;max-width: 100%;overflow: auto;}#sk-container-id-2 input.sk-toggleable__control:checked~label.sk-toggleable__label-arrow:before {content: \"▾\";}#sk-container-id-2 div.sk-estimator input.sk-toggleable__control:checked~label.sk-toggleable__label {background-color: #d4ebff;}#sk-container-id-2 div.sk-label input.sk-toggleable__control:checked~label.sk-toggleable__label {background-color: #d4ebff;}#sk-container-id-2 input.sk-hidden--visually {border: 0;clip: rect(1px 1px 1px 1px);clip: rect(1px, 1px, 1px, 1px);height: 1px;margin: -1px;overflow: hidden;padding: 0;position: absolute;width: 1px;}#sk-container-id-2 div.sk-estimator {font-family: monospace;background-color: #f0f8ff;border: 1px dotted black;border-radius: 0.25em;box-sizing: border-box;margin-bottom: 0.5em;}#sk-container-id-2 div.sk-estimator:hover {background-color: #d4ebff;}#sk-container-id-2 div.sk-parallel-item::after {content: \"\";width: 100%;border-bottom: 1px solid gray;flex-grow: 1;}#sk-container-id-2 div.sk-label:hover label.sk-toggleable__label {background-color: #d4ebff;}#sk-container-id-2 div.sk-serial::before {content: \"\";position: absolute;border-left: 1px solid gray;box-sizing: border-box;top: 0;bottom: 0;left: 50%;z-index: 0;}#sk-container-id-2 div.sk-serial {display: flex;flex-direction: column;align-items: center;background-color: white;padding-right: 0.2em;padding-left: 0.2em;position: relative;}#sk-container-id-2 div.sk-item {position: relative;z-index: 1;}#sk-container-id-2 div.sk-parallel {display: flex;align-items: stretch;justify-content: center;background-color: white;position: relative;}#sk-container-id-2 div.sk-item::before, #sk-container-id-2 div.sk-parallel-item::before {content: \"\";position: absolute;border-left: 1px solid gray;box-sizing: border-box;top: 0;bottom: 0;left: 50%;z-index: -1;}#sk-container-id-2 div.sk-parallel-item {display: flex;flex-direction: column;z-index: 1;position: relative;background-color: white;}#sk-container-id-2 div.sk-parallel-item:first-child::after {align-self: flex-end;width: 50%;}#sk-container-id-2 div.sk-parallel-item:last-child::after {align-self: flex-start;width: 50%;}#sk-container-id-2 div.sk-parallel-item:only-child::after {width: 0;}#sk-container-id-2 div.sk-dashed-wrapped {border: 1px dashed gray;margin: 0 0.4em 0.5em 0.4em;box-sizing: border-box;padding-bottom: 0.4em;background-color: white;}#sk-container-id-2 div.sk-label label {font-family: monospace;font-weight: bold;display: inline-block;line-height: 1.2em;}#sk-container-id-2 div.sk-label-container {text-align: center;}#sk-container-id-2 div.sk-container {/* jupyter's `normalize.less` sets `[hidden] { display: none; }` but bootstrap.min.css set `[hidden] { display: none !important; }` so we also need the `!important` here to be able to override the default hidden behavior on the sphinx rendered scikit-learn.org. See: https://github.com/scikit-learn/scikit-learn/issues/21755 */display: inline-block !important;position: relative;}#sk-container-id-2 div.sk-text-repr-fallback {display: none;}</style><div id=\"sk-container-id-2\" class=\"sk-top-container\"><div class=\"sk-text-repr-fallback\"><pre>GridSearchCV(cv=StratifiedKFold(n_splits=5, random_state=42, shuffle=True),\n",
       "             estimator=Pipeline(steps=[(&#x27;dt&#x27;,\n",
       "                                        DecisionTreeClassifier(random_state=42))]),\n",
       "             param_grid={&#x27;dt__criterion&#x27;: [&#x27;gini&#x27;, &#x27;entropy&#x27;],\n",
       "                         &#x27;dt__max_depth&#x27;: range(2, 11),\n",
       "                         &#x27;dt__splitter&#x27;: [&#x27;best&#x27;, &#x27;random&#x27;]},\n",
       "             scoring=&#x27;f1_weighted&#x27;, verbose=10)</pre><b>In a Jupyter environment, please rerun this cell to show the HTML representation or trust the notebook. <br />On GitHub, the HTML representation is unable to render, please try loading this page with nbviewer.org.</b></div><div class=\"sk-container\" hidden><div class=\"sk-item sk-dashed-wrapped\"><div class=\"sk-label-container\"><div class=\"sk-label sk-toggleable\"><input class=\"sk-toggleable__control sk-hidden--visually\" id=\"sk-estimator-id-2\" type=\"checkbox\" ><label for=\"sk-estimator-id-2\" class=\"sk-toggleable__label sk-toggleable__label-arrow\">GridSearchCV</label><div class=\"sk-toggleable__content\"><pre>GridSearchCV(cv=StratifiedKFold(n_splits=5, random_state=42, shuffle=True),\n",
       "             estimator=Pipeline(steps=[(&#x27;dt&#x27;,\n",
       "                                        DecisionTreeClassifier(random_state=42))]),\n",
       "             param_grid={&#x27;dt__criterion&#x27;: [&#x27;gini&#x27;, &#x27;entropy&#x27;],\n",
       "                         &#x27;dt__max_depth&#x27;: range(2, 11),\n",
       "                         &#x27;dt__splitter&#x27;: [&#x27;best&#x27;, &#x27;random&#x27;]},\n",
       "             scoring=&#x27;f1_weighted&#x27;, verbose=10)</pre></div></div></div><div class=\"sk-parallel\"><div class=\"sk-parallel-item\"><div class=\"sk-item\"><div class=\"sk-label-container\"><div class=\"sk-label sk-toggleable\"><input class=\"sk-toggleable__control sk-hidden--visually\" id=\"sk-estimator-id-3\" type=\"checkbox\" ><label for=\"sk-estimator-id-3\" class=\"sk-toggleable__label sk-toggleable__label-arrow\">estimator: Pipeline</label><div class=\"sk-toggleable__content\"><pre>Pipeline(steps=[(&#x27;dt&#x27;, DecisionTreeClassifier(random_state=42))])</pre></div></div></div><div class=\"sk-serial\"><div class=\"sk-item\"><div class=\"sk-serial\"><div class=\"sk-item\"><div class=\"sk-estimator sk-toggleable\"><input class=\"sk-toggleable__control sk-hidden--visually\" id=\"sk-estimator-id-4\" type=\"checkbox\" ><label for=\"sk-estimator-id-4\" class=\"sk-toggleable__label sk-toggleable__label-arrow\">DecisionTreeClassifier</label><div class=\"sk-toggleable__content\"><pre>DecisionTreeClassifier(random_state=42)</pre></div></div></div></div></div></div></div></div></div></div></div></div>"
      ],
      "text/plain": [
       "GridSearchCV(cv=StratifiedKFold(n_splits=5, random_state=42, shuffle=True),\n",
       "             estimator=Pipeline(steps=[('dt',\n",
       "                                        DecisionTreeClassifier(random_state=42))]),\n",
       "             param_grid={'dt__criterion': ['gini', 'entropy'],\n",
       "                         'dt__max_depth': range(2, 11),\n",
       "                         'dt__splitter': ['best', 'random']},\n",
       "             scoring='f1_weighted', verbose=10)"
      ]
     },
     "execution_count": 89,
     "metadata": {},
     "output_type": "execute_result"
    }
   ],
   "source": [
    "# ============================================\n",
    "# pipe com só uma etapa (modelagem), pq nao fizemos nada de preprocessamento\n",
    "\n",
    "pipe = Pipeline([(\"dt\", DecisionTreeClassifier(random_state=42))])\n",
    "\n",
    "# ============================================\n",
    "\n",
    "params_grid_dt = {\"dt__criterion\" : [\"gini\", \"entropy\"],\n",
    "                  \"dt__splitter\" : [\"best\", \"random\"],\n",
    "                  \"dt__max_depth\" : range(2, 11)} \n",
    "\n",
    "splitter = StratifiedKFold(n_splits=5, shuffle=True, random_state=42)\n",
    "\n",
    "grid_dt = GridSearchCV(estimator=pipe,\n",
    "                       param_grid=params_grid_dt,\n",
    "                       scoring=\"f1_weighted\",\n",
    "                       cv=splitter,\n",
    "                       verbose=10)\n",
    "\n",
    "grid_dt.fit(X_train, y_train)\n",
    "\n",
    "# ============================================"
   ]
  },
  {
   "cell_type": "markdown",
   "metadata": {},
   "source": [
    "Muito melhor, não é mesmo! E longe de estar overfitado!\n",
    "\n",
    "Veja, como o modelo agora está bem mais simples:"
   ]
  },
  {
   "cell_type": "code",
   "execution_count": 97,
   "metadata": {
    "ExecuteTime": {
     "end_time": "2022-02-16T19:08:08.727046Z",
     "start_time": "2022-02-16T19:08:08.635502Z"
    },
    "scrolled": true
   },
   "outputs": [],
   "source": [
    "# fig, axs = plt.subplots(nrows=1, ncols=1, figsize=(18, 18), dpi=500)\n",
    "\n",
    "# # note que temos que passar o objeto da árvore, que está dentro do objeto do grid search!\n",
    "# plot_tree(grid_dt.best_estimator_[\"dt\"], feature_names=X_train.columns)\n",
    "\n",
    "# fig.savefig(\"arvore_regularizada.png\")"
   ]
  },
  {
   "cell_type": "markdown",
   "metadata": {},
   "source": [
    "_________"
   ]
  },
  {
   "cell_type": "markdown",
   "metadata": {},
   "source": [
    "# Exercício 2\n",
    "\n",
    "Use o dataset titanic do seaborn e realize uma otimização de hiperparâmetros da árvore utilizando Grid Search.\n",
    "\n",
    " - 1) Importe o dataset e faça o tratamento e seleção das variáveis;\n",
    " - 2) Faça o split dos dados em treino e teste;\n",
    " - 3) Instancie o modelo no pipeline;\n",
    " - 4) Defina os hiperparâmetros para o Grid Search;\n",
    " - 5) Treine o modelo;\n",
    " - 6) Faça o Gráfico da árvore;"
   ]
  },
  {
   "cell_type": "code",
   "execution_count": 23,
   "metadata": {},
   "outputs": [],
   "source": [
    "df = sns.load_dataset(\"titanic\")"
   ]
  },
  {
   "cell_type": "code",
   "execution_count": 24,
   "metadata": {},
   "outputs": [],
   "source": [
    "df_filtered = df.dropna()"
   ]
  },
  {
   "cell_type": "code",
   "execution_count": 25,
   "metadata": {},
   "outputs": [],
   "source": [
    "X = df_filtered.select_dtypes(include = np.number)\n",
    "y = df_filtered[\"survived\"]"
   ]
  },
  {
   "cell_type": "code",
   "execution_count": 26,
   "metadata": {},
   "outputs": [],
   "source": [
    "X_train, X_test, y_train, y_test = train_test_split(X, y, test_size = 0.2, stratify=y)"
   ]
  },
  {
   "cell_type": "code",
   "execution_count": 27,
   "metadata": {},
   "outputs": [
    {
     "data": {
      "text/plain": [
       "1    0.675862\n",
       "0    0.324138\n",
       "Name: survived, dtype: float64"
      ]
     },
     "execution_count": 27,
     "metadata": {},
     "output_type": "execute_result"
    }
   ],
   "source": [
    "y_train.value_counts(normalize = True)"
   ]
  },
  {
   "cell_type": "code",
   "execution_count": 28,
   "metadata": {},
   "outputs": [
    {
     "data": {
      "text/plain": [
       "DecisionTreeClassifier()"
      ]
     },
     "execution_count": 28,
     "metadata": {},
     "output_type": "execute_result"
    }
   ],
   "source": [
    "dtc = DecisionTreeClassifier()\n",
    "\n",
    "dtc.fit(X_train, y_train)"
   ]
  },
  {
   "cell_type": "code",
   "execution_count": 29,
   "metadata": {},
   "outputs": [],
   "source": [
    "y_pred = dtc.predict(X_test)"
   ]
  },
  {
   "cell_type": "code",
   "execution_count": 37,
   "metadata": {},
   "outputs": [
    {
     "ename": "NameError",
     "evalue": "name 'classification_report' is not defined",
     "output_type": "error",
     "traceback": [
      "\u001b[0;31m---------------------------------------------------------------------------\u001b[0m",
      "\u001b[0;31mNameError\u001b[0m                                 Traceback (most recent call last)",
      "\u001b[0;32m/var/folders/4m/74nrsdkd711b73fw5csp5gnm0000gn/T/ipykernel_30212/580191101.py\u001b[0m in \u001b[0;36m<module>\u001b[0;34m\u001b[0m\n\u001b[0;32m----> 1\u001b[0;31m \u001b[0mprint\u001b[0m\u001b[0;34m(\u001b[0m\u001b[0mclassification_report\u001b[0m\u001b[0;34m(\u001b[0m\u001b[0my_test\u001b[0m\u001b[0;34m,\u001b[0m \u001b[0my_pred\u001b[0m\u001b[0;34m)\u001b[0m\u001b[0;34m)\u001b[0m\u001b[0;34m\u001b[0m\u001b[0;34m\u001b[0m\u001b[0m\n\u001b[0m",
      "\u001b[0;31mNameError\u001b[0m: name 'classification_report' is not defined"
     ]
    }
   ],
   "source": [
    "print(classification_report(y_test, y_pred))"
   ]
  },
  {
   "cell_type": "code",
   "execution_count": 38,
   "metadata": {},
   "outputs": [
    {
     "name": "stdout",
     "output_type": "stream",
     "text": [
      "Fitting 5 folds for each of 36 candidates, totalling 180 fits\n",
      "[CV 1/5; 1/36] START dt__criterion=gini, dt__max_depth=2, dt__splitter=best.....\n",
      "[CV 1/5; 1/36] END dt__criterion=gini, dt__max_depth=2, dt__splitter=best;, score=1.000 total time=   0.0s\n",
      "[CV 2/5; 1/36] START dt__criterion=gini, dt__max_depth=2, dt__splitter=best.....\n",
      "[CV 2/5; 1/36] END dt__criterion=gini, dt__max_depth=2, dt__splitter=best;, score=1.000 total time=   0.0s\n",
      "[CV 3/5; 1/36] START dt__criterion=gini, dt__max_depth=2, dt__splitter=best.....\n",
      "[CV 3/5; 1/36] END dt__criterion=gini, dt__max_depth=2, dt__splitter=best;, score=1.000 total time=   0.0s\n",
      "[CV 4/5; 1/36] START dt__criterion=gini, dt__max_depth=2, dt__splitter=best.....\n",
      "[CV 4/5; 1/36] END dt__criterion=gini, dt__max_depth=2, dt__splitter=best;, score=1.000 total time=   0.0s\n",
      "[CV 5/5; 1/36] START dt__criterion=gini, dt__max_depth=2, dt__splitter=best.....\n",
      "[CV 5/5; 1/36] END dt__criterion=gini, dt__max_depth=2, dt__splitter=best;, score=1.000 total time=   0.0s\n",
      "[CV 1/5; 2/36] START dt__criterion=gini, dt__max_depth=2, dt__splitter=random...\n",
      "[CV 1/5; 2/36] END dt__criterion=gini, dt__max_depth=2, dt__splitter=random;, score=1.000 total time=   0.0s\n",
      "[CV 2/5; 2/36] START dt__criterion=gini, dt__max_depth=2, dt__splitter=random...\n",
      "[CV 2/5; 2/36] END dt__criterion=gini, dt__max_depth=2, dt__splitter=random;, score=1.000 total time=   0.0s\n",
      "[CV 3/5; 2/36] START dt__criterion=gini, dt__max_depth=2, dt__splitter=random...\n",
      "[CV 3/5; 2/36] END dt__criterion=gini, dt__max_depth=2, dt__splitter=random;, score=1.000 total time=   0.0s\n",
      "[CV 4/5; 2/36] START dt__criterion=gini, dt__max_depth=2, dt__splitter=random...\n",
      "[CV 4/5; 2/36] END dt__criterion=gini, dt__max_depth=2, dt__splitter=random;, score=1.000 total time=   0.0s\n",
      "[CV 5/5; 2/36] START dt__criterion=gini, dt__max_depth=2, dt__splitter=random...\n",
      "[CV 5/5; 2/36] END dt__criterion=gini, dt__max_depth=2, dt__splitter=random;, score=1.000 total time=   0.0s\n",
      "[CV 1/5; 3/36] START dt__criterion=gini, dt__max_depth=3, dt__splitter=best.....\n",
      "[CV 1/5; 3/36] END dt__criterion=gini, dt__max_depth=3, dt__splitter=best;, score=1.000 total time=   0.0s\n",
      "[CV 2/5; 3/36] START dt__criterion=gini, dt__max_depth=3, dt__splitter=best.....\n",
      "[CV 2/5; 3/36] END dt__criterion=gini, dt__max_depth=3, dt__splitter=best;, score=1.000 total time=   0.0s\n",
      "[CV 3/5; 3/36] START dt__criterion=gini, dt__max_depth=3, dt__splitter=best.....\n",
      "[CV 3/5; 3/36] END dt__criterion=gini, dt__max_depth=3, dt__splitter=best;, score=1.000 total time=   0.0s\n",
      "[CV 4/5; 3/36] START dt__criterion=gini, dt__max_depth=3, dt__splitter=best.....\n",
      "[CV 4/5; 3/36] END dt__criterion=gini, dt__max_depth=3, dt__splitter=best;, score=1.000 total time=   0.0s\n",
      "[CV 5/5; 3/36] START dt__criterion=gini, dt__max_depth=3, dt__splitter=best.....\n",
      "[CV 5/5; 3/36] END dt__criterion=gini, dt__max_depth=3, dt__splitter=best;, score=1.000 total time=   0.0s\n",
      "[CV 1/5; 4/36] START dt__criterion=gini, dt__max_depth=3, dt__splitter=random...\n",
      "[CV 1/5; 4/36] END dt__criterion=gini, dt__max_depth=3, dt__splitter=random;, score=1.000 total time=   0.0s\n",
      "[CV 2/5; 4/36] START dt__criterion=gini, dt__max_depth=3, dt__splitter=random...\n",
      "[CV 2/5; 4/36] END dt__criterion=gini, dt__max_depth=3, dt__splitter=random;, score=1.000 total time=   0.0s\n",
      "[CV 3/5; 4/36] START dt__criterion=gini, dt__max_depth=3, dt__splitter=random...\n",
      "[CV 3/5; 4/36] END dt__criterion=gini, dt__max_depth=3, dt__splitter=random;, score=1.000 total time=   0.0s\n",
      "[CV 4/5; 4/36] START dt__criterion=gini, dt__max_depth=3, dt__splitter=random...\n",
      "[CV 4/5; 4/36] END dt__criterion=gini, dt__max_depth=3, dt__splitter=random;, score=1.000 total time=   0.0s\n",
      "[CV 5/5; 4/36] START dt__criterion=gini, dt__max_depth=3, dt__splitter=random...\n",
      "[CV 5/5; 4/36] END dt__criterion=gini, dt__max_depth=3, dt__splitter=random;, score=1.000 total time=   0.0s\n",
      "[CV 1/5; 5/36] START dt__criterion=gini, dt__max_depth=4, dt__splitter=best.....\n",
      "[CV 1/5; 5/36] END dt__criterion=gini, dt__max_depth=4, dt__splitter=best;, score=1.000 total time=   0.0s\n",
      "[CV 2/5; 5/36] START dt__criterion=gini, dt__max_depth=4, dt__splitter=best.....\n",
      "[CV 2/5; 5/36] END dt__criterion=gini, dt__max_depth=4, dt__splitter=best;, score=1.000 total time=   0.0s\n",
      "[CV 3/5; 5/36] START dt__criterion=gini, dt__max_depth=4, dt__splitter=best.....\n",
      "[CV 3/5; 5/36] END dt__criterion=gini, dt__max_depth=4, dt__splitter=best;, score=1.000 total time=   0.0s\n",
      "[CV 4/5; 5/36] START dt__criterion=gini, dt__max_depth=4, dt__splitter=best.....\n",
      "[CV 4/5; 5/36] END dt__criterion=gini, dt__max_depth=4, dt__splitter=best;, score=1.000 total time=   0.0s\n",
      "[CV 5/5; 5/36] START dt__criterion=gini, dt__max_depth=4, dt__splitter=best.....\n",
      "[CV 5/5; 5/36] END dt__criterion=gini, dt__max_depth=4, dt__splitter=best;, score=1.000 total time=   0.0s\n",
      "[CV 1/5; 6/36] START dt__criterion=gini, dt__max_depth=4, dt__splitter=random...\n",
      "[CV 1/5; 6/36] END dt__criterion=gini, dt__max_depth=4, dt__splitter=random;, score=1.000 total time=   0.0s\n",
      "[CV 2/5; 6/36] START dt__criterion=gini, dt__max_depth=4, dt__splitter=random...\n",
      "[CV 2/5; 6/36] END dt__criterion=gini, dt__max_depth=4, dt__splitter=random;, score=1.000 total time=   0.0s\n",
      "[CV 3/5; 6/36] START dt__criterion=gini, dt__max_depth=4, dt__splitter=random...\n",
      "[CV 3/5; 6/36] END dt__criterion=gini, dt__max_depth=4, dt__splitter=random;, score=1.000 total time=   0.0s\n",
      "[CV 4/5; 6/36] START dt__criterion=gini, dt__max_depth=4, dt__splitter=random...\n",
      "[CV 4/5; 6/36] END dt__criterion=gini, dt__max_depth=4, dt__splitter=random;, score=1.000 total time=   0.0s\n",
      "[CV 5/5; 6/36] START dt__criterion=gini, dt__max_depth=4, dt__splitter=random...\n",
      "[CV 5/5; 6/36] END dt__criterion=gini, dt__max_depth=4, dt__splitter=random;, score=1.000 total time=   0.0s\n",
      "[CV 1/5; 7/36] START dt__criterion=gini, dt__max_depth=5, dt__splitter=best.....\n",
      "[CV 1/5; 7/36] END dt__criterion=gini, dt__max_depth=5, dt__splitter=best;, score=1.000 total time=   0.0s\n",
      "[CV 2/5; 7/36] START dt__criterion=gini, dt__max_depth=5, dt__splitter=best.....\n",
      "[CV 2/5; 7/36] END dt__criterion=gini, dt__max_depth=5, dt__splitter=best;, score=1.000 total time=   0.0s\n",
      "[CV 3/5; 7/36] START dt__criterion=gini, dt__max_depth=5, dt__splitter=best.....\n",
      "[CV 3/5; 7/36] END dt__criterion=gini, dt__max_depth=5, dt__splitter=best;, score=1.000 total time=   0.0s\n",
      "[CV 4/5; 7/36] START dt__criterion=gini, dt__max_depth=5, dt__splitter=best.....\n",
      "[CV 4/5; 7/36] END dt__criterion=gini, dt__max_depth=5, dt__splitter=best;, score=1.000 total time=   0.0s\n",
      "[CV 5/5; 7/36] START dt__criterion=gini, dt__max_depth=5, dt__splitter=best.....\n",
      "[CV 5/5; 7/36] END dt__criterion=gini, dt__max_depth=5, dt__splitter=best;, score=1.000 total time=   0.0s\n",
      "[CV 1/5; 8/36] START dt__criterion=gini, dt__max_depth=5, dt__splitter=random...\n",
      "[CV 1/5; 8/36] END dt__criterion=gini, dt__max_depth=5, dt__splitter=random;, score=1.000 total time=   0.0s\n",
      "[CV 2/5; 8/36] START dt__criterion=gini, dt__max_depth=5, dt__splitter=random...\n",
      "[CV 2/5; 8/36] END dt__criterion=gini, dt__max_depth=5, dt__splitter=random;, score=1.000 total time=   0.0s\n",
      "[CV 3/5; 8/36] START dt__criterion=gini, dt__max_depth=5, dt__splitter=random...\n",
      "[CV 3/5; 8/36] END dt__criterion=gini, dt__max_depth=5, dt__splitter=random;, score=1.000 total time=   0.0s\n",
      "[CV 4/5; 8/36] START dt__criterion=gini, dt__max_depth=5, dt__splitter=random...\n",
      "[CV 4/5; 8/36] END dt__criterion=gini, dt__max_depth=5, dt__splitter=random;, score=1.000 total time=   0.0s\n",
      "[CV 5/5; 8/36] START dt__criterion=gini, dt__max_depth=5, dt__splitter=random...\n",
      "[CV 5/5; 8/36] END dt__criterion=gini, dt__max_depth=5, dt__splitter=random;, score=1.000 total time=   0.0s\n",
      "[CV 1/5; 9/36] START dt__criterion=gini, dt__max_depth=6, dt__splitter=best.....\n",
      "[CV 1/5; 9/36] END dt__criterion=gini, dt__max_depth=6, dt__splitter=best;, score=1.000 total time=   0.0s\n",
      "[CV 2/5; 9/36] START dt__criterion=gini, dt__max_depth=6, dt__splitter=best.....\n",
      "[CV 2/5; 9/36] END dt__criterion=gini, dt__max_depth=6, dt__splitter=best;, score=1.000 total time=   0.0s\n",
      "[CV 3/5; 9/36] START dt__criterion=gini, dt__max_depth=6, dt__splitter=best.....\n",
      "[CV 3/5; 9/36] END dt__criterion=gini, dt__max_depth=6, dt__splitter=best;, score=1.000 total time=   0.0s\n",
      "[CV 4/5; 9/36] START dt__criterion=gini, dt__max_depth=6, dt__splitter=best.....\n",
      "[CV 4/5; 9/36] END dt__criterion=gini, dt__max_depth=6, dt__splitter=best;, score=1.000 total time=   0.0s\n",
      "[CV 5/5; 9/36] START dt__criterion=gini, dt__max_depth=6, dt__splitter=best.....\n",
      "[CV 5/5; 9/36] END dt__criterion=gini, dt__max_depth=6, dt__splitter=best;, score=1.000 total time=   0.0s\n",
      "[CV 1/5; 10/36] START dt__criterion=gini, dt__max_depth=6, dt__splitter=random..\n",
      "[CV 1/5; 10/36] END dt__criterion=gini, dt__max_depth=6, dt__splitter=random;, score=1.000 total time=   0.0s\n",
      "[CV 2/5; 10/36] START dt__criterion=gini, dt__max_depth=6, dt__splitter=random..\n",
      "[CV 2/5; 10/36] END dt__criterion=gini, dt__max_depth=6, dt__splitter=random;, score=1.000 total time=   0.0s\n",
      "[CV 3/5; 10/36] START dt__criterion=gini, dt__max_depth=6, dt__splitter=random..\n",
      "[CV 3/5; 10/36] END dt__criterion=gini, dt__max_depth=6, dt__splitter=random;, score=1.000 total time=   0.0s\n",
      "[CV 4/5; 10/36] START dt__criterion=gini, dt__max_depth=6, dt__splitter=random..\n",
      "[CV 4/5; 10/36] END dt__criterion=gini, dt__max_depth=6, dt__splitter=random;, score=1.000 total time=   0.0s\n",
      "[CV 5/5; 10/36] START dt__criterion=gini, dt__max_depth=6, dt__splitter=random..\n",
      "[CV 5/5; 10/36] END dt__criterion=gini, dt__max_depth=6, dt__splitter=random;, score=1.000 total time=   0.0s\n",
      "[CV 1/5; 11/36] START dt__criterion=gini, dt__max_depth=7, dt__splitter=best....\n",
      "[CV 1/5; 11/36] END dt__criterion=gini, dt__max_depth=7, dt__splitter=best;, score=1.000 total time=   0.0s\n",
      "[CV 2/5; 11/36] START dt__criterion=gini, dt__max_depth=7, dt__splitter=best....\n",
      "[CV 2/5; 11/36] END dt__criterion=gini, dt__max_depth=7, dt__splitter=best;, score=1.000 total time=   0.0s\n",
      "[CV 3/5; 11/36] START dt__criterion=gini, dt__max_depth=7, dt__splitter=best....\n",
      "[CV 3/5; 11/36] END dt__criterion=gini, dt__max_depth=7, dt__splitter=best;, score=1.000 total time=   0.0s\n",
      "[CV 4/5; 11/36] START dt__criterion=gini, dt__max_depth=7, dt__splitter=best....\n",
      "[CV 4/5; 11/36] END dt__criterion=gini, dt__max_depth=7, dt__splitter=best;, score=1.000 total time=   0.0s\n",
      "[CV 5/5; 11/36] START dt__criterion=gini, dt__max_depth=7, dt__splitter=best....\n",
      "[CV 5/5; 11/36] END dt__criterion=gini, dt__max_depth=7, dt__splitter=best;, score=1.000 total time=   0.0s\n",
      "[CV 1/5; 12/36] START dt__criterion=gini, dt__max_depth=7, dt__splitter=random..\n",
      "[CV 1/5; 12/36] END dt__criterion=gini, dt__max_depth=7, dt__splitter=random;, score=1.000 total time=   0.0s\n",
      "[CV 2/5; 12/36] START dt__criterion=gini, dt__max_depth=7, dt__splitter=random..\n",
      "[CV 2/5; 12/36] END dt__criterion=gini, dt__max_depth=7, dt__splitter=random;, score=1.000 total time=   0.0s\n",
      "[CV 3/5; 12/36] START dt__criterion=gini, dt__max_depth=7, dt__splitter=random..\n",
      "[CV 3/5; 12/36] END dt__criterion=gini, dt__max_depth=7, dt__splitter=random;, score=1.000 total time=   0.0s\n",
      "[CV 4/5; 12/36] START dt__criterion=gini, dt__max_depth=7, dt__splitter=random..\n",
      "[CV 4/5; 12/36] END dt__criterion=gini, dt__max_depth=7, dt__splitter=random;, score=1.000 total time=   0.0s\n",
      "[CV 5/5; 12/36] START dt__criterion=gini, dt__max_depth=7, dt__splitter=random..\n",
      "[CV 5/5; 12/36] END dt__criterion=gini, dt__max_depth=7, dt__splitter=random;, score=1.000 total time=   0.0s\n",
      "[CV 1/5; 13/36] START dt__criterion=gini, dt__max_depth=8, dt__splitter=best....\n",
      "[CV 1/5; 13/36] END dt__criterion=gini, dt__max_depth=8, dt__splitter=best;, score=1.000 total time=   0.0s\n",
      "[CV 2/5; 13/36] START dt__criterion=gini, dt__max_depth=8, dt__splitter=best....\n",
      "[CV 2/5; 13/36] END dt__criterion=gini, dt__max_depth=8, dt__splitter=best;, score=1.000 total time=   0.0s\n",
      "[CV 3/5; 13/36] START dt__criterion=gini, dt__max_depth=8, dt__splitter=best....\n",
      "[CV 3/5; 13/36] END dt__criterion=gini, dt__max_depth=8, dt__splitter=best;, score=1.000 total time=   0.0s\n",
      "[CV 4/5; 13/36] START dt__criterion=gini, dt__max_depth=8, dt__splitter=best....\n",
      "[CV 4/5; 13/36] END dt__criterion=gini, dt__max_depth=8, dt__splitter=best;, score=1.000 total time=   0.0s\n",
      "[CV 5/5; 13/36] START dt__criterion=gini, dt__max_depth=8, dt__splitter=best....\n"
     ]
    },
    {
     "name": "stdout",
     "output_type": "stream",
     "text": [
      "[CV 5/5; 13/36] END dt__criterion=gini, dt__max_depth=8, dt__splitter=best;, score=1.000 total time=   0.0s\n",
      "[CV 1/5; 14/36] START dt__criterion=gini, dt__max_depth=8, dt__splitter=random..\n",
      "[CV 1/5; 14/36] END dt__criterion=gini, dt__max_depth=8, dt__splitter=random;, score=1.000 total time=   0.0s\n",
      "[CV 2/5; 14/36] START dt__criterion=gini, dt__max_depth=8, dt__splitter=random..\n",
      "[CV 2/5; 14/36] END dt__criterion=gini, dt__max_depth=8, dt__splitter=random;, score=1.000 total time=   0.0s\n",
      "[CV 3/5; 14/36] START dt__criterion=gini, dt__max_depth=8, dt__splitter=random..\n",
      "[CV 3/5; 14/36] END dt__criterion=gini, dt__max_depth=8, dt__splitter=random;, score=1.000 total time=   0.0s\n",
      "[CV 4/5; 14/36] START dt__criterion=gini, dt__max_depth=8, dt__splitter=random..\n",
      "[CV 4/5; 14/36] END dt__criterion=gini, dt__max_depth=8, dt__splitter=random;, score=1.000 total time=   0.0s\n",
      "[CV 5/5; 14/36] START dt__criterion=gini, dt__max_depth=8, dt__splitter=random..\n",
      "[CV 5/5; 14/36] END dt__criterion=gini, dt__max_depth=8, dt__splitter=random;, score=1.000 total time=   0.0s\n",
      "[CV 1/5; 15/36] START dt__criterion=gini, dt__max_depth=9, dt__splitter=best....\n",
      "[CV 1/5; 15/36] END dt__criterion=gini, dt__max_depth=9, dt__splitter=best;, score=1.000 total time=   0.0s\n",
      "[CV 2/5; 15/36] START dt__criterion=gini, dt__max_depth=9, dt__splitter=best....\n",
      "[CV 2/5; 15/36] END dt__criterion=gini, dt__max_depth=9, dt__splitter=best;, score=1.000 total time=   0.0s\n",
      "[CV 3/5; 15/36] START dt__criterion=gini, dt__max_depth=9, dt__splitter=best....\n",
      "[CV 3/5; 15/36] END dt__criterion=gini, dt__max_depth=9, dt__splitter=best;, score=1.000 total time=   0.0s\n",
      "[CV 4/5; 15/36] START dt__criterion=gini, dt__max_depth=9, dt__splitter=best....\n",
      "[CV 4/5; 15/36] END dt__criterion=gini, dt__max_depth=9, dt__splitter=best;, score=1.000 total time=   0.0s\n",
      "[CV 5/5; 15/36] START dt__criterion=gini, dt__max_depth=9, dt__splitter=best....\n",
      "[CV 5/5; 15/36] END dt__criterion=gini, dt__max_depth=9, dt__splitter=best;, score=1.000 total time=   0.0s\n",
      "[CV 1/5; 16/36] START dt__criterion=gini, dt__max_depth=9, dt__splitter=random..\n",
      "[CV 1/5; 16/36] END dt__criterion=gini, dt__max_depth=9, dt__splitter=random;, score=1.000 total time=   0.0s\n",
      "[CV 2/5; 16/36] START dt__criterion=gini, dt__max_depth=9, dt__splitter=random..\n",
      "[CV 2/5; 16/36] END dt__criterion=gini, dt__max_depth=9, dt__splitter=random;, score=1.000 total time=   0.0s\n",
      "[CV 3/5; 16/36] START dt__criterion=gini, dt__max_depth=9, dt__splitter=random..\n",
      "[CV 3/5; 16/36] END dt__criterion=gini, dt__max_depth=9, dt__splitter=random;, score=1.000 total time=   0.0s\n",
      "[CV 4/5; 16/36] START dt__criterion=gini, dt__max_depth=9, dt__splitter=random..\n",
      "[CV 4/5; 16/36] END dt__criterion=gini, dt__max_depth=9, dt__splitter=random;, score=1.000 total time=   0.0s\n",
      "[CV 5/5; 16/36] START dt__criterion=gini, dt__max_depth=9, dt__splitter=random..\n",
      "[CV 5/5; 16/36] END dt__criterion=gini, dt__max_depth=9, dt__splitter=random;, score=1.000 total time=   0.0s\n",
      "[CV 1/5; 17/36] START dt__criterion=gini, dt__max_depth=10, dt__splitter=best...\n",
      "[CV 1/5; 17/36] END dt__criterion=gini, dt__max_depth=10, dt__splitter=best;, score=1.000 total time=   0.0s\n",
      "[CV 2/5; 17/36] START dt__criterion=gini, dt__max_depth=10, dt__splitter=best...\n",
      "[CV 2/5; 17/36] END dt__criterion=gini, dt__max_depth=10, dt__splitter=best;, score=1.000 total time=   0.0s\n",
      "[CV 3/5; 17/36] START dt__criterion=gini, dt__max_depth=10, dt__splitter=best...\n",
      "[CV 3/5; 17/36] END dt__criterion=gini, dt__max_depth=10, dt__splitter=best;, score=1.000 total time=   0.0s\n",
      "[CV 4/5; 17/36] START dt__criterion=gini, dt__max_depth=10, dt__splitter=best...\n",
      "[CV 4/5; 17/36] END dt__criterion=gini, dt__max_depth=10, dt__splitter=best;, score=1.000 total time=   0.0s\n",
      "[CV 5/5; 17/36] START dt__criterion=gini, dt__max_depth=10, dt__splitter=best...\n",
      "[CV 5/5; 17/36] END dt__criterion=gini, dt__max_depth=10, dt__splitter=best;, score=1.000 total time=   0.0s\n",
      "[CV 1/5; 18/36] START dt__criterion=gini, dt__max_depth=10, dt__splitter=random.\n",
      "[CV 1/5; 18/36] END dt__criterion=gini, dt__max_depth=10, dt__splitter=random;, score=1.000 total time=   0.0s\n",
      "[CV 2/5; 18/36] START dt__criterion=gini, dt__max_depth=10, dt__splitter=random.\n",
      "[CV 2/5; 18/36] END dt__criterion=gini, dt__max_depth=10, dt__splitter=random;, score=1.000 total time=   0.0s\n",
      "[CV 3/5; 18/36] START dt__criterion=gini, dt__max_depth=10, dt__splitter=random.\n",
      "[CV 3/5; 18/36] END dt__criterion=gini, dt__max_depth=10, dt__splitter=random;, score=1.000 total time=   0.0s\n",
      "[CV 4/5; 18/36] START dt__criterion=gini, dt__max_depth=10, dt__splitter=random.\n",
      "[CV 4/5; 18/36] END dt__criterion=gini, dt__max_depth=10, dt__splitter=random;, score=1.000 total time=   0.0s\n",
      "[CV 5/5; 18/36] START dt__criterion=gini, dt__max_depth=10, dt__splitter=random.\n",
      "[CV 5/5; 18/36] END dt__criterion=gini, dt__max_depth=10, dt__splitter=random;, score=1.000 total time=   0.0s\n",
      "[CV 1/5; 19/36] START dt__criterion=entropy, dt__max_depth=2, dt__splitter=best.\n",
      "[CV 1/5; 19/36] END dt__criterion=entropy, dt__max_depth=2, dt__splitter=best;, score=1.000 total time=   0.0s\n",
      "[CV 2/5; 19/36] START dt__criterion=entropy, dt__max_depth=2, dt__splitter=best.\n",
      "[CV 2/5; 19/36] END dt__criterion=entropy, dt__max_depth=2, dt__splitter=best;, score=1.000 total time=   0.0s\n",
      "[CV 3/5; 19/36] START dt__criterion=entropy, dt__max_depth=2, dt__splitter=best.\n",
      "[CV 3/5; 19/36] END dt__criterion=entropy, dt__max_depth=2, dt__splitter=best;, score=1.000 total time=   0.0s\n",
      "[CV 4/5; 19/36] START dt__criterion=entropy, dt__max_depth=2, dt__splitter=best.\n",
      "[CV 4/5; 19/36] END dt__criterion=entropy, dt__max_depth=2, dt__splitter=best;, score=1.000 total time=   0.0s\n",
      "[CV 5/5; 19/36] START dt__criterion=entropy, dt__max_depth=2, dt__splitter=best.\n",
      "[CV 5/5; 19/36] END dt__criterion=entropy, dt__max_depth=2, dt__splitter=best;, score=1.000 total time=   0.0s\n",
      "[CV 1/5; 20/36] START dt__criterion=entropy, dt__max_depth=2, dt__splitter=random\n",
      "[CV 1/5; 20/36] END dt__criterion=entropy, dt__max_depth=2, dt__splitter=random;, score=1.000 total time=   0.0s\n",
      "[CV 2/5; 20/36] START dt__criterion=entropy, dt__max_depth=2, dt__splitter=random\n",
      "[CV 2/5; 20/36] END dt__criterion=entropy, dt__max_depth=2, dt__splitter=random;, score=1.000 total time=   0.0s\n",
      "[CV 3/5; 20/36] START dt__criterion=entropy, dt__max_depth=2, dt__splitter=random\n",
      "[CV 3/5; 20/36] END dt__criterion=entropy, dt__max_depth=2, dt__splitter=random;, score=1.000 total time=   0.0s\n",
      "[CV 4/5; 20/36] START dt__criterion=entropy, dt__max_depth=2, dt__splitter=random\n",
      "[CV 4/5; 20/36] END dt__criterion=entropy, dt__max_depth=2, dt__splitter=random;, score=1.000 total time=   0.0s\n",
      "[CV 5/5; 20/36] START dt__criterion=entropy, dt__max_depth=2, dt__splitter=random\n",
      "[CV 5/5; 20/36] END dt__criterion=entropy, dt__max_depth=2, dt__splitter=random;, score=1.000 total time=   0.0s\n",
      "[CV 1/5; 21/36] START dt__criterion=entropy, dt__max_depth=3, dt__splitter=best.\n",
      "[CV 1/5; 21/36] END dt__criterion=entropy, dt__max_depth=3, dt__splitter=best;, score=1.000 total time=   0.0s\n",
      "[CV 2/5; 21/36] START dt__criterion=entropy, dt__max_depth=3, dt__splitter=best.\n",
      "[CV 2/5; 21/36] END dt__criterion=entropy, dt__max_depth=3, dt__splitter=best;, score=1.000 total time=   0.0s\n",
      "[CV 3/5; 21/36] START dt__criterion=entropy, dt__max_depth=3, dt__splitter=best.\n",
      "[CV 3/5; 21/36] END dt__criterion=entropy, dt__max_depth=3, dt__splitter=best;, score=1.000 total time=   0.0s\n",
      "[CV 4/5; 21/36] START dt__criterion=entropy, dt__max_depth=3, dt__splitter=best.\n",
      "[CV 4/5; 21/36] END dt__criterion=entropy, dt__max_depth=3, dt__splitter=best;, score=1.000 total time=   0.0s\n",
      "[CV 5/5; 21/36] START dt__criterion=entropy, dt__max_depth=3, dt__splitter=best.\n",
      "[CV 5/5; 21/36] END dt__criterion=entropy, dt__max_depth=3, dt__splitter=best;, score=1.000 total time=   0.0s\n",
      "[CV 1/5; 22/36] START dt__criterion=entropy, dt__max_depth=3, dt__splitter=random\n",
      "[CV 1/5; 22/36] END dt__criterion=entropy, dt__max_depth=3, dt__splitter=random;, score=1.000 total time=   0.0s\n",
      "[CV 2/5; 22/36] START dt__criterion=entropy, dt__max_depth=3, dt__splitter=random\n",
      "[CV 2/5; 22/36] END dt__criterion=entropy, dt__max_depth=3, dt__splitter=random;, score=1.000 total time=   0.0s\n",
      "[CV 3/5; 22/36] START dt__criterion=entropy, dt__max_depth=3, dt__splitter=random\n",
      "[CV 3/5; 22/36] END dt__criterion=entropy, dt__max_depth=3, dt__splitter=random;, score=1.000 total time=   0.0s\n",
      "[CV 4/5; 22/36] START dt__criterion=entropy, dt__max_depth=3, dt__splitter=random\n",
      "[CV 4/5; 22/36] END dt__criterion=entropy, dt__max_depth=3, dt__splitter=random;, score=1.000 total time=   0.0s\n",
      "[CV 5/5; 22/36] START dt__criterion=entropy, dt__max_depth=3, dt__splitter=random\n",
      "[CV 5/5; 22/36] END dt__criterion=entropy, dt__max_depth=3, dt__splitter=random;, score=1.000 total time=   0.0s\n",
      "[CV 1/5; 23/36] START dt__criterion=entropy, dt__max_depth=4, dt__splitter=best.\n",
      "[CV 1/5; 23/36] END dt__criterion=entropy, dt__max_depth=4, dt__splitter=best;, score=1.000 total time=   0.0s\n",
      "[CV 2/5; 23/36] START dt__criterion=entropy, dt__max_depth=4, dt__splitter=best.\n",
      "[CV 2/5; 23/36] END dt__criterion=entropy, dt__max_depth=4, dt__splitter=best;, score=1.000 total time=   0.0s\n",
      "[CV 3/5; 23/36] START dt__criterion=entropy, dt__max_depth=4, dt__splitter=best.\n",
      "[CV 3/5; 23/36] END dt__criterion=entropy, dt__max_depth=4, dt__splitter=best;, score=1.000 total time=   0.0s\n",
      "[CV 4/5; 23/36] START dt__criterion=entropy, dt__max_depth=4, dt__splitter=best.\n",
      "[CV 4/5; 23/36] END dt__criterion=entropy, dt__max_depth=4, dt__splitter=best;, score=1.000 total time=   0.0s\n",
      "[CV 5/5; 23/36] START dt__criterion=entropy, dt__max_depth=4, dt__splitter=best.\n",
      "[CV 5/5; 23/36] END dt__criterion=entropy, dt__max_depth=4, dt__splitter=best;, score=1.000 total time=   0.0s\n",
      "[CV 1/5; 24/36] START dt__criterion=entropy, dt__max_depth=4, dt__splitter=random\n",
      "[CV 1/5; 24/36] END dt__criterion=entropy, dt__max_depth=4, dt__splitter=random;, score=1.000 total time=   0.0s\n",
      "[CV 2/5; 24/36] START dt__criterion=entropy, dt__max_depth=4, dt__splitter=random\n",
      "[CV 2/5; 24/36] END dt__criterion=entropy, dt__max_depth=4, dt__splitter=random;, score=1.000 total time=   0.0s\n",
      "[CV 3/5; 24/36] START dt__criterion=entropy, dt__max_depth=4, dt__splitter=random\n",
      "[CV 3/5; 24/36] END dt__criterion=entropy, dt__max_depth=4, dt__splitter=random;, score=1.000 total time=   0.0s\n",
      "[CV 4/5; 24/36] START dt__criterion=entropy, dt__max_depth=4, dt__splitter=random\n",
      "[CV 4/5; 24/36] END dt__criterion=entropy, dt__max_depth=4, dt__splitter=random;, score=1.000 total time=   0.0s\n",
      "[CV 5/5; 24/36] START dt__criterion=entropy, dt__max_depth=4, dt__splitter=random\n",
      "[CV 5/5; 24/36] END dt__criterion=entropy, dt__max_depth=4, dt__splitter=random;, score=1.000 total time=   0.0s\n",
      "[CV 1/5; 25/36] START dt__criterion=entropy, dt__max_depth=5, dt__splitter=best.\n",
      "[CV 1/5; 25/36] END dt__criterion=entropy, dt__max_depth=5, dt__splitter=best;, score=1.000 total time=   0.0s\n",
      "[CV 2/5; 25/36] START dt__criterion=entropy, dt__max_depth=5, dt__splitter=best.\n",
      "[CV 2/5; 25/36] END dt__criterion=entropy, dt__max_depth=5, dt__splitter=best;, score=1.000 total time=   0.0s\n",
      "[CV 3/5; 25/36] START dt__criterion=entropy, dt__max_depth=5, dt__splitter=best.\n",
      "[CV 3/5; 25/36] END dt__criterion=entropy, dt__max_depth=5, dt__splitter=best;, score=1.000 total time=   0.0s\n",
      "[CV 4/5; 25/36] START dt__criterion=entropy, dt__max_depth=5, dt__splitter=best.\n",
      "[CV 4/5; 25/36] END dt__criterion=entropy, dt__max_depth=5, dt__splitter=best;, score=1.000 total time=   0.0s\n",
      "[CV 5/5; 25/36] START dt__criterion=entropy, dt__max_depth=5, dt__splitter=best.\n",
      "[CV 5/5; 25/36] END dt__criterion=entropy, dt__max_depth=5, dt__splitter=best;, score=1.000 total time=   0.0s\n",
      "[CV 1/5; 26/36] START dt__criterion=entropy, dt__max_depth=5, dt__splitter=random\n",
      "[CV 1/5; 26/36] END dt__criterion=entropy, dt__max_depth=5, dt__splitter=random;, score=1.000 total time=   0.0s\n",
      "[CV 2/5; 26/36] START dt__criterion=entropy, dt__max_depth=5, dt__splitter=random\n",
      "[CV 2/5; 26/36] END dt__criterion=entropy, dt__max_depth=5, dt__splitter=random;, score=1.000 total time=   0.0s\n",
      "[CV 3/5; 26/36] START dt__criterion=entropy, dt__max_depth=5, dt__splitter=random\n",
      "[CV 3/5; 26/36] END dt__criterion=entropy, dt__max_depth=5, dt__splitter=random;, score=1.000 total time=   0.0s\n",
      "[CV 4/5; 26/36] START dt__criterion=entropy, dt__max_depth=5, dt__splitter=random\n",
      "[CV 4/5; 26/36] END dt__criterion=entropy, dt__max_depth=5, dt__splitter=random;, score=1.000 total time=   0.0s\n",
      "[CV 5/5; 26/36] START dt__criterion=entropy, dt__max_depth=5, dt__splitter=random\n",
      "[CV 5/5; 26/36] END dt__criterion=entropy, dt__max_depth=5, dt__splitter=random;, score=1.000 total time=   0.0s\n",
      "[CV 1/5; 27/36] START dt__criterion=entropy, dt__max_depth=6, dt__splitter=best.\n",
      "[CV 1/5; 27/36] END dt__criterion=entropy, dt__max_depth=6, dt__splitter=best;, score=1.000 total time=   0.0s\n",
      "[CV 2/5; 27/36] START dt__criterion=entropy, dt__max_depth=6, dt__splitter=best.\n",
      "[CV 2/5; 27/36] END dt__criterion=entropy, dt__max_depth=6, dt__splitter=best;, score=1.000 total time=   0.0s\n",
      "[CV 3/5; 27/36] START dt__criterion=entropy, dt__max_depth=6, dt__splitter=best.\n",
      "[CV 3/5; 27/36] END dt__criterion=entropy, dt__max_depth=6, dt__splitter=best;, score=1.000 total time=   0.0s\n",
      "[CV 4/5; 27/36] START dt__criterion=entropy, dt__max_depth=6, dt__splitter=best.\n",
      "[CV 4/5; 27/36] END dt__criterion=entropy, dt__max_depth=6, dt__splitter=best;, score=1.000 total time=   0.0s\n",
      "[CV 5/5; 27/36] START dt__criterion=entropy, dt__max_depth=6, dt__splitter=best.\n",
      "[CV 5/5; 27/36] END dt__criterion=entropy, dt__max_depth=6, dt__splitter=best;, score=1.000 total time=   0.0s\n",
      "[CV 1/5; 28/36] START dt__criterion=entropy, dt__max_depth=6, dt__splitter=random\n",
      "[CV 1/5; 28/36] END dt__criterion=entropy, dt__max_depth=6, dt__splitter=random;, score=1.000 total time=   0.0s\n",
      "[CV 2/5; 28/36] START dt__criterion=entropy, dt__max_depth=6, dt__splitter=random\n",
      "[CV 2/5; 28/36] END dt__criterion=entropy, dt__max_depth=6, dt__splitter=random;, score=1.000 total time=   0.0s\n",
      "[CV 3/5; 28/36] START dt__criterion=entropy, dt__max_depth=6, dt__splitter=random\n",
      "[CV 3/5; 28/36] END dt__criterion=entropy, dt__max_depth=6, dt__splitter=random;, score=1.000 total time=   0.0s\n",
      "[CV 4/5; 28/36] START dt__criterion=entropy, dt__max_depth=6, dt__splitter=random\n",
      "[CV 4/5; 28/36] END dt__criterion=entropy, dt__max_depth=6, dt__splitter=random;, score=1.000 total time=   0.0s\n",
      "[CV 5/5; 28/36] START dt__criterion=entropy, dt__max_depth=6, dt__splitter=random\n",
      "[CV 5/5; 28/36] END dt__criterion=entropy, dt__max_depth=6, dt__splitter=random;, score=1.000 total time=   0.0s\n",
      "[CV 1/5; 29/36] START dt__criterion=entropy, dt__max_depth=7, dt__splitter=best.\n",
      "[CV 1/5; 29/36] END dt__criterion=entropy, dt__max_depth=7, dt__splitter=best;, score=1.000 total time=   0.0s\n",
      "[CV 2/5; 29/36] START dt__criterion=entropy, dt__max_depth=7, dt__splitter=best.\n"
     ]
    },
    {
     "name": "stdout",
     "output_type": "stream",
     "text": [
      "[CV 2/5; 29/36] END dt__criterion=entropy, dt__max_depth=7, dt__splitter=best;, score=1.000 total time=   0.0s\n",
      "[CV 3/5; 29/36] START dt__criterion=entropy, dt__max_depth=7, dt__splitter=best.\n",
      "[CV 3/5; 29/36] END dt__criterion=entropy, dt__max_depth=7, dt__splitter=best;, score=1.000 total time=   0.0s\n",
      "[CV 4/5; 29/36] START dt__criterion=entropy, dt__max_depth=7, dt__splitter=best.\n",
      "[CV 4/5; 29/36] END dt__criterion=entropy, dt__max_depth=7, dt__splitter=best;, score=1.000 total time=   0.0s\n",
      "[CV 5/5; 29/36] START dt__criterion=entropy, dt__max_depth=7, dt__splitter=best.\n",
      "[CV 5/5; 29/36] END dt__criterion=entropy, dt__max_depth=7, dt__splitter=best;, score=1.000 total time=   0.0s\n",
      "[CV 1/5; 30/36] START dt__criterion=entropy, dt__max_depth=7, dt__splitter=random\n",
      "[CV 1/5; 30/36] END dt__criterion=entropy, dt__max_depth=7, dt__splitter=random;, score=1.000 total time=   0.0s\n",
      "[CV 2/5; 30/36] START dt__criterion=entropy, dt__max_depth=7, dt__splitter=random\n",
      "[CV 2/5; 30/36] END dt__criterion=entropy, dt__max_depth=7, dt__splitter=random;, score=1.000 total time=   0.0s\n",
      "[CV 3/5; 30/36] START dt__criterion=entropy, dt__max_depth=7, dt__splitter=random\n",
      "[CV 3/5; 30/36] END dt__criterion=entropy, dt__max_depth=7, dt__splitter=random;, score=1.000 total time=   0.0s\n",
      "[CV 4/5; 30/36] START dt__criterion=entropy, dt__max_depth=7, dt__splitter=random\n",
      "[CV 4/5; 30/36] END dt__criterion=entropy, dt__max_depth=7, dt__splitter=random;, score=1.000 total time=   0.0s\n",
      "[CV 5/5; 30/36] START dt__criterion=entropy, dt__max_depth=7, dt__splitter=random\n",
      "[CV 5/5; 30/36] END dt__criterion=entropy, dt__max_depth=7, dt__splitter=random;, score=1.000 total time=   0.0s\n",
      "[CV 1/5; 31/36] START dt__criterion=entropy, dt__max_depth=8, dt__splitter=best.\n",
      "[CV 1/5; 31/36] END dt__criterion=entropy, dt__max_depth=8, dt__splitter=best;, score=1.000 total time=   0.0s\n",
      "[CV 2/5; 31/36] START dt__criterion=entropy, dt__max_depth=8, dt__splitter=best.\n",
      "[CV 2/5; 31/36] END dt__criterion=entropy, dt__max_depth=8, dt__splitter=best;, score=1.000 total time=   0.0s\n",
      "[CV 3/5; 31/36] START dt__criterion=entropy, dt__max_depth=8, dt__splitter=best.\n",
      "[CV 3/5; 31/36] END dt__criterion=entropy, dt__max_depth=8, dt__splitter=best;, score=1.000 total time=   0.0s\n",
      "[CV 4/5; 31/36] START dt__criterion=entropy, dt__max_depth=8, dt__splitter=best.\n",
      "[CV 4/5; 31/36] END dt__criterion=entropy, dt__max_depth=8, dt__splitter=best;, score=1.000 total time=   0.0s\n",
      "[CV 5/5; 31/36] START dt__criterion=entropy, dt__max_depth=8, dt__splitter=best.\n",
      "[CV 5/5; 31/36] END dt__criterion=entropy, dt__max_depth=8, dt__splitter=best;, score=1.000 total time=   0.0s\n",
      "[CV 1/5; 32/36] START dt__criterion=entropy, dt__max_depth=8, dt__splitter=random\n",
      "[CV 1/5; 32/36] END dt__criterion=entropy, dt__max_depth=8, dt__splitter=random;, score=1.000 total time=   0.0s\n",
      "[CV 2/5; 32/36] START dt__criterion=entropy, dt__max_depth=8, dt__splitter=random\n",
      "[CV 2/5; 32/36] END dt__criterion=entropy, dt__max_depth=8, dt__splitter=random;, score=1.000 total time=   0.0s\n",
      "[CV 3/5; 32/36] START dt__criterion=entropy, dt__max_depth=8, dt__splitter=random\n",
      "[CV 3/5; 32/36] END dt__criterion=entropy, dt__max_depth=8, dt__splitter=random;, score=1.000 total time=   0.0s\n",
      "[CV 4/5; 32/36] START dt__criterion=entropy, dt__max_depth=8, dt__splitter=random\n",
      "[CV 4/5; 32/36] END dt__criterion=entropy, dt__max_depth=8, dt__splitter=random;, score=1.000 total time=   0.0s\n",
      "[CV 5/5; 32/36] START dt__criterion=entropy, dt__max_depth=8, dt__splitter=random\n",
      "[CV 5/5; 32/36] END dt__criterion=entropy, dt__max_depth=8, dt__splitter=random;, score=1.000 total time=   0.0s\n",
      "[CV 1/5; 33/36] START dt__criterion=entropy, dt__max_depth=9, dt__splitter=best.\n",
      "[CV 1/5; 33/36] END dt__criterion=entropy, dt__max_depth=9, dt__splitter=best;, score=1.000 total time=   0.0s\n",
      "[CV 2/5; 33/36] START dt__criterion=entropy, dt__max_depth=9, dt__splitter=best.\n",
      "[CV 2/5; 33/36] END dt__criterion=entropy, dt__max_depth=9, dt__splitter=best;, score=1.000 total time=   0.0s\n",
      "[CV 3/5; 33/36] START dt__criterion=entropy, dt__max_depth=9, dt__splitter=best.\n",
      "[CV 3/5; 33/36] END dt__criterion=entropy, dt__max_depth=9, dt__splitter=best;, score=1.000 total time=   0.0s\n",
      "[CV 4/5; 33/36] START dt__criterion=entropy, dt__max_depth=9, dt__splitter=best.\n",
      "[CV 4/5; 33/36] END dt__criterion=entropy, dt__max_depth=9, dt__splitter=best;, score=1.000 total time=   0.0s\n",
      "[CV 5/5; 33/36] START dt__criterion=entropy, dt__max_depth=9, dt__splitter=best.\n",
      "[CV 5/5; 33/36] END dt__criterion=entropy, dt__max_depth=9, dt__splitter=best;, score=1.000 total time=   0.0s\n",
      "[CV 1/5; 34/36] START dt__criterion=entropy, dt__max_depth=9, dt__splitter=random\n",
      "[CV 1/5; 34/36] END dt__criterion=entropy, dt__max_depth=9, dt__splitter=random;, score=1.000 total time=   0.0s\n",
      "[CV 2/5; 34/36] START dt__criterion=entropy, dt__max_depth=9, dt__splitter=random\n",
      "[CV 2/5; 34/36] END dt__criterion=entropy, dt__max_depth=9, dt__splitter=random;, score=1.000 total time=   0.0s\n",
      "[CV 3/5; 34/36] START dt__criterion=entropy, dt__max_depth=9, dt__splitter=random\n",
      "[CV 3/5; 34/36] END dt__criterion=entropy, dt__max_depth=9, dt__splitter=random;, score=1.000 total time=   0.0s\n",
      "[CV 4/5; 34/36] START dt__criterion=entropy, dt__max_depth=9, dt__splitter=random\n",
      "[CV 4/5; 34/36] END dt__criterion=entropy, dt__max_depth=9, dt__splitter=random;, score=1.000 total time=   0.0s\n",
      "[CV 5/5; 34/36] START dt__criterion=entropy, dt__max_depth=9, dt__splitter=random\n",
      "[CV 5/5; 34/36] END dt__criterion=entropy, dt__max_depth=9, dt__splitter=random;, score=1.000 total time=   0.0s\n",
      "[CV 1/5; 35/36] START dt__criterion=entropy, dt__max_depth=10, dt__splitter=best\n",
      "[CV 1/5; 35/36] END dt__criterion=entropy, dt__max_depth=10, dt__splitter=best;, score=1.000 total time=   0.0s\n",
      "[CV 2/5; 35/36] START dt__criterion=entropy, dt__max_depth=10, dt__splitter=best\n",
      "[CV 2/5; 35/36] END dt__criterion=entropy, dt__max_depth=10, dt__splitter=best;, score=1.000 total time=   0.0s\n",
      "[CV 3/5; 35/36] START dt__criterion=entropy, dt__max_depth=10, dt__splitter=best\n",
      "[CV 3/5; 35/36] END dt__criterion=entropy, dt__max_depth=10, dt__splitter=best;, score=1.000 total time=   0.0s\n",
      "[CV 4/5; 35/36] START dt__criterion=entropy, dt__max_depth=10, dt__splitter=best\n",
      "[CV 4/5; 35/36] END dt__criterion=entropy, dt__max_depth=10, dt__splitter=best;, score=1.000 total time=   0.0s\n",
      "[CV 5/5; 35/36] START dt__criterion=entropy, dt__max_depth=10, dt__splitter=best\n",
      "[CV 5/5; 35/36] END dt__criterion=entropy, dt__max_depth=10, dt__splitter=best;, score=1.000 total time=   0.0s\n",
      "[CV 1/5; 36/36] START dt__criterion=entropy, dt__max_depth=10, dt__splitter=random\n",
      "[CV 1/5; 36/36] END dt__criterion=entropy, dt__max_depth=10, dt__splitter=random;, score=1.000 total time=   0.0s\n",
      "[CV 2/5; 36/36] START dt__criterion=entropy, dt__max_depth=10, dt__splitter=random\n",
      "[CV 2/5; 36/36] END dt__criterion=entropy, dt__max_depth=10, dt__splitter=random;, score=1.000 total time=   0.0s\n",
      "[CV 3/5; 36/36] START dt__criterion=entropy, dt__max_depth=10, dt__splitter=random\n",
      "[CV 3/5; 36/36] END dt__criterion=entropy, dt__max_depth=10, dt__splitter=random;, score=1.000 total time=   0.0s\n",
      "[CV 4/5; 36/36] START dt__criterion=entropy, dt__max_depth=10, dt__splitter=random\n",
      "[CV 4/5; 36/36] END dt__criterion=entropy, dt__max_depth=10, dt__splitter=random;, score=1.000 total time=   0.0s\n",
      "[CV 5/5; 36/36] START dt__criterion=entropy, dt__max_depth=10, dt__splitter=random\n",
      "[CV 5/5; 36/36] END dt__criterion=entropy, dt__max_depth=10, dt__splitter=random;, score=1.000 total time=   0.0s\n"
     ]
    },
    {
     "data": {
      "text/plain": [
       "GridSearchCV(cv=StratifiedKFold(n_splits=5, random_state=42, shuffle=True),\n",
       "             estimator=Pipeline(steps=[('dt',\n",
       "                                        DecisionTreeClassifier(random_state=42))]),\n",
       "             param_grid={'dt__criterion': ['gini', 'entropy'],\n",
       "                         'dt__max_depth': range(2, 11),\n",
       "                         'dt__splitter': ['best', 'random']},\n",
       "             scoring='f1_weighted', verbose=10)"
      ]
     },
     "execution_count": 38,
     "metadata": {},
     "output_type": "execute_result"
    }
   ],
   "source": [
    "pipe = Pipeline([(\"dt\", DecisionTreeClassifier(random_state=42))])\n",
    "\n",
    "# ============================================\n",
    "\n",
    "params_grid_dt = {\"dt__criterion\" : [\"gini\", \"entropy\"],\n",
    "                  \"dt__splitter\" : [\"best\", \"random\"],\n",
    "                  \"dt__max_depth\" : range(2, 11)} \n",
    "\n",
    "splitter = StratifiedKFold(n_splits=5, shuffle=True, random_state=42)\n",
    "\n",
    "grid_dt = GridSearchCV(estimator=pipe,\n",
    "                       param_grid=params_grid_dt,\n",
    "                       scoring=\"f1_weighted\",\n",
    "                       cv=splitter,\n",
    "                       verbose=10)\n",
    "\n",
    "grid_dt.fit(X_train, y_train)\n"
   ]
  },
  {
   "cell_type": "code",
   "execution_count": null,
   "metadata": {},
   "outputs": [],
   "source": []
  },
  {
   "cell_type": "markdown",
   "metadata": {},
   "source": [
    "_________________"
   ]
  },
  {
   "cell_type": "code",
   "execution_count": null,
   "metadata": {},
   "outputs": [],
   "source": []
  },
  {
   "cell_type": "code",
   "execution_count": null,
   "metadata": {},
   "outputs": [],
   "source": []
  },
  {
   "cell_type": "code",
   "execution_count": null,
   "metadata": {},
   "outputs": [],
   "source": []
  },
  {
   "cell_type": "markdown",
   "metadata": {},
   "source": [
    "## 6) Árvores de regressão\n",
    "\n",
    "Alguns algoritmos de classificação podem ser utilizados como algoritmos de regressão, inclusive árvores de decisão!\n",
    "\n",
    "As **árvores de regressão** consistem em funções com valores discretos, similar a uma escada, onde cada degrau é o valor de uma folha. [Aqui](https://scikit-learn.org/stable/auto_examples/tree/plot_tree_regression.html) há detalhes sobre a classe do sklearn; e [aqui](https://www.youtube.com/watch?v=g9c66TUylZ4) está o StatQuest sobre árvores de regressão!\n",
    "\n",
    "Considere o seguinte dataset:\n",
    "\n",
    "<img src='https://s3-sa-east-1.amazonaws.com/lcpi/800a4332-e709-4ea3-8c24-959c05c8fd65.png' width=500>\n",
    "\n",
    "O algoritmo irá obter os valores do target como sendo **a média dos valores de cada folha da árvore final**. \n",
    "\n",
    "Visualmente: \n",
    "\n",
    "<img src='https://s3-sa-east-1.amazonaws.com/lcpi/64cb4edd-20e1-486a-8fc9-60e60e1485d5.png' width=500>\n",
    "\n",
    "Para a escolha das melhores divisões: \n",
    "\n",
    "- o algoritmo percorre a médida entre cada par de pontos das features; \n",
    "- define estes valores como divisões (sequencialmente); \n",
    "- para cada divisão experimentada, o algoritmo calcula o MSE;\n",
    "- a melhor divisão é aquela que apresentar o menor erro!\n",
    "\n",
    "Visualmente:\n",
    "\n",
    "<img src='https://s3-sa-east-1.amazonaws.com/lcpi/be58ac8b-5c59-4b9f-be79-e000d060e9e3.png' width=500>\n",
    "\n",
    "<img src='https://s3-sa-east-1.amazonaws.com/lcpi/1f317afd-6119-41a5-849d-cee038403cf2.png' width=500>"
   ]
  },
  {
   "cell_type": "markdown",
   "metadata": {},
   "source": [
    "Outro exemplo de árvore de regressão treinada (note a aparência da hipótese -- são \"setores\", que em uma única dimensão parecem com degraus):\n",
    "\n",
    "<img src=\"https://res.cloudinary.com/practicaldev/image/fetch/s--YryIJN_o--/c_imagga_scale,f_auto,fl_progressive,h_900,q_auto,w_1600/https://thepracticaldev.s3.amazonaws.com/i/7oxf0e3cggdj9jayxeig.png\" width=600>"
   ]
  },
  {
   "cell_type": "markdown",
   "metadata": {},
   "source": [
    "Vamos fazer um modelo de árvore de regressão para precificação de casas!"
   ]
  },
  {
   "cell_type": "markdown",
   "metadata": {},
   "source": [
    "A classe é [DecisionTreeRegressor](https://scikit-learn.org/stable/modules/generated/sklearn.tree.DecisionTreeRegressor.html)"
   ]
  },
  {
   "cell_type": "markdown",
   "metadata": {},
   "source": [
    "# Exercício 3\n",
    "\n",
    "Use o dataset house_prices, aplique o DecisionTreeRegressor. Realize uma otimização de hiperparâmetros da árvore utilizando Grid Search.\n",
    "\n",
    " - 1) Importe o dataset e faça o tratamento e seleção das variáveis;\n",
    " - 2) Faça o split dos dados em treino e teste;\n",
    " - 3) Instancie o modelo no pipeline;\n",
    " - 4) Defina os hiperparâmetros para o Grid Search;\n",
    " - 5) Treine o modelo;\n",
    " - 6) Faça o Gráfico da árvore;"
   ]
  },
  {
   "cell_type": "code",
   "execution_count": 114,
   "metadata": {},
   "outputs": [],
   "source": [
    "df = pd.read_csv(\"house_prices.csv\")"
   ]
  },
  {
   "cell_type": "code",
   "execution_count": null,
   "metadata": {},
   "outputs": [],
   "source": []
  }
 ],
 "metadata": {
  "kernelspec": {
   "display_name": "Python 3 (ipykernel)",
   "language": "python",
   "name": "python3"
  },
  "language_info": {
   "codemirror_mode": {
    "name": "ipython",
    "version": 3
   },
   "file_extension": ".py",
   "mimetype": "text/x-python",
   "name": "python",
   "nbconvert_exporter": "python",
   "pygments_lexer": "ipython3",
   "version": "3.9.7"
  }
 },
 "nbformat": 4,
 "nbformat_minor": 4
}
