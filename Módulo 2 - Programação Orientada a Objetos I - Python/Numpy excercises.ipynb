{
 "cells": [
  {
   "cell_type": "code",
   "execution_count": 1,
   "id": "ae15976e",
   "metadata": {},
   "outputs": [],
   "source": [
    "import numpy as np"
   ]
  },
  {
   "cell_type": "markdown",
   "id": "6e4d6f82",
   "metadata": {},
   "source": [
    "How to create an empty and a full NumPy array?"
   ]
  },
  {
   "cell_type": "code",
   "execution_count": 2,
   "id": "a58b9040",
   "metadata": {},
   "outputs": [
    {
     "name": "stdout",
     "output_type": "stream",
     "text": [
      "empty array\n",
      "[[0 0 0 0]\n",
      " [0 0 0 0]\n",
      " [0 0 0 0]]\n"
     ]
    }
   ],
   "source": [
    "ea = np.empty((3,4), dtype=int)\n",
    "print('empty array')\n",
    "print(ea)"
   ]
  },
  {
   "cell_type": "markdown",
   "id": "abb2a6f4",
   "metadata": {},
   "source": [
    "Create a Numpy array filled with all ones"
   ]
  },
  {
   "cell_type": "code",
   "execution_count": 3,
   "id": "f70bcc5d",
   "metadata": {},
   "outputs": [
    {
     "name": "stdout",
     "output_type": "stream",
     "text": [
      "Matrix a : \n",
      " [[1 1 1]\n",
      " [1 1 1]\n",
      " [1 1 1]]\n"
     ]
    }
   ],
   "source": [
    "a = np.ones([3,3], dtype = int)\n",
    "print(\"Matrix a : \\n\", a)"
   ]
  },
  {
   "cell_type": "markdown",
   "id": "6c4c33fb",
   "metadata": {},
   "source": [
    "Check whether a Numpy array contains a specified row"
   ]
  },
  {
   "cell_type": "code",
   "execution_count": 4,
   "id": "59cc8cc6",
   "metadata": {},
   "outputs": [
    {
     "ename": "NameError",
     "evalue": "name 'numpy' is not defined",
     "output_type": "error",
     "traceback": [
      "\u001b[1;31m---------------------------------------------------------------------------\u001b[0m",
      "\u001b[1;31mNameError\u001b[0m                                 Traceback (most recent call last)",
      "\u001b[1;32m<ipython-input-4-d247454b84fc>\u001b[0m in \u001b[0;36m<module>\u001b[1;34m\u001b[0m\n\u001b[0;32m      1\u001b[0m \u001b[1;31m# create numpy array\u001b[0m\u001b[1;33m\u001b[0m\u001b[1;33m\u001b[0m\u001b[1;33m\u001b[0m\u001b[0m\n\u001b[1;32m----> 2\u001b[1;33m arr = numpy.array([[1, 2, 3, 4, 5],\n\u001b[0m\u001b[0;32m      3\u001b[0m                    \u001b[1;33m[\u001b[0m\u001b[1;36m6\u001b[0m\u001b[1;33m,\u001b[0m \u001b[1;36m7\u001b[0m\u001b[1;33m,\u001b[0m \u001b[1;36m8\u001b[0m\u001b[1;33m,\u001b[0m \u001b[1;36m9\u001b[0m\u001b[1;33m,\u001b[0m \u001b[1;36m10\u001b[0m\u001b[1;33m]\u001b[0m\u001b[1;33m,\u001b[0m\u001b[1;33m\u001b[0m\u001b[1;33m\u001b[0m\u001b[0m\n\u001b[0;32m      4\u001b[0m                    \u001b[1;33m[\u001b[0m\u001b[1;36m11\u001b[0m\u001b[1;33m,\u001b[0m \u001b[1;36m12\u001b[0m\u001b[1;33m,\u001b[0m \u001b[1;36m13\u001b[0m\u001b[1;33m,\u001b[0m \u001b[1;36m14\u001b[0m\u001b[1;33m,\u001b[0m \u001b[1;36m15\u001b[0m\u001b[1;33m]\u001b[0m\u001b[1;33m,\u001b[0m\u001b[1;33m\u001b[0m\u001b[1;33m\u001b[0m\u001b[0m\n\u001b[0;32m      5\u001b[0m                    \u001b[1;33m[\u001b[0m\u001b[1;36m16\u001b[0m\u001b[1;33m,\u001b[0m \u001b[1;36m17\u001b[0m\u001b[1;33m,\u001b[0m \u001b[1;36m18\u001b[0m\u001b[1;33m,\u001b[0m \u001b[1;36m19\u001b[0m\u001b[1;33m,\u001b[0m \u001b[1;36m20\u001b[0m\u001b[1;33m]\u001b[0m\u001b[1;33m\u001b[0m\u001b[1;33m\u001b[0m\u001b[0m\n",
      "\u001b[1;31mNameError\u001b[0m: name 'numpy' is not defined"
     ]
    }
   ],
   "source": [
    "# create numpy array\n",
    "arr = numpy.array([[1, 2, 3, 4, 5],\n",
    "                   [6, 7, 8, 9, 10],\n",
    "                   [11, 12, 13, 14, 15],\n",
    "                   [16, 17, 18, 19, 20]\n",
    "                   ])\n"
   ]
  },
  {
   "cell_type": "markdown",
   "id": "dfc49a92",
   "metadata": {},
   "source": [
    "How to Remove rows in Numpy array that contains non-numeric values?"
   ]
  },
  {
   "cell_type": "code",
   "execution_count": null,
   "id": "4f98e50f",
   "metadata": {},
   "outputs": [],
   "source": [
    "# Creating 2X3 2-D Numpy array\n",
    "n_arr = np.array([[10.5, 22.5, 3.8],\n",
    "                  [41, np.nan, np.nan]])\n",
    "  \n",
    "print(\"Given array:\")\n",
    "print(n_arr)\n",
    "  \n",
    "print(\"\\nRemove all rows containing non-numeric elements\")\n",
    "print(n_arr[~np.isnan(n_arr).any(axis=1)])"
   ]
  },
  {
   "cell_type": "markdown",
   "id": "4c924583",
   "metadata": {},
   "source": [
    "Find the number of occurrences of a sequence in a NumPy array"
   ]
  },
  {
   "cell_type": "code",
   "execution_count": null,
   "id": "25f66644",
   "metadata": {},
   "outputs": [],
   "source": [
    "arr = np.array([[2, 8, 9, 4], \n",
    "                   [9, 4, 9, 4],\n",
    "                   [4, 5, 9, 7],\n",
    "                   [2, 9, 4, 3]])\n",
    "  \n",
    "# Counting sequence\n",
    "contador = repr(arr).count(\"9, 4\")\n",
    "  \n",
    "# view output\n",
    "print(contador)"
   ]
  },
  {
   "cell_type": "markdown",
   "id": "dcd42170",
   "metadata": {},
   "source": [
    "Find the most frequent value in a NumPy array"
   ]
  },
  {
   "cell_type": "code",
   "execution_count": null,
   "id": "31f520c8",
   "metadata": {},
   "outputs": [],
   "source": [
    "# create array\n",
    "x = np.array([1,2,3,4,5,1,2,1,1,1])\n",
    "print(\"Original array:\")\n",
    "print(x)\n",
    "  \n",
    "print(\"Most frequent value in the above array:\")\n",
    "print(np.bincount(x).argmax())"
   ]
  },
  {
   "cell_type": "markdown",
   "id": "6b003c22",
   "metadata": {},
   "source": [
    "POO for loop"
   ]
  },
  {
   "cell_type": "code",
   "execution_count": null,
   "id": "c2765f77",
   "metadata": {},
   "outputs": [],
   "source": [
    "my_list = [1,2,3,4,5,6,7,8,9,10]"
   ]
  },
  {
   "cell_type": "code",
   "execution_count": null,
   "id": "6aaa494e",
   "metadata": {},
   "outputs": [],
   "source": [
    "total = 0\n",
    "for item in my_list:\n",
    "    total += item\n",
    "print(total)"
   ]
  },
  {
   "cell_type": "code",
   "execution_count": null,
   "id": "171d1493",
   "metadata": {},
   "outputs": [],
   "source": [
    "product = 1\n",
    "for i in my_list:\n",
    "    product*=i\n",
    "print(product)"
   ]
  },
  {
   "cell_type": "code",
   "execution_count": null,
   "id": "15c760cd",
   "metadata": {},
   "outputs": [],
   "source": [
    "a = [\"banana\", \"apple\", \"microsoft\"]"
   ]
  },
  {
   "cell_type": "code",
   "execution_count": null,
   "id": "05e9a876",
   "metadata": {},
   "outputs": [],
   "source": [
    "for element in a:\n",
    "    print(element)"
   ]
  },
  {
   "cell_type": "code",
   "execution_count": null,
   "id": "ee9a8513",
   "metadata": {},
   "outputs": [],
   "source": [
    "b = [20,10,5]\n",
    "total = 0\n",
    "for i in b:\n",
    "    total += i \n",
    "print(total)"
   ]
  },
  {
   "cell_type": "code",
   "execution_count": null,
   "id": "6f4b8037",
   "metadata": {},
   "outputs": [],
   "source": [
    "c = list(range(1,5))\n",
    "c"
   ]
  },
  {
   "cell_type": "code",
   "execution_count": null,
   "id": "fba7ef89",
   "metadata": {},
   "outputs": [],
   "source": [
    "total2 = 0\n",
    "for i in range(1,5):\n",
    "    total2 += i\n",
    "print(total2)"
   ]
  },
  {
   "cell_type": "code",
   "execution_count": null,
   "id": "4c1f64a1",
   "metadata": {},
   "outputs": [],
   "source": [
    "list(range(1,8))"
   ]
  },
  {
   "cell_type": "code",
   "execution_count": null,
   "id": "90f57744",
   "metadata": {},
   "outputs": [],
   "source": [
    "total3 = 0\n",
    "for i in range(1,8):\n",
    "    if i % 3 ==0 :\n",
    "        total3 += i\n",
    "print(total3)"
   ]
  },
  {
   "cell_type": "code",
   "execution_count": null,
   "id": "164e38b9",
   "metadata": {},
   "outputs": [],
   "source": [
    "total = 0 \n",
    "for i in range(1,100):\n",
    "    if i % 3==0 or i %5 ==0:\n",
    "        total += i\n",
    "print(total)\n"
   ]
  },
  {
   "cell_type": "code",
   "execution_count": null,
   "id": "925bab74",
   "metadata": {},
   "outputs": [],
   "source": [
    "given_list = [7,5,4,4,3,1,-2,-3,-5,-7]\n",
    "\n",
    "total2 = 0\n",
    "for i in given_list:\n",
    "    if i < 0:\n",
    "        total2 += i\n",
    "print(total2)"
   ]
  },
  {
   "cell_type": "markdown",
   "id": "d554d834",
   "metadata": {},
   "source": [
    "https://www.geeksforgeeks.org/python-numpy-practice-exercises-questions-and-solutions/"
   ]
  },
  {
   "cell_type": "code",
   "execution_count": 12,
   "id": "339e5744",
   "metadata": {},
   "outputs": [
    {
     "name": "stdout",
     "output_type": "stream",
     "text": [
      "(2, 3, 4, 1)\n"
     ]
    }
   ],
   "source": [
    "arr = np.zeros((1,2,3,4))\n",
    "gfg = np.moveaxis(arr,0,-1).shape\n",
    "print(gfg)"
   ]
  },
  {
   "cell_type": "code",
   "execution_count": 13,
   "id": "7853f7f6",
   "metadata": {},
   "outputs": [
    {
     "name": "stdout",
     "output_type": "stream",
     "text": [
      "8\n"
     ]
    }
   ],
   "source": [
    "# Making a random array\n",
    "arr = np.array([[1, 2, 3, 4], [5, 6, 7, 8]])\n",
    " \n",
    "# By default, give the total number of elements.\n",
    "print(np.size(arr))"
   ]
  },
  {
   "cell_type": "code",
   "execution_count": 14,
   "id": "3dec1a43",
   "metadata": {},
   "outputs": [
    {
     "name": "stdout",
     "output_type": "stream",
     "text": [
      "final array [5 4 6 3 2 1]\n"
     ]
    }
   ],
   "source": [
    "# initialising numpy array\n",
    "ini_array = np.array([1, 2, 3, 6, 4, 5])\n",
    " \n",
    "# using shortcut method to reverse\n",
    "res = np.flip(ini_array)\n",
    " \n",
    "# printing result\n",
    "print(\"final array\", str(res))"
   ]
  },
  {
   "cell_type": "code",
   "execution_count": 15,
   "id": "500ee9e9",
   "metadata": {},
   "outputs": [
    {
     "name": "stdout",
     "output_type": "stream",
     "text": [
      "9\n"
     ]
    }
   ],
   "source": [
    "# make a matrix with numpy\n",
    "gfg = np.matrix('[1, 2, 3; 4, 5, 6; 7, 8, 9]')\n",
    "          \n",
    "# applying matrix.max() method\n",
    "geeks = gfg.max()\n",
    "    \n",
    "print(geeks)"
   ]
  },
  {
   "cell_type": "code",
   "execution_count": 18,
   "id": "6762758f",
   "metadata": {},
   "outputs": [
    {
     "name": "stdout",
     "output_type": "stream",
     "text": [
      "[[1 2 3]\n",
      " [4 5 6]\n",
      " [7 8 9]]\n",
      "(3, 3)\n"
     ]
    }
   ],
   "source": [
    "matrix= np.arange(1,10).reshape((3, 3))\n",
    "  \n",
    "# Original matrix\n",
    "print(matrix)\n",
    "  \n",
    "# Number of rows and columns of the said matrix\n",
    "print(matrix.shape)"
   ]
  },
  {
   "cell_type": "code",
   "execution_count": 21,
   "id": "6d8f89bc",
   "metadata": {},
   "outputs": [
    {
     "ename": "LinAlgError",
     "evalue": "1-dimensional array given. Array must be at least two-dimensional",
     "output_type": "error",
     "traceback": [
      "\u001b[1;31m---------------------------------------------------------------------------\u001b[0m",
      "\u001b[1;31mLinAlgError\u001b[0m                               Traceback (most recent call last)",
      "\u001b[1;32m<ipython-input-21-2f474728ea06>\u001b[0m in \u001b[0;36m<module>\u001b[1;34m\u001b[0m\n\u001b[0;32m     11\u001b[0m     \u001b[0mlineNum\u001b[0m\u001b[1;33m+=\u001b[0m\u001b[1;36m1\u001b[0m\u001b[1;33m\u001b[0m\u001b[1;33m\u001b[0m\u001b[0m\n\u001b[0;32m     12\u001b[0m \u001b[1;33m\u001b[0m\u001b[0m\n\u001b[1;32m---> 13\u001b[1;33m \u001b[0mprint\u001b[0m\u001b[1;33m(\u001b[0m\u001b[0mnp\u001b[0m\u001b[1;33m.\u001b[0m\u001b[0mlinalg\u001b[0m\u001b[1;33m.\u001b[0m\u001b[0mdet\u001b[0m\u001b[1;33m(\u001b[0m\u001b[0mmatrix\u001b[0m\u001b[1;33m)\u001b[0m\u001b[1;33m)\u001b[0m\u001b[1;33m\u001b[0m\u001b[1;33m\u001b[0m\u001b[0m\n\u001b[0m",
      "\u001b[1;32m<__array_function__ internals>\u001b[0m in \u001b[0;36mdet\u001b[1;34m(*args, **kwargs)\u001b[0m\n",
      "\u001b[1;32m~\\anaconda3\\lib\\site-packages\\numpy\\linalg\\linalg.py\u001b[0m in \u001b[0;36mdet\u001b[1;34m(a)\u001b[0m\n\u001b[0;32m   2152\u001b[0m     \"\"\"\n\u001b[0;32m   2153\u001b[0m     \u001b[0ma\u001b[0m \u001b[1;33m=\u001b[0m \u001b[0masarray\u001b[0m\u001b[1;33m(\u001b[0m\u001b[0ma\u001b[0m\u001b[1;33m)\u001b[0m\u001b[1;33m\u001b[0m\u001b[1;33m\u001b[0m\u001b[0m\n\u001b[1;32m-> 2154\u001b[1;33m     \u001b[0m_assert_stacked_2d\u001b[0m\u001b[1;33m(\u001b[0m\u001b[0ma\u001b[0m\u001b[1;33m)\u001b[0m\u001b[1;33m\u001b[0m\u001b[1;33m\u001b[0m\u001b[0m\n\u001b[0m\u001b[0;32m   2155\u001b[0m     \u001b[0m_assert_stacked_square\u001b[0m\u001b[1;33m(\u001b[0m\u001b[0ma\u001b[0m\u001b[1;33m)\u001b[0m\u001b[1;33m\u001b[0m\u001b[1;33m\u001b[0m\u001b[0m\n\u001b[0;32m   2156\u001b[0m     \u001b[0mt\u001b[0m\u001b[1;33m,\u001b[0m \u001b[0mresult_t\u001b[0m \u001b[1;33m=\u001b[0m \u001b[0m_commonType\u001b[0m\u001b[1;33m(\u001b[0m\u001b[0ma\u001b[0m\u001b[1;33m)\u001b[0m\u001b[1;33m\u001b[0m\u001b[1;33m\u001b[0m\u001b[0m\n",
      "\u001b[1;32m~\\anaconda3\\lib\\site-packages\\numpy\\linalg\\linalg.py\u001b[0m in \u001b[0;36m_assert_stacked_2d\u001b[1;34m(*arrays)\u001b[0m\n\u001b[0;32m    194\u001b[0m     \u001b[1;32mfor\u001b[0m \u001b[0ma\u001b[0m \u001b[1;32min\u001b[0m \u001b[0marrays\u001b[0m\u001b[1;33m:\u001b[0m\u001b[1;33m\u001b[0m\u001b[1;33m\u001b[0m\u001b[0m\n\u001b[0;32m    195\u001b[0m         \u001b[1;32mif\u001b[0m \u001b[0ma\u001b[0m\u001b[1;33m.\u001b[0m\u001b[0mndim\u001b[0m \u001b[1;33m<\u001b[0m \u001b[1;36m2\u001b[0m\u001b[1;33m:\u001b[0m\u001b[1;33m\u001b[0m\u001b[1;33m\u001b[0m\u001b[0m\n\u001b[1;32m--> 196\u001b[1;33m             raise LinAlgError('%d-dimensional array given. Array must be '\n\u001b[0m\u001b[0;32m    197\u001b[0m                     'at least two-dimensional' % a.ndim)\n\u001b[0;32m    198\u001b[0m \u001b[1;33m\u001b[0m\u001b[0m\n",
      "\u001b[1;31mLinAlgError\u001b[0m: 1-dimensional array given. Array must be at least two-dimensional"
     ]
    }
   ],
   "source": [
    "import numpy as np\n",
    "import sys\n",
    "\n",
    "lineNum = 0\n",
    "matrix = []\n",
    "for line in sys.stdin:\n",
    "    if lineNum==0:\n",
    "        m_size = int(line)\n",
    "    else:\n",
    "        matrix.append(map(float,line.split()))\n",
    "    lineNum+=1\n",
    "\n",
    "print(np.linalg.det(matrix))"
   ]
  },
  {
   "cell_type": "code",
   "execution_count": null,
   "id": "d41f9bdd",
   "metadata": {},
   "outputs": [],
   "source": []
  }
 ],
 "metadata": {
  "kernelspec": {
   "display_name": "Python 3",
   "language": "python",
   "name": "python3"
  },
  "language_info": {
   "codemirror_mode": {
    "name": "ipython",
    "version": 3
   },
   "file_extension": ".py",
   "mimetype": "text/x-python",
   "name": "python",
   "nbconvert_exporter": "python",
   "pygments_lexer": "ipython3",
   "version": "3.8.8"
  }
 },
 "nbformat": 4,
 "nbformat_minor": 5
}
