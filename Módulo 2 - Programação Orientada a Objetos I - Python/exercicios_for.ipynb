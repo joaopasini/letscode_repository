{
 "cells": [
  {
   "cell_type": "code",
   "execution_count": 6,
   "id": "910888b0",
   "metadata": {},
   "outputs": [
    {
     "name": "stdout",
     "output_type": "stream",
     "text": [
      "1\n",
      "2\n",
      "3\n",
      "4\n",
      "5\n",
      "6\n",
      "7\n",
      "8\n",
      "9\n",
      "10\n"
     ]
    }
   ],
   "source": [
    "i = 1\n",
    "while i <= 10:\n",
    "    print(i)\n",
    "    i += 1"
   ]
  },
  {
   "cell_type": "code",
   "execution_count": 8,
   "id": "0ff80d84",
   "metadata": {},
   "outputs": [
    {
     "name": "stdout",
     "output_type": "stream",
     "text": [
      "Number Pattern\n",
      "1 \n",
      "1 2 \n",
      "1 2 3 \n",
      "1 2 3 4 \n",
      "1 2 3 4 5 \n"
     ]
    }
   ],
   "source": [
    "print(\"Number Pattern\")\n",
    "# Decide row count (our pattern contains 5 rows)\n",
    "row = 5\n",
    "# start: 1\n",
    "# stop: row+1\n",
    "# step: 1\n",
    "# run loop 5 times\n",
    "for i in range(1, row +1, 1):\n",
    "    # Run inner loop i+1 times\n",
    "    for j in range(1, i+1):\n",
    "        print(j, end=' ')\n",
    "        # empty line after each row\n",
    "\n",
    "        print(\"\")"
   ]
  },
  {
   "cell_type": "code",
   "execution_count": 15,
   "id": "98c04501",
   "metadata": {},
   "outputs": [
    {
     "name": "stdout",
     "output_type": "stream",
     "text": [
      "Enter a number: 10\n",
      "Sum is:  55\n"
     ]
    }
   ],
   "source": [
    "n = int(input('Enter a number: '))\n",
    "x = sum(range(1,n+1,1))\n",
    "print('Sum is: ', x)"
   ]
  },
  {
   "cell_type": "code",
   "execution_count": 13,
   "id": "524e977d",
   "metadata": {},
   "outputs": [
    {
     "name": "stdout",
     "output_type": "stream",
     "text": [
      "Enter a number: 7\n",
      "7\n",
      "14\n",
      "21\n",
      "28\n",
      "35\n",
      "42\n",
      "49\n",
      "56\n",
      "63\n",
      "70\n"
     ]
    }
   ],
   "source": [
    "n = int(input('Enter a number: ')) \n",
    "for i in range(1,11,1):\n",
    "    p = n * i\n",
    "    print(p)"
   ]
  },
  {
   "cell_type": "code",
   "execution_count": 19,
   "id": "8b5e70a0",
   "metadata": {},
   "outputs": [
    {
     "name": "stdout",
     "output_type": "stream",
     "text": [
      "75\n",
      "150\n",
      "145\n"
     ]
    }
   ],
   "source": [
    "numbers = [12, 75, 150, 180, 145, 525, 50]\n",
    "# iterate each item on a list\n",
    "for item in numbers:\n",
    "    if item > 500:\n",
    "        break\n",
    "    elif item > 150:\n",
    "        continue\n",
    "# check if number is divisible by 5\n",
    "    elif item % 5 == 0:\n",
    "        print(item)"
   ]
  },
  {
   "cell_type": "code",
   "execution_count": 32,
   "id": "7222dfaa",
   "metadata": {},
   "outputs": [
    {
     "name": "stdout",
     "output_type": "stream",
     "text": [
      "Total digits are:  20\n"
     ]
    }
   ],
   "source": [
    "num = 75869786465497648648\n",
    "count = 0\n",
    "while num !=0:\n",
    "    num = num // 10\n",
    "    count = count +  1\n",
    "print(\"Total digits are: \",count)"
   ]
  },
  {
   "cell_type": "code",
   "execution_count": 44,
   "id": "28078137",
   "metadata": {},
   "outputs": [
    {
     "name": "stdout",
     "output_type": "stream",
     "text": [
      "5 4 3 2 1 \n",
      "4 3 2 1 \n",
      "3 2 1 \n",
      "2 1 \n",
      "1 \n",
      "\n"
     ]
    }
   ],
   "source": [
    "n = 5\n",
    "k = 5\n",
    "for i in range(0,6):\n",
    "    for j in range(k-i, 0, -1):\n",
    "        print(j, end=\" \")\n",
    "    print()"
   ]
  },
  {
   "cell_type": "code",
   "execution_count": 49,
   "id": "827320c5",
   "metadata": {},
   "outputs": [
    {
     "name": "stdout",
     "output_type": "stream",
     "text": [
      "50\n",
      "40\n",
      "30\n",
      "20\n",
      "10\n"
     ]
    }
   ],
   "source": [
    "list1 = [10,20,30,40,50]\n",
    "new_list = reversed(list1)\n",
    "for i in new_list:\n",
    "    print(i)"
   ]
  },
  {
   "cell_type": "code",
   "execution_count": 2,
   "id": "d1c02703",
   "metadata": {},
   "outputs": [
    {
     "name": "stdout",
     "output_type": "stream",
     "text": [
      "-10\n",
      "-9\n",
      "-8\n",
      "-7\n",
      "-6\n",
      "-5\n",
      "-4\n",
      "-3\n",
      "-2\n",
      "-1\n"
     ]
    }
   ],
   "source": [
    "i = -10\n",
    "while i <= -1:\n",
    "    print(i)\n",
    "    i += 1"
   ]
  },
  {
   "cell_type": "code",
   "execution_count": 2,
   "id": "0498bee8",
   "metadata": {},
   "outputs": [
    {
     "name": "stdout",
     "output_type": "stream",
     "text": [
      "Prime numbers between 25 and 50 are:\n",
      "29\n",
      "31\n",
      "37\n",
      "41\n",
      "43\n",
      "47\n"
     ]
    }
   ],
   "source": [
    "start = 25\n",
    "end = 50\n",
    "print(\"Prime numbers between\", start, \"and\", end, \"are:\")\n",
    "\n",
    "for num in range(start, end +1):\n",
    "    # all prime numbers are greater than 1\n",
    "    # if number is less than or equal to 1, it is not prime\n",
    "    if num > 1: \n",
    "        for i in range(2, num):\n",
    "            #check for factors\n",
    "            if (num % i) ==0:\n",
    "                # not a prime number so break inner loop and \n",
    "                # look for next number\n",
    "                break\n",
    "        else: \n",
    "            print(num)"
   ]
  },
  {
   "cell_type": "code",
   "execution_count": 8,
   "id": "732ce27a",
   "metadata": {},
   "outputs": [
    {
     "name": "stdout",
     "output_type": "stream",
     "text": [
      "beginning of interval: 25\n",
      "end of interval: 50\n",
      "29\n",
      "31\n",
      "37\n",
      "41\n",
      "43\n",
      "47\n"
     ]
    }
   ],
   "source": [
    "b = int(input(\"beginning of interval: \"))\n",
    "e = int(input(\"end of interval: \"))\n",
    "\n",
    "for num in range(b, e+1):\n",
    "    if num > 1:\n",
    "        for n in range(2, num):\n",
    "            if (num%n) == 0:\n",
    "                \n",
    "                break\n",
    "        else: \n",
    "            print(num)"
   ]
  },
  {
   "cell_type": "code",
   "execution_count": 31,
   "id": "13eb9c97",
   "metadata": {},
   "outputs": [
    {
     "name": "stdout",
     "output_type": "stream",
     "text": [
      "Enter a number greater than zero: 5\n",
      "120\n"
     ]
    }
   ],
   "source": [
    "factorial = 1\n",
    "num = int(input(\"Enter a number greater than zero: \"))\n",
    "for i in range(1, num+1):\n",
    "    factorial = factorial * i\n",
    "print(factorial)"
   ]
  },
  {
   "cell_type": "code",
   "execution_count": 39,
   "id": "bebca206",
   "metadata": {},
   "outputs": [
    {
     "name": "stdout",
     "output_type": "stream",
     "text": [
      "Enter a number: 1234\n",
      "4321\n"
     ]
    }
   ],
   "source": [
    "num = input('Enter a number: ')\n",
    "print(str(num)[::-1])"
   ]
  },
  {
   "cell_type": "code",
   "execution_count": 4,
   "id": "2099eb2e",
   "metadata": {},
   "outputs": [
    {
     "data": {
      "text/plain": [
       "[20, 40, 60, 80, 100]"
      ]
     },
     "execution_count": 4,
     "metadata": {},
     "output_type": "execute_result"
    }
   ],
   "source": [
    "my_list = [10, 20, 30, 40, 50, 60, 70, 80, 90, 100]\n",
    "my_list[1::2]"
   ]
  },
  {
   "cell_type": "code",
   "execution_count": 13,
   "id": "3926feab",
   "metadata": {},
   "outputs": [
    {
     "name": "stdout",
     "output_type": "stream",
     "text": [
      "The current number is:  1 and the cube is 1\n",
      "The current number is:  2 and the cube is 8\n",
      "The current number is:  3 and the cube is 27\n",
      "The current number is:  4 and the cube is 64\n",
      "The current number is:  5 and the cube is 125\n",
      "The current number is:  6 and the cube is 216\n"
     ]
    }
   ],
   "source": [
    "input_number = 6\n",
    "for i in range(1,input_number+1):\n",
    "    print(\"The current number is: \", i, \"and the cube is\",(i*i*i))"
   ]
  },
  {
   "cell_type": "code",
   "execution_count": 23,
   "id": "46546d17",
   "metadata": {},
   "outputs": [
    {
     "name": "stdout",
     "output_type": "stream",
     "text": [
      "*\r\n",
      "**\r\n",
      "***\r\n",
      "****\r\n",
      "*****\r\n",
      "****\r\n",
      "***\r\n",
      "**\r\n",
      "*\r\n",
      "\r\n"
     ]
    }
   ],
   "source": [
    "rows = 5\n",
    "for i in range(0,rows):\n",
    "    for j in range(0,i+1):\n",
    "        print(\"*\", end='')\n",
    "    print('\\r')\n",
    "    \n",
    "for i in range(rows, 0, -1):\n",
    "    for j in range(0,i-1):\n",
    "        print('*', end='')\n",
    "    print('\\r')"
   ]
  },
  {
   "cell_type": "code",
   "execution_count": null,
   "id": "7dcf08f8",
   "metadata": {},
   "outputs": [],
   "source": []
  },
  {
   "cell_type": "markdown",
   "id": "14dd247e",
   "metadata": {},
   "source": [
    "## Continuar daqui...\n",
    "\n",
    "https://pynative.com/python-if-else-and-for-loop-exercise-with-solutions/#h-exercise-1-print-first-10-natural-numbers-using-while-loop"
   ]
  },
  {
   "cell_type": "code",
   "execution_count": null,
   "id": "86f5f1b8",
   "metadata": {},
   "outputs": [],
   "source": []
  },
  {
   "cell_type": "code",
   "execution_count": null,
   "id": "33287116",
   "metadata": {},
   "outputs": [],
   "source": []
  }
 ],
 "metadata": {
  "kernelspec": {
   "display_name": "Python 3",
   "language": "python",
   "name": "python3"
  },
  "language_info": {
   "codemirror_mode": {
    "name": "ipython",
    "version": 3
   },
   "file_extension": ".py",
   "mimetype": "text/x-python",
   "name": "python",
   "nbconvert_exporter": "python",
   "pygments_lexer": "ipython3",
   "version": "3.8.8"
  }
 },
 "nbformat": 4,
 "nbformat_minor": 5
}
