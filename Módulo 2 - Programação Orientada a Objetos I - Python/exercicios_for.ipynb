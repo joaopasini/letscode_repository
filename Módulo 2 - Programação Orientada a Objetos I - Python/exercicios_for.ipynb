{
 "cells": [
  {
   "cell_type": "code",
   "execution_count": 6,
   "id": "910888b0",
   "metadata": {},
   "outputs": [
    {
     "name": "stdout",
     "output_type": "stream",
     "text": [
      "1\n",
      "2\n",
      "3\n",
      "4\n",
      "5\n",
      "6\n",
      "7\n",
      "8\n",
      "9\n",
      "10\n"
     ]
    }
   ],
   "source": [
    "i = 1\n",
    "while i <= 10:\n",
    "    print(i)\n",
    "    i += 1"
   ]
  },
  {
   "cell_type": "code",
   "execution_count": 8,
   "id": "0ff80d84",
   "metadata": {},
   "outputs": [
    {
     "name": "stdout",
     "output_type": "stream",
     "text": [
      "Number Pattern\n",
      "1 \n",
      "1 2 \n",
      "1 2 3 \n",
      "1 2 3 4 \n",
      "1 2 3 4 5 \n"
     ]
    }
   ],
   "source": [
    "print(\"Number Pattern\")\n",
    "# Decide row count (our pattern contains 5 rows)\n",
    "row = 5\n",
    "# start: 1\n",
    "# stop: row+1\n",
    "# step: 1\n",
    "# run loop 5 times\n",
    "for i in range(1, row +1, 1):\n",
    "    # Run inner loop i+1 times\n",
    "    for j in range(1, i+1):\n",
    "        print(j, end=' ')\n",
    "        # empty line after each row\n",
    "\n",
    "        print(\"\")"
   ]
  },
  {
   "cell_type": "code",
   "execution_count": 15,
   "id": "98c04501",
   "metadata": {},
   "outputs": [
    {
     "name": "stdout",
     "output_type": "stream",
     "text": [
      "Enter a number: 10\n",
      "Sum is:  55\n"
     ]
    }
   ],
   "source": [
    "n = int(input('Enter a number: '))\n",
    "x = sum(range(1,n+1,1))\n",
    "print('Sum is: ', x)"
   ]
  },
  {
   "cell_type": "markdown",
   "id": "14dd247e",
   "metadata": {},
   "source": [
    "## Continuar daqui...\n",
    "\n",
    "https://pynative.com/python-if-else-and-for-loop-exercise-with-solutions/#h-exercise-1-print-first-10-natural-numbers-using-while-loop"
   ]
  },
  {
   "cell_type": "code",
   "execution_count": null,
   "id": "524e977d",
   "metadata": {},
   "outputs": [],
   "source": []
  }
 ],
 "metadata": {
  "kernelspec": {
   "display_name": "Python 3",
   "language": "python",
   "name": "python3"
  },
  "language_info": {
   "codemirror_mode": {
    "name": "ipython",
    "version": 3
   },
   "file_extension": ".py",
   "mimetype": "text/x-python",
   "name": "python",
   "nbconvert_exporter": "python",
   "pygments_lexer": "ipython3",
   "version": "3.8.8"
  }
 },
 "nbformat": 4,
 "nbformat_minor": 5
}
