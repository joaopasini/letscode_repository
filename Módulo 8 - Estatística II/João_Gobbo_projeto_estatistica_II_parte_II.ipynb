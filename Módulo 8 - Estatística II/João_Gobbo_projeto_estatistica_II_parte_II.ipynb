{
 "cells": [
  {
   "cell_type": "markdown",
   "id": "51b21752",
   "metadata": {},
   "source": [
    "# Projeto de Estatística II\n",
    "\n",
    "\n",
    "## Parte II - Regressão Logística e Hipóteses mais complexas\n",
    "\n",
    "-------------------------------\n",
    "\n",
    "**Instruções:**\n",
    "\n",
    "- A segunda parte do projeto engloba a avliação dos tópicos de Regressão Logística e Hipóteses mais complexas.\n",
    "- Ela deve ser entregue até o dia 05/05/2022.\n",
    "- Para a entrega, salve seu notebook na pasta Projetos do nosso drive com o nome do notebook com o seguinte padrão: [primeiro nome]_[sobrenome]_projeto_estatistica_II_parteII.ipynb\n",
    "- A avaliação será registrada nos notebooks em formato de comentários.\n",
    "-------------------------------"
   ]
  },
  {
   "cell_type": "markdown",
   "id": "5b0391d2",
   "metadata": {},
   "source": [
    "1. Treine um um modelo de regressão logística para o dataset 'Pima Indians Diabetes Database' (diabetes.csv) com o objetivo de prever diagnosticamente se um paciente tem ou não diabetes. Maiores detalhes sobre o dataset podem ser encontrados [aqui](https://www.kaggle.com/datasets/uciml/pima-indians-diabetes-database)."
   ]
  },
  {
   "cell_type": "markdown",
   "id": "4faba0fb",
   "metadata": {},
   "source": [
    "2. Após ter treinado o modelo, realize a sua avaliação com as ferramentas que foram apresentadas nas aulas."
   ]
  },
  {
   "cell_type": "markdown",
   "id": "c830df85",
   "metadata": {},
   "source": [
    "3. O cutoff default (0.5) retorna a maior acurácia? Qual é o cutoff que retorna o mesmo valor para o precision e o recall? Qual é esse valor?"
   ]
  },
  {
   "cell_type": "markdown",
   "id": "21c8c6d1",
   "metadata": {},
   "source": [
    "4. Crie um modelo de Regressão logistica para o mesmo dataset utilizando polynomial features com degree=2. Avalie o modelo e compare com o resultado do modelo anterior."
   ]
  }
 ],
 "metadata": {
  "kernelspec": {
   "display_name": "Python 3 (ipykernel)",
   "language": "python",
   "name": "python3"
  },
  "language_info": {
   "codemirror_mode": {
    "name": "ipython",
    "version": 3
   },
   "file_extension": ".py",
   "mimetype": "text/x-python",
   "name": "python",
   "nbconvert_exporter": "python",
   "pygments_lexer": "ipython3",
   "version": "3.9.7"
  }
 },
 "nbformat": 4,
 "nbformat_minor": 5
}
