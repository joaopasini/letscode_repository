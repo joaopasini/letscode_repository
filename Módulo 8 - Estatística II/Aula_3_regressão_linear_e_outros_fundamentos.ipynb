{
 "cells": [
  {
   "cell_type": "markdown",
   "metadata": {
    "id": "AWCDaR2phU_l"
   },
   "source": [
    "# Aula 3 - Regressão linear\n",
    "\n",
    "Na aula de hoje, vamos explorar os seguintes tópicos em Python:\n",
    "\n",
    "- 1) Introdução\n",
    "- 2) Regressão linear simples\n",
    "- 3) Regressão linear múltipla\n",
    "- 4) Overfitting"
   ]
  },
  {
   "cell_type": "markdown",
   "metadata": {
    "id": "Y1mBXPqrhU_r"
   },
   "source": [
    "____\n",
    "____\n",
    "____"
   ]
  },
  {
   "cell_type": "markdown",
   "metadata": {
    "id": "9l3dtK5ZhU_s"
   },
   "source": [
    "## 1) Introdução\n",
    "\n",
    "Imagine que você quer vender sua casa.\n",
    "\n",
    "Você sabe os atributos da sua casa: quantos cômodos têm, quantos carros cabem na garagem, qual é a área construída, qual sua localidade, etc.\n",
    "\n",
    "Agora, a pergunta é: qual seria o melhor preço pra você colocá-la a venda, ou seja, quanto de fato ela vale?\n",
    "\n",
    "Você pode solicitar a avaliação de um corretor de imóveis (contando com a experiência dele), ou então...\n",
    "\n",
    "...fazer um modelo de **Machine Learning**, que, com base nos atributos e preços de diversas outras casas, pode fazer uma **predição** sobre o preço adequado da sua casa!\n",
    "\n",
    "Para resolver este problema, podemos utilizar um dos mais simples e importantes algoritmos de machine learning: a **Regressão Linear!**\n",
    "\n",
    "____"
   ]
  },
  {
   "cell_type": "markdown",
   "metadata": {
    "id": "7az_kJW0hU_u"
   },
   "source": [
    "Para introduzirmos as ideias, vamos usar um [dataset de preço de casas](https://www.kaggle.com/c/house-prices-advanced-regression-techniques/data).\n",
    "\n",
    "Esta base de dados contém **79 features** (+ 1 ID), que são as características de cada uma das casas listadas; e **1 target**, que é o preço pelo qual aquela casa foi vendida.\n",
    "\n",
    "Por termos o target disponível, estamos trabalhando com um problema de **aprendizagem supervisionada**.\n",
    "\n",
    "Para o significado de cada uma das features, e os valores que elas podem assumir, veja a página acima.\n",
    "\n",
    "**Vamos ler a base e começar a explorá-la!**"
   ]
  },
  {
   "cell_type": "code",
   "execution_count": 1,
   "metadata": {
    "ExecuteTime": {
     "end_time": "2022-01-20T00:14:28.833363Z",
     "start_time": "2022-01-20T00:14:22.694616Z"
    },
    "id": "HpS9QUW_hU_w"
   },
   "outputs": [],
   "source": [
    "# importe as principais bibliotecas de análise de dados\n",
    "import pandas as pd\n",
    "import numpy as np\n",
    "\n",
    "import matplotlib.pyplot as plt\n",
    "import seaborn as sns"
   ]
  },
  {
   "cell_type": "code",
   "execution_count": 2,
   "metadata": {
    "ExecuteTime": {
     "end_time": "2022-01-20T00:14:28.941393Z",
     "start_time": "2022-01-20T00:14:28.837364Z"
    },
    "id": "ObkhirDehU_2"
   },
   "outputs": [],
   "source": [
    "# leia a base \"house_prices\"\n",
    "df = pd.read_csv('house_prices.csv')"
   ]
  },
  {
   "cell_type": "code",
   "execution_count": null,
   "metadata": {
    "ExecuteTime": {
     "end_time": "2022-01-20T00:14:29.147274Z",
     "start_time": "2022-01-20T00:14:29.074317Z"
    },
    "id": "LE47cqZMhU_6",
    "outputId": "91cd4012-23da-49a6-a3dd-68571c2c59bd"
   },
   "outputs": [],
   "source": [
    "# dê uma olhada nas 5 primeiras linhas\n",
    "df.head()"
   ]
  },
  {
   "cell_type": "code",
   "execution_count": null,
   "metadata": {
    "ExecuteTime": {
     "end_time": "2022-01-20T00:14:29.302189Z",
     "start_time": "2022-01-20T00:14:29.149272Z"
    },
    "id": "RLOM8LTjhU_9",
    "outputId": "e0ef19ea-3f9b-47bf-e9c6-cd688f62a180",
    "scrolled": false
   },
   "outputs": [],
   "source": [
    "# dê uma olhada na estrutura das colunas\n",
    "df.info()"
   ]
  },
  {
   "cell_type": "code",
   "execution_count": null,
   "metadata": {
    "ExecuteTime": {
     "end_time": "2022-01-20T00:14:29.721947Z",
     "start_time": "2022-01-20T00:14:29.306185Z"
    },
    "id": "yNH1ebTMhU_-",
    "outputId": "c1bc5cfc-6000-45b9-b872-7c1790840b0f"
   },
   "outputs": [],
   "source": [
    "# algumas estatísticas rápidas?\n",
    "df.describe()"
   ]
  },
  {
   "cell_type": "code",
   "execution_count": null,
   "metadata": {
    "ExecuteTime": {
     "end_time": "2022-01-20T00:14:29.752926Z",
     "start_time": "2022-01-20T00:14:29.726946Z"
    },
    "id": "v-ygbxZ7hU__",
    "outputId": "30fb36a1-c850-4b05-a27f-a6d4260234d2"
   },
   "outputs": [],
   "source": [
    "#estatísticas do target?\n",
    "df['SalePrice'].describe()"
   ]
  },
  {
   "cell_type": "code",
   "execution_count": null,
   "metadata": {
    "ExecuteTime": {
     "end_time": "2022-01-20T00:14:29.853884Z",
     "start_time": "2022-01-20T00:14:29.756927Z"
    },
    "id": "KVdl2R9zhU__"
   },
   "outputs": [],
   "source": [
    "# há dados missing?\n",
    "nulos = df.isnull().sum()"
   ]
  },
  {
   "cell_type": "code",
   "execution_count": null,
   "metadata": {
    "ExecuteTime": {
     "end_time": "2022-01-20T00:14:29.941820Z",
     "start_time": "2022-01-20T00:14:29.866866Z"
    },
    "id": "O1SCBWUXhVAA",
    "outputId": "9fa2f835-b283-473f-f339-0bf3f94c607b"
   },
   "outputs": [],
   "source": [
    "#absoluto\n",
    "nulos"
   ]
  },
  {
   "cell_type": "code",
   "execution_count": null,
   "metadata": {
    "ExecuteTime": {
     "end_time": "2022-01-20T00:14:30.019777Z",
     "start_time": "2022-01-20T00:14:29.952815Z"
    },
    "id": "nrX9gxSahVAA"
   },
   "outputs": [],
   "source": [
    "#percentual\n",
    "nulos_pct = nulos/df.shape[0]"
   ]
  },
  {
   "cell_type": "code",
   "execution_count": null,
   "metadata": {
    "ExecuteTime": {
     "end_time": "2022-01-20T00:14:30.162210Z",
     "start_time": "2022-01-20T00:14:30.023774Z"
    },
    "id": "tj1OcmvshVAA",
    "outputId": "d55f2d6a-8bb0-41f8-f5c2-a751841c287a"
   },
   "outputs": [],
   "source": [
    "nulos_pct"
   ]
  },
  {
   "cell_type": "code",
   "execution_count": null,
   "metadata": {
    "ExecuteTime": {
     "end_time": "2022-01-20T00:14:30.270150Z",
     "start_time": "2022-01-20T00:14:30.165209Z"
    },
    "id": "UBjLLaHRhVAB",
    "outputId": "ec78c3cb-190e-428f-98b0-99ea33859eb9"
   },
   "outputs": [],
   "source": [
    "nulos_pct[nulos_pct>0.5]"
   ]
  },
  {
   "cell_type": "markdown",
   "metadata": {
    "id": "LALh4EEMhVAD"
   },
   "source": [
    "Por enquanto, não vamos nos preocupar com os dados missing, pois vamos usar apenas uma feature no nosso modelo inicial.\n",
    "\n",
    "Aproveite para depois explorar os dados da forma que quiser!\n",
    "\n",
    "Por enquanto, vamos dar uma olhada na coluna target!"
   ]
  },
  {
   "cell_type": "code",
   "execution_count": null,
   "metadata": {
    "ExecuteTime": {
     "end_time": "2022-01-20T00:14:37.695644Z",
     "start_time": "2022-01-20T00:14:36.736817Z"
    },
    "id": "rRUSM3QmhVAF",
    "outputId": "ef78d372-24b2-4785-81de-204374156fb1"
   },
   "outputs": [],
   "source": [
    "# dê uma olhada na distribuição dos preços \"SalePrice\"\n",
    "sns.histplot(data=df, x=\"SalePrice\", kde=True)"
   ]
  },
  {
   "cell_type": "code",
   "execution_count": null,
   "metadata": {
    "ExecuteTime": {
     "end_time": "2022-01-20T00:14:37.710637Z",
     "start_time": "2022-01-20T00:14:37.698645Z"
    },
    "id": "RTPI8CBJhVAH",
    "outputId": "61efd667-8aa8-4469-dc5a-f242409e908e"
   },
   "outputs": [],
   "source": [
    "#skewness\n",
    "df[\"SalePrice\"].skew()"
   ]
  },
  {
   "cell_type": "markdown",
   "metadata": {
    "id": "xgPv3ztBhVAL"
   },
   "source": [
    "Fica evidente que a distribuição é desviada para a direita.\n",
    "\n",
    "Vamos tentar alterar isso na próximas versões do modelo para ver se teremos ganhos de performance!\n",
    "\n",
    "Por enquanto, seguimos assim."
   ]
  },
  {
   "cell_type": "code",
   "execution_count": null,
   "metadata": {
    "ExecuteTime": {
     "end_time": "2022-01-20T00:14:39.094230Z",
     "start_time": "2022-01-20T00:14:38.819148Z"
    },
    "id": "b_4KrvpPhVAL",
    "scrolled": true
   },
   "outputs": [],
   "source": [
    "# Dê uma olhada na correlação entre as variáveis\n",
    "\n",
    "correlacao = df.corr(method='spearman')"
   ]
  },
  {
   "cell_type": "code",
   "execution_count": null,
   "metadata": {
    "ExecuteTime": {
     "end_time": "2022-01-20T00:14:39.222473Z",
     "start_time": "2022-01-20T00:14:39.097228Z"
    },
    "id": "hOGuye3lhVAM",
    "outputId": "feac4972-92ae-4c88-ee72-b13f4cb3dc37"
   },
   "outputs": [],
   "source": [
    "correlacao"
   ]
  },
  {
   "cell_type": "code",
   "execution_count": null,
   "metadata": {
    "ExecuteTime": {
     "end_time": "2022-01-20T00:14:41.195859Z",
     "start_time": "2022-01-20T00:14:39.243454Z"
    },
    "id": "VrQX0-qQhVAM",
    "outputId": "d80e5417-5971-4683-c043-2b802cd4a1d8",
    "scrolled": false
   },
   "outputs": [],
   "source": [
    "#heatmap\n",
    "plt.figure(figsize=(20,20))\n",
    "sns.heatmap(correlacao)"
   ]
  },
  {
   "cell_type": "code",
   "execution_count": null,
   "metadata": {
    "ExecuteTime": {
     "end_time": "2022-01-20T00:14:41.225844Z",
     "start_time": "2022-01-20T00:14:41.198859Z"
    },
    "id": "HJGRYBbthVAN",
    "outputId": "c01d91e6-4fa9-4e7b-b8d6-0937d11ff5bf",
    "scrolled": false
   },
   "outputs": [],
   "source": [
    "correlacao['SalePrice']"
   ]
  },
  {
   "cell_type": "code",
   "execution_count": null,
   "metadata": {
    "ExecuteTime": {
     "end_time": "2022-01-20T00:14:41.347776Z",
     "start_time": "2022-01-20T00:14:41.261836Z"
    },
    "id": "dnW7cmTMhVAN"
   },
   "outputs": [],
   "source": [
    "# veja quais são as variáveis mais correlacionadas com o target!\n",
    "corr_y = correlacao['SalePrice'].abs().sort_values(ascending=False)"
   ]
  },
  {
   "cell_type": "code",
   "execution_count": null,
   "metadata": {
    "ExecuteTime": {
     "end_time": "2022-01-20T00:14:41.455730Z",
     "start_time": "2022-01-20T00:14:41.367766Z"
    },
    "id": "fXXmaUqkhVAO",
    "outputId": "1f0e80e6-4899-4447-cba1-472a5d13290b"
   },
   "outputs": [],
   "source": [
    "corr_y"
   ]
  },
  {
   "cell_type": "code",
   "execution_count": null,
   "metadata": {
    "ExecuteTime": {
     "end_time": "2022-01-20T00:14:41.594705Z",
     "start_time": "2022-01-20T00:14:41.461712Z"
    },
    "id": "GD97sKh4hVAO",
    "outputId": "44f6a008-2761-406a-a9d1-3b75ef7ec840"
   },
   "outputs": [],
   "source": [
    "corr_y[corr_y>0.6].index"
   ]
  },
  {
   "cell_type": "code",
   "execution_count": null,
   "metadata": {
    "ExecuteTime": {
     "end_time": "2022-01-20T00:14:44.463948Z",
     "start_time": "2022-01-20T00:14:41.723840Z"
    },
    "id": "YWiUC-LihVAR",
    "outputId": "c1a311d3-2c8f-41fd-8bf4-61bf633679eb"
   },
   "outputs": [],
   "source": [
    "# explore agora a relação entre essas variáveis e o target\n",
    "# dica: faça um jointplot ou scatterplot\n",
    "\n",
    "sns.jointplot(data=df,x='OverallQual', y='SalePrice')\n",
    "plt.show()"
   ]
  },
  {
   "cell_type": "code",
   "execution_count": null,
   "metadata": {
    "ExecuteTime": {
     "end_time": "2022-01-20T00:14:45.533107Z",
     "start_time": "2022-01-20T00:14:44.467948Z"
    },
    "id": "0lon4KdchVAS",
    "outputId": "4a350be3-0267-4db5-af72-1a7474f1ea12"
   },
   "outputs": [],
   "source": [
    "sns.jointplot(data=df, x='GrLivArea', y='SalePrice')\n",
    "plt.show()"
   ]
  },
  {
   "cell_type": "markdown",
   "metadata": {
    "id": "0X2u0x1PhVAS"
   },
   "source": [
    "Parece que a variável de área construída (\"GrLivArea\") é uma forte candidata a **explicar** o preço das casas, pois vemos calaramente uma correlação entre as variáveis!\n",
    "\n",
    "Mas note que há claramente dois outliers... "
   ]
  },
  {
   "cell_type": "code",
   "execution_count": null,
   "metadata": {
    "ExecuteTime": {
     "end_time": "2022-01-20T00:14:45.645038Z",
     "start_time": "2022-01-20T00:14:45.537102Z"
    },
    "id": "_et3_Q3AhVAS",
    "outputId": "f2c9a10e-0455-4ae8-aa87-873d56216d28"
   },
   "outputs": [],
   "source": [
    "df[df['GrLivArea']>4500]['GrLivArea']"
   ]
  },
  {
   "cell_type": "code",
   "execution_count": null,
   "metadata": {
    "ExecuteTime": {
     "end_time": "2022-01-20T00:14:45.782962Z",
     "start_time": "2022-01-20T00:14:45.648036Z"
    },
    "id": "m104F1GChVAT",
    "outputId": "6da166d8-40e3-40ce-d665-1bcbb060c439"
   },
   "outputs": [],
   "source": [
    "df[~(df['GrLivArea']>4500)]"
   ]
  },
  {
   "cell_type": "code",
   "execution_count": 3,
   "metadata": {
    "ExecuteTime": {
     "end_time": "2022-01-20T00:14:46.006348Z",
     "start_time": "2022-01-20T00:14:45.957881Z"
    },
    "id": "WuxdykQ8hVAT"
   },
   "outputs": [],
   "source": [
    "# identifique e remova os outliers\n",
    "df = df[~(df['GrLivArea']>4500)]"
   ]
  },
  {
   "cell_type": "code",
   "execution_count": null,
   "metadata": {
    "ExecuteTime": {
     "end_time": "2022-01-20T00:14:47.118163Z",
     "start_time": "2022-01-20T00:14:46.022353Z"
    },
    "id": "zvPNjS-fhVAT",
    "outputId": "e33541f5-db4a-4bc8-9179-bd1a6653aed8"
   },
   "outputs": [],
   "source": [
    "# faça o scatterplot novamente para verificar se os outliers sumiram\n",
    "sns.jointplot(data=df, x='GrLivArea', y='SalePrice')"
   ]
  },
  {
   "cell_type": "markdown",
   "metadata": {
    "id": "7RI8QVTRhVAU"
   },
   "source": [
    "Vamos agora iniciar a construção de um modelo bem simples, que utilize a variável GrLivArea para predizer o preço!"
   ]
  },
  {
   "cell_type": "markdown",
   "metadata": {
    "id": "OC5PqmsrhVAU"
   },
   "source": [
    "___\n",
    "___\n",
    "___"
   ]
  },
  {
   "cell_type": "markdown",
   "metadata": {
    "id": "Gr40XeX_hVAU"
   },
   "source": [
    "## 2) Regressão linear simples\n",
    "\n",
    "Apesar de alguns outliers, parece bem adequado que os pontos plotados acima sejam descritos por uma reta, não é mesmo?\n",
    "\n",
    "Ou, melhor dizendo: **a variável GrLivArea parece estar relacionada ao target SalePrice linearmente!**\n",
    "\n",
    "Para modelarmos esta relação, vamos conhecer o modelo de **Regressão Linear Simples**.\n",
    "\n",
    "Como o próprio nome diz, o modelo de Regressão Linear será **uma reta (polinômio linear)**, que melhor se ajusta aos seus dados!\n",
    "\n",
    "O modelo de **Regressão Linear Simples** será uma linha reta que relaciona Y (o preço da casa) e X (os atributos da casa). \n",
    "\n",
    "Se utilizarmos **apenas um atributo** (como, por exemplo, a área construída), temos uma **Regressão Linear Simples**, e nosso modelo é:\n",
    "\n",
    "$$ y = b_0 + b_1 X $$\n",
    "\n",
    "Neste caso, o modelo tem dois coeficientes a serem determinados: \n",
    "\n",
    "$$b_0 \\text{ - intercepto ou coeficiente linear}$$\n",
    "$$b_1 \\text{ - coeficiente angular}. $$\n",
    "\n",
    "A equação acima exprime a **forma funcional** do conjunto de hipóteses com o qual trabalharemos: funções lineares de uma única variável. Isto é,\n",
    "\n",
    "$$ f_{H, \\vec{b}} = b_0 + b_1 X $$\n",
    "\n",
    "Ou seja,\n",
    "\n",
    "$$ \\mathcal{H} = \\{ f_{H, \\vec{b}}\\} = \\{ b_0 + b_1 X \\} $$ \n",
    "\n",
    "é o conjunto de hipóteses que está sendo considerado, e o vetor de parâmetros é:\n",
    "\n",
    "$$\\vec{b} = \\begin{bmatrix}\n",
    "b_0\\\\ \n",
    "b_1\n",
    "\\end{bmatrix}$$\n",
    "\n",
    "\n",
    "O **algoritmo de aprendizagem** do estimador é utilizado justamente para encontrarmos os coeficientes $b_0$ e $b_1$ (isto é, o vetor de parâmetros) **que melhor se ajustam aos dados!**\n",
    "\n",
    "Para fazer isso, pode-se utilizar o método dos **mínimos quadrados** (OLS  - ordinary least squares) ou então o **gradiente descendente**.\n",
    "\n",
    "[Explicação visual da Regressão usando Ordinary Least Squares](https://setosa.io/ev/ordinary-least-squares-regression/) \n",
    "\n",
    "Cálculo dos coeficientes com o método OLS:\n",
    "\n",
    "$$b_1 = \\frac{\\sum_i (x_i - \\overline{x})(y_i - \\overline{y})}{\\sum_i (x_i - \\overline{x})^2}$$\n",
    "\n",
    "$$b_0 = \\overline{y} + b_1\\overline{x}  $$\n",
    "\n",
    "onde:\n",
    "\n",
    "$\\overline{x}:$ Média da feature $x$;\n",
    "\n",
    "$\\overline{y}:$ Média do target;\n",
    "\n",
    "$x_i:$ valor da feature $x$ da amostra $i$;\n",
    "\n",
    "$y_i:$ valor do target para a amostra $i$.\n",
    "\n",
    "Mas não nos preocuparemos com os detalhes do treinamento: usaremos o sklearn para isso!\n",
    "\n",
    "Vamos começar?"
   ]
  },
  {
   "cell_type": "code",
   "execution_count": 4,
   "metadata": {
    "ExecuteTime": {
     "end_time": "2022-01-20T00:14:47.244125Z",
     "start_time": "2022-01-20T00:14:47.136144Z"
    },
    "id": "mRidBUrXhVAV"
   },
   "outputs": [],
   "source": [
    "# crie duas variáveis, X e y, respectivamente os arrays da feature GrLiveArea e do target\n",
    "X = df['GrLivArea']\n",
    "y = df['SalePrice']"
   ]
  },
  {
   "cell_type": "code",
   "execution_count": null,
   "metadata": {
    "ExecuteTime": {
     "end_time": "2022-01-20T00:14:47.384810Z",
     "start_time": "2022-01-20T00:14:47.248107Z"
    },
    "id": "oIVCw_4yhVAW",
    "outputId": "bb80bb8d-7894-4c0f-9272-ecdc221063ed"
   },
   "outputs": [],
   "source": [
    "#X\n",
    "X"
   ]
  },
  {
   "cell_type": "code",
   "execution_count": null,
   "metadata": {
    "ExecuteTime": {
     "end_time": "2022-01-20T00:14:47.509737Z",
     "start_time": "2022-01-20T00:14:47.389804Z"
    },
    "id": "NQOGxfGLhVAW",
    "outputId": "eaaa8999-0ab2-4673-e13f-e13ca5524270"
   },
   "outputs": [],
   "source": [
    "#y\n",
    "y"
   ]
  },
  {
   "cell_type": "code",
   "execution_count": 5,
   "metadata": {
    "ExecuteTime": {
     "end_time": "2022-01-20T00:14:48.475534Z",
     "start_time": "2022-01-20T00:14:47.514733Z"
    },
    "id": "U2phAnNPhVAX"
   },
   "outputs": [],
   "source": [
    "# 1) Importe a classe do estimador que se deseja treinar\n",
    "from sklearn.linear_model import LinearRegression"
   ]
  },
  {
   "cell_type": "code",
   "execution_count": 6,
   "metadata": {
    "ExecuteTime": {
     "end_time": "2022-01-20T00:14:48.507557Z",
     "start_time": "2022-01-20T00:14:48.477556Z"
    },
    "id": "DrSYWieJhVAX"
   },
   "outputs": [],
   "source": [
    "# 2) Instancie a classe do estimador, escolhendo os hiperparâmetros desejados\n",
    "reg_lin = LinearRegression()"
   ]
  },
  {
   "cell_type": "code",
   "execution_count": 7,
   "metadata": {
    "ExecuteTime": {
     "end_time": "2022-01-20T00:14:48.600467Z",
     "start_time": "2022-01-20T00:14:48.513517Z"
    },
    "id": "p04CO2mVhVAX"
   },
   "outputs": [],
   "source": [
    "# 3) Separe os dados em dados de treino e dados de teste\n",
    "# dica: procure pelo \"train_test_split\" no google hehe\n",
    "from sklearn.model_selection import train_test_split\n",
    "\n",
    "X_train, X_test, y_train, y_test = train_test_split(X, y, test_size=0.2, random_state=42)\n",
    "# X_train_val, X_test, y_train_val, y_test = train_test_split(X, y, test_size=0.3)\n",
    "# X_train, X_val, y_train, y_val = train_test_split(X_train_val, y_train_val, test_size=0.3)"
   ]
  },
  {
   "cell_type": "code",
   "execution_count": null,
   "metadata": {
    "ExecuteTime": {
     "end_time": "2022-01-20T00:14:48.711430Z",
     "start_time": "2022-01-20T00:14:48.603465Z"
    },
    "id": "TmGtdTexhVAX",
    "outputId": "4c333c6b-60db-4d90-d4af-fa6cd4ae753f"
   },
   "outputs": [],
   "source": [
    "#shape de X e y\n",
    "X.shape, y.shape"
   ]
  },
  {
   "cell_type": "code",
   "execution_count": null,
   "metadata": {
    "ExecuteTime": {
     "end_time": "2022-01-20T00:14:48.836369Z",
     "start_time": "2022-01-20T00:14:48.718427Z"
    },
    "id": "iOefiyuIhVAY",
    "outputId": "9735b0cc-2c34-4c06-b1ce-a2bf7191bcd1"
   },
   "outputs": [],
   "source": [
    "X_test.shape, y_test.shape"
   ]
  },
  {
   "cell_type": "code",
   "execution_count": null,
   "metadata": {
    "ExecuteTime": {
     "end_time": "2022-01-20T00:14:48.976797Z",
     "start_time": "2022-01-20T00:14:48.843357Z"
    },
    "id": "WtljCovxhVAY",
    "outputId": "6a9ec30d-0908-4a72-c74d-35be84ee2755"
   },
   "outputs": [],
   "source": [
    "X_train.shape, y_train.shape"
   ]
  },
  {
   "cell_type": "markdown",
   "metadata": {
    "id": "QHKT7kHdhVAY"
   },
   "source": [
    "Explicando o reshape..."
   ]
  },
  {
   "cell_type": "code",
   "execution_count": null,
   "metadata": {
    "ExecuteTime": {
     "end_time": "2022-01-20T00:14:49.227653Z",
     "start_time": "2022-01-20T00:14:49.121714Z"
    },
    "id": "uG3bav9UhVAZ"
   },
   "outputs": [],
   "source": [
    "# isso dá erro...\n",
    "\n",
    "# reg_lin.fit(X_train, y_train)"
   ]
  },
  {
   "cell_type": "code",
   "execution_count": null,
   "metadata": {},
   "outputs": [],
   "source": [
    "X_train"
   ]
  },
  {
   "cell_type": "code",
   "execution_count": null,
   "metadata": {
    "ExecuteTime": {
     "end_time": "2022-01-20T00:14:49.414545Z",
     "start_time": "2022-01-20T00:14:49.233648Z"
    },
    "id": "0vvLHL54hVAZ",
    "outputId": "eff02a26-922b-4a2b-9904-bbd53d6050df"
   },
   "outputs": [],
   "source": [
    "X_train.shape"
   ]
  },
  {
   "cell_type": "code",
   "execution_count": null,
   "metadata": {
    "ExecuteTime": {
     "end_time": "2022-01-20T00:14:49.524485Z",
     "start_time": "2022-01-20T00:14:49.424540Z"
    },
    "id": "36rAfz49hVAa",
    "outputId": "688913a2-65d3-494c-8d02-e743f9d1775b"
   },
   "outputs": [],
   "source": [
    "X_train.values.reshape(-1, 1).shape"
   ]
  },
  {
   "cell_type": "code",
   "execution_count": null,
   "metadata": {
    "ExecuteTime": {
     "end_time": "2022-01-20T00:14:49.633421Z",
     "start_time": "2022-01-20T00:14:49.528481Z"
    },
    "id": "z_WJmNrNhVAa",
    "outputId": "3e25cb16-525f-4094-b70f-b76524898a71"
   },
   "outputs": [],
   "source": [
    "X_train.values.reshape(-1, 1)"
   ]
  },
  {
   "cell_type": "code",
   "execution_count": 9,
   "metadata": {
    "ExecuteTime": {
     "end_time": "2022-01-20T00:14:49.776338Z",
     "start_time": "2022-01-20T00:14:49.636418Z"
    },
    "id": "Wrb1kdiuhVAa",
    "outputId": "e6cdb250-3e29-4955-a2be-aa89288025bc"
   },
   "outputs": [
    {
     "data": {
      "text/plain": [
       "LinearRegression()"
      ]
     },
     "execution_count": 9,
     "metadata": {},
     "output_type": "execute_result"
    }
   ],
   "source": [
    "# 4) Treine o modelo, usando os dados de treino. \n",
    "# Este é um modelo simples, não tem muitos hiperparâmetros relevantes\n",
    "# obs: é necessário dar um reshape nas features!\n",
    "reg_lin.fit(X_train.values.reshape(-1,1),y_train)"
   ]
  },
  {
   "cell_type": "markdown",
   "metadata": {
    "id": "wk17EXtmhVAa"
   },
   "source": [
    "Agora que o modelo está treinado, podemos dar uma olhada nos coeficientes que foram encontrados!"
   ]
  },
  {
   "cell_type": "code",
   "execution_count": null,
   "metadata": {
    "ExecuteTime": {
     "end_time": "2022-01-20T00:14:50.026195Z",
     "start_time": "2022-01-20T00:14:49.948241Z"
    },
    "id": "YjC9EaWchVAb",
    "outputId": "3c4ede6c-cd0c-46f4-d95b-173ac027e9dc"
   },
   "outputs": [],
   "source": [
    "# pegue o intercept. Dica: veja os atributos do modelo treinado!\n",
    "reg_lin.intercept_"
   ]
  },
  {
   "cell_type": "code",
   "execution_count": null,
   "metadata": {
    "ExecuteTime": {
     "end_time": "2022-01-20T00:14:50.136132Z",
     "start_time": "2022-01-20T00:14:50.029193Z"
    },
    "id": "wO0RA40dhVAb",
    "outputId": "d238d54e-9300-42f7-bdd2-3278a93a8766"
   },
   "outputs": [],
   "source": [
    "# peque o coeficiente angular. Dica: veja os atributos do modelo treinado!\n",
    "reg_lin.coef_[0]"
   ]
  },
  {
   "cell_type": "code",
   "execution_count": null,
   "metadata": {},
   "outputs": [],
   "source": [
    "reg_lin.coef_"
   ]
  },
  {
   "cell_type": "markdown",
   "metadata": {
    "id": "AQ3go4oxhVAb"
   },
   "source": [
    "Como interpretamos este resultado?\n",
    "\n",
    "O nosso modelo final é dado por:\n",
    "\n",
    "$$ y = \\mathcal{M} = f_{H, \\hat{\\vec{b}}}(x) =  3781.98 + 118.25 \\times \\text{GrLiveArea}$$\n",
    "\n",
    "Isto quer dizer que:\n",
    "\n",
    "> Aumentando a variável \"GrLiveArea\" em uma unidade faz com que o preço seja aumentado em USD 118.6!\n",
    "\n",
    "> O preço mínimo a ser pago, independente da área construída, é de 1562.01!"
   ]
  },
  {
   "cell_type": "markdown",
   "metadata": {
    "id": "Z6ApHakGhVAc"
   },
   "source": [
    "Podemos visualizar o modelo treinado, neste caso:"
   ]
  },
  {
   "cell_type": "code",
   "execution_count": null,
   "metadata": {
    "ExecuteTime": {
     "end_time": "2022-01-20T00:14:50.776024Z",
     "start_time": "2022-01-20T00:14:50.141134Z"
    },
    "id": "7_Ws0UWyhVAc",
    "outputId": "df585ca8-24e4-4e91-f1a0-4f5d86dc0921"
   },
   "outputs": [],
   "source": [
    "plt.figure(figsize=(15, 6))\n",
    "\n",
    "# faça um scatterplot da fgeature pelo target\n",
    "sns.scatterplot(data=df, x=\"GrLivArea\", y=\"SalePrice\")\n",
    "\n",
    "# faça um plot da reta do modelo\n",
    "# crie um array com os valores de x. dica:  use o range aproximado da variável GrLivArea\n",
    "# crie um array de y com a equação da reta usando os coeficientes encontrados\n",
    "x = np.linspace(0, 5500, 10000)\n",
    "y = reg_lin.intercept_ + reg_lin.coef_[0]*x\n",
    "plt.plot(x, y, color=\"red\")"
   ]
  },
  {
   "cell_type": "markdown",
   "metadata": {
    "id": "l3I7qWTphVAd"
   },
   "source": [
    "Fazendo uma previsão:"
   ]
  },
  {
   "cell_type": "code",
   "execution_count": null,
   "metadata": {
    "ExecuteTime": {
     "end_time": "2022-01-20T00:14:53.687357Z",
     "start_time": "2022-01-20T00:14:53.652381Z"
    },
    "id": "MoQKYzMehVAe"
   },
   "outputs": [],
   "source": [
    "b0 = reg_lin.intercept_\n",
    "b1 = reg_lin.coef_[0]"
   ]
  },
  {
   "cell_type": "code",
   "execution_count": null,
   "metadata": {
    "ExecuteTime": {
     "end_time": "2022-01-20T00:14:53.891242Z",
     "start_time": "2022-01-20T00:14:53.803300Z"
    },
    "id": "EzBYYVlrhVAe",
    "outputId": "1627742d-e3c2-4308-f232-083893842f82"
   },
   "outputs": [],
   "source": [
    "# previsão explicita, usando os coeficientes\n",
    "\n",
    "x = 1504\n",
    "\n",
    "y_hat = reg_lin.intercept_ + reg_lin.coef_[0]*x\n",
    "\n",
    "x, y_hat"
   ]
  },
  {
   "cell_type": "markdown",
   "metadata": {
    "id": "uCXMUJtdhVAf"
   },
   "source": [
    "Ou ainda:"
   ]
  },
  {
   "cell_type": "code",
   "execution_count": null,
   "metadata": {
    "ExecuteTime": {
     "end_time": "2022-01-20T00:14:54.002179Z",
     "start_time": "2022-01-20T00:14:53.895242Z"
    },
    "id": "XgsjhUuLhVAf"
   },
   "outputs": [],
   "source": [
    "# isso dá erro\n",
    "\n",
    "#reg_lin.predict(1504)"
   ]
  },
  {
   "cell_type": "code",
   "execution_count": null,
   "metadata": {
    "ExecuteTime": {
     "end_time": "2022-01-20T00:14:54.126706Z",
     "start_time": "2022-01-20T00:14:54.006176Z"
    },
    "id": "_FqUM8Z_hVAg",
    "outputId": "9ca862f3-a74a-40c7-dd43-1ae4050008b9"
   },
   "outputs": [],
   "source": [
    "# previsão usando o predict\n",
    "\n",
    "reg_lin.predict([[1504]])"
   ]
  },
  {
   "cell_type": "code",
   "execution_count": null,
   "metadata": {
    "ExecuteTime": {
     "end_time": "2022-01-20T00:14:54.222652Z",
     "start_time": "2022-01-20T00:14:54.131706Z"
    },
    "id": "LbmrsuARhVAh",
    "outputId": "71284ca1-06e5-4d27-fc05-795b3c18c451"
   },
   "outputs": [],
   "source": [
    "reg_lin.predict(np.array(1504).reshape(1, -1))"
   ]
  },
  {
   "cell_type": "markdown",
   "metadata": {
    "id": "29HsyhWHhVAj"
   },
   "source": [
    "Entendendo o reshape..."
   ]
  },
  {
   "cell_type": "code",
   "execution_count": null,
   "metadata": {
    "ExecuteTime": {
     "end_time": "2022-01-20T00:14:54.331898Z",
     "start_time": "2022-01-20T00:14:54.226650Z"
    },
    "id": "Jo0iXx8jhVAj"
   },
   "outputs": [],
   "source": [
    "m = np.array([[1, 2, 4],\n",
    "              [3, 4, 5]])"
   ]
  },
  {
   "cell_type": "code",
   "execution_count": null,
   "metadata": {
    "ExecuteTime": {
     "end_time": "2022-01-20T00:14:54.505897Z",
     "start_time": "2022-01-20T00:14:54.334896Z"
    },
    "id": "MothphzUhVAk",
    "outputId": "23567f72-8300-4c77-d5de-fad9d4b19337"
   },
   "outputs": [],
   "source": [
    "print(m)"
   ]
  },
  {
   "cell_type": "code",
   "execution_count": null,
   "metadata": {
    "ExecuteTime": {
     "end_time": "2022-01-20T00:14:54.647818Z",
     "start_time": "2022-01-20T00:14:54.509897Z"
    },
    "id": "XrU8pDlThVAk",
    "outputId": "e729ea74-58bc-462f-e53f-9a4bbd63eaf6"
   },
   "outputs": [],
   "source": [
    "print(m.reshape(3, 2))"
   ]
  },
  {
   "cell_type": "code",
   "execution_count": null,
   "metadata": {
    "ExecuteTime": {
     "end_time": "2022-01-20T00:14:54.771746Z",
     "start_time": "2022-01-20T00:14:54.672805Z"
    },
    "id": "2yAIO2R9hVAk",
    "outputId": "85185781-1c30-489a-ad20-535fbde67183"
   },
   "outputs": [],
   "source": [
    "print(m.reshape(3, -1))"
   ]
  },
  {
   "cell_type": "code",
   "execution_count": null,
   "metadata": {
    "ExecuteTime": {
     "end_time": "2022-01-20T00:14:54.871692Z",
     "start_time": "2022-01-20T00:14:54.776742Z"
    },
    "id": "MVcZLGUehVAl",
    "outputId": "c577911c-cc4b-465e-f5be-ccdddba637f7"
   },
   "outputs": [],
   "source": [
    "print(m.reshape(-1, 1))"
   ]
  },
  {
   "cell_type": "code",
   "execution_count": null,
   "metadata": {
    "ExecuteTime": {
     "end_time": "2022-01-20T00:14:54.964652Z",
     "start_time": "2022-01-20T00:14:54.877691Z"
    },
    "id": "aj3RQx2ChVAl",
    "outputId": "9786c05d-ef28-46ad-d670-4e2cf1fe8402"
   },
   "outputs": [],
   "source": [
    "# matriz com 1 linha, e (...) colunas\n",
    "print(m.reshape(1, -1))"
   ]
  },
  {
   "cell_type": "code",
   "execution_count": null,
   "metadata": {
    "ExecuteTime": {
     "end_time": "2022-01-20T00:14:55.054583Z",
     "start_time": "2022-01-20T00:14:54.985624Z"
    },
    "id": "M8RmdhlAhVAl",
    "outputId": "b1940942-abdd-46e6-b13c-8afc3cb72a4f"
   },
   "outputs": [],
   "source": [
    "# matriz com 1 coluna e (...) linhas\n",
    "print(m.reshape(-1, 1))"
   ]
  },
  {
   "cell_type": "markdown",
   "metadata": {
    "id": "71-fZbfBhVAm"
   },
   "source": [
    "____________"
   ]
  },
  {
   "cell_type": "markdown",
   "metadata": {
    "id": "MCprNj47hVAm"
   },
   "source": [
    "É raro que consigamos visualizar nosso modelo final como fizemos acima, mas no caso da regressão linear simples, temos essa sorte! :)\n",
    "\n",
    "Vamos agora fazer algumas previsões!"
   ]
  },
  {
   "cell_type": "code",
   "execution_count": 10,
   "metadata": {
    "ExecuteTime": {
     "end_time": "2022-01-20T00:14:55.402385Z",
     "start_time": "2022-01-20T00:14:55.296445Z"
    },
    "id": "NrYG1bIzhVAm"
   },
   "outputs": [],
   "source": [
    "# 5) Use o modelo treinado para fazer previsões usando os dados de teste \n",
    "y_pred = reg_lin.predict(X_test.values.reshape(-1,1))"
   ]
  },
  {
   "cell_type": "code",
   "execution_count": 11,
   "metadata": {},
   "outputs": [
    {
     "data": {
      "text/plain": [
       "array([229653.27048225, 118632.252406  , 123495.35255678, 198932.7109932 ,\n",
       "       193713.77424603, 126579.26972556, 233330.24864503, 300464.7531655 ,\n",
       "       235228.04382582, 166788.80511856, 158130.1146062 , 168212.15150415,\n",
       "       172482.19066093, 254443.22003132, 202016.62816199, 172956.63945613,\n",
       "       205574.99412597, 136068.24562951, 124918.69894237, 176989.45421531,\n",
       "       156469.54382301, 190155.40828204, 176633.61761891, 367599.25768596,\n",
       "       171296.06867294, 143778.03855148, 160502.35858219, 104042.95195367,\n",
       "       191815.97906524, 134170.45044872, 150064.48508784, 125867.59653276,\n",
       "       198458.262198  , 114480.82544802, 195611.56942682, 345300.16431167,\n",
       "       169042.43689575, 230246.33147624, 161214.03177499, 106177.97153206,\n",
       "       141049.95797909, 251833.75165774, 114243.60105042,  98349.5664113 ,\n",
       "       118750.8646048 , 179598.9225889 , 129900.41129194, 114836.66204442,\n",
       "        98349.5664113 , 156706.76822061, 245665.91732017, 135356.57243672,\n",
       "       156232.31942541, 197983.81340281, 102145.15677288, 207235.56490916,\n",
       "       212098.66505994, 135119.34803912, 134051.83824992,  41178.48658999,\n",
       "        63240.35556668, 157655.66581101, 294889.97982192, 180191.98358289,\n",
       "       212217.27725873, 257527.13720011, 124207.02574957, 104042.95195367,\n",
       "       146031.67032866, 174498.59804052, 292161.89924954, 137254.36761751,\n",
       "       109143.27650205, 172600.80285973, 155046.19743742, 172600.80285973,\n",
       "       196797.69141481, 180903.65677569, 137966.0408103 ,  94079.52725452,\n",
       "       118632.252406  , 129307.35029795, 118750.8646048 , 106652.42032726,\n",
       "       167619.09051016, 242107.55135619, 231551.06566304, 173905.53704653,\n",
       "       175921.94442612, 136898.53102111, 160146.52198579, 162874.60255818,\n",
       "        98349.5664113 , 325373.31491337, 211268.37966834, 180191.98358289,\n",
       "       185173.69593247, 282079.86235159, 179243.0859925 , 280656.51596599,\n",
       "       198102.4256016 , 188732.06189645, 265236.93012207, 102856.82996568,\n",
       "       129425.96249675, 161569.86837139, 174261.37364292, 187901.77650486,\n",
       "        83523.04156138, 198458.262198  , 179243.0859925 , 124918.69894237,\n",
       "       178175.5762033 , 181022.26897449, 214708.13343352,  96926.22002571,\n",
       "       137491.59201511, 104991.84954407, 107601.31791766, 194781.28403522,\n",
       "       179005.8615949 , 102145.15677288, 241158.65376579, 220757.35557229,\n",
       "       169042.43689575, 121123.10858079, 269151.13268245, 189206.51069165,\n",
       "       206049.44292117, 107601.31791766, 273895.62063443, 100959.03478489,\n",
       "       112583.03026723, 265948.60331487,  58495.8676147 , 304497.56792468,\n",
       "       300939.20196069, 112820.25466483, 197746.58900521, 367124.80889076,\n",
       "       332964.49563653, 323356.90753378, 206998.34051156, 266067.21551367,\n",
       "       126816.49412316, 106177.97153206, 245547.30512137, 171177.45647414,\n",
       "       242463.38795258, 311614.29985264, 141524.40677429, 161451.25617259,\n",
       "       180547.82017929, 271286.15226084, 205100.54533077, 214115.07243953,\n",
       "       107482.70571886, 164653.78554017, 299871.6921715 , 193357.93764963,\n",
       "       147929.46550945, 255154.89322412, 196797.69141481, 182564.22755888,\n",
       "       176752.22981771, 283859.04533358, 232855.79984983, 306869.81190066,\n",
       "       135593.79683432, 286587.12590596, 232144.12665704, 106177.97153206,\n",
       "       166077.13192576, 227399.63870506, 279707.6183756 , 189918.18388445,\n",
       "       177938.35180571, 197509.36460761, 162518.76596178, 131086.53327994,\n",
       "       120055.59879159, 133221.55285833, 211031.15527074, 166314.35632336,\n",
       "       237481.67560301, 204388.87213797, 131086.53327994, 179480.3103901 ,\n",
       "       219334.0091867 , 169516.88569095, 163467.66355218, 227518.25090386,\n",
       "       161925.70496778, 177345.29081171,  85539.44894097, 380409.3751563 ,\n",
       "       145319.99713587, 157774.27800981, 207828.62590316, 146743.34352146,\n",
       "       183394.51295048, 186241.20572166, 160976.80737739, 313512.09503343,\n",
       "       227162.41430746, 304616.18012347, 204388.87213797, 134526.28704512,\n",
       "       190748.46927604, 107364.09352006, 267609.17409806, 183868.96174568,\n",
       "       146861.95572026, 176040.55662491, 163230.43915458, 187308.71551086,\n",
       "       196916.30361361, 202491.07695718, 161925.70496778, 207235.56490916,\n",
       "       196797.69141481, 158604.5634014 , 186122.59352286, 172363.57846213,\n",
       "       174261.37364292, 145675.83373227, 116022.78403241, 116378.62062881,\n",
       "       155995.09502781, 141287.18237669, 111871.35707443, 179598.9225889 ,\n",
       "       202253.85255958, 147336.40451546, 143896.65075027, 167144.64171496,\n",
       "       144845.54834067, 119699.7621952 , 246140.36611537, 166670.19291976,\n",
       "        86962.79532656, 354789.14021563, 208421.68689715, 350874.93765524,\n",
       "       188969.28629405, 206049.44292117, 171296.06867294, 187071.49111326,\n",
       "       127290.94291836,  95147.03704372, 314698.21702142, 212217.27725873,\n",
       "       180073.37138409, 104042.95195367, 191460.14246884, 223129.59954828,\n",
       "       111041.07168284, 208658.91129475, 191697.36686644, 115429.72303842,\n",
       "       157418.44141341, 112583.03026723, 107601.31791766, 196560.46701721,\n",
       "       206286.66731876, 251833.75165774, 160146.52198579, 102145.15677288,\n",
       "       249461.50768175, 171177.45647414, 114718.04984562, 160146.52198579,\n",
       "       235346.65602462, 133458.77725593, 142710.52876228, 117801.9670144 ,\n",
       "        90165.32469414, 223248.21174708, 112464.41806843, 174617.21023932,\n",
       "       212217.27725873,  76287.69743461, 188494.83749885, 309835.11687065,\n",
       "       205337.76972837, 124207.02574957, 219808.4579819 , 135712.40903312,\n",
       "       183038.67635408, 187664.55210726, 180666.43237809, 104042.95195367])"
      ]
     },
     "execution_count": 11,
     "metadata": {},
     "output_type": "execute_result"
    }
   ],
   "source": [
    "y_pred"
   ]
  },
  {
   "cell_type": "markdown",
   "metadata": {
    "id": "7Bd5L1cOhVAn"
   },
   "source": [
    "Agora que temos o modelo treinado e algumas previsões, como avaliamos a performance do modelo?\n",
    "\n",
    "Para isso, podemos dar uma olhada nos **resíduos** das predições! Os resíduos nada mais são do que **os erros do modelo**, ou seja, **a diferença entre cada valor predito e o valor real**, para **os dados de teste!**. Isto é,\n",
    "\n",
    "$$R(y_i) = y_i - \\hat{y}_i $$\n",
    "\n",
    "$$R(y_i) + \\hat{y}_i= y_i  $$\n",
    "\n",
    "$$ \\hat{y}_i= y_i - R(y_i)  $$"
   ]
  },
  {
   "cell_type": "code",
   "execution_count": 12,
   "metadata": {
    "ExecuteTime": {
     "end_time": "2022-01-20T00:14:55.931884Z",
     "start_time": "2022-01-20T00:14:55.796961Z"
    },
    "id": "MiiZOMChhVAo"
   },
   "outputs": [],
   "source": [
    "#Residuo\n",
    "residuo = y_test - y_pred"
   ]
  },
  {
   "cell_type": "code",
   "execution_count": 13,
   "metadata": {
    "ExecuteTime": {
     "end_time": "2022-01-20T00:14:56.055813Z",
     "start_time": "2022-01-20T00:14:55.934882Z"
    },
    "id": "456EfaDShVAo",
    "outputId": "f104321a-a549-40e4-9b3e-9481cc06d064"
   },
   "outputs": [
    {
     "data": {
      "text/plain": [
       "1322    -39653.270482\n",
       "837     -18632.252406\n",
       "413      -8495.352557\n",
       "522     -39932.710993\n",
       "1036    121786.225754\n",
       "            ...      \n",
       "479     -46241.409033\n",
       "1361     76961.323646\n",
       "1415    -11764.552107\n",
       "651     -72666.432378\n",
       "722      20457.048046\n",
       "Name: SalePrice, Length: 292, dtype: float64"
      ]
     },
     "execution_count": 13,
     "metadata": {},
     "output_type": "execute_result"
    }
   ],
   "source": [
    "residuo"
   ]
  },
  {
   "cell_type": "code",
   "execution_count": 14,
   "metadata": {
    "ExecuteTime": {
     "end_time": "2022-01-20T00:14:56.166749Z",
     "start_time": "2022-01-20T00:14:56.060810Z"
    },
    "id": "gcZ-XrOohVAo",
    "outputId": "0bde77bf-e008-48c0-fa7c-5d7c66b62e19",
    "scrolled": true
   },
   "outputs": [
    {
     "data": {
      "text/plain": [
       "count       292.000000\n",
       "mean       1054.794211\n",
       "std       53073.332679\n",
       "min     -170124.808891\n",
       "25%      -24443.432570\n",
       "50%        1494.653463\n",
       "75%       23363.924359\n",
       "max      178054.379366\n",
       "Name: SalePrice, dtype: float64"
      ]
     },
     "execution_count": 14,
     "metadata": {},
     "output_type": "execute_result"
    }
   ],
   "source": [
    "# Estatísticas descritivas do resíduo\n",
    "residuo.describe()"
   ]
  },
  {
   "cell_type": "code",
   "execution_count": 15,
   "metadata": {},
   "outputs": [
    {
     "data": {
      "text/plain": [
       "count      1458.000000\n",
       "mean     180932.919067\n",
       "std       79495.055285\n",
       "min       34900.000000\n",
       "25%      129925.000000\n",
       "50%      163000.000000\n",
       "75%      214000.000000\n",
       "max      755000.000000\n",
       "Name: SalePrice, dtype: float64"
      ]
     },
     "execution_count": 15,
     "metadata": {},
     "output_type": "execute_result"
    }
   ],
   "source": [
    "df['SalePrice'].describe()"
   ]
  },
  {
   "cell_type": "code",
   "execution_count": 16,
   "metadata": {
    "ExecuteTime": {
     "end_time": "2022-01-20T00:14:56.762990Z",
     "start_time": "2022-01-20T00:14:56.174747Z"
    },
    "id": "qYBqimZdhVAo",
    "outputId": "bad09975-a72f-4d55-eed9-7267f5b2b5c9"
   },
   "outputs": [
    {
     "data": {
      "text/plain": [
       "<AxesSubplot:xlabel='SalePrice'>"
      ]
     },
     "execution_count": 16,
     "metadata": {},
     "output_type": "execute_result"
    },
    {
     "data": {
      "image/png": "[encoded data removed]",
      "text/plain": [
       "<Figure size 432x288 with 1 Axes>"
      ]
     },
     "metadata": {
      "needs_background": "light"
     },
     "output_type": "display_data"
    }
   ],
   "source": [
    "# faça um scatterplot do valor predito pelo valor real\n",
    "#Caso os dois valores fossem iguais, os pontos cairiam em cima da linha vermelha\n",
    "x = np.linspace(0, 500000, 100000)\n",
    "y = x\n",
    "plt.plot(x,y,color='red')\n",
    "\n",
    "\n",
    "sns.scatterplot(x=y_test, y=y_pred)"
   ]
  },
  {
   "cell_type": "markdown",
   "metadata": {
    "id": "ZlAMHk4EhVAp"
   },
   "source": [
    "O caso 100% ideal seria $y_i = \\hat{y}_i$, o que produziria uma reta exata!\n",
    "\n",
    "Quanto mais \"espalhados\" estiverem os pontos em torno da reta, em geral **pior é o modelo**, pois ele está errando mais!\n",
    "\n",
    "Uma forma de quantificar isso através de uma métrica conhecida como **$R^2$**, o **coeficiente de determinação**.\n",
    "\n",
    "Este coeficiente indica **o quão próximos os dados estão da reta ajustada**. Por outro lado, o $R^2$ representa a porcentagem de variação na resposta que é explicada pelo modelo.\n",
    "\n",
    "$$R^2 = 1 - \\frac{\\sum_{i=1}^n(y_i-\\hat{y}_i)^2}{\\sum_{i=1}^n(y_i-\\bar{y})^2}$$\n",
    "\n",
    "É possível utilizar o $R^2$ nos dados de treino, mas isso não é tão significante, devido ao overfitting, que discutiremos mais a frente. Faz mais sentido calcularmos o $R^2$ nos dados de teste como faremos a seguir. Essa métrica equivale, portanto, **ao gráfico que fizemos acima!**\n"
   ]
  },
  {
   "cell_type": "markdown",
   "metadata": {},
   "source": [
    "DOC metricas do sklearn: https://scikit-learn.org/stable/modules/model_evaluation.html"
   ]
  },
  {
   "cell_type": "code",
   "execution_count": 17,
   "metadata": {
    "ExecuteTime": {
     "end_time": "2022-01-20T00:14:56.903903Z",
     "start_time": "2022-01-20T00:14:56.796961Z"
    },
    "id": "KdereJirhVAp",
    "outputId": "356d2ca4-2062-4ef8-8996-6dbc94ba1fca"
   },
   "outputs": [
    {
     "data": {
      "text/plain": [
       "0.49160330551638054"
      ]
     },
     "execution_count": 17,
     "metadata": {},
     "output_type": "execute_result"
    }
   ],
   "source": [
    "# r2_score do sklearn.metrics\n",
    "from sklearn.metrics import r2_score\n",
    "\n",
    "r2_score(y_test,y_pred)"
   ]
  },
  {
   "cell_type": "markdown",
   "metadata": {
    "id": "F0fhqO2ehVAp"
   },
   "source": [
    "Outra coisa importante é que os resíduos sejam **normalmente distribuídos**.\n",
    "\n",
    "Se esse não for o caso, é muito importante que você reveja se o modelo escolhido de fato é adequado ao seu problema!"
   ]
  },
  {
   "cell_type": "code",
   "execution_count": 18,
   "metadata": {
    "ExecuteTime": {
     "end_time": "2022-01-20T00:14:57.762891Z",
     "start_time": "2022-01-20T00:14:57.663943Z"
    },
    "id": "qaM3ctlbhVAq",
    "outputId": "7cd0cd24-71de-4b70-8c11-0c24657ae841"
   },
   "outputs": [
    {
     "name": "stdout",
     "output_type": "stream",
     "text": [
      "Estatística de teste: 15.330540528116922\n",
      "\n",
      "p-value: 0.00046883003024723646\n",
      "\n",
      "Rejeição da H_0: amostra não é normal\n"
     ]
    }
   ],
   "source": [
    "# importa o teste\n",
    "from scipy.stats import normaltest\n",
    "    \n",
    "# fazendo o teste\n",
    "test_stat, p = normaltest(residuo)\n",
    "\n",
    "print(\"Estatística de teste:\", test_stat)\n",
    "print(\"\\np-value:\", p)\n",
    "\n",
    "# interpretação do teste\n",
    "# nível de significância de 5%\n",
    "alpha = 0.05 #nivel de significancia\n",
    "\n",
    "if p > alpha:\n",
    "    print(\"\\nFalha em rejeitar H_0: amostra parece ser normal\")\n",
    "else:\n",
    "    print(\"\\nRejeição da H_0: amostra não é normal\")"
   ]
  },
  {
   "cell_type": "markdown",
   "metadata": {
    "id": "1TasCJMohVAr"
   },
   "source": [
    "Além dos resíduos, existem três principais **métricas de avaliação** do modelo de regressão linear:"
   ]
  },
  {
   "cell_type": "markdown",
   "metadata": {
    "id": "kX2SjAd9hVAr"
   },
   "source": [
    "**Mean Absolute Error** (MAE) é a média do valor absoluto de todos os resíduos (erros):\n",
    "\n",
    "$$\\frac 1n\\sum_{i=1}^n|y_i-\\hat{y}_i|$$\n",
    "\n",
    "**Mean Squared Error** (MSE) é a média dos erros quadrados:\n",
    "\n",
    "$$\\frac 1n\\sum_{i=1}^n(y_i-\\hat{y}_i)^2$$\n",
    "\n",
    "**Root Mean Squared Error** (RMSE) é a raiz quadrada da média dos erros quadrados:\n",
    "\n",
    "$$\\sqrt{\\frac 1n\\sum_{i=1}^n(y_i-\\hat{y}_i)^2}$$\n",
    "\n",
    "Comparando as métricas:\n",
    "\n",
    "- **MAE** é a mais simples de entender, mas ela penaliza mais erros menores;\n",
    "- **MSE** é uma métrica popular, pois ela penaliza mais erros maiores, o que faz mais sentido em aplicações reais.\n",
    "- **RMSE** é ainda mais popular, pois esta métrica está nas mesmas unidades que o target.\n",
    "\n",
    "Estas métricas todas podem ser utilizadas como **funções de custo** a serem minimizadas pelo algoritmo do estimador."
   ]
  },
  {
   "cell_type": "code",
   "execution_count": 19,
   "metadata": {
    "ExecuteTime": {
     "end_time": "2022-01-20T00:14:57.872824Z",
     "start_time": "2022-01-20T00:14:57.769882Z"
    },
    "id": "Lcz-hLwKhVAr"
   },
   "outputs": [],
   "source": [
    "from sklearn import metrics"
   ]
  },
  {
   "cell_type": "code",
   "execution_count": 20,
   "metadata": {
    "ExecuteTime": {
     "end_time": "2022-01-20T00:14:58.077217Z",
     "start_time": "2022-01-20T00:14:57.957780Z"
    },
    "id": "1NnlRSklhVAs",
    "outputId": "841f2927-fe66-4b12-8082-57959fe75464"
   },
   "outputs": [
    {
     "data": {
      "text/plain": [
       "37694.28175792021"
      ]
     },
     "execution_count": 20,
     "metadata": {},
     "output_type": "execute_result"
    }
   ],
   "source": [
    "# calcule MAE\n",
    "metrics.mean_absolute_error(y_test,y_pred)"
   ]
  },
  {
   "cell_type": "code",
   "execution_count": 21,
   "metadata": {
    "ExecuteTime": {
     "end_time": "2022-01-20T00:14:58.358056Z",
     "start_time": "2022-01-20T00:14:58.250117Z"
    },
    "id": "P2FKg4vLhVAt",
    "outputId": "a288359c-d5cf-4b25-d91d-2c167e7fae6f"
   },
   "outputs": [
    {
     "data": {
      "text/plain": [
       "2808244730.2454386"
      ]
     },
     "execution_count": 21,
     "metadata": {},
     "output_type": "execute_result"
    }
   ],
   "source": [
    "# calcule MSE\n",
    "metrics.mean_squared_error(y_test,y_pred)"
   ]
  },
  {
   "cell_type": "code",
   "execution_count": 22,
   "metadata": {
    "ExecuteTime": {
     "end_time": "2022-01-20T00:14:58.483986Z",
     "start_time": "2022-01-20T00:14:58.363054Z"
    },
    "id": "CQtKkusehVAt",
    "outputId": "87aecb28-e903-4c44-e503-c49d1c6de881"
   },
   "outputs": [
    {
     "data": {
      "text/plain": [
       "52992.87433462577"
      ]
     },
     "execution_count": 22,
     "metadata": {},
     "output_type": "execute_result"
    }
   ],
   "source": [
    "# calcule RMSE\n",
    "metrics.mean_squared_error(y_test,y_pred,squared=False)"
   ]
  },
  {
   "cell_type": "markdown",
   "metadata": {
    "id": "kdbhUBquhVAu"
   },
   "source": [
    "Vamos dar uma olhada em tudo junto:\n"
   ]
  },
  {
   "cell_type": "code",
   "execution_count": 23,
   "metadata": {
    "ExecuteTime": {
     "end_time": "2022-01-20T00:14:59.832959Z",
     "start_time": "2022-01-20T00:14:58.597918Z"
    },
    "id": "HsChW2BAhVAv",
    "outputId": "beafc037-4935-45f9-ff7d-f07c3e77c4b4",
    "scrolled": false
   },
   "outputs": [
    {
     "name": "stdout",
     "output_type": "stream",
     "text": [
      "Intercepto: 1562.012190983136\n",
      "Coeficienter angular: [118.6121988]\n",
      "\n",
      "####################################################\n",
      "\n"
     ]
    },
    {
     "data": {
      "image/png": "[encoded data removed]",
      "text/plain": [
       "<Figure size 432x288 with 1 Axes>"
      ]
     },
     "metadata": {
      "needs_background": "light"
     },
     "output_type": "display_data"
    },
    {
     "name": "stdout",
     "output_type": "stream",
     "text": [
      "\n",
      "####################################################\n",
      "\n"
     ]
    },
    {
     "data": {
      "image/png": "[encoded data removed]",
      "text/plain": [
       "<Figure size 432x288 with 1 Axes>"
      ]
     },
     "metadata": {
      "needs_background": "light"
     },
     "output_type": "display_data"
    },
    {
     "data": {
      "image/png": "[encoded data removed]",
      "text/plain": [
       "<Figure size 432x288 with 1 Axes>"
      ]
     },
     "metadata": {
      "needs_background": "light"
     },
     "output_type": "display_data"
    },
    {
     "name": "stdout",
     "output_type": "stream",
     "text": [
      "\n",
      "####################################################\n",
      "\n",
      "\n",
      "Métricas de avaliação:\n",
      "\n",
      "R^2: 0.49160330551638054\n",
      "MAE: 37694.28175792021\n",
      "MSE: 2808244730.2454386\n",
      "RMSE: 52992.87433462577\n"
     ]
    }
   ],
   "source": [
    "X = df['GrLivArea']\n",
    "y = df['SalePrice']\n",
    "\n",
    "# 1) Importar\n",
    "from sklearn.linear_model import LinearRegression\n",
    "\n",
    "# 2) Instanciar\n",
    "estimador = LinearRegression()\n",
    "\n",
    "# 3) Dividir os dados em treino e teste\n",
    "from sklearn.model_selection import train_test_split\n",
    "X_treino, X_teste, y_treino, y_teste = train_test_split(X, y, test_size=0.2, random_state=42)\n",
    "\n",
    "# 4) Treinamento\n",
    "modelo = estimador.fit(np.array(X_treino).reshape(-1, 1), y_treino)\n",
    "\n",
    "print(\"Intercepto:\", modelo.intercept_)\n",
    "print(\"Coeficienter angular:\", modelo.coef_)\n",
    "\n",
    "print(\"\\n####################################################\\n\")\n",
    "\n",
    "plt.title(\"Modelo de regressão linear\")\n",
    "\n",
    "sns.scatterplot(data=df, x=\"GrLivArea\", y=\"SalePrice\")\n",
    "\n",
    "x = np.linspace(0, 6000, 100000)\n",
    "y = modelo.intercept_ + modelo.coef_[0]*x\n",
    "plt.plot(x, y, color=\"red\")\n",
    "plt.show()\n",
    "\n",
    "print(\"\\n####################################################\\n\")\n",
    "\n",
    "# 5) Teste\n",
    "predictions = modelo.predict(np.array(X_teste).reshape(-1, 1))\n",
    "\n",
    "plt.title(\"valor predito vs valor real\")\n",
    "sns.scatterplot(x=predictions, y=y_teste)\n",
    "plt.show()\n",
    "\n",
    "plt.title(\"Distribuição dos resíduos\")\n",
    "sns.histplot(y_teste-predictions, kde=True)\n",
    "plt.show()\n",
    "\n",
    "print(\"\\n####################################################\\n\")\n",
    "\n",
    "print(\"\\nMétricas de avaliação:\")\n",
    "\n",
    "# 6) \n",
    "from sklearn import metrics\n",
    "\n",
    "print('\\nR^2:', metrics.r2_score(y_test, predictions))\n",
    "print('MAE:', metrics.mean_absolute_error(y_test, predictions))\n",
    "print('MSE:', metrics.mean_squared_error(y_test, predictions))\n",
    "print('RMSE:', metrics.mean_squared_error(y_test, y_pred,squared=False))"
   ]
  },
  {
   "cell_type": "markdown",
   "metadata": {},
   "source": [
    "Utilizando outra feature"
   ]
  },
  {
   "cell_type": "code",
   "execution_count": 25,
   "metadata": {},
   "outputs": [
    {
     "data": {
      "text/plain": [
       "LinearRegression()"
      ]
     },
     "execution_count": 25,
     "metadata": {},
     "output_type": "execute_result"
    }
   ],
   "source": [
    "X = df['OverallQual']\n",
    "y = df['SalePrice']\n",
    "\n",
    "X_train, X_test, y_train, y_test = train_test_split(X, y, test_size=0.2, random_state=42)\n",
    "reg_lin2 = LinearRegression()\n",
    "\n",
    "reg_lin2.fit(X_train.values.reshape(-1,1),y_train)"
   ]
  },
  {
   "cell_type": "code",
   "execution_count": 26,
   "metadata": {},
   "outputs": [],
   "source": [
    "y_pred = reg_lin2.predict(X_test.values.reshape(-1, 1))"
   ]
  },
  {
   "cell_type": "code",
   "execution_count": 27,
   "metadata": {},
   "outputs": [
    {
     "name": "stdout",
     "output_type": "stream",
     "text": [
      "\n",
      "R^2: 0.7009795959297107\n",
      "MAE: 31130.10981011291\n",
      "MSE: 1651707186.6864927\n",
      "RMSE: 40641.200605869075\n"
     ]
    }
   ],
   "source": [
    "print('\\nR^2:', metrics.r2_score(y_test, y_pred))\n",
    "print('MAE:', metrics.mean_absolute_error(y_test, y_pred))\n",
    "print('MSE:', metrics.mean_squared_error(y_test, y_pred))\n",
    "print('RMSE:', metrics.mean_squared_error(y_test, y_pred,squared=False))"
   ]
  },
  {
   "cell_type": "markdown",
   "metadata": {
    "id": "CKJDjYz_hVAx"
   },
   "source": [
    "___\n",
    "___\n",
    "___"
   ]
  },
  {
   "cell_type": "markdown",
   "metadata": {
    "id": "_PEvqc5ihVAy"
   },
   "source": [
    "## 3) Regressão linear múltipla\n",
    "\n",
    "O modelo que fizemos acima considera uma única feature como preditora do preço da casa.\n",
    "\n",
    "Mas temos outras 78 dessas features! Será que não há mais informação útil em todas essas outras variáveis?\n",
    "\n",
    "Em geral, sim! É natural que esperemos que **mais variáveis** tragam **mais informações** ao modelo, e, portanto, o torne mais preciso!\n",
    "\n",
    "Para incorporar estas outras variáveis ao modelo, é muito simples! \n",
    "\n",
    "Podemos passar a utilizar outros atributos (como o número de cômodos, qual é a renda média da vizinhança, etc.), e neste caso teremos uma **Regressão Linear Múltipla**, que é expressa pela seguinte função de hipótese:\n",
    "\n",
    "$$ y = f_{H, \\vec{b}} = b_0 + b_1 X_1 + b_2 X_2 + \\cdots + b_n X_n $$\n",
    "\n",
    "Neste caso, além de $b_0$ e $b_1$, temos também outros coeficientes, um pra cada uma das $n$ features que escolhermos! Ou seja, o vetor de parâmetros tem $n+1$ dimensões:\n",
    "\n",
    "$$\\vec{b} = \\begin{bmatrix}\n",
    "b_0\\\\ \n",
    "b_1\\\\\n",
    "\\vdots\\\\\n",
    "b_n\n",
    "\\end{bmatrix}$$\n",
    "\n",
    "Modelos de regressão múltipla são potencialmente mais precisos, mas há também um lado ruim: nós perdemos a **possibilidade de visualização**. Agora, não temos mais uma reta, mas sim um **hiperplano** que relaciona todas as features com o target!\n",
    "\n",
    "<img src=\"https://miro.medium.com/max/1120/0*rGSfRsMjiQeG5jof.png\" width=500>\n",
    "\n",
    "Vamos construir esse modelo?"
   ]
  },
  {
   "cell_type": "code",
   "execution_count": 28,
   "metadata": {
    "ExecuteTime": {
     "end_time": "2022-01-20T00:14:59.911857Z",
     "start_time": "2022-01-20T00:14:59.835957Z"
    },
    "id": "jBbLdnKXhVAz",
    "outputId": "d84e4a9b-e824-49b7-c879-6173081dee4d",
    "scrolled": false
   },
   "outputs": [
    {
     "name": "stdout",
     "output_type": "stream",
     "text": [
      "<class 'pandas.core.frame.DataFrame'>\n",
      "Int64Index: 1458 entries, 0 to 1459\n",
      "Data columns (total 81 columns):\n",
      " #   Column         Non-Null Count  Dtype  \n",
      "---  ------         --------------  -----  \n",
      " 0   Id             1458 non-null   int64  \n",
      " 1   MSSubClass     1458 non-null   int64  \n",
      " 2   MSZoning       1458 non-null   object \n",
      " 3   LotFrontage    1199 non-null   float64\n",
      " 4   LotArea        1458 non-null   int64  \n",
      " 5   Street         1458 non-null   object \n",
      " 6   Alley          91 non-null     object \n",
      " 7   LotShape       1458 non-null   object \n",
      " 8   LandContour    1458 non-null   object \n",
      " 9   Utilities      1458 non-null   object \n",
      " 10  LotConfig      1458 non-null   object \n",
      " 11  LandSlope      1458 non-null   object \n",
      " 12  Neighborhood   1458 non-null   object \n",
      " 13  Condition1     1458 non-null   object \n",
      " 14  Condition2     1458 non-null   object \n",
      " 15  BldgType       1458 non-null   object \n",
      " 16  HouseStyle     1458 non-null   object \n",
      " 17  OverallQual    1458 non-null   int64  \n",
      " 18  OverallCond    1458 non-null   int64  \n",
      " 19  YearBuilt      1458 non-null   int64  \n",
      " 20  YearRemodAdd   1458 non-null   int64  \n",
      " 21  RoofStyle      1458 non-null   object \n",
      " 22  RoofMatl       1458 non-null   object \n",
      " 23  Exterior1st    1458 non-null   object \n",
      " 24  Exterior2nd    1458 non-null   object \n",
      " 25  MasVnrType     1450 non-null   object \n",
      " 26  MasVnrArea     1450 non-null   float64\n",
      " 27  ExterQual      1458 non-null   object \n",
      " 28  ExterCond      1458 non-null   object \n",
      " 29  Foundation     1458 non-null   object \n",
      " 30  BsmtQual       1421 non-null   object \n",
      " 31  BsmtCond       1421 non-null   object \n",
      " 32  BsmtExposure   1420 non-null   object \n",
      " 33  BsmtFinType1   1421 non-null   object \n",
      " 34  BsmtFinSF1     1458 non-null   int64  \n",
      " 35  BsmtFinType2   1420 non-null   object \n",
      " 36  BsmtFinSF2     1458 non-null   int64  \n",
      " 37  BsmtUnfSF      1458 non-null   int64  \n",
      " 38  TotalBsmtSF    1458 non-null   int64  \n",
      " 39  Heating        1458 non-null   object \n",
      " 40  HeatingQC      1458 non-null   object \n",
      " 41  CentralAir     1458 non-null   object \n",
      " 42  Electrical     1457 non-null   object \n",
      " 43  1stFlrSF       1458 non-null   int64  \n",
      " 44  2ndFlrSF       1458 non-null   int64  \n",
      " 45  LowQualFinSF   1458 non-null   int64  \n",
      " 46  GrLivArea      1458 non-null   int64  \n",
      " 47  BsmtFullBath   1458 non-null   int64  \n",
      " 48  BsmtHalfBath   1458 non-null   int64  \n",
      " 49  FullBath       1458 non-null   int64  \n",
      " 50  HalfBath       1458 non-null   int64  \n",
      " 51  BedroomAbvGr   1458 non-null   int64  \n",
      " 52  KitchenAbvGr   1458 non-null   int64  \n",
      " 53  KitchenQual    1458 non-null   object \n",
      " 54  TotRmsAbvGrd   1458 non-null   int64  \n",
      " 55  Functional     1458 non-null   object \n",
      " 56  Fireplaces     1458 non-null   int64  \n",
      " 57  FireplaceQu    768 non-null    object \n",
      " 58  GarageType     1377 non-null   object \n",
      " 59  GarageYrBlt    1377 non-null   float64\n",
      " 60  GarageFinish   1377 non-null   object \n",
      " 61  GarageCars     1458 non-null   int64  \n",
      " 62  GarageArea     1458 non-null   int64  \n",
      " 63  GarageQual     1377 non-null   object \n",
      " 64  GarageCond     1377 non-null   object \n",
      " 65  PavedDrive     1458 non-null   object \n",
      " 66  WoodDeckSF     1458 non-null   int64  \n",
      " 67  OpenPorchSF    1458 non-null   int64  \n",
      " 68  EnclosedPorch  1458 non-null   int64  \n",
      " 69  3SsnPorch      1458 non-null   int64  \n",
      " 70  ScreenPorch    1458 non-null   int64  \n",
      " 71  PoolArea       1458 non-null   int64  \n",
      " 72  PoolQC         6 non-null      object \n",
      " 73  Fence          281 non-null    object \n",
      " 74  MiscFeature    54 non-null     object \n",
      " 75  MiscVal        1458 non-null   int64  \n",
      " 76  MoSold         1458 non-null   int64  \n",
      " 77  YrSold         1458 non-null   int64  \n",
      " 78  SaleType       1458 non-null   object \n",
      " 79  SaleCondition  1458 non-null   object \n",
      " 80  SalePrice      1458 non-null   int64  \n",
      "dtypes: float64(3), int64(35), object(43)\n",
      "memory usage: 934.0+ KB\n"
     ]
    }
   ],
   "source": [
    "# Verificando novamente os dados do dataset\n",
    "df.info()"
   ]
  },
  {
   "cell_type": "code",
   "execution_count": 29,
   "metadata": {
    "ExecuteTime": {
     "end_time": "2022-01-20T00:15:00.019794Z",
     "start_time": "2022-01-20T00:14:59.915854Z"
    },
    "id": "uTzSYm0ihVA0",
    "outputId": "f5772731-d2b2-4649-e891-f404e70ce0da",
    "scrolled": true
   },
   "outputs": [
    {
     "name": "stdout",
     "output_type": "stream",
     "text": [
      "<class 'pandas.core.frame.DataFrame'>\n",
      "Int64Index: 1458 entries, 0 to 1459\n",
      "Data columns (total 38 columns):\n",
      " #   Column         Non-Null Count  Dtype  \n",
      "---  ------         --------------  -----  \n",
      " 0   Id             1458 non-null   int64  \n",
      " 1   MSSubClass     1458 non-null   int64  \n",
      " 2   LotFrontage    1199 non-null   float64\n",
      " 3   LotArea        1458 non-null   int64  \n",
      " 4   OverallQual    1458 non-null   int64  \n",
      " 5   OverallCond    1458 non-null   int64  \n",
      " 6   YearBuilt      1458 non-null   int64  \n",
      " 7   YearRemodAdd   1458 non-null   int64  \n",
      " 8   MasVnrArea     1450 non-null   float64\n",
      " 9   BsmtFinSF1     1458 non-null   int64  \n",
      " 10  BsmtFinSF2     1458 non-null   int64  \n",
      " 11  BsmtUnfSF      1458 non-null   int64  \n",
      " 12  TotalBsmtSF    1458 non-null   int64  \n",
      " 13  1stFlrSF       1458 non-null   int64  \n",
      " 14  2ndFlrSF       1458 non-null   int64  \n",
      " 15  LowQualFinSF   1458 non-null   int64  \n",
      " 16  GrLivArea      1458 non-null   int64  \n",
      " 17  BsmtFullBath   1458 non-null   int64  \n",
      " 18  BsmtHalfBath   1458 non-null   int64  \n",
      " 19  FullBath       1458 non-null   int64  \n",
      " 20  HalfBath       1458 non-null   int64  \n",
      " 21  BedroomAbvGr   1458 non-null   int64  \n",
      " 22  KitchenAbvGr   1458 non-null   int64  \n",
      " 23  TotRmsAbvGrd   1458 non-null   int64  \n",
      " 24  Fireplaces     1458 non-null   int64  \n",
      " 25  GarageYrBlt    1377 non-null   float64\n",
      " 26  GarageCars     1458 non-null   int64  \n",
      " 27  GarageArea     1458 non-null   int64  \n",
      " 28  WoodDeckSF     1458 non-null   int64  \n",
      " 29  OpenPorchSF    1458 non-null   int64  \n",
      " 30  EnclosedPorch  1458 non-null   int64  \n",
      " 31  3SsnPorch      1458 non-null   int64  \n",
      " 32  ScreenPorch    1458 non-null   int64  \n",
      " 33  PoolArea       1458 non-null   int64  \n",
      " 34  MiscVal        1458 non-null   int64  \n",
      " 35  MoSold         1458 non-null   int64  \n",
      " 36  YrSold         1458 non-null   int64  \n",
      " 37  SalePrice      1458 non-null   int64  \n",
      "dtypes: float64(3), int64(35)\n",
      "memory usage: 444.2 KB\n"
     ]
    }
   ],
   "source": [
    "# Selecionar somente as features numéricas\n",
    "df.select_dtypes(include=[np.number]).info()"
   ]
  },
  {
   "cell_type": "code",
   "execution_count": 30,
   "metadata": {
    "ExecuteTime": {
     "end_time": "2022-01-20T00:15:00.193750Z",
     "start_time": "2022-01-20T00:15:00.074284Z"
    },
    "id": "IWbAsCjchVA1",
    "outputId": "1260769a-a5ee-4d3e-f73a-2126ef531ad1"
   },
   "outputs": [
    {
     "data": {
      "text/plain": [
       "Id                 0\n",
       "MSSubClass         0\n",
       "LotFrontage      259\n",
       "LotArea            0\n",
       "OverallQual        0\n",
       "OverallCond        0\n",
       "YearBuilt          0\n",
       "YearRemodAdd       0\n",
       "MasVnrArea         8\n",
       "BsmtFinSF1         0\n",
       "BsmtFinSF2         0\n",
       "BsmtUnfSF          0\n",
       "TotalBsmtSF        0\n",
       "1stFlrSF           0\n",
       "2ndFlrSF           0\n",
       "LowQualFinSF       0\n",
       "GrLivArea          0\n",
       "BsmtFullBath       0\n",
       "BsmtHalfBath       0\n",
       "FullBath           0\n",
       "HalfBath           0\n",
       "BedroomAbvGr       0\n",
       "KitchenAbvGr       0\n",
       "TotRmsAbvGrd       0\n",
       "Fireplaces         0\n",
       "GarageYrBlt       81\n",
       "GarageCars         0\n",
       "GarageArea         0\n",
       "WoodDeckSF         0\n",
       "OpenPorchSF        0\n",
       "EnclosedPorch      0\n",
       "3SsnPorch          0\n",
       "ScreenPorch        0\n",
       "PoolArea           0\n",
       "MiscVal            0\n",
       "MoSold             0\n",
       "YrSold             0\n",
       "SalePrice          0\n",
       "dtype: int64"
      ]
     },
     "execution_count": 30,
     "metadata": {},
     "output_type": "execute_result"
    }
   ],
   "source": [
    "# Verificar ocorrência de valores nulos\n",
    "df.select_dtypes(include=[np.number]).isnull().sum()"
   ]
  },
  {
   "cell_type": "code",
   "execution_count": 31,
   "metadata": {
    "ExecuteTime": {
     "end_time": "2022-01-20T00:15:00.397158Z",
     "start_time": "2022-01-20T00:15:00.197728Z"
    },
    "id": "jvMLywQIhVA4"
   },
   "outputs": [],
   "source": [
    "# selecione todas as outras colunas numéricas como a variável de features X\n",
    "# dica: df.select_dtypes(include=[np.number])\n",
    "df = df.select_dtypes(include=[np.number])\n",
    "df = df.dropna(axis='columns', how='any')"
   ]
  },
  {
   "cell_type": "code",
   "execution_count": 33,
   "metadata": {
    "ExecuteTime": {
     "end_time": "2022-01-20T00:15:00.524320Z",
     "start_time": "2022-01-20T00:15:00.401154Z"
    },
    "id": "FTxwvBe8hVA4",
    "outputId": "9afa5a16-6280-4f28-cd74-e8fd76bf623a"
   },
   "outputs": [
    {
     "data": {
      "text/plain": [
       "Id               0\n",
       "MSSubClass       0\n",
       "LotArea          0\n",
       "OverallQual      0\n",
       "OverallCond      0\n",
       "YearBuilt        0\n",
       "YearRemodAdd     0\n",
       "BsmtFinSF1       0\n",
       "BsmtFinSF2       0\n",
       "BsmtUnfSF        0\n",
       "TotalBsmtSF      0\n",
       "1stFlrSF         0\n",
       "2ndFlrSF         0\n",
       "LowQualFinSF     0\n",
       "GrLivArea        0\n",
       "BsmtFullBath     0\n",
       "BsmtHalfBath     0\n",
       "FullBath         0\n",
       "HalfBath         0\n",
       "BedroomAbvGr     0\n",
       "KitchenAbvGr     0\n",
       "TotRmsAbvGrd     0\n",
       "Fireplaces       0\n",
       "GarageCars       0\n",
       "GarageArea       0\n",
       "WoodDeckSF       0\n",
       "OpenPorchSF      0\n",
       "EnclosedPorch    0\n",
       "3SsnPorch        0\n",
       "ScreenPorch      0\n",
       "PoolArea         0\n",
       "MiscVal          0\n",
       "MoSold           0\n",
       "YrSold           0\n",
       "SalePrice        0\n",
       "dtype: int64"
      ]
     },
     "execution_count": 33,
     "metadata": {},
     "output_type": "execute_result"
    }
   ],
   "source": [
    "# Verificando novamente a ocorrência de valores nulos\n",
    "df.isnull().sum()"
   ]
  },
  {
   "cell_type": "markdown",
   "metadata": {
    "id": "BVcp63RjhVA6"
   },
   "source": [
    "Observação: a coluna \"Id\" traz apenas um número de identificação arbitrário que não deve ser correlacionado com o target. Portanto, vamos desconsiderar esta coluna de nosso modelo!"
   ]
  },
  {
   "cell_type": "code",
   "execution_count": 35,
   "metadata": {
    "ExecuteTime": {
     "end_time": "2022-01-20T00:15:00.665242Z",
     "start_time": "2022-01-20T00:15:00.527333Z"
    },
    "id": "spoqb9jfhVA6"
   },
   "outputs": [],
   "source": [
    "# Criando o X e o y\n",
    "X = df.drop(columns=['Id', 'SalePrice'])\n",
    "y = df['SalePrice']"
   ]
  },
  {
   "cell_type": "code",
   "execution_count": 36,
   "metadata": {
    "ExecuteTime": {
     "end_time": "2022-01-20T00:15:00.777177Z",
     "start_time": "2022-01-20T00:15:00.672237Z"
    },
    "id": "DBpl4dJ-hVA6",
    "outputId": "eadcca6b-3d0e-43be-e940-2788ef64f453"
   },
   "outputs": [
    {
     "data": {
      "text/plain": [
       "Index(['MSSubClass', 'LotArea', 'OverallQual', 'OverallCond', 'YearBuilt',\n",
       "       'YearRemodAdd', 'BsmtFinSF1', 'BsmtFinSF2', 'BsmtUnfSF', 'TotalBsmtSF',\n",
       "       '1stFlrSF', '2ndFlrSF', 'LowQualFinSF', 'GrLivArea', 'BsmtFullBath',\n",
       "       'BsmtHalfBath', 'FullBath', 'HalfBath', 'BedroomAbvGr', 'KitchenAbvGr',\n",
       "       'TotRmsAbvGrd', 'Fireplaces', 'GarageCars', 'GarageArea', 'WoodDeckSF',\n",
       "       'OpenPorchSF', 'EnclosedPorch', '3SsnPorch', 'ScreenPorch', 'PoolArea',\n",
       "       'MiscVal', 'MoSold', 'YrSold'],\n",
       "      dtype='object')"
      ]
     },
     "execution_count": 36,
     "metadata": {},
     "output_type": "execute_result"
    }
   ],
   "source": [
    "# Nomes das features\n",
    "X.columns"
   ]
  },
  {
   "cell_type": "code",
   "execution_count": 37,
   "metadata": {
    "ExecuteTime": {
     "end_time": "2022-01-20T00:15:00.915097Z",
     "start_time": "2022-01-20T00:15:00.783176Z"
    },
    "id": "jvU-4XzFhVA6",
    "outputId": "33c8ed2f-ff91-45cd-82a7-e37854b60ea4"
   },
   "outputs": [
    {
     "data": {
      "text/plain": [
       "(1458, 33)"
      ]
     },
     "execution_count": 37,
     "metadata": {},
     "output_type": "execute_result"
    }
   ],
   "source": [
    "# Shape de X\n",
    "X.shape"
   ]
  },
  {
   "cell_type": "code",
   "execution_count": 38,
   "metadata": {
    "ExecuteTime": {
     "end_time": "2022-01-20T00:15:02.126513Z",
     "start_time": "2022-01-20T00:15:00.918095Z"
    },
    "id": "Vj4jBjFzhVA7",
    "outputId": "c12a2b5c-a73c-47f7-e4a7-8e7a196c268d"
   },
   "outputs": [
    {
     "name": "stdout",
     "output_type": "stream",
     "text": [
      "Intercepto: -355999.7470664667\n",
      "Coeficientes angulares: [-1.12585601e+02  4.90238272e-01  1.46756366e+04  5.05565957e+03\n",
      "  3.94922596e+02  1.34368773e+02  2.59168796e+01 -2.65571175e+00\n",
      "  6.39940710e-01  2.39011085e+01  2.40115938e+01  2.48670585e+01\n",
      " -3.00610178e+00  4.58725506e+01 -6.09458509e+02 -3.72881778e+03\n",
      " -1.21068789e+03 -1.90728034e+03 -1.51336961e+04 -1.42179718e+04\n",
      "  5.49321316e+03  6.06298683e+02  1.34345675e+03  2.08353538e+01\n",
      "  1.00323546e+01  1.91281980e+01  1.18709828e+00  1.40666977e+01\n",
      "  2.01493675e+01  5.40145044e+01 -1.96142385e+00 -3.90326342e+02\n",
      " -3.75378807e+02]\n",
      "\n",
      "####################################################\n",
      "\n"
     ]
    },
    {
     "data": {
      "image/png": "[encoded data removed]",
      "text/plain": [
       "<Figure size 432x288 with 1 Axes>"
      ]
     },
     "metadata": {
      "needs_background": "light"
     },
     "output_type": "display_data"
    },
    {
     "data": {
      "image/png": "[encoded data removed]",
      "text/plain": [
       "<Figure size 432x288 with 1 Axes>"
      ]
     },
     "metadata": {
      "needs_background": "light"
     },
     "output_type": "display_data"
    },
    {
     "name": "stdout",
     "output_type": "stream",
     "text": [
      "\n",
      "####################################################\n",
      "\n",
      "\n",
      "Métricas de avaliação (dados de teste):\n",
      "\n",
      "R^2: 0.8563506695017991\n",
      "MAE: 20734.904154105297\n",
      "MSE: 793479736.8904921\n",
      "RMSE: 28168.772371022704\n"
     ]
    }
   ],
   "source": [
    "# Etapas da modelagem\n",
    "\n",
    "# 1)\n",
    "from sklearn.linear_model import LinearRegression\n",
    "\n",
    "# 2)\n",
    "estimador = LinearRegression()\n",
    "\n",
    "# 3)\n",
    "from sklearn.model_selection import train_test_split\n",
    "\n",
    "X_treino, X_teste, y_treino, y_teste = train_test_split(X, y, test_size=0.2, random_state=42)\n",
    "\n",
    "# 4)\n",
    "modelo = estimador.fit(X_treino,y_treino)\n",
    "\n",
    "print(\"Intercepto:\", modelo.intercept_ )\n",
    "print(\"Coeficientes angulares:\",modelo.coef_ )\n",
    "\n",
    "print(\"\\n####################################################\\n\")\n",
    "\n",
    "# 5)\n",
    "predictions = modelo.predict(X_teste)\n",
    "\n",
    "\n",
    "plt.title(\"valor predito vs valor real\")\n",
    "sns.scatterplot(x=predictions, y=y_teste)\n",
    "plt.plot(np.linspace(0, 500000, 1000), np.linspace(0, 500000, 1000), color=\"red\")\n",
    "plt.show()\n",
    "\n",
    "plt.title(\"Distribuição dos resíduos\")\n",
    "sns.histplot(y_teste-predictions, kde=True)\n",
    "plt.show()\n",
    "\n",
    "print(\"\\n####################################################\\n\")\n",
    "\n",
    "print(\"\\nMétricas de avaliação (dados de teste):\\n\")\n",
    "\n",
    "# 6)\n",
    "from sklearn import metrics\n",
    "\n",
    "print('R^2:', metrics.r2_score(y_teste, predictions))\n",
    "print('MAE:', metrics.mean_absolute_error(y_teste, predictions))\n",
    "print('MSE:', metrics.mean_squared_error(y_teste, predictions))\n",
    "print('RMSE:', np.sqrt(metrics.mean_squared_error(y_teste, predictions)))"
   ]
  },
  {
   "cell_type": "markdown",
   "metadata": {
    "id": "O-xuU_4-hVA7"
   },
   "source": [
    "Também é possível calcularmos as métricas de performance na base de treino, mas temos que tomar muito cuidado ao interpretar estas medidas!\n",
    "\n",
    "Mais adiante falaremos sobre overfitting, e este ponto ficará mais claro."
   ]
  },
  {
   "cell_type": "code",
   "execution_count": 39,
   "metadata": {
    "ExecuteTime": {
     "end_time": "2022-01-20T00:15:03.399387Z",
     "start_time": "2022-01-20T00:15:02.155043Z"
    },
    "id": "urcGmSAchVA7",
    "outputId": "96537958-1bf7-48b2-9df5-55671f7593f3"
   },
   "outputs": [
    {
     "name": "stdout",
     "output_type": "stream",
     "text": [
      "\n",
      "Performance de TREINO\n",
      "\n"
     ]
    },
    {
     "data": {
      "image/png": "[encoded data removed]",
      "text/plain": [
       "<Figure size 432x288 with 1 Axes>"
      ]
     },
     "metadata": {
      "needs_background": "light"
     },
     "output_type": "display_data"
    },
    {
     "data": {
      "image/png": "[encoded data removed]",
      "text/plain": [
       "<Figure size 432x288 with 1 Axes>"
      ]
     },
     "metadata": {
      "needs_background": "light"
     },
     "output_type": "display_data"
    },
    {
     "name": "stdout",
     "output_type": "stream",
     "text": [
      "\n",
      "####################################################\n",
      "\n",
      "\n",
      "Métricas de avaliação (dados de treino):\n",
      "\n",
      "R^2: 0.8616841881921395\n",
      "MAE: 20508.039034549503\n",
      "MSE: 900886802.9866577\n",
      "RMSE: 30014.776410739058\n"
     ]
    }
   ],
   "source": [
    "print(\"\\nPerformance de TREINO\\n\")\n",
    "\n",
    "predictions = modelo.predict(X_treino)\n",
    "\n",
    "plt.title(\"valor predito vs valor real\")\n",
    "sns.scatterplot(x=predictions, y=y_treino)\n",
    "plt.plot(np.linspace(0, 500000, 1000), np.linspace(0, 500000, 1000), color=\"red\")\n",
    "plt.show()\n",
    "\n",
    "plt.title(\"Distribuição dos resíduos\")\n",
    "sns.histplot(y_treino-predictions, kde=True)\n",
    "plt.show()\n",
    "\n",
    "print(\"\\n####################################################\\n\")\n",
    "\n",
    "print(\"\\nMétricas de avaliação (dados de treino):\\n\")\n",
    "\n",
    "# 6)\n",
    "from sklearn import metrics\n",
    "\n",
    "print('R^2:', metrics.r2_score(y_treino, predictions))\n",
    "print('MAE:', metrics.mean_absolute_error(y_treino, predictions))\n",
    "print('MSE:', metrics.mean_squared_error(y_treino, predictions))\n",
    "print('RMSE:', np.sqrt(metrics.mean_squared_error(y_treino, predictions)))"
   ]
  },
  {
   "cell_type": "markdown",
   "metadata": {
    "id": "NyAKtV2PhVA8"
   },
   "source": [
    "Vamos olhar para os parâmetros do modelo:"
   ]
  },
  {
   "cell_type": "code",
   "execution_count": 40,
   "metadata": {
    "ExecuteTime": {
     "end_time": "2022-01-20T00:15:03.455345Z",
     "start_time": "2022-01-20T00:15:03.419363Z"
    },
    "id": "4UaVn4DkhVA8",
    "outputId": "fb0f7661-39b3-40f5-bee4-15735a747e76"
   },
   "outputs": [
    {
     "data": {
      "text/plain": [
       "array([-1.12585601e+02,  4.90238272e-01,  1.46756366e+04,  5.05565957e+03,\n",
       "        3.94922596e+02,  1.34368773e+02,  2.59168796e+01, -2.65571175e+00,\n",
       "        6.39940710e-01,  2.39011085e+01,  2.40115938e+01,  2.48670585e+01,\n",
       "       -3.00610178e+00,  4.58725506e+01, -6.09458509e+02, -3.72881778e+03,\n",
       "       -1.21068789e+03, -1.90728034e+03, -1.51336961e+04, -1.42179718e+04,\n",
       "        5.49321316e+03,  6.06298683e+02,  1.34345675e+03,  2.08353538e+01,\n",
       "        1.00323546e+01,  1.91281980e+01,  1.18709828e+00,  1.40666977e+01,\n",
       "        2.01493675e+01,  5.40145044e+01, -1.96142385e+00, -3.90326342e+02,\n",
       "       -3.75378807e+02])"
      ]
     },
     "execution_count": 40,
     "metadata": {},
     "output_type": "execute_result"
    }
   ],
   "source": [
    "#Coeficientes angulares\n",
    "modelo.coef_"
   ]
  },
  {
   "cell_type": "code",
   "execution_count": 42,
   "metadata": {
    "ExecuteTime": {
     "end_time": "2022-01-20T00:15:03.555286Z",
     "start_time": "2022-01-20T00:15:03.460340Z"
    },
    "id": "Mu1ebfBhhVA8",
    "outputId": "be7b68b0-765e-41b4-eba8-fa9fb89d7b88"
   },
   "outputs": [
    {
     "data": {
      "text/plain": [
       "-355999.7470664667"
      ]
     },
     "execution_count": 42,
     "metadata": {},
     "output_type": "execute_result"
    }
   ],
   "source": [
    "#Coeficiente linear\n",
    "modelo.intercept_"
   ]
  },
  {
   "cell_type": "code",
   "execution_count": 43,
   "metadata": {
    "ExecuteTime": {
     "end_time": "2022-01-20T00:15:03.666221Z",
     "start_time": "2022-01-20T00:15:03.563282Z"
    },
    "id": "pVmiwTJWhVA9",
    "outputId": "e8a7897f-e099-4bec-da58-5c083e3ae89b"
   },
   "outputs": [
    {
     "data": {
      "text/html": [
       "<div>\n",
       "<style scoped>\n",
       "    .dataframe tbody tr th:only-of-type {\n",
       "        vertical-align: middle;\n",
       "    }\n",
       "\n",
       "    .dataframe tbody tr th {\n",
       "        vertical-align: top;\n",
       "    }\n",
       "\n",
       "    .dataframe thead th {\n",
       "        text-align: right;\n",
       "    }\n",
       "</style>\n",
       "<table border=\"1\" class=\"dataframe\">\n",
       "  <thead>\n",
       "    <tr style=\"text-align: right;\">\n",
       "      <th></th>\n",
       "      <th>Parameter value</th>\n",
       "    </tr>\n",
       "  </thead>\n",
       "  <tbody>\n",
       "    <tr>\n",
       "      <th>MSSubClass</th>\n",
       "      <td>-112.585601</td>\n",
       "    </tr>\n",
       "    <tr>\n",
       "      <th>LotArea</th>\n",
       "      <td>0.490238</td>\n",
       "    </tr>\n",
       "    <tr>\n",
       "      <th>OverallQual</th>\n",
       "      <td>14675.636583</td>\n",
       "    </tr>\n",
       "    <tr>\n",
       "      <th>OverallCond</th>\n",
       "      <td>5055.659575</td>\n",
       "    </tr>\n",
       "    <tr>\n",
       "      <th>YearBuilt</th>\n",
       "      <td>394.922596</td>\n",
       "    </tr>\n",
       "    <tr>\n",
       "      <th>YearRemodAdd</th>\n",
       "      <td>134.368773</td>\n",
       "    </tr>\n",
       "    <tr>\n",
       "      <th>BsmtFinSF1</th>\n",
       "      <td>25.916880</td>\n",
       "    </tr>\n",
       "    <tr>\n",
       "      <th>BsmtFinSF2</th>\n",
       "      <td>-2.655712</td>\n",
       "    </tr>\n",
       "    <tr>\n",
       "      <th>BsmtUnfSF</th>\n",
       "      <td>0.639941</td>\n",
       "    </tr>\n",
       "    <tr>\n",
       "      <th>TotalBsmtSF</th>\n",
       "      <td>23.901109</td>\n",
       "    </tr>\n",
       "    <tr>\n",
       "      <th>1stFlrSF</th>\n",
       "      <td>24.011594</td>\n",
       "    </tr>\n",
       "    <tr>\n",
       "      <th>2ndFlrSF</th>\n",
       "      <td>24.867058</td>\n",
       "    </tr>\n",
       "    <tr>\n",
       "      <th>LowQualFinSF</th>\n",
       "      <td>-3.006102</td>\n",
       "    </tr>\n",
       "    <tr>\n",
       "      <th>GrLivArea</th>\n",
       "      <td>45.872551</td>\n",
       "    </tr>\n",
       "    <tr>\n",
       "      <th>BsmtFullBath</th>\n",
       "      <td>-609.458509</td>\n",
       "    </tr>\n",
       "    <tr>\n",
       "      <th>BsmtHalfBath</th>\n",
       "      <td>-3728.817785</td>\n",
       "    </tr>\n",
       "    <tr>\n",
       "      <th>FullBath</th>\n",
       "      <td>-1210.687888</td>\n",
       "    </tr>\n",
       "    <tr>\n",
       "      <th>HalfBath</th>\n",
       "      <td>-1907.280343</td>\n",
       "    </tr>\n",
       "    <tr>\n",
       "      <th>BedroomAbvGr</th>\n",
       "      <td>-15133.696141</td>\n",
       "    </tr>\n",
       "    <tr>\n",
       "      <th>KitchenAbvGr</th>\n",
       "      <td>-14217.971799</td>\n",
       "    </tr>\n",
       "    <tr>\n",
       "      <th>TotRmsAbvGrd</th>\n",
       "      <td>5493.213158</td>\n",
       "    </tr>\n",
       "    <tr>\n",
       "      <th>Fireplaces</th>\n",
       "      <td>606.298683</td>\n",
       "    </tr>\n",
       "    <tr>\n",
       "      <th>GarageCars</th>\n",
       "      <td>1343.456753</td>\n",
       "    </tr>\n",
       "    <tr>\n",
       "      <th>GarageArea</th>\n",
       "      <td>20.835354</td>\n",
       "    </tr>\n",
       "    <tr>\n",
       "      <th>WoodDeckSF</th>\n",
       "      <td>10.032355</td>\n",
       "    </tr>\n",
       "    <tr>\n",
       "      <th>OpenPorchSF</th>\n",
       "      <td>19.128198</td>\n",
       "    </tr>\n",
       "    <tr>\n",
       "      <th>EnclosedPorch</th>\n",
       "      <td>1.187098</td>\n",
       "    </tr>\n",
       "    <tr>\n",
       "      <th>3SsnPorch</th>\n",
       "      <td>14.066698</td>\n",
       "    </tr>\n",
       "    <tr>\n",
       "      <th>ScreenPorch</th>\n",
       "      <td>20.149367</td>\n",
       "    </tr>\n",
       "    <tr>\n",
       "      <th>PoolArea</th>\n",
       "      <td>54.014504</td>\n",
       "    </tr>\n",
       "    <tr>\n",
       "      <th>MiscVal</th>\n",
       "      <td>-1.961424</td>\n",
       "    </tr>\n",
       "    <tr>\n",
       "      <th>MoSold</th>\n",
       "      <td>-390.326342</td>\n",
       "    </tr>\n",
       "    <tr>\n",
       "      <th>YrSold</th>\n",
       "      <td>-375.378807</td>\n",
       "    </tr>\n",
       "  </tbody>\n",
       "</table>\n",
       "</div>"
      ],
      "text/plain": [
       "               Parameter value\n",
       "MSSubClass         -112.585601\n",
       "LotArea               0.490238\n",
       "OverallQual       14675.636583\n",
       "OverallCond        5055.659575\n",
       "YearBuilt           394.922596\n",
       "YearRemodAdd        134.368773\n",
       "BsmtFinSF1           25.916880\n",
       "BsmtFinSF2           -2.655712\n",
       "BsmtUnfSF             0.639941\n",
       "TotalBsmtSF          23.901109\n",
       "1stFlrSF             24.011594\n",
       "2ndFlrSF             24.867058\n",
       "LowQualFinSF         -3.006102\n",
       "GrLivArea            45.872551\n",
       "BsmtFullBath       -609.458509\n",
       "BsmtHalfBath      -3728.817785\n",
       "FullBath          -1210.687888\n",
       "HalfBath          -1907.280343\n",
       "BedroomAbvGr     -15133.696141\n",
       "KitchenAbvGr     -14217.971799\n",
       "TotRmsAbvGrd       5493.213158\n",
       "Fireplaces          606.298683\n",
       "GarageCars         1343.456753\n",
       "GarageArea           20.835354\n",
       "WoodDeckSF           10.032355\n",
       "OpenPorchSF          19.128198\n",
       "EnclosedPorch         1.187098\n",
       "3SsnPorch            14.066698\n",
       "ScreenPorch          20.149367\n",
       "PoolArea             54.014504\n",
       "MiscVal              -1.961424\n",
       "MoSold             -390.326342\n",
       "YrSold             -375.378807"
      ]
     },
     "execution_count": 43,
     "metadata": {},
     "output_type": "execute_result"
    }
   ],
   "source": [
    "# dica: use o código abaixo para fazer um dataframe com os coeficientes\n",
    "coeff_df = pd.DataFrame(modelo.coef_, X.columns, columns=['Parameter value'])\n",
    "coeff_df"
   ]
  },
  {
   "cell_type": "markdown",
   "metadata": {
    "id": "L34EuLgPhVA9"
   },
   "source": [
    "É possível interpretar os parâmetros e atribuir uma \"importância\" de cada feature ao valor do respectivo parâmetro. Mas, como discutimos, essa análise é afetada pela escala das features! Veja:"
   ]
  },
  {
   "cell_type": "code",
   "execution_count": 44,
   "metadata": {
    "ExecuteTime": {
     "end_time": "2022-01-20T00:15:04.803576Z",
     "start_time": "2022-01-20T00:15:03.671220Z"
    },
    "id": "w6R6vjVfhVA9",
    "outputId": "4c10c859-af27-49af-8abb-5151d6d5256e"
   },
   "outputs": [
    {
     "data": {
      "text/plain": [
       "<AxesSubplot:xlabel='LotArea', ylabel='Count'>"
      ]
     },
     "execution_count": 44,
     "metadata": {},
     "output_type": "execute_result"
    },
    {
     "data": {
      "image/png": "[encoded data removed]",
      "text/plain": [
       "<Figure size 432x288 with 1 Axes>"
      ]
     },
     "metadata": {
      "needs_background": "light"
     },
     "output_type": "display_data"
    }
   ],
   "source": [
    "#Distribuição da feature 'LotArea' \n",
    "sns.histplot(data=df, x='LotArea')"
   ]
  },
  {
   "cell_type": "code",
   "execution_count": 45,
   "metadata": {
    "ExecuteTime": {
     "end_time": "2022-01-20T00:15:05.231330Z",
     "start_time": "2022-01-20T00:15:04.813572Z"
    },
    "id": "afy-RV3FhVA-",
    "outputId": "f46167ad-8143-4379-8c8f-417830b2a970"
   },
   "outputs": [
    {
     "data": {
      "text/plain": [
       "<AxesSubplot:xlabel='OverallQual', ylabel='Count'>"
      ]
     },
     "execution_count": 45,
     "metadata": {},
     "output_type": "execute_result"
    },
    {
     "data": {
      "image/png": "[encoded data removed]",
      "text/plain": [
       "<Figure size 432x288 with 1 Axes>"
      ]
     },
     "metadata": {
      "needs_background": "light"
     },
     "output_type": "display_data"
    }
   ],
   "source": [
    "#Distribuição da feature 'OverallQual' \n",
    "sns.histplot(data=df, x='OverallQual')"
   ]
  },
  {
   "cell_type": "code",
   "execution_count": 46,
   "metadata": {
    "ExecuteTime": {
     "end_time": "2022-01-20T00:15:05.261310Z",
     "start_time": "2022-01-20T00:15:05.235327Z"
    },
    "id": "xOMXJHRIhVA_",
    "outputId": "f9d65823-756a-43ea-fc96-5922d5e140de"
   },
   "outputs": [
    {
     "data": {
      "text/plain": [
       "count      1458.000000\n",
       "mean      10459.936900\n",
       "std        9859.198156\n",
       "min        1300.000000\n",
       "25%        7544.500000\n",
       "50%        9475.000000\n",
       "75%       11600.000000\n",
       "max      215245.000000\n",
       "Name: LotArea, dtype: float64"
      ]
     },
     "execution_count": 46,
     "metadata": {},
     "output_type": "execute_result"
    }
   ],
   "source": [
    "# Estatísticas descritivas da feature 'LotArea'\n",
    "df['LotArea'].describe()"
   ]
  },
  {
   "cell_type": "code",
   "execution_count": 47,
   "metadata": {
    "ExecuteTime": {
     "end_time": "2022-01-20T00:15:05.385244Z",
     "start_time": "2022-01-20T00:15:05.265309Z"
    },
    "id": "oaaG-C1uhVA_",
    "outputId": "148cf66e-426a-4b63-81ea-7a550b9a8551"
   },
   "outputs": [
    {
     "data": {
      "text/plain": [
       "count    1458.000000\n",
       "mean        6.093964\n",
       "std         1.376369\n",
       "min         1.000000\n",
       "25%         5.000000\n",
       "50%         6.000000\n",
       "75%         7.000000\n",
       "max        10.000000\n",
       "Name: OverallQual, dtype: float64"
      ]
     },
     "execution_count": 47,
     "metadata": {},
     "output_type": "execute_result"
    }
   ],
   "source": [
    "# Estatísticas descritivas da feature 'OverallQual'\n",
    "df['OverallQual'].describe()"
   ]
  },
  {
   "cell_type": "markdown",
   "metadata": {
    "id": "IsnrUaoKhVBA"
   },
   "source": [
    "Uma forma de eliminarmos o efeito da escala, é **escalando os dados** (um pré-processamento).\n",
    "\n",
    "Isso pode ser visto como uma terceira passada no ciclo."
   ]
  },
  {
   "cell_type": "markdown",
   "metadata": {},
   "source": [
    "### Min-Max Scaler:\n",
    "\n",
    "$$feature_{scaled} = \\frac{feature-feature_{min}}{feature_{max}-feature_{min}}$$"
   ]
  },
  {
   "cell_type": "code",
   "execution_count": 48,
   "metadata": {},
   "outputs": [
    {
     "data": {
      "text/plain": [
       "(1300, 215245)"
      ]
     },
     "execution_count": 48,
     "metadata": {},
     "output_type": "execute_result"
    }
   ],
   "source": [
    "# Valores de min e max da feature 'LotArea'\n",
    "df['LotArea'].min(), df['LotArea'].max()"
   ]
  },
  {
   "cell_type": "code",
   "execution_count": 49,
   "metadata": {
    "ExecuteTime": {
     "end_time": "2022-01-20T00:15:05.478187Z",
     "start_time": "2022-01-20T00:15:05.390238Z"
    },
    "id": "YYkQgRlWhVBA",
    "outputId": "8c94d30c-2f78-4e8c-80fb-eea1ce826dc1",
    "scrolled": true
   },
   "outputs": [
    {
     "data": {
      "text/plain": [
       "count    1458.000000\n",
       "mean        0.042814\n",
       "std         0.046083\n",
       "min         0.000000\n",
       "25%         0.029187\n",
       "50%         0.038211\n",
       "75%         0.048143\n",
       "max         1.000000\n",
       "Name: LotArea, dtype: float64"
      ]
     },
     "execution_count": 49,
     "metadata": {},
     "output_type": "execute_result"
    }
   ],
   "source": [
    "#Describe da feature 'LotArea' após o scaler\n",
    "((df['LotArea'] - df['LotArea'].min())/(df['LotArea'].max() - df['LotArea'].min())).describe()"
   ]
  },
  {
   "cell_type": "markdown",
   "metadata": {},
   "source": [
    "Aplicando o Min-Max Sacaler para todas as features no dataframe:"
   ]
  },
  {
   "cell_type": "code",
   "execution_count": null,
   "metadata": {},
   "outputs": [],
   "source": [
    "from sklearn.preprocessing import MinMaxScaler \n",
    "\n",
    "#1) Instanciar o scaler\n",
    "mms = MinMaxScaler()\n",
    "\n",
    "#2) Treinar o scaler com os dados de treino\n",
    "mms.fit(X_treino)\n",
    "\n",
    "#3) Transformando os dados\n",
    "X_treino_scaled = mms.transform(X_treino)\n",
    "X_teste_scaled = mms.transform(X_teste)\n"
   ]
  },
  {
   "cell_type": "markdown",
   "metadata": {},
   "source": [
    "Avaliando um modelo com os dados escalados:"
   ]
  },
  {
   "cell_type": "code",
   "execution_count": 50,
   "metadata": {
    "ExecuteTime": {
     "end_time": "2022-01-20T00:15:06.133821Z",
     "start_time": "2022-01-20T00:15:05.484186Z"
    },
    "id": "u20f7fTOhVBC",
    "outputId": "18b8d976-392f-4d6c-f366-f3b756cc5c0e",
    "scrolled": true
   },
   "outputs": [
    {
     "name": "stdout",
     "output_type": "stream",
     "text": [
      "Intercepto: -1.868164038024631e+16\n",
      "Coeficientes angulares: [-1.91395522e+04  1.03724127e+05  1.29456053e+05  4.02823007e+04\n",
      "  5.49487643e+04  8.52956985e+03  9.93940400e+17  5.11961074e+17\n",
      "  1.06117220e+18 -1.45366055e+18  8.08405529e+17  5.84508900e+17\n",
      "  1.61907550e+17 -1.14297673e+18 -1.60463203e+03 -7.75159988e+03\n",
      " -5.25191647e+03 -4.27861474e+03 -1.21206193e+05 -2.75129651e+04\n",
      "  6.07228345e+04  2.98857142e+03  6.46414221e+03  2.75565967e+04\n",
      "  8.42717275e+03  1.04464205e+04  9.58030294e+02  6.84202717e+03\n",
      "  9.39732122e+03  3.96238513e+04 -3.23574689e+04 -4.58465666e+03\n",
      " -1.60074965e+03]\n",
      "\n",
      "####################################################\n",
      "\n"
     ]
    },
    {
     "data": {
      "image/png": "[encoded data removed]",
      "text/plain": [
       "<Figure size 432x288 with 1 Axes>"
      ]
     },
     "metadata": {
      "needs_background": "light"
     },
     "output_type": "display_data"
    },
    {
     "data": {
      "image/png": "[encoded data removed]",
      "text/plain": [
       "<Figure size 432x288 with 1 Axes>"
      ]
     },
     "metadata": {
      "needs_background": "light"
     },
     "output_type": "display_data"
    },
    {
     "name": "stdout",
     "output_type": "stream",
     "text": [
      "\n",
      "####################################################\n",
      "\n",
      "\n",
      "Métricas de avaliação (dados de teste):\n",
      "\n",
      "R^2: 0.856070320641207\n",
      "MAE: 20741.87671232877\n",
      "MSE: 795028307.5616438\n",
      "RMSE: 28196.246338150115\n"
     ]
    }
   ],
   "source": [
    "X = df.drop(columns=[\"Id\",\"SalePrice\"])\n",
    "y = df['SalePrice']\n",
    "\n",
    "# 1)\n",
    "from sklearn.linear_model import LinearRegression\n",
    "\n",
    "# 2)\n",
    "estimador = LinearRegression()\n",
    "\n",
    "# 3)\n",
    "from sklearn.model_selection import train_test_split\n",
    "X_treino, X_teste, y_treino, y_teste = train_test_split(X, y, test_size=0.2, random_state=42)\n",
    "\n",
    "# NOVO: aplicando o scaler!! - usamos o minmax pra que todas as features\n",
    "# tenham o mesmo intervalo no espaço amostral - (0, 1)\n",
    "from sklearn.preprocessing import MinMaxScaler\n",
    "\n",
    "mms = MinMaxScaler()\n",
    "\n",
    "# agora, vamos FITAR o scaler COM OS DADOS DE TREINO\n",
    "mms.fit(X_treino)\n",
    "\n",
    "# transformando os dados\n",
    "X_treino = mms.transform(X_treino)\n",
    "X_teste = mms.transform(X_teste)\n",
    "\n",
    "#X_treino = mms.fit_transform(X_treino)\n",
    "#X_teste = mms.transform(X_teste)\n",
    "\n",
    "\n",
    "# 4)\n",
    "modelo = estimador.fit(X_treino, y_treino)\n",
    "\n",
    "print(\"Intercepto:\", modelo.intercept_)\n",
    "print(\"Coeficientes angulares:\", modelo.coef_)\n",
    "\n",
    "print(\"\\n####################################################\\n\")\n",
    "\n",
    "# 5)\n",
    "predictions = modelo.predict(X_teste)\n",
    "\n",
    "plt.title(\"valor predito vs valor real\")\n",
    "sns.scatterplot(x=predictions, y=y_teste)\n",
    "plt.plot(np.linspace(0, 500000, 1000), np.linspace(0, 500000, 1000), color=\"red\")\n",
    "plt.show()\n",
    "\n",
    "plt.title(\"Distribuição dos resíduos\")\n",
    "sns.histplot(y_teste-predictions, kde=True)\n",
    "plt.show()\n",
    "\n",
    "print(\"\\n####################################################\\n\")\n",
    "\n",
    "print(\"\\nMétricas de avaliação (dados de teste):\\n\")\n",
    "\n",
    "# 6)\n",
    "from sklearn import metrics\n",
    "\n",
    "print('R^2:', metrics.r2_score(y_teste, predictions))\n",
    "print('MAE:', metrics.mean_absolute_error(y_teste, predictions))\n",
    "print('MSE:', metrics.mean_squared_error(y_teste, predictions))\n",
    "print('RMSE:', np.sqrt(metrics.mean_squared_error(y_teste, predictions)))"
   ]
  },
  {
   "cell_type": "code",
   "execution_count": 55,
   "metadata": {
    "ExecuteTime": {
     "end_time": "2022-01-20T00:15:06.165794Z",
     "start_time": "2022-01-20T00:15:06.138809Z"
    },
    "id": "Kq8xnLtAhVBF",
    "outputId": "df30f33e-938d-4155-a204-6871aae42686",
    "scrolled": false
   },
   "outputs": [
    {
     "data": {
      "text/html": [
       "<div>\n",
       "<style scoped>\n",
       "    .dataframe tbody tr th:only-of-type {\n",
       "        vertical-align: middle;\n",
       "    }\n",
       "\n",
       "    .dataframe tbody tr th {\n",
       "        vertical-align: top;\n",
       "    }\n",
       "\n",
       "    .dataframe thead th {\n",
       "        text-align: right;\n",
       "    }\n",
       "</style>\n",
       "<table border=\"1\" class=\"dataframe\">\n",
       "  <thead>\n",
       "    <tr style=\"text-align: right;\">\n",
       "      <th></th>\n",
       "      <th>Parameter value</th>\n",
       "    </tr>\n",
       "  </thead>\n",
       "  <tbody>\n",
       "    <tr>\n",
       "      <th>TotalBsmtSF</th>\n",
       "      <td>1.453661e+18</td>\n",
       "    </tr>\n",
       "    <tr>\n",
       "      <th>GrLivArea</th>\n",
       "      <td>1.142977e+18</td>\n",
       "    </tr>\n",
       "    <tr>\n",
       "      <th>BsmtUnfSF</th>\n",
       "      <td>1.061172e+18</td>\n",
       "    </tr>\n",
       "    <tr>\n",
       "      <th>BsmtFinSF1</th>\n",
       "      <td>9.939404e+17</td>\n",
       "    </tr>\n",
       "    <tr>\n",
       "      <th>1stFlrSF</th>\n",
       "      <td>8.084055e+17</td>\n",
       "    </tr>\n",
       "    <tr>\n",
       "      <th>2ndFlrSF</th>\n",
       "      <td>5.845089e+17</td>\n",
       "    </tr>\n",
       "    <tr>\n",
       "      <th>BsmtFinSF2</th>\n",
       "      <td>5.119611e+17</td>\n",
       "    </tr>\n",
       "    <tr>\n",
       "      <th>LowQualFinSF</th>\n",
       "      <td>1.619075e+17</td>\n",
       "    </tr>\n",
       "    <tr>\n",
       "      <th>OverallQual</th>\n",
       "      <td>1.294561e+05</td>\n",
       "    </tr>\n",
       "    <tr>\n",
       "      <th>BedroomAbvGr</th>\n",
       "      <td>1.212062e+05</td>\n",
       "    </tr>\n",
       "    <tr>\n",
       "      <th>LotArea</th>\n",
       "      <td>1.037241e+05</td>\n",
       "    </tr>\n",
       "    <tr>\n",
       "      <th>TotRmsAbvGrd</th>\n",
       "      <td>6.072283e+04</td>\n",
       "    </tr>\n",
       "    <tr>\n",
       "      <th>YearBuilt</th>\n",
       "      <td>5.494876e+04</td>\n",
       "    </tr>\n",
       "    <tr>\n",
       "      <th>OverallCond</th>\n",
       "      <td>4.028230e+04</td>\n",
       "    </tr>\n",
       "    <tr>\n",
       "      <th>PoolArea</th>\n",
       "      <td>3.962385e+04</td>\n",
       "    </tr>\n",
       "    <tr>\n",
       "      <th>MiscVal</th>\n",
       "      <td>3.235747e+04</td>\n",
       "    </tr>\n",
       "    <tr>\n",
       "      <th>GarageArea</th>\n",
       "      <td>2.755660e+04</td>\n",
       "    </tr>\n",
       "    <tr>\n",
       "      <th>KitchenAbvGr</th>\n",
       "      <td>2.751297e+04</td>\n",
       "    </tr>\n",
       "    <tr>\n",
       "      <th>MSSubClass</th>\n",
       "      <td>1.913955e+04</td>\n",
       "    </tr>\n",
       "    <tr>\n",
       "      <th>OpenPorchSF</th>\n",
       "      <td>1.044642e+04</td>\n",
       "    </tr>\n",
       "    <tr>\n",
       "      <th>ScreenPorch</th>\n",
       "      <td>9.397321e+03</td>\n",
       "    </tr>\n",
       "    <tr>\n",
       "      <th>YearRemodAdd</th>\n",
       "      <td>8.529570e+03</td>\n",
       "    </tr>\n",
       "    <tr>\n",
       "      <th>WoodDeckSF</th>\n",
       "      <td>8.427173e+03</td>\n",
       "    </tr>\n",
       "    <tr>\n",
       "      <th>BsmtHalfBath</th>\n",
       "      <td>7.751600e+03</td>\n",
       "    </tr>\n",
       "    <tr>\n",
       "      <th>3SsnPorch</th>\n",
       "      <td>6.842027e+03</td>\n",
       "    </tr>\n",
       "    <tr>\n",
       "      <th>GarageCars</th>\n",
       "      <td>6.464142e+03</td>\n",
       "    </tr>\n",
       "    <tr>\n",
       "      <th>FullBath</th>\n",
       "      <td>5.251916e+03</td>\n",
       "    </tr>\n",
       "    <tr>\n",
       "      <th>MoSold</th>\n",
       "      <td>4.584657e+03</td>\n",
       "    </tr>\n",
       "    <tr>\n",
       "      <th>HalfBath</th>\n",
       "      <td>4.278615e+03</td>\n",
       "    </tr>\n",
       "    <tr>\n",
       "      <th>Fireplaces</th>\n",
       "      <td>2.988571e+03</td>\n",
       "    </tr>\n",
       "    <tr>\n",
       "      <th>BsmtFullBath</th>\n",
       "      <td>1.604632e+03</td>\n",
       "    </tr>\n",
       "    <tr>\n",
       "      <th>YrSold</th>\n",
       "      <td>1.600750e+03</td>\n",
       "    </tr>\n",
       "    <tr>\n",
       "      <th>EnclosedPorch</th>\n",
       "      <td>9.580303e+02</td>\n",
       "    </tr>\n",
       "  </tbody>\n",
       "</table>\n",
       "</div>"
      ],
      "text/plain": [
       "               Parameter value\n",
       "TotalBsmtSF       1.453661e+18\n",
       "GrLivArea         1.142977e+18\n",
       "BsmtUnfSF         1.061172e+18\n",
       "BsmtFinSF1        9.939404e+17\n",
       "1stFlrSF          8.084055e+17\n",
       "2ndFlrSF          5.845089e+17\n",
       "BsmtFinSF2        5.119611e+17\n",
       "LowQualFinSF      1.619075e+17\n",
       "OverallQual       1.294561e+05\n",
       "BedroomAbvGr      1.212062e+05\n",
       "LotArea           1.037241e+05\n",
       "TotRmsAbvGrd      6.072283e+04\n",
       "YearBuilt         5.494876e+04\n",
       "OverallCond       4.028230e+04\n",
       "PoolArea          3.962385e+04\n",
       "MiscVal           3.235747e+04\n",
       "GarageArea        2.755660e+04\n",
       "KitchenAbvGr      2.751297e+04\n",
       "MSSubClass        1.913955e+04\n",
       "OpenPorchSF       1.044642e+04\n",
       "ScreenPorch       9.397321e+03\n",
       "YearRemodAdd      8.529570e+03\n",
       "WoodDeckSF        8.427173e+03\n",
       "BsmtHalfBath      7.751600e+03\n",
       "3SsnPorch         6.842027e+03\n",
       "GarageCars        6.464142e+03\n",
       "FullBath          5.251916e+03\n",
       "MoSold            4.584657e+03\n",
       "HalfBath          4.278615e+03\n",
       "Fireplaces        2.988571e+03\n",
       "BsmtFullBath      1.604632e+03\n",
       "YrSold            1.600750e+03\n",
       "EnclosedPorch     9.580303e+02"
      ]
     },
     "execution_count": 55,
     "metadata": {},
     "output_type": "execute_result"
    }
   ],
   "source": [
    "# Avaliando os coeficientes agora que todas as features estão na mesma escala\n",
    "coeff_df = pd.DataFrame(modelo.coef_, X.columns, columns=['Parameter value'])\n",
    "\n",
    "coeff_df.abs().sort_values(by='Parameter value',ascending=False)"
   ]
  },
  {
   "cell_type": "code",
   "execution_count": null,
   "metadata": {
    "scrolled": true
   },
   "outputs": [],
   "source": [
    "# Analisando os valores absolutos dos coeficientes\n"
   ]
  },
  {
   "cell_type": "markdown",
   "metadata": {},
   "source": [
    "Se fizermos um modelo apenas com features que possuem coeficientes maiores que um determinado valor. Podemos obter um modelo melhor?\n",
    "\n",
    "(Coeficientes maiores que 10000, por exemplo)"
   ]
  },
  {
   "cell_type": "code",
   "execution_count": null,
   "metadata": {
    "ExecuteTime": {
     "end_time": "2022-01-20T00:15:07.033298Z",
     "start_time": "2022-01-20T00:15:06.295719Z"
    },
    "id": "X3WBNM8khVBG",
    "outputId": "5c2768af-7783-422d-8d0e-bf2fee018a43"
   },
   "outputs": [],
   "source": [
    "X = df.drop(columns=[\"Id\",\"SalePrice\",'ScreenPorch', 'WoodDeckSF', 'YearRemodAdd','BsmtHalfBath',\n",
    "                     '3SsnPorch', 'LowQualFinSF', 'GarageCars', 'MoSold', 'HalfBath', 'FullBath',\n",
    "                     'BsmtFinSF2','BsmtFullBath', 'Fireplaces', 'YrSold', 'EnclosedPorch'])\n",
    "y = df['SalePrice']\n",
    "\n",
    "# 1)\n",
    "from sklearn.linear_model import LinearRegression\n",
    "\n",
    "# 2)\n",
    "estimador = LinearRegression()\n",
    "\n",
    "# 3)\n",
    "from sklearn.model_selection import train_test_split\n",
    "X_treino, X_teste, y_treino, y_teste = train_test_split(X, y, test_size=0.2, random_state=42)\n",
    "\n",
    "mms = MinMaxScaler()\n",
    "\n",
    "# agora, vamos FITAR o scaler COM OS DADOS DE TREINO\n",
    "mms.fit(X_treino)\n",
    "\n",
    "# transformando os dados\n",
    "X_treino = mms.transform(X_treino)\n",
    "X_teste = mms.transform(X_teste)\n",
    "\n",
    "# 4)\n",
    "modelo = estimador.fit(X_treino, y_treino)\n",
    "\n",
    "print(\"Intercepto:\", modelo.intercept_)\n",
    "print(\"Coeficientes angulares:\", modelo.coef_)\n",
    "\n",
    "print(\"\\n####################################################\\n\")\n",
    "\n",
    "# 5)\n",
    "predictions = modelo.predict(X_teste)\n",
    "\n",
    "plt.title(\"valor predito vs valor real\")\n",
    "sns.scatterplot(x=predictions, y=y_teste)\n",
    "plt.plot(np.linspace(0, 500000, 1000), np.linspace(0, 500000, 1000), color=\"red\")\n",
    "plt.show()\n",
    "\n",
    "plt.title(\"Distribuição dos resíduos\")\n",
    "sns.histplot(y_teste-predictions, kde=True)\n",
    "plt.show()\n",
    "\n",
    "print(\"\\n####################################################\\n\")\n",
    "\n",
    "print(\"\\nMétricas de avaliação (dados de teste):\\n\")\n",
    "\n",
    "# 6)\n",
    "from sklearn import metrics\n",
    "\n",
    "print('R^2:', metrics.r2_score(y_teste, predictions))\n",
    "print('MAE:', metrics.mean_absolute_error(y_teste, predictions))\n",
    "print('MSE:', metrics.mean_squared_error(y_teste, predictions))\n",
    "print('RMSE:', np.sqrt(metrics.mean_squared_error(y_teste, predictions)))"
   ]
  },
  {
   "cell_type": "markdown",
   "metadata": {
    "id": "qqRHo3cthVBH"
   },
   "source": [
    "A performance do modelo melhorou?"
   ]
  },
  {
   "cell_type": "markdown",
   "metadata": {
    "id": "jf_FyZTghVBI"
   },
   "source": [
    "____\n",
    "____\n",
    "____"
   ]
  },
  {
   "cell_type": "markdown",
   "metadata": {
    "id": "CpUrKQR3hVBI"
   },
   "source": [
    "## 4) Overfitting\n",
    "\n",
    "Overfit é um dos conceitos mais importantes em apredizado de maquina.\n",
    "\n",
    "Muitas vezes alguns modelos têm 100% de acerto nos dados de **treino**, mas **na base de teste** a performance cai para menos de 50%.\n",
    "\n",
    "Isso pode acontecer porque o modelo fica **especialista apenas no conjunto de treino**, não conseguindo **generalizar os padrões para além dos dados vistos**.\n",
    "\n",
    "<img src=\"https://miro.medium.com/max/1125/1*_7OPgojau8hkiPUiHoGK_w.png\" width=800>\n",
    "\n",
    "O overfitting está intimamente ligado com o conceito de **viés** (bias) e **variância** (variance):\n",
    "\n",
    ">**Viés**<br>\n",
    "É a diferença entre o que o modelo prediz, e o valor correto a ser predito.<br>\n",
    "Modelos com alto viés são muito simples, de modo a **não conseguir capturar as relações que os dados de treino exibem** (underfit).<br>\n",
    "Isso faz com que ambos os erros de treino e de teste sejam altos.\n",
    "<br><br>\n",
    "Em outras palavras:<br>\n",
    "**Incapacidade de um modelo de capturar a verdadeira relação entre features e target**\n",
    "\n",
    "\n",
    "> **Variância**<br>\n",
    "Variância se refere à variabilidade das predições de um modelo.<br>\n",
    "Modelos com alta variância são muito complexos, por **aprenderem demais as relações  exibidas nos dados de treino** (overfit).<br>\n",
    "Isso faz com que os erros de treino sejam baixos, mas os erros de teste sejam altos.\n",
    "<br><br>\n",
    "Em outras palavras:<br>\n",
    "**Incapacidade de um modelo performar bem em outros datasets diferentes do usado no treinamento**. \n",
    "\n",
    "<img src=\"https://www.learnopencv.com/wp-content/uploads/2017/02/Bias-Variance-Tradeoff-In-Machine-Learning-1.png\" width=500>\n",
    "\n",
    "<img src=\"https://miro.medium.com/max/1494/1*C7ZKM93QVdpeSCGbF5TjIg.png\" width=800>\n",
    "\n",
    "Para demonstrar overfit ser usado o conjuto de teste [anscombe](https://en.wikipedia.org/wiki/Anscombe%27s_quartet)"
   ]
  },
  {
   "cell_type": "code",
   "execution_count": null,
   "metadata": {
    "ExecuteTime": {
     "end_time": "2022-01-19T23:57:31.011577Z",
     "start_time": "2022-01-19T23:57:30.839675Z"
    },
    "id": "_GE08hnohVBJ",
    "outputId": "a27a0cd0-7199-42e7-9828-0c6d6821dfb3",
    "scrolled": true
   },
   "outputs": [],
   "source": [
    "#Importar os dados do dataset\n"
   ]
  },
  {
   "cell_type": "code",
   "execution_count": null,
   "metadata": {
    "ExecuteTime": {
     "end_time": "2022-01-19T23:59:01.706238Z",
     "start_time": "2022-01-19T23:59:01.656268Z"
    },
    "id": "CUeCU6dYhVBJ",
    "outputId": "1ccbe0a9-d689-4e57-87a5-027277df853c"
   },
   "outputs": [],
   "source": [
    "# Filtrar apenas os dados do datest III\n"
   ]
  },
  {
   "cell_type": "code",
   "execution_count": null,
   "metadata": {
    "ExecuteTime": {
     "end_time": "2022-01-19T23:59:04.577883Z",
     "start_time": "2022-01-19T23:59:04.211094Z"
    },
    "id": "llPQ3B9-hVBK",
    "outputId": "f666368c-5795-4eab-b5b4-3632da692f2c"
   },
   "outputs": [],
   "source": [
    "#Scatterplot do dataset III\n"
   ]
  },
  {
   "cell_type": "markdown",
   "metadata": {
    "id": "oTk6hQCYhVBL"
   },
   "source": [
    "Vamos supor que este dado represente valores de medições de um sensor, porém o sensor teve um pequeno problema durante a medição.\n",
    "\n",
    "Podemos perceber facilmente qual é este erro, e qual seria a função de regreesão para este sensor com os dados validos: **regressão linear**."
   ]
  },
  {
   "cell_type": "code",
   "execution_count": null,
   "metadata": {
    "ExecuteTime": {
     "end_time": "2022-01-20T00:03:08.448378Z",
     "start_time": "2022-01-20T00:03:08.002619Z"
    },
    "id": "LtpbhzHLhVBL",
    "outputId": "eb155dd2-0eac-495a-f531-25920744b0bc"
   },
   "outputs": [],
   "source": [
    "# Plotar a regressão linear com o lmplot\n"
   ]
  },
  {
   "cell_type": "markdown",
   "metadata": {
    "id": "JC3e4t2ahVBM"
   },
   "source": [
    "Perceba que a função linear encontrar já aprensenta um padrão muito similiar aos dados, porém um ponto error faz com que ela não tenha um resultado otimo.\n",
    "\n",
    "Podemos utilizar regressões polinomiais, que possuem ordem maiores que 1, para tentar diminuir o erro da regressão. Por exemplo, podemos considerar um polinômio de grau 6,\n",
    "\n",
    "$$\\hat{y}_{i} = \\beta_{1} + \\beta_{2} x_{i} + \\beta_{3} {x_{i}}^{2} + \\cdots + \\beta_{6} {x_{i}}^{6}$$\n",
    "\n",
    "Para criar modelos polinomiais com o sklearn, [dê uma olhada aqui](https://scikit-learn.org/stable/modules/generated/sklearn.preprocessing.PolynomialFeatures.html). Mas, teremos uma aula sobre isso, logo logo!"
   ]
  },
  {
   "cell_type": "code",
   "execution_count": null,
   "metadata": {
    "ExecuteTime": {
     "end_time": "2022-01-20T00:07:27.361408Z",
     "start_time": "2022-01-20T00:07:26.510905Z"
    },
    "id": "_Fem5dZwhVBM",
    "outputId": "789733ba-92c2-45b6-caac-2710fc3c8d8c",
    "scrolled": false
   },
   "outputs": [],
   "source": [
    "# pra sumir os warnings\n",
    "\n",
    "\n",
    "\n",
    "# Modelo polinomial de grau 6 utilizando o lmplot\n"
   ]
  },
  {
   "cell_type": "markdown",
   "metadata": {
    "id": "ys5VO2y9hVBN"
   },
   "source": [
    "Ao utilizarmos uma regressão de ordem 6 percebemos que ela se ajusta ao valor com erro, porém ela **se distancia da regressão que realmente representa os dados**. \n",
    "\n",
    "Tentar **aprender o erro faz com ela com ela não aprenda a função real**. \n",
    "\n",
    "Isto acontece pois ela se **super ajustou aos dados de treino, se distanciando dos dados reais**. "
   ]
  },
  {
   "cell_type": "markdown",
   "metadata": {
    "id": "iDAv1wQ9hVBN"
   },
   "source": [
    "__Como garantir que nosso modelo não está sofrendo de overfitting?__\n",
    "\n",
    "Naturalmente, essa é uma pergunta de extrema importância, especialmente no contexto de **redes neurais**. [Veja aqui](https://towardsdatascience.com/8-simple-techniques-to-prevent-overfitting-4d443da2ef7d) e [aqui](https://towardsdatascience.com/dont-overfit-how-to-prevent-overfitting-in-your-deep-learning-models-63274e552323) algumas discussões.\n",
    "\n",
    "Na prática: **jamais se apegue à peformance de treino como forma de avaliar o modelo!** O que queremos otimizar sempre será a performance **avaliada nos dados de teste**, isto é, a **performance de generalização** do modelo. \n",
    "\n",
    "Assim, é **avaliando o modelo nos dados de teste** que garantimos que uma boa performance não é produto do overfitting!"
   ]
  },
  {
   "cell_type": "markdown",
   "metadata": {
    "id": "ELGSLvHthVBO"
   },
   "source": [
    "Mais adiante, discutiremos overfitting e o tradeoff viés/variância em detalhes. Por enquanto, uma boa prática é comparar as métricas de treino com as métricas de teste, conforme fizemos acima. Isso nos permite avaliar, de maneira rápida e simples, se houve underfitting!"
   ]
  },
  {
   "cell_type": "markdown",
   "metadata": {
    "id": "k4AmQwv-hVBO"
   },
   "source": [
    "# Conteúdo extra: PICKLE\n",
    "\n",
    "Como salvar um modelo para utilizar posteriormente."
   ]
  },
  {
   "cell_type": "code",
   "execution_count": null,
   "metadata": {
    "ExecuteTime": {
     "end_time": "2022-01-20T00:15:12.797841Z",
     "start_time": "2022-01-20T00:15:12.217375Z"
    },
    "id": "MI9ja4YmhVBP",
    "outputId": "f54125ed-c136-42bf-a153-706c640036e7"
   },
   "outputs": [],
   "source": [
    "df = df.select_dtypes(include=[np.number])\n",
    "df = df.dropna(axis=\"columns\", how=\"any\")\n",
    "\n",
    "X = df.drop(columns=[\"Id\",\"SalePrice\"])\n",
    "y = df['SalePrice']\n",
    "\n",
    "# 1)\n",
    "from sklearn.linear_model import LinearRegression\n",
    "\n",
    "# 2)\n",
    "estimador = LinearRegression()\n",
    "\n",
    "# 3)\n",
    "from sklearn.model_selection import train_test_split\n",
    "X_treino, X_teste, y_treino, y_teste = train_test_split(X, y, test_size=0.2, random_state=42)\n",
    "\n",
    "# NOVO: aplicando o scaler!! - usamos o minmax pra que todas as features\n",
    "# tenham o mesmo intervalo no espaço amostral - (0, 1)\n",
    "from sklearn.preprocessing import MinMaxScaler\n",
    "\n",
    "mms = MinMaxScaler()\n",
    "\n",
    "# agora, vamos FITAR o scaler COM OS DADOS DE TREINO\n",
    "mms.fit(X_treino)\n",
    "\n",
    "# transformando os dados\n",
    "X_treino = mms.transform(X_treino)\n",
    "X_teste = mms.transform(X_teste)\n",
    "\n",
    "# 4)\n",
    "modelo = estimador.fit(X_treino, y_treino)\n",
    "\n",
    "print(\"Intercepto:\", modelo.intercept_)\n",
    "print(\"Coeficientes angulares:\", modelo.coef_)\n",
    "\n",
    "print(\"\\n####################################################\\n\")\n",
    "\n",
    "# 5)\n",
    "predictions = modelo.predict(X_teste)\n",
    "\n",
    "plt.title(\"valor predito vs valor real\")\n",
    "sns.scatterplot(x=predictions, y=y_teste)\n",
    "plt.plot(np.linspace(0, 500000, 1000), np.linspace(0, 500000, 1000), color=\"red\")\n",
    "plt.show()\n",
    "\n",
    "plt.title(\"Distribuição dos resíduos\")\n",
    "sns.histplot(y_teste-predictions, kde=True)\n",
    "plt.show()\n",
    "\n",
    "print(\"\\n####################################################\\n\")\n",
    "\n",
    "print(\"\\nMétricas de avaliação (dados de teste):\\n\")\n",
    "\n",
    "# 6)\n",
    "from sklearn import metrics\n",
    "\n",
    "print('R^2:', metrics.r2_score(y_teste, predictions))\n",
    "print('MAE:', metrics.mean_absolute_error(y_teste, predictions))\n",
    "print('MSE:', metrics.mean_squared_error(y_teste, predictions))\n",
    "print('RMSE:', np.sqrt(metrics.mean_squared_error(y_teste, predictions)))"
   ]
  },
  {
   "cell_type": "code",
   "execution_count": null,
   "metadata": {
    "ExecuteTime": {
     "end_time": "2022-01-20T00:15:30.540969Z",
     "start_time": "2022-01-20T00:15:30.518962Z"
    },
    "id": "q4ZY7mbJhVBQ",
    "outputId": "f4345414-8809-42a4-a514-b35d8cf4a8eb"
   },
   "outputs": [],
   "source": [
    "modelo"
   ]
  },
  {
   "cell_type": "code",
   "execution_count": null,
   "metadata": {
    "ExecuteTime": {
     "end_time": "2022-01-20T00:20:12.705695Z",
     "start_time": "2022-01-20T00:20:12.690707Z"
    },
    "id": "xNxebuD3hVBQ"
   },
   "outputs": [],
   "source": [
    "import pickle"
   ]
  },
  {
   "cell_type": "code",
   "execution_count": null,
   "metadata": {
    "ExecuteTime": {
     "end_time": "2022-01-20T00:28:19.144307Z",
     "start_time": "2022-01-20T00:28:19.125301Z"
    },
    "id": "UfmoXmfFhVBR"
   },
   "outputs": [],
   "source": [
    "# f = open(\"regressao_linear_scaler.pkl\", \"wb\")\n",
    "\n",
    "# pickle.dump(modelo, f)\n",
    "\n",
    "# f.close()\n",
    "\n",
    "with open(\"regressao_linear_scaler.pkl\", \"wb\") as f:\n",
    "    \n",
    "    pickle.dump(modelo, f)"
   ]
  },
  {
   "cell_type": "markdown",
   "metadata": {
    "id": "n0Ivuj3BhVBR"
   },
   "source": [
    "Passou-se um tempo, quero recuperar o modelo"
   ]
  },
  {
   "cell_type": "code",
   "execution_count": null,
   "metadata": {
    "ExecuteTime": {
     "end_time": "2022-01-20T00:28:38.660200Z",
     "start_time": "2022-01-20T00:28:38.634217Z"
    },
    "id": "ORcdnpOMhVBS"
   },
   "outputs": [],
   "source": [
    "with open(\"regressao_linear_scaler.pkl\", \"rb\") as f:\n",
    "    \n",
    "    modelo_lido = pickle.load(f)"
   ]
  },
  {
   "cell_type": "code",
   "execution_count": null,
   "metadata": {
    "ExecuteTime": {
     "end_time": "2022-01-20T00:29:37.536259Z",
     "start_time": "2022-01-20T00:29:37.515273Z"
    },
    "id": "eP0l36XshVBT",
    "outputId": "4826beb2-6e86-4106-e088-3768c98b5f82"
   },
   "outputs": [],
   "source": [
    "modelo_lido"
   ]
  },
  {
   "cell_type": "markdown",
   "metadata": {
    "id": "NM51l8Z5hVBU"
   },
   "source": [
    "Agora, posso usar esse objeto, como se eu tivesse acabado de treinar ele"
   ]
  },
  {
   "cell_type": "code",
   "execution_count": null,
   "metadata": {
    "ExecuteTime": {
     "end_time": "2022-01-20T00:29:23.818449Z",
     "start_time": "2022-01-20T00:29:23.249256Z"
    },
    "id": "fEHobZuEhVBU",
    "outputId": "78e6707f-6ead-4c3a-bfce-5f360fffa0e9"
   },
   "outputs": [],
   "source": [
    "# 5)\n",
    "predictions = modelo_lido.predict(X_teste)\n",
    "\n",
    "plt.title(\"valor predito vs valor real\")\n",
    "sns.scatterplot(x=predictions, y=y_teste)\n",
    "plt.plot(np.linspace(0, 500000, 1000), np.linspace(0, 500000, 1000), color=\"red\")\n",
    "plt.show()\n",
    "\n",
    "plt.title(\"Distribuição dos resíduos\")\n",
    "sns.histplot(y_teste-predictions, kde=True)\n",
    "plt.show()\n",
    "\n",
    "print(\"\\n####################################################\\n\")\n",
    "\n",
    "print(\"\\nMétricas de avaliação (dados de teste):\\n\")\n",
    "\n",
    "# 6)\n",
    "from sklearn import metrics\n",
    "\n",
    "print('R^2:', metrics.r2_score(y_teste, predictions))\n",
    "print('MAE:', metrics.mean_absolute_error(y_teste, predictions))\n",
    "print('MSE:', metrics.mean_squared_error(y_teste, predictions))\n",
    "print('RMSE:', np.sqrt(metrics.mean_squared_error(y_teste, predictions)))"
   ]
  },
  {
   "cell_type": "markdown",
   "metadata": {
    "id": "KoqV-BBLhVBV"
   },
   "source": [
    "____\n",
    "___\n",
    "___"
   ]
  }
 ],
 "metadata": {
  "colab": {
   "name": "Aula 3 - regressão linear e outros fundamentos.ipynb",
   "provenance": []
  },
  "kernelspec": {
   "display_name": "Python 3 (ipykernel)",
   "language": "python",
   "name": "python3"
  },
  "language_info": {
   "codemirror_mode": {
    "name": "ipython",
    "version": 3
   },
   "file_extension": ".py",
   "mimetype": "text/x-python",
   "name": "python",
   "nbconvert_exporter": "python",
   "pygments_lexer": "ipython3",
   "version": "3.9.7"
  },
  "toc": {
   "base_numbering": 1,
   "nav_menu": {},
   "number_sections": true,
   "sideBar": true,
   "skip_h1_title": false,
   "title_cell": "Table of Contents",
   "title_sidebar": "Contents",
   "toc_cell": false,
   "toc_position": {},
   "toc_section_display": true,
   "toc_window_display": false
  },
  "varInspector": {
   "cols": {
    "lenName": 16,
    "lenType": 16,
    "lenVar": 40
   },
   "kernels_config": {
    "python": {
     "delete_cmd_postfix": "",
     "delete_cmd_prefix": "del ",
     "library": "var_list.py",
     "varRefreshCmd": "print(var_dic_list())"
    },
    "r": {
     "delete_cmd_postfix": ") ",
     "delete_cmd_prefix": "rm(",
     "library": "var_list.r",
     "varRefreshCmd": "cat(var_dic_list()) "
    }
   },
   "types_to_exclude": [
    "module",
    "function",
    "builtin_function_or_method",
    "instance",
    "_Feature"
   ],
   "window_display": false
  }
 },
 "nbformat": 4,
 "nbformat_minor": 1
}
