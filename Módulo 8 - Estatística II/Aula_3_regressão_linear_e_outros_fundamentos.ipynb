{
 "cells": [
  {
   "cell_type": "markdown",
   "metadata": {
    "id": "AWCDaR2phU_l"
   },
   "source": [
    "# Aula 3 - Regressão linear\n",
    "\n",
    "Na aula de hoje, vamos explorar os seguintes tópicos em Python:\n",
    "\n",
    "- 1) Introdução\n",
    "- 2) Regressão linear simples\n",
    "- 3) Regressão linear múltipla\n",
    "- 4) Overfitting"
   ]
  },
  {
   "cell_type": "markdown",
   "metadata": {
    "id": "Y1mBXPqrhU_r"
   },
   "source": [
    "____\n",
    "____\n",
    "____"
   ]
  },
  {
   "cell_type": "markdown",
   "metadata": {
    "id": "9l3dtK5ZhU_s"
   },
   "source": [
    "## 1) Introdução\n",
    "\n",
    "Imagine que você quer vender sua casa.\n",
    "\n",
    "Você sabe os atributos da sua casa: quantos cômodos têm, quantos carros cabem na garagem, qual é a área construída, qual sua localidade, etc.\n",
    "\n",
    "Agora, a pergunta é: qual seria o melhor preço pra você colocá-la a venda, ou seja, quanto de fato ela vale?\n",
    "\n",
    "Você pode solicitar a avaliação de um corretor de imóveis (contando com a experiência dele), ou então...\n",
    "\n",
    "...fazer um modelo de **Machine Learning**, que, com base nos atributos e preços de diversas outras casas, pode fazer uma **predição** sobre o preço adequado da sua casa!\n",
    "\n",
    "Para resolver este problema, podemos utilizar um dos mais simples e importantes algoritmos de machine learning: a **Regressão Linear!**\n",
    "\n",
    "____"
   ]
  },
  {
   "cell_type": "markdown",
   "metadata": {
    "id": "7az_kJW0hU_u"
   },
   "source": [
    "Para introduzirmos as ideias, vamos usar um [dataset de preço de casas](https://www.kaggle.com/c/house-prices-advanced-regression-techniques/data).\n",
    "\n",
    "Esta base de dados contém **79 features** (+ 1 ID), que são as características de cada uma das casas listadas; e **1 target**, que é o preço pelo qual aquela casa foi vendida.\n",
    "\n",
    "Por termos o target disponível, estamos trabalhando com um problema de **aprendizagem supervisionada**.\n",
    "\n",
    "Para o significado de cada uma das features, e os valores que elas podem assumir, veja a página acima.\n",
    "\n",
    "**Vamos ler a base e começar a explorá-la!**"
   ]
  },
  {
   "cell_type": "code",
   "execution_count": 1,
   "metadata": {
    "ExecuteTime": {
     "end_time": "2022-01-20T00:14:28.833363Z",
     "start_time": "2022-01-20T00:14:22.694616Z"
    },
    "id": "HpS9QUW_hU_w"
   },
   "outputs": [],
   "source": [
    "# importe as principais bibliotecas de análise de dados\n",
    "import pandas as pd\n",
    "import numpy as np\n",
    "\n",
    "import matplotlib.pyplot as plt\n",
    "import seaborn as sns"
   ]
  },
  {
   "cell_type": "code",
   "execution_count": 2,
   "metadata": {
    "ExecuteTime": {
     "end_time": "2022-01-20T00:14:28.941393Z",
     "start_time": "2022-01-20T00:14:28.837364Z"
    },
    "id": "ObkhirDehU_2"
   },
   "outputs": [],
   "source": [
    "# leia a base \"house_prices\"\n",
    "df = pd.read_csv('house_prices.csv')"
   ]
  },
  {
   "cell_type": "code",
   "execution_count": 3,
   "metadata": {
    "ExecuteTime": {
     "end_time": "2022-01-20T00:14:29.147274Z",
     "start_time": "2022-01-20T00:14:29.074317Z"
    },
    "id": "LE47cqZMhU_6",
    "outputId": "91cd4012-23da-49a6-a3dd-68571c2c59bd"
   },
   "outputs": [
    {
     "data": {
      "text/html": [
       "<div>\n",
       "<style scoped>\n",
       "    .dataframe tbody tr th:only-of-type {\n",
       "        vertical-align: middle;\n",
       "    }\n",
       "\n",
       "    .dataframe tbody tr th {\n",
       "        vertical-align: top;\n",
       "    }\n",
       "\n",
       "    .dataframe thead th {\n",
       "        text-align: right;\n",
       "    }\n",
       "</style>\n",
       "<table border=\"1\" class=\"dataframe\">\n",
       "  <thead>\n",
       "    <tr style=\"text-align: right;\">\n",
       "      <th></th>\n",
       "      <th>Id</th>\n",
       "      <th>MSSubClass</th>\n",
       "      <th>MSZoning</th>\n",
       "      <th>LotFrontage</th>\n",
       "      <th>LotArea</th>\n",
       "      <th>Street</th>\n",
       "      <th>Alley</th>\n",
       "      <th>LotShape</th>\n",
       "      <th>LandContour</th>\n",
       "      <th>Utilities</th>\n",
       "      <th>...</th>\n",
       "      <th>PoolArea</th>\n",
       "      <th>PoolQC</th>\n",
       "      <th>Fence</th>\n",
       "      <th>MiscFeature</th>\n",
       "      <th>MiscVal</th>\n",
       "      <th>MoSold</th>\n",
       "      <th>YrSold</th>\n",
       "      <th>SaleType</th>\n",
       "      <th>SaleCondition</th>\n",
       "      <th>SalePrice</th>\n",
       "    </tr>\n",
       "  </thead>\n",
       "  <tbody>\n",
       "    <tr>\n",
       "      <th>0</th>\n",
       "      <td>1</td>\n",
       "      <td>60</td>\n",
       "      <td>RL</td>\n",
       "      <td>65.0</td>\n",
       "      <td>8450</td>\n",
       "      <td>Pave</td>\n",
       "      <td>NaN</td>\n",
       "      <td>Reg</td>\n",
       "      <td>Lvl</td>\n",
       "      <td>AllPub</td>\n",
       "      <td>...</td>\n",
       "      <td>0</td>\n",
       "      <td>NaN</td>\n",
       "      <td>NaN</td>\n",
       "      <td>NaN</td>\n",
       "      <td>0</td>\n",
       "      <td>2</td>\n",
       "      <td>2008</td>\n",
       "      <td>WD</td>\n",
       "      <td>Normal</td>\n",
       "      <td>208500</td>\n",
       "    </tr>\n",
       "    <tr>\n",
       "      <th>1</th>\n",
       "      <td>2</td>\n",
       "      <td>20</td>\n",
       "      <td>RL</td>\n",
       "      <td>80.0</td>\n",
       "      <td>9600</td>\n",
       "      <td>Pave</td>\n",
       "      <td>NaN</td>\n",
       "      <td>Reg</td>\n",
       "      <td>Lvl</td>\n",
       "      <td>AllPub</td>\n",
       "      <td>...</td>\n",
       "      <td>0</td>\n",
       "      <td>NaN</td>\n",
       "      <td>NaN</td>\n",
       "      <td>NaN</td>\n",
       "      <td>0</td>\n",
       "      <td>5</td>\n",
       "      <td>2007</td>\n",
       "      <td>WD</td>\n",
       "      <td>Normal</td>\n",
       "      <td>181500</td>\n",
       "    </tr>\n",
       "    <tr>\n",
       "      <th>2</th>\n",
       "      <td>3</td>\n",
       "      <td>60</td>\n",
       "      <td>RL</td>\n",
       "      <td>68.0</td>\n",
       "      <td>11250</td>\n",
       "      <td>Pave</td>\n",
       "      <td>NaN</td>\n",
       "      <td>IR1</td>\n",
       "      <td>Lvl</td>\n",
       "      <td>AllPub</td>\n",
       "      <td>...</td>\n",
       "      <td>0</td>\n",
       "      <td>NaN</td>\n",
       "      <td>NaN</td>\n",
       "      <td>NaN</td>\n",
       "      <td>0</td>\n",
       "      <td>9</td>\n",
       "      <td>2008</td>\n",
       "      <td>WD</td>\n",
       "      <td>Normal</td>\n",
       "      <td>223500</td>\n",
       "    </tr>\n",
       "    <tr>\n",
       "      <th>3</th>\n",
       "      <td>4</td>\n",
       "      <td>70</td>\n",
       "      <td>RL</td>\n",
       "      <td>60.0</td>\n",
       "      <td>9550</td>\n",
       "      <td>Pave</td>\n",
       "      <td>NaN</td>\n",
       "      <td>IR1</td>\n",
       "      <td>Lvl</td>\n",
       "      <td>AllPub</td>\n",
       "      <td>...</td>\n",
       "      <td>0</td>\n",
       "      <td>NaN</td>\n",
       "      <td>NaN</td>\n",
       "      <td>NaN</td>\n",
       "      <td>0</td>\n",
       "      <td>2</td>\n",
       "      <td>2006</td>\n",
       "      <td>WD</td>\n",
       "      <td>Abnorml</td>\n",
       "      <td>140000</td>\n",
       "    </tr>\n",
       "    <tr>\n",
       "      <th>4</th>\n",
       "      <td>5</td>\n",
       "      <td>60</td>\n",
       "      <td>RL</td>\n",
       "      <td>84.0</td>\n",
       "      <td>14260</td>\n",
       "      <td>Pave</td>\n",
       "      <td>NaN</td>\n",
       "      <td>IR1</td>\n",
       "      <td>Lvl</td>\n",
       "      <td>AllPub</td>\n",
       "      <td>...</td>\n",
       "      <td>0</td>\n",
       "      <td>NaN</td>\n",
       "      <td>NaN</td>\n",
       "      <td>NaN</td>\n",
       "      <td>0</td>\n",
       "      <td>12</td>\n",
       "      <td>2008</td>\n",
       "      <td>WD</td>\n",
       "      <td>Normal</td>\n",
       "      <td>250000</td>\n",
       "    </tr>\n",
       "  </tbody>\n",
       "</table>\n",
       "<p>5 rows × 81 columns</p>\n",
       "</div>"
      ],
      "text/plain": [
       "   Id  MSSubClass MSZoning  LotFrontage  LotArea Street Alley LotShape  \\\n",
       "0   1          60       RL         65.0     8450   Pave   NaN      Reg   \n",
       "1   2          20       RL         80.0     9600   Pave   NaN      Reg   \n",
       "2   3          60       RL         68.0    11250   Pave   NaN      IR1   \n",
       "3   4          70       RL         60.0     9550   Pave   NaN      IR1   \n",
       "4   5          60       RL         84.0    14260   Pave   NaN      IR1   \n",
       "\n",
       "  LandContour Utilities  ... PoolArea PoolQC Fence MiscFeature MiscVal MoSold  \\\n",
       "0         Lvl    AllPub  ...        0    NaN   NaN         NaN       0      2   \n",
       "1         Lvl    AllPub  ...        0    NaN   NaN         NaN       0      5   \n",
       "2         Lvl    AllPub  ...        0    NaN   NaN         NaN       0      9   \n",
       "3         Lvl    AllPub  ...        0    NaN   NaN         NaN       0      2   \n",
       "4         Lvl    AllPub  ...        0    NaN   NaN         NaN       0     12   \n",
       "\n",
       "  YrSold  SaleType  SaleCondition  SalePrice  \n",
       "0   2008        WD         Normal     208500  \n",
       "1   2007        WD         Normal     181500  \n",
       "2   2008        WD         Normal     223500  \n",
       "3   2006        WD        Abnorml     140000  \n",
       "4   2008        WD         Normal     250000  \n",
       "\n",
       "[5 rows x 81 columns]"
      ]
     },
     "execution_count": 3,
     "metadata": {},
     "output_type": "execute_result"
    }
   ],
   "source": [
    "# dê uma olhada nas 5 primeiras linhas\n",
    "df.head()"
   ]
  },
  {
   "cell_type": "code",
   "execution_count": 4,
   "metadata": {
    "ExecuteTime": {
     "end_time": "2022-01-20T00:14:29.302189Z",
     "start_time": "2022-01-20T00:14:29.149272Z"
    },
    "id": "RLOM8LTjhU_9",
    "outputId": "e0ef19ea-3f9b-47bf-e9c6-cd688f62a180",
    "scrolled": false
   },
   "outputs": [
    {
     "name": "stdout",
     "output_type": "stream",
     "text": [
      "<class 'pandas.core.frame.DataFrame'>\n",
      "RangeIndex: 1460 entries, 0 to 1459\n",
      "Data columns (total 81 columns):\n",
      " #   Column         Non-Null Count  Dtype  \n",
      "---  ------         --------------  -----  \n",
      " 0   Id             1460 non-null   int64  \n",
      " 1   MSSubClass     1460 non-null   int64  \n",
      " 2   MSZoning       1460 non-null   object \n",
      " 3   LotFrontage    1201 non-null   float64\n",
      " 4   LotArea        1460 non-null   int64  \n",
      " 5   Street         1460 non-null   object \n",
      " 6   Alley          91 non-null     object \n",
      " 7   LotShape       1460 non-null   object \n",
      " 8   LandContour    1460 non-null   object \n",
      " 9   Utilities      1460 non-null   object \n",
      " 10  LotConfig      1460 non-null   object \n",
      " 11  LandSlope      1460 non-null   object \n",
      " 12  Neighborhood   1460 non-null   object \n",
      " 13  Condition1     1460 non-null   object \n",
      " 14  Condition2     1460 non-null   object \n",
      " 15  BldgType       1460 non-null   object \n",
      " 16  HouseStyle     1460 non-null   object \n",
      " 17  OverallQual    1460 non-null   int64  \n",
      " 18  OverallCond    1460 non-null   int64  \n",
      " 19  YearBuilt      1460 non-null   int64  \n",
      " 20  YearRemodAdd   1460 non-null   int64  \n",
      " 21  RoofStyle      1460 non-null   object \n",
      " 22  RoofMatl       1460 non-null   object \n",
      " 23  Exterior1st    1460 non-null   object \n",
      " 24  Exterior2nd    1460 non-null   object \n",
      " 25  MasVnrType     1452 non-null   object \n",
      " 26  MasVnrArea     1452 non-null   float64\n",
      " 27  ExterQual      1460 non-null   object \n",
      " 28  ExterCond      1460 non-null   object \n",
      " 29  Foundation     1460 non-null   object \n",
      " 30  BsmtQual       1423 non-null   object \n",
      " 31  BsmtCond       1423 non-null   object \n",
      " 32  BsmtExposure   1422 non-null   object \n",
      " 33  BsmtFinType1   1423 non-null   object \n",
      " 34  BsmtFinSF1     1460 non-null   int64  \n",
      " 35  BsmtFinType2   1422 non-null   object \n",
      " 36  BsmtFinSF2     1460 non-null   int64  \n",
      " 37  BsmtUnfSF      1460 non-null   int64  \n",
      " 38  TotalBsmtSF    1460 non-null   int64  \n",
      " 39  Heating        1460 non-null   object \n",
      " 40  HeatingQC      1460 non-null   object \n",
      " 41  CentralAir     1460 non-null   object \n",
      " 42  Electrical     1459 non-null   object \n",
      " 43  1stFlrSF       1460 non-null   int64  \n",
      " 44  2ndFlrSF       1460 non-null   int64  \n",
      " 45  LowQualFinSF   1460 non-null   int64  \n",
      " 46  GrLivArea      1460 non-null   int64  \n",
      " 47  BsmtFullBath   1460 non-null   int64  \n",
      " 48  BsmtHalfBath   1460 non-null   int64  \n",
      " 49  FullBath       1460 non-null   int64  \n",
      " 50  HalfBath       1460 non-null   int64  \n",
      " 51  BedroomAbvGr   1460 non-null   int64  \n",
      " 52  KitchenAbvGr   1460 non-null   int64  \n",
      " 53  KitchenQual    1460 non-null   object \n",
      " 54  TotRmsAbvGrd   1460 non-null   int64  \n",
      " 55  Functional     1460 non-null   object \n",
      " 56  Fireplaces     1460 non-null   int64  \n",
      " 57  FireplaceQu    770 non-null    object \n",
      " 58  GarageType     1379 non-null   object \n",
      " 59  GarageYrBlt    1379 non-null   float64\n",
      " 60  GarageFinish   1379 non-null   object \n",
      " 61  GarageCars     1460 non-null   int64  \n",
      " 62  GarageArea     1460 non-null   int64  \n",
      " 63  GarageQual     1379 non-null   object \n",
      " 64  GarageCond     1379 non-null   object \n",
      " 65  PavedDrive     1460 non-null   object \n",
      " 66  WoodDeckSF     1460 non-null   int64  \n",
      " 67  OpenPorchSF    1460 non-null   int64  \n",
      " 68  EnclosedPorch  1460 non-null   int64  \n",
      " 69  3SsnPorch      1460 non-null   int64  \n",
      " 70  ScreenPorch    1460 non-null   int64  \n",
      " 71  PoolArea       1460 non-null   int64  \n",
      " 72  PoolQC         7 non-null      object \n",
      " 73  Fence          281 non-null    object \n",
      " 74  MiscFeature    54 non-null     object \n",
      " 75  MiscVal        1460 non-null   int64  \n",
      " 76  MoSold         1460 non-null   int64  \n",
      " 77  YrSold         1460 non-null   int64  \n",
      " 78  SaleType       1460 non-null   object \n",
      " 79  SaleCondition  1460 non-null   object \n",
      " 80  SalePrice      1460 non-null   int64  \n",
      "dtypes: float64(3), int64(35), object(43)\n",
      "memory usage: 924.0+ KB\n"
     ]
    }
   ],
   "source": [
    "# dê uma olhada na estrutura das colunas\n",
    "df.info()"
   ]
  },
  {
   "cell_type": "code",
   "execution_count": 5,
   "metadata": {
    "ExecuteTime": {
     "end_time": "2022-01-20T00:14:29.721947Z",
     "start_time": "2022-01-20T00:14:29.306185Z"
    },
    "id": "yNH1ebTMhU_-",
    "outputId": "c1bc5cfc-6000-45b9-b872-7c1790840b0f"
   },
   "outputs": [
    {
     "data": {
      "text/html": [
       "<div>\n",
       "<style scoped>\n",
       "    .dataframe tbody tr th:only-of-type {\n",
       "        vertical-align: middle;\n",
       "    }\n",
       "\n",
       "    .dataframe tbody tr th {\n",
       "        vertical-align: top;\n",
       "    }\n",
       "\n",
       "    .dataframe thead th {\n",
       "        text-align: right;\n",
       "    }\n",
       "</style>\n",
       "<table border=\"1\" class=\"dataframe\">\n",
       "  <thead>\n",
       "    <tr style=\"text-align: right;\">\n",
       "      <th></th>\n",
       "      <th>Id</th>\n",
       "      <th>MSSubClass</th>\n",
       "      <th>LotFrontage</th>\n",
       "      <th>LotArea</th>\n",
       "      <th>OverallQual</th>\n",
       "      <th>OverallCond</th>\n",
       "      <th>YearBuilt</th>\n",
       "      <th>YearRemodAdd</th>\n",
       "      <th>MasVnrArea</th>\n",
       "      <th>BsmtFinSF1</th>\n",
       "      <th>...</th>\n",
       "      <th>WoodDeckSF</th>\n",
       "      <th>OpenPorchSF</th>\n",
       "      <th>EnclosedPorch</th>\n",
       "      <th>3SsnPorch</th>\n",
       "      <th>ScreenPorch</th>\n",
       "      <th>PoolArea</th>\n",
       "      <th>MiscVal</th>\n",
       "      <th>MoSold</th>\n",
       "      <th>YrSold</th>\n",
       "      <th>SalePrice</th>\n",
       "    </tr>\n",
       "  </thead>\n",
       "  <tbody>\n",
       "    <tr>\n",
       "      <th>count</th>\n",
       "      <td>1460.000000</td>\n",
       "      <td>1460.000000</td>\n",
       "      <td>1201.000000</td>\n",
       "      <td>1460.000000</td>\n",
       "      <td>1460.000000</td>\n",
       "      <td>1460.000000</td>\n",
       "      <td>1460.000000</td>\n",
       "      <td>1460.000000</td>\n",
       "      <td>1452.000000</td>\n",
       "      <td>1460.000000</td>\n",
       "      <td>...</td>\n",
       "      <td>1460.000000</td>\n",
       "      <td>1460.000000</td>\n",
       "      <td>1460.000000</td>\n",
       "      <td>1460.000000</td>\n",
       "      <td>1460.000000</td>\n",
       "      <td>1460.000000</td>\n",
       "      <td>1460.000000</td>\n",
       "      <td>1460.000000</td>\n",
       "      <td>1460.000000</td>\n",
       "      <td>1460.000000</td>\n",
       "    </tr>\n",
       "    <tr>\n",
       "      <th>mean</th>\n",
       "      <td>730.500000</td>\n",
       "      <td>56.897260</td>\n",
       "      <td>70.049958</td>\n",
       "      <td>10516.828082</td>\n",
       "      <td>6.099315</td>\n",
       "      <td>5.575342</td>\n",
       "      <td>1971.267808</td>\n",
       "      <td>1984.865753</td>\n",
       "      <td>103.685262</td>\n",
       "      <td>443.639726</td>\n",
       "      <td>...</td>\n",
       "      <td>94.244521</td>\n",
       "      <td>46.660274</td>\n",
       "      <td>21.954110</td>\n",
       "      <td>3.409589</td>\n",
       "      <td>15.060959</td>\n",
       "      <td>2.758904</td>\n",
       "      <td>43.489041</td>\n",
       "      <td>6.321918</td>\n",
       "      <td>2007.815753</td>\n",
       "      <td>180921.195890</td>\n",
       "    </tr>\n",
       "    <tr>\n",
       "      <th>std</th>\n",
       "      <td>421.610009</td>\n",
       "      <td>42.300571</td>\n",
       "      <td>24.284752</td>\n",
       "      <td>9981.264932</td>\n",
       "      <td>1.382997</td>\n",
       "      <td>1.112799</td>\n",
       "      <td>30.202904</td>\n",
       "      <td>20.645407</td>\n",
       "      <td>181.066207</td>\n",
       "      <td>456.098091</td>\n",
       "      <td>...</td>\n",
       "      <td>125.338794</td>\n",
       "      <td>66.256028</td>\n",
       "      <td>61.119149</td>\n",
       "      <td>29.317331</td>\n",
       "      <td>55.757415</td>\n",
       "      <td>40.177307</td>\n",
       "      <td>496.123024</td>\n",
       "      <td>2.703626</td>\n",
       "      <td>1.328095</td>\n",
       "      <td>79442.502883</td>\n",
       "    </tr>\n",
       "    <tr>\n",
       "      <th>min</th>\n",
       "      <td>1.000000</td>\n",
       "      <td>20.000000</td>\n",
       "      <td>21.000000</td>\n",
       "      <td>1300.000000</td>\n",
       "      <td>1.000000</td>\n",
       "      <td>1.000000</td>\n",
       "      <td>1872.000000</td>\n",
       "      <td>1950.000000</td>\n",
       "      <td>0.000000</td>\n",
       "      <td>0.000000</td>\n",
       "      <td>...</td>\n",
       "      <td>0.000000</td>\n",
       "      <td>0.000000</td>\n",
       "      <td>0.000000</td>\n",
       "      <td>0.000000</td>\n",
       "      <td>0.000000</td>\n",
       "      <td>0.000000</td>\n",
       "      <td>0.000000</td>\n",
       "      <td>1.000000</td>\n",
       "      <td>2006.000000</td>\n",
       "      <td>34900.000000</td>\n",
       "    </tr>\n",
       "    <tr>\n",
       "      <th>25%</th>\n",
       "      <td>365.750000</td>\n",
       "      <td>20.000000</td>\n",
       "      <td>59.000000</td>\n",
       "      <td>7553.500000</td>\n",
       "      <td>5.000000</td>\n",
       "      <td>5.000000</td>\n",
       "      <td>1954.000000</td>\n",
       "      <td>1967.000000</td>\n",
       "      <td>0.000000</td>\n",
       "      <td>0.000000</td>\n",
       "      <td>...</td>\n",
       "      <td>0.000000</td>\n",
       "      <td>0.000000</td>\n",
       "      <td>0.000000</td>\n",
       "      <td>0.000000</td>\n",
       "      <td>0.000000</td>\n",
       "      <td>0.000000</td>\n",
       "      <td>0.000000</td>\n",
       "      <td>5.000000</td>\n",
       "      <td>2007.000000</td>\n",
       "      <td>129975.000000</td>\n",
       "    </tr>\n",
       "    <tr>\n",
       "      <th>50%</th>\n",
       "      <td>730.500000</td>\n",
       "      <td>50.000000</td>\n",
       "      <td>69.000000</td>\n",
       "      <td>9478.500000</td>\n",
       "      <td>6.000000</td>\n",
       "      <td>5.000000</td>\n",
       "      <td>1973.000000</td>\n",
       "      <td>1994.000000</td>\n",
       "      <td>0.000000</td>\n",
       "      <td>383.500000</td>\n",
       "      <td>...</td>\n",
       "      <td>0.000000</td>\n",
       "      <td>25.000000</td>\n",
       "      <td>0.000000</td>\n",
       "      <td>0.000000</td>\n",
       "      <td>0.000000</td>\n",
       "      <td>0.000000</td>\n",
       "      <td>0.000000</td>\n",
       "      <td>6.000000</td>\n",
       "      <td>2008.000000</td>\n",
       "      <td>163000.000000</td>\n",
       "    </tr>\n",
       "    <tr>\n",
       "      <th>75%</th>\n",
       "      <td>1095.250000</td>\n",
       "      <td>70.000000</td>\n",
       "      <td>80.000000</td>\n",
       "      <td>11601.500000</td>\n",
       "      <td>7.000000</td>\n",
       "      <td>6.000000</td>\n",
       "      <td>2000.000000</td>\n",
       "      <td>2004.000000</td>\n",
       "      <td>166.000000</td>\n",
       "      <td>712.250000</td>\n",
       "      <td>...</td>\n",
       "      <td>168.000000</td>\n",
       "      <td>68.000000</td>\n",
       "      <td>0.000000</td>\n",
       "      <td>0.000000</td>\n",
       "      <td>0.000000</td>\n",
       "      <td>0.000000</td>\n",
       "      <td>0.000000</td>\n",
       "      <td>8.000000</td>\n",
       "      <td>2009.000000</td>\n",
       "      <td>214000.000000</td>\n",
       "    </tr>\n",
       "    <tr>\n",
       "      <th>max</th>\n",
       "      <td>1460.000000</td>\n",
       "      <td>190.000000</td>\n",
       "      <td>313.000000</td>\n",
       "      <td>215245.000000</td>\n",
       "      <td>10.000000</td>\n",
       "      <td>9.000000</td>\n",
       "      <td>2010.000000</td>\n",
       "      <td>2010.000000</td>\n",
       "      <td>1600.000000</td>\n",
       "      <td>5644.000000</td>\n",
       "      <td>...</td>\n",
       "      <td>857.000000</td>\n",
       "      <td>547.000000</td>\n",
       "      <td>552.000000</td>\n",
       "      <td>508.000000</td>\n",
       "      <td>480.000000</td>\n",
       "      <td>738.000000</td>\n",
       "      <td>15500.000000</td>\n",
       "      <td>12.000000</td>\n",
       "      <td>2010.000000</td>\n",
       "      <td>755000.000000</td>\n",
       "    </tr>\n",
       "  </tbody>\n",
       "</table>\n",
       "<p>8 rows × 38 columns</p>\n",
       "</div>"
      ],
      "text/plain": [
       "                Id   MSSubClass  LotFrontage        LotArea  OverallQual  \\\n",
       "count  1460.000000  1460.000000  1201.000000    1460.000000  1460.000000   \n",
       "mean    730.500000    56.897260    70.049958   10516.828082     6.099315   \n",
       "std     421.610009    42.300571    24.284752    9981.264932     1.382997   \n",
       "min       1.000000    20.000000    21.000000    1300.000000     1.000000   \n",
       "25%     365.750000    20.000000    59.000000    7553.500000     5.000000   \n",
       "50%     730.500000    50.000000    69.000000    9478.500000     6.000000   \n",
       "75%    1095.250000    70.000000    80.000000   11601.500000     7.000000   \n",
       "max    1460.000000   190.000000   313.000000  215245.000000    10.000000   \n",
       "\n",
       "       OverallCond    YearBuilt  YearRemodAdd   MasVnrArea   BsmtFinSF1  ...  \\\n",
       "count  1460.000000  1460.000000   1460.000000  1452.000000  1460.000000  ...   \n",
       "mean      5.575342  1971.267808   1984.865753   103.685262   443.639726  ...   \n",
       "std       1.112799    30.202904     20.645407   181.066207   456.098091  ...   \n",
       "min       1.000000  1872.000000   1950.000000     0.000000     0.000000  ...   \n",
       "25%       5.000000  1954.000000   1967.000000     0.000000     0.000000  ...   \n",
       "50%       5.000000  1973.000000   1994.000000     0.000000   383.500000  ...   \n",
       "75%       6.000000  2000.000000   2004.000000   166.000000   712.250000  ...   \n",
       "max       9.000000  2010.000000   2010.000000  1600.000000  5644.000000  ...   \n",
       "\n",
       "        WoodDeckSF  OpenPorchSF  EnclosedPorch    3SsnPorch  ScreenPorch  \\\n",
       "count  1460.000000  1460.000000    1460.000000  1460.000000  1460.000000   \n",
       "mean     94.244521    46.660274      21.954110     3.409589    15.060959   \n",
       "std     125.338794    66.256028      61.119149    29.317331    55.757415   \n",
       "min       0.000000     0.000000       0.000000     0.000000     0.000000   \n",
       "25%       0.000000     0.000000       0.000000     0.000000     0.000000   \n",
       "50%       0.000000    25.000000       0.000000     0.000000     0.000000   \n",
       "75%     168.000000    68.000000       0.000000     0.000000     0.000000   \n",
       "max     857.000000   547.000000     552.000000   508.000000   480.000000   \n",
       "\n",
       "          PoolArea       MiscVal       MoSold       YrSold      SalePrice  \n",
       "count  1460.000000   1460.000000  1460.000000  1460.000000    1460.000000  \n",
       "mean      2.758904     43.489041     6.321918  2007.815753  180921.195890  \n",
       "std      40.177307    496.123024     2.703626     1.328095   79442.502883  \n",
       "min       0.000000      0.000000     1.000000  2006.000000   34900.000000  \n",
       "25%       0.000000      0.000000     5.000000  2007.000000  129975.000000  \n",
       "50%       0.000000      0.000000     6.000000  2008.000000  163000.000000  \n",
       "75%       0.000000      0.000000     8.000000  2009.000000  214000.000000  \n",
       "max     738.000000  15500.000000    12.000000  2010.000000  755000.000000  \n",
       "\n",
       "[8 rows x 38 columns]"
      ]
     },
     "execution_count": 5,
     "metadata": {},
     "output_type": "execute_result"
    }
   ],
   "source": [
    "# algumas estatísticas rápidas?\n",
    "df.describe()"
   ]
  },
  {
   "cell_type": "code",
   "execution_count": 6,
   "metadata": {
    "ExecuteTime": {
     "end_time": "2022-01-20T00:14:29.752926Z",
     "start_time": "2022-01-20T00:14:29.726946Z"
    },
    "id": "v-ygbxZ7hU__",
    "outputId": "30fb36a1-c850-4b05-a27f-a6d4260234d2"
   },
   "outputs": [
    {
     "data": {
      "text/plain": [
       "count      1460.000000\n",
       "mean     180921.195890\n",
       "std       79442.502883\n",
       "min       34900.000000\n",
       "25%      129975.000000\n",
       "50%      163000.000000\n",
       "75%      214000.000000\n",
       "max      755000.000000\n",
       "Name: SalePrice, dtype: float64"
      ]
     },
     "execution_count": 6,
     "metadata": {},
     "output_type": "execute_result"
    }
   ],
   "source": [
    "#estatísticas do target?\n",
    "df['SalePrice'].describe()"
   ]
  },
  {
   "cell_type": "code",
   "execution_count": 7,
   "metadata": {
    "ExecuteTime": {
     "end_time": "2022-01-20T00:14:29.853884Z",
     "start_time": "2022-01-20T00:14:29.756927Z"
    },
    "id": "KVdl2R9zhU__"
   },
   "outputs": [],
   "source": [
    "# há dados missing?\n",
    "nulos = df.isnull().sum()"
   ]
  },
  {
   "cell_type": "code",
   "execution_count": 8,
   "metadata": {
    "ExecuteTime": {
     "end_time": "2022-01-20T00:14:29.941820Z",
     "start_time": "2022-01-20T00:14:29.866866Z"
    },
    "id": "O1SCBWUXhVAA",
    "outputId": "9fa2f835-b283-473f-f339-0bf3f94c607b"
   },
   "outputs": [
    {
     "data": {
      "text/plain": [
       "Id                 0\n",
       "MSSubClass         0\n",
       "MSZoning           0\n",
       "LotFrontage      259\n",
       "LotArea            0\n",
       "                ... \n",
       "MoSold             0\n",
       "YrSold             0\n",
       "SaleType           0\n",
       "SaleCondition      0\n",
       "SalePrice          0\n",
       "Length: 81, dtype: int64"
      ]
     },
     "execution_count": 8,
     "metadata": {},
     "output_type": "execute_result"
    }
   ],
   "source": [
    "#absoluto\n",
    "nulos"
   ]
  },
  {
   "cell_type": "code",
   "execution_count": 9,
   "metadata": {
    "ExecuteTime": {
     "end_time": "2022-01-20T00:14:30.019777Z",
     "start_time": "2022-01-20T00:14:29.952815Z"
    },
    "id": "nrX9gxSahVAA"
   },
   "outputs": [],
   "source": [
    "#percentual\n",
    "nulos_pct = nulos/df.shape[0]"
   ]
  },
  {
   "cell_type": "code",
   "execution_count": 10,
   "metadata": {
    "ExecuteTime": {
     "end_time": "2022-01-20T00:14:30.162210Z",
     "start_time": "2022-01-20T00:14:30.023774Z"
    },
    "id": "tj1OcmvshVAA",
    "outputId": "d55f2d6a-8bb0-41f8-f5c2-a751841c287a"
   },
   "outputs": [
    {
     "data": {
      "text/plain": [
       "Id               0.000000\n",
       "MSSubClass       0.000000\n",
       "MSZoning         0.000000\n",
       "LotFrontage      0.177397\n",
       "LotArea          0.000000\n",
       "                   ...   \n",
       "MoSold           0.000000\n",
       "YrSold           0.000000\n",
       "SaleType         0.000000\n",
       "SaleCondition    0.000000\n",
       "SalePrice        0.000000\n",
       "Length: 81, dtype: float64"
      ]
     },
     "execution_count": 10,
     "metadata": {},
     "output_type": "execute_result"
    }
   ],
   "source": [
    "nulos_pct"
   ]
  },
  {
   "cell_type": "code",
   "execution_count": 11,
   "metadata": {
    "ExecuteTime": {
     "end_time": "2022-01-20T00:14:30.270150Z",
     "start_time": "2022-01-20T00:14:30.165209Z"
    },
    "id": "UBjLLaHRhVAB",
    "outputId": "ec78c3cb-190e-428f-98b0-99ea33859eb9"
   },
   "outputs": [
    {
     "data": {
      "text/plain": [
       "Alley          0.937671\n",
       "PoolQC         0.995205\n",
       "Fence          0.807534\n",
       "MiscFeature    0.963014\n",
       "dtype: float64"
      ]
     },
     "execution_count": 11,
     "metadata": {},
     "output_type": "execute_result"
    }
   ],
   "source": [
    "nulos_pct[nulos_pct>0.5]"
   ]
  },
  {
   "cell_type": "markdown",
   "metadata": {
    "id": "LALh4EEMhVAD"
   },
   "source": [
    "Por enquanto, não vamos nos preocupar com os dados missing, pois vamos usar apenas uma feature no nosso modelo inicial.\n",
    "\n",
    "Aproveite para depois explorar os dados da forma que quiser!\n",
    "\n",
    "Por enquanto, vamos dar uma olhada na coluna target!"
   ]
  },
  {
   "cell_type": "code",
   "execution_count": 111,
   "metadata": {
    "ExecuteTime": {
     "end_time": "2022-01-20T00:14:37.695644Z",
     "start_time": "2022-01-20T00:14:36.736817Z"
    },
    "id": "rRUSM3QmhVAF",
    "outputId": "ef78d372-24b2-4785-81de-204374156fb1"
   },
   "outputs": [
    {
     "data": {
      "image/png": "[encoded data removed]",
      "text/plain": [
       "<Figure size 432x288 with 1 Axes>"
      ]
     },
     "metadata": {
      "needs_background": "light"
     },
     "output_type": "display_data"
    }
   ],
   "source": [
    "# dê uma olhada na distribuição dos preços \"SalePrice\"\n",
    "sns.histplot(data=df, x=\"SalePrice\", kde=True)"
   ]
  },
  {
   "cell_type": "code",
   "execution_count": 13,
   "metadata": {
    "ExecuteTime": {
     "end_time": "2022-01-20T00:14:37.710637Z",
     "start_time": "2022-01-20T00:14:37.698645Z"
    },
    "id": "RTPI8CBJhVAH",
    "outputId": "61efd667-8aa8-4469-dc5a-f242409e908e"
   },
   "outputs": [
    {
     "data": {
      "text/plain": [
       "1.8828757597682129"
      ]
     },
     "execution_count": 13,
     "metadata": {},
     "output_type": "execute_result"
    }
   ],
   "source": [
    "#skewness\n",
    "df[\"SalePrice\"].skew()"
   ]
  },
  {
   "cell_type": "markdown",
   "metadata": {
    "id": "xgPv3ztBhVAL"
   },
   "source": [
    "Fica evidente que a distribuição é desviada para a direita.\n",
    "\n",
    "Vamos tentar alterar isso na próximas versões do modelo para ver se teremos ganhos de performance!\n",
    "\n",
    "Por enquanto, seguimos assim."
   ]
  },
  {
   "cell_type": "code",
   "execution_count": 14,
   "metadata": {
    "ExecuteTime": {
     "end_time": "2022-01-20T00:14:39.094230Z",
     "start_time": "2022-01-20T00:14:38.819148Z"
    },
    "id": "b_4KrvpPhVAL",
    "scrolled": true
   },
   "outputs": [],
   "source": [
    "# Dê uma olhada na correlação entre as variáveis\n",
    "\n",
    "correlacao = df.corr(method='spearman')"
   ]
  },
  {
   "cell_type": "code",
   "execution_count": 15,
   "metadata": {
    "ExecuteTime": {
     "end_time": "2022-01-20T00:14:39.222473Z",
     "start_time": "2022-01-20T00:14:39.097228Z"
    },
    "id": "hOGuye3lhVAM",
    "outputId": "feac4972-92ae-4c88-ee72-b13f4cb3dc37"
   },
   "outputs": [
    {
     "data": {
      "text/html": [
       "<div>\n",
       "<style scoped>\n",
       "    .dataframe tbody tr th:only-of-type {\n",
       "        vertical-align: middle;\n",
       "    }\n",
       "\n",
       "    .dataframe tbody tr th {\n",
       "        vertical-align: top;\n",
       "    }\n",
       "\n",
       "    .dataframe thead th {\n",
       "        text-align: right;\n",
       "    }\n",
       "</style>\n",
       "<table border=\"1\" class=\"dataframe\">\n",
       "  <thead>\n",
       "    <tr style=\"text-align: right;\">\n",
       "      <th></th>\n",
       "      <th>Id</th>\n",
       "      <th>MSSubClass</th>\n",
       "      <th>LotFrontage</th>\n",
       "      <th>LotArea</th>\n",
       "      <th>OverallQual</th>\n",
       "      <th>OverallCond</th>\n",
       "      <th>YearBuilt</th>\n",
       "      <th>YearRemodAdd</th>\n",
       "      <th>MasVnrArea</th>\n",
       "      <th>BsmtFinSF1</th>\n",
       "      <th>...</th>\n",
       "      <th>WoodDeckSF</th>\n",
       "      <th>OpenPorchSF</th>\n",
       "      <th>EnclosedPorch</th>\n",
       "      <th>3SsnPorch</th>\n",
       "      <th>ScreenPorch</th>\n",
       "      <th>PoolArea</th>\n",
       "      <th>MiscVal</th>\n",
       "      <th>MoSold</th>\n",
       "      <th>YrSold</th>\n",
       "      <th>SalePrice</th>\n",
       "    </tr>\n",
       "  </thead>\n",
       "  <tbody>\n",
       "    <tr>\n",
       "      <th>Id</th>\n",
       "      <td>1.000000</td>\n",
       "      <td>0.019226</td>\n",
       "      <td>-0.033335</td>\n",
       "      <td>-0.005364</td>\n",
       "      <td>-0.028771</td>\n",
       "      <td>0.003622</td>\n",
       "      <td>-0.005130</td>\n",
       "      <td>-0.011680</td>\n",
       "      <td>-0.035507</td>\n",
       "      <td>-0.013038</td>\n",
       "      <td>...</td>\n",
       "      <td>-0.043239</td>\n",
       "      <td>-0.003225</td>\n",
       "      <td>-0.006758</td>\n",
       "      <td>-0.036706</td>\n",
       "      <td>0.005962</td>\n",
       "      <td>0.055555</td>\n",
       "      <td>-0.043383</td>\n",
       "      <td>0.019018</td>\n",
       "      <td>0.001526</td>\n",
       "      <td>-0.018546</td>\n",
       "    </tr>\n",
       "    <tr>\n",
       "      <th>MSSubClass</th>\n",
       "      <td>0.019226</td>\n",
       "      <td>1.000000</td>\n",
       "      <td>-0.314265</td>\n",
       "      <td>-0.269570</td>\n",
       "      <td>0.108065</td>\n",
       "      <td>-0.071770</td>\n",
       "      <td>0.035848</td>\n",
       "      <td>0.006802</td>\n",
       "      <td>0.025035</td>\n",
       "      <td>-0.107629</td>\n",
       "      <td>...</td>\n",
       "      <td>0.023370</td>\n",
       "      <td>0.031900</td>\n",
       "      <td>0.011023</td>\n",
       "      <td>-0.035830</td>\n",
       "      <td>-0.021673</td>\n",
       "      <td>0.033250</td>\n",
       "      <td>-0.032840</td>\n",
       "      <td>0.018403</td>\n",
       "      <td>-0.027401</td>\n",
       "      <td>0.007192</td>\n",
       "    </tr>\n",
       "    <tr>\n",
       "      <th>LotFrontage</th>\n",
       "      <td>-0.033335</td>\n",
       "      <td>-0.314265</td>\n",
       "      <td>1.000000</td>\n",
       "      <td>0.649633</td>\n",
       "      <td>0.254952</td>\n",
       "      <td>-0.083242</td>\n",
       "      <td>0.194510</td>\n",
       "      <td>0.116772</td>\n",
       "      <td>0.258906</td>\n",
       "      <td>0.154014</td>\n",
       "      <td>...</td>\n",
       "      <td>0.109288</td>\n",
       "      <td>0.178073</td>\n",
       "      <td>-0.095811</td>\n",
       "      <td>0.063960</td>\n",
       "      <td>0.043849</td>\n",
       "      <td>0.084534</td>\n",
       "      <td>0.024198</td>\n",
       "      <td>0.025758</td>\n",
       "      <td>0.003461</td>\n",
       "      <td>0.409076</td>\n",
       "    </tr>\n",
       "    <tr>\n",
       "      <th>LotArea</th>\n",
       "      <td>-0.005364</td>\n",
       "      <td>-0.269570</td>\n",
       "      <td>0.649633</td>\n",
       "      <td>1.000000</td>\n",
       "      <td>0.233303</td>\n",
       "      <td>-0.046912</td>\n",
       "      <td>0.103385</td>\n",
       "      <td>0.075158</td>\n",
       "      <td>0.177539</td>\n",
       "      <td>0.171995</td>\n",
       "      <td>...</td>\n",
       "      <td>0.184285</td>\n",
       "      <td>0.176965</td>\n",
       "      <td>-0.066563</td>\n",
       "      <td>0.062282</td>\n",
       "      <td>0.092316</td>\n",
       "      <td>0.084460</td>\n",
       "      <td>0.059297</td>\n",
       "      <td>0.006423</td>\n",
       "      <td>-0.027473</td>\n",
       "      <td>0.456461</td>\n",
       "    </tr>\n",
       "    <tr>\n",
       "      <th>OverallQual</th>\n",
       "      <td>-0.028771</td>\n",
       "      <td>0.108065</td>\n",
       "      <td>0.254952</td>\n",
       "      <td>0.233303</td>\n",
       "      <td>1.000000</td>\n",
       "      <td>-0.177521</td>\n",
       "      <td>0.647392</td>\n",
       "      <td>0.557723</td>\n",
       "      <td>0.413500</td>\n",
       "      <td>0.132957</td>\n",
       "      <td>...</td>\n",
       "      <td>0.259439</td>\n",
       "      <td>0.435046</td>\n",
       "      <td>-0.162434</td>\n",
       "      <td>0.032903</td>\n",
       "      <td>0.046335</td>\n",
       "      <td>0.056667</td>\n",
       "      <td>-0.088019</td>\n",
       "      <td>0.061455</td>\n",
       "      <td>-0.025464</td>\n",
       "      <td>0.809829</td>\n",
       "    </tr>\n",
       "    <tr>\n",
       "      <th>OverallCond</th>\n",
       "      <td>0.003622</td>\n",
       "      <td>-0.071770</td>\n",
       "      <td>-0.083242</td>\n",
       "      <td>-0.046912</td>\n",
       "      <td>-0.177521</td>\n",
       "      <td>1.000000</td>\n",
       "      <td>-0.416964</td>\n",
       "      <td>-0.041464</td>\n",
       "      <td>-0.179187</td>\n",
       "      <td>-0.011087</td>\n",
       "      <td>...</td>\n",
       "      <td>-0.042662</td>\n",
       "      <td>-0.133284</td>\n",
       "      <td>0.109749</td>\n",
       "      <td>0.032384</td>\n",
       "      <td>0.074728</td>\n",
       "      <td>-0.005605</td>\n",
       "      <td>0.086625</td>\n",
       "      <td>-0.007203</td>\n",
       "      <td>0.050214</td>\n",
       "      <td>-0.129325</td>\n",
       "    </tr>\n",
       "    <tr>\n",
       "      <th>YearBuilt</th>\n",
       "      <td>-0.005130</td>\n",
       "      <td>0.035848</td>\n",
       "      <td>0.194510</td>\n",
       "      <td>0.103385</td>\n",
       "      <td>0.647392</td>\n",
       "      <td>-0.416964</td>\n",
       "      <td>1.000000</td>\n",
       "      <td>0.684388</td>\n",
       "      <td>0.402349</td>\n",
       "      <td>0.189645</td>\n",
       "      <td>...</td>\n",
       "      <td>0.287729</td>\n",
       "      <td>0.392691</td>\n",
       "      <td>-0.408622</td>\n",
       "      <td>0.022498</td>\n",
       "      <td>-0.073119</td>\n",
       "      <td>0.008986</td>\n",
       "      <td>-0.091786</td>\n",
       "      <td>0.018621</td>\n",
       "      <td>-0.014100</td>\n",
       "      <td>0.652682</td>\n",
       "    </tr>\n",
       "    <tr>\n",
       "      <th>YearRemodAdd</th>\n",
       "      <td>-0.011680</td>\n",
       "      <td>0.006802</td>\n",
       "      <td>0.116772</td>\n",
       "      <td>0.075158</td>\n",
       "      <td>0.557723</td>\n",
       "      <td>-0.041464</td>\n",
       "      <td>0.684388</td>\n",
       "      <td>1.000000</td>\n",
       "      <td>0.234333</td>\n",
       "      <td>0.063353</td>\n",
       "      <td>...</td>\n",
       "      <td>0.230241</td>\n",
       "      <td>0.353325</td>\n",
       "      <td>-0.235037</td>\n",
       "      <td>0.051694</td>\n",
       "      <td>-0.045808</td>\n",
       "      <td>0.002821</td>\n",
       "      <td>-0.090868</td>\n",
       "      <td>0.021081</td>\n",
       "      <td>0.045158</td>\n",
       "      <td>0.571159</td>\n",
       "    </tr>\n",
       "    <tr>\n",
       "      <th>MasVnrArea</th>\n",
       "      <td>-0.035507</td>\n",
       "      <td>0.025035</td>\n",
       "      <td>0.258906</td>\n",
       "      <td>0.177539</td>\n",
       "      <td>0.413500</td>\n",
       "      <td>-0.179187</td>\n",
       "      <td>0.402349</td>\n",
       "      <td>0.234333</td>\n",
       "      <td>1.000000</td>\n",
       "      <td>0.241565</td>\n",
       "      <td>...</td>\n",
       "      <td>0.173736</td>\n",
       "      <td>0.208681</td>\n",
       "      <td>-0.179589</td>\n",
       "      <td>0.040997</td>\n",
       "      <td>0.038171</td>\n",
       "      <td>0.004863</td>\n",
       "      <td>-0.050279</td>\n",
       "      <td>0.017732</td>\n",
       "      <td>0.000552</td>\n",
       "      <td>0.421309</td>\n",
       "    </tr>\n",
       "    <tr>\n",
       "      <th>BsmtFinSF1</th>\n",
       "      <td>-0.013038</td>\n",
       "      <td>-0.107629</td>\n",
       "      <td>0.154014</td>\n",
       "      <td>0.171995</td>\n",
       "      <td>0.132957</td>\n",
       "      <td>-0.011087</td>\n",
       "      <td>0.189645</td>\n",
       "      <td>0.063353</td>\n",
       "      <td>0.241565</td>\n",
       "      <td>1.000000</td>\n",
       "      <td>...</td>\n",
       "      <td>0.179359</td>\n",
       "      <td>0.081420</td>\n",
       "      <td>-0.148339</td>\n",
       "      <td>0.046802</td>\n",
       "      <td>0.071989</td>\n",
       "      <td>0.057586</td>\n",
       "      <td>0.005097</td>\n",
       "      <td>-0.016405</td>\n",
       "      <td>0.020793</td>\n",
       "      <td>0.301871</td>\n",
       "    </tr>\n",
       "    <tr>\n",
       "      <th>BsmtFinSF2</th>\n",
       "      <td>-0.006736</td>\n",
       "      <td>-0.083871</td>\n",
       "      <td>0.052516</td>\n",
       "      <td>0.072019</td>\n",
       "      <td>-0.117560</td>\n",
       "      <td>0.102471</td>\n",
       "      <td>-0.111692</td>\n",
       "      <td>-0.126086</td>\n",
       "      <td>-0.061342</td>\n",
       "      <td>0.050398</td>\n",
       "      <td>...</td>\n",
       "      <td>0.069343</td>\n",
       "      <td>-0.068991</td>\n",
       "      <td>0.041524</td>\n",
       "      <td>-0.016079</td>\n",
       "      <td>0.058716</td>\n",
       "      <td>0.068076</td>\n",
       "      <td>0.030363</td>\n",
       "      <td>-0.025808</td>\n",
       "      <td>0.026054</td>\n",
       "      <td>-0.038806</td>\n",
       "    </tr>\n",
       "    <tr>\n",
       "      <th>BsmtUnfSF</th>\n",
       "      <td>-0.009509</td>\n",
       "      <td>-0.117603</td>\n",
       "      <td>0.119436</td>\n",
       "      <td>0.077830</td>\n",
       "      <td>0.272939</td>\n",
       "      <td>-0.128270</td>\n",
       "      <td>0.139014</td>\n",
       "      <td>0.176921</td>\n",
       "      <td>0.075561</td>\n",
       "      <td>-0.573638</td>\n",
       "      <td>...</td>\n",
       "      <td>-0.034866</td>\n",
       "      <td>0.156127</td>\n",
       "      <td>0.044242</td>\n",
       "      <td>0.013418</td>\n",
       "      <td>-0.012447</td>\n",
       "      <td>-0.036809</td>\n",
       "      <td>-0.044460</td>\n",
       "      <td>0.037116</td>\n",
       "      <td>-0.038552</td>\n",
       "      <td>0.185197</td>\n",
       "    </tr>\n",
       "    <tr>\n",
       "      <th>TotalBsmtSF</th>\n",
       "      <td>-0.033187</td>\n",
       "      <td>-0.318897</td>\n",
       "      <td>0.386206</td>\n",
       "      <td>0.366197</td>\n",
       "      <td>0.459915</td>\n",
       "      <td>-0.217375</td>\n",
       "      <td>0.427187</td>\n",
       "      <td>0.299042</td>\n",
       "      <td>0.360104</td>\n",
       "      <td>0.410413</td>\n",
       "      <td>...</td>\n",
       "      <td>0.231045</td>\n",
       "      <td>0.270321</td>\n",
       "      <td>-0.171538</td>\n",
       "      <td>0.049173</td>\n",
       "      <td>0.088690</td>\n",
       "      <td>0.047067</td>\n",
       "      <td>-0.061180</td>\n",
       "      <td>0.030340</td>\n",
       "      <td>-0.016530</td>\n",
       "      <td>0.602725</td>\n",
       "    </tr>\n",
       "    <tr>\n",
       "      <th>1stFlrSF</th>\n",
       "      <td>-0.000616</td>\n",
       "      <td>-0.278318</td>\n",
       "      <td>0.427678</td>\n",
       "      <td>0.443858</td>\n",
       "      <td>0.408730</td>\n",
       "      <td>-0.166686</td>\n",
       "      <td>0.293363</td>\n",
       "      <td>0.240265</td>\n",
       "      <td>0.352351</td>\n",
       "      <td>0.323478</td>\n",
       "      <td>...</td>\n",
       "      <td>0.218999</td>\n",
       "      <td>0.234713</td>\n",
       "      <td>-0.129189</td>\n",
       "      <td>0.060195</td>\n",
       "      <td>0.107512</td>\n",
       "      <td>0.070557</td>\n",
       "      <td>-0.033219</td>\n",
       "      <td>0.053828</td>\n",
       "      <td>-0.022411</td>\n",
       "      <td>0.575408</td>\n",
       "    </tr>\n",
       "    <tr>\n",
       "      <th>2ndFlrSF</th>\n",
       "      <td>0.009455</td>\n",
       "      <td>0.487749</td>\n",
       "      <td>0.055111</td>\n",
       "      <td>0.119356</td>\n",
       "      <td>0.289561</td>\n",
       "      <td>0.001111</td>\n",
       "      <td>0.029716</td>\n",
       "      <td>0.073049</td>\n",
       "      <td>0.063162</td>\n",
       "      <td>-0.191236</td>\n",
       "      <td>...</td>\n",
       "      <td>0.071047</td>\n",
       "      <td>0.225121</td>\n",
       "      <td>0.045793</td>\n",
       "      <td>-0.022861</td>\n",
       "      <td>0.012173</td>\n",
       "      <td>0.061376</td>\n",
       "      <td>-0.005313</td>\n",
       "      <td>0.043437</td>\n",
       "      <td>-0.021784</td>\n",
       "      <td>0.293598</td>\n",
       "    </tr>\n",
       "    <tr>\n",
       "      <th>LowQualFinSF</th>\n",
       "      <td>-0.028463</td>\n",
       "      <td>0.075794</td>\n",
       "      <td>-0.030230</td>\n",
       "      <td>-0.020255</td>\n",
       "      <td>-0.034029</td>\n",
       "      <td>0.039556</td>\n",
       "      <td>-0.145936</td>\n",
       "      <td>-0.064542</td>\n",
       "      <td>-0.106994</td>\n",
       "      <td>-0.079054</td>\n",
       "      <td>...</td>\n",
       "      <td>-0.042103</td>\n",
       "      <td>0.010320</td>\n",
       "      <td>0.047547</td>\n",
       "      <td>0.022432</td>\n",
       "      <td>-0.018578</td>\n",
       "      <td>0.065675</td>\n",
       "      <td>0.029123</td>\n",
       "      <td>-0.003645</td>\n",
       "      <td>-0.035395</td>\n",
       "      <td>-0.067719</td>\n",
       "    </tr>\n",
       "    <tr>\n",
       "      <th>GrLivArea</th>\n",
       "      <td>0.002812</td>\n",
       "      <td>0.203576</td>\n",
       "      <td>0.375844</td>\n",
       "      <td>0.449040</td>\n",
       "      <td>0.603262</td>\n",
       "      <td>-0.153720</td>\n",
       "      <td>0.288493</td>\n",
       "      <td>0.282400</td>\n",
       "      <td>0.322678</td>\n",
       "      <td>0.057471</td>\n",
       "      <td>...</td>\n",
       "      <td>0.227158</td>\n",
       "      <td>0.398312</td>\n",
       "      <td>-0.049057</td>\n",
       "      <td>0.033912</td>\n",
       "      <td>0.085630</td>\n",
       "      <td>0.068298</td>\n",
       "      <td>-0.048969</td>\n",
       "      <td>0.080705</td>\n",
       "      <td>-0.026256</td>\n",
       "      <td>0.731310</td>\n",
       "    </tr>\n",
       "    <tr>\n",
       "      <th>BsmtFullBath</th>\n",
       "      <td>0.004662</td>\n",
       "      <td>-0.042017</td>\n",
       "      <td>0.085990</td>\n",
       "      <td>0.095609</td>\n",
       "      <td>0.098034</td>\n",
       "      <td>-0.052676</td>\n",
       "      <td>0.162080</td>\n",
       "      <td>0.099904</td>\n",
       "      <td>0.121004</td>\n",
       "      <td>0.674175</td>\n",
       "      <td>...</td>\n",
       "      <td>0.169187</td>\n",
       "      <td>0.085672</td>\n",
       "      <td>-0.073447</td>\n",
       "      <td>0.010204</td>\n",
       "      <td>0.030253</td>\n",
       "      <td>0.069112</td>\n",
       "      <td>-0.006701</td>\n",
       "      <td>-0.026924</td>\n",
       "      <td>0.062829</td>\n",
       "      <td>0.225125</td>\n",
       "    </tr>\n",
       "    <tr>\n",
       "      <th>BsmtHalfBath</th>\n",
       "      <td>-0.021475</td>\n",
       "      <td>0.002480</td>\n",
       "      <td>-0.003854</td>\n",
       "      <td>0.045970</td>\n",
       "      <td>-0.050598</td>\n",
       "      <td>0.116015</td>\n",
       "      <td>-0.066313</td>\n",
       "      <td>-0.031495</td>\n",
       "      <td>0.032870</td>\n",
       "      <td>0.090712</td>\n",
       "      <td>...</td>\n",
       "      <td>0.049499</td>\n",
       "      <td>-0.040500</td>\n",
       "      <td>-0.036800</td>\n",
       "      <td>0.061530</td>\n",
       "      <td>0.037936</td>\n",
       "      <td>0.025957</td>\n",
       "      <td>0.032481</td>\n",
       "      <td>0.036662</td>\n",
       "      <td>-0.040726</td>\n",
       "      <td>-0.012189</td>\n",
       "    </tr>\n",
       "    <tr>\n",
       "      <th>FullBath</th>\n",
       "      <td>0.007269</td>\n",
       "      <td>0.194912</td>\n",
       "      <td>0.220234</td>\n",
       "      <td>0.235377</td>\n",
       "      <td>0.576372</td>\n",
       "      <td>-0.262400</td>\n",
       "      <td>0.537420</td>\n",
       "      <td>0.431390</td>\n",
       "      <td>0.290366</td>\n",
       "      <td>0.011986</td>\n",
       "      <td>...</td>\n",
       "      <td>0.226374</td>\n",
       "      <td>0.370152</td>\n",
       "      <td>-0.159420</td>\n",
       "      <td>0.037323</td>\n",
       "      <td>-0.037236</td>\n",
       "      <td>0.042212</td>\n",
       "      <td>-0.048728</td>\n",
       "      <td>0.066774</td>\n",
       "      <td>-0.012144</td>\n",
       "      <td>0.635957</td>\n",
       "    </tr>\n",
       "    <tr>\n",
       "      <th>HalfBath</th>\n",
       "      <td>0.002564</td>\n",
       "      <td>0.282632</td>\n",
       "      <td>0.096777</td>\n",
       "      <td>0.142658</td>\n",
       "      <td>0.298455</td>\n",
       "      <td>-0.071342</td>\n",
       "      <td>0.244901</td>\n",
       "      <td>0.151562</td>\n",
       "      <td>0.168776</td>\n",
       "      <td>-0.013907</td>\n",
       "      <td>...</td>\n",
       "      <td>0.108268</td>\n",
       "      <td>0.267980</td>\n",
       "      <td>-0.127763</td>\n",
       "      <td>-0.000677</td>\n",
       "      <td>0.059158</td>\n",
       "      <td>0.027421</td>\n",
       "      <td>-0.032966</td>\n",
       "      <td>-0.004893</td>\n",
       "      <td>-0.011280</td>\n",
       "      <td>0.343008</td>\n",
       "    </tr>\n",
       "    <tr>\n",
       "      <th>BedroomAbvGr</th>\n",
       "      <td>0.041650</td>\n",
       "      <td>0.068763</td>\n",
       "      <td>0.327679</td>\n",
       "      <td>0.337788</td>\n",
       "      <td>0.121517</td>\n",
       "      <td>-0.003713</td>\n",
       "      <td>-0.035257</td>\n",
       "      <td>-0.054371</td>\n",
       "      <td>0.113137</td>\n",
       "      <td>-0.084164</td>\n",
       "      <td>...</td>\n",
       "      <td>0.055579</td>\n",
       "      <td>0.099832</td>\n",
       "      <td>0.002303</td>\n",
       "      <td>-0.018686</td>\n",
       "      <td>0.033808</td>\n",
       "      <td>0.071734</td>\n",
       "      <td>0.012503</td>\n",
       "      <td>0.050677</td>\n",
       "      <td>-0.028372</td>\n",
       "      <td>0.234907</td>\n",
       "    </tr>\n",
       "    <tr>\n",
       "      <th>KitchenAbvGr</th>\n",
       "      <td>0.007574</td>\n",
       "      <td>0.277162</td>\n",
       "      <td>0.002231</td>\n",
       "      <td>-0.022752</td>\n",
       "      <td>-0.192439</td>\n",
       "      <td>-0.099754</td>\n",
       "      <td>-0.155604</td>\n",
       "      <td>-0.154208</td>\n",
       "      <td>-0.049387</td>\n",
       "      <td>-0.106369</td>\n",
       "      <td>...</td>\n",
       "      <td>-0.098364</td>\n",
       "      <td>-0.112484</td>\n",
       "      <td>0.035181</td>\n",
       "      <td>-0.027730</td>\n",
       "      <td>-0.051764</td>\n",
       "      <td>-0.014889</td>\n",
       "      <td>0.029948</td>\n",
       "      <td>0.027611</td>\n",
       "      <td>0.027165</td>\n",
       "      <td>-0.164826</td>\n",
       "    </tr>\n",
       "    <tr>\n",
       "      <th>TotRmsAbvGrd</th>\n",
       "      <td>0.025888</td>\n",
       "      <td>0.165825</td>\n",
       "      <td>0.365999</td>\n",
       "      <td>0.405924</td>\n",
       "      <td>0.427806</td>\n",
       "      <td>-0.104919</td>\n",
       "      <td>0.176820</td>\n",
       "      <td>0.198243</td>\n",
       "      <td>0.263912</td>\n",
       "      <td>-0.050062</td>\n",
       "      <td>...</td>\n",
       "      <td>0.164980</td>\n",
       "      <td>0.285002</td>\n",
       "      <td>-0.028734</td>\n",
       "      <td>-0.002640</td>\n",
       "      <td>0.032286</td>\n",
       "      <td>0.059386</td>\n",
       "      <td>-0.021463</td>\n",
       "      <td>0.040138</td>\n",
       "      <td>-0.036894</td>\n",
       "      <td>0.532586</td>\n",
       "    </tr>\n",
       "    <tr>\n",
       "      <th>Fireplaces</th>\n",
       "      <td>-0.013644</td>\n",
       "      <td>0.019480</td>\n",
       "      <td>0.245315</td>\n",
       "      <td>0.350198</td>\n",
       "      <td>0.420626</td>\n",
       "      <td>-0.045383</td>\n",
       "      <td>0.174655</td>\n",
       "      <td>0.119270</td>\n",
       "      <td>0.255627</td>\n",
       "      <td>0.192264</td>\n",
       "      <td>...</td>\n",
       "      <td>0.213781</td>\n",
       "      <td>0.218727</td>\n",
       "      <td>-0.060932</td>\n",
       "      <td>0.035791</td>\n",
       "      <td>0.179235</td>\n",
       "      <td>0.083876</td>\n",
       "      <td>-0.007546</td>\n",
       "      <td>0.043514</td>\n",
       "      <td>-0.034962</td>\n",
       "      <td>0.519247</td>\n",
       "    </tr>\n",
       "    <tr>\n",
       "      <th>GarageYrBlt</th>\n",
       "      <td>-0.000194</td>\n",
       "      <td>0.079268</td>\n",
       "      <td>0.115694</td>\n",
       "      <td>0.041796</td>\n",
       "      <td>0.618193</td>\n",
       "      <td>-0.379398</td>\n",
       "      <td>0.890546</td>\n",
       "      <td>0.722377</td>\n",
       "      <td>0.305964</td>\n",
       "      <td>0.078935</td>\n",
       "      <td>...</td>\n",
       "      <td>0.274373</td>\n",
       "      <td>0.394185</td>\n",
       "      <td>-0.317438</td>\n",
       "      <td>0.016935</td>\n",
       "      <td>-0.099749</td>\n",
       "      <td>-0.007330</td>\n",
       "      <td>-0.067091</td>\n",
       "      <td>0.012337</td>\n",
       "      <td>-0.005770</td>\n",
       "      <td>0.593788</td>\n",
       "    </tr>\n",
       "    <tr>\n",
       "      <th>GarageCars</th>\n",
       "      <td>0.013301</td>\n",
       "      <td>0.024226</td>\n",
       "      <td>0.351756</td>\n",
       "      <td>0.340195</td>\n",
       "      <td>0.608756</td>\n",
       "      <td>-0.254763</td>\n",
       "      <td>0.601519</td>\n",
       "      <td>0.456245</td>\n",
       "      <td>0.401606</td>\n",
       "      <td>0.181381</td>\n",
       "      <td>...</td>\n",
       "      <td>0.255637</td>\n",
       "      <td>0.342701</td>\n",
       "      <td>-0.211429</td>\n",
       "      <td>0.035538</td>\n",
       "      <td>0.025837</td>\n",
       "      <td>0.021783</td>\n",
       "      <td>-0.057536</td>\n",
       "      <td>0.040261</td>\n",
       "      <td>-0.039178</td>\n",
       "      <td>0.690711</td>\n",
       "    </tr>\n",
       "    <tr>\n",
       "      <th>GarageArea</th>\n",
       "      <td>0.006505</td>\n",
       "      <td>-0.047133</td>\n",
       "      <td>0.378052</td>\n",
       "      <td>0.367153</td>\n",
       "      <td>0.541552</td>\n",
       "      <td>-0.200718</td>\n",
       "      <td>0.528281</td>\n",
       "      <td>0.398267</td>\n",
       "      <td>0.364755</td>\n",
       "      <td>0.244161</td>\n",
       "      <td>...</td>\n",
       "      <td>0.247633</td>\n",
       "      <td>0.338430</td>\n",
       "      <td>-0.177993</td>\n",
       "      <td>0.036300</td>\n",
       "      <td>0.029071</td>\n",
       "      <td>0.042387</td>\n",
       "      <td>-0.035918</td>\n",
       "      <td>0.032625</td>\n",
       "      <td>-0.021676</td>\n",
       "      <td>0.649379</td>\n",
       "    </tr>\n",
       "    <tr>\n",
       "      <th>WoodDeckSF</th>\n",
       "      <td>-0.043239</td>\n",
       "      <td>0.023370</td>\n",
       "      <td>0.109288</td>\n",
       "      <td>0.184285</td>\n",
       "      <td>0.259439</td>\n",
       "      <td>-0.042662</td>\n",
       "      <td>0.287729</td>\n",
       "      <td>0.230241</td>\n",
       "      <td>0.173736</td>\n",
       "      <td>0.179359</td>\n",
       "      <td>...</td>\n",
       "      <td>1.000000</td>\n",
       "      <td>0.124200</td>\n",
       "      <td>-0.158257</td>\n",
       "      <td>-0.027760</td>\n",
       "      <td>-0.090229</td>\n",
       "      <td>0.050245</td>\n",
       "      <td>0.017017</td>\n",
       "      <td>0.038058</td>\n",
       "      <td>0.022937</td>\n",
       "      <td>0.353802</td>\n",
       "    </tr>\n",
       "    <tr>\n",
       "      <th>OpenPorchSF</th>\n",
       "      <td>-0.003225</td>\n",
       "      <td>0.031900</td>\n",
       "      <td>0.178073</td>\n",
       "      <td>0.176965</td>\n",
       "      <td>0.435046</td>\n",
       "      <td>-0.133284</td>\n",
       "      <td>0.392691</td>\n",
       "      <td>0.353325</td>\n",
       "      <td>0.208681</td>\n",
       "      <td>0.081420</td>\n",
       "      <td>...</td>\n",
       "      <td>0.124200</td>\n",
       "      <td>1.000000</td>\n",
       "      <td>-0.168911</td>\n",
       "      <td>0.017123</td>\n",
       "      <td>0.006566</td>\n",
       "      <td>0.036890</td>\n",
       "      <td>-0.034794</td>\n",
       "      <td>0.066445</td>\n",
       "      <td>-0.059019</td>\n",
       "      <td>0.477561</td>\n",
       "    </tr>\n",
       "    <tr>\n",
       "      <th>EnclosedPorch</th>\n",
       "      <td>-0.006758</td>\n",
       "      <td>0.011023</td>\n",
       "      <td>-0.095811</td>\n",
       "      <td>-0.066563</td>\n",
       "      <td>-0.162434</td>\n",
       "      <td>0.109749</td>\n",
       "      <td>-0.408622</td>\n",
       "      <td>-0.235037</td>\n",
       "      <td>-0.179589</td>\n",
       "      <td>-0.148339</td>\n",
       "      <td>...</td>\n",
       "      <td>-0.158257</td>\n",
       "      <td>-0.168911</td>\n",
       "      <td>1.000000</td>\n",
       "      <td>-0.038790</td>\n",
       "      <td>-0.080716</td>\n",
       "      <td>0.003995</td>\n",
       "      <td>0.038746</td>\n",
       "      <td>-0.028538</td>\n",
       "      <td>0.000519</td>\n",
       "      <td>-0.218394</td>\n",
       "    </tr>\n",
       "    <tr>\n",
       "      <th>3SsnPorch</th>\n",
       "      <td>-0.036706</td>\n",
       "      <td>-0.035830</td>\n",
       "      <td>0.063960</td>\n",
       "      <td>0.062282</td>\n",
       "      <td>0.032903</td>\n",
       "      <td>0.032384</td>\n",
       "      <td>0.022498</td>\n",
       "      <td>0.051694</td>\n",
       "      <td>0.040997</td>\n",
       "      <td>0.046802</td>\n",
       "      <td>...</td>\n",
       "      <td>-0.027760</td>\n",
       "      <td>0.017123</td>\n",
       "      <td>-0.038790</td>\n",
       "      <td>1.000000</td>\n",
       "      <td>-0.037935</td>\n",
       "      <td>-0.008973</td>\n",
       "      <td>0.004980</td>\n",
       "      <td>0.037039</td>\n",
       "      <td>0.006790</td>\n",
       "      <td>0.065440</td>\n",
       "    </tr>\n",
       "    <tr>\n",
       "      <th>ScreenPorch</th>\n",
       "      <td>0.005962</td>\n",
       "      <td>-0.021673</td>\n",
       "      <td>0.043849</td>\n",
       "      <td>0.092316</td>\n",
       "      <td>0.046335</td>\n",
       "      <td>0.074728</td>\n",
       "      <td>-0.073119</td>\n",
       "      <td>-0.045808</td>\n",
       "      <td>0.038171</td>\n",
       "      <td>0.071989</td>\n",
       "      <td>...</td>\n",
       "      <td>-0.090229</td>\n",
       "      <td>0.006566</td>\n",
       "      <td>-0.080716</td>\n",
       "      <td>-0.037935</td>\n",
       "      <td>1.000000</td>\n",
       "      <td>0.019035</td>\n",
       "      <td>0.015435</td>\n",
       "      <td>0.023643</td>\n",
       "      <td>0.023485</td>\n",
       "      <td>0.100070</td>\n",
       "    </tr>\n",
       "    <tr>\n",
       "      <th>PoolArea</th>\n",
       "      <td>0.055555</td>\n",
       "      <td>0.033250</td>\n",
       "      <td>0.084534</td>\n",
       "      <td>0.084460</td>\n",
       "      <td>0.056667</td>\n",
       "      <td>-0.005605</td>\n",
       "      <td>0.008986</td>\n",
       "      <td>0.002821</td>\n",
       "      <td>0.004863</td>\n",
       "      <td>0.057586</td>\n",
       "      <td>...</td>\n",
       "      <td>0.050245</td>\n",
       "      <td>0.036890</td>\n",
       "      <td>0.003995</td>\n",
       "      <td>-0.008973</td>\n",
       "      <td>0.019035</td>\n",
       "      <td>1.000000</td>\n",
       "      <td>0.041544</td>\n",
       "      <td>-0.023295</td>\n",
       "      <td>-0.058132</td>\n",
       "      <td>0.058453</td>\n",
       "    </tr>\n",
       "    <tr>\n",
       "      <th>MiscVal</th>\n",
       "      <td>-0.043383</td>\n",
       "      <td>-0.032840</td>\n",
       "      <td>0.024198</td>\n",
       "      <td>0.059297</td>\n",
       "      <td>-0.088019</td>\n",
       "      <td>0.086625</td>\n",
       "      <td>-0.091786</td>\n",
       "      <td>-0.090868</td>\n",
       "      <td>-0.050279</td>\n",
       "      <td>0.005097</td>\n",
       "      <td>...</td>\n",
       "      <td>0.017017</td>\n",
       "      <td>-0.034794</td>\n",
       "      <td>0.038746</td>\n",
       "      <td>0.004980</td>\n",
       "      <td>0.015435</td>\n",
       "      <td>0.041544</td>\n",
       "      <td>1.000000</td>\n",
       "      <td>0.011075</td>\n",
       "      <td>0.057210</td>\n",
       "      <td>-0.062727</td>\n",
       "    </tr>\n",
       "    <tr>\n",
       "      <th>MoSold</th>\n",
       "      <td>0.019018</td>\n",
       "      <td>0.018403</td>\n",
       "      <td>0.025758</td>\n",
       "      <td>0.006423</td>\n",
       "      <td>0.061455</td>\n",
       "      <td>-0.007203</td>\n",
       "      <td>0.018621</td>\n",
       "      <td>0.021081</td>\n",
       "      <td>0.017732</td>\n",
       "      <td>-0.016405</td>\n",
       "      <td>...</td>\n",
       "      <td>0.038058</td>\n",
       "      <td>0.066445</td>\n",
       "      <td>-0.028538</td>\n",
       "      <td>0.037039</td>\n",
       "      <td>0.023643</td>\n",
       "      <td>-0.023295</td>\n",
       "      <td>0.011075</td>\n",
       "      <td>1.000000</td>\n",
       "      <td>-0.150937</td>\n",
       "      <td>0.069432</td>\n",
       "    </tr>\n",
       "    <tr>\n",
       "      <th>YrSold</th>\n",
       "      <td>0.001526</td>\n",
       "      <td>-0.027401</td>\n",
       "      <td>0.003461</td>\n",
       "      <td>-0.027473</td>\n",
       "      <td>-0.025464</td>\n",
       "      <td>0.050214</td>\n",
       "      <td>-0.014100</td>\n",
       "      <td>0.045158</td>\n",
       "      <td>0.000552</td>\n",
       "      <td>0.020793</td>\n",
       "      <td>...</td>\n",
       "      <td>0.022937</td>\n",
       "      <td>-0.059019</td>\n",
       "      <td>0.000519</td>\n",
       "      <td>0.006790</td>\n",
       "      <td>0.023485</td>\n",
       "      <td>-0.058132</td>\n",
       "      <td>0.057210</td>\n",
       "      <td>-0.150937</td>\n",
       "      <td>1.000000</td>\n",
       "      <td>-0.029899</td>\n",
       "    </tr>\n",
       "    <tr>\n",
       "      <th>SalePrice</th>\n",
       "      <td>-0.018546</td>\n",
       "      <td>0.007192</td>\n",
       "      <td>0.409076</td>\n",
       "      <td>0.456461</td>\n",
       "      <td>0.809829</td>\n",
       "      <td>-0.129325</td>\n",
       "      <td>0.652682</td>\n",
       "      <td>0.571159</td>\n",
       "      <td>0.421309</td>\n",
       "      <td>0.301871</td>\n",
       "      <td>...</td>\n",
       "      <td>0.353802</td>\n",
       "      <td>0.477561</td>\n",
       "      <td>-0.218394</td>\n",
       "      <td>0.065440</td>\n",
       "      <td>0.100070</td>\n",
       "      <td>0.058453</td>\n",
       "      <td>-0.062727</td>\n",
       "      <td>0.069432</td>\n",
       "      <td>-0.029899</td>\n",
       "      <td>1.000000</td>\n",
       "    </tr>\n",
       "  </tbody>\n",
       "</table>\n",
       "<p>38 rows × 38 columns</p>\n",
       "</div>"
      ],
      "text/plain": [
       "                     Id  MSSubClass  LotFrontage   LotArea  OverallQual  \\\n",
       "Id             1.000000    0.019226    -0.033335 -0.005364    -0.028771   \n",
       "MSSubClass     0.019226    1.000000    -0.314265 -0.269570     0.108065   \n",
       "LotFrontage   -0.033335   -0.314265     1.000000  0.649633     0.254952   \n",
       "LotArea       -0.005364   -0.269570     0.649633  1.000000     0.233303   \n",
       "OverallQual   -0.028771    0.108065     0.254952  0.233303     1.000000   \n",
       "OverallCond    0.003622   -0.071770    -0.083242 -0.046912    -0.177521   \n",
       "YearBuilt     -0.005130    0.035848     0.194510  0.103385     0.647392   \n",
       "YearRemodAdd  -0.011680    0.006802     0.116772  0.075158     0.557723   \n",
       "MasVnrArea    -0.035507    0.025035     0.258906  0.177539     0.413500   \n",
       "BsmtFinSF1    -0.013038   -0.107629     0.154014  0.171995     0.132957   \n",
       "BsmtFinSF2    -0.006736   -0.083871     0.052516  0.072019    -0.117560   \n",
       "BsmtUnfSF     -0.009509   -0.117603     0.119436  0.077830     0.272939   \n",
       "TotalBsmtSF   -0.033187   -0.318897     0.386206  0.366197     0.459915   \n",
       "1stFlrSF      -0.000616   -0.278318     0.427678  0.443858     0.408730   \n",
       "2ndFlrSF       0.009455    0.487749     0.055111  0.119356     0.289561   \n",
       "LowQualFinSF  -0.028463    0.075794    -0.030230 -0.020255    -0.034029   \n",
       "GrLivArea      0.002812    0.203576     0.375844  0.449040     0.603262   \n",
       "BsmtFullBath   0.004662   -0.042017     0.085990  0.095609     0.098034   \n",
       "BsmtHalfBath  -0.021475    0.002480    -0.003854  0.045970    -0.050598   \n",
       "FullBath       0.007269    0.194912     0.220234  0.235377     0.576372   \n",
       "HalfBath       0.002564    0.282632     0.096777  0.142658     0.298455   \n",
       "BedroomAbvGr   0.041650    0.068763     0.327679  0.337788     0.121517   \n",
       "KitchenAbvGr   0.007574    0.277162     0.002231 -0.022752    -0.192439   \n",
       "TotRmsAbvGrd   0.025888    0.165825     0.365999  0.405924     0.427806   \n",
       "Fireplaces    -0.013644    0.019480     0.245315  0.350198     0.420626   \n",
       "GarageYrBlt   -0.000194    0.079268     0.115694  0.041796     0.618193   \n",
       "GarageCars     0.013301    0.024226     0.351756  0.340195     0.608756   \n",
       "GarageArea     0.006505   -0.047133     0.378052  0.367153     0.541552   \n",
       "WoodDeckSF    -0.043239    0.023370     0.109288  0.184285     0.259439   \n",
       "OpenPorchSF   -0.003225    0.031900     0.178073  0.176965     0.435046   \n",
       "EnclosedPorch -0.006758    0.011023    -0.095811 -0.066563    -0.162434   \n",
       "3SsnPorch     -0.036706   -0.035830     0.063960  0.062282     0.032903   \n",
       "ScreenPorch    0.005962   -0.021673     0.043849  0.092316     0.046335   \n",
       "PoolArea       0.055555    0.033250     0.084534  0.084460     0.056667   \n",
       "MiscVal       -0.043383   -0.032840     0.024198  0.059297    -0.088019   \n",
       "MoSold         0.019018    0.018403     0.025758  0.006423     0.061455   \n",
       "YrSold         0.001526   -0.027401     0.003461 -0.027473    -0.025464   \n",
       "SalePrice     -0.018546    0.007192     0.409076  0.456461     0.809829   \n",
       "\n",
       "               OverallCond  YearBuilt  YearRemodAdd  MasVnrArea  BsmtFinSF1  \\\n",
       "Id                0.003622  -0.005130     -0.011680   -0.035507   -0.013038   \n",
       "MSSubClass       -0.071770   0.035848      0.006802    0.025035   -0.107629   \n",
       "LotFrontage      -0.083242   0.194510      0.116772    0.258906    0.154014   \n",
       "LotArea          -0.046912   0.103385      0.075158    0.177539    0.171995   \n",
       "OverallQual      -0.177521   0.647392      0.557723    0.413500    0.132957   \n",
       "OverallCond       1.000000  -0.416964     -0.041464   -0.179187   -0.011087   \n",
       "YearBuilt        -0.416964   1.000000      0.684388    0.402349    0.189645   \n",
       "YearRemodAdd     -0.041464   0.684388      1.000000    0.234333    0.063353   \n",
       "MasVnrArea       -0.179187   0.402349      0.234333    1.000000    0.241565   \n",
       "BsmtFinSF1       -0.011087   0.189645      0.063353    0.241565    1.000000   \n",
       "BsmtFinSF2        0.102471  -0.111692     -0.126086   -0.061342    0.050398   \n",
       "BsmtUnfSF        -0.128270   0.139014      0.176921    0.075561   -0.573638   \n",
       "TotalBsmtSF      -0.217375   0.427187      0.299042    0.360104    0.410413   \n",
       "1stFlrSF         -0.166686   0.293363      0.240265    0.352351    0.323478   \n",
       "2ndFlrSF          0.001111   0.029716      0.073049    0.063162   -0.191236   \n",
       "LowQualFinSF      0.039556  -0.145936     -0.064542   -0.106994   -0.079054   \n",
       "GrLivArea        -0.153720   0.288493      0.282400    0.322678    0.057471   \n",
       "BsmtFullBath     -0.052676   0.162080      0.099904    0.121004    0.674175   \n",
       "BsmtHalfBath      0.116015  -0.066313     -0.031495    0.032870    0.090712   \n",
       "FullBath         -0.262400   0.537420      0.431390    0.290366    0.011986   \n",
       "HalfBath         -0.071342   0.244901      0.151562    0.168776   -0.013907   \n",
       "BedroomAbvGr     -0.003713  -0.035257     -0.054371    0.113137   -0.084164   \n",
       "KitchenAbvGr     -0.099754  -0.155604     -0.154208   -0.049387   -0.106369   \n",
       "TotRmsAbvGrd     -0.104919   0.176820      0.198243    0.263912   -0.050062   \n",
       "Fireplaces       -0.045383   0.174655      0.119270    0.255627    0.192264   \n",
       "GarageYrBlt      -0.379398   0.890546      0.722377    0.305964    0.078935   \n",
       "GarageCars       -0.254763   0.601519      0.456245    0.401606    0.181381   \n",
       "GarageArea       -0.200718   0.528281      0.398267    0.364755    0.244161   \n",
       "WoodDeckSF       -0.042662   0.287729      0.230241    0.173736    0.179359   \n",
       "OpenPorchSF      -0.133284   0.392691      0.353325    0.208681    0.081420   \n",
       "EnclosedPorch     0.109749  -0.408622     -0.235037   -0.179589   -0.148339   \n",
       "3SsnPorch         0.032384   0.022498      0.051694    0.040997    0.046802   \n",
       "ScreenPorch       0.074728  -0.073119     -0.045808    0.038171    0.071989   \n",
       "PoolArea         -0.005605   0.008986      0.002821    0.004863    0.057586   \n",
       "MiscVal           0.086625  -0.091786     -0.090868   -0.050279    0.005097   \n",
       "MoSold           -0.007203   0.018621      0.021081    0.017732   -0.016405   \n",
       "YrSold            0.050214  -0.014100      0.045158    0.000552    0.020793   \n",
       "SalePrice        -0.129325   0.652682      0.571159    0.421309    0.301871   \n",
       "\n",
       "               ...  WoodDeckSF  OpenPorchSF  EnclosedPorch  3SsnPorch  \\\n",
       "Id             ...   -0.043239    -0.003225      -0.006758  -0.036706   \n",
       "MSSubClass     ...    0.023370     0.031900       0.011023  -0.035830   \n",
       "LotFrontage    ...    0.109288     0.178073      -0.095811   0.063960   \n",
       "LotArea        ...    0.184285     0.176965      -0.066563   0.062282   \n",
       "OverallQual    ...    0.259439     0.435046      -0.162434   0.032903   \n",
       "OverallCond    ...   -0.042662    -0.133284       0.109749   0.032384   \n",
       "YearBuilt      ...    0.287729     0.392691      -0.408622   0.022498   \n",
       "YearRemodAdd   ...    0.230241     0.353325      -0.235037   0.051694   \n",
       "MasVnrArea     ...    0.173736     0.208681      -0.179589   0.040997   \n",
       "BsmtFinSF1     ...    0.179359     0.081420      -0.148339   0.046802   \n",
       "BsmtFinSF2     ...    0.069343    -0.068991       0.041524  -0.016079   \n",
       "BsmtUnfSF      ...   -0.034866     0.156127       0.044242   0.013418   \n",
       "TotalBsmtSF    ...    0.231045     0.270321      -0.171538   0.049173   \n",
       "1stFlrSF       ...    0.218999     0.234713      -0.129189   0.060195   \n",
       "2ndFlrSF       ...    0.071047     0.225121       0.045793  -0.022861   \n",
       "LowQualFinSF   ...   -0.042103     0.010320       0.047547   0.022432   \n",
       "GrLivArea      ...    0.227158     0.398312      -0.049057   0.033912   \n",
       "BsmtFullBath   ...    0.169187     0.085672      -0.073447   0.010204   \n",
       "BsmtHalfBath   ...    0.049499    -0.040500      -0.036800   0.061530   \n",
       "FullBath       ...    0.226374     0.370152      -0.159420   0.037323   \n",
       "HalfBath       ...    0.108268     0.267980      -0.127763  -0.000677   \n",
       "BedroomAbvGr   ...    0.055579     0.099832       0.002303  -0.018686   \n",
       "KitchenAbvGr   ...   -0.098364    -0.112484       0.035181  -0.027730   \n",
       "TotRmsAbvGrd   ...    0.164980     0.285002      -0.028734  -0.002640   \n",
       "Fireplaces     ...    0.213781     0.218727      -0.060932   0.035791   \n",
       "GarageYrBlt    ...    0.274373     0.394185      -0.317438   0.016935   \n",
       "GarageCars     ...    0.255637     0.342701      -0.211429   0.035538   \n",
       "GarageArea     ...    0.247633     0.338430      -0.177993   0.036300   \n",
       "WoodDeckSF     ...    1.000000     0.124200      -0.158257  -0.027760   \n",
       "OpenPorchSF    ...    0.124200     1.000000      -0.168911   0.017123   \n",
       "EnclosedPorch  ...   -0.158257    -0.168911       1.000000  -0.038790   \n",
       "3SsnPorch      ...   -0.027760     0.017123      -0.038790   1.000000   \n",
       "ScreenPorch    ...   -0.090229     0.006566      -0.080716  -0.037935   \n",
       "PoolArea       ...    0.050245     0.036890       0.003995  -0.008973   \n",
       "MiscVal        ...    0.017017    -0.034794       0.038746   0.004980   \n",
       "MoSold         ...    0.038058     0.066445      -0.028538   0.037039   \n",
       "YrSold         ...    0.022937    -0.059019       0.000519   0.006790   \n",
       "SalePrice      ...    0.353802     0.477561      -0.218394   0.065440   \n",
       "\n",
       "               ScreenPorch  PoolArea   MiscVal    MoSold    YrSold  SalePrice  \n",
       "Id                0.005962  0.055555 -0.043383  0.019018  0.001526  -0.018546  \n",
       "MSSubClass       -0.021673  0.033250 -0.032840  0.018403 -0.027401   0.007192  \n",
       "LotFrontage       0.043849  0.084534  0.024198  0.025758  0.003461   0.409076  \n",
       "LotArea           0.092316  0.084460  0.059297  0.006423 -0.027473   0.456461  \n",
       "OverallQual       0.046335  0.056667 -0.088019  0.061455 -0.025464   0.809829  \n",
       "OverallCond       0.074728 -0.005605  0.086625 -0.007203  0.050214  -0.129325  \n",
       "YearBuilt        -0.073119  0.008986 -0.091786  0.018621 -0.014100   0.652682  \n",
       "YearRemodAdd     -0.045808  0.002821 -0.090868  0.021081  0.045158   0.571159  \n",
       "MasVnrArea        0.038171  0.004863 -0.050279  0.017732  0.000552   0.421309  \n",
       "BsmtFinSF1        0.071989  0.057586  0.005097 -0.016405  0.020793   0.301871  \n",
       "BsmtFinSF2        0.058716  0.068076  0.030363 -0.025808  0.026054  -0.038806  \n",
       "BsmtUnfSF        -0.012447 -0.036809 -0.044460  0.037116 -0.038552   0.185197  \n",
       "TotalBsmtSF       0.088690  0.047067 -0.061180  0.030340 -0.016530   0.602725  \n",
       "1stFlrSF          0.107512  0.070557 -0.033219  0.053828 -0.022411   0.575408  \n",
       "2ndFlrSF          0.012173  0.061376 -0.005313  0.043437 -0.021784   0.293598  \n",
       "LowQualFinSF     -0.018578  0.065675  0.029123 -0.003645 -0.035395  -0.067719  \n",
       "GrLivArea         0.085630  0.068298 -0.048969  0.080705 -0.026256   0.731310  \n",
       "BsmtFullBath      0.030253  0.069112 -0.006701 -0.026924  0.062829   0.225125  \n",
       "BsmtHalfBath      0.037936  0.025957  0.032481  0.036662 -0.040726  -0.012189  \n",
       "FullBath         -0.037236  0.042212 -0.048728  0.066774 -0.012144   0.635957  \n",
       "HalfBath          0.059158  0.027421 -0.032966 -0.004893 -0.011280   0.343008  \n",
       "BedroomAbvGr      0.033808  0.071734  0.012503  0.050677 -0.028372   0.234907  \n",
       "KitchenAbvGr     -0.051764 -0.014889  0.029948  0.027611  0.027165  -0.164826  \n",
       "TotRmsAbvGrd      0.032286  0.059386 -0.021463  0.040138 -0.036894   0.532586  \n",
       "Fireplaces        0.179235  0.083876 -0.007546  0.043514 -0.034962   0.519247  \n",
       "GarageYrBlt      -0.099749 -0.007330 -0.067091  0.012337 -0.005770   0.593788  \n",
       "GarageCars        0.025837  0.021783 -0.057536  0.040261 -0.039178   0.690711  \n",
       "GarageArea        0.029071  0.042387 -0.035918  0.032625 -0.021676   0.649379  \n",
       "WoodDeckSF       -0.090229  0.050245  0.017017  0.038058  0.022937   0.353802  \n",
       "OpenPorchSF       0.006566  0.036890 -0.034794  0.066445 -0.059019   0.477561  \n",
       "EnclosedPorch    -0.080716  0.003995  0.038746 -0.028538  0.000519  -0.218394  \n",
       "3SsnPorch        -0.037935 -0.008973  0.004980  0.037039  0.006790   0.065440  \n",
       "ScreenPorch       1.000000  0.019035  0.015435  0.023643  0.023485   0.100070  \n",
       "PoolArea          0.019035  1.000000  0.041544 -0.023295 -0.058132   0.058453  \n",
       "MiscVal           0.015435  0.041544  1.000000  0.011075  0.057210  -0.062727  \n",
       "MoSold            0.023643 -0.023295  0.011075  1.000000 -0.150937   0.069432  \n",
       "YrSold            0.023485 -0.058132  0.057210 -0.150937  1.000000  -0.029899  \n",
       "SalePrice         0.100070  0.058453 -0.062727  0.069432 -0.029899   1.000000  \n",
       "\n",
       "[38 rows x 38 columns]"
      ]
     },
     "execution_count": 15,
     "metadata": {},
     "output_type": "execute_result"
    }
   ],
   "source": [
    "correlacao"
   ]
  },
  {
   "cell_type": "code",
   "execution_count": 16,
   "metadata": {
    "ExecuteTime": {
     "end_time": "2022-01-20T00:14:41.195859Z",
     "start_time": "2022-01-20T00:14:39.243454Z"
    },
    "id": "VrQX0-qQhVAM",
    "outputId": "d80e5417-5971-4683-c043-2b802cd4a1d8",
    "scrolled": false
   },
   "outputs": [
    {
     "data": {
      "text/plain": [
       "<AxesSubplot:>"
      ]
     },
     "execution_count": 16,
     "metadata": {},
     "output_type": "execute_result"
    },
    {
     "data": {
      "image/png": "[encoded data removed]",
      "text/plain": [
       "<Figure size 1440x1440 with 2 Axes>"
      ]
     },
     "metadata": {
      "needs_background": "light"
     },
     "output_type": "display_data"
    }
   ],
   "source": [
    "#heatmap\n",
    "plt.figure(figsize=(20,20))\n",
    "sns.heatmap(correlacao)"
   ]
  },
  {
   "cell_type": "code",
   "execution_count": 17,
   "metadata": {
    "ExecuteTime": {
     "end_time": "2022-01-20T00:14:41.225844Z",
     "start_time": "2022-01-20T00:14:41.198859Z"
    },
    "id": "HJGRYBbthVAN",
    "outputId": "c01d91e6-4fa9-4e7b-b8d6-0937d11ff5bf",
    "scrolled": false
   },
   "outputs": [
    {
     "data": {
      "text/plain": [
       "Id              -0.018546\n",
       "MSSubClass       0.007192\n",
       "LotFrontage      0.409076\n",
       "LotArea          0.456461\n",
       "OverallQual      0.809829\n",
       "OverallCond     -0.129325\n",
       "YearBuilt        0.652682\n",
       "YearRemodAdd     0.571159\n",
       "MasVnrArea       0.421309\n",
       "BsmtFinSF1       0.301871\n",
       "BsmtFinSF2      -0.038806\n",
       "BsmtUnfSF        0.185197\n",
       "TotalBsmtSF      0.602725\n",
       "1stFlrSF         0.575408\n",
       "2ndFlrSF         0.293598\n",
       "LowQualFinSF    -0.067719\n",
       "GrLivArea        0.731310\n",
       "BsmtFullBath     0.225125\n",
       "BsmtHalfBath    -0.012189\n",
       "FullBath         0.635957\n",
       "HalfBath         0.343008\n",
       "BedroomAbvGr     0.234907\n",
       "KitchenAbvGr    -0.164826\n",
       "TotRmsAbvGrd     0.532586\n",
       "Fireplaces       0.519247\n",
       "GarageYrBlt      0.593788\n",
       "GarageCars       0.690711\n",
       "GarageArea       0.649379\n",
       "WoodDeckSF       0.353802\n",
       "OpenPorchSF      0.477561\n",
       "EnclosedPorch   -0.218394\n",
       "3SsnPorch        0.065440\n",
       "ScreenPorch      0.100070\n",
       "PoolArea         0.058453\n",
       "MiscVal         -0.062727\n",
       "MoSold           0.069432\n",
       "YrSold          -0.029899\n",
       "SalePrice        1.000000\n",
       "Name: SalePrice, dtype: float64"
      ]
     },
     "execution_count": 17,
     "metadata": {},
     "output_type": "execute_result"
    }
   ],
   "source": [
    "correlacao['SalePrice']"
   ]
  },
  {
   "cell_type": "code",
   "execution_count": 18,
   "metadata": {
    "ExecuteTime": {
     "end_time": "2022-01-20T00:14:41.347776Z",
     "start_time": "2022-01-20T00:14:41.261836Z"
    },
    "id": "dnW7cmTMhVAN"
   },
   "outputs": [],
   "source": [
    "# veja quais são as variáveis mais correlacionadas com o target!\n",
    "corr_y = correlacao['SalePrice'].abs().sort_values(ascending=False)"
   ]
  },
  {
   "cell_type": "code",
   "execution_count": 19,
   "metadata": {
    "ExecuteTime": {
     "end_time": "2022-01-20T00:14:41.455730Z",
     "start_time": "2022-01-20T00:14:41.367766Z"
    },
    "id": "fXXmaUqkhVAO",
    "outputId": "1f0e80e6-4899-4447-cba1-472a5d13290b"
   },
   "outputs": [
    {
     "data": {
      "text/plain": [
       "SalePrice        1.000000\n",
       "OverallQual      0.809829\n",
       "GrLivArea        0.731310\n",
       "GarageCars       0.690711\n",
       "YearBuilt        0.652682\n",
       "GarageArea       0.649379\n",
       "FullBath         0.635957\n",
       "TotalBsmtSF      0.602725\n",
       "GarageYrBlt      0.593788\n",
       "1stFlrSF         0.575408\n",
       "YearRemodAdd     0.571159\n",
       "TotRmsAbvGrd     0.532586\n",
       "Fireplaces       0.519247\n",
       "OpenPorchSF      0.477561\n",
       "LotArea          0.456461\n",
       "MasVnrArea       0.421309\n",
       "LotFrontage      0.409076\n",
       "WoodDeckSF       0.353802\n",
       "HalfBath         0.343008\n",
       "BsmtFinSF1       0.301871\n",
       "2ndFlrSF         0.293598\n",
       "BedroomAbvGr     0.234907\n",
       "BsmtFullBath     0.225125\n",
       "EnclosedPorch    0.218394\n",
       "BsmtUnfSF        0.185197\n",
       "KitchenAbvGr     0.164826\n",
       "OverallCond      0.129325\n",
       "ScreenPorch      0.100070\n",
       "MoSold           0.069432\n",
       "LowQualFinSF     0.067719\n",
       "3SsnPorch        0.065440\n",
       "MiscVal          0.062727\n",
       "PoolArea         0.058453\n",
       "BsmtFinSF2       0.038806\n",
       "YrSold           0.029899\n",
       "Id               0.018546\n",
       "BsmtHalfBath     0.012189\n",
       "MSSubClass       0.007192\n",
       "Name: SalePrice, dtype: float64"
      ]
     },
     "execution_count": 19,
     "metadata": {},
     "output_type": "execute_result"
    }
   ],
   "source": [
    "corr_y"
   ]
  },
  {
   "cell_type": "code",
   "execution_count": 20,
   "metadata": {
    "ExecuteTime": {
     "end_time": "2022-01-20T00:14:41.594705Z",
     "start_time": "2022-01-20T00:14:41.461712Z"
    },
    "id": "GD97sKh4hVAO",
    "outputId": "44f6a008-2761-406a-a9d1-3b75ef7ec840"
   },
   "outputs": [
    {
     "data": {
      "text/plain": [
       "Index(['SalePrice', 'OverallQual', 'GrLivArea', 'GarageCars', 'YearBuilt',\n",
       "       'GarageArea', 'FullBath', 'TotalBsmtSF'],\n",
       "      dtype='object')"
      ]
     },
     "execution_count": 20,
     "metadata": {},
     "output_type": "execute_result"
    }
   ],
   "source": [
    "corr_y[corr_y>0.6].index"
   ]
  },
  {
   "cell_type": "code",
   "execution_count": 21,
   "metadata": {
    "ExecuteTime": {
     "end_time": "2022-01-20T00:14:44.463948Z",
     "start_time": "2022-01-20T00:14:41.723840Z"
    },
    "id": "YWiUC-LihVAR",
    "outputId": "c1a311d3-2c8f-41fd-8bf4-61bf633679eb"
   },
   "outputs": [
    {
     "data": {
      "image/png": "[encoded data removed]",
      "text/plain": [
       "<Figure size 432x432 with 3 Axes>"
      ]
     },
     "metadata": {
      "needs_background": "light"
     },
     "output_type": "display_data"
    }
   ],
   "source": [
    "# explore agora a relação entre essas variáveis e o target\n",
    "# dica: faça um jointplot ou scatterplot\n",
    "\n",
    "sns.jointplot(data=df,x='OverallQual', y='SalePrice')\n",
    "plt.show()"
   ]
  },
  {
   "cell_type": "code",
   "execution_count": 22,
   "metadata": {
    "ExecuteTime": {
     "end_time": "2022-01-20T00:14:45.533107Z",
     "start_time": "2022-01-20T00:14:44.467948Z"
    },
    "id": "0lon4KdchVAS",
    "outputId": "4a350be3-0267-4db5-af72-1a7474f1ea12"
   },
   "outputs": [
    {
     "data": {
      "image/png": "[encoded data removed]",
      "text/plain": [
       "<Figure size 432x432 with 3 Axes>"
      ]
     },
     "metadata": {
      "needs_background": "light"
     },
     "output_type": "display_data"
    }
   ],
   "source": [
    "sns.jointplot(data=df, x='GrLivArea', y='SalePrice')\n",
    "plt.show()"
   ]
  },
  {
   "cell_type": "markdown",
   "metadata": {
    "id": "0X2u0x1PhVAS"
   },
   "source": [
    "Parece que a variável de área construída (\"GrLivArea\") é uma forte candidata a **explicar** o preço das casas, pois vemos calaramente uma correlação entre as variáveis!\n",
    "\n",
    "Mas note que há claramente dois outliers... "
   ]
  },
  {
   "cell_type": "code",
   "execution_count": 23,
   "metadata": {
    "ExecuteTime": {
     "end_time": "2022-01-20T00:14:45.645038Z",
     "start_time": "2022-01-20T00:14:45.537102Z"
    },
    "id": "_et3_Q3AhVAS",
    "outputId": "f2c9a10e-0455-4ae8-aa87-873d56216d28"
   },
   "outputs": [
    {
     "data": {
      "text/plain": [
       "523     4676\n",
       "1298    5642\n",
       "Name: GrLivArea, dtype: int64"
      ]
     },
     "execution_count": 23,
     "metadata": {},
     "output_type": "execute_result"
    }
   ],
   "source": [
    "df[df['GrLivArea']>4500]['GrLivArea']"
   ]
  },
  {
   "cell_type": "code",
   "execution_count": 24,
   "metadata": {
    "ExecuteTime": {
     "end_time": "2022-01-20T00:14:45.782962Z",
     "start_time": "2022-01-20T00:14:45.648036Z"
    },
    "id": "m104F1GChVAT",
    "outputId": "6da166d8-40e3-40ce-d665-1bcbb060c439"
   },
   "outputs": [
    {
     "data": {
      "text/html": [
       "<div>\n",
       "<style scoped>\n",
       "    .dataframe tbody tr th:only-of-type {\n",
       "        vertical-align: middle;\n",
       "    }\n",
       "\n",
       "    .dataframe tbody tr th {\n",
       "        vertical-align: top;\n",
       "    }\n",
       "\n",
       "    .dataframe thead th {\n",
       "        text-align: right;\n",
       "    }\n",
       "</style>\n",
       "<table border=\"1\" class=\"dataframe\">\n",
       "  <thead>\n",
       "    <tr style=\"text-align: right;\">\n",
       "      <th></th>\n",
       "      <th>Id</th>\n",
       "      <th>MSSubClass</th>\n",
       "      <th>MSZoning</th>\n",
       "      <th>LotFrontage</th>\n",
       "      <th>LotArea</th>\n",
       "      <th>Street</th>\n",
       "      <th>Alley</th>\n",
       "      <th>LotShape</th>\n",
       "      <th>LandContour</th>\n",
       "      <th>Utilities</th>\n",
       "      <th>...</th>\n",
       "      <th>PoolArea</th>\n",
       "      <th>PoolQC</th>\n",
       "      <th>Fence</th>\n",
       "      <th>MiscFeature</th>\n",
       "      <th>MiscVal</th>\n",
       "      <th>MoSold</th>\n",
       "      <th>YrSold</th>\n",
       "      <th>SaleType</th>\n",
       "      <th>SaleCondition</th>\n",
       "      <th>SalePrice</th>\n",
       "    </tr>\n",
       "  </thead>\n",
       "  <tbody>\n",
       "    <tr>\n",
       "      <th>0</th>\n",
       "      <td>1</td>\n",
       "      <td>60</td>\n",
       "      <td>RL</td>\n",
       "      <td>65.0</td>\n",
       "      <td>8450</td>\n",
       "      <td>Pave</td>\n",
       "      <td>NaN</td>\n",
       "      <td>Reg</td>\n",
       "      <td>Lvl</td>\n",
       "      <td>AllPub</td>\n",
       "      <td>...</td>\n",
       "      <td>0</td>\n",
       "      <td>NaN</td>\n",
       "      <td>NaN</td>\n",
       "      <td>NaN</td>\n",
       "      <td>0</td>\n",
       "      <td>2</td>\n",
       "      <td>2008</td>\n",
       "      <td>WD</td>\n",
       "      <td>Normal</td>\n",
       "      <td>208500</td>\n",
       "    </tr>\n",
       "    <tr>\n",
       "      <th>1</th>\n",
       "      <td>2</td>\n",
       "      <td>20</td>\n",
       "      <td>RL</td>\n",
       "      <td>80.0</td>\n",
       "      <td>9600</td>\n",
       "      <td>Pave</td>\n",
       "      <td>NaN</td>\n",
       "      <td>Reg</td>\n",
       "      <td>Lvl</td>\n",
       "      <td>AllPub</td>\n",
       "      <td>...</td>\n",
       "      <td>0</td>\n",
       "      <td>NaN</td>\n",
       "      <td>NaN</td>\n",
       "      <td>NaN</td>\n",
       "      <td>0</td>\n",
       "      <td>5</td>\n",
       "      <td>2007</td>\n",
       "      <td>WD</td>\n",
       "      <td>Normal</td>\n",
       "      <td>181500</td>\n",
       "    </tr>\n",
       "    <tr>\n",
       "      <th>2</th>\n",
       "      <td>3</td>\n",
       "      <td>60</td>\n",
       "      <td>RL</td>\n",
       "      <td>68.0</td>\n",
       "      <td>11250</td>\n",
       "      <td>Pave</td>\n",
       "      <td>NaN</td>\n",
       "      <td>IR1</td>\n",
       "      <td>Lvl</td>\n",
       "      <td>AllPub</td>\n",
       "      <td>...</td>\n",
       "      <td>0</td>\n",
       "      <td>NaN</td>\n",
       "      <td>NaN</td>\n",
       "      <td>NaN</td>\n",
       "      <td>0</td>\n",
       "      <td>9</td>\n",
       "      <td>2008</td>\n",
       "      <td>WD</td>\n",
       "      <td>Normal</td>\n",
       "      <td>223500</td>\n",
       "    </tr>\n",
       "    <tr>\n",
       "      <th>3</th>\n",
       "      <td>4</td>\n",
       "      <td>70</td>\n",
       "      <td>RL</td>\n",
       "      <td>60.0</td>\n",
       "      <td>9550</td>\n",
       "      <td>Pave</td>\n",
       "      <td>NaN</td>\n",
       "      <td>IR1</td>\n",
       "      <td>Lvl</td>\n",
       "      <td>AllPub</td>\n",
       "      <td>...</td>\n",
       "      <td>0</td>\n",
       "      <td>NaN</td>\n",
       "      <td>NaN</td>\n",
       "      <td>NaN</td>\n",
       "      <td>0</td>\n",
       "      <td>2</td>\n",
       "      <td>2006</td>\n",
       "      <td>WD</td>\n",
       "      <td>Abnorml</td>\n",
       "      <td>140000</td>\n",
       "    </tr>\n",
       "    <tr>\n",
       "      <th>4</th>\n",
       "      <td>5</td>\n",
       "      <td>60</td>\n",
       "      <td>RL</td>\n",
       "      <td>84.0</td>\n",
       "      <td>14260</td>\n",
       "      <td>Pave</td>\n",
       "      <td>NaN</td>\n",
       "      <td>IR1</td>\n",
       "      <td>Lvl</td>\n",
       "      <td>AllPub</td>\n",
       "      <td>...</td>\n",
       "      <td>0</td>\n",
       "      <td>NaN</td>\n",
       "      <td>NaN</td>\n",
       "      <td>NaN</td>\n",
       "      <td>0</td>\n",
       "      <td>12</td>\n",
       "      <td>2008</td>\n",
       "      <td>WD</td>\n",
       "      <td>Normal</td>\n",
       "      <td>250000</td>\n",
       "    </tr>\n",
       "    <tr>\n",
       "      <th>...</th>\n",
       "      <td>...</td>\n",
       "      <td>...</td>\n",
       "      <td>...</td>\n",
       "      <td>...</td>\n",
       "      <td>...</td>\n",
       "      <td>...</td>\n",
       "      <td>...</td>\n",
       "      <td>...</td>\n",
       "      <td>...</td>\n",
       "      <td>...</td>\n",
       "      <td>...</td>\n",
       "      <td>...</td>\n",
       "      <td>...</td>\n",
       "      <td>...</td>\n",
       "      <td>...</td>\n",
       "      <td>...</td>\n",
       "      <td>...</td>\n",
       "      <td>...</td>\n",
       "      <td>...</td>\n",
       "      <td>...</td>\n",
       "      <td>...</td>\n",
       "    </tr>\n",
       "    <tr>\n",
       "      <th>1455</th>\n",
       "      <td>1456</td>\n",
       "      <td>60</td>\n",
       "      <td>RL</td>\n",
       "      <td>62.0</td>\n",
       "      <td>7917</td>\n",
       "      <td>Pave</td>\n",
       "      <td>NaN</td>\n",
       "      <td>Reg</td>\n",
       "      <td>Lvl</td>\n",
       "      <td>AllPub</td>\n",
       "      <td>...</td>\n",
       "      <td>0</td>\n",
       "      <td>NaN</td>\n",
       "      <td>NaN</td>\n",
       "      <td>NaN</td>\n",
       "      <td>0</td>\n",
       "      <td>8</td>\n",
       "      <td>2007</td>\n",
       "      <td>WD</td>\n",
       "      <td>Normal</td>\n",
       "      <td>175000</td>\n",
       "    </tr>\n",
       "    <tr>\n",
       "      <th>1456</th>\n",
       "      <td>1457</td>\n",
       "      <td>20</td>\n",
       "      <td>RL</td>\n",
       "      <td>85.0</td>\n",
       "      <td>13175</td>\n",
       "      <td>Pave</td>\n",
       "      <td>NaN</td>\n",
       "      <td>Reg</td>\n",
       "      <td>Lvl</td>\n",
       "      <td>AllPub</td>\n",
       "      <td>...</td>\n",
       "      <td>0</td>\n",
       "      <td>NaN</td>\n",
       "      <td>MnPrv</td>\n",
       "      <td>NaN</td>\n",
       "      <td>0</td>\n",
       "      <td>2</td>\n",
       "      <td>2010</td>\n",
       "      <td>WD</td>\n",
       "      <td>Normal</td>\n",
       "      <td>210000</td>\n",
       "    </tr>\n",
       "    <tr>\n",
       "      <th>1457</th>\n",
       "      <td>1458</td>\n",
       "      <td>70</td>\n",
       "      <td>RL</td>\n",
       "      <td>66.0</td>\n",
       "      <td>9042</td>\n",
       "      <td>Pave</td>\n",
       "      <td>NaN</td>\n",
       "      <td>Reg</td>\n",
       "      <td>Lvl</td>\n",
       "      <td>AllPub</td>\n",
       "      <td>...</td>\n",
       "      <td>0</td>\n",
       "      <td>NaN</td>\n",
       "      <td>GdPrv</td>\n",
       "      <td>Shed</td>\n",
       "      <td>2500</td>\n",
       "      <td>5</td>\n",
       "      <td>2010</td>\n",
       "      <td>WD</td>\n",
       "      <td>Normal</td>\n",
       "      <td>266500</td>\n",
       "    </tr>\n",
       "    <tr>\n",
       "      <th>1458</th>\n",
       "      <td>1459</td>\n",
       "      <td>20</td>\n",
       "      <td>RL</td>\n",
       "      <td>68.0</td>\n",
       "      <td>9717</td>\n",
       "      <td>Pave</td>\n",
       "      <td>NaN</td>\n",
       "      <td>Reg</td>\n",
       "      <td>Lvl</td>\n",
       "      <td>AllPub</td>\n",
       "      <td>...</td>\n",
       "      <td>0</td>\n",
       "      <td>NaN</td>\n",
       "      <td>NaN</td>\n",
       "      <td>NaN</td>\n",
       "      <td>0</td>\n",
       "      <td>4</td>\n",
       "      <td>2010</td>\n",
       "      <td>WD</td>\n",
       "      <td>Normal</td>\n",
       "      <td>142125</td>\n",
       "    </tr>\n",
       "    <tr>\n",
       "      <th>1459</th>\n",
       "      <td>1460</td>\n",
       "      <td>20</td>\n",
       "      <td>RL</td>\n",
       "      <td>75.0</td>\n",
       "      <td>9937</td>\n",
       "      <td>Pave</td>\n",
       "      <td>NaN</td>\n",
       "      <td>Reg</td>\n",
       "      <td>Lvl</td>\n",
       "      <td>AllPub</td>\n",
       "      <td>...</td>\n",
       "      <td>0</td>\n",
       "      <td>NaN</td>\n",
       "      <td>NaN</td>\n",
       "      <td>NaN</td>\n",
       "      <td>0</td>\n",
       "      <td>6</td>\n",
       "      <td>2008</td>\n",
       "      <td>WD</td>\n",
       "      <td>Normal</td>\n",
       "      <td>147500</td>\n",
       "    </tr>\n",
       "  </tbody>\n",
       "</table>\n",
       "<p>1458 rows × 81 columns</p>\n",
       "</div>"
      ],
      "text/plain": [
       "        Id  MSSubClass MSZoning  LotFrontage  LotArea Street Alley LotShape  \\\n",
       "0        1          60       RL         65.0     8450   Pave   NaN      Reg   \n",
       "1        2          20       RL         80.0     9600   Pave   NaN      Reg   \n",
       "2        3          60       RL         68.0    11250   Pave   NaN      IR1   \n",
       "3        4          70       RL         60.0     9550   Pave   NaN      IR1   \n",
       "4        5          60       RL         84.0    14260   Pave   NaN      IR1   \n",
       "...    ...         ...      ...          ...      ...    ...   ...      ...   \n",
       "1455  1456          60       RL         62.0     7917   Pave   NaN      Reg   \n",
       "1456  1457          20       RL         85.0    13175   Pave   NaN      Reg   \n",
       "1457  1458          70       RL         66.0     9042   Pave   NaN      Reg   \n",
       "1458  1459          20       RL         68.0     9717   Pave   NaN      Reg   \n",
       "1459  1460          20       RL         75.0     9937   Pave   NaN      Reg   \n",
       "\n",
       "     LandContour Utilities  ... PoolArea PoolQC  Fence MiscFeature MiscVal  \\\n",
       "0            Lvl    AllPub  ...        0    NaN    NaN         NaN       0   \n",
       "1            Lvl    AllPub  ...        0    NaN    NaN         NaN       0   \n",
       "2            Lvl    AllPub  ...        0    NaN    NaN         NaN       0   \n",
       "3            Lvl    AllPub  ...        0    NaN    NaN         NaN       0   \n",
       "4            Lvl    AllPub  ...        0    NaN    NaN         NaN       0   \n",
       "...          ...       ...  ...      ...    ...    ...         ...     ...   \n",
       "1455         Lvl    AllPub  ...        0    NaN    NaN         NaN       0   \n",
       "1456         Lvl    AllPub  ...        0    NaN  MnPrv         NaN       0   \n",
       "1457         Lvl    AllPub  ...        0    NaN  GdPrv        Shed    2500   \n",
       "1458         Lvl    AllPub  ...        0    NaN    NaN         NaN       0   \n",
       "1459         Lvl    AllPub  ...        0    NaN    NaN         NaN       0   \n",
       "\n",
       "     MoSold YrSold  SaleType  SaleCondition  SalePrice  \n",
       "0         2   2008        WD         Normal     208500  \n",
       "1         5   2007        WD         Normal     181500  \n",
       "2         9   2008        WD         Normal     223500  \n",
       "3         2   2006        WD        Abnorml     140000  \n",
       "4        12   2008        WD         Normal     250000  \n",
       "...     ...    ...       ...            ...        ...  \n",
       "1455      8   2007        WD         Normal     175000  \n",
       "1456      2   2010        WD         Normal     210000  \n",
       "1457      5   2010        WD         Normal     266500  \n",
       "1458      4   2010        WD         Normal     142125  \n",
       "1459      6   2008        WD         Normal     147500  \n",
       "\n",
       "[1458 rows x 81 columns]"
      ]
     },
     "execution_count": 24,
     "metadata": {},
     "output_type": "execute_result"
    }
   ],
   "source": [
    "df[~(df['GrLivArea']>4500)]"
   ]
  },
  {
   "cell_type": "code",
   "execution_count": 25,
   "metadata": {
    "ExecuteTime": {
     "end_time": "2022-01-20T00:14:46.006348Z",
     "start_time": "2022-01-20T00:14:45.957881Z"
    },
    "id": "WuxdykQ8hVAT"
   },
   "outputs": [],
   "source": [
    "# identifique e remova os outliers\n",
    "df = df[~(df['GrLivArea']>4500)]"
   ]
  },
  {
   "cell_type": "code",
   "execution_count": 26,
   "metadata": {
    "ExecuteTime": {
     "end_time": "2022-01-20T00:14:47.118163Z",
     "start_time": "2022-01-20T00:14:46.022353Z"
    },
    "id": "zvPNjS-fhVAT",
    "outputId": "e33541f5-db4a-4bc8-9179-bd1a6653aed8"
   },
   "outputs": [
    {
     "data": {
      "text/plain": [
       "<seaborn.axisgrid.JointGrid at 0x7fc7236b1940>"
      ]
     },
     "execution_count": 26,
     "metadata": {},
     "output_type": "execute_result"
    },
    {
     "data": {
      "image/png": "[encoded data removed]",
      "text/plain": [
       "<Figure size 432x432 with 3 Axes>"
      ]
     },
     "metadata": {
      "needs_background": "light"
     },
     "output_type": "display_data"
    }
   ],
   "source": [
    "# faça o scatterplot novamente para verificar se os outliers sumiram\n",
    "sns.jointplot(data=df, x='GrLivArea', y='SalePrice')"
   ]
  },
  {
   "cell_type": "markdown",
   "metadata": {
    "id": "7RI8QVTRhVAU"
   },
   "source": [
    "Vamos agora iniciar a construção de um modelo bem simples, que utilize a variável GrLivArea para predizer o preço!"
   ]
  },
  {
   "cell_type": "markdown",
   "metadata": {
    "id": "OC5PqmsrhVAU"
   },
   "source": [
    "___\n",
    "___\n",
    "___"
   ]
  },
  {
   "cell_type": "markdown",
   "metadata": {
    "id": "Gr40XeX_hVAU"
   },
   "source": [
    "## 2) Regressão linear simples\n",
    "\n",
    "Apesar de alguns outliers, parece bem adequado que os pontos plotados acima sejam descritos por uma reta, não é mesmo?\n",
    "\n",
    "Ou, melhor dizendo: **a variável GrLivArea parece estar relacionada ao target SalePrice linearmente!**\n",
    "\n",
    "Para modelarmos esta relação, vamos conhecer o modelo de **Regressão Linear Simples**.\n",
    "\n",
    "Como o próprio nome diz, o modelo de Regressão Linear será **uma reta (polinômio linear)**, que melhor se ajusta aos seus dados!\n",
    "\n",
    "O modelo de **Regressão Linear Simples** será uma linha reta que relaciona Y (o preço da casa) e X (os atributos da casa). \n",
    "\n",
    "Se utilizarmos **apenas um atributo** (como, por exemplo, a área construída), temos uma **Regressão Linear Simples**, e nosso modelo é:\n",
    "\n",
    "$$ y = b_0 + b_1 X $$\n",
    "\n",
    "Neste caso, o modelo tem dois coeficientes a serem determinados: \n",
    "\n",
    "$$b_0 \\text{ - intercepto ou coeficiente linear}$$\n",
    "$$b_1 \\text{ - coeficiente angular}. $$\n",
    "\n",
    "A equação acima exprime a **forma funcional** do conjunto de hipóteses com o qual trabalharemos: funções lineares de uma única variável. Isto é,\n",
    "\n",
    "$$ f_{H, \\vec{b}} = b_0 + b_1 X $$\n",
    "\n",
    "Ou seja,\n",
    "\n",
    "$$ \\mathcal{H} = \\{ f_{H, \\vec{b}}\\} = \\{ b_0 + b_1 X \\} $$ \n",
    "\n",
    "é o conjunto de hipóteses que está sendo considerado, e o vetor de parâmetros é:\n",
    "\n",
    "$$\\vec{b} = \\begin{bmatrix}\n",
    "b_0\\\\ \n",
    "b_1\n",
    "\\end{bmatrix}$$\n",
    "\n",
    "\n",
    "O **algoritmo de aprendizagem** do estimador é utilizado justamente para encontrarmos os coeficientes $b_0$ e $b_1$ (isto é, o vetor de parâmetros) **que melhor se ajustam aos dados!**\n",
    "\n",
    "Para fazer isso, pode-se utilizar o método dos **mínimos quadrados** (OLS  - ordinary least squares) ou então o **gradiente descendente**.\n",
    "\n",
    "[Explicação visual da Regressão usando Ordinary Least Squares](https://setosa.io/ev/ordinary-least-squares-regression/) \n",
    "\n",
    "Cálculo dos coeficientes com o método OLS:\n",
    "\n",
    "$$b_1 = \\frac{\\sum_i (x_i - \\overline{x})(y_i - \\overline{y})}{\\sum_i (x_i - \\overline{x})^2}$$\n",
    "\n",
    "$$b_0 = \\overline{y} + b_1\\overline{x}  $$\n",
    "\n",
    "onde:\n",
    "\n",
    "$\\overline{x}:$ Média da feature $x$;\n",
    "\n",
    "$\\overline{y}:$ Média do target;\n",
    "\n",
    "$x_i:$ valor da feature $x$ da amostra $i$;\n",
    "\n",
    "$y_i:$ valor do target para a amostra $i$.\n",
    "\n",
    "Mas não nos preocuparemos com os detalhes do treinamento: usaremos o sklearn para isso!\n",
    "\n",
    "Vamos começar?"
   ]
  },
  {
   "cell_type": "code",
   "execution_count": 27,
   "metadata": {
    "ExecuteTime": {
     "end_time": "2022-01-20T00:14:47.244125Z",
     "start_time": "2022-01-20T00:14:47.136144Z"
    },
    "id": "mRidBUrXhVAV"
   },
   "outputs": [],
   "source": [
    "# crie duas variáveis, X e y, respectivamente os arrays da feature GrLiveArea e do target\n",
    "X = df['GrLivArea']\n",
    "y = df['SalePrice']"
   ]
  },
  {
   "cell_type": "code",
   "execution_count": 28,
   "metadata": {
    "ExecuteTime": {
     "end_time": "2022-01-20T00:14:47.384810Z",
     "start_time": "2022-01-20T00:14:47.248107Z"
    },
    "id": "oIVCw_4yhVAW",
    "outputId": "bb80bb8d-7894-4c0f-9272-ecdc221063ed"
   },
   "outputs": [
    {
     "data": {
      "text/plain": [
       "0       1710\n",
       "1       1262\n",
       "2       1786\n",
       "3       1717\n",
       "4       2198\n",
       "        ... \n",
       "1455    1647\n",
       "1456    2073\n",
       "1457    2340\n",
       "1458    1078\n",
       "1459    1256\n",
       "Name: GrLivArea, Length: 1458, dtype: int64"
      ]
     },
     "execution_count": 28,
     "metadata": {},
     "output_type": "execute_result"
    }
   ],
   "source": [
    "#X\n",
    "X"
   ]
  },
  {
   "cell_type": "code",
   "execution_count": 29,
   "metadata": {
    "ExecuteTime": {
     "end_time": "2022-01-20T00:14:47.509737Z",
     "start_time": "2022-01-20T00:14:47.389804Z"
    },
    "id": "NQOGxfGLhVAW",
    "outputId": "eaaa8999-0ab2-4673-e13f-e13ca5524270"
   },
   "outputs": [
    {
     "data": {
      "text/plain": [
       "0       208500\n",
       "1       181500\n",
       "2       223500\n",
       "3       140000\n",
       "4       250000\n",
       "         ...  \n",
       "1455    175000\n",
       "1456    210000\n",
       "1457    266500\n",
       "1458    142125\n",
       "1459    147500\n",
       "Name: SalePrice, Length: 1458, dtype: int64"
      ]
     },
     "execution_count": 29,
     "metadata": {},
     "output_type": "execute_result"
    }
   ],
   "source": [
    "#y\n",
    "y"
   ]
  },
  {
   "cell_type": "code",
   "execution_count": 30,
   "metadata": {
    "ExecuteTime": {
     "end_time": "2022-01-20T00:14:48.475534Z",
     "start_time": "2022-01-20T00:14:47.514733Z"
    },
    "id": "U2phAnNPhVAX"
   },
   "outputs": [],
   "source": [
    "# 1) Importe a classe do estimador que se deseja treinar\n",
    "from sklearn.linear_model import LinearRegression"
   ]
  },
  {
   "cell_type": "code",
   "execution_count": 31,
   "metadata": {
    "ExecuteTime": {
     "end_time": "2022-01-20T00:14:48.507557Z",
     "start_time": "2022-01-20T00:14:48.477556Z"
    },
    "id": "DrSYWieJhVAX"
   },
   "outputs": [],
   "source": [
    "# 2) Instancie a classe do estimador, escolhendo os hiperparâmetros desejados\n",
    "reg_lin = LinearRegression()"
   ]
  },
  {
   "cell_type": "code",
   "execution_count": 32,
   "metadata": {
    "ExecuteTime": {
     "end_time": "2022-01-20T00:14:48.600467Z",
     "start_time": "2022-01-20T00:14:48.513517Z"
    },
    "id": "p04CO2mVhVAX"
   },
   "outputs": [],
   "source": [
    "# 3) Separe os dados em dados de treino e dados de teste\n",
    "# dica: procure pelo \"train_test_split\" no google hehe\n",
    "from sklearn.model_selection import train_test_split\n",
    "\n",
    "X_train, X_test, y_train, y_test = train_test_split(X, y, test_size=0.2, random_state=42)\n",
    "# X_train_val, X_test, y_train_val, y_test = train_test_split(X, y, test_size=0.3)\n",
    "# X_train, X_val, y_train, y_val = train_test_split(X_train_val, y_train_val, test_size=0.3)"
   ]
  },
  {
   "cell_type": "code",
   "execution_count": 33,
   "metadata": {
    "ExecuteTime": {
     "end_time": "2022-01-20T00:14:48.711430Z",
     "start_time": "2022-01-20T00:14:48.603465Z"
    },
    "id": "TmGtdTexhVAX",
    "outputId": "4c333c6b-60db-4d90-d4af-fa6cd4ae753f"
   },
   "outputs": [
    {
     "data": {
      "text/plain": [
       "((1458,), (1458,))"
      ]
     },
     "execution_count": 33,
     "metadata": {},
     "output_type": "execute_result"
    }
   ],
   "source": [
    "#shape de X e y\n",
    "X.shape, y.shape"
   ]
  },
  {
   "cell_type": "code",
   "execution_count": 34,
   "metadata": {
    "ExecuteTime": {
     "end_time": "2022-01-20T00:14:48.836369Z",
     "start_time": "2022-01-20T00:14:48.718427Z"
    },
    "id": "iOefiyuIhVAY",
    "outputId": "9735b0cc-2c34-4c06-b1ce-a2bf7191bcd1"
   },
   "outputs": [
    {
     "data": {
      "text/plain": [
       "((292,), (292,))"
      ]
     },
     "execution_count": 34,
     "metadata": {},
     "output_type": "execute_result"
    }
   ],
   "source": [
    "X_test.shape, y_test.shape"
   ]
  },
  {
   "cell_type": "code",
   "execution_count": 35,
   "metadata": {
    "ExecuteTime": {
     "end_time": "2022-01-20T00:14:48.976797Z",
     "start_time": "2022-01-20T00:14:48.843357Z"
    },
    "id": "WtljCovxhVAY",
    "outputId": "6a9ec30d-0908-4a72-c74d-35be84ee2755"
   },
   "outputs": [
    {
     "data": {
      "text/plain": [
       "((1166,), (1166,))"
      ]
     },
     "execution_count": 35,
     "metadata": {},
     "output_type": "execute_result"
    }
   ],
   "source": [
    "X_train.shape, y_train.shape"
   ]
  },
  {
   "cell_type": "markdown",
   "metadata": {
    "id": "QHKT7kHdhVAY"
   },
   "source": [
    "Explicando o reshape..."
   ]
  },
  {
   "cell_type": "code",
   "execution_count": 36,
   "metadata": {
    "ExecuteTime": {
     "end_time": "2022-01-20T00:14:49.227653Z",
     "start_time": "2022-01-20T00:14:49.121714Z"
    },
    "id": "uG3bav9UhVAZ"
   },
   "outputs": [],
   "source": [
    "# isso dá erro...\n",
    "\n",
    "# reg_lin.fit(X_train, y_train)"
   ]
  },
  {
   "cell_type": "code",
   "execution_count": 37,
   "metadata": {},
   "outputs": [
    {
     "data": {
      "text/plain": [
       "254     1314\n",
       "1066    1571\n",
       "865     1002\n",
       "799     1768\n",
       "380     1691\n",
       "        ... \n",
       "1096    1355\n",
       "1131     974\n",
       "1295    1052\n",
       "861     1039\n",
       "1127    1530\n",
       "Name: GrLivArea, Length: 1166, dtype: int64"
      ]
     },
     "execution_count": 37,
     "metadata": {},
     "output_type": "execute_result"
    }
   ],
   "source": [
    "X_train"
   ]
  },
  {
   "cell_type": "code",
   "execution_count": 38,
   "metadata": {
    "ExecuteTime": {
     "end_time": "2022-01-20T00:14:49.414545Z",
     "start_time": "2022-01-20T00:14:49.233648Z"
    },
    "id": "0vvLHL54hVAZ",
    "outputId": "eff02a26-922b-4a2b-9904-bbd53d6050df"
   },
   "outputs": [
    {
     "data": {
      "text/plain": [
       "(1166,)"
      ]
     },
     "execution_count": 38,
     "metadata": {},
     "output_type": "execute_result"
    }
   ],
   "source": [
    "X_train.shape"
   ]
  },
  {
   "cell_type": "code",
   "execution_count": 39,
   "metadata": {
    "ExecuteTime": {
     "end_time": "2022-01-20T00:14:49.524485Z",
     "start_time": "2022-01-20T00:14:49.424540Z"
    },
    "id": "36rAfz49hVAa",
    "outputId": "688913a2-65d3-494c-8d02-e743f9d1775b"
   },
   "outputs": [
    {
     "data": {
      "text/plain": [
       "(1166, 1)"
      ]
     },
     "execution_count": 39,
     "metadata": {},
     "output_type": "execute_result"
    }
   ],
   "source": [
    "X_train.values.reshape(-1, 1).shape"
   ]
  },
  {
   "cell_type": "code",
   "execution_count": 40,
   "metadata": {
    "ExecuteTime": {
     "end_time": "2022-01-20T00:14:49.633421Z",
     "start_time": "2022-01-20T00:14:49.528481Z"
    },
    "id": "z_WJmNrNhVAa",
    "outputId": "3e25cb16-525f-4094-b70f-b76524898a71"
   },
   "outputs": [
    {
     "data": {
      "text/plain": [
       "array([[1314],\n",
       "       [1571],\n",
       "       [1002],\n",
       "       ...,\n",
       "       [1052],\n",
       "       [1039],\n",
       "       [1530]])"
      ]
     },
     "execution_count": 40,
     "metadata": {},
     "output_type": "execute_result"
    }
   ],
   "source": [
    "X_train.values.reshape(-1, 1)"
   ]
  },
  {
   "cell_type": "code",
   "execution_count": 41,
   "metadata": {
    "ExecuteTime": {
     "end_time": "2022-01-20T00:14:49.776338Z",
     "start_time": "2022-01-20T00:14:49.636418Z"
    },
    "id": "Wrb1kdiuhVAa",
    "outputId": "e6cdb250-3e29-4955-a2be-aa89288025bc"
   },
   "outputs": [
    {
     "data": {
      "text/plain": [
       "LinearRegression()"
      ]
     },
     "execution_count": 41,
     "metadata": {},
     "output_type": "execute_result"
    }
   ],
   "source": [
    "# 4) Treine o modelo, usando os dados de treino. \n",
    "# Este é um modelo simples, não tem muitos hiperparâmetros relevantes\n",
    "# obs: é necessário dar um reshape nas features!\n",
    "reg_lin.fit(X_train.values.reshape(-1,1),y_train)"
   ]
  },
  {
   "cell_type": "markdown",
   "metadata": {
    "id": "wk17EXtmhVAa"
   },
   "source": [
    "Agora que o modelo está treinado, podemos dar uma olhada nos coeficientes que foram encontrados!"
   ]
  },
  {
   "cell_type": "code",
   "execution_count": 42,
   "metadata": {
    "ExecuteTime": {
     "end_time": "2022-01-20T00:14:50.026195Z",
     "start_time": "2022-01-20T00:14:49.948241Z"
    },
    "id": "YjC9EaWchVAb",
    "outputId": "3c4ede6c-cd0c-46f4-d95b-173ac027e9dc"
   },
   "outputs": [
    {
     "data": {
      "text/plain": [
       "1562.0121909830777"
      ]
     },
     "execution_count": 42,
     "metadata": {},
     "output_type": "execute_result"
    }
   ],
   "source": [
    "# pegue o intercept. Dica: veja os atributos do modelo treinado!\n",
    "reg_lin.intercept_"
   ]
  },
  {
   "cell_type": "code",
   "execution_count": 43,
   "metadata": {
    "ExecuteTime": {
     "end_time": "2022-01-20T00:14:50.136132Z",
     "start_time": "2022-01-20T00:14:50.029193Z"
    },
    "id": "wO0RA40dhVAb",
    "outputId": "d238d54e-9300-42f7-bdd2-3278a93a8766"
   },
   "outputs": [
    {
     "data": {
      "text/plain": [
       "118.6121987994097"
      ]
     },
     "execution_count": 43,
     "metadata": {},
     "output_type": "execute_result"
    }
   ],
   "source": [
    "# peque o coeficiente angular. Dica: veja os atributos do modelo treinado!\n",
    "reg_lin.coef_[0]"
   ]
  },
  {
   "cell_type": "code",
   "execution_count": 44,
   "metadata": {},
   "outputs": [
    {
     "data": {
      "text/plain": [
       "array([118.6121988])"
      ]
     },
     "execution_count": 44,
     "metadata": {},
     "output_type": "execute_result"
    }
   ],
   "source": [
    "reg_lin.coef_"
   ]
  },
  {
   "cell_type": "markdown",
   "metadata": {
    "id": "AQ3go4oxhVAb"
   },
   "source": [
    "Como interpretamos este resultado?\n",
    "\n",
    "O nosso modelo final é dado por:\n",
    "\n",
    "$$ y = \\mathcal{M} = f_{H, \\hat{\\vec{b}}}(x) =  3781.98 + 118.25 \\times \\text{GrLiveArea}$$\n",
    "\n",
    "Isto quer dizer que:\n",
    "\n",
    "> Aumentando a variável \"GrLiveArea\" em uma unidade faz com que o preço seja aumentado em USD 118.6!\n",
    "\n",
    "> O preço mínimo a ser pago, independente da área construída, é de 1562.01!"
   ]
  },
  {
   "cell_type": "markdown",
   "metadata": {
    "id": "Z6ApHakGhVAc"
   },
   "source": [
    "Podemos visualizar o modelo treinado, neste caso:"
   ]
  },
  {
   "cell_type": "code",
   "execution_count": 45,
   "metadata": {
    "ExecuteTime": {
     "end_time": "2022-01-20T00:14:50.776024Z",
     "start_time": "2022-01-20T00:14:50.141134Z"
    },
    "id": "7_Ws0UWyhVAc",
    "outputId": "df585ca8-24e4-4e91-f1a0-4f5d86dc0921"
   },
   "outputs": [
    {
     "data": {
      "text/plain": [
       "[<matplotlib.lines.Line2D at 0x7fc7322cad60>]"
      ]
     },
     "execution_count": 45,
     "metadata": {},
     "output_type": "execute_result"
    },
    {
     "data": {
      "image/png": "[encoded data removed]",
      "text/plain": [
       "<Figure size 1080x432 with 1 Axes>"
      ]
     },
     "metadata": {
      "needs_background": "light"
     },
     "output_type": "display_data"
    }
   ],
   "source": [
    "plt.figure(figsize=(15, 6))\n",
    "\n",
    "# faça um scatterplot da fgeature pelo target\n",
    "sns.scatterplot(data=df, x=\"GrLivArea\", y=\"SalePrice\")\n",
    "\n",
    "# faça um plot da reta do modelo\n",
    "# crie um array com os valores de x. dica:  use o range aproximado da variável GrLivArea\n",
    "# crie um array de y com a equação da reta usando os coeficientes encontrados\n",
    "x = np.linspace(0, 5500, 10000)\n",
    "y = reg_lin.intercept_ + reg_lin.coef_[0]*x\n",
    "plt.plot(x, y, color=\"red\")"
   ]
  },
  {
   "cell_type": "markdown",
   "metadata": {
    "id": "l3I7qWTphVAd"
   },
   "source": [
    "Fazendo uma previsão:"
   ]
  },
  {
   "cell_type": "code",
   "execution_count": 46,
   "metadata": {
    "ExecuteTime": {
     "end_time": "2022-01-20T00:14:53.687357Z",
     "start_time": "2022-01-20T00:14:53.652381Z"
    },
    "id": "MoQKYzMehVAe"
   },
   "outputs": [],
   "source": [
    "b0 = reg_lin.intercept_\n",
    "b1 = reg_lin.coef_[0]"
   ]
  },
  {
   "cell_type": "code",
   "execution_count": 47,
   "metadata": {
    "ExecuteTime": {
     "end_time": "2022-01-20T00:14:53.891242Z",
     "start_time": "2022-01-20T00:14:53.803300Z"
    },
    "id": "EzBYYVlrhVAe",
    "outputId": "1627742d-e3c2-4308-f232-083893842f82"
   },
   "outputs": [
    {
     "data": {
      "text/plain": [
       "(1504, 179954.75918529526)"
      ]
     },
     "execution_count": 47,
     "metadata": {},
     "output_type": "execute_result"
    }
   ],
   "source": [
    "# previsão explicita, usando os coeficientes\n",
    "\n",
    "x = 1504\n",
    "\n",
    "y_hat = reg_lin.intercept_ + reg_lin.coef_[0]*x\n",
    "\n",
    "x, y_hat"
   ]
  },
  {
   "cell_type": "markdown",
   "metadata": {
    "id": "uCXMUJtdhVAf"
   },
   "source": [
    "Ou ainda:"
   ]
  },
  {
   "cell_type": "code",
   "execution_count": 48,
   "metadata": {
    "ExecuteTime": {
     "end_time": "2022-01-20T00:14:54.002179Z",
     "start_time": "2022-01-20T00:14:53.895242Z"
    },
    "id": "XgsjhUuLhVAf"
   },
   "outputs": [],
   "source": [
    "# isso dá erro\n",
    "\n",
    "#reg_lin.predict(1504)"
   ]
  },
  {
   "cell_type": "code",
   "execution_count": 49,
   "metadata": {
    "ExecuteTime": {
     "end_time": "2022-01-20T00:14:54.126706Z",
     "start_time": "2022-01-20T00:14:54.006176Z"
    },
    "id": "_FqUM8Z_hVAg",
    "outputId": "9ca862f3-a74a-40c7-dd43-1ae4050008b9"
   },
   "outputs": [
    {
     "data": {
      "text/plain": [
       "array([179954.7591853])"
      ]
     },
     "execution_count": 49,
     "metadata": {},
     "output_type": "execute_result"
    }
   ],
   "source": [
    "# previsão usando o predict\n",
    "\n",
    "reg_lin.predict([[1504]])"
   ]
  },
  {
   "cell_type": "code",
   "execution_count": 50,
   "metadata": {
    "ExecuteTime": {
     "end_time": "2022-01-20T00:14:54.222652Z",
     "start_time": "2022-01-20T00:14:54.131706Z"
    },
    "id": "LbmrsuARhVAh",
    "outputId": "71284ca1-06e5-4d27-fc05-795b3c18c451"
   },
   "outputs": [
    {
     "data": {
      "text/plain": [
       "array([179954.7591853])"
      ]
     },
     "execution_count": 50,
     "metadata": {},
     "output_type": "execute_result"
    }
   ],
   "source": [
    "reg_lin.predict(np.array(1504).reshape(1, -1))"
   ]
  },
  {
   "cell_type": "markdown",
   "metadata": {
    "id": "29HsyhWHhVAj"
   },
   "source": [
    "Entendendo o reshape..."
   ]
  },
  {
   "cell_type": "code",
   "execution_count": 51,
   "metadata": {
    "ExecuteTime": {
     "end_time": "2022-01-20T00:14:54.331898Z",
     "start_time": "2022-01-20T00:14:54.226650Z"
    },
    "id": "Jo0iXx8jhVAj"
   },
   "outputs": [],
   "source": [
    "m = np.array([[1, 2, 4],\n",
    "              [3, 4, 5]])"
   ]
  },
  {
   "cell_type": "code",
   "execution_count": 52,
   "metadata": {
    "ExecuteTime": {
     "end_time": "2022-01-20T00:14:54.505897Z",
     "start_time": "2022-01-20T00:14:54.334896Z"
    },
    "id": "MothphzUhVAk",
    "outputId": "23567f72-8300-4c77-d5de-fad9d4b19337"
   },
   "outputs": [
    {
     "name": "stdout",
     "output_type": "stream",
     "text": [
      "[[1 2 4]\n",
      " [3 4 5]]\n"
     ]
    }
   ],
   "source": [
    "print(m)"
   ]
  },
  {
   "cell_type": "code",
   "execution_count": 53,
   "metadata": {
    "ExecuteTime": {
     "end_time": "2022-01-20T00:14:54.647818Z",
     "start_time": "2022-01-20T00:14:54.509897Z"
    },
    "id": "XrU8pDlThVAk",
    "outputId": "e729ea74-58bc-462f-e53f-9a4bbd63eaf6"
   },
   "outputs": [
    {
     "name": "stdout",
     "output_type": "stream",
     "text": [
      "[[1 2]\n",
      " [4 3]\n",
      " [4 5]]\n"
     ]
    }
   ],
   "source": [
    "print(m.reshape(3, 2))"
   ]
  },
  {
   "cell_type": "code",
   "execution_count": 54,
   "metadata": {
    "ExecuteTime": {
     "end_time": "2022-01-20T00:14:54.771746Z",
     "start_time": "2022-01-20T00:14:54.672805Z"
    },
    "id": "2yAIO2R9hVAk",
    "outputId": "85185781-1c30-489a-ad20-535fbde67183"
   },
   "outputs": [
    {
     "name": "stdout",
     "output_type": "stream",
     "text": [
      "[[1 2]\n",
      " [4 3]\n",
      " [4 5]]\n"
     ]
    }
   ],
   "source": [
    "print(m.reshape(3, -1))"
   ]
  },
  {
   "cell_type": "code",
   "execution_count": 55,
   "metadata": {
    "ExecuteTime": {
     "end_time": "2022-01-20T00:14:54.871692Z",
     "start_time": "2022-01-20T00:14:54.776742Z"
    },
    "id": "MVcZLGUehVAl",
    "outputId": "c577911c-cc4b-465e-f5be-ccdddba637f7"
   },
   "outputs": [
    {
     "name": "stdout",
     "output_type": "stream",
     "text": [
      "[[1]\n",
      " [2]\n",
      " [4]\n",
      " [3]\n",
      " [4]\n",
      " [5]]\n"
     ]
    }
   ],
   "source": [
    "print(m.reshape(-1, 1))"
   ]
  },
  {
   "cell_type": "code",
   "execution_count": 56,
   "metadata": {
    "ExecuteTime": {
     "end_time": "2022-01-20T00:14:54.964652Z",
     "start_time": "2022-01-20T00:14:54.877691Z"
    },
    "id": "aj3RQx2ChVAl",
    "outputId": "9786c05d-ef28-46ad-d670-4e2cf1fe8402"
   },
   "outputs": [
    {
     "name": "stdout",
     "output_type": "stream",
     "text": [
      "[[1 2 4 3 4 5]]\n"
     ]
    }
   ],
   "source": [
    "# matriz com 1 linha, e (...) colunas\n",
    "print(m.reshape(1, -1))"
   ]
  },
  {
   "cell_type": "code",
   "execution_count": 57,
   "metadata": {
    "ExecuteTime": {
     "end_time": "2022-01-20T00:14:55.054583Z",
     "start_time": "2022-01-20T00:14:54.985624Z"
    },
    "id": "M8RmdhlAhVAl",
    "outputId": "b1940942-abdd-46e6-b13c-8afc3cb72a4f"
   },
   "outputs": [
    {
     "name": "stdout",
     "output_type": "stream",
     "text": [
      "[[1]\n",
      " [2]\n",
      " [4]\n",
      " [3]\n",
      " [4]\n",
      " [5]]\n"
     ]
    }
   ],
   "source": [
    "# matriz com 1 coluna e (...) linhas\n",
    "print(m.reshape(-1, 1))"
   ]
  },
  {
   "cell_type": "markdown",
   "metadata": {
    "id": "71-fZbfBhVAm"
   },
   "source": [
    "____________"
   ]
  },
  {
   "cell_type": "markdown",
   "metadata": {
    "id": "MCprNj47hVAm"
   },
   "source": [
    "É raro que consigamos visualizar nosso modelo final como fizemos acima, mas no caso da regressão linear simples, temos essa sorte! :)\n",
    "\n",
    "Vamos agora fazer algumas previsões!"
   ]
  },
  {
   "cell_type": "code",
   "execution_count": 58,
   "metadata": {
    "ExecuteTime": {
     "end_time": "2022-01-20T00:14:55.402385Z",
     "start_time": "2022-01-20T00:14:55.296445Z"
    },
    "id": "NrYG1bIzhVAm"
   },
   "outputs": [],
   "source": [
    "# 5) Use o modelo treinado para fazer previsões usando os dados de teste \n",
    "y_pred = reg_lin.predict(X_test.values.reshape(-1,1))"
   ]
  },
  {
   "cell_type": "code",
   "execution_count": 59,
   "metadata": {},
   "outputs": [
    {
     "data": {
      "text/plain": [
       "array([229653.27048225, 118632.252406  , 123495.35255678, 198932.7109932 ,\n",
       "       193713.77424603, 126579.26972556, 233330.24864503, 300464.7531655 ,\n",
       "       235228.04382582, 166788.80511856, 158130.1146062 , 168212.15150415,\n",
       "       172482.19066093, 254443.22003132, 202016.62816199, 172956.63945613,\n",
       "       205574.99412597, 136068.24562951, 124918.69894237, 176989.45421531,\n",
       "       156469.54382301, 190155.40828204, 176633.61761891, 367599.25768596,\n",
       "       171296.06867294, 143778.03855148, 160502.35858219, 104042.95195367,\n",
       "       191815.97906524, 134170.45044872, 150064.48508784, 125867.59653276,\n",
       "       198458.262198  , 114480.82544802, 195611.56942682, 345300.16431167,\n",
       "       169042.43689575, 230246.33147624, 161214.03177499, 106177.97153206,\n",
       "       141049.95797909, 251833.75165774, 114243.60105042,  98349.5664113 ,\n",
       "       118750.8646048 , 179598.9225889 , 129900.41129194, 114836.66204442,\n",
       "        98349.5664113 , 156706.76822061, 245665.91732017, 135356.57243672,\n",
       "       156232.31942541, 197983.81340281, 102145.15677288, 207235.56490916,\n",
       "       212098.66505994, 135119.34803912, 134051.83824992,  41178.48658999,\n",
       "        63240.35556668, 157655.66581101, 294889.97982192, 180191.98358289,\n",
       "       212217.27725873, 257527.13720011, 124207.02574957, 104042.95195367,\n",
       "       146031.67032866, 174498.59804052, 292161.89924954, 137254.36761751,\n",
       "       109143.27650205, 172600.80285973, 155046.19743742, 172600.80285973,\n",
       "       196797.69141481, 180903.65677569, 137966.0408103 ,  94079.52725452,\n",
       "       118632.252406  , 129307.35029795, 118750.8646048 , 106652.42032726,\n",
       "       167619.09051016, 242107.55135619, 231551.06566304, 173905.53704653,\n",
       "       175921.94442612, 136898.53102111, 160146.52198579, 162874.60255818,\n",
       "        98349.5664113 , 325373.31491337, 211268.37966834, 180191.98358289,\n",
       "       185173.69593247, 282079.86235159, 179243.0859925 , 280656.51596599,\n",
       "       198102.4256016 , 188732.06189645, 265236.93012207, 102856.82996568,\n",
       "       129425.96249675, 161569.86837139, 174261.37364292, 187901.77650486,\n",
       "        83523.04156138, 198458.262198  , 179243.0859925 , 124918.69894237,\n",
       "       178175.5762033 , 181022.26897449, 214708.13343352,  96926.22002571,\n",
       "       137491.59201511, 104991.84954407, 107601.31791766, 194781.28403522,\n",
       "       179005.8615949 , 102145.15677288, 241158.65376579, 220757.35557229,\n",
       "       169042.43689575, 121123.10858079, 269151.13268245, 189206.51069165,\n",
       "       206049.44292117, 107601.31791766, 273895.62063443, 100959.03478489,\n",
       "       112583.03026723, 265948.60331487,  58495.8676147 , 304497.56792468,\n",
       "       300939.20196069, 112820.25466483, 197746.58900521, 367124.80889076,\n",
       "       332964.49563653, 323356.90753378, 206998.34051156, 266067.21551367,\n",
       "       126816.49412316, 106177.97153206, 245547.30512137, 171177.45647414,\n",
       "       242463.38795258, 311614.29985264, 141524.40677429, 161451.25617259,\n",
       "       180547.82017929, 271286.15226084, 205100.54533077, 214115.07243953,\n",
       "       107482.70571886, 164653.78554017, 299871.6921715 , 193357.93764963,\n",
       "       147929.46550945, 255154.89322412, 196797.69141481, 182564.22755888,\n",
       "       176752.22981771, 283859.04533358, 232855.79984983, 306869.81190066,\n",
       "       135593.79683432, 286587.12590596, 232144.12665704, 106177.97153206,\n",
       "       166077.13192576, 227399.63870506, 279707.6183756 , 189918.18388445,\n",
       "       177938.35180571, 197509.36460761, 162518.76596178, 131086.53327994,\n",
       "       120055.59879159, 133221.55285833, 211031.15527074, 166314.35632336,\n",
       "       237481.67560301, 204388.87213797, 131086.53327994, 179480.3103901 ,\n",
       "       219334.0091867 , 169516.88569095, 163467.66355218, 227518.25090386,\n",
       "       161925.70496778, 177345.29081171,  85539.44894097, 380409.3751563 ,\n",
       "       145319.99713587, 157774.27800981, 207828.62590316, 146743.34352146,\n",
       "       183394.51295048, 186241.20572166, 160976.80737739, 313512.09503343,\n",
       "       227162.41430746, 304616.18012347, 204388.87213797, 134526.28704512,\n",
       "       190748.46927604, 107364.09352006, 267609.17409806, 183868.96174568,\n",
       "       146861.95572026, 176040.55662491, 163230.43915458, 187308.71551086,\n",
       "       196916.30361361, 202491.07695718, 161925.70496778, 207235.56490916,\n",
       "       196797.69141481, 158604.5634014 , 186122.59352286, 172363.57846213,\n",
       "       174261.37364292, 145675.83373227, 116022.78403241, 116378.62062881,\n",
       "       155995.09502781, 141287.18237669, 111871.35707443, 179598.9225889 ,\n",
       "       202253.85255958, 147336.40451546, 143896.65075027, 167144.64171496,\n",
       "       144845.54834067, 119699.7621952 , 246140.36611537, 166670.19291976,\n",
       "        86962.79532656, 354789.14021563, 208421.68689715, 350874.93765524,\n",
       "       188969.28629405, 206049.44292117, 171296.06867294, 187071.49111326,\n",
       "       127290.94291836,  95147.03704372, 314698.21702142, 212217.27725873,\n",
       "       180073.37138409, 104042.95195367, 191460.14246884, 223129.59954828,\n",
       "       111041.07168284, 208658.91129475, 191697.36686644, 115429.72303842,\n",
       "       157418.44141341, 112583.03026723, 107601.31791766, 196560.46701721,\n",
       "       206286.66731876, 251833.75165774, 160146.52198579, 102145.15677288,\n",
       "       249461.50768175, 171177.45647414, 114718.04984562, 160146.52198579,\n",
       "       235346.65602462, 133458.77725593, 142710.52876228, 117801.9670144 ,\n",
       "        90165.32469414, 223248.21174708, 112464.41806843, 174617.21023932,\n",
       "       212217.27725873,  76287.69743461, 188494.83749885, 309835.11687065,\n",
       "       205337.76972837, 124207.02574957, 219808.4579819 , 135712.40903312,\n",
       "       183038.67635408, 187664.55210726, 180666.43237809, 104042.95195367])"
      ]
     },
     "execution_count": 59,
     "metadata": {},
     "output_type": "execute_result"
    }
   ],
   "source": [
    "y_pred"
   ]
  },
  {
   "cell_type": "markdown",
   "metadata": {
    "id": "7Bd5L1cOhVAn"
   },
   "source": [
    "Agora que temos o modelo treinado e algumas previsões, como avaliamos a performance do modelo?\n",
    "\n",
    "Para isso, podemos dar uma olhada nos **resíduos** das predições! Os resíduos nada mais são do que **os erros do modelo**, ou seja, **a diferença entre cada valor predito e o valor real**, para **os dados de teste!**. Isto é,\n",
    "\n",
    "$$R(y_i) = y_i - \\hat{y}_i $$\n",
    "\n",
    "$$R(y_i) + \\hat{y}_i= y_i  $$\n",
    "\n",
    "$$ \\hat{y}_i= y_i - R(y_i)  $$"
   ]
  },
  {
   "cell_type": "code",
   "execution_count": 60,
   "metadata": {
    "ExecuteTime": {
     "end_time": "2022-01-20T00:14:55.931884Z",
     "start_time": "2022-01-20T00:14:55.796961Z"
    },
    "id": "MiiZOMChhVAo"
   },
   "outputs": [],
   "source": [
    "#Residuo\n",
    "residuo = y_test - y_pred"
   ]
  },
  {
   "cell_type": "code",
   "execution_count": 61,
   "metadata": {
    "ExecuteTime": {
     "end_time": "2022-01-20T00:14:56.055813Z",
     "start_time": "2022-01-20T00:14:55.934882Z"
    },
    "id": "456EfaDShVAo",
    "outputId": "f104321a-a549-40e4-9b3e-9481cc06d064"
   },
   "outputs": [
    {
     "data": {
      "text/plain": [
       "1322    -39653.270482\n",
       "837     -18632.252406\n",
       "413      -8495.352557\n",
       "522     -39932.710993\n",
       "1036    121786.225754\n",
       "            ...      \n",
       "479     -46241.409033\n",
       "1361     76961.323646\n",
       "1415    -11764.552107\n",
       "651     -72666.432378\n",
       "722      20457.048046\n",
       "Name: SalePrice, Length: 292, dtype: float64"
      ]
     },
     "execution_count": 61,
     "metadata": {},
     "output_type": "execute_result"
    }
   ],
   "source": [
    "residuo"
   ]
  },
  {
   "cell_type": "code",
   "execution_count": 62,
   "metadata": {
    "ExecuteTime": {
     "end_time": "2022-01-20T00:14:56.166749Z",
     "start_time": "2022-01-20T00:14:56.060810Z"
    },
    "id": "gcZ-XrOohVAo",
    "outputId": "0bde77bf-e008-48c0-fa7c-5d7c66b62e19",
    "scrolled": true
   },
   "outputs": [
    {
     "data": {
      "text/plain": [
       "count       292.000000\n",
       "mean       1054.794211\n",
       "std       53073.332679\n",
       "min     -170124.808891\n",
       "25%      -24443.432570\n",
       "50%        1494.653463\n",
       "75%       23363.924359\n",
       "max      178054.379366\n",
       "Name: SalePrice, dtype: float64"
      ]
     },
     "execution_count": 62,
     "metadata": {},
     "output_type": "execute_result"
    }
   ],
   "source": [
    "# Estatísticas descritivas do resíduo\n",
    "residuo.describe()"
   ]
  },
  {
   "cell_type": "code",
   "execution_count": 63,
   "metadata": {},
   "outputs": [
    {
     "data": {
      "text/plain": [
       "count      1458.000000\n",
       "mean     180932.919067\n",
       "std       79495.055285\n",
       "min       34900.000000\n",
       "25%      129925.000000\n",
       "50%      163000.000000\n",
       "75%      214000.000000\n",
       "max      755000.000000\n",
       "Name: SalePrice, dtype: float64"
      ]
     },
     "execution_count": 63,
     "metadata": {},
     "output_type": "execute_result"
    }
   ],
   "source": [
    "df['SalePrice'].describe()"
   ]
  },
  {
   "cell_type": "code",
   "execution_count": 64,
   "metadata": {
    "ExecuteTime": {
     "end_time": "2022-01-20T00:14:56.762990Z",
     "start_time": "2022-01-20T00:14:56.174747Z"
    },
    "id": "qYBqimZdhVAo",
    "outputId": "bad09975-a72f-4d55-eed9-7267f5b2b5c9"
   },
   "outputs": [
    {
     "data": {
      "text/plain": [
       "<AxesSubplot:xlabel='SalePrice'>"
      ]
     },
     "execution_count": 64,
     "metadata": {},
     "output_type": "execute_result"
    },
    {
     "data": {
      "image/png": "[encoded data removed]",
      "text/plain": [
       "<Figure size 432x288 with 1 Axes>"
      ]
     },
     "metadata": {
      "needs_background": "light"
     },
     "output_type": "display_data"
    }
   ],
   "source": [
    "# faça um scatterplot do valor predito pelo valor real\n",
    "#Caso os dois valores fossem iguais, os pontos cairiam em cima da linha vermelha\n",
    "x = np.linspace(0, 500000, 100000)\n",
    "y = x\n",
    "plt.plot(x,y,color='red')\n",
    "\n",
    "\n",
    "sns.scatterplot(x=y_test, y=y_pred)"
   ]
  },
  {
   "cell_type": "markdown",
   "metadata": {
    "id": "ZlAMHk4EhVAp"
   },
   "source": [
    "O caso 100% ideal seria $y_i = \\hat{y}_i$, o que produziria uma reta exata!\n",
    "\n",
    "Quanto mais \"espalhados\" estiverem os pontos em torno da reta, em geral **pior é o modelo**, pois ele está errando mais!\n",
    "\n",
    "Uma forma de quantificar isso através de uma métrica conhecida como **$R^2$**, o **coeficiente de determinação**.\n",
    "\n",
    "Este coeficiente indica **o quão próximos os dados estão da reta ajustada**. Por outro lado, o $R^2$ representa a porcentagem de variação na resposta que é explicada pelo modelo.\n",
    "\n",
    "$$R^2 = 1 - \\frac{\\sum_{i=1}^n(y_i-\\hat{y}_i)^2}{\\sum_{i=1}^n(y_i-\\bar{y})^2}$$\n",
    "\n",
    "É possível utilizar o $R^2$ nos dados de treino, mas isso não é tão significante, devido ao overfitting, que discutiremos mais a frente. Faz mais sentido calcularmos o $R^2$ nos dados de teste como faremos a seguir. Essa métrica equivale, portanto, **ao gráfico que fizemos acima!**\n"
   ]
  },
  {
   "cell_type": "markdown",
   "metadata": {},
   "source": [
    "DOC metricas do sklearn: https://scikit-learn.org/stable/modules/model_evaluation.html"
   ]
  },
  {
   "cell_type": "code",
   "execution_count": 65,
   "metadata": {
    "ExecuteTime": {
     "end_time": "2022-01-20T00:14:56.903903Z",
     "start_time": "2022-01-20T00:14:56.796961Z"
    },
    "id": "KdereJirhVAp",
    "outputId": "356d2ca4-2062-4ef8-8996-6dbc94ba1fca"
   },
   "outputs": [
    {
     "data": {
      "text/plain": [
       "0.49160330551638054"
      ]
     },
     "execution_count": 65,
     "metadata": {},
     "output_type": "execute_result"
    }
   ],
   "source": [
    "# r2_score do sklearn.metrics\n",
    "from sklearn.metrics import r2_score\n",
    "\n",
    "r2_score(y_test,y_pred)"
   ]
  },
  {
   "cell_type": "markdown",
   "metadata": {
    "id": "F0fhqO2ehVAp"
   },
   "source": [
    "Outra coisa importante é que os resíduos sejam **normalmente distribuídos**.\n",
    "\n",
    "Se esse não for o caso, é muito importante que você reveja se o modelo escolhido de fato é adequado ao seu problema!"
   ]
  },
  {
   "cell_type": "code",
   "execution_count": 66,
   "metadata": {
    "ExecuteTime": {
     "end_time": "2022-01-20T00:14:57.762891Z",
     "start_time": "2022-01-20T00:14:57.663943Z"
    },
    "id": "qaM3ctlbhVAq",
    "outputId": "7cd0cd24-71de-4b70-8c11-0c24657ae841"
   },
   "outputs": [
    {
     "name": "stdout",
     "output_type": "stream",
     "text": [
      "Estatística de teste: 15.330540528116954\n",
      "\n",
      "p-value: 0.00046883003024722876\n",
      "\n",
      "Rejeição da H_0: amostra não é normal\n"
     ]
    }
   ],
   "source": [
    "# importa o teste\n",
    "from scipy.stats import normaltest\n",
    "    \n",
    "# fazendo o teste\n",
    "test_stat, p = normaltest(residuo)\n",
    "\n",
    "print(\"Estatística de teste:\", test_stat)\n",
    "print(\"\\np-value:\", p)\n",
    "\n",
    "# interpretação do teste\n",
    "# nível de significância de 5%\n",
    "alpha = 0.05 #nivel de significancia\n",
    "\n",
    "if p > alpha:\n",
    "    print(\"\\nFalha em rejeitar H_0: amostra parece ser normal\")\n",
    "else:\n",
    "    print(\"\\nRejeição da H_0: amostra não é normal\")"
   ]
  },
  {
   "cell_type": "markdown",
   "metadata": {
    "id": "1TasCJMohVAr"
   },
   "source": [
    "Além dos resíduos, existem três principais **métricas de avaliação** do modelo de regressão linear:"
   ]
  },
  {
   "cell_type": "markdown",
   "metadata": {
    "id": "kX2SjAd9hVAr"
   },
   "source": [
    "**Mean Absolute Error** (MAE) é a média do valor absoluto de todos os resíduos (erros):\n",
    "\n",
    "$$\\frac 1n\\sum_{i=1}^n|y_i-\\hat{y}_i|$$\n",
    "\n",
    "**Mean Squared Error** (MSE) é a média dos erros quadrados:\n",
    "\n",
    "$$\\frac 1n\\sum_{i=1}^n(y_i-\\hat{y}_i)^2$$\n",
    "\n",
    "**Root Mean Squared Error** (RMSE) é a raiz quadrada da média dos erros quadrados:\n",
    "\n",
    "$$\\sqrt{\\frac 1n\\sum_{i=1}^n(y_i-\\hat{y}_i)^2}$$\n",
    "\n",
    "Comparando as métricas:\n",
    "\n",
    "- **MAE** é a mais simples de entender, mas ela penaliza mais erros menores;\n",
    "- **MSE** é uma métrica popular, pois ela penaliza mais erros maiores, o que faz mais sentido em aplicações reais.\n",
    "- **RMSE** é ainda mais popular, pois esta métrica está nas mesmas unidades que o target.\n",
    "\n",
    "Estas métricas todas podem ser utilizadas como **funções de custo** a serem minimizadas pelo algoritmo do estimador."
   ]
  },
  {
   "cell_type": "code",
   "execution_count": 67,
   "metadata": {
    "ExecuteTime": {
     "end_time": "2022-01-20T00:14:57.872824Z",
     "start_time": "2022-01-20T00:14:57.769882Z"
    },
    "id": "Lcz-hLwKhVAr"
   },
   "outputs": [],
   "source": [
    "from sklearn import metrics"
   ]
  },
  {
   "cell_type": "code",
   "execution_count": 68,
   "metadata": {
    "ExecuteTime": {
     "end_time": "2022-01-20T00:14:58.077217Z",
     "start_time": "2022-01-20T00:14:57.957780Z"
    },
    "id": "1NnlRSklhVAs",
    "outputId": "841f2927-fe66-4b12-8082-57959fe75464"
   },
   "outputs": [
    {
     "data": {
      "text/plain": [
       "37694.28175792022"
      ]
     },
     "execution_count": 68,
     "metadata": {},
     "output_type": "execute_result"
    }
   ],
   "source": [
    "# calcule MAE\n",
    "metrics.mean_absolute_error(y_test,y_pred)"
   ]
  },
  {
   "cell_type": "code",
   "execution_count": 69,
   "metadata": {
    "ExecuteTime": {
     "end_time": "2022-01-20T00:14:58.358056Z",
     "start_time": "2022-01-20T00:14:58.250117Z"
    },
    "id": "P2FKg4vLhVAt",
    "outputId": "a288359c-d5cf-4b25-d91d-2c167e7fae6f"
   },
   "outputs": [
    {
     "data": {
      "text/plain": [
       "2808244730.245439"
      ]
     },
     "execution_count": 69,
     "metadata": {},
     "output_type": "execute_result"
    }
   ],
   "source": [
    "# calcule MSE\n",
    "metrics.mean_squared_error(y_test,y_pred)"
   ]
  },
  {
   "cell_type": "code",
   "execution_count": 70,
   "metadata": {
    "ExecuteTime": {
     "end_time": "2022-01-20T00:14:58.483986Z",
     "start_time": "2022-01-20T00:14:58.363054Z"
    },
    "id": "CQtKkusehVAt",
    "outputId": "87aecb28-e903-4c44-e503-c49d1c6de881"
   },
   "outputs": [
    {
     "data": {
      "text/plain": [
       "52992.874334625776"
      ]
     },
     "execution_count": 70,
     "metadata": {},
     "output_type": "execute_result"
    }
   ],
   "source": [
    "# calcule RMSE\n",
    "metrics.mean_squared_error(y_test,y_pred,squared=False)"
   ]
  },
  {
   "cell_type": "markdown",
   "metadata": {
    "id": "kdbhUBquhVAu"
   },
   "source": [
    "Vamos dar uma olhada em tudo junto:\n"
   ]
  },
  {
   "cell_type": "code",
   "execution_count": 71,
   "metadata": {
    "ExecuteTime": {
     "end_time": "2022-01-20T00:14:59.832959Z",
     "start_time": "2022-01-20T00:14:58.597918Z"
    },
    "id": "HsChW2BAhVAv",
    "outputId": "beafc037-4935-45f9-ff7d-f07c3e77c4b4",
    "scrolled": false
   },
   "outputs": [
    {
     "name": "stdout",
     "output_type": "stream",
     "text": [
      "Intercepto: 1562.0121909830777\n",
      "Coeficienter angular: [118.6121988]\n",
      "\n",
      "####################################################\n",
      "\n"
     ]
    },
    {
     "data": {
      "image/png": "[encoded data removed]",
      "text/plain": [
       "<Figure size 432x288 with 1 Axes>"
      ]
     },
     "metadata": {
      "needs_background": "light"
     },
     "output_type": "display_data"
    },
    {
     "name": "stdout",
     "output_type": "stream",
     "text": [
      "\n",
      "####################################################\n",
      "\n"
     ]
    },
    {
     "data": {
      "image/png": "[encoded data removed]",
      "text/plain": [
       "<Figure size 432x288 with 1 Axes>"
      ]
     },
     "metadata": {
      "needs_background": "light"
     },
     "output_type": "display_data"
    },
    {
     "data": {
      "image/png": "[encoded data removed]",
      "text/plain": [
       "<Figure size 432x288 with 1 Axes>"
      ]
     },
     "metadata": {
      "needs_background": "light"
     },
     "output_type": "display_data"
    },
    {
     "name": "stdout",
     "output_type": "stream",
     "text": [
      "\n",
      "####################################################\n",
      "\n",
      "\n",
      "Métricas de avaliação:\n",
      "\n",
      "R^2: 0.49160330551638054\n",
      "MAE: 37694.28175792022\n",
      "MSE: 2808244730.245439\n",
      "RMSE: 52992.874334625776\n"
     ]
    }
   ],
   "source": [
    "X = df['GrLivArea']\n",
    "y = df['SalePrice']\n",
    "\n",
    "# 1) Importar\n",
    "from sklearn.linear_model import LinearRegression\n",
    "\n",
    "# 2) Instanciar\n",
    "estimador = LinearRegression()\n",
    "\n",
    "# 3) Dividir os dados em treino e teste\n",
    "from sklearn.model_selection import train_test_split\n",
    "X_treino, X_teste, y_treino, y_teste = train_test_split(X, y, test_size=0.2, random_state=42)\n",
    "\n",
    "# 4) Treinamento\n",
    "modelo = estimador.fit(np.array(X_treino).reshape(-1, 1), y_treino)\n",
    "\n",
    "print(\"Intercepto:\", modelo.intercept_)\n",
    "print(\"Coeficienter angular:\", modelo.coef_)\n",
    "\n",
    "print(\"\\n####################################################\\n\")\n",
    "\n",
    "plt.title(\"Modelo de regressão linear\")\n",
    "\n",
    "sns.scatterplot(data=df, x=\"GrLivArea\", y=\"SalePrice\")\n",
    "\n",
    "x = np.linspace(0, 6000, 100000)\n",
    "y = modelo.intercept_ + modelo.coef_[0]*x\n",
    "plt.plot(x, y, color=\"red\")\n",
    "plt.show()\n",
    "\n",
    "print(\"\\n####################################################\\n\")\n",
    "\n",
    "# 5) Teste\n",
    "predictions = modelo.predict(np.array(X_teste).reshape(-1, 1))\n",
    "\n",
    "plt.title(\"valor predito vs valor real\")\n",
    "sns.scatterplot(x=predictions, y=y_teste)\n",
    "plt.show()\n",
    "\n",
    "plt.title(\"Distribuição dos resíduos\")\n",
    "sns.histplot(y_teste-predictions, kde=True)\n",
    "plt.show()\n",
    "\n",
    "print(\"\\n####################################################\\n\")\n",
    "\n",
    "print(\"\\nMétricas de avaliação:\")\n",
    "\n",
    "# 6) \n",
    "from sklearn import metrics\n",
    "\n",
    "print('\\nR^2:', metrics.r2_score(y_test, predictions))\n",
    "print('MAE:', metrics.mean_absolute_error(y_test, predictions))\n",
    "print('MSE:', metrics.mean_squared_error(y_test, predictions))\n",
    "print('RMSE:', metrics.mean_squared_error(y_test, y_pred,squared=False))"
   ]
  },
  {
   "cell_type": "markdown",
   "metadata": {},
   "source": [
    "Utilizando outra feature"
   ]
  },
  {
   "cell_type": "code",
   "execution_count": 72,
   "metadata": {},
   "outputs": [
    {
     "data": {
      "text/plain": [
       "LinearRegression()"
      ]
     },
     "execution_count": 72,
     "metadata": {},
     "output_type": "execute_result"
    }
   ],
   "source": [
    "X = df['OverallQual']\n",
    "y = df['SalePrice']\n",
    "\n",
    "X_train, X_test, y_train, y_test = train_test_split(X, y, test_size=0.2, random_state=42)\n",
    "reg_lin2 = LinearRegression()\n",
    "\n",
    "reg_lin2.fit(X_train.values.reshape(-1,1),y_train)"
   ]
  },
  {
   "cell_type": "code",
   "execution_count": 73,
   "metadata": {},
   "outputs": [],
   "source": [
    "y_pred = reg_lin2.predict(X_test.values.reshape(-1, 1))"
   ]
  },
  {
   "cell_type": "code",
   "execution_count": 74,
   "metadata": {},
   "outputs": [
    {
     "name": "stdout",
     "output_type": "stream",
     "text": [
      "\n",
      "R^2: 0.7009795959297107\n",
      "MAE: 31130.109810112917\n",
      "MSE: 1651707186.6864936\n",
      "RMSE: 40641.20060586908\n"
     ]
    }
   ],
   "source": [
    "print('\\nR^2:', metrics.r2_score(y_test, y_pred))\n",
    "print('MAE:', metrics.mean_absolute_error(y_test, y_pred))\n",
    "print('MSE:', metrics.mean_squared_error(y_test, y_pred))\n",
    "print('RMSE:', metrics.mean_squared_error(y_test, y_pred,squared=False))"
   ]
  },
  {
   "cell_type": "markdown",
   "metadata": {
    "id": "CKJDjYz_hVAx"
   },
   "source": [
    "___\n",
    "___\n",
    "___"
   ]
  },
  {
   "cell_type": "markdown",
   "metadata": {
    "id": "_PEvqc5ihVAy"
   },
   "source": [
    "## 3) Regressão linear múltipla\n",
    "\n",
    "O modelo que fizemos acima considera uma única feature como preditora do preço da casa.\n",
    "\n",
    "Mas temos outras 78 dessas features! Será que não há mais informação útil em todas essas outras variáveis?\n",
    "\n",
    "Em geral, sim! É natural que esperemos que **mais variáveis** tragam **mais informações** ao modelo, e, portanto, o torne mais preciso!\n",
    "\n",
    "Para incorporar estas outras variáveis ao modelo, é muito simples! \n",
    "\n",
    "Podemos passar a utilizar outros atributos (como o número de cômodos, qual é a renda média da vizinhança, etc.), e neste caso teremos uma **Regressão Linear Múltipla**, que é expressa pela seguinte função de hipótese:\n",
    "\n",
    "$$ y = f_{H, \\vec{b}} = b_0 + b_1 X_1 + b_2 X_2 + \\cdots + b_n X_n $$\n",
    "\n",
    "Neste caso, além de $b_0$ e $b_1$, temos também outros coeficientes, um pra cada uma das $n$ features que escolhermos! Ou seja, o vetor de parâmetros tem $n+1$ dimensões:\n",
    "\n",
    "$$\\vec{b} = \\begin{bmatrix}\n",
    "b_0\\\\ \n",
    "b_1\\\\\n",
    "\\vdots\\\\\n",
    "b_n\n",
    "\\end{bmatrix}$$\n",
    "\n",
    "Modelos de regressão múltipla são potencialmente mais precisos, mas há também um lado ruim: nós perdemos a **possibilidade de visualização**. Agora, não temos mais uma reta, mas sim um **hiperplano** que relaciona todas as features com o target!\n",
    "\n",
    "<img src=\"https://miro.medium.com/max/1120/0*rGSfRsMjiQeG5jof.png\" width=500>\n",
    "\n",
    "Vamos construir esse modelo?"
   ]
  },
  {
   "cell_type": "code",
   "execution_count": 75,
   "metadata": {
    "ExecuteTime": {
     "end_time": "2022-01-20T00:14:59.911857Z",
     "start_time": "2022-01-20T00:14:59.835957Z"
    },
    "id": "jBbLdnKXhVAz",
    "outputId": "d84e4a9b-e824-49b7-c879-6173081dee4d",
    "scrolled": false
   },
   "outputs": [
    {
     "name": "stdout",
     "output_type": "stream",
     "text": [
      "<class 'pandas.core.frame.DataFrame'>\n",
      "Int64Index: 1458 entries, 0 to 1459\n",
      "Data columns (total 81 columns):\n",
      " #   Column         Non-Null Count  Dtype  \n",
      "---  ------         --------------  -----  \n",
      " 0   Id             1458 non-null   int64  \n",
      " 1   MSSubClass     1458 non-null   int64  \n",
      " 2   MSZoning       1458 non-null   object \n",
      " 3   LotFrontage    1199 non-null   float64\n",
      " 4   LotArea        1458 non-null   int64  \n",
      " 5   Street         1458 non-null   object \n",
      " 6   Alley          91 non-null     object \n",
      " 7   LotShape       1458 non-null   object \n",
      " 8   LandContour    1458 non-null   object \n",
      " 9   Utilities      1458 non-null   object \n",
      " 10  LotConfig      1458 non-null   object \n",
      " 11  LandSlope      1458 non-null   object \n",
      " 12  Neighborhood   1458 non-null   object \n",
      " 13  Condition1     1458 non-null   object \n",
      " 14  Condition2     1458 non-null   object \n",
      " 15  BldgType       1458 non-null   object \n",
      " 16  HouseStyle     1458 non-null   object \n",
      " 17  OverallQual    1458 non-null   int64  \n",
      " 18  OverallCond    1458 non-null   int64  \n",
      " 19  YearBuilt      1458 non-null   int64  \n",
      " 20  YearRemodAdd   1458 non-null   int64  \n",
      " 21  RoofStyle      1458 non-null   object \n",
      " 22  RoofMatl       1458 non-null   object \n",
      " 23  Exterior1st    1458 non-null   object \n",
      " 24  Exterior2nd    1458 non-null   object \n",
      " 25  MasVnrType     1450 non-null   object \n",
      " 26  MasVnrArea     1450 non-null   float64\n",
      " 27  ExterQual      1458 non-null   object \n",
      " 28  ExterCond      1458 non-null   object \n",
      " 29  Foundation     1458 non-null   object \n",
      " 30  BsmtQual       1421 non-null   object \n",
      " 31  BsmtCond       1421 non-null   object \n",
      " 32  BsmtExposure   1420 non-null   object \n",
      " 33  BsmtFinType1   1421 non-null   object \n",
      " 34  BsmtFinSF1     1458 non-null   int64  \n",
      " 35  BsmtFinType2   1420 non-null   object \n",
      " 36  BsmtFinSF2     1458 non-null   int64  \n",
      " 37  BsmtUnfSF      1458 non-null   int64  \n",
      " 38  TotalBsmtSF    1458 non-null   int64  \n",
      " 39  Heating        1458 non-null   object \n",
      " 40  HeatingQC      1458 non-null   object \n",
      " 41  CentralAir     1458 non-null   object \n",
      " 42  Electrical     1457 non-null   object \n",
      " 43  1stFlrSF       1458 non-null   int64  \n",
      " 44  2ndFlrSF       1458 non-null   int64  \n",
      " 45  LowQualFinSF   1458 non-null   int64  \n",
      " 46  GrLivArea      1458 non-null   int64  \n",
      " 47  BsmtFullBath   1458 non-null   int64  \n",
      " 48  BsmtHalfBath   1458 non-null   int64  \n",
      " 49  FullBath       1458 non-null   int64  \n",
      " 50  HalfBath       1458 non-null   int64  \n",
      " 51  BedroomAbvGr   1458 non-null   int64  \n",
      " 52  KitchenAbvGr   1458 non-null   int64  \n",
      " 53  KitchenQual    1458 non-null   object \n",
      " 54  TotRmsAbvGrd   1458 non-null   int64  \n",
      " 55  Functional     1458 non-null   object \n",
      " 56  Fireplaces     1458 non-null   int64  \n",
      " 57  FireplaceQu    768 non-null    object \n",
      " 58  GarageType     1377 non-null   object \n",
      " 59  GarageYrBlt    1377 non-null   float64\n",
      " 60  GarageFinish   1377 non-null   object \n",
      " 61  GarageCars     1458 non-null   int64  \n",
      " 62  GarageArea     1458 non-null   int64  \n",
      " 63  GarageQual     1377 non-null   object \n",
      " 64  GarageCond     1377 non-null   object \n",
      " 65  PavedDrive     1458 non-null   object \n",
      " 66  WoodDeckSF     1458 non-null   int64  \n",
      " 67  OpenPorchSF    1458 non-null   int64  \n",
      " 68  EnclosedPorch  1458 non-null   int64  \n",
      " 69  3SsnPorch      1458 non-null   int64  \n",
      " 70  ScreenPorch    1458 non-null   int64  \n",
      " 71  PoolArea       1458 non-null   int64  \n",
      " 72  PoolQC         6 non-null      object \n",
      " 73  Fence          281 non-null    object \n",
      " 74  MiscFeature    54 non-null     object \n",
      " 75  MiscVal        1458 non-null   int64  \n",
      " 76  MoSold         1458 non-null   int64  \n",
      " 77  YrSold         1458 non-null   int64  \n",
      " 78  SaleType       1458 non-null   object \n",
      " 79  SaleCondition  1458 non-null   object \n",
      " 80  SalePrice      1458 non-null   int64  \n",
      "dtypes: float64(3), int64(35), object(43)\n",
      "memory usage: 966.3+ KB\n"
     ]
    }
   ],
   "source": [
    "# Verificando novamente os dados do dataset\n",
    "df.info()"
   ]
  },
  {
   "cell_type": "code",
   "execution_count": 76,
   "metadata": {
    "ExecuteTime": {
     "end_time": "2022-01-20T00:15:00.019794Z",
     "start_time": "2022-01-20T00:14:59.915854Z"
    },
    "id": "uTzSYm0ihVA0",
    "outputId": "f5772731-d2b2-4649-e891-f404e70ce0da",
    "scrolled": true
   },
   "outputs": [
    {
     "name": "stdout",
     "output_type": "stream",
     "text": [
      "<class 'pandas.core.frame.DataFrame'>\n",
      "Int64Index: 1458 entries, 0 to 1459\n",
      "Data columns (total 38 columns):\n",
      " #   Column         Non-Null Count  Dtype  \n",
      "---  ------         --------------  -----  \n",
      " 0   Id             1458 non-null   int64  \n",
      " 1   MSSubClass     1458 non-null   int64  \n",
      " 2   LotFrontage    1199 non-null   float64\n",
      " 3   LotArea        1458 non-null   int64  \n",
      " 4   OverallQual    1458 non-null   int64  \n",
      " 5   OverallCond    1458 non-null   int64  \n",
      " 6   YearBuilt      1458 non-null   int64  \n",
      " 7   YearRemodAdd   1458 non-null   int64  \n",
      " 8   MasVnrArea     1450 non-null   float64\n",
      " 9   BsmtFinSF1     1458 non-null   int64  \n",
      " 10  BsmtFinSF2     1458 non-null   int64  \n",
      " 11  BsmtUnfSF      1458 non-null   int64  \n",
      " 12  TotalBsmtSF    1458 non-null   int64  \n",
      " 13  1stFlrSF       1458 non-null   int64  \n",
      " 14  2ndFlrSF       1458 non-null   int64  \n",
      " 15  LowQualFinSF   1458 non-null   int64  \n",
      " 16  GrLivArea      1458 non-null   int64  \n",
      " 17  BsmtFullBath   1458 non-null   int64  \n",
      " 18  BsmtHalfBath   1458 non-null   int64  \n",
      " 19  FullBath       1458 non-null   int64  \n",
      " 20  HalfBath       1458 non-null   int64  \n",
      " 21  BedroomAbvGr   1458 non-null   int64  \n",
      " 22  KitchenAbvGr   1458 non-null   int64  \n",
      " 23  TotRmsAbvGrd   1458 non-null   int64  \n",
      " 24  Fireplaces     1458 non-null   int64  \n",
      " 25  GarageYrBlt    1377 non-null   float64\n",
      " 26  GarageCars     1458 non-null   int64  \n",
      " 27  GarageArea     1458 non-null   int64  \n",
      " 28  WoodDeckSF     1458 non-null   int64  \n",
      " 29  OpenPorchSF    1458 non-null   int64  \n",
      " 30  EnclosedPorch  1458 non-null   int64  \n",
      " 31  3SsnPorch      1458 non-null   int64  \n",
      " 32  ScreenPorch    1458 non-null   int64  \n",
      " 33  PoolArea       1458 non-null   int64  \n",
      " 34  MiscVal        1458 non-null   int64  \n",
      " 35  MoSold         1458 non-null   int64  \n",
      " 36  YrSold         1458 non-null   int64  \n",
      " 37  SalePrice      1458 non-null   int64  \n",
      "dtypes: float64(3), int64(35)\n",
      "memory usage: 476.5 KB\n"
     ]
    }
   ],
   "source": [
    "# Selecionar somente as features numéricas\n",
    "df.select_dtypes(include=[np.number]).info()"
   ]
  },
  {
   "cell_type": "code",
   "execution_count": 77,
   "metadata": {
    "ExecuteTime": {
     "end_time": "2022-01-20T00:15:00.193750Z",
     "start_time": "2022-01-20T00:15:00.074284Z"
    },
    "id": "IWbAsCjchVA1",
    "outputId": "1260769a-a5ee-4d3e-f73a-2126ef531ad1"
   },
   "outputs": [
    {
     "data": {
      "text/plain": [
       "Id                 0\n",
       "MSSubClass         0\n",
       "LotFrontage      259\n",
       "LotArea            0\n",
       "OverallQual        0\n",
       "OverallCond        0\n",
       "YearBuilt          0\n",
       "YearRemodAdd       0\n",
       "MasVnrArea         8\n",
       "BsmtFinSF1         0\n",
       "BsmtFinSF2         0\n",
       "BsmtUnfSF          0\n",
       "TotalBsmtSF        0\n",
       "1stFlrSF           0\n",
       "2ndFlrSF           0\n",
       "LowQualFinSF       0\n",
       "GrLivArea          0\n",
       "BsmtFullBath       0\n",
       "BsmtHalfBath       0\n",
       "FullBath           0\n",
       "HalfBath           0\n",
       "BedroomAbvGr       0\n",
       "KitchenAbvGr       0\n",
       "TotRmsAbvGrd       0\n",
       "Fireplaces         0\n",
       "GarageYrBlt       81\n",
       "GarageCars         0\n",
       "GarageArea         0\n",
       "WoodDeckSF         0\n",
       "OpenPorchSF        0\n",
       "EnclosedPorch      0\n",
       "3SsnPorch          0\n",
       "ScreenPorch        0\n",
       "PoolArea           0\n",
       "MiscVal            0\n",
       "MoSold             0\n",
       "YrSold             0\n",
       "SalePrice          0\n",
       "dtype: int64"
      ]
     },
     "execution_count": 77,
     "metadata": {},
     "output_type": "execute_result"
    }
   ],
   "source": [
    "# Verificar ocorrência de valores nulos\n",
    "df.select_dtypes(include=[np.number]).isnull().sum()"
   ]
  },
  {
   "cell_type": "code",
   "execution_count": 78,
   "metadata": {
    "ExecuteTime": {
     "end_time": "2022-01-20T00:15:00.397158Z",
     "start_time": "2022-01-20T00:15:00.197728Z"
    },
    "id": "jvMLywQIhVA4"
   },
   "outputs": [],
   "source": [
    "# selecione todas as outras colunas numéricas como a variável de features X\n",
    "# dica: df.select_dtypes(include=[np.number])\n",
    "df = df.select_dtypes(include=[np.number])\n",
    "df = df.dropna(axis='columns', how='any')"
   ]
  },
  {
   "cell_type": "code",
   "execution_count": 79,
   "metadata": {
    "ExecuteTime": {
     "end_time": "2022-01-20T00:15:00.524320Z",
     "start_time": "2022-01-20T00:15:00.401154Z"
    },
    "id": "FTxwvBe8hVA4",
    "outputId": "9afa5a16-6280-4f28-cd74-e8fd76bf623a"
   },
   "outputs": [
    {
     "data": {
      "text/plain": [
       "Id               0\n",
       "MSSubClass       0\n",
       "LotArea          0\n",
       "OverallQual      0\n",
       "OverallCond      0\n",
       "YearBuilt        0\n",
       "YearRemodAdd     0\n",
       "BsmtFinSF1       0\n",
       "BsmtFinSF2       0\n",
       "BsmtUnfSF        0\n",
       "TotalBsmtSF      0\n",
       "1stFlrSF         0\n",
       "2ndFlrSF         0\n",
       "LowQualFinSF     0\n",
       "GrLivArea        0\n",
       "BsmtFullBath     0\n",
       "BsmtHalfBath     0\n",
       "FullBath         0\n",
       "HalfBath         0\n",
       "BedroomAbvGr     0\n",
       "KitchenAbvGr     0\n",
       "TotRmsAbvGrd     0\n",
       "Fireplaces       0\n",
       "GarageCars       0\n",
       "GarageArea       0\n",
       "WoodDeckSF       0\n",
       "OpenPorchSF      0\n",
       "EnclosedPorch    0\n",
       "3SsnPorch        0\n",
       "ScreenPorch      0\n",
       "PoolArea         0\n",
       "MiscVal          0\n",
       "MoSold           0\n",
       "YrSold           0\n",
       "SalePrice        0\n",
       "dtype: int64"
      ]
     },
     "execution_count": 79,
     "metadata": {},
     "output_type": "execute_result"
    }
   ],
   "source": [
    "# Verificando novamente a ocorrência de valores nulos\n",
    "df.isnull().sum()"
   ]
  },
  {
   "cell_type": "markdown",
   "metadata": {
    "id": "BVcp63RjhVA6"
   },
   "source": [
    "Observação: a coluna \"Id\" traz apenas um número de identificação arbitrário que não deve ser correlacionado com o target. Portanto, vamos desconsiderar esta coluna de nosso modelo!"
   ]
  },
  {
   "cell_type": "code",
   "execution_count": 80,
   "metadata": {
    "ExecuteTime": {
     "end_time": "2022-01-20T00:15:00.665242Z",
     "start_time": "2022-01-20T00:15:00.527333Z"
    },
    "id": "spoqb9jfhVA6"
   },
   "outputs": [],
   "source": [
    "# Criando o X e o y\n",
    "X = df.drop(columns=['Id', 'SalePrice'])\n",
    "y = df['SalePrice']"
   ]
  },
  {
   "cell_type": "code",
   "execution_count": 81,
   "metadata": {
    "ExecuteTime": {
     "end_time": "2022-01-20T00:15:00.777177Z",
     "start_time": "2022-01-20T00:15:00.672237Z"
    },
    "id": "DBpl4dJ-hVA6",
    "outputId": "eadcca6b-3d0e-43be-e940-2788ef64f453"
   },
   "outputs": [
    {
     "data": {
      "text/plain": [
       "Index(['MSSubClass', 'LotArea', 'OverallQual', 'OverallCond', 'YearBuilt',\n",
       "       'YearRemodAdd', 'BsmtFinSF1', 'BsmtFinSF2', 'BsmtUnfSF', 'TotalBsmtSF',\n",
       "       '1stFlrSF', '2ndFlrSF', 'LowQualFinSF', 'GrLivArea', 'BsmtFullBath',\n",
       "       'BsmtHalfBath', 'FullBath', 'HalfBath', 'BedroomAbvGr', 'KitchenAbvGr',\n",
       "       'TotRmsAbvGrd', 'Fireplaces', 'GarageCars', 'GarageArea', 'WoodDeckSF',\n",
       "       'OpenPorchSF', 'EnclosedPorch', '3SsnPorch', 'ScreenPorch', 'PoolArea',\n",
       "       'MiscVal', 'MoSold', 'YrSold'],\n",
       "      dtype='object')"
      ]
     },
     "execution_count": 81,
     "metadata": {},
     "output_type": "execute_result"
    }
   ],
   "source": [
    "# Nomes das features\n",
    "X.columns"
   ]
  },
  {
   "cell_type": "code",
   "execution_count": 82,
   "metadata": {
    "ExecuteTime": {
     "end_time": "2022-01-20T00:15:00.915097Z",
     "start_time": "2022-01-20T00:15:00.783176Z"
    },
    "id": "jvU-4XzFhVA6",
    "outputId": "33c8ed2f-ff91-45cd-82a7-e37854b60ea4"
   },
   "outputs": [
    {
     "data": {
      "text/plain": [
       "(1458, 33)"
      ]
     },
     "execution_count": 82,
     "metadata": {},
     "output_type": "execute_result"
    }
   ],
   "source": [
    "# Shape de X\n",
    "X.shape"
   ]
  },
  {
   "cell_type": "code",
   "execution_count": 83,
   "metadata": {
    "ExecuteTime": {
     "end_time": "2022-01-20T00:15:02.126513Z",
     "start_time": "2022-01-20T00:15:00.918095Z"
    },
    "id": "Vj4jBjFzhVA7",
    "outputId": "c12a2b5c-a73c-47f7-e4a7-8e7a196c268d"
   },
   "outputs": [
    {
     "name": "stdout",
     "output_type": "stream",
     "text": [
      "Intercepto: -355999.7470669203\n",
      "Coeficientes angulares: [-1.12585601e+02  4.90238272e-01  1.46756366e+04  5.05565957e+03\n",
      "  3.94922596e+02  1.34368773e+02  2.59168796e+01 -2.65571175e+00\n",
      "  6.39940711e-01  2.39011085e+01  2.40115938e+01  2.48670585e+01\n",
      " -3.00610178e+00  4.58725506e+01 -6.09458509e+02 -3.72881778e+03\n",
      " -1.21068789e+03 -1.90728034e+03 -1.51336961e+04 -1.42179718e+04\n",
      "  5.49321316e+03  6.06298683e+02  1.34345675e+03  2.08353538e+01\n",
      "  1.00323546e+01  1.91281980e+01  1.18709828e+00  1.40666977e+01\n",
      "  2.01493675e+01  5.40145044e+01 -1.96142385e+00 -3.90326342e+02\n",
      " -3.75378807e+02]\n",
      "\n",
      "####################################################\n",
      "\n"
     ]
    },
    {
     "data": {
      "image/png": "[encoded data removed]",
      "text/plain": [
       "<Figure size 432x288 with 1 Axes>"
      ]
     },
     "metadata": {
      "needs_background": "light"
     },
     "output_type": "display_data"
    },
    {
     "data": {
      "image/png": "[encoded data removed]",
      "text/plain": [
       "<Figure size 432x288 with 1 Axes>"
      ]
     },
     "metadata": {
      "needs_background": "light"
     },
     "output_type": "display_data"
    },
    {
     "name": "stdout",
     "output_type": "stream",
     "text": [
      "\n",
      "####################################################\n",
      "\n",
      "\n",
      "Métricas de avaliação (dados de teste):\n",
      "\n",
      "R^2: 0.8563506695017962\n",
      "MAE: 20734.9041541059\n",
      "MSE: 793479736.8905079\n",
      "RMSE: 28168.772371022987\n"
     ]
    }
   ],
   "source": [
    "# Etapas da modelagem\n",
    "\n",
    "# 1)\n",
    "from sklearn.linear_model import LinearRegression\n",
    "\n",
    "# 2)\n",
    "estimador = LinearRegression()\n",
    "\n",
    "# 3)\n",
    "from sklearn.model_selection import train_test_split\n",
    "\n",
    "X_treino, X_teste, y_treino, y_teste = train_test_split(X, y, test_size=0.2, random_state=42)\n",
    "\n",
    "# 4)\n",
    "modelo = estimador.fit(X_treino,y_treino)\n",
    "\n",
    "print(\"Intercepto:\", modelo.intercept_ )\n",
    "print(\"Coeficientes angulares:\",modelo.coef_ )\n",
    "\n",
    "print(\"\\n####################################################\\n\")\n",
    "\n",
    "# 5)\n",
    "predictions = modelo.predict(X_teste)\n",
    "\n",
    "\n",
    "plt.title(\"valor predito vs valor real\")\n",
    "sns.scatterplot(x=predictions, y=y_teste)\n",
    "plt.plot(np.linspace(0, 500000, 1000), np.linspace(0, 500000, 1000), color=\"red\")\n",
    "plt.show()\n",
    "\n",
    "plt.title(\"Distribuição dos resíduos\")\n",
    "sns.histplot(y_teste-predictions, kde=True)\n",
    "plt.show()\n",
    "\n",
    "print(\"\\n####################################################\\n\")\n",
    "\n",
    "print(\"\\nMétricas de avaliação (dados de teste):\\n\")\n",
    "\n",
    "# 6)\n",
    "from sklearn import metrics\n",
    "\n",
    "print('R^2:', metrics.r2_score(y_teste, predictions))\n",
    "print('MAE:', metrics.mean_absolute_error(y_teste, predictions))\n",
    "print('MSE:', metrics.mean_squared_error(y_teste, predictions))\n",
    "print('RMSE:', np.sqrt(metrics.mean_squared_error(y_teste, predictions)))"
   ]
  },
  {
   "cell_type": "markdown",
   "metadata": {
    "id": "O-xuU_4-hVA7"
   },
   "source": [
    "Também é possível calcularmos as métricas de performance na base de treino, mas temos que tomar muito cuidado ao interpretar estas medidas!\n",
    "\n",
    "Mais adiante falaremos sobre overfitting, e este ponto ficará mais claro."
   ]
  },
  {
   "cell_type": "code",
   "execution_count": 84,
   "metadata": {
    "ExecuteTime": {
     "end_time": "2022-01-20T00:15:03.399387Z",
     "start_time": "2022-01-20T00:15:02.155043Z"
    },
    "id": "urcGmSAchVA7",
    "outputId": "96537958-1bf7-48b2-9df5-55671f7593f3"
   },
   "outputs": [
    {
     "name": "stdout",
     "output_type": "stream",
     "text": [
      "\n",
      "Performance de TREINO\n",
      "\n"
     ]
    },
    {
     "data": {
      "image/png": "[encoded data removed]",
      "text/plain": [
       "<Figure size 432x288 with 1 Axes>"
      ]
     },
     "metadata": {
      "needs_background": "light"
     },
     "output_type": "display_data"
    },
    {
     "data": {
      "image/png": "[encoded data removed]",
      "text/plain": [
       "<Figure size 432x288 with 1 Axes>"
      ]
     },
     "metadata": {
      "needs_background": "light"
     },
     "output_type": "display_data"
    },
    {
     "name": "stdout",
     "output_type": "stream",
     "text": [
      "\n",
      "####################################################\n",
      "\n",
      "\n",
      "Métricas de avaliação (dados de treino):\n",
      "\n",
      "R^2: 0.8616841881921397\n",
      "MAE: 20508.039034549645\n",
      "MSE: 900886802.9866575\n",
      "RMSE: 30014.776410739054\n"
     ]
    }
   ],
   "source": [
    "print(\"\\nPerformance de TREINO\\n\")\n",
    "\n",
    "predictions = modelo.predict(X_treino)\n",
    "\n",
    "plt.title(\"valor predito vs valor real\")\n",
    "sns.scatterplot(x=predictions, y=y_treino)\n",
    "plt.plot(np.linspace(0, 500000, 1000), np.linspace(0, 500000, 1000), color=\"red\")\n",
    "plt.show()\n",
    "\n",
    "plt.title(\"Distribuição dos resíduos\")\n",
    "sns.histplot(y_treino-predictions, kde=True)\n",
    "plt.show()\n",
    "\n",
    "print(\"\\n####################################################\\n\")\n",
    "\n",
    "print(\"\\nMétricas de avaliação (dados de treino):\\n\")\n",
    "\n",
    "# 6)\n",
    "from sklearn import metrics\n",
    "\n",
    "print('R^2:', metrics.r2_score(y_treino, predictions))\n",
    "print('MAE:', metrics.mean_absolute_error(y_treino, predictions))\n",
    "print('MSE:', metrics.mean_squared_error(y_treino, predictions))\n",
    "print('RMSE:', np.sqrt(metrics.mean_squared_error(y_treino, predictions)))"
   ]
  },
  {
   "cell_type": "markdown",
   "metadata": {
    "id": "NyAKtV2PhVA8"
   },
   "source": [
    "Vamos olhar para os parâmetros do modelo:"
   ]
  },
  {
   "cell_type": "code",
   "execution_count": 85,
   "metadata": {
    "ExecuteTime": {
     "end_time": "2022-01-20T00:15:03.455345Z",
     "start_time": "2022-01-20T00:15:03.419363Z"
    },
    "id": "4UaVn4DkhVA8",
    "outputId": "fb0f7661-39b3-40f5-bee4-15735a747e76"
   },
   "outputs": [
    {
     "data": {
      "text/plain": [
       "array([-1.12585601e+02,  4.90238272e-01,  1.46756366e+04,  5.05565957e+03,\n",
       "        3.94922596e+02,  1.34368773e+02,  2.59168796e+01, -2.65571175e+00,\n",
       "        6.39940711e-01,  2.39011085e+01,  2.40115938e+01,  2.48670585e+01,\n",
       "       -3.00610178e+00,  4.58725506e+01, -6.09458509e+02, -3.72881778e+03,\n",
       "       -1.21068789e+03, -1.90728034e+03, -1.51336961e+04, -1.42179718e+04,\n",
       "        5.49321316e+03,  6.06298683e+02,  1.34345675e+03,  2.08353538e+01,\n",
       "        1.00323546e+01,  1.91281980e+01,  1.18709828e+00,  1.40666977e+01,\n",
       "        2.01493675e+01,  5.40145044e+01, -1.96142385e+00, -3.90326342e+02,\n",
       "       -3.75378807e+02])"
      ]
     },
     "execution_count": 85,
     "metadata": {},
     "output_type": "execute_result"
    }
   ],
   "source": [
    "#Coeficientes angulares\n",
    "modelo.coef_"
   ]
  },
  {
   "cell_type": "code",
   "execution_count": 86,
   "metadata": {
    "ExecuteTime": {
     "end_time": "2022-01-20T00:15:03.555286Z",
     "start_time": "2022-01-20T00:15:03.460340Z"
    },
    "id": "Mu1ebfBhhVA8",
    "outputId": "be7b68b0-765e-41b4-eba8-fa9fb89d7b88"
   },
   "outputs": [
    {
     "data": {
      "text/plain": [
       "-355999.7470669203"
      ]
     },
     "execution_count": 86,
     "metadata": {},
     "output_type": "execute_result"
    }
   ],
   "source": [
    "#Coeficiente linear\n",
    "modelo.intercept_"
   ]
  },
  {
   "cell_type": "code",
   "execution_count": 87,
   "metadata": {
    "ExecuteTime": {
     "end_time": "2022-01-20T00:15:03.666221Z",
     "start_time": "2022-01-20T00:15:03.563282Z"
    },
    "id": "pVmiwTJWhVA9",
    "outputId": "e8a7897f-e099-4bec-da58-5c083e3ae89b"
   },
   "outputs": [
    {
     "data": {
      "text/html": [
       "<div>\n",
       "<style scoped>\n",
       "    .dataframe tbody tr th:only-of-type {\n",
       "        vertical-align: middle;\n",
       "    }\n",
       "\n",
       "    .dataframe tbody tr th {\n",
       "        vertical-align: top;\n",
       "    }\n",
       "\n",
       "    .dataframe thead th {\n",
       "        text-align: right;\n",
       "    }\n",
       "</style>\n",
       "<table border=\"1\" class=\"dataframe\">\n",
       "  <thead>\n",
       "    <tr style=\"text-align: right;\">\n",
       "      <th></th>\n",
       "      <th>Parameter value</th>\n",
       "    </tr>\n",
       "  </thead>\n",
       "  <tbody>\n",
       "    <tr>\n",
       "      <th>MSSubClass</th>\n",
       "      <td>-112.585601</td>\n",
       "    </tr>\n",
       "    <tr>\n",
       "      <th>LotArea</th>\n",
       "      <td>0.490238</td>\n",
       "    </tr>\n",
       "    <tr>\n",
       "      <th>OverallQual</th>\n",
       "      <td>14675.636583</td>\n",
       "    </tr>\n",
       "    <tr>\n",
       "      <th>OverallCond</th>\n",
       "      <td>5055.659575</td>\n",
       "    </tr>\n",
       "    <tr>\n",
       "      <th>YearBuilt</th>\n",
       "      <td>394.922596</td>\n",
       "    </tr>\n",
       "    <tr>\n",
       "      <th>YearRemodAdd</th>\n",
       "      <td>134.368773</td>\n",
       "    </tr>\n",
       "    <tr>\n",
       "      <th>BsmtFinSF1</th>\n",
       "      <td>25.916880</td>\n",
       "    </tr>\n",
       "    <tr>\n",
       "      <th>BsmtFinSF2</th>\n",
       "      <td>-2.655712</td>\n",
       "    </tr>\n",
       "    <tr>\n",
       "      <th>BsmtUnfSF</th>\n",
       "      <td>0.639941</td>\n",
       "    </tr>\n",
       "    <tr>\n",
       "      <th>TotalBsmtSF</th>\n",
       "      <td>23.901109</td>\n",
       "    </tr>\n",
       "    <tr>\n",
       "      <th>1stFlrSF</th>\n",
       "      <td>24.011594</td>\n",
       "    </tr>\n",
       "    <tr>\n",
       "      <th>2ndFlrSF</th>\n",
       "      <td>24.867059</td>\n",
       "    </tr>\n",
       "    <tr>\n",
       "      <th>LowQualFinSF</th>\n",
       "      <td>-3.006102</td>\n",
       "    </tr>\n",
       "    <tr>\n",
       "      <th>GrLivArea</th>\n",
       "      <td>45.872551</td>\n",
       "    </tr>\n",
       "    <tr>\n",
       "      <th>BsmtFullBath</th>\n",
       "      <td>-609.458509</td>\n",
       "    </tr>\n",
       "    <tr>\n",
       "      <th>BsmtHalfBath</th>\n",
       "      <td>-3728.817785</td>\n",
       "    </tr>\n",
       "    <tr>\n",
       "      <th>FullBath</th>\n",
       "      <td>-1210.687888</td>\n",
       "    </tr>\n",
       "    <tr>\n",
       "      <th>HalfBath</th>\n",
       "      <td>-1907.280343</td>\n",
       "    </tr>\n",
       "    <tr>\n",
       "      <th>BedroomAbvGr</th>\n",
       "      <td>-15133.696141</td>\n",
       "    </tr>\n",
       "    <tr>\n",
       "      <th>KitchenAbvGr</th>\n",
       "      <td>-14217.971799</td>\n",
       "    </tr>\n",
       "    <tr>\n",
       "      <th>TotRmsAbvGrd</th>\n",
       "      <td>5493.213158</td>\n",
       "    </tr>\n",
       "    <tr>\n",
       "      <th>Fireplaces</th>\n",
       "      <td>606.298683</td>\n",
       "    </tr>\n",
       "    <tr>\n",
       "      <th>GarageCars</th>\n",
       "      <td>1343.456753</td>\n",
       "    </tr>\n",
       "    <tr>\n",
       "      <th>GarageArea</th>\n",
       "      <td>20.835354</td>\n",
       "    </tr>\n",
       "    <tr>\n",
       "      <th>WoodDeckSF</th>\n",
       "      <td>10.032355</td>\n",
       "    </tr>\n",
       "    <tr>\n",
       "      <th>OpenPorchSF</th>\n",
       "      <td>19.128198</td>\n",
       "    </tr>\n",
       "    <tr>\n",
       "      <th>EnclosedPorch</th>\n",
       "      <td>1.187098</td>\n",
       "    </tr>\n",
       "    <tr>\n",
       "      <th>3SsnPorch</th>\n",
       "      <td>14.066698</td>\n",
       "    </tr>\n",
       "    <tr>\n",
       "      <th>ScreenPorch</th>\n",
       "      <td>20.149367</td>\n",
       "    </tr>\n",
       "    <tr>\n",
       "      <th>PoolArea</th>\n",
       "      <td>54.014504</td>\n",
       "    </tr>\n",
       "    <tr>\n",
       "      <th>MiscVal</th>\n",
       "      <td>-1.961424</td>\n",
       "    </tr>\n",
       "    <tr>\n",
       "      <th>MoSold</th>\n",
       "      <td>-390.326342</td>\n",
       "    </tr>\n",
       "    <tr>\n",
       "      <th>YrSold</th>\n",
       "      <td>-375.378807</td>\n",
       "    </tr>\n",
       "  </tbody>\n",
       "</table>\n",
       "</div>"
      ],
      "text/plain": [
       "               Parameter value\n",
       "MSSubClass         -112.585601\n",
       "LotArea               0.490238\n",
       "OverallQual       14675.636583\n",
       "OverallCond        5055.659575\n",
       "YearBuilt           394.922596\n",
       "YearRemodAdd        134.368773\n",
       "BsmtFinSF1           25.916880\n",
       "BsmtFinSF2           -2.655712\n",
       "BsmtUnfSF             0.639941\n",
       "TotalBsmtSF          23.901109\n",
       "1stFlrSF             24.011594\n",
       "2ndFlrSF             24.867059\n",
       "LowQualFinSF         -3.006102\n",
       "GrLivArea            45.872551\n",
       "BsmtFullBath       -609.458509\n",
       "BsmtHalfBath      -3728.817785\n",
       "FullBath          -1210.687888\n",
       "HalfBath          -1907.280343\n",
       "BedroomAbvGr     -15133.696141\n",
       "KitchenAbvGr     -14217.971799\n",
       "TotRmsAbvGrd       5493.213158\n",
       "Fireplaces          606.298683\n",
       "GarageCars         1343.456753\n",
       "GarageArea           20.835354\n",
       "WoodDeckSF           10.032355\n",
       "OpenPorchSF          19.128198\n",
       "EnclosedPorch         1.187098\n",
       "3SsnPorch            14.066698\n",
       "ScreenPorch          20.149367\n",
       "PoolArea             54.014504\n",
       "MiscVal              -1.961424\n",
       "MoSold             -390.326342\n",
       "YrSold             -375.378807"
      ]
     },
     "execution_count": 87,
     "metadata": {},
     "output_type": "execute_result"
    }
   ],
   "source": [
    "# dica: use o código abaixo para fazer um dataframe com os coeficientes\n",
    "coeff_df = pd.DataFrame(modelo.coef_, X.columns, columns=['Parameter value'])\n",
    "coeff_df"
   ]
  },
  {
   "cell_type": "markdown",
   "metadata": {
    "id": "L34EuLgPhVA9"
   },
   "source": [
    "É possível interpretar os parâmetros e atribuir uma \"importância\" de cada feature ao valor do respectivo parâmetro. Mas, como discutimos, essa análise é afetada pela escala das features! Veja:"
   ]
  },
  {
   "cell_type": "code",
   "execution_count": 88,
   "metadata": {
    "ExecuteTime": {
     "end_time": "2022-01-20T00:15:04.803576Z",
     "start_time": "2022-01-20T00:15:03.671220Z"
    },
    "id": "w6R6vjVfhVA9",
    "outputId": "4c10c859-af27-49af-8abb-5151d6d5256e"
   },
   "outputs": [
    {
     "data": {
      "text/plain": [
       "<AxesSubplot:xlabel='LotArea', ylabel='Count'>"
      ]
     },
     "execution_count": 88,
     "metadata": {},
     "output_type": "execute_result"
    },
    {
     "data": {
      "image/png": "[encoded data removed]",
      "text/plain": [
       "<Figure size 432x288 with 1 Axes>"
      ]
     },
     "metadata": {
      "needs_background": "light"
     },
     "output_type": "display_data"
    }
   ],
   "source": [
    "#Distribuição da feature 'LotArea' \n",
    "sns.histplot(data=df, x='LotArea')"
   ]
  },
  {
   "cell_type": "code",
   "execution_count": 89,
   "metadata": {
    "ExecuteTime": {
     "end_time": "2022-01-20T00:15:05.231330Z",
     "start_time": "2022-01-20T00:15:04.813572Z"
    },
    "id": "afy-RV3FhVA-",
    "outputId": "f46167ad-8143-4379-8c8f-417830b2a970"
   },
   "outputs": [
    {
     "data": {
      "text/plain": [
       "<AxesSubplot:xlabel='OverallQual', ylabel='Count'>"
      ]
     },
     "execution_count": 89,
     "metadata": {},
     "output_type": "execute_result"
    },
    {
     "data": {
      "image/png": "[encoded data removed]",
      "text/plain": [
       "<Figure size 432x288 with 1 Axes>"
      ]
     },
     "metadata": {
      "needs_background": "light"
     },
     "output_type": "display_data"
    }
   ],
   "source": [
    "#Distribuição da feature 'OverallQual' \n",
    "sns.histplot(data=df, x='OverallQual')"
   ]
  },
  {
   "cell_type": "code",
   "execution_count": 90,
   "metadata": {
    "ExecuteTime": {
     "end_time": "2022-01-20T00:15:05.261310Z",
     "start_time": "2022-01-20T00:15:05.235327Z"
    },
    "id": "xOMXJHRIhVA_",
    "outputId": "f9d65823-756a-43ea-fc96-5922d5e140de"
   },
   "outputs": [
    {
     "data": {
      "text/plain": [
       "count      1458.000000\n",
       "mean      10459.936900\n",
       "std        9859.198156\n",
       "min        1300.000000\n",
       "25%        7544.500000\n",
       "50%        9475.000000\n",
       "75%       11600.000000\n",
       "max      215245.000000\n",
       "Name: LotArea, dtype: float64"
      ]
     },
     "execution_count": 90,
     "metadata": {},
     "output_type": "execute_result"
    }
   ],
   "source": [
    "# Estatísticas descritivas da feature 'LotArea'\n",
    "df['LotArea'].describe()"
   ]
  },
  {
   "cell_type": "code",
   "execution_count": 91,
   "metadata": {
    "ExecuteTime": {
     "end_time": "2022-01-20T00:15:05.385244Z",
     "start_time": "2022-01-20T00:15:05.265309Z"
    },
    "id": "oaaG-C1uhVA_",
    "outputId": "148cf66e-426a-4b63-81ea-7a550b9a8551"
   },
   "outputs": [
    {
     "data": {
      "text/plain": [
       "count    1458.000000\n",
       "mean        6.093964\n",
       "std         1.376369\n",
       "min         1.000000\n",
       "25%         5.000000\n",
       "50%         6.000000\n",
       "75%         7.000000\n",
       "max        10.000000\n",
       "Name: OverallQual, dtype: float64"
      ]
     },
     "execution_count": 91,
     "metadata": {},
     "output_type": "execute_result"
    }
   ],
   "source": [
    "# Estatísticas descritivas da feature 'OverallQual'\n",
    "df['OverallQual'].describe()"
   ]
  },
  {
   "cell_type": "markdown",
   "metadata": {
    "id": "IsnrUaoKhVBA"
   },
   "source": [
    "Uma forma de eliminarmos o efeito da escala, é **escalando os dados** (um pré-processamento).\n",
    "\n",
    "Isso pode ser visto como uma terceira passada no ciclo."
   ]
  },
  {
   "cell_type": "markdown",
   "metadata": {},
   "source": [
    "### Min-Max Scaler:\n",
    "\n",
    "$$feature_{scaled} = \\frac{feature-feature_{min}}{feature_{max}-feature_{min}}$$"
   ]
  },
  {
   "cell_type": "code",
   "execution_count": 92,
   "metadata": {},
   "outputs": [
    {
     "data": {
      "text/plain": [
       "(1300, 215245)"
      ]
     },
     "execution_count": 92,
     "metadata": {},
     "output_type": "execute_result"
    }
   ],
   "source": [
    "# Valores de min e max da feature 'LotArea'\n",
    "df['LotArea'].min(), df['LotArea'].max()"
   ]
  },
  {
   "cell_type": "code",
   "execution_count": 93,
   "metadata": {
    "ExecuteTime": {
     "end_time": "2022-01-20T00:15:05.478187Z",
     "start_time": "2022-01-20T00:15:05.390238Z"
    },
    "id": "YYkQgRlWhVBA",
    "outputId": "8c94d30c-2f78-4e8c-80fb-eea1ce826dc1",
    "scrolled": true
   },
   "outputs": [
    {
     "data": {
      "text/plain": [
       "count    1458.000000\n",
       "mean        0.042814\n",
       "std         0.046083\n",
       "min         0.000000\n",
       "25%         0.029187\n",
       "50%         0.038211\n",
       "75%         0.048143\n",
       "max         1.000000\n",
       "Name: LotArea, dtype: float64"
      ]
     },
     "execution_count": 93,
     "metadata": {},
     "output_type": "execute_result"
    }
   ],
   "source": [
    "#Describe da feature 'LotArea' após o scaler\n",
    "((df['LotArea'] - df['LotArea'].min())/(df['LotArea'].max() - df['LotArea'].min())).describe()"
   ]
  },
  {
   "cell_type": "markdown",
   "metadata": {},
   "source": [
    "Aplicando o Min-Max Sacaler para todas as features no dataframe:"
   ]
  },
  {
   "cell_type": "code",
   "execution_count": 94,
   "metadata": {},
   "outputs": [],
   "source": [
    "from sklearn.preprocessing import MinMaxScaler \n",
    "\n",
    "#1) Instanciar o scaler\n",
    "mms = MinMaxScaler()\n",
    "\n",
    "#2) Treinar o scaler com os dados de treino\n",
    "mms.fit(X_treino)\n",
    "\n",
    "#3) Transformando os dados\n",
    "X_treino_scaled = mms.transform(X_treino)\n",
    "X_teste_scaled = mms.transform(X_teste)\n"
   ]
  },
  {
   "cell_type": "markdown",
   "metadata": {},
   "source": [
    "Avaliando um modelo com os dados escalados:"
   ]
  },
  {
   "cell_type": "code",
   "execution_count": 95,
   "metadata": {
    "ExecuteTime": {
     "end_time": "2022-01-20T00:15:06.133821Z",
     "start_time": "2022-01-20T00:15:05.484186Z"
    },
    "id": "u20f7fTOhVBC",
    "outputId": "18b8d976-392f-4d6c-f366-f3b756cc5c0e",
    "scrolled": true
   },
   "outputs": [
    {
     "name": "stdout",
     "output_type": "stream",
     "text": [
      "Intercepto: 1838790118491475.2\n",
      "Coeficientes angulares: [-1.92105012e+04  1.05117072e+05  1.32093338e+05  4.03963091e+04\n",
      "  5.44983943e+04  8.08679751e+03  3.26666737e+16  1.68260243e+16\n",
      "  3.48763024e+16 -4.77757568e+16 -7.95694633e+16 -5.75318423e+16\n",
      " -1.59361810e+16  1.12500523e+17 -1.80632800e+03 -7.42874560e+03\n",
      " -3.63637186e+03 -3.79938140e+03 -1.21065470e+05 -2.84053969e+04\n",
      "  6.04388447e+04  1.80148506e+03  5.31714877e+03  2.89958448e+04\n",
      "  8.58892212e+03  1.04586224e+04  6.67478386e+02  7.14429931e+03\n",
      "  9.68846410e+03  3.98746390e+04 -3.03287255e+04 -4.29751635e+03\n",
      " -1.50462478e+03]\n",
      "\n",
      "####################################################\n",
      "\n"
     ]
    },
    {
     "data": {
      "image/png": "[encoded data removed]",
      "text/plain": [
       "<Figure size 432x288 with 1 Axes>"
      ]
     },
     "metadata": {
      "needs_background": "light"
     },
     "output_type": "display_data"
    },
    {
     "data": {
      "image/png": "[encoded data removed]",
      "text/plain": [
       "<Figure size 432x288 with 1 Axes>"
      ]
     },
     "metadata": {
      "needs_background": "light"
     },
     "output_type": "display_data"
    },
    {
     "name": "stdout",
     "output_type": "stream",
     "text": [
      "\n",
      "####################################################\n",
      "\n",
      "\n",
      "Métricas de avaliação (dados de teste):\n",
      "\n",
      "R^2: 0.8563610838990403\n",
      "MAE: 20737.255993150684\n",
      "MSE: 793422210.5995291\n",
      "RMSE: 28167.751252088427\n"
     ]
    }
   ],
   "source": [
    "X = df.drop(columns=[\"Id\",\"SalePrice\"])\n",
    "y = df['SalePrice']\n",
    "\n",
    "# 1)\n",
    "from sklearn.linear_model import LinearRegression\n",
    "\n",
    "# 2)\n",
    "estimador = LinearRegression()\n",
    "\n",
    "# 3)\n",
    "from sklearn.model_selection import train_test_split\n",
    "X_treino, X_teste, y_treino, y_teste = train_test_split(X, y, test_size=0.2, random_state=42)\n",
    "\n",
    "# NOVO: aplicando o scaler!! - usamos o minmax pra que todas as features\n",
    "# tenham o mesmo intervalo no espaço amostral - (0, 1)\n",
    "from sklearn.preprocessing import MinMaxScaler\n",
    "\n",
    "mms = MinMaxScaler()\n",
    "\n",
    "# agora, vamos FITAR o scaler COM OS DADOS DE TREINO\n",
    "mms.fit(X_treino)\n",
    "\n",
    "# transformando os dados\n",
    "X_treino = mms.transform(X_treino)\n",
    "X_teste = mms.transform(X_teste)\n",
    "\n",
    "#X_treino = mms.fit_transform(X_treino)\n",
    "#X_teste = mms.transform(X_teste)\n",
    "\n",
    "\n",
    "# 4)\n",
    "modelo = estimador.fit(X_treino, y_treino)\n",
    "\n",
    "print(\"Intercepto:\", modelo.intercept_)\n",
    "print(\"Coeficientes angulares:\", modelo.coef_)\n",
    "\n",
    "print(\"\\n####################################################\\n\")\n",
    "\n",
    "# 5)\n",
    "predictions = modelo.predict(X_teste)\n",
    "\n",
    "plt.title(\"valor predito vs valor real\")\n",
    "sns.scatterplot(x=predictions, y=y_teste)\n",
    "plt.plot(np.linspace(0, 500000, 1000), np.linspace(0, 500000, 1000), color=\"red\")\n",
    "plt.show()\n",
    "\n",
    "plt.title(\"Distribuição dos resíduos\")\n",
    "sns.histplot(y_teste-predictions, kde=True)\n",
    "plt.show()\n",
    "\n",
    "print(\"\\n####################################################\\n\")\n",
    "\n",
    "print(\"\\nMétricas de avaliação (dados de teste):\\n\")\n",
    "\n",
    "# 6)\n",
    "from sklearn import metrics\n",
    "\n",
    "print('R^2:', metrics.r2_score(y_teste, predictions))\n",
    "print('MAE:', metrics.mean_absolute_error(y_teste, predictions))\n",
    "print('MSE:', metrics.mean_squared_error(y_teste, predictions))\n",
    "print('RMSE:', np.sqrt(metrics.mean_squared_error(y_teste, predictions)))"
   ]
  },
  {
   "cell_type": "code",
   "execution_count": 96,
   "metadata": {
    "ExecuteTime": {
     "end_time": "2022-01-20T00:15:06.165794Z",
     "start_time": "2022-01-20T00:15:06.138809Z"
    },
    "id": "Kq8xnLtAhVBF",
    "outputId": "df30f33e-938d-4155-a204-6871aae42686",
    "scrolled": false
   },
   "outputs": [
    {
     "data": {
      "text/html": [
       "<div>\n",
       "<style scoped>\n",
       "    .dataframe tbody tr th:only-of-type {\n",
       "        vertical-align: middle;\n",
       "    }\n",
       "\n",
       "    .dataframe tbody tr th {\n",
       "        vertical-align: top;\n",
       "    }\n",
       "\n",
       "    .dataframe thead th {\n",
       "        text-align: right;\n",
       "    }\n",
       "</style>\n",
       "<table border=\"1\" class=\"dataframe\">\n",
       "  <thead>\n",
       "    <tr style=\"text-align: right;\">\n",
       "      <th></th>\n",
       "      <th>Parameter value</th>\n",
       "    </tr>\n",
       "  </thead>\n",
       "  <tbody>\n",
       "    <tr>\n",
       "      <th>GrLivArea</th>\n",
       "      <td>1.125005e+17</td>\n",
       "    </tr>\n",
       "    <tr>\n",
       "      <th>1stFlrSF</th>\n",
       "      <td>7.956946e+16</td>\n",
       "    </tr>\n",
       "    <tr>\n",
       "      <th>2ndFlrSF</th>\n",
       "      <td>5.753184e+16</td>\n",
       "    </tr>\n",
       "    <tr>\n",
       "      <th>TotalBsmtSF</th>\n",
       "      <td>4.777576e+16</td>\n",
       "    </tr>\n",
       "    <tr>\n",
       "      <th>BsmtUnfSF</th>\n",
       "      <td>3.487630e+16</td>\n",
       "    </tr>\n",
       "    <tr>\n",
       "      <th>BsmtFinSF1</th>\n",
       "      <td>3.266667e+16</td>\n",
       "    </tr>\n",
       "    <tr>\n",
       "      <th>BsmtFinSF2</th>\n",
       "      <td>1.682602e+16</td>\n",
       "    </tr>\n",
       "    <tr>\n",
       "      <th>LowQualFinSF</th>\n",
       "      <td>1.593618e+16</td>\n",
       "    </tr>\n",
       "    <tr>\n",
       "      <th>OverallQual</th>\n",
       "      <td>1.320933e+05</td>\n",
       "    </tr>\n",
       "    <tr>\n",
       "      <th>BedroomAbvGr</th>\n",
       "      <td>1.210655e+05</td>\n",
       "    </tr>\n",
       "    <tr>\n",
       "      <th>LotArea</th>\n",
       "      <td>1.051171e+05</td>\n",
       "    </tr>\n",
       "    <tr>\n",
       "      <th>TotRmsAbvGrd</th>\n",
       "      <td>6.043884e+04</td>\n",
       "    </tr>\n",
       "    <tr>\n",
       "      <th>YearBuilt</th>\n",
       "      <td>5.449839e+04</td>\n",
       "    </tr>\n",
       "    <tr>\n",
       "      <th>OverallCond</th>\n",
       "      <td>4.039631e+04</td>\n",
       "    </tr>\n",
       "    <tr>\n",
       "      <th>PoolArea</th>\n",
       "      <td>3.987464e+04</td>\n",
       "    </tr>\n",
       "    <tr>\n",
       "      <th>MiscVal</th>\n",
       "      <td>3.032873e+04</td>\n",
       "    </tr>\n",
       "    <tr>\n",
       "      <th>GarageArea</th>\n",
       "      <td>2.899584e+04</td>\n",
       "    </tr>\n",
       "    <tr>\n",
       "      <th>KitchenAbvGr</th>\n",
       "      <td>2.840540e+04</td>\n",
       "    </tr>\n",
       "    <tr>\n",
       "      <th>MSSubClass</th>\n",
       "      <td>1.921050e+04</td>\n",
       "    </tr>\n",
       "    <tr>\n",
       "      <th>OpenPorchSF</th>\n",
       "      <td>1.045862e+04</td>\n",
       "    </tr>\n",
       "    <tr>\n",
       "      <th>ScreenPorch</th>\n",
       "      <td>9.688464e+03</td>\n",
       "    </tr>\n",
       "    <tr>\n",
       "      <th>WoodDeckSF</th>\n",
       "      <td>8.588922e+03</td>\n",
       "    </tr>\n",
       "    <tr>\n",
       "      <th>YearRemodAdd</th>\n",
       "      <td>8.086798e+03</td>\n",
       "    </tr>\n",
       "    <tr>\n",
       "      <th>BsmtHalfBath</th>\n",
       "      <td>7.428746e+03</td>\n",
       "    </tr>\n",
       "    <tr>\n",
       "      <th>3SsnPorch</th>\n",
       "      <td>7.144299e+03</td>\n",
       "    </tr>\n",
       "    <tr>\n",
       "      <th>GarageCars</th>\n",
       "      <td>5.317149e+03</td>\n",
       "    </tr>\n",
       "    <tr>\n",
       "      <th>MoSold</th>\n",
       "      <td>4.297516e+03</td>\n",
       "    </tr>\n",
       "    <tr>\n",
       "      <th>HalfBath</th>\n",
       "      <td>3.799381e+03</td>\n",
       "    </tr>\n",
       "    <tr>\n",
       "      <th>FullBath</th>\n",
       "      <td>3.636372e+03</td>\n",
       "    </tr>\n",
       "    <tr>\n",
       "      <th>BsmtFullBath</th>\n",
       "      <td>1.806328e+03</td>\n",
       "    </tr>\n",
       "    <tr>\n",
       "      <th>Fireplaces</th>\n",
       "      <td>1.801485e+03</td>\n",
       "    </tr>\n",
       "    <tr>\n",
       "      <th>YrSold</th>\n",
       "      <td>1.504625e+03</td>\n",
       "    </tr>\n",
       "    <tr>\n",
       "      <th>EnclosedPorch</th>\n",
       "      <td>6.674784e+02</td>\n",
       "    </tr>\n",
       "  </tbody>\n",
       "</table>\n",
       "</div>"
      ],
      "text/plain": [
       "               Parameter value\n",
       "GrLivArea         1.125005e+17\n",
       "1stFlrSF          7.956946e+16\n",
       "2ndFlrSF          5.753184e+16\n",
       "TotalBsmtSF       4.777576e+16\n",
       "BsmtUnfSF         3.487630e+16\n",
       "BsmtFinSF1        3.266667e+16\n",
       "BsmtFinSF2        1.682602e+16\n",
       "LowQualFinSF      1.593618e+16\n",
       "OverallQual       1.320933e+05\n",
       "BedroomAbvGr      1.210655e+05\n",
       "LotArea           1.051171e+05\n",
       "TotRmsAbvGrd      6.043884e+04\n",
       "YearBuilt         5.449839e+04\n",
       "OverallCond       4.039631e+04\n",
       "PoolArea          3.987464e+04\n",
       "MiscVal           3.032873e+04\n",
       "GarageArea        2.899584e+04\n",
       "KitchenAbvGr      2.840540e+04\n",
       "MSSubClass        1.921050e+04\n",
       "OpenPorchSF       1.045862e+04\n",
       "ScreenPorch       9.688464e+03\n",
       "WoodDeckSF        8.588922e+03\n",
       "YearRemodAdd      8.086798e+03\n",
       "BsmtHalfBath      7.428746e+03\n",
       "3SsnPorch         7.144299e+03\n",
       "GarageCars        5.317149e+03\n",
       "MoSold            4.297516e+03\n",
       "HalfBath          3.799381e+03\n",
       "FullBath          3.636372e+03\n",
       "BsmtFullBath      1.806328e+03\n",
       "Fireplaces        1.801485e+03\n",
       "YrSold            1.504625e+03\n",
       "EnclosedPorch     6.674784e+02"
      ]
     },
     "execution_count": 96,
     "metadata": {},
     "output_type": "execute_result"
    }
   ],
   "source": [
    "# Avaliando os coeficientes agora que todas as features estão na mesma escala\n",
    "coeff_df = pd.DataFrame(modelo.coef_, X.columns, columns=['Parameter value'])\n",
    "\n",
    "coeff_df.abs().sort_values(by='Parameter value',ascending=False)"
   ]
  },
  {
   "cell_type": "code",
   "execution_count": 97,
   "metadata": {
    "scrolled": true
   },
   "outputs": [],
   "source": [
    "# Analisando os valores absolutos dos coeficientes\n"
   ]
  },
  {
   "cell_type": "markdown",
   "metadata": {},
   "source": [
    "Se fizermos um modelo apenas com features que possuem coeficientes maiores que um determinado valor. Podemos obter um modelo melhor?\n",
    "\n",
    "(Coeficientes maiores que 10000, por exemplo)"
   ]
  },
  {
   "cell_type": "code",
   "execution_count": 98,
   "metadata": {
    "ExecuteTime": {
     "end_time": "2022-01-20T00:15:07.033298Z",
     "start_time": "2022-01-20T00:15:06.295719Z"
    },
    "id": "X3WBNM8khVBG",
    "outputId": "5c2768af-7783-422d-8d0e-bf2fee018a43"
   },
   "outputs": [
    {
     "name": "stdout",
     "output_type": "stream",
     "text": [
      "Intercepto: -66887.8079563386\n",
      "Coeficientes angulares: [ -18387.05104198  106982.46822486  134684.62898979   46909.4805288\n",
      "   60460.08010525   62628.58224077    9833.45671751   66332.4073645\n",
      "   75180.04089135   51888.49607426  183127.5624497  -128116.55191156\n",
      "  -31879.5539901    63858.73615025   33534.4074005    10517.33593507\n",
      "   42626.41069522  -29265.87771366]\n",
      "\n",
      "####################################################\n",
      "\n"
     ]
    },
    {
     "data": {
      "image/png": "[encoded data removed]",
      "text/plain": [
       "<Figure size 432x288 with 1 Axes>"
      ]
     },
     "metadata": {
      "needs_background": "light"
     },
     "output_type": "display_data"
    },
    {
     "data": {
      "image/png": "[encoded data removed]",
      "text/plain": [
       "<Figure size 432x288 with 1 Axes>"
      ]
     },
     "metadata": {
      "needs_background": "light"
     },
     "output_type": "display_data"
    },
    {
     "name": "stdout",
     "output_type": "stream",
     "text": [
      "\n",
      "####################################################\n",
      "\n",
      "\n",
      "Métricas de avaliação (dados de teste):\n",
      "\n",
      "R^2: 0.8524045554827806\n",
      "MAE: 20983.24973858032\n",
      "MSE: 815276994.8567574\n",
      "RMSE: 28553.05578842232\n"
     ]
    }
   ],
   "source": [
    "X = df.drop(columns=[\"Id\",\"SalePrice\",'ScreenPorch', 'WoodDeckSF', 'YearRemodAdd','BsmtHalfBath',\n",
    "                     '3SsnPorch', 'LowQualFinSF', 'GarageCars', 'MoSold', 'HalfBath', 'FullBath',\n",
    "                     'BsmtFinSF2','BsmtFullBath', 'Fireplaces', 'YrSold', 'EnclosedPorch'])\n",
    "y = df['SalePrice']\n",
    "\n",
    "# 1)\n",
    "from sklearn.linear_model import LinearRegression\n",
    "\n",
    "# 2)\n",
    "estimador = LinearRegression()\n",
    "\n",
    "# 3)\n",
    "from sklearn.model_selection import train_test_split\n",
    "X_treino, X_teste, y_treino, y_teste = train_test_split(X, y, test_size=0.2, random_state=42)\n",
    "\n",
    "mms = MinMaxScaler()\n",
    "\n",
    "# agora, vamos FITAR o scaler COM OS DADOS DE TREINO\n",
    "mms.fit(X_treino)\n",
    "\n",
    "# transformando os dados\n",
    "X_treino = mms.transform(X_treino)\n",
    "X_teste = mms.transform(X_teste)\n",
    "\n",
    "# 4)\n",
    "modelo = estimador.fit(X_treino, y_treino)\n",
    "\n",
    "print(\"Intercepto:\", modelo.intercept_)\n",
    "print(\"Coeficientes angulares:\", modelo.coef_)\n",
    "\n",
    "print(\"\\n####################################################\\n\")\n",
    "\n",
    "# 5)\n",
    "predictions = modelo.predict(X_teste)\n",
    "\n",
    "plt.title(\"valor predito vs valor real\")\n",
    "sns.scatterplot(x=predictions, y=y_teste)\n",
    "plt.plot(np.linspace(0, 500000, 1000), np.linspace(0, 500000, 1000), color=\"red\")\n",
    "plt.show()\n",
    "\n",
    "plt.title(\"Distribuição dos resíduos\")\n",
    "sns.histplot(y_teste-predictions, kde=True)\n",
    "plt.show()\n",
    "\n",
    "print(\"\\n####################################################\\n\")\n",
    "\n",
    "print(\"\\nMétricas de avaliação (dados de teste):\\n\")\n",
    "\n",
    "# 6)\n",
    "from sklearn import metrics\n",
    "\n",
    "print('R^2:', metrics.r2_score(y_teste, predictions))\n",
    "print('MAE:', metrics.mean_absolute_error(y_teste, predictions))\n",
    "print('MSE:', metrics.mean_squared_error(y_teste, predictions))\n",
    "print('RMSE:', np.sqrt(metrics.mean_squared_error(y_teste, predictions)))"
   ]
  },
  {
   "cell_type": "markdown",
   "metadata": {
    "id": "qqRHo3cthVBH"
   },
   "source": [
    "A performance do modelo melhorou?"
   ]
  },
  {
   "cell_type": "markdown",
   "metadata": {
    "id": "jf_FyZTghVBI"
   },
   "source": [
    "____\n",
    "____\n",
    "____"
   ]
  },
  {
   "cell_type": "markdown",
   "metadata": {
    "id": "CpUrKQR3hVBI"
   },
   "source": [
    "## 4) Overfitting\n",
    "\n",
    "Overfit é um dos conceitos mais importantes em apredizado de maquina.\n",
    "\n",
    "Muitas vezes alguns modelos têm 100% de acerto nos dados de **treino**, mas **na base de teste** a performance cai para menos de 50%.\n",
    "\n",
    "Isso pode acontecer porque o modelo fica **especialista apenas no conjunto de treino**, não conseguindo **generalizar os padrões para além dos dados vistos**.\n",
    "\n",
    "<img src=\"https://miro.medium.com/max/1125/1*_7OPgojau8hkiPUiHoGK_w.png\" width=800>\n",
    "\n",
    "O overfitting está intimamente ligado com o conceito de **viés** (bias) e **variância** (variance):\n",
    "\n",
    ">**Viés**<br>\n",
    "É a diferença entre o que o modelo prediz, e o valor correto a ser predito.<br>\n",
    "Modelos com alto viés são muito simples, de modo a **não conseguir capturar as relações que os dados de treino exibem** (underfit).<br>\n",
    "Isso faz com que ambos os erros de treino e de teste sejam altos.\n",
    "<br><br>\n",
    "Em outras palavras:<br>\n",
    "**Incapacidade de um modelo de capturar a verdadeira relação entre features e target**\n",
    "\n",
    "\n",
    "> **Variância**<br>\n",
    "Variância se refere à variabilidade das predições de um modelo.<br>\n",
    "Modelos com alta variância são muito complexos, por **aprenderem demais as relações  exibidas nos dados de treino** (overfit).<br>\n",
    "Isso faz com que os erros de treino sejam baixos, mas os erros de teste sejam altos.\n",
    "<br><br>\n",
    "Em outras palavras:<br>\n",
    "**Incapacidade de um modelo performar bem em outros datasets diferentes do usado no treinamento**. \n",
    "\n",
    "<img src=\"https://www.learnopencv.com/wp-content/uploads/2017/02/Bias-Variance-Tradeoff-In-Machine-Learning-1.png\" width=500>\n",
    "\n",
    "<img src=\"https://miro.medium.com/max/1494/1*C7ZKM93QVdpeSCGbF5TjIg.png\" width=800>\n",
    "\n",
    "Para demonstrar overfit ser usado o conjuto de teste [anscombe](https://en.wikipedia.org/wiki/Anscombe%27s_quartet)"
   ]
  },
  {
   "cell_type": "code",
   "execution_count": 99,
   "metadata": {
    "ExecuteTime": {
     "end_time": "2022-01-19T23:57:31.011577Z",
     "start_time": "2022-01-19T23:57:30.839675Z"
    },
    "id": "_GE08hnohVBJ",
    "outputId": "a27a0cd0-7199-42e7-9828-0c6d6821dfb3",
    "scrolled": true
   },
   "outputs": [],
   "source": [
    "#Importar os dados do dataset\n"
   ]
  },
  {
   "cell_type": "code",
   "execution_count": 100,
   "metadata": {
    "ExecuteTime": {
     "end_time": "2022-01-19T23:59:01.706238Z",
     "start_time": "2022-01-19T23:59:01.656268Z"
    },
    "id": "CUeCU6dYhVBJ",
    "outputId": "1ccbe0a9-d689-4e57-87a5-027277df853c"
   },
   "outputs": [],
   "source": [
    "# Filtrar apenas os dados do datest III\n"
   ]
  },
  {
   "cell_type": "code",
   "execution_count": 101,
   "metadata": {
    "ExecuteTime": {
     "end_time": "2022-01-19T23:59:04.577883Z",
     "start_time": "2022-01-19T23:59:04.211094Z"
    },
    "id": "llPQ3B9-hVBK",
    "outputId": "f666368c-5795-4eab-b5b4-3632da692f2c"
   },
   "outputs": [],
   "source": [
    "#Scatterplot do dataset III\n"
   ]
  },
  {
   "cell_type": "markdown",
   "metadata": {
    "id": "oTk6hQCYhVBL"
   },
   "source": [
    "Vamos supor que este dado represente valores de medições de um sensor, porém o sensor teve um pequeno problema durante a medição.\n",
    "\n",
    "Podemos perceber facilmente qual é este erro, e qual seria a função de regreesão para este sensor com os dados validos: **regressão linear**."
   ]
  },
  {
   "cell_type": "code",
   "execution_count": 102,
   "metadata": {
    "ExecuteTime": {
     "end_time": "2022-01-20T00:03:08.448378Z",
     "start_time": "2022-01-20T00:03:08.002619Z"
    },
    "id": "LtpbhzHLhVBL",
    "outputId": "eb155dd2-0eac-495a-f531-25920744b0bc"
   },
   "outputs": [],
   "source": [
    "# Plotar a regressão linear com o lmplot\n"
   ]
  },
  {
   "cell_type": "markdown",
   "metadata": {
    "id": "JC3e4t2ahVBM"
   },
   "source": [
    "Perceba que a função linear encontrar já aprensenta um padrão muito similiar aos dados, porém um ponto error faz com que ela não tenha um resultado otimo.\n",
    "\n",
    "Podemos utilizar regressões polinomiais, que possuem ordem maiores que 1, para tentar diminuir o erro da regressão. Por exemplo, podemos considerar um polinômio de grau 6,\n",
    "\n",
    "$$\\hat{y}_{i} = \\beta_{1} + \\beta_{2} x_{i} + \\beta_{3} {x_{i}}^{2} + \\cdots + \\beta_{6} {x_{i}}^{6}$$\n",
    "\n",
    "Para criar modelos polinomiais com o sklearn, [dê uma olhada aqui](https://scikit-learn.org/stable/modules/generated/sklearn.preprocessing.PolynomialFeatures.html). Mas, teremos uma aula sobre isso, logo logo!"
   ]
  },
  {
   "cell_type": "code",
   "execution_count": 103,
   "metadata": {
    "ExecuteTime": {
     "end_time": "2022-01-20T00:07:27.361408Z",
     "start_time": "2022-01-20T00:07:26.510905Z"
    },
    "id": "_Fem5dZwhVBM",
    "outputId": "789733ba-92c2-45b6-caac-2710fc3c8d8c",
    "scrolled": false
   },
   "outputs": [],
   "source": [
    "# pra sumir os warnings\n",
    "\n",
    "\n",
    "\n",
    "# Modelo polinomial de grau 6 utilizando o lmplot\n"
   ]
  },
  {
   "cell_type": "markdown",
   "metadata": {
    "id": "ys5VO2y9hVBN"
   },
   "source": [
    "Ao utilizarmos uma regressão de ordem 6 percebemos que ela se ajusta ao valor com erro, porém ela **se distancia da regressão que realmente representa os dados**. \n",
    "\n",
    "Tentar **aprender o erro faz com ela com ela não aprenda a função real**. \n",
    "\n",
    "Isto acontece pois ela se **super ajustou aos dados de treino, se distanciando dos dados reais**. "
   ]
  },
  {
   "cell_type": "markdown",
   "metadata": {
    "id": "iDAv1wQ9hVBN"
   },
   "source": [
    "__Como garantir que nosso modelo não está sofrendo de overfitting?__\n",
    "\n",
    "Naturalmente, essa é uma pergunta de extrema importância, especialmente no contexto de **redes neurais**. [Veja aqui](https://towardsdatascience.com/8-simple-techniques-to-prevent-overfitting-4d443da2ef7d) e [aqui](https://towardsdatascience.com/dont-overfit-how-to-prevent-overfitting-in-your-deep-learning-models-63274e552323) algumas discussões.\n",
    "\n",
    "Na prática: **jamais se apegue à peformance de treino como forma de avaliar o modelo!** O que queremos otimizar sempre será a performance **avaliada nos dados de teste**, isto é, a **performance de generalização** do modelo. \n",
    "\n",
    "Assim, é **avaliando o modelo nos dados de teste** que garantimos que uma boa performance não é produto do overfitting!"
   ]
  },
  {
   "cell_type": "markdown",
   "metadata": {
    "id": "ELGSLvHthVBO"
   },
   "source": [
    "Mais adiante, discutiremos overfitting e o tradeoff viés/variância em detalhes. Por enquanto, uma boa prática é comparar as métricas de treino com as métricas de teste, conforme fizemos acima. Isso nos permite avaliar, de maneira rápida e simples, se houve underfitting!"
   ]
  },
  {
   "cell_type": "markdown",
   "metadata": {
    "id": "k4AmQwv-hVBO"
   },
   "source": [
    "# Conteúdo extra: PICKLE\n",
    "\n",
    "Como salvar um modelo para utilizar posteriormente."
   ]
  },
  {
   "cell_type": "code",
   "execution_count": 104,
   "metadata": {
    "ExecuteTime": {
     "end_time": "2022-01-20T00:15:12.797841Z",
     "start_time": "2022-01-20T00:15:12.217375Z"
    },
    "id": "MI9ja4YmhVBP",
    "outputId": "f54125ed-c136-42bf-a153-706c640036e7"
   },
   "outputs": [
    {
     "name": "stdout",
     "output_type": "stream",
     "text": [
      "Intercepto: 1838790118491475.2\n",
      "Coeficientes angulares: [-1.92105012e+04  1.05117072e+05  1.32093338e+05  4.03963091e+04\n",
      "  5.44983943e+04  8.08679751e+03  3.26666737e+16  1.68260243e+16\n",
      "  3.48763024e+16 -4.77757568e+16 -7.95694633e+16 -5.75318423e+16\n",
      " -1.59361810e+16  1.12500523e+17 -1.80632800e+03 -7.42874560e+03\n",
      " -3.63637186e+03 -3.79938140e+03 -1.21065470e+05 -2.84053969e+04\n",
      "  6.04388447e+04  1.80148506e+03  5.31714877e+03  2.89958448e+04\n",
      "  8.58892212e+03  1.04586224e+04  6.67478386e+02  7.14429931e+03\n",
      "  9.68846410e+03  3.98746390e+04 -3.03287255e+04 -4.29751635e+03\n",
      " -1.50462478e+03]\n",
      "\n",
      "####################################################\n",
      "\n"
     ]
    },
    {
     "data": {
      "image/png": "[encoded data removed]",
      "text/plain": [
       "<Figure size 432x288 with 1 Axes>"
      ]
     },
     "metadata": {
      "needs_background": "light"
     },
     "output_type": "display_data"
    },
    {
     "data": {
      "image/png": "[encoded data removed]",
      "text/plain": [
       "<Figure size 432x288 with 1 Axes>"
      ]
     },
     "metadata": {
      "needs_background": "light"
     },
     "output_type": "display_data"
    },
    {
     "name": "stdout",
     "output_type": "stream",
     "text": [
      "\n",
      "####################################################\n",
      "\n",
      "\n",
      "Métricas de avaliação (dados de teste):\n",
      "\n",
      "R^2: 0.8563610838990403\n",
      "MAE: 20737.255993150684\n",
      "MSE: 793422210.5995291\n",
      "RMSE: 28167.751252088427\n"
     ]
    }
   ],
   "source": [
    "df = df.select_dtypes(include=[np.number])\n",
    "df = df.dropna(axis=\"columns\", how=\"any\")\n",
    "\n",
    "X = df.drop(columns=[\"Id\",\"SalePrice\"])\n",
    "y = df['SalePrice']\n",
    "\n",
    "# 1)\n",
    "from sklearn.linear_model import LinearRegression\n",
    "\n",
    "# 2)\n",
    "estimador = LinearRegression()\n",
    "\n",
    "# 3)\n",
    "from sklearn.model_selection import train_test_split\n",
    "X_treino, X_teste, y_treino, y_teste = train_test_split(X, y, test_size=0.2, random_state=42)\n",
    "\n",
    "# NOVO: aplicando o scaler!! - usamos o minmax pra que todas as features\n",
    "# tenham o mesmo intervalo no espaço amostral - (0, 1)\n",
    "from sklearn.preprocessing import MinMaxScaler\n",
    "\n",
    "mms = MinMaxScaler()\n",
    "\n",
    "# agora, vamos FITAR o scaler COM OS DADOS DE TREINO\n",
    "mms.fit(X_treino)\n",
    "\n",
    "# transformando os dados\n",
    "X_treino = mms.transform(X_treino)\n",
    "X_teste = mms.transform(X_teste)\n",
    "\n",
    "# 4)\n",
    "modelo = estimador.fit(X_treino, y_treino)\n",
    "\n",
    "print(\"Intercepto:\", modelo.intercept_)\n",
    "print(\"Coeficientes angulares:\", modelo.coef_)\n",
    "\n",
    "print(\"\\n####################################################\\n\")\n",
    "\n",
    "# 5)\n",
    "predictions = modelo.predict(X_teste)\n",
    "\n",
    "plt.title(\"valor predito vs valor real\")\n",
    "sns.scatterplot(x=predictions, y=y_teste)\n",
    "plt.plot(np.linspace(0, 500000, 1000), np.linspace(0, 500000, 1000), color=\"red\")\n",
    "plt.show()\n",
    "\n",
    "plt.title(\"Distribuição dos resíduos\")\n",
    "sns.histplot(y_teste-predictions, kde=True)\n",
    "plt.show()\n",
    "\n",
    "print(\"\\n####################################################\\n\")\n",
    "\n",
    "print(\"\\nMétricas de avaliação (dados de teste):\\n\")\n",
    "\n",
    "# 6)\n",
    "from sklearn import metrics\n",
    "\n",
    "print('R^2:', metrics.r2_score(y_teste, predictions))\n",
    "print('MAE:', metrics.mean_absolute_error(y_teste, predictions))\n",
    "print('MSE:', metrics.mean_squared_error(y_teste, predictions))\n",
    "print('RMSE:', np.sqrt(metrics.mean_squared_error(y_teste, predictions)))"
   ]
  },
  {
   "cell_type": "code",
   "execution_count": 105,
   "metadata": {
    "ExecuteTime": {
     "end_time": "2022-01-20T00:15:30.540969Z",
     "start_time": "2022-01-20T00:15:30.518962Z"
    },
    "id": "q4ZY7mbJhVBQ",
    "outputId": "f4345414-8809-42a4-a514-b35d8cf4a8eb"
   },
   "outputs": [
    {
     "data": {
      "text/plain": [
       "LinearRegression()"
      ]
     },
     "execution_count": 105,
     "metadata": {},
     "output_type": "execute_result"
    }
   ],
   "source": [
    "modelo"
   ]
  },
  {
   "cell_type": "code",
   "execution_count": 106,
   "metadata": {
    "ExecuteTime": {
     "end_time": "2022-01-20T00:20:12.705695Z",
     "start_time": "2022-01-20T00:20:12.690707Z"
    },
    "id": "xNxebuD3hVBQ"
   },
   "outputs": [],
   "source": [
    "import pickle"
   ]
  },
  {
   "cell_type": "code",
   "execution_count": 107,
   "metadata": {
    "ExecuteTime": {
     "end_time": "2022-01-20T00:28:19.144307Z",
     "start_time": "2022-01-20T00:28:19.125301Z"
    },
    "id": "UfmoXmfFhVBR"
   },
   "outputs": [],
   "source": [
    "# f = open(\"regressao_linear_scaler.pkl\", \"wb\")\n",
    "\n",
    "# pickle.dump(modelo, f)\n",
    "\n",
    "# f.close()\n",
    "\n",
    "with open(\"regressao_linear_scaler.pkl\", \"wb\") as f:\n",
    "    \n",
    "    pickle.dump(modelo, f)"
   ]
  },
  {
   "cell_type": "markdown",
   "metadata": {
    "id": "n0Ivuj3BhVBR"
   },
   "source": [
    "Passou-se um tempo, quero recuperar o modelo"
   ]
  },
  {
   "cell_type": "code",
   "execution_count": 108,
   "metadata": {
    "ExecuteTime": {
     "end_time": "2022-01-20T00:28:38.660200Z",
     "start_time": "2022-01-20T00:28:38.634217Z"
    },
    "id": "ORcdnpOMhVBS"
   },
   "outputs": [],
   "source": [
    "with open(\"regressao_linear_scaler.pkl\", \"rb\") as f:\n",
    "    \n",
    "    modelo_lido = pickle.load(f)"
   ]
  },
  {
   "cell_type": "code",
   "execution_count": 109,
   "metadata": {
    "ExecuteTime": {
     "end_time": "2022-01-20T00:29:37.536259Z",
     "start_time": "2022-01-20T00:29:37.515273Z"
    },
    "id": "eP0l36XshVBT",
    "outputId": "4826beb2-6e86-4106-e088-3768c98b5f82"
   },
   "outputs": [
    {
     "data": {
      "text/plain": [
       "LinearRegression()"
      ]
     },
     "execution_count": 109,
     "metadata": {},
     "output_type": "execute_result"
    }
   ],
   "source": [
    "modelo_lido"
   ]
  },
  {
   "cell_type": "markdown",
   "metadata": {
    "id": "NM51l8Z5hVBU"
   },
   "source": [
    "Agora, posso usar esse objeto, como se eu tivesse acabado de treinar ele"
   ]
  },
  {
   "cell_type": "code",
   "execution_count": 110,
   "metadata": {
    "ExecuteTime": {
     "end_time": "2022-01-20T00:29:23.818449Z",
     "start_time": "2022-01-20T00:29:23.249256Z"
    },
    "id": "fEHobZuEhVBU",
    "outputId": "78e6707f-6ead-4c3a-bfce-5f360fffa0e9"
   },
   "outputs": [
    {
     "data": {
      "image/png": "[encoded data removed]",
      "text/plain": [
       "<Figure size 432x288 with 1 Axes>"
      ]
     },
     "metadata": {
      "needs_background": "light"
     },
     "output_type": "display_data"
    },
    {
     "data": {
      "image/png": "[encoded data removed]",
      "text/plain": [
       "<Figure size 432x288 with 1 Axes>"
      ]
     },
     "metadata": {
      "needs_background": "light"
     },
     "output_type": "display_data"
    },
    {
     "name": "stdout",
     "output_type": "stream",
     "text": [
      "\n",
      "####################################################\n",
      "\n",
      "\n",
      "Métricas de avaliação (dados de teste):\n",
      "\n",
      "R^2: 0.8563610838990403\n",
      "MAE: 20737.255993150684\n",
      "MSE: 793422210.5995291\n",
      "RMSE: 28167.751252088427\n"
     ]
    }
   ],
   "source": [
    "# 5)\n",
    "predictions = modelo_lido.predict(X_teste)\n",
    "\n",
    "plt.title(\"valor predito vs valor real\")\n",
    "sns.scatterplot(x=predictions, y=y_teste)\n",
    "plt.plot(np.linspace(0, 500000, 1000), np.linspace(0, 500000, 1000), color=\"red\")\n",
    "plt.show()\n",
    "\n",
    "plt.title(\"Distribuição dos resíduos\")\n",
    "sns.histplot(y_teste-predictions, kde=True)\n",
    "plt.show()\n",
    "\n",
    "print(\"\\n####################################################\\n\")\n",
    "\n",
    "print(\"\\nMétricas de avaliação (dados de teste):\\n\")\n",
    "\n",
    "# 6)\n",
    "from sklearn import metrics\n",
    "\n",
    "print('R^2:', metrics.r2_score(y_teste, predictions))\n",
    "print('MAE:', metrics.mean_absolute_error(y_teste, predictions))\n",
    "print('MSE:', metrics.mean_squared_error(y_teste, predictions))\n",
    "print('RMSE:', np.sqrt(metrics.mean_squared_error(y_teste, predictions)))"
   ]
  },
  {
   "cell_type": "markdown",
   "metadata": {
    "id": "KoqV-BBLhVBV"
   },
   "source": [
    "____\n",
    "___\n",
    "___"
   ]
  }
 ],
 "metadata": {
  "colab": {
   "name": "Aula 3 - regressão linear e outros fundamentos.ipynb",
   "provenance": []
  },
  "kernelspec": {
   "display_name": "Python 3 (ipykernel)",
   "language": "python",
   "name": "python3"
  },
  "language_info": {
   "codemirror_mode": {
    "name": "ipython",
    "version": 3
   },
   "file_extension": ".py",
   "mimetype": "text/x-python",
   "name": "python",
   "nbconvert_exporter": "python",
   "pygments_lexer": "ipython3",
   "version": "3.9.7"
  },
  "toc": {
   "base_numbering": 1,
   "nav_menu": {},
   "number_sections": true,
   "sideBar": true,
   "skip_h1_title": false,
   "title_cell": "Table of Contents",
   "title_sidebar": "Contents",
   "toc_cell": false,
   "toc_position": {},
   "toc_section_display": true,
   "toc_window_display": false
  },
  "varInspector": {
   "cols": {
    "lenName": 16,
    "lenType": 16,
    "lenVar": 40
   },
   "kernels_config": {
    "python": {
     "delete_cmd_postfix": "",
     "delete_cmd_prefix": "del ",
     "library": "var_list.py",
     "varRefreshCmd": "print(var_dic_list())"
    },
    "r": {
     "delete_cmd_postfix": ") ",
     "delete_cmd_prefix": "rm(",
     "library": "var_list.r",
     "varRefreshCmd": "cat(var_dic_list()) "
    }
   },
   "types_to_exclude": [
    "module",
    "function",
    "builtin_function_or_method",
    "instance",
    "_Feature"
   ],
   "window_display": false
  }
 },
 "nbformat": 4,
 "nbformat_minor": 1
}
