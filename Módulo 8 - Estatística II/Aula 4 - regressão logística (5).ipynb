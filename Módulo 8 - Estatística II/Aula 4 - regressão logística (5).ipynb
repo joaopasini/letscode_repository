{
 "cells": [
  {
   "cell_type": "markdown",
   "metadata": {},
   "source": [
    "# Aula 4 - Regressão Logística\n",
    "\n",
    "Na aula de hoje, vamos explorar os seguintes tópicos em Python:\n",
    "\n",
    "- 1) Introdução\n",
    "- 2) Regressão logística\n",
    "- 4) Métricas de performance para problemas de classificação"
   ]
  },
  {
   "cell_type": "markdown",
   "metadata": {},
   "source": [
    "____\n",
    "____\n",
    "____"
   ]
  },
  {
   "cell_type": "markdown",
   "metadata": {},
   "source": [
    "## 1) Introdução\n",
    "\n",
    "**Problemas de classificação** são aqueles em que queremos determinar a que **categoria ou classe** dentro de um **conjunto discreto de classes** uma dada observação pertence, com base em suas features.\n",
    "\n",
    "Para isso, construímos um **classificador**: modelo que tem como input as features (contínuas ou discretas) e como output uma entre as classes (discretas).\n",
    "\n",
    "> Principal diferença entre problemas de regressão e classificação:\n",
    "> - Regressão: valores contínuos;\n",
    "> - Classificação: valores (classes) discretas (binárias ou não).\n",
    "\n",
    "<img src=\"https://i0.wp.com/vinodsblog.com/wp-content/uploads/2018/11/Classification-vs-Regression.png?fit=2048%2C1158&ssl=1\" width=700>\n",
    "\n",
    "<img src=\"https://i.pinimg.com/originals/71/8e/6a/718e6a40e1782bead960e58d3c52663b.png\" width=300>"
   ]
  },
  {
   "cell_type": "markdown",
   "metadata": {},
   "source": [
    "Problemas de classificação são comumente divididos com relação ao **número de classes** a serem preditas (isto é, com relação à estrutura do espaço de target):\n",
    "\n",
    "- Classificação binária: duas classes (0 e 1);\n",
    "- Classificação multiclasse: $n$ classes (0, 1, ..., $n-1$), com $n > 2 \\in \\mathbb{N}$"
   ]
  },
  {
   "cell_type": "markdown",
   "metadata": {},
   "source": [
    "Exemplos de problemas de classificação:\n",
    "- Detecção de e-mails SPAM: um e-mail é SPAM ou não?;\n",
    "    - Features: palavras contidas no corpo do e-mail; remetente; assunto;\n",
    "- Detecção de doenças: que codição médica a pessoa tem?\n",
    "    - Features: sintomas fisiológicos; resultados de exames (medidas de variáveis biológicas);\n",
    "- Detecção do tipo de documento: secreto, confidencial ou não-sensível?\n",
    "    - Features: palavras no corpo do texto; título;\n",
    "- Detecção de fraudes de cartão de crédito: uma operação é fraudulenta ou não?;\n",
    "    - Features: histórico de transações; hora, local e frequência das transações; tipo de compra;\n",
    "- Modelo de risco de crédito: qual é a chance de determinada pessoa não pagar seu empréstimo?\n",
    "    - Features: histórico de pagamento; score de crédito;\n",
    "    \n",
    "    \n",
    "<img src=\"https://developers.google.com/machine-learning/guides/text-classification/images/TextClassificationExample.png\" width=500>\n",
    "\n",
    "\n",
    "\n",
    "Veremos hoje um dos mais simples e importantes classificadores: a **Regressão Logística!**"
   ]
  },
  {
   "cell_type": "markdown",
   "metadata": {},
   "source": [
    "___\n",
    "___\n",
    "___"
   ]
  },
  {
   "cell_type": "markdown",
   "metadata": {},
   "source": [
    "## 2) Regressão Logística\n",
    "\n",
    "A [Regressão Logística](https://scikit-learn.org/stable/modules/generated/sklearn.linear_model.LogisticRegression.html) (também chamado de **logit**), apesar do nome, é um método que aplicaremos a problemas de classificação!\n",
    "\n",
    "O objetivo da regressão logística é: **modelar a probabilidade $P(\\vec{x})$ de dada observação (com features $\\vec{x}$) pertencer à classe 1**, ou seja, queremos modelar:\n",
    "\n",
    "$$ P( y = 1 | \\vec{x}) $$\n",
    "\n",
    "Naturalmente, $0 \\le P(\\vec{x}) \\le 1$. \n",
    "\n",
    "> Lembre-se que: $ P( y = 0 | \\vec{x}) = 1 - P( y = 1 | \\vec{x}) $\n",
    "\n",
    "Uma vez que tivermos uma função que modele a probabilidade acima, podemos tomar a decisão de classificação da seguinte maneira:\n",
    "\n",
    "- $P(\\vec{x}) \\ge 0,5$: x pertence à classe 1\n",
    "- $P(\\vec{x}) < 0.5$: x pertence à classe 0\n",
    "\n",
    "Obs.: este valor de 0.5 (50%) é chamado de \"cutoff\", e pode ser ajustado, embora seja comum fixá-lo em 50%!"
   ]
  },
  {
   "cell_type": "markdown",
   "metadata": {},
   "source": [
    "Poderíamos pensar em utilizar a regressão linear em nossos problemas de classificação, mas isso não é uma boa ideia: acabamos encontrando probabilidades negativas e fit ruim!\n",
    "\n",
    "No exemplo a seguir, temos a probabilidade de não-pagamento (default) de um empréstimo com base em uma feature (balanço). Note probabilidades negativas!\n",
    "\n",
    "<figure>\n",
    "    <img src=\"https://s3-sa-east-1.amazonaws.com/lcpi/70189f79-2886-4e59-893b-1dac9dd64078.png\" height=\"400\" width=\"400\">\n",
    "</figure> \n",
    "\n",
    "Para resolver este problema, podemos adaptar a função de regressão linear para uma função que tem imagem entre 0 e 1. Seria legal se tivéssemos algo como:\n",
    "\n",
    "<figure>\n",
    "    <img src=\"https://s3-sa-east-1.amazonaws.com/lcpi/6d54529a-d295-47a3-8a11-1f426fde7229.png\" height=\"400\" width=\"400\">\n",
    "</figure> "
   ]
  },
  {
   "cell_type": "markdown",
   "metadata": {},
   "source": [
    "Um exemplo de tal função é a **função logística** ou **função sigmoidal**:\n",
    "\n",
    "<img src=\"https://miro.medium.com/max/970/1*Xu7B5y9gp0iL5ooBj7LtWw.png\" width=400>\n",
    "\n",
    "Note que:\n",
    "\n",
    "- $z \\in \\mathbb{R}$\n",
    "- $0 \\le \\phi(z) \\le 1$\n",
    "\n",
    "Para incorporar a ideia da regressão linear na regressão logística, tomamos:\n",
    "\n",
    "- $z = b_0 + b_1x$, que é o modelo de regressão linear (uma variável);\n",
    "\n",
    "E substituímos na função logística:\n",
    "\n",
    "- $\\phi(x) = \\frac{1}{1 + e^{-(b_0 + b_1 x)}}$\n",
    "\n",
    "Com isso, tomamos qualquer output real do modelo linear e transformamos em um valor entre 0 e 1, como queríamos!\n",
    "\n",
    "<img src=\"https://s3-sa-east-1.amazonaws.com/lcpi/e5ecf372-6790-49db-9bad-95bc4b19df27.png\" width=\"500\">"
   ]
  },
  {
   "cell_type": "markdown",
   "metadata": {},
   "source": [
    "No nosso caso, como queremos modelar probabilidades, a função acima é exatamente a **hipótese** do estimador de regressão logística! Isto é,\n",
    "\n",
    "$$f_{H, \\vec{b}}(x) = P(x) = \\frac{1}{1 + e^{-(b_0 + b_1 x)}}$$\n",
    "\n",
    "Ou, para a regressão logística múltipla com $p$ features $\\vec{x} = x_1, \\cdots, x_p$:\n",
    "\n",
    "$$f_{H, \\vec{b}}(\\vec{x}) = P(\\vec{x}) = \\frac{1}{1 + e^{-(b_0 + b_1 x_1 + \\cdots + b_p x_p)}}$$"
   ]
  },
  {
   "cell_type": "markdown",
   "metadata": {},
   "source": [
    "Com um pouco de álgebra, é possível mostrar que: \n",
    "\n",
    "$ b_0 + b_1 x_1 + \\cdots + b_p x_p = \\log \\left ( \\frac{P}{1-P} \\right ) $\n",
    "\n",
    "A quantidade $\\frac{P}{1-P}$ é conhecida como **odds/chance**; e $\\log \\left ( \\frac{P}{1-P} \\right )$ é o [log-odds ou logit](https://en.wikipedia.org/wiki/Logit).\n",
    "\n",
    "Note, portanto, que podemos entender a regressão logística como um modelo em que **o logit é linear com as features**. Portanto, de fato, a regressão logística é **um modelo linear**."
   ]
  },
  {
   "cell_type": "code",
   "execution_count": 1,
   "metadata": {
    "ExecuteTime": {
     "end_time": "2022-01-28T22:11:21.211553Z",
     "start_time": "2022-01-28T22:11:07.001902Z"
    }
   },
   "outputs": [],
   "source": [
    "# imports\n",
    "\n",
    "import numpy as np\n",
    "import pandas as pd\n",
    "\n",
    "import matplotlib.pyplot as plt\n",
    "import seaborn as sns"
   ]
  },
  {
   "cell_type": "markdown",
   "metadata": {},
   "source": [
    "Na regressão logística, nosso conjunto de hipóteses é: $\\mathcal{H} = \\left \\{ \\frac{1}{1 + e^{-(b_0 + b_1 x_1 + \\cdots + b_p x_p)}} \\right \\}$.\n",
    "\n",
    "O objetivo do algoritmo de aprendizagem será, como sempre, determinar qual é o vetor de parâmetros $\\vec{b}$ que produz uma função $ $ que **melhor se ajusta aos dados**.\n",
    "\n",
    "Para ilustrar este ponto novamente, vamos produzir a seguir algumas das infinitas funções de $\\mathcal{H}$:"
   ]
  },
  {
   "cell_type": "code",
   "execution_count": 2,
   "metadata": {
    "ExecuteTime": {
     "end_time": "2022-01-28T22:11:21.322009Z",
     "start_time": "2022-01-28T22:11:21.231497Z"
    }
   },
   "outputs": [],
   "source": [
    "#Função sigmoide\n",
    "def sigmoid(x):\n",
    "    \n",
    "    return 1/(1 + np.exp(-x))"
   ]
  },
  {
   "cell_type": "code",
   "execution_count": 3,
   "metadata": {
    "ExecuteTime": {
     "end_time": "2022-01-28T22:11:21.477519Z",
     "start_time": "2022-01-28T22:11:21.324991Z"
    }
   },
   "outputs": [],
   "source": [
    "#Hipótese linear\n",
    "def hipot_lin(x, b0, b1):\n",
    "    \n",
    "    return b0 + b1*x"
   ]
  },
  {
   "cell_type": "code",
   "execution_count": 4,
   "metadata": {
    "ExecuteTime": {
     "end_time": "2022-01-28T22:11:22.446434Z",
     "start_time": "2022-01-28T22:11:21.482519Z"
    }
   },
   "outputs": [
    {
     "data": {
      "image/png": "[encoded data removed]",
      "text/plain": [
       "<Figure size 432x288 with 1 Axes>"
      ]
     },
     "metadata": {
      "needs_background": "light"
     },
     "output_type": "display_data"
    }
   ],
   "source": [
    "x = np.linspace(-10, 10, 1000)\n",
    "\n",
    "b0 = 1\n",
    "b1_list = [-0.1, -0.5, 0.5, 0.1]\n",
    "\n",
    "for b1 in b1_list:\n",
    "    \n",
    "    y = sigmoid(hipot_lin(x, b0, b1))\n",
    "\n",
    "    plt.plot(x, y, label=f\"b0={b0} | b1={b1}\")\n",
    "    plt.legend()\n",
    "\n",
    "plt.show()"
   ]
  },
  {
   "cell_type": "code",
   "execution_count": 5,
   "metadata": {
    "ExecuteTime": {
     "end_time": "2022-01-28T22:11:22.942151Z",
     "start_time": "2022-01-28T22:11:22.466425Z"
    }
   },
   "outputs": [
    {
     "data": {
      "image/png": "[encoded data removed]",
      "text/plain": [
       "<Figure size 432x288 with 1 Axes>"
      ]
     },
     "metadata": {
      "needs_background": "light"
     },
     "output_type": "display_data"
    }
   ],
   "source": [
    "x = np.linspace(-10, 10, 1000)\n",
    "\n",
    "b0 = 1\n",
    "b1_list = [-2, -0.5, 0.5, 2]\n",
    "\n",
    "for b1 in b1_list:\n",
    "    \n",
    "    y = sigmoid(hipot_lin(x, b0, b1))\n",
    "\n",
    "    plt.plot(x, y, label=f\"b0={b0} | b1={b1}\")\n",
    "    plt.legend()\n",
    "\n",
    "plt.show()"
   ]
  },
  {
   "cell_type": "code",
   "execution_count": 6,
   "metadata": {
    "ExecuteTime": {
     "end_time": "2022-01-28T22:11:23.271961Z",
     "start_time": "2022-01-28T22:11:22.947148Z"
    },
    "scrolled": true
   },
   "outputs": [
    {
     "data": {
      "image/png": "[encoded data removed]",
      "text/plain": [
       "<Figure size 432x288 with 1 Axes>"
      ]
     },
     "metadata": {
      "needs_background": "light"
     },
     "output_type": "display_data"
    }
   ],
   "source": [
    "x = np.linspace(-10, 10, 1000)\n",
    "\n",
    "b1 = 1\n",
    "b0_list = [-2, -0.5, 0.5, 2]\n",
    "\n",
    "for b0 in b0_list:\n",
    "    \n",
    "    y = sigmoid(hipot_lin(x, b0, b1))\n",
    "\n",
    "    plt.plot(x, y, label=f\"b0={b0} | b1={b1}\")\n",
    "    plt.legend()\n",
    "\n",
    "plt.show()"
   ]
  },
  {
   "cell_type": "markdown",
   "metadata": {},
   "source": [
    "### Exemplo de um problema de classificação:\n",
    "\n",
    "Dada a pontuação de um time no campeonato brasileiro, queremos prever se esse time será rebaixado ou não. Para esta tarefa, temos dados históricos com a pontuação de outros times (vetor X) e a condição deles ao final do campeonato, rebaixado ou não (vetor y). Podemos perceber pelo plot da feature (X) com o target (y) que uma função logística parece se ajustar bem a esse conjunto de dados.\n",
    "\n",
    "* Feature (X): Pontuação no campeonato\n",
    "* Target (y) : Rebaixado - 0, Não rebaixado - 1"
   ]
  },
  {
   "cell_type": "markdown",
   "metadata": {},
   "source": [
    "Plotando os dados:"
   ]
  },
  {
   "cell_type": "code",
   "execution_count": 7,
   "metadata": {},
   "outputs": [
    {
     "data": {
      "image/png": "[encoded data removed]",
      "text/plain": [
       "<Figure size 432x288 with 1 Axes>"
      ]
     },
     "metadata": {
      "needs_background": "light"
     },
     "output_type": "display_data"
    }
   ],
   "source": [
    "X = [15,70,26,68,59,37,18,21,67]\n",
    "y=[0,1,0,1,1,0,0,0,1]\n",
    "\n",
    "plt.plot(X,y,'o');\n",
    "plt.grid()"
   ]
  },
  {
   "cell_type": "markdown",
   "metadata": {},
   "source": [
    "Avaliando possibilidades:"
   ]
  },
  {
   "cell_type": "code",
   "execution_count": 8,
   "metadata": {
    "scrolled": true
   },
   "outputs": [
    {
     "data": {
      "image/png": "[encoded data removed]",
      "text/plain": [
       "<Figure size 432x288 with 1 Axes>"
      ]
     },
     "metadata": {
      "needs_background": "light"
     },
     "output_type": "display_data"
    }
   ],
   "source": [
    "x = np.linspace(-30, 100, 1000)\n",
    "\n",
    "b1 = 1\n",
    "b0_list = [-80, -48, -0.5]\n",
    "\n",
    "for b0 in b0_list:\n",
    "    \n",
    "    y = sigmoid(hipot_lin(x, b0, b1))\n",
    "\n",
    "    plt.plot(x, y, label=f\"b0={b0} | b1={b1}\")\n",
    "    plt.legend()\n",
    "\n",
    "X = [15,70,26,68,59,37,18,21,67]\n",
    "y=[0,1,0,1,1,0,0,0,1]\n",
    "plt.plot(X,y,'o');\n",
    "plt.grid()\n",
    "plt.show()"
   ]
  },
  {
   "cell_type": "markdown",
   "metadata": {},
   "source": [
    "Utilizando o modelo escolhido:"
   ]
  },
  {
   "cell_type": "code",
   "execution_count": 9,
   "metadata": {
    "scrolled": true
   },
   "outputs": [
    {
     "name": "stdout",
     "output_type": "stream",
     "text": [
      "y  predito:0.12\n"
     ]
    },
    {
     "data": {
      "image/png": "[encoded data removed]",
      "text/plain": [
       "<Figure size 432x288 with 1 Axes>"
      ]
     },
     "metadata": {
      "needs_background": "light"
     },
     "output_type": "display_data"
    }
   ],
   "source": [
    "# X de teste e y predito\n",
    "X_test = 46\n",
    "b0 = -48\n",
    "b1 = 1\n",
    "y_predict = sigmoid(hipot_lin(X_test, b0, b1))\n",
    "\n",
    "#X e Y de treino\n",
    "x = np.linspace(-30, 100, 1000)\n",
    "y = sigmoid(hipot_lin(x, b0, b1))\n",
    "\n",
    "\n",
    "#Plotando o resultado\n",
    "print(f'y  predito:{y_predict:.2f}')\n",
    "plt.plot(x, y)\n",
    "plt.plot(X_test,y_predict,'o')\n",
    "plt.grid()\n",
    "plt.show()"
   ]
  },
  {
   "cell_type": "markdown",
   "metadata": {},
   "source": [
    "O que é esse valor de y? De acordo com nosso modelo, o time seria rebaixado?"
   ]
  },
  {
   "cell_type": "markdown",
   "metadata": {},
   "source": [
    "___\n",
    "\n",
    "### Função de perda e algoritmo de aprendizagem\n",
    "\n",
    "A função de perda para a regressão logística é a famosa [binary cross-entropy](https://towardsdatascience.com/understanding-binary-cross-entropy-log-loss-a-visual-explanation-a3ac6025181a), também conhecida como [log loss](https://developers.google.com/machine-learning/crash-course/logistic-regression/model-training)\n",
    "\n",
    "Esta função será de enorme importância no estudo de **redes neurais**.\n",
    "\n",
    "As principais implementações do algoritmo de aprendizagem da regressão logística se baseia no [método de máxima verossimilhança](https://pt.wikipedia.org/wiki/M%C3%A1xima_verossimilhan%C3%A7a). \n",
    "\n",
    "Para maiores detalhes sobre o algoritmo de aprendizagem, veja [este vídeo](https://youtu.be/yIYKR4sgzI8) e [esta série de vídeos](https://youtu.be/vN5cNN2-HWE), do ótimo canal StatQuest!\n",
    "\n",
    "\n",
    "_________"
   ]
  },
  {
   "cell_type": "markdown",
   "metadata": {},
   "source": [
    "__________________\n",
    "\n",
    "Para introduzirmos as ideias, utilizaremos um dataset de marketing (propagandas/advertising), que está disponível no <a href=\"https://www.kaggle.com/fayomi/advertising\">Kaggle</a>. Este é um dataset artificial e didático, com os dados bem separáveis, o que é ótimo para ilustração!<br>\n",
    "\n",
    "Visite o Kaggle e procure por \"advertising\" para datasets relacionados reais e ainda mais interessantes\n",
    "\n",
    "A base que utilizaremos contém as seguintes colunas:\n",
    "\n",
    "* 'Daily Time Spent on Site': tempo que o cliente ficou no site (em minutos);\n",
    "* 'Age': idade do cliente (em anos);\n",
    "* 'Area Income': média salarial (por ano) da região geográfica do cliente;\n",
    "* 'Daily Internet Usage': tempo médio (em minutos) que o cliente fica na internet;\n",
    "* 'Ad Topic Line': título do anúncio;\n",
    "* 'City': cidade do cliente;\n",
    "* 'Male': dummy indicando se o cliente é do sexo masculino (1) ou não (0);\n",
    "* 'Country': país do cliente;\n",
    "* 'Timestamp': marcação de tempo em que o cliente clickou no anúncio OU fechou a página\n",
    "* 'Clicked on Ad': dummy indicando se o cliente clickou no anúncio (1) ou não (0).\n",
    "\n",
    "Nosso objetivo é criar um modelo que possa prever se um determinado usuário clicará em um anúncio online ou não, com base em suas características pessoais/comportamentais, bem como informações relativas ao anúncio.\n",
    "\n",
    "Tomamos como variáveis independentes (preditores/features) as primeiras 9 colunas, enquanto nossa variável dependente (target) é a última coluna (\"Clicked on Ad\").\n",
    "\n",
    "Ou seja, nosso modelo deve ser capaz de dizer se um usuário com um conjunto particular das 9 features clicará no anúncio ou não. \n",
    "\n",
    "__IMPORTANTE!__\n",
    "\n",
    "Pense no problema de negócio que estamos querendo resolver com nosso modelo -- direcionamento de marketing! Temos os dados dos nossos clientes (customer-centric), nós os conhecemos! Não podemos utilizar essa informação a nosso favor?\n",
    "\n",
    "Talvez não faça sentido exibir o anúncio para um usuário que tem baixa probabilidade de clicar no ad, não é mesmo? \n",
    "\n",
    "Por outro lado, é muito mais eficiente direcionar nosso marketing aos clientes com alta chance de clicar no nosso anúncio!\n",
    "\n",
    "Assim, economizamos dinheiro (todo anúncio é pago!), e ganhamos em eficiência e alcance!"
   ]
  },
  {
   "cell_type": "markdown",
   "metadata": {},
   "source": [
    "___\n",
    "___\n",
    "___"
   ]
  },
  {
   "cell_type": "markdown",
   "metadata": {},
   "source": [
    "O código abaixo é apenas para formatar os números em até 3 casas decimais. \n",
    "\n",
    "Fica aqui pra conhecimento e também pq vai nos auxiliar a ver melhor as probabilidades no final."
   ]
  },
  {
   "cell_type": "code",
   "execution_count": 10,
   "metadata": {
    "ExecuteTime": {
     "end_time": "2022-01-28T22:11:23.288954Z",
     "start_time": "2022-01-28T22:11:23.276960Z"
    }
   },
   "outputs": [],
   "source": [
    "pd.set_option(\"display.float_format\", lambda x: \"%.3f\" % x)\n",
    "# pd.set_option(\"display.float_format\", lambda x: f\"{x}:.3f\")\n",
    "\n",
    "np.set_printoptions(suppress=True, precision=3)"
   ]
  },
  {
   "cell_type": "markdown",
   "metadata": {
    "ExecuteTime": {
     "end_time": "2020-02-14T01:37:58.731197Z",
     "start_time": "2020-02-14T01:37:58.711810Z"
    }
   },
   "source": [
    "Alguma observação notável?"
   ]
  },
  {
   "cell_type": "code",
   "execution_count": 11,
   "metadata": {
    "ExecuteTime": {
     "end_time": "2022-01-28T22:11:23.807664Z",
     "start_time": "2022-01-28T22:11:23.292950Z"
    }
   },
   "outputs": [],
   "source": [
    "#Leitura da base de dados\n",
    "df = pd.read_csv(\"advertising.csv\")"
   ]
  },
  {
   "cell_type": "markdown",
   "metadata": {},
   "source": [
    "Verificando o dataframe"
   ]
  },
  {
   "cell_type": "code",
   "execution_count": null,
   "metadata": {
    "ExecuteTime": {
     "end_time": "2022-01-28T22:11:24.058407Z",
     "start_time": "2022-01-28T22:11:23.810640Z"
    }
   },
   "outputs": [],
   "source": [
    "df"
   ]
  },
  {
   "cell_type": "code",
   "execution_count": null,
   "metadata": {
    "ExecuteTime": {
     "end_time": "2022-01-28T22:11:24.292739Z",
     "start_time": "2022-01-28T22:11:24.061406Z"
    }
   },
   "outputs": [],
   "source": [
    "df.info()"
   ]
  },
  {
   "cell_type": "code",
   "execution_count": null,
   "metadata": {
    "ExecuteTime": {
     "end_time": "2022-01-28T22:11:24.527978Z",
     "start_time": "2022-01-28T22:11:24.295737Z"
    }
   },
   "outputs": [],
   "source": [
    "df.describe()"
   ]
  },
  {
   "cell_type": "code",
   "execution_count": null,
   "metadata": {
    "ExecuteTime": {
     "end_time": "2022-01-28T22:11:24.995739Z",
     "start_time": "2022-01-28T22:11:24.530971Z"
    }
   },
   "outputs": [],
   "source": [
    "#Histograma do target\n",
    "sns.histplot(df, x=\"Clicked on Ad\");"
   ]
  },
  {
   "cell_type": "markdown",
   "metadata": {},
   "source": [
    "Temos um dataset balanceado no target, o que é __bem raro na vida real!__\n",
    "\n",
    "Um dataset desbalanceado pode causar sérios problemas de performance ao modelo! Há várias técnicas para lidar com tal problema, mas, neste primeiro exemplo, não nos preocuparemos com isso..."
   ]
  },
  {
   "cell_type": "code",
   "execution_count": null,
   "metadata": {
    "ExecuteTime": {
     "end_time": "2022-01-28T22:11:25.276578Z",
     "start_time": "2022-01-28T22:11:25.155650Z"
    }
   },
   "outputs": [],
   "source": [
    "# façam EDA em casa - analisem a base a fundo!!!"
   ]
  },
  {
   "cell_type": "markdown",
   "metadata": {},
   "source": [
    "Analisando as distribuições das features"
   ]
  },
  {
   "cell_type": "code",
   "execution_count": null,
   "metadata": {
    "ExecuteTime": {
     "end_time": "2022-01-28T22:11:25.371526Z",
     "start_time": "2022-01-28T22:11:25.279577Z"
    }
   },
   "outputs": [],
   "source": [
    "#Selecionando apenas colunas que contenham números\n",
    "df.select_dtypes(include=np.number)"
   ]
  },
  {
   "cell_type": "code",
   "execution_count": null,
   "metadata": {
    "ExecuteTime": {
     "end_time": "2022-01-28T22:11:25.530433Z",
     "start_time": "2022-01-28T22:11:25.374524Z"
    }
   },
   "outputs": [],
   "source": [
    "#Excluindo a coluna target\n",
    "df.select_dtypes(include=np.number).columns[:-1]"
   ]
  },
  {
   "cell_type": "code",
   "execution_count": null,
   "metadata": {
    "ExecuteTime": {
     "end_time": "2022-01-28T22:11:27.592739Z",
     "start_time": "2022-01-28T22:11:25.535432Z"
    }
   },
   "outputs": [],
   "source": [
    "#Histograma de cada feature\n",
    "for col in df.select_dtypes(include=np.number).columns[:-1]:\n",
    "    \n",
    "    sns.histplot(data=df, x=col)\n",
    "    \n",
    "    plt.show()"
   ]
  },
  {
   "cell_type": "markdown",
   "metadata": {},
   "source": [
    "Análise de cada feature dividida por target"
   ]
  },
  {
   "cell_type": "code",
   "execution_count": null,
   "metadata": {
    "ExecuteTime": {
     "end_time": "2022-01-28T22:11:29.435706Z",
     "start_time": "2022-01-28T22:11:27.596738Z"
    }
   },
   "outputs": [],
   "source": [
    "#Histograma dividido pelo target\n",
    "\n",
    "for col in df.select_dtypes(include=np.number).columns[:-1]:\n",
    "    \n",
    "    sns.histplot(data=df, x=col, hue=\"Clicked on Ad\")\n",
    "    \n",
    "    plt.show()"
   ]
  },
  {
   "cell_type": "code",
   "execution_count": null,
   "metadata": {
    "ExecuteTime": {
     "end_time": "2022-01-28T22:11:41.594837Z",
     "start_time": "2022-01-28T22:11:29.439683Z"
    }
   },
   "outputs": [],
   "source": [
    "#pairplot\n",
    "sns.pairplot(df, hue=\"Clicked on Ad\")"
   ]
  },
  {
   "cell_type": "markdown",
   "metadata": {},
   "source": [
    "Como tínhamos comentado no início, nossos dados são muito bem separáveis!\n",
    "\n",
    "Isto favorece bastante a performance do nosso modelo. Mas, lembre-se, é bem raro encontrar casos assim na vida real! (É aí que devemos partir para métodos mais avançados, como SVM, árvores, etc.)"
   ]
  },
  {
   "cell_type": "markdown",
   "metadata": {},
   "source": [
    "Vamos começar a construir o modelo?"
   ]
  },
  {
   "cell_type": "code",
   "execution_count": 12,
   "metadata": {
    "ExecuteTime": {
     "end_time": "2022-01-28T22:11:41.610824Z",
     "start_time": "2022-01-28T22:11:41.599830Z"
    }
   },
   "outputs": [],
   "source": [
    "# modelo baseline - utilizaremos todas as features numericos\n",
    "\n",
    "df_model = df.select_dtypes(include=np.number)"
   ]
  },
  {
   "cell_type": "code",
   "execution_count": 13,
   "metadata": {
    "ExecuteTime": {
     "end_time": "2022-01-28T22:11:41.735754Z",
     "start_time": "2022-01-28T22:11:41.624817Z"
    }
   },
   "outputs": [
    {
     "data": {
      "text/plain": [
       "Daily Time Spent on Site    0\n",
       "Age                         0\n",
       "Area Income                 0\n",
       "Daily Internet Usage        0\n",
       "Male                        0\n",
       "Clicked on Ad               0\n",
       "dtype: int64"
      ]
     },
     "execution_count": 13,
     "metadata": {},
     "output_type": "execute_result"
    }
   ],
   "source": [
    "# tbm nao temos dados nulos, então não precisamos nos preocupar com isso\n",
    "# ja podemos treinar o modelo!\n",
    "\n",
    "df_model.isnull().sum()"
   ]
  },
  {
   "cell_type": "code",
   "execution_count": 14,
   "metadata": {
    "ExecuteTime": {
     "end_time": "2022-01-28T22:11:41.845690Z",
     "start_time": "2022-01-28T22:11:41.741749Z"
    }
   },
   "outputs": [
    {
     "data": {
      "text/html": [
       "<div>\n",
       "<style scoped>\n",
       "    .dataframe tbody tr th:only-of-type {\n",
       "        vertical-align: middle;\n",
       "    }\n",
       "\n",
       "    .dataframe tbody tr th {\n",
       "        vertical-align: top;\n",
       "    }\n",
       "\n",
       "    .dataframe thead th {\n",
       "        text-align: right;\n",
       "    }\n",
       "</style>\n",
       "<table border=\"1\" class=\"dataframe\">\n",
       "  <thead>\n",
       "    <tr style=\"text-align: right;\">\n",
       "      <th></th>\n",
       "      <th>Daily Time Spent on Site</th>\n",
       "      <th>Age</th>\n",
       "      <th>Area Income</th>\n",
       "      <th>Daily Internet Usage</th>\n",
       "      <th>Male</th>\n",
       "      <th>Clicked on Ad</th>\n",
       "    </tr>\n",
       "  </thead>\n",
       "  <tbody>\n",
       "    <tr>\n",
       "      <th>0</th>\n",
       "      <td>68.950</td>\n",
       "      <td>35</td>\n",
       "      <td>61833.900</td>\n",
       "      <td>256.090</td>\n",
       "      <td>0</td>\n",
       "      <td>0</td>\n",
       "    </tr>\n",
       "    <tr>\n",
       "      <th>1</th>\n",
       "      <td>80.230</td>\n",
       "      <td>31</td>\n",
       "      <td>68441.850</td>\n",
       "      <td>193.770</td>\n",
       "      <td>1</td>\n",
       "      <td>0</td>\n",
       "    </tr>\n",
       "    <tr>\n",
       "      <th>2</th>\n",
       "      <td>69.470</td>\n",
       "      <td>26</td>\n",
       "      <td>59785.940</td>\n",
       "      <td>236.500</td>\n",
       "      <td>0</td>\n",
       "      <td>0</td>\n",
       "    </tr>\n",
       "    <tr>\n",
       "      <th>3</th>\n",
       "      <td>74.150</td>\n",
       "      <td>29</td>\n",
       "      <td>54806.180</td>\n",
       "      <td>245.890</td>\n",
       "      <td>1</td>\n",
       "      <td>0</td>\n",
       "    </tr>\n",
       "    <tr>\n",
       "      <th>4</th>\n",
       "      <td>68.370</td>\n",
       "      <td>35</td>\n",
       "      <td>73889.990</td>\n",
       "      <td>225.580</td>\n",
       "      <td>0</td>\n",
       "      <td>0</td>\n",
       "    </tr>\n",
       "    <tr>\n",
       "      <th>...</th>\n",
       "      <td>...</td>\n",
       "      <td>...</td>\n",
       "      <td>...</td>\n",
       "      <td>...</td>\n",
       "      <td>...</td>\n",
       "      <td>...</td>\n",
       "    </tr>\n",
       "    <tr>\n",
       "      <th>995</th>\n",
       "      <td>72.970</td>\n",
       "      <td>30</td>\n",
       "      <td>71384.570</td>\n",
       "      <td>208.580</td>\n",
       "      <td>1</td>\n",
       "      <td>1</td>\n",
       "    </tr>\n",
       "    <tr>\n",
       "      <th>996</th>\n",
       "      <td>51.300</td>\n",
       "      <td>45</td>\n",
       "      <td>67782.170</td>\n",
       "      <td>134.420</td>\n",
       "      <td>1</td>\n",
       "      <td>1</td>\n",
       "    </tr>\n",
       "    <tr>\n",
       "      <th>997</th>\n",
       "      <td>51.630</td>\n",
       "      <td>51</td>\n",
       "      <td>42415.720</td>\n",
       "      <td>120.370</td>\n",
       "      <td>1</td>\n",
       "      <td>1</td>\n",
       "    </tr>\n",
       "    <tr>\n",
       "      <th>998</th>\n",
       "      <td>55.550</td>\n",
       "      <td>19</td>\n",
       "      <td>41920.790</td>\n",
       "      <td>187.950</td>\n",
       "      <td>0</td>\n",
       "      <td>0</td>\n",
       "    </tr>\n",
       "    <tr>\n",
       "      <th>999</th>\n",
       "      <td>45.010</td>\n",
       "      <td>26</td>\n",
       "      <td>29875.800</td>\n",
       "      <td>178.350</td>\n",
       "      <td>0</td>\n",
       "      <td>1</td>\n",
       "    </tr>\n",
       "  </tbody>\n",
       "</table>\n",
       "<p>1000 rows × 6 columns</p>\n",
       "</div>"
      ],
      "text/plain": [
       "     Daily Time Spent on Site  Age  Area Income  Daily Internet Usage  Male  \\\n",
       "0                      68.950   35    61833.900               256.090     0   \n",
       "1                      80.230   31    68441.850               193.770     1   \n",
       "2                      69.470   26    59785.940               236.500     0   \n",
       "3                      74.150   29    54806.180               245.890     1   \n",
       "4                      68.370   35    73889.990               225.580     0   \n",
       "..                        ...  ...          ...                   ...   ...   \n",
       "995                    72.970   30    71384.570               208.580     1   \n",
       "996                    51.300   45    67782.170               134.420     1   \n",
       "997                    51.630   51    42415.720               120.370     1   \n",
       "998                    55.550   19    41920.790               187.950     0   \n",
       "999                    45.010   26    29875.800               178.350     0   \n",
       "\n",
       "     Clicked on Ad  \n",
       "0                0  \n",
       "1                0  \n",
       "2                0  \n",
       "3                0  \n",
       "4                0  \n",
       "..             ...  \n",
       "995              1  \n",
       "996              1  \n",
       "997              1  \n",
       "998              0  \n",
       "999              1  \n",
       "\n",
       "[1000 rows x 6 columns]"
      ]
     },
     "execution_count": 14,
     "metadata": {},
     "output_type": "execute_result"
    }
   ],
   "source": [
    "# base final pra modelagem\n",
    "\n",
    "df_model"
   ]
  },
  {
   "cell_type": "code",
   "execution_count": 16,
   "metadata": {
    "ExecuteTime": {
     "end_time": "2022-01-28T22:11:41.922646Z",
     "start_time": "2022-01-28T22:11:41.849688Z"
    }
   },
   "outputs": [],
   "source": [
    "#Definindo X e y\n",
    "X = df_model.drop(columns='Clicked on Ad')\n",
    "y = df_model['Clicked on Ad']"
   ]
  },
  {
   "cell_type": "code",
   "execution_count": 17,
   "metadata": {
    "ExecuteTime": {
     "end_time": "2022-01-28T22:11:44.343496Z",
     "start_time": "2022-01-28T22:11:41.926645Z"
    }
   },
   "outputs": [],
   "source": [
    "# 1) importar o estimador\n",
    "\n",
    "from sklearn.linear_model import LogisticRegression"
   ]
  },
  {
   "cell_type": "code",
   "execution_count": 18,
   "metadata": {
    "ExecuteTime": {
     "end_time": "2022-01-28T22:11:44.359081Z",
     "start_time": "2022-01-28T22:11:44.346092Z"
    }
   },
   "outputs": [],
   "source": [
    "# 2) instaciar o estimador (escolhendo os hiperparametros!)\n",
    "# modelo baseline: esoclhemos hiperparametros default\n",
    "logit = LogisticRegression()"
   ]
  },
  {
   "cell_type": "code",
   "execution_count": 19,
   "metadata": {
    "ExecuteTime": {
     "end_time": "2022-01-28T22:11:44.702947Z",
     "start_time": "2022-01-28T22:11:44.362081Z"
    }
   },
   "outputs": [],
   "source": [
    "# 3) train-test split\n",
    "from sklearn.model_selection import train_test_split\n",
    "\n",
    "X_train, X_test, y_train, y_test = train_test_split(X, y, test_size=0.3, random_state=42)"
   ]
  },
  {
   "cell_type": "code",
   "execution_count": 20,
   "metadata": {
    "ExecuteTime": {
     "end_time": "2022-01-28T22:11:45.245969Z",
     "start_time": "2022-01-28T22:11:44.706949Z"
    }
   },
   "outputs": [
    {
     "data": {
      "text/plain": [
       "LogisticRegression()"
      ]
     },
     "execution_count": 20,
     "metadata": {},
     "output_type": "execute_result"
    }
   ],
   "source": [
    "# 4) treino com .fit, dados de treino\n",
    "logit.fit(X_train, y_train)"
   ]
  },
  {
   "cell_type": "markdown",
   "metadata": {},
   "source": [
    "__Modelo treinado!__\n",
    "\n",
    "$$f_{H, \\vec{b}}(\\vec{x}) = P(y=1 | \\vec{x}) = \\frac{1}{1 + e^{-(b_0 + b_1 x_1 + \\cdots + b_p x_p)}}$$\n",
    "\n",
    "Vamos ver os coeficientes do modelo:"
   ]
  },
  {
   "cell_type": "code",
   "execution_count": 21,
   "metadata": {
    "ExecuteTime": {
     "end_time": "2022-01-28T22:11:45.277955Z",
     "start_time": "2022-01-28T22:11:45.249967Z"
    }
   },
   "outputs": [
    {
     "data": {
      "text/plain": [
       "array([0.005])"
      ]
     },
     "execution_count": 21,
     "metadata": {},
     "output_type": "execute_result"
    }
   ],
   "source": [
    "#Intercepto\n",
    "logit.intercept_"
   ]
  },
  {
   "cell_type": "code",
   "execution_count": 22,
   "metadata": {
    "ExecuteTime": {
     "end_time": "2022-01-28T22:11:45.416872Z",
     "start_time": "2022-01-28T22:11:45.287946Z"
    }
   },
   "outputs": [
    {
     "data": {
      "text/plain": [
       "['Daily Time Spent on Site',\n",
       " 'Age',\n",
       " 'Area Income',\n",
       " 'Daily Internet Usage',\n",
       " 'Male']"
      ]
     },
     "execution_count": 22,
     "metadata": {},
     "output_type": "execute_result"
    }
   ],
   "source": [
    "#Nomes das colunas\n",
    "X_train.columns.tolist()"
   ]
  },
  {
   "cell_type": "code",
   "execution_count": 23,
   "metadata": {
    "ExecuteTime": {
     "end_time": "2022-01-28T22:11:45.577829Z",
     "start_time": "2022-01-28T22:11:45.423868Z"
    }
   },
   "outputs": [
    {
     "data": {
      "text/plain": [
       "array([[-0.056,  0.266, -0.   , -0.027,  0.002]])"
      ]
     },
     "execution_count": 23,
     "metadata": {},
     "output_type": "execute_result"
    }
   ],
   "source": [
    "#Coeficientes\n",
    "logit.coef_"
   ]
  },
  {
   "cell_type": "markdown",
   "metadata": {},
   "source": [
    "Lembre-se que, diferentemente da regressão linear, devido ao fato da função logística ser uma exponencial, a variação de $P(x)$ depende de x, e não apenas dos coeficientes! Então, a interpretação dos coeficientes não é tão imediata. \n",
    "\n",
    "Mas, os sinais carregam significado. Para um coeficiente:\n",
    "- positivo ($b_i > 0$), temos que um aumento em x levará a um aumento de $P(x)$;\n",
    "- negativo ($b_i < 0$), temos que um aumento em x levará a uma diminuição de $P(x)$\n",
    "\n",
    "Mas, a variacão de $P(x)$ em si, depende do valor de x!"
   ]
  },
  {
   "cell_type": "markdown",
   "metadata": {},
   "source": [
    "__Agora que o modelo está treinado, vamos avaliá-lo!__"
   ]
  },
  {
   "cell_type": "markdown",
   "metadata": {},
   "source": [
    "______\n",
    "_____\n",
    "_____\n",
    "____"
   ]
  },
  {
   "cell_type": "code",
   "execution_count": null,
   "metadata": {
    "ExecuteTime": {
     "end_time": "2022-01-28T22:11:45.974736Z",
     "start_time": "2022-01-28T22:11:45.753741Z"
    },
    "scrolled": true
   },
   "outputs": [],
   "source": [
    "#X_test\n",
    "X_test"
   ]
  },
  {
   "cell_type": "code",
   "execution_count": null,
   "metadata": {
    "ExecuteTime": {
     "end_time": "2022-01-28T22:11:46.227840Z",
     "start_time": "2022-01-28T22:11:45.977738Z"
    },
    "scrolled": true
   },
   "outputs": [],
   "source": [
    "#y_test\n",
    "y_test"
   ]
  },
  {
   "cell_type": "code",
   "execution_count": 24,
   "metadata": {
    "ExecuteTime": {
     "end_time": "2022-01-28T22:11:46.370758Z",
     "start_time": "2022-01-28T22:11:46.233840Z"
    }
   },
   "outputs": [
    {
     "data": {
      "text/plain": [
       "array([0, 1, 1, 1, 0, 0, 0, 1, 0, 1], dtype=int64)"
      ]
     },
     "execution_count": 24,
     "metadata": {},
     "output_type": "execute_result"
    }
   ],
   "source": [
    "#Predict com os dados de teste\n",
    "y_predict = logit.predict(X_test)\n",
    "y_predict[:10]"
   ]
  },
  {
   "cell_type": "code",
   "execution_count": 25,
   "metadata": {
    "ExecuteTime": {
     "end_time": "2022-01-28T22:11:46.509681Z",
     "start_time": "2022-01-28T22:11:46.375756Z"
    }
   },
   "outputs": [
    {
     "data": {
      "text/plain": [
       "521    1\n",
       "737    1\n",
       "740    1\n",
       "660    1\n",
       "411    0\n",
       "678    0\n",
       "626    0\n",
       "513    1\n",
       "859    0\n",
       "136    1\n",
       "Name: Clicked on Ad, dtype: int64"
      ]
     },
     "execution_count": 25,
     "metadata": {},
     "output_type": "execute_result"
    }
   ],
   "source": [
    "#Target real\n",
    "y_test[:10]"
   ]
  },
  {
   "cell_type": "markdown",
   "metadata": {},
   "source": [
    "## 3) Métricas de performance para problemas de classificação\n",
    "\n",
    "Após treinar o modelo, como podemos avaliar sua performance?\n",
    "\n",
    "No caso de problemas de classificação, existem **métricas específicas**, e também um importante conceito chamado de **Matriz de Confusão**.\n",
    "\n",
    "A **matriz de confusão** leva em consideração as **classes preditas** e as **classes verdadeiras** da base de **teste**, e contabiliza a performance do modelo:\n",
    "\n",
    "<img src=\"https://static.packt-cdn.com/products/9781838555078/graphics/C13314_06_05.jpg\" width=400>\n",
    "\n",
    "Note que a diagonal principal são as observações que o modelo acertou! Temos:\n",
    "\n",
    "- Verdadeiros Positivos (TP): classificação correta da classe positivo;\n",
    "- Verdadeiros Negativos (TN): classificação correta da classe negativo;\n",
    "- Falsos Positivos (FP, erro tipo I): correto: negativo. Previsto: positivo. Lembram do teste de hipóteses?\n",
    "- Falsos Negativos (FN, erro tipo II): correto: positivo. Previsto: negativo.\n",
    "\n",
    "Além disso, temos as seguintes métricas numéricas de avaliação:\n",
    "\n",
    "- Acurácia (Accuracy): porcentagem de classificações CORRETAS do modelo;\n",
    "\n",
    "- Precisão (Precision): das respostas retornadas, quantas são relevantes? -- é a razão entre verdadeiros positivos e o  número de **preditos positivos**, isto é, positivos quanto à **label predita pelo modelo**.\n",
    "\n",
    "- Revocação/Sensibilidade (Recall/Sensitivity): das respostas relevantes, quantas são retornadas? -- é a razão entre verdadeiros positivos e o  número de **verdadeiramente positivos**, isto é, positivos quanto à **label real**.\n",
    "\n",
    "- F1-Score: média harmônica de precision e recall.\n",
    "\n",
    "<img src=\"https://upload.wikimedia.org/wikipedia/commons/thumb/2/26/Precisionrecall.svg/1200px-Precisionrecall.svg.png\" width=500>\n",
    "\n",
    "Devido ao <a href=\"https://medium.com/opex-analytics/why-you-need-to-understand-the-trade-off-between-precision-and-recall-525a33919942\">tradeoff entre precision e recall</a>, uma métrica que em muitos casos é interessante de ser otimizada é o F1! \n",
    "\n",
    "<img src=\"https://miro.medium.com/max/1080/1*t1vf-ofJrJqtmam0KSn3EQ.png\" height=\"400\" width=\"600\">\n",
    "\n",
    "Adiante, veremos como calcular a matriz de confusão e as métricas acima para problemas de classificação!\n",
    "\n",
    "Especificidade e sensibilidade:\n",
    "\n",
    "<img src=https://upload.wikimedia.org/wikipedia/commons/thumb/5/5a/Sensitivity_and_specificity_1.01.svg/341px-Sensitivity_and_specificity_1.01.svg.png width=500>"
   ]
  },
  {
   "cell_type": "markdown",
   "metadata": {},
   "source": [
    "_______"
   ]
  },
  {
   "cell_type": "markdown",
   "metadata": {},
   "source": [
    "Um ponto muito importante é que o método `predict()` se utiliza do cutoff igual a 0.5 para tomar a decisão! Veremos mais detalhes sobre isso mais a frente. Por enquanto, vamos seguir com a avaliação do modelo com este cutoff padrão!"
   ]
  },
  {
   "cell_type": "code",
   "execution_count": 26,
   "metadata": {
    "ExecuteTime": {
     "end_time": "2022-01-28T22:11:46.651599Z",
     "start_time": "2022-01-28T22:11:46.527668Z"
    }
   },
   "outputs": [],
   "source": [
    "y_pred = logit.predict(X_test)"
   ]
  },
  {
   "cell_type": "code",
   "execution_count": 27,
   "metadata": {
    "ExecuteTime": {
     "end_time": "2022-01-28T22:11:46.793071Z",
     "start_time": "2022-01-28T22:11:46.659615Z"
    }
   },
   "outputs": [
    {
     "data": {
      "text/plain": [
       "array([0, 1, 1, 1, 0, 0, 0, 1, 0, 1, 0, 1, 1, 0, 1, 1, 1, 1, 0, 1, 0, 1,\n",
       "       1, 0, 0, 1, 0, 0, 1, 1, 0, 1, 0, 1, 1, 0, 0, 0, 1, 1, 0, 1, 0, 1,\n",
       "       0, 0, 1, 1, 0, 1, 1, 0, 1, 0, 0, 0, 0, 1, 0, 1, 0, 1, 0, 1, 1, 1,\n",
       "       1, 0, 1, 1, 1, 1, 0, 0, 1, 0, 0, 1, 0, 0, 1, 1, 1, 1, 0, 0, 0, 0,\n",
       "       0, 0, 0, 0, 0, 1, 0, 0, 1, 1, 0, 0, 1, 0, 1, 0, 1, 1, 1, 0, 1, 0,\n",
       "       1, 0, 1, 1, 0, 1, 0, 0, 0, 0, 1, 1, 1, 0, 0, 0, 1, 0, 0, 1, 1, 1,\n",
       "       1, 0, 0, 0, 0, 0, 0, 1, 0, 0, 1, 0, 0, 1, 1, 0, 0, 0, 0, 0, 1, 0,\n",
       "       1, 0, 1, 0, 0, 0, 1, 1, 0, 0, 1, 0, 0, 0, 0, 0, 1, 0, 1, 0, 1, 1,\n",
       "       1, 1, 1, 1, 1, 0, 1, 1, 1, 1, 0, 1, 1, 1, 0, 1, 0, 0, 1, 1, 1, 1,\n",
       "       0, 1, 0, 0, 0, 0, 1, 0, 1, 0, 0, 0, 0, 1, 1, 1, 1, 0, 0, 0, 0, 1,\n",
       "       0, 0, 1, 1, 0, 0, 0, 0, 0, 0, 0, 0, 0, 1, 0, 0, 1, 0, 1, 0, 0, 0,\n",
       "       0, 0, 0, 0, 0, 0, 0, 0, 1, 1, 1, 0, 0, 0, 1, 1, 1, 0, 0, 1, 1, 0,\n",
       "       1, 0, 1, 0, 0, 1, 1, 1, 1, 0, 1, 0, 1, 0, 0, 0, 1, 0, 0, 0, 1, 0,\n",
       "       0, 0, 1, 1, 0, 0, 0, 1, 0, 1, 0, 1, 1, 0], dtype=int64)"
      ]
     },
     "execution_count": 27,
     "metadata": {},
     "output_type": "execute_result"
    }
   ],
   "source": [
    "y_pred"
   ]
  },
  {
   "cell_type": "markdown",
   "metadata": {},
   "source": [
    "Como vimos no passo 2, em problemas de classificação é muito comum utilizarmos a **matriz de confusão** e as **métricas de classificação** para avaliar nossos modelos.\n",
    "\n",
    "Dado isso, o sklearn já disponibiliza estas funcionalidades:"
   ]
  },
  {
   "cell_type": "code",
   "execution_count": 28,
   "metadata": {
    "ExecuteTime": {
     "end_time": "2022-01-28T22:11:46.934404Z",
     "start_time": "2022-01-28T22:11:46.796072Z"
    }
   },
   "outputs": [
    {
     "data": {
      "text/plain": [
       "array([[140,   6],\n",
       "       [ 25, 129]], dtype=int64)"
      ]
     },
     "execution_count": 28,
     "metadata": {},
     "output_type": "execute_result"
    }
   ],
   "source": [
    "#confusion_matrix\n",
    "from sklearn.metrics import confusion_matrix\n",
    "\n",
    "confusion_matrix(y_test,y_predict)"
   ]
  },
  {
   "cell_type": "code",
   "execution_count": 29,
   "metadata": {
    "ExecuteTime": {
     "end_time": "2022-01-28T22:11:47.743594Z",
     "start_time": "2022-01-28T22:11:47.388743Z"
    }
   },
   "outputs": [
    {
     "data": {
      "image/png": "[encoded data removed]",
      "text/plain": [
       "<Figure size 432x288 with 2 Axes>"
      ]
     },
     "metadata": {
      "needs_background": "light"
     },
     "output_type": "display_data"
    }
   ],
   "source": [
    "#ConfusionMatrixDisplay\n",
    "from sklearn.metrics import ConfusionMatrixDisplay\n",
    "ConfusionMatrixDisplay.from_predictions(y_test,y_predict);"
   ]
  },
  {
   "cell_type": "markdown",
   "metadata": {},
   "source": [
    "Matriz de confusão percentual"
   ]
  },
  {
   "cell_type": "code",
   "execution_count": 30,
   "metadata": {
    "ExecuteTime": {
     "end_time": "2022-01-28T22:11:48.103751Z",
     "start_time": "2022-01-28T22:11:47.769581Z"
    }
   },
   "outputs": [
    {
     "data": {
      "image/png": "[encoded data removed]",
      "text/plain": [
       "<Figure size 432x288 with 2 Axes>"
      ]
     },
     "metadata": {
      "needs_background": "light"
     },
     "output_type": "display_data"
    }
   ],
   "source": [
    "#ConfusionMatrixDisplay normalize\n",
    "ConfusionMatrixDisplay.from_predictions(y_test,y_predict,normalize='true');"
   ]
  },
  {
   "cell_type": "code",
   "execution_count": 31,
   "metadata": {
    "ExecuteTime": {
     "end_time": "2022-01-28T22:11:48.135737Z",
     "start_time": "2022-01-28T22:11:48.110745Z"
    },
    "scrolled": true
   },
   "outputs": [
    {
     "data": {
      "text/plain": [
       "1    154\n",
       "0    146\n",
       "Name: Clicked on Ad, dtype: int64"
      ]
     },
     "execution_count": 31,
     "metadata": {},
     "output_type": "execute_result"
    }
   ],
   "source": [
    "# support\n",
    "y_test.value_counts()"
   ]
  },
  {
   "cell_type": "markdown",
   "metadata": {},
   "source": [
    "Função classification report"
   ]
  },
  {
   "cell_type": "code",
   "execution_count": 32,
   "metadata": {
    "ExecuteTime": {
     "end_time": "2022-01-28T22:11:48.245669Z",
     "start_time": "2022-01-28T22:11:48.140729Z"
    },
    "scrolled": true
   },
   "outputs": [
    {
     "name": "stdout",
     "output_type": "stream",
     "text": [
      "              precision    recall  f1-score   support\n",
      "\n",
      "           0       0.85      0.96      0.90       146\n",
      "           1       0.96      0.84      0.89       154\n",
      "\n",
      "    accuracy                           0.90       300\n",
      "   macro avg       0.90      0.90      0.90       300\n",
      "weighted avg       0.90      0.90      0.90       300\n",
      "\n"
     ]
    }
   ],
   "source": [
    "from sklearn.metrics import classification_report\n",
    "\n",
    "print(classification_report(y_test,y_predict))"
   ]
  },
  {
   "cell_type": "markdown",
   "metadata": {},
   "source": [
    "A classe positiva é a classe de interesse. Não necessariamente vai ser a classe representada pelo 1."
   ]
  },
  {
   "cell_type": "code",
   "execution_count": 33,
   "metadata": {
    "ExecuteTime": {
     "end_time": "2022-01-28T22:11:48.322423Z",
     "start_time": "2022-01-28T22:11:48.249669Z"
    }
   },
   "outputs": [],
   "source": [
    "#Podemos salvar como um dicionário\n",
    "cr_dict = classification_report(y_test,y_predict,output_dict=True)"
   ]
  },
  {
   "cell_type": "code",
   "execution_count": 34,
   "metadata": {
    "ExecuteTime": {
     "end_time": "2022-01-28T22:11:48.384380Z",
     "start_time": "2022-01-28T22:11:48.328424Z"
    }
   },
   "outputs": [
    {
     "data": {
      "text/plain": [
       "dict_keys(['0', '1', 'accuracy', 'macro avg', 'weighted avg'])"
      ]
     },
     "execution_count": 34,
     "metadata": {},
     "output_type": "execute_result"
    }
   ],
   "source": [
    "#keys\n",
    "cr_dict.keys()"
   ]
  },
  {
   "cell_type": "code",
   "execution_count": 36,
   "metadata": {
    "ExecuteTime": {
     "end_time": "2022-01-28T22:11:48.445345Z",
     "start_time": "2022-01-28T22:11:48.395374Z"
    }
   },
   "outputs": [
    {
     "data": {
      "text/plain": [
       "{'precision': 0.9555555555555556,\n",
       " 'recall': 0.8376623376623377,\n",
       " 'f1-score': 0.8927335640138409,\n",
       " 'support': 154}"
      ]
     },
     "execution_count": 36,
     "metadata": {},
     "output_type": "execute_result"
    }
   ],
   "source": [
    "#Resultado de uma classe\n",
    "cr_dict['1']"
   ]
  },
  {
   "cell_type": "code",
   "execution_count": null,
   "metadata": {
    "ExecuteTime": {
     "end_time": "2022-01-28T22:11:48.507315Z",
     "start_time": "2022-01-28T22:11:48.451340Z"
    }
   },
   "outputs": [],
   "source": [
    "# Precision de uma classe\n",
    "cr_dict['1']['precision']"
   ]
  },
  {
   "cell_type": "code",
   "execution_count": null,
   "metadata": {
    "ExecuteTime": {
     "end_time": "2022-01-28T22:11:48.617248Z",
     "start_time": "2022-01-28T22:11:48.516304Z"
    }
   },
   "outputs": [],
   "source": [
    "#Precision score\n",
    "from sklearn.metrics import precision_score\n",
    "\n",
    "precision_score(y_test,y_predict)"
   ]
  },
  {
   "cell_type": "code",
   "execution_count": null,
   "metadata": {
    "ExecuteTime": {
     "end_time": "2022-01-28T22:11:48.691205Z",
     "start_time": "2022-01-28T22:11:48.630238Z"
    }
   },
   "outputs": [],
   "source": [
    "cr_dict['0']['precision']"
   ]
  },
  {
   "cell_type": "code",
   "execution_count": null,
   "metadata": {
    "ExecuteTime": {
     "end_time": "2022-01-28T22:11:48.833142Z",
     "start_time": "2022-01-28T22:11:48.718199Z"
    }
   },
   "outputs": [],
   "source": [
    "#Alterando a classe positiva no precision_score\n",
    "precision_score(y_test,y_predict,pos_label=0)"
   ]
  },
  {
   "cell_type": "markdown",
   "metadata": {},
   "source": [
    "Conforme esperado, nosso modelo está muito bom! Um f1-score tão alto na vida real é algo notável!\n",
    "\n",
    "Isso se deve à grande separabilidade dos nossos dados!"
   ]
  },
  {
   "cell_type": "markdown",
   "metadata": {},
   "source": [
    "_________________"
   ]
  },
  {
   "cell_type": "markdown",
   "metadata": {},
   "source": [
    "Além dos coeficientes do modelo, algo muito interessante que a classe do sklearn proporciona é o método `predict_proba()`\n",
    "\n",
    "Esse método retorna exatamente qual é a **probabilidade modelada pelo logit**, isto é, $P(y=1 | \\vec{x})$.\n",
    "\n",
    "Isso pode ser muito útil, pois assim conseguimos **mudar qual é o cutoff de escolha de classe** para ser algo diferente de 0.5!\n"
   ]
  },
  {
   "cell_type": "code",
   "execution_count": 37,
   "metadata": {
    "ExecuteTime": {
     "end_time": "2022-01-28T22:11:48.895087Z",
     "start_time": "2022-01-28T22:11:48.845115Z"
    }
   },
   "outputs": [
    {
     "data": {
      "text/plain": [
       "array([0, 1, 1, 1, 0, 0, 0, 1, 0, 1, 0, 1, 1, 0, 1, 1, 1, 1, 0, 1, 0, 1,\n",
       "       1, 0, 0, 1, 0, 0, 1, 1, 0, 1, 0, 1, 1, 0, 0, 0, 1, 1, 0, 1, 0, 1,\n",
       "       0, 0, 1, 1, 0, 1, 1, 0, 1, 0, 0, 0, 0, 1, 0, 1, 0, 1, 0, 1, 1, 1,\n",
       "       1, 0, 1, 1, 1, 1, 0, 0, 1, 0, 0, 1, 0, 0, 1, 1, 1, 1, 0, 0, 0, 0,\n",
       "       0, 0, 0, 0, 0, 1, 0, 0, 1, 1, 0, 0, 1, 0, 1, 0, 1, 1, 1, 0, 1, 0,\n",
       "       1, 0, 1, 1, 0, 1, 0, 0, 0, 0, 1, 1, 1, 0, 0, 0, 1, 0, 0, 1, 1, 1,\n",
       "       1, 0, 0, 0, 0, 0, 0, 1, 0, 0, 1, 0, 0, 1, 1, 0, 0, 0, 0, 0, 1, 0,\n",
       "       1, 0, 1, 0, 0, 0, 1, 1, 0, 0, 1, 0, 0, 0, 0, 0, 1, 0, 1, 0, 1, 1,\n",
       "       1, 1, 1, 1, 1, 0, 1, 1, 1, 1, 0, 1, 1, 1, 0, 1, 0, 0, 1, 1, 1, 1,\n",
       "       0, 1, 0, 0, 0, 0, 1, 0, 1, 0, 0, 0, 0, 1, 1, 1, 1, 0, 0, 0, 0, 1,\n",
       "       0, 0, 1, 1, 0, 0, 0, 0, 0, 0, 0, 0, 0, 1, 0, 0, 1, 0, 1, 0, 0, 0,\n",
       "       0, 0, 0, 0, 0, 0, 0, 0, 1, 1, 1, 0, 0, 0, 1, 1, 1, 0, 0, 1, 1, 0,\n",
       "       1, 0, 1, 0, 0, 1, 1, 1, 1, 0, 1, 0, 1, 0, 0, 0, 1, 0, 0, 0, 1, 0,\n",
       "       0, 0, 1, 1, 0, 0, 0, 1, 0, 1, 0, 1, 1, 0], dtype=int64)"
      ]
     },
     "execution_count": 37,
     "metadata": {},
     "output_type": "execute_result"
    }
   ],
   "source": [
    "#Predict\n",
    "logit.predict(X_test)"
   ]
  },
  {
   "cell_type": "code",
   "execution_count": 38,
   "metadata": {
    "ExecuteTime": {
     "end_time": "2022-01-28T22:11:48.990034Z",
     "start_time": "2022-01-28T22:11:48.898086Z"
    }
   },
   "outputs": [
    {
     "data": {
      "text/plain": [
       "array([0, 1], dtype=int64)"
      ]
     },
     "execution_count": 38,
     "metadata": {},
     "output_type": "execute_result"
    }
   ],
   "source": [
    "#Classes\n",
    "logit.classes_"
   ]
  },
  {
   "cell_type": "code",
   "execution_count": 39,
   "metadata": {
    "ExecuteTime": {
     "end_time": "2022-01-28T22:11:49.100970Z",
     "start_time": "2022-01-28T22:11:48.995031Z"
    },
    "scrolled": false
   },
   "outputs": [],
   "source": [
    "probas = logit.predict_proba(X_test)"
   ]
  },
  {
   "cell_type": "code",
   "execution_count": 40,
   "metadata": {
    "ExecuteTime": {
     "end_time": "2022-01-28T22:11:49.131952Z",
     "start_time": "2022-01-28T22:11:49.106971Z"
    }
   },
   "outputs": [],
   "source": [
    "# Apresentar a probabilidade para cada classe\n",
    "y_proba_0 = probas[:,0]\n",
    "\n",
    "# isso é o que modelamos explicitamente com o logit!\n",
    "y_proba_1 = probas[:,1]"
   ]
  },
  {
   "cell_type": "code",
   "execution_count": 41,
   "metadata": {
    "ExecuteTime": {
     "end_time": "2022-01-28T22:11:49.289864Z",
     "start_time": "2022-01-28T22:11:49.134953Z"
    }
   },
   "outputs": [],
   "source": [
    "cutoff = 0.8\n",
    "\n",
    "# np.where(condicao, substituir caso True, substituir caso False)\n",
    "# pras observações cuja probabilidade de ser da classe 1 for maior que o cutoff,\n",
    "# eu atribuo o target 1. caso contrario, o target 0.\n",
    "\n",
    "y_pred_proba = np.where(y_proba_1 >= cutoff, 1, 0)"
   ]
  },
  {
   "cell_type": "code",
   "execution_count": 42,
   "metadata": {
    "ExecuteTime": {
     "end_time": "2022-01-28T22:11:49.383809Z",
     "start_time": "2022-01-28T22:11:49.293859Z"
    }
   },
   "outputs": [
    {
     "data": {
      "text/plain": [
       "0    165\n",
       "1    135\n",
       "dtype: int64"
      ]
     },
     "execution_count": 42,
     "metadata": {},
     "output_type": "execute_result"
    }
   ],
   "source": [
    "cutoff = 0.5\n",
    "\n",
    "y_pred_proba = np.where(y_proba_1 >= cutoff, 1, 0)\n",
    "\n",
    "pd.Series(y_pred_proba).value_counts()"
   ]
  },
  {
   "cell_type": "code",
   "execution_count": 43,
   "metadata": {
    "ExecuteTime": {
     "end_time": "2022-01-28T22:11:49.488749Z",
     "start_time": "2022-01-28T22:11:49.388807Z"
    }
   },
   "outputs": [
    {
     "data": {
      "text/plain": [
       "0    202\n",
       "1     98\n",
       "dtype: int64"
      ]
     },
     "execution_count": 43,
     "metadata": {},
     "output_type": "execute_result"
    }
   ],
   "source": [
    "cutoff = 0.9\n",
    "\n",
    "y_pred_proba = np.where(y_proba_1 >= cutoff, 1, 0)\n",
    "\n",
    "pd.Series(y_pred_proba).value_counts()"
   ]
  },
  {
   "cell_type": "code",
   "execution_count": 44,
   "metadata": {
    "ExecuteTime": {
     "end_time": "2022-01-28T22:11:49.554710Z",
     "start_time": "2022-01-28T22:11:49.496744Z"
    }
   },
   "outputs": [
    {
     "data": {
      "text/plain": [
       "1    217\n",
       "0     83\n",
       "dtype: int64"
      ]
     },
     "execution_count": 44,
     "metadata": {},
     "output_type": "execute_result"
    }
   ],
   "source": [
    "cutoff = 0.05\n",
    "\n",
    "y_pred_proba = np.where(y_proba_1 >= cutoff, 1, 0)\n",
    "\n",
    "pd.Series(y_pred_proba).value_counts()"
   ]
  },
  {
   "cell_type": "markdown",
   "metadata": {},
   "source": [
    "Vamos avaliar diferentes cutoffs..."
   ]
  },
  {
   "cell_type": "code",
   "execution_count": 45,
   "metadata": {
    "ExecuteTime": {
     "end_time": "2022-01-28T22:11:52.758464Z",
     "start_time": "2022-01-28T22:11:49.559707Z"
    },
    "scrolled": true
   },
   "outputs": [
    {
     "name": "stdout",
     "output_type": "stream",
     "text": [
      "Coeficientes:\n",
      " [[-0.056  0.266 -0.    -0.027  0.002]]\n",
      "\n",
      "Intercept: [0.005]\n",
      "\n",
      "Classes: [0 1]\n",
      "\n",
      "###################################################\n",
      "\n",
      "Avaliação de modelos com diferentes valores de cutoff\n",
      "\n",
      "###################################################\n",
      "\n",
      "\n",
      " Cutoff: 0.05\n",
      "\n",
      "Matriz de confusão do modelo nos dados de teste:\n",
      "[[ 78  68]\n",
      " [  5 149]]\n"
     ]
    },
    {
     "data": {
      "image/png": "[encoded data removed]",
      "text/plain": [
       "<Figure size 432x288 with 2 Axes>"
      ]
     },
     "metadata": {
      "needs_background": "light"
     },
     "output_type": "display_data"
    },
    {
     "name": "stdout",
     "output_type": "stream",
     "text": [
      "\n",
      "Classification report do modelo nos dados de teste:\n",
      "              precision    recall  f1-score   support\n",
      "\n",
      "           0       0.94      0.53      0.68       146\n",
      "           1       0.69      0.97      0.80       154\n",
      "\n",
      "    accuracy                           0.76       300\n",
      "   macro avg       0.81      0.75      0.74       300\n",
      "weighted avg       0.81      0.76      0.74       300\n",
      "\n",
      "\n",
      "##########################################################\n",
      "\n",
      "\n",
      " Cutoff: 0.1\n",
      "\n",
      "Matriz de confusão do modelo nos dados de teste:\n",
      "[[111  35]\n",
      " [  7 147]]\n"
     ]
    },
    {
     "data": {
      "image/png": "[encoded data removed]",
      "text/plain": [
       "<Figure size 432x288 with 2 Axes>"
      ]
     },
     "metadata": {
      "needs_background": "light"
     },
     "output_type": "display_data"
    },
    {
     "name": "stdout",
     "output_type": "stream",
     "text": [
      "\n",
      "Classification report do modelo nos dados de teste:\n",
      "              precision    recall  f1-score   support\n",
      "\n",
      "           0       0.94      0.76      0.84       146\n",
      "           1       0.81      0.95      0.88       154\n",
      "\n",
      "    accuracy                           0.86       300\n",
      "   macro avg       0.87      0.86      0.86       300\n",
      "weighted avg       0.87      0.86      0.86       300\n",
      "\n",
      "\n",
      "##########################################################\n",
      "\n",
      "\n",
      " Cutoff: 0.2\n",
      "\n",
      "Matriz de confusão do modelo nos dados de teste:\n",
      "[[127  19]\n",
      " [ 13 141]]\n"
     ]
    },
    {
     "data": {
      "image/png": "[encoded data removed]",
      "text/plain": [
       "<Figure size 432x288 with 2 Axes>"
      ]
     },
     "metadata": {
      "needs_background": "light"
     },
     "output_type": "display_data"
    },
    {
     "name": "stdout",
     "output_type": "stream",
     "text": [
      "\n",
      "Classification report do modelo nos dados de teste:\n",
      "              precision    recall  f1-score   support\n",
      "\n",
      "           0       0.91      0.87      0.89       146\n",
      "           1       0.88      0.92      0.90       154\n",
      "\n",
      "    accuracy                           0.89       300\n",
      "   macro avg       0.89      0.89      0.89       300\n",
      "weighted avg       0.89      0.89      0.89       300\n",
      "\n",
      "\n",
      "##########################################################\n",
      "\n",
      "\n",
      " Cutoff: 0.3\n",
      "\n",
      "Matriz de confusão do modelo nos dados de teste:\n",
      "[[133  13]\n",
      " [ 17 137]]\n"
     ]
    },
    {
     "data": {
      "image/png": "[encoded data removed]",
      "text/plain": [
       "<Figure size 432x288 with 2 Axes>"
      ]
     },
     "metadata": {
      "needs_background": "light"
     },
     "output_type": "display_data"
    },
    {
     "name": "stdout",
     "output_type": "stream",
     "text": [
      "\n",
      "Classification report do modelo nos dados de teste:\n",
      "              precision    recall  f1-score   support\n",
      "\n",
      "           0       0.89      0.91      0.90       146\n",
      "           1       0.91      0.89      0.90       154\n",
      "\n",
      "    accuracy                           0.90       300\n",
      "   macro avg       0.90      0.90      0.90       300\n",
      "weighted avg       0.90      0.90      0.90       300\n",
      "\n",
      "\n",
      "##########################################################\n",
      "\n",
      "\n",
      " Cutoff: 0.4\n",
      "\n",
      "Matriz de confusão do modelo nos dados de teste:\n",
      "[[136  10]\n",
      " [ 23 131]]\n"
     ]
    },
    {
     "data": {
      "image/png": "[encoded data removed]",
      "text/plain": [
       "<Figure size 432x288 with 2 Axes>"
      ]
     },
     "metadata": {
      "needs_background": "light"
     },
     "output_type": "display_data"
    },
    {
     "name": "stdout",
     "output_type": "stream",
     "text": [
      "\n",
      "Classification report do modelo nos dados de teste:\n",
      "              precision    recall  f1-score   support\n",
      "\n",
      "           0       0.86      0.93      0.89       146\n",
      "           1       0.93      0.85      0.89       154\n",
      "\n",
      "    accuracy                           0.89       300\n",
      "   macro avg       0.89      0.89      0.89       300\n",
      "weighted avg       0.89      0.89      0.89       300\n",
      "\n",
      "\n",
      "##########################################################\n",
      "\n",
      "\n",
      " Cutoff: 0.5\n",
      "\n",
      "Matriz de confusão do modelo nos dados de teste:\n",
      "[[140   6]\n",
      " [ 25 129]]\n"
     ]
    },
    {
     "data": {
      "image/png": "[encoded data removed]",
      "text/plain": [
       "<Figure size 432x288 with 2 Axes>"
      ]
     },
     "metadata": {
      "needs_background": "light"
     },
     "output_type": "display_data"
    },
    {
     "name": "stdout",
     "output_type": "stream",
     "text": [
      "\n",
      "Classification report do modelo nos dados de teste:\n",
      "              precision    recall  f1-score   support\n",
      "\n",
      "           0       0.85      0.96      0.90       146\n",
      "           1       0.96      0.84      0.89       154\n",
      "\n",
      "    accuracy                           0.90       300\n",
      "   macro avg       0.90      0.90      0.90       300\n",
      "weighted avg       0.90      0.90      0.90       300\n",
      "\n",
      "\n",
      "##########################################################\n",
      "\n",
      "\n",
      " Cutoff: 0.6\n",
      "\n",
      "Matriz de confusão do modelo nos dados de teste:\n",
      "[[141   5]\n",
      " [ 34 120]]\n"
     ]
    },
    {
     "data": {
      "image/png": "[encoded data removed]",
      "text/plain": [
       "<Figure size 432x288 with 2 Axes>"
      ]
     },
     "metadata": {
      "needs_background": "light"
     },
     "output_type": "display_data"
    },
    {
     "name": "stdout",
     "output_type": "stream",
     "text": [
      "\n",
      "Classification report do modelo nos dados de teste:\n",
      "              precision    recall  f1-score   support\n",
      "\n",
      "           0       0.81      0.97      0.88       146\n",
      "           1       0.96      0.78      0.86       154\n",
      "\n",
      "    accuracy                           0.87       300\n",
      "   macro avg       0.88      0.87      0.87       300\n",
      "weighted avg       0.88      0.87      0.87       300\n",
      "\n",
      "\n",
      "##########################################################\n",
      "\n",
      "\n",
      " Cutoff: 0.7\n",
      "\n",
      "Matriz de confusão do modelo nos dados de teste:\n",
      "[[144   2]\n",
      " [ 38 116]]\n"
     ]
    },
    {
     "data": {
      "image/png": "[encoded data removed]",
      "text/plain": [
       "<Figure size 432x288 with 2 Axes>"
      ]
     },
     "metadata": {
      "needs_background": "light"
     },
     "output_type": "display_data"
    },
    {
     "name": "stdout",
     "output_type": "stream",
     "text": [
      "\n",
      "Classification report do modelo nos dados de teste:\n",
      "              precision    recall  f1-score   support\n",
      "\n",
      "           0       0.79      0.99      0.88       146\n",
      "           1       0.98      0.75      0.85       154\n",
      "\n",
      "    accuracy                           0.87       300\n",
      "   macro avg       0.89      0.87      0.87       300\n",
      "weighted avg       0.89      0.87      0.87       300\n",
      "\n",
      "\n",
      "##########################################################\n",
      "\n",
      "\n",
      " Cutoff: 0.8\n",
      "\n",
      "Matriz de confusão do modelo nos dados de teste:\n",
      "[[144   2]\n",
      " [ 42 112]]\n"
     ]
    },
    {
     "data": {
      "image/png": "[encoded data removed]",
      "text/plain": [
       "<Figure size 432x288 with 2 Axes>"
      ]
     },
     "metadata": {
      "needs_background": "light"
     },
     "output_type": "display_data"
    },
    {
     "name": "stdout",
     "output_type": "stream",
     "text": [
      "\n",
      "Classification report do modelo nos dados de teste:\n",
      "              precision    recall  f1-score   support\n",
      "\n",
      "           0       0.77      0.99      0.87       146\n",
      "           1       0.98      0.73      0.84       154\n",
      "\n",
      "    accuracy                           0.85       300\n",
      "   macro avg       0.88      0.86      0.85       300\n",
      "weighted avg       0.88      0.85      0.85       300\n",
      "\n",
      "\n",
      "##########################################################\n",
      "\n",
      "\n",
      " Cutoff: 0.9\n",
      "\n",
      "Matriz de confusão do modelo nos dados de teste:\n",
      "[[145   1]\n",
      " [ 57  97]]\n"
     ]
    },
    {
     "data": {
      "image/png": "[encoded data removed]",
      "text/plain": [
       "<Figure size 432x288 with 2 Axes>"
      ]
     },
     "metadata": {
      "needs_background": "light"
     },
     "output_type": "display_data"
    },
    {
     "name": "stdout",
     "output_type": "stream",
     "text": [
      "\n",
      "Classification report do modelo nos dados de teste:\n",
      "              precision    recall  f1-score   support\n",
      "\n",
      "           0       0.72      0.99      0.83       146\n",
      "           1       0.99      0.63      0.77       154\n",
      "\n",
      "    accuracy                           0.81       300\n",
      "   macro avg       0.85      0.81      0.80       300\n",
      "weighted avg       0.86      0.81      0.80       300\n",
      "\n",
      "\n",
      "##########################################################\n",
      "\n",
      "\n",
      " Cutoff: 0.95\n",
      "\n",
      "Matriz de confusão do modelo nos dados de teste:\n",
      "[[146   0]\n",
      " [ 70  84]]\n"
     ]
    },
    {
     "data": {
      "image/png": "[encoded data removed]",
      "text/plain": [
       "<Figure size 432x288 with 2 Axes>"
      ]
     },
     "metadata": {
      "needs_background": "light"
     },
     "output_type": "display_data"
    },
    {
     "name": "stdout",
     "output_type": "stream",
     "text": [
      "\n",
      "Classification report do modelo nos dados de teste:\n",
      "              precision    recall  f1-score   support\n",
      "\n",
      "           0       0.68      1.00      0.81       146\n",
      "           1       1.00      0.55      0.71       154\n",
      "\n",
      "    accuracy                           0.77       300\n",
      "   macro avg       0.84      0.77      0.76       300\n",
      "weighted avg       0.84      0.77      0.75       300\n",
      "\n",
      "\n",
      "##########################################################\n",
      "\n"
     ]
    }
   ],
   "source": [
    "# leia a base\n",
    "df = pd.read_csv(\"advertising.csv\")\n",
    "\n",
    "# apenas as features numericas\n",
    "df = df.select_dtypes(include=[np.number])\n",
    "\n",
    "# separe as features e o target\n",
    "X = df.drop(columns = 'Clicked on Ad')\n",
    "y = df['Clicked on Ad']\n",
    "\n",
    "# 1) importe a classe do classificador\n",
    "from sklearn.linear_model import LogisticRegression\n",
    "\n",
    "# 2) instancie a classe\n",
    "estimador = LogisticRegression()\n",
    "\n",
    "# 3) faça o train-test split\n",
    "from sklearn.model_selection import train_test_split\n",
    "X_train, X_test, y_train, y_test = train_test_split(X, y, test_size=0.3, random_state=42)\n",
    "    \n",
    "# 4) treine o modelo\n",
    "modelo = estimador.fit(X_train, y_train)\n",
    "\n",
    "# dê uma olhada nos coeficientes\n",
    "print(\"Coeficientes:\\n\", modelo.coef_)\n",
    "print(\"\\nIntercept:\", modelo.intercept_)\n",
    "\n",
    "# dê uma olhada nas classes do modelo\n",
    "classes =  modelo.classes_\n",
    "print(\"\\nClasses:\", classes)\n",
    "\n",
    "# 5) probabilidades das previsões\n",
    "probs = modelo.predict_proba(X_test)\n",
    "\n",
    "# probabilidade de pertencimento à classe 1\n",
    "probs_1 = probs[:, 1]\n",
    "\n",
    "# avaliação  do modelo\n",
    "from sklearn.metrics import classification_report, confusion_matrix, ConfusionMatrixDisplay\n",
    "\n",
    "# cutoffs\n",
    "threshold_list = [0.05, 0.1, 0.2, 0.3, 0.4, 0.5, 0.6, 0.7, 0.8, 0.9, 0.95]\n",
    "\n",
    "print(\"\\n###################################################\\n\")\n",
    "print(\"Avaliação de modelos com diferentes valores de cutoff\")\n",
    "print(\"\\n###################################################\\n\")\n",
    "\n",
    "for threshold in threshold_list:\n",
    "    \n",
    "    print(\"\\n Cutoff:\", threshold)\n",
    "    \n",
    "    # previsões\n",
    "    y_pred = np.where(probs_1 >= threshold, 1, 0)\n",
    "\n",
    "    print(\"\\nMatriz de confusão do modelo nos dados de teste:\")\n",
    "    print(confusion_matrix(y_test, y_pred))\n",
    "    \n",
    "    ConfusionMatrixDisplay.from_predictions(y_test, y_pred, cmap=\"viridis\")\n",
    "    plt.show()\n",
    "\n",
    "    print(\"\\nClassification report do modelo nos dados de teste:\")\n",
    "    print(classification_report(y_test, y_pred))\n",
    "    \n",
    "    print(\"\\n##########################################################\\n\")"
   ]
  },
  {
   "cell_type": "markdown",
   "metadata": {},
   "source": [
    "_________\n",
    "\n",
    "### Tradeoff precision/recall\n",
    "\n",
    "Conforme é possível ver acima, claramente há um **tradeoff** entre precision e recall conforme variamos o cutoff. Isso faz total sentido, dado que estas métricas representam!\n",
    "\n",
    "Podemos visualizar este tradeoff facilmente com o sklearn:"
   ]
  },
  {
   "cell_type": "code",
   "execution_count": 46,
   "metadata": {
    "ExecuteTime": {
     "end_time": "2022-01-28T22:11:52.788443Z",
     "start_time": "2022-01-28T22:11:52.769458Z"
    }
   },
   "outputs": [],
   "source": [
    "from sklearn.metrics import precision_recall_curve\n",
    "\n",
    "#Considerando a classe 1 como positiva\n",
    "y_proba_1 = logit.predict_proba(X_test)[:, 1]\n",
    "\n",
    "precisions, recalls, thresholds = precision_recall_curve(y_test, y_proba_1)"
   ]
  },
  {
   "cell_type": "markdown",
   "metadata": {},
   "source": [
    "Os arrays contendo os resultados de precision e recall possuem um elemento a mais, pois o SKLearn incluí os valores de precision e recall 1 e 0 respectivamente e eles não possuem um limiar correspondente."
   ]
  },
  {
   "cell_type": "code",
   "execution_count": 47,
   "metadata": {},
   "outputs": [
    {
     "data": {
      "text/plain": [
       "((267,), (268,), (268,))"
      ]
     },
     "execution_count": 47,
     "metadata": {},
     "output_type": "execute_result"
    }
   ],
   "source": [
    "thresholds.shape, recalls.shape, precisions.shape"
   ]
  },
  {
   "cell_type": "code",
   "execution_count": 48,
   "metadata": {
    "scrolled": true
   },
   "outputs": [
    {
     "data": {
      "text/html": [
       "<div>\n",
       "<style scoped>\n",
       "    .dataframe tbody tr th:only-of-type {\n",
       "        vertical-align: middle;\n",
       "    }\n",
       "\n",
       "    .dataframe tbody tr th {\n",
       "        vertical-align: top;\n",
       "    }\n",
       "\n",
       "    .dataframe thead th {\n",
       "        text-align: right;\n",
       "    }\n",
       "</style>\n",
       "<table border=\"1\" class=\"dataframe\">\n",
       "  <thead>\n",
       "    <tr style=\"text-align: right;\">\n",
       "      <th></th>\n",
       "      <th>precisions</th>\n",
       "      <th>recalls</th>\n",
       "      <th>thresholds</th>\n",
       "    </tr>\n",
       "  </thead>\n",
       "  <tbody>\n",
       "    <tr>\n",
       "      <th>0</th>\n",
       "      <td>0.577</td>\n",
       "      <td>1.000</td>\n",
       "      <td>0.020</td>\n",
       "    </tr>\n",
       "    <tr>\n",
       "      <th>1</th>\n",
       "      <td>0.575</td>\n",
       "      <td>0.994</td>\n",
       "      <td>0.020</td>\n",
       "    </tr>\n",
       "    <tr>\n",
       "      <th>2</th>\n",
       "      <td>0.577</td>\n",
       "      <td>0.994</td>\n",
       "      <td>0.020</td>\n",
       "    </tr>\n",
       "    <tr>\n",
       "      <th>3</th>\n",
       "      <td>0.580</td>\n",
       "      <td>0.994</td>\n",
       "      <td>0.020</td>\n",
       "    </tr>\n",
       "    <tr>\n",
       "      <th>4</th>\n",
       "      <td>0.578</td>\n",
       "      <td>0.987</td>\n",
       "      <td>0.021</td>\n",
       "    </tr>\n",
       "    <tr>\n",
       "      <th>...</th>\n",
       "      <td>...</td>\n",
       "      <td>...</td>\n",
       "      <td>...</td>\n",
       "    </tr>\n",
       "    <tr>\n",
       "      <th>262</th>\n",
       "      <td>1.000</td>\n",
       "      <td>0.032</td>\n",
       "      <td>0.999</td>\n",
       "    </tr>\n",
       "    <tr>\n",
       "      <th>263</th>\n",
       "      <td>1.000</td>\n",
       "      <td>0.026</td>\n",
       "      <td>0.999</td>\n",
       "    </tr>\n",
       "    <tr>\n",
       "      <th>264</th>\n",
       "      <td>1.000</td>\n",
       "      <td>0.019</td>\n",
       "      <td>0.999</td>\n",
       "    </tr>\n",
       "    <tr>\n",
       "      <th>265</th>\n",
       "      <td>1.000</td>\n",
       "      <td>0.013</td>\n",
       "      <td>0.999</td>\n",
       "    </tr>\n",
       "    <tr>\n",
       "      <th>266</th>\n",
       "      <td>1.000</td>\n",
       "      <td>0.006</td>\n",
       "      <td>0.999</td>\n",
       "    </tr>\n",
       "  </tbody>\n",
       "</table>\n",
       "<p>267 rows × 3 columns</p>\n",
       "</div>"
      ],
      "text/plain": [
       "     precisions  recalls  thresholds\n",
       "0         0.577    1.000       0.020\n",
       "1         0.575    0.994       0.020\n",
       "2         0.577    0.994       0.020\n",
       "3         0.580    0.994       0.020\n",
       "4         0.578    0.987       0.021\n",
       "..          ...      ...         ...\n",
       "262       1.000    0.032       0.999\n",
       "263       1.000    0.026       0.999\n",
       "264       1.000    0.019       0.999\n",
       "265       1.000    0.013       0.999\n",
       "266       1.000    0.006       0.999\n",
       "\n",
       "[267 rows x 3 columns]"
      ]
     },
     "execution_count": 48,
     "metadata": {},
     "output_type": "execute_result"
    }
   ],
   "source": [
    "precisions_recalls = pd.DataFrame(data={'precisions':precisions[:-1], \n",
    "                                        'recalls':recalls[:-1], 'thresholds':thresholds})\n",
    "precisions_recalls"
   ]
  },
  {
   "cell_type": "markdown",
   "metadata": {},
   "source": [
    "Retornando os dados para valores de precision maiores que 0.9:"
   ]
  },
  {
   "cell_type": "code",
   "execution_count": 51,
   "metadata": {
    "scrolled": true
   },
   "outputs": [
    {
     "data": {
      "text/html": [
       "<div>\n",
       "<style scoped>\n",
       "    .dataframe tbody tr th:only-of-type {\n",
       "        vertical-align: middle;\n",
       "    }\n",
       "\n",
       "    .dataframe tbody tr th {\n",
       "        vertical-align: top;\n",
       "    }\n",
       "\n",
       "    .dataframe thead th {\n",
       "        text-align: right;\n",
       "    }\n",
       "</style>\n",
       "<table border=\"1\" class=\"dataframe\">\n",
       "  <thead>\n",
       "    <tr style=\"text-align: right;\">\n",
       "      <th></th>\n",
       "      <th>precisions</th>\n",
       "      <th>recalls</th>\n",
       "      <th>thresholds</th>\n",
       "    </tr>\n",
       "  </thead>\n",
       "  <tbody>\n",
       "    <tr>\n",
       "      <th>118</th>\n",
       "      <td>0.919</td>\n",
       "      <td>0.890</td>\n",
       "      <td>0.312</td>\n",
       "    </tr>\n",
       "    <tr>\n",
       "      <th>123</th>\n",
       "      <td>0.924</td>\n",
       "      <td>0.864</td>\n",
       "      <td>0.386</td>\n",
       "    </tr>\n",
       "    <tr>\n",
       "      <th>124</th>\n",
       "      <td>0.923</td>\n",
       "      <td>0.857</td>\n",
       "      <td>0.386</td>\n",
       "    </tr>\n",
       "    <tr>\n",
       "      <th>125</th>\n",
       "      <td>0.923</td>\n",
       "      <td>0.851</td>\n",
       "      <td>0.398</td>\n",
       "    </tr>\n",
       "    <tr>\n",
       "      <th>126</th>\n",
       "      <td>0.929</td>\n",
       "      <td>0.851</td>\n",
       "      <td>0.422</td>\n",
       "    </tr>\n",
       "    <tr>\n",
       "      <th>...</th>\n",
       "      <td>...</td>\n",
       "      <td>...</td>\n",
       "      <td>...</td>\n",
       "    </tr>\n",
       "    <tr>\n",
       "      <th>262</th>\n",
       "      <td>1.000</td>\n",
       "      <td>0.032</td>\n",
       "      <td>0.999</td>\n",
       "    </tr>\n",
       "    <tr>\n",
       "      <th>263</th>\n",
       "      <td>1.000</td>\n",
       "      <td>0.026</td>\n",
       "      <td>0.999</td>\n",
       "    </tr>\n",
       "    <tr>\n",
       "      <th>264</th>\n",
       "      <td>1.000</td>\n",
       "      <td>0.019</td>\n",
       "      <td>0.999</td>\n",
       "    </tr>\n",
       "    <tr>\n",
       "      <th>265</th>\n",
       "      <td>1.000</td>\n",
       "      <td>0.013</td>\n",
       "      <td>0.999</td>\n",
       "    </tr>\n",
       "    <tr>\n",
       "      <th>266</th>\n",
       "      <td>1.000</td>\n",
       "      <td>0.006</td>\n",
       "      <td>0.999</td>\n",
       "    </tr>\n",
       "  </tbody>\n",
       "</table>\n",
       "<p>145 rows × 3 columns</p>\n",
       "</div>"
      ],
      "text/plain": [
       "     precisions  recalls  thresholds\n",
       "118       0.919    0.890       0.312\n",
       "123       0.924    0.864       0.386\n",
       "124       0.923    0.857       0.386\n",
       "125       0.923    0.851       0.398\n",
       "126       0.929    0.851       0.422\n",
       "..          ...      ...         ...\n",
       "262       1.000    0.032       0.999\n",
       "263       1.000    0.026       0.999\n",
       "264       1.000    0.019       0.999\n",
       "265       1.000    0.013       0.999\n",
       "266       1.000    0.006       0.999\n",
       "\n",
       "[145 rows x 3 columns]"
      ]
     },
     "execution_count": 51,
     "metadata": {},
     "output_type": "execute_result"
    }
   ],
   "source": [
    "precisions_recalls[precisions_recalls['precisions']>=0.919]"
   ]
  },
  {
   "cell_type": "markdown",
   "metadata": {},
   "source": [
    "Podemos verificar para qual threshold temos precision igual a recall:"
   ]
  },
  {
   "cell_type": "code",
   "execution_count": 52,
   "metadata": {},
   "outputs": [
    {
     "data": {
      "text/html": [
       "<div>\n",
       "<style scoped>\n",
       "    .dataframe tbody tr th:only-of-type {\n",
       "        vertical-align: middle;\n",
       "    }\n",
       "\n",
       "    .dataframe tbody tr th {\n",
       "        vertical-align: top;\n",
       "    }\n",
       "\n",
       "    .dataframe thead th {\n",
       "        text-align: right;\n",
       "    }\n",
       "</style>\n",
       "<table border=\"1\" class=\"dataframe\">\n",
       "  <thead>\n",
       "    <tr style=\"text-align: right;\">\n",
       "      <th></th>\n",
       "      <th>precisions</th>\n",
       "      <th>recalls</th>\n",
       "      <th>thresholds</th>\n",
       "    </tr>\n",
       "  </thead>\n",
       "  <tbody>\n",
       "    <tr>\n",
       "      <th>113</th>\n",
       "      <td>0.896</td>\n",
       "      <td>0.896</td>\n",
       "      <td>0.249</td>\n",
       "    </tr>\n",
       "  </tbody>\n",
       "</table>\n",
       "</div>"
      ],
      "text/plain": [
       "     precisions  recalls  thresholds\n",
       "113       0.896    0.896       0.249"
      ]
     },
     "execution_count": 52,
     "metadata": {},
     "output_type": "execute_result"
    }
   ],
   "source": [
    "precisions_recalls[precisions_recalls['precisions']==precisions_recalls['recalls']]"
   ]
  },
  {
   "cell_type": "markdown",
   "metadata": {},
   "source": [
    "Para plotar:"
   ]
  },
  {
   "cell_type": "code",
   "execution_count": 53,
   "metadata": {
    "ExecuteTime": {
     "end_time": "2022-01-28T22:11:53.054328Z",
     "start_time": "2022-01-28T22:11:52.791442Z"
    },
    "scrolled": true
   },
   "outputs": [
    {
     "data": {
      "image/png": "[encoded data removed]",
      "text/plain": [
       "<Figure size 432x288 with 1 Axes>"
      ]
     },
     "metadata": {
      "needs_background": "light"
     },
     "output_type": "display_data"
    }
   ],
   "source": [
    "plt.title(\"Precision-recall curve\")\n",
    "\n",
    "plt.plot(recalls, precisions)\n",
    "\n",
    "plt.xlabel(\"Recall\")\n",
    "plt.ylabel(\"Precision\")\n",
    "\n",
    "plt.show()"
   ]
  },
  {
   "cell_type": "markdown",
   "metadata": {},
   "source": [
    "Curva Precision Recall passando o modelo e os dados de teste:"
   ]
  },
  {
   "cell_type": "code",
   "execution_count": 59,
   "metadata": {
    "ExecuteTime": {
     "end_time": "2022-01-28T22:11:53.306180Z",
     "start_time": "2022-01-28T22:11:53.057324Z"
    }
   },
   "outputs": [
    {
     "data": {
      "image/png": "[encoded data removed]",
      "text/plain": [
       "<Figure size 432x288 with 1 Axes>"
      ]
     },
     "metadata": {
      "needs_background": "light"
     },
     "output_type": "display_data"
    }
   ],
   "source": [
    "# PrecisionRecallDisplay (from_estimator)\n",
    "from sklearn.metrics import PrecisionRecallDisplay\n",
    "PrecisionRecallDisplay.from_estimator(logit, X_test, y_test);"
   ]
  },
  {
   "cell_type": "markdown",
   "metadata": {},
   "source": [
    "Curva Precision Recall passando os targets reais e as previsões:"
   ]
  },
  {
   "cell_type": "code",
   "execution_count": 61,
   "metadata": {
    "ExecuteTime": {
     "end_time": "2022-01-28T22:11:53.619002Z",
     "start_time": "2022-01-28T22:11:53.317173Z"
    }
   },
   "outputs": [
    {
     "data": {
      "image/png": "[encoded data removed]",
      "text/plain": [
       "<Figure size 432x288 with 1 Axes>"
      ]
     },
     "metadata": {
      "needs_background": "light"
     },
     "output_type": "display_data"
    }
   ],
   "source": [
    "# PrecisionRecallDisplay (from_predictions)\n",
    "y_proba_1 = logit.predict_proba(X_test)[:,1]\n",
    "PrecisionRecallDisplay.from_predictions(y_test,y_proba_1);"
   ]
  },
  {
   "cell_type": "markdown",
   "metadata": {},
   "source": [
    "A precisão média (AP) resume tal gráfico como a média ponderada dos valores de Precision alcançadas em cada threshold, com o aumento do recall do threshold anterior usado como peso:\n",
    "\n",
    "$$AP = \\sum_n (R_n - R_{n-1})P_n$$"
   ]
  },
  {
   "cell_type": "markdown",
   "metadata": {},
   "source": [
    "________\n",
    "\n",
    "### Curva ROC e AUC-ROC (AUROC)\n",
    "\n",
    "Veremos agora uma outra métrica de avaliação de modelos de classificação que é intimamente ligada com os diferentes thresholds possíveis -- a **AUC (Area Under The Curve) da curva ROC (Receiver Operating Characteristics)**, por vezes chamada de **AUROC (Area Under the Receiver Operating Characteristics)**\n",
    "\n",
    "A curva **ROC é uma curva de probabilidade**, sendo que **AUC é a área sob a curva**, representando **o grau de separabilidade atingido pelo modelo**.\n",
    "\n",
    "Ou seja, esta medida nos diz **o quanto o modelo é capaz de distinguir entre duas classes**.\n",
    "\n",
    "A curva ROC é construída com a **taxa de falsos positivos** no eixo x, e a **taxa de verdadeiros positivos** no eixo y, para diferentes **thresholds de classificação**:\n",
    "\n",
    "<img src=\"https://miro.medium.com/max/1175/1*2nd7NTEBosPakccmLVWy9A.png\" width=500>\n",
    "\n",
    "* A True Positive Rate (TPR, também conhecisa como Recall) é calculada como $\\frac{TP}{TP+FN}$\n",
    "\n",
    "* A False Positive Rate (FPR) é calculada como $\\frac{FP}{FP+TN}$\n",
    "\n",
    "O valor do AUC-ROC sempre estará **entre 0 e 1**, sendo que **quanto mais próximo de 1, melhor o modelo**.\n",
    "\n",
    "> Valores de AUC-ROC maiores que 0.5 (mais próximos de 1) significam que o modelo tem uma **taxa de veridadeiros positivos maior que a taxa de falsos positivos**, ou seja, o modelo está acertando mais!\n",
    "\n",
    "Quanto **mais próximo de 0** (para valores abaixo de 0.5), teremos um modelo que faz um bom trabalho em separar as classes, mas as classifica erroneamente.\n",
    "\n",
    "E, quanto **mas próximo de 0.5**, pior é o modelo em separar as classes: seria um modelo que simplesmente chuta aleatoriamente ora a classe 0, ora a classe 1. Veja as imagens a seguir para uma ilustração:\n",
    "\n",
    "<img src=\"https://miro.medium.com/max/528/1*Uu-t4pOotRQFoyrfqEvIEg.png\" width=500>\n",
    "\n",
    "\n",
    "<img src=\"https://miro.medium.com/max/507/1*yF8hvKR9eNfqqej2JnVKzg.png\" width=500>\n",
    "\n",
    "\n",
    "<img src=\"https://miro.medium.com/max/430/1*iLW_BrJZRI0UZSflfMrmZQ.png\" width=500>\n",
    "\n",
    "\n",
    "<img src=\"https://miro.medium.com/max/556/1*aUZ7H-Lw74KSucoLlj1pgw.png\" width=500>\n",
    "\n",
    "Ao olhar para a curva em si, temos a seguinte interpretação:\n",
    "\n",
    "<img src=\"https://i.ytimg.com/vi/J9l8J1MeCbY/hqdefault.jpg\" width=400>\n",
    "\n",
    "Para aprender mais sobre a construção da curva ROC, sugiro [este StatQuest!](https://www.youtube.com/watch?v=4jRBRDbJemM)"
   ]
  },
  {
   "cell_type": "code",
   "execution_count": 62,
   "metadata": {
    "ExecuteTime": {
     "end_time": "2022-01-28T22:59:08.496396Z",
     "start_time": "2022-01-28T22:59:08.486403Z"
    }
   },
   "outputs": [],
   "source": [
    "# roc_curve sklearn\n",
    "from sklearn.metrics import roc_curve\n",
    "\n",
    "fpr, tpr, thrsholds = roc_curve(y_test, y_proba_1)"
   ]
  },
  {
   "cell_type": "markdown",
   "metadata": {},
   "source": [
    "Para plotar:"
   ]
  },
  {
   "cell_type": "code",
   "execution_count": 64,
   "metadata": {
    "ExecuteTime": {
     "end_time": "2022-01-28T23:01:18.179554Z",
     "start_time": "2022-01-28T23:01:17.886727Z"
    }
   },
   "outputs": [
    {
     "data": {
      "image/png": "[encoded data removed]",
      "text/plain": [
       "<Figure size 432x288 with 1 Axes>"
      ]
     },
     "metadata": {
      "needs_background": "light"
     },
     "output_type": "display_data"
    }
   ],
   "source": [
    "plt.title(\"ROC curve\")\n",
    "\n",
    "plt.plot(fpr, tpr)\n",
    "\n",
    "plt.xlabel(\"FPR\")\n",
    "plt.ylabel(\"TPR\")\n",
    "\n",
    "x = np.linspace(0, 1, 100)\n",
    "y = x\n",
    "plt.plot(x, y, ls=\":\", color=\"black\")\n",
    "plt.grid()\n",
    "\n",
    "plt.show()"
   ]
  },
  {
   "cell_type": "code",
   "execution_count": 66,
   "metadata": {
    "ExecuteTime": {
     "end_time": "2022-01-28T23:03:33.303890Z",
     "start_time": "2022-01-28T23:03:32.936483Z"
    }
   },
   "outputs": [
    {
     "data": {
      "image/png": "[encoded data removed]",
      "text/plain": [
       "<Figure size 432x288 with 1 Axes>"
      ]
     },
     "metadata": {
      "needs_background": "light"
     },
     "output_type": "display_data"
    }
   ],
   "source": [
    "#RocCurveDisplay\n",
    "from sklearn.metrics import RocCurveDisplay\n",
    "\n",
    "RocCurveDisplay.from_predictions(y_test, y_proba_1)\n",
    "\n",
    "x = np.linspace(0, 1, 100)\n",
    "y = x\n",
    "plt.plot(x, y, ls=\":\", color=\"black\")\n",
    "plt.grid()\n",
    "\n",
    "plt.show()"
   ]
  },
  {
   "cell_type": "markdown",
   "metadata": {},
   "source": [
    "Por fim, pra calcular o AUC-ROC:"
   ]
  },
  {
   "cell_type": "code",
   "execution_count": 67,
   "metadata": {
    "ExecuteTime": {
     "end_time": "2022-01-28T23:04:54.083637Z",
     "start_time": "2022-01-28T23:04:54.048658Z"
    }
   },
   "outputs": [
    {
     "data": {
      "text/plain": [
       "0.9559242127735279"
      ]
     },
     "execution_count": 67,
     "metadata": {},
     "output_type": "execute_result"
    }
   ],
   "source": [
    "from sklearn.metrics import roc_auc_score\n",
    "\n",
    "roc_auc_score(y_test, y_proba_1)"
   ]
  },
  {
   "cell_type": "markdown",
   "metadata": {},
   "source": [
    "___\n",
    "___\n",
    "___"
   ]
  },
  {
   "cell_type": "markdown",
   "metadata": {},
   "source": [
    "### E se tivermos uma classificação multiclasse?\n",
    "\n",
    "Há problemas em que temos um problema de **classificação multiclasse**, pois há mais do que duas classes a serem preditas.\n",
    "\n",
    "<img src=\"https://utkuufuk.com/2018/06/03/one-vs-all-classification/one-vs-all.png\">\n",
    "\n",
    "Boa noitícia: o operacional de construção e avaliação do modelo com o sklearn muda em absolutamente **nada**.\n",
    "\n",
    "No entanto, conceitualmente, há algumas mudanças: a rigor, o modelo passa a se chamar **regresão logística MULTINOMIAL**, cujo processo de classificação é dado pela função **softmax**:\n",
    "\n",
    "<img src=\"https://i.stack.imgur.com/YLeRi.png\" width=600>"
   ]
  },
  {
   "cell_type": "markdown",
   "metadata": {},
   "source": [
    "Para quem quiser saber mais sobre o \"logit score\", [clique aqui](https://stats.stackexchange.com/questions/329857/what-is-the-difference-between-decision-function-predict-proba-and-predict-fun).\n",
    "\n",
    "Essencialmente, esse é o valor do termo linear usado como argumento da sigmoide, isto é, $z(x) = b_0 + b_1 x_1 + \\cdots + b_p x_p$"
   ]
  },
  {
   "cell_type": "code",
   "execution_count": 68,
   "metadata": {
    "ExecuteTime": {
     "end_time": "2022-01-28T23:26:05.101351Z",
     "start_time": "2022-01-28T23:26:05.073264Z"
    }
   },
   "outputs": [
    {
     "data": {
      "text/plain": [
       "array([0, 1, 1, 1, 0, 0, 0, 1, 0, 1, 0, 1, 1, 0, 1, 1, 1, 1, 0, 1, 0, 1,\n",
       "       1, 0, 0, 1, 0, 0, 1, 1, 0, 1, 0, 1, 1, 0, 0, 0, 1, 1, 0, 1, 0, 1,\n",
       "       0, 0, 1, 1, 0, 1, 1, 0, 1, 0, 0, 0, 0, 1, 0, 1, 0, 1, 0, 1, 1, 1,\n",
       "       1, 0, 1, 1, 1, 1, 0, 0, 1, 0, 0, 1, 0, 0, 1, 1, 1, 1, 0, 0, 0, 0,\n",
       "       0, 0, 0, 0, 0, 1, 0, 0, 1, 1, 0, 0, 1, 0, 1, 0, 1, 1, 1, 0, 1, 0,\n",
       "       1, 0, 1, 1, 0, 1, 0, 0, 0, 0, 1, 1, 1, 0, 0, 0, 1, 0, 0, 1, 1, 1,\n",
       "       1, 0, 0, 0, 0, 0, 0, 1, 0, 0, 1, 0, 0, 1, 1, 0, 0, 0, 0, 0, 1, 0,\n",
       "       1, 0, 1, 0, 0, 0, 1, 1, 0, 0, 1, 0, 0, 0, 0, 0, 1, 0, 1, 0, 1, 1,\n",
       "       1, 1, 1, 1, 1, 0, 1, 1, 1, 1, 0, 1, 1, 1, 0, 1, 0, 0, 1, 1, 1, 1,\n",
       "       0, 1, 0, 0, 0, 0, 1, 0, 1, 0, 0, 0, 0, 1, 1, 1, 1, 0, 0, 0, 0, 1,\n",
       "       0, 0, 1, 1, 0, 0, 0, 0, 0, 0, 0, 0, 0, 1, 0, 0, 1, 0, 1, 0, 0, 0,\n",
       "       0, 0, 0, 0, 0, 0, 0, 0, 1, 1, 1, 0, 0, 0, 1, 1, 1, 0, 0, 1, 1, 0,\n",
       "       1, 0, 1, 0, 0, 1, 1, 1, 1, 0, 1, 0, 1, 0, 0, 0, 1, 0, 0, 0, 1, 0,\n",
       "       0, 0, 1, 1, 0, 0, 0, 1, 0, 1, 0, 1, 1, 0], dtype=int64)"
      ]
     },
     "execution_count": 68,
     "metadata": {},
     "output_type": "execute_result"
    }
   ],
   "source": [
    "logit.predict(X_test)"
   ]
  },
  {
   "cell_type": "code",
   "execution_count": 69,
   "metadata": {
    "ExecuteTime": {
     "end_time": "2022-01-28T23:26:27.015455Z",
     "start_time": "2022-01-28T23:26:26.987474Z"
    },
    "scrolled": false
   },
   "outputs": [
    {
     "data": {
      "text/plain": [
       "array([[0.506, 0.494],\n",
       "       [0.003, 0.997],\n",
       "       [0.05 , 0.95 ],\n",
       "       [0.01 , 0.99 ],\n",
       "       [0.97 , 0.03 ],\n",
       "       [0.715, 0.285],\n",
       "       [0.977, 0.023],\n",
       "       [0.009, 0.991],\n",
       "       [0.691, 0.309],\n",
       "       [0.052, 0.948],\n",
       "       [0.981, 0.019],\n",
       "       [0.091, 0.909],\n",
       "       [0.003, 0.997],\n",
       "       [0.976, 0.024],\n",
       "       [0.082, 0.918],\n",
       "       [0.006, 0.994],\n",
       "       [0.001, 0.999],\n",
       "       [0.032, 0.968],\n",
       "       [0.907, 0.093],\n",
       "       [0.01 , 0.99 ],\n",
       "       [0.907, 0.093],\n",
       "       [0.013, 0.987],\n",
       "       [0.006, 0.994],\n",
       "       [0.985, 0.015],\n",
       "       [0.98 , 0.02 ],\n",
       "       [0.005, 0.995],\n",
       "       [0.991, 0.009],\n",
       "       [0.985, 0.015],\n",
       "       [0.009, 0.991],\n",
       "       [0.269, 0.731],\n",
       "       [0.983, 0.017],\n",
       "       [0.331, 0.669],\n",
       "       [0.964, 0.036],\n",
       "       [0.143, 0.857],\n",
       "       [0.002, 0.998],\n",
       "       [0.929, 0.071],\n",
       "       [0.975, 0.025],\n",
       "       [0.889, 0.111],\n",
       "       [0.135, 0.865],\n",
       "       [0.02 , 0.98 ],\n",
       "       [0.986, 0.014],\n",
       "       [0.081, 0.919],\n",
       "       [0.976, 0.024],\n",
       "       [0.016, 0.984],\n",
       "       [0.988, 0.012],\n",
       "       [0.899, 0.101],\n",
       "       [0.008, 0.992],\n",
       "       [0.002, 0.998],\n",
       "       [0.976, 0.024],\n",
       "       [0.003, 0.997],\n",
       "       [0.019, 0.981],\n",
       "       [0.992, 0.008],\n",
       "       [0.116, 0.884],\n",
       "       [0.988, 0.012],\n",
       "       [0.888, 0.112],\n",
       "       [0.933, 0.067],\n",
       "       [0.864, 0.136],\n",
       "       [0.002, 0.998],\n",
       "       [0.975, 0.025],\n",
       "       [0.039, 0.961],\n",
       "       [0.923, 0.077],\n",
       "       [0.009, 0.991],\n",
       "       [0.891, 0.109],\n",
       "       [0.028, 0.972],\n",
       "       [0.122, 0.878],\n",
       "       [0.026, 0.974],\n",
       "       [0.001, 0.999],\n",
       "       [0.936, 0.064],\n",
       "       [0.295, 0.705],\n",
       "       [0.049, 0.951],\n",
       "       [0.027, 0.973],\n",
       "       [0.499, 0.501],\n",
       "       [0.872, 0.128],\n",
       "       [0.949, 0.051],\n",
       "       [0.159, 0.841],\n",
       "       [0.936, 0.064],\n",
       "       [0.965, 0.035],\n",
       "       [0.035, 0.965],\n",
       "       [0.509, 0.491],\n",
       "       [0.935, 0.065],\n",
       "       [0.01 , 0.99 ],\n",
       "       [0.034, 0.966],\n",
       "       [0.423, 0.577],\n",
       "       [0.448, 0.552],\n",
       "       [0.925, 0.075],\n",
       "       [0.96 , 0.04 ],\n",
       "       [0.98 , 0.02 ],\n",
       "       [0.994, 0.006],\n",
       "       [0.916, 0.084],\n",
       "       [0.961, 0.039],\n",
       "       [0.912, 0.088],\n",
       "       [0.782, 0.218],\n",
       "       [0.932, 0.068],\n",
       "       [0.097, 0.903],\n",
       "       [0.778, 0.222],\n",
       "       [0.968, 0.032],\n",
       "       [0.001, 0.999],\n",
       "       [0.107, 0.893],\n",
       "       [0.902, 0.098],\n",
       "       [0.971, 0.029],\n",
       "       [0.083, 0.917],\n",
       "       [0.991, 0.009],\n",
       "       [0.008, 0.992],\n",
       "       [0.967, 0.033],\n",
       "       [0.004, 0.996],\n",
       "       [0.493, 0.507],\n",
       "       [0.133, 0.867],\n",
       "       [0.602, 0.398],\n",
       "       [0.014, 0.986],\n",
       "       [0.955, 0.045],\n",
       "       [0.002, 0.998],\n",
       "       [0.943, 0.057],\n",
       "       [0.041, 0.959],\n",
       "       [0.004, 0.996],\n",
       "       [0.812, 0.188],\n",
       "       [0.478, 0.522],\n",
       "       [0.976, 0.024],\n",
       "       [0.853, 0.147],\n",
       "       [0.957, 0.043],\n",
       "       [0.54 , 0.46 ],\n",
       "       [0.098, 0.902],\n",
       "       [0.032, 0.968],\n",
       "       [0.001, 0.999],\n",
       "       [0.975, 0.025],\n",
       "       [0.77 , 0.23 ],\n",
       "       [0.973, 0.027],\n",
       "       [0.471, 0.529],\n",
       "       [0.971, 0.029],\n",
       "       [0.756, 0.244],\n",
       "       [0.437, 0.563],\n",
       "       [0.027, 0.973],\n",
       "       [0.002, 0.998],\n",
       "       [0.042, 0.958],\n",
       "       [0.952, 0.048],\n",
       "       [0.751, 0.249],\n",
       "       [0.904, 0.096],\n",
       "       [0.964, 0.036],\n",
       "       [0.909, 0.091],\n",
       "       [0.974, 0.026],\n",
       "       [0.136, 0.864],\n",
       "       [0.988, 0.012],\n",
       "       [0.624, 0.376],\n",
       "       [0.083, 0.917],\n",
       "       [0.784, 0.216],\n",
       "       [0.991, 0.009],\n",
       "       [0.026, 0.974],\n",
       "       [0.365, 0.635],\n",
       "       [0.971, 0.029],\n",
       "       [0.98 , 0.02 ],\n",
       "       [0.751, 0.249],\n",
       "       [0.983, 0.017],\n",
       "       [0.983, 0.017],\n",
       "       [0.244, 0.756],\n",
       "       [0.974, 0.026],\n",
       "       [0.026, 0.974],\n",
       "       [0.948, 0.052],\n",
       "       [0.002, 0.998],\n",
       "       [0.99 , 0.01 ],\n",
       "       [0.968, 0.032],\n",
       "       [0.822, 0.178],\n",
       "       [0.155, 0.845],\n",
       "       [0.012, 0.988],\n",
       "       [0.982, 0.018],\n",
       "       [0.624, 0.376],\n",
       "       [0.118, 0.882],\n",
       "       [0.891, 0.109],\n",
       "       [0.962, 0.038],\n",
       "       [0.983, 0.017],\n",
       "       [0.765, 0.235],\n",
       "       [0.921, 0.079],\n",
       "       [0.032, 0.968],\n",
       "       [0.678, 0.322],\n",
       "       [0.002, 0.998],\n",
       "       [0.975, 0.025],\n",
       "       [0.375, 0.625],\n",
       "       [0.346, 0.654],\n",
       "       [0.006, 0.994],\n",
       "       [0.475, 0.525],\n",
       "       [0.002, 0.998],\n",
       "       [0.099, 0.901],\n",
       "       [0.424, 0.576],\n",
       "       [0.982, 0.018],\n",
       "       [0.03 , 0.97 ],\n",
       "       [0.044, 0.956],\n",
       "       [0.017, 0.983],\n",
       "       [0.029, 0.971],\n",
       "       [0.911, 0.089],\n",
       "       [0.004, 0.996],\n",
       "       [0.128, 0.872],\n",
       "       [0.085, 0.915],\n",
       "       [0.81 , 0.19 ],\n",
       "       [0.003, 0.997],\n",
       "       [0.928, 0.072],\n",
       "       [0.97 , 0.03 ],\n",
       "       [0.104, 0.896],\n",
       "       [0.098, 0.902],\n",
       "       [0.006, 0.994],\n",
       "       [0.001, 0.999],\n",
       "       [0.967, 0.033],\n",
       "       [0.035, 0.965],\n",
       "       [0.993, 0.007],\n",
       "       [0.94 , 0.06 ],\n",
       "       [0.858, 0.142],\n",
       "       [0.985, 0.015],\n",
       "       [0.004, 0.996],\n",
       "       [0.988, 0.012],\n",
       "       [0.39 , 0.61 ],\n",
       "       [0.949, 0.051],\n",
       "       [0.921, 0.079],\n",
       "       [0.976, 0.024],\n",
       "       [0.919, 0.081],\n",
       "       [0.362, 0.638],\n",
       "       [0.006, 0.994],\n",
       "       [0.005, 0.995],\n",
       "       [0.009, 0.991],\n",
       "       [0.961, 0.039],\n",
       "       [0.94 , 0.06 ],\n",
       "       [0.841, 0.159],\n",
       "       [0.948, 0.052],\n",
       "       [0.016, 0.984],\n",
       "       [0.98 , 0.02 ],\n",
       "       [0.688, 0.312],\n",
       "       [0.003, 0.997],\n",
       "       [0.005, 0.995],\n",
       "       [0.967, 0.033],\n",
       "       [0.988, 0.012],\n",
       "       [0.97 , 0.03 ],\n",
       "       [0.985, 0.015],\n",
       "       [0.988, 0.012],\n",
       "       [0.983, 0.017],\n",
       "       [0.734, 0.266],\n",
       "       [0.683, 0.317],\n",
       "       [0.578, 0.422],\n",
       "       [0.001, 0.999],\n",
       "       [0.965, 0.035],\n",
       "       [0.979, 0.021],\n",
       "       [0.161, 0.839],\n",
       "       [0.534, 0.466],\n",
       "       [0.003, 0.997],\n",
       "       [0.956, 0.044],\n",
       "       [0.983, 0.017],\n",
       "       [0.966, 0.034],\n",
       "       [0.8  , 0.2  ],\n",
       "       [0.993, 0.007],\n",
       "       [0.946, 0.054],\n",
       "       [0.93 , 0.07 ],\n",
       "       [0.952, 0.048],\n",
       "       [0.964, 0.036],\n",
       "       [0.879, 0.121],\n",
       "       [0.614, 0.386],\n",
       "       [0.06 , 0.94 ],\n",
       "       [0.03 , 0.97 ],\n",
       "       [0.123, 0.877],\n",
       "       [0.835, 0.165],\n",
       "       [0.574, 0.426],\n",
       "       [0.901, 0.099],\n",
       "       [0.022, 0.978],\n",
       "       [0.018, 0.982],\n",
       "       [0.002, 0.998],\n",
       "       [0.988, 0.012],\n",
       "       [0.891, 0.109],\n",
       "       [0.272, 0.728],\n",
       "       [0.035, 0.965],\n",
       "       [0.848, 0.152],\n",
       "       [0.022, 0.978],\n",
       "       [0.987, 0.013],\n",
       "       [0.136, 0.864],\n",
       "       [0.975, 0.025],\n",
       "       [0.928, 0.072],\n",
       "       [0.014, 0.986],\n",
       "       [0.017, 0.983],\n",
       "       [0.083, 0.917],\n",
       "       [0.001, 0.999],\n",
       "       [0.878, 0.122],\n",
       "       [0.047, 0.953],\n",
       "       [0.989, 0.011],\n",
       "       [0.009, 0.991],\n",
       "       [0.987, 0.013],\n",
       "       [0.979, 0.021],\n",
       "       [0.925, 0.075],\n",
       "       [0.005, 0.995],\n",
       "       [0.944, 0.056],\n",
       "       [0.958, 0.042],\n",
       "       [0.614, 0.386],\n",
       "       [0.103, 0.897],\n",
       "       [0.965, 0.035],\n",
       "       [0.918, 0.082],\n",
       "       [0.981, 0.019],\n",
       "       [0.043, 0.957],\n",
       "       [0.054, 0.946],\n",
       "       [0.822, 0.178],\n",
       "       [0.977, 0.023],\n",
       "       [0.918, 0.082],\n",
       "       [0.315, 0.685],\n",
       "       [0.968, 0.032],\n",
       "       [0.007, 0.993],\n",
       "       [0.829, 0.171],\n",
       "       [0.495, 0.505],\n",
       "       [0.006, 0.994],\n",
       "       [0.862, 0.138]])"
      ]
     },
     "execution_count": 69,
     "metadata": {},
     "output_type": "execute_result"
    }
   ],
   "source": [
    "#Resultado da classe escolhida vai ser dado pela maior probabilidade\n",
    "logit.predict_proba(X_test)"
   ]
  }
 ],
 "metadata": {
  "kernelspec": {
   "display_name": "Python 3",
   "language": "python",
   "name": "python3"
  },
  "language_info": {
   "codemirror_mode": {
    "name": "ipython",
    "version": 3
   },
   "file_extension": ".py",
   "mimetype": "text/x-python",
   "name": "python",
   "nbconvert_exporter": "python",
   "pygments_lexer": "ipython3",
   "version": "3.8.8"
  },
  "toc": {
   "base_numbering": 1,
   "nav_menu": {
    "height": "249.667px",
    "width": "359.667px"
   },
   "number_sections": true,
   "sideBar": true,
   "skip_h1_title": false,
   "title_cell": "Table of Contents",
   "title_sidebar": "Contents",
   "toc_cell": false,
   "toc_position": {},
   "toc_section_display": true,
   "toc_window_display": false
  },
  "varInspector": {
   "cols": {
    "lenName": 16,
    "lenType": 16,
    "lenVar": 40
   },
   "kernels_config": {
    "python": {
     "delete_cmd_postfix": "",
     "delete_cmd_prefix": "del ",
     "library": "var_list.py",
     "varRefreshCmd": "print(var_dic_list())"
    },
    "r": {
     "delete_cmd_postfix": ") ",
     "delete_cmd_prefix": "rm(",
     "library": "var_list.r",
     "varRefreshCmd": "cat(var_dic_list()) "
    }
   },
   "types_to_exclude": [
    "module",
    "function",
    "builtin_function_or_method",
    "instance",
    "_Feature"
   ],
   "window_display": false
  }
 },
 "nbformat": 4,
 "nbformat_minor": 2
}
