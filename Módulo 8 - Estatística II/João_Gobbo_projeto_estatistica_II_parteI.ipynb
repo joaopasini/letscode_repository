{
 "cells": [
  {
   "cell_type": "markdown",
   "metadata": {
    "id": "DkJ6KizsgN0-"
   },
   "source": [
    "# Projeto de Estatística II\n",
    "\n",
    "\n",
    "## Parte I - Regressão Linear\n",
    "\n",
    "-------------------------------\n",
    "\n",
    "**Instruções:**\n",
    "\n",
    "- A primeira parte do projeto engloba a avliação dos tópicos de regressão linear.\n",
    "- Ela deve ser entregue até o dia 26/04/2022.\n",
    "- Para a entrega, salve seu notebook na pasta Projetos do nosso drive com o nome do notebook com o seguinte padrão: [primeiro nome]_[sobrenome]_projeto_estatistica_II_parteI.ipynb\n",
    "- A avaliação será registrada nos notebooks em formato de comentários.\n",
    "-------------------------------\n",
    "\n",
    "O dataset 'cancer_EUA.csv' relaciona a taxa de mortalidade por câncer em alguns condados dos EUA e outras features destes condados.\n",
    "\n",
    "Dicionário dos dados:\n",
    "\n",
    "* TARGET_deathRate: Dependent variable. Mean per capita (100,000) cancer mortalities\n",
    "\n",
    "* avgAnnCount: Mean number of reported cases of cancer diagnosed annually\n",
    "\n",
    "* avgDeathsPerYear: Mean number of reported mortalities due to cancer\n",
    "\n",
    "* incidenceRate: Mean per capita (100,000) cancer diagoses\n",
    "\n",
    "* medianIncome: Median income per county\n",
    "\n",
    "* popEst2015: Population of county\n",
    "\n",
    "* povertyPercent: Percent of populace in poverty\n",
    "\n",
    "* studyPerCap: Per capita number of cancer-related clinical trials per county\n",
    "\n",
    "* binnedInc: Median income per capita binned by decile\n",
    "\n",
    "* MedianAge: Median age of county residents\n",
    "\n",
    "* MedianAgeMale: Median age of male county residents\n",
    "\n",
    "* MedianAgeFemale: Median age of female county residents\n",
    "\n",
    "* Geography: County name\n",
    "\n",
    "* AvgHouseholdSize: Mean household size of county\n",
    "\n",
    "* PercentMarried: Percent of county residents who are married\n",
    "\n",
    "* PctNoHS18_24: Percent of county residents ages 18-24 highest education attained: less than high school\n",
    "\n",
    "* PctHS18_24: Percent of county residents ages 18-24 highest education attained: high school diploma\n",
    "\n",
    "* PctSomeCol18_24: Percent of county residents ages 18-24 highest education attained: some college\n",
    "\n",
    "* PctBachDeg18_24: Percent of county residents ages 18-24 highest education attained: bachelor's degree\n",
    "\n",
    "* PctHS25_Over: Percent of county residents ages 25 and over highest education attained: high school diploma\n",
    "\n",
    "* PctBachDeg25_Over: Percent of county residents ages 25 and over highest education attained: bachelor's degree\n",
    "\n",
    "* PctEmployed16_Over: Percent of county residents ages 16 and over employed\n",
    "\n",
    "* PctUnemployed16_Over: Percent of county residents ages 16 and over unemployed\n",
    "\n",
    "* PctPrivateCoverage: Percent of county residents with private health coverage\n",
    "\n",
    "* PctPrivateCoverageAlone: Percent of county residents with private health coverage alone (no public assistance)\n",
    "\n",
    "* PctEmpPrivCoverage: Percent of county residents with employee-provided private health coverage\n",
    "\n",
    "* PctPublicCoverage: Percent of county residents with government-provided health coverage\n",
    "\n",
    "* PctPubliceCoverageAlone: Percent of county residents with government-provided health coverage alone\n",
    "\n",
    "* PctWhite: Percent of county residents who identify as White\n",
    "\n",
    "* PctBlack: Percent of county residents who identify as Black\n",
    "\n",
    "* PctAsian: Percent of county residents who identify as Asian\n",
    "\n",
    "* PctOtherRace: Percent of county residents who identify in a category which is not White, Black, or Asian\n",
    "\n",
    "* PctMarriedHouseholds: Percent of married households\n",
    "\n",
    "* BirthRate: Number of live births relative to number of women in county"
   ]
  },
  {
   "cell_type": "markdown",
   "metadata": {
    "id": "-SAxoARfiJZm"
   },
   "source": [
    "O objetivo da primeira parte do projeto é criar um modelo linear para prever o target (TARGET_deathRate). Para isso, siga o passo a passo abaixo e apresente seus raciocínios e resultados. "
   ]
  },
  {
   "cell_type": "markdown",
   "metadata": {
    "id": "-Wv5h1dmTMIk"
   },
   "source": [
    "1. Antes de qualquer exploração dos dados, leia o dicionário dos dados e reflita sobre a feature que você acredita ser mais correlacionada com o target. (Sem medo de errar. Não existe certo ou errado nesta questão.) "
   ]
  },
  {
   "cell_type": "markdown",
   "metadata": {
    "id": "ct2T6q1FTox6"
   },
   "source": [
    "2. Agora, realize um EDA na base de dados para entender mais sobre as features. Quais são suas conclusões?"
   ]
  },
  {
   "cell_type": "markdown",
   "metadata": {
    "id": "LxswYNNuUmVO"
   },
   "source": [
    "3. Como o target está distribuído? Quais são as seus valores de média, mediana e variância? A distribuição é assimétrica?"
   ]
  },
  {
   "cell_type": "markdown",
   "metadata": {
    "id": "z3ZssBKHT7TE"
   },
   "source": [
    "3. Pensando em um modelo de Regressão Linear Simples escolha uma feature para ser a variável independente, mas procure escolher uma que faça sentido com o modelo linear. "
   ]
  },
  {
   "cell_type": "markdown",
   "metadata": {
    "id": "00A5e6ZLVGBO"
   },
   "source": [
    "    3.1. Como é a distribuição da feature escolhida? Ela possui outliers? Precisa de alguma limpeza nos dados?"
   ]
  },
  {
   "cell_type": "markdown",
   "metadata": {
    "id": "uuO3_wo0VcGe"
   },
   "source": [
    "    3.2. Treine um modelo de Regressão Linear Simples com o objetivo de predizer a variável dependente 'TARGET_deathRate'. Apresente o modelo treinado e avalie a normalidade dos resíduos. Não esqueça de dividir o dataset em treino e teste para uma posterior avaliação do modelo."
   ]
  },
  {
   "cell_type": "markdown",
   "metadata": {
    "id": "vKsuDfZhWHP4"
   },
   "source": [
    "    3.3 Utilizando as métricas de avaliação verifique o resultado do modelo para o conjunto de dados de teste."
   ]
  },
  {
   "cell_type": "markdown",
   "metadata": {},
   "source": [
    "4. Agora, treine um modelo de Regressão Linear múltipla sem utilizar o min-max scaler e outro com o min-max scaler. Qual obteve o melhor resultado no teste? Quais são as features mais importantes?"
   ]
  },
  {
   "cell_type": "markdown",
   "metadata": {},
   "source": [
    "5. Compare os três modelos desenvolvidos."
   ]
  }
 ],
 "metadata": {
  "colab": {
   "name": "projeto_estatistica_II.ipynb",
   "provenance": []
  },
  "kernelspec": {
   "display_name": "Python 3 (ipykernel)",
   "language": "python",
   "name": "python3"
  },
  "language_info": {
   "codemirror_mode": {
    "name": "ipython",
    "version": 3
   },
   "file_extension": ".py",
   "mimetype": "text/x-python",
   "name": "python",
   "nbconvert_exporter": "python",
   "pygments_lexer": "ipython3",
   "version": "3.9.7"
  }
 },
 "nbformat": 4,
 "nbformat_minor": 1
}
