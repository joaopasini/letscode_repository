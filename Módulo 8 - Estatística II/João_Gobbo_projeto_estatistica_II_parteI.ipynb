{
 "cells": [
  {
   "cell_type": "markdown",
   "metadata": {
    "id": "DkJ6KizsgN0-"
   },
   "source": [
    "# Projeto de Estatística II\n",
    "\n",
    "\n",
    "## Parte I - Regressão Linear\n",
    "\n",
    "-------------------------------\n",
    "\n",
    "**Instruções:**\n",
    "\n",
    "- A primeira parte do projeto engloba a avliação dos tópicos de regressão linear.\n",
    "- Ela deve ser entregue até o dia 26/04/2022.\n",
    "- Para a entrega, salve seu notebook na pasta Projetos do nosso drive com o nome do notebook com o seguinte padrão: [primeiro nome]_[sobrenome]_projeto_estatistica_II_parteI.ipynb\n",
    "- A avaliação será registrada nos notebooks em formato de comentários.\n",
    "-------------------------------\n",
    "\n",
    "O dataset 'cancer_EUA.csv' relaciona a taxa de mortalidade por câncer em alguns condados dos EUA e outras features destes condados.\n",
    "\n",
    "Dicionário dos dados:\n",
    "\n",
    "* TARGET_deathRate: Dependent variable. Mean per capita (100,000) cancer mortalities\n",
    "\n",
    "* avgAnnCount: Mean number of reported cases of cancer diagnosed annually\n",
    "\n",
    "* avgDeathsPerYear: Mean number of reported mortalities due to cancer\n",
    "\n",
    "* incidenceRate: Mean per capita (100,000) cancer diagoses\n",
    "\n",
    "* medianIncome: Median income per county\n",
    "\n",
    "* popEst2015: Population of county\n",
    "\n",
    "* povertyPercent: Percent of populace in poverty\n",
    "\n",
    "* studyPerCap: Per capita number of cancer-related clinical trials per county\n",
    "\n",
    "* binnedInc: Median income per capita binned by decile\n",
    "\n",
    "* MedianAge: Median age of county residents\n",
    "\n",
    "* MedianAgeMale: Median age of male county residents\n",
    "\n",
    "* MedianAgeFemale: Median age of female county residents\n",
    "\n",
    "* Geography: County name\n",
    "\n",
    "* AvgHouseholdSize: Mean household size of county\n",
    "\n",
    "* PercentMarried: Percent of county residents who are married\n",
    "\n",
    "* PctNoHS18_24: Percent of county residents ages 18-24 highest education attained: less than high school\n",
    "\n",
    "* PctHS18_24: Percent of county residents ages 18-24 highest education attained: high school diploma\n",
    "\n",
    "* PctSomeCol18_24: Percent of county residents ages 18-24 highest education attained: some college\n",
    "\n",
    "* PctBachDeg18_24: Percent of county residents ages 18-24 highest education attained: bachelor's degree\n",
    "\n",
    "* PctHS25_Over: Percent of county residents ages 25 and over highest education attained: high school diploma\n",
    "\n",
    "* PctBachDeg25_Over: Percent of county residents ages 25 and over highest education attained: bachelor's degree\n",
    "\n",
    "* PctEmployed16_Over: Percent of county residents ages 16 and over employed\n",
    "\n",
    "* PctUnemployed16_Over: Percent of county residents ages 16 and over unemployed\n",
    "\n",
    "* PctPrivateCoverage: Percent of county residents with private health coverage\n",
    "\n",
    "* PctPrivateCoverageAlone: Percent of county residents with private health coverage alone (no public assistance)\n",
    "\n",
    "* PctEmpPrivCoverage: Percent of county residents with employee-provided private health coverage\n",
    "\n",
    "* PctPublicCoverage: Percent of county residents with government-provided health coverage\n",
    "\n",
    "* PctPubliceCoverageAlone: Percent of county residents with government-provided health coverage alone\n",
    "\n",
    "* PctWhite: Percent of county residents who identify as White\n",
    "\n",
    "* PctBlack: Percent of county residents who identify as Black\n",
    "\n",
    "* PctAsian: Percent of county residents who identify as Asian\n",
    "\n",
    "* PctOtherRace: Percent of county residents who identify in a category which is not White, Black, or Asian\n",
    "\n",
    "* PctMarriedHouseholds: Percent of married households\n",
    "\n",
    "* BirthRate: Number of live births relative to number of women in county"
   ]
  },
  {
   "cell_type": "markdown",
   "metadata": {
    "id": "-SAxoARfiJZm"
   },
   "source": [
    "O objetivo da primeira parte do projeto é criar um modelo linear para prever o target (TARGET_deathRate). Para isso, siga o passo a passo abaixo e apresente seus raciocínios e resultados. "
   ]
  },
  {
   "cell_type": "markdown",
   "metadata": {
    "id": "-Wv5h1dmTMIk"
   },
   "source": [
    "1. Antes de qualquer exploração dos dados, leia o dicionário dos dados e reflita sobre a feature que você acredita ser mais correlacionada com o target. (Sem medo de errar. Não existe certo ou errado nesta questão.) "
   ]
  },
  {
   "cell_type": "markdown",
   "metadata": {},
   "source": [
    "## povertyPercent: Percent of populace in poverty\n",
    "\n",
    "Acredito que essa feature é a mais correlacionada com o target pois se trata\n",
    "da população com menores recursos para ter uma vida saudável e tratar doenças."
   ]
  },
  {
   "cell_type": "markdown",
   "metadata": {
    "id": "ct2T6q1FTox6"
   },
   "source": [
    "2. Agora, realize um EDA na base de dados para entender mais sobre as features. Quais são suas conclusões?"
   ]
  },
  {
   "cell_type": "code",
   "execution_count": 1,
   "metadata": {},
   "outputs": [],
   "source": [
    "import pandas as pd\n",
    "import numpy as np\n",
    "import matplotlib.pyplot as plt\n",
    "import seaborn as sns"
   ]
  },
  {
   "cell_type": "code",
   "execution_count": 2,
   "metadata": {},
   "outputs": [
    {
     "data": {
      "text/html": [
       "<div>\n",
       "<style scoped>\n",
       "    .dataframe tbody tr th:only-of-type {\n",
       "        vertical-align: middle;\n",
       "    }\n",
       "\n",
       "    .dataframe tbody tr th {\n",
       "        vertical-align: top;\n",
       "    }\n",
       "\n",
       "    .dataframe thead th {\n",
       "        text-align: right;\n",
       "    }\n",
       "</style>\n",
       "<table border=\"1\" class=\"dataframe\">\n",
       "  <thead>\n",
       "    <tr style=\"text-align: right;\">\n",
       "      <th></th>\n",
       "      <th>avgAnnCount</th>\n",
       "      <th>avgDeathsPerYear</th>\n",
       "      <th>TARGET_deathRate</th>\n",
       "      <th>incidenceRate</th>\n",
       "      <th>medIncome</th>\n",
       "      <th>popEst2015</th>\n",
       "      <th>povertyPercent</th>\n",
       "      <th>studyPerCap</th>\n",
       "      <th>binnedInc</th>\n",
       "      <th>MedianAge</th>\n",
       "      <th>...</th>\n",
       "      <th>PctPrivateCoverageAlone</th>\n",
       "      <th>PctEmpPrivCoverage</th>\n",
       "      <th>PctPublicCoverage</th>\n",
       "      <th>PctPublicCoverageAlone</th>\n",
       "      <th>PctWhite</th>\n",
       "      <th>PctBlack</th>\n",
       "      <th>PctAsian</th>\n",
       "      <th>PctOtherRace</th>\n",
       "      <th>PctMarriedHouseholds</th>\n",
       "      <th>BirthRate</th>\n",
       "    </tr>\n",
       "  </thead>\n",
       "  <tbody>\n",
       "    <tr>\n",
       "      <th>0</th>\n",
       "      <td>1397.0</td>\n",
       "      <td>890.770529</td>\n",
       "      <td>164.9</td>\n",
       "      <td>489.8</td>\n",
       "      <td>61898.0</td>\n",
       "      <td>260131.0</td>\n",
       "      <td>11.2</td>\n",
       "      <td>499.748204</td>\n",
       "      <td>(61494.5, 125635]</td>\n",
       "      <td>39.3</td>\n",
       "      <td>...</td>\n",
       "      <td>NaN</td>\n",
       "      <td>41.6</td>\n",
       "      <td>32.9</td>\n",
       "      <td>14.0</td>\n",
       "      <td>81.780529</td>\n",
       "      <td>2.594728</td>\n",
       "      <td>4.821857</td>\n",
       "      <td>1.843479</td>\n",
       "      <td>52.856076</td>\n",
       "      <td>6.118831</td>\n",
       "    </tr>\n",
       "    <tr>\n",
       "      <th>1</th>\n",
       "      <td>173.0</td>\n",
       "      <td>669.088363</td>\n",
       "      <td>161.3</td>\n",
       "      <td>411.6</td>\n",
       "      <td>48127.0</td>\n",
       "      <td>43269.0</td>\n",
       "      <td>18.6</td>\n",
       "      <td>23.111234</td>\n",
       "      <td>(48021.6, 51046.4]</td>\n",
       "      <td>33.0</td>\n",
       "      <td>...</td>\n",
       "      <td>53.8</td>\n",
       "      <td>43.6</td>\n",
       "      <td>31.1</td>\n",
       "      <td>15.3</td>\n",
       "      <td>89.228509</td>\n",
       "      <td>0.969102</td>\n",
       "      <td>2.246233</td>\n",
       "      <td>3.741352</td>\n",
       "      <td>45.372500</td>\n",
       "      <td>4.333096</td>\n",
       "    </tr>\n",
       "    <tr>\n",
       "      <th>2</th>\n",
       "      <td>102.0</td>\n",
       "      <td>744.083462</td>\n",
       "      <td>174.7</td>\n",
       "      <td>349.7</td>\n",
       "      <td>49348.0</td>\n",
       "      <td>21026.0</td>\n",
       "      <td>14.6</td>\n",
       "      <td>47.560164</td>\n",
       "      <td>(48021.6, 51046.4]</td>\n",
       "      <td>45.0</td>\n",
       "      <td>...</td>\n",
       "      <td>43.5</td>\n",
       "      <td>34.9</td>\n",
       "      <td>42.1</td>\n",
       "      <td>21.1</td>\n",
       "      <td>90.922190</td>\n",
       "      <td>0.739673</td>\n",
       "      <td>0.465898</td>\n",
       "      <td>2.747358</td>\n",
       "      <td>54.444868</td>\n",
       "      <td>3.729488</td>\n",
       "    </tr>\n",
       "    <tr>\n",
       "      <th>3</th>\n",
       "      <td>427.0</td>\n",
       "      <td>953.773339</td>\n",
       "      <td>194.8</td>\n",
       "      <td>430.4</td>\n",
       "      <td>44243.0</td>\n",
       "      <td>75882.0</td>\n",
       "      <td>17.1</td>\n",
       "      <td>342.637253</td>\n",
       "      <td>(42724.4, 45201]</td>\n",
       "      <td>42.8</td>\n",
       "      <td>...</td>\n",
       "      <td>40.3</td>\n",
       "      <td>35.0</td>\n",
       "      <td>45.3</td>\n",
       "      <td>25.0</td>\n",
       "      <td>91.744686</td>\n",
       "      <td>0.782626</td>\n",
       "      <td>1.161359</td>\n",
       "      <td>1.362643</td>\n",
       "      <td>51.021514</td>\n",
       "      <td>4.603841</td>\n",
       "    </tr>\n",
       "    <tr>\n",
       "      <th>4</th>\n",
       "      <td>57.0</td>\n",
       "      <td>646.194438</td>\n",
       "      <td>144.4</td>\n",
       "      <td>350.1</td>\n",
       "      <td>49955.0</td>\n",
       "      <td>10321.0</td>\n",
       "      <td>12.5</td>\n",
       "      <td>0.000000</td>\n",
       "      <td>(48021.6, 51046.4]</td>\n",
       "      <td>48.3</td>\n",
       "      <td>...</td>\n",
       "      <td>43.9</td>\n",
       "      <td>35.1</td>\n",
       "      <td>44.0</td>\n",
       "      <td>22.7</td>\n",
       "      <td>94.104024</td>\n",
       "      <td>0.270192</td>\n",
       "      <td>0.665830</td>\n",
       "      <td>0.492135</td>\n",
       "      <td>54.027460</td>\n",
       "      <td>6.796657</td>\n",
       "    </tr>\n",
       "  </tbody>\n",
       "</table>\n",
       "<p>5 rows × 34 columns</p>\n",
       "</div>"
      ],
      "text/plain": [
       "   avgAnnCount  avgDeathsPerYear  TARGET_deathRate  incidenceRate  medIncome  \\\n",
       "0       1397.0        890.770529             164.9          489.8    61898.0   \n",
       "1        173.0        669.088363             161.3          411.6    48127.0   \n",
       "2        102.0        744.083462             174.7          349.7    49348.0   \n",
       "3        427.0        953.773339             194.8          430.4    44243.0   \n",
       "4         57.0        646.194438             144.4          350.1    49955.0   \n",
       "\n",
       "   popEst2015  povertyPercent  studyPerCap           binnedInc  MedianAge  \\\n",
       "0    260131.0            11.2   499.748204   (61494.5, 125635]       39.3   \n",
       "1     43269.0            18.6    23.111234  (48021.6, 51046.4]       33.0   \n",
       "2     21026.0            14.6    47.560164  (48021.6, 51046.4]       45.0   \n",
       "3     75882.0            17.1   342.637253    (42724.4, 45201]       42.8   \n",
       "4     10321.0            12.5     0.000000  (48021.6, 51046.4]       48.3   \n",
       "\n",
       "   ...  PctPrivateCoverageAlone  PctEmpPrivCoverage PctPublicCoverage  \\\n",
       "0  ...                      NaN                41.6              32.9   \n",
       "1  ...                     53.8                43.6              31.1   \n",
       "2  ...                     43.5                34.9              42.1   \n",
       "3  ...                     40.3                35.0              45.3   \n",
       "4  ...                     43.9                35.1              44.0   \n",
       "\n",
       "   PctPublicCoverageAlone   PctWhite  PctBlack  PctAsian  PctOtherRace  \\\n",
       "0                    14.0  81.780529  2.594728  4.821857      1.843479   \n",
       "1                    15.3  89.228509  0.969102  2.246233      3.741352   \n",
       "2                    21.1  90.922190  0.739673  0.465898      2.747358   \n",
       "3                    25.0  91.744686  0.782626  1.161359      1.362643   \n",
       "4                    22.7  94.104024  0.270192  0.665830      0.492135   \n",
       "\n",
       "   PctMarriedHouseholds  BirthRate  \n",
       "0             52.856076   6.118831  \n",
       "1             45.372500   4.333096  \n",
       "2             54.444868   3.729488  \n",
       "3             51.021514   4.603841  \n",
       "4             54.027460   6.796657  \n",
       "\n",
       "[5 rows x 34 columns]"
      ]
     },
     "execution_count": 2,
     "metadata": {},
     "output_type": "execute_result"
    }
   ],
   "source": [
    "df = pd.read_csv('cancer_EUA.csv', sep=';', decimal=',')\n",
    "df.head()"
   ]
  },
  {
   "cell_type": "code",
   "execution_count": 3,
   "metadata": {},
   "outputs": [],
   "source": [
    "# Todos os dados são numéricos"
   ]
  },
  {
   "cell_type": "markdown",
   "metadata": {
    "id": "LxswYNNuUmVO"
   },
   "source": [
    "3. Como o target está distribuído? Quais são as seus valores de média, mediana e variância? A distribuição é assimétrica?"
   ]
  },
  {
   "cell_type": "code",
   "execution_count": 4,
   "metadata": {},
   "outputs": [
    {
     "data": {
      "text/plain": [
       "count    3047.000000\n",
       "mean      178.491008\n",
       "std        27.629797\n",
       "min        56.000000\n",
       "25%       161.200000\n",
       "50%       178.100000\n",
       "75%       195.200000\n",
       "max       293.900000\n",
       "Name: TARGET_deathRate, dtype: float64"
      ]
     },
     "execution_count": 4,
     "metadata": {},
     "output_type": "execute_result"
    }
   ],
   "source": [
    "df['TARGET_deathRate'].describe()"
   ]
  },
  {
   "cell_type": "code",
   "execution_count": 5,
   "metadata": {},
   "outputs": [
    {
     "data": {
      "text/plain": [
       "178.1"
      ]
     },
     "execution_count": 5,
     "metadata": {},
     "output_type": "execute_result"
    }
   ],
   "source": [
    "# Mediana\n",
    "np.median(df['TARGET_deathRate'])"
   ]
  },
  {
   "cell_type": "code",
   "execution_count": 6,
   "metadata": {},
   "outputs": [
    {
     "data": {
      "text/plain": [
       "763.1551209736858"
      ]
     },
     "execution_count": 6,
     "metadata": {},
     "output_type": "execute_result"
    }
   ],
   "source": [
    "# Variância \n",
    "np.var(df['TARGET_deathRate'])"
   ]
  },
  {
   "cell_type": "code",
   "execution_count": 7,
   "metadata": {},
   "outputs": [
    {
     "data": {
      "text/html": [
       "<div>\n",
       "<style scoped>\n",
       "    .dataframe tbody tr th:only-of-type {\n",
       "        vertical-align: middle;\n",
       "    }\n",
       "\n",
       "    .dataframe tbody tr th {\n",
       "        vertical-align: top;\n",
       "    }\n",
       "\n",
       "    .dataframe thead th {\n",
       "        text-align: right;\n",
       "    }\n",
       "</style>\n",
       "<table border=\"1\" class=\"dataframe\">\n",
       "  <thead>\n",
       "    <tr style=\"text-align: right;\">\n",
       "      <th></th>\n",
       "      <th>avgAnnCount</th>\n",
       "      <th>avgDeathsPerYear</th>\n",
       "      <th>TARGET_deathRate</th>\n",
       "      <th>incidenceRate</th>\n",
       "      <th>medIncome</th>\n",
       "      <th>popEst2015</th>\n",
       "      <th>povertyPercent</th>\n",
       "      <th>studyPerCap</th>\n",
       "      <th>MedianAge</th>\n",
       "      <th>MedianAgeMale</th>\n",
       "      <th>...</th>\n",
       "      <th>PctPrivateCoverageAlone</th>\n",
       "      <th>PctEmpPrivCoverage</th>\n",
       "      <th>PctPublicCoverage</th>\n",
       "      <th>PctPublicCoverageAlone</th>\n",
       "      <th>PctWhite</th>\n",
       "      <th>PctBlack</th>\n",
       "      <th>PctAsian</th>\n",
       "      <th>PctOtherRace</th>\n",
       "      <th>PctMarriedHouseholds</th>\n",
       "      <th>BirthRate</th>\n",
       "    </tr>\n",
       "  </thead>\n",
       "  <tbody>\n",
       "    <tr>\n",
       "      <th>count</th>\n",
       "      <td>3047.000000</td>\n",
       "      <td>3047.000000</td>\n",
       "      <td>3047.000000</td>\n",
       "      <td>3047.000000</td>\n",
       "      <td>3047.000000</td>\n",
       "      <td>3.047000e+03</td>\n",
       "      <td>3047.000000</td>\n",
       "      <td>3047.000000</td>\n",
       "      <td>3047.000000</td>\n",
       "      <td>3047.000000</td>\n",
       "      <td>...</td>\n",
       "      <td>2438.000000</td>\n",
       "      <td>3047.000000</td>\n",
       "      <td>3047.000000</td>\n",
       "      <td>3047.000000</td>\n",
       "      <td>3047.000000</td>\n",
       "      <td>3047.000000</td>\n",
       "      <td>3047.000000</td>\n",
       "      <td>3047.000000</td>\n",
       "      <td>3047.000000</td>\n",
       "      <td>3047.000000</td>\n",
       "    </tr>\n",
       "    <tr>\n",
       "      <th>mean</th>\n",
       "      <td>606.338544</td>\n",
       "      <td>843.919853</td>\n",
       "      <td>178.491008</td>\n",
       "      <td>448.268586</td>\n",
       "      <td>47063.281917</td>\n",
       "      <td>1.026374e+05</td>\n",
       "      <td>16.878175</td>\n",
       "      <td>155.399415</td>\n",
       "      <td>45.272333</td>\n",
       "      <td>39.570725</td>\n",
       "      <td>...</td>\n",
       "      <td>48.453774</td>\n",
       "      <td>41.196324</td>\n",
       "      <td>36.252642</td>\n",
       "      <td>19.240072</td>\n",
       "      <td>83.645286</td>\n",
       "      <td>9.107978</td>\n",
       "      <td>1.253965</td>\n",
       "      <td>1.983523</td>\n",
       "      <td>51.243872</td>\n",
       "      <td>5.640306</td>\n",
       "    </tr>\n",
       "    <tr>\n",
       "      <th>std</th>\n",
       "      <td>1416.356223</td>\n",
       "      <td>143.907390</td>\n",
       "      <td>27.629797</td>\n",
       "      <td>54.560733</td>\n",
       "      <td>12040.090836</td>\n",
       "      <td>3.290592e+05</td>\n",
       "      <td>6.409087</td>\n",
       "      <td>529.628366</td>\n",
       "      <td>45.304480</td>\n",
       "      <td>5.226017</td>\n",
       "      <td>...</td>\n",
       "      <td>10.083006</td>\n",
       "      <td>9.447687</td>\n",
       "      <td>7.841741</td>\n",
       "      <td>6.113041</td>\n",
       "      <td>16.380025</td>\n",
       "      <td>14.534538</td>\n",
       "      <td>2.610276</td>\n",
       "      <td>3.517710</td>\n",
       "      <td>6.572814</td>\n",
       "      <td>1.985816</td>\n",
       "    </tr>\n",
       "    <tr>\n",
       "      <th>min</th>\n",
       "      <td>6.000000</td>\n",
       "      <td>294.277385</td>\n",
       "      <td>56.000000</td>\n",
       "      <td>201.300000</td>\n",
       "      <td>22640.000000</td>\n",
       "      <td>8.270000e+02</td>\n",
       "      <td>3.200000</td>\n",
       "      <td>0.000000</td>\n",
       "      <td>22.300000</td>\n",
       "      <td>22.400000</td>\n",
       "      <td>...</td>\n",
       "      <td>15.700000</td>\n",
       "      <td>13.500000</td>\n",
       "      <td>11.200000</td>\n",
       "      <td>2.600000</td>\n",
       "      <td>10.199155</td>\n",
       "      <td>0.000000</td>\n",
       "      <td>0.000000</td>\n",
       "      <td>0.000000</td>\n",
       "      <td>22.992490</td>\n",
       "      <td>0.000000</td>\n",
       "    </tr>\n",
       "    <tr>\n",
       "      <th>25%</th>\n",
       "      <td>76.000000</td>\n",
       "      <td>746.660187</td>\n",
       "      <td>161.200000</td>\n",
       "      <td>420.300000</td>\n",
       "      <td>38882.500000</td>\n",
       "      <td>1.168400e+04</td>\n",
       "      <td>12.150000</td>\n",
       "      <td>0.000000</td>\n",
       "      <td>37.700000</td>\n",
       "      <td>36.350000</td>\n",
       "      <td>...</td>\n",
       "      <td>41.000000</td>\n",
       "      <td>34.500000</td>\n",
       "      <td>30.900000</td>\n",
       "      <td>14.850000</td>\n",
       "      <td>77.296180</td>\n",
       "      <td>0.620675</td>\n",
       "      <td>0.254199</td>\n",
       "      <td>0.295172</td>\n",
       "      <td>47.763063</td>\n",
       "      <td>4.521419</td>\n",
       "    </tr>\n",
       "    <tr>\n",
       "      <th>50%</th>\n",
       "      <td>171.000000</td>\n",
       "      <td>842.516774</td>\n",
       "      <td>178.100000</td>\n",
       "      <td>453.549422</td>\n",
       "      <td>45207.000000</td>\n",
       "      <td>2.664300e+04</td>\n",
       "      <td>15.900000</td>\n",
       "      <td>0.000000</td>\n",
       "      <td>41.000000</td>\n",
       "      <td>39.600000</td>\n",
       "      <td>...</td>\n",
       "      <td>48.700000</td>\n",
       "      <td>41.100000</td>\n",
       "      <td>36.300000</td>\n",
       "      <td>18.800000</td>\n",
       "      <td>90.059774</td>\n",
       "      <td>2.247576</td>\n",
       "      <td>0.549812</td>\n",
       "      <td>0.826185</td>\n",
       "      <td>51.669941</td>\n",
       "      <td>5.381478</td>\n",
       "    </tr>\n",
       "    <tr>\n",
       "      <th>75%</th>\n",
       "      <td>518.000000</td>\n",
       "      <td>939.423171</td>\n",
       "      <td>195.200000</td>\n",
       "      <td>480.850000</td>\n",
       "      <td>52492.000000</td>\n",
       "      <td>6.867100e+04</td>\n",
       "      <td>20.400000</td>\n",
       "      <td>83.650776</td>\n",
       "      <td>44.000000</td>\n",
       "      <td>42.500000</td>\n",
       "      <td>...</td>\n",
       "      <td>55.600000</td>\n",
       "      <td>47.700000</td>\n",
       "      <td>41.550000</td>\n",
       "      <td>23.100000</td>\n",
       "      <td>95.451693</td>\n",
       "      <td>10.509732</td>\n",
       "      <td>1.221037</td>\n",
       "      <td>2.177960</td>\n",
       "      <td>55.395132</td>\n",
       "      <td>6.493677</td>\n",
       "    </tr>\n",
       "    <tr>\n",
       "      <th>max</th>\n",
       "      <td>38150.000000</td>\n",
       "      <td>1553.351487</td>\n",
       "      <td>293.900000</td>\n",
       "      <td>1206.900000</td>\n",
       "      <td>125635.000000</td>\n",
       "      <td>1.017029e+07</td>\n",
       "      <td>47.400000</td>\n",
       "      <td>9762.308998</td>\n",
       "      <td>624.000000</td>\n",
       "      <td>64.700000</td>\n",
       "      <td>...</td>\n",
       "      <td>78.900000</td>\n",
       "      <td>70.700000</td>\n",
       "      <td>65.100000</td>\n",
       "      <td>46.600000</td>\n",
       "      <td>100.000000</td>\n",
       "      <td>85.947799</td>\n",
       "      <td>42.619425</td>\n",
       "      <td>41.930251</td>\n",
       "      <td>78.075397</td>\n",
       "      <td>21.326165</td>\n",
       "    </tr>\n",
       "  </tbody>\n",
       "</table>\n",
       "<p>8 rows × 32 columns</p>\n",
       "</div>"
      ],
      "text/plain": [
       "        avgAnnCount  avgDeathsPerYear  TARGET_deathRate  incidenceRate  \\\n",
       "count   3047.000000       3047.000000       3047.000000    3047.000000   \n",
       "mean     606.338544        843.919853        178.491008     448.268586   \n",
       "std     1416.356223        143.907390         27.629797      54.560733   \n",
       "min        6.000000        294.277385         56.000000     201.300000   \n",
       "25%       76.000000        746.660187        161.200000     420.300000   \n",
       "50%      171.000000        842.516774        178.100000     453.549422   \n",
       "75%      518.000000        939.423171        195.200000     480.850000   \n",
       "max    38150.000000       1553.351487        293.900000    1206.900000   \n",
       "\n",
       "           medIncome    popEst2015  povertyPercent  studyPerCap    MedianAge  \\\n",
       "count    3047.000000  3.047000e+03     3047.000000  3047.000000  3047.000000   \n",
       "mean    47063.281917  1.026374e+05       16.878175   155.399415    45.272333   \n",
       "std     12040.090836  3.290592e+05        6.409087   529.628366    45.304480   \n",
       "min     22640.000000  8.270000e+02        3.200000     0.000000    22.300000   \n",
       "25%     38882.500000  1.168400e+04       12.150000     0.000000    37.700000   \n",
       "50%     45207.000000  2.664300e+04       15.900000     0.000000    41.000000   \n",
       "75%     52492.000000  6.867100e+04       20.400000    83.650776    44.000000   \n",
       "max    125635.000000  1.017029e+07       47.400000  9762.308998   624.000000   \n",
       "\n",
       "       MedianAgeMale  ...  PctPrivateCoverageAlone  PctEmpPrivCoverage  \\\n",
       "count    3047.000000  ...              2438.000000         3047.000000   \n",
       "mean       39.570725  ...                48.453774           41.196324   \n",
       "std         5.226017  ...                10.083006            9.447687   \n",
       "min        22.400000  ...                15.700000           13.500000   \n",
       "25%        36.350000  ...                41.000000           34.500000   \n",
       "50%        39.600000  ...                48.700000           41.100000   \n",
       "75%        42.500000  ...                55.600000           47.700000   \n",
       "max        64.700000  ...                78.900000           70.700000   \n",
       "\n",
       "       PctPublicCoverage  PctPublicCoverageAlone     PctWhite     PctBlack  \\\n",
       "count        3047.000000             3047.000000  3047.000000  3047.000000   \n",
       "mean           36.252642               19.240072    83.645286     9.107978   \n",
       "std             7.841741                6.113041    16.380025    14.534538   \n",
       "min            11.200000                2.600000    10.199155     0.000000   \n",
       "25%            30.900000               14.850000    77.296180     0.620675   \n",
       "50%            36.300000               18.800000    90.059774     2.247576   \n",
       "75%            41.550000               23.100000    95.451693    10.509732   \n",
       "max            65.100000               46.600000   100.000000    85.947799   \n",
       "\n",
       "          PctAsian  PctOtherRace  PctMarriedHouseholds    BirthRate  \n",
       "count  3047.000000   3047.000000           3047.000000  3047.000000  \n",
       "mean      1.253965      1.983523             51.243872     5.640306  \n",
       "std       2.610276      3.517710              6.572814     1.985816  \n",
       "min       0.000000      0.000000             22.992490     0.000000  \n",
       "25%       0.254199      0.295172             47.763063     4.521419  \n",
       "50%       0.549812      0.826185             51.669941     5.381478  \n",
       "75%       1.221037      2.177960             55.395132     6.493677  \n",
       "max      42.619425     41.930251             78.075397    21.326165  \n",
       "\n",
       "[8 rows x 32 columns]"
      ]
     },
     "execution_count": 7,
     "metadata": {},
     "output_type": "execute_result"
    }
   ],
   "source": [
    "df.describe()"
   ]
  },
  {
   "cell_type": "markdown",
   "metadata": {
    "id": "z3ZssBKHT7TE"
   },
   "source": [
    "3. Pensando em um modelo de Regressão Linear Simples escolha uma feature para ser a variável independente, mas procure escolher uma que faça sentido com o modelo linear. "
   ]
  },
  {
   "cell_type": "code",
   "execution_count": 8,
   "metadata": {},
   "outputs": [],
   "source": [
    "# Dê uma olhada na correlação entre as variáveis\n",
    "\n",
    "correlacao = df.corr(method='spearman')['TARGET_deathRate'].sort_values(ascending=False)"
   ]
  },
  {
   "cell_type": "code",
   "execution_count": 9,
   "metadata": {},
   "outputs": [
    {
     "data": {
      "text/plain": [
       "TARGET_deathRate           1.000000\n",
       "avgDeathsPerYear           0.672511\n",
       "PctPublicCoverageAlone     0.453102\n",
       "povertyPercent             0.442435\n",
       "PctHS25_Over               0.420579\n",
       "incidenceRate              0.407906\n",
       "PctUnemployed16_Over       0.402940\n",
       "PctPublicCoverage          0.402365\n",
       "PctHS18_24                 0.275896\n",
       "PctBlack                   0.251542\n",
       "PctNoHS18_24               0.124543\n",
       "MedianAgeFemale            0.019903\n",
       "AvgHouseholdSize           0.013300\n",
       "MedianAge                  0.008589\n",
       "MedianAgeMale             -0.004532\n",
       "popEst2015                -0.044447\n",
       "BirthRate                 -0.050487\n",
       "avgAnnCount               -0.085583\n",
       "PctWhite                  -0.101955\n",
       "studyPerCap               -0.112687\n",
       "PctAsian                  -0.207830\n",
       "PctSomeCol18_24           -0.212383\n",
       "PctOtherRace              -0.216924\n",
       "PercentMarried            -0.257257\n",
       "PctBachDeg18_24           -0.270316\n",
       "PctEmpPrivCoverage        -0.277938\n",
       "PctMarriedHouseholds      -0.279620\n",
       "PctPrivateCoverageAlone   -0.380840\n",
       "PctPrivateCoverage        -0.411319\n",
       "PctEmployed16_Over        -0.433174\n",
       "medIncome                 -0.463858\n",
       "PctBachDeg25_Over         -0.501730\n",
       "Name: TARGET_deathRate, dtype: float64"
      ]
     },
     "execution_count": 9,
     "metadata": {},
     "output_type": "execute_result"
    }
   ],
   "source": [
    "correlacao"
   ]
  },
  {
   "cell_type": "code",
   "execution_count": 20,
   "metadata": {
    "scrolled": true
   },
   "outputs": [
    {
     "data": {
      "image/png": "[encoded data removed]",
      "text/plain": [
       "<Figure size 432x288 with 1 Axes>"
      ]
     },
     "metadata": {
      "needs_background": "light"
     },
     "output_type": "display_data"
    }
   ],
   "source": [
    "# Distribuição é assimétrica\n",
    "\n",
    "sns.histplot(data=df, x=\"TARGET_deathRate\", kde=True);"
   ]
  },
  {
   "cell_type": "code",
   "execution_count": 24,
   "metadata": {},
   "outputs": [
    {
     "data": {
      "text/plain": [
       "0.12931340277335948"
      ]
     },
     "execution_count": 24,
     "metadata": {},
     "output_type": "execute_result"
    }
   ],
   "source": [
    "# Skewness muito próximo de zero significando uma curva simétrica.\n",
    "\n",
    "df[\"TARGET_deathRate\"].skew()"
   ]
  },
  {
   "cell_type": "markdown",
   "metadata": {
    "id": "00A5e6ZLVGBO"
   },
   "source": [
    "    3.1. Como é a distribuição da feature escolhida? Ela possui outliers? Precisa de alguma limpeza nos dados?"
   ]
  },
  {
   "cell_type": "code",
   "execution_count": 11,
   "metadata": {},
   "outputs": [],
   "source": [
    "# A feature escolhida é a \"avgDeathsPerYear\" pois tem a maior correlação(0.672511) com o target \"TARGET_deathRate\""
   ]
  },
  {
   "cell_type": "code",
   "execution_count": 22,
   "metadata": {},
   "outputs": [
    {
     "data": {
      "image/png": "[encoded data removed]",
      "text/plain": [
       "<Figure size 432x288 with 1 Axes>"
      ]
     },
     "metadata": {
      "needs_background": "light"
     },
     "output_type": "display_data"
    }
   ],
   "source": [
    "# Distribuição assimetrica da avgDeathsPerYear\n",
    "\n",
    "sns.histplot(data=df, x=\"avgDeathsPerYear\", kde=True);"
   ]
  },
  {
   "cell_type": "code",
   "execution_count": 23,
   "metadata": {},
   "outputs": [
    {
     "data": {
      "text/plain": [
       "0.15836375418940316"
      ]
     },
     "execution_count": 23,
     "metadata": {},
     "output_type": "execute_result"
    }
   ],
   "source": [
    "# Skewness muito próximo de zero significando uma curva simétrica.\n",
    "\n",
    "df[\"avgDeathsPerYear\"].skew()"
   ]
  },
  {
   "cell_type": "code",
   "execution_count": 15,
   "metadata": {},
   "outputs": [
    {
     "data": {
      "image/png": "[encoded data removed]",
      "text/plain": [
       "<Figure size 432x288 with 1 Axes>"
      ]
     },
     "metadata": {
      "needs_background": "light"
     },
     "output_type": "display_data"
    }
   ],
   "source": [
    "# Procura por outliers\n",
    "# Sim, exitem outliers, representados pelos pontos pretos das extremidades\n",
    "\n",
    "sns.boxplot(x=\"TARGET_deathRate\", data=df);"
   ]
  },
  {
   "cell_type": "code",
   "execution_count": 25,
   "metadata": {},
   "outputs": [
    {
     "data": {
      "image/png": "[encoded data removed]",
      "text/plain": [
       "<Figure size 432x432 with 3 Axes>"
      ]
     },
     "metadata": {
      "needs_background": "light"
     },
     "output_type": "display_data"
    }
   ],
   "source": [
    "# explore agora a relação entre essas variáveis e o target\n",
    "# dica: faça um jointplot ou scatterplot\n",
    "\n",
    "sns.jointplot(data=df,x='avgDeathsPerYear', y='TARGET_deathRate')\n",
    "plt.show()"
   ]
  },
  {
   "cell_type": "code",
   "execution_count": 26,
   "metadata": {},
   "outputs": [
    {
     "data": {
      "text/plain": [
       "1220    1553.351487\n",
       "1489    1483.055135\n",
       "Name: avgDeathsPerYear, dtype: float64"
      ]
     },
     "execution_count": 26,
     "metadata": {},
     "output_type": "execute_result"
    }
   ],
   "source": [
    "# identifique os outliers\n",
    "\n",
    "df[df['avgDeathsPerYear']>1400]['avgDeathsPerYear']"
   ]
  },
  {
   "cell_type": "code",
   "execution_count": 29,
   "metadata": {},
   "outputs": [],
   "source": [
    "# remova os outliers\n",
    "\n",
    "df = df[~(df['avgDeathsPerYear']>1400)]"
   ]
  },
  {
   "cell_type": "code",
   "execution_count": 30,
   "metadata": {},
   "outputs": [
    {
     "data": {
      "image/png": "[encoded data removed]",
      "text/plain": [
       "<Figure size 432x432 with 3 Axes>"
      ]
     },
     "metadata": {
      "needs_background": "light"
     },
     "output_type": "display_data"
    }
   ],
   "source": [
    "# faça o scatterplot novamente para verificar se os outliers sumiram\n",
    "\n",
    "sns.jointplot(data=df,x='avgDeathsPerYear', y='TARGET_deathRate')\n",
    "plt.show()"
   ]
  },
  {
   "cell_type": "code",
   "execution_count": 16,
   "metadata": {},
   "outputs": [
    {
     "data": {
      "text/plain": [
       "avgAnnCount                   0\n",
       "avgDeathsPerYear              0\n",
       "TARGET_deathRate              0\n",
       "incidenceRate                 0\n",
       "medIncome                     0\n",
       "popEst2015                    0\n",
       "povertyPercent                0\n",
       "studyPerCap                   0\n",
       "MedianAge                     0\n",
       "MedianAgeMale                 0\n",
       "MedianAgeFemale               0\n",
       "AvgHouseholdSize              0\n",
       "PercentMarried                0\n",
       "PctNoHS18_24                  0\n",
       "PctHS18_24                    0\n",
       "PctSomeCol18_24            2285\n",
       "PctBachDeg18_24               0\n",
       "PctHS25_Over                  0\n",
       "PctBachDeg25_Over             0\n",
       "PctEmployed16_Over          152\n",
       "PctUnemployed16_Over          0\n",
       "PctPrivateCoverage            0\n",
       "PctPrivateCoverageAlone     609\n",
       "PctEmpPrivCoverage            0\n",
       "PctPublicCoverage             0\n",
       "PctPublicCoverageAlone        0\n",
       "PctWhite                      0\n",
       "PctBlack                      0\n",
       "PctAsian                      0\n",
       "PctOtherRace                  0\n",
       "PctMarriedHouseholds          0\n",
       "BirthRate                     0\n",
       "dtype: int64"
      ]
     },
     "execution_count": 16,
     "metadata": {},
     "output_type": "execute_result"
    }
   ],
   "source": [
    "# Limpeza de dados - verificar ocorrência de valores nulos\n",
    "\n",
    "df.select_dtypes(include=[np.number]).isnull().sum()"
   ]
  },
  {
   "cell_type": "code",
   "execution_count": 18,
   "metadata": {},
   "outputs": [],
   "source": [
    "# Limpeza de dados - selecione todas as outras colunas numéricas como a variável de features X\n",
    "# dica: df.select_dtypes(include=[np.number])\n",
    "\n",
    "df = df.select_dtypes(include=[np.number])\n",
    "df = df.dropna(axis='columns', how='any')"
   ]
  },
  {
   "cell_type": "code",
   "execution_count": 19,
   "metadata": {},
   "outputs": [
    {
     "data": {
      "text/plain": [
       "avgAnnCount               0\n",
       "avgDeathsPerYear          0\n",
       "TARGET_deathRate          0\n",
       "incidenceRate             0\n",
       "medIncome                 0\n",
       "popEst2015                0\n",
       "povertyPercent            0\n",
       "studyPerCap               0\n",
       "MedianAge                 0\n",
       "MedianAgeMale             0\n",
       "MedianAgeFemale           0\n",
       "AvgHouseholdSize          0\n",
       "PercentMarried            0\n",
       "PctNoHS18_24              0\n",
       "PctHS18_24                0\n",
       "PctBachDeg18_24           0\n",
       "PctHS25_Over              0\n",
       "PctBachDeg25_Over         0\n",
       "PctUnemployed16_Over      0\n",
       "PctPrivateCoverage        0\n",
       "PctEmpPrivCoverage        0\n",
       "PctPublicCoverage         0\n",
       "PctPublicCoverageAlone    0\n",
       "PctWhite                  0\n",
       "PctBlack                  0\n",
       "PctAsian                  0\n",
       "PctOtherRace              0\n",
       "PctMarriedHouseholds      0\n",
       "BirthRate                 0\n",
       "dtype: int64"
      ]
     },
     "execution_count": 19,
     "metadata": {},
     "output_type": "execute_result"
    }
   ],
   "source": [
    "# Limpeza de dados - Verificando novamente a ocorrência de valores nulos\n",
    "\n",
    "df.isnull().sum()"
   ]
  },
  {
   "cell_type": "markdown",
   "metadata": {
    "id": "uuO3_wo0VcGe"
   },
   "source": [
    "    3.2. Treine um modelo de Regressão Linear Simples com o objetivo de predizer a variável dependente 'TARGET_deathRate'. Apresente o modelo treinado e avalie a normalidade dos resíduos. Não esqueça de dividir o dataset em treino e teste para uma posterior avaliação do modelo."
   ]
  },
  {
   "cell_type": "code",
   "execution_count": 31,
   "metadata": {},
   "outputs": [],
   "source": [
    "# crie duas variáveis, X e y, respectivamente os arrays da feature avgDeathsPerYear e do target\n",
    "X = df['avgDeathsPerYear']\n",
    "y = df['TARGET_deathRate']"
   ]
  },
  {
   "cell_type": "code",
   "execution_count": 32,
   "metadata": {},
   "outputs": [],
   "source": [
    "# 1) Importe a classe do estimador que se deseja treinar\n",
    "from sklearn.linear_model import LinearRegression"
   ]
  },
  {
   "cell_type": "code",
   "execution_count": 35,
   "metadata": {},
   "outputs": [],
   "source": [
    "# 2) Instancie a classe do estimador, escolhendo os hiperparâmetros desejados\n",
    "reg_lin = LinearRegression()"
   ]
  },
  {
   "cell_type": "code",
   "execution_count": 36,
   "metadata": {},
   "outputs": [],
   "source": [
    "# 3) Separe os dados em dados de treino e dados de teste\n",
    "\n",
    "from sklearn.model_selection import train_test_split\n",
    "\n",
    "X_train, X_test, y_train, y_test = train_test_split(X, y, test_size=0.2, random_state=42)\n",
    "# X_train_val, X_test, y_train_val, y_test = train_test_split(X, y, test_size=0.3)\n",
    "# X_train, X_val, y_train, y_val = train_test_split(X_train_val, y_train_val, test_size=0.3)"
   ]
  },
  {
   "cell_type": "code",
   "execution_count": 37,
   "metadata": {},
   "outputs": [
    {
     "data": {
      "text/plain": [
       "((3045,), (3045,))"
      ]
     },
     "execution_count": 37,
     "metadata": {},
     "output_type": "execute_result"
    }
   ],
   "source": [
    "#shape de X e y\n",
    "X.shape, y.shape"
   ]
  },
  {
   "cell_type": "code",
   "execution_count": 38,
   "metadata": {},
   "outputs": [
    {
     "data": {
      "text/plain": [
       "((609,), (609,))"
      ]
     },
     "execution_count": 38,
     "metadata": {},
     "output_type": "execute_result"
    }
   ],
   "source": [
    "X_test.shape, y_test.shape"
   ]
  },
  {
   "cell_type": "code",
   "execution_count": 39,
   "metadata": {},
   "outputs": [
    {
     "data": {
      "text/plain": [
       "((2436,), (2436,))"
      ]
     },
     "execution_count": 39,
     "metadata": {},
     "output_type": "execute_result"
    }
   ],
   "source": [
    "X_train.shape, y_train.shape"
   ]
  },
  {
   "cell_type": "code",
   "execution_count": 40,
   "metadata": {},
   "outputs": [
    {
     "data": {
      "text/plain": [
       "(2436, 1)"
      ]
     },
     "execution_count": 40,
     "metadata": {},
     "output_type": "execute_result"
    }
   ],
   "source": [
    "# reshape\n",
    "\n",
    "X_train.values.reshape(-1, 1).shape"
   ]
  },
  {
   "cell_type": "code",
   "execution_count": 41,
   "metadata": {},
   "outputs": [
    {
     "data": {
      "text/plain": [
       "array([[ 842.7636901 ],\n",
       "       [ 949.93021594],\n",
       "       [1134.80384138],\n",
       "       ...,\n",
       "       [ 689.15298235],\n",
       "       [ 829.53544038],\n",
       "       [ 899.70626479]])"
      ]
     },
     "execution_count": 41,
     "metadata": {},
     "output_type": "execute_result"
    }
   ],
   "source": [
    "X_train.values.reshape(-1, 1)"
   ]
  },
  {
   "cell_type": "code",
   "execution_count": 42,
   "metadata": {},
   "outputs": [
    {
     "data": {
      "text/plain": [
       "LinearRegression()"
      ]
     },
     "execution_count": 42,
     "metadata": {},
     "output_type": "execute_result"
    }
   ],
   "source": [
    "# 4) Treine o modelo, usando os dados de treino. \n",
    "\n",
    "reg_lin.fit(X_train.values.reshape(-1,1),y_train)"
   ]
  },
  {
   "cell_type": "markdown",
   "metadata": {
    "id": "vKsuDfZhWHP4"
   },
   "source": [
    "    3.3 Utilizando as métricas de avaliação verifique o resultado do modelo para o conjunto de dados de teste."
   ]
  },
  {
   "cell_type": "code",
   "execution_count": 43,
   "metadata": {},
   "outputs": [
    {
     "data": {
      "text/plain": [
       "62.71553899101863"
      ]
     },
     "execution_count": 43,
     "metadata": {},
     "output_type": "execute_result"
    }
   ],
   "source": [
    "# pegue o intercept. Dica: veja os atributos do modelo treinado!\n",
    "reg_lin.intercept_"
   ]
  },
  {
   "cell_type": "code",
   "execution_count": 44,
   "metadata": {},
   "outputs": [
    {
     "data": {
      "text/plain": [
       "0.1373212837577564"
      ]
     },
     "execution_count": 44,
     "metadata": {},
     "output_type": "execute_result"
    }
   ],
   "source": [
    "# peque o coeficiente angular. Dica: veja os atributos do modelo treinado!\n",
    "reg_lin.coef_[0]"
   ]
  },
  {
   "cell_type": "code",
   "execution_count": 45,
   "metadata": {},
   "outputs": [
    {
     "data": {
      "text/plain": [
       "array([0.13732128])"
      ]
     },
     "execution_count": 45,
     "metadata": {},
     "output_type": "execute_result"
    }
   ],
   "source": [
    "reg_lin.coef_"
   ]
  },
  {
   "cell_type": "markdown",
   "metadata": {},
   "source": [
    "# Conclusão\n",
    "\n",
    "A taxa mínima de mortes por cancêr é de 62 a cada 100 mil habitantes.\n",
    "\n",
    "Aumentando a variável avgDeathsPerYear em um ponto percentual faz com que a TARGET_deathRate aumente 13%."
   ]
  },
  {
   "cell_type": "code",
   "execution_count": 53,
   "metadata": {},
   "outputs": [
    {
     "data": {
      "image/png": "[encoded data removed]",
      "text/plain": [
       "<Figure size 1080x432 with 1 Axes>"
      ]
     },
     "metadata": {
      "needs_background": "light"
     },
     "output_type": "display_data"
    }
   ],
   "source": [
    "# Visualizando o modelo treinado\n",
    "\n",
    "plt.figure(figsize=(15, 6))\n",
    "\n",
    "# faça um scatterplot da fgeature pelo target\n",
    "sns.scatterplot(data=df, x=\"avgDeathsPerYear\", y=\"TARGET_deathRate\")\n",
    "\n",
    "# faça um plot da reta do modelo\n",
    "# crie um array com os valores de x. dica:  use o range aproximado da variável GrLivArea\n",
    "# crie um array de y com a equação da reta usando os coeficientes encontrados\n",
    "x = np.linspace(0, 1700, 10000)\n",
    "y = reg_lin.intercept_ + reg_lin.coef_[0]*x\n",
    "plt.plot(x, y, color=\"red\");"
   ]
  },
  {
   "cell_type": "code",
   "execution_count": 70,
   "metadata": {
    "scrolled": false
   },
   "outputs": [
    {
     "data": {
      "text/plain": [
       "1287     3.901862\n",
       "642    -19.694646\n",
       "1146    -9.247991\n",
       "1279    12.589924\n",
       "1941   -70.539109\n",
       "          ...    \n",
       "1920   -14.839293\n",
       "2884    19.652392\n",
       "2405     7.621413\n",
       "498    -15.095424\n",
       "2829   -19.031153\n",
       "Name: TARGET_deathRate, Length: 609, dtype: float64"
      ]
     },
     "execution_count": 70,
     "metadata": {},
     "output_type": "execute_result"
    }
   ],
   "source": [
    "#Residuo\n",
    "residuo = y_test - y_pred\n",
    "residuo"
   ]
  },
  {
   "cell_type": "code",
   "execution_count": 71,
   "metadata": {
    "scrolled": true
   },
   "outputs": [
    {
     "data": {
      "text/plain": [
       "count    609.000000\n",
       "mean       0.116635\n",
       "std       19.536420\n",
       "min      -70.539109\n",
       "25%      -13.073168\n",
       "50%       -0.583214\n",
       "75%       13.081929\n",
       "max       61.027283\n",
       "Name: TARGET_deathRate, dtype: float64"
      ]
     },
     "execution_count": 71,
     "metadata": {},
     "output_type": "execute_result"
    }
   ],
   "source": [
    "# Estatísticas descritivas do resíduo\n",
    "residuo.describe()"
   ]
  },
  {
   "cell_type": "code",
   "execution_count": 62,
   "metadata": {},
   "outputs": [
    {
     "name": "stdout",
     "output_type": "stream",
     "text": [
      "Intercepto: 62.71553899101863\n",
      "Coeficienter angular: [0.13732128]\n",
      "\n",
      "####################################################\n",
      "\n"
     ]
    },
    {
     "data": {
      "image/png": "[encoded data removed]",
      "text/plain": [
       "<Figure size 432x288 with 1 Axes>"
      ]
     },
     "metadata": {
      "needs_background": "light"
     },
     "output_type": "display_data"
    },
    {
     "name": "stdout",
     "output_type": "stream",
     "text": [
      "\n",
      "####################################################\n",
      "\n"
     ]
    }
   ],
   "source": [
    "# 4) Treinamento\n",
    "modelo = reg_lin.fit(np.array(X_train).reshape(-1, 1), y_train)\n",
    "\n",
    "print(\"Intercepto:\", modelo.intercept_)\n",
    "print(\"Coeficienter angular:\", modelo.coef_)\n",
    "\n",
    "print(\"\\n####################################################\\n\")\n",
    "\n",
    "plt.title(\"Modelo de regressão linear\")\n",
    "\n",
    "sns.scatterplot(data=df, x=\"avgDeathsPerYear\", y=\"TARGET_deathRate\")\n",
    "\n",
    "x = np.linspace(0, 1600, 10000)\n",
    "y = modelo.intercept_ + modelo.coef_[0]*x\n",
    "plt.plot(x, y, color=\"red\")\n",
    "plt.show()\n",
    "\n",
    "print(\"\\n####################################################\\n\")"
   ]
  },
  {
   "cell_type": "code",
   "execution_count": 64,
   "metadata": {},
   "outputs": [
    {
     "data": {
      "image/png": "[encoded data removed]",
      "text/plain": [
       "<Figure size 432x288 with 1 Axes>"
      ]
     },
     "metadata": {
      "needs_background": "light"
     },
     "output_type": "display_data"
    },
    {
     "data": {
      "image/png": "[encoded data removed]",
      "text/plain": [
       "<Figure size 432x288 with 1 Axes>"
      ]
     },
     "metadata": {
      "needs_background": "light"
     },
     "output_type": "display_data"
    },
    {
     "name": "stdout",
     "output_type": "stream",
     "text": [
      "\n",
      "####################################################\n",
      "\n"
     ]
    }
   ],
   "source": [
    "# 5) Teste\n",
    "predictions = modelo.predict(np.array(X_test).reshape(-1, 1))\n",
    "\n",
    "plt.title(\"valor predito vs valor real\")\n",
    "sns.scatterplot(x=predictions, y=y_test)\n",
    "plt.show()\n",
    "\n",
    "plt.title(\"Distribuição dos resíduos\")\n",
    "sns.histplot(y_test-predictions, kde=True)\n",
    "plt.show()\n",
    "\n",
    "print(\"\\n####################################################\\n\")"
   ]
  },
  {
   "cell_type": "code",
   "execution_count": 67,
   "metadata": {},
   "outputs": [
    {
     "name": "stdout",
     "output_type": "stream",
     "text": [
      "\n",
      "Métricas de avaliação(dados de teste):\n",
      "\n",
      "R^2: 0.46799819149288\n",
      "MAE: 15.434911353896473\n",
      "MSE: 381.0586034891743\n",
      "RMSE: 19.520722412072107\n"
     ]
    }
   ],
   "source": [
    "# 6) Métricas de avaliação\n",
    "# Use o modelo treinado para fazer previsões usando os dados de teste \n",
    "\n",
    "y_pred = reg_lin.predict(X_test.values.reshape(-1,1))\n",
    "\n",
    "print(\"\\nMétricas de avaliação(dados de teste):\")\n",
    " \n",
    "from sklearn import metrics\n",
    "\n",
    "print('\\nR^2:', metrics.r2_score(y_test, predictions))\n",
    "print('MAE:', metrics.mean_absolute_error(y_test, predictions))\n",
    "print('MSE:', metrics.mean_squared_error(y_test, predictions))\n",
    "print('RMSE:', metrics.mean_squared_error(y_test, y_pred,squared=False))"
   ]
  },
  {
   "cell_type": "markdown",
   "metadata": {},
   "source": [
    "4. Agora, treine um modelo de Regressão Linear múltipla sem utilizar o min-max scaler e outro com o min-max scaler. Qual obteve o melhor resultado no teste? Quais são as features mais importantes?"
   ]
  },
  {
   "cell_type": "code",
   "execution_count": 72,
   "metadata": {},
   "outputs": [
    {
     "name": "stdout",
     "output_type": "stream",
     "text": [
      "<class 'pandas.core.frame.DataFrame'>\n",
      "Int64Index: 3045 entries, 0 to 3046\n",
      "Data columns (total 29 columns):\n",
      " #   Column                  Non-Null Count  Dtype  \n",
      "---  ------                  --------------  -----  \n",
      " 0   avgAnnCount             3045 non-null   float64\n",
      " 1   avgDeathsPerYear        3045 non-null   float64\n",
      " 2   TARGET_deathRate        3045 non-null   float64\n",
      " 3   incidenceRate           3045 non-null   float64\n",
      " 4   medIncome               3045 non-null   float64\n",
      " 5   popEst2015              3045 non-null   float64\n",
      " 6   povertyPercent          3045 non-null   float64\n",
      " 7   studyPerCap             3045 non-null   float64\n",
      " 8   MedianAge               3045 non-null   float64\n",
      " 9   MedianAgeMale           3045 non-null   float64\n",
      " 10  MedianAgeFemale         3045 non-null   float64\n",
      " 11  AvgHouseholdSize        3045 non-null   float64\n",
      " 12  PercentMarried          3045 non-null   float64\n",
      " 13  PctNoHS18_24            3045 non-null   float64\n",
      " 14  PctHS18_24              3045 non-null   float64\n",
      " 15  PctBachDeg18_24         3045 non-null   float64\n",
      " 16  PctHS25_Over            3045 non-null   float64\n",
      " 17  PctBachDeg25_Over       3045 non-null   float64\n",
      " 18  PctUnemployed16_Over    3045 non-null   float64\n",
      " 19  PctPrivateCoverage      3045 non-null   float64\n",
      " 20  PctEmpPrivCoverage      3045 non-null   float64\n",
      " 21  PctPublicCoverage       3045 non-null   float64\n",
      " 22  PctPublicCoverageAlone  3045 non-null   float64\n",
      " 23  PctWhite                3045 non-null   float64\n",
      " 24  PctBlack                3045 non-null   float64\n",
      " 25  PctAsian                3045 non-null   float64\n",
      " 26  PctOtherRace            3045 non-null   float64\n",
      " 27  PctMarriedHouseholds    3045 non-null   float64\n",
      " 28  BirthRate               3045 non-null   float64\n",
      "dtypes: float64(29)\n",
      "memory usage: 713.7 KB\n"
     ]
    }
   ],
   "source": [
    "# Verificando novamente os dados do dataset\n",
    "df.info()"
   ]
  },
  {
   "cell_type": "code",
   "execution_count": 73,
   "metadata": {},
   "outputs": [
    {
     "name": "stdout",
     "output_type": "stream",
     "text": [
      "<class 'pandas.core.frame.DataFrame'>\n",
      "Int64Index: 3045 entries, 0 to 3046\n",
      "Data columns (total 29 columns):\n",
      " #   Column                  Non-Null Count  Dtype  \n",
      "---  ------                  --------------  -----  \n",
      " 0   avgAnnCount             3045 non-null   float64\n",
      " 1   avgDeathsPerYear        3045 non-null   float64\n",
      " 2   TARGET_deathRate        3045 non-null   float64\n",
      " 3   incidenceRate           3045 non-null   float64\n",
      " 4   medIncome               3045 non-null   float64\n",
      " 5   popEst2015              3045 non-null   float64\n",
      " 6   povertyPercent          3045 non-null   float64\n",
      " 7   studyPerCap             3045 non-null   float64\n",
      " 8   MedianAge               3045 non-null   float64\n",
      " 9   MedianAgeMale           3045 non-null   float64\n",
      " 10  MedianAgeFemale         3045 non-null   float64\n",
      " 11  AvgHouseholdSize        3045 non-null   float64\n",
      " 12  PercentMarried          3045 non-null   float64\n",
      " 13  PctNoHS18_24            3045 non-null   float64\n",
      " 14  PctHS18_24              3045 non-null   float64\n",
      " 15  PctBachDeg18_24         3045 non-null   float64\n",
      " 16  PctHS25_Over            3045 non-null   float64\n",
      " 17  PctBachDeg25_Over       3045 non-null   float64\n",
      " 18  PctUnemployed16_Over    3045 non-null   float64\n",
      " 19  PctPrivateCoverage      3045 non-null   float64\n",
      " 20  PctEmpPrivCoverage      3045 non-null   float64\n",
      " 21  PctPublicCoverage       3045 non-null   float64\n",
      " 22  PctPublicCoverageAlone  3045 non-null   float64\n",
      " 23  PctWhite                3045 non-null   float64\n",
      " 24  PctBlack                3045 non-null   float64\n",
      " 25  PctAsian                3045 non-null   float64\n",
      " 26  PctOtherRace            3045 non-null   float64\n",
      " 27  PctMarriedHouseholds    3045 non-null   float64\n",
      " 28  BirthRate               3045 non-null   float64\n",
      "dtypes: float64(29)\n",
      "memory usage: 713.7 KB\n"
     ]
    }
   ],
   "source": [
    "# Selecionar somente as features numéricas\n",
    "df.select_dtypes(include=[np.number]).info()"
   ]
  },
  {
   "cell_type": "code",
   "execution_count": 74,
   "metadata": {},
   "outputs": [
    {
     "data": {
      "text/plain": [
       "avgAnnCount               0\n",
       "avgDeathsPerYear          0\n",
       "TARGET_deathRate          0\n",
       "incidenceRate             0\n",
       "medIncome                 0\n",
       "popEst2015                0\n",
       "povertyPercent            0\n",
       "studyPerCap               0\n",
       "MedianAge                 0\n",
       "MedianAgeMale             0\n",
       "MedianAgeFemale           0\n",
       "AvgHouseholdSize          0\n",
       "PercentMarried            0\n",
       "PctNoHS18_24              0\n",
       "PctHS18_24                0\n",
       "PctBachDeg18_24           0\n",
       "PctHS25_Over              0\n",
       "PctBachDeg25_Over         0\n",
       "PctUnemployed16_Over      0\n",
       "PctPrivateCoverage        0\n",
       "PctEmpPrivCoverage        0\n",
       "PctPublicCoverage         0\n",
       "PctPublicCoverageAlone    0\n",
       "PctWhite                  0\n",
       "PctBlack                  0\n",
       "PctAsian                  0\n",
       "PctOtherRace              0\n",
       "PctMarriedHouseholds      0\n",
       "BirthRate                 0\n",
       "dtype: int64"
      ]
     },
     "execution_count": 74,
     "metadata": {},
     "output_type": "execute_result"
    }
   ],
   "source": [
    "# Verificar ocorrência de valores nulos\n",
    "df.select_dtypes(include=[np.number]).isnull().sum()"
   ]
  },
  {
   "cell_type": "code",
   "execution_count": 75,
   "metadata": {},
   "outputs": [],
   "source": [
    "# Criando o X e o y\n",
    "X = df.drop(columns=['TARGET_deathRate'])\n",
    "y = df['TARGET_deathRate']"
   ]
  },
  {
   "cell_type": "code",
   "execution_count": 76,
   "metadata": {},
   "outputs": [
    {
     "data": {
      "text/plain": [
       "Index(['avgAnnCount', 'avgDeathsPerYear', 'incidenceRate', 'medIncome',\n",
       "       'popEst2015', 'povertyPercent', 'studyPerCap', 'MedianAge',\n",
       "       'MedianAgeMale', 'MedianAgeFemale', 'AvgHouseholdSize',\n",
       "       'PercentMarried', 'PctNoHS18_24', 'PctHS18_24', 'PctBachDeg18_24',\n",
       "       'PctHS25_Over', 'PctBachDeg25_Over', 'PctUnemployed16_Over',\n",
       "       'PctPrivateCoverage', 'PctEmpPrivCoverage', 'PctPublicCoverage',\n",
       "       'PctPublicCoverageAlone', 'PctWhite', 'PctBlack', 'PctAsian',\n",
       "       'PctOtherRace', 'PctMarriedHouseholds', 'BirthRate'],\n",
       "      dtype='object')"
      ]
     },
     "execution_count": 76,
     "metadata": {},
     "output_type": "execute_result"
    }
   ],
   "source": [
    "# Nomes das features\n",
    "X.columns"
   ]
  },
  {
   "cell_type": "code",
   "execution_count": 77,
   "metadata": {},
   "outputs": [
    {
     "data": {
      "text/plain": [
       "(3045, 28)"
      ]
     },
     "execution_count": 77,
     "metadata": {},
     "output_type": "execute_result"
    }
   ],
   "source": [
    "# Shape de X\n",
    "X.shape"
   ]
  },
  {
   "cell_type": "code",
   "execution_count": 81,
   "metadata": {},
   "outputs": [
    {
     "name": "stdout",
     "output_type": "stream",
     "text": [
      "Intercepto: 78.67918579983944\n",
      "Coeficientes Angulares: [-8.33234940e-04  8.92949693e-02  1.31111612e-01  1.23092538e-04\n",
      "  2.23859004e-06  3.05404944e-01 -4.23993620e-04 -2.82786516e-03\n",
      " -5.19982795e-01  1.57491118e-01 -6.22216474e-01  5.93588793e-01\n",
      " -8.25160211e-02  1.52769143e-01 -9.33749122e-02  2.96724356e-01\n",
      " -7.99765058e-01  4.81179595e-01 -5.00599499e-01  2.51544487e-01\n",
      "  9.58793976e-02 -1.19947456e-01 -4.22518139e-02 -5.60507803e-02\n",
      " -2.30410922e-02 -8.16463859e-01 -7.41209452e-01 -4.13002645e-01]\n",
      "\n",
      "####################################################\n",
      "\n"
     ]
    },
    {
     "data": {
      "image/png": "[encoded data removed]",
      "text/plain": [
       "<Figure size 432x288 with 1 Axes>"
      ]
     },
     "metadata": {
      "needs_background": "light"
     },
     "output_type": "display_data"
    },
    {
     "data": {
      "image/png": "[encoded data removed]",
      "text/plain": [
       "<Figure size 432x288 with 1 Axes>"
      ]
     },
     "metadata": {
      "needs_background": "light"
     },
     "output_type": "display_data"
    },
    {
     "name": "stdout",
     "output_type": "stream",
     "text": [
      "\n",
      "####################################################\n",
      "\n",
      "\n",
      "Métricas de avaliação (dados de teste):\n",
      "\n",
      "R^2: 0.6400611996862186\n",
      "MAE: 12.527494676660293\n",
      "MSE: 257.81449310111265\n",
      "RMSE: 16.05660278829593\n"
     ]
    }
   ],
   "source": [
    "# Etapas da modelagem\n",
    "\n",
    "# 1)\n",
    "from sklearn.linear_model import LinearRegression\n",
    "\n",
    "# 2)\n",
    "estimador = LinearRegression()\n",
    "\n",
    "# 3)\n",
    "from sklearn.model_selection import train_test_split\n",
    "\n",
    "X_treino, X_teste, y_treino, y_teste = train_test_split(X, y, test_size=0.2, random_state=42)\n",
    "\n",
    "# 4)\n",
    "modelo = estimador.fit(X_treino,y_treino)\n",
    "\n",
    "print(\"Intercepto:\", modelo.intercept_ )\n",
    "print(\"Coeficientes Angulares:\",modelo.coef_ )\n",
    "\n",
    "print(\"\\n####################################################\\n\")\n",
    "\n",
    "# 5)\n",
    "predictions = modelo.predict(X_teste)\n",
    "\n",
    "\n",
    "plt.title(\"Valor Predito vs Valor Real\")\n",
    "sns.scatterplot(x=predictions, y=y_teste)\n",
    "plt.plot(np.linspace(0, 500000, 1000), np.linspace(0, 500000, 1000), color=\"red\")\n",
    "plt.show()\n",
    "\n",
    "plt.title(\"Distribuição dos Resíduos\")\n",
    "sns.histplot(y_teste-predictions, kde=True)\n",
    "plt.show()\n",
    "\n",
    "print(\"\\n####################################################\\n\")\n",
    "\n",
    "print(\"\\nMétricas de avaliação (dados de teste):\\n\")\n",
    "\n",
    "# 6)\n",
    "from sklearn import metrics\n",
    "\n",
    "print('R^2:', metrics.r2_score(y_teste, predictions))\n",
    "print('MAE:', metrics.mean_absolute_error(y_teste, predictions))\n",
    "print('MSE:', metrics.mean_squared_error(y_teste, predictions))\n",
    "print('RMSE:', np.sqrt(metrics.mean_squared_error(y_teste, predictions)))"
   ]
  },
  {
   "cell_type": "code",
   "execution_count": 82,
   "metadata": {},
   "outputs": [
    {
     "data": {
      "text/plain": [
       "array([-8.33234940e-04,  8.92949693e-02,  1.31111612e-01,  1.23092538e-04,\n",
       "        2.23859004e-06,  3.05404944e-01, -4.23993620e-04, -2.82786516e-03,\n",
       "       -5.19982795e-01,  1.57491118e-01, -6.22216474e-01,  5.93588793e-01,\n",
       "       -8.25160211e-02,  1.52769143e-01, -9.33749122e-02,  2.96724356e-01,\n",
       "       -7.99765058e-01,  4.81179595e-01, -5.00599499e-01,  2.51544487e-01,\n",
       "        9.58793976e-02, -1.19947456e-01, -4.22518139e-02, -5.60507803e-02,\n",
       "       -2.30410922e-02, -8.16463859e-01, -7.41209452e-01, -4.13002645e-01])"
      ]
     },
     "execution_count": 82,
     "metadata": {},
     "output_type": "execute_result"
    }
   ],
   "source": [
    "#Coeficientes angulares\n",
    "modelo.coef_"
   ]
  },
  {
   "cell_type": "code",
   "execution_count": 83,
   "metadata": {},
   "outputs": [
    {
     "data": {
      "text/plain": [
       "78.67918579983944"
      ]
     },
     "execution_count": 83,
     "metadata": {},
     "output_type": "execute_result"
    }
   ],
   "source": [
    "#Coeficiente linear\n",
    "modelo.intercept_"
   ]
  },
  {
   "cell_type": "code",
   "execution_count": 108,
   "metadata": {},
   "outputs": [
    {
     "data": {
      "text/html": [
       "<div>\n",
       "<style scoped>\n",
       "    .dataframe tbody tr th:only-of-type {\n",
       "        vertical-align: middle;\n",
       "    }\n",
       "\n",
       "    .dataframe tbody tr th {\n",
       "        vertical-align: top;\n",
       "    }\n",
       "\n",
       "    .dataframe thead th {\n",
       "        text-align: right;\n",
       "    }\n",
       "</style>\n",
       "<table border=\"1\" class=\"dataframe\">\n",
       "  <thead>\n",
       "    <tr style=\"text-align: right;\">\n",
       "      <th></th>\n",
       "      <th>Parameter value</th>\n",
       "    </tr>\n",
       "  </thead>\n",
       "  <tbody>\n",
       "    <tr>\n",
       "      <th>avgAnnCount</th>\n",
       "      <td>-0.000833</td>\n",
       "    </tr>\n",
       "    <tr>\n",
       "      <th>avgDeathsPerYear</th>\n",
       "      <td>0.089295</td>\n",
       "    </tr>\n",
       "    <tr>\n",
       "      <th>incidenceRate</th>\n",
       "      <td>0.131112</td>\n",
       "    </tr>\n",
       "    <tr>\n",
       "      <th>medIncome</th>\n",
       "      <td>0.000123</td>\n",
       "    </tr>\n",
       "    <tr>\n",
       "      <th>popEst2015</th>\n",
       "      <td>0.000002</td>\n",
       "    </tr>\n",
       "    <tr>\n",
       "      <th>povertyPercent</th>\n",
       "      <td>0.305405</td>\n",
       "    </tr>\n",
       "    <tr>\n",
       "      <th>studyPerCap</th>\n",
       "      <td>-0.000424</td>\n",
       "    </tr>\n",
       "    <tr>\n",
       "      <th>MedianAge</th>\n",
       "      <td>-0.002828</td>\n",
       "    </tr>\n",
       "    <tr>\n",
       "      <th>MedianAgeMale</th>\n",
       "      <td>-0.519983</td>\n",
       "    </tr>\n",
       "    <tr>\n",
       "      <th>MedianAgeFemale</th>\n",
       "      <td>0.157491</td>\n",
       "    </tr>\n",
       "    <tr>\n",
       "      <th>AvgHouseholdSize</th>\n",
       "      <td>-0.622216</td>\n",
       "    </tr>\n",
       "    <tr>\n",
       "      <th>PercentMarried</th>\n",
       "      <td>0.593589</td>\n",
       "    </tr>\n",
       "    <tr>\n",
       "      <th>PctNoHS18_24</th>\n",
       "      <td>-0.082516</td>\n",
       "    </tr>\n",
       "    <tr>\n",
       "      <th>PctHS18_24</th>\n",
       "      <td>0.152769</td>\n",
       "    </tr>\n",
       "    <tr>\n",
       "      <th>PctBachDeg18_24</th>\n",
       "      <td>-0.093375</td>\n",
       "    </tr>\n",
       "    <tr>\n",
       "      <th>PctHS25_Over</th>\n",
       "      <td>0.296724</td>\n",
       "    </tr>\n",
       "    <tr>\n",
       "      <th>PctBachDeg25_Over</th>\n",
       "      <td>-0.799765</td>\n",
       "    </tr>\n",
       "    <tr>\n",
       "      <th>PctUnemployed16_Over</th>\n",
       "      <td>0.481180</td>\n",
       "    </tr>\n",
       "    <tr>\n",
       "      <th>PctPrivateCoverage</th>\n",
       "      <td>-0.500599</td>\n",
       "    </tr>\n",
       "    <tr>\n",
       "      <th>PctEmpPrivCoverage</th>\n",
       "      <td>0.251544</td>\n",
       "    </tr>\n",
       "    <tr>\n",
       "      <th>PctPublicCoverage</th>\n",
       "      <td>0.095879</td>\n",
       "    </tr>\n",
       "    <tr>\n",
       "      <th>PctPublicCoverageAlone</th>\n",
       "      <td>-0.119947</td>\n",
       "    </tr>\n",
       "    <tr>\n",
       "      <th>PctWhite</th>\n",
       "      <td>-0.042252</td>\n",
       "    </tr>\n",
       "    <tr>\n",
       "      <th>PctBlack</th>\n",
       "      <td>-0.056051</td>\n",
       "    </tr>\n",
       "    <tr>\n",
       "      <th>PctAsian</th>\n",
       "      <td>-0.023041</td>\n",
       "    </tr>\n",
       "    <tr>\n",
       "      <th>PctOtherRace</th>\n",
       "      <td>-0.816464</td>\n",
       "    </tr>\n",
       "    <tr>\n",
       "      <th>PctMarriedHouseholds</th>\n",
       "      <td>-0.741209</td>\n",
       "    </tr>\n",
       "    <tr>\n",
       "      <th>BirthRate</th>\n",
       "      <td>-0.413003</td>\n",
       "    </tr>\n",
       "  </tbody>\n",
       "</table>\n",
       "</div>"
      ],
      "text/plain": [
       "                        Parameter value\n",
       "avgAnnCount                   -0.000833\n",
       "avgDeathsPerYear               0.089295\n",
       "incidenceRate                  0.131112\n",
       "medIncome                      0.000123\n",
       "popEst2015                     0.000002\n",
       "povertyPercent                 0.305405\n",
       "studyPerCap                   -0.000424\n",
       "MedianAge                     -0.002828\n",
       "MedianAgeMale                 -0.519983\n",
       "MedianAgeFemale                0.157491\n",
       "AvgHouseholdSize              -0.622216\n",
       "PercentMarried                 0.593589\n",
       "PctNoHS18_24                  -0.082516\n",
       "PctHS18_24                     0.152769\n",
       "PctBachDeg18_24               -0.093375\n",
       "PctHS25_Over                   0.296724\n",
       "PctBachDeg25_Over             -0.799765\n",
       "PctUnemployed16_Over           0.481180\n",
       "PctPrivateCoverage            -0.500599\n",
       "PctEmpPrivCoverage             0.251544\n",
       "PctPublicCoverage              0.095879\n",
       "PctPublicCoverageAlone        -0.119947\n",
       "PctWhite                      -0.042252\n",
       "PctBlack                      -0.056051\n",
       "PctAsian                      -0.023041\n",
       "PctOtherRace                  -0.816464\n",
       "PctMarriedHouseholds          -0.741209\n",
       "BirthRate                     -0.413003"
      ]
     },
     "execution_count": 108,
     "metadata": {},
     "output_type": "execute_result"
    }
   ],
   "source": [
    "# Usando o código abaixo para fazer um dataframe com os coeficientes\n",
    "coeff_df = pd.DataFrame(modelo.coef_, X.columns, columns=['Parameter value'])\n",
    "coeff_df"
   ]
  },
  {
   "cell_type": "code",
   "execution_count": 111,
   "metadata": {
    "scrolled": true
   },
   "outputs": [],
   "source": [
    "from sklearn.preprocessing import MinMaxScaler \n",
    "\n",
    "#1) Instanciar o scaler\n",
    "mms = MinMaxScaler()\n",
    "\n",
    "#2) Treinar o scaler com os dados de treino\n",
    "mms.fit(X_treino)\n",
    "\n",
    "#3) Transformando os dados\n",
    "X_treino_scaled = mms.transform(X_treino)\n",
    "X_teste_scaled = mms.transform(X_teste)"
   ]
  },
  {
   "cell_type": "code",
   "execution_count": 114,
   "metadata": {},
   "outputs": [
    {
     "name": "stdout",
     "output_type": "stream",
     "text": [
      "Intercepto: 59.69999999999975\n",
      "Coeficientes angulares: [ 7.06019683e-14  2.02013366e-13  2.34200000e+02 -1.45792320e-13\n",
      " -3.14850265e-14  5.13243106e-14  7.30281133e-14 -1.54482699e-13\n",
      " -2.35535153e-14  4.74153764e-15  4.14328210e-14  6.18829124e-14\n",
      "  4.32845717e-14 -4.27098321e-14 -1.16505827e-14  3.06168164e-14\n",
      " -6.13852679e-16  1.60029486e-14  1.17433578e-13  1.63049334e-13\n",
      "  5.81719263e-15 -1.01332906e-13  9.96956305e-14  1.01214237e-14\n",
      "  8.55274074e-15  4.32099683e-14 -2.84181673e-14 -5.69326093e-14\n",
      "  3.75293201e-14]\n",
      "\n",
      "####################################################\n",
      "\n"
     ]
    },
    {
     "data": {
      "image/png": "[encoded data removed]",
      "text/plain": [
       "<Figure size 432x288 with 1 Axes>"
      ]
     },
     "metadata": {
      "needs_background": "light"
     },
     "output_type": "display_data"
    },
    {
     "data": {
      "image/png": "[encoded data removed]",
      "text/plain": [
       "<Figure size 432x288 with 1 Axes>"
      ]
     },
     "metadata": {
      "needs_background": "light"
     },
     "output_type": "display_data"
    },
    {
     "name": "stdout",
     "output_type": "stream",
     "text": [
      "\n",
      "####################################################\n",
      "\n",
      "\n",
      "Métricas de avaliação (dados de teste):\n",
      "\n",
      "R^2: 1.0\n",
      "MAE: 4.3145928355350585e-14\n",
      "MSE: 3.0948839738546667e-27\n",
      "RMSE: 5.563168138619097e-14\n"
     ]
    }
   ],
   "source": [
    "X = df\n",
    "y = df['TARGET_deathRate']\n",
    "\n",
    "# 1)\n",
    "from sklearn.linear_model import LinearRegression\n",
    "\n",
    "# 2)\n",
    "estimador = LinearRegression()\n",
    "\n",
    "# 3)\n",
    "from sklearn.model_selection import train_test_split\n",
    "X_treino, X_teste, y_treino, y_teste = train_test_split(X, y, test_size=0.2, random_state=42)\n",
    "\n",
    "# NOVO: aplicando o scaler!! - usamos o minmax pra que todas as features\n",
    "# tenham o mesmo intervalo no espaço amostral - (0, 1)\n",
    "from sklearn.preprocessing import MinMaxScaler\n",
    "\n",
    "mms = MinMaxScaler()\n",
    "\n",
    "# agora, vamos FITAR o scaler COM OS DADOS DE TREINO\n",
    "mms.fit(X_treino)\n",
    "\n",
    "# transformando os dados\n",
    "X_treino = mms.transform(X_treino)\n",
    "X_teste = mms.transform(X_teste)\n",
    "\n",
    "#X_treino = mms.fit_transform(X_treino)\n",
    "#X_teste = mms.transform(X_teste)\n",
    "\n",
    "\n",
    "# 4)\n",
    "modelo = estimador.fit(X_treino, y_treino)\n",
    "\n",
    "print(\"Intercepto:\", modelo.intercept_)\n",
    "print(\"Coeficientes angulares:\", modelo.coef_)\n",
    "\n",
    "print(\"\\n####################################################\\n\")\n",
    "\n",
    "# 5)\n",
    "predictions = modelo.predict(X_teste)\n",
    "\n",
    "plt.title(\"valor predito vs valor real\")\n",
    "sns.scatterplot(x=predictions, y=y_teste)\n",
    "plt.plot(np.linspace(0, 500000, 1000), np.linspace(0, 500000, 1000), color=\"red\")\n",
    "plt.show()\n",
    "\n",
    "plt.title(\"Distribuição dos resíduos\")\n",
    "sns.histplot(y_teste-predictions, kde=True)\n",
    "plt.show()\n",
    "\n",
    "print(\"\\n####################################################\\n\")\n",
    "\n",
    "print(\"\\nMétricas de avaliação (dados de teste):\\n\")\n",
    "\n",
    "# 6)\n",
    "from sklearn import metrics\n",
    "\n",
    "print('R^2:', metrics.r2_score(y_teste, predictions))\n",
    "print('MAE:', metrics.mean_absolute_error(y_teste, predictions))\n",
    "print('MSE:', metrics.mean_squared_error(y_teste, predictions))\n",
    "print('RMSE:', np.sqrt(metrics.mean_squared_error(y_teste, predictions)))"
   ]
  },
  {
   "cell_type": "markdown",
   "metadata": {},
   "source": [
    "Métricas de avaliação (dados de teste):\n",
    "\n",
    "R^2: 0.6400611996862186\n",
    "\n",
    "MAE: 12.527494676660293\n",
    "\n",
    "MSE: 257.81449310111265\n",
    "\n",
    "RMSE: 16.05660278829593"
   ]
  },
  {
   "cell_type": "code",
   "execution_count": 116,
   "metadata": {},
   "outputs": [
    {
     "data": {
      "text/html": [
       "<div>\n",
       "<style scoped>\n",
       "    .dataframe tbody tr th:only-of-type {\n",
       "        vertical-align: middle;\n",
       "    }\n",
       "\n",
       "    .dataframe tbody tr th {\n",
       "        vertical-align: top;\n",
       "    }\n",
       "\n",
       "    .dataframe thead th {\n",
       "        text-align: right;\n",
       "    }\n",
       "</style>\n",
       "<table border=\"1\" class=\"dataframe\">\n",
       "  <thead>\n",
       "    <tr style=\"text-align: right;\">\n",
       "      <th></th>\n",
       "      <th>Parameter value</th>\n",
       "    </tr>\n",
       "  </thead>\n",
       "  <tbody>\n",
       "    <tr>\n",
       "      <th>TARGET_deathRate</th>\n",
       "      <td>2.342000e+02</td>\n",
       "    </tr>\n",
       "    <tr>\n",
       "      <th>avgDeathsPerYear</th>\n",
       "      <td>2.020134e-13</td>\n",
       "    </tr>\n",
       "    <tr>\n",
       "      <th>PctPrivateCoverage</th>\n",
       "      <td>1.630493e-13</td>\n",
       "    </tr>\n",
       "    <tr>\n",
       "      <th>studyPerCap</th>\n",
       "      <td>1.544827e-13</td>\n",
       "    </tr>\n",
       "    <tr>\n",
       "      <th>incidenceRate</th>\n",
       "      <td>1.457923e-13</td>\n",
       "    </tr>\n",
       "    <tr>\n",
       "      <th>PctUnemployed16_Over</th>\n",
       "      <td>1.174336e-13</td>\n",
       "    </tr>\n",
       "    <tr>\n",
       "      <th>PctPublicCoverage</th>\n",
       "      <td>1.013329e-13</td>\n",
       "    </tr>\n",
       "    <tr>\n",
       "      <th>PctPublicCoverageAlone</th>\n",
       "      <td>9.969563e-14</td>\n",
       "    </tr>\n",
       "    <tr>\n",
       "      <th>povertyPercent</th>\n",
       "      <td>7.302811e-14</td>\n",
       "    </tr>\n",
       "    <tr>\n",
       "      <th>avgAnnCount</th>\n",
       "      <td>7.060197e-14</td>\n",
       "    </tr>\n",
       "    <tr>\n",
       "      <th>AvgHouseholdSize</th>\n",
       "      <td>6.188291e-14</td>\n",
       "    </tr>\n",
       "    <tr>\n",
       "      <th>PctMarriedHouseholds</th>\n",
       "      <td>5.693261e-14</td>\n",
       "    </tr>\n",
       "    <tr>\n",
       "      <th>popEst2015</th>\n",
       "      <td>5.132431e-14</td>\n",
       "    </tr>\n",
       "    <tr>\n",
       "      <th>PercentMarried</th>\n",
       "      <td>4.328457e-14</td>\n",
       "    </tr>\n",
       "    <tr>\n",
       "      <th>PctAsian</th>\n",
       "      <td>4.320997e-14</td>\n",
       "    </tr>\n",
       "    <tr>\n",
       "      <th>PctNoHS18_24</th>\n",
       "      <td>4.270983e-14</td>\n",
       "    </tr>\n",
       "    <tr>\n",
       "      <th>MedianAgeFemale</th>\n",
       "      <td>4.143282e-14</td>\n",
       "    </tr>\n",
       "    <tr>\n",
       "      <th>BirthRate</th>\n",
       "      <td>3.752932e-14</td>\n",
       "    </tr>\n",
       "    <tr>\n",
       "      <th>medIncome</th>\n",
       "      <td>3.148503e-14</td>\n",
       "    </tr>\n",
       "    <tr>\n",
       "      <th>PctBachDeg18_24</th>\n",
       "      <td>3.061682e-14</td>\n",
       "    </tr>\n",
       "    <tr>\n",
       "      <th>PctOtherRace</th>\n",
       "      <td>2.841817e-14</td>\n",
       "    </tr>\n",
       "    <tr>\n",
       "      <th>MedianAge</th>\n",
       "      <td>2.355352e-14</td>\n",
       "    </tr>\n",
       "    <tr>\n",
       "      <th>PctBachDeg25_Over</th>\n",
       "      <td>1.600295e-14</td>\n",
       "    </tr>\n",
       "    <tr>\n",
       "      <th>PctHS18_24</th>\n",
       "      <td>1.165058e-14</td>\n",
       "    </tr>\n",
       "    <tr>\n",
       "      <th>PctWhite</th>\n",
       "      <td>1.012142e-14</td>\n",
       "    </tr>\n",
       "    <tr>\n",
       "      <th>PctBlack</th>\n",
       "      <td>8.552741e-15</td>\n",
       "    </tr>\n",
       "    <tr>\n",
       "      <th>PctEmpPrivCoverage</th>\n",
       "      <td>5.817193e-15</td>\n",
       "    </tr>\n",
       "    <tr>\n",
       "      <th>MedianAgeMale</th>\n",
       "      <td>4.741538e-15</td>\n",
       "    </tr>\n",
       "    <tr>\n",
       "      <th>PctHS25_Over</th>\n",
       "      <td>6.138527e-16</td>\n",
       "    </tr>\n",
       "  </tbody>\n",
       "</table>\n",
       "</div>"
      ],
      "text/plain": [
       "                        Parameter value\n",
       "TARGET_deathRate           2.342000e+02\n",
       "avgDeathsPerYear           2.020134e-13\n",
       "PctPrivateCoverage         1.630493e-13\n",
       "studyPerCap                1.544827e-13\n",
       "incidenceRate              1.457923e-13\n",
       "PctUnemployed16_Over       1.174336e-13\n",
       "PctPublicCoverage          1.013329e-13\n",
       "PctPublicCoverageAlone     9.969563e-14\n",
       "povertyPercent             7.302811e-14\n",
       "avgAnnCount                7.060197e-14\n",
       "AvgHouseholdSize           6.188291e-14\n",
       "PctMarriedHouseholds       5.693261e-14\n",
       "popEst2015                 5.132431e-14\n",
       "PercentMarried             4.328457e-14\n",
       "PctAsian                   4.320997e-14\n",
       "PctNoHS18_24               4.270983e-14\n",
       "MedianAgeFemale            4.143282e-14\n",
       "BirthRate                  3.752932e-14\n",
       "medIncome                  3.148503e-14\n",
       "PctBachDeg18_24            3.061682e-14\n",
       "PctOtherRace               2.841817e-14\n",
       "MedianAge                  2.355352e-14\n",
       "PctBachDeg25_Over          1.600295e-14\n",
       "PctHS18_24                 1.165058e-14\n",
       "PctWhite                   1.012142e-14\n",
       "PctBlack                   8.552741e-15\n",
       "PctEmpPrivCoverage         5.817193e-15\n",
       "MedianAgeMale              4.741538e-15\n",
       "PctHS25_Over               6.138527e-16"
      ]
     },
     "execution_count": 116,
     "metadata": {},
     "output_type": "execute_result"
    }
   ],
   "source": [
    "# Avaliando os coeficientes agora que todas as features estão na mesma escala\n",
    "coeff_df = pd.DataFrame(modelo.coef_, X.columns, columns=['Parameter value'])\n",
    "\n",
    "coeff_df.abs().sort_values(by='Parameter value',ascending=False)"
   ]
  },
  {
   "cell_type": "markdown",
   "metadata": {},
   "source": [
    "5. Compare os três modelos desenvolvidos."
   ]
  },
  {
   "cell_type": "markdown",
   "metadata": {},
   "source": [
    "# O modelo de Regressão Linear múltipla com utilização do min-max scaler \n",
    "# teve o melhor desempenho pois obteve os menores valores de erro, medido com as métricas \n",
    "# RMSE, MAE, MSE e R^2. Isso significa que a acurácia do modelo foi melhor e se aproximou \n",
    "# mais do target. Quanto menor, melhor."
   ]
  },
  {
   "cell_type": "code",
   "execution_count": null,
   "metadata": {},
   "outputs": [],
   "source": []
  }
 ],
 "metadata": {
  "colab": {
   "name": "projeto_estatistica_II.ipynb",
   "provenance": []
  },
  "kernelspec": {
   "display_name": "Python 3",
   "language": "python",
   "name": "python3"
  },
  "language_info": {
   "codemirror_mode": {
    "name": "ipython",
    "version": 3
   },
   "file_extension": ".py",
   "mimetype": "text/x-python",
   "name": "python",
   "nbconvert_exporter": "python",
   "pygments_lexer": "ipython3",
   "version": "3.8.8"
  }
 },
 "nbformat": 4,
 "nbformat_minor": 1
}
